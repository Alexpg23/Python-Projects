{
 "cells": [
  {
   "cell_type": "markdown",
   "metadata": {
    "id": "vqnv-eBizJI7"
   },
   "source": [
    "# Deep Learning Black Scholes using TensorFlow\n",
    "The goal of this case study is to perform derivative pricing from a machine learning standpoint and use supervised regression-based model to learn the Black-Scholes option pricing model from simulated data.\n"
   ]
  },
  {
   "cell_type": "markdown",
   "metadata": {
    "id": "4ifiaH7JzJI-"
   },
   "source": [
    "<a id='0'></a>\n",
    "# 1. Problem Definition"
   ]
  },
  {
   "cell_type": "markdown",
   "metadata": {
    "id": "7e0ljoYCzJI-"
   },
   "source": [
    "In the supervised regression framework used for this case study, the derivative pricing\n",
    "problem is defined in the regression framework, where the predicted variable is the\n",
    "pricing of the option, and the predictor variables are the market data that are used as\n",
    "inputs to the Black-Scholes option pricing model"
   ]
  },
  {
   "cell_type": "markdown",
   "metadata": {
    "id": "01mumYSYzJI_"
   },
   "source": [
    "Options have been used in finance as means to hedge risk in a nonlinear manner. They are are also used by speculators in order to take leveraged bets in the financial markets. Historically, people have used the Black Scholes formula."
   ]
  },
  {
   "cell_type": "markdown",
   "metadata": {
    "id": "OV59MMZLzJI_"
   },
   "source": [
    "$$  Se^{-q \\tau}\\Phi(d_1) - e^{-r \\tau} K\\Phi(d_2) \\, $$"
   ]
  },
  {
   "cell_type": "markdown",
   "metadata": {
    "id": "iogr15MBzJJA"
   },
   "source": [
    "With"
   ]
  },
  {
   "cell_type": "markdown",
   "metadata": {
    "id": "I4O49pS8zJJA"
   },
   "source": [
    "$$  d_1 = \\frac{\\ln(S/K) + (r - q + \\sigma^2/2)\\tau}{\\sigma\\sqrt{\\tau}}  $$"
   ]
  },
  {
   "cell_type": "markdown",
   "metadata": {
    "id": "ehj119MDzJJA"
   },
   "source": [
    "and"
   ]
  },
  {
   "cell_type": "markdown",
   "metadata": {
    "id": "zAngvIpLzJJB"
   },
   "source": [
    "$$  d_2 = \\frac{\\ln(S/K) + (r - q - \\sigma^2/2)\\tau}{\\sigma\\sqrt{\\tau}} = d_1 - \\sigma\\sqrt{\\tau}  $$"
   ]
  },
  {
   "cell_type": "markdown",
   "metadata": {
    "id": "MkEEkc6bzJJB"
   },
   "source": [
    "Where we have;\n",
    "    Stock price $S$;\n",
    "    Strike price $K$;\n",
    "    Risk-free rate $r$;\n",
    "    Annual dividend yield $q$;\n",
    "    Time to maturity $\\tau = T-t$ (represented as a unit-less fraction of one year);\n",
    "    Volatility $\\sigma$"
   ]
  },
  {
   "cell_type": "markdown",
   "metadata": {
    "id": "7u2wCMUczJJB"
   },
   "source": [
    "In order to make the logic simpler, we define *Moneyness* as $M = K/S$ and look at the prices in terms of per unit of current stock price. We also set $q$ as $0$ "
   ]
  },
  {
   "cell_type": "markdown",
   "metadata": {
    "id": "9HznMaU1zJJB"
   },
   "source": [
    "This simplifes the formula down to the following"
   ]
  },
  {
   "cell_type": "markdown",
   "metadata": {
    "id": "16m4Og1pzJJB"
   },
   "source": [
    "$$  S e^{-q \\tau}\\Phi\\left( \\frac{- \\ln(M) + (r+ \\sigma^2/2 )\\tau}{\\sigma\\sqrt{\\tau}}\\right) - S e^{-r \\tau} M\\Phi\\left( \\frac{- \\ln(M) + (r - \\sigma^2/2)\\tau}{\\sigma\\sqrt{\\tau}} \\right) \\, $$"
   ]
  },
  {
   "cell_type": "markdown",
   "metadata": {
    "id": "5n-NM6rmzJJD"
   },
   "source": [
    "### Python Imports"
   ]
  },
  {
   "cell_type": "code",
   "execution_count": 1,
   "metadata": {
    "colab": {
     "base_uri": "https://localhost:8080/"
    },
    "executionInfo": {
     "elapsed": 931,
     "status": "ok",
     "timestamp": 1636899340729,
     "user": {
      "displayName": "D OK",
      "photoUrl": "https://lh3.googleusercontent.com/a/default-user=s64",
      "userId": "10267117973942008095"
     },
     "user_tz": -60
    },
    "id": "RfRq2r2UzJJD",
    "outputId": "b426ed01-e899-43cb-9f8b-08ee49c76cc6"
   },
   "outputs": [],
   "source": [
    "# Distribution functions\n",
    "from scipy.stats import norm\n",
    "\n",
    "import tensorflow as tf\n",
    "from tensorflow import keras\n",
    "\n",
    "# Load libraries\n",
    "import numpy as np\n",
    "import pandas as pd\n",
    "import pandas_datareader.data as web\n",
    "import matplotlib.pyplot as plt\n",
    "from pandas.plotting import scatter_matrix\n",
    "import seaborn as sns\n",
    "\n",
    "from sklearn.model_selection import KFold\n",
    "from sklearn.model_selection import cross_val_score\n",
    "from sklearn.model_selection import GridSearchCV\n",
    "\n",
    "# Error Metrics\n",
    "from sklearn.metrics import mean_squared_error\n",
    "\n",
    "# Feature Selection\n",
    "from sklearn.feature_selection import SelectKBest\n",
    "from sklearn.feature_selection import chi2, f_regression\n",
    "\n",
    "#Plotting \n",
    "from pandas.plotting import scatter_matrix"
   ]
  },
  {
   "cell_type": "code",
   "execution_count": 2,
   "metadata": {
    "executionInfo": {
     "elapsed": 265,
     "status": "ok",
     "timestamp": 1636899342528,
     "user": {
      "displayName": "D OK",
      "photoUrl": "https://lh3.googleusercontent.com/a/default-user=s64",
      "userId": "10267117973942008095"
     },
     "user_tz": -60
    },
    "id": "g6_33bcgzJJE"
   },
   "outputs": [],
   "source": [
    "#Diable the warnings\n",
    "import warnings\n",
    "warnings.filterwarnings('ignore')"
   ]
  },
  {
   "cell_type": "markdown",
   "metadata": {
    "id": "gu_Nw9kXzJJE"
   },
   "source": [
    "<a id='1.2'></a>\n",
    "## 2.2. Defining functions and parameters"
   ]
  },
  {
   "cell_type": "markdown",
   "metadata": {
    "id": "_olmQ12uzJJE"
   },
   "source": [
    "### True Parameters"
   ]
  },
  {
   "cell_type": "code",
   "execution_count": 3,
   "metadata": {
    "executionInfo": {
     "elapsed": 4,
     "status": "ok",
     "timestamp": 1636899345033,
     "user": {
      "displayName": "D OK",
      "photoUrl": "https://lh3.googleusercontent.com/a/default-user=s64",
      "userId": "10267117973942008095"
     },
     "user_tz": -60
    },
    "id": "cW5o9kAkzJJE"
   },
   "outputs": [],
   "source": [
    "r = 0.02\n",
    "s0 = 100.0"
   ]
  },
  {
   "cell_type": "markdown",
   "metadata": {
    "id": "wS4Gh2YezJJE"
   },
   "source": [
    "### Vol and Option Pricing Functions"
   ]
  },
  {
   "cell_type": "code",
   "execution_count": 4,
   "metadata": {
    "executionInfo": {
     "elapsed": 4,
     "status": "ok",
     "timestamp": 1636899346029,
     "user": {
      "displayName": "D OK",
      "photoUrl": "https://lh3.googleusercontent.com/a/default-user=s64",
      "userId": "10267117973942008095"
     },
     "user_tz": -60
    },
    "id": "XSB3y1IVzJJE"
   },
   "outputs": [],
   "source": [
    "def call_option_price(s0, M, t, v):\n",
    "    # Black Scholes Equation\n",
    "    d1=(-np.log(M)+(r+np.square(v)/2)*t)/(v*np.sqrt(t))\n",
    "    d2=(-np.log(M)+(r-np.square(v)/2)*t)/(v*np.sqrt(t))\n",
    "    N_d1 = norm.cdf(d1)\n",
    "    N_d2 = norm.cdf(d2)\n",
    "    return s0 * N_d1 - s0 * M * np.exp(-r*t) * N_d2"
   ]
  },
  {
   "cell_type": "markdown",
   "metadata": {
    "id": "W1SWnRqhzJJE"
   },
   "source": [
    "## Start Coursework Here"
   ]
  },
  {
   "cell_type": "markdown",
   "metadata": {},
   "source": [
    "Generate option prices for a range of K, T, sigma holding r fixed "
   ]
  }
 ],
 "metadata": {
  "colab": {
   "collapsed_sections": [
    "UyBhE8jYzJJG"
   ],
   "name": "DOK_DerivativesPricing.ipynb",
   "provenance": []
  },
  "kernelspec": {
   "display_name": "Python 3 (ipykernel)",
   "language": "python",
   "name": "python3"
  },
  "language_info": {
   "codemirror_mode": {
    "name": "ipython",
    "version": 3
   },
   "file_extension": ".py",
   "mimetype": "text/x-python",
   "name": "python",
   "nbconvert_exporter": "python",
   "pygments_lexer": "ipython3",
   "version": "3.8.5"
  }
 },
 "nbformat": 4,
 "nbformat_minor": 4
}
