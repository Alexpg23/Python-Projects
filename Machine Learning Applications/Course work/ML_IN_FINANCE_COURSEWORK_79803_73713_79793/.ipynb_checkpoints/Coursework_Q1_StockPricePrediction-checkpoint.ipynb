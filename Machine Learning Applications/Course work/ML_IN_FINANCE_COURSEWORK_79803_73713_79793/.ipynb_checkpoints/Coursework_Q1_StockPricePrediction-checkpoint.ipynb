{
 "cells": [
  {
   "cell_type": "markdown",
   "metadata": {
    "id": "6fpijBtX0Jxv"
   },
   "source": [
    "# Trading Analysis: Microsoft Stock Return Prediction"
   ]
  },
  {
   "cell_type": "markdown",
   "metadata": {
    "id": "EdYnVWBN0Jxz"
   },
   "source": [
    "<a id='0'></a>\n",
    "# 1. Problem Definition"
   ]
  },
  {
   "cell_type": "markdown",
   "metadata": {
    "id": "NJxJDmkW0Jxz"
   },
   "source": [
    "In the supervised regression framework used for this case study, weekly return of the\n",
    "Microsoft stock is the predicted variable. We need to understand what affects Microsoft stock price and hence incorporate as much information into the model. \n",
    "\n",
    "For this case study, other than the historical data of Microsoft, the independent variables used are the following potentially correlated assets:\n",
    "* Stocks: IBM (IBM) and Alphabet (GOOGL)\n",
    "* Currency: USD/JPY and GBP/USD\n",
    "* Indices: S&P 500, Dow Jones and VIX\n",
    "\n",
    "These datasets are extracted from Yahoo Finance and the FRED database at the St Louis Fed. In addition to predicting the stock price, we will also go through all the steps of creating a stock price prediction model. We will use closing prices from 2010 on.\n"
   ]
  },
  {
   "cell_type": "markdown",
   "metadata": {
    "id": "nNxB_XOT0Jx0"
   },
   "source": [
    "<a id='1'></a>\n",
    "# 2. Getting Started"
   ]
  },
  {
   "cell_type": "code",
   "execution_count": 38,
   "metadata": {},
   "outputs": [],
   "source": [
    "#!pip install pandas_datareader\n",
    "#!pip install yfinance"
   ]
  },
  {
   "cell_type": "code",
   "execution_count": 39,
   "metadata": {
    "executionInfo": {
     "elapsed": 7,
     "status": "ok",
     "timestamp": 1636901674299,
     "user": {
      "displayName": "D OK",
      "photoUrl": "https://lh3.googleusercontent.com/a/default-user=s64",
      "userId": "10267117973942008095"
     },
     "user_tz": -60
    },
    "id": "8DsjFIb-0Jx1"
   },
   "outputs": [],
   "source": [
    "# Load libraries\n",
    "import numpy as np\n",
    "import pandas as pd\n",
    "from matplotlib import pyplot\n",
    "from pandas.plotting import scatter_matrix\n",
    "import seaborn as sns\n",
    "from sklearn.preprocessing import StandardScaler\n",
    "\n",
    "# Cross Validation\n",
    "from sklearn.model_selection import train_test_split\n",
    "from sklearn.model_selection import KFold\n",
    "from sklearn.model_selection import cross_val_score\n",
    "from sklearn.model_selection import GridSearchCV\n",
    "\n",
    "# Model selection\n",
    "from sklearn.linear_model import LinearRegression\n",
    "from sklearn.linear_model import Lasso\n",
    "from sklearn.linear_model import ElasticNet\n",
    "from sklearn.tree import DecisionTreeRegressor\n",
    "from sklearn.neighbors import KNeighborsRegressor\n",
    "from sklearn.svm import SVR\n",
    "from sklearn.ensemble import RandomForestRegressor\n",
    "from sklearn.ensemble import GradientBoostingRegressor\n",
    "from sklearn.ensemble import AdaBoostRegressor\n",
    "from sklearn.neural_network import MLPRegressor\n",
    "\n",
    "#Libraries for Saving the Model\n",
    "from pickle import dump\n",
    "from pickle import load\n",
    "\n",
    "# Error Metrics\n",
    "from sklearn.metrics import mean_squared_error\n",
    "\n",
    "# Feature Selection\n",
    "from sklearn.feature_selection import SelectKBest\n",
    "from sklearn.feature_selection import chi2, f_regression\n",
    "\n",
    "#Plotting \n",
    "from pandas.plotting import scatter_matrix"
   ]
  },
  {
   "cell_type": "code",
   "execution_count": 40,
   "metadata": {
    "executionInfo": {
     "elapsed": 6,
     "status": "ok",
     "timestamp": 1636901674300,
     "user": {
      "displayName": "D OK",
      "photoUrl": "https://lh3.googleusercontent.com/a/default-user=s64",
      "userId": "10267117973942008095"
     },
     "user_tz": -60
    },
    "id": "1s7eV0El0Jx3"
   },
   "outputs": [],
   "source": [
    "#Diable the warnings\n",
    "import warnings\n",
    "warnings.filterwarnings('ignore')"
   ]
  },
  {
   "cell_type": "markdown",
   "metadata": {
    "id": "OD8r0XLH0Jx3"
   },
   "source": [
    "<a id='1.2'></a>\n",
    "## 2.2. Loading the Data"
   ]
  },
  {
   "cell_type": "markdown",
   "metadata": {
    "id": "6KXPzH-e0Jx4"
   },
   "source": [
    "Next, we extract the data required for our analysis using pandas datareader. "
   ]
  },
  {
   "cell_type": "markdown",
   "metadata": {},
   "source": [
    "The stock price data is coming from Yahoo while the stock index and currency data is coming fromn FRED."
   ]
  },
  {
   "cell_type": "code",
   "execution_count": 41,
   "metadata": {
    "colab": {
     "base_uri": "https://localhost:8080/"
    },
    "executionInfo": {
     "elapsed": 5048,
     "status": "ok",
     "timestamp": 1636901679343,
     "user": {
      "displayName": "D OK",
      "photoUrl": "https://lh3.googleusercontent.com/a/default-user=s64",
      "userId": "10267117973942008095"
     },
     "user_tz": -60
    },
    "id": "AVXXvPzg0Jx4",
    "outputId": "2697aee8-165e-4559-ecd1-60fc21413c97"
   },
   "outputs": [],
   "source": [
    "import yfinance as yf\n",
    "import pandas_datareader.data as web\n",
    "import datetime\n",
    "\n",
    "# 10 year period\n",
    "start = datetime.datetime(2012, 1, 1)\n",
    "end = datetime.datetime(2022, 1, 1)\n",
    "\n",
    "stk_tickers = ['MSFT', 'IBM', 'GOOGL']\n",
    "ccy_tickers = ['DEXUSEU', 'DEXUSUK']\n",
    "idx_tickers = ['SP500', 'DJIA', 'VIXCLS']\n",
    "\n",
    "# We can use pandas_datareader or yfinance\n",
    "# stk_data = yf.download(stk_tickers)\n",
    "\n",
    "stk_data = web.DataReader(stk_tickers, 'yahoo', start = start, end = end)\n",
    "ccy_data = web.DataReader(ccy_tickers, 'fred', start = start, end = end)\n",
    "idx_data = web.DataReader(idx_tickers, 'fred', start = start, end = end)"
   ]
  },
  {
   "cell_type": "code",
   "execution_count": 42,
   "metadata": {},
   "outputs": [
    {
     "name": "stdout",
     "output_type": "stream",
     "text": [
      "<class 'pandas.core.frame.DataFrame'>\n",
      "DatetimeIndex: 2517 entries, 2012-01-03 to 2021-12-31\n",
      "Data columns (total 18 columns):\n",
      " #   Column              Non-Null Count  Dtype  \n",
      "---  ------              --------------  -----  \n",
      " 0   (Adj Close, MSFT)   2517 non-null   float64\n",
      " 1   (Adj Close, IBM)    2517 non-null   float64\n",
      " 2   (Adj Close, GOOGL)  2517 non-null   float64\n",
      " 3   (Close, MSFT)       2517 non-null   float64\n",
      " 4   (Close, IBM)        2517 non-null   float64\n",
      " 5   (Close, GOOGL)      2517 non-null   float64\n",
      " 6   (High, MSFT)        2517 non-null   float64\n",
      " 7   (High, IBM)         2517 non-null   float64\n",
      " 8   (High, GOOGL)       2517 non-null   float64\n",
      " 9   (Low, MSFT)         2517 non-null   float64\n",
      " 10  (Low, IBM)          2517 non-null   float64\n",
      " 11  (Low, GOOGL)        2517 non-null   float64\n",
      " 12  (Open, MSFT)        2517 non-null   float64\n",
      " 13  (Open, IBM)         2517 non-null   float64\n",
      " 14  (Open, GOOGL)       2517 non-null   float64\n",
      " 15  (Volume, MSFT)      2517 non-null   float64\n",
      " 16  (Volume, IBM)       2517 non-null   float64\n",
      " 17  (Volume, GOOGL)     2517 non-null   float64\n",
      "dtypes: float64(18)\n",
      "memory usage: 373.6 KB\n"
     ]
    }
   ],
   "source": [
    "stk_data.info()"
   ]
  },
  {
   "cell_type": "code",
   "execution_count": 43,
   "metadata": {},
   "outputs": [
    {
     "name": "stdout",
     "output_type": "stream",
     "text": [
      "<class 'pandas.core.frame.DataFrame'>\n",
      "DatetimeIndex: 2610 entries, 2012-01-02 to 2021-12-31\n",
      "Data columns (total 2 columns):\n",
      " #   Column   Non-Null Count  Dtype  \n",
      "---  ------   --------------  -----  \n",
      " 0   DEXUSEU  2500 non-null   float64\n",
      " 1   DEXUSUK  2500 non-null   float64\n",
      "dtypes: float64(2)\n",
      "memory usage: 61.2 KB\n"
     ]
    }
   ],
   "source": [
    "ccy_data.info()"
   ]
  },
  {
   "cell_type": "code",
   "execution_count": 44,
   "metadata": {},
   "outputs": [],
   "source": [
    "ccy_data.columns = ['USDEUR', 'GBPUSD']"
   ]
  },
  {
   "cell_type": "code",
   "execution_count": 45,
   "metadata": {},
   "outputs": [
    {
     "name": "stdout",
     "output_type": "stream",
     "text": [
      "<class 'pandas.core.frame.DataFrame'>\n",
      "DatetimeIndex: 2610 entries, 2012-01-02 to 2021-12-31\n",
      "Freq: B\n",
      "Data columns (total 3 columns):\n",
      " #   Column  Non-Null Count  Dtype  \n",
      "---  ------  --------------  -----  \n",
      " 0   SP500   2480 non-null   float64\n",
      " 1   DJIA    2480 non-null   float64\n",
      " 2   VIXCLS  2517 non-null   float64\n",
      "dtypes: float64(3)\n",
      "memory usage: 81.6 KB\n"
     ]
    }
   ],
   "source": [
    "idx_data.info()"
   ]
  },
  {
   "cell_type": "markdown",
   "metadata": {},
   "source": [
    "I should save the data to file. Sometimes this is wise if there is a later YFinance problem."
   ]
  },
  {
   "cell_type": "markdown",
   "metadata": {},
   "source": [
    "We examine the stock price data first."
   ]
  },
  {
   "cell_type": "markdown",
   "metadata": {},
   "source": [
    "It looks fine. Some of the equities have different length time series.\n"
   ]
  },
  {
   "cell_type": "code",
   "execution_count": 46,
   "metadata": {},
   "outputs": [
    {
     "data": {
      "text/html": [
       "<div>\n",
       "<style scoped>\n",
       "    .dataframe tbody tr th:only-of-type {\n",
       "        vertical-align: middle;\n",
       "    }\n",
       "\n",
       "    .dataframe tbody tr th {\n",
       "        vertical-align: top;\n",
       "    }\n",
       "\n",
       "    .dataframe thead tr th {\n",
       "        text-align: left;\n",
       "    }\n",
       "\n",
       "    .dataframe thead tr:last-of-type th {\n",
       "        text-align: right;\n",
       "    }\n",
       "</style>\n",
       "<table border=\"1\" class=\"dataframe\">\n",
       "  <thead>\n",
       "    <tr>\n",
       "      <th>Attributes</th>\n",
       "      <th colspan=\"3\" halign=\"left\">Adj Close</th>\n",
       "      <th colspan=\"3\" halign=\"left\">Close</th>\n",
       "      <th colspan=\"3\" halign=\"left\">High</th>\n",
       "      <th colspan=\"3\" halign=\"left\">Low</th>\n",
       "      <th colspan=\"3\" halign=\"left\">Open</th>\n",
       "      <th colspan=\"3\" halign=\"left\">Volume</th>\n",
       "    </tr>\n",
       "    <tr>\n",
       "      <th>Symbols</th>\n",
       "      <th>MSFT</th>\n",
       "      <th>IBM</th>\n",
       "      <th>GOOGL</th>\n",
       "      <th>MSFT</th>\n",
       "      <th>IBM</th>\n",
       "      <th>GOOGL</th>\n",
       "      <th>MSFT</th>\n",
       "      <th>IBM</th>\n",
       "      <th>GOOGL</th>\n",
       "      <th>MSFT</th>\n",
       "      <th>IBM</th>\n",
       "      <th>GOOGL</th>\n",
       "      <th>MSFT</th>\n",
       "      <th>IBM</th>\n",
       "      <th>GOOGL</th>\n",
       "      <th>MSFT</th>\n",
       "      <th>IBM</th>\n",
       "      <th>GOOGL</th>\n",
       "    </tr>\n",
       "    <tr>\n",
       "      <th>Date</th>\n",
       "      <th></th>\n",
       "      <th></th>\n",
       "      <th></th>\n",
       "      <th></th>\n",
       "      <th></th>\n",
       "      <th></th>\n",
       "      <th></th>\n",
       "      <th></th>\n",
       "      <th></th>\n",
       "      <th></th>\n",
       "      <th></th>\n",
       "      <th></th>\n",
       "      <th></th>\n",
       "      <th></th>\n",
       "      <th></th>\n",
       "      <th></th>\n",
       "      <th></th>\n",
       "      <th></th>\n",
       "    </tr>\n",
       "  </thead>\n",
       "  <tbody>\n",
       "    <tr>\n",
       "      <th>2021-12-27</th>\n",
       "      <td>341.743378</td>\n",
       "      <td>130.053436</td>\n",
       "      <td>2958.129883</td>\n",
       "      <td>342.450012</td>\n",
       "      <td>131.619995</td>\n",
       "      <td>2958.129883</td>\n",
       "      <td>342.480011</td>\n",
       "      <td>131.649994</td>\n",
       "      <td>2966.879883</td>\n",
       "      <td>335.429993</td>\n",
       "      <td>129.949997</td>\n",
       "      <td>2943.389893</td>\n",
       "      <td>335.459991</td>\n",
       "      <td>130.630005</td>\n",
       "      <td>2945.120117</td>\n",
       "      <td>19947000.0</td>\n",
       "      <td>4293900.0</td>\n",
       "      <td>798800.0</td>\n",
       "    </tr>\n",
       "    <tr>\n",
       "      <th>2021-12-28</th>\n",
       "      <td>340.545837</td>\n",
       "      <td>131.051422</td>\n",
       "      <td>2933.739990</td>\n",
       "      <td>341.250000</td>\n",
       "      <td>132.630005</td>\n",
       "      <td>2933.739990</td>\n",
       "      <td>343.809998</td>\n",
       "      <td>133.220001</td>\n",
       "      <td>2965.979980</td>\n",
       "      <td>340.320007</td>\n",
       "      <td>131.589996</td>\n",
       "      <td>2921.090088</td>\n",
       "      <td>343.149994</td>\n",
       "      <td>131.600006</td>\n",
       "      <td>2964.719971</td>\n",
       "      <td>15661500.0</td>\n",
       "      <td>3445200.0</td>\n",
       "      <td>910000.0</td>\n",
       "    </tr>\n",
       "    <tr>\n",
       "      <th>2021-12-29</th>\n",
       "      <td>341.244415</td>\n",
       "      <td>131.762848</td>\n",
       "      <td>2933.100098</td>\n",
       "      <td>341.950012</td>\n",
       "      <td>133.350006</td>\n",
       "      <td>2933.100098</td>\n",
       "      <td>344.299988</td>\n",
       "      <td>134.210007</td>\n",
       "      <td>2948.340088</td>\n",
       "      <td>339.679993</td>\n",
       "      <td>132.300003</td>\n",
       "      <td>2912.949951</td>\n",
       "      <td>341.299988</td>\n",
       "      <td>132.399994</td>\n",
       "      <td>2932.889893</td>\n",
       "      <td>15042000.0</td>\n",
       "      <td>4239900.0</td>\n",
       "      <td>889400.0</td>\n",
       "    </tr>\n",
       "    <tr>\n",
       "      <th>2021-12-30</th>\n",
       "      <td>338.619843</td>\n",
       "      <td>132.316193</td>\n",
       "      <td>2924.010010</td>\n",
       "      <td>339.320007</td>\n",
       "      <td>133.910004</td>\n",
       "      <td>2924.010010</td>\n",
       "      <td>343.130005</td>\n",
       "      <td>134.369995</td>\n",
       "      <td>2946.000000</td>\n",
       "      <td>338.820007</td>\n",
       "      <td>133.330002</td>\n",
       "      <td>2919.889893</td>\n",
       "      <td>341.910004</td>\n",
       "      <td>133.750000</td>\n",
       "      <td>2933.879883</td>\n",
       "      <td>15994500.0</td>\n",
       "      <td>3158100.0</td>\n",
       "      <td>784400.0</td>\n",
       "    </tr>\n",
       "    <tr>\n",
       "      <th>2021-12-31</th>\n",
       "      <td>335.626038</td>\n",
       "      <td>132.069168</td>\n",
       "      <td>2897.040039</td>\n",
       "      <td>336.320007</td>\n",
       "      <td>133.660004</td>\n",
       "      <td>2897.040039</td>\n",
       "      <td>339.359985</td>\n",
       "      <td>134.990005</td>\n",
       "      <td>2933.969971</td>\n",
       "      <td>335.850006</td>\n",
       "      <td>133.610001</td>\n",
       "      <td>2897.040039</td>\n",
       "      <td>338.510010</td>\n",
       "      <td>134.000000</td>\n",
       "      <td>2921.000000</td>\n",
       "      <td>18000800.0</td>\n",
       "      <td>3362100.0</td>\n",
       "      <td>906800.0</td>\n",
       "    </tr>\n",
       "  </tbody>\n",
       "</table>\n",
       "</div>"
      ],
      "text/plain": [
       "Attributes   Adj Close                                Close              \\\n",
       "Symbols           MSFT         IBM        GOOGL        MSFT         IBM   \n",
       "Date                                                                      \n",
       "2021-12-27  341.743378  130.053436  2958.129883  342.450012  131.619995   \n",
       "2021-12-28  340.545837  131.051422  2933.739990  341.250000  132.630005   \n",
       "2021-12-29  341.244415  131.762848  2933.100098  341.950012  133.350006   \n",
       "2021-12-30  338.619843  132.316193  2924.010010  339.320007  133.910004   \n",
       "2021-12-31  335.626038  132.069168  2897.040039  336.320007  133.660004   \n",
       "\n",
       "Attributes                     High                                  Low  \\\n",
       "Symbols           GOOGL        MSFT         IBM        GOOGL        MSFT   \n",
       "Date                                                                       \n",
       "2021-12-27  2958.129883  342.480011  131.649994  2966.879883  335.429993   \n",
       "2021-12-28  2933.739990  343.809998  133.220001  2965.979980  340.320007   \n",
       "2021-12-29  2933.100098  344.299988  134.210007  2948.340088  339.679993   \n",
       "2021-12-30  2924.010010  343.130005  134.369995  2946.000000  338.820007   \n",
       "2021-12-31  2897.040039  339.359985  134.990005  2933.969971  335.850006   \n",
       "\n",
       "Attributes                                 Open                           \\\n",
       "Symbols            IBM        GOOGL        MSFT         IBM        GOOGL   \n",
       "Date                                                                       \n",
       "2021-12-27  129.949997  2943.389893  335.459991  130.630005  2945.120117   \n",
       "2021-12-28  131.589996  2921.090088  343.149994  131.600006  2964.719971   \n",
       "2021-12-29  132.300003  2912.949951  341.299988  132.399994  2932.889893   \n",
       "2021-12-30  133.330002  2919.889893  341.910004  133.750000  2933.879883   \n",
       "2021-12-31  133.610001  2897.040039  338.510010  134.000000  2921.000000   \n",
       "\n",
       "Attributes      Volume                       \n",
       "Symbols           MSFT        IBM     GOOGL  \n",
       "Date                                         \n",
       "2021-12-27  19947000.0  4293900.0  798800.0  \n",
       "2021-12-28  15661500.0  3445200.0  910000.0  \n",
       "2021-12-29  15042000.0  4239900.0  889400.0  \n",
       "2021-12-30  15994500.0  3158100.0  784400.0  \n",
       "2021-12-31  18000800.0  3362100.0  906800.0  "
      ]
     },
     "execution_count": 46,
     "metadata": {},
     "output_type": "execute_result"
    }
   ],
   "source": [
    "stk_data.tail()"
   ]
  },
  {
   "cell_type": "code",
   "execution_count": 47,
   "metadata": {},
   "outputs": [
    {
     "data": {
      "image/png": "[encoded data removed]",
      "text/plain": [
       "<Figure size 432x288 with 1 Axes>"
      ]
     },
     "metadata": {
      "needs_background": "light"
     },
     "output_type": "display_data"
    }
   ],
   "source": [
    "cols = stk_data.columns[0:3]\n",
    "stk_data[cols].plot();"
   ]
  },
  {
   "cell_type": "code",
   "execution_count": 48,
   "metadata": {},
   "outputs": [
    {
     "data": {
      "image/png": "[encoded data removed]",
      "text/plain": [
       "<Figure size 432x288 with 2 Axes>"
      ]
     },
     "metadata": {
      "needs_background": "light"
     },
     "output_type": "display_data"
    }
   ],
   "source": [
    "import matplotlib.pyplot as plt\n",
    "fig, ax1 = plt.subplots()\n",
    "ax2 = ax1.twinx()\n",
    "ax1.plot(ccy_data[\"USDEUR\"], color='r', label=\"JP-US\")\n",
    "ax2.plot(ccy_data[\"GBPUSD\"], color='b', label=\"US-UK\")\n",
    "plt.legend();"
   ]
  },
  {
   "cell_type": "markdown",
   "metadata": {},
   "source": [
    "We can easily show the equity index data."
   ]
  },
  {
   "cell_type": "code",
   "execution_count": 49,
   "metadata": {
    "colab": {
     "base_uri": "https://localhost:8080/",
     "height": 450
    },
    "executionInfo": {
     "elapsed": 232,
     "status": "ok",
     "timestamp": 1636902153466,
     "user": {
      "displayName": "D OK",
      "photoUrl": "https://lh3.googleusercontent.com/a/default-user=s64",
      "userId": "10267117973942008095"
     },
     "user_tz": -60
    },
    "id": "kkRza_tH04D3",
    "outputId": "efbad5e7-f15e-4114-8b18-28c87d90f355",
    "scrolled": true
   },
   "outputs": [
    {
     "data": {
      "image/png": "[encoded data removed]",
      "text/plain": [
       "<Figure size 432x288 with 1 Axes>"
      ]
     },
     "metadata": {
      "needs_background": "light"
     },
     "output_type": "display_data"
    }
   ],
   "source": [
    "idx_data.plot();"
   ]
  },
  {
   "cell_type": "markdown",
   "metadata": {},
   "source": [
    "### Prediction"
   ]
  },
  {
   "cell_type": "markdown",
   "metadata": {
    "id": "4dXB9rZA0Jx4"
   },
   "source": [
    "Next, we need a series to predict. We choose to predict using weekly returns. We approximate this by using 5 business day period returns."
   ]
  },
  {
   "cell_type": "markdown",
   "metadata": {
    "id": "DnEuXl9D0Jx5"
   },
   "source": [
    "We now define our Y series and our X series\n",
    "\n",
    "Y: MSFT **Future** Returns\n",
    "\n",
    "X:\n",
    "\n",
    "    a. GOOGL 5 Business Day Returns\n",
    "    b. IBM 5 Business DayReturns    \n",
    "    c. USD/JPY 5 Business DayReturns    \n",
    "    d. GBP/USD 5 Business DayReturns    \n",
    "    e. S&P 500 5 Business DayReturns    \n",
    "    f. Dow Jones 5 Business DayReturns    \n",
    "    g. MSFT 5 Business Day Returns    \n",
    "    h. MSFT 15 Business Day Returns    \n",
    "    i. MSFT 30 Business Day Returns    \n",
    "    j. MSFT 60 Business Day Returns\n",
    "\n",
    "We remove the MSFT past returns when we use the Time series models."
   ]
  },
  {
   "cell_type": "code",
   "execution_count": 81,
   "metadata": {},
   "outputs": [],
   "source": [
    "msft_close = stk_data[('Adj Close', 'MSFT')]"
   ]
  },
  {
   "cell_type": "code",
   "execution_count": 82,
   "metadata": {},
   "outputs": [
    {
     "data": {
      "text/plain": [
       "Date\n",
       "2021-12-17    323.131836\n",
       "2021-12-20    319.249878\n",
       "2021-12-21    326.614655\n",
       "2021-12-22    332.512482\n",
       "2021-12-23    333.999390\n",
       "2021-12-27    341.743378\n",
       "2021-12-28    340.545837\n",
       "2021-12-29    341.244415\n",
       "2021-12-30    338.619843\n",
       "2021-12-31    335.626038\n",
       "Name: (Adj Close, MSFT), dtype: float64"
      ]
     },
     "execution_count": 82,
     "metadata": {},
     "output_type": "execute_result"
    }
   ],
   "source": [
    "msft_close.tail(10)"
   ]
  },
  {
   "cell_type": "markdown",
   "metadata": {},
   "source": [
    "We first take logs."
   ]
  },
  {
   "cell_type": "code",
   "execution_count": 83,
   "metadata": {},
   "outputs": [
    {
     "data": {
      "text/plain": [
       "Date\n",
       "2021-12-17    5.778060\n",
       "2021-12-20    5.765974\n",
       "2021-12-21    5.788781\n",
       "2021-12-22    5.806677\n",
       "2021-12-23    5.811139\n",
       "2021-12-27    5.834060\n",
       "2021-12-28    5.830550\n",
       "2021-12-29    5.832599\n",
       "2021-12-30    5.824878\n",
       "2021-12-31    5.815998\n",
       "Name: (Adj Close, MSFT), dtype: float64"
      ]
     },
     "execution_count": 83,
     "metadata": {},
     "output_type": "execute_result"
    }
   ],
   "source": [
    "np.log(msft_close).tail(10) #.shift(-return_period)"
   ]
  },
  {
   "cell_type": "markdown",
   "metadata": {},
   "source": [
    "We then take differences"
   ]
  },
  {
   "cell_type": "code",
   "execution_count": 84,
   "metadata": {},
   "outputs": [
    {
     "data": {
      "text/plain": [
       "Date\n",
       "2021-12-17   -0.056262\n",
       "2021-12-20   -0.059140\n",
       "2021-12-21   -0.003203\n",
       "2021-12-22   -0.004342\n",
       "2021-12-23    0.029687\n",
       "2021-12-27    0.056000\n",
       "2021-12-28    0.064576\n",
       "2021-12-29    0.043818\n",
       "2021-12-30    0.018201\n",
       "2021-12-31    0.004858\n",
       "Name: (Adj Close, MSFT), dtype: float64"
      ]
     },
     "execution_count": 84,
     "metadata": {},
     "output_type": "execute_result"
    }
   ],
   "source": [
    "return_period = 5\n",
    "Y = np.log(msft_close).diff(return_period).tail(10)\n",
    "Y.tail(10)"
   ]
  },
  {
   "cell_type": "markdown",
   "metadata": {},
   "source": [
    "We then shift it back 5 days."
   ]
  },
  {
   "cell_type": "code",
   "execution_count": 85,
   "metadata": {},
   "outputs": [],
   "source": [
    "Y = np.log(msft_close).diff(return_period).shift(-return_period)\n",
    "Y.tail(10)\n",
    "Y.dropna(inplace=True)"
   ]
  },
  {
   "cell_type": "code",
   "execution_count": 86,
   "metadata": {},
   "outputs": [],
   "source": [
    "Y.name = 'MSFT_pred'"
   ]
  },
  {
   "cell_type": "code",
   "execution_count": 87,
   "metadata": {},
   "outputs": [
    {
     "data": {
      "text/plain": [
       "<AxesSubplot:xlabel='Date'>"
      ]
     },
     "execution_count": 87,
     "metadata": {},
     "output_type": "execute_result"
    },
    {
     "data": {
      "image/png": "[encoded data removed]",
      "text/plain": [
       "<Figure size 432x288 with 1 Axes>"
      ]
     },
     "metadata": {
      "needs_background": "light"
     },
     "output_type": "display_data"
    }
   ],
   "source": [
    "Y.plot()"
   ]
  },
  {
   "cell_type": "markdown",
   "metadata": {},
   "source": [
    "Now we continue with the other manipulations."
   ]
  },
  {
   "cell_type": "code",
   "execution_count": 88,
   "metadata": {
    "executionInfo": {
     "elapsed": 4,
     "status": "ok",
     "timestamp": 1636902158573,
     "user": {
      "displayName": "D OK",
      "photoUrl": "https://lh3.googleusercontent.com/a/default-user=s64",
      "userId": "10267117973942008095"
     },
     "user_tz": -60
    },
    "id": "3m8SRLRX0Jx5"
   },
   "outputs": [],
   "source": [
    "X1 = np.log(stk_data.loc[:, ('Adj Close', ('GOOGL', 'IBM'))]).diff(return_period)\n",
    "X1.columns = X1.columns.droplevel()\n",
    "X2 = np.log(ccy_data).diff(return_period)\n",
    "X3 = np.log(idx_data).diff(return_period)\n",
    "\n",
    "X4 = pd.concat([np.log(stk_data.loc[:, ('Adj Close', 'MSFT')]).diff(i)\n",
    "                for i in [return_period, \\\n",
    "                          return_period*3, \\\n",
    "                          return_period*6, \\\n",
    "                          return_period*12]], axis=1).dropna()\n",
    "\n",
    "X4.columns = ['MSFT_RET_DT', 'MSFT_RET_3DT', 'MSFT_RET_6DT', 'MSFT_RET_12DT']\n",
    "\n",
    "X = pd.concat([X1, X2, X3, X4], join = \"inner\", axis=1)\n",
    "\n",
    "#dataset = pd.concat([Y, X], join=\"inner\", axis=1).dropna() # .iloc[::return_period, :]\n",
    "\n",
    "###\n",
    "dataset = pd.concat([Y, X[:-return_period]], join=\"inner\", axis=1).dropna() #### changed this line!!!!\n",
    "\n",
    "# Now extract from dataset the label column\n",
    "Y = dataset.loc[:, Y.name]\n",
    "# Now extract from dataset the features columns\n",
    "X = dataset.loc[:, X.columns]"
   ]
  },
  {
   "cell_type": "code",
   "execution_count": 89,
   "metadata": {},
   "outputs": [
    {
     "data": {
      "text/html": [
       "<div>\n",
       "<style scoped>\n",
       "    .dataframe tbody tr th:only-of-type {\n",
       "        vertical-align: middle;\n",
       "    }\n",
       "\n",
       "    .dataframe tbody tr th {\n",
       "        vertical-align: top;\n",
       "    }\n",
       "\n",
       "    .dataframe thead th {\n",
       "        text-align: right;\n",
       "    }\n",
       "</style>\n",
       "<table border=\"1\" class=\"dataframe\">\n",
       "  <thead>\n",
       "    <tr style=\"text-align: right;\">\n",
       "      <th></th>\n",
       "      <th>GOOGL</th>\n",
       "      <th>IBM</th>\n",
       "      <th>USDEUR</th>\n",
       "      <th>GBPUSD</th>\n",
       "      <th>SP500</th>\n",
       "      <th>DJIA</th>\n",
       "      <th>VIXCLS</th>\n",
       "      <th>MSFT_RET_DT</th>\n",
       "      <th>MSFT_RET_3DT</th>\n",
       "      <th>MSFT_RET_6DT</th>\n",
       "      <th>MSFT_RET_12DT</th>\n",
       "    </tr>\n",
       "  </thead>\n",
       "  <tbody>\n",
       "    <tr>\n",
       "      <th>2012-03-29</th>\n",
       "      <td>0.003646</td>\n",
       "      <td>0.013438</td>\n",
       "      <td>0.005367</td>\n",
       "      <td>0.006558</td>\n",
       "      <td>0.007511</td>\n",
       "      <td>0.007612</td>\n",
       "      <td>-0.005797</td>\n",
       "      <td>0.003743</td>\n",
       "      <td>0.003431</td>\n",
       "      <td>0.066616</td>\n",
       "      <td>0.188759</td>\n",
       "    </tr>\n",
       "    <tr>\n",
       "      <th>2012-03-30</th>\n",
       "      <td>-0.002103</td>\n",
       "      <td>0.015309</td>\n",
       "      <td>0.005339</td>\n",
       "      <td>0.007598</td>\n",
       "      <td>0.008098</td>\n",
       "      <td>0.009988</td>\n",
       "      <td>0.044862</td>\n",
       "      <td>0.007780</td>\n",
       "      <td>0.008405</td>\n",
       "      <td>0.030530</td>\n",
       "      <td>0.169847</td>\n",
       "    </tr>\n",
       "    <tr>\n",
       "      <th>2012-04-02</th>\n",
       "      <td>-0.003718</td>\n",
       "      <td>0.008149</td>\n",
       "      <td>-0.000225</td>\n",
       "      <td>0.005194</td>\n",
       "      <td>0.001784</td>\n",
       "      <td>0.001725</td>\n",
       "      <td>0.092373</td>\n",
       "      <td>-0.009248</td>\n",
       "      <td>0.007772</td>\n",
       "      <td>0.032738</td>\n",
       "      <td>0.160609</td>\n",
       "    </tr>\n",
       "    <tr>\n",
       "      <th>2012-04-03</th>\n",
       "      <td>-0.006824</td>\n",
       "      <td>0.011136</td>\n",
       "      <td>0.000075</td>\n",
       "      <td>-0.000376</td>\n",
       "      <td>0.000609</td>\n",
       "      <td>0.000138</td>\n",
       "      <td>0.004480</td>\n",
       "      <td>-0.017996</td>\n",
       "      <td>-0.022598</td>\n",
       "      <td>0.015778</td>\n",
       "      <td>0.134295</td>\n",
       "    </tr>\n",
       "    <tr>\n",
       "      <th>2012-04-04</th>\n",
       "      <td>-0.031934</td>\n",
       "      <td>-0.006000</td>\n",
       "      <td>-0.013169</td>\n",
       "      <td>0.001513</td>\n",
       "      <td>-0.004692</td>\n",
       "      <td>-0.003928</td>\n",
       "      <td>0.060815</td>\n",
       "      <td>-0.030918</td>\n",
       "      <td>-0.048775</td>\n",
       "      <td>-0.001921</td>\n",
       "      <td>0.124425</td>\n",
       "    </tr>\n",
       "    <tr>\n",
       "      <th>...</th>\n",
       "      <td>...</td>\n",
       "      <td>...</td>\n",
       "      <td>...</td>\n",
       "      <td>...</td>\n",
       "      <td>...</td>\n",
       "      <td>...</td>\n",
       "      <td>...</td>\n",
       "      <td>...</td>\n",
       "      <td>...</td>\n",
       "      <td>...</td>\n",
       "      <td>...</td>\n",
       "    </tr>\n",
       "    <tr>\n",
       "      <th>2021-12-17</th>\n",
       "      <td>-0.043334</td>\n",
       "      <td>0.026325</td>\n",
       "      <td>-0.003099</td>\n",
       "      <td>0.000528</td>\n",
       "      <td>-0.019583</td>\n",
       "      <td>-0.016978</td>\n",
       "      <td>0.143315</td>\n",
       "      <td>-0.056262</td>\n",
       "      <td>-0.017997</td>\n",
       "      <td>-0.036466</td>\n",
       "      <td>0.079639</td>\n",
       "    </tr>\n",
       "    <tr>\n",
       "      <th>2021-12-20</th>\n",
       "      <td>-0.029362</td>\n",
       "      <td>0.035896</td>\n",
       "      <td>0.000000</td>\n",
       "      <td>-0.000832</td>\n",
       "      <td>-0.021859</td>\n",
       "      <td>-0.020368</td>\n",
       "      <td>0.118713</td>\n",
       "      <td>-0.059140</td>\n",
       "      <td>-0.050945</td>\n",
       "      <td>-0.047422</td>\n",
       "      <td>0.068254</td>\n",
       "    </tr>\n",
       "    <tr>\n",
       "      <th>2021-12-21</th>\n",
       "      <td>-0.003024</td>\n",
       "      <td>0.041236</td>\n",
       "      <td>0.000444</td>\n",
       "      <td>0.002115</td>\n",
       "      <td>0.003262</td>\n",
       "      <td>-0.001449</td>\n",
       "      <td>-0.041031</td>\n",
       "      <td>-0.003203</td>\n",
       "      <td>-0.010032</td>\n",
       "      <td>-0.027379</td>\n",
       "      <td>0.108517</td>\n",
       "    </tr>\n",
       "    <tr>\n",
       "      <th>2021-12-22</th>\n",
       "      <td>-0.000178</td>\n",
       "      <td>0.052531</td>\n",
       "      <td>0.005579</td>\n",
       "      <td>0.009865</td>\n",
       "      <td>-0.002826</td>\n",
       "      <td>-0.004842</td>\n",
       "      <td>-0.034814</td>\n",
       "      <td>-0.004342</td>\n",
       "      <td>0.009408</td>\n",
       "      <td>-0.006392</td>\n",
       "      <td>0.163288</td>\n",
       "    </tr>\n",
       "    <tr>\n",
       "      <th>2021-12-23</th>\n",
       "      <td>0.016966</td>\n",
       "      <td>0.036643</td>\n",
       "      <td>0.000972</td>\n",
       "      <td>0.006359</td>\n",
       "      <td>0.012161</td>\n",
       "      <td>0.001473</td>\n",
       "      <td>-0.135687</td>\n",
       "      <td>0.029687</td>\n",
       "      <td>0.015659</td>\n",
       "      <td>0.013519</td>\n",
       "      <td>0.166058</td>\n",
       "    </tr>\n",
       "  </tbody>\n",
       "</table>\n",
       "<p>2317 rows × 11 columns</p>\n",
       "</div>"
      ],
      "text/plain": [
       "               GOOGL       IBM    USDEUR    GBPUSD     SP500      DJIA  \\\n",
       "2012-03-29  0.003646  0.013438  0.005367  0.006558  0.007511  0.007612   \n",
       "2012-03-30 -0.002103  0.015309  0.005339  0.007598  0.008098  0.009988   \n",
       "2012-04-02 -0.003718  0.008149 -0.000225  0.005194  0.001784  0.001725   \n",
       "2012-04-03 -0.006824  0.011136  0.000075 -0.000376  0.000609  0.000138   \n",
       "2012-04-04 -0.031934 -0.006000 -0.013169  0.001513 -0.004692 -0.003928   \n",
       "...              ...       ...       ...       ...       ...       ...   \n",
       "2021-12-17 -0.043334  0.026325 -0.003099  0.000528 -0.019583 -0.016978   \n",
       "2021-12-20 -0.029362  0.035896  0.000000 -0.000832 -0.021859 -0.020368   \n",
       "2021-12-21 -0.003024  0.041236  0.000444  0.002115  0.003262 -0.001449   \n",
       "2021-12-22 -0.000178  0.052531  0.005579  0.009865 -0.002826 -0.004842   \n",
       "2021-12-23  0.016966  0.036643  0.000972  0.006359  0.012161  0.001473   \n",
       "\n",
       "              VIXCLS  MSFT_RET_DT  MSFT_RET_3DT  MSFT_RET_6DT  MSFT_RET_12DT  \n",
       "2012-03-29 -0.005797     0.003743      0.003431      0.066616       0.188759  \n",
       "2012-03-30  0.044862     0.007780      0.008405      0.030530       0.169847  \n",
       "2012-04-02  0.092373    -0.009248      0.007772      0.032738       0.160609  \n",
       "2012-04-03  0.004480    -0.017996     -0.022598      0.015778       0.134295  \n",
       "2012-04-04  0.060815    -0.030918     -0.048775     -0.001921       0.124425  \n",
       "...              ...          ...           ...           ...            ...  \n",
       "2021-12-17  0.143315    -0.056262     -0.017997     -0.036466       0.079639  \n",
       "2021-12-20  0.118713    -0.059140     -0.050945     -0.047422       0.068254  \n",
       "2021-12-21 -0.041031    -0.003203     -0.010032     -0.027379       0.108517  \n",
       "2021-12-22 -0.034814    -0.004342      0.009408     -0.006392       0.163288  \n",
       "2021-12-23 -0.135687     0.029687      0.015659      0.013519       0.166058  \n",
       "\n",
       "[2317 rows x 11 columns]"
      ]
     },
     "execution_count": 89,
     "metadata": {},
     "output_type": "execute_result"
    }
   ],
   "source": [
    "X"
   ]
  },
  {
   "cell_type": "code",
   "execution_count": 90,
   "metadata": {},
   "outputs": [
    {
     "data": {
      "text/plain": [
       "2012-03-29   -0.018857\n",
       "2012-03-30   -0.036620\n",
       "2012-04-02   -0.058015\n",
       "2012-04-03   -0.051063\n",
       "2012-04-04   -0.007397\n",
       "                ...   \n",
       "2021-12-17    0.056000\n",
       "2021-12-20    0.064576\n",
       "2021-12-21    0.043818\n",
       "2021-12-22    0.018201\n",
       "2021-12-23    0.004858\n",
       "Name: MSFT_pred, Length: 2317, dtype: float64"
      ]
     },
     "execution_count": 90,
     "metadata": {},
     "output_type": "execute_result"
    }
   ],
   "source": [
    "Y"
   ]
  },
  {
   "cell_type": "markdown",
   "metadata": {
    "id": "VXTWQMVQ0Jx8"
   },
   "source": [
    "Looking at the scatter plot above, we see some linear relationship of the predicted\n",
    "variable the lagged 15 days, 30 days and 60 days return of MSFT."
   ]
  },
  {
   "cell_type": "markdown",
   "metadata": {
    "id": "sEoEEJ4d0Jx9"
   },
   "source": [
    "<a id='4'></a>\n",
    "# 5. Evaluate Algorithms and Models"
   ]
  },
  {
   "cell_type": "markdown",
   "metadata": {
    "id": "_hiJkMCk0Jx9"
   },
   "source": [
    "<a id='4.1'></a>\n",
    "## 5.1. Train Test Split and Evaluation Metrics"
   ]
  },
  {
   "cell_type": "markdown",
   "metadata": {
    "id": "e-SIbEsJ0Jx9"
   },
   "source": [
    "Next, we start by splitting our data in training and testing chunks. If we are going to use Time series models we have to split the data in continous series."
   ]
  },
  {
   "cell_type": "code",
   "execution_count": 91,
   "metadata": {
    "executionInfo": {
     "elapsed": 234,
     "status": "ok",
     "timestamp": 1636902199064,
     "user": {
      "displayName": "D OK",
      "photoUrl": "https://lh3.googleusercontent.com/a/default-user=s64",
      "userId": "10267117973942008095"
     },
     "user_tz": -60
    },
    "id": "aCjp_4PY0Jx9"
   },
   "outputs": [],
   "source": [
    "validation_size = 0.2\n",
    "\n",
    "# In case the data is not dependent on the time series, then train and test split randomly\n",
    "# seed = 7\n",
    "# X_train, X_test, Y_train, Y_test = train_test_split(X, Y, test_size=validation_size, random_state=seed)\n",
    "\n",
    "#In case the data is not dependent on the time series, then train and test split should be done based on sequential sample\n",
    "#This can be done by selecting an arbitrary split point in the ordered list of observations and creating two new datasets.\n",
    "train_size = int(len(X) * (1-validation_size))\n",
    "X_train, X_test = X[0:train_size], X[train_size:len(X)]\n",
    "Y_train, Y_test = Y[0:train_size], Y[train_size:len(X)]"
   ]
  },
  {
   "cell_type": "markdown",
   "metadata": {
    "id": "n1srXLHd0Jx9"
   },
   "source": [
    "<a id='4.2'></a>\n",
    "## 5.2. Test Options and Evaluation Metrics"
   ]
  },
  {
   "cell_type": "code",
   "execution_count": 92,
   "metadata": {
    "executionInfo": {
     "elapsed": 217,
     "status": "ok",
     "timestamp": 1636902200994,
     "user": {
      "displayName": "D OK",
      "photoUrl": "https://lh3.googleusercontent.com/a/default-user=s64",
      "userId": "10267117973942008095"
     },
     "user_tz": -60
    },
    "id": "XDy6zKge0Jx9"
   },
   "outputs": [],
   "source": [
    "num_folds = 10\n",
    "seed = 7\n",
    "# scikit is moving away from mean_squared_error. \n",
    "# In order to avoid confusion, and to allow comparison with other models, we invert the final scores\n",
    "scoring = 'neg_mean_squared_error' "
   ]
  },
  {
   "cell_type": "markdown",
   "metadata": {
    "id": "p2dWvaKj0Jx9"
   },
   "source": [
    "<a id='4.3'></a>\n",
    "## 5.3. Compare Models and Algorithms"
   ]
  },
  {
   "cell_type": "markdown",
   "metadata": {
    "id": "UjCNlCcq0Jx9"
   },
   "source": [
    "<a id='4.3.1'></a>\n",
    "### 5.3.1 Machine Learning models-from scikit-learn"
   ]
  },
  {
   "cell_type": "markdown",
   "metadata": {
    "id": "fOr6Q2Zr0Jx9"
   },
   "source": [
    "##### Regression and Tree Regression algorithms"
   ]
  },
  {
   "cell_type": "code",
   "execution_count": 93,
   "metadata": {
    "executionInfo": {
     "elapsed": 217,
     "status": "ok",
     "timestamp": 1636902203673,
     "user": {
      "displayName": "D OK",
      "photoUrl": "https://lh3.googleusercontent.com/a/default-user=s64",
      "userId": "10267117973942008095"
     },
     "user_tz": -60
    },
    "id": "OUxDko1y0Jx9"
   },
   "outputs": [],
   "source": [
    "models = []\n",
    "models.append(('LR', LinearRegression()))\n",
    "models.append(('LASSO', Lasso()))\n",
    "models.append(('KNN', KNeighborsRegressor()))\n",
    "models.append(('MLP', MLPRegressor(hidden_layer_sizes=(100,100))))\n",
    "# Boosting methods\n",
    "models.append(('ABR', AdaBoostRegressor()))\n",
    "# Bagging methods\n",
    "models.append(('RFR', RandomForestRegressor()))"
   ]
  },
  {
   "cell_type": "markdown",
   "metadata": {
    "id": "KP9c4b3M0Jx-"
   },
   "source": [
    "Once we have selected all the models, we loop over each of them. First we run the K-fold analysis. Next we run the model on the entire training and testing dataset."
   ]
  },
  {
   "cell_type": "code",
   "execution_count": 94,
   "metadata": {
    "colab": {
     "base_uri": "https://localhost:8080/"
    },
    "executionInfo": {
     "elapsed": 6486,
     "status": "ok",
     "timestamp": 1636902213770,
     "user": {
      "displayName": "D OK",
      "photoUrl": "https://lh3.googleusercontent.com/a/default-user=s64",
      "userId": "10267117973942008095"
     },
     "user_tz": -60
    },
    "id": "AXcRVr7f0Jx-",
    "outputId": "36eb1881-2a9b-466c-f4df-d91c6924ce41"
   },
   "outputs": [
    {
     "name": "stdout",
     "output_type": "stream",
     "text": [
      "LR: 0.000857 (0.000352) 0.000823 0.001613\n",
      "LASSO: 0.000875 (0.000379) 0.000872 0.001505\n",
      "KNN: 0.001049 (0.000338) 0.000520 0.001661\n",
      "MLP: 0.000865 (0.000362) 0.000816 0.001535\n",
      "ABR: 0.000995 (0.000342) 0.000801 0.001803\n",
      "RFR: 0.000898 (0.000335) 0.000100 0.001614\n"
     ]
    }
   ],
   "source": [
    "names = []\n",
    "kfold_results = []\n",
    "test_results = []\n",
    "train_results = []\n",
    "for name, model in models:\n",
    "    names.append(name)\n",
    "    \n",
    "    ## K-Fold analysis:\n",
    "    kfold = KFold(n_splits=num_folds)\n",
    "    #converted mean square error to positive. The lower the beter\n",
    "    cv_results = -1* cross_val_score(model, X_train, Y_train, cv=kfold, scoring=scoring)\n",
    "    kfold_results.append(cv_results)\n",
    "    \n",
    "    # Full Training period\n",
    "    res = model.fit(X_train, Y_train)\n",
    "    train_result = mean_squared_error(res.predict(X_train), Y_train)\n",
    "    train_results.append(train_result)\n",
    "    \n",
    "    # Test results\n",
    "    test_result = mean_squared_error(res.predict(X_test), Y_test)\n",
    "    test_results.append(test_result)\n",
    "    \n",
    "    msg = \"%s: %f (%f) %f %f\" % (name, cv_results.mean(), cv_results.std(), train_result, test_result)\n",
    "    print(msg)"
   ]
  },
  {
   "cell_type": "markdown",
   "metadata": {
    "id": "WG4BtwZX0Jx-"
   },
   "source": [
    "### K Fold results"
   ]
  },
  {
   "cell_type": "markdown",
   "metadata": {
    "id": "nlvg-9-40Jx-"
   },
   "source": [
    "We being by looking at the K Fold results"
   ]
  },
  {
   "cell_type": "code",
   "execution_count": 95,
   "metadata": {
    "colab": {
     "base_uri": "https://localhost:8080/",
     "height": 540
    },
    "executionInfo": {
     "elapsed": 558,
     "status": "ok",
     "timestamp": 1636902216070,
     "user": {
      "displayName": "D OK",
      "photoUrl": "https://lh3.googleusercontent.com/a/default-user=s64",
      "userId": "10267117973942008095"
     },
     "user_tz": -60
    },
    "id": "i5QrMYBZ0Jx-",
    "outputId": "41c8d190-3b5b-40bf-c9c2-fa4ef3ae7076"
   },
   "outputs": [
    {
     "data": {
      "image/png": "[encoded data removed]",
      "text/plain": [
       "<Figure size 1080x576 with 1 Axes>"
      ]
     },
     "metadata": {
      "needs_background": "light"
     },
     "output_type": "display_data"
    }
   ],
   "source": [
    "fig = pyplot.figure()\n",
    "fig.suptitle('Algorithm Comparison: K-Fold results')\n",
    "ax = fig.add_subplot(111)\n",
    "pyplot.boxplot(kfold_results)\n",
    "ax.set_xticklabels(names)\n",
    "fig.set_size_inches(15,8)\n",
    "pyplot.show()"
   ]
  },
  {
   "cell_type": "markdown",
   "metadata": {
    "id": "vZLsG3Fx0Jx-"
   },
   "source": [
    "We see the linear regression and the regularized regression including the Lasso regression (LASSO) and elastic net (EN) seem to do a good job."
   ]
  },
  {
   "cell_type": "markdown",
   "metadata": {
    "id": "NJjQshzv0Jx-"
   },
   "source": [
    "#### Training and Test error"
   ]
  },
  {
   "cell_type": "code",
   "execution_count": 96,
   "metadata": {
    "colab": {
     "base_uri": "https://localhost:8080/",
     "height": 540
    },
    "executionInfo": {
     "elapsed": 664,
     "status": "ok",
     "timestamp": 1636902231910,
     "user": {
      "displayName": "D OK",
      "photoUrl": "https://lh3.googleusercontent.com/a/default-user=s64",
      "userId": "10267117973942008095"
     },
     "user_tz": -60
    },
    "id": "GGdE23-M0Jx-",
    "outputId": "6a79c1e0-b176-44c8-f1e9-e80450358306"
   },
   "outputs": [
    {
     "data": {
      "image/png": "[encoded data removed]",
      "text/plain": [
       "<Figure size 1080x576 with 1 Axes>"
      ]
     },
     "metadata": {
      "needs_background": "light"
     },
     "output_type": "display_data"
    }
   ],
   "source": [
    "# compare algorithms\n",
    "fig = pyplot.figure()\n",
    "\n",
    "ind = np.arange(len(names))  # the x locations for the groups\n",
    "width = 0.35  # the width of the bars\n",
    "\n",
    "fig.suptitle('Algorithm Comparison')\n",
    "ax = fig.add_subplot(111)\n",
    "pyplot.bar(ind - width/2, train_results,  width=width, label='Train Error')\n",
    "pyplot.bar(ind + width/2, test_results, width=width, label='Test Error')\n",
    "fig.set_size_inches(15,8)\n",
    "pyplot.legend()\n",
    "ax.set_xticks(ind)\n",
    "ax.set_xticklabels(names)\n",
    "pyplot.show()"
   ]
  },
  {
   "cell_type": "markdown",
   "metadata": {
    "id": "1gSQ5bIW0Jx_"
   },
   "source": [
    "Looking at the training and test error, we still see a better performance of the linear models. Some of the algorithms, such as the decision tree regressor (CART) overfit on\n",
    "the training data and produced very high error on the test set and these models\n",
    "should be avoided. Ensemble models, such as gradient boosting regression (GBR) and\n",
    "random forest regression (RFR) have low bias but high variance. "
   ]
  },
  {
   "cell_type": "markdown",
   "metadata": {
    "id": "JTjnbbg80JyA"
   },
   "source": [
    "Looking at the chart above, we supervised-regression models such as Linear Regression (LR) and Lasso Regression (LASSO) did OK. "
   ]
  },
  {
   "cell_type": "markdown",
   "metadata": {},
   "source": [
    "# COURSEWORK HERE \n",
    "Compare these Models with Tensor Flow Multilayer Neural Networks"
   ]
  },
  {
   "cell_type": "code",
   "execution_count": 92,
   "metadata": {},
   "outputs": [],
   "source": [
    "from tensorflow.keras import Sequential\n",
    "from tensorflow.keras.layers import Dense, Input, Flatten, Dropout, BatchNormalization\n",
    "from itertools import product"
   ]
  },
  {
   "cell_type": "code",
   "execution_count": 141,
   "metadata": {},
   "outputs": [
    {
     "name": "stdout",
     "output_type": "stream",
     "text": [
      "58/58 [==============================] - 1s 4ms/step - loss: 0.0017 - mse: 0.0017\n",
      "58/58 [==============================] - 0s 3ms/step - loss: 0.0012 - mse: 0.0012 \n",
      "15/15 [==============================] - 0s 2ms/step - loss: 0.0023 - mse: 0.0023\n",
      "58/58 [==============================] - 0s 3ms/step - loss: 0.0036 - mse: 0.0036\n",
      "58/58 [==============================] - 0s 3ms/step - loss: 0.0030 - mse: 0.0030\n",
      "15/15 [==============================] - 0s 4ms/step - loss: 0.0047 - mse: 0.0047\n",
      "58/58 [==============================] - 1s 4ms/step - loss: 0.0100 - mse: 0.0100\n",
      "58/58 [==============================] - 0s 4ms/step - loss: 0.0100 - mse: 0.0100\n",
      "15/15 [==============================] - 0s 2ms/step - loss: 0.0100 - mse: 0.0100\n",
      "58/58 [==============================] - 0s 3ms/step - loss: 0.0038 - mse: 0.0038\n",
      "58/58 [==============================] - 0s 3ms/step - loss: 0.0033 - mse: 0.0033\n",
      "15/15 [==============================] - 0s 2ms/step - loss: 0.0051 - mse: 0.0051\n",
      "58/58 [==============================] - 0s 3ms/step - loss: 0.0026 - mse: 0.0026\n",
      "58/58 [==============================] - 0s 3ms/step - loss: 0.0018 - mse: 0.0018\n",
      "15/15 [==============================] - 0s 3ms/step - loss: 0.0032 - mse: 0.0032\n",
      "58/58 [==============================] - 1s 4ms/step - loss: 0.0021 - mse: 0.0021\n",
      "58/58 [==============================] - 0s 2ms/step - loss: 0.0018 - mse: 0.0018\n",
      "15/15 [==============================] - 0s 5ms/step - loss: 0.0028 - mse: 0.0028\n",
      "58/58 [==============================] - 1s 5ms/step - loss: 0.0011 - mse: 0.0011\n",
      "58/58 [==============================] - 0s 4ms/step - loss: 0.0011 - mse: 0.0011\n",
      "15/15 [==============================] - 0s 2ms/step - loss: 0.0016 - mse: 0.0016\n",
      "58/58 [==============================] - 1s 5ms/step - loss: 0.0020 - mse: 0.0020\n",
      "58/58 [==============================] - 0s 3ms/step - loss: 0.0017 - mse: 0.0017\n",
      "15/15 [==============================] - 0s 2ms/step - loss: 0.0026 - mse: 0.0026\n",
      "58/58 [==============================] - 1s 4ms/step - loss: 0.0032 - mse: 0.0032\n",
      "58/58 [==============================] - 0s 4ms/step - loss: 0.0022 - mse: 0.0022\n",
      "15/15 [==============================] - 0s 2ms/step - loss: 0.0038 - mse: 0.0038\n",
      "58/58 [==============================] - 0s 3ms/step - loss: 0.0013 - mse: 0.0013\n",
      "58/58 [==============================] - 0s 4ms/step - loss: 0.0011 - mse: 0.0011\n",
      "15/15 [==============================] - 0s 6ms/step - loss: 0.0019 - mse: 0.0019\n",
      "58/58 [==============================] - 1s 4ms/step - loss: 9.0165e-04 - mse: 9.0165e-04\n",
      "58/58 [==============================] - 0s 3ms/step - loss: 9.0165e-04 - mse: 9.0165e-04\n",
      "15/15 [==============================] - 0s 12ms/step - loss: 0.0015 - mse: 0.0015\n",
      "58/58 [==============================] - 1s 3ms/step - loss: 0.0014 - mse: 0.0014\n",
      "58/58 [==============================] - 0s 3ms/step - loss: 0.0012 - mse: 0.0012\n",
      "15/15 [==============================] - 0s 3ms/step - loss: 0.0020 - mse: 0.0020\n",
      "58/58 [==============================] - 1s 5ms/step - loss: 0.0024 - mse: 0.0024\n",
      "58/58 [==============================] - 0s 2ms/step - loss: 0.0012 - mse: 0.0012   \n",
      "15/15 [==============================] - 0s 5ms/step - loss: 0.0023 - mse: 0.0023\n",
      "58/58 [==============================] - 1s 5ms/step - loss: 0.0025 - mse: 0.0025\n",
      "58/58 [==============================] - 0s 2ms/step - loss: 0.0018 - mse: 0.0018\n",
      "15/15 [==============================] - 0s 8ms/step - loss: 0.0029 - mse: 0.0029\n",
      "58/58 [==============================] - 1s 4ms/step - loss: 0.0100 - mse: 0.0100\n",
      "58/58 [==============================] - 0s 5ms/step - loss: 0.0100 - mse: 0.0100\n",
      "15/15 [==============================] - 0s 3ms/step - loss: 0.0100 - mse: 0.0100\n",
      "58/58 [==============================] - 1s 4ms/step - loss: 0.0033 - mse: 0.0033\n",
      "58/58 [==============================] - 0s 2ms/step - loss: 0.0024 - mse: 0.0024\n",
      "15/15 [==============================] - 0s 2ms/step - loss: 0.0035 - mse: 0.0035\n",
      "58/58 [==============================] - 1s 3ms/step - loss: 0.0020 - mse: 0.0020\n",
      "58/58 [==============================] - 0s 2ms/step - loss: 9.8734e-04 - mse: 9.8734e-04\n",
      "15/15 [==============================] - 0s 2ms/step - loss: 0.0018 - mse: 0.0018\n",
      "58/58 [==============================] - 1s 3ms/step - loss: 0.0014 - mse: 0.0014\n",
      "58/58 [==============================] - 0s 3ms/step - loss: 9.7114e-04 - mse: 9.7114e-04\n",
      "15/15 [==============================] - 0s 3ms/step - loss: 0.0017 - mse: 0.0017\n",
      "58/58 [==============================] - 1s 3ms/step - loss: 0.0011 - mse: 0.0011  \n",
      "58/58 [==============================] - 0s 3ms/step - loss: 0.0011 - mse: 0.0011\n",
      "15/15 [==============================] - 0s 3ms/step - loss: 0.0016 - mse: 0.0016\n",
      "58/58 [==============================] - 1s 4ms/step - loss: 0.0013 - mse: 0.0013\n",
      "58/58 [==============================] - 0s 2ms/step - loss: 9.5126e-04 - mse: 9.5126e-04\n",
      "15/15 [==============================] - 0s 2ms/step - loss: 0.0017 - mse: 0.0017\n",
      "58/58 [==============================] - 1s 5ms/step - loss: 0.0015 - mse: 0.0015\n",
      "58/58 [==============================] - 0s 3ms/step - loss: 9.0962e-04 - mse: 9.0962e-04\n",
      "15/15 [==============================] - 0s 2ms/step - loss: 0.0017 - mse: 0.0017\n",
      "58/58 [==============================] - 1s 4ms/step - loss: 0.0010 - mse: 0.0010\n",
      "58/58 [==============================] - 0s 4ms/step - loss: 8.7343e-04 - mse: 8.7343e-04\n",
      "15/15 [==============================] - 0s 2ms/step - loss: 0.0016 - mse: 0.0016\n",
      "58/58 [==============================] - 1s 3ms/step - loss: 9.0159e-04 - mse: 9.0159e-04\n",
      "58/58 [==============================] - 0s 2ms/step - loss: 9.0159e-04 - mse: 9.0159e-04\n",
      "15/15 [==============================] - 0s 2ms/step - loss: 0.0015 - mse: 0.0015\n",
      "58/58 [==============================] - 1s 4ms/step - loss: 9.8965e-04 - mse: 9.8965e-04\n",
      "58/58 [==============================] - 0s 3ms/step - loss: 8.6597e-04 - mse: 8.6597e-04\n",
      "15/15 [==============================] - 0s 2ms/step - loss: 0.0015 - mse: 0.0015\n",
      "58/58 [==============================] - 1s 4ms/step - loss: 0.0021 - mse: 0.0021\n",
      "58/58 [==============================] - 0s 2ms/step - loss: 0.0011 - mse: 0.0011   \n",
      "15/15 [==============================] - 0s 2ms/step - loss: 0.0021 - mse: 0.0021\n",
      "58/58 [==============================] - 1s 6ms/step - loss: 0.0028 - mse: 0.0028\n",
      "58/58 [==============================] - 0s 2ms/step - loss: 0.0016 - mse: 0.0016\n",
      "15/15 [==============================] - 0s 2ms/step - loss: 0.0027 - mse: 0.0027\n",
      "58/58 [==============================] - 1s 4ms/step - loss: 0.0100 - mse: 0.0100\n",
      "58/58 [==============================] - 0s 4ms/step - loss: 0.0100 - mse: 0.0100\n",
      "15/15 [==============================] - 0s 4ms/step - loss: 0.0100 - mse: 0.0100\n",
      "58/58 [==============================] - 1s 5ms/step - loss: 0.0020 - mse: 0.0020\n",
      "58/58 [==============================] - 0s 4ms/step - loss: 0.0013 - mse: 0.0013\n",
      "15/15 [==============================] - 0s 2ms/step - loss: 0.0022 - mse: 0.0022\n",
      "58/58 [==============================] - 1s 3ms/step - loss: 0.0019 - mse: 0.0019\n",
      "58/58 [==============================] - 0s 3ms/step - loss: 9.1345e-04 - mse: 9.1345e-04\n",
      "15/15 [==============================] - 0s 5ms/step - loss: 0.0016 - mse: 0.0016\n",
      "58/58 [==============================] - 1s 4ms/step - loss: 0.0012 - mse: 0.0012\n",
      "58/58 [==============================] - 0s 2ms/step - loss: 9.0951e-04 - mse: 9.0951e-04\n",
      "15/15 [==============================] - 0s 2ms/step - loss: 0.0016 - mse: 0.0016\n",
      "58/58 [==============================] - 1s 4ms/step - loss: 0.0011 - mse: 0.0011 \n",
      "58/58 [==============================] - 0s 3ms/step - loss: 0.0011 - mse: 0.0011\n",
      "15/15 [==============================] - 0s 3ms/step - loss: 0.0016 - mse: 0.0016\n",
      "58/58 [==============================] - 1s 4ms/step - loss: 0.0011 - mse: 0.0011\n",
      "58/58 [==============================] - 0s 2ms/step - loss: 8.8640e-04 - mse: 8.8640e-04\n",
      "15/15 [==============================] - 0s 2ms/step - loss: 0.0016 - mse: 0.0016\n",
      "58/58 [==============================] - 1s 4ms/step - loss: 0.0012 - mse: 0.0012\n",
      "58/58 [==============================] - 0s 2ms/step - loss: 8.9250e-04 - mse: 8.9250e-04\n",
      "15/15 [==============================] - 0s 3ms/step - loss: 0.0016 - mse: 0.0016\n",
      "58/58 [==============================] - 1s 4ms/step - loss: 9.5132e-04 - mse: 9.5132e-04\n",
      "58/58 [==============================] - 0s 3ms/step - loss: 8.5696e-04 - mse: 8.5696e-04\n",
      "15/15 [==============================] - 0s 3ms/step - loss: 0.0015 - mse: 0.0015\n",
      "58/58 [==============================] - 1s 3ms/step - loss: 9.0159e-04 - mse: 9.0159e-04\n",
      "58/58 [==============================] - 0s 4ms/step - loss: 9.0159e-04 - mse: 9.0159e-04\n",
      "15/15 [==============================] - 0s 6ms/step - loss: 0.0015 - mse: 0.0015\n",
      "58/58 [==============================] - 1s 4ms/step - loss: 9.6418e-04 - mse: 9.6418e-04\n",
      "58/58 [==============================] - 0s 4ms/step - loss: 8.5264e-04 - mse: 8.5264e-04\n",
      "15/15 [==============================] - 0s 2ms/step - loss: 0.0015 - mse: 0.0015\n"
     ]
    }
   ],
   "source": [
    "res_list = []\n",
    "\n",
    "for lrs, nrn, act_func in product([1,2,3], [10, 50, 100], ['relu', 'tanh', 'softmax', None]): # act. function and init. from p. 334 Geron\n",
    "    #for nrn in :\n",
    "    model = Sequential()\n",
    "    model.add(Input(shape=11,))\n",
    "    for i in range(0,lrs):\n",
    "        if act_func == 'relu':\n",
    "            model.add(Dense(nrn, activation=act_func, kernel_initializer=\"he_normal\"))\n",
    "        elif act_func == 'selu':\n",
    "            model.add(Dense(nrn, activation=act_func, kernel_initializer=\"lecun_normal\"))\n",
    "        else:\n",
    "            model.add(Dense(nrn, activation=act_func, kernel_initializer=\"glorot_normal\"))\n",
    "    model.compile(optimizer='adam',\n",
    "            loss='mse',\n",
    "            metrics=['mse'])\n",
    "    model.fit(X_train, Y_train)\n",
    "    \n",
    "    res_list.append([act_func, lrs, nrn, \\\n",
    "        model.evaluate(X_train, Y_train)[0], \\\n",
    "        model.evaluate(X_test, Y_test)[0]])\n",
    "\n",
    "resutls_df = pd.DataFrame(res_list, columns=['Activation', 'Layers', 'Neurons', 'MSE Train', 'MSE Test'])"
   ]
  },
  {
   "cell_type": "code",
   "execution_count": 160,
   "metadata": {},
   "outputs": [
    {
     "data": {
      "text/html": [
       "<div>\n",
       "<style scoped>\n",
       "    .dataframe tbody tr th:only-of-type {\n",
       "        vertical-align: middle;\n",
       "    }\n",
       "\n",
       "    .dataframe tbody tr th {\n",
       "        vertical-align: top;\n",
       "    }\n",
       "\n",
       "    .dataframe thead th {\n",
       "        text-align: right;\n",
       "    }\n",
       "</style>\n",
       "<table border=\"1\" class=\"dataframe\">\n",
       "  <thead>\n",
       "    <tr style=\"text-align: right;\">\n",
       "      <th></th>\n",
       "      <th>Activation</th>\n",
       "      <th>Layers</th>\n",
       "      <th>Neurons</th>\n",
       "      <th>MSE Train</th>\n",
       "      <th>MSE Test</th>\n",
       "    </tr>\n",
       "  </thead>\n",
       "  <tbody>\n",
       "    <tr>\n",
       "      <th>34</th>\n",
       "      <td>softmax</td>\n",
       "      <td>3</td>\n",
       "      <td>100</td>\n",
       "      <td>0.000902</td>\n",
       "      <td>0.001499</td>\n",
       "    </tr>\n",
       "    <tr>\n",
       "      <th>22</th>\n",
       "      <td>softmax</td>\n",
       "      <td>2</td>\n",
       "      <td>100</td>\n",
       "      <td>0.000902</td>\n",
       "      <td>0.001499</td>\n",
       "    </tr>\n",
       "    <tr>\n",
       "      <th>10</th>\n",
       "      <td>softmax</td>\n",
       "      <td>1</td>\n",
       "      <td>100</td>\n",
       "      <td>0.000902</td>\n",
       "      <td>0.001499</td>\n",
       "    </tr>\n",
       "    <tr>\n",
       "      <th>35</th>\n",
       "      <td>None</td>\n",
       "      <td>3</td>\n",
       "      <td>100</td>\n",
       "      <td>0.000853</td>\n",
       "      <td>0.001538</td>\n",
       "    </tr>\n",
       "    <tr>\n",
       "      <th>23</th>\n",
       "      <td>None</td>\n",
       "      <td>2</td>\n",
       "      <td>100</td>\n",
       "      <td>0.000866</td>\n",
       "      <td>0.001539</td>\n",
       "    </tr>\n",
       "    <tr>\n",
       "      <th>33</th>\n",
       "      <td>tanh</td>\n",
       "      <td>3</td>\n",
       "      <td>100</td>\n",
       "      <td>0.000857</td>\n",
       "      <td>0.001548</td>\n",
       "    </tr>\n",
       "    <tr>\n",
       "      <th>32</th>\n",
       "      <td>relu</td>\n",
       "      <td>3</td>\n",
       "      <td>100</td>\n",
       "      <td>0.000893</td>\n",
       "      <td>0.001558</td>\n",
       "    </tr>\n",
       "    <tr>\n",
       "      <th>21</th>\n",
       "      <td>tanh</td>\n",
       "      <td>2</td>\n",
       "      <td>100</td>\n",
       "      <td>0.000873</td>\n",
       "      <td>0.001564</td>\n",
       "    </tr>\n",
       "    <tr>\n",
       "      <th>29</th>\n",
       "      <td>tanh</td>\n",
       "      <td>3</td>\n",
       "      <td>50</td>\n",
       "      <td>0.000910</td>\n",
       "      <td>0.001596</td>\n",
       "    </tr>\n",
       "    <tr>\n",
       "      <th>28</th>\n",
       "      <td>relu</td>\n",
       "      <td>3</td>\n",
       "      <td>50</td>\n",
       "      <td>0.000913</td>\n",
       "      <td>0.001604</td>\n",
       "    </tr>\n",
       "  </tbody>\n",
       "</table>\n",
       "</div>"
      ],
      "text/plain": [
       "   Activation  Layers  Neurons  MSE Train  MSE Test\n",
       "34    softmax       3      100   0.000902  0.001499\n",
       "22    softmax       2      100   0.000902  0.001499\n",
       "10    softmax       1      100   0.000902  0.001499\n",
       "35       None       3      100   0.000853  0.001538\n",
       "23       None       2      100   0.000866  0.001539\n",
       "33       tanh       3      100   0.000857  0.001548\n",
       "32       relu       3      100   0.000893  0.001558\n",
       "21       tanh       2      100   0.000873  0.001564\n",
       "29       tanh       3       50   0.000910  0.001596\n",
       "28       relu       3       50   0.000913  0.001604"
      ]
     },
     "execution_count": 160,
     "metadata": {},
     "output_type": "execute_result"
    }
   ],
   "source": [
    "# sort models woth the best MSE on testing sample\n",
    "resutls_df.sort_values('MSE Test', ascending = True).head(10)"
   ]
  },
  {
   "cell_type": "markdown",
   "metadata": {},
   "source": [
    "At this point we can take three best models and compare them with the SKlearn models:\n",
    "- Softmax-Geron Init., 1 layers, 100 neurons\n",
    "- Softmax-Geron Init., 2 layers, 100 neurons\n",
    "- Softmax-Geron Init., 3 layers, 100 neurons"
   ]
  },
  {
   "cell_type": "markdown",
   "metadata": {
    "id": "NJjQshzv0Jx-"
   },
   "source": [
    "#### Training and Test error"
   ]
  },
  {
   "cell_type": "code",
   "execution_count": 143,
   "metadata": {},
   "outputs": [],
   "source": [
    "names_ann, train_ann, test_ann = [], [], []\n",
    "\n",
    "for i in ['SMx 1 100', 'SMx 2 100', 'SMx 3 100']:\n",
    "    names_ann.append(i)\n",
    "\n",
    "for i in [10, 22, 34]:\n",
    "    train_ann.append(resutls_df.iloc[i,3])\n",
    "    test_ann.append(resutls_df.iloc[i,4])"
   ]
  },
  {
   "cell_type": "code",
   "execution_count": 152,
   "metadata": {},
   "outputs": [],
   "source": [
    "for i, j, k in zip(names_ann, train_ann, test_ann):\n",
    "    names.append(i)\n",
    "    train_results.append(j)\n",
    "    test_results.append(k)"
   ]
  },
  {
   "cell_type": "code",
   "execution_count": 158,
   "metadata": {
    "colab": {
     "base_uri": "https://localhost:8080/",
     "height": 540
    },
    "executionInfo": {
     "elapsed": 664,
     "status": "ok",
     "timestamp": 1636902231910,
     "user": {
      "displayName": "D OK",
      "photoUrl": "https://lh3.googleusercontent.com/a/default-user=s64",
      "userId": "10267117973942008095"
     },
     "user_tz": -60
    },
    "id": "GGdE23-M0Jx-",
    "outputId": "6a79c1e0-b176-44c8-f1e9-e80450358306"
   },
   "outputs": [
    {
     "data": {
      "image/png": "[encoded data removed]",
      "text/plain": [
       "<Figure size 1080x576 with 1 Axes>"
      ]
     },
     "metadata": {
      "needs_background": "light"
     },
     "output_type": "display_data"
    }
   ],
   "source": [
    "# compare algorithms\n",
    "fig = pyplot.figure()\n",
    "\n",
    "ind = np.arange(len(names))  # the x locations for the groups\n",
    "width = 0.35  # the width of the bars\n",
    "\n",
    "fig.suptitle('Algorithm Comparison')\n",
    "ax = fig.add_subplot(111)\n",
    "pyplot.bar(ind - width/2, train_results,  width=width, label='Train Error')\n",
    "pyplot.bar(ind + width/2, test_results, width=width, label='Test Error')\n",
    "pyplot.axhline(y=min(test_results),linewidth=1, color='r')\n",
    "fig.set_size_inches(15,8)\n",
    "pyplot.legend()\n",
    "ax.set_xticks(ind)\n",
    "ax.set_xticklabels(names)\n",
    "pyplot.show()"
   ]
  },
  {
   "cell_type": "markdown",
   "metadata": {},
   "source": [
    "On the barchart we can see that the ANNs outperform every SKlearn method. LASSO regression is a close contender, but the ANNs are better by a narrow margin, as can be seen from the graph. Even though training error of the ANNs is higher than that of every other SKlearn method."
   ]
  }
 ],
 "metadata": {
  "colab": {
   "collapsed_sections": [
    "Isk644Vi0Jx8"
   ],
   "name": "DOK_StockPricePrediction.ipynb",
   "provenance": []
  },
  "kernelspec": {
   "display_name": "Python 3 (ipykernel)",
   "language": "python",
   "name": "python3"
  },
  "language_info": {
   "codemirror_mode": {
    "name": "ipython",
    "version": 3
   },
   "file_extension": ".py",
   "mimetype": "text/x-python",
   "name": "python",
   "nbconvert_exporter": "python",
   "pygments_lexer": "ipython3",
   "version": "3.8.12"
  }
 },
 "nbformat": 4,
 "nbformat_minor": 1
}
