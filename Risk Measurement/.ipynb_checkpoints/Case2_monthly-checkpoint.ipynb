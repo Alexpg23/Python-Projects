{
 "cells": [
  {
   "cell_type": "code",
   "execution_count": 1,
   "id": "c3416568",
   "metadata": {},
   "outputs": [],
   "source": [
    "import pandas as pd\n",
    "import numpy as np\n",
    "from pandas.tseries.offsets import MonthEnd\n",
    "import matplotlib.pyplot as plt\n",
    "import scipy.stats as sp\n",
    "from arch import arch_model\n",
    "from arch.univariate import ZeroMean,GARCH,Normal,EWMAVariance\n",
    "import matplotlib.ticker as mtick\n",
    "import warnings\n",
    "warnings.filterwarnings(\"ignore\")"
   ]
  },
  {
   "cell_type": "code",
   "execution_count": 2,
   "id": "b6b6d99d",
   "metadata": {},
   "outputs": [],
   "source": [
    "df=pd.read_excel(\"data.xlsx\" ,index_col=0, parse_dates=True)"
   ]
  },
  {
   "cell_type": "code",
   "execution_count": 3,
   "id": "f77fa115",
   "metadata": {},
   "outputs": [
    {
     "data": {
      "text/html": [
       "<div>\n",
       "<style scoped>\n",
       "    .dataframe tbody tr th:only-of-type {\n",
       "        vertical-align: middle;\n",
       "    }\n",
       "\n",
       "    .dataframe tbody tr th {\n",
       "        vertical-align: top;\n",
       "    }\n",
       "\n",
       "    .dataframe thead th {\n",
       "        text-align: right;\n",
       "    }\n",
       "</style>\n",
       "<table border=\"1\" class=\"dataframe\">\n",
       "  <thead>\n",
       "    <tr style=\"text-align: right;\">\n",
       "      <th></th>\n",
       "      <th>Equities</th>\n",
       "      <th>Tsies</th>\n",
       "      <th>CorpIG</th>\n",
       "      <th>AbsReturn</th>\n",
       "      <th>Gold</th>\n",
       "      <th>Oil</th>\n",
       "    </tr>\n",
       "    <tr>\n",
       "      <th>date</th>\n",
       "      <th></th>\n",
       "      <th></th>\n",
       "      <th></th>\n",
       "      <th></th>\n",
       "      <th></th>\n",
       "      <th></th>\n",
       "    </tr>\n",
       "  </thead>\n",
       "  <tbody>\n",
       "    <tr>\n",
       "      <th>1986-10-31</th>\n",
       "      <td>100.000000</td>\n",
       "      <td>100.000000</td>\n",
       "      <td>100.000000</td>\n",
       "      <td>100.000000</td>\n",
       "      <td>100.000000</td>\n",
       "      <td>100.000000</td>\n",
       "    </tr>\n",
       "    <tr>\n",
       "      <th>1986-11-03</th>\n",
       "      <td>100.621000</td>\n",
       "      <td>100.350693</td>\n",
       "      <td>100.169884</td>\n",
       "      <td>99.888000</td>\n",
       "      <td>101.296758</td>\n",
       "      <td>96.393443</td>\n",
       "    </tr>\n",
       "    <tr>\n",
       "      <th>1986-11-04</th>\n",
       "      <td>100.853435</td>\n",
       "      <td>100.210050</td>\n",
       "      <td>100.336838</td>\n",
       "      <td>100.069796</td>\n",
       "      <td>101.745636</td>\n",
       "      <td>98.688525</td>\n",
       "    </tr>\n",
       "    <tr>\n",
       "      <th>1986-11-05</th>\n",
       "      <td>101.086406</td>\n",
       "      <td>100.703160</td>\n",
       "      <td>100.503793</td>\n",
       "      <td>100.616177</td>\n",
       "      <td>101.059850</td>\n",
       "      <td>97.901639</td>\n",
       "    </tr>\n",
       "    <tr>\n",
       "      <th>1986-11-06</th>\n",
       "      <td>100.865027</td>\n",
       "      <td>100.138867</td>\n",
       "      <td>100.480361</td>\n",
       "      <td>100.714781</td>\n",
       "      <td>101.882793</td>\n",
       "      <td>98.885246</td>\n",
       "    </tr>\n",
       "    <tr>\n",
       "      <th>...</th>\n",
       "      <td>...</td>\n",
       "      <td>...</td>\n",
       "      <td>...</td>\n",
       "      <td>...</td>\n",
       "      <td>...</td>\n",
       "      <td>...</td>\n",
       "    </tr>\n",
       "    <tr>\n",
       "      <th>2021-10-25</th>\n",
       "      <td>4081.420245</td>\n",
       "      <td>152.128638</td>\n",
       "      <td>1029.079406</td>\n",
       "      <td>1609.593575</td>\n",
       "      <td>450.187032</td>\n",
       "      <td>555.016393</td>\n",
       "    </tr>\n",
       "    <tr>\n",
       "      <th>2021-10-26</th>\n",
       "      <td>4083.052813</td>\n",
       "      <td>152.268491</td>\n",
       "      <td>1031.343546</td>\n",
       "      <td>1600.354508</td>\n",
       "      <td>445.274314</td>\n",
       "      <td>561.573770</td>\n",
       "    </tr>\n",
       "    <tr>\n",
       "      <th>2021-10-27</th>\n",
       "      <td>4052.021612</td>\n",
       "      <td>153.534099</td>\n",
       "      <td>1038.844791</td>\n",
       "      <td>1589.936200</td>\n",
       "      <td>447.693267</td>\n",
       "      <td>542.032787</td>\n",
       "    </tr>\n",
       "    <tr>\n",
       "      <th>2021-10-28</th>\n",
       "      <td>4098.214658</td>\n",
       "      <td>153.109371</td>\n",
       "      <td>1035.751735</td>\n",
       "      <td>1579.363124</td>\n",
       "      <td>449.750623</td>\n",
       "      <td>542.819672</td>\n",
       "    </tr>\n",
       "    <tr>\n",
       "      <th>2021-10-29</th>\n",
       "      <td>4107.230731</td>\n",
       "      <td>153.392027</td>\n",
       "      <td>1035.775168</td>\n",
       "      <td>1567.202028</td>\n",
       "      <td>441.184539</td>\n",
       "      <td>547.540984</td>\n",
       "    </tr>\n",
       "  </tbody>\n",
       "</table>\n",
       "<p>8821 rows × 6 columns</p>\n",
       "</div>"
      ],
      "text/plain": [
       "               Equities       Tsies       CorpIG    AbsReturn        Gold  \\\n",
       "date                                                                        \n",
       "1986-10-31   100.000000  100.000000   100.000000   100.000000  100.000000   \n",
       "1986-11-03   100.621000  100.350693   100.169884    99.888000  101.296758   \n",
       "1986-11-04   100.853435  100.210050   100.336838   100.069796  101.745636   \n",
       "1986-11-05   101.086406  100.703160   100.503793   100.616177  101.059850   \n",
       "1986-11-06   100.865027  100.138867   100.480361   100.714781  101.882793   \n",
       "...                 ...         ...          ...          ...         ...   \n",
       "2021-10-25  4081.420245  152.128638  1029.079406  1609.593575  450.187032   \n",
       "2021-10-26  4083.052813  152.268491  1031.343546  1600.354508  445.274314   \n",
       "2021-10-27  4052.021612  153.534099  1038.844791  1589.936200  447.693267   \n",
       "2021-10-28  4098.214658  153.109371  1035.751735  1579.363124  449.750623   \n",
       "2021-10-29  4107.230731  153.392027  1035.775168  1567.202028  441.184539   \n",
       "\n",
       "                   Oil  \n",
       "date                    \n",
       "1986-10-31  100.000000  \n",
       "1986-11-03   96.393443  \n",
       "1986-11-04   98.688525  \n",
       "1986-11-05   97.901639  \n",
       "1986-11-06   98.885246  \n",
       "...                ...  \n",
       "2021-10-25  555.016393  \n",
       "2021-10-26  561.573770  \n",
       "2021-10-27  542.032787  \n",
       "2021-10-28  542.819672  \n",
       "2021-10-29  547.540984  \n",
       "\n",
       "[8821 rows x 6 columns]"
      ]
     },
     "execution_count": 3,
     "metadata": {},
     "output_type": "execute_result"
    }
   ],
   "source": [
    "df"
   ]
  },
  {
   "cell_type": "markdown",
   "id": "92378d0a",
   "metadata": {},
   "source": [
    "# Creating Returns and Analysing results"
   ]
  },
  {
   "cell_type": "code",
   "execution_count": 4,
   "id": "a4fe1ebb",
   "metadata": {},
   "outputs": [
    {
     "data": {
      "text/html": [
       "<div>\n",
       "<style scoped>\n",
       "    .dataframe tbody tr th:only-of-type {\n",
       "        vertical-align: middle;\n",
       "    }\n",
       "\n",
       "    .dataframe tbody tr th {\n",
       "        vertical-align: top;\n",
       "    }\n",
       "\n",
       "    .dataframe thead th {\n",
       "        text-align: right;\n",
       "    }\n",
       "</style>\n",
       "<table border=\"1\" class=\"dataframe\">\n",
       "  <thead>\n",
       "    <tr style=\"text-align: right;\">\n",
       "      <th></th>\n",
       "      <th>Equities</th>\n",
       "      <th>Tsies</th>\n",
       "      <th>CorpIG</th>\n",
       "      <th>AbsReturn</th>\n",
       "      <th>Gold</th>\n",
       "      <th>Oil</th>\n",
       "    </tr>\n",
       "    <tr>\n",
       "      <th>date</th>\n",
       "      <th></th>\n",
       "      <th></th>\n",
       "      <th></th>\n",
       "      <th></th>\n",
       "      <th></th>\n",
       "      <th></th>\n",
       "    </tr>\n",
       "  </thead>\n",
       "  <tbody>\n",
       "    <tr>\n",
       "      <th>1986-11-03</th>\n",
       "      <td>0.00621</td>\n",
       "      <td>0.003507</td>\n",
       "      <td>0.001699</td>\n",
       "      <td>-0.00112</td>\n",
       "      <td>0.012968</td>\n",
       "      <td>-0.036066</td>\n",
       "    </tr>\n",
       "    <tr>\n",
       "      <th>1986-11-04</th>\n",
       "      <td>0.00231</td>\n",
       "      <td>-0.001402</td>\n",
       "      <td>0.001667</td>\n",
       "      <td>0.00182</td>\n",
       "      <td>0.004431</td>\n",
       "      <td>0.023810</td>\n",
       "    </tr>\n",
       "    <tr>\n",
       "      <th>1986-11-05</th>\n",
       "      <td>0.00231</td>\n",
       "      <td>0.004921</td>\n",
       "      <td>0.001664</td>\n",
       "      <td>0.00546</td>\n",
       "      <td>-0.006740</td>\n",
       "      <td>-0.007973</td>\n",
       "    </tr>\n",
       "    <tr>\n",
       "      <th>1986-11-06</th>\n",
       "      <td>-0.00219</td>\n",
       "      <td>-0.005604</td>\n",
       "      <td>-0.000233</td>\n",
       "      <td>0.00098</td>\n",
       "      <td>0.008143</td>\n",
       "      <td>0.010047</td>\n",
       "    </tr>\n",
       "    <tr>\n",
       "      <th>1986-11-07</th>\n",
       "      <td>0.00001</td>\n",
       "      <td>-0.005583</td>\n",
       "      <td>-0.002303</td>\n",
       "      <td>0.00252</td>\n",
       "      <td>-0.000857</td>\n",
       "      <td>0.004642</td>\n",
       "    </tr>\n",
       "    <tr>\n",
       "      <th>...</th>\n",
       "      <td>...</td>\n",
       "      <td>...</td>\n",
       "      <td>...</td>\n",
       "      <td>...</td>\n",
       "      <td>...</td>\n",
       "      <td>...</td>\n",
       "    </tr>\n",
       "    <tr>\n",
       "      <th>2021-10-25</th>\n",
       "      <td>0.00580</td>\n",
       "      <td>0.001838</td>\n",
       "      <td>0.001437</td>\n",
       "      <td>-0.00630</td>\n",
       "      <td>-0.001659</td>\n",
       "      <td>0.001301</td>\n",
       "    </tr>\n",
       "    <tr>\n",
       "      <th>2021-10-26</th>\n",
       "      <td>0.00040</td>\n",
       "      <td>0.000919</td>\n",
       "      <td>0.002200</td>\n",
       "      <td>-0.00574</td>\n",
       "      <td>-0.010913</td>\n",
       "      <td>0.011815</td>\n",
       "    </tr>\n",
       "    <tr>\n",
       "      <th>2021-10-27</th>\n",
       "      <td>-0.00760</td>\n",
       "      <td>0.008312</td>\n",
       "      <td>0.007273</td>\n",
       "      <td>-0.00651</td>\n",
       "      <td>0.005432</td>\n",
       "      <td>-0.034797</td>\n",
       "    </tr>\n",
       "    <tr>\n",
       "      <th>2021-10-28</th>\n",
       "      <td>0.01140</td>\n",
       "      <td>-0.002766</td>\n",
       "      <td>-0.002977</td>\n",
       "      <td>-0.00665</td>\n",
       "      <td>0.004595</td>\n",
       "      <td>0.001452</td>\n",
       "    </tr>\n",
       "    <tr>\n",
       "      <th>2021-10-29</th>\n",
       "      <td>0.00220</td>\n",
       "      <td>0.001846</td>\n",
       "      <td>0.000023</td>\n",
       "      <td>-0.00770</td>\n",
       "      <td>-0.019046</td>\n",
       "      <td>0.008698</td>\n",
       "    </tr>\n",
       "  </tbody>\n",
       "</table>\n",
       "<p>8820 rows × 6 columns</p>\n",
       "</div>"
      ],
      "text/plain": [
       "            Equities     Tsies    CorpIG  AbsReturn      Gold       Oil\n",
       "date                                                                   \n",
       "1986-11-03   0.00621  0.003507  0.001699   -0.00112  0.012968 -0.036066\n",
       "1986-11-04   0.00231 -0.001402  0.001667    0.00182  0.004431  0.023810\n",
       "1986-11-05   0.00231  0.004921  0.001664    0.00546 -0.006740 -0.007973\n",
       "1986-11-06  -0.00219 -0.005604 -0.000233    0.00098  0.008143  0.010047\n",
       "1986-11-07   0.00001 -0.005583 -0.002303    0.00252 -0.000857  0.004642\n",
       "...              ...       ...       ...        ...       ...       ...\n",
       "2021-10-25   0.00580  0.001838  0.001437   -0.00630 -0.001659  0.001301\n",
       "2021-10-26   0.00040  0.000919  0.002200   -0.00574 -0.010913  0.011815\n",
       "2021-10-27  -0.00760  0.008312  0.007273   -0.00651  0.005432 -0.034797\n",
       "2021-10-28   0.01140 -0.002766 -0.002977   -0.00665  0.004595  0.001452\n",
       "2021-10-29   0.00220  0.001846  0.000023   -0.00770 -0.019046  0.008698\n",
       "\n",
       "[8820 rows x 6 columns]"
      ]
     },
     "execution_count": 4,
     "metadata": {},
     "output_type": "execute_result"
    }
   ],
   "source": [
    "df_d_ret=df/df.shift(1)-1\n",
    "df_d_ret.dropna(inplace=True)\n",
    "df_d_ret"
   ]
  },
  {
   "cell_type": "code",
   "execution_count": 5,
   "id": "f14d9930",
   "metadata": {},
   "outputs": [
    {
     "data": {
      "text/html": [
       "<div>\n",
       "<style scoped>\n",
       "    .dataframe tbody tr th:only-of-type {\n",
       "        vertical-align: middle;\n",
       "    }\n",
       "\n",
       "    .dataframe tbody tr th {\n",
       "        vertical-align: top;\n",
       "    }\n",
       "\n",
       "    .dataframe thead th {\n",
       "        text-align: right;\n",
       "    }\n",
       "</style>\n",
       "<table border=\"1\" class=\"dataframe\">\n",
       "  <thead>\n",
       "    <tr style=\"text-align: right;\">\n",
       "      <th></th>\n",
       "      <th>Equities</th>\n",
       "      <th>Tsies</th>\n",
       "      <th>CorpIG</th>\n",
       "      <th>AbsReturn</th>\n",
       "      <th>Gold</th>\n",
       "      <th>Oil</th>\n",
       "    </tr>\n",
       "    <tr>\n",
       "      <th>date</th>\n",
       "      <th></th>\n",
       "      <th></th>\n",
       "      <th></th>\n",
       "      <th></th>\n",
       "      <th></th>\n",
       "      <th></th>\n",
       "    </tr>\n",
       "  </thead>\n",
       "  <tbody>\n",
       "    <tr>\n",
       "      <th>1986-11-30</th>\n",
       "      <td>0.015783</td>\n",
       "      <td>0.013404</td>\n",
       "      <td>0.017311</td>\n",
       "      <td>0.015520</td>\n",
       "      <td>-0.028678</td>\n",
       "      <td>-0.016393</td>\n",
       "    </tr>\n",
       "    <tr>\n",
       "      <th>1986-12-31</th>\n",
       "      <td>-0.028032</td>\n",
       "      <td>-0.005662</td>\n",
       "      <td>0.011171</td>\n",
       "      <td>0.013714</td>\n",
       "      <td>-0.001926</td>\n",
       "      <td>0.195333</td>\n",
       "    </tr>\n",
       "    <tr>\n",
       "      <th>1987-01-31</th>\n",
       "      <td>0.128832</td>\n",
       "      <td>0.003491</td>\n",
       "      <td>0.015917</td>\n",
       "      <td>-0.022385</td>\n",
       "      <td>0.030225</td>\n",
       "      <td>0.044618</td>\n",
       "    </tr>\n",
       "    <tr>\n",
       "      <th>1987-02-28</th>\n",
       "      <td>0.048564</td>\n",
       "      <td>-0.000733</td>\n",
       "      <td>0.007259</td>\n",
       "      <td>-0.057454</td>\n",
       "      <td>0.013358</td>\n",
       "      <td>-0.121730</td>\n",
       "    </tr>\n",
       "    <tr>\n",
       "      <th>1987-03-31</th>\n",
       "      <td>0.020713</td>\n",
       "      <td>-0.022195</td>\n",
       "      <td>-0.005064</td>\n",
       "      <td>0.053161</td>\n",
       "      <td>0.037329</td>\n",
       "      <td>0.144073</td>\n",
       "    </tr>\n",
       "    <tr>\n",
       "      <th>...</th>\n",
       "      <td>...</td>\n",
       "      <td>...</td>\n",
       "      <td>...</td>\n",
       "      <td>...</td>\n",
       "      <td>...</td>\n",
       "      <td>...</td>\n",
       "    </tr>\n",
       "    <tr>\n",
       "      <th>2021-06-30</th>\n",
       "      <td>0.027363</td>\n",
       "      <td>0.012022</td>\n",
       "      <td>0.016835</td>\n",
       "      <td>-0.072918</td>\n",
       "      <td>-0.072002</td>\n",
       "      <td>0.108732</td>\n",
       "    </tr>\n",
       "    <tr>\n",
       "      <th>2021-07-31</th>\n",
       "      <td>0.012483</td>\n",
       "      <td>0.019682</td>\n",
       "      <td>0.012074</td>\n",
       "      <td>0.022422</td>\n",
       "      <td>0.035505</td>\n",
       "      <td>0.005577</td>\n",
       "    </tr>\n",
       "    <tr>\n",
       "      <th>2021-08-31</th>\n",
       "      <td>0.029175</td>\n",
       "      <td>-0.005652</td>\n",
       "      <td>-0.001959</td>\n",
       "      <td>-0.014198</td>\n",
       "      <td>-0.005970</td>\n",
       "      <td>-0.074395</td>\n",
       "    </tr>\n",
       "    <tr>\n",
       "      <th>2021-09-30</th>\n",
       "      <td>-0.043660</td>\n",
       "      <td>-0.020315</td>\n",
       "      <td>-0.010571</td>\n",
       "      <td>0.036912</td>\n",
       "      <td>-0.039700</td>\n",
       "      <td>0.099225</td>\n",
       "    </tr>\n",
       "    <tr>\n",
       "      <th>2021-10-31</th>\n",
       "      <td>0.066594</td>\n",
       "      <td>-0.002825</td>\n",
       "      <td>0.002407</td>\n",
       "      <td>-0.000948</td>\n",
       "      <td>0.015119</td>\n",
       "      <td>0.110077</td>\n",
       "    </tr>\n",
       "  </tbody>\n",
       "</table>\n",
       "<p>420 rows × 6 columns</p>\n",
       "</div>"
      ],
      "text/plain": [
       "            Equities     Tsies    CorpIG  AbsReturn      Gold       Oil\n",
       "date                                                                   \n",
       "1986-11-30  0.015783  0.013404  0.017311   0.015520 -0.028678 -0.016393\n",
       "1986-12-31 -0.028032 -0.005662  0.011171   0.013714 -0.001926  0.195333\n",
       "1987-01-31  0.128832  0.003491  0.015917  -0.022385  0.030225  0.044618\n",
       "1987-02-28  0.048564 -0.000733  0.007259  -0.057454  0.013358 -0.121730\n",
       "1987-03-31  0.020713 -0.022195 -0.005064   0.053161  0.037329  0.144073\n",
       "...              ...       ...       ...        ...       ...       ...\n",
       "2021-06-30  0.027363  0.012022  0.016835  -0.072918 -0.072002  0.108732\n",
       "2021-07-31  0.012483  0.019682  0.012074   0.022422  0.035505  0.005577\n",
       "2021-08-31  0.029175 -0.005652 -0.001959  -0.014198 -0.005970 -0.074395\n",
       "2021-09-30 -0.043660 -0.020315 -0.010571   0.036912 -0.039700  0.099225\n",
       "2021-10-31  0.066594 -0.002825  0.002407  -0.000948  0.015119  0.110077\n",
       "\n",
       "[420 rows x 6 columns]"
      ]
     },
     "execution_count": 5,
     "metadata": {},
     "output_type": "execute_result"
    }
   ],
   "source": [
    "df_d_ret_2=df_d_ret+1\n",
    "df_monthly_ret=df_d_ret_2.groupby(pd.Grouper(freq='M')).prod()-1\n",
    "df_monthly_ret"
   ]
  },
  {
   "cell_type": "code",
   "execution_count": 6,
   "id": "fd7d8194",
   "metadata": {},
   "outputs": [],
   "source": [
    "weights=pd.DataFrame(index=[\"weights\"],columns=df.columns,data=[[0.5,0.25,0.05,0.12,0.05,0.03]])"
   ]
  },
  {
   "cell_type": "code",
   "execution_count": 7,
   "id": "ea265082",
   "metadata": {},
   "outputs": [
    {
     "data": {
      "text/html": [
       "<div>\n",
       "<style scoped>\n",
       "    .dataframe tbody tr th:only-of-type {\n",
       "        vertical-align: middle;\n",
       "    }\n",
       "\n",
       "    .dataframe tbody tr th {\n",
       "        vertical-align: top;\n",
       "    }\n",
       "\n",
       "    .dataframe thead th {\n",
       "        text-align: right;\n",
       "    }\n",
       "</style>\n",
       "<table border=\"1\" class=\"dataframe\">\n",
       "  <thead>\n",
       "    <tr style=\"text-align: right;\">\n",
       "      <th></th>\n",
       "      <th>Equities</th>\n",
       "      <th>Tsies</th>\n",
       "      <th>CorpIG</th>\n",
       "      <th>AbsReturn</th>\n",
       "      <th>Gold</th>\n",
       "      <th>Oil</th>\n",
       "    </tr>\n",
       "  </thead>\n",
       "  <tbody>\n",
       "    <tr>\n",
       "      <th>weights</th>\n",
       "      <td>50.0%</td>\n",
       "      <td>25.0%</td>\n",
       "      <td>5.0%</td>\n",
       "      <td>12.0%</td>\n",
       "      <td>5.0%</td>\n",
       "      <td>3.0%</td>\n",
       "    </tr>\n",
       "  </tbody>\n",
       "</table>\n",
       "</div>"
      ],
      "text/plain": [
       "        Equities  Tsies CorpIG AbsReturn  Gold   Oil\n",
       "weights    50.0%  25.0%   5.0%     12.0%  5.0%  3.0%"
      ]
     },
     "execution_count": 7,
     "metadata": {},
     "output_type": "execute_result"
    }
   ],
   "source": [
    "(weights*100).applymap('{:,.1f}%'.format)"
   ]
  },
  {
   "cell_type": "code",
   "execution_count": 8,
   "id": "63c789e4",
   "metadata": {},
   "outputs": [],
   "source": [
    "portfolio_ret_d=pd.DataFrame(index=df_d_ret.index,columns=[\"ret\"], data=np.dot(df_d_ret,weights.T)).dropna()"
   ]
  },
  {
   "cell_type": "code",
   "execution_count": 9,
   "id": "9d17cedf",
   "metadata": {},
   "outputs": [],
   "source": [
    "portfolio_ret_m=pd.DataFrame(index=df_monthly_ret.index,columns=[\"ret\"], data=np.dot(df_monthly_ret,weights.T))"
   ]
  },
  {
   "cell_type": "code",
   "execution_count": 10,
   "id": "8df2be11",
   "metadata": {},
   "outputs": [
    {
     "data": {
      "image/png": "[encoded data removed]",
      "text/plain": [
       "<Figure size 432x288 with 1 Axes>"
      ]
     },
     "metadata": {
      "needs_background": "light"
     },
     "output_type": "display_data"
    }
   ],
   "source": [
    "ax = (portfolio_ret_m*100).plot()\n",
    "plt.ylabel('Monthly Returns')\n",
    "ax.yaxis.set_major_formatter(mtick.PercentFormatter())"
   ]
  },
  {
   "cell_type": "code",
   "execution_count": 11,
   "id": "9400d211",
   "metadata": {},
   "outputs": [
    {
     "data": {
      "text/plain": [
       "array([[<AxesSubplot:title={'center':'ret'}>]], dtype=object)"
      ]
     },
     "execution_count": 11,
     "metadata": {},
     "output_type": "execute_result"
    },
    {
     "data": {
      "image/png": "[encoded data removed]",
      "text/plain": [
       "<Figure size 432x288 with 1 Axes>"
      ]
     },
     "metadata": {
      "needs_background": "light"
     },
     "output_type": "display_data"
    }
   ],
   "source": [
    "ax = portfolio_ret_m.hist()\n",
    "ax"
   ]
  },
  {
   "cell_type": "code",
   "execution_count": 12,
   "id": "20c53a02",
   "metadata": {},
   "outputs": [],
   "source": [
    "mean_m=portfolio_ret_m['ret'].mean()\n",
    "std_m=portfolio_ret_m['ret'].std()\n",
    "max_m = portfolio_ret_m['ret'].max()\n",
    "min_m = portfolio_ret_m['ret'].min()\n",
    "kurt_m = sp.kurtosis(portfolio_ret_m['ret'])\n",
    "skew_m = sp.skew(portfolio_ret_m['ret'])"
   ]
  },
  {
   "cell_type": "code",
   "execution_count": 13,
   "id": "d478207e",
   "metadata": {},
   "outputs": [],
   "source": [
    "normalized_portfolio_ret_m=(portfolio_ret_m-mean_m)/std_m"
   ]
  },
  {
   "cell_type": "code",
   "execution_count": 14,
   "id": "6748b6e6",
   "metadata": {},
   "outputs": [
    {
     "data": {
      "text/html": [
       "<div>\n",
       "<style scoped>\n",
       "    .dataframe tbody tr th:only-of-type {\n",
       "        vertical-align: middle;\n",
       "    }\n",
       "\n",
       "    .dataframe tbody tr th {\n",
       "        vertical-align: top;\n",
       "    }\n",
       "\n",
       "    .dataframe thead th {\n",
       "        text-align: right;\n",
       "    }\n",
       "</style>\n",
       "<table border=\"1\" class=\"dataframe\">\n",
       "  <thead>\n",
       "    <tr style=\"text-align: right;\">\n",
       "      <th></th>\n",
       "      <th>ret</th>\n",
       "    </tr>\n",
       "    <tr>\n",
       "      <th>date</th>\n",
       "      <th></th>\n",
       "    </tr>\n",
       "  </thead>\n",
       "  <tbody>\n",
       "    <tr>\n",
       "      <th>1986-11-30</th>\n",
       "      <td>0.229590</td>\n",
       "    </tr>\n",
       "    <tr>\n",
       "      <th>1986-12-31</th>\n",
       "      <td>-0.648629</td>\n",
       "    </tr>\n",
       "    <tr>\n",
       "      <th>1987-01-31</th>\n",
       "      <td>2.669648</td>\n",
       "    </tr>\n",
       "    <tr>\n",
       "      <th>1987-02-28</th>\n",
       "      <td>0.343868</td>\n",
       "    </tr>\n",
       "    <tr>\n",
       "      <th>1987-03-31</th>\n",
       "      <td>0.458158</td>\n",
       "    </tr>\n",
       "    <tr>\n",
       "      <th>...</th>\n",
       "      <td>...</td>\n",
       "    </tr>\n",
       "    <tr>\n",
       "      <th>2021-06-30</th>\n",
       "      <td>0.067340</td>\n",
       "    </tr>\n",
       "    <tr>\n",
       "      <th>2021-07-31</th>\n",
       "      <td>0.425606</td>\n",
       "    </tr>\n",
       "    <tr>\n",
       "      <th>2021-08-31</th>\n",
       "      <td>0.085419</td>\n",
       "    </tr>\n",
       "    <tr>\n",
       "      <th>2021-09-30</th>\n",
       "      <td>-1.303730</td>\n",
       "    </tr>\n",
       "    <tr>\n",
       "      <th>2021-10-31</th>\n",
       "      <td>1.337502</td>\n",
       "    </tr>\n",
       "  </tbody>\n",
       "</table>\n",
       "<p>420 rows × 1 columns</p>\n",
       "</div>"
      ],
      "text/plain": [
       "                 ret\n",
       "date                \n",
       "1986-11-30  0.229590\n",
       "1986-12-31 -0.648629\n",
       "1987-01-31  2.669648\n",
       "1987-02-28  0.343868\n",
       "1987-03-31  0.458158\n",
       "...              ...\n",
       "2021-06-30  0.067340\n",
       "2021-07-31  0.425606\n",
       "2021-08-31  0.085419\n",
       "2021-09-30 -1.303730\n",
       "2021-10-31  1.337502\n",
       "\n",
       "[420 rows x 1 columns]"
      ]
     },
     "execution_count": 14,
     "metadata": {},
     "output_type": "execute_result"
    }
   ],
   "source": [
    "normalized_portfolio_ret_m"
   ]
  },
  {
   "cell_type": "code",
   "execution_count": 15,
   "id": "3980b1f2",
   "metadata": {},
   "outputs": [],
   "source": [
    "mean_norm_m = normalized_portfolio_ret_m['ret'].mean()\n",
    "std_norm_m = normalized_portfolio_ret_m['ret'].std()\n",
    "max_norm_m = normalized_portfolio_ret_m['ret'].max()\n",
    "min_norm_m = normalized_portfolio_ret_m['ret'].min()\n",
    "kurt_norm_m = sp.kurtosis(normalized_portfolio_ret_m['ret'])\n",
    "skew_norm_m = sp.skew(normalized_portfolio_ret_m['ret'])"
   ]
  },
  {
   "cell_type": "markdown",
   "id": "4cbc8bb7",
   "metadata": {},
   "source": [
    "# Fitting Garch Model"
   ]
  },
  {
   "cell_type": "code",
   "execution_count": 16,
   "id": "bf0fb4d7",
   "metadata": {},
   "outputs": [
    {
     "name": "stdout",
     "output_type": "stream",
     "text": [
      "Iteration:      1,   Func. Count:      5,   Neg. LLF: 954.557172141135\n",
      "Iteration:      2,   Func. Count:     12,   Neg. LLF: 974.0626539252892\n",
      "Iteration:      3,   Func. Count:     17,   Neg. LLF: 951.8334661871922\n",
      "Iteration:      4,   Func. Count:     22,   Neg. LLF: 938.6876714712744\n",
      "Iteration:      5,   Func. Count:     27,   Neg. LLF: 935.0786491810272\n",
      "Iteration:      6,   Func. Count:     31,   Neg. LLF: 935.0292177018316\n",
      "Iteration:      7,   Func. Count:     35,   Neg. LLF: 935.0265683825637\n",
      "Iteration:      8,   Func. Count:     39,   Neg. LLF: 935.0256978115256\n",
      "Iteration:      9,   Func. Count:     43,   Neg. LLF: 935.0256111130335\n",
      "Iteration:     10,   Func. Count:     47,   Neg. LLF: 935.0256076136076\n",
      "Iteration:     11,   Func. Count:     50,   Neg. LLF: 935.0256076134956\n",
      "Optimization terminated successfully    (Exit mode 0)\n",
      "            Current function value: 935.0256076136076\n",
      "            Iterations: 11\n",
      "            Function evaluations: 50\n",
      "            Gradient evaluations: 11\n"
     ]
    },
    {
     "data": {
      "text/plain": [
       "                       Zero Mean - GARCH Model Results                        \n",
       "==============================================================================\n",
       "Dep. Variable:                    ret   R-squared:                       0.000\n",
       "Mean Model:                 Zero Mean   Adj. R-squared:                  0.002\n",
       "Vol Model:                      GARCH   Log-Likelihood:               -935.026\n",
       "Distribution:                  Normal   AIC:                           1876.05\n",
       "Method:            Maximum Likelihood   BIC:                           1888.17\n",
       "                                        No. Observations:                  420\n",
       "Date:                Mon, Feb 07 2022   Df Residuals:                      420\n",
       "Time:                        16:35:04   Df Model:                            0\n",
       "                              Volatility Model                             \n",
       "===========================================================================\n",
       "                 coef    std err          t      P>|t|     95.0% Conf. Int.\n",
       "---------------------------------------------------------------------------\n",
       "omega          1.8340      1.375      1.334      0.182    [ -0.861,  4.529]\n",
       "alpha[1]       0.2369      0.141      1.680  9.295e-02 [-3.947e-02,  0.513]\n",
       "beta[1]        0.4328      0.335      1.290      0.197    [ -0.225,  1.090]\n",
       "===========================================================================\n",
       "\n",
       "Covariance estimator: robust\n",
       "ARCHModelResult, id: 0x25b1152e9d0"
      ]
     },
     "execution_count": 16,
     "metadata": {},
     "output_type": "execute_result"
    }
   ],
   "source": [
    "model_garch = arch_model(y=portfolio_ret_m['ret']*100, rescale=True, mean='Zero')\n",
    "res_garch_m = model_garch.fit(backcast=(portfolio_ret_m['ret'][0]*100)**2)\n",
    "res_garch_m"
   ]
  },
  {
   "cell_type": "code",
   "execution_count": 17,
   "id": "899a51aa",
   "metadata": {},
   "outputs": [
    {
     "data": {
      "text/plain": [
       "1.0"
      ]
     },
     "execution_count": 17,
     "metadata": {},
     "output_type": "execute_result"
    }
   ],
   "source": [
    "scale = res_garch_m.scale\n",
    "scale"
   ]
  },
  {
   "cell_type": "code",
   "execution_count": 18,
   "id": "47ad14f3",
   "metadata": {},
   "outputs": [],
   "source": [
    "forecasts_garch_m = res_garch_m.forecast(horizon=1, reindex=True)"
   ]
  },
  {
   "cell_type": "code",
   "execution_count": 19,
   "id": "f7bfbcea",
   "metadata": {},
   "outputs": [],
   "source": [
    "vol_garch_for_m = (forecasts_garch_m.variance.iloc[-1]/10000)**0.5"
   ]
  },
  {
   "cell_type": "code",
   "execution_count": 20,
   "id": "5cab7d37",
   "metadata": {},
   "outputs": [
    {
     "data": {
      "text/plain": [
       "0.022213872372445213"
      ]
     },
     "execution_count": 20,
     "metadata": {},
     "output_type": "execute_result"
    }
   ],
   "source": [
    "std_m"
   ]
  },
  {
   "cell_type": "code",
   "execution_count": 21,
   "id": "84843979",
   "metadata": {},
   "outputs": [
    {
     "data": {
      "text/plain": [
       "0.026527082830613457"
      ]
     },
     "execution_count": 21,
     "metadata": {},
     "output_type": "execute_result"
    }
   ],
   "source": [
    "vol_garch_for_m[0]"
   ]
  },
  {
   "cell_type": "markdown",
   "id": "73d78932",
   "metadata": {},
   "source": [
    "# Fitting EWMA Model"
   ]
  },
  {
   "cell_type": "code",
   "execution_count": 22,
   "id": "b985cb9c",
   "metadata": {},
   "outputs": [
    {
     "name": "stdout",
     "output_type": "stream",
     "text": [
      "Iteration:      1,   Func. Count:      3,   Neg. LLF: 47653.21767479356\n",
      "Iteration:      2,   Func. Count:      6,   Neg. LLF: 954.4531126837683\n",
      "Iteration:      3,   Func. Count:      8,   Neg. LLF: 954.2726232795674\n",
      "Iteration:      4,   Func. Count:     10,   Neg. LLF: 954.2532246740832\n",
      "Iteration:      5,   Func. Count:     12,   Neg. LLF: 954.2528592010128\n",
      "Iteration:      6,   Func. Count:     14,   Neg. LLF: 954.2528585921989\n",
      "Optimization terminated successfully    (Exit mode 0)\n",
      "            Current function value: 954.2528585921989\n",
      "            Iterations: 6\n",
      "            Function evaluations: 14\n",
      "            Gradient evaluations: 6\n"
     ]
    },
    {
     "data": {
      "text/plain": [
       "                  Zero Mean - EWMA/RiskMetrics Model Results                  \n",
       "==============================================================================\n",
       "Dep. Variable:                    ret   R-squared:                       0.000\n",
       "Mean Model:                 Zero Mean   Adj. R-squared:                  0.002\n",
       "Vol Model:           EWMA/RiskMetrics   Log-Likelihood:               -954.253\n",
       "Distribution:                  Normal   AIC:                           1910.51\n",
       "Method:            Maximum Likelihood   BIC:                           1914.55\n",
       "                                        No. Observations:                  420\n",
       "Date:                Mon, Feb 07 2022   Df Residuals:                      420\n",
       "Time:                        16:35:04   Df Model:                            0\n",
       "                            Volatility Model                            \n",
       "========================================================================\n",
       "                 coef    std err          t      P>|t|  95.0% Conf. Int.\n",
       "------------------------------------------------------------------------\n",
       "lam            0.8798  4.301e-02     20.454  5.524e-93 [  0.795,  0.964]\n",
       "========================================================================\n",
       "\n",
       "Covariance estimator: robust\n",
       "ARCHModelResult, id: 0x25b115aac40"
      ]
     },
     "execution_count": 22,
     "metadata": {},
     "output_type": "execute_result"
    }
   ],
   "source": [
    "am_m = ZeroMean(portfolio_ret_m['ret']*100)\n",
    "am_m.volatility = EWMAVariance(None)\n",
    "am_m.distribution = Normal()\n",
    "res_m = am_m.fit(backcast=(portfolio_ret_m['ret'][0]*100)**2)\n",
    "res_m"
   ]
  },
  {
   "cell_type": "code",
   "execution_count": 23,
   "id": "232108f7",
   "metadata": {},
   "outputs": [
    {
     "data": {
      "text/plain": [
       "0.028584797409204377"
      ]
     },
     "execution_count": 23,
     "metadata": {},
     "output_type": "execute_result"
    }
   ],
   "source": [
    "forecasts_res_m = res_m.forecast(horizon=1, reindex=True)\n",
    "vol_ewma_for_m = (forecasts_res_m.variance.iloc[-1]/10000)**0.5\n",
    "\n",
    "vol_ewma_for_m[0]"
   ]
  },
  {
   "cell_type": "markdown",
   "id": "2f3cacf1",
   "metadata": {},
   "source": [
    "# Definging Garch and Emwa Volatilities\n",
    "# Definging Forecast Parameters: Omega, Alpha, Beta, Lambda"
   ]
  },
  {
   "cell_type": "code",
   "execution_count": 24,
   "id": "23f7f484",
   "metadata": {},
   "outputs": [],
   "source": [
    "forc_vol_emwa_m = (forecasts_res_m.variance.iloc[-1]/10000)**0.5"
   ]
  },
  {
   "cell_type": "code",
   "execution_count": 25,
   "id": "e1d00e7f",
   "metadata": {},
   "outputs": [],
   "source": [
    "forc_vol_garch_m = (forecasts_garch_m.variance.iloc[-1]/10000)**0.5"
   ]
  },
  {
   "cell_type": "code",
   "execution_count": 26,
   "id": "70c6e7e6",
   "metadata": {},
   "outputs": [],
   "source": [
    "omega_m = res_garch_m.params[0]/10000\n",
    "alpha_m = res_garch_m.params[1]\n",
    "beta_m = res_garch_m.params[2]\n",
    "lamb_m = res_m.params[0]"
   ]
  },
  {
   "cell_type": "code",
   "execution_count": 27,
   "id": "db8a5ea5",
   "metadata": {},
   "outputs": [],
   "source": [
    "lt_var_m = omega_m/(1-alpha_m-beta_m)\n",
    "lt_vol_m = lt_var_m**(1/2)"
   ]
  },
  {
   "cell_type": "code",
   "execution_count": 28,
   "id": "d1b53fc0",
   "metadata": {},
   "outputs": [
    {
     "data": {
      "text/plain": [
       "0.022213872372445213"
      ]
     },
     "execution_count": 28,
     "metadata": {},
     "output_type": "execute_result"
    }
   ],
   "source": [
    "obsv_vol_m = portfolio_ret_m['ret'].std()\n",
    "\n",
    "obsv_vol_m"
   ]
  },
  {
   "cell_type": "code",
   "execution_count": 29,
   "id": "a84688bd",
   "metadata": {},
   "outputs": [],
   "source": [
    "L1_m = [alpha_m.round(4), beta_m.round(4), (omega_m*10000).round(4), lamb_m.round(4)]\n",
    "L2_m = [np.round(obsv_vol_m, 4), forc_vol_garch_m[0].round(4), forc_vol_emwa_m[0].round(4), lt_vol_m.round(4)]"
   ]
  },
  {
   "cell_type": "code",
   "execution_count": 30,
   "id": "dfeb6030",
   "metadata": {},
   "outputs": [],
   "source": [
    "est_patam_m = pd.DataFrame(columns=['Alpha', 'Beta', 'Omega', 'Lamda'])\n",
    "vols_m = pd.DataFrame(columns=['Obsv. Vola', 'Vola GARCH', 'Vola EWMA', 'LT Vola GARCH'])"
   ]
  },
  {
   "cell_type": "code",
   "execution_count": 31,
   "id": "f8721bf8",
   "metadata": {},
   "outputs": [
    {
     "data": {
      "text/html": [
       "<div>\n",
       "<style scoped>\n",
       "    .dataframe tbody tr th:only-of-type {\n",
       "        vertical-align: middle;\n",
       "    }\n",
       "\n",
       "    .dataframe tbody tr th {\n",
       "        vertical-align: top;\n",
       "    }\n",
       "\n",
       "    .dataframe thead th {\n",
       "        text-align: right;\n",
       "    }\n",
       "</style>\n",
       "<table border=\"1\" class=\"dataframe\">\n",
       "  <thead>\n",
       "    <tr style=\"text-align: right;\">\n",
       "      <th></th>\n",
       "      <th>Alpha</th>\n",
       "      <th>Beta</th>\n",
       "      <th>Omega</th>\n",
       "      <th>Lamda</th>\n",
       "    </tr>\n",
       "  </thead>\n",
       "  <tbody>\n",
       "    <tr>\n",
       "      <th>Values</th>\n",
       "      <td>0.24</td>\n",
       "      <td>0.43</td>\n",
       "      <td>1.83</td>\n",
       "      <td>0.88</td>\n",
       "    </tr>\n",
       "  </tbody>\n",
       "</table>\n",
       "</div>"
      ],
      "text/plain": [
       "       Alpha  Beta Omega Lamda\n",
       "Values  0.24  0.43  1.83  0.88"
      ]
     },
     "execution_count": 31,
     "metadata": {},
     "output_type": "execute_result"
    }
   ],
   "source": [
    "est_patam_m.loc['Values'] = L1_m\n",
    "\n",
    "est_patam_m.applymap('{:,.2f}'.format)"
   ]
  },
  {
   "cell_type": "code",
   "execution_count": 32,
   "id": "7a2548f2",
   "metadata": {},
   "outputs": [
    {
     "data": {
      "text/html": [
       "<div>\n",
       "<style scoped>\n",
       "    .dataframe tbody tr th:only-of-type {\n",
       "        vertical-align: middle;\n",
       "    }\n",
       "\n",
       "    .dataframe tbody tr th {\n",
       "        vertical-align: top;\n",
       "    }\n",
       "\n",
       "    .dataframe thead th {\n",
       "        text-align: right;\n",
       "    }\n",
       "</style>\n",
       "<table border=\"1\" class=\"dataframe\">\n",
       "  <thead>\n",
       "    <tr style=\"text-align: right;\">\n",
       "      <th></th>\n",
       "      <th>Obsv. Vola</th>\n",
       "      <th>Vola GARCH</th>\n",
       "      <th>Vola EWMA</th>\n",
       "      <th>LT Vola GARCH</th>\n",
       "    </tr>\n",
       "  </thead>\n",
       "  <tbody>\n",
       "    <tr>\n",
       "      <th>Values</th>\n",
       "      <td>2.22%</td>\n",
       "      <td>2.65%</td>\n",
       "      <td>2.86%</td>\n",
       "      <td>2.36%</td>\n",
       "    </tr>\n",
       "  </tbody>\n",
       "</table>\n",
       "</div>"
      ],
      "text/plain": [
       "       Obsv. Vola Vola GARCH Vola EWMA LT Vola GARCH\n",
       "Values      2.22%      2.65%     2.86%         2.36%"
      ]
     },
     "execution_count": 32,
     "metadata": {},
     "output_type": "execute_result"
    }
   ],
   "source": [
    "vols_m.loc['Values'] = L2_m\n",
    "\n",
    "(vols_m*100).applymap('{:,.2f}%'.format)"
   ]
  },
  {
   "cell_type": "markdown",
   "id": "6b18aff1",
   "metadata": {},
   "source": [
    "## Cerating DataFrame with EWMA weights"
   ]
  },
  {
   "cell_type": "code",
   "execution_count": 33,
   "id": "cfd3fccf",
   "metadata": {},
   "outputs": [],
   "source": [
    "L_weights_emwa_m = []"
   ]
  },
  {
   "cell_type": "code",
   "execution_count": 34,
   "id": "a65c2b75",
   "metadata": {},
   "outputs": [],
   "source": [
    "for t in range(0, len(portfolio_ret_m)):\n",
    "    L_weights_emwa_m.append((lamb_m**t)*(1-lamb_m))"
   ]
  },
  {
   "cell_type": "code",
   "execution_count": 35,
   "id": "5aa103bf",
   "metadata": {},
   "outputs": [],
   "source": [
    "L_weights_emwa_m.reverse()"
   ]
  },
  {
   "cell_type": "code",
   "execution_count": 36,
   "id": "5396cc37",
   "metadata": {},
   "outputs": [],
   "source": [
    "weights_emwa_m = pd.DataFrame(columns=['weights', 'acum_weights'])\n",
    "weights_emwa_m['weights'] = L_weights_emwa_m"
   ]
  },
  {
   "cell_type": "code",
   "execution_count": 37,
   "id": "c34ee6ba",
   "metadata": {},
   "outputs": [],
   "source": [
    "for y in range(0, len(weights_emwa_m)):\n",
    "    if y==0:\n",
    "        weights_emwa_m.iloc[y, 1] = weights_emwa_m.iloc[y, 0]\n",
    "    else: weights_emwa_m.iloc[y, 1] = weights_emwa_m.iloc[y-1, 1] + weights_emwa_m.iloc[y, 0]"
   ]
  },
  {
   "cell_type": "code",
   "execution_count": 38,
   "id": "221602aa",
   "metadata": {},
   "outputs": [
    {
     "data": {
      "text/html": [
       "<div>\n",
       "<style scoped>\n",
       "    .dataframe tbody tr th:only-of-type {\n",
       "        vertical-align: middle;\n",
       "    }\n",
       "\n",
       "    .dataframe tbody tr th {\n",
       "        vertical-align: top;\n",
       "    }\n",
       "\n",
       "    .dataframe thead th {\n",
       "        text-align: right;\n",
       "    }\n",
       "</style>\n",
       "<table border=\"1\" class=\"dataframe\">\n",
       "  <thead>\n",
       "    <tr style=\"text-align: right;\">\n",
       "      <th></th>\n",
       "      <th>weights</th>\n",
       "      <th>acum_weights</th>\n",
       "    </tr>\n",
       "    <tr>\n",
       "      <th>date</th>\n",
       "      <th></th>\n",
       "      <th></th>\n",
       "    </tr>\n",
       "  </thead>\n",
       "  <tbody>\n",
       "    <tr>\n",
       "      <th>2020-08-31</th>\n",
       "      <td>0.020007</td>\n",
       "      <td>0.166405</td>\n",
       "    </tr>\n",
       "    <tr>\n",
       "      <th>2020-09-30</th>\n",
       "      <td>0.022741</td>\n",
       "      <td>0.189147</td>\n",
       "    </tr>\n",
       "    <tr>\n",
       "      <th>2020-10-31</th>\n",
       "      <td>0.025849</td>\n",
       "      <td>0.214995</td>\n",
       "    </tr>\n",
       "    <tr>\n",
       "      <th>2020-11-30</th>\n",
       "      <td>0.029381</td>\n",
       "      <td>0.244377</td>\n",
       "    </tr>\n",
       "    <tr>\n",
       "      <th>2020-12-31</th>\n",
       "      <td>0.033397</td>\n",
       "      <td>0.277774</td>\n",
       "    </tr>\n",
       "    <tr>\n",
       "      <th>2021-01-31</th>\n",
       "      <td>0.037961</td>\n",
       "      <td>0.315734</td>\n",
       "    </tr>\n",
       "    <tr>\n",
       "      <th>2021-02-28</th>\n",
       "      <td>0.043149</td>\n",
       "      <td>0.358883</td>\n",
       "    </tr>\n",
       "    <tr>\n",
       "      <th>2021-03-31</th>\n",
       "      <td>0.049045</td>\n",
       "      <td>0.407928</td>\n",
       "    </tr>\n",
       "    <tr>\n",
       "      <th>2021-04-30</th>\n",
       "      <td>0.055748</td>\n",
       "      <td>0.463676</td>\n",
       "    </tr>\n",
       "    <tr>\n",
       "      <th>2021-05-31</th>\n",
       "      <td>0.063366</td>\n",
       "      <td>0.527042</td>\n",
       "    </tr>\n",
       "    <tr>\n",
       "      <th>2021-06-30</th>\n",
       "      <td>0.072026</td>\n",
       "      <td>0.599068</td>\n",
       "    </tr>\n",
       "    <tr>\n",
       "      <th>2021-07-31</th>\n",
       "      <td>0.081869</td>\n",
       "      <td>0.680938</td>\n",
       "    </tr>\n",
       "    <tr>\n",
       "      <th>2021-08-31</th>\n",
       "      <td>0.093057</td>\n",
       "      <td>0.773995</td>\n",
       "    </tr>\n",
       "    <tr>\n",
       "      <th>2021-09-30</th>\n",
       "      <td>0.105775</td>\n",
       "      <td>0.87977</td>\n",
       "    </tr>\n",
       "    <tr>\n",
       "      <th>2021-10-31</th>\n",
       "      <td>0.120230</td>\n",
       "      <td>1.0</td>\n",
       "    </tr>\n",
       "  </tbody>\n",
       "</table>\n",
       "</div>"
      ],
      "text/plain": [
       "             weights acum_weights\n",
       "date                             \n",
       "2020-08-31  0.020007     0.166405\n",
       "2020-09-30  0.022741     0.189147\n",
       "2020-10-31  0.025849     0.214995\n",
       "2020-11-30  0.029381     0.244377\n",
       "2020-12-31  0.033397     0.277774\n",
       "2021-01-31  0.037961     0.315734\n",
       "2021-02-28  0.043149     0.358883\n",
       "2021-03-31  0.049045     0.407928\n",
       "2021-04-30  0.055748     0.463676\n",
       "2021-05-31  0.063366     0.527042\n",
       "2021-06-30  0.072026     0.599068\n",
       "2021-07-31  0.081869     0.680938\n",
       "2021-08-31  0.093057     0.773995\n",
       "2021-09-30  0.105775      0.87977\n",
       "2021-10-31  0.120230          1.0"
      ]
     },
     "execution_count": 38,
     "metadata": {},
     "output_type": "execute_result"
    }
   ],
   "source": [
    "weights_emwa_m.index=portfolio_ret_m.index\n",
    "weights_emwa_m.tail(15)"
   ]
  },
  {
   "cell_type": "markdown",
   "id": "0d8e54c9",
   "metadata": {},
   "source": [
    "# Preparing DataFrame to generate data (portfolio_ret_m)\n",
    "\n",
    "### Columns: Returns, Conditional Var Garch, Conditional Var Emwa, Conditional Vol Garch, Conditonal Vol Emwa, Model Vol Garch, Model Emwa, Z-Garch, Z-Emwa, Returns Garch, Returns Emwa"
   ]
  },
  {
   "cell_type": "code",
   "execution_count": 39,
   "id": "8434c7cd",
   "metadata": {},
   "outputs": [],
   "source": [
    "portfolio_ret_m['cond_var_garch'] = 0\n",
    "portfolio_ret_m['cond_var_emwa'] = 0\n",
    "portfolio_ret_m['cond_vol_garch'] = 0\n",
    "portfolio_ret_m['cond_vol_emwa'] = 0\n",
    "portfolio_ret_m['model_vol_garch'] = 0\n",
    "portfolio_ret_m['model_vol_emwa'] = 0\n",
    "portfolio_ret_m['z_garch'] = 0\n",
    "portfolio_ret_m['z_emwa'] = 0\n",
    "portfolio_ret_m['resc_r_garch'] = 0\n",
    "portfolio_ret_m['resc_r_emwa'] = 0"
   ]
  },
  {
   "cell_type": "markdown",
   "id": "30bbabe3",
   "metadata": {},
   "source": [
    "# Looping on data to generate Rescaled Returns on Garch and Emwa"
   ]
  },
  {
   "cell_type": "code",
   "execution_count": 40,
   "id": "ad8f3d43",
   "metadata": {},
   "outputs": [],
   "source": [
    "for i in range(0,len(portfolio_ret_m)):\n",
    "    if i == 0:\n",
    "        portfolio_ret_m.iloc[i,1] = portfolio_ret_m.iloc[i,0]**2\n",
    "    else: portfolio_ret_m.iloc[i,1] = omega_m + alpha_m*portfolio_ret_m.iloc[i-1,0]**2  + beta_m*portfolio_ret_m.iloc[i-1,1] "
   ]
  },
  {
   "cell_type": "code",
   "execution_count": 41,
   "id": "8070f264",
   "metadata": {},
   "outputs": [],
   "source": [
    "for z in range(0,len(portfolio_ret_m)):\n",
    "    if z == 0:\n",
    "        portfolio_ret_m.iloc[z, 2] = portfolio_ret_m.iloc[z, 0]**2\n",
    "    else: portfolio_ret_m.iloc[z, 2] = (1 - lamb_m)*portfolio_ret_m.iloc[z-1, 0]**2 + lamb_m*portfolio_ret_m.iloc[z-1, 2]"
   ]
  },
  {
   "cell_type": "code",
   "execution_count": 42,
   "id": "67e1fe00",
   "metadata": {},
   "outputs": [],
   "source": [
    "portfolio_ret_m['cond_vol_garch'] = portfolio_ret_m['cond_var_garch']**(1/2)\n",
    "portfolio_ret_m['cond_vol_emwa'] = portfolio_ret_m['cond_var_emwa']**(1/2)"
   ]
  },
  {
   "cell_type": "code",
   "execution_count": 43,
   "id": "e3e1f33a",
   "metadata": {},
   "outputs": [
    {
     "data": {
      "image/png": "[encoded data removed]",
      "text/plain": [
       "<Figure size 432x288 with 1 Axes>"
      ]
     },
     "metadata": {
      "needs_background": "light"
     },
     "output_type": "display_data"
    }
   ],
   "source": [
    "ax = (portfolio_ret_m['cond_vol_emwa']*100).plot(c='red', label = 'Cond. Volatility EWMA')\n",
    "ax = (portfolio_ret_m['cond_vol_garch']*100).plot(c='blue', alpha=0.5, label = 'Cond. Volatility GARCH')\n",
    "plt.ylabel('Conditional Monthly Volatility')\n",
    "plt.legend()\n",
    "ax.yaxis.set_major_formatter(mtick.PercentFormatter())"
   ]
  },
  {
   "cell_type": "code",
   "execution_count": 44,
   "id": "6988b548",
   "metadata": {},
   "outputs": [
    {
     "data": {
      "image/png": "[encoded data removed]",
      "text/plain": [
       "<Figure size 432x288 with 1 Axes>"
      ]
     },
     "metadata": {
      "needs_background": "light"
     },
     "output_type": "display_data"
    }
   ],
   "source": [
    "ax = (portfolio_ret_m['cond_vol_emwa']*100).plot(c='red', label = 'Cond. Volatility EWMA')\n",
    "plt.ylabel('Conditional Monthly Volatility')\n",
    "plt.legend()\n",
    "ax.yaxis.set_major_formatter(mtick.PercentFormatter())"
   ]
  },
  {
   "cell_type": "code",
   "execution_count": 45,
   "id": "5e77dbff",
   "metadata": {},
   "outputs": [
    {
     "data": {
      "image/png": "[encoded data removed]",
      "text/plain": [
       "<Figure size 432x288 with 1 Axes>"
      ]
     },
     "metadata": {
      "needs_background": "light"
     },
     "output_type": "display_data"
    }
   ],
   "source": [
    "ax = (portfolio_ret_m['cond_vol_garch']*100).plot(c='blue', label = 'Cond. Volatility GARCH')\n",
    "plt.ylabel('Conditional Volatility')\n",
    "plt.legend()\n",
    "ax.yaxis.set_major_formatter(mtick.PercentFormatter())"
   ]
  },
  {
   "cell_type": "code",
   "execution_count": 46,
   "id": "fb15434a",
   "metadata": {},
   "outputs": [
    {
     "data": {
      "image/png": "[encoded data removed]",
      "text/plain": [
       "<Figure size 432x288 with 1 Axes>"
      ]
     },
     "metadata": {
      "needs_background": "light"
     },
     "output_type": "display_data"
    }
   ],
   "source": [
    "ax = ((((res_garch_m.conditional_volatility**2)/10000)**0.5)*100).plot(c='blue', alpha=0.5, label = 'Cond. Volatility EWMA from model')\n",
    "ax = ((((res_m.conditional_volatility**2)/10000)**0.5)*100).plot(c='red', label = 'Cond. Volatility GARCH from model')\n",
    "plt.ylabel('Conditional Monthly Volatility')\n",
    "plt.legend()\n",
    "ax.yaxis.set_major_formatter(mtick.PercentFormatter())"
   ]
  },
  {
   "cell_type": "code",
   "execution_count": 47,
   "id": "34d9b8b4",
   "metadata": {},
   "outputs": [
    {
     "data": {
      "image/png": "[encoded data removed]",
      "text/plain": [
       "<Figure size 432x288 with 1 Axes>"
      ]
     },
     "metadata": {
      "needs_background": "light"
     },
     "output_type": "display_data"
    }
   ],
   "source": [
    "ax = (portfolio_ret_m['cond_vol_garch']*100).plot(c='red', label = 'Cond. Volatility GARCH')\n",
    "ax = ((((res_garch_m.conditional_volatility**2)/10000)**0.5)*100).plot(c='blue', alpha=0.5, label = 'Cond. Volatility GARCH from model')\n",
    "plt.ylabel('Conditional Monthly Volatility')\n",
    "plt.legend()\n",
    "ax.yaxis.set_major_formatter(mtick.PercentFormatter())"
   ]
  },
  {
   "cell_type": "code",
   "execution_count": 48,
   "id": "d7e8ec74",
   "metadata": {},
   "outputs": [
    {
     "data": {
      "image/png": "[encoded data removed]",
      "text/plain": [
       "<Figure size 432x288 with 1 Axes>"
      ]
     },
     "metadata": {
      "needs_background": "light"
     },
     "output_type": "display_data"
    }
   ],
   "source": [
    "ax = (portfolio_ret_m['cond_vol_emwa']*100).plot(c='red', label = 'Cond. Volatility EWMA')\n",
    "ax = ((((res_m.conditional_volatility**2)/10000)**0.5)*100).plot(c='blue', alpha=0.5, label = 'Cond. Volatility EWMA from model')\n",
    "plt.ylabel('Conditional Monthly Volatility')\n",
    "plt.legend()\n",
    "ax.yaxis.set_major_formatter(mtick.PercentFormatter())"
   ]
  },
  {
   "cell_type": "code",
   "execution_count": 49,
   "id": "38696839",
   "metadata": {},
   "outputs": [],
   "source": [
    "portfolio_ret_m['model_vol_garch']=((res_garch_m.conditional_volatility**2)/10000)**0.5\n",
    "portfolio_ret_m['model_vol_emwa']=((res_m.conditional_volatility**2)/10000)**0.5"
   ]
  },
  {
   "cell_type": "code",
   "execution_count": 50,
   "id": "dd773a13",
   "metadata": {},
   "outputs": [],
   "source": [
    "portfolio_ret_m['z_garch'] = portfolio_ret_m['ret']/portfolio_ret_m['cond_vol_garch']\n",
    "portfolio_ret_m['z_emwa'] = portfolio_ret_m['ret']/portfolio_ret_m['cond_vol_emwa']"
   ]
  },
  {
   "cell_type": "code",
   "execution_count": 51,
   "id": "14b0a1e6",
   "metadata": {},
   "outputs": [],
   "source": [
    "for g in range(0, len(portfolio_ret_m)-1):\n",
    "    portfolio_ret_m.iloc[g, 9] = portfolio_ret_m.iloc[g,7] * forc_vol_emwa_m"
   ]
  },
  {
   "cell_type": "code",
   "execution_count": 52,
   "id": "cae272be",
   "metadata": {},
   "outputs": [],
   "source": [
    "for h in range(0, len(portfolio_ret_m)-1):\n",
    "    portfolio_ret_m.iloc[h, 10] = portfolio_ret_m.iloc[h,8] * forc_vol_garch_m"
   ]
  },
  {
   "cell_type": "code",
   "execution_count": 53,
   "id": "aac04dd6",
   "metadata": {},
   "outputs": [
    {
     "data": {
      "text/html": [
       "<div>\n",
       "<style scoped>\n",
       "    .dataframe tbody tr th:only-of-type {\n",
       "        vertical-align: middle;\n",
       "    }\n",
       "\n",
       "    .dataframe tbody tr th {\n",
       "        vertical-align: top;\n",
       "    }\n",
       "\n",
       "    .dataframe thead th {\n",
       "        text-align: right;\n",
       "    }\n",
       "</style>\n",
       "<table border=\"1\" class=\"dataframe\">\n",
       "  <thead>\n",
       "    <tr style=\"text-align: right;\">\n",
       "      <th></th>\n",
       "      <th>ret</th>\n",
       "      <th>cond_var_garch</th>\n",
       "      <th>cond_var_emwa</th>\n",
       "      <th>cond_vol_garch</th>\n",
       "      <th>cond_vol_emwa</th>\n",
       "      <th>model_vol_garch</th>\n",
       "      <th>model_vol_emwa</th>\n",
       "      <th>z_garch</th>\n",
       "      <th>z_emwa</th>\n",
       "      <th>resc_r_garch</th>\n",
       "      <th>resc_r_emwa</th>\n",
       "    </tr>\n",
       "    <tr>\n",
       "      <th>date</th>\n",
       "      <th></th>\n",
       "      <th></th>\n",
       "      <th></th>\n",
       "      <th></th>\n",
       "      <th></th>\n",
       "      <th></th>\n",
       "      <th></th>\n",
       "      <th></th>\n",
       "      <th></th>\n",
       "      <th></th>\n",
       "      <th></th>\n",
       "    </tr>\n",
       "  </thead>\n",
       "  <tbody>\n",
       "    <tr>\n",
       "      <th>1986-11-30</th>\n",
       "      <td>0.012045</td>\n",
       "      <td>0.000145</td>\n",
       "      <td>0.000145</td>\n",
       "      <td>0.012045</td>\n",
       "      <td>0.012045</td>\n",
       "      <td>0.016750</td>\n",
       "      <td>0.012045</td>\n",
       "      <td>1.000000</td>\n",
       "      <td>1.000000</td>\n",
       "      <td>0.028585</td>\n",
       "      <td>0.026527</td>\n",
       "    </tr>\n",
       "    <tr>\n",
       "      <th>1986-12-31</th>\n",
       "      <td>-0.007464</td>\n",
       "      <td>0.000281</td>\n",
       "      <td>0.000145</td>\n",
       "      <td>0.016750</td>\n",
       "      <td>0.012045</td>\n",
       "      <td>0.018417</td>\n",
       "      <td>0.012045</td>\n",
       "      <td>-0.445615</td>\n",
       "      <td>-0.619681</td>\n",
       "      <td>-0.012738</td>\n",
       "      <td>-0.016438</td>\n",
       "    </tr>\n",
       "    <tr>\n",
       "      <th>1987-01-31</th>\n",
       "      <td>0.066248</td>\n",
       "      <td>0.000318</td>\n",
       "      <td>0.000134</td>\n",
       "      <td>0.017833</td>\n",
       "      <td>0.011590</td>\n",
       "      <td>0.018531</td>\n",
       "      <td>0.011590</td>\n",
       "      <td>3.714912</td>\n",
       "      <td>5.715882</td>\n",
       "      <td>0.106190</td>\n",
       "      <td>0.151626</td>\n",
       "    </tr>\n",
       "    <tr>\n",
       "      <th>1987-02-28</th>\n",
       "      <td>0.014583</td>\n",
       "      <td>0.001361</td>\n",
       "      <td>0.000646</td>\n",
       "      <td>0.036887</td>\n",
       "      <td>0.025413</td>\n",
       "      <td>0.037035</td>\n",
       "      <td>0.025413</td>\n",
       "      <td>0.395354</td>\n",
       "      <td>0.573842</td>\n",
       "      <td>0.011301</td>\n",
       "      <td>0.015222</td>\n",
       "    </tr>\n",
       "    <tr>\n",
       "      <th>1987-03-31</th>\n",
       "      <td>0.017122</td>\n",
       "      <td>0.000823</td>\n",
       "      <td>0.000594</td>\n",
       "      <td>0.028682</td>\n",
       "      <td>0.024367</td>\n",
       "      <td>0.028765</td>\n",
       "      <td>0.024367</td>\n",
       "      <td>0.596968</td>\n",
       "      <td>0.702669</td>\n",
       "      <td>0.017064</td>\n",
       "      <td>0.018640</td>\n",
       "    </tr>\n",
       "    <tr>\n",
       "      <th>...</th>\n",
       "      <td>...</td>\n",
       "      <td>...</td>\n",
       "      <td>...</td>\n",
       "      <td>...</td>\n",
       "      <td>...</td>\n",
       "      <td>...</td>\n",
       "      <td>...</td>\n",
       "      <td>...</td>\n",
       "      <td>...</td>\n",
       "      <td>...</td>\n",
       "      <td>...</td>\n",
       "    </tr>\n",
       "    <tr>\n",
       "      <th>2021-06-30</th>\n",
       "      <td>0.008441</td>\n",
       "      <td>0.000531</td>\n",
       "      <td>0.001081</td>\n",
       "      <td>0.023047</td>\n",
       "      <td>0.032882</td>\n",
       "      <td>0.023047</td>\n",
       "      <td>0.032882</td>\n",
       "      <td>0.366235</td>\n",
       "      <td>0.256693</td>\n",
       "      <td>0.010469</td>\n",
       "      <td>0.006809</td>\n",
       "    </tr>\n",
       "    <tr>\n",
       "      <th>2021-07-31</th>\n",
       "      <td>0.016399</td>\n",
       "      <td>0.000430</td>\n",
       "      <td>0.000960</td>\n",
       "      <td>0.020740</td>\n",
       "      <td>0.030981</td>\n",
       "      <td>0.020740</td>\n",
       "      <td>0.030981</td>\n",
       "      <td>0.790690</td>\n",
       "      <td>0.529334</td>\n",
       "      <td>0.022602</td>\n",
       "      <td>0.014042</td>\n",
       "    </tr>\n",
       "    <tr>\n",
       "      <th>2021-08-31</th>\n",
       "      <td>0.008842</td>\n",
       "      <td>0.000433</td>\n",
       "      <td>0.000877</td>\n",
       "      <td>0.020815</td>\n",
       "      <td>0.029610</td>\n",
       "      <td>0.020815</td>\n",
       "      <td>0.029610</td>\n",
       "      <td>0.424796</td>\n",
       "      <td>0.298625</td>\n",
       "      <td>0.012143</td>\n",
       "      <td>0.007922</td>\n",
       "    </tr>\n",
       "    <tr>\n",
       "      <th>2021-09-30</th>\n",
       "      <td>-0.022016</td>\n",
       "      <td>0.000389</td>\n",
       "      <td>0.000781</td>\n",
       "      <td>0.019734</td>\n",
       "      <td>0.027941</td>\n",
       "      <td>0.019734</td>\n",
       "      <td>0.027941</td>\n",
       "      <td>-1.115646</td>\n",
       "      <td>-0.787943</td>\n",
       "      <td>-0.031891</td>\n",
       "      <td>-0.020902</td>\n",
       "    </tr>\n",
       "    <tr>\n",
       "      <th>2021-10-31</th>\n",
       "      <td>0.036656</td>\n",
       "      <td>0.000467</td>\n",
       "      <td>0.000745</td>\n",
       "      <td>0.021605</td>\n",
       "      <td>0.027297</td>\n",
       "      <td>0.021605</td>\n",
       "      <td>0.027297</td>\n",
       "      <td>1.696665</td>\n",
       "      <td>1.342846</td>\n",
       "      <td>0.000000</td>\n",
       "      <td>0.000000</td>\n",
       "    </tr>\n",
       "  </tbody>\n",
       "</table>\n",
       "<p>420 rows × 11 columns</p>\n",
       "</div>"
      ],
      "text/plain": [
       "                 ret  cond_var_garch  cond_var_emwa  cond_vol_garch  \\\n",
       "date                                                                  \n",
       "1986-11-30  0.012045        0.000145       0.000145        0.012045   \n",
       "1986-12-31 -0.007464        0.000281       0.000145        0.016750   \n",
       "1987-01-31  0.066248        0.000318       0.000134        0.017833   \n",
       "1987-02-28  0.014583        0.001361       0.000646        0.036887   \n",
       "1987-03-31  0.017122        0.000823       0.000594        0.028682   \n",
       "...              ...             ...            ...             ...   \n",
       "2021-06-30  0.008441        0.000531       0.001081        0.023047   \n",
       "2021-07-31  0.016399        0.000430       0.000960        0.020740   \n",
       "2021-08-31  0.008842        0.000433       0.000877        0.020815   \n",
       "2021-09-30 -0.022016        0.000389       0.000781        0.019734   \n",
       "2021-10-31  0.036656        0.000467       0.000745        0.021605   \n",
       "\n",
       "            cond_vol_emwa  model_vol_garch  model_vol_emwa   z_garch  \\\n",
       "date                                                                   \n",
       "1986-11-30       0.012045         0.016750        0.012045  1.000000   \n",
       "1986-12-31       0.012045         0.018417        0.012045 -0.445615   \n",
       "1987-01-31       0.011590         0.018531        0.011590  3.714912   \n",
       "1987-02-28       0.025413         0.037035        0.025413  0.395354   \n",
       "1987-03-31       0.024367         0.028765        0.024367  0.596968   \n",
       "...                   ...              ...             ...       ...   \n",
       "2021-06-30       0.032882         0.023047        0.032882  0.366235   \n",
       "2021-07-31       0.030981         0.020740        0.030981  0.790690   \n",
       "2021-08-31       0.029610         0.020815        0.029610  0.424796   \n",
       "2021-09-30       0.027941         0.019734        0.027941 -1.115646   \n",
       "2021-10-31       0.027297         0.021605        0.027297  1.696665   \n",
       "\n",
       "              z_emwa  resc_r_garch  resc_r_emwa  \n",
       "date                                             \n",
       "1986-11-30  1.000000      0.028585     0.026527  \n",
       "1986-12-31 -0.619681     -0.012738    -0.016438  \n",
       "1987-01-31  5.715882      0.106190     0.151626  \n",
       "1987-02-28  0.573842      0.011301     0.015222  \n",
       "1987-03-31  0.702669      0.017064     0.018640  \n",
       "...              ...           ...          ...  \n",
       "2021-06-30  0.256693      0.010469     0.006809  \n",
       "2021-07-31  0.529334      0.022602     0.014042  \n",
       "2021-08-31  0.298625      0.012143     0.007922  \n",
       "2021-09-30 -0.787943     -0.031891    -0.020902  \n",
       "2021-10-31  1.342846      0.000000     0.000000  \n",
       "\n",
       "[420 rows x 11 columns]"
      ]
     },
     "execution_count": 53,
     "metadata": {},
     "output_type": "execute_result"
    }
   ],
   "source": [
    "portfolio_ret_m"
   ]
  },
  {
   "cell_type": "code",
   "execution_count": 54,
   "id": "1a3caddd",
   "metadata": {},
   "outputs": [],
   "source": [
    "mean_garch_m = portfolio_ret_m['z_garch'].mean()\n",
    "std_garch_m = portfolio_ret_m['z_garch'].std()\n",
    "max_garch_m = portfolio_ret_m['z_garch'].max() \n",
    "min_garch_m = portfolio_ret_m['z_garch'].min()\n",
    "kurt_garch_m = sp.kurtosis(portfolio_ret_m['z_garch'])\n",
    "skew_garch_m = sp.skew(portfolio_ret_m['z_garch'])"
   ]
  },
  {
   "cell_type": "code",
   "execution_count": 55,
   "id": "7bc6f76a",
   "metadata": {},
   "outputs": [],
   "source": [
    "mean_ewma_m = portfolio_ret_m['z_emwa'].mean()\n",
    "std_ewma_m = portfolio_ret_m['z_emwa'].std()\n",
    "max_ewma_m = portfolio_ret_m['z_emwa'].max() \n",
    "min_ewma_m = portfolio_ret_m['z_emwa'].min()\n",
    "kurt_ewma_m = sp.kurtosis(portfolio_ret_m['z_emwa'])\n",
    "skew_ewma_m = sp.skew(portfolio_ret_m['z_emwa'])"
   ]
  },
  {
   "cell_type": "markdown",
   "id": "b21b991a",
   "metadata": {},
   "source": [
    "## Statistics Table"
   ]
  },
  {
   "cell_type": "code",
   "execution_count": 56,
   "id": "c2b7227e",
   "metadata": {},
   "outputs": [],
   "source": [
    "df_stats = pd.DataFrame(index=['min', 'max', 'mean', 'kurtosis', 'skewness'])"
   ]
  },
  {
   "cell_type": "code",
   "execution_count": 57,
   "id": "c4f903cd",
   "metadata": {},
   "outputs": [
    {
     "data": {
      "text/html": [
       "<div>\n",
       "<style scoped>\n",
       "    .dataframe tbody tr th:only-of-type {\n",
       "        vertical-align: middle;\n",
       "    }\n",
       "\n",
       "    .dataframe tbody tr th {\n",
       "        vertical-align: top;\n",
       "    }\n",
       "\n",
       "    .dataframe thead th {\n",
       "        text-align: right;\n",
       "    }\n",
       "</style>\n",
       "<table border=\"1\" class=\"dataframe\">\n",
       "  <thead>\n",
       "    <tr style=\"text-align: right;\">\n",
       "      <th></th>\n",
       "      <th>Returs</th>\n",
       "      <th>Normalized Returns</th>\n",
       "      <th>Garch z-scores</th>\n",
       "      <th>Ewma z-scores</th>\n",
       "    </tr>\n",
       "  </thead>\n",
       "  <tbody>\n",
       "    <tr>\n",
       "      <th>min</th>\n",
       "      <td>-0.11</td>\n",
       "      <td>-5.19</td>\n",
       "      <td>-4.07</td>\n",
       "      <td>-5.55</td>\n",
       "    </tr>\n",
       "    <tr>\n",
       "      <th>max</th>\n",
       "      <td>0.07</td>\n",
       "      <td>3.01</td>\n",
       "      <td>3.71</td>\n",
       "      <td>5.72</td>\n",
       "    </tr>\n",
       "    <tr>\n",
       "      <th>mean</th>\n",
       "      <td>0.01</td>\n",
       "      <td>0.00</td>\n",
       "      <td>0.30</td>\n",
       "      <td>0.31</td>\n",
       "    </tr>\n",
       "    <tr>\n",
       "      <th>kurtosis</th>\n",
       "      <td>3.16</td>\n",
       "      <td>3.16</td>\n",
       "      <td>2.39</td>\n",
       "      <td>4.26</td>\n",
       "    </tr>\n",
       "    <tr>\n",
       "      <th>skewness</th>\n",
       "      <td>-0.76</td>\n",
       "      <td>-0.76</td>\n",
       "      <td>-0.71</td>\n",
       "      <td>-0.70</td>\n",
       "    </tr>\n",
       "  </tbody>\n",
       "</table>\n",
       "</div>"
      ],
      "text/plain": [
       "         Returs Normalized Returns Garch z-scores Ewma z-scores\n",
       "min       -0.11              -5.19          -4.07         -5.55\n",
       "max        0.07               3.01           3.71          5.72\n",
       "mean       0.01               0.00           0.30          0.31\n",
       "kurtosis   3.16               3.16           2.39          4.26\n",
       "skewness  -0.76              -0.76          -0.71         -0.70"
      ]
     },
     "execution_count": 57,
     "metadata": {},
     "output_type": "execute_result"
    }
   ],
   "source": [
    "df_stats['Returs'] = [min_m, max_m, mean_m, kurt_m, skew_m]\n",
    "df_stats['Normalized Returns'] = [min_norm_m, max_norm_m, mean_norm_m, kurt_norm_m, skew_norm_m]\n",
    "df_stats['Garch z-scores'] = [min_garch_m, max_garch_m, mean_garch_m, kurt_garch_m, skew_garch_m]\n",
    "df_stats['Ewma z-scores'] = [min_ewma_m, max_ewma_m, mean_ewma_m, kurt_ewma_m, skew_ewma_m]\n",
    "\n",
    "df_stats.applymap('{:,.2f}'.format)"
   ]
  },
  {
   "cell_type": "markdown",
   "id": "3e162196",
   "metadata": {},
   "source": [
    "# Prepating new DataFrame to generate risk measures"
   ]
  },
  {
   "cell_type": "code",
   "execution_count": 58,
   "id": "80b31016",
   "metadata": {},
   "outputs": [],
   "source": [
    "df_returns_m = pd.DataFrame()"
   ]
  },
  {
   "cell_type": "code",
   "execution_count": 59,
   "id": "f50018ef",
   "metadata": {},
   "outputs": [
    {
     "data": {
      "text/html": [
       "<div>\n",
       "<style scoped>\n",
       "    .dataframe tbody tr th:only-of-type {\n",
       "        vertical-align: middle;\n",
       "    }\n",
       "\n",
       "    .dataframe tbody tr th {\n",
       "        vertical-align: top;\n",
       "    }\n",
       "\n",
       "    .dataframe thead th {\n",
       "        text-align: right;\n",
       "    }\n",
       "</style>\n",
       "<table border=\"1\" class=\"dataframe\">\n",
       "  <thead>\n",
       "    <tr style=\"text-align: right;\">\n",
       "      <th></th>\n",
       "      <th>Returns</th>\n",
       "      <th>Returns_Garch</th>\n",
       "      <th>Returns_Emwa</th>\n",
       "    </tr>\n",
       "    <tr>\n",
       "      <th>date</th>\n",
       "      <th></th>\n",
       "      <th></th>\n",
       "      <th></th>\n",
       "    </tr>\n",
       "  </thead>\n",
       "  <tbody>\n",
       "    <tr>\n",
       "      <th>1986-11-30</th>\n",
       "      <td>0.012045</td>\n",
       "      <td>0.028585</td>\n",
       "      <td>0.026527</td>\n",
       "    </tr>\n",
       "    <tr>\n",
       "      <th>1986-12-31</th>\n",
       "      <td>-0.007464</td>\n",
       "      <td>-0.012738</td>\n",
       "      <td>-0.016438</td>\n",
       "    </tr>\n",
       "    <tr>\n",
       "      <th>1987-01-31</th>\n",
       "      <td>0.066248</td>\n",
       "      <td>0.106190</td>\n",
       "      <td>0.151626</td>\n",
       "    </tr>\n",
       "    <tr>\n",
       "      <th>1987-02-28</th>\n",
       "      <td>0.014583</td>\n",
       "      <td>0.011301</td>\n",
       "      <td>0.015222</td>\n",
       "    </tr>\n",
       "    <tr>\n",
       "      <th>1987-03-31</th>\n",
       "      <td>0.017122</td>\n",
       "      <td>0.017064</td>\n",
       "      <td>0.018640</td>\n",
       "    </tr>\n",
       "    <tr>\n",
       "      <th>...</th>\n",
       "      <td>...</td>\n",
       "      <td>...</td>\n",
       "      <td>...</td>\n",
       "    </tr>\n",
       "    <tr>\n",
       "      <th>2021-06-30</th>\n",
       "      <td>0.008441</td>\n",
       "      <td>0.010469</td>\n",
       "      <td>0.006809</td>\n",
       "    </tr>\n",
       "    <tr>\n",
       "      <th>2021-07-31</th>\n",
       "      <td>0.016399</td>\n",
       "      <td>0.022602</td>\n",
       "      <td>0.014042</td>\n",
       "    </tr>\n",
       "    <tr>\n",
       "      <th>2021-08-31</th>\n",
       "      <td>0.008842</td>\n",
       "      <td>0.012143</td>\n",
       "      <td>0.007922</td>\n",
       "    </tr>\n",
       "    <tr>\n",
       "      <th>2021-09-30</th>\n",
       "      <td>-0.022016</td>\n",
       "      <td>-0.031891</td>\n",
       "      <td>-0.020902</td>\n",
       "    </tr>\n",
       "    <tr>\n",
       "      <th>2021-10-31</th>\n",
       "      <td>0.036656</td>\n",
       "      <td>0.000000</td>\n",
       "      <td>0.000000</td>\n",
       "    </tr>\n",
       "  </tbody>\n",
       "</table>\n",
       "<p>420 rows × 3 columns</p>\n",
       "</div>"
      ],
      "text/plain": [
       "             Returns  Returns_Garch  Returns_Emwa\n",
       "date                                             \n",
       "1986-11-30  0.012045       0.028585      0.026527\n",
       "1986-12-31 -0.007464      -0.012738     -0.016438\n",
       "1987-01-31  0.066248       0.106190      0.151626\n",
       "1987-02-28  0.014583       0.011301      0.015222\n",
       "1987-03-31  0.017122       0.017064      0.018640\n",
       "...              ...            ...           ...\n",
       "2021-06-30  0.008441       0.010469      0.006809\n",
       "2021-07-31  0.016399       0.022602      0.014042\n",
       "2021-08-31  0.008842       0.012143      0.007922\n",
       "2021-09-30 -0.022016      -0.031891     -0.020902\n",
       "2021-10-31  0.036656       0.000000      0.000000\n",
       "\n",
       "[420 rows x 3 columns]"
      ]
     },
     "execution_count": 59,
     "metadata": {},
     "output_type": "execute_result"
    }
   ],
   "source": [
    "df_returns_m['Returns'] = portfolio_ret_m['ret']\n",
    "df_returns_m['Returns_Garch'] = portfolio_ret_m['resc_r_garch']\n",
    "df_returns_m['Returns_Emwa'] = portfolio_ret_m['resc_r_emwa']\n",
    "\n",
    "df_returns_m"
   ]
  },
  {
   "cell_type": "markdown",
   "id": "deedaba1",
   "metadata": {},
   "source": [
    "## Generating Risk Measures for each Look-back Period"
   ]
  },
  {
   "cell_type": "code",
   "execution_count": 60,
   "id": "28775e40",
   "metadata": {},
   "outputs": [],
   "source": [
    "df_risk_measures_m = pd.DataFrame(index=['VaR_PreC','VaR_PostC','ES_PreC','ES_PostC'], columns=['Param', 'Hist', 'Fhist_G', 'Fhist_E', 'Whist'])"
   ]
  },
  {
   "cell_type": "code",
   "execution_count": 61,
   "id": "dd9a1549",
   "metadata": {},
   "outputs": [
    {
     "data": {
      "text/html": [
       "<div>\n",
       "<style scoped>\n",
       "    .dataframe tbody tr th:only-of-type {\n",
       "        vertical-align: middle;\n",
       "    }\n",
       "\n",
       "    .dataframe tbody tr th {\n",
       "        vertical-align: top;\n",
       "    }\n",
       "\n",
       "    .dataframe thead th {\n",
       "        text-align: right;\n",
       "    }\n",
       "</style>\n",
       "<table border=\"1\" class=\"dataframe\">\n",
       "  <thead>\n",
       "    <tr style=\"text-align: right;\">\n",
       "      <th></th>\n",
       "      <th>Returns</th>\n",
       "      <th>Returns_Garch</th>\n",
       "      <th>Returns_Emwa</th>\n",
       "    </tr>\n",
       "    <tr>\n",
       "      <th>date</th>\n",
       "      <th></th>\n",
       "      <th></th>\n",
       "      <th></th>\n",
       "    </tr>\n",
       "  </thead>\n",
       "  <tbody>\n",
       "    <tr>\n",
       "      <th>2019-10-31</th>\n",
       "      <td>0.010175</td>\n",
       "      <td>0.014314</td>\n",
       "      <td>0.011350</td>\n",
       "    </tr>\n",
       "    <tr>\n",
       "      <th>2019-11-30</th>\n",
       "      <td>0.014759</td>\n",
       "      <td>0.021456</td>\n",
       "      <td>0.017337</td>\n",
       "    </tr>\n",
       "    <tr>\n",
       "      <th>2019-12-31</th>\n",
       "      <td>0.017661</td>\n",
       "      <td>0.025169</td>\n",
       "      <td>0.021499</td>\n",
       "    </tr>\n",
       "    <tr>\n",
       "      <th>2020-01-31</th>\n",
       "      <td>0.000515</td>\n",
       "      <td>0.000709</td>\n",
       "      <td>0.000641</td>\n",
       "    </tr>\n",
       "    <tr>\n",
       "      <th>2020-02-29</th>\n",
       "      <td>-0.040428</td>\n",
       "      <td>-0.060064</td>\n",
       "      <td>-0.053584</td>\n",
       "    </tr>\n",
       "    <tr>\n",
       "      <th>2020-03-31</th>\n",
       "      <td>-0.090160</td>\n",
       "      <td>-0.095337</td>\n",
       "      <td>-0.102083</td>\n",
       "    </tr>\n",
       "    <tr>\n",
       "      <th>2020-04-30</th>\n",
       "      <td>0.073721</td>\n",
       "      <td>0.042791</td>\n",
       "      <td>0.051176</td>\n",
       "    </tr>\n",
       "    <tr>\n",
       "      <th>2020-05-31</th>\n",
       "      <td>0.050134</td>\n",
       "      <td>0.028545</td>\n",
       "      <td>0.030209</td>\n",
       "    </tr>\n",
       "    <tr>\n",
       "      <th>2020-06-30</th>\n",
       "      <td>0.016542</td>\n",
       "      <td>0.010936</td>\n",
       "      <td>0.009794</td>\n",
       "    </tr>\n",
       "    <tr>\n",
       "      <th>2020-07-31</th>\n",
       "      <td>0.038952</td>\n",
       "      <td>0.034242</td>\n",
       "      <td>0.024363</td>\n",
       "    </tr>\n",
       "    <tr>\n",
       "      <th>2020-08-31</th>\n",
       "      <td>0.035266</td>\n",
       "      <td>0.031872</td>\n",
       "      <td>0.022268</td>\n",
       "    </tr>\n",
       "    <tr>\n",
       "      <th>2020-09-30</th>\n",
       "      <td>-0.026413</td>\n",
       "      <td>-0.025015</td>\n",
       "      <td>-0.016982</td>\n",
       "    </tr>\n",
       "    <tr>\n",
       "      <th>2020-10-31</th>\n",
       "      <td>-0.016442</td>\n",
       "      <td>-0.017243</td>\n",
       "      <td>-0.010967</td>\n",
       "    </tr>\n",
       "    <tr>\n",
       "      <th>2020-11-30</th>\n",
       "      <td>0.070880</td>\n",
       "      <td>0.084941</td>\n",
       "      <td>0.049829</td>\n",
       "    </tr>\n",
       "    <tr>\n",
       "      <th>2020-12-31</th>\n",
       "      <td>0.023614</td>\n",
       "      <td>0.016772</td>\n",
       "      <td>0.014538</td>\n",
       "    </tr>\n",
       "    <tr>\n",
       "      <th>2021-01-31</th>\n",
       "      <td>0.000111</td>\n",
       "      <td>0.000100</td>\n",
       "      <td>0.000071</td>\n",
       "    </tr>\n",
       "    <tr>\n",
       "      <th>2021-02-28</th>\n",
       "      <td>0.011347</td>\n",
       "      <td>0.012991</td>\n",
       "      <td>0.007782</td>\n",
       "    </tr>\n",
       "    <tr>\n",
       "      <th>2021-03-31</th>\n",
       "      <td>0.019147</td>\n",
       "      <td>0.024887</td>\n",
       "      <td>0.013919</td>\n",
       "    </tr>\n",
       "    <tr>\n",
       "      <th>2021-04-30</th>\n",
       "      <td>0.030407</td>\n",
       "      <td>0.039690</td>\n",
       "      <td>0.023134</td>\n",
       "    </tr>\n",
       "    <tr>\n",
       "      <th>2021-05-31</th>\n",
       "      <td>0.018806</td>\n",
       "      <td>0.021766</td>\n",
       "      <td>0.014518</td>\n",
       "    </tr>\n",
       "    <tr>\n",
       "      <th>2021-06-30</th>\n",
       "      <td>0.008441</td>\n",
       "      <td>0.010469</td>\n",
       "      <td>0.006809</td>\n",
       "    </tr>\n",
       "    <tr>\n",
       "      <th>2021-07-31</th>\n",
       "      <td>0.016399</td>\n",
       "      <td>0.022602</td>\n",
       "      <td>0.014042</td>\n",
       "    </tr>\n",
       "    <tr>\n",
       "      <th>2021-08-31</th>\n",
       "      <td>0.008842</td>\n",
       "      <td>0.012143</td>\n",
       "      <td>0.007922</td>\n",
       "    </tr>\n",
       "    <tr>\n",
       "      <th>2021-09-30</th>\n",
       "      <td>-0.022016</td>\n",
       "      <td>-0.031891</td>\n",
       "      <td>-0.020902</td>\n",
       "    </tr>\n",
       "    <tr>\n",
       "      <th>2021-10-31</th>\n",
       "      <td>0.036656</td>\n",
       "      <td>0.000000</td>\n",
       "      <td>0.000000</td>\n",
       "    </tr>\n",
       "  </tbody>\n",
       "</table>\n",
       "</div>"
      ],
      "text/plain": [
       "             Returns  Returns_Garch  Returns_Emwa\n",
       "date                                             \n",
       "2019-10-31  0.010175       0.014314      0.011350\n",
       "2019-11-30  0.014759       0.021456      0.017337\n",
       "2019-12-31  0.017661       0.025169      0.021499\n",
       "2020-01-31  0.000515       0.000709      0.000641\n",
       "2020-02-29 -0.040428      -0.060064     -0.053584\n",
       "2020-03-31 -0.090160      -0.095337     -0.102083\n",
       "2020-04-30  0.073721       0.042791      0.051176\n",
       "2020-05-31  0.050134       0.028545      0.030209\n",
       "2020-06-30  0.016542       0.010936      0.009794\n",
       "2020-07-31  0.038952       0.034242      0.024363\n",
       "2020-08-31  0.035266       0.031872      0.022268\n",
       "2020-09-30 -0.026413      -0.025015     -0.016982\n",
       "2020-10-31 -0.016442      -0.017243     -0.010967\n",
       "2020-11-30  0.070880       0.084941      0.049829\n",
       "2020-12-31  0.023614       0.016772      0.014538\n",
       "2021-01-31  0.000111       0.000100      0.000071\n",
       "2021-02-28  0.011347       0.012991      0.007782\n",
       "2021-03-31  0.019147       0.024887      0.013919\n",
       "2021-04-30  0.030407       0.039690      0.023134\n",
       "2021-05-31  0.018806       0.021766      0.014518\n",
       "2021-06-30  0.008441       0.010469      0.006809\n",
       "2021-07-31  0.016399       0.022602      0.014042\n",
       "2021-08-31  0.008842       0.012143      0.007922\n",
       "2021-09-30 -0.022016      -0.031891     -0.020902\n",
       "2021-10-31  0.036656       0.000000      0.000000"
      ]
     },
     "execution_count": 61,
     "metadata": {},
     "output_type": "execute_result"
    }
   ],
   "source": [
    "df_25_m = df_returns_m.iloc[-25:,:]\n",
    "\n",
    "df_25_m"
   ]
  },
  {
   "cell_type": "code",
   "execution_count": 62,
   "id": "941fb475",
   "metadata": {},
   "outputs": [],
   "source": [
    "lb_25_vol_m= ((df_25_m['Returns']**2).mean())**0.5"
   ]
  },
  {
   "cell_type": "code",
   "execution_count": 63,
   "id": "00b737bf",
   "metadata": {},
   "outputs": [],
   "source": [
    "var_param_m = sp.norm.ppf(0.95)*lb_25_vol_m"
   ]
  },
  {
   "cell_type": "code",
   "execution_count": 64,
   "id": "0721bdbe",
   "metadata": {},
   "outputs": [],
   "source": [
    "es_param_m = sp.norm.pdf(sp.norm.ppf(0.95))*lb_25_vol_m/0.05"
   ]
  },
  {
   "cell_type": "code",
   "execution_count": 65,
   "id": "a6400bc9",
   "metadata": {},
   "outputs": [],
   "source": [
    "var_25_hist_m = df_25_m['Returns'].quantile(q=0.05)"
   ]
  },
  {
   "cell_type": "code",
   "execution_count": 66,
   "id": "4dfbc262",
   "metadata": {},
   "outputs": [],
   "source": [
    "es_25_hist_m = (df_25_m['Returns'][(df_25_m['Returns']<df_25_m['Returns'].quantile(q=0.05))]).mean()"
   ]
  },
  {
   "cell_type": "code",
   "execution_count": 67,
   "id": "b564c6c3",
   "metadata": {},
   "outputs": [],
   "source": [
    "var_25_fhist_g_m = df_25_m['Returns_Garch'].quantile(q=0.05)"
   ]
  },
  {
   "cell_type": "code",
   "execution_count": 68,
   "id": "87fdf784",
   "metadata": {},
   "outputs": [],
   "source": [
    "es_25_fhist_g_m = (df_25_m['Returns_Garch'][(df_25_m['Returns_Garch']<df_25_m['Returns_Garch'].quantile(q=0.05))]).mean()"
   ]
  },
  {
   "cell_type": "code",
   "execution_count": 69,
   "id": "ab3fdeb8",
   "metadata": {},
   "outputs": [],
   "source": [
    "var_25_fhist_e_m = df_25_m['Returns_Emwa'].quantile(q=0.05)"
   ]
  },
  {
   "cell_type": "code",
   "execution_count": 70,
   "id": "9d15c58d",
   "metadata": {},
   "outputs": [],
   "source": [
    "es_25_fhist_e_m = (df_25_m['Returns_Emwa'][(df_25_m['Returns_Emwa']<df_25_m['Returns_Emwa'].quantile(q=0.05))]).mean()"
   ]
  },
  {
   "cell_type": "code",
   "execution_count": 71,
   "id": "5f73fa3c",
   "metadata": {},
   "outputs": [
    {
     "data": {
      "text/plain": [
       "1.0"
      ]
     },
     "execution_count": 71,
     "metadata": {},
     "output_type": "execute_result"
    }
   ],
   "source": [
    "weights_emwa_25_m=weights_emwa_m.loc[df_25_m.index,:]\n",
    "adj_m=lamb_m**25\n",
    "n_w_m=weights_emwa_25_m['weights']/(1-adj_m)\n",
    "df_25_m['weights']=n_w_m\n",
    "df_25_m['weights'].sum()"
   ]
  },
  {
   "cell_type": "code",
   "execution_count": 72,
   "id": "c0b1596c",
   "metadata": {},
   "outputs": [],
   "source": [
    "df_25_m.sort_values('Returns', inplace=True)\n",
    "df_25_m['acum_weights'] = 0\n",
    "\n",
    "for y in range(0, len(df_25_m.index)):\n",
    "    if y==0:\n",
    "        df_25_m.iloc[y, 4] = df_25_m.iloc[y, 3]\n",
    "    else: df_25_m.iloc[y, 4] = df_25_m.iloc[y-1, 4] + df_25_m.iloc[y, 3]"
   ]
  },
  {
   "cell_type": "code",
   "execution_count": 73,
   "id": "3abaf7bd",
   "metadata": {},
   "outputs": [],
   "source": [
    "w_hist_df_m=df_25_m[df_25_m['acum_weights']<=0.05]\n",
    "\n",
    "hr_m=df_25_m.iloc[len(w_hist_df_m),0]\n",
    "hw_m=df_25_m.iloc[len(w_hist_df_m),4]\n",
    "lr_m=w_hist_df_m.iloc[-1,0]\n",
    "lw_m=w_hist_df_m.iloc[-1,4]\n",
    "\n",
    "w_hist_VaR_m=lr_m+(0.05-lw_m)*(hr_m-lr_m)/(hw_m-lw_m)\n",
    "w_hist_ES_m=(w_hist_df_m['Returns']*w_hist_df_m['weights']).sum()/0.05"
   ]
  },
  {
   "cell_type": "code",
   "execution_count": 74,
   "id": "8f3501bb",
   "metadata": {},
   "outputs": [],
   "source": [
    "VaR_25_m = [var_param_m, -var_25_hist_m, -var_25_fhist_g_m, -var_25_fhist_e_m, -w_hist_VaR_m]\n",
    "ES_25_m = [es_param_m, -es_25_hist_m, -es_25_fhist_g_m, -es_25_fhist_e_m, -w_hist_ES_m]"
   ]
  },
  {
   "cell_type": "code",
   "execution_count": 75,
   "id": "ecb0b594",
   "metadata": {},
   "outputs": [],
   "source": [
    "df_risk_measures_m.loc['VaR_PreC']=VaR_25_m\n",
    "df_risk_measures_m.loc['ES_PreC']=ES_25_m"
   ]
  },
  {
   "cell_type": "code",
   "execution_count": 76,
   "id": "8f51b452",
   "metadata": {},
   "outputs": [
    {
     "data": {
      "text/html": [
       "<div>\n",
       "<style scoped>\n",
       "    .dataframe tbody tr th:only-of-type {\n",
       "        vertical-align: middle;\n",
       "    }\n",
       "\n",
       "    .dataframe tbody tr th {\n",
       "        vertical-align: top;\n",
       "    }\n",
       "\n",
       "    .dataframe thead th {\n",
       "        text-align: right;\n",
       "    }\n",
       "</style>\n",
       "<table border=\"1\" class=\"dataframe\">\n",
       "  <thead>\n",
       "    <tr style=\"text-align: right;\">\n",
       "      <th></th>\n",
       "      <th>Param</th>\n",
       "      <th>Hist</th>\n",
       "      <th>Fhist_G</th>\n",
       "      <th>Fhist_E</th>\n",
       "      <th>Whist</th>\n",
       "    </tr>\n",
       "  </thead>\n",
       "  <tbody>\n",
       "    <tr>\n",
       "      <th>VaR_PreC</th>\n",
       "      <td>5.88%</td>\n",
       "      <td>3.76%</td>\n",
       "      <td>5.44%</td>\n",
       "      <td>4.70%</td>\n",
       "      <td>2.62%</td>\n",
       "    </tr>\n",
       "    <tr>\n",
       "      <th>VaR_PostC</th>\n",
       "      <td>nan%</td>\n",
       "      <td>nan%</td>\n",
       "      <td>nan%</td>\n",
       "      <td>nan%</td>\n",
       "      <td>nan%</td>\n",
       "    </tr>\n",
       "    <tr>\n",
       "      <th>ES_PreC</th>\n",
       "      <td>7.37%</td>\n",
       "      <td>6.53%</td>\n",
       "      <td>7.77%</td>\n",
       "      <td>7.78%</td>\n",
       "      <td>4.02%</td>\n",
       "    </tr>\n",
       "    <tr>\n",
       "      <th>ES_PostC</th>\n",
       "      <td>nan%</td>\n",
       "      <td>nan%</td>\n",
       "      <td>nan%</td>\n",
       "      <td>nan%</td>\n",
       "      <td>nan%</td>\n",
       "    </tr>\n",
       "  </tbody>\n",
       "</table>\n",
       "</div>"
      ],
      "text/plain": [
       "           Param   Hist Fhist_G Fhist_E  Whist\n",
       "VaR_PreC   5.88%  3.76%   5.44%   4.70%  2.62%\n",
       "VaR_PostC   nan%   nan%    nan%    nan%   nan%\n",
       "ES_PreC    7.37%  6.53%   7.77%   7.78%  4.02%\n",
       "ES_PostC    nan%   nan%    nan%    nan%   nan%"
      ]
     },
     "execution_count": 76,
     "metadata": {},
     "output_type": "execute_result"
    }
   ],
   "source": [
    "(df_risk_measures_m*100).applymap('{:,.2f}%'.format)"
   ]
  },
  {
   "cell_type": "markdown",
   "id": "4e8495a0",
   "metadata": {},
   "source": [
    "### PostCovid"
   ]
  },
  {
   "cell_type": "code",
   "execution_count": 77,
   "id": "fd761049",
   "metadata": {},
   "outputs": [
    {
     "data": {
      "text/html": [
       "<div>\n",
       "<style scoped>\n",
       "    .dataframe tbody tr th:only-of-type {\n",
       "        vertical-align: middle;\n",
       "    }\n",
       "\n",
       "    .dataframe tbody tr th {\n",
       "        vertical-align: top;\n",
       "    }\n",
       "\n",
       "    .dataframe thead th {\n",
       "        text-align: right;\n",
       "    }\n",
       "</style>\n",
       "<table border=\"1\" class=\"dataframe\">\n",
       "  <thead>\n",
       "    <tr style=\"text-align: right;\">\n",
       "      <th></th>\n",
       "      <th>Returns</th>\n",
       "      <th>Returns_Garch</th>\n",
       "      <th>Returns_Emwa</th>\n",
       "    </tr>\n",
       "    <tr>\n",
       "      <th>date</th>\n",
       "      <th></th>\n",
       "      <th></th>\n",
       "      <th></th>\n",
       "    </tr>\n",
       "  </thead>\n",
       "  <tbody>\n",
       "    <tr>\n",
       "      <th>2020-10-31</th>\n",
       "      <td>-0.016442</td>\n",
       "      <td>-0.017243</td>\n",
       "      <td>-0.010967</td>\n",
       "    </tr>\n",
       "    <tr>\n",
       "      <th>2020-11-30</th>\n",
       "      <td>0.070880</td>\n",
       "      <td>0.084941</td>\n",
       "      <td>0.049829</td>\n",
       "    </tr>\n",
       "    <tr>\n",
       "      <th>2020-12-31</th>\n",
       "      <td>0.023614</td>\n",
       "      <td>0.016772</td>\n",
       "      <td>0.014538</td>\n",
       "    </tr>\n",
       "    <tr>\n",
       "      <th>2021-01-31</th>\n",
       "      <td>0.000111</td>\n",
       "      <td>0.000100</td>\n",
       "      <td>0.000071</td>\n",
       "    </tr>\n",
       "    <tr>\n",
       "      <th>2021-02-28</th>\n",
       "      <td>0.011347</td>\n",
       "      <td>0.012991</td>\n",
       "      <td>0.007782</td>\n",
       "    </tr>\n",
       "    <tr>\n",
       "      <th>2021-03-31</th>\n",
       "      <td>0.019147</td>\n",
       "      <td>0.024887</td>\n",
       "      <td>0.013919</td>\n",
       "    </tr>\n",
       "    <tr>\n",
       "      <th>2021-04-30</th>\n",
       "      <td>0.030407</td>\n",
       "      <td>0.039690</td>\n",
       "      <td>0.023134</td>\n",
       "    </tr>\n",
       "    <tr>\n",
       "      <th>2021-05-31</th>\n",
       "      <td>0.018806</td>\n",
       "      <td>0.021766</td>\n",
       "      <td>0.014518</td>\n",
       "    </tr>\n",
       "    <tr>\n",
       "      <th>2021-06-30</th>\n",
       "      <td>0.008441</td>\n",
       "      <td>0.010469</td>\n",
       "      <td>0.006809</td>\n",
       "    </tr>\n",
       "    <tr>\n",
       "      <th>2021-07-31</th>\n",
       "      <td>0.016399</td>\n",
       "      <td>0.022602</td>\n",
       "      <td>0.014042</td>\n",
       "    </tr>\n",
       "    <tr>\n",
       "      <th>2021-08-31</th>\n",
       "      <td>0.008842</td>\n",
       "      <td>0.012143</td>\n",
       "      <td>0.007922</td>\n",
       "    </tr>\n",
       "    <tr>\n",
       "      <th>2021-09-30</th>\n",
       "      <td>-0.022016</td>\n",
       "      <td>-0.031891</td>\n",
       "      <td>-0.020902</td>\n",
       "    </tr>\n",
       "    <tr>\n",
       "      <th>2021-10-31</th>\n",
       "      <td>0.036656</td>\n",
       "      <td>0.000000</td>\n",
       "      <td>0.000000</td>\n",
       "    </tr>\n",
       "  </tbody>\n",
       "</table>\n",
       "</div>"
      ],
      "text/plain": [
       "             Returns  Returns_Garch  Returns_Emwa\n",
       "date                                             \n",
       "2020-10-31 -0.016442      -0.017243     -0.010967\n",
       "2020-11-30  0.070880       0.084941      0.049829\n",
       "2020-12-31  0.023614       0.016772      0.014538\n",
       "2021-01-31  0.000111       0.000100      0.000071\n",
       "2021-02-28  0.011347       0.012991      0.007782\n",
       "2021-03-31  0.019147       0.024887      0.013919\n",
       "2021-04-30  0.030407       0.039690      0.023134\n",
       "2021-05-31  0.018806       0.021766      0.014518\n",
       "2021-06-30  0.008441       0.010469      0.006809\n",
       "2021-07-31  0.016399       0.022602      0.014042\n",
       "2021-08-31  0.008842       0.012143      0.007922\n",
       "2021-09-30 -0.022016      -0.031891     -0.020902\n",
       "2021-10-31  0.036656       0.000000      0.000000"
      ]
     },
     "execution_count": 77,
     "metadata": {},
     "output_type": "execute_result"
    }
   ],
   "source": [
    "df_13_m = df_returns_m.iloc[-13:,:]\n",
    "\n",
    "df_13_m"
   ]
  },
  {
   "cell_type": "code",
   "execution_count": 78,
   "id": "0f23d498",
   "metadata": {},
   "outputs": [],
   "source": [
    "lb_13_vol_m= ((df_13_m['Returns']**2).mean())**0.5"
   ]
  },
  {
   "cell_type": "code",
   "execution_count": 79,
   "id": "0e55b20f",
   "metadata": {},
   "outputs": [],
   "source": [
    "var_13_param_m = sp.norm.ppf(0.95)*lb_13_vol_m"
   ]
  },
  {
   "cell_type": "code",
   "execution_count": 80,
   "id": "7bf113c2",
   "metadata": {},
   "outputs": [],
   "source": [
    "es_13_param_m = sp.norm.pdf(sp.norm.ppf(0.95))*lb_13_vol_m/0.05"
   ]
  },
  {
   "cell_type": "code",
   "execution_count": 81,
   "id": "3bee4d41",
   "metadata": {},
   "outputs": [],
   "source": [
    "var_13_hist_m = df_13_m['Returns'].quantile(q=0.05)"
   ]
  },
  {
   "cell_type": "code",
   "execution_count": 82,
   "id": "95ab2b4b",
   "metadata": {},
   "outputs": [],
   "source": [
    "es_13_hist_m = (df_13_m['Returns'][(df_13_m['Returns']<df_13_m['Returns'].quantile(q=0.05))]).mean()"
   ]
  },
  {
   "cell_type": "code",
   "execution_count": 83,
   "id": "abfd8a5d",
   "metadata": {},
   "outputs": [],
   "source": [
    "var_13_fhist_g_m = df_13_m['Returns_Garch'].quantile(q=0.05)"
   ]
  },
  {
   "cell_type": "code",
   "execution_count": 84,
   "id": "2ea2b7c2",
   "metadata": {},
   "outputs": [],
   "source": [
    "es_13_fhist_g_m = (df_13_m['Returns_Garch'][(df_13_m['Returns_Garch']<df_13_m['Returns_Garch'].quantile(q=0.05))]).mean()"
   ]
  },
  {
   "cell_type": "code",
   "execution_count": 85,
   "id": "2ffc3b09",
   "metadata": {},
   "outputs": [],
   "source": [
    "var_13_fhist_e_m = df_13_m['Returns_Emwa'].quantile(q=0.05)"
   ]
  },
  {
   "cell_type": "code",
   "execution_count": 86,
   "id": "e3d1d7f2",
   "metadata": {},
   "outputs": [],
   "source": [
    "es_13_fhist_e_m = (df_13_m['Returns_Emwa'][(df_13_m['Returns_Emwa']<df_13_m['Returns_Emwa'].quantile(q=0.05))]).mean()"
   ]
  },
  {
   "cell_type": "code",
   "execution_count": 87,
   "id": "b87df197",
   "metadata": {},
   "outputs": [
    {
     "data": {
      "text/plain": [
       "0.9999999999999999"
      ]
     },
     "execution_count": 87,
     "metadata": {},
     "output_type": "execute_result"
    }
   ],
   "source": [
    "weights_emwa_13_m=weights_emwa_m.loc[df_13_m.index,:]\n",
    "adj_m=lamb_m**13\n",
    "n_w_m=weights_emwa_13_m['weights']/(1-adj_m)\n",
    "df_13_m['weights']=n_w_m\n",
    "df_13_m['weights'].sum()"
   ]
  },
  {
   "cell_type": "code",
   "execution_count": 88,
   "id": "08e3f40e",
   "metadata": {},
   "outputs": [],
   "source": [
    "df_13_m.sort_values('Returns', inplace=True)\n",
    "df_13_m['acum_weights'] = 0\n",
    "\n",
    "for y in range(0, len(df_13_m.index)):\n",
    "    if y==0:\n",
    "        df_13_m.iloc[y, 4] = df_13_m.iloc[y, 3]\n",
    "    else: df_13_m.iloc[y, 4] = df_13_m.iloc[y-1, 4] + df_13_m.iloc[y, 3]"
   ]
  },
  {
   "cell_type": "code",
   "execution_count": 89,
   "id": "1074deb5",
   "metadata": {},
   "outputs": [],
   "source": [
    "#w_hist_df_m=df_13_m[df_13_m['acum_weights']<=0.05]\n",
    "\n",
    "#hr_m=df_13_m.iloc[len(w_hist_df_m),0]\n",
    "#hw_m=df_13_m.iloc[len(w_hist_df_m),4]\n",
    "#lr_m=w_hist_df_m.iloc[-1,0]\n",
    "#lw_m=w_hist_df_m.iloc[-1,4]\n",
    "\n",
    "#w_hist_VaR_m=lr_m+(0.05-lw_m)/(hw_m-lw_m)*(hr_m-lr_m)\n",
    "#w_hist_ES_m=(w_hist_df_m['Returns']*w_hist_df_m['weights']).sum()/0.05\n",
    "\n",
    "# Here VaR and ES are the mimimum because the acumulative weights of the minimum return is already above 5%\n",
    "\n",
    "w_hist_df_m=pd.DataFrame(df_13_m.iloc[0,:])\n",
    "w_hist_VaR_m=w_hist_df_m.loc['Returns']\n",
    "w_hist_VaR_m=w_hist_VaR_m[0]\n",
    "w_hist_ES_m=(w_hist_df_m.loc['Returns']*w_hist_df_m.loc['weights']).sum()/0.05"
   ]
  },
  {
   "cell_type": "code",
   "execution_count": 90,
   "id": "e734cf08",
   "metadata": {},
   "outputs": [],
   "source": [
    "VaR_13_m = [var_param_m, -var_13_hist_m, -var_13_fhist_g_m, -var_13_fhist_e_m, -w_hist_VaR_m]\n",
    "ES_13_m = [es_param_m, -es_13_hist_m, -es_13_fhist_g_m, -es_13_fhist_e_m, -w_hist_ES_m]"
   ]
  },
  {
   "cell_type": "code",
   "execution_count": 91,
   "id": "b3fd1d0b",
   "metadata": {},
   "outputs": [],
   "source": [
    "df_risk_measures_m.loc['VaR_PostC']=VaR_13_m\n",
    "df_risk_measures_m.loc['ES_PostC']=ES_13_m"
   ]
  },
  {
   "cell_type": "code",
   "execution_count": 92,
   "id": "ab799ef9",
   "metadata": {},
   "outputs": [
    {
     "data": {
      "text/html": [
       "<div>\n",
       "<style scoped>\n",
       "    .dataframe tbody tr th:only-of-type {\n",
       "        vertical-align: middle;\n",
       "    }\n",
       "\n",
       "    .dataframe tbody tr th {\n",
       "        vertical-align: top;\n",
       "    }\n",
       "\n",
       "    .dataframe thead th {\n",
       "        text-align: right;\n",
       "    }\n",
       "</style>\n",
       "<table border=\"1\" class=\"dataframe\">\n",
       "  <thead>\n",
       "    <tr style=\"text-align: right;\">\n",
       "      <th></th>\n",
       "      <th>Param</th>\n",
       "      <th>Hist</th>\n",
       "      <th>Fhist_G</th>\n",
       "      <th>Fhist_E</th>\n",
       "      <th>Whist</th>\n",
       "    </tr>\n",
       "  </thead>\n",
       "  <tbody>\n",
       "    <tr>\n",
       "      <th>VaR_PreC</th>\n",
       "      <td>5.88%</td>\n",
       "      <td>3.76%</td>\n",
       "      <td>5.44%</td>\n",
       "      <td>4.70%</td>\n",
       "      <td>2.62%</td>\n",
       "    </tr>\n",
       "    <tr>\n",
       "      <th>VaR_PostC</th>\n",
       "      <td>5.88%</td>\n",
       "      <td>1.87%</td>\n",
       "      <td>2.31%</td>\n",
       "      <td>1.49%</td>\n",
       "      <td>2.20%</td>\n",
       "    </tr>\n",
       "    <tr>\n",
       "      <th>ES_PreC</th>\n",
       "      <td>7.37%</td>\n",
       "      <td>6.53%</td>\n",
       "      <td>7.77%</td>\n",
       "      <td>7.78%</td>\n",
       "      <td>4.02%</td>\n",
       "    </tr>\n",
       "    <tr>\n",
       "      <th>ES_PostC</th>\n",
       "      <td>7.37%</td>\n",
       "      <td>2.20%</td>\n",
       "      <td>3.19%</td>\n",
       "      <td>2.09%</td>\n",
       "      <td>5.74%</td>\n",
       "    </tr>\n",
       "  </tbody>\n",
       "</table>\n",
       "</div>"
      ],
      "text/plain": [
       "           Param   Hist Fhist_G Fhist_E  Whist\n",
       "VaR_PreC   5.88%  3.76%   5.44%   4.70%  2.62%\n",
       "VaR_PostC  5.88%  1.87%   2.31%   1.49%  2.20%\n",
       "ES_PreC    7.37%  6.53%   7.77%   7.78%  4.02%\n",
       "ES_PostC   7.37%  2.20%   3.19%   2.09%  5.74%"
      ]
     },
     "execution_count": 92,
     "metadata": {},
     "output_type": "execute_result"
    }
   ],
   "source": [
    "(df_risk_measures_m*100).applymap('{:,.2f}%'.format)"
   ]
  },
  {
   "cell_type": "markdown",
   "id": "f483e10c",
   "metadata": {},
   "source": [
    "# Evaluation of volatility"
   ]
  },
  {
   "cell_type": "code",
   "execution_count": 93,
   "id": "4fe0f967",
   "metadata": {},
   "outputs": [
    {
     "data": {
      "text/html": [
       "<div>\n",
       "<style scoped>\n",
       "    .dataframe tbody tr th:only-of-type {\n",
       "        vertical-align: middle;\n",
       "    }\n",
       "\n",
       "    .dataframe tbody tr th {\n",
       "        vertical-align: top;\n",
       "    }\n",
       "\n",
       "    .dataframe thead th {\n",
       "        text-align: right;\n",
       "    }\n",
       "</style>\n",
       "<table border=\"1\" class=\"dataframe\">\n",
       "  <thead>\n",
       "    <tr style=\"text-align: right;\">\n",
       "      <th></th>\n",
       "      <th>Garch</th>\n",
       "      <th>EWMA</th>\n",
       "    </tr>\n",
       "  </thead>\n",
       "  <tbody>\n",
       "    <tr>\n",
       "      <th>Stdv</th>\n",
       "      <td>0.93</td>\n",
       "      <td>1.04</td>\n",
       "    </tr>\n",
       "  </tbody>\n",
       "</table>\n",
       "</div>"
      ],
      "text/plain": [
       "     Garch  EWMA\n",
       "Stdv  0.93  1.04"
      ]
     },
     "execution_count": 93,
     "metadata": {},
     "output_type": "execute_result"
    }
   ],
   "source": [
    "df_eval_m = portfolio_ret_m.iloc[24:,:]\n",
    "bias_garch_m =  df_eval_m['z_garch'].std()\n",
    "bias_ewma_m =  df_eval_m['z_emwa'].std()\n",
    "\n",
    "df_bias_m = pd.DataFrame(index=['Stdv'], columns=['Garch', 'EWMA'], data= [[bias_garch_m,bias_ewma_m]])\n",
    "df_bias_m.applymap('{:,.2f}'.format) "
   ]
  },
  {
   "cell_type": "code",
   "execution_count": 94,
   "id": "2c78505c",
   "metadata": {},
   "outputs": [
    {
     "data": {
      "text/html": [
       "<div>\n",
       "<style scoped>\n",
       "    .dataframe tbody tr th:only-of-type {\n",
       "        vertical-align: middle;\n",
       "    }\n",
       "\n",
       "    .dataframe tbody tr th {\n",
       "        vertical-align: top;\n",
       "    }\n",
       "\n",
       "    .dataframe thead th {\n",
       "        text-align: right;\n",
       "    }\n",
       "</style>\n",
       "<table border=\"1\" class=\"dataframe\">\n",
       "  <thead>\n",
       "    <tr style=\"text-align: right;\">\n",
       "      <th></th>\n",
       "      <th>Low Interval</th>\n",
       "      <th>High Interval</th>\n",
       "    </tr>\n",
       "  </thead>\n",
       "  <tbody>\n",
       "    <tr>\n",
       "      <th>95% Confidence Intervals</th>\n",
       "      <td>0.93</td>\n",
       "      <td>1.07</td>\n",
       "    </tr>\n",
       "  </tbody>\n",
       "</table>\n",
       "</div>"
      ],
      "text/plain": [
       "                         Low Interval High Interval\n",
       "95% Confidence Intervals         0.93          1.07"
      ]
     },
     "execution_count": 94,
     "metadata": {},
     "output_type": "execute_result"
    }
   ],
   "source": [
    "low_interval_confidence_m = 1-(2/((len(portfolio_ret_m)-25)))**0.5\n",
    "high_interval_confidence_m = 1+(2/((len(portfolio_ret_m)-25)))**0.5\n",
    "\n",
    "df_bias_int_m = pd.DataFrame(index=['95% Confidence Intervals'], columns=['Low Interval', 'High Interval'], data= [[low_interval_confidence_m, high_interval_confidence_m]])\n",
    "df_bias_int_m.applymap('{:,.2f}'.format)  "
   ]
  },
  {
   "cell_type": "code",
   "execution_count": 95,
   "id": "5257b129",
   "metadata": {},
   "outputs": [],
   "source": [
    "df_eval_m[['garch_std','ewma_std']] = 5\n",
    "z_m = []\n",
    "\n",
    "for i in range(0,len(df_eval_m)):\n",
    "    z_m.append(portfolio_ret_m.iloc[i:24+i,7].std())\n",
    "    \n",
    "df_eval_m['garch_std'] = z_m"
   ]
  },
  {
   "cell_type": "code",
   "execution_count": 96,
   "id": "3eb50d16",
   "metadata": {},
   "outputs": [],
   "source": [
    "y_m = []\n",
    "\n",
    "for i in range(0,len(df_eval_m)):\n",
    "    y_m.append(portfolio_ret_m.iloc[i:24+i,8].std())\n",
    "    \n",
    "df_eval_m['ewma_std'] = y_m"
   ]
  },
  {
   "cell_type": "code",
   "execution_count": 97,
   "id": "a2386691",
   "metadata": {},
   "outputs": [
    {
     "data": {
      "text/html": [
       "<div>\n",
       "<style scoped>\n",
       "    .dataframe tbody tr th:only-of-type {\n",
       "        vertical-align: middle;\n",
       "    }\n",
       "\n",
       "    .dataframe tbody tr th {\n",
       "        vertical-align: top;\n",
       "    }\n",
       "\n",
       "    .dataframe thead th {\n",
       "        text-align: right;\n",
       "    }\n",
       "</style>\n",
       "<table border=\"1\" class=\"dataframe\">\n",
       "  <thead>\n",
       "    <tr style=\"text-align: right;\">\n",
       "      <th></th>\n",
       "      <th>Garch</th>\n",
       "      <th>EWMA</th>\n",
       "    </tr>\n",
       "  </thead>\n",
       "  <tbody>\n",
       "    <tr>\n",
       "      <th>MRAD</th>\n",
       "      <td>0.19</td>\n",
       "      <td>0.17</td>\n",
       "    </tr>\n",
       "  </tbody>\n",
       "</table>\n",
       "</div>"
      ],
      "text/plain": [
       "     Garch  EWMA\n",
       "MRAD  0.19  0.17"
      ]
     },
     "execution_count": 97,
     "metadata": {},
     "output_type": "execute_result"
    }
   ],
   "source": [
    "bias_garch_2_m = abs((df_eval_m['garch_std']-1)).mean()\n",
    "bias_ewma_2_m = abs((df_eval_m['ewma_std']-1)).mean()\n",
    "\n",
    "df_MRAD_m = pd.DataFrame(index=['MRAD'], columns=['Garch', 'EWMA'], data= [[bias_garch_2_m,bias_ewma_2_m]])\n",
    "df_MRAD_m.applymap('{:,.2f}'.format)  "
   ]
  },
  {
   "cell_type": "code",
   "execution_count": 98,
   "id": "8a82778d",
   "metadata": {},
   "outputs": [
    {
     "data": {
      "text/html": [
       "<div>\n",
       "<style scoped>\n",
       "    .dataframe tbody tr th:only-of-type {\n",
       "        vertical-align: middle;\n",
       "    }\n",
       "\n",
       "    .dataframe tbody tr th {\n",
       "        vertical-align: top;\n",
       "    }\n",
       "\n",
       "    .dataframe thead th {\n",
       "        text-align: right;\n",
       "    }\n",
       "</style>\n",
       "<table border=\"1\" class=\"dataframe\">\n",
       "  <thead>\n",
       "    <tr style=\"text-align: right;\">\n",
       "      <th></th>\n",
       "      <th>Ret</th>\n",
       "      <th>Garch</th>\n",
       "      <th>EWMA</th>\n",
       "    </tr>\n",
       "  </thead>\n",
       "  <tbody>\n",
       "    <tr>\n",
       "      <th>Skew</th>\n",
       "      <td>-0.70</td>\n",
       "      <td>-0.68</td>\n",
       "      <td>-0.98</td>\n",
       "    </tr>\n",
       "    <tr>\n",
       "      <th>Robust Skew</th>\n",
       "      <td>-0.08</td>\n",
       "      <td>-0.19</td>\n",
       "      <td>-0.17</td>\n",
       "    </tr>\n",
       "    <tr>\n",
       "      <th>Kurtosis</th>\n",
       "      <td>3.01</td>\n",
       "      <td>1.70</td>\n",
       "      <td>3.14</td>\n",
       "    </tr>\n",
       "  </tbody>\n",
       "</table>\n",
       "</div>"
      ],
      "text/plain": [
       "               Ret  Garch   EWMA\n",
       "Skew         -0.70  -0.68  -0.98\n",
       "Robust Skew  -0.08  -0.19  -0.17\n",
       "Kurtosis      3.01   1.70   3.14"
      ]
     },
     "execution_count": 98,
     "metadata": {},
     "output_type": "execute_result"
    }
   ],
   "source": [
    "skew_garch_m =  sp.skew(df_eval_m['z_garch'])\n",
    "skew_ewma_m =  sp.skew(df_eval_m['z_emwa'])\n",
    "skew_ret_m =  sp.skew(df_eval_m['ret'])\n",
    "kurt_garch_m =  sp.kurtosis(df_eval_m['z_garch'])\n",
    "kurt_ewma_m =  sp.kurtosis(df_eval_m['z_emwa'])\n",
    "kurt_ret_m =  sp.kurtosis(df_eval_m['ret'])\n",
    "\n",
    "zg_mn_m=df_eval_m['z_garch'].mean()\n",
    "ze_mn_m=df_eval_m['z_garch'].mean()\n",
    "r_mn_m=df_eval_m['ret'].mean()\n",
    "zg_mdn_m=df_eval_m['z_emwa'].median()\n",
    "ze_mdn_m=df_eval_m['z_emwa'].median()\n",
    "r_mdn_m=df_eval_m['ret'].median()\n",
    "\n",
    "r_skew_garch_m =  (zg_mn_m-zg_mdn_m)/bias_garch_m\n",
    "r_skew_ewma_m =  (ze_mn_m-ze_mdn_m)/bias_ewma_m\n",
    "r_skew_r_m = (r_mn_m-r_mdn_m)/df_eval_m['ret'].std()\n",
    "\n",
    "df_dist_m = pd.DataFrame(index=['Skew','Robust Skew','Kurtosis'], columns=['Ret','Garch', 'EWMA'], data= [[skew_ret_m,skew_garch_m,skew_ewma_m],[r_skew_r_m,r_skew_garch_m,r_skew_ewma_m],[kurt_ret_m,kurt_garch_m,kurt_ewma_m]])\n",
    "df_dist_m.applymap('{:,.2f}'.format) "
   ]
  },
  {
   "cell_type": "code",
   "execution_count": 99,
   "id": "c0c51c91",
   "metadata": {},
   "outputs": [
    {
     "data": {
      "text/html": [
       "<div>\n",
       "<style scoped>\n",
       "    .dataframe tbody tr th:only-of-type {\n",
       "        vertical-align: middle;\n",
       "    }\n",
       "\n",
       "    .dataframe tbody tr th {\n",
       "        vertical-align: top;\n",
       "    }\n",
       "\n",
       "    .dataframe thead th {\n",
       "        text-align: right;\n",
       "    }\n",
       "</style>\n",
       "<table border=\"1\" class=\"dataframe\">\n",
       "  <thead>\n",
       "    <tr style=\"text-align: right;\">\n",
       "      <th></th>\n",
       "      <th>Garch</th>\n",
       "      <th>EWMA</th>\n",
       "      <th>A-B</th>\n",
       "    </tr>\n",
       "  </thead>\n",
       "  <tbody>\n",
       "    <tr>\n",
       "      <th>Sum_QL</th>\n",
       "      <td>-867.62</td>\n",
       "      <td>-885.41</td>\n",
       "      <td></td>\n",
       "    </tr>\n",
       "    <tr>\n",
       "      <th>Avg_d</th>\n",
       "      <td></td>\n",
       "      <td></td>\n",
       "      <td>0.04</td>\n",
       "    </tr>\n",
       "    <tr>\n",
       "      <th>t_d</th>\n",
       "      <td></td>\n",
       "      <td></td>\n",
       "      <td>0.8</td>\n",
       "    </tr>\n",
       "  </tbody>\n",
       "</table>\n",
       "</div>"
      ],
      "text/plain": [
       "          Garch     EWMA   A-B\n",
       "Sum_QL  -867.62  -885.41      \n",
       "Avg_d                     0.04\n",
       "t_d                        0.8"
      ]
     },
     "execution_count": 99,
     "metadata": {},
     "output_type": "execute_result"
    }
   ],
   "source": [
    "df_eval_m[['QL_G','QL_E','d']] = 5\n",
    "\n",
    "df_eval_m['QL_G']=np.log(df_eval_m['z_garch']**2)-df_eval_m['z_garch']**2\n",
    "df_eval_m['QL_E']=np.log(df_eval_m['z_emwa']**2)-df_eval_m['z_emwa']**2\n",
    "df_eval_m['d'] = df_eval_m['QL_G'] - df_eval_m['QL_E']\n",
    "\n",
    "mean_d_m = np.round(df_eval_m['d'].mean(),2)\n",
    "std_d_m = np.round(df_eval_m['d'].std()/((len(portfolio_ret_m)-25)**0.5),2)\n",
    "t_d_m = np.round(mean_d_m/std_d_m.round(2),2)\n",
    "sum_QL1_m = np.round(df_eval_m['QL_G'].sum(),2)\n",
    "sum_QL2_m = np.round(df_eval_m['QL_E'].sum(),2)\n",
    "\n",
    "\n",
    "df_QL_m = pd.DataFrame(index=['Sum_QL','Avg_d','t_d'], columns=['Garch', 'EWMA', 'A-B'], data= [[f'{sum_QL1_m:,}',f'{sum_QL2_m:,}',''],['','',mean_d_m],['','',t_d_m]])\n",
    "df_QL_m"
   ]
  },
  {
   "cell_type": "markdown",
   "id": "8c6d93a9",
   "metadata": {},
   "source": [
    "# Evaluation of VaR"
   ]
  },
  {
   "cell_type": "code",
   "execution_count": 100,
   "id": "c36cadc8",
   "metadata": {},
   "outputs": [],
   "source": [
    "df_eval_m[['p_VaR_t','h_VaR_t','fhg_VaR_t','fhe_VaR_t','wh_VaR_t']] = 5"
   ]
  },
  {
   "cell_type": "code",
   "execution_count": 101,
   "id": "465961a0",
   "metadata": {},
   "outputs": [],
   "source": [
    "a = []\n",
    "for i in range(0,len(df_eval_m)):\n",
    "    v= portfolio_ret_m.iloc[i:24+i,0].std()\n",
    "    a.append(-sp.norm.ppf(0.95)*v)\n",
    "    \n",
    "df_eval_m['p_VaR_t'] = a\n",
    "\n",
    "b = []\n",
    "for i in range(0,len(df_eval_m)):\n",
    "    b.append(portfolio_ret_m.iloc[i:24+i,0].quantile(q=0.05))\n",
    "    \n",
    "df_eval_m['h_VaR_t'] = b\n",
    "\n",
    "c = []\n",
    "for i in range(0,len(df_eval_m)):\n",
    "    if i < len(df_eval_m)-1:\n",
    "        c.append((portfolio_ret_m.iloc[i:24+i,0]*portfolio_ret_m.iloc[24+i+1,3]/portfolio_ret_m.iloc[i:24+i,3]).quantile(q=0.05))\n",
    "    else:\n",
    "        c.append((portfolio_ret_m.iloc[i:24+i,0]*forc_vol_garch_m[0]/portfolio_ret_m.iloc[i:24+i,3]).quantile(q=0.05))\n",
    "    \n",
    "df_eval_m['fhg_VaR_t'] = c\n",
    "\n",
    "d = []\n",
    "for i in range(0,len(df_eval_m)):\n",
    "    if i < len(df_eval_m)-1:\n",
    "        d.append((portfolio_ret_m.iloc[i:24+i,0]*portfolio_ret_m.iloc[24+i+1,4]/portfolio_ret_m.iloc[i:24+i,4]).quantile(q=0.05))\n",
    "    else:\n",
    "        d.append((portfolio_ret_m.iloc[i:24+i,0]*forc_vol_emwa_m[0]/portfolio_ret_m.iloc[i:24+i,4]).quantile(q=0.05))\n",
    "    \n",
    "df_eval_m['fhe_VaR_t'] = d"
   ]
  },
  {
   "cell_type": "code",
   "execution_count": 102,
   "id": "6c675619",
   "metadata": {},
   "outputs": [],
   "source": [
    "e = []\n",
    "for i in range(0,len(df_eval_m)):\n",
    "    weights_temp=[]\n",
    "    temp=[]\n",
    "    w_temp_df=[]\n",
    "    s=0\n",
    "    \n",
    "    weights_temp = weights_emwa_m.iloc[i:24+i,0]\n",
    "    s = weights_temp.sum()\n",
    "    weights_temp = weights_temp/s \n",
    "    temp = pd.DataFrame(portfolio_ret_m.iloc[i:24+i,0])\n",
    "    temp['w'] = weights_temp\n",
    "    temp.sort_values('ret', inplace=True)\n",
    "    temp['acum_weights'] = 0\n",
    "    for y in range(0, len(temp.index)):\n",
    "        if y==0:\n",
    "            temp.iloc[y, 2] = temp.iloc[y, 1]\n",
    "        else: temp.iloc[y, 2] = temp.iloc[y-1, 2] + temp.iloc[y, 1]\n",
    "    w_temp_df=temp.loc[temp['acum_weights']<=0.05,['ret','w','acum_weights']]\n",
    "    hr_t=temp.iloc[len(w_temp_df),0]\n",
    "    hw_t=temp.iloc[len(w_temp_df),2]\n",
    "    if len(w_temp_df.index) > 0:\n",
    "        lr_t=w_temp_df.iloc[-1,0]\n",
    "        lw_t=w_temp_df.iloc[-1,2]\n",
    "        e.append(lr_t+(0.05-lw_t)/(hw_t-lw_t)*(hr_t-lr_t))\n",
    "    else:\n",
    "        e.append(temp.iloc[0,0])\n",
    "    \n",
    "df_eval_m['wh_VaR_t'] = e"
   ]
  },
  {
   "cell_type": "code",
   "execution_count": 103,
   "id": "3232771e",
   "metadata": {},
   "outputs": [
    {
     "data": {
      "image/png": "[encoded data removed]",
      "text/plain": [
       "<Figure size 432x288 with 1 Axes>"
      ]
     },
     "metadata": {
      "needs_background": "light"
     },
     "output_type": "display_data"
    }
   ],
   "source": [
    "ax = (df_eval_m[['p_VaR_t','h_VaR_t']]*100).plot()\n",
    "ax = (df_eval_m['fhg_VaR_t']*100).plot(alpha=0.4)\n",
    "ax = (df_eval_m['fhe_VaR_t']*100).plot(alpha=0.4)\n",
    "ax = (df_eval_m['wh_VaR_t']*100).plot(alpha=0.4)\n",
    "ax = (df_eval_m['ret']*100).plot(alpha=0.3)\n",
    "plt.legend()\n",
    "ax.yaxis.set_major_formatter(mtick.PercentFormatter())"
   ]
  },
  {
   "cell_type": "code",
   "execution_count": 104,
   "id": "b4680b55",
   "metadata": {},
   "outputs": [
    {
     "data": {
      "text/html": [
       "<div>\n",
       "<style scoped>\n",
       "    .dataframe tbody tr th:only-of-type {\n",
       "        vertical-align: middle;\n",
       "    }\n",
       "\n",
       "    .dataframe tbody tr th {\n",
       "        vertical-align: top;\n",
       "    }\n",
       "\n",
       "    .dataframe thead th {\n",
       "        text-align: right;\n",
       "    }\n",
       "</style>\n",
       "<table border=\"1\" class=\"dataframe\">\n",
       "  <thead>\n",
       "    <tr style=\"text-align: right;\">\n",
       "      <th></th>\n",
       "      <th>Average Number of Excedences per Year</th>\n",
       "    </tr>\n",
       "  </thead>\n",
       "  <tbody>\n",
       "    <tr>\n",
       "      <th>p_VaR_t</th>\n",
       "      <td>0.59</td>\n",
       "    </tr>\n",
       "    <tr>\n",
       "      <th>h_VaR_t</th>\n",
       "      <td>1.00</td>\n",
       "    </tr>\n",
       "    <tr>\n",
       "      <th>fhg_VaR_t</th>\n",
       "      <td>0.88</td>\n",
       "    </tr>\n",
       "    <tr>\n",
       "      <th>fhe_VaR_t</th>\n",
       "      <td>1.00</td>\n",
       "    </tr>\n",
       "    <tr>\n",
       "      <th>wh_VaR_t</th>\n",
       "      <td>0.79</td>\n",
       "    </tr>\n",
       "  </tbody>\n",
       "</table>\n",
       "</div>"
      ],
      "text/plain": [
       "           Average Number of Excedences per Year\n",
       "p_VaR_t                                     0.59\n",
       "h_VaR_t                                     1.00\n",
       "fhg_VaR_t                                   0.88\n",
       "fhe_VaR_t                                   1.00\n",
       "wh_VaR_t                                    0.79"
      ]
     },
     "execution_count": 104,
     "metadata": {},
     "output_type": "execute_result"
    }
   ],
   "source": [
    "VaR_t_m=pd.DataFrame(index=df_eval_m.index, columns= ['p_VaR_t','h_VaR_t','fhg_VaR_t','fhe_VaR_t','wh_VaR_t'])\n",
    "\n",
    "VaR_t_m['p_VaR_t']= df_eval_m['ret']<df_eval_m['p_VaR_t']\n",
    "VaR_t_m['h_VaR_t']= df_eval_m['ret']<df_eval_m['h_VaR_t']\n",
    "VaR_t_m['fhg_VaR_t']= df_eval_m['ret']<df_eval_m['fhg_VaR_t']\n",
    "VaR_t_m['fhe_VaR_t']= df_eval_m['ret']<df_eval_m['fhe_VaR_t']\n",
    "VaR_t_m['wh_VaR_t']= df_eval_m['ret']<df_eval_m['wh_VaR_t']\n",
    "\n",
    "VaR_t_2_m=VaR_t_m.groupby(pd.Grouper(freq='Y')).sum()\n",
    "pd.DataFrame(columns=['Average Number of Excedences per Year'],data=VaR_t_2_m.mean().round(2))"
   ]
  },
  {
   "cell_type": "code",
   "execution_count": 105,
   "id": "a986bd5a",
   "metadata": {},
   "outputs": [
    {
     "data": {
      "text/plain": [
       "Text(0, 0.5, 'Average Number of Excedences per Year')"
      ]
     },
     "execution_count": 105,
     "metadata": {},
     "output_type": "execute_result"
    },
    {
     "data": {
      "image/png": "[encoded data removed]",
      "text/plain": [
       "<Figure size 432x288 with 1 Axes>"
      ]
     },
     "metadata": {
      "needs_background": "light"
     },
     "output_type": "display_data"
    }
   ],
   "source": [
    "ax = VaR_t_2_m.plot()\n",
    "plt.ylabel('Average Number of Excedences per Year')"
   ]
  },
  {
   "cell_type": "code",
   "execution_count": 106,
   "id": "e0915902",
   "metadata": {},
   "outputs": [
    {
     "data": {
      "image/png": "[encoded data removed]",
      "text/plain": [
       "<Figure size 432x288 with 1 Axes>"
      ]
     },
     "metadata": {
      "needs_background": "light"
     },
     "output_type": "display_data"
    }
   ],
   "source": [
    "ax = df_eval_m[['p_VaR_t','fhg_VaR_t','fhe_VaR_t']].plot()\n",
    "ax = df_eval_m['wh_VaR_t'].plot(alpha=0.5)\n",
    "plt.legend()\n",
    "ax.yaxis.set_major_formatter(mtick.PercentFormatter())"
   ]
  },
  {
   "cell_type": "markdown",
   "id": "57a3ff0b",
   "metadata": {},
   "source": [
    "# Covariance estimation"
   ]
  },
  {
   "cell_type": "code",
   "execution_count": 107,
   "id": "a4f37d03",
   "metadata": {},
   "outputs": [],
   "source": [
    "se_vol_m = 1/np.sqrt(len(df_25_m)*2)"
   ]
  },
  {
   "cell_type": "code",
   "execution_count": 108,
   "id": "ea078239",
   "metadata": {},
   "outputs": [
    {
     "data": {
      "text/plain": [
       "(0.034030074892463055, 0.01902409076876385)"
      ]
     },
     "execution_count": 108,
     "metadata": {},
     "output_type": "execute_result"
    }
   ],
   "source": [
    "(vol_garch_for_m[0]*(1+2*se_vol_m),vol_garch_for_m[0]*(1-2*se_vol_m))"
   ]
  },
  {
   "cell_type": "code",
   "execution_count": 109,
   "id": "5ea5a7d2",
   "metadata": {},
   "outputs": [
    {
     "data": {
      "text/plain": [
       "0.026527082830613457"
      ]
     },
     "execution_count": 109,
     "metadata": {},
     "output_type": "execute_result"
    }
   ],
   "source": [
    "vol_garch_for_m[0]"
   ]
  },
  {
   "cell_type": "code",
   "execution_count": 118,
   "id": "7c638c20",
   "metadata": {},
   "outputs": [],
   "source": [
    "se_var_m = np.sqrt((0.5*0.95)/(len(df_25_m)*(sp.norm.pdf(-sp.norm.ppf(0.05))**2)))"
   ]
  },
  {
   "cell_type": "code",
   "execution_count": 128,
   "id": "a3386bc4",
   "metadata": {},
   "outputs": [
    {
     "data": {
      "text/plain": [
       "(0.14288036528501522, -0.034021835274206554)"
      ]
     },
     "execution_count": 128,
     "metadata": {},
     "output_type": "execute_result"
    }
   ],
   "source": [
    "((-sp.norm.ppf(0.05)+2*se_var_m)*(var_25_fhist_g_m/sp.norm.ppf(0.05)),(-sp.norm.ppf(0.05)-2*se_var_m)*(var_25_fhist_g_m/sp.norm.ppf(0.05)))"
   ]
  },
  {
   "cell_type": "code",
   "execution_count": 129,
   "id": "aff30818",
   "metadata": {},
   "outputs": [
    {
     "data": {
      "text/plain": [
       "0.05442926500540435"
      ]
     },
     "execution_count": 129,
     "metadata": {},
     "output_type": "execute_result"
    }
   ],
   "source": [
    "-var_25_fhist_g_m"
   ]
  },
  {
   "cell_type": "code",
   "execution_count": 133,
   "id": "a82805cc",
   "metadata": {},
   "outputs": [
    {
     "data": {
      "text/plain": [
       "-1.837452371726718"
      ]
     },
     "execution_count": 133,
     "metadata": {},
     "output_type": "execute_result"
    }
   ],
   "source": [
    "cf_std_m = df_25_m['Returns'].std()\n",
    "cf_skw_m = sp.skew(df_25_m['Returns'])\n",
    "cf_kurt_m = sp.kurtosis(df_25_m['Returns'])\n",
    "\n",
    "cf_z_m = sp.norm.ppf(0.05)+((sp.norm.ppf(0.05)**2)-1)*cf_skw_m/6+((sp.norm.ppf(0.05)**3)-3*sp.norm.ppf(0.05))*cf_kurt_m/24-(2*(sp.norm.ppf(0.05)**3)-5*sp.norm.ppf(0.05))*(cf_skw_m**2)/36\n",
    "cf_z_m"
   ]
  },
  {
   "cell_type": "code",
   "execution_count": 134,
   "id": "004cc6fc",
   "metadata": {},
   "outputs": [
    {
     "data": {
      "text/plain": [
       "0.04874225126210179"
      ]
     },
     "execution_count": 134,
     "metadata": {},
     "output_type": "execute_result"
    }
   ],
   "source": [
    "cf_var_m = -cf_z_m*vol_garch_for_m[0]\n",
    "cf_var_m"
   ]
  },
  {
   "cell_type": "code",
   "execution_count": 163,
   "id": "16d37c41",
   "metadata": {},
   "outputs": [],
   "source": [
    "df_returns_crap_m = pd.DataFrame(df_returns_m['Returns'])\n",
    "df_returns_crap_m['Abs Returns'] = np.abs(df_returns_m['Returns'])\n",
    "df_returns_crap_m.sort_values('Abs Returns', inplace=True)\n",
    "df_returns_crap_m['Cum Returns'] = df_returns_m['Returns']\n",
    "df_returns_crap_m.reset_index(inplace=True)\n",
    "df_returns_crap_m.drop(columns=['date'],inplace=True)"
   ]
  },
  {
   "cell_type": "code",
   "execution_count": 165,
   "id": "e037e55b",
   "metadata": {},
   "outputs": [
    {
     "data": {
      "text/html": [
       "<div>\n",
       "<style scoped>\n",
       "    .dataframe tbody tr th:only-of-type {\n",
       "        vertical-align: middle;\n",
       "    }\n",
       "\n",
       "    .dataframe tbody tr th {\n",
       "        vertical-align: top;\n",
       "    }\n",
       "\n",
       "    .dataframe thead th {\n",
       "        text-align: right;\n",
       "    }\n",
       "</style>\n",
       "<table border=\"1\" class=\"dataframe\">\n",
       "  <thead>\n",
       "    <tr style=\"text-align: right;\">\n",
       "      <th></th>\n",
       "      <th>Returns</th>\n",
       "      <th>Abs Returns</th>\n",
       "      <th>Cum Returns</th>\n",
       "    </tr>\n",
       "  </thead>\n",
       "  <tbody>\n",
       "    <tr>\n",
       "      <th>0</th>\n",
       "      <td>0.000111</td>\n",
       "      <td>0.000111</td>\n",
       "      <td>0.000111</td>\n",
       "    </tr>\n",
       "    <tr>\n",
       "      <th>1</th>\n",
       "      <td>0.000129</td>\n",
       "      <td>0.000129</td>\n",
       "      <td>0.000240</td>\n",
       "    </tr>\n",
       "    <tr>\n",
       "      <th>2</th>\n",
       "      <td>0.000251</td>\n",
       "      <td>0.000251</td>\n",
       "      <td>0.000491</td>\n",
       "    </tr>\n",
       "    <tr>\n",
       "      <th>3</th>\n",
       "      <td>-0.000266</td>\n",
       "      <td>0.000266</td>\n",
       "      <td>0.000225</td>\n",
       "    </tr>\n",
       "    <tr>\n",
       "      <th>4</th>\n",
       "      <td>-0.000344</td>\n",
       "      <td>0.000344</td>\n",
       "      <td>-0.000118</td>\n",
       "    </tr>\n",
       "    <tr>\n",
       "      <th>...</th>\n",
       "      <td>...</td>\n",
       "      <td>...</td>\n",
       "      <td>...</td>\n",
       "    </tr>\n",
       "    <tr>\n",
       "      <th>415</th>\n",
       "      <td>0.070880</td>\n",
       "      <td>0.070880</td>\n",
       "      <td>3.129765</td>\n",
       "    </tr>\n",
       "    <tr>\n",
       "      <th>416</th>\n",
       "      <td>0.073721</td>\n",
       "      <td>0.073721</td>\n",
       "      <td>3.203486</td>\n",
       "    </tr>\n",
       "    <tr>\n",
       "      <th>417</th>\n",
       "      <td>-0.088249</td>\n",
       "      <td>0.088249</td>\n",
       "      <td>3.115237</td>\n",
       "    </tr>\n",
       "    <tr>\n",
       "      <th>418</th>\n",
       "      <td>-0.090160</td>\n",
       "      <td>0.090160</td>\n",
       "      <td>3.025077</td>\n",
       "    </tr>\n",
       "    <tr>\n",
       "      <th>419</th>\n",
       "      <td>-0.108314</td>\n",
       "      <td>0.108314</td>\n",
       "      <td>2.916763</td>\n",
       "    </tr>\n",
       "  </tbody>\n",
       "</table>\n",
       "<p>420 rows × 3 columns</p>\n",
       "</div>"
      ],
      "text/plain": [
       "      Returns  Abs Returns  Cum Returns\n",
       "0    0.000111     0.000111     0.000111\n",
       "1    0.000129     0.000129     0.000240\n",
       "2    0.000251     0.000251     0.000491\n",
       "3   -0.000266     0.000266     0.000225\n",
       "4   -0.000344     0.000344    -0.000118\n",
       "..        ...          ...          ...\n",
       "415  0.070880     0.070880     3.129765\n",
       "416  0.073721     0.073721     3.203486\n",
       "417 -0.088249     0.088249     3.115237\n",
       "418 -0.090160     0.090160     3.025077\n",
       "419 -0.108314     0.108314     2.916763\n",
       "\n",
       "[420 rows x 3 columns]"
      ]
     },
     "execution_count": 165,
     "metadata": {},
     "output_type": "execute_result"
    }
   ],
   "source": [
    "for y in range(0, len(df_returns_crap_m)):\n",
    "    if y==0:\n",
    "        df_returns_crap_m.iloc[y, 2] = df_returns_crap_m.iloc[y, 0]\n",
    "    else: df_returns_crap_m.iloc[y, 2] = df_returns_crap_m.iloc[y-1, 2] + df_returns_crap_m.iloc[y, 0]\n",
    "        \n",
    "df_returns_crap_m"
   ]
  },
  {
   "cell_type": "code",
   "execution_count": 166,
   "id": "096d6e0d",
   "metadata": {},
   "outputs": [
    {
     "data": {
      "text/plain": [
       "<AxesSubplot:>"
      ]
     },
     "execution_count": 166,
     "metadata": {},
     "output_type": "execute_result"
    },
    {
     "data": {
      "image/png": "[encoded data removed]",
      "text/plain": [
       "<Figure size 432x288 with 1 Axes>"
      ]
     },
     "metadata": {
      "needs_background": "light"
     },
     "output_type": "display_data"
    }
   ],
   "source": [
    "df_returns_crap_m['Cum Returns'].plot()"
   ]
  },
  {
   "cell_type": "code",
   "execution_count": null,
   "id": "bb9d39c3",
   "metadata": {},
   "outputs": [],
   "source": []
  }
 ],
 "metadata": {
  "kernelspec": {
   "display_name": "Python 3",
   "language": "python",
   "name": "python3"
  },
  "language_info": {
   "codemirror_mode": {
    "name": "ipython",
    "version": 3
   },
   "file_extension": ".py",
   "mimetype": "text/x-python",
   "name": "python",
   "nbconvert_exporter": "python",
   "pygments_lexer": "ipython3",
   "version": "3.8.5"
  }
 },
 "nbformat": 4,
 "nbformat_minor": 5
}
