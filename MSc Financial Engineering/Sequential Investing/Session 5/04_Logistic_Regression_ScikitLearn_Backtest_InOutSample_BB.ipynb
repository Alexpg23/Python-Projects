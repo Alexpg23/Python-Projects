{
 "cells": [
  {
   "cell_type": "code",
   "execution_count": 1,
   "metadata": {
    "ExecuteTime": {
     "end_time": "2021-03-28T11:36:38.089971Z",
     "start_time": "2021-03-28T11:36:37.285898Z"
    }
   },
   "outputs": [],
   "source": [
    "import pandas as pd\n",
    "import numpy as np\n",
    "import matplotlib.pyplot as plt\n",
    "plt.style.use('seaborn')"
   ]
  },
  {
   "cell_type": "code",
   "execution_count": 2,
   "metadata": {
    "ExecuteTime": {
     "end_time": "2021-03-28T11:36:38.329943Z",
     "start_time": "2021-03-28T11:36:38.091650Z"
    }
   },
   "outputs": [],
   "source": [
    "data = pd.read_csv('five_minute.csv', parse_dates = ['time'], index_col = 'time')"
   ]
  },
  {
   "cell_type": "code",
   "execution_count": 3,
   "metadata": {
    "ExecuteTime": {
     "end_time": "2021-03-28T11:36:38.350137Z",
     "start_time": "2021-03-28T11:36:38.332368Z"
    }
   },
   "outputs": [],
   "source": [
    "data['returns'] = np.log(data / data.shift(1))"
   ]
  },
  {
   "cell_type": "code",
   "execution_count": 4,
   "metadata": {
    "ExecuteTime": {
     "end_time": "2021-03-28T11:36:38.363559Z",
     "start_time": "2021-03-28T11:36:38.351942Z"
    }
   },
   "outputs": [
    {
     "data": {
      "text/html": [
       "<div>\n",
       "<style scoped>\n",
       "    .dataframe tbody tr th:only-of-type {\n",
       "        vertical-align: middle;\n",
       "    }\n",
       "\n",
       "    .dataframe tbody tr th {\n",
       "        vertical-align: top;\n",
       "    }\n",
       "\n",
       "    .dataframe thead th {\n",
       "        text-align: right;\n",
       "    }\n",
       "</style>\n",
       "<table border=\"1\" class=\"dataframe\">\n",
       "  <thead>\n",
       "    <tr style=\"text-align: right;\">\n",
       "      <th></th>\n",
       "      <th>price</th>\n",
       "      <th>returns</th>\n",
       "    </tr>\n",
       "    <tr>\n",
       "      <th>time</th>\n",
       "      <th></th>\n",
       "      <th></th>\n",
       "    </tr>\n",
       "  </thead>\n",
       "  <tbody>\n",
       "    <tr>\n",
       "      <th>2019-01-01 22:00:00+00:00</th>\n",
       "      <td>1.146580</td>\n",
       "      <td>NaN</td>\n",
       "    </tr>\n",
       "    <tr>\n",
       "      <th>2019-01-01 22:05:00+00:00</th>\n",
       "      <td>1.146350</td>\n",
       "      <td>-0.000201</td>\n",
       "    </tr>\n",
       "    <tr>\n",
       "      <th>2019-01-01 22:10:00+00:00</th>\n",
       "      <td>1.146320</td>\n",
       "      <td>-0.000026</td>\n",
       "    </tr>\n",
       "    <tr>\n",
       "      <th>2019-01-01 22:15:00+00:00</th>\n",
       "      <td>1.146320</td>\n",
       "      <td>0.000000</td>\n",
       "    </tr>\n",
       "    <tr>\n",
       "      <th>2019-01-01 22:20:00+00:00</th>\n",
       "      <td>1.146530</td>\n",
       "      <td>0.000183</td>\n",
       "    </tr>\n",
       "    <tr>\n",
       "      <th>...</th>\n",
       "      <td>...</td>\n",
       "      <td>...</td>\n",
       "    </tr>\n",
       "    <tr>\n",
       "      <th>2019-12-30 23:35:00+00:00</th>\n",
       "      <td>1.120180</td>\n",
       "      <td>-0.000004</td>\n",
       "    </tr>\n",
       "    <tr>\n",
       "      <th>2019-12-30 23:40:00+00:00</th>\n",
       "      <td>1.120210</td>\n",
       "      <td>0.000027</td>\n",
       "    </tr>\n",
       "    <tr>\n",
       "      <th>2019-12-30 23:45:00+00:00</th>\n",
       "      <td>1.120295</td>\n",
       "      <td>0.000076</td>\n",
       "    </tr>\n",
       "    <tr>\n",
       "      <th>2019-12-30 23:50:00+00:00</th>\n",
       "      <td>1.120275</td>\n",
       "      <td>-0.000018</td>\n",
       "    </tr>\n",
       "    <tr>\n",
       "      <th>2019-12-30 23:55:00+00:00</th>\n",
       "      <td>1.120130</td>\n",
       "      <td>-0.000129</td>\n",
       "    </tr>\n",
       "  </tbody>\n",
       "</table>\n",
       "<p>73720 rows × 2 columns</p>\n",
       "</div>"
      ],
      "text/plain": [
       "                              price   returns\n",
       "time                                         \n",
       "2019-01-01 22:00:00+00:00  1.146580       NaN\n",
       "2019-01-01 22:05:00+00:00  1.146350 -0.000201\n",
       "2019-01-01 22:10:00+00:00  1.146320 -0.000026\n",
       "2019-01-01 22:15:00+00:00  1.146320  0.000000\n",
       "2019-01-01 22:20:00+00:00  1.146530  0.000183\n",
       "...                             ...       ...\n",
       "2019-12-30 23:35:00+00:00  1.120180 -0.000004\n",
       "2019-12-30 23:40:00+00:00  1.120210  0.000027\n",
       "2019-12-30 23:45:00+00:00  1.120295  0.000076\n",
       "2019-12-30 23:50:00+00:00  1.120275 -0.000018\n",
       "2019-12-30 23:55:00+00:00  1.120130 -0.000129\n",
       "\n",
       "[73720 rows x 2 columns]"
      ]
     },
     "execution_count": 4,
     "metadata": {},
     "output_type": "execute_result"
    }
   ],
   "source": [
    "data"
   ]
  },
  {
   "cell_type": "code",
   "execution_count": 5,
   "metadata": {
    "ExecuteTime": {
     "end_time": "2021-03-28T11:36:38.368023Z",
     "start_time": "2021-03-28T11:36:38.364786Z"
    }
   },
   "outputs": [],
   "source": [
    "data['direction'] = np.sign(data['returns'])"
   ]
  },
  {
   "cell_type": "code",
   "execution_count": 6,
   "metadata": {
    "ExecuteTime": {
     "end_time": "2021-03-28T11:36:38.378535Z",
     "start_time": "2021-03-28T11:36:38.369608Z"
    }
   },
   "outputs": [
    {
     "data": {
      "text/html": [
       "<div>\n",
       "<style scoped>\n",
       "    .dataframe tbody tr th:only-of-type {\n",
       "        vertical-align: middle;\n",
       "    }\n",
       "\n",
       "    .dataframe tbody tr th {\n",
       "        vertical-align: top;\n",
       "    }\n",
       "\n",
       "    .dataframe thead th {\n",
       "        text-align: right;\n",
       "    }\n",
       "</style>\n",
       "<table border=\"1\" class=\"dataframe\">\n",
       "  <thead>\n",
       "    <tr style=\"text-align: right;\">\n",
       "      <th></th>\n",
       "      <th>price</th>\n",
       "      <th>returns</th>\n",
       "      <th>direction</th>\n",
       "    </tr>\n",
       "    <tr>\n",
       "      <th>time</th>\n",
       "      <th></th>\n",
       "      <th></th>\n",
       "      <th></th>\n",
       "    </tr>\n",
       "  </thead>\n",
       "  <tbody>\n",
       "    <tr>\n",
       "      <th>2019-01-01 22:00:00+00:00</th>\n",
       "      <td>1.146580</td>\n",
       "      <td>NaN</td>\n",
       "      <td>NaN</td>\n",
       "    </tr>\n",
       "    <tr>\n",
       "      <th>2019-01-01 22:05:00+00:00</th>\n",
       "      <td>1.146350</td>\n",
       "      <td>-0.000201</td>\n",
       "      <td>-1.0</td>\n",
       "    </tr>\n",
       "    <tr>\n",
       "      <th>2019-01-01 22:10:00+00:00</th>\n",
       "      <td>1.146320</td>\n",
       "      <td>-0.000026</td>\n",
       "      <td>-1.0</td>\n",
       "    </tr>\n",
       "    <tr>\n",
       "      <th>2019-01-01 22:15:00+00:00</th>\n",
       "      <td>1.146320</td>\n",
       "      <td>0.000000</td>\n",
       "      <td>0.0</td>\n",
       "    </tr>\n",
       "    <tr>\n",
       "      <th>2019-01-01 22:20:00+00:00</th>\n",
       "      <td>1.146530</td>\n",
       "      <td>0.000183</td>\n",
       "      <td>1.0</td>\n",
       "    </tr>\n",
       "    <tr>\n",
       "      <th>...</th>\n",
       "      <td>...</td>\n",
       "      <td>...</td>\n",
       "      <td>...</td>\n",
       "    </tr>\n",
       "    <tr>\n",
       "      <th>2019-12-30 23:35:00+00:00</th>\n",
       "      <td>1.120180</td>\n",
       "      <td>-0.000004</td>\n",
       "      <td>-1.0</td>\n",
       "    </tr>\n",
       "    <tr>\n",
       "      <th>2019-12-30 23:40:00+00:00</th>\n",
       "      <td>1.120210</td>\n",
       "      <td>0.000027</td>\n",
       "      <td>1.0</td>\n",
       "    </tr>\n",
       "    <tr>\n",
       "      <th>2019-12-30 23:45:00+00:00</th>\n",
       "      <td>1.120295</td>\n",
       "      <td>0.000076</td>\n",
       "      <td>1.0</td>\n",
       "    </tr>\n",
       "    <tr>\n",
       "      <th>2019-12-30 23:50:00+00:00</th>\n",
       "      <td>1.120275</td>\n",
       "      <td>-0.000018</td>\n",
       "      <td>-1.0</td>\n",
       "    </tr>\n",
       "    <tr>\n",
       "      <th>2019-12-30 23:55:00+00:00</th>\n",
       "      <td>1.120130</td>\n",
       "      <td>-0.000129</td>\n",
       "      <td>-1.0</td>\n",
       "    </tr>\n",
       "  </tbody>\n",
       "</table>\n",
       "<p>73720 rows × 3 columns</p>\n",
       "</div>"
      ],
      "text/plain": [
       "                              price   returns  direction\n",
       "time                                                    \n",
       "2019-01-01 22:00:00+00:00  1.146580       NaN        NaN\n",
       "2019-01-01 22:05:00+00:00  1.146350 -0.000201       -1.0\n",
       "2019-01-01 22:10:00+00:00  1.146320 -0.000026       -1.0\n",
       "2019-01-01 22:15:00+00:00  1.146320  0.000000        0.0\n",
       "2019-01-01 22:20:00+00:00  1.146530  0.000183        1.0\n",
       "...                             ...       ...        ...\n",
       "2019-12-30 23:35:00+00:00  1.120180 -0.000004       -1.0\n",
       "2019-12-30 23:40:00+00:00  1.120210  0.000027        1.0\n",
       "2019-12-30 23:45:00+00:00  1.120295  0.000076        1.0\n",
       "2019-12-30 23:50:00+00:00  1.120275 -0.000018       -1.0\n",
       "2019-12-30 23:55:00+00:00  1.120130 -0.000129       -1.0\n",
       "\n",
       "[73720 rows x 3 columns]"
      ]
     },
     "execution_count": 6,
     "metadata": {},
     "output_type": "execute_result"
    }
   ],
   "source": [
    "data"
   ]
  },
  {
   "cell_type": "code",
   "execution_count": 7,
   "metadata": {
    "ExecuteTime": {
     "end_time": "2021-03-28T11:36:38.385200Z",
     "start_time": "2021-03-28T11:36:38.379809Z"
    }
   },
   "outputs": [
    {
     "data": {
      "text/plain": [
       " 1.0    36058\n",
       "-1.0    35702\n",
       " 0.0     1959\n",
       "Name: direction, dtype: int64"
      ]
     },
     "execution_count": 7,
     "metadata": {},
     "output_type": "execute_result"
    }
   ],
   "source": [
    "data['direction'].value_counts()"
   ]
  },
  {
   "cell_type": "code",
   "execution_count": 8,
   "metadata": {
    "ExecuteTime": {
     "end_time": "2021-03-28T11:36:38.390338Z",
     "start_time": "2021-03-28T11:36:38.388548Z"
    }
   },
   "outputs": [],
   "source": [
    "lags = 5"
   ]
  },
  {
   "cell_type": "code",
   "execution_count": 9,
   "metadata": {
    "ExecuteTime": {
     "end_time": "2021-03-28T11:36:38.411599Z",
     "start_time": "2021-03-28T11:36:38.392908Z"
    }
   },
   "outputs": [],
   "source": [
    "cols = []\n",
    "\n",
    "for lag in range(1, lags + 1):\n",
    "    col = 'lag{}'.format(lag)\n",
    "    data[col] = data['returns'].shift(lag)\n",
    "    cols.append(col)\n",
    "\n",
    "data.dropna(inplace = True)"
   ]
  },
  {
   "cell_type": "code",
   "execution_count": 10,
   "metadata": {
    "ExecuteTime": {
     "end_time": "2021-03-28T11:36:38.426495Z",
     "start_time": "2021-03-28T11:36:38.413833Z"
    }
   },
   "outputs": [
    {
     "data": {
      "text/html": [
       "<div>\n",
       "<style scoped>\n",
       "    .dataframe tbody tr th:only-of-type {\n",
       "        vertical-align: middle;\n",
       "    }\n",
       "\n",
       "    .dataframe tbody tr th {\n",
       "        vertical-align: top;\n",
       "    }\n",
       "\n",
       "    .dataframe thead th {\n",
       "        text-align: right;\n",
       "    }\n",
       "</style>\n",
       "<table border=\"1\" class=\"dataframe\">\n",
       "  <thead>\n",
       "    <tr style=\"text-align: right;\">\n",
       "      <th></th>\n",
       "      <th>price</th>\n",
       "      <th>returns</th>\n",
       "      <th>direction</th>\n",
       "      <th>lag1</th>\n",
       "      <th>lag2</th>\n",
       "      <th>lag3</th>\n",
       "      <th>lag4</th>\n",
       "      <th>lag5</th>\n",
       "    </tr>\n",
       "    <tr>\n",
       "      <th>time</th>\n",
       "      <th></th>\n",
       "      <th></th>\n",
       "      <th></th>\n",
       "      <th></th>\n",
       "      <th></th>\n",
       "      <th></th>\n",
       "      <th></th>\n",
       "      <th></th>\n",
       "    </tr>\n",
       "  </thead>\n",
       "  <tbody>\n",
       "    <tr>\n",
       "      <th>2019-01-01 22:30:00+00:00</th>\n",
       "      <td>1.146455</td>\n",
       "      <td>-0.000017</td>\n",
       "      <td>-1.0</td>\n",
       "      <td>-0.000048</td>\n",
       "      <td>0.000183</td>\n",
       "      <td>0.000000</td>\n",
       "      <td>-0.000026</td>\n",
       "      <td>-0.000201</td>\n",
       "    </tr>\n",
       "    <tr>\n",
       "      <th>2019-01-01 22:35:00+00:00</th>\n",
       "      <td>1.146455</td>\n",
       "      <td>0.000000</td>\n",
       "      <td>0.0</td>\n",
       "      <td>-0.000017</td>\n",
       "      <td>-0.000048</td>\n",
       "      <td>0.000183</td>\n",
       "      <td>0.000000</td>\n",
       "      <td>-0.000026</td>\n",
       "    </tr>\n",
       "    <tr>\n",
       "      <th>2019-01-01 22:40:00+00:00</th>\n",
       "      <td>1.146370</td>\n",
       "      <td>-0.000074</td>\n",
       "      <td>-1.0</td>\n",
       "      <td>0.000000</td>\n",
       "      <td>-0.000017</td>\n",
       "      <td>-0.000048</td>\n",
       "      <td>0.000183</td>\n",
       "      <td>0.000000</td>\n",
       "    </tr>\n",
       "    <tr>\n",
       "      <th>2019-01-01 22:45:00+00:00</th>\n",
       "      <td>1.146315</td>\n",
       "      <td>-0.000048</td>\n",
       "      <td>-1.0</td>\n",
       "      <td>-0.000074</td>\n",
       "      <td>0.000000</td>\n",
       "      <td>-0.000017</td>\n",
       "      <td>-0.000048</td>\n",
       "      <td>0.000183</td>\n",
       "    </tr>\n",
       "    <tr>\n",
       "      <th>2019-01-01 22:50:00+00:00</th>\n",
       "      <td>1.146475</td>\n",
       "      <td>0.000140</td>\n",
       "      <td>1.0</td>\n",
       "      <td>-0.000048</td>\n",
       "      <td>-0.000074</td>\n",
       "      <td>0.000000</td>\n",
       "      <td>-0.000017</td>\n",
       "      <td>-0.000048</td>\n",
       "    </tr>\n",
       "    <tr>\n",
       "      <th>...</th>\n",
       "      <td>...</td>\n",
       "      <td>...</td>\n",
       "      <td>...</td>\n",
       "      <td>...</td>\n",
       "      <td>...</td>\n",
       "      <td>...</td>\n",
       "      <td>...</td>\n",
       "      <td>...</td>\n",
       "    </tr>\n",
       "    <tr>\n",
       "      <th>2019-12-30 23:35:00+00:00</th>\n",
       "      <td>1.120180</td>\n",
       "      <td>-0.000004</td>\n",
       "      <td>-1.0</td>\n",
       "      <td>-0.000112</td>\n",
       "      <td>-0.000018</td>\n",
       "      <td>0.000022</td>\n",
       "      <td>-0.000004</td>\n",
       "      <td>0.000089</td>\n",
       "    </tr>\n",
       "    <tr>\n",
       "      <th>2019-12-30 23:40:00+00:00</th>\n",
       "      <td>1.120210</td>\n",
       "      <td>0.000027</td>\n",
       "      <td>1.0</td>\n",
       "      <td>-0.000004</td>\n",
       "      <td>-0.000112</td>\n",
       "      <td>-0.000018</td>\n",
       "      <td>0.000022</td>\n",
       "      <td>-0.000004</td>\n",
       "    </tr>\n",
       "    <tr>\n",
       "      <th>2019-12-30 23:45:00+00:00</th>\n",
       "      <td>1.120295</td>\n",
       "      <td>0.000076</td>\n",
       "      <td>1.0</td>\n",
       "      <td>0.000027</td>\n",
       "      <td>-0.000004</td>\n",
       "      <td>-0.000112</td>\n",
       "      <td>-0.000018</td>\n",
       "      <td>0.000022</td>\n",
       "    </tr>\n",
       "    <tr>\n",
       "      <th>2019-12-30 23:50:00+00:00</th>\n",
       "      <td>1.120275</td>\n",
       "      <td>-0.000018</td>\n",
       "      <td>-1.0</td>\n",
       "      <td>0.000076</td>\n",
       "      <td>0.000027</td>\n",
       "      <td>-0.000004</td>\n",
       "      <td>-0.000112</td>\n",
       "      <td>-0.000018</td>\n",
       "    </tr>\n",
       "    <tr>\n",
       "      <th>2019-12-30 23:55:00+00:00</th>\n",
       "      <td>1.120130</td>\n",
       "      <td>-0.000129</td>\n",
       "      <td>-1.0</td>\n",
       "      <td>-0.000018</td>\n",
       "      <td>0.000076</td>\n",
       "      <td>0.000027</td>\n",
       "      <td>-0.000004</td>\n",
       "      <td>-0.000112</td>\n",
       "    </tr>\n",
       "  </tbody>\n",
       "</table>\n",
       "<p>73714 rows × 8 columns</p>\n",
       "</div>"
      ],
      "text/plain": [
       "                              price   returns  direction      lag1      lag2  \\\n",
       "time                                                                           \n",
       "2019-01-01 22:30:00+00:00  1.146455 -0.000017       -1.0 -0.000048  0.000183   \n",
       "2019-01-01 22:35:00+00:00  1.146455  0.000000        0.0 -0.000017 -0.000048   \n",
       "2019-01-01 22:40:00+00:00  1.146370 -0.000074       -1.0  0.000000 -0.000017   \n",
       "2019-01-01 22:45:00+00:00  1.146315 -0.000048       -1.0 -0.000074  0.000000   \n",
       "2019-01-01 22:50:00+00:00  1.146475  0.000140        1.0 -0.000048 -0.000074   \n",
       "...                             ...       ...        ...       ...       ...   \n",
       "2019-12-30 23:35:00+00:00  1.120180 -0.000004       -1.0 -0.000112 -0.000018   \n",
       "2019-12-30 23:40:00+00:00  1.120210  0.000027        1.0 -0.000004 -0.000112   \n",
       "2019-12-30 23:45:00+00:00  1.120295  0.000076        1.0  0.000027 -0.000004   \n",
       "2019-12-30 23:50:00+00:00  1.120275 -0.000018       -1.0  0.000076  0.000027   \n",
       "2019-12-30 23:55:00+00:00  1.120130 -0.000129       -1.0 -0.000018  0.000076   \n",
       "\n",
       "                               lag3      lag4      lag5  \n",
       "time                                                     \n",
       "2019-01-01 22:30:00+00:00  0.000000 -0.000026 -0.000201  \n",
       "2019-01-01 22:35:00+00:00  0.000183  0.000000 -0.000026  \n",
       "2019-01-01 22:40:00+00:00 -0.000048  0.000183  0.000000  \n",
       "2019-01-01 22:45:00+00:00 -0.000017 -0.000048  0.000183  \n",
       "2019-01-01 22:50:00+00:00  0.000000 -0.000017 -0.000048  \n",
       "...                             ...       ...       ...  \n",
       "2019-12-30 23:35:00+00:00  0.000022 -0.000004  0.000089  \n",
       "2019-12-30 23:40:00+00:00 -0.000018  0.000022 -0.000004  \n",
       "2019-12-30 23:45:00+00:00 -0.000112 -0.000018  0.000022  \n",
       "2019-12-30 23:50:00+00:00 -0.000004 -0.000112 -0.000018  \n",
       "2019-12-30 23:55:00+00:00  0.000027 -0.000004 -0.000112  \n",
       "\n",
       "[73714 rows x 8 columns]"
      ]
     },
     "execution_count": 10,
     "metadata": {},
     "output_type": "execute_result"
    }
   ],
   "source": [
    "data"
   ]
  },
  {
   "cell_type": "markdown",
   "metadata": {},
   "source": [
    "# Predicting Market Direction with Logistic Regression in Scikit Learn"
   ]
  },
  {
   "cell_type": "code",
   "execution_count": 11,
   "metadata": {
    "ExecuteTime": {
     "end_time": "2021-03-28T11:36:39.360609Z",
     "start_time": "2021-03-28T11:36:38.428266Z"
    }
   },
   "outputs": [],
   "source": [
    "from sklearn.linear_model import LogisticRegression"
   ]
  },
  {
   "cell_type": "code",
   "execution_count": 12,
   "metadata": {
    "ExecuteTime": {
     "end_time": "2021-03-28T11:36:39.364069Z",
     "start_time": "2021-03-28T11:36:39.361692Z"
    }
   },
   "outputs": [],
   "source": [
    "lm = LogisticRegression(C = 1e6, max_iter = 100000, multi_class = 'ovr')\n",
    "# sinc simple models tend to underfit the data, we have to reduce regularization as much as possible by increasing capital C to a high number like 1 million."
   ]
  },
  {
   "cell_type": "code",
   "execution_count": 13,
   "metadata": {
    "ExecuteTime": {
     "end_time": "2021-03-28T11:36:39.553507Z",
     "start_time": "2021-03-28T11:36:39.365968Z"
    }
   },
   "outputs": [
    {
     "data": {
      "text/plain": [
       "LogisticRegression(C=1000000.0, max_iter=100000, multi_class='ovr')"
      ]
     },
     "execution_count": 13,
     "metadata": {},
     "output_type": "execute_result"
    }
   ],
   "source": [
    "lm.fit(X = data[cols], y = data['direction'])"
   ]
  },
  {
   "cell_type": "code",
   "execution_count": 14,
   "metadata": {
    "ExecuteTime": {
     "end_time": "2021-03-28T11:36:39.565464Z",
     "start_time": "2021-03-28T11:36:39.555232Z"
    }
   },
   "outputs": [],
   "source": [
    "data['pred'] = lm.predict(data[cols])"
   ]
  },
  {
   "cell_type": "code",
   "execution_count": 15,
   "metadata": {
    "ExecuteTime": {
     "end_time": "2021-03-28T11:36:39.581046Z",
     "start_time": "2021-03-28T11:36:39.567279Z"
    }
   },
   "outputs": [
    {
     "data": {
      "text/html": [
       "<div>\n",
       "<style scoped>\n",
       "    .dataframe tbody tr th:only-of-type {\n",
       "        vertical-align: middle;\n",
       "    }\n",
       "\n",
       "    .dataframe tbody tr th {\n",
       "        vertical-align: top;\n",
       "    }\n",
       "\n",
       "    .dataframe thead th {\n",
       "        text-align: right;\n",
       "    }\n",
       "</style>\n",
       "<table border=\"1\" class=\"dataframe\">\n",
       "  <thead>\n",
       "    <tr style=\"text-align: right;\">\n",
       "      <th></th>\n",
       "      <th>price</th>\n",
       "      <th>returns</th>\n",
       "      <th>direction</th>\n",
       "      <th>lag1</th>\n",
       "      <th>lag2</th>\n",
       "      <th>lag3</th>\n",
       "      <th>lag4</th>\n",
       "      <th>lag5</th>\n",
       "      <th>pred</th>\n",
       "    </tr>\n",
       "    <tr>\n",
       "      <th>time</th>\n",
       "      <th></th>\n",
       "      <th></th>\n",
       "      <th></th>\n",
       "      <th></th>\n",
       "      <th></th>\n",
       "      <th></th>\n",
       "      <th></th>\n",
       "      <th></th>\n",
       "      <th></th>\n",
       "    </tr>\n",
       "  </thead>\n",
       "  <tbody>\n",
       "    <tr>\n",
       "      <th>2019-01-01 22:30:00+00:00</th>\n",
       "      <td>1.146455</td>\n",
       "      <td>-0.000017</td>\n",
       "      <td>-1.0</td>\n",
       "      <td>-0.000048</td>\n",
       "      <td>0.000183</td>\n",
       "      <td>0.000000</td>\n",
       "      <td>-0.000026</td>\n",
       "      <td>-0.000201</td>\n",
       "      <td>1.0</td>\n",
       "    </tr>\n",
       "    <tr>\n",
       "      <th>2019-01-01 22:35:00+00:00</th>\n",
       "      <td>1.146455</td>\n",
       "      <td>0.000000</td>\n",
       "      <td>0.0</td>\n",
       "      <td>-0.000017</td>\n",
       "      <td>-0.000048</td>\n",
       "      <td>0.000183</td>\n",
       "      <td>0.000000</td>\n",
       "      <td>-0.000026</td>\n",
       "      <td>1.0</td>\n",
       "    </tr>\n",
       "    <tr>\n",
       "      <th>2019-01-01 22:40:00+00:00</th>\n",
       "      <td>1.146370</td>\n",
       "      <td>-0.000074</td>\n",
       "      <td>-1.0</td>\n",
       "      <td>0.000000</td>\n",
       "      <td>-0.000017</td>\n",
       "      <td>-0.000048</td>\n",
       "      <td>0.000183</td>\n",
       "      <td>0.000000</td>\n",
       "      <td>-1.0</td>\n",
       "    </tr>\n",
       "    <tr>\n",
       "      <th>2019-01-01 22:45:00+00:00</th>\n",
       "      <td>1.146315</td>\n",
       "      <td>-0.000048</td>\n",
       "      <td>-1.0</td>\n",
       "      <td>-0.000074</td>\n",
       "      <td>0.000000</td>\n",
       "      <td>-0.000017</td>\n",
       "      <td>-0.000048</td>\n",
       "      <td>0.000183</td>\n",
       "      <td>1.0</td>\n",
       "    </tr>\n",
       "    <tr>\n",
       "      <th>2019-01-01 22:50:00+00:00</th>\n",
       "      <td>1.146475</td>\n",
       "      <td>0.000140</td>\n",
       "      <td>1.0</td>\n",
       "      <td>-0.000048</td>\n",
       "      <td>-0.000074</td>\n",
       "      <td>0.000000</td>\n",
       "      <td>-0.000017</td>\n",
       "      <td>-0.000048</td>\n",
       "      <td>1.0</td>\n",
       "    </tr>\n",
       "    <tr>\n",
       "      <th>...</th>\n",
       "      <td>...</td>\n",
       "      <td>...</td>\n",
       "      <td>...</td>\n",
       "      <td>...</td>\n",
       "      <td>...</td>\n",
       "      <td>...</td>\n",
       "      <td>...</td>\n",
       "      <td>...</td>\n",
       "      <td>...</td>\n",
       "    </tr>\n",
       "    <tr>\n",
       "      <th>2019-12-30 23:35:00+00:00</th>\n",
       "      <td>1.120180</td>\n",
       "      <td>-0.000004</td>\n",
       "      <td>-1.0</td>\n",
       "      <td>-0.000112</td>\n",
       "      <td>-0.000018</td>\n",
       "      <td>0.000022</td>\n",
       "      <td>-0.000004</td>\n",
       "      <td>0.000089</td>\n",
       "      <td>1.0</td>\n",
       "    </tr>\n",
       "    <tr>\n",
       "      <th>2019-12-30 23:40:00+00:00</th>\n",
       "      <td>1.120210</td>\n",
       "      <td>0.000027</td>\n",
       "      <td>1.0</td>\n",
       "      <td>-0.000004</td>\n",
       "      <td>-0.000112</td>\n",
       "      <td>-0.000018</td>\n",
       "      <td>0.000022</td>\n",
       "      <td>-0.000004</td>\n",
       "      <td>1.0</td>\n",
       "    </tr>\n",
       "    <tr>\n",
       "      <th>2019-12-30 23:45:00+00:00</th>\n",
       "      <td>1.120295</td>\n",
       "      <td>0.000076</td>\n",
       "      <td>1.0</td>\n",
       "      <td>0.000027</td>\n",
       "      <td>-0.000004</td>\n",
       "      <td>-0.000112</td>\n",
       "      <td>-0.000018</td>\n",
       "      <td>0.000022</td>\n",
       "      <td>1.0</td>\n",
       "    </tr>\n",
       "    <tr>\n",
       "      <th>2019-12-30 23:50:00+00:00</th>\n",
       "      <td>1.120275</td>\n",
       "      <td>-0.000018</td>\n",
       "      <td>-1.0</td>\n",
       "      <td>0.000076</td>\n",
       "      <td>0.000027</td>\n",
       "      <td>-0.000004</td>\n",
       "      <td>-0.000112</td>\n",
       "      <td>-0.000018</td>\n",
       "      <td>-1.0</td>\n",
       "    </tr>\n",
       "    <tr>\n",
       "      <th>2019-12-30 23:55:00+00:00</th>\n",
       "      <td>1.120130</td>\n",
       "      <td>-0.000129</td>\n",
       "      <td>-1.0</td>\n",
       "      <td>-0.000018</td>\n",
       "      <td>0.000076</td>\n",
       "      <td>0.000027</td>\n",
       "      <td>-0.000004</td>\n",
       "      <td>-0.000112</td>\n",
       "      <td>1.0</td>\n",
       "    </tr>\n",
       "  </tbody>\n",
       "</table>\n",
       "<p>73714 rows × 9 columns</p>\n",
       "</div>"
      ],
      "text/plain": [
       "                              price   returns  direction      lag1      lag2  \\\n",
       "time                                                                           \n",
       "2019-01-01 22:30:00+00:00  1.146455 -0.000017       -1.0 -0.000048  0.000183   \n",
       "2019-01-01 22:35:00+00:00  1.146455  0.000000        0.0 -0.000017 -0.000048   \n",
       "2019-01-01 22:40:00+00:00  1.146370 -0.000074       -1.0  0.000000 -0.000017   \n",
       "2019-01-01 22:45:00+00:00  1.146315 -0.000048       -1.0 -0.000074  0.000000   \n",
       "2019-01-01 22:50:00+00:00  1.146475  0.000140        1.0 -0.000048 -0.000074   \n",
       "...                             ...       ...        ...       ...       ...   \n",
       "2019-12-30 23:35:00+00:00  1.120180 -0.000004       -1.0 -0.000112 -0.000018   \n",
       "2019-12-30 23:40:00+00:00  1.120210  0.000027        1.0 -0.000004 -0.000112   \n",
       "2019-12-30 23:45:00+00:00  1.120295  0.000076        1.0  0.000027 -0.000004   \n",
       "2019-12-30 23:50:00+00:00  1.120275 -0.000018       -1.0  0.000076  0.000027   \n",
       "2019-12-30 23:55:00+00:00  1.120130 -0.000129       -1.0 -0.000018  0.000076   \n",
       "\n",
       "                               lag3      lag4      lag5  pred  \n",
       "time                                                           \n",
       "2019-01-01 22:30:00+00:00  0.000000 -0.000026 -0.000201   1.0  \n",
       "2019-01-01 22:35:00+00:00  0.000183  0.000000 -0.000026   1.0  \n",
       "2019-01-01 22:40:00+00:00 -0.000048  0.000183  0.000000  -1.0  \n",
       "2019-01-01 22:45:00+00:00 -0.000017 -0.000048  0.000183   1.0  \n",
       "2019-01-01 22:50:00+00:00  0.000000 -0.000017 -0.000048   1.0  \n",
       "...                             ...       ...       ...   ...  \n",
       "2019-12-30 23:35:00+00:00  0.000022 -0.000004  0.000089   1.0  \n",
       "2019-12-30 23:40:00+00:00 -0.000018  0.000022 -0.000004   1.0  \n",
       "2019-12-30 23:45:00+00:00 -0.000112 -0.000018  0.000022   1.0  \n",
       "2019-12-30 23:50:00+00:00 -0.000004 -0.000112 -0.000018  -1.0  \n",
       "2019-12-30 23:55:00+00:00  0.000027 -0.000004 -0.000112   1.0  \n",
       "\n",
       "[73714 rows x 9 columns]"
      ]
     },
     "execution_count": 15,
     "metadata": {},
     "output_type": "execute_result"
    }
   ],
   "source": [
    "data"
   ]
  },
  {
   "cell_type": "code",
   "execution_count": 16,
   "metadata": {
    "ExecuteTime": {
     "end_time": "2021-03-28T11:36:39.589985Z",
     "start_time": "2021-03-28T11:36:39.583080Z"
    }
   },
   "outputs": [
    {
     "data": {
      "text/plain": [
       " 1.0    41406\n",
       "-1.0    32308\n",
       "Name: pred, dtype: int64"
      ]
     },
     "execution_count": 16,
     "metadata": {},
     "output_type": "execute_result"
    }
   ],
   "source": [
    "data['pred'].value_counts()"
   ]
  },
  {
   "cell_type": "code",
   "execution_count": null,
   "metadata": {
    "ExecuteTime": {
     "end_time": "2021-03-28T11:36:39.600126Z",
     "start_time": "2021-03-28T11:36:39.592391Z"
    }
   },
   "outputs": [],
   "source": [
    "hits = np.sign(data['direction'] * data['pred']).value_counts()"
   ]
  },
  {
   "cell_type": "code",
   "execution_count": null,
   "metadata": {
    "ExecuteTime": {
     "end_time": "2021-03-28T11:36:39.606068Z",
     "start_time": "2021-03-28T11:36:39.601957Z"
    }
   },
   "outputs": [],
   "source": [
    "hits"
   ]
  },
  {
   "cell_type": "code",
   "execution_count": null,
   "metadata": {
    "ExecuteTime": {
     "end_time": "2021-03-28T11:36:39.610447Z",
     "start_time": "2021-03-28T11:36:39.608025Z"
    }
   },
   "outputs": [],
   "source": [
    "hit_ratio = hits[1.0] / sum(hits)"
   ]
  },
  {
   "cell_type": "code",
   "execution_count": null,
   "metadata": {
    "ExecuteTime": {
     "end_time": "2021-03-28T11:36:39.615510Z",
     "start_time": "2021-03-28T11:36:39.612386Z"
    }
   },
   "outputs": [],
   "source": [
    "hit_ratio"
   ]
  },
  {
   "cell_type": "code",
   "execution_count": null,
   "metadata": {
    "ExecuteTime": {
     "end_time": "2021-03-28T11:36:39.620056Z",
     "start_time": "2021-03-28T11:36:39.617628Z"
    }
   },
   "outputs": [],
   "source": [
    "from sklearn.metrics import accuracy_score"
   ]
  },
  {
   "cell_type": "code",
   "execution_count": null,
   "metadata": {
    "ExecuteTime": {
     "end_time": "2021-03-28T11:36:39.632382Z",
     "start_time": "2021-03-28T11:36:39.621973Z"
    }
   },
   "outputs": [],
   "source": [
    "accuracy_score(y_true  = data ['direction'], y_pred = data['pred'])"
   ]
  },
  {
   "cell_type": "markdown",
   "metadata": {},
   "source": [
    "# In-sample Backtesting & the Look-Ahead Bias"
   ]
  },
  {
   "cell_type": "code",
   "execution_count": null,
   "metadata": {
    "ExecuteTime": {
     "end_time": "2021-03-28T11:36:39.644618Z",
     "start_time": "2021-03-28T11:36:39.640334Z"
    }
   },
   "outputs": [],
   "source": [
    "data ['strategy'] = data['pred'] * data ['returns']"
   ]
  },
  {
   "cell_type": "code",
   "execution_count": null,
   "metadata": {
    "ExecuteTime": {
     "end_time": "2021-03-28T11:36:39.667239Z",
     "start_time": "2021-03-28T11:36:39.648709Z"
    }
   },
   "outputs": [],
   "source": [
    "data "
   ]
  },
  {
   "cell_type": "code",
   "execution_count": null,
   "metadata": {
    "ExecuteTime": {
     "end_time": "2021-03-28T11:36:39.677685Z",
     "start_time": "2021-03-28T11:36:39.669206Z"
    }
   },
   "outputs": [],
   "source": [
    "data ['creturns'] = data ['returns'].cumsum().apply(np.exp)\n",
    "data ['cstrategy'] = data ['strategy'].cumsum().apply(np.exp)"
   ]
  },
  {
   "cell_type": "code",
   "execution_count": null,
   "metadata": {
    "ExecuteTime": {
     "end_time": "2021-03-28T11:36:40.058132Z",
     "start_time": "2021-03-28T11:36:39.679568Z"
    }
   },
   "outputs": [],
   "source": [
    "data[['creturns', 'cstrategy']].plot(figsize = (12, 8));"
   ]
  },
  {
   "cell_type": "code",
   "execution_count": null,
   "metadata": {
    "ExecuteTime": {
     "end_time": "2021-03-28T11:36:40.073060Z",
     "start_time": "2021-03-28T11:36:40.060173Z"
    }
   },
   "outputs": [],
   "source": [
    "data"
   ]
  },
  {
   "cell_type": "code",
   "execution_count": null,
   "metadata": {
    "ExecuteTime": {
     "end_time": "2021-03-28T11:36:40.078809Z",
     "start_time": "2021-03-28T11:36:40.074947Z"
    }
   },
   "outputs": [],
   "source": [
    "data['trades'] = data['pred'].diff().fillna(0).abs()"
   ]
  },
  {
   "cell_type": "code",
   "execution_count": null,
   "metadata": {
    "ExecuteTime": {
     "end_time": "2021-03-28T11:36:40.084756Z",
     "start_time": "2021-03-28T11:36:40.080121Z"
    }
   },
   "outputs": [],
   "source": [
    "data['trades'].value_counts()"
   ]
  },
  {
   "cell_type": "code",
   "execution_count": null,
   "metadata": {
    "ExecuteTime": {
     "end_time": "2021-03-28T11:36:40.101390Z",
     "start_time": "2021-03-28T11:36:40.086000Z"
    }
   },
   "outputs": [],
   "source": [
    "data"
   ]
  },
  {
   "cell_type": "markdown",
   "metadata": {},
   "source": [
    "# Out-of-Sample Forward Testing"
   ]
  },
  {
   "cell_type": "code",
   "execution_count": null,
   "metadata": {
    "ExecuteTime": {
     "end_time": "2021-03-28T11:36:40.241343Z",
     "start_time": "2021-03-28T11:36:40.102930Z"
    }
   },
   "outputs": [],
   "source": [
    "data  = pd.read_csv('../DataSets/test_set.csv', parse_dates = ['time'], index_col = 'time')"
   ]
  },
  {
   "cell_type": "code",
   "execution_count": null,
   "metadata": {
    "ExecuteTime": {
     "end_time": "2021-03-28T11:36:40.250003Z",
     "start_time": "2021-03-28T11:36:40.242872Z"
    }
   },
   "outputs": [],
   "source": [
    "data "
   ]
  },
  {
   "cell_type": "code",
   "execution_count": null,
   "metadata": {
    "ExecuteTime": {
     "end_time": "2021-03-28T11:36:40.255975Z",
     "start_time": "2021-03-28T11:36:40.251455Z"
    }
   },
   "outputs": [],
   "source": [
    "data['returns'] = np.log(data / data.shift(1))"
   ]
  },
  {
   "cell_type": "code",
   "execution_count": null,
   "metadata": {
    "ExecuteTime": {
     "end_time": "2021-03-28T11:36:40.260348Z",
     "start_time": "2021-03-28T11:36:40.257232Z"
    }
   },
   "outputs": [],
   "source": [
    "data['direction'] = np.sign(data ['returns'])"
   ]
  },
  {
   "cell_type": "code",
   "execution_count": null,
   "metadata": {
    "ExecuteTime": {
     "end_time": "2021-03-28T11:36:40.270366Z",
     "start_time": "2021-03-28T11:36:40.261713Z"
    }
   },
   "outputs": [],
   "source": [
    "data "
   ]
  },
  {
   "cell_type": "code",
   "execution_count": null,
   "metadata": {
    "ExecuteTime": {
     "end_time": "2021-03-28T11:36:40.273698Z",
     "start_time": "2021-03-28T11:36:40.271814Z"
    }
   },
   "outputs": [],
   "source": [
    "lags = 5"
   ]
  },
  {
   "cell_type": "code",
   "execution_count": null,
   "metadata": {
    "ExecuteTime": {
     "end_time": "2021-03-28T11:36:40.286078Z",
     "start_time": "2021-03-28T11:36:40.275020Z"
    }
   },
   "outputs": [],
   "source": [
    "cols = []\n",
    "\n",
    "for lag in range (1, lags + 1):\n",
    "    col = 'lag{}'.format(lag )\n",
    "    data [col] = data['returns'].shift(lag)\n",
    "    cols.append(col )\n",
    "    \n",
    "data.dropna(inplace = True )"
   ]
  },
  {
   "cell_type": "code",
   "execution_count": null,
   "metadata": {
    "ExecuteTime": {
     "end_time": "2021-03-28T11:36:40.299338Z",
     "start_time": "2021-03-28T11:36:40.287313Z"
    }
   },
   "outputs": [],
   "source": [
    "data"
   ]
  },
  {
   "cell_type": "code",
   "execution_count": null,
   "metadata": {
    "ExecuteTime": {
     "end_time": "2021-03-28T11:36:40.308707Z",
     "start_time": "2021-03-28T11:36:40.300728Z"
    }
   },
   "outputs": [],
   "source": [
    "data['pred'] = lm.predict(data[cols])"
   ]
  },
  {
   "cell_type": "code",
   "execution_count": null,
   "metadata": {
    "ExecuteTime": {
     "end_time": "2021-03-28T11:36:40.327240Z",
     "start_time": "2021-03-28T11:36:40.310445Z"
    }
   },
   "outputs": [],
   "source": [
    "data"
   ]
  },
  {
   "cell_type": "code",
   "execution_count": null,
   "metadata": {
    "ExecuteTime": {
     "end_time": "2021-03-28T11:36:40.334407Z",
     "start_time": "2021-03-28T11:36:40.329220Z"
    }
   },
   "outputs": [],
   "source": [
    "data['pred'].value_counts()"
   ]
  },
  {
   "cell_type": "code",
   "execution_count": null,
   "metadata": {
    "ExecuteTime": {
     "end_time": "2021-03-28T11:36:40.341164Z",
     "start_time": "2021-03-28T11:36:40.336240Z"
    }
   },
   "outputs": [],
   "source": [
    "hits = np.sign(data['direction'] * data['pred']).value_counts()"
   ]
  },
  {
   "cell_type": "code",
   "execution_count": null,
   "metadata": {
    "ExecuteTime": {
     "end_time": "2021-03-28T11:36:40.347804Z",
     "start_time": "2021-03-28T11:36:40.343267Z"
    }
   },
   "outputs": [],
   "source": [
    "hits"
   ]
  },
  {
   "cell_type": "code",
   "execution_count": null,
   "metadata": {
    "ExecuteTime": {
     "end_time": "2021-03-28T11:36:40.351881Z",
     "start_time": "2021-03-28T11:36:40.349512Z"
    }
   },
   "outputs": [],
   "source": [
    "hit_ratio = hits[1.0] / sum(hits)"
   ]
  },
  {
   "cell_type": "code",
   "execution_count": null,
   "metadata": {
    "ExecuteTime": {
     "end_time": "2021-03-28T11:36:40.356730Z",
     "start_time": "2021-03-28T11:36:40.353751Z"
    }
   },
   "outputs": [],
   "source": [
    "hit_ratio"
   ]
  },
  {
   "cell_type": "code",
   "execution_count": null,
   "metadata": {
    "ExecuteTime": {
     "end_time": "2021-03-28T11:36:40.361763Z",
     "start_time": "2021-03-28T11:36:40.358651Z"
    }
   },
   "outputs": [],
   "source": [
    "data['strategy'] = data['pred'] * data['returns']"
   ]
  },
  {
   "cell_type": "code",
   "execution_count": null,
   "metadata": {
    "ExecuteTime": {
     "end_time": "2021-03-28T11:36:40.370481Z",
     "start_time": "2021-03-28T11:36:40.363716Z"
    }
   },
   "outputs": [],
   "source": [
    "data['creturns'] = data['returns'].cumsum().apply(np.exp)\n",
    "data ['cstrategy'] = data['strategy'].cumsum().apply(np.exp)"
   ]
  },
  {
   "cell_type": "code",
   "execution_count": null,
   "metadata": {
    "ExecuteTime": {
     "end_time": "2021-03-28T11:37:06.969454Z",
     "start_time": "2021-03-28T11:37:06.736322Z"
    }
   },
   "outputs": [],
   "source": [
    "data[['creturns', 'cstrategy']].plot(figsize = (12, 8));"
   ]
  },
  {
   "cell_type": "code",
   "execution_count": null,
   "metadata": {
    "ExecuteTime": {
     "end_time": "2021-03-28T11:37:27.336123Z",
     "start_time": "2021-03-28T11:37:27.331808Z"
    }
   },
   "outputs": [],
   "source": [
    "data['trades'] = data['pred'].diff().fillna(0).abs()"
   ]
  },
  {
   "cell_type": "code",
   "execution_count": null,
   "metadata": {
    "ExecuteTime": {
     "end_time": "2021-03-28T11:37:39.795417Z",
     "start_time": "2021-03-28T11:37:39.789264Z"
    }
   },
   "outputs": [],
   "source": [
    "data['trades'].value_counts()"
   ]
  },
  {
   "cell_type": "code",
   "execution_count": null,
   "metadata": {
    "ExecuteTime": {
     "end_time": "2021-03-28T11:37:43.569012Z",
     "start_time": "2021-03-28T11:37:43.551194Z"
    }
   },
   "outputs": [],
   "source": [
    "data"
   ]
  },
  {
   "cell_type": "code",
   "execution_count": null,
   "metadata": {},
   "outputs": [],
   "source": []
  },
  {
   "cell_type": "code",
   "execution_count": null,
   "metadata": {},
   "outputs": [],
   "source": []
  },
  {
   "cell_type": "code",
   "execution_count": null,
   "metadata": {},
   "outputs": [],
   "source": []
  },
  {
   "cell_type": "code",
   "execution_count": null,
   "metadata": {},
   "outputs": [],
   "source": []
  },
  {
   "cell_type": "code",
   "execution_count": null,
   "metadata": {},
   "outputs": [],
   "source": []
  }
 ],
 "metadata": {
  "kernelspec": {
   "display_name": "pypr",
   "language": "python",
   "name": "pypr"
  },
  "language_info": {
   "codemirror_mode": {
    "name": "ipython",
    "version": 3
   },
   "file_extension": ".py",
   "mimetype": "text/x-python",
   "name": "python",
   "nbconvert_exporter": "python",
   "pygments_lexer": "ipython3",
   "version": "3.8.12"
  }
 },
 "nbformat": 4,
 "nbformat_minor": 4
}
