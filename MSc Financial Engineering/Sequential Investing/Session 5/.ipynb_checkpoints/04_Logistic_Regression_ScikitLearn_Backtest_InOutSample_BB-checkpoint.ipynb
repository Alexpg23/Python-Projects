{
 "cells": [
  {
   "cell_type": "code",
   "execution_count": null,
   "metadata": {
    "ExecuteTime": {
     "end_time": "2021-03-28T11:36:38.089971Z",
     "start_time": "2021-03-28T11:36:37.285898Z"
    }
   },
   "outputs": [],
   "source": [
    "import pandas as pd\n",
    "import numpy as np\n",
    "import matplotlib.pyplot as plt\n",
    "plt.style.use('seaborn')"
   ]
  },
  {
   "cell_type": "code",
   "execution_count": null,
   "metadata": {
    "ExecuteTime": {
     "end_time": "2021-03-28T11:36:38.329943Z",
     "start_time": "2021-03-28T11:36:38.091650Z"
    }
   },
   "outputs": [],
   "source": [
    "data = pd.read_csv('../DataSets/five_minute.csv', parse_dates = ['time'], index_col = 'time')"
   ]
  },
  {
   "cell_type": "code",
   "execution_count": null,
   "metadata": {
    "ExecuteTime": {
     "end_time": "2021-03-28T11:36:38.350137Z",
     "start_time": "2021-03-28T11:36:38.332368Z"
    }
   },
   "outputs": [],
   "source": [
    "data['returns'] = np.log(data / data.shift(1))"
   ]
  },
  {
   "cell_type": "code",
   "execution_count": null,
   "metadata": {
    "ExecuteTime": {
     "end_time": "2021-03-28T11:36:38.363559Z",
     "start_time": "2021-03-28T11:36:38.351942Z"
    }
   },
   "outputs": [],
   "source": [
    "data"
   ]
  },
  {
   "cell_type": "code",
   "execution_count": null,
   "metadata": {
    "ExecuteTime": {
     "end_time": "2021-03-28T11:36:38.368023Z",
     "start_time": "2021-03-28T11:36:38.364786Z"
    }
   },
   "outputs": [],
   "source": [
    "data['direction'] = np.sign(data['returns'])"
   ]
  },
  {
   "cell_type": "code",
   "execution_count": null,
   "metadata": {
    "ExecuteTime": {
     "end_time": "2021-03-28T11:36:38.378535Z",
     "start_time": "2021-03-28T11:36:38.369608Z"
    }
   },
   "outputs": [],
   "source": [
    "data"
   ]
  },
  {
   "cell_type": "code",
   "execution_count": null,
   "metadata": {
    "ExecuteTime": {
     "end_time": "2021-03-28T11:36:38.385200Z",
     "start_time": "2021-03-28T11:36:38.379809Z"
    }
   },
   "outputs": [],
   "source": [
    "data['direction'].value_counts()"
   ]
  },
  {
   "cell_type": "code",
   "execution_count": null,
   "metadata": {
    "ExecuteTime": {
     "end_time": "2021-03-28T11:36:38.390338Z",
     "start_time": "2021-03-28T11:36:38.388548Z"
    }
   },
   "outputs": [],
   "source": [
    "lags = 5"
   ]
  },
  {
   "cell_type": "code",
   "execution_count": null,
   "metadata": {
    "ExecuteTime": {
     "end_time": "2021-03-28T11:36:38.411599Z",
     "start_time": "2021-03-28T11:36:38.392908Z"
    }
   },
   "outputs": [],
   "source": [
    "cols = []\n",
    "\n",
    "for lag in range(1, lags + 1):\n",
    "    col = 'lag{}'.format(lag)\n",
    "    data[col] = data['returns'].shift(lag)\n",
    "    cols.append(col)\n",
    "\n",
    "data.dropna(inplace = True)"
   ]
  },
  {
   "cell_type": "code",
   "execution_count": null,
   "metadata": {
    "ExecuteTime": {
     "end_time": "2021-03-28T11:36:38.426495Z",
     "start_time": "2021-03-28T11:36:38.413833Z"
    }
   },
   "outputs": [],
   "source": [
    "data"
   ]
  },
  {
   "cell_type": "markdown",
   "metadata": {},
   "source": [
    "# Predicting Market Direction with Logistic Regression in Scikit Learn"
   ]
  },
  {
   "cell_type": "code",
   "execution_count": null,
   "metadata": {
    "ExecuteTime": {
     "end_time": "2021-03-28T11:36:39.360609Z",
     "start_time": "2021-03-28T11:36:38.428266Z"
    }
   },
   "outputs": [],
   "source": [
    "from sklearn.linear_model import LogisticRegression"
   ]
  },
  {
   "cell_type": "code",
   "execution_count": null,
   "metadata": {
    "ExecuteTime": {
     "end_time": "2021-03-28T11:36:39.364069Z",
     "start_time": "2021-03-28T11:36:39.361692Z"
    }
   },
   "outputs": [],
   "source": [
    "lm = LogisticRegression(C = 1e6, max_iter = 100000, multi_class = 'ovr')\n",
    "# sinc simple models tend to underfit the data, we have to reduce regularization as much as possible by increasing capital C to a high number like 1 million."
   ]
  },
  {
   "cell_type": "code",
   "execution_count": null,
   "metadata": {
    "ExecuteTime": {
     "end_time": "2021-03-28T11:36:39.553507Z",
     "start_time": "2021-03-28T11:36:39.365968Z"
    }
   },
   "outputs": [],
   "source": [
    "lm.fit(X = data[cols], y = data['direction'])"
   ]
  },
  {
   "cell_type": "code",
   "execution_count": null,
   "metadata": {
    "ExecuteTime": {
     "end_time": "2021-03-28T11:36:39.565464Z",
     "start_time": "2021-03-28T11:36:39.555232Z"
    }
   },
   "outputs": [],
   "source": [
    "data['pred'] = lm.predict(data[cols])"
   ]
  },
  {
   "cell_type": "code",
   "execution_count": null,
   "metadata": {
    "ExecuteTime": {
     "end_time": "2021-03-28T11:36:39.581046Z",
     "start_time": "2021-03-28T11:36:39.567279Z"
    }
   },
   "outputs": [],
   "source": [
    "data"
   ]
  },
  {
   "cell_type": "code",
   "execution_count": null,
   "metadata": {
    "ExecuteTime": {
     "end_time": "2021-03-28T11:36:39.589985Z",
     "start_time": "2021-03-28T11:36:39.583080Z"
    }
   },
   "outputs": [],
   "source": [
    "data['pred'].value_counts()"
   ]
  },
  {
   "cell_type": "code",
   "execution_count": null,
   "metadata": {
    "ExecuteTime": {
     "end_time": "2021-03-28T11:36:39.600126Z",
     "start_time": "2021-03-28T11:36:39.592391Z"
    }
   },
   "outputs": [],
   "source": [
    "hits = np.sign(data['direction'] * data['pred']).value_counts()"
   ]
  },
  {
   "cell_type": "code",
   "execution_count": null,
   "metadata": {
    "ExecuteTime": {
     "end_time": "2021-03-28T11:36:39.606068Z",
     "start_time": "2021-03-28T11:36:39.601957Z"
    }
   },
   "outputs": [],
   "source": [
    "hits"
   ]
  },
  {
   "cell_type": "code",
   "execution_count": null,
   "metadata": {
    "ExecuteTime": {
     "end_time": "2021-03-28T11:36:39.610447Z",
     "start_time": "2021-03-28T11:36:39.608025Z"
    }
   },
   "outputs": [],
   "source": [
    "hit_ratio = hits[1.0] / sum(hits)"
   ]
  },
  {
   "cell_type": "code",
   "execution_count": null,
   "metadata": {
    "ExecuteTime": {
     "end_time": "2021-03-28T11:36:39.615510Z",
     "start_time": "2021-03-28T11:36:39.612386Z"
    }
   },
   "outputs": [],
   "source": [
    "hit_ratio"
   ]
  },
  {
   "cell_type": "code",
   "execution_count": null,
   "metadata": {
    "ExecuteTime": {
     "end_time": "2021-03-28T11:36:39.620056Z",
     "start_time": "2021-03-28T11:36:39.617628Z"
    }
   },
   "outputs": [],
   "source": [
    "from sklearn.metrics import accuracy_score"
   ]
  },
  {
   "cell_type": "code",
   "execution_count": null,
   "metadata": {
    "ExecuteTime": {
     "end_time": "2021-03-28T11:36:39.632382Z",
     "start_time": "2021-03-28T11:36:39.621973Z"
    }
   },
   "outputs": [],
   "source": [
    "accuracy_score(y_true  = data ['direction'], y_pred = data['pred'])"
   ]
  },
  {
   "cell_type": "markdown",
   "metadata": {},
   "source": [
    "# In-sample Backtesting & the Look-Ahead Bias"
   ]
  },
  {
   "cell_type": "code",
   "execution_count": null,
   "metadata": {
    "ExecuteTime": {
     "end_time": "2021-03-28T11:36:39.644618Z",
     "start_time": "2021-03-28T11:36:39.640334Z"
    }
   },
   "outputs": [],
   "source": [
    "data ['strategy'] = data['pred'] * data ['returns']"
   ]
  },
  {
   "cell_type": "code",
   "execution_count": null,
   "metadata": {
    "ExecuteTime": {
     "end_time": "2021-03-28T11:36:39.667239Z",
     "start_time": "2021-03-28T11:36:39.648709Z"
    }
   },
   "outputs": [],
   "source": [
    "data "
   ]
  },
  {
   "cell_type": "code",
   "execution_count": null,
   "metadata": {
    "ExecuteTime": {
     "end_time": "2021-03-28T11:36:39.677685Z",
     "start_time": "2021-03-28T11:36:39.669206Z"
    }
   },
   "outputs": [],
   "source": [
    "data ['creturns'] = data ['returns'].cumsum().apply(np.exp)\n",
    "data ['cstrategy'] = data ['strategy'].cumsum().apply(np.exp)"
   ]
  },
  {
   "cell_type": "code",
   "execution_count": null,
   "metadata": {
    "ExecuteTime": {
     "end_time": "2021-03-28T11:36:40.058132Z",
     "start_time": "2021-03-28T11:36:39.679568Z"
    }
   },
   "outputs": [],
   "source": [
    "data[['creturns', 'cstrategy']].plot(figsize = (12, 8));"
   ]
  },
  {
   "cell_type": "code",
   "execution_count": null,
   "metadata": {
    "ExecuteTime": {
     "end_time": "2021-03-28T11:36:40.073060Z",
     "start_time": "2021-03-28T11:36:40.060173Z"
    }
   },
   "outputs": [],
   "source": [
    "data"
   ]
  },
  {
   "cell_type": "code",
   "execution_count": null,
   "metadata": {
    "ExecuteTime": {
     "end_time": "2021-03-28T11:36:40.078809Z",
     "start_time": "2021-03-28T11:36:40.074947Z"
    }
   },
   "outputs": [],
   "source": [
    "data['trades'] = data['pred'].diff().fillna(0).abs()"
   ]
  },
  {
   "cell_type": "code",
   "execution_count": null,
   "metadata": {
    "ExecuteTime": {
     "end_time": "2021-03-28T11:36:40.084756Z",
     "start_time": "2021-03-28T11:36:40.080121Z"
    }
   },
   "outputs": [],
   "source": [
    "data['trades'].value_counts()"
   ]
  },
  {
   "cell_type": "code",
   "execution_count": null,
   "metadata": {
    "ExecuteTime": {
     "end_time": "2021-03-28T11:36:40.101390Z",
     "start_time": "2021-03-28T11:36:40.086000Z"
    }
   },
   "outputs": [],
   "source": [
    "data"
   ]
  },
  {
   "cell_type": "markdown",
   "metadata": {},
   "source": [
    "# Out-of-Sample Forward Testing"
   ]
  },
  {
   "cell_type": "code",
   "execution_count": null,
   "metadata": {
    "ExecuteTime": {
     "end_time": "2021-03-28T11:36:40.241343Z",
     "start_time": "2021-03-28T11:36:40.102930Z"
    }
   },
   "outputs": [],
   "source": [
    "data  = pd.read_csv('../DataSets/test_set.csv', parse_dates = ['time'], index_col = 'time')"
   ]
  },
  {
   "cell_type": "code",
   "execution_count": null,
   "metadata": {
    "ExecuteTime": {
     "end_time": "2021-03-28T11:36:40.250003Z",
     "start_time": "2021-03-28T11:36:40.242872Z"
    }
   },
   "outputs": [],
   "source": [
    "data "
   ]
  },
  {
   "cell_type": "code",
   "execution_count": null,
   "metadata": {
    "ExecuteTime": {
     "end_time": "2021-03-28T11:36:40.255975Z",
     "start_time": "2021-03-28T11:36:40.251455Z"
    }
   },
   "outputs": [],
   "source": [
    "data['returns'] = np.log(data / data.shift(1))"
   ]
  },
  {
   "cell_type": "code",
   "execution_count": null,
   "metadata": {
    "ExecuteTime": {
     "end_time": "2021-03-28T11:36:40.260348Z",
     "start_time": "2021-03-28T11:36:40.257232Z"
    }
   },
   "outputs": [],
   "source": [
    "data['direction'] = np.sign(data ['returns'])"
   ]
  },
  {
   "cell_type": "code",
   "execution_count": null,
   "metadata": {
    "ExecuteTime": {
     "end_time": "2021-03-28T11:36:40.270366Z",
     "start_time": "2021-03-28T11:36:40.261713Z"
    }
   },
   "outputs": [],
   "source": [
    "data "
   ]
  },
  {
   "cell_type": "code",
   "execution_count": null,
   "metadata": {
    "ExecuteTime": {
     "end_time": "2021-03-28T11:36:40.273698Z",
     "start_time": "2021-03-28T11:36:40.271814Z"
    }
   },
   "outputs": [],
   "source": [
    "lags = 5"
   ]
  },
  {
   "cell_type": "code",
   "execution_count": null,
   "metadata": {
    "ExecuteTime": {
     "end_time": "2021-03-28T11:36:40.286078Z",
     "start_time": "2021-03-28T11:36:40.275020Z"
    }
   },
   "outputs": [],
   "source": [
    "cols = []\n",
    "\n",
    "for lag in range (1, lags + 1):\n",
    "    col = 'lag{}'.format(lag )\n",
    "    data [col] = data['returns'].shift(lag)\n",
    "    cols.append(col )\n",
    "    \n",
    "data.dropna(inplace = True )"
   ]
  },
  {
   "cell_type": "code",
   "execution_count": null,
   "metadata": {
    "ExecuteTime": {
     "end_time": "2021-03-28T11:36:40.299338Z",
     "start_time": "2021-03-28T11:36:40.287313Z"
    }
   },
   "outputs": [],
   "source": [
    "data"
   ]
  },
  {
   "cell_type": "code",
   "execution_count": null,
   "metadata": {
    "ExecuteTime": {
     "end_time": "2021-03-28T11:36:40.308707Z",
     "start_time": "2021-03-28T11:36:40.300728Z"
    }
   },
   "outputs": [],
   "source": [
    "data['pred'] = lm.predict(data[cols])"
   ]
  },
  {
   "cell_type": "code",
   "execution_count": null,
   "metadata": {
    "ExecuteTime": {
     "end_time": "2021-03-28T11:36:40.327240Z",
     "start_time": "2021-03-28T11:36:40.310445Z"
    }
   },
   "outputs": [],
   "source": [
    "data"
   ]
  },
  {
   "cell_type": "code",
   "execution_count": null,
   "metadata": {
    "ExecuteTime": {
     "end_time": "2021-03-28T11:36:40.334407Z",
     "start_time": "2021-03-28T11:36:40.329220Z"
    }
   },
   "outputs": [],
   "source": [
    "data['pred'].value_counts()"
   ]
  },
  {
   "cell_type": "code",
   "execution_count": null,
   "metadata": {
    "ExecuteTime": {
     "end_time": "2021-03-28T11:36:40.341164Z",
     "start_time": "2021-03-28T11:36:40.336240Z"
    }
   },
   "outputs": [],
   "source": [
    "hits = np.sign(data['direction'] * data['pred']).value_counts()"
   ]
  },
  {
   "cell_type": "code",
   "execution_count": null,
   "metadata": {
    "ExecuteTime": {
     "end_time": "2021-03-28T11:36:40.347804Z",
     "start_time": "2021-03-28T11:36:40.343267Z"
    }
   },
   "outputs": [],
   "source": [
    "hits"
   ]
  },
  {
   "cell_type": "code",
   "execution_count": null,
   "metadata": {
    "ExecuteTime": {
     "end_time": "2021-03-28T11:36:40.351881Z",
     "start_time": "2021-03-28T11:36:40.349512Z"
    }
   },
   "outputs": [],
   "source": [
    "hit_ratio = hits[1.0] / sum(hits)"
   ]
  },
  {
   "cell_type": "code",
   "execution_count": null,
   "metadata": {
    "ExecuteTime": {
     "end_time": "2021-03-28T11:36:40.356730Z",
     "start_time": "2021-03-28T11:36:40.353751Z"
    }
   },
   "outputs": [],
   "source": [
    "hit_ratio"
   ]
  },
  {
   "cell_type": "code",
   "execution_count": null,
   "metadata": {
    "ExecuteTime": {
     "end_time": "2021-03-28T11:36:40.361763Z",
     "start_time": "2021-03-28T11:36:40.358651Z"
    }
   },
   "outputs": [],
   "source": [
    "data['strategy'] = data['pred'] * data['returns']"
   ]
  },
  {
   "cell_type": "code",
   "execution_count": null,
   "metadata": {
    "ExecuteTime": {
     "end_time": "2021-03-28T11:36:40.370481Z",
     "start_time": "2021-03-28T11:36:40.363716Z"
    }
   },
   "outputs": [],
   "source": [
    "data['creturns'] = data['returns'].cumsum().apply(np.exp)\n",
    "data ['cstrategy'] = data['strategy'].cumsum().apply(np.exp)"
   ]
  },
  {
   "cell_type": "code",
   "execution_count": null,
   "metadata": {
    "ExecuteTime": {
     "end_time": "2021-03-28T11:37:06.969454Z",
     "start_time": "2021-03-28T11:37:06.736322Z"
    }
   },
   "outputs": [],
   "source": [
    "data[['creturns', 'cstrategy']].plot(figsize = (12, 8));"
   ]
  },
  {
   "cell_type": "code",
   "execution_count": null,
   "metadata": {
    "ExecuteTime": {
     "end_time": "2021-03-28T11:37:27.336123Z",
     "start_time": "2021-03-28T11:37:27.331808Z"
    }
   },
   "outputs": [],
   "source": [
    "data['trades'] = data['pred'].diff().fillna(0).abs()"
   ]
  },
  {
   "cell_type": "code",
   "execution_count": null,
   "metadata": {
    "ExecuteTime": {
     "end_time": "2021-03-28T11:37:39.795417Z",
     "start_time": "2021-03-28T11:37:39.789264Z"
    }
   },
   "outputs": [],
   "source": [
    "data['trades'].value_counts()"
   ]
  },
  {
   "cell_type": "code",
   "execution_count": null,
   "metadata": {
    "ExecuteTime": {
     "end_time": "2021-03-28T11:37:43.569012Z",
     "start_time": "2021-03-28T11:37:43.551194Z"
    }
   },
   "outputs": [],
   "source": [
    "data"
   ]
  },
  {
   "cell_type": "code",
   "execution_count": null,
   "metadata": {},
   "outputs": [],
   "source": []
  },
  {
   "cell_type": "code",
   "execution_count": null,
   "metadata": {},
   "outputs": [],
   "source": []
  },
  {
   "cell_type": "code",
   "execution_count": null,
   "metadata": {},
   "outputs": [],
   "source": []
  },
  {
   "cell_type": "code",
   "execution_count": null,
   "metadata": {},
   "outputs": [],
   "source": []
  },
  {
   "cell_type": "code",
   "execution_count": null,
   "metadata": {},
   "outputs": [],
   "source": []
  }
 ],
 "metadata": {
  "kernelspec": {
   "display_name": "altr",
   "language": "python",
   "name": "altr"
  },
  "language_info": {
   "codemirror_mode": {
    "name": "ipython",
    "version": 3
   },
   "file_extension": ".py",
   "mimetype": "text/x-python",
   "name": "python",
   "nbconvert_exporter": "python",
   "pygments_lexer": "ipython3",
   "version": "3.8.5"
  }
 },
 "nbformat": 4,
 "nbformat_minor": 4
}
