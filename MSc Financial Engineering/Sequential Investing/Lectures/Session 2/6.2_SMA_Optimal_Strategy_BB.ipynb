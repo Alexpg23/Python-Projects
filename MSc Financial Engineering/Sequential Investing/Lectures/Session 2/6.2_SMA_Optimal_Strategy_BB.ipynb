{
 "cells": [
  {
   "cell_type": "code",
   "execution_count": 1,
   "metadata": {
    "ExecuteTime": {
     "end_time": "2021-03-26T14:32:10.880316Z",
     "start_time": "2021-03-26T14:32:09.795189Z"
    }
   },
   "outputs": [],
   "source": [
    "import pandas as pd\n",
    "import numpy as np\n",
    "import matplotlib.pyplot as plt\n",
    "plt.style.use('seaborn')"
   ]
  },
  {
   "cell_type": "code",
   "execution_count": 2,
   "metadata": {
    "ExecuteTime": {
     "end_time": "2021-03-26T14:32:10.890850Z",
     "start_time": "2021-03-26T14:32:10.882226Z"
    }
   },
   "outputs": [],
   "source": [
    "df = pd.read_csv('eurusd.csv', parse_dates = ['Date'], index_col = 'Date')"
   ]
  },
  {
   "cell_type": "code",
   "execution_count": 3,
   "metadata": {
    "ExecuteTime": {
     "end_time": "2021-03-26T14:32:10.902961Z",
     "start_time": "2021-03-26T14:32:10.892731Z"
    }
   },
   "outputs": [
    {
     "data": {
      "text/html": [
       "<div>\n",
       "<style scoped>\n",
       "    .dataframe tbody tr th:only-of-type {\n",
       "        vertical-align: middle;\n",
       "    }\n",
       "\n",
       "    .dataframe tbody tr th {\n",
       "        vertical-align: top;\n",
       "    }\n",
       "\n",
       "    .dataframe thead th {\n",
       "        text-align: right;\n",
       "    }\n",
       "</style>\n",
       "<table border=\"1\" class=\"dataframe\">\n",
       "  <thead>\n",
       "    <tr style=\"text-align: right;\">\n",
       "      <th></th>\n",
       "      <th>price</th>\n",
       "    </tr>\n",
       "    <tr>\n",
       "      <th>Date</th>\n",
       "      <th></th>\n",
       "    </tr>\n",
       "  </thead>\n",
       "  <tbody>\n",
       "    <tr>\n",
       "      <th>2004-01-01</th>\n",
       "      <td>1.258194</td>\n",
       "    </tr>\n",
       "    <tr>\n",
       "      <th>2004-01-02</th>\n",
       "      <td>1.258194</td>\n",
       "    </tr>\n",
       "    <tr>\n",
       "      <th>2004-01-05</th>\n",
       "      <td>1.268698</td>\n",
       "    </tr>\n",
       "    <tr>\n",
       "      <th>2004-01-06</th>\n",
       "      <td>1.272103</td>\n",
       "    </tr>\n",
       "    <tr>\n",
       "      <th>2004-01-07</th>\n",
       "      <td>1.264095</td>\n",
       "    </tr>\n",
       "    <tr>\n",
       "      <th>...</th>\n",
       "      <td>...</td>\n",
       "    </tr>\n",
       "    <tr>\n",
       "      <th>2020-06-24</th>\n",
       "      <td>1.131235</td>\n",
       "    </tr>\n",
       "    <tr>\n",
       "      <th>2020-06-25</th>\n",
       "      <td>1.125087</td>\n",
       "    </tr>\n",
       "    <tr>\n",
       "      <th>2020-06-26</th>\n",
       "      <td>1.122208</td>\n",
       "    </tr>\n",
       "    <tr>\n",
       "      <th>2020-06-29</th>\n",
       "      <td>1.122586</td>\n",
       "    </tr>\n",
       "    <tr>\n",
       "      <th>2020-06-30</th>\n",
       "      <td>1.124720</td>\n",
       "    </tr>\n",
       "  </tbody>\n",
       "</table>\n",
       "<p>4275 rows × 1 columns</p>\n",
       "</div>"
      ],
      "text/plain": [
       "               price\n",
       "Date                \n",
       "2004-01-01  1.258194\n",
       "2004-01-02  1.258194\n",
       "2004-01-05  1.268698\n",
       "2004-01-06  1.272103\n",
       "2004-01-07  1.264095\n",
       "...              ...\n",
       "2020-06-24  1.131235\n",
       "2020-06-25  1.125087\n",
       "2020-06-26  1.122208\n",
       "2020-06-29  1.122586\n",
       "2020-06-30  1.124720\n",
       "\n",
       "[4275 rows x 1 columns]"
      ]
     },
     "execution_count": 3,
     "metadata": {},
     "output_type": "execute_result"
    }
   ],
   "source": [
    "df"
   ]
  },
  {
   "cell_type": "code",
   "execution_count": 4,
   "metadata": {
    "ExecuteTime": {
     "end_time": "2021-03-26T14:32:10.906656Z",
     "start_time": "2021-03-26T14:32:10.904896Z"
    }
   },
   "outputs": [],
   "source": [
    "sma1 = 50\n",
    "sma2 = 200"
   ]
  },
  {
   "cell_type": "code",
   "execution_count": 5,
   "metadata": {
    "ExecuteTime": {
     "end_time": "2021-03-26T14:32:10.915333Z",
     "start_time": "2021-03-26T14:32:10.908135Z"
    }
   },
   "outputs": [],
   "source": [
    "df['sma_s'] = df['price'].rolling(window = sma1).mean()\n",
    "df['sma_l'] = df['price'].rolling(window = sma2).mean()"
   ]
  },
  {
   "cell_type": "code",
   "execution_count": 6,
   "metadata": {
    "ExecuteTime": {
     "end_time": "2021-03-26T14:32:10.925449Z",
     "start_time": "2021-03-26T14:32:10.916594Z"
    }
   },
   "outputs": [
    {
     "data": {
      "text/html": [
       "<div>\n",
       "<style scoped>\n",
       "    .dataframe tbody tr th:only-of-type {\n",
       "        vertical-align: middle;\n",
       "    }\n",
       "\n",
       "    .dataframe tbody tr th {\n",
       "        vertical-align: top;\n",
       "    }\n",
       "\n",
       "    .dataframe thead th {\n",
       "        text-align: right;\n",
       "    }\n",
       "</style>\n",
       "<table border=\"1\" class=\"dataframe\">\n",
       "  <thead>\n",
       "    <tr style=\"text-align: right;\">\n",
       "      <th></th>\n",
       "      <th>price</th>\n",
       "      <th>sma_s</th>\n",
       "      <th>sma_l</th>\n",
       "    </tr>\n",
       "    <tr>\n",
       "      <th>Date</th>\n",
       "      <th></th>\n",
       "      <th></th>\n",
       "      <th></th>\n",
       "    </tr>\n",
       "  </thead>\n",
       "  <tbody>\n",
       "    <tr>\n",
       "      <th>2004-01-01</th>\n",
       "      <td>1.258194</td>\n",
       "      <td>NaN</td>\n",
       "      <td>NaN</td>\n",
       "    </tr>\n",
       "    <tr>\n",
       "      <th>2004-01-02</th>\n",
       "      <td>1.258194</td>\n",
       "      <td>NaN</td>\n",
       "      <td>NaN</td>\n",
       "    </tr>\n",
       "    <tr>\n",
       "      <th>2004-01-05</th>\n",
       "      <td>1.268698</td>\n",
       "      <td>NaN</td>\n",
       "      <td>NaN</td>\n",
       "    </tr>\n",
       "    <tr>\n",
       "      <th>2004-01-06</th>\n",
       "      <td>1.272103</td>\n",
       "      <td>NaN</td>\n",
       "      <td>NaN</td>\n",
       "    </tr>\n",
       "    <tr>\n",
       "      <th>2004-01-07</th>\n",
       "      <td>1.264095</td>\n",
       "      <td>NaN</td>\n",
       "      <td>NaN</td>\n",
       "    </tr>\n",
       "    <tr>\n",
       "      <th>...</th>\n",
       "      <td>...</td>\n",
       "      <td>...</td>\n",
       "      <td>...</td>\n",
       "    </tr>\n",
       "    <tr>\n",
       "      <th>2020-06-24</th>\n",
       "      <td>1.131235</td>\n",
       "      <td>1.101794</td>\n",
       "      <td>1.103430</td>\n",
       "    </tr>\n",
       "    <tr>\n",
       "      <th>2020-06-25</th>\n",
       "      <td>1.125087</td>\n",
       "      <td>1.102486</td>\n",
       "      <td>1.103540</td>\n",
       "    </tr>\n",
       "    <tr>\n",
       "      <th>2020-06-26</th>\n",
       "      <td>1.122208</td>\n",
       "      <td>1.103213</td>\n",
       "      <td>1.103627</td>\n",
       "    </tr>\n",
       "    <tr>\n",
       "      <th>2020-06-29</th>\n",
       "      <td>1.122586</td>\n",
       "      <td>1.103931</td>\n",
       "      <td>1.103730</td>\n",
       "    </tr>\n",
       "    <tr>\n",
       "      <th>2020-06-30</th>\n",
       "      <td>1.124720</td>\n",
       "      <td>1.104695</td>\n",
       "      <td>1.103857</td>\n",
       "    </tr>\n",
       "  </tbody>\n",
       "</table>\n",
       "<p>4275 rows × 3 columns</p>\n",
       "</div>"
      ],
      "text/plain": [
       "               price     sma_s     sma_l\n",
       "Date                                    \n",
       "2004-01-01  1.258194       NaN       NaN\n",
       "2004-01-02  1.258194       NaN       NaN\n",
       "2004-01-05  1.268698       NaN       NaN\n",
       "2004-01-06  1.272103       NaN       NaN\n",
       "2004-01-07  1.264095       NaN       NaN\n",
       "...              ...       ...       ...\n",
       "2020-06-24  1.131235  1.101794  1.103430\n",
       "2020-06-25  1.125087  1.102486  1.103540\n",
       "2020-06-26  1.122208  1.103213  1.103627\n",
       "2020-06-29  1.122586  1.103931  1.103730\n",
       "2020-06-30  1.124720  1.104695  1.103857\n",
       "\n",
       "[4275 rows x 3 columns]"
      ]
     },
     "execution_count": 6,
     "metadata": {},
     "output_type": "execute_result"
    }
   ],
   "source": [
    "df"
   ]
  },
  {
   "cell_type": "code",
   "execution_count": 7,
   "metadata": {
    "ExecuteTime": {
     "end_time": "2021-03-26T14:32:11.158818Z",
     "start_time": "2021-03-26T14:32:10.926915Z"
    }
   },
   "outputs": [
    {
     "data": {
      "image/png": "[encoded data removed]",
      "text/plain": [
       "<Figure size 864x576 with 1 Axes>"
      ]
     },
     "metadata": {},
     "output_type": "display_data"
    }
   ],
   "source": [
    "df.plot(figsize = (12, 8), title = 'EUR/USD - SMA{} | SMA{}'.format(sma1, sma2), fontsize = 12)\n",
    "plt.legend(fontsize = 12);"
   ]
  },
  {
   "cell_type": "code",
   "execution_count": 8,
   "metadata": {
    "ExecuteTime": {
     "end_time": "2021-03-26T14:32:11.179391Z",
     "start_time": "2021-03-26T14:32:11.162680Z"
    }
   },
   "outputs": [],
   "source": [
    "df.dropna(inplace = True)"
   ]
  },
  {
   "cell_type": "code",
   "execution_count": 9,
   "metadata": {
    "ExecuteTime": {
     "end_time": "2021-03-26T14:32:11.190634Z",
     "start_time": "2021-03-26T14:32:11.182232Z"
    }
   },
   "outputs": [
    {
     "data": {
      "text/html": [
       "<div>\n",
       "<style scoped>\n",
       "    .dataframe tbody tr th:only-of-type {\n",
       "        vertical-align: middle;\n",
       "    }\n",
       "\n",
       "    .dataframe tbody tr th {\n",
       "        vertical-align: top;\n",
       "    }\n",
       "\n",
       "    .dataframe thead th {\n",
       "        text-align: right;\n",
       "    }\n",
       "</style>\n",
       "<table border=\"1\" class=\"dataframe\">\n",
       "  <thead>\n",
       "    <tr style=\"text-align: right;\">\n",
       "      <th></th>\n",
       "      <th>price</th>\n",
       "      <th>sma_s</th>\n",
       "      <th>sma_l</th>\n",
       "    </tr>\n",
       "    <tr>\n",
       "      <th>Date</th>\n",
       "      <th></th>\n",
       "      <th></th>\n",
       "      <th></th>\n",
       "    </tr>\n",
       "  </thead>\n",
       "  <tbody>\n",
       "    <tr>\n",
       "      <th>2004-10-06</th>\n",
       "      <td>1.228094</td>\n",
       "      <td>1.221318</td>\n",
       "      <td>1.226222</td>\n",
       "    </tr>\n",
       "    <tr>\n",
       "      <th>2004-10-07</th>\n",
       "      <td>1.229906</td>\n",
       "      <td>1.221840</td>\n",
       "      <td>1.226081</td>\n",
       "    </tr>\n",
       "    <tr>\n",
       "      <th>2004-10-08</th>\n",
       "      <td>1.241003</td>\n",
       "      <td>1.222628</td>\n",
       "      <td>1.225995</td>\n",
       "    </tr>\n",
       "    <tr>\n",
       "      <th>2004-10-11</th>\n",
       "      <td>1.238405</td>\n",
       "      <td>1.223352</td>\n",
       "      <td>1.225843</td>\n",
       "    </tr>\n",
       "    <tr>\n",
       "      <th>2004-10-12</th>\n",
       "      <td>1.232104</td>\n",
       "      <td>1.223888</td>\n",
       "      <td>1.225643</td>\n",
       "    </tr>\n",
       "    <tr>\n",
       "      <th>...</th>\n",
       "      <td>...</td>\n",
       "      <td>...</td>\n",
       "      <td>...</td>\n",
       "    </tr>\n",
       "    <tr>\n",
       "      <th>2020-06-24</th>\n",
       "      <td>1.131235</td>\n",
       "      <td>1.101794</td>\n",
       "      <td>1.103430</td>\n",
       "    </tr>\n",
       "    <tr>\n",
       "      <th>2020-06-25</th>\n",
       "      <td>1.125087</td>\n",
       "      <td>1.102486</td>\n",
       "      <td>1.103540</td>\n",
       "    </tr>\n",
       "    <tr>\n",
       "      <th>2020-06-26</th>\n",
       "      <td>1.122208</td>\n",
       "      <td>1.103213</td>\n",
       "      <td>1.103627</td>\n",
       "    </tr>\n",
       "    <tr>\n",
       "      <th>2020-06-29</th>\n",
       "      <td>1.122586</td>\n",
       "      <td>1.103931</td>\n",
       "      <td>1.103730</td>\n",
       "    </tr>\n",
       "    <tr>\n",
       "      <th>2020-06-30</th>\n",
       "      <td>1.124720</td>\n",
       "      <td>1.104695</td>\n",
       "      <td>1.103857</td>\n",
       "    </tr>\n",
       "  </tbody>\n",
       "</table>\n",
       "<p>4076 rows × 3 columns</p>\n",
       "</div>"
      ],
      "text/plain": [
       "               price     sma_s     sma_l\n",
       "Date                                    \n",
       "2004-10-06  1.228094  1.221318  1.226222\n",
       "2004-10-07  1.229906  1.221840  1.226081\n",
       "2004-10-08  1.241003  1.222628  1.225995\n",
       "2004-10-11  1.238405  1.223352  1.225843\n",
       "2004-10-12  1.232104  1.223888  1.225643\n",
       "...              ...       ...       ...\n",
       "2020-06-24  1.131235  1.101794  1.103430\n",
       "2020-06-25  1.125087  1.102486  1.103540\n",
       "2020-06-26  1.122208  1.103213  1.103627\n",
       "2020-06-29  1.122586  1.103931  1.103730\n",
       "2020-06-30  1.124720  1.104695  1.103857\n",
       "\n",
       "[4076 rows x 3 columns]"
      ]
     },
     "execution_count": 9,
     "metadata": {},
     "output_type": "execute_result"
    }
   ],
   "source": [
    "df"
   ]
  },
  {
   "cell_type": "code",
   "execution_count": 10,
   "metadata": {
    "ExecuteTime": {
     "end_time": "2021-03-26T14:32:11.447983Z",
     "start_time": "2021-03-26T14:32:11.191973Z"
    }
   },
   "outputs": [
    {
     "data": {
      "image/png": "[encoded data removed]",
      "text/plain": [
       "<Figure size 864x576 with 1 Axes>"
      ]
     },
     "metadata": {},
     "output_type": "display_data"
    }
   ],
   "source": [
    "df.loc['2016'].plot(figsize = (12, 8), title = 'EUR/USD - SMA{} | SMA{}'.format(sma1, sma2), fontsize = 12)\n",
    "plt.legend(fontsize = 12);"
   ]
  },
  {
   "cell_type": "code",
   "execution_count": 11,
   "metadata": {
    "ExecuteTime": {
     "end_time": "2021-03-26T14:32:11.453486Z",
     "start_time": "2021-03-26T14:32:11.449792Z"
    }
   },
   "outputs": [],
   "source": [
    "df['position'] = np.where(df['sma_s'] > df['sma_l'], 1, -1)"
   ]
  },
  {
   "cell_type": "code",
   "execution_count": 12,
   "metadata": {
    "ExecuteTime": {
     "end_time": "2021-03-26T14:32:11.467054Z",
     "start_time": "2021-03-26T14:32:11.456024Z"
    }
   },
   "outputs": [
    {
     "data": {
      "text/html": [
       "<div>\n",
       "<style scoped>\n",
       "    .dataframe tbody tr th:only-of-type {\n",
       "        vertical-align: middle;\n",
       "    }\n",
       "\n",
       "    .dataframe tbody tr th {\n",
       "        vertical-align: top;\n",
       "    }\n",
       "\n",
       "    .dataframe thead th {\n",
       "        text-align: right;\n",
       "    }\n",
       "</style>\n",
       "<table border=\"1\" class=\"dataframe\">\n",
       "  <thead>\n",
       "    <tr style=\"text-align: right;\">\n",
       "      <th></th>\n",
       "      <th>price</th>\n",
       "      <th>sma_s</th>\n",
       "      <th>sma_l</th>\n",
       "      <th>position</th>\n",
       "    </tr>\n",
       "    <tr>\n",
       "      <th>Date</th>\n",
       "      <th></th>\n",
       "      <th></th>\n",
       "      <th></th>\n",
       "      <th></th>\n",
       "    </tr>\n",
       "  </thead>\n",
       "  <tbody>\n",
       "    <tr>\n",
       "      <th>2004-10-06</th>\n",
       "      <td>1.228094</td>\n",
       "      <td>1.221318</td>\n",
       "      <td>1.226222</td>\n",
       "      <td>-1</td>\n",
       "    </tr>\n",
       "    <tr>\n",
       "      <th>2004-10-07</th>\n",
       "      <td>1.229906</td>\n",
       "      <td>1.221840</td>\n",
       "      <td>1.226081</td>\n",
       "      <td>-1</td>\n",
       "    </tr>\n",
       "    <tr>\n",
       "      <th>2004-10-08</th>\n",
       "      <td>1.241003</td>\n",
       "      <td>1.222628</td>\n",
       "      <td>1.225995</td>\n",
       "      <td>-1</td>\n",
       "    </tr>\n",
       "    <tr>\n",
       "      <th>2004-10-11</th>\n",
       "      <td>1.238405</td>\n",
       "      <td>1.223352</td>\n",
       "      <td>1.225843</td>\n",
       "      <td>-1</td>\n",
       "    </tr>\n",
       "    <tr>\n",
       "      <th>2004-10-12</th>\n",
       "      <td>1.232104</td>\n",
       "      <td>1.223888</td>\n",
       "      <td>1.225643</td>\n",
       "      <td>-1</td>\n",
       "    </tr>\n",
       "    <tr>\n",
       "      <th>...</th>\n",
       "      <td>...</td>\n",
       "      <td>...</td>\n",
       "      <td>...</td>\n",
       "      <td>...</td>\n",
       "    </tr>\n",
       "    <tr>\n",
       "      <th>2020-06-24</th>\n",
       "      <td>1.131235</td>\n",
       "      <td>1.101794</td>\n",
       "      <td>1.103430</td>\n",
       "      <td>-1</td>\n",
       "    </tr>\n",
       "    <tr>\n",
       "      <th>2020-06-25</th>\n",
       "      <td>1.125087</td>\n",
       "      <td>1.102486</td>\n",
       "      <td>1.103540</td>\n",
       "      <td>-1</td>\n",
       "    </tr>\n",
       "    <tr>\n",
       "      <th>2020-06-26</th>\n",
       "      <td>1.122208</td>\n",
       "      <td>1.103213</td>\n",
       "      <td>1.103627</td>\n",
       "      <td>-1</td>\n",
       "    </tr>\n",
       "    <tr>\n",
       "      <th>2020-06-29</th>\n",
       "      <td>1.122586</td>\n",
       "      <td>1.103931</td>\n",
       "      <td>1.103730</td>\n",
       "      <td>1</td>\n",
       "    </tr>\n",
       "    <tr>\n",
       "      <th>2020-06-30</th>\n",
       "      <td>1.124720</td>\n",
       "      <td>1.104695</td>\n",
       "      <td>1.103857</td>\n",
       "      <td>1</td>\n",
       "    </tr>\n",
       "  </tbody>\n",
       "</table>\n",
       "<p>4076 rows × 4 columns</p>\n",
       "</div>"
      ],
      "text/plain": [
       "               price     sma_s     sma_l  position\n",
       "Date                                              \n",
       "2004-10-06  1.228094  1.221318  1.226222        -1\n",
       "2004-10-07  1.229906  1.221840  1.226081        -1\n",
       "2004-10-08  1.241003  1.222628  1.225995        -1\n",
       "2004-10-11  1.238405  1.223352  1.225843        -1\n",
       "2004-10-12  1.232104  1.223888  1.225643        -1\n",
       "...              ...       ...       ...       ...\n",
       "2020-06-24  1.131235  1.101794  1.103430        -1\n",
       "2020-06-25  1.125087  1.102486  1.103540        -1\n",
       "2020-06-26  1.122208  1.103213  1.103627        -1\n",
       "2020-06-29  1.122586  1.103931  1.103730         1\n",
       "2020-06-30  1.124720  1.104695  1.103857         1\n",
       "\n",
       "[4076 rows x 4 columns]"
      ]
     },
     "execution_count": 12,
     "metadata": {},
     "output_type": "execute_result"
    }
   ],
   "source": [
    "df"
   ]
  },
  {
   "cell_type": "code",
   "execution_count": 13,
   "metadata": {
    "ExecuteTime": {
     "end_time": "2021-03-26T14:32:11.702455Z",
     "start_time": "2021-03-26T14:32:11.468339Z"
    }
   },
   "outputs": [
    {
     "data": {
      "image/png": "[encoded data removed]",
      "text/plain": [
       "<Figure size 864x576 with 2 Axes>"
      ]
     },
     "metadata": {},
     "output_type": "display_data"
    }
   ],
   "source": [
    "df.loc[:, ['sma_s', 'sma_l', 'position']].plot(figsize = (12, 8), fontsize = 12, secondary_y = 'position', title = 'EUR/USD - SMA{} | SMA{}'.format(sma1, sma2));"
   ]
  },
  {
   "cell_type": "code",
   "execution_count": 14,
   "metadata": {
    "ExecuteTime": {
     "end_time": "2021-03-26T14:32:12.065758Z",
     "start_time": "2021-03-26T14:32:11.705032Z"
    }
   },
   "outputs": [
    {
     "data": {
      "image/png": "[encoded data removed]",
      "text/plain": [
       "<Figure size 864x576 with 2 Axes>"
      ]
     },
     "metadata": {},
     "output_type": "display_data"
    }
   ],
   "source": [
    "df.loc['2016', ['sma_s', 'sma_l', 'position']].plot(figsize = (12, 8), fontsize = 12, secondary_y = 'position', title = 'EUR/USD - SMA{} | SMA{}'.format(sma1, sma2));"
   ]
  },
  {
   "cell_type": "markdown",
   "metadata": {},
   "source": [
    "# Vectorized Strategy Backtesting"
   ]
  },
  {
   "cell_type": "code",
   "execution_count": 15,
   "metadata": {
    "ExecuteTime": {
     "end_time": "2021-03-26T14:32:12.076543Z",
     "start_time": "2021-03-26T14:32:12.067445Z"
    }
   },
   "outputs": [
    {
     "data": {
      "text/html": [
       "<div>\n",
       "<style scoped>\n",
       "    .dataframe tbody tr th:only-of-type {\n",
       "        vertical-align: middle;\n",
       "    }\n",
       "\n",
       "    .dataframe tbody tr th {\n",
       "        vertical-align: top;\n",
       "    }\n",
       "\n",
       "    .dataframe thead th {\n",
       "        text-align: right;\n",
       "    }\n",
       "</style>\n",
       "<table border=\"1\" class=\"dataframe\">\n",
       "  <thead>\n",
       "    <tr style=\"text-align: right;\">\n",
       "      <th></th>\n",
       "      <th>price</th>\n",
       "      <th>sma_s</th>\n",
       "      <th>sma_l</th>\n",
       "      <th>position</th>\n",
       "    </tr>\n",
       "    <tr>\n",
       "      <th>Date</th>\n",
       "      <th></th>\n",
       "      <th></th>\n",
       "      <th></th>\n",
       "      <th></th>\n",
       "    </tr>\n",
       "  </thead>\n",
       "  <tbody>\n",
       "    <tr>\n",
       "      <th>2004-10-06</th>\n",
       "      <td>1.228094</td>\n",
       "      <td>1.221318</td>\n",
       "      <td>1.226222</td>\n",
       "      <td>-1</td>\n",
       "    </tr>\n",
       "    <tr>\n",
       "      <th>2004-10-07</th>\n",
       "      <td>1.229906</td>\n",
       "      <td>1.221840</td>\n",
       "      <td>1.226081</td>\n",
       "      <td>-1</td>\n",
       "    </tr>\n",
       "    <tr>\n",
       "      <th>2004-10-08</th>\n",
       "      <td>1.241003</td>\n",
       "      <td>1.222628</td>\n",
       "      <td>1.225995</td>\n",
       "      <td>-1</td>\n",
       "    </tr>\n",
       "    <tr>\n",
       "      <th>2004-10-11</th>\n",
       "      <td>1.238405</td>\n",
       "      <td>1.223352</td>\n",
       "      <td>1.225843</td>\n",
       "      <td>-1</td>\n",
       "    </tr>\n",
       "    <tr>\n",
       "      <th>2004-10-12</th>\n",
       "      <td>1.232104</td>\n",
       "      <td>1.223888</td>\n",
       "      <td>1.225643</td>\n",
       "      <td>-1</td>\n",
       "    </tr>\n",
       "    <tr>\n",
       "      <th>...</th>\n",
       "      <td>...</td>\n",
       "      <td>...</td>\n",
       "      <td>...</td>\n",
       "      <td>...</td>\n",
       "    </tr>\n",
       "    <tr>\n",
       "      <th>2020-06-24</th>\n",
       "      <td>1.131235</td>\n",
       "      <td>1.101794</td>\n",
       "      <td>1.103430</td>\n",
       "      <td>-1</td>\n",
       "    </tr>\n",
       "    <tr>\n",
       "      <th>2020-06-25</th>\n",
       "      <td>1.125087</td>\n",
       "      <td>1.102486</td>\n",
       "      <td>1.103540</td>\n",
       "      <td>-1</td>\n",
       "    </tr>\n",
       "    <tr>\n",
       "      <th>2020-06-26</th>\n",
       "      <td>1.122208</td>\n",
       "      <td>1.103213</td>\n",
       "      <td>1.103627</td>\n",
       "      <td>-1</td>\n",
       "    </tr>\n",
       "    <tr>\n",
       "      <th>2020-06-29</th>\n",
       "      <td>1.122586</td>\n",
       "      <td>1.103931</td>\n",
       "      <td>1.103730</td>\n",
       "      <td>1</td>\n",
       "    </tr>\n",
       "    <tr>\n",
       "      <th>2020-06-30</th>\n",
       "      <td>1.124720</td>\n",
       "      <td>1.104695</td>\n",
       "      <td>1.103857</td>\n",
       "      <td>1</td>\n",
       "    </tr>\n",
       "  </tbody>\n",
       "</table>\n",
       "<p>4076 rows × 4 columns</p>\n",
       "</div>"
      ],
      "text/plain": [
       "               price     sma_s     sma_l  position\n",
       "Date                                              \n",
       "2004-10-06  1.228094  1.221318  1.226222        -1\n",
       "2004-10-07  1.229906  1.221840  1.226081        -1\n",
       "2004-10-08  1.241003  1.222628  1.225995        -1\n",
       "2004-10-11  1.238405  1.223352  1.225843        -1\n",
       "2004-10-12  1.232104  1.223888  1.225643        -1\n",
       "...              ...       ...       ...       ...\n",
       "2020-06-24  1.131235  1.101794  1.103430        -1\n",
       "2020-06-25  1.125087  1.102486  1.103540        -1\n",
       "2020-06-26  1.122208  1.103213  1.103627        -1\n",
       "2020-06-29  1.122586  1.103931  1.103730         1\n",
       "2020-06-30  1.124720  1.104695  1.103857         1\n",
       "\n",
       "[4076 rows x 4 columns]"
      ]
     },
     "execution_count": 15,
     "metadata": {},
     "output_type": "execute_result"
    }
   ],
   "source": [
    "df"
   ]
  },
  {
   "cell_type": "code",
   "execution_count": 16,
   "metadata": {
    "ExecuteTime": {
     "end_time": "2021-03-26T14:32:12.081740Z",
     "start_time": "2021-03-26T14:32:12.078471Z"
    }
   },
   "outputs": [],
   "source": [
    "df['returns'] = np.log(df['price'] / df['price'].shift(1))"
   ]
  },
  {
   "cell_type": "code",
   "execution_count": 17,
   "metadata": {
    "ExecuteTime": {
     "end_time": "2021-03-26T14:32:12.093930Z",
     "start_time": "2021-03-26T14:32:12.083219Z"
    }
   },
   "outputs": [
    {
     "data": {
      "text/html": [
       "<div>\n",
       "<style scoped>\n",
       "    .dataframe tbody tr th:only-of-type {\n",
       "        vertical-align: middle;\n",
       "    }\n",
       "\n",
       "    .dataframe tbody tr th {\n",
       "        vertical-align: top;\n",
       "    }\n",
       "\n",
       "    .dataframe thead th {\n",
       "        text-align: right;\n",
       "    }\n",
       "</style>\n",
       "<table border=\"1\" class=\"dataframe\">\n",
       "  <thead>\n",
       "    <tr style=\"text-align: right;\">\n",
       "      <th></th>\n",
       "      <th>price</th>\n",
       "      <th>sma_s</th>\n",
       "      <th>sma_l</th>\n",
       "      <th>position</th>\n",
       "      <th>returns</th>\n",
       "    </tr>\n",
       "    <tr>\n",
       "      <th>Date</th>\n",
       "      <th></th>\n",
       "      <th></th>\n",
       "      <th></th>\n",
       "      <th></th>\n",
       "      <th></th>\n",
       "    </tr>\n",
       "  </thead>\n",
       "  <tbody>\n",
       "    <tr>\n",
       "      <th>2004-10-06</th>\n",
       "      <td>1.228094</td>\n",
       "      <td>1.221318</td>\n",
       "      <td>1.226222</td>\n",
       "      <td>-1</td>\n",
       "      <td>NaN</td>\n",
       "    </tr>\n",
       "    <tr>\n",
       "      <th>2004-10-07</th>\n",
       "      <td>1.229906</td>\n",
       "      <td>1.221840</td>\n",
       "      <td>1.226081</td>\n",
       "      <td>-1</td>\n",
       "      <td>0.001475</td>\n",
       "    </tr>\n",
       "    <tr>\n",
       "      <th>2004-10-08</th>\n",
       "      <td>1.241003</td>\n",
       "      <td>1.222628</td>\n",
       "      <td>1.225995</td>\n",
       "      <td>-1</td>\n",
       "      <td>0.008982</td>\n",
       "    </tr>\n",
       "    <tr>\n",
       "      <th>2004-10-11</th>\n",
       "      <td>1.238405</td>\n",
       "      <td>1.223352</td>\n",
       "      <td>1.225843</td>\n",
       "      <td>-1</td>\n",
       "      <td>-0.002095</td>\n",
       "    </tr>\n",
       "    <tr>\n",
       "      <th>2004-10-12</th>\n",
       "      <td>1.232104</td>\n",
       "      <td>1.223888</td>\n",
       "      <td>1.225643</td>\n",
       "      <td>-1</td>\n",
       "      <td>-0.005102</td>\n",
       "    </tr>\n",
       "    <tr>\n",
       "      <th>...</th>\n",
       "      <td>...</td>\n",
       "      <td>...</td>\n",
       "      <td>...</td>\n",
       "      <td>...</td>\n",
       "      <td>...</td>\n",
       "    </tr>\n",
       "    <tr>\n",
       "      <th>2020-06-24</th>\n",
       "      <td>1.131235</td>\n",
       "      <td>1.101794</td>\n",
       "      <td>1.103430</td>\n",
       "      <td>-1</td>\n",
       "      <td>0.002892</td>\n",
       "    </tr>\n",
       "    <tr>\n",
       "      <th>2020-06-25</th>\n",
       "      <td>1.125087</td>\n",
       "      <td>1.102486</td>\n",
       "      <td>1.103540</td>\n",
       "      <td>-1</td>\n",
       "      <td>-0.005449</td>\n",
       "    </tr>\n",
       "    <tr>\n",
       "      <th>2020-06-26</th>\n",
       "      <td>1.122208</td>\n",
       "      <td>1.103213</td>\n",
       "      <td>1.103627</td>\n",
       "      <td>-1</td>\n",
       "      <td>-0.002562</td>\n",
       "    </tr>\n",
       "    <tr>\n",
       "      <th>2020-06-29</th>\n",
       "      <td>1.122586</td>\n",
       "      <td>1.103931</td>\n",
       "      <td>1.103730</td>\n",
       "      <td>1</td>\n",
       "      <td>0.000337</td>\n",
       "    </tr>\n",
       "    <tr>\n",
       "      <th>2020-06-30</th>\n",
       "      <td>1.124720</td>\n",
       "      <td>1.104695</td>\n",
       "      <td>1.103857</td>\n",
       "      <td>1</td>\n",
       "      <td>0.001899</td>\n",
       "    </tr>\n",
       "  </tbody>\n",
       "</table>\n",
       "<p>4076 rows × 5 columns</p>\n",
       "</div>"
      ],
      "text/plain": [
       "               price     sma_s     sma_l  position   returns\n",
       "Date                                                        \n",
       "2004-10-06  1.228094  1.221318  1.226222        -1       NaN\n",
       "2004-10-07  1.229906  1.221840  1.226081        -1  0.001475\n",
       "2004-10-08  1.241003  1.222628  1.225995        -1  0.008982\n",
       "2004-10-11  1.238405  1.223352  1.225843        -1 -0.002095\n",
       "2004-10-12  1.232104  1.223888  1.225643        -1 -0.005102\n",
       "...              ...       ...       ...       ...       ...\n",
       "2020-06-24  1.131235  1.101794  1.103430        -1  0.002892\n",
       "2020-06-25  1.125087  1.102486  1.103540        -1 -0.005449\n",
       "2020-06-26  1.122208  1.103213  1.103627        -1 -0.002562\n",
       "2020-06-29  1.122586  1.103931  1.103730         1  0.000337\n",
       "2020-06-30  1.124720  1.104695  1.103857         1  0.001899\n",
       "\n",
       "[4076 rows x 5 columns]"
      ]
     },
     "execution_count": 17,
     "metadata": {},
     "output_type": "execute_result"
    }
   ],
   "source": [
    "df"
   ]
  },
  {
   "cell_type": "code",
   "execution_count": 18,
   "metadata": {
    "ExecuteTime": {
     "end_time": "2021-03-26T14:32:12.099533Z",
     "start_time": "2021-03-26T14:32:12.095430Z"
    }
   },
   "outputs": [],
   "source": [
    "df['strategy'] = df['position'].shift(1) * df['returns']"
   ]
  },
  {
   "cell_type": "code",
   "execution_count": 19,
   "metadata": {
    "ExecuteTime": {
     "end_time": "2021-03-26T14:32:12.112928Z",
     "start_time": "2021-03-26T14:32:12.101106Z"
    }
   },
   "outputs": [
    {
     "data": {
      "text/html": [
       "<div>\n",
       "<style scoped>\n",
       "    .dataframe tbody tr th:only-of-type {\n",
       "        vertical-align: middle;\n",
       "    }\n",
       "\n",
       "    .dataframe tbody tr th {\n",
       "        vertical-align: top;\n",
       "    }\n",
       "\n",
       "    .dataframe thead th {\n",
       "        text-align: right;\n",
       "    }\n",
       "</style>\n",
       "<table border=\"1\" class=\"dataframe\">\n",
       "  <thead>\n",
       "    <tr style=\"text-align: right;\">\n",
       "      <th></th>\n",
       "      <th>price</th>\n",
       "      <th>sma_s</th>\n",
       "      <th>sma_l</th>\n",
       "      <th>position</th>\n",
       "      <th>returns</th>\n",
       "      <th>strategy</th>\n",
       "    </tr>\n",
       "    <tr>\n",
       "      <th>Date</th>\n",
       "      <th></th>\n",
       "      <th></th>\n",
       "      <th></th>\n",
       "      <th></th>\n",
       "      <th></th>\n",
       "      <th></th>\n",
       "    </tr>\n",
       "  </thead>\n",
       "  <tbody>\n",
       "    <tr>\n",
       "      <th>2004-10-06</th>\n",
       "      <td>1.228094</td>\n",
       "      <td>1.221318</td>\n",
       "      <td>1.226222</td>\n",
       "      <td>-1</td>\n",
       "      <td>NaN</td>\n",
       "      <td>NaN</td>\n",
       "    </tr>\n",
       "    <tr>\n",
       "      <th>2004-10-07</th>\n",
       "      <td>1.229906</td>\n",
       "      <td>1.221840</td>\n",
       "      <td>1.226081</td>\n",
       "      <td>-1</td>\n",
       "      <td>0.001475</td>\n",
       "      <td>-0.001475</td>\n",
       "    </tr>\n",
       "    <tr>\n",
       "      <th>2004-10-08</th>\n",
       "      <td>1.241003</td>\n",
       "      <td>1.222628</td>\n",
       "      <td>1.225995</td>\n",
       "      <td>-1</td>\n",
       "      <td>0.008982</td>\n",
       "      <td>-0.008982</td>\n",
       "    </tr>\n",
       "    <tr>\n",
       "      <th>2004-10-11</th>\n",
       "      <td>1.238405</td>\n",
       "      <td>1.223352</td>\n",
       "      <td>1.225843</td>\n",
       "      <td>-1</td>\n",
       "      <td>-0.002095</td>\n",
       "      <td>0.002095</td>\n",
       "    </tr>\n",
       "    <tr>\n",
       "      <th>2004-10-12</th>\n",
       "      <td>1.232104</td>\n",
       "      <td>1.223888</td>\n",
       "      <td>1.225643</td>\n",
       "      <td>-1</td>\n",
       "      <td>-0.005102</td>\n",
       "      <td>0.005102</td>\n",
       "    </tr>\n",
       "    <tr>\n",
       "      <th>...</th>\n",
       "      <td>...</td>\n",
       "      <td>...</td>\n",
       "      <td>...</td>\n",
       "      <td>...</td>\n",
       "      <td>...</td>\n",
       "      <td>...</td>\n",
       "    </tr>\n",
       "    <tr>\n",
       "      <th>2020-06-24</th>\n",
       "      <td>1.131235</td>\n",
       "      <td>1.101794</td>\n",
       "      <td>1.103430</td>\n",
       "      <td>-1</td>\n",
       "      <td>0.002892</td>\n",
       "      <td>-0.002892</td>\n",
       "    </tr>\n",
       "    <tr>\n",
       "      <th>2020-06-25</th>\n",
       "      <td>1.125087</td>\n",
       "      <td>1.102486</td>\n",
       "      <td>1.103540</td>\n",
       "      <td>-1</td>\n",
       "      <td>-0.005449</td>\n",
       "      <td>0.005449</td>\n",
       "    </tr>\n",
       "    <tr>\n",
       "      <th>2020-06-26</th>\n",
       "      <td>1.122208</td>\n",
       "      <td>1.103213</td>\n",
       "      <td>1.103627</td>\n",
       "      <td>-1</td>\n",
       "      <td>-0.002562</td>\n",
       "      <td>0.002562</td>\n",
       "    </tr>\n",
       "    <tr>\n",
       "      <th>2020-06-29</th>\n",
       "      <td>1.122586</td>\n",
       "      <td>1.103931</td>\n",
       "      <td>1.103730</td>\n",
       "      <td>1</td>\n",
       "      <td>0.000337</td>\n",
       "      <td>-0.000337</td>\n",
       "    </tr>\n",
       "    <tr>\n",
       "      <th>2020-06-30</th>\n",
       "      <td>1.124720</td>\n",
       "      <td>1.104695</td>\n",
       "      <td>1.103857</td>\n",
       "      <td>1</td>\n",
       "      <td>0.001899</td>\n",
       "      <td>0.001899</td>\n",
       "    </tr>\n",
       "  </tbody>\n",
       "</table>\n",
       "<p>4076 rows × 6 columns</p>\n",
       "</div>"
      ],
      "text/plain": [
       "               price     sma_s     sma_l  position   returns  strategy\n",
       "Date                                                                  \n",
       "2004-10-06  1.228094  1.221318  1.226222        -1       NaN       NaN\n",
       "2004-10-07  1.229906  1.221840  1.226081        -1  0.001475 -0.001475\n",
       "2004-10-08  1.241003  1.222628  1.225995        -1  0.008982 -0.008982\n",
       "2004-10-11  1.238405  1.223352  1.225843        -1 -0.002095  0.002095\n",
       "2004-10-12  1.232104  1.223888  1.225643        -1 -0.005102  0.005102\n",
       "...              ...       ...       ...       ...       ...       ...\n",
       "2020-06-24  1.131235  1.101794  1.103430        -1  0.002892 -0.002892\n",
       "2020-06-25  1.125087  1.102486  1.103540        -1 -0.005449  0.005449\n",
       "2020-06-26  1.122208  1.103213  1.103627        -1 -0.002562  0.002562\n",
       "2020-06-29  1.122586  1.103931  1.103730         1  0.000337 -0.000337\n",
       "2020-06-30  1.124720  1.104695  1.103857         1  0.001899  0.001899\n",
       "\n",
       "[4076 rows x 6 columns]"
      ]
     },
     "execution_count": 19,
     "metadata": {},
     "output_type": "execute_result"
    }
   ],
   "source": [
    "df"
   ]
  },
  {
   "cell_type": "code",
   "execution_count": 20,
   "metadata": {
    "ExecuteTime": {
     "end_time": "2021-03-26T14:32:12.118956Z",
     "start_time": "2021-03-26T14:32:12.114286Z"
    }
   },
   "outputs": [],
   "source": [
    "df.dropna(inplace = True)"
   ]
  },
  {
   "cell_type": "code",
   "execution_count": 21,
   "metadata": {
    "ExecuteTime": {
     "end_time": "2021-03-26T14:32:12.125759Z",
     "start_time": "2021-03-26T14:32:12.120470Z"
    }
   },
   "outputs": [
    {
     "data": {
      "text/plain": [
       "returns    -0.087929\n",
       "strategy    0.249591\n",
       "dtype: float64"
      ]
     },
     "execution_count": 21,
     "metadata": {},
     "output_type": "execute_result"
    }
   ],
   "source": [
    "# calculates absolute performance\n",
    "df[['returns', 'strategy']].sum()"
   ]
  },
  {
   "cell_type": "code",
   "execution_count": 22,
   "metadata": {
    "ExecuteTime": {
     "end_time": "2021-03-26T14:32:12.132109Z",
     "start_time": "2021-03-26T14:32:12.127428Z"
    }
   },
   "outputs": [
    {
     "data": {
      "text/plain": [
       "returns     0.915826\n",
       "strategy    1.283500\n",
       "dtype: float64"
      ]
     },
     "execution_count": 22,
     "metadata": {},
     "output_type": "execute_result"
    }
   ],
   "source": [
    "# calculates absolute performance\n",
    "df[['returns', 'strategy']].sum().apply(np.exp)"
   ]
  },
  {
   "cell_type": "code",
   "execution_count": 23,
   "metadata": {
    "ExecuteTime": {
     "end_time": "2021-03-26T14:32:12.143719Z",
     "start_time": "2021-03-26T14:32:12.138716Z"
    }
   },
   "outputs": [
    {
     "data": {
      "text/plain": [
       "returns    -0.005438\n",
       "strategy    0.015435\n",
       "dtype: float64"
      ]
     },
     "execution_count": 23,
     "metadata": {},
     "output_type": "execute_result"
    }
   ],
   "source": [
    "# annualized returns\n",
    "df[['returns', 'strategy']].mean() * 252"
   ]
  },
  {
   "cell_type": "code",
   "execution_count": 24,
   "metadata": {
    "ExecuteTime": {
     "end_time": "2021-03-26T14:32:12.150982Z",
     "start_time": "2021-03-26T14:32:12.146651Z"
    }
   },
   "outputs": [
    {
     "data": {
      "text/plain": [
       "returns     0.120806\n",
       "strategy    0.120802\n",
       "dtype: float64"
      ]
     },
     "execution_count": 24,
     "metadata": {},
     "output_type": "execute_result"
    }
   ],
   "source": [
    "# annualized risk\n",
    "df[['returns', 'strategy']].std() * np.sqrt(252)"
   ]
  },
  {
   "cell_type": "code",
   "execution_count": 25,
   "metadata": {
    "ExecuteTime": {
     "end_time": "2021-03-26T14:32:12.157536Z",
     "start_time": "2021-03-26T14:32:12.152308Z"
    }
   },
   "outputs": [],
   "source": [
    "df['creturns'] = df['returns'].cumsum().apply(np.exp)\n",
    "df['cstrategy'] = df['strategy'].cumsum().apply(np.exp)"
   ]
  },
  {
   "cell_type": "code",
   "execution_count": 26,
   "metadata": {
    "ExecuteTime": {
     "end_time": "2021-03-26T14:32:12.172629Z",
     "start_time": "2021-03-26T14:32:12.158841Z"
    }
   },
   "outputs": [
    {
     "data": {
      "text/html": [
       "<div>\n",
       "<style scoped>\n",
       "    .dataframe tbody tr th:only-of-type {\n",
       "        vertical-align: middle;\n",
       "    }\n",
       "\n",
       "    .dataframe tbody tr th {\n",
       "        vertical-align: top;\n",
       "    }\n",
       "\n",
       "    .dataframe thead th {\n",
       "        text-align: right;\n",
       "    }\n",
       "</style>\n",
       "<table border=\"1\" class=\"dataframe\">\n",
       "  <thead>\n",
       "    <tr style=\"text-align: right;\">\n",
       "      <th></th>\n",
       "      <th>price</th>\n",
       "      <th>sma_s</th>\n",
       "      <th>sma_l</th>\n",
       "      <th>position</th>\n",
       "      <th>returns</th>\n",
       "      <th>strategy</th>\n",
       "      <th>creturns</th>\n",
       "      <th>cstrategy</th>\n",
       "    </tr>\n",
       "    <tr>\n",
       "      <th>Date</th>\n",
       "      <th></th>\n",
       "      <th></th>\n",
       "      <th></th>\n",
       "      <th></th>\n",
       "      <th></th>\n",
       "      <th></th>\n",
       "      <th></th>\n",
       "      <th></th>\n",
       "    </tr>\n",
       "  </thead>\n",
       "  <tbody>\n",
       "    <tr>\n",
       "      <th>2004-10-07</th>\n",
       "      <td>1.229906</td>\n",
       "      <td>1.221840</td>\n",
       "      <td>1.226081</td>\n",
       "      <td>-1</td>\n",
       "      <td>0.001475</td>\n",
       "      <td>-0.001475</td>\n",
       "      <td>1.001476</td>\n",
       "      <td>0.998526</td>\n",
       "    </tr>\n",
       "    <tr>\n",
       "      <th>2004-10-08</th>\n",
       "      <td>1.241003</td>\n",
       "      <td>1.222628</td>\n",
       "      <td>1.225995</td>\n",
       "      <td>-1</td>\n",
       "      <td>0.008982</td>\n",
       "      <td>-0.008982</td>\n",
       "      <td>1.010511</td>\n",
       "      <td>0.989598</td>\n",
       "    </tr>\n",
       "    <tr>\n",
       "      <th>2004-10-11</th>\n",
       "      <td>1.238405</td>\n",
       "      <td>1.223352</td>\n",
       "      <td>1.225843</td>\n",
       "      <td>-1</td>\n",
       "      <td>-0.002095</td>\n",
       "      <td>0.002095</td>\n",
       "      <td>1.008396</td>\n",
       "      <td>0.991673</td>\n",
       "    </tr>\n",
       "    <tr>\n",
       "      <th>2004-10-12</th>\n",
       "      <td>1.232104</td>\n",
       "      <td>1.223888</td>\n",
       "      <td>1.225643</td>\n",
       "      <td>-1</td>\n",
       "      <td>-0.005102</td>\n",
       "      <td>0.005102</td>\n",
       "      <td>1.003265</td>\n",
       "      <td>0.996746</td>\n",
       "    </tr>\n",
       "    <tr>\n",
       "      <th>2004-10-13</th>\n",
       "      <td>1.234903</td>\n",
       "      <td>1.224466</td>\n",
       "      <td>1.225497</td>\n",
       "      <td>-1</td>\n",
       "      <td>0.002270</td>\n",
       "      <td>-0.002270</td>\n",
       "      <td>1.005545</td>\n",
       "      <td>0.994486</td>\n",
       "    </tr>\n",
       "    <tr>\n",
       "      <th>...</th>\n",
       "      <td>...</td>\n",
       "      <td>...</td>\n",
       "      <td>...</td>\n",
       "      <td>...</td>\n",
       "      <td>...</td>\n",
       "      <td>...</td>\n",
       "      <td>...</td>\n",
       "      <td>...</td>\n",
       "    </tr>\n",
       "    <tr>\n",
       "      <th>2020-06-24</th>\n",
       "      <td>1.131235</td>\n",
       "      <td>1.101794</td>\n",
       "      <td>1.103430</td>\n",
       "      <td>-1</td>\n",
       "      <td>0.002892</td>\n",
       "      <td>-0.002892</td>\n",
       "      <td>0.921130</td>\n",
       "      <td>1.271272</td>\n",
       "    </tr>\n",
       "    <tr>\n",
       "      <th>2020-06-25</th>\n",
       "      <td>1.125087</td>\n",
       "      <td>1.102486</td>\n",
       "      <td>1.103540</td>\n",
       "      <td>-1</td>\n",
       "      <td>-0.005449</td>\n",
       "      <td>0.005449</td>\n",
       "      <td>0.916125</td>\n",
       "      <td>1.278218</td>\n",
       "    </tr>\n",
       "    <tr>\n",
       "      <th>2020-06-26</th>\n",
       "      <td>1.122208</td>\n",
       "      <td>1.103213</td>\n",
       "      <td>1.103627</td>\n",
       "      <td>-1</td>\n",
       "      <td>-0.002562</td>\n",
       "      <td>0.002562</td>\n",
       "      <td>0.913781</td>\n",
       "      <td>1.281497</td>\n",
       "    </tr>\n",
       "    <tr>\n",
       "      <th>2020-06-29</th>\n",
       "      <td>1.122586</td>\n",
       "      <td>1.103931</td>\n",
       "      <td>1.103730</td>\n",
       "      <td>1</td>\n",
       "      <td>0.000337</td>\n",
       "      <td>-0.000337</td>\n",
       "      <td>0.914089</td>\n",
       "      <td>1.281065</td>\n",
       "    </tr>\n",
       "    <tr>\n",
       "      <th>2020-06-30</th>\n",
       "      <td>1.124720</td>\n",
       "      <td>1.104695</td>\n",
       "      <td>1.103857</td>\n",
       "      <td>1</td>\n",
       "      <td>0.001899</td>\n",
       "      <td>0.001899</td>\n",
       "      <td>0.915826</td>\n",
       "      <td>1.283500</td>\n",
       "    </tr>\n",
       "  </tbody>\n",
       "</table>\n",
       "<p>4075 rows × 8 columns</p>\n",
       "</div>"
      ],
      "text/plain": [
       "               price     sma_s     sma_l  position   returns  strategy  \\\n",
       "Date                                                                     \n",
       "2004-10-07  1.229906  1.221840  1.226081        -1  0.001475 -0.001475   \n",
       "2004-10-08  1.241003  1.222628  1.225995        -1  0.008982 -0.008982   \n",
       "2004-10-11  1.238405  1.223352  1.225843        -1 -0.002095  0.002095   \n",
       "2004-10-12  1.232104  1.223888  1.225643        -1 -0.005102  0.005102   \n",
       "2004-10-13  1.234903  1.224466  1.225497        -1  0.002270 -0.002270   \n",
       "...              ...       ...       ...       ...       ...       ...   \n",
       "2020-06-24  1.131235  1.101794  1.103430        -1  0.002892 -0.002892   \n",
       "2020-06-25  1.125087  1.102486  1.103540        -1 -0.005449  0.005449   \n",
       "2020-06-26  1.122208  1.103213  1.103627        -1 -0.002562  0.002562   \n",
       "2020-06-29  1.122586  1.103931  1.103730         1  0.000337 -0.000337   \n",
       "2020-06-30  1.124720  1.104695  1.103857         1  0.001899  0.001899   \n",
       "\n",
       "            creturns  cstrategy  \n",
       "Date                             \n",
       "2004-10-07  1.001476   0.998526  \n",
       "2004-10-08  1.010511   0.989598  \n",
       "2004-10-11  1.008396   0.991673  \n",
       "2004-10-12  1.003265   0.996746  \n",
       "2004-10-13  1.005545   0.994486  \n",
       "...              ...        ...  \n",
       "2020-06-24  0.921130   1.271272  \n",
       "2020-06-25  0.916125   1.278218  \n",
       "2020-06-26  0.913781   1.281497  \n",
       "2020-06-29  0.914089   1.281065  \n",
       "2020-06-30  0.915826   1.283500  \n",
       "\n",
       "[4075 rows x 8 columns]"
      ]
     },
     "execution_count": 26,
     "metadata": {},
     "output_type": "execute_result"
    }
   ],
   "source": [
    "df"
   ]
  },
  {
   "cell_type": "code",
   "execution_count": 27,
   "metadata": {
    "ExecuteTime": {
     "end_time": "2021-03-26T14:32:12.362169Z",
     "start_time": "2021-03-26T14:32:12.174086Z"
    }
   },
   "outputs": [
    {
     "data": {
      "image/png": "[encoded data removed]",
      "text/plain": [
       "<Figure size 864x576 with 1 Axes>"
      ]
     },
     "metadata": {},
     "output_type": "display_data"
    }
   ],
   "source": [
    "df[['creturns', 'cstrategy']].plot(figsize = (12, 8), title = 'EUR/USD - SMA{} | SMA{}'.format(sma1, sma2))\n",
    "plt.legend(fontsize = 12);"
   ]
  },
  {
   "cell_type": "code",
   "execution_count": 28,
   "metadata": {
    "ExecuteTime": {
     "end_time": "2021-03-26T14:32:12.367204Z",
     "start_time": "2021-03-26T14:32:12.363662Z"
    }
   },
   "outputs": [
    {
     "data": {
      "text/plain": [
       "0.3676743925451291"
      ]
     },
     "execution_count": 28,
     "metadata": {},
     "output_type": "execute_result"
    }
   ],
   "source": [
    "outperf = df['cstrategy'].iloc[-1] - df['creturns'].iloc[-1]\n",
    "outperf"
   ]
  },
  {
   "cell_type": "markdown",
   "metadata": {},
   "source": [
    "# Optimal SMA Strategy"
   ]
  },
  {
   "cell_type": "code",
   "execution_count": 30,
   "metadata": {
    "ExecuteTime": {
     "end_time": "2021-03-26T14:32:12.376267Z",
     "start_time": "2021-03-26T14:32:12.368868Z"
    }
   },
   "outputs": [],
   "source": [
    "data = pd.read_csv('eurusd.csv', parse_dates = ['Date'], index_col = 'Date')"
   ]
  },
  {
   "cell_type": "code",
   "execution_count": 31,
   "metadata": {
    "ExecuteTime": {
     "end_time": "2021-03-26T14:32:12.384350Z",
     "start_time": "2021-03-26T14:32:12.377821Z"
    }
   },
   "outputs": [
    {
     "data": {
      "text/html": [
       "<div>\n",
       "<style scoped>\n",
       "    .dataframe tbody tr th:only-of-type {\n",
       "        vertical-align: middle;\n",
       "    }\n",
       "\n",
       "    .dataframe tbody tr th {\n",
       "        vertical-align: top;\n",
       "    }\n",
       "\n",
       "    .dataframe thead th {\n",
       "        text-align: right;\n",
       "    }\n",
       "</style>\n",
       "<table border=\"1\" class=\"dataframe\">\n",
       "  <thead>\n",
       "    <tr style=\"text-align: right;\">\n",
       "      <th></th>\n",
       "      <th>price</th>\n",
       "    </tr>\n",
       "    <tr>\n",
       "      <th>Date</th>\n",
       "      <th></th>\n",
       "    </tr>\n",
       "  </thead>\n",
       "  <tbody>\n",
       "    <tr>\n",
       "      <th>2004-01-01</th>\n",
       "      <td>1.258194</td>\n",
       "    </tr>\n",
       "    <tr>\n",
       "      <th>2004-01-02</th>\n",
       "      <td>1.258194</td>\n",
       "    </tr>\n",
       "    <tr>\n",
       "      <th>2004-01-05</th>\n",
       "      <td>1.268698</td>\n",
       "    </tr>\n",
       "    <tr>\n",
       "      <th>2004-01-06</th>\n",
       "      <td>1.272103</td>\n",
       "    </tr>\n",
       "    <tr>\n",
       "      <th>2004-01-07</th>\n",
       "      <td>1.264095</td>\n",
       "    </tr>\n",
       "    <tr>\n",
       "      <th>...</th>\n",
       "      <td>...</td>\n",
       "    </tr>\n",
       "    <tr>\n",
       "      <th>2020-06-24</th>\n",
       "      <td>1.131235</td>\n",
       "    </tr>\n",
       "    <tr>\n",
       "      <th>2020-06-25</th>\n",
       "      <td>1.125087</td>\n",
       "    </tr>\n",
       "    <tr>\n",
       "      <th>2020-06-26</th>\n",
       "      <td>1.122208</td>\n",
       "    </tr>\n",
       "    <tr>\n",
       "      <th>2020-06-29</th>\n",
       "      <td>1.122586</td>\n",
       "    </tr>\n",
       "    <tr>\n",
       "      <th>2020-06-30</th>\n",
       "      <td>1.124720</td>\n",
       "    </tr>\n",
       "  </tbody>\n",
       "</table>\n",
       "<p>4275 rows × 1 columns</p>\n",
       "</div>"
      ],
      "text/plain": [
       "               price\n",
       "Date                \n",
       "2004-01-01  1.258194\n",
       "2004-01-02  1.258194\n",
       "2004-01-05  1.268698\n",
       "2004-01-06  1.272103\n",
       "2004-01-07  1.264095\n",
       "...              ...\n",
       "2020-06-24  1.131235\n",
       "2020-06-25  1.125087\n",
       "2020-06-26  1.122208\n",
       "2020-06-29  1.122586\n",
       "2020-06-30  1.124720\n",
       "\n",
       "[4275 rows x 1 columns]"
      ]
     },
     "execution_count": 31,
     "metadata": {},
     "output_type": "execute_result"
    }
   ],
   "source": [
    "data"
   ]
  },
  {
   "cell_type": "markdown",
   "metadata": {
    "ExecuteTime": {
     "end_time": "2021-03-26T12:44:27.101414Z",
     "start_time": "2021-03-26T12:44:27.099324Z"
    }
   },
   "source": [
    "## Creates a function that runs a SMA strategy"
   ]
  },
  {
   "cell_type": "code",
   "execution_count": 32,
   "metadata": {
    "ExecuteTime": {
     "end_time": "2021-03-26T14:32:12.389892Z",
     "start_time": "2021-03-26T14:32:12.386111Z"
    }
   },
   "outputs": [],
   "source": [
    "def run_strategy(SMA):\n",
    "    df = data.copy()\n",
    "    df['returns'] = np.log(df['price'] / df['price'].shift(1))\n",
    "    df['sma_s'] = df['price'].rolling(window = int(SMA[0])).mean()\n",
    "    df['sma_l'] = df['price'].rolling(window = int(SMA[1])).mean()\n",
    "    df.dropna(inplace = True)\n",
    "    \n",
    "    df['position'] = np.where(df['sma_s'] > df['sma_l'], 1, -1)\n",
    "    df['strategy'] = df['position'].shift(1) * df['returns']\n",
    "    df.dropna(inplace = True)\n",
    "    \n",
    "    return df[['returns', 'strategy']].sum().apply(np.exp)"
   ]
  },
  {
   "cell_type": "code",
   "execution_count": 33,
   "metadata": {
    "ExecuteTime": {
     "end_time": "2021-03-26T14:32:12.404926Z",
     "start_time": "2021-03-26T14:32:12.391458Z"
    }
   },
   "outputs": [
    {
     "data": {
      "text/plain": [
       "returns     0.915826\n",
       "strategy    1.283500\n",
       "dtype: float64"
      ]
     },
     "execution_count": 33,
     "metadata": {},
     "output_type": "execute_result"
    }
   ],
   "source": [
    "run_strategy((50, 200))"
   ]
  },
  {
   "cell_type": "code",
   "execution_count": 34,
   "metadata": {
    "ExecuteTime": {
     "end_time": "2021-03-26T14:32:12.419489Z",
     "start_time": "2021-03-26T14:32:12.406280Z"
    }
   },
   "outputs": [
    {
     "data": {
      "text/plain": [
       "returns     0.919492\n",
       "strategy    0.987000\n",
       "dtype: float64"
      ]
     },
     "execution_count": 34,
     "metadata": {},
     "output_type": "execute_result"
    }
   ],
   "source": [
    "run_strategy((10, 50))"
   ]
  },
  {
   "cell_type": "code",
   "execution_count": 35,
   "metadata": {
    "ExecuteTime": {
     "end_time": "2021-03-26T14:32:12.433578Z",
     "start_time": "2021-03-26T14:32:12.420841Z"
    }
   },
   "outputs": [
    {
     "data": {
      "text/plain": [
       "returns     0.83984\n",
       "strategy    1.14928\n",
       "dtype: float64"
      ]
     },
     "execution_count": 35,
     "metadata": {},
     "output_type": "execute_result"
    }
   ],
   "source": [
    "run_strategy((22, 252))"
   ]
  },
  {
   "cell_type": "markdown",
   "metadata": {},
   "source": [
    "## Finds the Optimal Windows for the SMA Strategy"
   ]
  },
  {
   "cell_type": "code",
   "execution_count": 36,
   "metadata": {
    "ExecuteTime": {
     "end_time": "2021-03-26T14:32:12.436945Z",
     "start_time": "2021-03-26T14:32:12.435206Z"
    }
   },
   "outputs": [],
   "source": [
    "from itertools import product"
   ]
  },
  {
   "cell_type": "code",
   "execution_count": 37,
   "metadata": {
    "ExecuteTime": {
     "end_time": "2021-03-26T14:32:12.440269Z",
     "start_time": "2021-03-26T14:32:12.438276Z"
    }
   },
   "outputs": [],
   "source": [
    "sma_1 = range(10, 50, 1)\n",
    "sma_2 = range(100, 252, 1)"
   ]
  },
  {
   "cell_type": "code",
   "execution_count": 38,
   "metadata": {
    "ExecuteTime": {
     "end_time": "2021-03-26T14:33:02.571687Z",
     "start_time": "2021-03-26T14:32:12.441701Z"
    }
   },
   "outputs": [],
   "source": [
    "results = pd.DataFrame()\n",
    "\n",
    "for SMA_1, SMA_2 in product(sma_1, sma_2):\n",
    "    df = data.copy()\n",
    "    data.dropna(inplace = True)\n",
    "    df['returns'] = np.log(df['price'] / df['price'].shift(1))\n",
    "    df['sma_s'] = df['price'].rolling(window = int(SMA_1)).mean()\n",
    "    df['sma_l'] = df['price'].rolling(window = int(SMA_2)).mean()\n",
    "    df.dropna(inplace = True)\n",
    "    \n",
    "    df['position'] = np.where(df['sma_s'] > df['sma_l'], 1, -1)\n",
    "    df['strategy'] = df['position'].shift(1) * df['returns']\n",
    "    df.dropna(inplace = True)\n",
    "    \n",
    "    perf = df[['returns', 'strategy']].sum().apply(np.exp)\n",
    "    \n",
    "    results = results.append(pd.DataFrame({\n",
    "        'SMA_1': SMA_1, 'SMA_2': SMA_2, \n",
    "        'MARKET' : perf['returns'], \n",
    "        'STRATEGY' : perf['strategy'], \n",
    "        'OUT' : perf['strategy'] - perf['returns']\n",
    "    }, index = [0]), ignore_index = True)"
   ]
  },
  {
   "cell_type": "code",
   "execution_count": 39,
   "metadata": {
    "ExecuteTime": {
     "end_time": "2021-03-26T14:33:02.584353Z",
     "start_time": "2021-03-26T14:33:02.572787Z"
    }
   },
   "outputs": [
    {
     "data": {
      "text/html": [
       "<div>\n",
       "<style scoped>\n",
       "    .dataframe tbody tr th:only-of-type {\n",
       "        vertical-align: middle;\n",
       "    }\n",
       "\n",
       "    .dataframe tbody tr th {\n",
       "        vertical-align: top;\n",
       "    }\n",
       "\n",
       "    .dataframe thead th {\n",
       "        text-align: right;\n",
       "    }\n",
       "</style>\n",
       "<table border=\"1\" class=\"dataframe\">\n",
       "  <thead>\n",
       "    <tr style=\"text-align: right;\">\n",
       "      <th></th>\n",
       "      <th>SMA_1</th>\n",
       "      <th>SMA_2</th>\n",
       "      <th>MARKET</th>\n",
       "      <th>STRATEGY</th>\n",
       "      <th>OUT</th>\n",
       "    </tr>\n",
       "  </thead>\n",
       "  <tbody>\n",
       "    <tr>\n",
       "      <th>0</th>\n",
       "      <td>10</td>\n",
       "      <td>100</td>\n",
       "      <td>0.936959</td>\n",
       "      <td>0.919640</td>\n",
       "      <td>-0.017320</td>\n",
       "    </tr>\n",
       "    <tr>\n",
       "      <th>1</th>\n",
       "      <td>10</td>\n",
       "      <td>101</td>\n",
       "      <td>0.940637</td>\n",
       "      <td>0.901791</td>\n",
       "      <td>-0.038846</td>\n",
       "    </tr>\n",
       "    <tr>\n",
       "      <th>2</th>\n",
       "      <td>10</td>\n",
       "      <td>102</td>\n",
       "      <td>0.935081</td>\n",
       "      <td>0.908851</td>\n",
       "      <td>-0.026230</td>\n",
       "    </tr>\n",
       "    <tr>\n",
       "      <th>3</th>\n",
       "      <td>10</td>\n",
       "      <td>103</td>\n",
       "      <td>0.937342</td>\n",
       "      <td>0.917204</td>\n",
       "      <td>-0.020138</td>\n",
       "    </tr>\n",
       "    <tr>\n",
       "      <th>4</th>\n",
       "      <td>10</td>\n",
       "      <td>104</td>\n",
       "      <td>0.929446</td>\n",
       "      <td>0.990232</td>\n",
       "      <td>0.060785</td>\n",
       "    </tr>\n",
       "    <tr>\n",
       "      <th>...</th>\n",
       "      <td>...</td>\n",
       "      <td>...</td>\n",
       "      <td>...</td>\n",
       "      <td>...</td>\n",
       "      <td>...</td>\n",
       "    </tr>\n",
       "    <tr>\n",
       "      <th>6075</th>\n",
       "      <td>49</td>\n",
       "      <td>247</td>\n",
       "      <td>0.844384</td>\n",
       "      <td>1.282403</td>\n",
       "      <td>0.438020</td>\n",
       "    </tr>\n",
       "    <tr>\n",
       "      <th>6076</th>\n",
       "      <td>49</td>\n",
       "      <td>248</td>\n",
       "      <td>0.845081</td>\n",
       "      <td>1.303129</td>\n",
       "      <td>0.458048</td>\n",
       "    </tr>\n",
       "    <tr>\n",
       "      <th>6077</th>\n",
       "      <td>49</td>\n",
       "      <td>249</td>\n",
       "      <td>0.839098</td>\n",
       "      <td>1.267525</td>\n",
       "      <td>0.428427</td>\n",
       "    </tr>\n",
       "    <tr>\n",
       "      <th>6078</th>\n",
       "      <td>49</td>\n",
       "      <td>250</td>\n",
       "      <td>0.848781</td>\n",
       "      <td>1.275176</td>\n",
       "      <td>0.426394</td>\n",
       "    </tr>\n",
       "    <tr>\n",
       "      <th>6079</th>\n",
       "      <td>49</td>\n",
       "      <td>251</td>\n",
       "      <td>0.844834</td>\n",
       "      <td>1.270185</td>\n",
       "      <td>0.425352</td>\n",
       "    </tr>\n",
       "  </tbody>\n",
       "</table>\n",
       "<p>6080 rows × 5 columns</p>\n",
       "</div>"
      ],
      "text/plain": [
       "      SMA_1  SMA_2    MARKET  STRATEGY       OUT\n",
       "0        10    100  0.936959  0.919640 -0.017320\n",
       "1        10    101  0.940637  0.901791 -0.038846\n",
       "2        10    102  0.935081  0.908851 -0.026230\n",
       "3        10    103  0.937342  0.917204 -0.020138\n",
       "4        10    104  0.929446  0.990232  0.060785\n",
       "...     ...    ...       ...       ...       ...\n",
       "6075     49    247  0.844384  1.282403  0.438020\n",
       "6076     49    248  0.845081  1.303129  0.458048\n",
       "6077     49    249  0.839098  1.267525  0.428427\n",
       "6078     49    250  0.848781  1.275176  0.426394\n",
       "6079     49    251  0.844834  1.270185  0.425352\n",
       "\n",
       "[6080 rows x 5 columns]"
      ]
     },
     "execution_count": 39,
     "metadata": {},
     "output_type": "execute_result"
    }
   ],
   "source": [
    "results"
   ]
  },
  {
   "cell_type": "code",
   "execution_count": 40,
   "metadata": {
    "ExecuteTime": {
     "end_time": "2021-03-26T14:33:02.594820Z",
     "start_time": "2021-03-26T14:33:02.586315Z"
    }
   },
   "outputs": [
    {
     "name": "stdout",
     "output_type": "stream",
     "text": [
      "<class 'pandas.core.frame.DataFrame'>\n",
      "RangeIndex: 6080 entries, 0 to 6079\n",
      "Data columns (total 5 columns):\n",
      " #   Column    Non-Null Count  Dtype  \n",
      "---  ------    --------------  -----  \n",
      " 0   SMA_1     6080 non-null   int64  \n",
      " 1   SMA_2     6080 non-null   int64  \n",
      " 2   MARKET    6080 non-null   float64\n",
      " 3   STRATEGY  6080 non-null   float64\n",
      " 4   OUT       6080 non-null   float64\n",
      "dtypes: float64(3), int64(2)\n",
      "memory usage: 237.6 KB\n"
     ]
    }
   ],
   "source": [
    "results.info()"
   ]
  },
  {
   "cell_type": "code",
   "execution_count": 41,
   "metadata": {
    "ExecuteTime": {
     "end_time": "2021-03-26T14:33:02.609101Z",
     "start_time": "2021-03-26T14:33:02.597196Z"
    }
   },
   "outputs": [
    {
     "data": {
      "text/html": [
       "<div>\n",
       "<style scoped>\n",
       "    .dataframe tbody tr th:only-of-type {\n",
       "        vertical-align: middle;\n",
       "    }\n",
       "\n",
       "    .dataframe tbody tr th {\n",
       "        vertical-align: top;\n",
       "    }\n",
       "\n",
       "    .dataframe thead th {\n",
       "        text-align: right;\n",
       "    }\n",
       "</style>\n",
       "<table border=\"1\" class=\"dataframe\">\n",
       "  <thead>\n",
       "    <tr style=\"text-align: right;\">\n",
       "      <th></th>\n",
       "      <th>SMA_1</th>\n",
       "      <th>SMA_2</th>\n",
       "      <th>MARKET</th>\n",
       "      <th>STRATEGY</th>\n",
       "      <th>OUT</th>\n",
       "    </tr>\n",
       "  </thead>\n",
       "  <tbody>\n",
       "    <tr>\n",
       "      <th>5509</th>\n",
       "      <td>46</td>\n",
       "      <td>137</td>\n",
       "      <td>0.905647</td>\n",
       "      <td>2.526694</td>\n",
       "      <td>1.621047</td>\n",
       "    </tr>\n",
       "    <tr>\n",
       "      <th>5660</th>\n",
       "      <td>47</td>\n",
       "      <td>136</td>\n",
       "      <td>0.907402</td>\n",
       "      <td>2.513588</td>\n",
       "      <td>1.606186</td>\n",
       "    </tr>\n",
       "    <tr>\n",
       "      <th>5356</th>\n",
       "      <td>45</td>\n",
       "      <td>136</td>\n",
       "      <td>0.907402</td>\n",
       "      <td>2.490511</td>\n",
       "      <td>1.583109</td>\n",
       "    </tr>\n",
       "    <tr>\n",
       "      <th>5507</th>\n",
       "      <td>46</td>\n",
       "      <td>135</td>\n",
       "      <td>0.909156</td>\n",
       "      <td>2.464982</td>\n",
       "      <td>1.555825</td>\n",
       "    </tr>\n",
       "    <tr>\n",
       "      <th>5963</th>\n",
       "      <td>49</td>\n",
       "      <td>135</td>\n",
       "      <td>0.909156</td>\n",
       "      <td>2.447218</td>\n",
       "      <td>1.538061</td>\n",
       "    </tr>\n",
       "    <tr>\n",
       "      <th>5661</th>\n",
       "      <td>47</td>\n",
       "      <td>137</td>\n",
       "      <td>0.905647</td>\n",
       "      <td>2.439993</td>\n",
       "      <td>1.534346</td>\n",
       "    </tr>\n",
       "    <tr>\n",
       "      <th>4283</th>\n",
       "      <td>38</td>\n",
       "      <td>127</td>\n",
       "      <td>0.921674</td>\n",
       "      <td>2.455225</td>\n",
       "      <td>1.533551</td>\n",
       "    </tr>\n",
       "    <tr>\n",
       "      <th>5811</th>\n",
       "      <td>48</td>\n",
       "      <td>135</td>\n",
       "      <td>0.909156</td>\n",
       "      <td>2.439185</td>\n",
       "      <td>1.530028</td>\n",
       "    </tr>\n",
       "    <tr>\n",
       "      <th>5508</th>\n",
       "      <td>46</td>\n",
       "      <td>136</td>\n",
       "      <td>0.907402</td>\n",
       "      <td>2.432296</td>\n",
       "      <td>1.524895</td>\n",
       "    </tr>\n",
       "    <tr>\n",
       "      <th>4284</th>\n",
       "      <td>38</td>\n",
       "      <td>128</td>\n",
       "      <td>0.922889</td>\n",
       "      <td>2.427431</td>\n",
       "      <td>1.504541</td>\n",
       "    </tr>\n",
       "  </tbody>\n",
       "</table>\n",
       "</div>"
      ],
      "text/plain": [
       "      SMA_1  SMA_2    MARKET  STRATEGY       OUT\n",
       "5509     46    137  0.905647  2.526694  1.621047\n",
       "5660     47    136  0.907402  2.513588  1.606186\n",
       "5356     45    136  0.907402  2.490511  1.583109\n",
       "5507     46    135  0.909156  2.464982  1.555825\n",
       "5963     49    135  0.909156  2.447218  1.538061\n",
       "5661     47    137  0.905647  2.439993  1.534346\n",
       "4283     38    127  0.921674  2.455225  1.533551\n",
       "5811     48    135  0.909156  2.439185  1.530028\n",
       "5508     46    136  0.907402  2.432296  1.524895\n",
       "4284     38    128  0.922889  2.427431  1.504541"
      ]
     },
     "execution_count": 41,
     "metadata": {},
     "output_type": "execute_result"
    }
   ],
   "source": [
    "results.sort_values('OUT', ascending = False).head(10)"
   ]
  },
  {
   "cell_type": "markdown",
   "metadata": {},
   "source": [
    "## Optimal Strategy using Scipy!"
   ]
  },
  {
   "cell_type": "code",
   "execution_count": 42,
   "metadata": {
    "ExecuteTime": {
     "end_time": "2021-03-26T14:33:02.614339Z",
     "start_time": "2021-03-26T14:33:02.610362Z"
    }
   },
   "outputs": [],
   "source": [
    "def run_strategy(SMA):\n",
    "    df = data.copy()\n",
    "    df['returns'] = np.log(df['price'] / df['price'].shift(1))\n",
    "    df['sma_s'] = df['price'].rolling(window = int(SMA[0])).mean()\n",
    "    df['sma_l'] = df['price'].rolling(window = int(SMA[1])).mean()\n",
    "    df.dropna(inplace = True)\n",
    "    \n",
    "    df['position'] = np.where(df['sma_s'] > df['sma_l'], 1, -1)\n",
    "    df['strategy'] = df['position'].shift(1) * df['returns']\n",
    "    df.dropna(inplace = True)\n",
    "    \n",
    "    return -df[['returns', 'strategy']].sum().apply(np.exp)[-1]\n",
    "# maximizes absolute performance"
   ]
  },
  {
   "cell_type": "code",
   "execution_count": 43,
   "metadata": {
    "ExecuteTime": {
     "end_time": "2021-03-26T14:33:02.947200Z",
     "start_time": "2021-03-26T14:33:02.616205Z"
    }
   },
   "outputs": [],
   "source": [
    "from scipy.optimize import brute"
   ]
  },
  {
   "cell_type": "code",
   "execution_count": 44,
   "metadata": {
    "ExecuteTime": {
     "end_time": "2021-03-26T14:33:46.779425Z",
     "start_time": "2021-03-26T14:33:02.948625Z"
    }
   },
   "outputs": [
    {
     "data": {
      "text/plain": [
       "array([ 46., 137.])"
      ]
     },
     "execution_count": 44,
     "metadata": {},
     "output_type": "execute_result"
    }
   ],
   "source": [
    "brute(run_strategy, ((10, 50, 1), (100, 252, 1)))"
   ]
  },
  {
   "cell_type": "code",
   "execution_count": 45,
   "metadata": {
    "ExecuteTime": {
     "end_time": "2021-03-26T14:33:46.799387Z",
     "start_time": "2021-03-26T14:33:46.781556Z"
    }
   },
   "outputs": [
    {
     "data": {
      "text/plain": [
       "2.5266939897810787"
      ]
     },
     "execution_count": 45,
     "metadata": {},
     "output_type": "execute_result"
    }
   ],
   "source": [
    "-run_strategy((46, 137))"
   ]
  },
  {
   "cell_type": "markdown",
   "metadata": {
    "ExecuteTime": {
     "end_time": "2021-03-26T13:02:42.951318Z",
     "start_time": "2021-03-26T13:02:42.949383Z"
    }
   },
   "source": [
    "### Run strategy using our original function"
   ]
  },
  {
   "cell_type": "code",
   "execution_count": 46,
   "metadata": {
    "ExecuteTime": {
     "end_time": "2021-03-26T14:33:46.805020Z",
     "start_time": "2021-03-26T14:33:46.800839Z"
    }
   },
   "outputs": [],
   "source": [
    "def run_strategy(SMA):\n",
    "    df = data.copy()\n",
    "    df['returns'] = np.log(df['price'] / df['price'].shift(1))\n",
    "    df['sma_s'] = df['price'].rolling(window = int(SMA[0])).mean()\n",
    "    df['sma_l'] = df['price'].rolling(window = int(SMA[1])).mean()\n",
    "    df.dropna(inplace = True)\n",
    "    \n",
    "    df['position'] = np.where(df['sma_s'] > df['sma_l'], 1, -1)\n",
    "    df['strategy'] = df['position'].shift(1) * df['returns']\n",
    "    df.dropna(inplace = True)\n",
    "    \n",
    "    return df[['returns', 'strategy']].sum().apply(np.exp)"
   ]
  },
  {
   "cell_type": "code",
   "execution_count": 47,
   "metadata": {
    "ExecuteTime": {
     "end_time": "2021-03-26T14:33:46.820433Z",
     "start_time": "2021-03-26T14:33:46.807132Z"
    }
   },
   "outputs": [
    {
     "data": {
      "text/plain": [
       "returns     0.905647\n",
       "strategy    2.526694\n",
       "dtype: float64"
      ]
     },
     "execution_count": 47,
     "metadata": {},
     "output_type": "execute_result"
    }
   ],
   "source": [
    "run_strategy((46, 137))"
   ]
  },
  {
   "cell_type": "code",
   "execution_count": null,
   "metadata": {},
   "outputs": [],
   "source": []
  }
 ],
 "metadata": {
  "kernelspec": {
   "display_name": "pypr",
   "language": "python",
   "name": "pypr"
  },
  "language_info": {
   "codemirror_mode": {
    "name": "ipython",
    "version": 3
   },
   "file_extension": ".py",
   "mimetype": "text/x-python",
   "name": "python",
   "nbconvert_exporter": "python",
   "pygments_lexer": "ipython3",
   "version": "3.8.12"
  }
 },
 "nbformat": 4,
 "nbformat_minor": 4
}
