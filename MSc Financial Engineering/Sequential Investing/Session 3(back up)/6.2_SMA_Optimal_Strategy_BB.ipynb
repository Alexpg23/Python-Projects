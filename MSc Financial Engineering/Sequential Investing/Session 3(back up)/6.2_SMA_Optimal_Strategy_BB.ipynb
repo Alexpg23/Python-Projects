{
 "cells": [
  {
   "cell_type": "code",
   "execution_count": null,
   "metadata": {
    "ExecuteTime": {
     "end_time": "2021-03-26T14:32:10.880316Z",
     "start_time": "2021-03-26T14:32:09.795189Z"
    }
   },
   "outputs": [],
   "source": [
    "import pandas as pd\n",
    "import numpy as np\n",
    "import matplotlib.pyplot as plt\n",
    "plt.style.use('seaborn')"
   ]
  },
  {
   "cell_type": "code",
   "execution_count": null,
   "metadata": {
    "ExecuteTime": {
     "end_time": "2021-03-26T14:32:10.890850Z",
     "start_time": "2021-03-26T14:32:10.882226Z"
    }
   },
   "outputs": [],
   "source": [
    "df = pd.read_csv('../DataSets/eurusd.csv', parse_dates = ['Date'], index_col = 'Date')"
   ]
  },
  {
   "cell_type": "code",
   "execution_count": null,
   "metadata": {
    "ExecuteTime": {
     "end_time": "2021-03-26T14:32:10.902961Z",
     "start_time": "2021-03-26T14:32:10.892731Z"
    }
   },
   "outputs": [],
   "source": [
    "df"
   ]
  },
  {
   "cell_type": "code",
   "execution_count": null,
   "metadata": {
    "ExecuteTime": {
     "end_time": "2021-03-26T14:32:10.906656Z",
     "start_time": "2021-03-26T14:32:10.904896Z"
    }
   },
   "outputs": [],
   "source": [
    "sma1 = 50\n",
    "sma2 = 200"
   ]
  },
  {
   "cell_type": "code",
   "execution_count": null,
   "metadata": {
    "ExecuteTime": {
     "end_time": "2021-03-26T14:32:10.915333Z",
     "start_time": "2021-03-26T14:32:10.908135Z"
    }
   },
   "outputs": [],
   "source": [
    "df['sma_s'] = df['price'].rolling(window = sma1).mean()\n",
    "df['sma_l'] = df['price'].rolling(window = sma2).mean()"
   ]
  },
  {
   "cell_type": "code",
   "execution_count": null,
   "metadata": {
    "ExecuteTime": {
     "end_time": "2021-03-26T14:32:10.925449Z",
     "start_time": "2021-03-26T14:32:10.916594Z"
    }
   },
   "outputs": [],
   "source": [
    "df"
   ]
  },
  {
   "cell_type": "code",
   "execution_count": null,
   "metadata": {
    "ExecuteTime": {
     "end_time": "2021-03-26T14:32:11.158818Z",
     "start_time": "2021-03-26T14:32:10.926915Z"
    }
   },
   "outputs": [],
   "source": [
    "df.plot(figsize = (12, 8), title = 'EUR/USD - SMA{} | SMA{}'.format(sma1, sma2), fontsize = 12)\n",
    "plt.legend(fontsize = 12);"
   ]
  },
  {
   "cell_type": "code",
   "execution_count": null,
   "metadata": {
    "ExecuteTime": {
     "end_time": "2021-03-26T14:32:11.179391Z",
     "start_time": "2021-03-26T14:32:11.162680Z"
    }
   },
   "outputs": [],
   "source": [
    "df.dropna(inplace = True)"
   ]
  },
  {
   "cell_type": "code",
   "execution_count": null,
   "metadata": {
    "ExecuteTime": {
     "end_time": "2021-03-26T14:32:11.190634Z",
     "start_time": "2021-03-26T14:32:11.182232Z"
    }
   },
   "outputs": [],
   "source": [
    "df"
   ]
  },
  {
   "cell_type": "code",
   "execution_count": null,
   "metadata": {
    "ExecuteTime": {
     "end_time": "2021-03-26T14:32:11.447983Z",
     "start_time": "2021-03-26T14:32:11.191973Z"
    }
   },
   "outputs": [],
   "source": [
    "df.loc['2016'].plot(figsize = (12, 8), title = 'EUR/USD - SMA{} | SMA{}'.format(sma1, sma2), fontsize = 12)\n",
    "plt.legend(fontsize = 12);"
   ]
  },
  {
   "cell_type": "code",
   "execution_count": null,
   "metadata": {
    "ExecuteTime": {
     "end_time": "2021-03-26T14:32:11.453486Z",
     "start_time": "2021-03-26T14:32:11.449792Z"
    }
   },
   "outputs": [],
   "source": [
    "df['position'] = np.where(df['sma_s'] > df['sma_l'], 1, -1)"
   ]
  },
  {
   "cell_type": "code",
   "execution_count": null,
   "metadata": {
    "ExecuteTime": {
     "end_time": "2021-03-26T14:32:11.467054Z",
     "start_time": "2021-03-26T14:32:11.456024Z"
    }
   },
   "outputs": [],
   "source": [
    "df"
   ]
  },
  {
   "cell_type": "code",
   "execution_count": null,
   "metadata": {
    "ExecuteTime": {
     "end_time": "2021-03-26T14:32:11.702455Z",
     "start_time": "2021-03-26T14:32:11.468339Z"
    }
   },
   "outputs": [],
   "source": [
    "df.loc[:, ['sma_s', 'sma_l', 'position']].plot(figsize = (12, 8), fontsize = 12, secondary_y = 'position', title = 'EUR/USD - SMA{} | SMA{}'.format(sma1, sma2));"
   ]
  },
  {
   "cell_type": "code",
   "execution_count": null,
   "metadata": {
    "ExecuteTime": {
     "end_time": "2021-03-26T14:32:12.065758Z",
     "start_time": "2021-03-26T14:32:11.705032Z"
    }
   },
   "outputs": [],
   "source": [
    "df.loc['2016', ['sma_s', 'sma_l', 'position']].plot(figsize = (12, 8), fontsize = 12, secondary_y = 'position', title = 'EUR/USD - SMA{} | SMA{}'.format(sma1, sma2));"
   ]
  },
  {
   "cell_type": "markdown",
   "metadata": {},
   "source": [
    "# Vectorized Strategy Backtesting"
   ]
  },
  {
   "cell_type": "code",
   "execution_count": null,
   "metadata": {
    "ExecuteTime": {
     "end_time": "2021-03-26T14:32:12.076543Z",
     "start_time": "2021-03-26T14:32:12.067445Z"
    }
   },
   "outputs": [],
   "source": [
    "df"
   ]
  },
  {
   "cell_type": "code",
   "execution_count": null,
   "metadata": {
    "ExecuteTime": {
     "end_time": "2021-03-26T14:32:12.081740Z",
     "start_time": "2021-03-26T14:32:12.078471Z"
    }
   },
   "outputs": [],
   "source": [
    "df['returns'] = np.log(df['price'] / df['price'].shift(1))"
   ]
  },
  {
   "cell_type": "code",
   "execution_count": null,
   "metadata": {
    "ExecuteTime": {
     "end_time": "2021-03-26T14:32:12.093930Z",
     "start_time": "2021-03-26T14:32:12.083219Z"
    }
   },
   "outputs": [],
   "source": [
    "df"
   ]
  },
  {
   "cell_type": "code",
   "execution_count": null,
   "metadata": {
    "ExecuteTime": {
     "end_time": "2021-03-26T14:32:12.099533Z",
     "start_time": "2021-03-26T14:32:12.095430Z"
    }
   },
   "outputs": [],
   "source": [
    "df['strategy'] = df['position'].shift(1) * df['returns']"
   ]
  },
  {
   "cell_type": "code",
   "execution_count": null,
   "metadata": {
    "ExecuteTime": {
     "end_time": "2021-03-26T14:32:12.112928Z",
     "start_time": "2021-03-26T14:32:12.101106Z"
    }
   },
   "outputs": [],
   "source": [
    "df"
   ]
  },
  {
   "cell_type": "code",
   "execution_count": null,
   "metadata": {
    "ExecuteTime": {
     "end_time": "2021-03-26T14:32:12.118956Z",
     "start_time": "2021-03-26T14:32:12.114286Z"
    }
   },
   "outputs": [],
   "source": [
    "df.dropna(inplace = True)"
   ]
  },
  {
   "cell_type": "code",
   "execution_count": null,
   "metadata": {
    "ExecuteTime": {
     "end_time": "2021-03-26T14:32:12.125759Z",
     "start_time": "2021-03-26T14:32:12.120470Z"
    }
   },
   "outputs": [],
   "source": [
    "# calculates absolute performance\n",
    "df[['returns', 'strategy']].sum()"
   ]
  },
  {
   "cell_type": "code",
   "execution_count": null,
   "metadata": {
    "ExecuteTime": {
     "end_time": "2021-03-26T14:32:12.132109Z",
     "start_time": "2021-03-26T14:32:12.127428Z"
    }
   },
   "outputs": [],
   "source": [
    "# calculates absolute performance\n",
    "df[['returns', 'strategy']].sum().apply(np.exp)"
   ]
  },
  {
   "cell_type": "code",
   "execution_count": null,
   "metadata": {
    "ExecuteTime": {
     "end_time": "2021-03-26T14:32:12.143719Z",
     "start_time": "2021-03-26T14:32:12.138716Z"
    }
   },
   "outputs": [],
   "source": [
    "# annualized returns\n",
    "df[['returns', 'strategy']].mean() * 252"
   ]
  },
  {
   "cell_type": "code",
   "execution_count": null,
   "metadata": {
    "ExecuteTime": {
     "end_time": "2021-03-26T14:32:12.150982Z",
     "start_time": "2021-03-26T14:32:12.146651Z"
    }
   },
   "outputs": [],
   "source": [
    "# annualized risk\n",
    "df[['returns', 'strategy']].std() * np.sqrt(252)"
   ]
  },
  {
   "cell_type": "code",
   "execution_count": null,
   "metadata": {
    "ExecuteTime": {
     "end_time": "2021-03-26T14:32:12.157536Z",
     "start_time": "2021-03-26T14:32:12.152308Z"
    }
   },
   "outputs": [],
   "source": [
    "df['creturns'] = df['returns'].cumsum().apply(np.exp)\n",
    "df['cstrategy'] = df['strategy'].cumsum().apply(np.exp)"
   ]
  },
  {
   "cell_type": "code",
   "execution_count": null,
   "metadata": {
    "ExecuteTime": {
     "end_time": "2021-03-26T14:32:12.172629Z",
     "start_time": "2021-03-26T14:32:12.158841Z"
    }
   },
   "outputs": [],
   "source": [
    "df"
   ]
  },
  {
   "cell_type": "code",
   "execution_count": null,
   "metadata": {
    "ExecuteTime": {
     "end_time": "2021-03-26T14:32:12.362169Z",
     "start_time": "2021-03-26T14:32:12.174086Z"
    }
   },
   "outputs": [],
   "source": [
    "df[['creturns', 'cstrategy']].plot(figsize = (12, 8), title = 'EUR/USD - SMA{} | SMA{}'.format(sma1, sma2))\n",
    "plt.legend(fontsize = 12);"
   ]
  },
  {
   "cell_type": "code",
   "execution_count": null,
   "metadata": {
    "ExecuteTime": {
     "end_time": "2021-03-26T14:32:12.367204Z",
     "start_time": "2021-03-26T14:32:12.363662Z"
    }
   },
   "outputs": [],
   "source": [
    "outperf = df['cstrategy'].iloc[-1] - df['creturns'].iloc[-1]\n",
    "outperf"
   ]
  },
  {
   "cell_type": "markdown",
   "metadata": {},
   "source": [
    "# Optimal SMA Strategy"
   ]
  },
  {
   "cell_type": "code",
   "execution_count": null,
   "metadata": {
    "ExecuteTime": {
     "end_time": "2021-03-26T14:32:12.376267Z",
     "start_time": "2021-03-26T14:32:12.368868Z"
    }
   },
   "outputs": [],
   "source": [
    "data = pd.read_csv('../DataSets/eurusd.csv', parse_dates = ['Date'], index_col = 'Date')"
   ]
  },
  {
   "cell_type": "code",
   "execution_count": null,
   "metadata": {
    "ExecuteTime": {
     "end_time": "2021-03-26T14:32:12.384350Z",
     "start_time": "2021-03-26T14:32:12.377821Z"
    }
   },
   "outputs": [],
   "source": [
    "data"
   ]
  },
  {
   "cell_type": "markdown",
   "metadata": {
    "ExecuteTime": {
     "end_time": "2021-03-26T12:44:27.101414Z",
     "start_time": "2021-03-26T12:44:27.099324Z"
    }
   },
   "source": [
    "## Creates a function that runs a SMA strategy"
   ]
  },
  {
   "cell_type": "code",
   "execution_count": null,
   "metadata": {
    "ExecuteTime": {
     "end_time": "2021-03-26T14:32:12.389892Z",
     "start_time": "2021-03-26T14:32:12.386111Z"
    }
   },
   "outputs": [],
   "source": [
    "def run_strategy(SMA):\n",
    "    df = data.copy()\n",
    "    df['returns'] = np.log(df['price'] / df['price'].shift(1))\n",
    "    df['sma_s'] = df['price'].rolling(window = int(SMA[0])).mean()\n",
    "    df['sma_l'] = df['price'].rolling(window = int(SMA[1])).mean()\n",
    "    df.dropna(inplace = True)\n",
    "    \n",
    "    df['position'] = np.where(df['sma_s'] > df['sma_l'], 1, -1)\n",
    "    df['strategy'] = df['position'].shift(1) * df['returns']\n",
    "    df.dropna(inplace = True)\n",
    "    \n",
    "    return df[['returns', 'strategy']].sum().apply(np.exp)"
   ]
  },
  {
   "cell_type": "code",
   "execution_count": null,
   "metadata": {
    "ExecuteTime": {
     "end_time": "2021-03-26T14:32:12.404926Z",
     "start_time": "2021-03-26T14:32:12.391458Z"
    }
   },
   "outputs": [],
   "source": [
    "run_strategy((50, 200))"
   ]
  },
  {
   "cell_type": "code",
   "execution_count": null,
   "metadata": {
    "ExecuteTime": {
     "end_time": "2021-03-26T14:32:12.419489Z",
     "start_time": "2021-03-26T14:32:12.406280Z"
    }
   },
   "outputs": [],
   "source": [
    "run_strategy((10, 50))"
   ]
  },
  {
   "cell_type": "code",
   "execution_count": null,
   "metadata": {
    "ExecuteTime": {
     "end_time": "2021-03-26T14:32:12.433578Z",
     "start_time": "2021-03-26T14:32:12.420841Z"
    }
   },
   "outputs": [],
   "source": [
    "run_strategy((22, 252))"
   ]
  },
  {
   "cell_type": "markdown",
   "metadata": {},
   "source": [
    "## Finds the Optimal Windows for the SMA Strategy"
   ]
  },
  {
   "cell_type": "code",
   "execution_count": null,
   "metadata": {
    "ExecuteTime": {
     "end_time": "2021-03-26T14:32:12.436945Z",
     "start_time": "2021-03-26T14:32:12.435206Z"
    }
   },
   "outputs": [],
   "source": [
    "from itertools import product"
   ]
  },
  {
   "cell_type": "code",
   "execution_count": null,
   "metadata": {
    "ExecuteTime": {
     "end_time": "2021-03-26T14:32:12.440269Z",
     "start_time": "2021-03-26T14:32:12.438276Z"
    }
   },
   "outputs": [],
   "source": [
    "sma_1 = range(10, 50, 1)\n",
    "sma_2 = range(100, 252, 1)"
   ]
  },
  {
   "cell_type": "code",
   "execution_count": null,
   "metadata": {
    "ExecuteTime": {
     "end_time": "2021-03-26T14:33:02.571687Z",
     "start_time": "2021-03-26T14:32:12.441701Z"
    }
   },
   "outputs": [],
   "source": [
    "results = pd.DataFrame()\n",
    "\n",
    "for SMA_1, SMA_2 in product(sma_1, sma_2):\n",
    "    df = data.copy()\n",
    "    data.dropna(inplace = True)\n",
    "    df['returns'] = np.log(df['price'] / df['price'].shift(1))\n",
    "    df['sma_s'] = df['price'].rolling(window = int(SMA_1)).mean()\n",
    "    df['sma_l'] = df['price'].rolling(window = int(SMA_2)).mean()\n",
    "    df.dropna(inplace = True)\n",
    "    \n",
    "    df['position'] = np.where(df['sma_s'] > df['sma_l'], 1, -1)\n",
    "    df['strategy'] = df['position'].shift(1) * df['returns']\n",
    "    df.dropna(inplace = True)\n",
    "    \n",
    "    perf = df[['returns', 'strategy']].sum().apply(np.exp)\n",
    "    \n",
    "    results = results.append(pd.DataFrame({\n",
    "        'SMA_1': SMA_1, 'SMA_2': SMA_2, \n",
    "        'MARKET' : perf['returns'], \n",
    "        'STRATEGY' : perf['strategy'], \n",
    "        'OUT' : perf['strategy'] - perf['returns']\n",
    "    }, index = [0]), ignore_index = True)"
   ]
  },
  {
   "cell_type": "code",
   "execution_count": null,
   "metadata": {
    "ExecuteTime": {
     "end_time": "2021-03-26T14:33:02.584353Z",
     "start_time": "2021-03-26T14:33:02.572787Z"
    }
   },
   "outputs": [],
   "source": [
    "results"
   ]
  },
  {
   "cell_type": "code",
   "execution_count": null,
   "metadata": {
    "ExecuteTime": {
     "end_time": "2021-03-26T14:33:02.594820Z",
     "start_time": "2021-03-26T14:33:02.586315Z"
    }
   },
   "outputs": [],
   "source": [
    "results.info()"
   ]
  },
  {
   "cell_type": "code",
   "execution_count": null,
   "metadata": {
    "ExecuteTime": {
     "end_time": "2021-03-26T14:33:02.609101Z",
     "start_time": "2021-03-26T14:33:02.597196Z"
    }
   },
   "outputs": [],
   "source": [
    "results.sort_values('OUT', ascending = False).head(10)"
   ]
  },
  {
   "cell_type": "markdown",
   "metadata": {},
   "source": [
    "## Optimal Strategy using Scipy!"
   ]
  },
  {
   "cell_type": "code",
   "execution_count": null,
   "metadata": {
    "ExecuteTime": {
     "end_time": "2021-03-26T14:33:02.614339Z",
     "start_time": "2021-03-26T14:33:02.610362Z"
    }
   },
   "outputs": [],
   "source": [
    "def run_strategy(SMA):\n",
    "    df = data.copy()\n",
    "    df['returns'] = np.log(df['price'] / df['price'].shift(1))\n",
    "    df['sma_s'] = df['price'].rolling(window = int(SMA[0])).mean()\n",
    "    df['sma_l'] = df['price'].rolling(window = int(SMA[1])).mean()\n",
    "    df.dropna(inplace = True)\n",
    "    \n",
    "    df['position'] = np.where(df['sma_s'] > df['sma_l'], 1, -1)\n",
    "    df['strategy'] = df['position'].shift(1) * df['returns']\n",
    "    df.dropna(inplace = True)\n",
    "    \n",
    "    return -df[['returns', 'strategy']].sum().apply(np.exp)[-1]\n",
    "# maximizes absolute performance"
   ]
  },
  {
   "cell_type": "code",
   "execution_count": null,
   "metadata": {
    "ExecuteTime": {
     "end_time": "2021-03-26T14:33:02.947200Z",
     "start_time": "2021-03-26T14:33:02.616205Z"
    }
   },
   "outputs": [],
   "source": [
    "from scipy.optimize import brute"
   ]
  },
  {
   "cell_type": "code",
   "execution_count": null,
   "metadata": {
    "ExecuteTime": {
     "end_time": "2021-03-26T14:33:46.779425Z",
     "start_time": "2021-03-26T14:33:02.948625Z"
    }
   },
   "outputs": [],
   "source": [
    "brute(run_strategy, ((10, 50, 1), (100, 252, 1)))"
   ]
  },
  {
   "cell_type": "code",
   "execution_count": null,
   "metadata": {
    "ExecuteTime": {
     "end_time": "2021-03-26T14:33:46.799387Z",
     "start_time": "2021-03-26T14:33:46.781556Z"
    }
   },
   "outputs": [],
   "source": [
    "-run_strategy((46, 137))"
   ]
  },
  {
   "cell_type": "markdown",
   "metadata": {
    "ExecuteTime": {
     "end_time": "2021-03-26T13:02:42.951318Z",
     "start_time": "2021-03-26T13:02:42.949383Z"
    }
   },
   "source": [
    "### Run strategy using our original function"
   ]
  },
  {
   "cell_type": "code",
   "execution_count": null,
   "metadata": {
    "ExecuteTime": {
     "end_time": "2021-03-26T14:33:46.805020Z",
     "start_time": "2021-03-26T14:33:46.800839Z"
    }
   },
   "outputs": [],
   "source": [
    "def run_strategy(SMA):\n",
    "    df = data.copy()\n",
    "    df['returns'] = np.log(df['price'] / df['price'].shift(1))\n",
    "    df['sma_s'] = df['price'].rolling(window = int(SMA[0])).mean()\n",
    "    df['sma_l'] = df['price'].rolling(window = int(SMA[1])).mean()\n",
    "    df.dropna(inplace = True)\n",
    "    \n",
    "    df['position'] = np.where(df['sma_s'] > df['sma_l'], 1, -1)\n",
    "    df['strategy'] = df['position'].shift(1) * df['returns']\n",
    "    df.dropna(inplace = True)\n",
    "    \n",
    "    return df[['returns', 'strategy']].sum().apply(np.exp)"
   ]
  },
  {
   "cell_type": "code",
   "execution_count": null,
   "metadata": {
    "ExecuteTime": {
     "end_time": "2021-03-26T14:33:46.820433Z",
     "start_time": "2021-03-26T14:33:46.807132Z"
    }
   },
   "outputs": [],
   "source": [
    "run_strategy((46, 137))"
   ]
  },
  {
   "cell_type": "code",
   "execution_count": null,
   "metadata": {},
   "outputs": [],
   "source": []
  }
 ],
 "metadata": {
  "kernelspec": {
   "display_name": "altr",
   "language": "python",
   "name": "altr"
  },
  "language_info": {
   "codemirror_mode": {
    "name": "ipython",
    "version": 3
   },
   "file_extension": ".py",
   "mimetype": "text/x-python",
   "name": "python",
   "nbconvert_exporter": "python",
   "pygments_lexer": "ipython3",
   "version": "3.8.5"
  }
 },
 "nbformat": 4,
 "nbformat_minor": 4
}
