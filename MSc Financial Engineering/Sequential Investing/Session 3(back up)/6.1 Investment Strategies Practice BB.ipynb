{
 "cells": [
  {
   "cell_type": "markdown",
   "metadata": {},
   "source": [
    "# Investment Trading Strategies in Practice - ML Intro"
   ]
  },
  {
   "cell_type": "markdown",
   "metadata": {},
   "source": [
    "## Data"
   ]
  },
  {
   "cell_type": "code",
   "execution_count": 1,
   "metadata": {
    "ExecuteTime": {
     "end_time": "2021-03-29T07:01:46.672024Z",
     "start_time": "2021-03-29T07:01:42.258747Z"
    }
   },
   "outputs": [],
   "source": [
    "import pandas as pd\n",
    "import numpy as np\n",
    "import datetime as dt\n",
    "from pylab import mpl, plt"
   ]
  },
  {
   "cell_type": "code",
   "execution_count": 2,
   "metadata": {
    "ExecuteTime": {
     "end_time": "2021-03-29T07:01:46.677449Z",
     "start_time": "2021-03-29T07:01:46.673830Z"
    }
   },
   "outputs": [],
   "source": [
    "plt.style.use('seaborn')\n",
    "mpl.rcParams['font.family'] = 'serif'\n",
    "%matplotlib inline"
   ]
  },
  {
   "cell_type": "code",
   "execution_count": 3,
   "metadata": {
    "ExecuteTime": {
     "end_time": "2021-03-29T07:01:46.693612Z",
     "start_time": "2021-03-29T07:01:46.680679Z"
    }
   },
   "outputs": [
    {
     "ename": "FileNotFoundError",
     "evalue": "[Errno 2] No such file or directory: 'fin_dat.csv'",
     "output_type": "error",
     "traceback": [
      "\u001b[1;31m---------------------------------------------------------------------------\u001b[0m",
      "\u001b[1;31mFileNotFoundError\u001b[0m                         Traceback (most recent call last)",
      "\u001b[1;32m~\\AppData\\Local\\Temp/ipykernel_1600/1313711821.py\u001b[0m in \u001b[0;36m<module>\u001b[1;34m\u001b[0m\n\u001b[1;32m----> 1\u001b[1;33m \u001b[0mraw\u001b[0m \u001b[1;33m=\u001b[0m \u001b[0mpd\u001b[0m\u001b[1;33m.\u001b[0m\u001b[0mread_csv\u001b[0m\u001b[1;33m(\u001b[0m\u001b[1;34m'fin_dat.csv'\u001b[0m\u001b[1;33m,\u001b[0m \u001b[0mindex_col\u001b[0m \u001b[1;33m=\u001b[0m \u001b[1;36m0\u001b[0m\u001b[1;33m,\u001b[0m \u001b[0mparse_dates\u001b[0m \u001b[1;33m=\u001b[0m \u001b[1;32mTrue\u001b[0m\u001b[1;33m)\u001b[0m\u001b[1;33m\u001b[0m\u001b[1;33m\u001b[0m\u001b[0m\n\u001b[0m",
      "\u001b[1;32m~\\anaconda3\\envs\\pypr\\lib\\site-packages\\pandas\\util\\_decorators.py\u001b[0m in \u001b[0;36mwrapper\u001b[1;34m(*args, **kwargs)\u001b[0m\n\u001b[0;32m    309\u001b[0m                     \u001b[0mstacklevel\u001b[0m\u001b[1;33m=\u001b[0m\u001b[0mstacklevel\u001b[0m\u001b[1;33m,\u001b[0m\u001b[1;33m\u001b[0m\u001b[1;33m\u001b[0m\u001b[0m\n\u001b[0;32m    310\u001b[0m                 )\n\u001b[1;32m--> 311\u001b[1;33m             \u001b[1;32mreturn\u001b[0m \u001b[0mfunc\u001b[0m\u001b[1;33m(\u001b[0m\u001b[1;33m*\u001b[0m\u001b[0margs\u001b[0m\u001b[1;33m,\u001b[0m \u001b[1;33m**\u001b[0m\u001b[0mkwargs\u001b[0m\u001b[1;33m)\u001b[0m\u001b[1;33m\u001b[0m\u001b[1;33m\u001b[0m\u001b[0m\n\u001b[0m\u001b[0;32m    312\u001b[0m \u001b[1;33m\u001b[0m\u001b[0m\n\u001b[0;32m    313\u001b[0m         \u001b[1;32mreturn\u001b[0m \u001b[0mwrapper\u001b[0m\u001b[1;33m\u001b[0m\u001b[1;33m\u001b[0m\u001b[0m\n",
      "\u001b[1;32m~\\anaconda3\\envs\\pypr\\lib\\site-packages\\pandas\\io\\parsers\\readers.py\u001b[0m in \u001b[0;36mread_csv\u001b[1;34m(filepath_or_buffer, sep, delimiter, header, names, index_col, usecols, squeeze, prefix, mangle_dupe_cols, dtype, engine, converters, true_values, false_values, skipinitialspace, skiprows, skipfooter, nrows, na_values, keep_default_na, na_filter, verbose, skip_blank_lines, parse_dates, infer_datetime_format, keep_date_col, date_parser, dayfirst, cache_dates, iterator, chunksize, compression, thousands, decimal, lineterminator, quotechar, quoting, doublequote, escapechar, comment, encoding, encoding_errors, dialect, error_bad_lines, warn_bad_lines, on_bad_lines, delim_whitespace, low_memory, memory_map, float_precision, storage_options)\u001b[0m\n\u001b[0;32m    584\u001b[0m     \u001b[0mkwds\u001b[0m\u001b[1;33m.\u001b[0m\u001b[0mupdate\u001b[0m\u001b[1;33m(\u001b[0m\u001b[0mkwds_defaults\u001b[0m\u001b[1;33m)\u001b[0m\u001b[1;33m\u001b[0m\u001b[1;33m\u001b[0m\u001b[0m\n\u001b[0;32m    585\u001b[0m \u001b[1;33m\u001b[0m\u001b[0m\n\u001b[1;32m--> 586\u001b[1;33m     \u001b[1;32mreturn\u001b[0m \u001b[0m_read\u001b[0m\u001b[1;33m(\u001b[0m\u001b[0mfilepath_or_buffer\u001b[0m\u001b[1;33m,\u001b[0m \u001b[0mkwds\u001b[0m\u001b[1;33m)\u001b[0m\u001b[1;33m\u001b[0m\u001b[1;33m\u001b[0m\u001b[0m\n\u001b[0m\u001b[0;32m    587\u001b[0m \u001b[1;33m\u001b[0m\u001b[0m\n\u001b[0;32m    588\u001b[0m \u001b[1;33m\u001b[0m\u001b[0m\n",
      "\u001b[1;32m~\\anaconda3\\envs\\pypr\\lib\\site-packages\\pandas\\io\\parsers\\readers.py\u001b[0m in \u001b[0;36m_read\u001b[1;34m(filepath_or_buffer, kwds)\u001b[0m\n\u001b[0;32m    480\u001b[0m \u001b[1;33m\u001b[0m\u001b[0m\n\u001b[0;32m    481\u001b[0m     \u001b[1;31m# Create the parser.\u001b[0m\u001b[1;33m\u001b[0m\u001b[1;33m\u001b[0m\u001b[1;33m\u001b[0m\u001b[0m\n\u001b[1;32m--> 482\u001b[1;33m     \u001b[0mparser\u001b[0m \u001b[1;33m=\u001b[0m \u001b[0mTextFileReader\u001b[0m\u001b[1;33m(\u001b[0m\u001b[0mfilepath_or_buffer\u001b[0m\u001b[1;33m,\u001b[0m \u001b[1;33m**\u001b[0m\u001b[0mkwds\u001b[0m\u001b[1;33m)\u001b[0m\u001b[1;33m\u001b[0m\u001b[1;33m\u001b[0m\u001b[0m\n\u001b[0m\u001b[0;32m    483\u001b[0m \u001b[1;33m\u001b[0m\u001b[0m\n\u001b[0;32m    484\u001b[0m     \u001b[1;32mif\u001b[0m \u001b[0mchunksize\u001b[0m \u001b[1;32mor\u001b[0m \u001b[0miterator\u001b[0m\u001b[1;33m:\u001b[0m\u001b[1;33m\u001b[0m\u001b[1;33m\u001b[0m\u001b[0m\n",
      "\u001b[1;32m~\\anaconda3\\envs\\pypr\\lib\\site-packages\\pandas\\io\\parsers\\readers.py\u001b[0m in \u001b[0;36m__init__\u001b[1;34m(self, f, engine, **kwds)\u001b[0m\n\u001b[0;32m    809\u001b[0m             \u001b[0mself\u001b[0m\u001b[1;33m.\u001b[0m\u001b[0moptions\u001b[0m\u001b[1;33m[\u001b[0m\u001b[1;34m\"has_index_names\"\u001b[0m\u001b[1;33m]\u001b[0m \u001b[1;33m=\u001b[0m \u001b[0mkwds\u001b[0m\u001b[1;33m[\u001b[0m\u001b[1;34m\"has_index_names\"\u001b[0m\u001b[1;33m]\u001b[0m\u001b[1;33m\u001b[0m\u001b[1;33m\u001b[0m\u001b[0m\n\u001b[0;32m    810\u001b[0m \u001b[1;33m\u001b[0m\u001b[0m\n\u001b[1;32m--> 811\u001b[1;33m         \u001b[0mself\u001b[0m\u001b[1;33m.\u001b[0m\u001b[0m_engine\u001b[0m \u001b[1;33m=\u001b[0m \u001b[0mself\u001b[0m\u001b[1;33m.\u001b[0m\u001b[0m_make_engine\u001b[0m\u001b[1;33m(\u001b[0m\u001b[0mself\u001b[0m\u001b[1;33m.\u001b[0m\u001b[0mengine\u001b[0m\u001b[1;33m)\u001b[0m\u001b[1;33m\u001b[0m\u001b[1;33m\u001b[0m\u001b[0m\n\u001b[0m\u001b[0;32m    812\u001b[0m \u001b[1;33m\u001b[0m\u001b[0m\n\u001b[0;32m    813\u001b[0m     \u001b[1;32mdef\u001b[0m \u001b[0mclose\u001b[0m\u001b[1;33m(\u001b[0m\u001b[0mself\u001b[0m\u001b[1;33m)\u001b[0m\u001b[1;33m:\u001b[0m\u001b[1;33m\u001b[0m\u001b[1;33m\u001b[0m\u001b[0m\n",
      "\u001b[1;32m~\\anaconda3\\envs\\pypr\\lib\\site-packages\\pandas\\io\\parsers\\readers.py\u001b[0m in \u001b[0;36m_make_engine\u001b[1;34m(self, engine)\u001b[0m\n\u001b[0;32m   1038\u001b[0m             )\n\u001b[0;32m   1039\u001b[0m         \u001b[1;31m# error: Too many arguments for \"ParserBase\"\u001b[0m\u001b[1;33m\u001b[0m\u001b[1;33m\u001b[0m\u001b[1;33m\u001b[0m\u001b[0m\n\u001b[1;32m-> 1040\u001b[1;33m         \u001b[1;32mreturn\u001b[0m \u001b[0mmapping\u001b[0m\u001b[1;33m[\u001b[0m\u001b[0mengine\u001b[0m\u001b[1;33m]\u001b[0m\u001b[1;33m(\u001b[0m\u001b[0mself\u001b[0m\u001b[1;33m.\u001b[0m\u001b[0mf\u001b[0m\u001b[1;33m,\u001b[0m \u001b[1;33m**\u001b[0m\u001b[0mself\u001b[0m\u001b[1;33m.\u001b[0m\u001b[0moptions\u001b[0m\u001b[1;33m)\u001b[0m  \u001b[1;31m# type: ignore[call-arg]\u001b[0m\u001b[1;33m\u001b[0m\u001b[1;33m\u001b[0m\u001b[0m\n\u001b[0m\u001b[0;32m   1041\u001b[0m \u001b[1;33m\u001b[0m\u001b[0m\n\u001b[0;32m   1042\u001b[0m     \u001b[1;32mdef\u001b[0m \u001b[0m_failover_to_python\u001b[0m\u001b[1;33m(\u001b[0m\u001b[0mself\u001b[0m\u001b[1;33m)\u001b[0m\u001b[1;33m:\u001b[0m\u001b[1;33m\u001b[0m\u001b[1;33m\u001b[0m\u001b[0m\n",
      "\u001b[1;32m~\\anaconda3\\envs\\pypr\\lib\\site-packages\\pandas\\io\\parsers\\c_parser_wrapper.py\u001b[0m in \u001b[0;36m__init__\u001b[1;34m(self, src, **kwds)\u001b[0m\n\u001b[0;32m     49\u001b[0m \u001b[1;33m\u001b[0m\u001b[0m\n\u001b[0;32m     50\u001b[0m         \u001b[1;31m# open handles\u001b[0m\u001b[1;33m\u001b[0m\u001b[1;33m\u001b[0m\u001b[1;33m\u001b[0m\u001b[0m\n\u001b[1;32m---> 51\u001b[1;33m         \u001b[0mself\u001b[0m\u001b[1;33m.\u001b[0m\u001b[0m_open_handles\u001b[0m\u001b[1;33m(\u001b[0m\u001b[0msrc\u001b[0m\u001b[1;33m,\u001b[0m \u001b[0mkwds\u001b[0m\u001b[1;33m)\u001b[0m\u001b[1;33m\u001b[0m\u001b[1;33m\u001b[0m\u001b[0m\n\u001b[0m\u001b[0;32m     52\u001b[0m         \u001b[1;32massert\u001b[0m \u001b[0mself\u001b[0m\u001b[1;33m.\u001b[0m\u001b[0mhandles\u001b[0m \u001b[1;32mis\u001b[0m \u001b[1;32mnot\u001b[0m \u001b[1;32mNone\u001b[0m\u001b[1;33m\u001b[0m\u001b[1;33m\u001b[0m\u001b[0m\n\u001b[0;32m     53\u001b[0m \u001b[1;33m\u001b[0m\u001b[0m\n",
      "\u001b[1;32m~\\anaconda3\\envs\\pypr\\lib\\site-packages\\pandas\\io\\parsers\\base_parser.py\u001b[0m in \u001b[0;36m_open_handles\u001b[1;34m(self, src, kwds)\u001b[0m\n\u001b[0;32m    220\u001b[0m         \u001b[0mLet\u001b[0m \u001b[0mthe\u001b[0m \u001b[0mreaders\u001b[0m \u001b[0mopen\u001b[0m \u001b[0mIOHandles\u001b[0m \u001b[0mafter\u001b[0m \u001b[0mthey\u001b[0m \u001b[0mare\u001b[0m \u001b[0mdone\u001b[0m \u001b[1;32mwith\u001b[0m \u001b[0mtheir\u001b[0m \u001b[0mpotential\u001b[0m \u001b[0mraises\u001b[0m\u001b[1;33m.\u001b[0m\u001b[1;33m\u001b[0m\u001b[1;33m\u001b[0m\u001b[0m\n\u001b[0;32m    221\u001b[0m         \"\"\"\n\u001b[1;32m--> 222\u001b[1;33m         self.handles = get_handle(\n\u001b[0m\u001b[0;32m    223\u001b[0m             \u001b[0msrc\u001b[0m\u001b[1;33m,\u001b[0m\u001b[1;33m\u001b[0m\u001b[1;33m\u001b[0m\u001b[0m\n\u001b[0;32m    224\u001b[0m             \u001b[1;34m\"r\"\u001b[0m\u001b[1;33m,\u001b[0m\u001b[1;33m\u001b[0m\u001b[1;33m\u001b[0m\u001b[0m\n",
      "\u001b[1;32m~\\anaconda3\\envs\\pypr\\lib\\site-packages\\pandas\\io\\common.py\u001b[0m in \u001b[0;36mget_handle\u001b[1;34m(path_or_buf, mode, encoding, compression, memory_map, is_text, errors, storage_options)\u001b[0m\n\u001b[0;32m    700\u001b[0m         \u001b[1;32mif\u001b[0m \u001b[0mioargs\u001b[0m\u001b[1;33m.\u001b[0m\u001b[0mencoding\u001b[0m \u001b[1;32mand\u001b[0m \u001b[1;34m\"b\"\u001b[0m \u001b[1;32mnot\u001b[0m \u001b[1;32min\u001b[0m \u001b[0mioargs\u001b[0m\u001b[1;33m.\u001b[0m\u001b[0mmode\u001b[0m\u001b[1;33m:\u001b[0m\u001b[1;33m\u001b[0m\u001b[1;33m\u001b[0m\u001b[0m\n\u001b[0;32m    701\u001b[0m             \u001b[1;31m# Encoding\u001b[0m\u001b[1;33m\u001b[0m\u001b[1;33m\u001b[0m\u001b[1;33m\u001b[0m\u001b[0m\n\u001b[1;32m--> 702\u001b[1;33m             handle = open(\n\u001b[0m\u001b[0;32m    703\u001b[0m                 \u001b[0mhandle\u001b[0m\u001b[1;33m,\u001b[0m\u001b[1;33m\u001b[0m\u001b[1;33m\u001b[0m\u001b[0m\n\u001b[0;32m    704\u001b[0m                 \u001b[0mioargs\u001b[0m\u001b[1;33m.\u001b[0m\u001b[0mmode\u001b[0m\u001b[1;33m,\u001b[0m\u001b[1;33m\u001b[0m\u001b[1;33m\u001b[0m\u001b[0m\n",
      "\u001b[1;31mFileNotFoundError\u001b[0m: [Errno 2] No such file or directory: 'fin_dat.csv'"
     ]
    }
   ],
   "source": [
    "raw = pd.read_csv('fin_dat.csv', index_col = 0, parse_dates = True)"
   ]
  },
  {
   "cell_type": "code",
   "execution_count": 4,
   "metadata": {
    "ExecuteTime": {
     "end_time": "2021-03-29T07:01:46.723271Z",
     "start_time": "2021-03-29T07:01:46.695492Z"
    }
   },
   "outputs": [
    {
     "data": {
      "text/html": [
       "<div>\n",
       "<style scoped>\n",
       "    .dataframe tbody tr th:only-of-type {\n",
       "        vertical-align: middle;\n",
       "    }\n",
       "\n",
       "    .dataframe tbody tr th {\n",
       "        vertical-align: top;\n",
       "    }\n",
       "\n",
       "    .dataframe thead th {\n",
       "        text-align: right;\n",
       "    }\n",
       "</style>\n",
       "<table border=\"1\" class=\"dataframe\">\n",
       "  <thead>\n",
       "    <tr style=\"text-align: right;\">\n",
       "      <th></th>\n",
       "      <th>AAPL.O</th>\n",
       "      <th>MSFT.O</th>\n",
       "      <th>INTC.O</th>\n",
       "      <th>AMZN.O</th>\n",
       "      <th>GS.N</th>\n",
       "      <th>SPY</th>\n",
       "      <th>.SPX</th>\n",
       "      <th>.VIX</th>\n",
       "      <th>EUR=</th>\n",
       "      <th>XAU=</th>\n",
       "      <th>GDX</th>\n",
       "      <th>GLD</th>\n",
       "    </tr>\n",
       "    <tr>\n",
       "      <th>Date</th>\n",
       "      <th></th>\n",
       "      <th></th>\n",
       "      <th></th>\n",
       "      <th></th>\n",
       "      <th></th>\n",
       "      <th></th>\n",
       "      <th></th>\n",
       "      <th></th>\n",
       "      <th></th>\n",
       "      <th></th>\n",
       "      <th></th>\n",
       "      <th></th>\n",
       "    </tr>\n",
       "  </thead>\n",
       "  <tbody>\n",
       "    <tr>\n",
       "      <th>2010-01-01</th>\n",
       "      <td>NaN</td>\n",
       "      <td>NaN</td>\n",
       "      <td>NaN</td>\n",
       "      <td>NaN</td>\n",
       "      <td>NaN</td>\n",
       "      <td>NaN</td>\n",
       "      <td>NaN</td>\n",
       "      <td>NaN</td>\n",
       "      <td>1.4323</td>\n",
       "      <td>1096.3500</td>\n",
       "      <td>NaN</td>\n",
       "      <td>NaN</td>\n",
       "    </tr>\n",
       "    <tr>\n",
       "      <th>2010-01-04</th>\n",
       "      <td>30.572827</td>\n",
       "      <td>30.950</td>\n",
       "      <td>20.88</td>\n",
       "      <td>133.90</td>\n",
       "      <td>173.08</td>\n",
       "      <td>113.33</td>\n",
       "      <td>1132.99</td>\n",
       "      <td>20.04</td>\n",
       "      <td>1.4411</td>\n",
       "      <td>1120.0000</td>\n",
       "      <td>47.71</td>\n",
       "      <td>109.80</td>\n",
       "    </tr>\n",
       "    <tr>\n",
       "      <th>2010-01-05</th>\n",
       "      <td>30.625684</td>\n",
       "      <td>30.960</td>\n",
       "      <td>20.87</td>\n",
       "      <td>134.69</td>\n",
       "      <td>176.14</td>\n",
       "      <td>113.63</td>\n",
       "      <td>1136.52</td>\n",
       "      <td>19.35</td>\n",
       "      <td>1.4368</td>\n",
       "      <td>1118.6500</td>\n",
       "      <td>48.17</td>\n",
       "      <td>109.70</td>\n",
       "    </tr>\n",
       "    <tr>\n",
       "      <th>2010-01-06</th>\n",
       "      <td>30.138541</td>\n",
       "      <td>30.770</td>\n",
       "      <td>20.80</td>\n",
       "      <td>132.25</td>\n",
       "      <td>174.26</td>\n",
       "      <td>113.71</td>\n",
       "      <td>1137.14</td>\n",
       "      <td>19.16</td>\n",
       "      <td>1.4412</td>\n",
       "      <td>1138.5000</td>\n",
       "      <td>49.34</td>\n",
       "      <td>111.51</td>\n",
       "    </tr>\n",
       "    <tr>\n",
       "      <th>2010-01-07</th>\n",
       "      <td>30.082827</td>\n",
       "      <td>30.452</td>\n",
       "      <td>20.60</td>\n",
       "      <td>130.00</td>\n",
       "      <td>177.67</td>\n",
       "      <td>114.19</td>\n",
       "      <td>1141.69</td>\n",
       "      <td>19.06</td>\n",
       "      <td>1.4318</td>\n",
       "      <td>1131.9000</td>\n",
       "      <td>49.10</td>\n",
       "      <td>110.82</td>\n",
       "    </tr>\n",
       "    <tr>\n",
       "      <th>...</th>\n",
       "      <td>...</td>\n",
       "      <td>...</td>\n",
       "      <td>...</td>\n",
       "      <td>...</td>\n",
       "      <td>...</td>\n",
       "      <td>...</td>\n",
       "      <td>...</td>\n",
       "      <td>...</td>\n",
       "      <td>...</td>\n",
       "      <td>...</td>\n",
       "      <td>...</td>\n",
       "      <td>...</td>\n",
       "    </tr>\n",
       "    <tr>\n",
       "      <th>2019-12-26</th>\n",
       "      <td>289.910000</td>\n",
       "      <td>158.670</td>\n",
       "      <td>59.82</td>\n",
       "      <td>1868.77</td>\n",
       "      <td>231.21</td>\n",
       "      <td>322.94</td>\n",
       "      <td>3239.91</td>\n",
       "      <td>12.65</td>\n",
       "      <td>1.1096</td>\n",
       "      <td>1511.2979</td>\n",
       "      <td>29.08</td>\n",
       "      <td>142.38</td>\n",
       "    </tr>\n",
       "    <tr>\n",
       "      <th>2019-12-27</th>\n",
       "      <td>289.800000</td>\n",
       "      <td>158.960</td>\n",
       "      <td>60.08</td>\n",
       "      <td>1869.80</td>\n",
       "      <td>230.66</td>\n",
       "      <td>322.86</td>\n",
       "      <td>3240.02</td>\n",
       "      <td>13.43</td>\n",
       "      <td>1.1175</td>\n",
       "      <td>1510.4167</td>\n",
       "      <td>28.87</td>\n",
       "      <td>142.33</td>\n",
       "    </tr>\n",
       "    <tr>\n",
       "      <th>2019-12-30</th>\n",
       "      <td>291.520000</td>\n",
       "      <td>157.590</td>\n",
       "      <td>59.62</td>\n",
       "      <td>1846.89</td>\n",
       "      <td>229.80</td>\n",
       "      <td>321.08</td>\n",
       "      <td>3221.29</td>\n",
       "      <td>14.82</td>\n",
       "      <td>1.1197</td>\n",
       "      <td>1515.1230</td>\n",
       "      <td>29.49</td>\n",
       "      <td>142.63</td>\n",
       "    </tr>\n",
       "    <tr>\n",
       "      <th>2019-12-31</th>\n",
       "      <td>293.650000</td>\n",
       "      <td>157.700</td>\n",
       "      <td>59.85</td>\n",
       "      <td>1847.84</td>\n",
       "      <td>229.93</td>\n",
       "      <td>321.86</td>\n",
       "      <td>3230.78</td>\n",
       "      <td>13.78</td>\n",
       "      <td>1.1210</td>\n",
       "      <td>1517.0100</td>\n",
       "      <td>29.28</td>\n",
       "      <td>142.90</td>\n",
       "    </tr>\n",
       "    <tr>\n",
       "      <th>2020-01-01</th>\n",
       "      <td>NaN</td>\n",
       "      <td>NaN</td>\n",
       "      <td>NaN</td>\n",
       "      <td>NaN</td>\n",
       "      <td>NaN</td>\n",
       "      <td>NaN</td>\n",
       "      <td>NaN</td>\n",
       "      <td>NaN</td>\n",
       "      <td>1.1210</td>\n",
       "      <td>1516.8900</td>\n",
       "      <td>NaN</td>\n",
       "      <td>NaN</td>\n",
       "    </tr>\n",
       "  </tbody>\n",
       "</table>\n",
       "<p>2609 rows × 12 columns</p>\n",
       "</div>"
      ],
      "text/plain": [
       "                AAPL.O   MSFT.O  INTC.O   AMZN.O    GS.N     SPY     .SPX  \\\n",
       "Date                                                                        \n",
       "2010-01-01         NaN      NaN     NaN      NaN     NaN     NaN      NaN   \n",
       "2010-01-04   30.572827   30.950   20.88   133.90  173.08  113.33  1132.99   \n",
       "2010-01-05   30.625684   30.960   20.87   134.69  176.14  113.63  1136.52   \n",
       "2010-01-06   30.138541   30.770   20.80   132.25  174.26  113.71  1137.14   \n",
       "2010-01-07   30.082827   30.452   20.60   130.00  177.67  114.19  1141.69   \n",
       "...                ...      ...     ...      ...     ...     ...      ...   \n",
       "2019-12-26  289.910000  158.670   59.82  1868.77  231.21  322.94  3239.91   \n",
       "2019-12-27  289.800000  158.960   60.08  1869.80  230.66  322.86  3240.02   \n",
       "2019-12-30  291.520000  157.590   59.62  1846.89  229.80  321.08  3221.29   \n",
       "2019-12-31  293.650000  157.700   59.85  1847.84  229.93  321.86  3230.78   \n",
       "2020-01-01         NaN      NaN     NaN      NaN     NaN     NaN      NaN   \n",
       "\n",
       "             .VIX    EUR=       XAU=    GDX     GLD  \n",
       "Date                                                 \n",
       "2010-01-01    NaN  1.4323  1096.3500    NaN     NaN  \n",
       "2010-01-04  20.04  1.4411  1120.0000  47.71  109.80  \n",
       "2010-01-05  19.35  1.4368  1118.6500  48.17  109.70  \n",
       "2010-01-06  19.16  1.4412  1138.5000  49.34  111.51  \n",
       "2010-01-07  19.06  1.4318  1131.9000  49.10  110.82  \n",
       "...           ...     ...        ...    ...     ...  \n",
       "2019-12-26  12.65  1.1096  1511.2979  29.08  142.38  \n",
       "2019-12-27  13.43  1.1175  1510.4167  28.87  142.33  \n",
       "2019-12-30  14.82  1.1197  1515.1230  29.49  142.63  \n",
       "2019-12-31  13.78  1.1210  1517.0100  29.28  142.90  \n",
       "2020-01-01    NaN  1.1210  1516.8900    NaN     NaN  \n",
       "\n",
       "[2609 rows x 12 columns]"
      ]
     },
     "execution_count": 4,
     "metadata": {},
     "output_type": "execute_result"
    }
   ],
   "source": [
    "raw"
   ]
  },
  {
   "cell_type": "code",
   "execution_count": 5,
   "metadata": {
    "ExecuteTime": {
     "end_time": "2021-03-29T07:01:46.732963Z",
     "start_time": "2021-03-29T07:01:46.724821Z"
    }
   },
   "outputs": [
    {
     "name": "stdout",
     "output_type": "stream",
     "text": [
      "<class 'pandas.core.frame.DataFrame'>\n",
      "DatetimeIndex: 2609 entries, 2010-01-01 to 2020-01-01\n",
      "Data columns (total 12 columns):\n",
      " #   Column  Non-Null Count  Dtype  \n",
      "---  ------  --------------  -----  \n",
      " 0   AAPL.O  2516 non-null   float64\n",
      " 1   MSFT.O  2516 non-null   float64\n",
      " 2   INTC.O  2516 non-null   float64\n",
      " 3   AMZN.O  2516 non-null   float64\n",
      " 4   GS.N    2516 non-null   float64\n",
      " 5   SPY     2516 non-null   float64\n",
      " 6   .SPX    2516 non-null   float64\n",
      " 7   .VIX    2516 non-null   float64\n",
      " 8   EUR=    2609 non-null   float64\n",
      " 9   XAU=    2602 non-null   float64\n",
      " 10  GDX     2516 non-null   float64\n",
      " 11  GLD     2516 non-null   float64\n",
      "dtypes: float64(12)\n",
      "memory usage: 265.0 KB\n"
     ]
    }
   ],
   "source": [
    "raw.info()"
   ]
  },
  {
   "cell_type": "code",
   "execution_count": 6,
   "metadata": {
    "ExecuteTime": {
     "end_time": "2021-03-29T07:01:46.736369Z",
     "start_time": "2021-03-29T07:01:46.734548Z"
    }
   },
   "outputs": [],
   "source": [
    "symbol = 'AAPL.O'"
   ]
  },
  {
   "cell_type": "code",
   "execution_count": 7,
   "metadata": {
    "ExecuteTime": {
     "end_time": "2021-03-29T07:01:46.794628Z",
     "start_time": "2021-03-29T07:01:46.738116Z"
    }
   },
   "outputs": [],
   "source": [
    "data = pd.DataFrame(raw[symbol]).dropna()"
   ]
  },
  {
   "cell_type": "code",
   "execution_count": 8,
   "metadata": {
    "ExecuteTime": {
     "end_time": "2021-03-29T07:01:46.805413Z",
     "start_time": "2021-03-29T07:01:46.798154Z"
    }
   },
   "outputs": [
    {
     "data": {
      "text/html": [
       "<div>\n",
       "<style scoped>\n",
       "    .dataframe tbody tr th:only-of-type {\n",
       "        vertical-align: middle;\n",
       "    }\n",
       "\n",
       "    .dataframe tbody tr th {\n",
       "        vertical-align: top;\n",
       "    }\n",
       "\n",
       "    .dataframe thead th {\n",
       "        text-align: right;\n",
       "    }\n",
       "</style>\n",
       "<table border=\"1\" class=\"dataframe\">\n",
       "  <thead>\n",
       "    <tr style=\"text-align: right;\">\n",
       "      <th></th>\n",
       "      <th>AAPL.O</th>\n",
       "    </tr>\n",
       "    <tr>\n",
       "      <th>Date</th>\n",
       "      <th></th>\n",
       "    </tr>\n",
       "  </thead>\n",
       "  <tbody>\n",
       "    <tr>\n",
       "      <th>2010-01-04</th>\n",
       "      <td>30.572827</td>\n",
       "    </tr>\n",
       "    <tr>\n",
       "      <th>2010-01-05</th>\n",
       "      <td>30.625684</td>\n",
       "    </tr>\n",
       "    <tr>\n",
       "      <th>2010-01-06</th>\n",
       "      <td>30.138541</td>\n",
       "    </tr>\n",
       "    <tr>\n",
       "      <th>2010-01-07</th>\n",
       "      <td>30.082827</td>\n",
       "    </tr>\n",
       "    <tr>\n",
       "      <th>2010-01-08</th>\n",
       "      <td>30.282827</td>\n",
       "    </tr>\n",
       "    <tr>\n",
       "      <th>...</th>\n",
       "      <td>...</td>\n",
       "    </tr>\n",
       "    <tr>\n",
       "      <th>2019-12-24</th>\n",
       "      <td>284.270000</td>\n",
       "    </tr>\n",
       "    <tr>\n",
       "      <th>2019-12-26</th>\n",
       "      <td>289.910000</td>\n",
       "    </tr>\n",
       "    <tr>\n",
       "      <th>2019-12-27</th>\n",
       "      <td>289.800000</td>\n",
       "    </tr>\n",
       "    <tr>\n",
       "      <th>2019-12-30</th>\n",
       "      <td>291.520000</td>\n",
       "    </tr>\n",
       "    <tr>\n",
       "      <th>2019-12-31</th>\n",
       "      <td>293.650000</td>\n",
       "    </tr>\n",
       "  </tbody>\n",
       "</table>\n",
       "<p>2516 rows × 1 columns</p>\n",
       "</div>"
      ],
      "text/plain": [
       "                AAPL.O\n",
       "Date                  \n",
       "2010-01-04   30.572827\n",
       "2010-01-05   30.625684\n",
       "2010-01-06   30.138541\n",
       "2010-01-07   30.082827\n",
       "2010-01-08   30.282827\n",
       "...                ...\n",
       "2019-12-24  284.270000\n",
       "2019-12-26  289.910000\n",
       "2019-12-27  289.800000\n",
       "2019-12-30  291.520000\n",
       "2019-12-31  293.650000\n",
       "\n",
       "[2516 rows x 1 columns]"
      ]
     },
     "execution_count": 8,
     "metadata": {},
     "output_type": "execute_result"
    }
   ],
   "source": [
    "data"
   ]
  },
  {
   "cell_type": "markdown",
   "metadata": {},
   "source": [
    "## Trading Strategy"
   ]
  },
  {
   "cell_type": "code",
   "execution_count": 9,
   "metadata": {
    "ExecuteTime": {
     "end_time": "2021-03-29T07:01:46.826902Z",
     "start_time": "2021-03-29T07:01:46.807737Z"
    }
   },
   "outputs": [],
   "source": [
    "sma_1 = 42\n",
    "sma_2 = 252"
   ]
  },
  {
   "cell_type": "code",
   "execution_count": 10,
   "metadata": {
    "ExecuteTime": {
     "end_time": "2021-03-29T07:01:46.837483Z",
     "start_time": "2021-03-29T07:01:46.829018Z"
    }
   },
   "outputs": [],
   "source": [
    "data['sma_1'] = data[symbol].rolling(window = sma_1).mean()\n",
    "data['sma_2'] = data[symbol].rolling(window = sma_2).mean()"
   ]
  },
  {
   "cell_type": "code",
   "execution_count": 11,
   "metadata": {
    "ExecuteTime": {
     "end_time": "2021-03-29T07:01:46.848523Z",
     "start_time": "2021-03-29T07:01:46.838971Z"
    }
   },
   "outputs": [
    {
     "data": {
      "text/html": [
       "<div>\n",
       "<style scoped>\n",
       "    .dataframe tbody tr th:only-of-type {\n",
       "        vertical-align: middle;\n",
       "    }\n",
       "\n",
       "    .dataframe tbody tr th {\n",
       "        vertical-align: top;\n",
       "    }\n",
       "\n",
       "    .dataframe thead th {\n",
       "        text-align: right;\n",
       "    }\n",
       "</style>\n",
       "<table border=\"1\" class=\"dataframe\">\n",
       "  <thead>\n",
       "    <tr style=\"text-align: right;\">\n",
       "      <th></th>\n",
       "      <th>AAPL.O</th>\n",
       "      <th>sma_1</th>\n",
       "      <th>sma_2</th>\n",
       "    </tr>\n",
       "    <tr>\n",
       "      <th>Date</th>\n",
       "      <th></th>\n",
       "      <th></th>\n",
       "      <th></th>\n",
       "    </tr>\n",
       "  </thead>\n",
       "  <tbody>\n",
       "    <tr>\n",
       "      <th>2010-01-04</th>\n",
       "      <td>30.572827</td>\n",
       "      <td>NaN</td>\n",
       "      <td>NaN</td>\n",
       "    </tr>\n",
       "    <tr>\n",
       "      <th>2010-01-05</th>\n",
       "      <td>30.625684</td>\n",
       "      <td>NaN</td>\n",
       "      <td>NaN</td>\n",
       "    </tr>\n",
       "    <tr>\n",
       "      <th>2010-01-06</th>\n",
       "      <td>30.138541</td>\n",
       "      <td>NaN</td>\n",
       "      <td>NaN</td>\n",
       "    </tr>\n",
       "    <tr>\n",
       "      <th>2010-01-07</th>\n",
       "      <td>30.082827</td>\n",
       "      <td>NaN</td>\n",
       "      <td>NaN</td>\n",
       "    </tr>\n",
       "    <tr>\n",
       "      <th>2010-01-08</th>\n",
       "      <td>30.282827</td>\n",
       "      <td>NaN</td>\n",
       "      <td>NaN</td>\n",
       "    </tr>\n",
       "    <tr>\n",
       "      <th>...</th>\n",
       "      <td>...</td>\n",
       "      <td>...</td>\n",
       "      <td>...</td>\n",
       "    </tr>\n",
       "    <tr>\n",
       "      <th>2019-12-24</th>\n",
       "      <td>284.270000</td>\n",
       "      <td>264.845476</td>\n",
       "      <td>206.122639</td>\n",
       "    </tr>\n",
       "    <tr>\n",
       "      <th>2019-12-26</th>\n",
       "      <td>289.910000</td>\n",
       "      <td>265.877143</td>\n",
       "      <td>206.649385</td>\n",
       "    </tr>\n",
       "    <tr>\n",
       "      <th>2019-12-27</th>\n",
       "      <td>289.800000</td>\n",
       "      <td>266.847381</td>\n",
       "      <td>207.179742</td>\n",
       "    </tr>\n",
       "    <tr>\n",
       "      <th>2019-12-30</th>\n",
       "      <td>291.520000</td>\n",
       "      <td>267.995714</td>\n",
       "      <td>207.716607</td>\n",
       "    </tr>\n",
       "    <tr>\n",
       "      <th>2019-12-31</th>\n",
       "      <td>293.650000</td>\n",
       "      <td>269.195476</td>\n",
       "      <td>208.255933</td>\n",
       "    </tr>\n",
       "  </tbody>\n",
       "</table>\n",
       "<p>2516 rows × 3 columns</p>\n",
       "</div>"
      ],
      "text/plain": [
       "                AAPL.O       sma_1       sma_2\n",
       "Date                                          \n",
       "2010-01-04   30.572827         NaN         NaN\n",
       "2010-01-05   30.625684         NaN         NaN\n",
       "2010-01-06   30.138541         NaN         NaN\n",
       "2010-01-07   30.082827         NaN         NaN\n",
       "2010-01-08   30.282827         NaN         NaN\n",
       "...                ...         ...         ...\n",
       "2019-12-24  284.270000  264.845476  206.122639\n",
       "2019-12-26  289.910000  265.877143  206.649385\n",
       "2019-12-27  289.800000  266.847381  207.179742\n",
       "2019-12-30  291.520000  267.995714  207.716607\n",
       "2019-12-31  293.650000  269.195476  208.255933\n",
       "\n",
       "[2516 rows x 3 columns]"
      ]
     },
     "execution_count": 11,
     "metadata": {},
     "output_type": "execute_result"
    }
   ],
   "source": [
    "data"
   ]
  },
  {
   "cell_type": "code",
   "execution_count": 12,
   "metadata": {
    "ExecuteTime": {
     "end_time": "2021-03-29T07:01:47.189785Z",
     "start_time": "2021-03-29T07:01:46.849841Z"
    }
   },
   "outputs": [
    {
     "data": {
      "image/png": "[encoded data removed]",
      "text/plain": [
       "<Figure size 720x432 with 1 Axes>"
      ]
     },
     "metadata": {
      "needs_background": "light"
     },
     "output_type": "display_data"
    }
   ],
   "source": [
    "data.plot(figsize = (10, 6))\n",
    "plt.show()"
   ]
  },
  {
   "cell_type": "code",
   "execution_count": 13,
   "metadata": {
    "ExecuteTime": {
     "end_time": "2021-03-29T07:01:47.194847Z",
     "start_time": "2021-03-29T07:01:47.191100Z"
    }
   },
   "outputs": [],
   "source": [
    "data.dropna(inplace = True)"
   ]
  },
  {
   "cell_type": "markdown",
   "metadata": {},
   "source": [
    "The code below show the derivation of the positions, where the trading rules are: \n",
    "\n",
    "- Go LONG (= +1) when the 42 day (shorter) sma_1 is above the 252 (longer) sma_2.\n",
    "\n",
    "- Go SHORT (= -1) when the the 42 day (shorter) sma_1 is below the 252 (longer) sma_2.\n",
    "\n",
    "Notice that for a LONG ONLY strategy, we would use +1 for a long position and 0 for a flat (neutral) position."
   ]
  },
  {
   "cell_type": "code",
   "execution_count": 14,
   "metadata": {
    "ExecuteTime": {
     "end_time": "2021-03-29T07:01:47.200292Z",
     "start_time": "2021-03-29T07:01:47.196300Z"
    }
   },
   "outputs": [],
   "source": [
    "data['position'] = np.where(data['sma_1'] > data['sma_2'], 1, -1)"
   ]
  },
  {
   "cell_type": "code",
   "execution_count": 15,
   "metadata": {
    "ExecuteTime": {
     "end_time": "2021-03-29T07:01:47.210630Z",
     "start_time": "2021-03-29T07:01:47.201788Z"
    }
   },
   "outputs": [
    {
     "data": {
      "text/html": [
       "<div>\n",
       "<style scoped>\n",
       "    .dataframe tbody tr th:only-of-type {\n",
       "        vertical-align: middle;\n",
       "    }\n",
       "\n",
       "    .dataframe tbody tr th {\n",
       "        vertical-align: top;\n",
       "    }\n",
       "\n",
       "    .dataframe thead th {\n",
       "        text-align: right;\n",
       "    }\n",
       "</style>\n",
       "<table border=\"1\" class=\"dataframe\">\n",
       "  <thead>\n",
       "    <tr style=\"text-align: right;\">\n",
       "      <th></th>\n",
       "      <th>AAPL.O</th>\n",
       "      <th>sma_1</th>\n",
       "      <th>sma_2</th>\n",
       "      <th>position</th>\n",
       "    </tr>\n",
       "    <tr>\n",
       "      <th>Date</th>\n",
       "      <th></th>\n",
       "      <th></th>\n",
       "      <th></th>\n",
       "      <th></th>\n",
       "    </tr>\n",
       "  </thead>\n",
       "  <tbody>\n",
       "    <tr>\n",
       "      <th>2019-11-25</th>\n",
       "      <td>266.37</td>\n",
       "      <td>245.366905</td>\n",
       "      <td>197.948671</td>\n",
       "      <td>1</td>\n",
       "    </tr>\n",
       "    <tr>\n",
       "      <th>2019-11-26</th>\n",
       "      <td>264.29</td>\n",
       "      <td>246.449524</td>\n",
       "      <td>198.304504</td>\n",
       "      <td>1</td>\n",
       "    </tr>\n",
       "    <tr>\n",
       "      <th>2019-11-27</th>\n",
       "      <td>267.84</td>\n",
       "      <td>247.494048</td>\n",
       "      <td>198.675933</td>\n",
       "      <td>1</td>\n",
       "    </tr>\n",
       "    <tr>\n",
       "      <th>2019-11-29</th>\n",
       "      <td>267.25</td>\n",
       "      <td>248.509762</td>\n",
       "      <td>199.018433</td>\n",
       "      <td>1</td>\n",
       "    </tr>\n",
       "    <tr>\n",
       "      <th>2019-12-02</th>\n",
       "      <td>264.16</td>\n",
       "      <td>249.585952</td>\n",
       "      <td>199.354187</td>\n",
       "      <td>1</td>\n",
       "    </tr>\n",
       "    <tr>\n",
       "      <th>2019-12-03</th>\n",
       "      <td>259.45</td>\n",
       "      <td>250.505714</td>\n",
       "      <td>199.675099</td>\n",
       "      <td>1</td>\n",
       "    </tr>\n",
       "    <tr>\n",
       "      <th>2019-12-04</th>\n",
       "      <td>261.74</td>\n",
       "      <td>251.332619</td>\n",
       "      <td>199.980337</td>\n",
       "      <td>1</td>\n",
       "    </tr>\n",
       "    <tr>\n",
       "      <th>2019-12-05</th>\n",
       "      <td>265.58</td>\n",
       "      <td>252.249762</td>\n",
       "      <td>200.333075</td>\n",
       "      <td>1</td>\n",
       "    </tr>\n",
       "    <tr>\n",
       "      <th>2019-12-06</th>\n",
       "      <td>270.71</td>\n",
       "      <td>253.352381</td>\n",
       "      <td>200.713988</td>\n",
       "      <td>1</td>\n",
       "    </tr>\n",
       "    <tr>\n",
       "      <th>2019-12-09</th>\n",
       "      <td>266.92</td>\n",
       "      <td>254.302143</td>\n",
       "      <td>201.104583</td>\n",
       "      <td>1</td>\n",
       "    </tr>\n",
       "    <tr>\n",
       "      <th>2019-12-10</th>\n",
       "      <td>268.48</td>\n",
       "      <td>255.216190</td>\n",
       "      <td>201.496964</td>\n",
       "      <td>1</td>\n",
       "    </tr>\n",
       "    <tr>\n",
       "      <th>2019-12-11</th>\n",
       "      <td>270.77</td>\n",
       "      <td>256.039048</td>\n",
       "      <td>201.902282</td>\n",
       "      <td>1</td>\n",
       "    </tr>\n",
       "    <tr>\n",
       "      <th>2019-12-12</th>\n",
       "      <td>271.46</td>\n",
       "      <td>256.886429</td>\n",
       "      <td>202.308472</td>\n",
       "      <td>1</td>\n",
       "    </tr>\n",
       "    <tr>\n",
       "      <th>2019-12-13</th>\n",
       "      <td>275.15</td>\n",
       "      <td>257.834762</td>\n",
       "      <td>202.721964</td>\n",
       "      <td>1</td>\n",
       "    </tr>\n",
       "    <tr>\n",
       "      <th>2019-12-16</th>\n",
       "      <td>279.86</td>\n",
       "      <td>258.917857</td>\n",
       "      <td>203.175853</td>\n",
       "      <td>1</td>\n",
       "    </tr>\n",
       "    <tr>\n",
       "      <th>2019-12-17</th>\n",
       "      <td>280.41</td>\n",
       "      <td>259.992381</td>\n",
       "      <td>203.638036</td>\n",
       "      <td>1</td>\n",
       "    </tr>\n",
       "    <tr>\n",
       "      <th>2019-12-18</th>\n",
       "      <td>279.74</td>\n",
       "      <td>261.024048</td>\n",
       "      <td>204.089107</td>\n",
       "      <td>1</td>\n",
       "    </tr>\n",
       "    <tr>\n",
       "      <th>2019-12-19</th>\n",
       "      <td>280.02</td>\n",
       "      <td>261.964762</td>\n",
       "      <td>204.561845</td>\n",
       "      <td>1</td>\n",
       "    </tr>\n",
       "    <tr>\n",
       "      <th>2019-12-20</th>\n",
       "      <td>279.44</td>\n",
       "      <td>262.904762</td>\n",
       "      <td>205.048393</td>\n",
       "      <td>1</td>\n",
       "    </tr>\n",
       "    <tr>\n",
       "      <th>2019-12-23</th>\n",
       "      <td>284.00</td>\n",
       "      <td>263.876667</td>\n",
       "      <td>205.577242</td>\n",
       "      <td>1</td>\n",
       "    </tr>\n",
       "    <tr>\n",
       "      <th>2019-12-24</th>\n",
       "      <td>284.27</td>\n",
       "      <td>264.845476</td>\n",
       "      <td>206.122639</td>\n",
       "      <td>1</td>\n",
       "    </tr>\n",
       "    <tr>\n",
       "      <th>2019-12-26</th>\n",
       "      <td>289.91</td>\n",
       "      <td>265.877143</td>\n",
       "      <td>206.649385</td>\n",
       "      <td>1</td>\n",
       "    </tr>\n",
       "    <tr>\n",
       "      <th>2019-12-27</th>\n",
       "      <td>289.80</td>\n",
       "      <td>266.847381</td>\n",
       "      <td>207.179742</td>\n",
       "      <td>1</td>\n",
       "    </tr>\n",
       "    <tr>\n",
       "      <th>2019-12-30</th>\n",
       "      <td>291.52</td>\n",
       "      <td>267.995714</td>\n",
       "      <td>207.716607</td>\n",
       "      <td>1</td>\n",
       "    </tr>\n",
       "    <tr>\n",
       "      <th>2019-12-31</th>\n",
       "      <td>293.65</td>\n",
       "      <td>269.195476</td>\n",
       "      <td>208.255933</td>\n",
       "      <td>1</td>\n",
       "    </tr>\n",
       "  </tbody>\n",
       "</table>\n",
       "</div>"
      ],
      "text/plain": [
       "            AAPL.O       sma_1       sma_2  position\n",
       "Date                                                \n",
       "2019-11-25  266.37  245.366905  197.948671         1\n",
       "2019-11-26  264.29  246.449524  198.304504         1\n",
       "2019-11-27  267.84  247.494048  198.675933         1\n",
       "2019-11-29  267.25  248.509762  199.018433         1\n",
       "2019-12-02  264.16  249.585952  199.354187         1\n",
       "2019-12-03  259.45  250.505714  199.675099         1\n",
       "2019-12-04  261.74  251.332619  199.980337         1\n",
       "2019-12-05  265.58  252.249762  200.333075         1\n",
       "2019-12-06  270.71  253.352381  200.713988         1\n",
       "2019-12-09  266.92  254.302143  201.104583         1\n",
       "2019-12-10  268.48  255.216190  201.496964         1\n",
       "2019-12-11  270.77  256.039048  201.902282         1\n",
       "2019-12-12  271.46  256.886429  202.308472         1\n",
       "2019-12-13  275.15  257.834762  202.721964         1\n",
       "2019-12-16  279.86  258.917857  203.175853         1\n",
       "2019-12-17  280.41  259.992381  203.638036         1\n",
       "2019-12-18  279.74  261.024048  204.089107         1\n",
       "2019-12-19  280.02  261.964762  204.561845         1\n",
       "2019-12-20  279.44  262.904762  205.048393         1\n",
       "2019-12-23  284.00  263.876667  205.577242         1\n",
       "2019-12-24  284.27  264.845476  206.122639         1\n",
       "2019-12-26  289.91  265.877143  206.649385         1\n",
       "2019-12-27  289.80  266.847381  207.179742         1\n",
       "2019-12-30  291.52  267.995714  207.716607         1\n",
       "2019-12-31  293.65  269.195476  208.255933         1"
      ]
     },
     "execution_count": 15,
     "metadata": {},
     "output_type": "execute_result"
    }
   ],
   "source": [
    "data.tail(25)"
   ]
  },
  {
   "cell_type": "code",
   "execution_count": 16,
   "metadata": {
    "ExecuteTime": {
     "end_time": "2021-03-29T07:01:48.286363Z",
     "start_time": "2021-03-29T07:01:47.212332Z"
    }
   },
   "outputs": [
    {
     "data": {
      "image/png": "[encoded data removed]",
      "text/plain": [
       "<Figure size 720x432 with 2 Axes>"
      ]
     },
     "metadata": {
      "needs_background": "light"
     },
     "output_type": "display_data"
    }
   ],
   "source": [
    "ax = data.plot(secondary_y = 'position', figsize = (10, 6))\n",
    "ax.get_legend().set_bbox_to_anchor((0.27, 0.85))\n",
    "plt.grid(False)\n",
    "plt.savefig('../WORK/plot_01.png', dpi = 500)\n",
    "plt.show()"
   ]
  },
  {
   "cell_type": "markdown",
   "metadata": {},
   "source": [
    "This strategy leads to four periods only during which the Apple stock should be shorted. What is not shown here is if following the trading rules  -i.e. implementing the algorithmic trading strategy- is superior compared to a given benchmark case of simply going long on the Apple stock over the whole period."
   ]
  },
  {
   "cell_type": "markdown",
   "metadata": {},
   "source": [
    "## Backtesting"
   ]
  },
  {
   "cell_type": "code",
   "execution_count": 17,
   "metadata": {
    "ExecuteTime": {
     "end_time": "2021-03-29T07:01:48.292506Z",
     "start_time": "2021-03-29T07:01:48.288217Z"
    }
   },
   "outputs": [],
   "source": [
    "# Calculates the log returns of the Apple stock (benchmark investment)\n",
    "data['returns'] = np.log(data[symbol] / data[symbol].shift(1))"
   ]
  },
  {
   "cell_type": "code",
   "execution_count": 18,
   "metadata": {
    "ExecuteTime": {
     "end_time": "2021-03-29T07:01:48.308352Z",
     "start_time": "2021-03-29T07:01:48.294593Z"
    }
   },
   "outputs": [
    {
     "data": {
      "text/html": [
       "<div>\n",
       "<style scoped>\n",
       "    .dataframe tbody tr th:only-of-type {\n",
       "        vertical-align: middle;\n",
       "    }\n",
       "\n",
       "    .dataframe tbody tr th {\n",
       "        vertical-align: top;\n",
       "    }\n",
       "\n",
       "    .dataframe thead th {\n",
       "        text-align: right;\n",
       "    }\n",
       "</style>\n",
       "<table border=\"1\" class=\"dataframe\">\n",
       "  <thead>\n",
       "    <tr style=\"text-align: right;\">\n",
       "      <th></th>\n",
       "      <th>AAPL.O</th>\n",
       "      <th>sma_1</th>\n",
       "      <th>sma_2</th>\n",
       "      <th>position</th>\n",
       "      <th>returns</th>\n",
       "    </tr>\n",
       "    <tr>\n",
       "      <th>Date</th>\n",
       "      <th></th>\n",
       "      <th></th>\n",
       "      <th></th>\n",
       "      <th></th>\n",
       "      <th></th>\n",
       "    </tr>\n",
       "  </thead>\n",
       "  <tbody>\n",
       "    <tr>\n",
       "      <th>2010-12-31</th>\n",
       "      <td>46.079954</td>\n",
       "      <td>45.280967</td>\n",
       "      <td>37.120735</td>\n",
       "      <td>1</td>\n",
       "      <td>NaN</td>\n",
       "    </tr>\n",
       "    <tr>\n",
       "      <th>2011-01-03</th>\n",
       "      <td>47.081381</td>\n",
       "      <td>45.349708</td>\n",
       "      <td>37.186246</td>\n",
       "      <td>1</td>\n",
       "      <td>0.021500</td>\n",
       "    </tr>\n",
       "    <tr>\n",
       "      <th>2011-01-04</th>\n",
       "      <td>47.327096</td>\n",
       "      <td>45.412599</td>\n",
       "      <td>37.252521</td>\n",
       "      <td>1</td>\n",
       "      <td>0.005205</td>\n",
       "    </tr>\n",
       "    <tr>\n",
       "      <th>2011-01-05</th>\n",
       "      <td>47.714238</td>\n",
       "      <td>45.466102</td>\n",
       "      <td>37.322266</td>\n",
       "      <td>1</td>\n",
       "      <td>0.008147</td>\n",
       "    </tr>\n",
       "    <tr>\n",
       "      <th>2011-01-06</th>\n",
       "      <td>47.675667</td>\n",
       "      <td>45.522565</td>\n",
       "      <td>37.392079</td>\n",
       "      <td>1</td>\n",
       "      <td>-0.000809</td>\n",
       "    </tr>\n",
       "    <tr>\n",
       "      <th>...</th>\n",
       "      <td>...</td>\n",
       "      <td>...</td>\n",
       "      <td>...</td>\n",
       "      <td>...</td>\n",
       "      <td>...</td>\n",
       "    </tr>\n",
       "    <tr>\n",
       "      <th>2019-12-24</th>\n",
       "      <td>284.270000</td>\n",
       "      <td>264.845476</td>\n",
       "      <td>206.122639</td>\n",
       "      <td>1</td>\n",
       "      <td>0.000950</td>\n",
       "    </tr>\n",
       "    <tr>\n",
       "      <th>2019-12-26</th>\n",
       "      <td>289.910000</td>\n",
       "      <td>265.877143</td>\n",
       "      <td>206.649385</td>\n",
       "      <td>1</td>\n",
       "      <td>0.019646</td>\n",
       "    </tr>\n",
       "    <tr>\n",
       "      <th>2019-12-27</th>\n",
       "      <td>289.800000</td>\n",
       "      <td>266.847381</td>\n",
       "      <td>207.179742</td>\n",
       "      <td>1</td>\n",
       "      <td>-0.000380</td>\n",
       "    </tr>\n",
       "    <tr>\n",
       "      <th>2019-12-30</th>\n",
       "      <td>291.520000</td>\n",
       "      <td>267.995714</td>\n",
       "      <td>207.716607</td>\n",
       "      <td>1</td>\n",
       "      <td>0.005918</td>\n",
       "    </tr>\n",
       "    <tr>\n",
       "      <th>2019-12-31</th>\n",
       "      <td>293.650000</td>\n",
       "      <td>269.195476</td>\n",
       "      <td>208.255933</td>\n",
       "      <td>1</td>\n",
       "      <td>0.007280</td>\n",
       "    </tr>\n",
       "  </tbody>\n",
       "</table>\n",
       "<p>2265 rows × 5 columns</p>\n",
       "</div>"
      ],
      "text/plain": [
       "                AAPL.O       sma_1       sma_2  position   returns\n",
       "Date                                                              \n",
       "2010-12-31   46.079954   45.280967   37.120735         1       NaN\n",
       "2011-01-03   47.081381   45.349708   37.186246         1  0.021500\n",
       "2011-01-04   47.327096   45.412599   37.252521         1  0.005205\n",
       "2011-01-05   47.714238   45.466102   37.322266         1  0.008147\n",
       "2011-01-06   47.675667   45.522565   37.392079         1 -0.000809\n",
       "...                ...         ...         ...       ...       ...\n",
       "2019-12-24  284.270000  264.845476  206.122639         1  0.000950\n",
       "2019-12-26  289.910000  265.877143  206.649385         1  0.019646\n",
       "2019-12-27  289.800000  266.847381  207.179742         1 -0.000380\n",
       "2019-12-30  291.520000  267.995714  207.716607         1  0.005918\n",
       "2019-12-31  293.650000  269.195476  208.255933         1  0.007280\n",
       "\n",
       "[2265 rows x 5 columns]"
      ]
     },
     "execution_count": 18,
     "metadata": {},
     "output_type": "execute_result"
    }
   ],
   "source": [
    "data"
   ]
  },
  {
   "cell_type": "code",
   "execution_count": 19,
   "metadata": {
    "ExecuteTime": {
     "end_time": "2021-03-29T07:01:48.313670Z",
     "start_time": "2021-03-29T07:01:48.309840Z"
    }
   },
   "outputs": [],
   "source": [
    "\"\"\"\n",
    "Multiplies the position values, shifted by one day, by the log returns\n",
    "of the Apple stock; the shift is required to avoid a foresight bias.\n",
    "The basic idea is that the algorithm can only set a position in the Apple\n",
    "stock given today's market data (just before the close). The position then\n",
    "earns tomorrow's return.\n",
    "\"\"\"\n",
    "\n",
    "data['strategy'] = data['position'].shift(1) * data['returns']"
   ]
  },
  {
   "cell_type": "code",
   "execution_count": 20,
   "metadata": {
    "ExecuteTime": {
     "end_time": "2021-03-29T07:01:48.330143Z",
     "start_time": "2021-03-29T07:01:48.315304Z"
    }
   },
   "outputs": [
    {
     "data": {
      "text/html": [
       "<div>\n",
       "<style scoped>\n",
       "    .dataframe tbody tr th:only-of-type {\n",
       "        vertical-align: middle;\n",
       "    }\n",
       "\n",
       "    .dataframe tbody tr th {\n",
       "        vertical-align: top;\n",
       "    }\n",
       "\n",
       "    .dataframe thead th {\n",
       "        text-align: right;\n",
       "    }\n",
       "</style>\n",
       "<table border=\"1\" class=\"dataframe\">\n",
       "  <thead>\n",
       "    <tr style=\"text-align: right;\">\n",
       "      <th></th>\n",
       "      <th>AAPL.O</th>\n",
       "      <th>sma_1</th>\n",
       "      <th>sma_2</th>\n",
       "      <th>position</th>\n",
       "      <th>returns</th>\n",
       "      <th>strategy</th>\n",
       "    </tr>\n",
       "    <tr>\n",
       "      <th>Date</th>\n",
       "      <th></th>\n",
       "      <th></th>\n",
       "      <th></th>\n",
       "      <th></th>\n",
       "      <th></th>\n",
       "      <th></th>\n",
       "    </tr>\n",
       "  </thead>\n",
       "  <tbody>\n",
       "    <tr>\n",
       "      <th>2010-12-31</th>\n",
       "      <td>46.0800</td>\n",
       "      <td>45.2810</td>\n",
       "      <td>37.1207</td>\n",
       "      <td>1</td>\n",
       "      <td>NaN</td>\n",
       "      <td>NaN</td>\n",
       "    </tr>\n",
       "    <tr>\n",
       "      <th>2011-01-03</th>\n",
       "      <td>47.0814</td>\n",
       "      <td>45.3497</td>\n",
       "      <td>37.1862</td>\n",
       "      <td>1</td>\n",
       "      <td>0.0215</td>\n",
       "      <td>0.0215</td>\n",
       "    </tr>\n",
       "    <tr>\n",
       "      <th>2011-01-04</th>\n",
       "      <td>47.3271</td>\n",
       "      <td>45.4126</td>\n",
       "      <td>37.2525</td>\n",
       "      <td>1</td>\n",
       "      <td>0.0052</td>\n",
       "      <td>0.0052</td>\n",
       "    </tr>\n",
       "    <tr>\n",
       "      <th>2011-01-05</th>\n",
       "      <td>47.7142</td>\n",
       "      <td>45.4661</td>\n",
       "      <td>37.3223</td>\n",
       "      <td>1</td>\n",
       "      <td>0.0081</td>\n",
       "      <td>0.0081</td>\n",
       "    </tr>\n",
       "    <tr>\n",
       "      <th>2011-01-06</th>\n",
       "      <td>47.6757</td>\n",
       "      <td>45.5226</td>\n",
       "      <td>37.3921</td>\n",
       "      <td>1</td>\n",
       "      <td>-0.0008</td>\n",
       "      <td>-0.0008</td>\n",
       "    </tr>\n",
       "    <tr>\n",
       "      <th>...</th>\n",
       "      <td>...</td>\n",
       "      <td>...</td>\n",
       "      <td>...</td>\n",
       "      <td>...</td>\n",
       "      <td>...</td>\n",
       "      <td>...</td>\n",
       "    </tr>\n",
       "    <tr>\n",
       "      <th>2019-12-24</th>\n",
       "      <td>284.2700</td>\n",
       "      <td>264.8455</td>\n",
       "      <td>206.1226</td>\n",
       "      <td>1</td>\n",
       "      <td>0.0010</td>\n",
       "      <td>0.0010</td>\n",
       "    </tr>\n",
       "    <tr>\n",
       "      <th>2019-12-26</th>\n",
       "      <td>289.9100</td>\n",
       "      <td>265.8771</td>\n",
       "      <td>206.6494</td>\n",
       "      <td>1</td>\n",
       "      <td>0.0196</td>\n",
       "      <td>0.0196</td>\n",
       "    </tr>\n",
       "    <tr>\n",
       "      <th>2019-12-27</th>\n",
       "      <td>289.8000</td>\n",
       "      <td>266.8474</td>\n",
       "      <td>207.1797</td>\n",
       "      <td>1</td>\n",
       "      <td>-0.0004</td>\n",
       "      <td>-0.0004</td>\n",
       "    </tr>\n",
       "    <tr>\n",
       "      <th>2019-12-30</th>\n",
       "      <td>291.5200</td>\n",
       "      <td>267.9957</td>\n",
       "      <td>207.7166</td>\n",
       "      <td>1</td>\n",
       "      <td>0.0059</td>\n",
       "      <td>0.0059</td>\n",
       "    </tr>\n",
       "    <tr>\n",
       "      <th>2019-12-31</th>\n",
       "      <td>293.6500</td>\n",
       "      <td>269.1955</td>\n",
       "      <td>208.2559</td>\n",
       "      <td>1</td>\n",
       "      <td>0.0073</td>\n",
       "      <td>0.0073</td>\n",
       "    </tr>\n",
       "  </tbody>\n",
       "</table>\n",
       "<p>2265 rows × 6 columns</p>\n",
       "</div>"
      ],
      "text/plain": [
       "              AAPL.O     sma_1     sma_2  position  returns  strategy\n",
       "Date                                                                 \n",
       "2010-12-31   46.0800   45.2810   37.1207         1      NaN       NaN\n",
       "2011-01-03   47.0814   45.3497   37.1862         1   0.0215    0.0215\n",
       "2011-01-04   47.3271   45.4126   37.2525         1   0.0052    0.0052\n",
       "2011-01-05   47.7142   45.4661   37.3223         1   0.0081    0.0081\n",
       "2011-01-06   47.6757   45.5226   37.3921         1  -0.0008   -0.0008\n",
       "...              ...       ...       ...       ...      ...       ...\n",
       "2019-12-24  284.2700  264.8455  206.1226         1   0.0010    0.0010\n",
       "2019-12-26  289.9100  265.8771  206.6494         1   0.0196    0.0196\n",
       "2019-12-27  289.8000  266.8474  207.1797         1  -0.0004   -0.0004\n",
       "2019-12-30  291.5200  267.9957  207.7166         1   0.0059    0.0059\n",
       "2019-12-31  293.6500  269.1955  208.2559         1   0.0073    0.0073\n",
       "\n",
       "[2265 rows x 6 columns]"
      ]
     },
     "execution_count": 20,
     "metadata": {},
     "output_type": "execute_result"
    }
   ],
   "source": [
    "data.round(4)"
   ]
  },
  {
   "cell_type": "code",
   "execution_count": 21,
   "metadata": {
    "ExecuteTime": {
     "end_time": "2021-03-29T07:01:48.336959Z",
     "start_time": "2021-03-29T07:01:48.332187Z"
    }
   },
   "outputs": [],
   "source": [
    "data.dropna(inplace = True)"
   ]
  },
  {
   "cell_type": "code",
   "execution_count": 22,
   "metadata": {
    "ExecuteTime": {
     "end_time": "2021-03-29T07:01:48.353571Z",
     "start_time": "2021-03-29T07:01:48.339032Z"
    }
   },
   "outputs": [
    {
     "data": {
      "text/html": [
       "<div>\n",
       "<style scoped>\n",
       "    .dataframe tbody tr th:only-of-type {\n",
       "        vertical-align: middle;\n",
       "    }\n",
       "\n",
       "    .dataframe tbody tr th {\n",
       "        vertical-align: top;\n",
       "    }\n",
       "\n",
       "    .dataframe thead th {\n",
       "        text-align: right;\n",
       "    }\n",
       "</style>\n",
       "<table border=\"1\" class=\"dataframe\">\n",
       "  <thead>\n",
       "    <tr style=\"text-align: right;\">\n",
       "      <th></th>\n",
       "      <th>AAPL.O</th>\n",
       "      <th>sma_1</th>\n",
       "      <th>sma_2</th>\n",
       "      <th>position</th>\n",
       "      <th>returns</th>\n",
       "      <th>strategy</th>\n",
       "    </tr>\n",
       "    <tr>\n",
       "      <th>Date</th>\n",
       "      <th></th>\n",
       "      <th></th>\n",
       "      <th></th>\n",
       "      <th></th>\n",
       "      <th></th>\n",
       "      <th></th>\n",
       "    </tr>\n",
       "  </thead>\n",
       "  <tbody>\n",
       "    <tr>\n",
       "      <th>2011-01-03</th>\n",
       "      <td>47.0814</td>\n",
       "      <td>45.3497</td>\n",
       "      <td>37.1862</td>\n",
       "      <td>1</td>\n",
       "      <td>0.0215</td>\n",
       "      <td>0.0215</td>\n",
       "    </tr>\n",
       "    <tr>\n",
       "      <th>2011-01-04</th>\n",
       "      <td>47.3271</td>\n",
       "      <td>45.4126</td>\n",
       "      <td>37.2525</td>\n",
       "      <td>1</td>\n",
       "      <td>0.0052</td>\n",
       "      <td>0.0052</td>\n",
       "    </tr>\n",
       "    <tr>\n",
       "      <th>2011-01-05</th>\n",
       "      <td>47.7142</td>\n",
       "      <td>45.4661</td>\n",
       "      <td>37.3223</td>\n",
       "      <td>1</td>\n",
       "      <td>0.0081</td>\n",
       "      <td>0.0081</td>\n",
       "    </tr>\n",
       "    <tr>\n",
       "      <th>2011-01-06</th>\n",
       "      <td>47.6757</td>\n",
       "      <td>45.5226</td>\n",
       "      <td>37.3921</td>\n",
       "      <td>1</td>\n",
       "      <td>-0.0008</td>\n",
       "      <td>-0.0008</td>\n",
       "    </tr>\n",
       "    <tr>\n",
       "      <th>2011-01-07</th>\n",
       "      <td>48.0171</td>\n",
       "      <td>45.5821</td>\n",
       "      <td>37.4625</td>\n",
       "      <td>1</td>\n",
       "      <td>0.0071</td>\n",
       "      <td>0.0071</td>\n",
       "    </tr>\n",
       "    <tr>\n",
       "      <th>...</th>\n",
       "      <td>...</td>\n",
       "      <td>...</td>\n",
       "      <td>...</td>\n",
       "      <td>...</td>\n",
       "      <td>...</td>\n",
       "      <td>...</td>\n",
       "    </tr>\n",
       "    <tr>\n",
       "      <th>2019-12-24</th>\n",
       "      <td>284.2700</td>\n",
       "      <td>264.8455</td>\n",
       "      <td>206.1226</td>\n",
       "      <td>1</td>\n",
       "      <td>0.0010</td>\n",
       "      <td>0.0010</td>\n",
       "    </tr>\n",
       "    <tr>\n",
       "      <th>2019-12-26</th>\n",
       "      <td>289.9100</td>\n",
       "      <td>265.8771</td>\n",
       "      <td>206.6494</td>\n",
       "      <td>1</td>\n",
       "      <td>0.0196</td>\n",
       "      <td>0.0196</td>\n",
       "    </tr>\n",
       "    <tr>\n",
       "      <th>2019-12-27</th>\n",
       "      <td>289.8000</td>\n",
       "      <td>266.8474</td>\n",
       "      <td>207.1797</td>\n",
       "      <td>1</td>\n",
       "      <td>-0.0004</td>\n",
       "      <td>-0.0004</td>\n",
       "    </tr>\n",
       "    <tr>\n",
       "      <th>2019-12-30</th>\n",
       "      <td>291.5200</td>\n",
       "      <td>267.9957</td>\n",
       "      <td>207.7166</td>\n",
       "      <td>1</td>\n",
       "      <td>0.0059</td>\n",
       "      <td>0.0059</td>\n",
       "    </tr>\n",
       "    <tr>\n",
       "      <th>2019-12-31</th>\n",
       "      <td>293.6500</td>\n",
       "      <td>269.1955</td>\n",
       "      <td>208.2559</td>\n",
       "      <td>1</td>\n",
       "      <td>0.0073</td>\n",
       "      <td>0.0073</td>\n",
       "    </tr>\n",
       "  </tbody>\n",
       "</table>\n",
       "<p>2264 rows × 6 columns</p>\n",
       "</div>"
      ],
      "text/plain": [
       "              AAPL.O     sma_1     sma_2  position  returns  strategy\n",
       "Date                                                                 \n",
       "2011-01-03   47.0814   45.3497   37.1862         1   0.0215    0.0215\n",
       "2011-01-04   47.3271   45.4126   37.2525         1   0.0052    0.0052\n",
       "2011-01-05   47.7142   45.4661   37.3223         1   0.0081    0.0081\n",
       "2011-01-06   47.6757   45.5226   37.3921         1  -0.0008   -0.0008\n",
       "2011-01-07   48.0171   45.5821   37.4625         1   0.0071    0.0071\n",
       "...              ...       ...       ...       ...      ...       ...\n",
       "2019-12-24  284.2700  264.8455  206.1226         1   0.0010    0.0010\n",
       "2019-12-26  289.9100  265.8771  206.6494         1   0.0196    0.0196\n",
       "2019-12-27  289.8000  266.8474  207.1797         1  -0.0004   -0.0004\n",
       "2019-12-30  291.5200  267.9957  207.7166         1   0.0059    0.0059\n",
       "2019-12-31  293.6500  269.1955  208.2559         1   0.0073    0.0073\n",
       "\n",
       "[2264 rows x 6 columns]"
      ]
     },
     "execution_count": 22,
     "metadata": {},
     "output_type": "execute_result"
    }
   ],
   "source": [
    "data.round(4)"
   ]
  },
  {
   "cell_type": "code",
   "execution_count": 23,
   "metadata": {
    "ExecuteTime": {
     "end_time": "2021-03-29T07:01:48.364632Z",
     "start_time": "2021-03-29T07:01:48.359503Z"
    }
   },
   "outputs": [
    {
     "data": {
      "text/plain": [
       "returns     6.372619\n",
       "strategy    5.260862\n",
       "dtype: float64"
      ]
     },
     "execution_count": 23,
     "metadata": {},
     "output_type": "execute_result"
    }
   ],
   "source": [
    "\"\"\"\n",
    "Sums up the log returns of the strategy and the benchmark investment and\n",
    "calculates the exponential value to return the absolute performance.\n",
    "\"\"\"\n",
    "np.exp(data[['returns', 'strategy']].sum())"
   ]
  },
  {
   "cell_type": "code",
   "execution_count": 24,
   "metadata": {
    "ExecuteTime": {
     "end_time": "2021-03-29T07:01:48.405893Z",
     "start_time": "2021-03-29T07:01:48.368981Z"
    }
   },
   "outputs": [
    {
     "data": {
      "text/plain": [
       "returns     0.257038\n",
       "strategy    0.257103\n",
       "dtype: float64"
      ]
     },
     "execution_count": 24,
     "metadata": {},
     "output_type": "execute_result"
    }
   ],
   "source": [
    "\"\"\"\n",
    "Estimates the annualized volatility of the investment and the benchmark\n",
    "investment.\n",
    "\"\"\"\n",
    "data[['returns', 'strategy']].std() * 252 ** (1/2)"
   ]
  },
  {
   "cell_type": "code",
   "execution_count": 25,
   "metadata": {
    "ExecuteTime": {
     "end_time": "2021-03-29T07:01:49.960562Z",
     "start_time": "2021-03-29T07:01:48.408797Z"
    }
   },
   "outputs": [
    {
     "data": {
      "image/png": "[encoded data removed]",
      "text/plain": [
       "<Figure size 864x576 with 2 Axes>"
      ]
     },
     "metadata": {
      "needs_background": "light"
     },
     "output_type": "display_data"
    }
   ],
   "source": [
    "ax = data[['returns', 'strategy']].cumsum().apply(np.exp).plot(figsize = (12, 8))\n",
    "data['position'].plot(ax = ax, secondary_y = 'position', style = '--')\n",
    "ax.get_legend().set_bbox_to_anchor((0.22, 0.83))\n",
    "plt.savefig('../WORK/plot_02.png', dpi = 500)\n",
    "plt.show()"
   ]
  },
  {
   "cell_type": "markdown",
   "metadata": {},
   "source": [
    "Notice that transaction costs (fixed fees, bid-ask spreads, lending costs...) are not included. This might be justifiable for a trading strategy that leads to a few trades only over multiple years, like this example. It is also assumed that all trades take place at the end-of-day closing prices for the Apple stock. A more realistic backtesting approach would take these and other (merket microstructure) elements into account. "
   ]
  },
  {
   "cell_type": "markdown",
   "metadata": {},
   "source": [
    "# Optimization"
   ]
  },
  {
   "cell_type": "code",
   "execution_count": 26,
   "metadata": {
    "ExecuteTime": {
     "end_time": "2021-03-29T07:01:49.964735Z",
     "start_time": "2021-03-29T07:01:49.962357Z"
    }
   },
   "outputs": [],
   "source": [
    "from itertools import product"
   ]
  },
  {
   "cell_type": "code",
   "execution_count": 27,
   "metadata": {
    "ExecuteTime": {
     "end_time": "2021-03-29T07:01:49.971232Z",
     "start_time": "2021-03-29T07:01:49.966792Z"
    }
   },
   "outputs": [
    {
     "data": {
      "text/plain": [
       "[20, 24, 28, 32, 36, 40, 44, 48, 52, 56, 60]"
      ]
     },
     "execution_count": 27,
     "metadata": {},
     "output_type": "execute_result"
    }
   ],
   "source": [
    "list(range(20, 61, 4))"
   ]
  },
  {
   "cell_type": "code",
   "execution_count": 28,
   "metadata": {
    "ExecuteTime": {
     "end_time": "2021-03-29T07:01:49.978458Z",
     "start_time": "2021-03-29T07:01:49.973564Z"
    }
   },
   "outputs": [
    {
     "data": {
      "text/plain": [
       "[180, 190, 200, 210, 220, 230, 240, 250, 260, 270, 280]"
      ]
     },
     "execution_count": 28,
     "metadata": {},
     "output_type": "execute_result"
    }
   ],
   "source": [
    "list(range(180, 281, 10))"
   ]
  },
  {
   "cell_type": "code",
   "execution_count": 29,
   "metadata": {
    "ExecuteTime": {
     "end_time": "2021-03-29T07:01:49.984335Z",
     "start_time": "2021-03-29T07:01:49.981223Z"
    }
   },
   "outputs": [],
   "source": [
    "sma_1 = range(20, 61, 4)\n",
    "sma_2 = range(180, 281, 10)"
   ]
  },
  {
   "cell_type": "code",
   "execution_count": 30,
   "metadata": {
    "ExecuteTime": {
     "end_time": "2021-03-29T07:01:49.996777Z",
     "start_time": "2021-03-29T07:01:49.986682Z"
    }
   },
   "outputs": [
    {
     "data": {
      "text/plain": [
       "[(20, 180),\n",
       " (20, 190),\n",
       " (20, 200),\n",
       " (20, 210),\n",
       " (20, 220),\n",
       " (20, 230),\n",
       " (20, 240),\n",
       " (20, 250),\n",
       " (20, 260),\n",
       " (20, 270),\n",
       " (20, 280),\n",
       " (24, 180),\n",
       " (24, 190),\n",
       " (24, 200),\n",
       " (24, 210),\n",
       " (24, 220),\n",
       " (24, 230),\n",
       " (24, 240),\n",
       " (24, 250),\n",
       " (24, 260),\n",
       " (24, 270),\n",
       " (24, 280),\n",
       " (28, 180),\n",
       " (28, 190),\n",
       " (28, 200),\n",
       " (28, 210),\n",
       " (28, 220),\n",
       " (28, 230),\n",
       " (28, 240),\n",
       " (28, 250),\n",
       " (28, 260),\n",
       " (28, 270),\n",
       " (28, 280),\n",
       " (32, 180),\n",
       " (32, 190),\n",
       " (32, 200),\n",
       " (32, 210),\n",
       " (32, 220),\n",
       " (32, 230),\n",
       " (32, 240),\n",
       " (32, 250),\n",
       " (32, 260),\n",
       " (32, 270),\n",
       " (32, 280),\n",
       " (36, 180),\n",
       " (36, 190),\n",
       " (36, 200),\n",
       " (36, 210),\n",
       " (36, 220),\n",
       " (36, 230),\n",
       " (36, 240),\n",
       " (36, 250),\n",
       " (36, 260),\n",
       " (36, 270),\n",
       " (36, 280),\n",
       " (40, 180),\n",
       " (40, 190),\n",
       " (40, 200),\n",
       " (40, 210),\n",
       " (40, 220),\n",
       " (40, 230),\n",
       " (40, 240),\n",
       " (40, 250),\n",
       " (40, 260),\n",
       " (40, 270),\n",
       " (40, 280),\n",
       " (44, 180),\n",
       " (44, 190),\n",
       " (44, 200),\n",
       " (44, 210),\n",
       " (44, 220),\n",
       " (44, 230),\n",
       " (44, 240),\n",
       " (44, 250),\n",
       " (44, 260),\n",
       " (44, 270),\n",
       " (44, 280),\n",
       " (48, 180),\n",
       " (48, 190),\n",
       " (48, 200),\n",
       " (48, 210),\n",
       " (48, 220),\n",
       " (48, 230),\n",
       " (48, 240),\n",
       " (48, 250),\n",
       " (48, 260),\n",
       " (48, 270),\n",
       " (48, 280),\n",
       " (52, 180),\n",
       " (52, 190),\n",
       " (52, 200),\n",
       " (52, 210),\n",
       " (52, 220),\n",
       " (52, 230),\n",
       " (52, 240),\n",
       " (52, 250),\n",
       " (52, 260),\n",
       " (52, 270),\n",
       " (52, 280),\n",
       " (56, 180),\n",
       " (56, 190),\n",
       " (56, 200),\n",
       " (56, 210),\n",
       " (56, 220),\n",
       " (56, 230),\n",
       " (56, 240),\n",
       " (56, 250),\n",
       " (56, 260),\n",
       " (56, 270),\n",
       " (56, 280),\n",
       " (60, 180),\n",
       " (60, 190),\n",
       " (60, 200),\n",
       " (60, 210),\n",
       " (60, 220),\n",
       " (60, 230),\n",
       " (60, 240),\n",
       " (60, 250),\n",
       " (60, 260),\n",
       " (60, 270),\n",
       " (60, 280)]"
      ]
     },
     "execution_count": 30,
     "metadata": {},
     "output_type": "execute_result"
    }
   ],
   "source": [
    "list(product(sma_1, sma_2))"
   ]
  },
  {
   "cell_type": "code",
   "execution_count": 31,
   "metadata": {
    "ExecuteTime": {
     "end_time": "2021-03-29T07:01:51.275862Z",
     "start_time": "2021-03-29T07:01:49.999338Z"
    }
   },
   "outputs": [],
   "source": [
    "results = pd.DataFrame()\n",
    "\n",
    "for SMA_1, SMA_2 in product(sma_1, sma_2):\n",
    "    data = pd.DataFrame(raw[symbol])\n",
    "    data.dropna(inplace = True)\n",
    "    data['returns'] = np.log(data[symbol] / data[symbol].shift(1))\n",
    "    data['SMA_1'] = data[symbol].rolling(SMA_1).mean()\n",
    "    data['SMA_2'] = data[symbol].rolling(SMA_2).mean()\n",
    "    data.dropna(inplace = True)\n",
    "    data['position'] = np.where(data['SMA_1'] > data['SMA_2'], 1.0, -1.0)\n",
    "    data['strategy'] = data['position'].shift(1) * data['returns']\n",
    "    data.dropna(inplace = True)\n",
    "    perf = np.exp(data[['returns', 'strategy']].sum())\n",
    "    results = results.append(pd.DataFrame({\n",
    "        'SMA_1': SMA_1, 'SMA_2': SMA_2, \n",
    "        'MARKET' : perf['returns'], \n",
    "        'STRATEGY' : perf['strategy'], \n",
    "        'OUT' : perf['strategy'] - perf['returns']}, \n",
    "        index = [0]), ignore_index = True)\n"
   ]
  },
  {
   "cell_type": "code",
   "execution_count": 32,
   "metadata": {
    "ExecuteTime": {
     "end_time": "2021-03-29T07:01:51.287588Z",
     "start_time": "2021-03-29T07:01:51.277294Z"
    }
   },
   "outputs": [
    {
     "data": {
      "text/html": [
       "<div>\n",
       "<style scoped>\n",
       "    .dataframe tbody tr th:only-of-type {\n",
       "        vertical-align: middle;\n",
       "    }\n",
       "\n",
       "    .dataframe tbody tr th {\n",
       "        vertical-align: top;\n",
       "    }\n",
       "\n",
       "    .dataframe thead th {\n",
       "        text-align: right;\n",
       "    }\n",
       "</style>\n",
       "<table border=\"1\" class=\"dataframe\">\n",
       "  <thead>\n",
       "    <tr style=\"text-align: right;\">\n",
       "      <th></th>\n",
       "      <th>SMA_1</th>\n",
       "      <th>SMA_2</th>\n",
       "      <th>MARKET</th>\n",
       "      <th>STRATEGY</th>\n",
       "      <th>OUT</th>\n",
       "    </tr>\n",
       "  </thead>\n",
       "  <tbody>\n",
       "    <tr>\n",
       "      <th>0</th>\n",
       "      <td>20</td>\n",
       "      <td>180</td>\n",
       "      <td>7.257536</td>\n",
       "      <td>3.971133</td>\n",
       "      <td>-3.286403</td>\n",
       "    </tr>\n",
       "    <tr>\n",
       "      <th>1</th>\n",
       "      <td>20</td>\n",
       "      <td>190</td>\n",
       "      <td>7.377089</td>\n",
       "      <td>5.223717</td>\n",
       "      <td>-2.153372</td>\n",
       "    </tr>\n",
       "    <tr>\n",
       "      <th>2</th>\n",
       "      <td>20</td>\n",
       "      <td>200</td>\n",
       "      <td>6.464000</td>\n",
       "      <td>5.684757</td>\n",
       "      <td>-0.779244</td>\n",
       "    </tr>\n",
       "    <tr>\n",
       "      <th>3</th>\n",
       "      <td>20</td>\n",
       "      <td>210</td>\n",
       "      <td>6.757683</td>\n",
       "      <td>5.340947</td>\n",
       "      <td>-1.416736</td>\n",
       "    </tr>\n",
       "    <tr>\n",
       "      <th>4</th>\n",
       "      <td>20</td>\n",
       "      <td>220</td>\n",
       "      <td>6.694846</td>\n",
       "      <td>5.385602</td>\n",
       "      <td>-1.309244</td>\n",
       "    </tr>\n",
       "    <tr>\n",
       "      <th>...</th>\n",
       "      <td>...</td>\n",
       "      <td>...</td>\n",
       "      <td>...</td>\n",
       "      <td>...</td>\n",
       "      <td>...</td>\n",
       "    </tr>\n",
       "    <tr>\n",
       "      <th>116</th>\n",
       "      <td>60</td>\n",
       "      <td>240</td>\n",
       "      <td>6.417784</td>\n",
       "      <td>4.564173</td>\n",
       "      <td>-1.853611</td>\n",
       "    </tr>\n",
       "    <tr>\n",
       "      <th>117</th>\n",
       "      <td>60</td>\n",
       "      <td>250</td>\n",
       "      <td>6.319137</td>\n",
       "      <td>4.474075</td>\n",
       "      <td>-1.845061</td>\n",
       "    </tr>\n",
       "    <tr>\n",
       "      <th>118</th>\n",
       "      <td>60</td>\n",
       "      <td>260</td>\n",
       "      <td>5.968155</td>\n",
       "      <td>3.976158</td>\n",
       "      <td>-1.991998</td>\n",
       "    </tr>\n",
       "    <tr>\n",
       "      <th>119</th>\n",
       "      <td>60</td>\n",
       "      <td>270</td>\n",
       "      <td>5.989196</td>\n",
       "      <td>3.677278</td>\n",
       "      <td>-2.311919</td>\n",
       "    </tr>\n",
       "    <tr>\n",
       "      <th>120</th>\n",
       "      <td>60</td>\n",
       "      <td>280</td>\n",
       "      <td>5.797800</td>\n",
       "      <td>3.056753</td>\n",
       "      <td>-2.741047</td>\n",
       "    </tr>\n",
       "  </tbody>\n",
       "</table>\n",
       "<p>121 rows × 5 columns</p>\n",
       "</div>"
      ],
      "text/plain": [
       "     SMA_1  SMA_2    MARKET  STRATEGY       OUT\n",
       "0       20    180  7.257536  3.971133 -3.286403\n",
       "1       20    190  7.377089  5.223717 -2.153372\n",
       "2       20    200  6.464000  5.684757 -0.779244\n",
       "3       20    210  6.757683  5.340947 -1.416736\n",
       "4       20    220  6.694846  5.385602 -1.309244\n",
       "..     ...    ...       ...       ...       ...\n",
       "116     60    240  6.417784  4.564173 -1.853611\n",
       "117     60    250  6.319137  4.474075 -1.845061\n",
       "118     60    260  5.968155  3.976158 -1.991998\n",
       "119     60    270  5.989196  3.677278 -2.311919\n",
       "120     60    280  5.797800  3.056753 -2.741047\n",
       "\n",
       "[121 rows x 5 columns]"
      ]
     },
     "execution_count": 32,
     "metadata": {},
     "output_type": "execute_result"
    }
   ],
   "source": [
    "results"
   ]
  },
  {
   "cell_type": "code",
   "execution_count": 33,
   "metadata": {
    "ExecuteTime": {
     "end_time": "2021-03-29T07:01:51.296128Z",
     "start_time": "2021-03-29T07:01:51.289730Z"
    }
   },
   "outputs": [
    {
     "name": "stdout",
     "output_type": "stream",
     "text": [
      "<class 'pandas.core.frame.DataFrame'>\n",
      "RangeIndex: 121 entries, 0 to 120\n",
      "Data columns (total 5 columns):\n",
      " #   Column    Non-Null Count  Dtype  \n",
      "---  ------    --------------  -----  \n",
      " 0   SMA_1     121 non-null    int64  \n",
      " 1   SMA_2     121 non-null    int64  \n",
      " 2   MARKET    121 non-null    float64\n",
      " 3   STRATEGY  121 non-null    float64\n",
      " 4   OUT       121 non-null    float64\n",
      "dtypes: float64(3), int64(2)\n",
      "memory usage: 4.9 KB\n"
     ]
    }
   ],
   "source": [
    "results.info()"
   ]
  },
  {
   "cell_type": "code",
   "execution_count": 34,
   "metadata": {
    "ExecuteTime": {
     "end_time": "2021-03-29T07:01:51.305591Z",
     "start_time": "2021-03-29T07:01:51.297850Z"
    }
   },
   "outputs": [
    {
     "data": {
      "text/html": [
       "<div>\n",
       "<style scoped>\n",
       "    .dataframe tbody tr th:only-of-type {\n",
       "        vertical-align: middle;\n",
       "    }\n",
       "\n",
       "    .dataframe tbody tr th {\n",
       "        vertical-align: top;\n",
       "    }\n",
       "\n",
       "    .dataframe thead th {\n",
       "        text-align: right;\n",
       "    }\n",
       "</style>\n",
       "<table border=\"1\" class=\"dataframe\">\n",
       "  <thead>\n",
       "    <tr style=\"text-align: right;\">\n",
       "      <th></th>\n",
       "      <th>SMA_1</th>\n",
       "      <th>SMA_2</th>\n",
       "      <th>MARKET</th>\n",
       "      <th>STRATEGY</th>\n",
       "      <th>OUT</th>\n",
       "    </tr>\n",
       "  </thead>\n",
       "  <tbody>\n",
       "    <tr>\n",
       "      <th>56</th>\n",
       "      <td>40</td>\n",
       "      <td>190</td>\n",
       "      <td>7.377089</td>\n",
       "      <td>7.945422</td>\n",
       "      <td>0.568333</td>\n",
       "    </tr>\n",
       "    <tr>\n",
       "      <th>46</th>\n",
       "      <td>36</td>\n",
       "      <td>200</td>\n",
       "      <td>6.464000</td>\n",
       "      <td>6.878117</td>\n",
       "      <td>0.414117</td>\n",
       "    </tr>\n",
       "    <tr>\n",
       "      <th>101</th>\n",
       "      <td>56</td>\n",
       "      <td>200</td>\n",
       "      <td>6.464000</td>\n",
       "      <td>6.793928</td>\n",
       "      <td>0.329928</td>\n",
       "    </tr>\n",
       "    <tr>\n",
       "      <th>55</th>\n",
       "      <td>40</td>\n",
       "      <td>180</td>\n",
       "      <td>7.257536</td>\n",
       "      <td>7.430712</td>\n",
       "      <td>0.173175</td>\n",
       "    </tr>\n",
       "    <tr>\n",
       "      <th>39</th>\n",
       "      <td>32</td>\n",
       "      <td>240</td>\n",
       "      <td>6.417784</td>\n",
       "      <td>6.386121</td>\n",
       "      <td>-0.031663</td>\n",
       "    </tr>\n",
       "    <tr>\n",
       "      <th>110</th>\n",
       "      <td>60</td>\n",
       "      <td>180</td>\n",
       "      <td>7.257536</td>\n",
       "      <td>7.219310</td>\n",
       "      <td>-0.038226</td>\n",
       "    </tr>\n",
       "    <tr>\n",
       "      <th>45</th>\n",
       "      <td>36</td>\n",
       "      <td>190</td>\n",
       "      <td>7.377089</td>\n",
       "      <td>7.208510</td>\n",
       "      <td>-0.168579</td>\n",
       "    </tr>\n",
       "    <tr>\n",
       "      <th>59</th>\n",
       "      <td>40</td>\n",
       "      <td>220</td>\n",
       "      <td>6.694846</td>\n",
       "      <td>6.486247</td>\n",
       "      <td>-0.208599</td>\n",
       "    </tr>\n",
       "    <tr>\n",
       "      <th>34</th>\n",
       "      <td>32</td>\n",
       "      <td>190</td>\n",
       "      <td>7.377089</td>\n",
       "      <td>7.100412</td>\n",
       "      <td>-0.276677</td>\n",
       "    </tr>\n",
       "    <tr>\n",
       "      <th>44</th>\n",
       "      <td>36</td>\n",
       "      <td>180</td>\n",
       "      <td>7.257536</td>\n",
       "      <td>6.979190</td>\n",
       "      <td>-0.278346</td>\n",
       "    </tr>\n",
       "  </tbody>\n",
       "</table>\n",
       "</div>"
      ],
      "text/plain": [
       "     SMA_1  SMA_2    MARKET  STRATEGY       OUT\n",
       "56      40    190  7.377089  7.945422  0.568333\n",
       "46      36    200  6.464000  6.878117  0.414117\n",
       "101     56    200  6.464000  6.793928  0.329928\n",
       "55      40    180  7.257536  7.430712  0.173175\n",
       "39      32    240  6.417784  6.386121 -0.031663\n",
       "110     60    180  7.257536  7.219310 -0.038226\n",
       "45      36    190  7.377089  7.208510 -0.168579\n",
       "59      40    220  6.694846  6.486247 -0.208599\n",
       "34      32    190  7.377089  7.100412 -0.276677\n",
       "44      36    180  7.257536  6.979190 -0.278346"
      ]
     },
     "execution_count": 34,
     "metadata": {},
     "output_type": "execute_result"
    }
   ],
   "source": [
    "results.sort_values('OUT', ascending = False).head(10)"
   ]
  },
  {
   "cell_type": "markdown",
   "metadata": {},
   "source": [
    "As we can observe, according to the brute-force based optimization, SMA_1 = 40 and SMA_2 = 190 are the optimal parameters, leading to an outperformace of about 57 percentage points. Nevertheless, notice that this result is heavily dependent on the data used and is prone to __overfitting__. A more rigorous approach would be to implement the optimization on one dataset, the in-sample or training data set, and test it on another one, the out-of-sample or testing dataset.\n",
    "\n",
    "In conclusion, our single strategy backtested on a single financial time series, namely historical end-of-day prices for the Apple stock, outperforms the benchmark investment of simply going long on the Apple stock over the same period."
   ]
  },
  {
   "cell_type": "markdown",
   "metadata": {},
   "source": [
    "__These results, however are incontrast to what the random walk hypothesis (RWH) predicts, namely, that such predictive approaches should not yield any performance at all. The RWH postulates the prices in financial markets follow a random walk, or, in continuous time, an arithmetic Brownian motion wihout drift__. The expected value of an arithmetic Brownian motion without drift at any point in the future equals its value today. As a consequence, the best predictor for tomorrow's price, in a least-squares sense, is today's price if the RWH applies\n",
    "\n",
    "_\"For many years, economists, statisticians and teachers of finance have been interested in developing and testing models of stock price behavior. One important model that has evolved from this research is the theory of random walks. This theory casts serious doubt on many other methods for describing and predicting stock price behavior - methods that have considerable popularity outside the academic world. For example, we shall see later that, if the random walk theory is an accurate description of reality, then the various \"technical\" or \"chartist\" procedures for predicting stock prices are completely without value.\"_\n",
    "\n",
    "___Eugene Fama (1965)___\n",
    "\n",
    "The RWH is consistent with the efficient markets hypothesis (EMH), which, non-technically speaking, states that market prices reflect all \"all available information.\" Different degrees of efficiency are generally distinguished, such as weak, semi-strong, and strong, defining more specifically what \"all available information\" entails. Formally, such definition can be based on the concept of an information set in theory and on a dataset for programming purposes, as the following quote illustrates:\n",
    "\n",
    "_\"A market is efficient with respect to an information set S if it is impossible to make economic profits by trading on the basis of information set S.\"_\n",
    "\n",
    "Using Python, the RWH can be tested for a specific case as follows. A financial time series of historical market prices is used for which a number of lagged versions are created -say, five. OLS regression is then used to predict the market prices based on the lagged market prices created before. The basic idea is that the market prices from yesterday and four more days back can be used to predict today's market price.\n",
    "\n",
    "The following Python code implements this idea and created five lagged versions of the historical end-of-day closing levels of the S&P 500 stock index:"
   ]
  },
  {
   "cell_type": "code",
   "execution_count": 35,
   "metadata": {
    "ExecuteTime": {
     "end_time": "2021-03-29T07:01:51.308822Z",
     "start_time": "2021-03-29T07:01:51.307173Z"
    }
   },
   "outputs": [],
   "source": [
    "symbol = '.SPX'"
   ]
  },
  {
   "cell_type": "code",
   "execution_count": 36,
   "metadata": {
    "ExecuteTime": {
     "end_time": "2021-03-29T07:01:51.312689Z",
     "start_time": "2021-03-29T07:01:51.310224Z"
    }
   },
   "outputs": [],
   "source": [
    "data = pd.DataFrame(raw[symbol])"
   ]
  },
  {
   "cell_type": "code",
   "execution_count": 37,
   "metadata": {
    "ExecuteTime": {
     "end_time": "2021-03-29T07:01:51.317959Z",
     "start_time": "2021-03-29T07:01:51.314531Z"
    }
   },
   "outputs": [],
   "source": [
    "data.dropna(inplace = True)"
   ]
  },
  {
   "cell_type": "code",
   "execution_count": 38,
   "metadata": {
    "ExecuteTime": {
     "end_time": "2021-03-29T07:01:51.326917Z",
     "start_time": "2021-03-29T07:01:51.320248Z"
    }
   },
   "outputs": [
    {
     "name": "stdout",
     "output_type": "stream",
     "text": [
      "<class 'pandas.core.frame.DataFrame'>\n",
      "DatetimeIndex: 2516 entries, 2010-01-04 to 2019-12-31\n",
      "Data columns (total 1 columns):\n",
      " #   Column  Non-Null Count  Dtype  \n",
      "---  ------  --------------  -----  \n",
      " 0   .SPX    2516 non-null   float64\n",
      "dtypes: float64(1)\n",
      "memory usage: 39.3 KB\n"
     ]
    }
   ],
   "source": [
    "data.info()"
   ]
  },
  {
   "cell_type": "code",
   "execution_count": 39,
   "metadata": {
    "ExecuteTime": {
     "end_time": "2021-03-29T07:01:51.336751Z",
     "start_time": "2021-03-29T07:01:51.328827Z"
    }
   },
   "outputs": [
    {
     "data": {
      "text/html": [
       "<div>\n",
       "<style scoped>\n",
       "    .dataframe tbody tr th:only-of-type {\n",
       "        vertical-align: middle;\n",
       "    }\n",
       "\n",
       "    .dataframe tbody tr th {\n",
       "        vertical-align: top;\n",
       "    }\n",
       "\n",
       "    .dataframe thead th {\n",
       "        text-align: right;\n",
       "    }\n",
       "</style>\n",
       "<table border=\"1\" class=\"dataframe\">\n",
       "  <thead>\n",
       "    <tr style=\"text-align: right;\">\n",
       "      <th></th>\n",
       "      <th>.SPX</th>\n",
       "    </tr>\n",
       "    <tr>\n",
       "      <th>Date</th>\n",
       "      <th></th>\n",
       "    </tr>\n",
       "  </thead>\n",
       "  <tbody>\n",
       "    <tr>\n",
       "      <th>2010-01-04</th>\n",
       "      <td>1132.99</td>\n",
       "    </tr>\n",
       "    <tr>\n",
       "      <th>2010-01-05</th>\n",
       "      <td>1136.52</td>\n",
       "    </tr>\n",
       "    <tr>\n",
       "      <th>2010-01-06</th>\n",
       "      <td>1137.14</td>\n",
       "    </tr>\n",
       "    <tr>\n",
       "      <th>2010-01-07</th>\n",
       "      <td>1141.69</td>\n",
       "    </tr>\n",
       "    <tr>\n",
       "      <th>2010-01-08</th>\n",
       "      <td>1144.98</td>\n",
       "    </tr>\n",
       "    <tr>\n",
       "      <th>...</th>\n",
       "      <td>...</td>\n",
       "    </tr>\n",
       "    <tr>\n",
       "      <th>2019-12-24</th>\n",
       "      <td>3223.38</td>\n",
       "    </tr>\n",
       "    <tr>\n",
       "      <th>2019-12-26</th>\n",
       "      <td>3239.91</td>\n",
       "    </tr>\n",
       "    <tr>\n",
       "      <th>2019-12-27</th>\n",
       "      <td>3240.02</td>\n",
       "    </tr>\n",
       "    <tr>\n",
       "      <th>2019-12-30</th>\n",
       "      <td>3221.29</td>\n",
       "    </tr>\n",
       "    <tr>\n",
       "      <th>2019-12-31</th>\n",
       "      <td>3230.78</td>\n",
       "    </tr>\n",
       "  </tbody>\n",
       "</table>\n",
       "<p>2516 rows × 1 columns</p>\n",
       "</div>"
      ],
      "text/plain": [
       "               .SPX\n",
       "Date               \n",
       "2010-01-04  1132.99\n",
       "2010-01-05  1136.52\n",
       "2010-01-06  1137.14\n",
       "2010-01-07  1141.69\n",
       "2010-01-08  1144.98\n",
       "...             ...\n",
       "2019-12-24  3223.38\n",
       "2019-12-26  3239.91\n",
       "2019-12-27  3240.02\n",
       "2019-12-30  3221.29\n",
       "2019-12-31  3230.78\n",
       "\n",
       "[2516 rows x 1 columns]"
      ]
     },
     "execution_count": 39,
     "metadata": {},
     "output_type": "execute_result"
    }
   ],
   "source": [
    "data"
   ]
  },
  {
   "cell_type": "code",
   "execution_count": 40,
   "metadata": {
    "ExecuteTime": {
     "end_time": "2021-03-29T07:01:51.345106Z",
     "start_time": "2021-03-29T07:01:51.338584Z"
    }
   },
   "outputs": [],
   "source": [
    "lags = 5\n",
    "cols = []\n",
    "\n",
    "for lag in range(1, lags + 1):\n",
    "    # defines a column name for the current lag value\n",
    "    col = 'lag_{}'.format(lag)\n",
    "    # creates the lagged version of the market prices for the current lag value\n",
    "    data[col] = data[symbol].shift(lag)\n",
    "    # collects the column names for later use\n",
    "    cols.append(col)\n",
    "    "
   ]
  },
  {
   "cell_type": "code",
   "execution_count": 41,
   "metadata": {
    "ExecuteTime": {
     "end_time": "2021-03-29T07:01:51.356154Z",
     "start_time": "2021-03-29T07:01:51.346549Z"
    }
   },
   "outputs": [
    {
     "data": {
      "text/html": [
       "<div>\n",
       "<style scoped>\n",
       "    .dataframe tbody tr th:only-of-type {\n",
       "        vertical-align: middle;\n",
       "    }\n",
       "\n",
       "    .dataframe tbody tr th {\n",
       "        vertical-align: top;\n",
       "    }\n",
       "\n",
       "    .dataframe thead th {\n",
       "        text-align: right;\n",
       "    }\n",
       "</style>\n",
       "<table border=\"1\" class=\"dataframe\">\n",
       "  <thead>\n",
       "    <tr style=\"text-align: right;\">\n",
       "      <th></th>\n",
       "      <th>.SPX</th>\n",
       "      <th>lag_1</th>\n",
       "      <th>lag_2</th>\n",
       "      <th>lag_3</th>\n",
       "      <th>lag_4</th>\n",
       "      <th>lag_5</th>\n",
       "    </tr>\n",
       "    <tr>\n",
       "      <th>Date</th>\n",
       "      <th></th>\n",
       "      <th></th>\n",
       "      <th></th>\n",
       "      <th></th>\n",
       "      <th></th>\n",
       "      <th></th>\n",
       "    </tr>\n",
       "  </thead>\n",
       "  <tbody>\n",
       "    <tr>\n",
       "      <th>2010-01-04</th>\n",
       "      <td>1132.99</td>\n",
       "      <td>NaN</td>\n",
       "      <td>NaN</td>\n",
       "      <td>NaN</td>\n",
       "      <td>NaN</td>\n",
       "      <td>NaN</td>\n",
       "    </tr>\n",
       "    <tr>\n",
       "      <th>2010-01-05</th>\n",
       "      <td>1136.52</td>\n",
       "      <td>1132.99</td>\n",
       "      <td>NaN</td>\n",
       "      <td>NaN</td>\n",
       "      <td>NaN</td>\n",
       "      <td>NaN</td>\n",
       "    </tr>\n",
       "    <tr>\n",
       "      <th>2010-01-06</th>\n",
       "      <td>1137.14</td>\n",
       "      <td>1136.52</td>\n",
       "      <td>1132.99</td>\n",
       "      <td>NaN</td>\n",
       "      <td>NaN</td>\n",
       "      <td>NaN</td>\n",
       "    </tr>\n",
       "    <tr>\n",
       "      <th>2010-01-07</th>\n",
       "      <td>1141.69</td>\n",
       "      <td>1137.14</td>\n",
       "      <td>1136.52</td>\n",
       "      <td>1132.99</td>\n",
       "      <td>NaN</td>\n",
       "      <td>NaN</td>\n",
       "    </tr>\n",
       "    <tr>\n",
       "      <th>2010-01-08</th>\n",
       "      <td>1144.98</td>\n",
       "      <td>1141.69</td>\n",
       "      <td>1137.14</td>\n",
       "      <td>1136.52</td>\n",
       "      <td>1132.99</td>\n",
       "      <td>NaN</td>\n",
       "    </tr>\n",
       "    <tr>\n",
       "      <th>2010-01-11</th>\n",
       "      <td>1146.98</td>\n",
       "      <td>1144.98</td>\n",
       "      <td>1141.69</td>\n",
       "      <td>1137.14</td>\n",
       "      <td>1136.52</td>\n",
       "      <td>1132.99</td>\n",
       "    </tr>\n",
       "    <tr>\n",
       "      <th>2010-01-12</th>\n",
       "      <td>1136.22</td>\n",
       "      <td>1146.98</td>\n",
       "      <td>1144.98</td>\n",
       "      <td>1141.69</td>\n",
       "      <td>1137.14</td>\n",
       "      <td>1136.52</td>\n",
       "    </tr>\n",
       "    <tr>\n",
       "      <th>2010-01-13</th>\n",
       "      <td>1145.68</td>\n",
       "      <td>1136.22</td>\n",
       "      <td>1146.98</td>\n",
       "      <td>1144.98</td>\n",
       "      <td>1141.69</td>\n",
       "      <td>1137.14</td>\n",
       "    </tr>\n",
       "    <tr>\n",
       "      <th>2010-01-14</th>\n",
       "      <td>1148.46</td>\n",
       "      <td>1145.68</td>\n",
       "      <td>1136.22</td>\n",
       "      <td>1146.98</td>\n",
       "      <td>1144.98</td>\n",
       "      <td>1141.69</td>\n",
       "    </tr>\n",
       "    <tr>\n",
       "      <th>2010-01-15</th>\n",
       "      <td>1136.03</td>\n",
       "      <td>1148.46</td>\n",
       "      <td>1145.68</td>\n",
       "      <td>1136.22</td>\n",
       "      <td>1146.98</td>\n",
       "      <td>1144.98</td>\n",
       "    </tr>\n",
       "  </tbody>\n",
       "</table>\n",
       "</div>"
      ],
      "text/plain": [
       "               .SPX    lag_1    lag_2    lag_3    lag_4    lag_5\n",
       "Date                                                            \n",
       "2010-01-04  1132.99      NaN      NaN      NaN      NaN      NaN\n",
       "2010-01-05  1136.52  1132.99      NaN      NaN      NaN      NaN\n",
       "2010-01-06  1137.14  1136.52  1132.99      NaN      NaN      NaN\n",
       "2010-01-07  1141.69  1137.14  1136.52  1132.99      NaN      NaN\n",
       "2010-01-08  1144.98  1141.69  1137.14  1136.52  1132.99      NaN\n",
       "2010-01-11  1146.98  1144.98  1141.69  1137.14  1136.52  1132.99\n",
       "2010-01-12  1136.22  1146.98  1144.98  1141.69  1137.14  1136.52\n",
       "2010-01-13  1145.68  1136.22  1146.98  1144.98  1141.69  1137.14\n",
       "2010-01-14  1148.46  1145.68  1136.22  1146.98  1144.98  1141.69\n",
       "2010-01-15  1136.03  1148.46  1145.68  1136.22  1146.98  1144.98"
      ]
     },
     "execution_count": 41,
     "metadata": {},
     "output_type": "execute_result"
    }
   ],
   "source": [
    "data.head(10)"
   ]
  },
  {
   "cell_type": "code",
   "execution_count": 42,
   "metadata": {
    "ExecuteTime": {
     "end_time": "2021-03-29T07:01:51.361437Z",
     "start_time": "2021-03-29T07:01:51.357731Z"
    }
   },
   "outputs": [],
   "source": [
    "data.dropna(inplace = True)"
   ]
  },
  {
   "cell_type": "code",
   "execution_count": 43,
   "metadata": {
    "ExecuteTime": {
     "end_time": "2021-03-29T07:01:51.373076Z",
     "start_time": "2021-03-29T07:01:51.363262Z"
    }
   },
   "outputs": [
    {
     "data": {
      "text/html": [
       "<div>\n",
       "<style scoped>\n",
       "    .dataframe tbody tr th:only-of-type {\n",
       "        vertical-align: middle;\n",
       "    }\n",
       "\n",
       "    .dataframe tbody tr th {\n",
       "        vertical-align: top;\n",
       "    }\n",
       "\n",
       "    .dataframe thead th {\n",
       "        text-align: right;\n",
       "    }\n",
       "</style>\n",
       "<table border=\"1\" class=\"dataframe\">\n",
       "  <thead>\n",
       "    <tr style=\"text-align: right;\">\n",
       "      <th></th>\n",
       "      <th>.SPX</th>\n",
       "      <th>lag_1</th>\n",
       "      <th>lag_2</th>\n",
       "      <th>lag_3</th>\n",
       "      <th>lag_4</th>\n",
       "      <th>lag_5</th>\n",
       "    </tr>\n",
       "    <tr>\n",
       "      <th>Date</th>\n",
       "      <th></th>\n",
       "      <th></th>\n",
       "      <th></th>\n",
       "      <th></th>\n",
       "      <th></th>\n",
       "      <th></th>\n",
       "    </tr>\n",
       "  </thead>\n",
       "  <tbody>\n",
       "    <tr>\n",
       "      <th>2010-01-11</th>\n",
       "      <td>1146.98</td>\n",
       "      <td>1144.98</td>\n",
       "      <td>1141.69</td>\n",
       "      <td>1137.14</td>\n",
       "      <td>1136.52</td>\n",
       "      <td>1132.99</td>\n",
       "    </tr>\n",
       "    <tr>\n",
       "      <th>2010-01-12</th>\n",
       "      <td>1136.22</td>\n",
       "      <td>1146.98</td>\n",
       "      <td>1144.98</td>\n",
       "      <td>1141.69</td>\n",
       "      <td>1137.14</td>\n",
       "      <td>1136.52</td>\n",
       "    </tr>\n",
       "    <tr>\n",
       "      <th>2010-01-13</th>\n",
       "      <td>1145.68</td>\n",
       "      <td>1136.22</td>\n",
       "      <td>1146.98</td>\n",
       "      <td>1144.98</td>\n",
       "      <td>1141.69</td>\n",
       "      <td>1137.14</td>\n",
       "    </tr>\n",
       "    <tr>\n",
       "      <th>2010-01-14</th>\n",
       "      <td>1148.46</td>\n",
       "      <td>1145.68</td>\n",
       "      <td>1136.22</td>\n",
       "      <td>1146.98</td>\n",
       "      <td>1144.98</td>\n",
       "      <td>1141.69</td>\n",
       "    </tr>\n",
       "    <tr>\n",
       "      <th>2010-01-15</th>\n",
       "      <td>1136.03</td>\n",
       "      <td>1148.46</td>\n",
       "      <td>1145.68</td>\n",
       "      <td>1136.22</td>\n",
       "      <td>1146.98</td>\n",
       "      <td>1144.98</td>\n",
       "    </tr>\n",
       "    <tr>\n",
       "      <th>2010-01-19</th>\n",
       "      <td>1150.23</td>\n",
       "      <td>1136.03</td>\n",
       "      <td>1148.46</td>\n",
       "      <td>1145.68</td>\n",
       "      <td>1136.22</td>\n",
       "      <td>1146.98</td>\n",
       "    </tr>\n",
       "    <tr>\n",
       "      <th>2010-01-20</th>\n",
       "      <td>1138.04</td>\n",
       "      <td>1150.23</td>\n",
       "      <td>1136.03</td>\n",
       "      <td>1148.46</td>\n",
       "      <td>1145.68</td>\n",
       "      <td>1136.22</td>\n",
       "    </tr>\n",
       "    <tr>\n",
       "      <th>2010-01-21</th>\n",
       "      <td>1116.48</td>\n",
       "      <td>1138.04</td>\n",
       "      <td>1150.23</td>\n",
       "      <td>1136.03</td>\n",
       "      <td>1148.46</td>\n",
       "      <td>1145.68</td>\n",
       "    </tr>\n",
       "    <tr>\n",
       "      <th>2010-01-22</th>\n",
       "      <td>1091.76</td>\n",
       "      <td>1116.48</td>\n",
       "      <td>1138.04</td>\n",
       "      <td>1150.23</td>\n",
       "      <td>1136.03</td>\n",
       "      <td>1148.46</td>\n",
       "    </tr>\n",
       "    <tr>\n",
       "      <th>2010-01-25</th>\n",
       "      <td>1096.78</td>\n",
       "      <td>1091.76</td>\n",
       "      <td>1116.48</td>\n",
       "      <td>1138.04</td>\n",
       "      <td>1150.23</td>\n",
       "      <td>1136.03</td>\n",
       "    </tr>\n",
       "  </tbody>\n",
       "</table>\n",
       "</div>"
      ],
      "text/plain": [
       "               .SPX    lag_1    lag_2    lag_3    lag_4    lag_5\n",
       "Date                                                            \n",
       "2010-01-11  1146.98  1144.98  1141.69  1137.14  1136.52  1132.99\n",
       "2010-01-12  1136.22  1146.98  1144.98  1141.69  1137.14  1136.52\n",
       "2010-01-13  1145.68  1136.22  1146.98  1144.98  1141.69  1137.14\n",
       "2010-01-14  1148.46  1145.68  1136.22  1146.98  1144.98  1141.69\n",
       "2010-01-15  1136.03  1148.46  1145.68  1136.22  1146.98  1144.98\n",
       "2010-01-19  1150.23  1136.03  1148.46  1145.68  1136.22  1146.98\n",
       "2010-01-20  1138.04  1150.23  1136.03  1148.46  1145.68  1136.22\n",
       "2010-01-21  1116.48  1138.04  1150.23  1136.03  1148.46  1145.68\n",
       "2010-01-22  1091.76  1116.48  1138.04  1150.23  1136.03  1148.46\n",
       "2010-01-25  1096.78  1091.76  1116.48  1138.04  1150.23  1136.03"
      ]
     },
     "execution_count": 43,
     "metadata": {},
     "output_type": "execute_result"
    }
   ],
   "source": [
    "data.head(10)"
   ]
  },
  {
   "cell_type": "code",
   "execution_count": 44,
   "metadata": {
    "ExecuteTime": {
     "end_time": "2021-03-29T07:01:51.381225Z",
     "start_time": "2021-03-29T07:01:51.375155Z"
    }
   },
   "outputs": [],
   "source": [
    "# Returns the least-squares solution to a linear matrix equation\n",
    "reg = np.linalg.lstsq(data[cols], data[symbol], rcond = None)[0]"
   ]
  },
  {
   "cell_type": "code",
   "execution_count": 45,
   "metadata": {
    "ExecuteTime": {
     "end_time": "2021-03-29T07:01:51.387168Z",
     "start_time": "2021-03-29T07:01:51.383555Z"
    }
   },
   "outputs": [
    {
     "data": {
      "text/plain": [
       "array([ 0.96896118,  0.0089709 ,  0.02298002, -0.02452159,  0.02404237])"
      ]
     },
     "execution_count": 45,
     "metadata": {},
     "output_type": "execute_result"
    }
   ],
   "source": [
    "reg"
   ]
  },
  {
   "cell_type": "code",
   "execution_count": 46,
   "metadata": {
    "ExecuteTime": {
     "end_time": "2021-03-29T07:01:51.392713Z",
     "start_time": "2021-03-29T07:01:51.389529Z"
    }
   },
   "outputs": [
    {
     "data": {
      "text/plain": [
       "['lag_1', 'lag_2', 'lag_3', 'lag_4', 'lag_5']"
      ]
     },
     "execution_count": 46,
     "metadata": {},
     "output_type": "execute_result"
    }
   ],
   "source": [
    "cols"
   ]
  },
  {
   "cell_type": "code",
   "execution_count": 47,
   "metadata": {
    "ExecuteTime": {
     "end_time": "2021-03-29T07:01:51.398429Z",
     "start_time": "2021-03-29T07:01:51.395058Z"
    }
   },
   "outputs": [
    {
     "data": {
      "text/plain": [
       "'.SPX'"
      ]
     },
     "execution_count": 47,
     "metadata": {},
     "output_type": "execute_result"
    }
   ],
   "source": [
    "symbol"
   ]
  },
  {
   "cell_type": "code",
   "execution_count": 48,
   "metadata": {
    "ExecuteTime": {
     "end_time": "2021-03-29T07:01:51.404527Z",
     "start_time": "2021-03-29T07:01:51.400797Z"
    }
   },
   "outputs": [
    {
     "data": {
      "text/plain": [
       "array([ 0.969,  0.009,  0.023, -0.025,  0.024])"
      ]
     },
     "execution_count": 48,
     "metadata": {},
     "output_type": "execute_result"
    }
   ],
   "source": [
    "reg.round(3)"
   ]
  },
  {
   "cell_type": "markdown",
   "metadata": {},
   "source": [
    "Using NumPy, the OLS regression is straightforward to implement. As the optimal regression parameters show, lag_1 is indeed the most important one in predicting the market price based on OLS regression. Its value is close to 1. The other four values are rather close to zero. The following figure visualizes the optimal regression parameter values."
   ]
  },
  {
   "cell_type": "code",
   "execution_count": 49,
   "metadata": {
    "ExecuteTime": {
     "end_time": "2021-03-29T07:01:52.285039Z",
     "start_time": "2021-03-29T07:01:51.406618Z"
    }
   },
   "outputs": [
    {
     "data": {
      "image/png": "[encoded data removed]",
      "text/plain": [
       "<Figure size 864x576 with 1 Axes>"
      ]
     },
     "metadata": {
      "needs_background": "light"
     },
     "output_type": "display_data"
    }
   ],
   "source": [
    "plt.figure(figsize = (12, 8))\n",
    "plt.bar(cols, reg)\n",
    "plt.savefig('../WORK/plot_03.png', \n",
    "           dpi = 500)"
   ]
  },
  {
   "cell_type": "code",
   "execution_count": 50,
   "metadata": {
    "ExecuteTime": {
     "end_time": "2021-03-29T07:01:52.289485Z",
     "start_time": "2021-03-29T07:01:52.286653Z"
    }
   },
   "outputs": [
    {
     "data": {
      "text/plain": [
       "['lag_1', 'lag_2', 'lag_3', 'lag_4', 'lag_5']"
      ]
     },
     "execution_count": 50,
     "metadata": {},
     "output_type": "execute_result"
    }
   ],
   "source": [
    "cols"
   ]
  },
  {
   "cell_type": "code",
   "execution_count": 51,
   "metadata": {
    "ExecuteTime": {
     "end_time": "2021-03-29T07:01:52.296178Z",
     "start_time": "2021-03-29T07:01:52.291560Z"
    }
   },
   "outputs": [],
   "source": [
    "data['prediction'] = np.dot(data[cols], reg)"
   ]
  },
  {
   "cell_type": "code",
   "execution_count": 52,
   "metadata": {
    "ExecuteTime": {
     "end_time": "2021-03-29T07:01:52.302496Z",
     "start_time": "2021-03-29T07:01:52.298072Z"
    }
   },
   "outputs": [
    {
     "data": {
      "text/plain": [
       "Date\n",
       "2010-01-11    1145.185136\n",
       "2010-01-12    1147.326798\n",
       "2010-01-13    1136.897655\n",
       "2010-01-14    1146.042177\n",
       "2010-01-15    1148.603545\n",
       "                 ...     \n",
       "2019-12-24    3225.001135\n",
       "2019-12-26    3224.397831\n",
       "2019-12-27    3240.426678\n",
       "2019-12-30    3240.979731\n",
       "2019-12-31    3223.294461\n",
       "Name: prediction, Length: 2511, dtype: float64"
      ]
     },
     "execution_count": 52,
     "metadata": {},
     "output_type": "execute_result"
    }
   ],
   "source": [
    "data['prediction']"
   ]
  },
  {
   "cell_type": "code",
   "execution_count": 53,
   "metadata": {
    "ExecuteTime": {
     "end_time": "2021-03-29T07:01:52.515403Z",
     "start_time": "2021-03-29T07:01:52.304166Z"
    }
   },
   "outputs": [
    {
     "data": {
      "image/png": "[encoded data removed]",
      "text/plain": [
       "<Figure size 864x576 with 1 Axes>"
      ]
     },
     "metadata": {
      "needs_background": "light"
     },
     "output_type": "display_data"
    }
   ],
   "source": [
    "data[[symbol, 'prediction']].iloc[-70: ].plot(figsize = (12, 8))\n",
    "plt.show()"
   ]
  },
  {
   "cell_type": "markdown",
   "metadata": {},
   "source": [
    "When using the optimal results to visualize the prediction values as compared to the original index values for the S&P 500, it becomes clear that indeed lag_1 is basically what is used to come up with the prediction value. Graphically speaking, the prediction line in the above figure is the original time series shifted by one day to the right (with some minor adjustments).\n",
    "\n",
    "All in all, __the brief analysis in this section reveals some support for both the Random Walk Hypothesis (RWH) and the Efficient Market Hypothesis (EMH)__. For sure, the analysis is done for a single stock index only and uses a rather specific parameterization - but this can easily be widened to incorporate multiple financial instruments across multiple asset classes, different values for the number of lags, etc. In general, __one will find out that the results are qualitatively more or less the same__. After all, the RWH and EMH are among the financial theories that have broad empirical support. In that sense, __any algorithmic trading strategy must prove its worth by proving that the RWH does not apply in general. This for sure is a tough hurdle__."
   ]
  },
  {
   "cell_type": "code",
   "execution_count": 54,
   "metadata": {
    "ExecuteTime": {
     "end_time": "2021-03-29T07:01:52.528318Z",
     "start_time": "2021-03-29T07:01:52.516905Z"
    }
   },
   "outputs": [
    {
     "data": {
      "text/html": [
       "<div>\n",
       "<style scoped>\n",
       "    .dataframe tbody tr th:only-of-type {\n",
       "        vertical-align: middle;\n",
       "    }\n",
       "\n",
       "    .dataframe tbody tr th {\n",
       "        vertical-align: top;\n",
       "    }\n",
       "\n",
       "    .dataframe thead th {\n",
       "        text-align: right;\n",
       "    }\n",
       "</style>\n",
       "<table border=\"1\" class=\"dataframe\">\n",
       "  <thead>\n",
       "    <tr style=\"text-align: right;\">\n",
       "      <th></th>\n",
       "      <th>.SPX</th>\n",
       "      <th>lag_1</th>\n",
       "      <th>lag_2</th>\n",
       "      <th>lag_3</th>\n",
       "      <th>lag_4</th>\n",
       "      <th>lag_5</th>\n",
       "      <th>prediction</th>\n",
       "    </tr>\n",
       "    <tr>\n",
       "      <th>Date</th>\n",
       "      <th></th>\n",
       "      <th></th>\n",
       "      <th></th>\n",
       "      <th></th>\n",
       "      <th></th>\n",
       "      <th></th>\n",
       "      <th></th>\n",
       "    </tr>\n",
       "  </thead>\n",
       "  <tbody>\n",
       "    <tr>\n",
       "      <th>2010-01-11</th>\n",
       "      <td>1146.98</td>\n",
       "      <td>1144.98</td>\n",
       "      <td>1141.69</td>\n",
       "      <td>1137.14</td>\n",
       "      <td>1136.52</td>\n",
       "      <td>1132.99</td>\n",
       "      <td>1145.185136</td>\n",
       "    </tr>\n",
       "    <tr>\n",
       "      <th>2010-01-12</th>\n",
       "      <td>1136.22</td>\n",
       "      <td>1146.98</td>\n",
       "      <td>1144.98</td>\n",
       "      <td>1141.69</td>\n",
       "      <td>1137.14</td>\n",
       "      <td>1136.52</td>\n",
       "      <td>1147.326798</td>\n",
       "    </tr>\n",
       "    <tr>\n",
       "      <th>2010-01-13</th>\n",
       "      <td>1145.68</td>\n",
       "      <td>1136.22</td>\n",
       "      <td>1146.98</td>\n",
       "      <td>1144.98</td>\n",
       "      <td>1141.69</td>\n",
       "      <td>1137.14</td>\n",
       "      <td>1136.897655</td>\n",
       "    </tr>\n",
       "    <tr>\n",
       "      <th>2010-01-14</th>\n",
       "      <td>1148.46</td>\n",
       "      <td>1145.68</td>\n",
       "      <td>1136.22</td>\n",
       "      <td>1146.98</td>\n",
       "      <td>1144.98</td>\n",
       "      <td>1141.69</td>\n",
       "      <td>1146.042177</td>\n",
       "    </tr>\n",
       "    <tr>\n",
       "      <th>2010-01-15</th>\n",
       "      <td>1136.03</td>\n",
       "      <td>1148.46</td>\n",
       "      <td>1145.68</td>\n",
       "      <td>1136.22</td>\n",
       "      <td>1146.98</td>\n",
       "      <td>1144.98</td>\n",
       "      <td>1148.603545</td>\n",
       "    </tr>\n",
       "    <tr>\n",
       "      <th>...</th>\n",
       "      <td>...</td>\n",
       "      <td>...</td>\n",
       "      <td>...</td>\n",
       "      <td>...</td>\n",
       "      <td>...</td>\n",
       "      <td>...</td>\n",
       "      <td>...</td>\n",
       "    </tr>\n",
       "    <tr>\n",
       "      <th>2019-12-24</th>\n",
       "      <td>3223.38</td>\n",
       "      <td>3224.01</td>\n",
       "      <td>3221.22</td>\n",
       "      <td>3205.37</td>\n",
       "      <td>3191.14</td>\n",
       "      <td>3192.52</td>\n",
       "      <td>3225.001135</td>\n",
       "    </tr>\n",
       "    <tr>\n",
       "      <th>2019-12-26</th>\n",
       "      <td>3239.91</td>\n",
       "      <td>3223.38</td>\n",
       "      <td>3224.01</td>\n",
       "      <td>3221.22</td>\n",
       "      <td>3205.37</td>\n",
       "      <td>3191.14</td>\n",
       "      <td>3224.397831</td>\n",
       "    </tr>\n",
       "    <tr>\n",
       "      <th>2019-12-27</th>\n",
       "      <td>3240.02</td>\n",
       "      <td>3239.91</td>\n",
       "      <td>3223.38</td>\n",
       "      <td>3224.01</td>\n",
       "      <td>3221.22</td>\n",
       "      <td>3205.37</td>\n",
       "      <td>3240.426678</td>\n",
       "    </tr>\n",
       "    <tr>\n",
       "      <th>2019-12-30</th>\n",
       "      <td>3221.29</td>\n",
       "      <td>3240.02</td>\n",
       "      <td>3239.91</td>\n",
       "      <td>3223.38</td>\n",
       "      <td>3224.01</td>\n",
       "      <td>3221.22</td>\n",
       "      <td>3240.979731</td>\n",
       "    </tr>\n",
       "    <tr>\n",
       "      <th>2019-12-31</th>\n",
       "      <td>3230.78</td>\n",
       "      <td>3221.29</td>\n",
       "      <td>3240.02</td>\n",
       "      <td>3239.91</td>\n",
       "      <td>3223.38</td>\n",
       "      <td>3224.01</td>\n",
       "      <td>3223.294461</td>\n",
       "    </tr>\n",
       "  </tbody>\n",
       "</table>\n",
       "<p>2511 rows × 7 columns</p>\n",
       "</div>"
      ],
      "text/plain": [
       "               .SPX    lag_1    lag_2    lag_3    lag_4    lag_5   prediction\n",
       "Date                                                                         \n",
       "2010-01-11  1146.98  1144.98  1141.69  1137.14  1136.52  1132.99  1145.185136\n",
       "2010-01-12  1136.22  1146.98  1144.98  1141.69  1137.14  1136.52  1147.326798\n",
       "2010-01-13  1145.68  1136.22  1146.98  1144.98  1141.69  1137.14  1136.897655\n",
       "2010-01-14  1148.46  1145.68  1136.22  1146.98  1144.98  1141.69  1146.042177\n",
       "2010-01-15  1136.03  1148.46  1145.68  1136.22  1146.98  1144.98  1148.603545\n",
       "...             ...      ...      ...      ...      ...      ...          ...\n",
       "2019-12-24  3223.38  3224.01  3221.22  3205.37  3191.14  3192.52  3225.001135\n",
       "2019-12-26  3239.91  3223.38  3224.01  3221.22  3205.37  3191.14  3224.397831\n",
       "2019-12-27  3240.02  3239.91  3223.38  3224.01  3221.22  3205.37  3240.426678\n",
       "2019-12-30  3221.29  3240.02  3239.91  3223.38  3224.01  3221.22  3240.979731\n",
       "2019-12-31  3230.78  3221.29  3240.02  3239.91  3223.38  3224.01  3223.294461\n",
       "\n",
       "[2511 rows x 7 columns]"
      ]
     },
     "execution_count": 54,
     "metadata": {},
     "output_type": "execute_result"
    }
   ],
   "source": [
    "data"
   ]
  },
  {
   "cell_type": "markdown",
   "metadata": {},
   "source": [
    "# Linear OLS Regression"
   ]
  },
  {
   "cell_type": "markdown",
   "metadata": {},
   "source": [
    "We now apply linear OLS regression to predict the direction of market movements based on historical log returns. To keep things simple, only two features are used. The first feature (lag_1) representes the log returns of the financial time series lagged by one day. The second feature (lag_2) lags the log returns by two days. __Log returns__ - in contrast to prices - are __stationary__ in general, which often is a necessary condition for the application of a statistical and Machine Learning Algorithms.\n",
    "\n",
    "The basic idea behind the usage of lagged log returns as features is that they might be informative in predicting future returns. For example, one might hypothesize that after two downward movements an upward movement is likely (\"Mean reversion\"), or, to the contrary, that another downward movement is more likely (\"Momentum\" or \"Trend\"). The application of regression techniques allows the formalization of such informal reasonings."
   ]
  },
  {
   "cell_type": "markdown",
   "metadata": {},
   "source": [
    "## Data"
   ]
  },
  {
   "cell_type": "markdown",
   "metadata": {},
   "source": [
    "We will study the distribution of log returns for the EUR/USD exchange rate."
   ]
  },
  {
   "cell_type": "code",
   "execution_count": 55,
   "metadata": {
    "ExecuteTime": {
     "end_time": "2021-03-29T07:01:52.532628Z",
     "start_time": "2021-03-29T07:01:52.530336Z"
    }
   },
   "outputs": [],
   "source": [
    "import numpy as np\n",
    "import pandas as pd\n",
    "import datetime as dt\n",
    "from pylab import mpl, plt\n",
    "import warnings"
   ]
  },
  {
   "cell_type": "code",
   "execution_count": 56,
   "metadata": {
    "ExecuteTime": {
     "end_time": "2021-03-29T07:01:52.537964Z",
     "start_time": "2021-03-29T07:01:52.534424Z"
    }
   },
   "outputs": [],
   "source": [
    "warnings.simplefilter('ignore')\n",
    "plt.style.use('seaborn')\n",
    "mpl.rcParams['font.family'] = 'serif'\n",
    "np.random.seed(1000)\n",
    "%matplotlib inline"
   ]
  },
  {
   "cell_type": "code",
   "execution_count": 57,
   "metadata": {
    "ExecuteTime": {
     "end_time": "2021-03-29T07:01:52.549033Z",
     "start_time": "2021-03-29T07:01:52.539975Z"
    }
   },
   "outputs": [],
   "source": [
    "raw = pd.read_csv('../DataSets/fin_dat.csv', index_col = 0, parse_dates = True)"
   ]
  },
  {
   "cell_type": "code",
   "execution_count": 58,
   "metadata": {
    "ExecuteTime": {
     "end_time": "2021-03-29T07:01:52.565803Z",
     "start_time": "2021-03-29T07:01:52.550786Z"
    }
   },
   "outputs": [
    {
     "data": {
      "text/html": [
       "<div>\n",
       "<style scoped>\n",
       "    .dataframe tbody tr th:only-of-type {\n",
       "        vertical-align: middle;\n",
       "    }\n",
       "\n",
       "    .dataframe tbody tr th {\n",
       "        vertical-align: top;\n",
       "    }\n",
       "\n",
       "    .dataframe thead th {\n",
       "        text-align: right;\n",
       "    }\n",
       "</style>\n",
       "<table border=\"1\" class=\"dataframe\">\n",
       "  <thead>\n",
       "    <tr style=\"text-align: right;\">\n",
       "      <th></th>\n",
       "      <th>AAPL.O</th>\n",
       "      <th>MSFT.O</th>\n",
       "      <th>INTC.O</th>\n",
       "      <th>AMZN.O</th>\n",
       "      <th>GS.N</th>\n",
       "      <th>SPY</th>\n",
       "      <th>.SPX</th>\n",
       "      <th>.VIX</th>\n",
       "      <th>EUR=</th>\n",
       "      <th>XAU=</th>\n",
       "      <th>GDX</th>\n",
       "      <th>GLD</th>\n",
       "    </tr>\n",
       "    <tr>\n",
       "      <th>Date</th>\n",
       "      <th></th>\n",
       "      <th></th>\n",
       "      <th></th>\n",
       "      <th></th>\n",
       "      <th></th>\n",
       "      <th></th>\n",
       "      <th></th>\n",
       "      <th></th>\n",
       "      <th></th>\n",
       "      <th></th>\n",
       "      <th></th>\n",
       "      <th></th>\n",
       "    </tr>\n",
       "  </thead>\n",
       "  <tbody>\n",
       "    <tr>\n",
       "      <th>2010-01-01</th>\n",
       "      <td>NaN</td>\n",
       "      <td>NaN</td>\n",
       "      <td>NaN</td>\n",
       "      <td>NaN</td>\n",
       "      <td>NaN</td>\n",
       "      <td>NaN</td>\n",
       "      <td>NaN</td>\n",
       "      <td>NaN</td>\n",
       "      <td>1.4323</td>\n",
       "      <td>1096.3500</td>\n",
       "      <td>NaN</td>\n",
       "      <td>NaN</td>\n",
       "    </tr>\n",
       "    <tr>\n",
       "      <th>2010-01-04</th>\n",
       "      <td>30.572827</td>\n",
       "      <td>30.950</td>\n",
       "      <td>20.88</td>\n",
       "      <td>133.90</td>\n",
       "      <td>173.08</td>\n",
       "      <td>113.33</td>\n",
       "      <td>1132.99</td>\n",
       "      <td>20.04</td>\n",
       "      <td>1.4411</td>\n",
       "      <td>1120.0000</td>\n",
       "      <td>47.71</td>\n",
       "      <td>109.80</td>\n",
       "    </tr>\n",
       "    <tr>\n",
       "      <th>2010-01-05</th>\n",
       "      <td>30.625684</td>\n",
       "      <td>30.960</td>\n",
       "      <td>20.87</td>\n",
       "      <td>134.69</td>\n",
       "      <td>176.14</td>\n",
       "      <td>113.63</td>\n",
       "      <td>1136.52</td>\n",
       "      <td>19.35</td>\n",
       "      <td>1.4368</td>\n",
       "      <td>1118.6500</td>\n",
       "      <td>48.17</td>\n",
       "      <td>109.70</td>\n",
       "    </tr>\n",
       "    <tr>\n",
       "      <th>2010-01-06</th>\n",
       "      <td>30.138541</td>\n",
       "      <td>30.770</td>\n",
       "      <td>20.80</td>\n",
       "      <td>132.25</td>\n",
       "      <td>174.26</td>\n",
       "      <td>113.71</td>\n",
       "      <td>1137.14</td>\n",
       "      <td>19.16</td>\n",
       "      <td>1.4412</td>\n",
       "      <td>1138.5000</td>\n",
       "      <td>49.34</td>\n",
       "      <td>111.51</td>\n",
       "    </tr>\n",
       "    <tr>\n",
       "      <th>2010-01-07</th>\n",
       "      <td>30.082827</td>\n",
       "      <td>30.452</td>\n",
       "      <td>20.60</td>\n",
       "      <td>130.00</td>\n",
       "      <td>177.67</td>\n",
       "      <td>114.19</td>\n",
       "      <td>1141.69</td>\n",
       "      <td>19.06</td>\n",
       "      <td>1.4318</td>\n",
       "      <td>1131.9000</td>\n",
       "      <td>49.10</td>\n",
       "      <td>110.82</td>\n",
       "    </tr>\n",
       "    <tr>\n",
       "      <th>...</th>\n",
       "      <td>...</td>\n",
       "      <td>...</td>\n",
       "      <td>...</td>\n",
       "      <td>...</td>\n",
       "      <td>...</td>\n",
       "      <td>...</td>\n",
       "      <td>...</td>\n",
       "      <td>...</td>\n",
       "      <td>...</td>\n",
       "      <td>...</td>\n",
       "      <td>...</td>\n",
       "      <td>...</td>\n",
       "    </tr>\n",
       "    <tr>\n",
       "      <th>2019-12-26</th>\n",
       "      <td>289.910000</td>\n",
       "      <td>158.670</td>\n",
       "      <td>59.82</td>\n",
       "      <td>1868.77</td>\n",
       "      <td>231.21</td>\n",
       "      <td>322.94</td>\n",
       "      <td>3239.91</td>\n",
       "      <td>12.65</td>\n",
       "      <td>1.1096</td>\n",
       "      <td>1511.2979</td>\n",
       "      <td>29.08</td>\n",
       "      <td>142.38</td>\n",
       "    </tr>\n",
       "    <tr>\n",
       "      <th>2019-12-27</th>\n",
       "      <td>289.800000</td>\n",
       "      <td>158.960</td>\n",
       "      <td>60.08</td>\n",
       "      <td>1869.80</td>\n",
       "      <td>230.66</td>\n",
       "      <td>322.86</td>\n",
       "      <td>3240.02</td>\n",
       "      <td>13.43</td>\n",
       "      <td>1.1175</td>\n",
       "      <td>1510.4167</td>\n",
       "      <td>28.87</td>\n",
       "      <td>142.33</td>\n",
       "    </tr>\n",
       "    <tr>\n",
       "      <th>2019-12-30</th>\n",
       "      <td>291.520000</td>\n",
       "      <td>157.590</td>\n",
       "      <td>59.62</td>\n",
       "      <td>1846.89</td>\n",
       "      <td>229.80</td>\n",
       "      <td>321.08</td>\n",
       "      <td>3221.29</td>\n",
       "      <td>14.82</td>\n",
       "      <td>1.1197</td>\n",
       "      <td>1515.1230</td>\n",
       "      <td>29.49</td>\n",
       "      <td>142.63</td>\n",
       "    </tr>\n",
       "    <tr>\n",
       "      <th>2019-12-31</th>\n",
       "      <td>293.650000</td>\n",
       "      <td>157.700</td>\n",
       "      <td>59.85</td>\n",
       "      <td>1847.84</td>\n",
       "      <td>229.93</td>\n",
       "      <td>321.86</td>\n",
       "      <td>3230.78</td>\n",
       "      <td>13.78</td>\n",
       "      <td>1.1210</td>\n",
       "      <td>1517.0100</td>\n",
       "      <td>29.28</td>\n",
       "      <td>142.90</td>\n",
       "    </tr>\n",
       "    <tr>\n",
       "      <th>2020-01-01</th>\n",
       "      <td>NaN</td>\n",
       "      <td>NaN</td>\n",
       "      <td>NaN</td>\n",
       "      <td>NaN</td>\n",
       "      <td>NaN</td>\n",
       "      <td>NaN</td>\n",
       "      <td>NaN</td>\n",
       "      <td>NaN</td>\n",
       "      <td>1.1210</td>\n",
       "      <td>1516.8900</td>\n",
       "      <td>NaN</td>\n",
       "      <td>NaN</td>\n",
       "    </tr>\n",
       "  </tbody>\n",
       "</table>\n",
       "<p>2609 rows × 12 columns</p>\n",
       "</div>"
      ],
      "text/plain": [
       "                AAPL.O   MSFT.O  INTC.O   AMZN.O    GS.N     SPY     .SPX  \\\n",
       "Date                                                                        \n",
       "2010-01-01         NaN      NaN     NaN      NaN     NaN     NaN      NaN   \n",
       "2010-01-04   30.572827   30.950   20.88   133.90  173.08  113.33  1132.99   \n",
       "2010-01-05   30.625684   30.960   20.87   134.69  176.14  113.63  1136.52   \n",
       "2010-01-06   30.138541   30.770   20.80   132.25  174.26  113.71  1137.14   \n",
       "2010-01-07   30.082827   30.452   20.60   130.00  177.67  114.19  1141.69   \n",
       "...                ...      ...     ...      ...     ...     ...      ...   \n",
       "2019-12-26  289.910000  158.670   59.82  1868.77  231.21  322.94  3239.91   \n",
       "2019-12-27  289.800000  158.960   60.08  1869.80  230.66  322.86  3240.02   \n",
       "2019-12-30  291.520000  157.590   59.62  1846.89  229.80  321.08  3221.29   \n",
       "2019-12-31  293.650000  157.700   59.85  1847.84  229.93  321.86  3230.78   \n",
       "2020-01-01         NaN      NaN     NaN      NaN     NaN     NaN      NaN   \n",
       "\n",
       "             .VIX    EUR=       XAU=    GDX     GLD  \n",
       "Date                                                 \n",
       "2010-01-01    NaN  1.4323  1096.3500    NaN     NaN  \n",
       "2010-01-04  20.04  1.4411  1120.0000  47.71  109.80  \n",
       "2010-01-05  19.35  1.4368  1118.6500  48.17  109.70  \n",
       "2010-01-06  19.16  1.4412  1138.5000  49.34  111.51  \n",
       "2010-01-07  19.06  1.4318  1131.9000  49.10  110.82  \n",
       "...           ...     ...        ...    ...     ...  \n",
       "2019-12-26  12.65  1.1096  1511.2979  29.08  142.38  \n",
       "2019-12-27  13.43  1.1175  1510.4167  28.87  142.33  \n",
       "2019-12-30  14.82  1.1197  1515.1230  29.49  142.63  \n",
       "2019-12-31  13.78  1.1210  1517.0100  29.28  142.90  \n",
       "2020-01-01    NaN  1.1210  1516.8900    NaN     NaN  \n",
       "\n",
       "[2609 rows x 12 columns]"
      ]
     },
     "execution_count": 58,
     "metadata": {},
     "output_type": "execute_result"
    }
   ],
   "source": [
    "raw"
   ]
  },
  {
   "cell_type": "code",
   "execution_count": 59,
   "metadata": {
    "ExecuteTime": {
     "end_time": "2021-03-29T07:01:52.570504Z",
     "start_time": "2021-03-29T07:01:52.567082Z"
    }
   },
   "outputs": [
    {
     "data": {
      "text/plain": [
       "Index(['AAPL.O', 'MSFT.O', 'INTC.O', 'AMZN.O', 'GS.N', 'SPY', '.SPX', '.VIX',\n",
       "       'EUR=', 'XAU=', 'GDX', 'GLD'],\n",
       "      dtype='object')"
      ]
     },
     "execution_count": 59,
     "metadata": {},
     "output_type": "execute_result"
    }
   ],
   "source": [
    "raw.columns"
   ]
  },
  {
   "cell_type": "code",
   "execution_count": 60,
   "metadata": {
    "ExecuteTime": {
     "end_time": "2021-03-29T07:01:52.574037Z",
     "start_time": "2021-03-29T07:01:52.572160Z"
    }
   },
   "outputs": [],
   "source": [
    "symbol = 'EUR='"
   ]
  },
  {
   "cell_type": "code",
   "execution_count": 61,
   "metadata": {
    "ExecuteTime": {
     "end_time": "2021-03-29T07:01:52.577933Z",
     "start_time": "2021-03-29T07:01:52.575647Z"
    }
   },
   "outputs": [],
   "source": [
    "data = pd.DataFrame(raw[symbol])"
   ]
  },
  {
   "cell_type": "code",
   "execution_count": 62,
   "metadata": {
    "ExecuteTime": {
     "end_time": "2021-03-29T07:01:52.587283Z",
     "start_time": "2021-03-29T07:01:52.579855Z"
    }
   },
   "outputs": [
    {
     "data": {
      "text/html": [
       "<div>\n",
       "<style scoped>\n",
       "    .dataframe tbody tr th:only-of-type {\n",
       "        vertical-align: middle;\n",
       "    }\n",
       "\n",
       "    .dataframe tbody tr th {\n",
       "        vertical-align: top;\n",
       "    }\n",
       "\n",
       "    .dataframe thead th {\n",
       "        text-align: right;\n",
       "    }\n",
       "</style>\n",
       "<table border=\"1\" class=\"dataframe\">\n",
       "  <thead>\n",
       "    <tr style=\"text-align: right;\">\n",
       "      <th></th>\n",
       "      <th>EUR=</th>\n",
       "    </tr>\n",
       "    <tr>\n",
       "      <th>Date</th>\n",
       "      <th></th>\n",
       "    </tr>\n",
       "  </thead>\n",
       "  <tbody>\n",
       "    <tr>\n",
       "      <th>2010-01-01</th>\n",
       "      <td>1.4323</td>\n",
       "    </tr>\n",
       "    <tr>\n",
       "      <th>2010-01-04</th>\n",
       "      <td>1.4411</td>\n",
       "    </tr>\n",
       "    <tr>\n",
       "      <th>2010-01-05</th>\n",
       "      <td>1.4368</td>\n",
       "    </tr>\n",
       "    <tr>\n",
       "      <th>2010-01-06</th>\n",
       "      <td>1.4412</td>\n",
       "    </tr>\n",
       "    <tr>\n",
       "      <th>2010-01-07</th>\n",
       "      <td>1.4318</td>\n",
       "    </tr>\n",
       "    <tr>\n",
       "      <th>...</th>\n",
       "      <td>...</td>\n",
       "    </tr>\n",
       "    <tr>\n",
       "      <th>2019-12-26</th>\n",
       "      <td>1.1096</td>\n",
       "    </tr>\n",
       "    <tr>\n",
       "      <th>2019-12-27</th>\n",
       "      <td>1.1175</td>\n",
       "    </tr>\n",
       "    <tr>\n",
       "      <th>2019-12-30</th>\n",
       "      <td>1.1197</td>\n",
       "    </tr>\n",
       "    <tr>\n",
       "      <th>2019-12-31</th>\n",
       "      <td>1.1210</td>\n",
       "    </tr>\n",
       "    <tr>\n",
       "      <th>2020-01-01</th>\n",
       "      <td>1.1210</td>\n",
       "    </tr>\n",
       "  </tbody>\n",
       "</table>\n",
       "<p>2609 rows × 1 columns</p>\n",
       "</div>"
      ],
      "text/plain": [
       "              EUR=\n",
       "Date              \n",
       "2010-01-01  1.4323\n",
       "2010-01-04  1.4411\n",
       "2010-01-05  1.4368\n",
       "2010-01-06  1.4412\n",
       "2010-01-07  1.4318\n",
       "...            ...\n",
       "2019-12-26  1.1096\n",
       "2019-12-27  1.1175\n",
       "2019-12-30  1.1197\n",
       "2019-12-31  1.1210\n",
       "2020-01-01  1.1210\n",
       "\n",
       "[2609 rows x 1 columns]"
      ]
     },
     "execution_count": 62,
     "metadata": {},
     "output_type": "execute_result"
    }
   ],
   "source": [
    "data"
   ]
  },
  {
   "cell_type": "code",
   "execution_count": 63,
   "metadata": {
    "ExecuteTime": {
     "end_time": "2021-03-29T07:01:52.593166Z",
     "start_time": "2021-03-29T07:01:52.588835Z"
    }
   },
   "outputs": [],
   "source": [
    "data['returns'] = np.log(data / data.shift(1))"
   ]
  },
  {
   "cell_type": "code",
   "execution_count": 64,
   "metadata": {
    "ExecuteTime": {
     "end_time": "2021-03-29T07:01:52.604249Z",
     "start_time": "2021-03-29T07:01:52.595158Z"
    }
   },
   "outputs": [
    {
     "data": {
      "text/html": [
       "<div>\n",
       "<style scoped>\n",
       "    .dataframe tbody tr th:only-of-type {\n",
       "        vertical-align: middle;\n",
       "    }\n",
       "\n",
       "    .dataframe tbody tr th {\n",
       "        vertical-align: top;\n",
       "    }\n",
       "\n",
       "    .dataframe thead th {\n",
       "        text-align: right;\n",
       "    }\n",
       "</style>\n",
       "<table border=\"1\" class=\"dataframe\">\n",
       "  <thead>\n",
       "    <tr style=\"text-align: right;\">\n",
       "      <th></th>\n",
       "      <th>EUR=</th>\n",
       "      <th>returns</th>\n",
       "    </tr>\n",
       "    <tr>\n",
       "      <th>Date</th>\n",
       "      <th></th>\n",
       "      <th></th>\n",
       "    </tr>\n",
       "  </thead>\n",
       "  <tbody>\n",
       "    <tr>\n",
       "      <th>2010-01-01</th>\n",
       "      <td>1.4323</td>\n",
       "      <td>NaN</td>\n",
       "    </tr>\n",
       "    <tr>\n",
       "      <th>2010-01-04</th>\n",
       "      <td>1.4411</td>\n",
       "      <td>0.006125</td>\n",
       "    </tr>\n",
       "    <tr>\n",
       "      <th>2010-01-05</th>\n",
       "      <td>1.4368</td>\n",
       "      <td>-0.002988</td>\n",
       "    </tr>\n",
       "    <tr>\n",
       "      <th>2010-01-06</th>\n",
       "      <td>1.4412</td>\n",
       "      <td>0.003058</td>\n",
       "    </tr>\n",
       "    <tr>\n",
       "      <th>2010-01-07</th>\n",
       "      <td>1.4318</td>\n",
       "      <td>-0.006544</td>\n",
       "    </tr>\n",
       "    <tr>\n",
       "      <th>...</th>\n",
       "      <td>...</td>\n",
       "      <td>...</td>\n",
       "    </tr>\n",
       "    <tr>\n",
       "      <th>2019-12-26</th>\n",
       "      <td>1.1096</td>\n",
       "      <td>0.000541</td>\n",
       "    </tr>\n",
       "    <tr>\n",
       "      <th>2019-12-27</th>\n",
       "      <td>1.1175</td>\n",
       "      <td>0.007094</td>\n",
       "    </tr>\n",
       "    <tr>\n",
       "      <th>2019-12-30</th>\n",
       "      <td>1.1197</td>\n",
       "      <td>0.001967</td>\n",
       "    </tr>\n",
       "    <tr>\n",
       "      <th>2019-12-31</th>\n",
       "      <td>1.1210</td>\n",
       "      <td>0.001160</td>\n",
       "    </tr>\n",
       "    <tr>\n",
       "      <th>2020-01-01</th>\n",
       "      <td>1.1210</td>\n",
       "      <td>0.000000</td>\n",
       "    </tr>\n",
       "  </tbody>\n",
       "</table>\n",
       "<p>2609 rows × 2 columns</p>\n",
       "</div>"
      ],
      "text/plain": [
       "              EUR=   returns\n",
       "Date                        \n",
       "2010-01-01  1.4323       NaN\n",
       "2010-01-04  1.4411  0.006125\n",
       "2010-01-05  1.4368 -0.002988\n",
       "2010-01-06  1.4412  0.003058\n",
       "2010-01-07  1.4318 -0.006544\n",
       "...            ...       ...\n",
       "2019-12-26  1.1096  0.000541\n",
       "2019-12-27  1.1175  0.007094\n",
       "2019-12-30  1.1197  0.001967\n",
       "2019-12-31  1.1210  0.001160\n",
       "2020-01-01  1.1210  0.000000\n",
       "\n",
       "[2609 rows x 2 columns]"
      ]
     },
     "execution_count": 64,
     "metadata": {},
     "output_type": "execute_result"
    }
   ],
   "source": [
    "data"
   ]
  },
  {
   "cell_type": "code",
   "execution_count": 65,
   "metadata": {
    "ExecuteTime": {
     "end_time": "2021-03-29T07:01:52.609329Z",
     "start_time": "2021-03-29T07:01:52.605652Z"
    }
   },
   "outputs": [],
   "source": [
    "data.dropna(inplace = True)"
   ]
  },
  {
   "cell_type": "code",
   "execution_count": 66,
   "metadata": {
    "ExecuteTime": {
     "end_time": "2021-03-29T07:01:52.619473Z",
     "start_time": "2021-03-29T07:01:52.611025Z"
    }
   },
   "outputs": [
    {
     "data": {
      "text/html": [
       "<div>\n",
       "<style scoped>\n",
       "    .dataframe tbody tr th:only-of-type {\n",
       "        vertical-align: middle;\n",
       "    }\n",
       "\n",
       "    .dataframe tbody tr th {\n",
       "        vertical-align: top;\n",
       "    }\n",
       "\n",
       "    .dataframe thead th {\n",
       "        text-align: right;\n",
       "    }\n",
       "</style>\n",
       "<table border=\"1\" class=\"dataframe\">\n",
       "  <thead>\n",
       "    <tr style=\"text-align: right;\">\n",
       "      <th></th>\n",
       "      <th>EUR=</th>\n",
       "      <th>returns</th>\n",
       "    </tr>\n",
       "    <tr>\n",
       "      <th>Date</th>\n",
       "      <th></th>\n",
       "      <th></th>\n",
       "    </tr>\n",
       "  </thead>\n",
       "  <tbody>\n",
       "    <tr>\n",
       "      <th>2010-01-04</th>\n",
       "      <td>1.4411</td>\n",
       "      <td>0.006125</td>\n",
       "    </tr>\n",
       "    <tr>\n",
       "      <th>2010-01-05</th>\n",
       "      <td>1.4368</td>\n",
       "      <td>-0.002988</td>\n",
       "    </tr>\n",
       "    <tr>\n",
       "      <th>2010-01-06</th>\n",
       "      <td>1.4412</td>\n",
       "      <td>0.003058</td>\n",
       "    </tr>\n",
       "    <tr>\n",
       "      <th>2010-01-07</th>\n",
       "      <td>1.4318</td>\n",
       "      <td>-0.006544</td>\n",
       "    </tr>\n",
       "    <tr>\n",
       "      <th>2010-01-08</th>\n",
       "      <td>1.4412</td>\n",
       "      <td>0.006544</td>\n",
       "    </tr>\n",
       "    <tr>\n",
       "      <th>...</th>\n",
       "      <td>...</td>\n",
       "      <td>...</td>\n",
       "    </tr>\n",
       "    <tr>\n",
       "      <th>2019-12-26</th>\n",
       "      <td>1.1096</td>\n",
       "      <td>0.000541</td>\n",
       "    </tr>\n",
       "    <tr>\n",
       "      <th>2019-12-27</th>\n",
       "      <td>1.1175</td>\n",
       "      <td>0.007094</td>\n",
       "    </tr>\n",
       "    <tr>\n",
       "      <th>2019-12-30</th>\n",
       "      <td>1.1197</td>\n",
       "      <td>0.001967</td>\n",
       "    </tr>\n",
       "    <tr>\n",
       "      <th>2019-12-31</th>\n",
       "      <td>1.1210</td>\n",
       "      <td>0.001160</td>\n",
       "    </tr>\n",
       "    <tr>\n",
       "      <th>2020-01-01</th>\n",
       "      <td>1.1210</td>\n",
       "      <td>0.000000</td>\n",
       "    </tr>\n",
       "  </tbody>\n",
       "</table>\n",
       "<p>2608 rows × 2 columns</p>\n",
       "</div>"
      ],
      "text/plain": [
       "              EUR=   returns\n",
       "Date                        \n",
       "2010-01-04  1.4411  0.006125\n",
       "2010-01-05  1.4368 -0.002988\n",
       "2010-01-06  1.4412  0.003058\n",
       "2010-01-07  1.4318 -0.006544\n",
       "2010-01-08  1.4412  0.006544\n",
       "...            ...       ...\n",
       "2019-12-26  1.1096  0.000541\n",
       "2019-12-27  1.1175  0.007094\n",
       "2019-12-30  1.1197  0.001967\n",
       "2019-12-31  1.1210  0.001160\n",
       "2020-01-01  1.1210  0.000000\n",
       "\n",
       "[2608 rows x 2 columns]"
      ]
     },
     "execution_count": 66,
     "metadata": {},
     "output_type": "execute_result"
    }
   ],
   "source": [
    "data"
   ]
  },
  {
   "cell_type": "code",
   "execution_count": 67,
   "metadata": {
    "ExecuteTime": {
     "end_time": "2021-03-29T07:01:52.625687Z",
     "start_time": "2021-03-29T07:01:52.621392Z"
    }
   },
   "outputs": [],
   "source": [
    "data['direction'] = np.sign(data['returns']).astype(int)"
   ]
  },
  {
   "cell_type": "code",
   "execution_count": 68,
   "metadata": {
    "ExecuteTime": {
     "end_time": "2021-03-29T07:01:52.646906Z",
     "start_time": "2021-03-29T07:01:52.638283Z"
    }
   },
   "outputs": [
    {
     "data": {
      "text/html": [
       "<div>\n",
       "<style scoped>\n",
       "    .dataframe tbody tr th:only-of-type {\n",
       "        vertical-align: middle;\n",
       "    }\n",
       "\n",
       "    .dataframe tbody tr th {\n",
       "        vertical-align: top;\n",
       "    }\n",
       "\n",
       "    .dataframe thead th {\n",
       "        text-align: right;\n",
       "    }\n",
       "</style>\n",
       "<table border=\"1\" class=\"dataframe\">\n",
       "  <thead>\n",
       "    <tr style=\"text-align: right;\">\n",
       "      <th></th>\n",
       "      <th>EUR=</th>\n",
       "      <th>returns</th>\n",
       "      <th>direction</th>\n",
       "    </tr>\n",
       "    <tr>\n",
       "      <th>Date</th>\n",
       "      <th></th>\n",
       "      <th></th>\n",
       "      <th></th>\n",
       "    </tr>\n",
       "  </thead>\n",
       "  <tbody>\n",
       "    <tr>\n",
       "      <th>2010-01-04</th>\n",
       "      <td>1.4411</td>\n",
       "      <td>0.006125</td>\n",
       "      <td>1</td>\n",
       "    </tr>\n",
       "    <tr>\n",
       "      <th>2010-01-05</th>\n",
       "      <td>1.4368</td>\n",
       "      <td>-0.002988</td>\n",
       "      <td>-1</td>\n",
       "    </tr>\n",
       "    <tr>\n",
       "      <th>2010-01-06</th>\n",
       "      <td>1.4412</td>\n",
       "      <td>0.003058</td>\n",
       "      <td>1</td>\n",
       "    </tr>\n",
       "    <tr>\n",
       "      <th>2010-01-07</th>\n",
       "      <td>1.4318</td>\n",
       "      <td>-0.006544</td>\n",
       "      <td>-1</td>\n",
       "    </tr>\n",
       "    <tr>\n",
       "      <th>2010-01-08</th>\n",
       "      <td>1.4412</td>\n",
       "      <td>0.006544</td>\n",
       "      <td>1</td>\n",
       "    </tr>\n",
       "    <tr>\n",
       "      <th>...</th>\n",
       "      <td>...</td>\n",
       "      <td>...</td>\n",
       "      <td>...</td>\n",
       "    </tr>\n",
       "    <tr>\n",
       "      <th>2019-12-26</th>\n",
       "      <td>1.1096</td>\n",
       "      <td>0.000541</td>\n",
       "      <td>1</td>\n",
       "    </tr>\n",
       "    <tr>\n",
       "      <th>2019-12-27</th>\n",
       "      <td>1.1175</td>\n",
       "      <td>0.007094</td>\n",
       "      <td>1</td>\n",
       "    </tr>\n",
       "    <tr>\n",
       "      <th>2019-12-30</th>\n",
       "      <td>1.1197</td>\n",
       "      <td>0.001967</td>\n",
       "      <td>1</td>\n",
       "    </tr>\n",
       "    <tr>\n",
       "      <th>2019-12-31</th>\n",
       "      <td>1.1210</td>\n",
       "      <td>0.001160</td>\n",
       "      <td>1</td>\n",
       "    </tr>\n",
       "    <tr>\n",
       "      <th>2020-01-01</th>\n",
       "      <td>1.1210</td>\n",
       "      <td>0.000000</td>\n",
       "      <td>0</td>\n",
       "    </tr>\n",
       "  </tbody>\n",
       "</table>\n",
       "<p>2608 rows × 3 columns</p>\n",
       "</div>"
      ],
      "text/plain": [
       "              EUR=   returns  direction\n",
       "Date                                   \n",
       "2010-01-04  1.4411  0.006125          1\n",
       "2010-01-05  1.4368 -0.002988         -1\n",
       "2010-01-06  1.4412  0.003058          1\n",
       "2010-01-07  1.4318 -0.006544         -1\n",
       "2010-01-08  1.4412  0.006544          1\n",
       "...            ...       ...        ...\n",
       "2019-12-26  1.1096  0.000541          1\n",
       "2019-12-27  1.1175  0.007094          1\n",
       "2019-12-30  1.1197  0.001967          1\n",
       "2019-12-31  1.1210  0.001160          1\n",
       "2020-01-01  1.1210  0.000000          0\n",
       "\n",
       "[2608 rows x 3 columns]"
      ]
     },
     "execution_count": 68,
     "metadata": {},
     "output_type": "execute_result"
    }
   ],
   "source": [
    "data"
   ]
  },
  {
   "cell_type": "code",
   "execution_count": 69,
   "metadata": {
    "ExecuteTime": {
     "end_time": "2021-03-29T07:01:52.824603Z",
     "start_time": "2021-03-29T07:01:52.650275Z"
    }
   },
   "outputs": [
    {
     "data": {
      "image/png": "[encoded data removed]",
      "text/plain": [
       "<Figure size 864x576 with 1 Axes>"
      ]
     },
     "metadata": {
      "needs_background": "light"
     },
     "output_type": "display_data"
    }
   ],
   "source": [
    "data['returns'].hist(bins = 35, figsize = (12, 8))\n",
    "plt.show()"
   ]
  },
  {
   "cell_type": "code",
   "execution_count": 70,
   "metadata": {
    "ExecuteTime": {
     "end_time": "2021-03-29T07:01:52.827977Z",
     "start_time": "2021-03-29T07:01:52.826105Z"
    }
   },
   "outputs": [],
   "source": [
    "lags = 2"
   ]
  },
  {
   "cell_type": "code",
   "execution_count": 71,
   "metadata": {
    "ExecuteTime": {
     "end_time": "2021-03-29T07:01:52.833386Z",
     "start_time": "2021-03-29T07:01:52.830055Z"
    }
   },
   "outputs": [],
   "source": [
    "def create_lags(data):\n",
    "    global cols\n",
    "    cols = []\n",
    "    for lag in range(1, lags + 1):\n",
    "        col = 'lag_{}'.format(lag)\n",
    "        data[col] = data['returns'].shift(lag)\n",
    "        cols.append(col)"
   ]
  },
  {
   "cell_type": "code",
   "execution_count": 72,
   "metadata": {
    "ExecuteTime": {
     "end_time": "2021-03-29T07:01:52.838965Z",
     "start_time": "2021-03-29T07:01:52.835483Z"
    }
   },
   "outputs": [],
   "source": [
    "create_lags(data)"
   ]
  },
  {
   "cell_type": "code",
   "execution_count": 73,
   "metadata": {
    "ExecuteTime": {
     "end_time": "2021-03-29T07:01:52.853128Z",
     "start_time": "2021-03-29T07:01:52.840793Z"
    }
   },
   "outputs": [
    {
     "data": {
      "text/html": [
       "<div>\n",
       "<style scoped>\n",
       "    .dataframe tbody tr th:only-of-type {\n",
       "        vertical-align: middle;\n",
       "    }\n",
       "\n",
       "    .dataframe tbody tr th {\n",
       "        vertical-align: top;\n",
       "    }\n",
       "\n",
       "    .dataframe thead th {\n",
       "        text-align: right;\n",
       "    }\n",
       "</style>\n",
       "<table border=\"1\" class=\"dataframe\">\n",
       "  <thead>\n",
       "    <tr style=\"text-align: right;\">\n",
       "      <th></th>\n",
       "      <th>EUR=</th>\n",
       "      <th>returns</th>\n",
       "      <th>direction</th>\n",
       "      <th>lag_1</th>\n",
       "      <th>lag_2</th>\n",
       "    </tr>\n",
       "    <tr>\n",
       "      <th>Date</th>\n",
       "      <th></th>\n",
       "      <th></th>\n",
       "      <th></th>\n",
       "      <th></th>\n",
       "      <th></th>\n",
       "    </tr>\n",
       "  </thead>\n",
       "  <tbody>\n",
       "    <tr>\n",
       "      <th>2010-01-04</th>\n",
       "      <td>1.4411</td>\n",
       "      <td>0.006125</td>\n",
       "      <td>1</td>\n",
       "      <td>NaN</td>\n",
       "      <td>NaN</td>\n",
       "    </tr>\n",
       "    <tr>\n",
       "      <th>2010-01-05</th>\n",
       "      <td>1.4368</td>\n",
       "      <td>-0.002988</td>\n",
       "      <td>-1</td>\n",
       "      <td>0.006125</td>\n",
       "      <td>NaN</td>\n",
       "    </tr>\n",
       "    <tr>\n",
       "      <th>2010-01-06</th>\n",
       "      <td>1.4412</td>\n",
       "      <td>0.003058</td>\n",
       "      <td>1</td>\n",
       "      <td>-0.002988</td>\n",
       "      <td>0.006125</td>\n",
       "    </tr>\n",
       "    <tr>\n",
       "      <th>2010-01-07</th>\n",
       "      <td>1.4318</td>\n",
       "      <td>-0.006544</td>\n",
       "      <td>-1</td>\n",
       "      <td>0.003058</td>\n",
       "      <td>-0.002988</td>\n",
       "    </tr>\n",
       "    <tr>\n",
       "      <th>2010-01-08</th>\n",
       "      <td>1.4412</td>\n",
       "      <td>0.006544</td>\n",
       "      <td>1</td>\n",
       "      <td>-0.006544</td>\n",
       "      <td>0.003058</td>\n",
       "    </tr>\n",
       "    <tr>\n",
       "      <th>...</th>\n",
       "      <td>...</td>\n",
       "      <td>...</td>\n",
       "      <td>...</td>\n",
       "      <td>...</td>\n",
       "      <td>...</td>\n",
       "    </tr>\n",
       "    <tr>\n",
       "      <th>2019-12-26</th>\n",
       "      <td>1.1096</td>\n",
       "      <td>0.000541</td>\n",
       "      <td>1</td>\n",
       "      <td>0.000271</td>\n",
       "      <td>0.000090</td>\n",
       "    </tr>\n",
       "    <tr>\n",
       "      <th>2019-12-27</th>\n",
       "      <td>1.1175</td>\n",
       "      <td>0.007094</td>\n",
       "      <td>1</td>\n",
       "      <td>0.000541</td>\n",
       "      <td>0.000271</td>\n",
       "    </tr>\n",
       "    <tr>\n",
       "      <th>2019-12-30</th>\n",
       "      <td>1.1197</td>\n",
       "      <td>0.001967</td>\n",
       "      <td>1</td>\n",
       "      <td>0.007094</td>\n",
       "      <td>0.000541</td>\n",
       "    </tr>\n",
       "    <tr>\n",
       "      <th>2019-12-31</th>\n",
       "      <td>1.1210</td>\n",
       "      <td>0.001160</td>\n",
       "      <td>1</td>\n",
       "      <td>0.001967</td>\n",
       "      <td>0.007094</td>\n",
       "    </tr>\n",
       "    <tr>\n",
       "      <th>2020-01-01</th>\n",
       "      <td>1.1210</td>\n",
       "      <td>0.000000</td>\n",
       "      <td>0</td>\n",
       "      <td>0.001160</td>\n",
       "      <td>0.001967</td>\n",
       "    </tr>\n",
       "  </tbody>\n",
       "</table>\n",
       "<p>2608 rows × 5 columns</p>\n",
       "</div>"
      ],
      "text/plain": [
       "              EUR=   returns  direction     lag_1     lag_2\n",
       "Date                                                       \n",
       "2010-01-04  1.4411  0.006125          1       NaN       NaN\n",
       "2010-01-05  1.4368 -0.002988         -1  0.006125       NaN\n",
       "2010-01-06  1.4412  0.003058          1 -0.002988  0.006125\n",
       "2010-01-07  1.4318 -0.006544         -1  0.003058 -0.002988\n",
       "2010-01-08  1.4412  0.006544          1 -0.006544  0.003058\n",
       "...            ...       ...        ...       ...       ...\n",
       "2019-12-26  1.1096  0.000541          1  0.000271  0.000090\n",
       "2019-12-27  1.1175  0.007094          1  0.000541  0.000271\n",
       "2019-12-30  1.1197  0.001967          1  0.007094  0.000541\n",
       "2019-12-31  1.1210  0.001160          1  0.001967  0.007094\n",
       "2020-01-01  1.1210  0.000000          0  0.001160  0.001967\n",
       "\n",
       "[2608 rows x 5 columns]"
      ]
     },
     "execution_count": 73,
     "metadata": {},
     "output_type": "execute_result"
    }
   ],
   "source": [
    "data"
   ]
  },
  {
   "cell_type": "code",
   "execution_count": 74,
   "metadata": {
    "ExecuteTime": {
     "end_time": "2021-03-29T07:01:52.859648Z",
     "start_time": "2021-03-29T07:01:52.854836Z"
    }
   },
   "outputs": [],
   "source": [
    "data.dropna(inplace = True)"
   ]
  },
  {
   "cell_type": "code",
   "execution_count": 75,
   "metadata": {
    "ExecuteTime": {
     "end_time": "2021-03-29T07:01:53.086571Z",
     "start_time": "2021-03-29T07:01:52.861161Z"
    }
   },
   "outputs": [
    {
     "data": {
      "image/png": "[encoded data removed]",
      "text/plain": [
       "<Figure size 864x576 with 2 Axes>"
      ]
     },
     "metadata": {
      "needs_background": "light"
     },
     "output_type": "display_data"
    }
   ],
   "source": [
    "data.plot.scatter(x = 'lag_1', y = 'lag_2', c = 'returns',\n",
    "                 cmap = 'coolwarm', figsize = (12, 8),\n",
    "                 colorbar = True)\n",
    "plt.axvline(0, c = 'r', ls = '--')\n",
    "plt.axhline(0, c = 'r', ls = '--')\n",
    "plt.show()"
   ]
  },
  {
   "cell_type": "markdown",
   "metadata": {},
   "source": [
    "# Regression"
   ]
  },
  {
   "cell_type": "markdown",
   "metadata": {},
   "source": [
    "With the dataset completed, linear OLS regression can be applied to learn about any potential (linear) relationships, to predict market movement based on the features, and to backtest atrading strategy based on the predictions. Two basic approaches are available: using the ___log returns___ or only the ___direction data___ as the response variable during the regression. In any case, predictions are real-valued and therefore transmittd to either +1 or to -1 to only work with the direction or the prediction:"
   ]
  },
  {
   "cell_type": "code",
   "execution_count": 76,
   "metadata": {
    "ExecuteTime": {
     "end_time": "2021-03-29T07:01:57.680009Z",
     "start_time": "2021-03-29T07:01:53.087984Z"
    }
   },
   "outputs": [],
   "source": [
    "# The Linear OLS Regression implementation from scikit-learn is used\n",
    "from sklearn.linear_model import LinearRegression"
   ]
  },
  {
   "cell_type": "code",
   "execution_count": 77,
   "metadata": {
    "ExecuteTime": {
     "end_time": "2021-03-29T07:01:57.684126Z",
     "start_time": "2021-03-29T07:01:57.681484Z"
    }
   },
   "outputs": [],
   "source": [
    "model = LinearRegression()"
   ]
  },
  {
   "cell_type": "code",
   "execution_count": 78,
   "metadata": {
    "ExecuteTime": {
     "end_time": "2021-03-29T07:01:57.696601Z",
     "start_time": "2021-03-29T07:01:57.686206Z"
    }
   },
   "outputs": [],
   "source": [
    "# The regression is implemented on the log returns directly\n",
    "data['pos_ols_1'] = model.fit(data[cols], data['returns']).predict(data[cols])"
   ]
  },
  {
   "cell_type": "code",
   "execution_count": 79,
   "metadata": {
    "ExecuteTime": {
     "end_time": "2021-03-29T07:01:57.707485Z",
     "start_time": "2021-03-29T07:01:57.698457Z"
    }
   },
   "outputs": [],
   "source": [
    "# The regression is implemented on the direction data, which is of primary interest\n",
    "data['pos_ols_2'] = model.fit(data[cols], data['direction']).predict(data[cols])"
   ]
  },
  {
   "cell_type": "code",
   "execution_count": 80,
   "metadata": {
    "ExecuteTime": {
     "end_time": "2021-03-29T07:01:57.720057Z",
     "start_time": "2021-03-29T07:01:57.709275Z"
    }
   },
   "outputs": [
    {
     "data": {
      "text/html": [
       "<div>\n",
       "<style scoped>\n",
       "    .dataframe tbody tr th:only-of-type {\n",
       "        vertical-align: middle;\n",
       "    }\n",
       "\n",
       "    .dataframe tbody tr th {\n",
       "        vertical-align: top;\n",
       "    }\n",
       "\n",
       "    .dataframe thead th {\n",
       "        text-align: right;\n",
       "    }\n",
       "</style>\n",
       "<table border=\"1\" class=\"dataframe\">\n",
       "  <thead>\n",
       "    <tr style=\"text-align: right;\">\n",
       "      <th></th>\n",
       "      <th>pos_ols_1</th>\n",
       "      <th>pos_ols_2</th>\n",
       "    </tr>\n",
       "    <tr>\n",
       "      <th>Date</th>\n",
       "      <th></th>\n",
       "      <th></th>\n",
       "    </tr>\n",
       "  </thead>\n",
       "  <tbody>\n",
       "    <tr>\n",
       "      <th>2010-01-06</th>\n",
       "      <td>0.000004</td>\n",
       "      <td>-0.004744</td>\n",
       "    </tr>\n",
       "    <tr>\n",
       "      <th>2010-01-07</th>\n",
       "      <td>-0.000173</td>\n",
       "      <td>-0.000386</td>\n",
       "    </tr>\n",
       "    <tr>\n",
       "      <th>2010-01-08</th>\n",
       "      <td>0.000043</td>\n",
       "      <td>0.027334</td>\n",
       "    </tr>\n",
       "    <tr>\n",
       "      <th>2010-01-11</th>\n",
       "      <td>-0.000262</td>\n",
       "      <td>-0.004859</td>\n",
       "    </tr>\n",
       "    <tr>\n",
       "      <th>2010-01-12</th>\n",
       "      <td>-0.000169</td>\n",
       "      <td>-0.061068</td>\n",
       "    </tr>\n",
       "    <tr>\n",
       "      <th>...</th>\n",
       "      <td>...</td>\n",
       "      <td>...</td>\n",
       "    </tr>\n",
       "    <tr>\n",
       "      <th>2019-12-26</th>\n",
       "      <td>-0.000100</td>\n",
       "      <td>0.002220</td>\n",
       "    </tr>\n",
       "    <tr>\n",
       "      <th>2019-12-27</th>\n",
       "      <td>-0.000104</td>\n",
       "      <td>-0.000002</td>\n",
       "    </tr>\n",
       "    <tr>\n",
       "      <th>2019-12-30</th>\n",
       "      <td>-0.000217</td>\n",
       "      <td>-0.036998</td>\n",
       "    </tr>\n",
       "    <tr>\n",
       "      <th>2019-12-31</th>\n",
       "      <td>-0.000076</td>\n",
       "      <td>-0.035861</td>\n",
       "    </tr>\n",
       "    <tr>\n",
       "      <th>2020-01-01</th>\n",
       "      <td>-0.000102</td>\n",
       "      <td>-0.010366</td>\n",
       "    </tr>\n",
       "  </tbody>\n",
       "</table>\n",
       "<p>2606 rows × 2 columns</p>\n",
       "</div>"
      ],
      "text/plain": [
       "            pos_ols_1  pos_ols_2\n",
       "Date                            \n",
       "2010-01-06   0.000004  -0.004744\n",
       "2010-01-07  -0.000173  -0.000386\n",
       "2010-01-08   0.000043   0.027334\n",
       "2010-01-11  -0.000262  -0.004859\n",
       "2010-01-12  -0.000169  -0.061068\n",
       "...               ...        ...\n",
       "2019-12-26  -0.000100   0.002220\n",
       "2019-12-27  -0.000104  -0.000002\n",
       "2019-12-30  -0.000217  -0.036998\n",
       "2019-12-31  -0.000076  -0.035861\n",
       "2020-01-01  -0.000102  -0.010366\n",
       "\n",
       "[2606 rows x 2 columns]"
      ]
     },
     "execution_count": 80,
     "metadata": {},
     "output_type": "execute_result"
    }
   ],
   "source": [
    "data[['pos_ols_1', 'pos_ols_2']]"
   ]
  },
  {
   "cell_type": "code",
   "execution_count": 81,
   "metadata": {
    "ExecuteTime": {
     "end_time": "2021-03-29T07:01:57.729065Z",
     "start_time": "2021-03-29T07:01:57.722092Z"
    }
   },
   "outputs": [],
   "source": [
    "# transforms the real-values predictions into directional values (+1, -1)\n",
    "data[['pos_ols_1', 'pos_ols_2']] = np.where(data[[\"pos_ols_1\", \"pos_ols_2\"]] > 0, 1, -1)"
   ]
  },
  {
   "cell_type": "code",
   "execution_count": 82,
   "metadata": {
    "ExecuteTime": {
     "end_time": "2021-03-29T07:01:57.736240Z",
     "start_time": "2021-03-29T07:01:57.731208Z"
    }
   },
   "outputs": [
    {
     "data": {
      "text/plain": [
       "-1    2170\n",
       " 1     436\n",
       "Name: pos_ols_1, dtype: int64"
      ]
     },
     "execution_count": 82,
     "metadata": {},
     "output_type": "execute_result"
    }
   ],
   "source": [
    "# demonstrates that the two approaches yield different directional predictions in general\n",
    "data['pos_ols_1'].value_counts()"
   ]
  },
  {
   "cell_type": "code",
   "execution_count": 83,
   "metadata": {
    "ExecuteTime": {
     "end_time": "2021-03-29T07:01:57.743297Z",
     "start_time": "2021-03-29T07:01:57.738485Z"
    }
   },
   "outputs": [
    {
     "data": {
      "text/plain": [
       " 1    1458\n",
       "-1    1148\n",
       "Name: pos_ols_2, dtype: int64"
      ]
     },
     "execution_count": 83,
     "metadata": {},
     "output_type": "execute_result"
    }
   ],
   "source": [
    "# demonstrates that the two approaches yield different directional predictions in general\n",
    "data['pos_ols_2'].value_counts()"
   ]
  },
  {
   "cell_type": "code",
   "execution_count": 84,
   "metadata": {
    "ExecuteTime": {
     "end_time": "2021-03-29T07:01:57.749450Z",
     "start_time": "2021-03-29T07:01:57.745264Z"
    }
   },
   "outputs": [
    {
     "data": {
      "text/plain": [
       "796"
      ]
     },
     "execution_count": 84,
     "metadata": {},
     "output_type": "execute_result"
    }
   ],
   "source": [
    "# demonstrates that both approaches lead to a relatively large number of trades over time\n",
    "(data['pos_ols_1'].diff() != 0).sum()"
   ]
  },
  {
   "cell_type": "code",
   "execution_count": 85,
   "metadata": {
    "ExecuteTime": {
     "end_time": "2021-03-29T07:01:57.755767Z",
     "start_time": "2021-03-29T07:01:57.751463Z"
    }
   },
   "outputs": [
    {
     "data": {
      "text/plain": [
       "901"
      ]
     },
     "execution_count": 85,
     "metadata": {},
     "output_type": "execute_result"
    }
   ],
   "source": [
    "# demonstrates that both approaches lead to a relatively large number of trades over time\n",
    "(data['pos_ols_2'].diff() != 0).sum()"
   ]
  },
  {
   "cell_type": "markdown",
   "metadata": {},
   "source": [
    "Vectorized backtesting can now be applied to judge the performance of the resulting trading strategies. At this stage, the analysis based on a number of simplifying assumptions, such as \"zero transaction costs\" and the usage of the same data set for both training and testing. "
   ]
  },
  {
   "cell_type": "code",
   "execution_count": 86,
   "metadata": {
    "ExecuteTime": {
     "end_time": "2021-03-29T07:01:57.761786Z",
     "start_time": "2021-03-29T07:01:57.757539Z"
    }
   },
   "outputs": [],
   "source": [
    "data['strat_ols_1'] = data['pos_ols_1'] * data['returns']\n",
    "data['strat_ols_2'] = data['pos_ols_2'] * data['returns']"
   ]
  },
  {
   "cell_type": "code",
   "execution_count": 87,
   "metadata": {
    "ExecuteTime": {
     "end_time": "2021-03-29T07:01:57.769380Z",
     "start_time": "2021-03-29T07:01:57.763695Z"
    }
   },
   "outputs": [
    {
     "data": {
      "text/plain": [
       "returns        0.780206\n",
       "strat_ols_1    1.029605\n",
       "strat_ols_2    1.203034\n",
       "dtype: float64"
      ]
     },
     "execution_count": 87,
     "metadata": {},
     "output_type": "execute_result"
    }
   ],
   "source": [
    "\"\"\"\n",
    "Sums up the log returns of the two strategies and the benchmark investment and\n",
    "calculates the exponential value to return the absolute performance.\n",
    "\"\"\"\n",
    "data[['returns', 'strat_ols_1', 'strat_ols_2']].sum().apply(np.exp)"
   ]
  },
  {
   "cell_type": "code",
   "execution_count": 88,
   "metadata": {
    "ExecuteTime": {
     "end_time": "2021-03-29T07:01:57.777496Z",
     "start_time": "2021-03-29T07:01:57.771275Z"
    }
   },
   "outputs": [
    {
     "data": {
      "text/plain": [
       "False    1319\n",
       "True     1287\n",
       "dtype: int64"
      ]
     },
     "execution_count": 88,
     "metadata": {},
     "output_type": "execute_result"
    }
   ],
   "source": [
    "# Shows the number of correct and false predictions by the strategy\n",
    "(data['direction'] == data['pos_ols_1']).value_counts()"
   ]
  },
  {
   "cell_type": "code",
   "execution_count": 89,
   "metadata": {
    "ExecuteTime": {
     "end_time": "2021-03-29T07:01:57.784808Z",
     "start_time": "2021-03-29T07:01:57.779336Z"
    }
   },
   "outputs": [
    {
     "data": {
      "text/plain": [
       "True     1339\n",
       "False    1267\n",
       "dtype: int64"
      ]
     },
     "execution_count": 89,
     "metadata": {},
     "output_type": "execute_result"
    }
   ],
   "source": [
    "# Shows the number of correct and false predictions by the strategy\n",
    "(data['direction'] == data['pos_ols_2']).value_counts()"
   ]
  },
  {
   "cell_type": "code",
   "execution_count": 90,
   "metadata": {
    "ExecuteTime": {
     "end_time": "2021-03-29T07:01:58.097465Z",
     "start_time": "2021-03-29T07:01:57.786853Z"
    }
   },
   "outputs": [
    {
     "data": {
      "image/png": "[encoded data removed]",
      "text/plain": [
       "<Figure size 864x576 with 1 Axes>"
      ]
     },
     "metadata": {
      "needs_background": "light"
     },
     "output_type": "display_data"
    }
   ],
   "source": [
    "data[['returns', 'strat_ols_1', 'strat_ols_2']].cumsum().apply(np.exp).plot(figsize = (12, 8))\n",
    "plt.show()"
   ]
  },
  {
   "cell_type": "markdown",
   "metadata": {},
   "source": [
    "Notice that both regression-based strategies outperform the benchmark passive investment, while only the strategy trained on the direction of the market shows a positive overall performance. In the long term start_ols_2 is the best performing strategy."
   ]
  }
 ],
 "metadata": {
  "kernelspec": {
   "display_name": "pypr",
   "language": "python",
   "name": "pypr"
  },
  "language_info": {
   "codemirror_mode": {
    "name": "ipython",
    "version": 3
   },
   "file_extension": ".py",
   "mimetype": "text/x-python",
   "name": "python",
   "nbconvert_exporter": "python",
   "pygments_lexer": "ipython3",
   "version": "3.8.12"
  }
 },
 "nbformat": 4,
 "nbformat_minor": 4
}
