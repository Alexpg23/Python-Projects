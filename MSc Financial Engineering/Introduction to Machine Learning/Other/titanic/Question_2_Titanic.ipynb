{
 "cells": [
  {
   "cell_type": "code",
   "execution_count": 1,
   "id": "7e8a422d",
   "metadata": {},
   "outputs": [],
   "source": [
    "import numpy as np\n",
    "import pandas as pd\n",
    "import matplotlib.pyplot as plt\n",
    "import seaborn as sns\n",
    "import warnings\n",
    "import matplotlib as mpl\n",
    "%matplotlib inline\n",
    "warnings.filterwarnings('ignore')"
   ]
  },
  {
   "cell_type": "markdown",
   "id": "c82791bb",
   "metadata": {},
   "source": [
    "# Question 2: Titanic Classification\n",
    "\n",
    "## Team Members:\n",
    "\n",
    "### Marcel Santos de Carvalho, id 79083\n",
    "### Loris Baudry, id\n",
    "### Alex Palacios, id\n",
    "\n",
    "### Responsible for this notebook: Marcel Santos de Carvalho"
   ]
  },
  {
   "cell_type": "markdown",
   "id": "da4f892b",
   "metadata": {},
   "source": [
    "# 1. Load the data"
   ]
  },
  {
   "cell_type": "code",
   "execution_count": 2,
   "id": "4b831664",
   "metadata": {},
   "outputs": [],
   "source": [
    "df = pd.read_csv('train.csv')"
   ]
  },
  {
   "cell_type": "markdown",
   "id": "a271764d",
   "metadata": {},
   "source": [
    "# 2. Visualise and analyse the data"
   ]
  },
  {
   "cell_type": "code",
   "execution_count": 3,
   "id": "b6516570",
   "metadata": {},
   "outputs": [
    {
     "data": {
      "text/plain": [
       "pandas.core.frame.DataFrame"
      ]
     },
     "execution_count": 3,
     "metadata": {},
     "output_type": "execute_result"
    }
   ],
   "source": [
    "type(df)"
   ]
  },
  {
   "cell_type": "code",
   "execution_count": 4,
   "id": "961691c2",
   "metadata": {},
   "outputs": [
    {
     "data": {
      "text/plain": [
       "(891, 12)"
      ]
     },
     "execution_count": 4,
     "metadata": {},
     "output_type": "execute_result"
    }
   ],
   "source": [
    "df.shape"
   ]
  },
  {
   "cell_type": "code",
   "execution_count": 5,
   "id": "ecfddcdd",
   "metadata": {},
   "outputs": [
    {
     "data": {
      "text/plain": [
       "Index(['PassengerId', 'Survived', 'Pclass', 'Name', 'Sex', 'Age', 'SibSp',\n",
       "       'Parch', 'Ticket', 'Fare', 'Cabin', 'Embarked'],\n",
       "      dtype='object')"
      ]
     },
     "execution_count": 5,
     "metadata": {},
     "output_type": "execute_result"
    }
   ],
   "source": [
    "df.columns"
   ]
  },
  {
   "cell_type": "code",
   "execution_count": 6,
   "id": "706bad06",
   "metadata": {},
   "outputs": [
    {
     "data": {
      "text/html": [
       "<div>\n",
       "<style scoped>\n",
       "    .dataframe tbody tr th:only-of-type {\n",
       "        vertical-align: middle;\n",
       "    }\n",
       "\n",
       "    .dataframe tbody tr th {\n",
       "        vertical-align: top;\n",
       "    }\n",
       "\n",
       "    .dataframe thead th {\n",
       "        text-align: right;\n",
       "    }\n",
       "</style>\n",
       "<table border=\"1\" class=\"dataframe\">\n",
       "  <thead>\n",
       "    <tr style=\"text-align: right;\">\n",
       "      <th></th>\n",
       "      <th>PassengerId</th>\n",
       "      <th>Survived</th>\n",
       "      <th>Pclass</th>\n",
       "      <th>Name</th>\n",
       "      <th>Sex</th>\n",
       "      <th>Age</th>\n",
       "      <th>SibSp</th>\n",
       "      <th>Parch</th>\n",
       "      <th>Ticket</th>\n",
       "      <th>Fare</th>\n",
       "      <th>Cabin</th>\n",
       "      <th>Embarked</th>\n",
       "    </tr>\n",
       "  </thead>\n",
       "  <tbody>\n",
       "    <tr>\n",
       "      <th>0</th>\n",
       "      <td>1</td>\n",
       "      <td>0</td>\n",
       "      <td>3</td>\n",
       "      <td>Braund, Mr. Owen Harris</td>\n",
       "      <td>male</td>\n",
       "      <td>22.0</td>\n",
       "      <td>1</td>\n",
       "      <td>0</td>\n",
       "      <td>A/5 21171</td>\n",
       "      <td>7.2500</td>\n",
       "      <td>NaN</td>\n",
       "      <td>S</td>\n",
       "    </tr>\n",
       "    <tr>\n",
       "      <th>1</th>\n",
       "      <td>2</td>\n",
       "      <td>1</td>\n",
       "      <td>1</td>\n",
       "      <td>Cumings, Mrs. John Bradley (Florence Briggs Th...</td>\n",
       "      <td>female</td>\n",
       "      <td>38.0</td>\n",
       "      <td>1</td>\n",
       "      <td>0</td>\n",
       "      <td>PC 17599</td>\n",
       "      <td>71.2833</td>\n",
       "      <td>C85</td>\n",
       "      <td>C</td>\n",
       "    </tr>\n",
       "    <tr>\n",
       "      <th>2</th>\n",
       "      <td>3</td>\n",
       "      <td>1</td>\n",
       "      <td>3</td>\n",
       "      <td>Heikkinen, Miss. Laina</td>\n",
       "      <td>female</td>\n",
       "      <td>26.0</td>\n",
       "      <td>0</td>\n",
       "      <td>0</td>\n",
       "      <td>STON/O2. 3101282</td>\n",
       "      <td>7.9250</td>\n",
       "      <td>NaN</td>\n",
       "      <td>S</td>\n",
       "    </tr>\n",
       "    <tr>\n",
       "      <th>3</th>\n",
       "      <td>4</td>\n",
       "      <td>1</td>\n",
       "      <td>1</td>\n",
       "      <td>Futrelle, Mrs. Jacques Heath (Lily May Peel)</td>\n",
       "      <td>female</td>\n",
       "      <td>35.0</td>\n",
       "      <td>1</td>\n",
       "      <td>0</td>\n",
       "      <td>113803</td>\n",
       "      <td>53.1000</td>\n",
       "      <td>C123</td>\n",
       "      <td>S</td>\n",
       "    </tr>\n",
       "    <tr>\n",
       "      <th>4</th>\n",
       "      <td>5</td>\n",
       "      <td>0</td>\n",
       "      <td>3</td>\n",
       "      <td>Allen, Mr. William Henry</td>\n",
       "      <td>male</td>\n",
       "      <td>35.0</td>\n",
       "      <td>0</td>\n",
       "      <td>0</td>\n",
       "      <td>373450</td>\n",
       "      <td>8.0500</td>\n",
       "      <td>NaN</td>\n",
       "      <td>S</td>\n",
       "    </tr>\n",
       "  </tbody>\n",
       "</table>\n",
       "</div>"
      ],
      "text/plain": [
       "   PassengerId  Survived  Pclass  \\\n",
       "0            1         0       3   \n",
       "1            2         1       1   \n",
       "2            3         1       3   \n",
       "3            4         1       1   \n",
       "4            5         0       3   \n",
       "\n",
       "                                                Name     Sex   Age  SibSp  \\\n",
       "0                            Braund, Mr. Owen Harris    male  22.0      1   \n",
       "1  Cumings, Mrs. John Bradley (Florence Briggs Th...  female  38.0      1   \n",
       "2                             Heikkinen, Miss. Laina  female  26.0      0   \n",
       "3       Futrelle, Mrs. Jacques Heath (Lily May Peel)  female  35.0      1   \n",
       "4                           Allen, Mr. William Henry    male  35.0      0   \n",
       "\n",
       "   Parch            Ticket     Fare Cabin Embarked  \n",
       "0      0         A/5 21171   7.2500   NaN        S  \n",
       "1      0          PC 17599  71.2833   C85        C  \n",
       "2      0  STON/O2. 3101282   7.9250   NaN        S  \n",
       "3      0            113803  53.1000  C123        S  \n",
       "4      0            373450   8.0500   NaN        S  "
      ]
     },
     "execution_count": 6,
     "metadata": {},
     "output_type": "execute_result"
    }
   ],
   "source": [
    "df.head()"
   ]
  },
  {
   "cell_type": "code",
   "execution_count": 7,
   "id": "9a76f445",
   "metadata": {},
   "outputs": [
    {
     "name": "stdout",
     "output_type": "stream",
     "text": [
      "<class 'pandas.core.frame.DataFrame'>\n",
      "RangeIndex: 891 entries, 0 to 890\n",
      "Data columns (total 12 columns):\n",
      " #   Column       Non-Null Count  Dtype  \n",
      "---  ------       --------------  -----  \n",
      " 0   PassengerId  891 non-null    int64  \n",
      " 1   Survived     891 non-null    int64  \n",
      " 2   Pclass       891 non-null    int64  \n",
      " 3   Name         891 non-null    object \n",
      " 4   Sex          891 non-null    object \n",
      " 5   Age          714 non-null    float64\n",
      " 6   SibSp        891 non-null    int64  \n",
      " 7   Parch        891 non-null    int64  \n",
      " 8   Ticket       891 non-null    object \n",
      " 9   Fare         891 non-null    float64\n",
      " 10  Cabin        204 non-null    object \n",
      " 11  Embarked     889 non-null    object \n",
      "dtypes: float64(2), int64(5), object(5)\n",
      "memory usage: 83.7+ KB\n"
     ]
    }
   ],
   "source": [
    "df.info()"
   ]
  },
  {
   "cell_type": "markdown",
   "id": "ea93c7c7",
   "metadata": {},
   "source": [
    "### 2.1 Histograms"
   ]
  },
  {
   "cell_type": "code",
   "execution_count": 8,
   "id": "e42e9d6d",
   "metadata": {},
   "outputs": [
    {
     "data": {
      "image/png": "[encoded data removed]",
      "text/plain": [
       "<Figure size 648x432 with 4 Axes>"
      ]
     },
     "metadata": {
      "needs_background": "light"
     },
     "output_type": "display_data"
    }
   ],
   "source": [
    "df_hist = df[['Fare', 'Age', 'Pclass', 'Survived']]\n",
    "\n",
    "fig, ax = plt.subplots(ncols=2, nrows=2, figsize=(9, 6))\n",
    "index=0\n",
    "ax = ax.flatten()\n",
    "\n",
    "for col, values in df_hist.items():\n",
    "    sns.distplot(values, ax=ax[index], kde=False)\n",
    "    index += 1\n",
    "plt.tight_layout()"
   ]
  },
  {
   "cell_type": "markdown",
   "id": "68927764",
   "metadata": {},
   "source": [
    "### 2.2 Survivors by feature"
   ]
  },
  {
   "cell_type": "code",
   "execution_count": 9,
   "id": "e42835da",
   "metadata": {},
   "outputs": [
    {
     "data": {
      "image/png": "[encoded data removed]",
      "text/plain": [
       "<Figure size 648x432 with 4 Axes>"
      ]
     },
     "metadata": {
      "needs_background": "light"
     },
     "output_type": "display_data"
    }
   ],
   "source": [
    "cols = ['Sex', 'Pclass', 'SibSp', 'Parch']\n",
    "nrows = 2\n",
    "ncols = 2\n",
    "\n",
    "fig, axs = plt.subplots(nrows, ncols, figsize = (9, 6))\n",
    "\n",
    "for r in range(0, nrows):\n",
    "    for c in range(0, ncols):\n",
    "        i = r*ncols + c # i goes through the columns\n",
    "        ax = axs[r][c] # positioning in subplots\n",
    "        sns.countplot(df[cols[i]], hue=df['Survived'], ax=ax)\n",
    "        ax.set_title(cols[i])\n",
    "        ax.legend(title='survived')\n",
    "plt.tight_layout()"
   ]
  },
  {
   "cell_type": "markdown",
   "id": "0239ad01",
   "metadata": {},
   "source": [
    "### 2.3 Percentage survived by sex"
   ]
  },
  {
   "cell_type": "code",
   "execution_count": 10,
   "id": "cb9aacf3",
   "metadata": {},
   "outputs": [
    {
     "data": {
      "text/plain": [
       "Text(0.5, 0, 'Percentage of Survivors')"
      ]
     },
     "execution_count": 10,
     "metadata": {},
     "output_type": "execute_result"
    },
    {
     "data": {
      "image/png": "[encoded data removed]",
      "text/plain": [
       "<Figure size 432x288 with 1 Axes>"
      ]
     },
     "metadata": {
      "needs_background": "light"
     },
     "output_type": "display_data"
    }
   ],
   "source": [
    "# Since we belive that 'Sex' is an important feature to analyse the label, we will look at percentage of survived by sex\n",
    "df_survived = df[df.Survived == 1]\n",
    "\n",
    "plt.title(\"Percentage of Survived by Sex\")\n",
    "numer = df_survived.Sex.value_counts().sort_index()\n",
    "denom = df.Sex.value_counts().sort_index()\n",
    "(numer/denom).plot(kind='barh', alpha=0.5)\n",
    "plt.xlabel(\"Percentage of Survivors\")"
   ]
  },
  {
   "cell_type": "markdown",
   "id": "63f68319",
   "metadata": {},
   "source": [
    "### 2.4 Percentage survived by Class"
   ]
  },
  {
   "cell_type": "code",
   "execution_count": 11,
   "id": "6f892668",
   "metadata": {},
   "outputs": [
    {
     "data": {
      "text/plain": [
       "Text(0.5, 0, 'Percentage of Survivors')"
      ]
     },
     "execution_count": 11,
     "metadata": {},
     "output_type": "execute_result"
    },
    {
     "data": {
      "image/png": "[encoded data removed]",
      "text/plain": [
       "<Figure size 864x432 with 1 Axes>"
      ]
     },
     "metadata": {
      "needs_background": "light"
     },
     "output_type": "display_data"
    }
   ],
   "source": [
    "# Since we belive that 'Pclass' is an important feature to analyse the label, we will look at percentage of survived by class\n",
    "plt.figure(figsize=(12, 6))\n",
    "plt.title(\"Percentage of Survived by Class\")\n",
    "numer2 = df_survived.Pclass.value_counts().sort_index()\n",
    "denom2 = df.Pclass.value_counts().sort_index()\n",
    "(numer2/denom2).plot(kind='barh', alpha=0.5)\n",
    "plt.ylabel(\"Class\")\n",
    "plt.xlabel(\"Percentage of Survivors\")"
   ]
  },
  {
   "cell_type": "code",
   "execution_count": 12,
   "id": "f5bfd85a",
   "metadata": {},
   "outputs": [],
   "source": [
    "# Conclusions: \n",
    "\n",
    "# We have a data frame with 891 samples, 11 features and 1 label\n",
    "# We can already spot problems with features 'Age', 'Cabin', 'Embarked'\n",
    "\n",
    "# Proportionally, women survived more than man\n",
    "# Porportionally, higher classes (1 being highest) survived more than lower classes (3 being lowest)"
   ]
  },
  {
   "cell_type": "markdown",
   "id": "9d458e0a",
   "metadata": {},
   "source": [
    "# 3. Objective and methodology"
   ]
  },
  {
   "cell_type": "code",
   "execution_count": 13,
   "id": "d5184378",
   "metadata": {},
   "outputs": [],
   "source": [
    "# Our aim is to predict the 'survived' column\n",
    "\n",
    "# We will approach this by:\n",
    "## (i) Handling categorical and other data\n",
    "## (ii) Looking for missing data and other issues\n",
    "## (iii) Visualising and looking for outliers in the data\n",
    "## (iv) Splitting the data into a 33%/67% train/split\n",
    "## (v) Using a logistic regression, KNN, decision tree and SVM model to see which performs best\n",
    "## (vi) Removing one feature at a time and seeing its effect"
   ]
  },
  {
   "cell_type": "markdown",
   "id": "2b9799da",
   "metadata": {},
   "source": [
    "# 4. Handle categorical and other data"
   ]
  },
  {
   "cell_type": "markdown",
   "id": "32b486c2",
   "metadata": {},
   "source": [
    "### 4.1 'Embarked' feature"
   ]
  },
  {
   "cell_type": "code",
   "execution_count": 14,
   "id": "41496eb1",
   "metadata": {},
   "outputs": [
    {
     "data": {
      "text/plain": [
       "array(['S', 'C', 'Q', nan], dtype=object)"
      ]
     },
     "execution_count": 14,
     "metadata": {},
     "output_type": "execute_result"
    }
   ],
   "source": [
    "df['Embarked'].unique()"
   ]
  },
  {
   "cell_type": "code",
   "execution_count": 15,
   "id": "cb723eea",
   "metadata": {},
   "outputs": [
    {
     "data": {
      "text/plain": [
       "S    644\n",
       "C    168\n",
       "Q     77\n",
       "Name: Embarked, dtype: int64"
      ]
     },
     "execution_count": 15,
     "metadata": {},
     "output_type": "execute_result"
    }
   ],
   "source": [
    "df['Embarked'].value_counts()"
   ]
  },
  {
   "cell_type": "code",
   "execution_count": 16,
   "id": "f6efe796",
   "metadata": {},
   "outputs": [
    {
     "data": {
      "text/html": [
       "<div>\n",
       "<style scoped>\n",
       "    .dataframe tbody tr th:only-of-type {\n",
       "        vertical-align: middle;\n",
       "    }\n",
       "\n",
       "    .dataframe tbody tr th {\n",
       "        vertical-align: top;\n",
       "    }\n",
       "\n",
       "    .dataframe thead th {\n",
       "        text-align: right;\n",
       "    }\n",
       "</style>\n",
       "<table border=\"1\" class=\"dataframe\">\n",
       "  <thead>\n",
       "    <tr style=\"text-align: right;\">\n",
       "      <th></th>\n",
       "      <th>PassengerId</th>\n",
       "      <th>Survived</th>\n",
       "      <th>Pclass</th>\n",
       "      <th>Name</th>\n",
       "      <th>Sex</th>\n",
       "      <th>Age</th>\n",
       "      <th>SibSp</th>\n",
       "      <th>Parch</th>\n",
       "      <th>Ticket</th>\n",
       "      <th>Fare</th>\n",
       "      <th>Cabin</th>\n",
       "      <th>EmbMap</th>\n",
       "    </tr>\n",
       "  </thead>\n",
       "  <tbody>\n",
       "    <tr>\n",
       "      <th>0</th>\n",
       "      <td>1</td>\n",
       "      <td>0</td>\n",
       "      <td>3</td>\n",
       "      <td>Braund, Mr. Owen Harris</td>\n",
       "      <td>male</td>\n",
       "      <td>22.0</td>\n",
       "      <td>1</td>\n",
       "      <td>0</td>\n",
       "      <td>A/5 21171</td>\n",
       "      <td>7.2500</td>\n",
       "      <td>NaN</td>\n",
       "      <td>1.0</td>\n",
       "    </tr>\n",
       "    <tr>\n",
       "      <th>1</th>\n",
       "      <td>2</td>\n",
       "      <td>1</td>\n",
       "      <td>1</td>\n",
       "      <td>Cumings, Mrs. John Bradley (Florence Briggs Th...</td>\n",
       "      <td>female</td>\n",
       "      <td>38.0</td>\n",
       "      <td>1</td>\n",
       "      <td>0</td>\n",
       "      <td>PC 17599</td>\n",
       "      <td>71.2833</td>\n",
       "      <td>C85</td>\n",
       "      <td>2.0</td>\n",
       "    </tr>\n",
       "    <tr>\n",
       "      <th>2</th>\n",
       "      <td>3</td>\n",
       "      <td>1</td>\n",
       "      <td>3</td>\n",
       "      <td>Heikkinen, Miss. Laina</td>\n",
       "      <td>female</td>\n",
       "      <td>26.0</td>\n",
       "      <td>0</td>\n",
       "      <td>0</td>\n",
       "      <td>STON/O2. 3101282</td>\n",
       "      <td>7.9250</td>\n",
       "      <td>NaN</td>\n",
       "      <td>1.0</td>\n",
       "    </tr>\n",
       "    <tr>\n",
       "      <th>3</th>\n",
       "      <td>4</td>\n",
       "      <td>1</td>\n",
       "      <td>1</td>\n",
       "      <td>Futrelle, Mrs. Jacques Heath (Lily May Peel)</td>\n",
       "      <td>female</td>\n",
       "      <td>35.0</td>\n",
       "      <td>1</td>\n",
       "      <td>0</td>\n",
       "      <td>113803</td>\n",
       "      <td>53.1000</td>\n",
       "      <td>C123</td>\n",
       "      <td>1.0</td>\n",
       "    </tr>\n",
       "    <tr>\n",
       "      <th>4</th>\n",
       "      <td>5</td>\n",
       "      <td>0</td>\n",
       "      <td>3</td>\n",
       "      <td>Allen, Mr. William Henry</td>\n",
       "      <td>male</td>\n",
       "      <td>35.0</td>\n",
       "      <td>0</td>\n",
       "      <td>0</td>\n",
       "      <td>373450</td>\n",
       "      <td>8.0500</td>\n",
       "      <td>NaN</td>\n",
       "      <td>1.0</td>\n",
       "    </tr>\n",
       "  </tbody>\n",
       "</table>\n",
       "</div>"
      ],
      "text/plain": [
       "   PassengerId  Survived  Pclass  \\\n",
       "0            1         0       3   \n",
       "1            2         1       1   \n",
       "2            3         1       3   \n",
       "3            4         1       1   \n",
       "4            5         0       3   \n",
       "\n",
       "                                                Name     Sex   Age  SibSp  \\\n",
       "0                            Braund, Mr. Owen Harris    male  22.0      1   \n",
       "1  Cumings, Mrs. John Bradley (Florence Briggs Th...  female  38.0      1   \n",
       "2                             Heikkinen, Miss. Laina  female  26.0      0   \n",
       "3       Futrelle, Mrs. Jacques Heath (Lily May Peel)  female  35.0      1   \n",
       "4                           Allen, Mr. William Henry    male  35.0      0   \n",
       "\n",
       "   Parch            Ticket     Fare Cabin  EmbMap  \n",
       "0      0         A/5 21171   7.2500   NaN     1.0  \n",
       "1      0          PC 17599  71.2833   C85     2.0  \n",
       "2      0  STON/O2. 3101282   7.9250   NaN     1.0  \n",
       "3      0            113803  53.1000  C123     1.0  \n",
       "4      0            373450   8.0500   NaN     1.0  "
      ]
     },
     "execution_count": 16,
     "metadata": {},
     "output_type": "execute_result"
    }
   ],
   "source": [
    "emb_mapping = {'S':1, 'C':2, 'Q':3}\n",
    "df['EmbMap'] = df.Embarked.map(emb_mapping)\n",
    "df.drop('Embarked', axis=1, inplace=True)\n",
    "\n",
    "df.head()"
   ]
  },
  {
   "cell_type": "markdown",
   "id": "9d67b338",
   "metadata": {},
   "source": [
    "### 4.2 'Sex' Feature"
   ]
  },
  {
   "cell_type": "code",
   "execution_count": 17,
   "id": "f6b5fa02",
   "metadata": {},
   "outputs": [
    {
     "data": {
      "text/html": [
       "<div>\n",
       "<style scoped>\n",
       "    .dataframe tbody tr th:only-of-type {\n",
       "        vertical-align: middle;\n",
       "    }\n",
       "\n",
       "    .dataframe tbody tr th {\n",
       "        vertical-align: top;\n",
       "    }\n",
       "\n",
       "    .dataframe thead th {\n",
       "        text-align: right;\n",
       "    }\n",
       "</style>\n",
       "<table border=\"1\" class=\"dataframe\">\n",
       "  <thead>\n",
       "    <tr style=\"text-align: right;\">\n",
       "      <th></th>\n",
       "      <th>PassengerId</th>\n",
       "      <th>Survived</th>\n",
       "      <th>Pclass</th>\n",
       "      <th>Name</th>\n",
       "      <th>Age</th>\n",
       "      <th>SibSp</th>\n",
       "      <th>Parch</th>\n",
       "      <th>Ticket</th>\n",
       "      <th>Fare</th>\n",
       "      <th>Cabin</th>\n",
       "      <th>EmbMap</th>\n",
       "      <th>SexMap</th>\n",
       "    </tr>\n",
       "  </thead>\n",
       "  <tbody>\n",
       "    <tr>\n",
       "      <th>0</th>\n",
       "      <td>1</td>\n",
       "      <td>0</td>\n",
       "      <td>3</td>\n",
       "      <td>Braund, Mr. Owen Harris</td>\n",
       "      <td>22.0</td>\n",
       "      <td>1</td>\n",
       "      <td>0</td>\n",
       "      <td>A/5 21171</td>\n",
       "      <td>7.2500</td>\n",
       "      <td>NaN</td>\n",
       "      <td>1.0</td>\n",
       "      <td>0</td>\n",
       "    </tr>\n",
       "    <tr>\n",
       "      <th>1</th>\n",
       "      <td>2</td>\n",
       "      <td>1</td>\n",
       "      <td>1</td>\n",
       "      <td>Cumings, Mrs. John Bradley (Florence Briggs Th...</td>\n",
       "      <td>38.0</td>\n",
       "      <td>1</td>\n",
       "      <td>0</td>\n",
       "      <td>PC 17599</td>\n",
       "      <td>71.2833</td>\n",
       "      <td>C85</td>\n",
       "      <td>2.0</td>\n",
       "      <td>1</td>\n",
       "    </tr>\n",
       "    <tr>\n",
       "      <th>2</th>\n",
       "      <td>3</td>\n",
       "      <td>1</td>\n",
       "      <td>3</td>\n",
       "      <td>Heikkinen, Miss. Laina</td>\n",
       "      <td>26.0</td>\n",
       "      <td>0</td>\n",
       "      <td>0</td>\n",
       "      <td>STON/O2. 3101282</td>\n",
       "      <td>7.9250</td>\n",
       "      <td>NaN</td>\n",
       "      <td>1.0</td>\n",
       "      <td>1</td>\n",
       "    </tr>\n",
       "    <tr>\n",
       "      <th>3</th>\n",
       "      <td>4</td>\n",
       "      <td>1</td>\n",
       "      <td>1</td>\n",
       "      <td>Futrelle, Mrs. Jacques Heath (Lily May Peel)</td>\n",
       "      <td>35.0</td>\n",
       "      <td>1</td>\n",
       "      <td>0</td>\n",
       "      <td>113803</td>\n",
       "      <td>53.1000</td>\n",
       "      <td>C123</td>\n",
       "      <td>1.0</td>\n",
       "      <td>1</td>\n",
       "    </tr>\n",
       "    <tr>\n",
       "      <th>4</th>\n",
       "      <td>5</td>\n",
       "      <td>0</td>\n",
       "      <td>3</td>\n",
       "      <td>Allen, Mr. William Henry</td>\n",
       "      <td>35.0</td>\n",
       "      <td>0</td>\n",
       "      <td>0</td>\n",
       "      <td>373450</td>\n",
       "      <td>8.0500</td>\n",
       "      <td>NaN</td>\n",
       "      <td>1.0</td>\n",
       "      <td>0</td>\n",
       "    </tr>\n",
       "  </tbody>\n",
       "</table>\n",
       "</div>"
      ],
      "text/plain": [
       "   PassengerId  Survived  Pclass  \\\n",
       "0            1         0       3   \n",
       "1            2         1       1   \n",
       "2            3         1       3   \n",
       "3            4         1       1   \n",
       "4            5         0       3   \n",
       "\n",
       "                                                Name   Age  SibSp  Parch  \\\n",
       "0                            Braund, Mr. Owen Harris  22.0      1      0   \n",
       "1  Cumings, Mrs. John Bradley (Florence Briggs Th...  38.0      1      0   \n",
       "2                             Heikkinen, Miss. Laina  26.0      0      0   \n",
       "3       Futrelle, Mrs. Jacques Heath (Lily May Peel)  35.0      1      0   \n",
       "4                           Allen, Mr. William Henry  35.0      0      0   \n",
       "\n",
       "             Ticket     Fare Cabin  EmbMap  SexMap  \n",
       "0         A/5 21171   7.2500   NaN     1.0       0  \n",
       "1          PC 17599  71.2833   C85     2.0       1  \n",
       "2  STON/O2. 3101282   7.9250   NaN     1.0       1  \n",
       "3            113803  53.1000  C123     1.0       1  \n",
       "4            373450   8.0500   NaN     1.0       0  "
      ]
     },
     "execution_count": 17,
     "metadata": {},
     "output_type": "execute_result"
    }
   ],
   "source": [
    "sex_mapping = {'male':0, 'female':1}\n",
    "df['SexMap'] = df.Sex.map(sex_mapping)\n",
    "df.drop('Sex', axis=1, inplace=True)\n",
    "\n",
    "df.head()"
   ]
  },
  {
   "cell_type": "markdown",
   "id": "e57a5367",
   "metadata": {},
   "source": [
    "# 5. Look for missing data and other issues"
   ]
  },
  {
   "cell_type": "markdown",
   "id": "509c14b0",
   "metadata": {},
   "source": [
    "### 5.1 Missing data in 'Cabin'"
   ]
  },
  {
   "cell_type": "code",
   "execution_count": 18,
   "id": "c8f7880c",
   "metadata": {},
   "outputs": [
    {
     "data": {
      "text/html": [
       "<div>\n",
       "<style scoped>\n",
       "    .dataframe tbody tr th:only-of-type {\n",
       "        vertical-align: middle;\n",
       "    }\n",
       "\n",
       "    .dataframe tbody tr th {\n",
       "        vertical-align: top;\n",
       "    }\n",
       "\n",
       "    .dataframe thead th {\n",
       "        text-align: right;\n",
       "    }\n",
       "</style>\n",
       "<table border=\"1\" class=\"dataframe\">\n",
       "  <thead>\n",
       "    <tr style=\"text-align: right;\">\n",
       "      <th></th>\n",
       "      <th>PassengerId</th>\n",
       "      <th>Survived</th>\n",
       "      <th>Pclass</th>\n",
       "      <th>Name</th>\n",
       "      <th>Age</th>\n",
       "      <th>SibSp</th>\n",
       "      <th>Parch</th>\n",
       "      <th>Ticket</th>\n",
       "      <th>Fare</th>\n",
       "      <th>EmbMap</th>\n",
       "      <th>SexMap</th>\n",
       "    </tr>\n",
       "  </thead>\n",
       "  <tbody>\n",
       "    <tr>\n",
       "      <th>0</th>\n",
       "      <td>1</td>\n",
       "      <td>0</td>\n",
       "      <td>3</td>\n",
       "      <td>Braund, Mr. Owen Harris</td>\n",
       "      <td>22.0</td>\n",
       "      <td>1</td>\n",
       "      <td>0</td>\n",
       "      <td>A/5 21171</td>\n",
       "      <td>7.2500</td>\n",
       "      <td>1.0</td>\n",
       "      <td>0</td>\n",
       "    </tr>\n",
       "    <tr>\n",
       "      <th>1</th>\n",
       "      <td>2</td>\n",
       "      <td>1</td>\n",
       "      <td>1</td>\n",
       "      <td>Cumings, Mrs. John Bradley (Florence Briggs Th...</td>\n",
       "      <td>38.0</td>\n",
       "      <td>1</td>\n",
       "      <td>0</td>\n",
       "      <td>PC 17599</td>\n",
       "      <td>71.2833</td>\n",
       "      <td>2.0</td>\n",
       "      <td>1</td>\n",
       "    </tr>\n",
       "    <tr>\n",
       "      <th>2</th>\n",
       "      <td>3</td>\n",
       "      <td>1</td>\n",
       "      <td>3</td>\n",
       "      <td>Heikkinen, Miss. Laina</td>\n",
       "      <td>26.0</td>\n",
       "      <td>0</td>\n",
       "      <td>0</td>\n",
       "      <td>STON/O2. 3101282</td>\n",
       "      <td>7.9250</td>\n",
       "      <td>1.0</td>\n",
       "      <td>1</td>\n",
       "    </tr>\n",
       "    <tr>\n",
       "      <th>3</th>\n",
       "      <td>4</td>\n",
       "      <td>1</td>\n",
       "      <td>1</td>\n",
       "      <td>Futrelle, Mrs. Jacques Heath (Lily May Peel)</td>\n",
       "      <td>35.0</td>\n",
       "      <td>1</td>\n",
       "      <td>0</td>\n",
       "      <td>113803</td>\n",
       "      <td>53.1000</td>\n",
       "      <td>1.0</td>\n",
       "      <td>1</td>\n",
       "    </tr>\n",
       "    <tr>\n",
       "      <th>4</th>\n",
       "      <td>5</td>\n",
       "      <td>0</td>\n",
       "      <td>3</td>\n",
       "      <td>Allen, Mr. William Henry</td>\n",
       "      <td>35.0</td>\n",
       "      <td>0</td>\n",
       "      <td>0</td>\n",
       "      <td>373450</td>\n",
       "      <td>8.0500</td>\n",
       "      <td>1.0</td>\n",
       "      <td>0</td>\n",
       "    </tr>\n",
       "  </tbody>\n",
       "</table>\n",
       "</div>"
      ],
      "text/plain": [
       "   PassengerId  Survived  Pclass  \\\n",
       "0            1         0       3   \n",
       "1            2         1       1   \n",
       "2            3         1       3   \n",
       "3            4         1       1   \n",
       "4            5         0       3   \n",
       "\n",
       "                                                Name   Age  SibSp  Parch  \\\n",
       "0                            Braund, Mr. Owen Harris  22.0      1      0   \n",
       "1  Cumings, Mrs. John Bradley (Florence Briggs Th...  38.0      1      0   \n",
       "2                             Heikkinen, Miss. Laina  26.0      0      0   \n",
       "3       Futrelle, Mrs. Jacques Heath (Lily May Peel)  35.0      1      0   \n",
       "4                           Allen, Mr. William Henry  35.0      0      0   \n",
       "\n",
       "             Ticket     Fare  EmbMap  SexMap  \n",
       "0         A/5 21171   7.2500     1.0       0  \n",
       "1          PC 17599  71.2833     2.0       1  \n",
       "2  STON/O2. 3101282   7.9250     1.0       1  \n",
       "3            113803  53.1000     1.0       1  \n",
       "4            373450   8.0500     1.0       0  "
      ]
     },
     "execution_count": 18,
     "metadata": {},
     "output_type": "execute_result"
    }
   ],
   "source": [
    "# The feature cabin seems to replicate the info in Pclass, given that only higher class passengers have cabins\n",
    "# Therefore, we are dropping this feature\n",
    "\n",
    "df.drop('Cabin', axis=1, inplace=True)\n",
    "\n",
    "df.head()"
   ]
  },
  {
   "cell_type": "markdown",
   "id": "f4a9fd69",
   "metadata": {},
   "source": [
    "### 5.2 Missing data in 'Age'"
   ]
  },
  {
   "cell_type": "code",
   "execution_count": 19,
   "id": "f3a2ea10",
   "metadata": {},
   "outputs": [
    {
     "name": "stdout",
     "output_type": "stream",
     "text": [
      "<class 'pandas.core.frame.DataFrame'>\n",
      "RangeIndex: 891 entries, 0 to 890\n",
      "Data columns (total 11 columns):\n",
      " #   Column       Non-Null Count  Dtype  \n",
      "---  ------       --------------  -----  \n",
      " 0   PassengerId  891 non-null    int64  \n",
      " 1   Survived     891 non-null    int64  \n",
      " 2   Pclass       891 non-null    int64  \n",
      " 3   Name         891 non-null    object \n",
      " 4   Age          714 non-null    float64\n",
      " 5   SibSp        891 non-null    int64  \n",
      " 6   Parch        891 non-null    int64  \n",
      " 7   Ticket       891 non-null    object \n",
      " 8   Fare         891 non-null    float64\n",
      " 9   EmbMap       889 non-null    float64\n",
      " 10  SexMap       891 non-null    int64  \n",
      "dtypes: float64(3), int64(6), object(2)\n",
      "memory usage: 76.7+ KB\n"
     ]
    }
   ],
   "source": [
    "df.info()"
   ]
  },
  {
   "cell_type": "code",
   "execution_count": 20,
   "id": "6a9d226e",
   "metadata": {},
   "outputs": [
    {
     "data": {
      "text/plain": [
       "29.69911764705882"
      ]
     },
     "execution_count": 20,
     "metadata": {},
     "output_type": "execute_result"
    }
   ],
   "source": [
    "# We will fill the na data in Age with the average age\n",
    "\n",
    "averageAge = df['Age'].mean()\n",
    "averageAge"
   ]
  },
  {
   "cell_type": "code",
   "execution_count": 21,
   "id": "24cf808a",
   "metadata": {},
   "outputs": [
    {
     "data": {
      "text/plain": [
       "28.343689655172415"
      ]
     },
     "execution_count": 21,
     "metadata": {},
     "output_type": "execute_result"
    }
   ],
   "source": [
    "# Checking the average age of survivors to see if there is any significant difference\n",
    "\n",
    "df_survived['Age'].mean()"
   ]
  },
  {
   "cell_type": "code",
   "execution_count": 22,
   "id": "c6578cde",
   "metadata": {},
   "outputs": [
    {
     "name": "stdout",
     "output_type": "stream",
     "text": [
      "<class 'pandas.core.frame.DataFrame'>\n",
      "RangeIndex: 891 entries, 0 to 890\n",
      "Data columns (total 11 columns):\n",
      " #   Column       Non-Null Count  Dtype  \n",
      "---  ------       --------------  -----  \n",
      " 0   PassengerId  891 non-null    int64  \n",
      " 1   Survived     891 non-null    int64  \n",
      " 2   Pclass       891 non-null    int64  \n",
      " 3   Name         891 non-null    object \n",
      " 4   Age          891 non-null    float64\n",
      " 5   SibSp        891 non-null    int64  \n",
      " 6   Parch        891 non-null    int64  \n",
      " 7   Ticket       891 non-null    object \n",
      " 8   Fare         891 non-null    float64\n",
      " 9   EmbMap       889 non-null    float64\n",
      " 10  SexMap       891 non-null    int64  \n",
      "dtypes: float64(3), int64(6), object(2)\n",
      "memory usage: 76.7+ KB\n"
     ]
    }
   ],
   "source": [
    "# There is no significant difference, so we assign the mean to the missing data using .fillna\n",
    "\n",
    "df['Age'] = df['Age'].fillna(averageAge)\n",
    "\n",
    "df.info()"
   ]
  },
  {
   "cell_type": "markdown",
   "id": "191d66ca",
   "metadata": {},
   "source": [
    "### 5.3 Missing data in EmbMap"
   ]
  },
  {
   "cell_type": "code",
   "execution_count": 23,
   "id": "1c95e6ba",
   "metadata": {},
   "outputs": [
    {
     "name": "stdout",
     "output_type": "stream",
     "text": [
      "<class 'pandas.core.frame.DataFrame'>\n",
      "Int64Index: 889 entries, 0 to 890\n",
      "Data columns (total 11 columns):\n",
      " #   Column       Non-Null Count  Dtype  \n",
      "---  ------       --------------  -----  \n",
      " 0   PassengerId  889 non-null    int64  \n",
      " 1   Survived     889 non-null    int64  \n",
      " 2   Pclass       889 non-null    int64  \n",
      " 3   Name         889 non-null    object \n",
      " 4   Age          889 non-null    float64\n",
      " 5   SibSp        889 non-null    int64  \n",
      " 6   Parch        889 non-null    int64  \n",
      " 7   Ticket       889 non-null    object \n",
      " 8   Fare         889 non-null    float64\n",
      " 9   EmbMap       889 non-null    float64\n",
      " 10  SexMap       889 non-null    int64  \n",
      "dtypes: float64(3), int64(6), object(2)\n",
      "memory usage: 83.3+ KB\n"
     ]
    }
   ],
   "source": [
    "# We have 2 missing data in EmbMap.\n",
    "\n",
    "## Since it is only 2 samples, we can simply drop these rows from df\n",
    "\n",
    "df = df.dropna()\n",
    "\n",
    "df.info()"
   ]
  },
  {
   "cell_type": "markdown",
   "id": "f531495b",
   "metadata": {},
   "source": [
    "### 5.4 Standarizing the 'Age' feature"
   ]
  },
  {
   "cell_type": "code",
   "execution_count": 24,
   "id": "834ddfd4",
   "metadata": {},
   "outputs": [
    {
     "data": {
      "text/plain": [
       "numpy.ndarray"
      ]
     },
     "execution_count": 24,
     "metadata": {},
     "output_type": "execute_result"
    }
   ],
   "source": [
    "type(df.Age.values)"
   ]
  },
  {
   "cell_type": "code",
   "execution_count": 25,
   "id": "b9f5ec7e",
   "metadata": {},
   "outputs": [
    {
     "data": {
      "text/plain": [
       "(889,)"
      ]
     },
     "execution_count": 25,
     "metadata": {},
     "output_type": "execute_result"
    }
   ],
   "source": [
    "df.Age.values.shape"
   ]
  },
  {
   "cell_type": "code",
   "execution_count": 26,
   "id": "317947af",
   "metadata": {},
   "outputs": [
    {
     "data": {
      "text/plain": [
       "<AxesSubplot:>"
      ]
     },
     "execution_count": 26,
     "metadata": {},
     "output_type": "execute_result"
    },
    {
     "data": {
      "image/png": "[encoded data removed]",
      "text/plain": [
       "<Figure size 432x288 with 1 Axes>"
      ]
     },
     "metadata": {
      "needs_background": "light"
     },
     "output_type": "display_data"
    }
   ],
   "source": [
    "from sklearn.preprocessing import StandardScaler\n",
    "df['AgeSD'] = StandardScaler().fit_transform(df.Age.values.reshape(-1,1))\n",
    "df.drop('Age', axis=1, inplace=True)\n",
    "\n",
    "df.AgeSD.hist()"
   ]
  },
  {
   "cell_type": "markdown",
   "id": "96400035",
   "metadata": {},
   "source": [
    "### 5.5 Removing other redundant features"
   ]
  },
  {
   "cell_type": "code",
   "execution_count": 27,
   "id": "2557aa35",
   "metadata": {},
   "outputs": [],
   "source": [
    "# We will drop the 'Name', 'PassengerId' and 'Ticket' for they will not help in our analysis"
   ]
  },
  {
   "cell_type": "code",
   "execution_count": 28,
   "id": "8b62bbea",
   "metadata": {},
   "outputs": [],
   "source": [
    "df.drop(['Name'], axis=1, inplace=True)\n",
    "df.drop(['PassengerId'], axis=1, inplace=True)\n",
    "df.drop(['Ticket'], axis=1, inplace=True)"
   ]
  },
  {
   "cell_type": "markdown",
   "id": "a84d754a",
   "metadata": {},
   "source": [
    "# 6. Visualise the data and look for outliers to remove"
   ]
  },
  {
   "cell_type": "code",
   "execution_count": 29,
   "id": "5a1d9c20",
   "metadata": {},
   "outputs": [
    {
     "data": {
      "text/html": [
       "<div>\n",
       "<style scoped>\n",
       "    .dataframe tbody tr th:only-of-type {\n",
       "        vertical-align: middle;\n",
       "    }\n",
       "\n",
       "    .dataframe tbody tr th {\n",
       "        vertical-align: top;\n",
       "    }\n",
       "\n",
       "    .dataframe thead th {\n",
       "        text-align: right;\n",
       "    }\n",
       "</style>\n",
       "<table border=\"1\" class=\"dataframe\">\n",
       "  <thead>\n",
       "    <tr style=\"text-align: right;\">\n",
       "      <th></th>\n",
       "      <th>Survived</th>\n",
       "      <th>Pclass</th>\n",
       "      <th>SibSp</th>\n",
       "      <th>Parch</th>\n",
       "      <th>Fare</th>\n",
       "      <th>EmbMap</th>\n",
       "      <th>SexMap</th>\n",
       "      <th>AgeSD</th>\n",
       "    </tr>\n",
       "  </thead>\n",
       "  <tbody>\n",
       "    <tr>\n",
       "      <th>0</th>\n",
       "      <td>0</td>\n",
       "      <td>3</td>\n",
       "      <td>1</td>\n",
       "      <td>0</td>\n",
       "      <td>7.2500</td>\n",
       "      <td>1.0</td>\n",
       "      <td>0</td>\n",
       "      <td>-0.590495</td>\n",
       "    </tr>\n",
       "    <tr>\n",
       "      <th>1</th>\n",
       "      <td>1</td>\n",
       "      <td>1</td>\n",
       "      <td>1</td>\n",
       "      <td>0</td>\n",
       "      <td>71.2833</td>\n",
       "      <td>2.0</td>\n",
       "      <td>1</td>\n",
       "      <td>0.643971</td>\n",
       "    </tr>\n",
       "    <tr>\n",
       "      <th>2</th>\n",
       "      <td>1</td>\n",
       "      <td>3</td>\n",
       "      <td>0</td>\n",
       "      <td>0</td>\n",
       "      <td>7.9250</td>\n",
       "      <td>1.0</td>\n",
       "      <td>1</td>\n",
       "      <td>-0.281878</td>\n",
       "    </tr>\n",
       "    <tr>\n",
       "      <th>3</th>\n",
       "      <td>1</td>\n",
       "      <td>1</td>\n",
       "      <td>1</td>\n",
       "      <td>0</td>\n",
       "      <td>53.1000</td>\n",
       "      <td>1.0</td>\n",
       "      <td>1</td>\n",
       "      <td>0.412509</td>\n",
       "    </tr>\n",
       "    <tr>\n",
       "      <th>4</th>\n",
       "      <td>0</td>\n",
       "      <td>3</td>\n",
       "      <td>0</td>\n",
       "      <td>0</td>\n",
       "      <td>8.0500</td>\n",
       "      <td>1.0</td>\n",
       "      <td>0</td>\n",
       "      <td>0.412509</td>\n",
       "    </tr>\n",
       "    <tr>\n",
       "      <th>...</th>\n",
       "      <td>...</td>\n",
       "      <td>...</td>\n",
       "      <td>...</td>\n",
       "      <td>...</td>\n",
       "      <td>...</td>\n",
       "      <td>...</td>\n",
       "      <td>...</td>\n",
       "      <td>...</td>\n",
       "    </tr>\n",
       "    <tr>\n",
       "      <th>886</th>\n",
       "      <td>0</td>\n",
       "      <td>2</td>\n",
       "      <td>0</td>\n",
       "      <td>0</td>\n",
       "      <td>13.0000</td>\n",
       "      <td>1.0</td>\n",
       "      <td>0</td>\n",
       "      <td>-0.204724</td>\n",
       "    </tr>\n",
       "    <tr>\n",
       "      <th>887</th>\n",
       "      <td>1</td>\n",
       "      <td>1</td>\n",
       "      <td>0</td>\n",
       "      <td>0</td>\n",
       "      <td>30.0000</td>\n",
       "      <td>1.0</td>\n",
       "      <td>1</td>\n",
       "      <td>-0.821957</td>\n",
       "    </tr>\n",
       "    <tr>\n",
       "      <th>888</th>\n",
       "      <td>0</td>\n",
       "      <td>3</td>\n",
       "      <td>1</td>\n",
       "      <td>2</td>\n",
       "      <td>23.4500</td>\n",
       "      <td>1.0</td>\n",
       "      <td>1</td>\n",
       "      <td>0.003524</td>\n",
       "    </tr>\n",
       "    <tr>\n",
       "      <th>889</th>\n",
       "      <td>1</td>\n",
       "      <td>1</td>\n",
       "      <td>0</td>\n",
       "      <td>0</td>\n",
       "      <td>30.0000</td>\n",
       "      <td>2.0</td>\n",
       "      <td>0</td>\n",
       "      <td>-0.281878</td>\n",
       "    </tr>\n",
       "    <tr>\n",
       "      <th>890</th>\n",
       "      <td>0</td>\n",
       "      <td>3</td>\n",
       "      <td>0</td>\n",
       "      <td>0</td>\n",
       "      <td>7.7500</td>\n",
       "      <td>3.0</td>\n",
       "      <td>0</td>\n",
       "      <td>0.181046</td>\n",
       "    </tr>\n",
       "  </tbody>\n",
       "</table>\n",
       "<p>889 rows × 8 columns</p>\n",
       "</div>"
      ],
      "text/plain": [
       "     Survived  Pclass  SibSp  Parch     Fare  EmbMap  SexMap     AgeSD\n",
       "0           0       3      1      0   7.2500     1.0       0 -0.590495\n",
       "1           1       1      1      0  71.2833     2.0       1  0.643971\n",
       "2           1       3      0      0   7.9250     1.0       1 -0.281878\n",
       "3           1       1      1      0  53.1000     1.0       1  0.412509\n",
       "4           0       3      0      0   8.0500     1.0       0  0.412509\n",
       "..        ...     ...    ...    ...      ...     ...     ...       ...\n",
       "886         0       2      0      0  13.0000     1.0       0 -0.204724\n",
       "887         1       1      0      0  30.0000     1.0       1 -0.821957\n",
       "888         0       3      1      2  23.4500     1.0       1  0.003524\n",
       "889         1       1      0      0  30.0000     2.0       0 -0.281878\n",
       "890         0       3      0      0   7.7500     3.0       0  0.181046\n",
       "\n",
       "[889 rows x 8 columns]"
      ]
     },
     "execution_count": 29,
     "metadata": {},
     "output_type": "execute_result"
    }
   ],
   "source": [
    "df"
   ]
  },
  {
   "cell_type": "code",
   "execution_count": 30,
   "id": "02bc9db6",
   "metadata": {},
   "outputs": [],
   "source": [
    "# Reordering columns for organization\n",
    "\n",
    "df = df[['Fare', 'Pclass', 'SibSp', 'Parch', 'EmbMap', 'SexMap', 'AgeSD', 'Survived']]"
   ]
  },
  {
   "cell_type": "code",
   "execution_count": 31,
   "id": "f829f26a",
   "metadata": {},
   "outputs": [
    {
     "data": {
      "text/plain": [
       "<AxesSubplot:>"
      ]
     },
     "execution_count": 31,
     "metadata": {},
     "output_type": "execute_result"
    },
    {
     "data": {
      "image/png": "[encoded data removed]",
      "text/plain": [
       "<Figure size 1440x720 with 2 Axes>"
      ]
     },
     "metadata": {
      "needs_background": "light"
     },
     "output_type": "display_data"
    }
   ],
   "source": [
    "## Plot a correlation matrix to see the correlations between (i) features x label and (ii) features x features\n",
    "\n",
    "corr = df.corr()\n",
    "plt.figure(figsize=(20,10))\n",
    "sns.heatmap(corr, annot=True, cmap='coolwarm')"
   ]
  },
  {
   "cell_type": "code",
   "execution_count": 32,
   "id": "7c0f69ec",
   "metadata": {},
   "outputs": [],
   "source": [
    "# Brief analysis of correlation matrix:\n",
    "\n",
    "## As we can observe, 'SexMap' and 'Pclass' are the most relevant features to determine who survived\n",
    "## Note that 'Fare' also has a relatively high correlation with the label, but it also has a high correlation with 'Pclass'\n",
    "### which indicates that part of the information provived by these features are duplicated\n",
    "## We will maintain both for now and see how things go in step 9"
   ]
  },
  {
   "cell_type": "markdown",
   "id": "fd1d4ff1",
   "metadata": {},
   "source": [
    "# 7. Regression model and train/test split"
   ]
  },
  {
   "cell_type": "markdown",
   "id": "96a6796c",
   "metadata": {},
   "source": [
    "### 7.1 Creating matrix X and vector y"
   ]
  },
  {
   "cell_type": "code",
   "execution_count": 33,
   "id": "b1368e95",
   "metadata": {},
   "outputs": [
    {
     "name": "stdout",
     "output_type": "stream",
     "text": [
      "<class 'pandas.core.frame.DataFrame'>\n",
      "Int64Index: 889 entries, 0 to 890\n",
      "Data columns (total 7 columns):\n",
      " #   Column  Non-Null Count  Dtype  \n",
      "---  ------  --------------  -----  \n",
      " 0   Fare    889 non-null    float64\n",
      " 1   Pclass  889 non-null    int64  \n",
      " 2   SibSp   889 non-null    int64  \n",
      " 3   Parch   889 non-null    int64  \n",
      " 4   EmbMap  889 non-null    float64\n",
      " 5   SexMap  889 non-null    int64  \n",
      " 6   AgeSD   889 non-null    float64\n",
      "dtypes: float64(3), int64(4)\n",
      "memory usage: 55.6 KB\n"
     ]
    }
   ],
   "source": [
    "X = df[['Fare', 'Pclass', 'SibSp', 'Parch', 'EmbMap', 'SexMap', 'AgeSD']]\n",
    "y = np.array(df['Survived'])\n",
    "\n",
    "X.info()"
   ]
  },
  {
   "cell_type": "code",
   "execution_count": 34,
   "id": "d065f735",
   "metadata": {},
   "outputs": [
    {
     "data": {
      "text/plain": [
       "(889,)"
      ]
     },
     "execution_count": 34,
     "metadata": {},
     "output_type": "execute_result"
    }
   ],
   "source": [
    "y.shape"
   ]
  },
  {
   "cell_type": "markdown",
   "id": "1ea1b6cf",
   "metadata": {},
   "source": [
    "### 7.2 Usefull functions from HelpFunctions"
   ]
  },
  {
   "cell_type": "code",
   "execution_count": 2,
   "id": "34d08456",
   "metadata": {},
   "outputs": [],
   "source": [
    "# We will use this function from 'HelpFunctions' to plot the confusion matrices\n",
    "from sklearn.metrics import plot_confusion_matrix\n",
    "\n",
    "def plot_cm(clf, X, y, labs):\n",
    "    \n",
    "    mpl.rcParams.update({'font.size': 16})\n",
    "    cm = plot_confusion_matrix(clf, X, y, display_labels=labs,cmap=mpl.cm.Blues);"
   ]
  },
  {
   "cell_type": "markdown",
   "id": "0fd6e954",
   "metadata": {},
   "source": [
    "### 7.3 Defining the 'train' function"
   ]
  },
  {
   "cell_type": "code",
   "execution_count": 1,
   "id": "b7cd4154",
   "metadata": {},
   "outputs": [
    {
     "ename": "NameError",
     "evalue": "name 'x' is not defined",
     "output_type": "error",
     "traceback": [
      "\u001b[1;31m---------------------------------------------------------------------------\u001b[0m",
      "\u001b[1;31mNameError\u001b[0m                                 Traceback (most recent call last)",
      "\u001b[1;32m<ipython-input-1-0988b1b3815b>\u001b[0m in \u001b[0;36m<module>\u001b[1;34m\u001b[0m\n\u001b[0;32m      5\u001b[0m \u001b[1;32mfrom\u001b[0m \u001b[0msklearn\u001b[0m\u001b[1;33m.\u001b[0m\u001b[0mmetrics\u001b[0m \u001b[1;32mimport\u001b[0m \u001b[0mf1_score\u001b[0m\u001b[1;33m\u001b[0m\u001b[1;33m\u001b[0m\u001b[0m\n\u001b[0;32m      6\u001b[0m \u001b[1;33m\u001b[0m\u001b[0m\n\u001b[1;32m----> 7\u001b[1;33m \u001b[0mx_train\u001b[0m\u001b[1;33m,\u001b[0m \u001b[0mx_test\u001b[0m\u001b[1;33m,\u001b[0m \u001b[0my_train\u001b[0m\u001b[1;33m,\u001b[0m \u001b[0my_test\u001b[0m \u001b[1;33m=\u001b[0m \u001b[0mtrain_test_split\u001b[0m\u001b[1;33m(\u001b[0m\u001b[0mx\u001b[0m\u001b[1;33m,\u001b[0m \u001b[0my\u001b[0m\u001b[1;33m,\u001b[0m \u001b[0mtest_size\u001b[0m\u001b[1;33m=\u001b[0m\u001b[1;36m30\u001b[0m\u001b[1;33m,\u001b[0m \u001b[0mrandom_state\u001b[0m\u001b[1;33m=\u001b[0m\u001b[1;36m999\u001b[0m\u001b[1;33m)\u001b[0m\u001b[1;33m\u001b[0m\u001b[1;33m\u001b[0m\u001b[0m\n\u001b[0m\u001b[0;32m      8\u001b[0m \u001b[1;33m\u001b[0m\u001b[0m\n\u001b[0;32m      9\u001b[0m \u001b[1;32mdef\u001b[0m \u001b[0mtrain\u001b[0m\u001b[1;33m(\u001b[0m\u001b[0mmodel\u001b[0m\u001b[1;33m,\u001b[0m \u001b[0mx\u001b[0m\u001b[1;33m,\u001b[0m \u001b[0my\u001b[0m\u001b[1;33m)\u001b[0m\u001b[1;33m:\u001b[0m\u001b[1;33m\u001b[0m\u001b[1;33m\u001b[0m\u001b[0m\n",
      "\u001b[1;31mNameError\u001b[0m: name 'x' is not defined"
     ]
    }
   ],
   "source": [
    "from sklearn.model_selection import train_test_split\n",
    "from sklearn.metrics import accuracy_score\n",
    "from sklearn.metrics import precision_score\n",
    "from sklearn.metrics import recall_score\n",
    "from sklearn.metrics import f1_score\n",
    "\n",
    "def train(model, X, y):\n",
    "    X_train, X_test, y_train, y_test = train_test_split(X, y, test_size=33, random_state=999)\n",
    "    model.fit(X_train, y_train)\n",
    "    y_pred = model.predict(X_test)\n",
    "    \n",
    "    print('Model Report')\n",
    "    print('Accuracy: ', np.around(accuracy_score(y_test, y_pred),4))\n",
    "    print('Precision: ', np.around(precision_score(y_test, y_pred),4))\n",
    "    print('Recall: ', np.around(recall_score(y_test, y_pred),4))\n",
    "    print('f1: ', np.around(f1_score(y_test, y_pred),4))\n",
    "    plot_cm(model, X, y, labs=('Not Survived', 'Survived'))"
   ]
  },
  {
   "cell_type": "markdown",
   "id": "82439508",
   "metadata": {},
   "source": [
    "# 8. Choosing the best classification model"
   ]
  },
  {
   "cell_type": "markdown",
   "id": "d43f8ace",
   "metadata": {},
   "source": [
    "### 8.1 Logistic Regression"
   ]
  },
  {
   "cell_type": "code",
   "execution_count": 37,
   "id": "595cd22f",
   "metadata": {},
   "outputs": [
    {
     "name": "stdout",
     "output_type": "stream",
     "text": [
      "Model Report\n",
      "Accuracy:  0.8788\n",
      "Precision:  0.9091\n",
      "Recall:  0.7692\n",
      "f1:  0.8333\n"
     ]
    },
    {
     "data": {
      "image/png": "[encoded data removed]",
      "text/plain": [
       "<Figure size 432x288 with 2 Axes>"
      ]
     },
     "metadata": {
      "needs_background": "light"
     },
     "output_type": "display_data"
    }
   ],
   "source": [
    "from sklearn.linear_model import LogisticRegression\n",
    "\n",
    "model = LogisticRegression(solver='liblinear')\n",
    "train(model, X, y)"
   ]
  },
  {
   "cell_type": "markdown",
   "id": "6bdf3ad0",
   "metadata": {},
   "source": [
    "### 8.2 KNN"
   ]
  },
  {
   "cell_type": "code",
   "execution_count": 38,
   "id": "490cda74",
   "metadata": {},
   "outputs": [
    {
     "name": "stdout",
     "output_type": "stream",
     "text": [
      "Model Report\n",
      "Accuracy:  0.8182\n",
      "Precision:  0.7692\n",
      "Recall:  0.7692\n",
      "f1:  0.7692\n"
     ]
    },
    {
     "data": {
      "image/png": "[encoded data removed]",
      "text/plain": [
       "<Figure size 432x288 with 2 Axes>"
      ]
     },
     "metadata": {
      "needs_background": "light"
     },
     "output_type": "display_data"
    }
   ],
   "source": [
    "from sklearn.neighbors import KNeighborsClassifier\n",
    "\n",
    "k=9  # We tested odd k's from 3 to 31, 9 resulted in the best accuracy and precision metrics\n",
    "model = KNeighborsClassifier(k)\n",
    "train(model, X, y)"
   ]
  },
  {
   "cell_type": "markdown",
   "id": "e31fdc81",
   "metadata": {},
   "source": [
    "### 8.3 Decision Tree"
   ]
  },
  {
   "cell_type": "code",
   "execution_count": 39,
   "id": "510850ae",
   "metadata": {},
   "outputs": [
    {
     "name": "stdout",
     "output_type": "stream",
     "text": [
      "Model Report\n",
      "Accuracy:  0.9091\n",
      "Precision:  1.0\n",
      "Recall:  0.7692\n",
      "f1:  0.8696\n"
     ]
    },
    {
     "data": {
      "image/png": "[encoded data removed]",
      "text/plain": [
       "<Figure size 432x288 with 2 Axes>"
      ]
     },
     "metadata": {
      "needs_background": "light"
     },
     "output_type": "display_data"
    }
   ],
   "source": [
    "from sklearn.tree import export_graphviz\n",
    "from sklearn.tree import DecisionTreeClassifier\n",
    "from os import system\n",
    "from graphviz import Source\n",
    "from IPython.display import SVG\n",
    "\n",
    "model = DecisionTreeClassifier(random_state=1, max_depth=5)\n",
    "train(model, X, y)"
   ]
  },
  {
   "cell_type": "code",
   "execution_count": 40,
   "id": "bcbec188",
   "metadata": {},
   "outputs": [
    {
     "data": {
      "image/svg+xml": [
       "<svg xmlns=\"http://www.w3.org/2000/svg\" xmlns:xlink=\"http://www.w3.org/1999/xlink\" width=\"1898pt\" height=\"581pt\" viewBox=\"0.00 0.00 1898.00 581.00\">\n",
       "<g id=\"graph0\" class=\"graph\" transform=\"scale(1 1) rotate(0) translate(4 577)\">\n",
       "<title>Tree</title>\n",
       "<polygon fill=\"white\" stroke=\"transparent\" points=\"-4,4 -4,-577 1894,-577 1894,4 -4,4\"/>\n",
       "<!-- 0 -->\n",
       "<g id=\"node1\" class=\"node\">\n",
       "<title>0</title>\n",
       "<polygon fill=\"none\" stroke=\"black\" points=\"659,-573 541,-573 541,-505 659,-505 659,-573\"/>\n",
       "<text text-anchor=\"middle\" x=\"600\" y=\"-557.8\" font-family=\"Times New Roman,serif\" font-size=\"14.00\">SexMap &lt;= 0.5</text>\n",
       "<text text-anchor=\"middle\" x=\"600\" y=\"-542.8\" font-family=\"Times New Roman,serif\" font-size=\"14.00\">gini = 0.472</text>\n",
       "<text text-anchor=\"middle\" x=\"600\" y=\"-527.8\" font-family=\"Times New Roman,serif\" font-size=\"14.00\">samples = 856</text>\n",
       "<text text-anchor=\"middle\" x=\"600\" y=\"-512.8\" font-family=\"Times New Roman,serif\" font-size=\"14.00\">value = [529, 327]</text>\n",
       "</g>\n",
       "<!-- 1 -->\n",
       "<g id=\"node2\" class=\"node\">\n",
       "<title>1</title>\n",
       "<polygon fill=\"none\" stroke=\"black\" points=\"416,-469 298,-469 298,-401 416,-401 416,-469\"/>\n",
       "<text text-anchor=\"middle\" x=\"357\" y=\"-453.8\" font-family=\"Times New Roman,serif\" font-size=\"14.00\">AgeSD &lt;= -1.786</text>\n",
       "<text text-anchor=\"middle\" x=\"357\" y=\"-438.8\" font-family=\"Times New Roman,serif\" font-size=\"14.00\">gini = 0.308</text>\n",
       "<text text-anchor=\"middle\" x=\"357\" y=\"-423.8\" font-family=\"Times New Roman,serif\" font-size=\"14.00\">samples = 557</text>\n",
       "<text text-anchor=\"middle\" x=\"357\" y=\"-408.8\" font-family=\"Times New Roman,serif\" font-size=\"14.00\">value = [451, 106]</text>\n",
       "</g>\n",
       "<!-- 0&#45;&gt;1 -->\n",
       "<g id=\"edge1\" class=\"edge\">\n",
       "<title>0-&gt;1</title>\n",
       "<path fill=\"none\" stroke=\"black\" d=\"M540.87,-513.18C506.18,-498.62 462.18,-480.15 425.92,-464.93\"/>\n",
       "<polygon fill=\"black\" stroke=\"black\" points=\"426.97,-461.58 416.4,-460.93 424.26,-468.03 426.97,-461.58\"/>\n",
       "<text text-anchor=\"middle\" x=\"425.86\" y=\"-480.37\" font-family=\"Times New Roman,serif\" font-size=\"14.00\">True</text>\n",
       "</g>\n",
       "<!-- 18 -->\n",
       "<g id=\"node19\" class=\"node\">\n",
       "<title>18</title>\n",
       "<polygon fill=\"none\" stroke=\"black\" points=\"916.5,-469 805.5,-469 805.5,-401 916.5,-401 916.5,-469\"/>\n",
       "<text text-anchor=\"middle\" x=\"861\" y=\"-453.8\" font-family=\"Times New Roman,serif\" font-size=\"14.00\">Pclass &lt;= 2.5</text>\n",
       "<text text-anchor=\"middle\" x=\"861\" y=\"-438.8\" font-family=\"Times New Roman,serif\" font-size=\"14.00\">gini = 0.386</text>\n",
       "<text text-anchor=\"middle\" x=\"861\" y=\"-423.8\" font-family=\"Times New Roman,serif\" font-size=\"14.00\">samples = 299</text>\n",
       "<text text-anchor=\"middle\" x=\"861\" y=\"-408.8\" font-family=\"Times New Roman,serif\" font-size=\"14.00\">value = [78, 221]</text>\n",
       "</g>\n",
       "<!-- 0&#45;&gt;18 -->\n",
       "<g id=\"edge18\" class=\"edge\">\n",
       "<title>0-&gt;18</title>\n",
       "<path fill=\"none\" stroke=\"black\" d=\"M659.22,-514.85C699.83,-498.99 753.71,-477.93 795.58,-461.57\"/>\n",
       "<polygon fill=\"black\" stroke=\"black\" points=\"797.1,-464.73 805.14,-457.83 794.55,-458.21 797.1,-464.73\"/>\n",
       "<text text-anchor=\"middle\" x=\"795.11\" y=\"-477.03\" font-family=\"Times New Roman,serif\" font-size=\"14.00\">False</text>\n",
       "</g>\n",
       "<!-- 2 -->\n",
       "<g id=\"node3\" class=\"node\">\n",
       "<title>2</title>\n",
       "<polygon fill=\"none\" stroke=\"black\" points=\"211,-365 113,-365 113,-297 211,-297 211,-365\"/>\n",
       "<text text-anchor=\"middle\" x=\"162\" y=\"-349.8\" font-family=\"Times New Roman,serif\" font-size=\"14.00\">SibSp &lt;= 2.5</text>\n",
       "<text text-anchor=\"middle\" x=\"162\" y=\"-334.8\" font-family=\"Times New Roman,serif\" font-size=\"14.00\">gini = 0.434</text>\n",
       "<text text-anchor=\"middle\" x=\"162\" y=\"-319.8\" font-family=\"Times New Roman,serif\" font-size=\"14.00\">samples = 22</text>\n",
       "<text text-anchor=\"middle\" x=\"162\" y=\"-304.8\" font-family=\"Times New Roman,serif\" font-size=\"14.00\">value = [7, 15]</text>\n",
       "</g>\n",
       "<!-- 1&#45;&gt;2 -->\n",
       "<g id=\"edge2\" class=\"edge\">\n",
       "<title>1-&gt;2</title>\n",
       "<path fill=\"none\" stroke=\"black\" d=\"M297.96,-403.12C273.41,-390.28 244.99,-375.41 220.49,-362.6\"/>\n",
       "<polygon fill=\"black\" stroke=\"black\" points=\"221.8,-359.33 211.31,-357.8 218.55,-365.53 221.8,-359.33\"/>\n",
       "</g>\n",
       "<!-- 5 -->\n",
       "<g id=\"node6\" class=\"node\">\n",
       "<title>5</title>\n",
       "<polygon fill=\"none\" stroke=\"black\" points=\"412.5,-365 301.5,-365 301.5,-297 412.5,-297 412.5,-365\"/>\n",
       "<text text-anchor=\"middle\" x=\"357\" y=\"-349.8\" font-family=\"Times New Roman,serif\" font-size=\"14.00\">Pclass &lt;= 1.5</text>\n",
       "<text text-anchor=\"middle\" x=\"357\" y=\"-334.8\" font-family=\"Times New Roman,serif\" font-size=\"14.00\">gini = 0.282</text>\n",
       "<text text-anchor=\"middle\" x=\"357\" y=\"-319.8\" font-family=\"Times New Roman,serif\" font-size=\"14.00\">samples = 535</text>\n",
       "<text text-anchor=\"middle\" x=\"357\" y=\"-304.8\" font-family=\"Times New Roman,serif\" font-size=\"14.00\">value = [444, 91]</text>\n",
       "</g>\n",
       "<!-- 1&#45;&gt;5 -->\n",
       "<g id=\"edge5\" class=\"edge\">\n",
       "<title>1-&gt;5</title>\n",
       "<path fill=\"none\" stroke=\"black\" d=\"M357,-400.88C357,-392.78 357,-383.98 357,-375.47\"/>\n",
       "<polygon fill=\"black\" stroke=\"black\" points=\"360.5,-375.3 357,-365.3 353.5,-375.3 360.5,-375.3\"/>\n",
       "</g>\n",
       "<!-- 3 -->\n",
       "<g id=\"node4\" class=\"node\">\n",
       "<title>3</title>\n",
       "<polygon fill=\"none\" stroke=\"black\" points=\"98,-253.5 0,-253.5 0,-200.5 98,-200.5 98,-253.5\"/>\n",
       "<text text-anchor=\"middle\" x=\"49\" y=\"-238.3\" font-family=\"Times New Roman,serif\" font-size=\"14.00\">gini = 0.0</text>\n",
       "<text text-anchor=\"middle\" x=\"49\" y=\"-223.3\" font-family=\"Times New Roman,serif\" font-size=\"14.00\">samples = 15</text>\n",
       "<text text-anchor=\"middle\" x=\"49\" y=\"-208.3\" font-family=\"Times New Roman,serif\" font-size=\"14.00\">value = [0, 15]</text>\n",
       "</g>\n",
       "<!-- 2&#45;&gt;3 -->\n",
       "<g id=\"edge3\" class=\"edge\">\n",
       "<title>2-&gt;3</title>\n",
       "<path fill=\"none\" stroke=\"black\" d=\"M125.31,-296.88C112.4,-285.23 97.9,-272.14 85.04,-260.53\"/>\n",
       "<polygon fill=\"black\" stroke=\"black\" points=\"87.04,-257.62 77.27,-253.52 82.35,-262.82 87.04,-257.62\"/>\n",
       "</g>\n",
       "<!-- 4 -->\n",
       "<g id=\"node5\" class=\"node\">\n",
       "<title>4</title>\n",
       "<polygon fill=\"none\" stroke=\"black\" points=\"207.5,-253.5 116.5,-253.5 116.5,-200.5 207.5,-200.5 207.5,-253.5\"/>\n",
       "<text text-anchor=\"middle\" x=\"162\" y=\"-238.3\" font-family=\"Times New Roman,serif\" font-size=\"14.00\">gini = 0.0</text>\n",
       "<text text-anchor=\"middle\" x=\"162\" y=\"-223.3\" font-family=\"Times New Roman,serif\" font-size=\"14.00\">samples = 7</text>\n",
       "<text text-anchor=\"middle\" x=\"162\" y=\"-208.3\" font-family=\"Times New Roman,serif\" font-size=\"14.00\">value = [7, 0]</text>\n",
       "</g>\n",
       "<!-- 2&#45;&gt;4 -->\n",
       "<g id=\"edge4\" class=\"edge\">\n",
       "<title>2-&gt;4</title>\n",
       "<path fill=\"none\" stroke=\"black\" d=\"M162,-296.88C162,-286.33 162,-274.6 162,-263.85\"/>\n",
       "<polygon fill=\"black\" stroke=\"black\" points=\"165.5,-263.52 162,-253.52 158.5,-263.52 165.5,-263.52\"/>\n",
       "</g>\n",
       "<!-- 6 -->\n",
       "<g id=\"node7\" class=\"node\">\n",
       "<title>6</title>\n",
       "<polygon fill=\"none\" stroke=\"black\" points=\"330,-261 226,-261 226,-193 330,-193 330,-261\"/>\n",
       "<text text-anchor=\"middle\" x=\"278\" y=\"-245.8\" font-family=\"Times New Roman,serif\" font-size=\"14.00\">Fare &lt;= 26.144</text>\n",
       "<text text-anchor=\"middle\" x=\"278\" y=\"-230.8\" font-family=\"Times New Roman,serif\" font-size=\"14.00\">gini = 0.463</text>\n",
       "<text text-anchor=\"middle\" x=\"278\" y=\"-215.8\" font-family=\"Times New Roman,serif\" font-size=\"14.00\">samples = 118</text>\n",
       "<text text-anchor=\"middle\" x=\"278\" y=\"-200.8\" font-family=\"Times New Roman,serif\" font-size=\"14.00\">value = [75, 43]</text>\n",
       "</g>\n",
       "<!-- 5&#45;&gt;6 -->\n",
       "<g id=\"edge6\" class=\"edge\">\n",
       "<title>5-&gt;6</title>\n",
       "<path fill=\"none\" stroke=\"black\" d=\"M331.35,-296.88C324.52,-288.07 317.06,-278.43 309.94,-269.24\"/>\n",
       "<polygon fill=\"black\" stroke=\"black\" points=\"312.68,-267.06 303.79,-261.3 307.15,-271.35 312.68,-267.06\"/>\n",
       "</g>\n",
       "<!-- 11 -->\n",
       "<g id=\"node12\" class=\"node\">\n",
       "<title>11</title>\n",
       "<polygon fill=\"none\" stroke=\"black\" points=\"484.5,-261 373.5,-261 373.5,-193 484.5,-193 484.5,-261\"/>\n",
       "<text text-anchor=\"middle\" x=\"429\" y=\"-245.8\" font-family=\"Times New Roman,serif\" font-size=\"14.00\">Fare &lt;= 51.698</text>\n",
       "<text text-anchor=\"middle\" x=\"429\" y=\"-230.8\" font-family=\"Times New Roman,serif\" font-size=\"14.00\">gini = 0.204</text>\n",
       "<text text-anchor=\"middle\" x=\"429\" y=\"-215.8\" font-family=\"Times New Roman,serif\" font-size=\"14.00\">samples = 417</text>\n",
       "<text text-anchor=\"middle\" x=\"429\" y=\"-200.8\" font-family=\"Times New Roman,serif\" font-size=\"14.00\">value = [369, 48]</text>\n",
       "</g>\n",
       "<!-- 5&#45;&gt;11 -->\n",
       "<g id=\"edge11\" class=\"edge\">\n",
       "<title>5-&gt;11</title>\n",
       "<path fill=\"none\" stroke=\"black\" d=\"M380.38,-296.88C386.54,-288.15 393.26,-278.62 399.7,-269.51\"/>\n",
       "<polygon fill=\"black\" stroke=\"black\" points=\"402.59,-271.49 405.49,-261.3 396.87,-267.45 402.59,-271.49\"/>\n",
       "</g>\n",
       "<!-- 7 -->\n",
       "<g id=\"node8\" class=\"node\">\n",
       "<title>7</title>\n",
       "<polygon fill=\"none\" stroke=\"black\" points=\"178,-149.5 80,-149.5 80,-96.5 178,-96.5 178,-149.5\"/>\n",
       "<text text-anchor=\"middle\" x=\"129\" y=\"-134.3\" font-family=\"Times New Roman,serif\" font-size=\"14.00\">gini = 0.0</text>\n",
       "<text text-anchor=\"middle\" x=\"129\" y=\"-119.3\" font-family=\"Times New Roman,serif\" font-size=\"14.00\">samples = 10</text>\n",
       "<text text-anchor=\"middle\" x=\"129\" y=\"-104.3\" font-family=\"Times New Roman,serif\" font-size=\"14.00\">value = [10, 0]</text>\n",
       "</g>\n",
       "<!-- 6&#45;&gt;7 -->\n",
       "<g id=\"edge7\" class=\"edge\">\n",
       "<title>6-&gt;7</title>\n",
       "<path fill=\"none\" stroke=\"black\" d=\"M229.62,-192.88C211.95,-180.79 192.03,-167.15 174.61,-155.22\"/>\n",
       "<polygon fill=\"black\" stroke=\"black\" points=\"176.51,-152.28 166.28,-149.52 172.55,-158.06 176.51,-152.28\"/>\n",
       "</g>\n",
       "<!-- 8 -->\n",
       "<g id=\"node9\" class=\"node\">\n",
       "<title>8</title>\n",
       "<polygon fill=\"none\" stroke=\"black\" points=\"308,-157 196,-157 196,-89 308,-89 308,-157\"/>\n",
       "<text text-anchor=\"middle\" x=\"252\" y=\"-141.8\" font-family=\"Times New Roman,serif\" font-size=\"14.00\">AgeSD &lt;= 1.801</text>\n",
       "<text text-anchor=\"middle\" x=\"252\" y=\"-126.8\" font-family=\"Times New Roman,serif\" font-size=\"14.00\">gini = 0.479</text>\n",
       "<text text-anchor=\"middle\" x=\"252\" y=\"-111.8\" font-family=\"Times New Roman,serif\" font-size=\"14.00\">samples = 108</text>\n",
       "<text text-anchor=\"middle\" x=\"252\" y=\"-96.8\" font-family=\"Times New Roman,serif\" font-size=\"14.00\">value = [65, 43]</text>\n",
       "</g>\n",
       "<!-- 6&#45;&gt;8 -->\n",
       "<g id=\"edge8\" class=\"edge\">\n",
       "<title>6-&gt;8</title>\n",
       "<path fill=\"none\" stroke=\"black\" d=\"M269.56,-192.88C267.47,-184.69 265.2,-175.79 263.01,-167.19\"/>\n",
       "<polygon fill=\"black\" stroke=\"black\" points=\"266.35,-166.12 260.49,-157.3 259.57,-167.85 266.35,-166.12\"/>\n",
       "</g>\n",
       "<!-- 9 -->\n",
       "<g id=\"node10\" class=\"node\">\n",
       "<title>9</title>\n",
       "<polygon fill=\"none\" stroke=\"black\" points=\"164,-53 60,-53 60,0 164,0 164,-53\"/>\n",
       "<text text-anchor=\"middle\" x=\"112\" y=\"-37.8\" font-family=\"Times New Roman,serif\" font-size=\"14.00\">gini = 0.497</text>\n",
       "<text text-anchor=\"middle\" x=\"112\" y=\"-22.8\" font-family=\"Times New Roman,serif\" font-size=\"14.00\">samples = 87</text>\n",
       "<text text-anchor=\"middle\" x=\"112\" y=\"-7.8\" font-family=\"Times New Roman,serif\" font-size=\"14.00\">value = [47, 40]</text>\n",
       "</g>\n",
       "<!-- 8&#45;&gt;9 -->\n",
       "<g id=\"edge9\" class=\"edge\">\n",
       "<title>8-&gt;9</title>\n",
       "<path fill=\"none\" stroke=\"black\" d=\"M203.03,-88.95C188.67,-79.25 173,-68.68 158.77,-59.07\"/>\n",
       "<polygon fill=\"black\" stroke=\"black\" points=\"160.38,-55.93 150.13,-53.24 156.46,-61.73 160.38,-55.93\"/>\n",
       "</g>\n",
       "<!-- 10 -->\n",
       "<g id=\"node11\" class=\"node\">\n",
       "<title>10</title>\n",
       "<polygon fill=\"none\" stroke=\"black\" points=\"280,-53 182,-53 182,0 280,0 280,-53\"/>\n",
       "<text text-anchor=\"middle\" x=\"231\" y=\"-37.8\" font-family=\"Times New Roman,serif\" font-size=\"14.00\">gini = 0.245</text>\n",
       "<text text-anchor=\"middle\" x=\"231\" y=\"-22.8\" font-family=\"Times New Roman,serif\" font-size=\"14.00\">samples = 21</text>\n",
       "<text text-anchor=\"middle\" x=\"231\" y=\"-7.8\" font-family=\"Times New Roman,serif\" font-size=\"14.00\">value = [18, 3]</text>\n",
       "</g>\n",
       "<!-- 8&#45;&gt;10 -->\n",
       "<g id=\"edge10\" class=\"edge\">\n",
       "<title>8-&gt;10</title>\n",
       "<path fill=\"none\" stroke=\"black\" d=\"M244.66,-88.95C242.81,-80.62 240.81,-71.65 238.93,-63.2\"/>\n",
       "<polygon fill=\"black\" stroke=\"black\" points=\"242.31,-62.24 236.72,-53.24 235.47,-63.76 242.31,-62.24\"/>\n",
       "</g>\n",
       "<!-- 12 -->\n",
       "<g id=\"node13\" class=\"node\">\n",
       "<title>12</title>\n",
       "<polygon fill=\"none\" stroke=\"black\" points=\"487,-157 371,-157 371,-89 487,-89 487,-157\"/>\n",
       "<text text-anchor=\"middle\" x=\"429\" y=\"-141.8\" font-family=\"Times New Roman,serif\" font-size=\"14.00\">AgeSD &lt;= -1.285</text>\n",
       "<text text-anchor=\"middle\" x=\"429\" y=\"-126.8\" font-family=\"Times New Roman,serif\" font-size=\"14.00\">gini = 0.191</text>\n",
       "<text text-anchor=\"middle\" x=\"429\" y=\"-111.8\" font-family=\"Times New Roman,serif\" font-size=\"14.00\">samples = 402</text>\n",
       "<text text-anchor=\"middle\" x=\"429\" y=\"-96.8\" font-family=\"Times New Roman,serif\" font-size=\"14.00\">value = [359, 43]</text>\n",
       "</g>\n",
       "<!-- 11&#45;&gt;12 -->\n",
       "<g id=\"edge12\" class=\"edge\">\n",
       "<title>11-&gt;12</title>\n",
       "<path fill=\"none\" stroke=\"black\" d=\"M429,-192.88C429,-184.78 429,-175.98 429,-167.47\"/>\n",
       "<polygon fill=\"black\" stroke=\"black\" points=\"432.5,-167.3 429,-157.3 425.5,-167.3 432.5,-167.3\"/>\n",
       "</g>\n",
       "<!-- 15 -->\n",
       "<g id=\"node16\" class=\"node\">\n",
       "<title>15</title>\n",
       "<polygon fill=\"none\" stroke=\"black\" points=\"631.5,-157 528.5,-157 528.5,-89 631.5,-89 631.5,-157\"/>\n",
       "<text text-anchor=\"middle\" x=\"580\" y=\"-141.8\" font-family=\"Times New Roman,serif\" font-size=\"14.00\">Fare &lt;= 63.023</text>\n",
       "<text text-anchor=\"middle\" x=\"580\" y=\"-126.8\" font-family=\"Times New Roman,serif\" font-size=\"14.00\">gini = 0.444</text>\n",
       "<text text-anchor=\"middle\" x=\"580\" y=\"-111.8\" font-family=\"Times New Roman,serif\" font-size=\"14.00\">samples = 15</text>\n",
       "<text text-anchor=\"middle\" x=\"580\" y=\"-96.8\" font-family=\"Times New Roman,serif\" font-size=\"14.00\">value = [10, 5]</text>\n",
       "</g>\n",
       "<!-- 11&#45;&gt;15 -->\n",
       "<g id=\"edge15\" class=\"edge\">\n",
       "<title>11-&gt;15</title>\n",
       "<path fill=\"none\" stroke=\"black\" d=\"M478.03,-192.88C492.21,-183.3 507.82,-172.76 522.47,-162.86\"/>\n",
       "<polygon fill=\"black\" stroke=\"black\" points=\"524.63,-165.62 530.96,-157.12 520.72,-159.82 524.63,-165.62\"/>\n",
       "</g>\n",
       "<!-- 13 -->\n",
       "<g id=\"node14\" class=\"node\">\n",
       "<title>13</title>\n",
       "<polygon fill=\"none\" stroke=\"black\" points=\"389.5,-53 298.5,-53 298.5,0 389.5,0 389.5,-53\"/>\n",
       "<text text-anchor=\"middle\" x=\"344\" y=\"-37.8\" font-family=\"Times New Roman,serif\" font-size=\"14.00\">gini = 0.444</text>\n",
       "<text text-anchor=\"middle\" x=\"344\" y=\"-22.8\" font-family=\"Times New Roman,serif\" font-size=\"14.00\">samples = 12</text>\n",
       "<text text-anchor=\"middle\" x=\"344\" y=\"-7.8\" font-family=\"Times New Roman,serif\" font-size=\"14.00\">value = [8, 4]</text>\n",
       "</g>\n",
       "<!-- 12&#45;&gt;13 -->\n",
       "<g id=\"edge13\" class=\"edge\">\n",
       "<title>12-&gt;13</title>\n",
       "<path fill=\"none\" stroke=\"black\" d=\"M399.27,-88.95C391.04,-79.8 382.11,-69.87 373.87,-60.71\"/>\n",
       "<polygon fill=\"black\" stroke=\"black\" points=\"376.44,-58.33 367.15,-53.24 371.23,-63.01 376.44,-58.33\"/>\n",
       "</g>\n",
       "<!-- 14 -->\n",
       "<g id=\"node15\" class=\"node\">\n",
       "<title>14</title>\n",
       "<polygon fill=\"none\" stroke=\"black\" points=\"518.5,-53 407.5,-53 407.5,0 518.5,0 518.5,-53\"/>\n",
       "<text text-anchor=\"middle\" x=\"463\" y=\"-37.8\" font-family=\"Times New Roman,serif\" font-size=\"14.00\">gini = 0.18</text>\n",
       "<text text-anchor=\"middle\" x=\"463\" y=\"-22.8\" font-family=\"Times New Roman,serif\" font-size=\"14.00\">samples = 390</text>\n",
       "<text text-anchor=\"middle\" x=\"463\" y=\"-7.8\" font-family=\"Times New Roman,serif\" font-size=\"14.00\">value = [351, 39]</text>\n",
       "</g>\n",
       "<!-- 12&#45;&gt;14 -->\n",
       "<g id=\"edge14\" class=\"edge\">\n",
       "<title>12-&gt;14</title>\n",
       "<path fill=\"none\" stroke=\"black\" d=\"M440.89,-88.95C443.95,-80.44 447.26,-71.26 450.35,-62.65\"/>\n",
       "<polygon fill=\"black\" stroke=\"black\" points=\"453.65,-63.83 453.74,-53.24 447.06,-61.46 453.65,-63.83\"/>\n",
       "</g>\n",
       "<!-- 16 -->\n",
       "<g id=\"node17\" class=\"node\">\n",
       "<title>16</title>\n",
       "<polygon fill=\"none\" stroke=\"black\" points=\"627.5,-53 536.5,-53 536.5,0 627.5,0 627.5,-53\"/>\n",
       "<text text-anchor=\"middle\" x=\"582\" y=\"-37.8\" font-family=\"Times New Roman,serif\" font-size=\"14.00\">gini = 0.408</text>\n",
       "<text text-anchor=\"middle\" x=\"582\" y=\"-22.8\" font-family=\"Times New Roman,serif\" font-size=\"14.00\">samples = 7</text>\n",
       "<text text-anchor=\"middle\" x=\"582\" y=\"-7.8\" font-family=\"Times New Roman,serif\" font-size=\"14.00\">value = [2, 5]</text>\n",
       "</g>\n",
       "<!-- 15&#45;&gt;16 -->\n",
       "<g id=\"edge16\" class=\"edge\">\n",
       "<title>15-&gt;16</title>\n",
       "<path fill=\"none\" stroke=\"black\" d=\"M580.7,-88.95C580.87,-80.72 581.06,-71.85 581.24,-63.48\"/>\n",
       "<polygon fill=\"black\" stroke=\"black\" points=\"584.74,-63.31 581.46,-53.24 577.74,-63.16 584.74,-63.31\"/>\n",
       "</g>\n",
       "<!-- 17 -->\n",
       "<g id=\"node18\" class=\"node\">\n",
       "<title>17</title>\n",
       "<polygon fill=\"none\" stroke=\"black\" points=\"736.5,-53 645.5,-53 645.5,0 736.5,0 736.5,-53\"/>\n",
       "<text text-anchor=\"middle\" x=\"691\" y=\"-37.8\" font-family=\"Times New Roman,serif\" font-size=\"14.00\">gini = 0.0</text>\n",
       "<text text-anchor=\"middle\" x=\"691\" y=\"-22.8\" font-family=\"Times New Roman,serif\" font-size=\"14.00\">samples = 8</text>\n",
       "<text text-anchor=\"middle\" x=\"691\" y=\"-7.8\" font-family=\"Times New Roman,serif\" font-size=\"14.00\">value = [8, 0]</text>\n",
       "</g>\n",
       "<!-- 15&#45;&gt;17 -->\n",
       "<g id=\"edge17\" class=\"edge\">\n",
       "<title>15-&gt;17</title>\n",
       "<path fill=\"none\" stroke=\"black\" d=\"M618.82,-88.95C629.89,-79.53 641.93,-69.27 652.95,-59.89\"/>\n",
       "<polygon fill=\"black\" stroke=\"black\" points=\"655.42,-62.38 660.77,-53.24 650.89,-57.05 655.42,-62.38\"/>\n",
       "</g>\n",
       "<!-- 19 -->\n",
       "<g id=\"node20\" class=\"node\">\n",
       "<title>19</title>\n",
       "<polygon fill=\"none\" stroke=\"black\" points=\"919,-365 803,-365 803,-297 919,-297 919,-365\"/>\n",
       "<text text-anchor=\"middle\" x=\"861\" y=\"-349.8\" font-family=\"Times New Roman,serif\" font-size=\"14.00\">AgeSD &lt;= -2.095</text>\n",
       "<text text-anchor=\"middle\" x=\"861\" y=\"-334.8\" font-family=\"Times New Roman,serif\" font-size=\"14.00\">gini = 0.107</text>\n",
       "<text text-anchor=\"middle\" x=\"861\" y=\"-319.8\" font-family=\"Times New Roman,serif\" font-size=\"14.00\">samples = 159</text>\n",
       "<text text-anchor=\"middle\" x=\"861\" y=\"-304.8\" font-family=\"Times New Roman,serif\" font-size=\"14.00\">value = [9, 150]</text>\n",
       "</g>\n",
       "<!-- 18&#45;&gt;19 -->\n",
       "<g id=\"edge19\" class=\"edge\">\n",
       "<title>18-&gt;19</title>\n",
       "<path fill=\"none\" stroke=\"black\" d=\"M861,-400.88C861,-392.78 861,-383.98 861,-375.47\"/>\n",
       "<polygon fill=\"black\" stroke=\"black\" points=\"864.5,-375.3 861,-365.3 857.5,-375.3 864.5,-375.3\"/>\n",
       "</g>\n",
       "<!-- 30 -->\n",
       "<g id=\"node31\" class=\"node\">\n",
       "<title>30</title>\n",
       "<polygon fill=\"none\" stroke=\"black\" points=\"1480,-365 1376,-365 1376,-297 1480,-297 1480,-365\"/>\n",
       "<text text-anchor=\"middle\" x=\"1428\" y=\"-349.8\" font-family=\"Times New Roman,serif\" font-size=\"14.00\">Fare &lt;= 23.35</text>\n",
       "<text text-anchor=\"middle\" x=\"1428\" y=\"-334.8\" font-family=\"Times New Roman,serif\" font-size=\"14.00\">gini = 0.5</text>\n",
       "<text text-anchor=\"middle\" x=\"1428\" y=\"-319.8\" font-family=\"Times New Roman,serif\" font-size=\"14.00\">samples = 140</text>\n",
       "<text text-anchor=\"middle\" x=\"1428\" y=\"-304.8\" font-family=\"Times New Roman,serif\" font-size=\"14.00\">value = [69, 71]</text>\n",
       "</g>\n",
       "<!-- 18&#45;&gt;30 -->\n",
       "<g id=\"edge30\" class=\"edge\">\n",
       "<title>18-&gt;30</title>\n",
       "<path fill=\"none\" stroke=\"black\" d=\"M916.66,-423.99C1022.99,-404.86 1254.34,-363.24 1365.67,-343.21\"/>\n",
       "<polygon fill=\"black\" stroke=\"black\" points=\"1366.52,-346.62 1375.74,-341.4 1365.28,-339.73 1366.52,-346.62\"/>\n",
       "</g>\n",
       "<!-- 20 -->\n",
       "<g id=\"node21\" class=\"node\">\n",
       "<title>20</title>\n",
       "<polygon fill=\"none\" stroke=\"black\" points=\"851.5,-261 748.5,-261 748.5,-193 851.5,-193 851.5,-261\"/>\n",
       "<text text-anchor=\"middle\" x=\"800\" y=\"-245.8\" font-family=\"Times New Roman,serif\" font-size=\"14.00\">Fare &lt;= 88.775</text>\n",
       "<text text-anchor=\"middle\" x=\"800\" y=\"-230.8\" font-family=\"Times New Roman,serif\" font-size=\"14.00\">gini = 0.5</text>\n",
       "<text text-anchor=\"middle\" x=\"800\" y=\"-215.8\" font-family=\"Times New Roman,serif\" font-size=\"14.00\">samples = 2</text>\n",
       "<text text-anchor=\"middle\" x=\"800\" y=\"-200.8\" font-family=\"Times New Roman,serif\" font-size=\"14.00\">value = [1, 1]</text>\n",
       "</g>\n",
       "<!-- 19&#45;&gt;20 -->\n",
       "<g id=\"edge20\" class=\"edge\">\n",
       "<title>19-&gt;20</title>\n",
       "<path fill=\"none\" stroke=\"black\" d=\"M841.2,-296.88C836.08,-288.33 830.51,-279.01 825.16,-270.07\"/>\n",
       "<polygon fill=\"black\" stroke=\"black\" points=\"828.05,-268.09 819.91,-261.3 822.04,-271.68 828.05,-268.09\"/>\n",
       "</g>\n",
       "<!-- 23 -->\n",
       "<g id=\"node24\" class=\"node\">\n",
       "<title>23</title>\n",
       "<polygon fill=\"none\" stroke=\"black\" points=\"974,-261 870,-261 870,-193 974,-193 974,-261\"/>\n",
       "<text text-anchor=\"middle\" x=\"922\" y=\"-245.8\" font-family=\"Times New Roman,serif\" font-size=\"14.00\">Fare &lt;= 28.856</text>\n",
       "<text text-anchor=\"middle\" x=\"922\" y=\"-230.8\" font-family=\"Times New Roman,serif\" font-size=\"14.00\">gini = 0.097</text>\n",
       "<text text-anchor=\"middle\" x=\"922\" y=\"-215.8\" font-family=\"Times New Roman,serif\" font-size=\"14.00\">samples = 157</text>\n",
       "<text text-anchor=\"middle\" x=\"922\" y=\"-200.8\" font-family=\"Times New Roman,serif\" font-size=\"14.00\">value = [8, 149]</text>\n",
       "</g>\n",
       "<!-- 19&#45;&gt;23 -->\n",
       "<g id=\"edge23\" class=\"edge\">\n",
       "<title>19-&gt;23</title>\n",
       "<path fill=\"none\" stroke=\"black\" d=\"M880.8,-296.88C885.92,-288.33 891.49,-279.01 896.84,-270.07\"/>\n",
       "<polygon fill=\"black\" stroke=\"black\" points=\"899.96,-271.68 902.09,-261.3 893.95,-268.09 899.96,-271.68\"/>\n",
       "</g>\n",
       "<!-- 21 -->\n",
       "<g id=\"node22\" class=\"node\">\n",
       "<title>21</title>\n",
       "<polygon fill=\"none\" stroke=\"black\" points=\"740.5,-149.5 649.5,-149.5 649.5,-96.5 740.5,-96.5 740.5,-149.5\"/>\n",
       "<text text-anchor=\"middle\" x=\"695\" y=\"-134.3\" font-family=\"Times New Roman,serif\" font-size=\"14.00\">gini = 0.0</text>\n",
       "<text text-anchor=\"middle\" x=\"695\" y=\"-119.3\" font-family=\"Times New Roman,serif\" font-size=\"14.00\">samples = 1</text>\n",
       "<text text-anchor=\"middle\" x=\"695\" y=\"-104.3\" font-family=\"Times New Roman,serif\" font-size=\"14.00\">value = [0, 1]</text>\n",
       "</g>\n",
       "<!-- 20&#45;&gt;21 -->\n",
       "<g id=\"edge21\" class=\"edge\">\n",
       "<title>20-&gt;21</title>\n",
       "<path fill=\"none\" stroke=\"black\" d=\"M765.91,-192.88C753.91,-181.23 740.44,-168.14 728.49,-156.53\"/>\n",
       "<polygon fill=\"black\" stroke=\"black\" points=\"730.88,-153.98 721.27,-149.52 726,-159 730.88,-153.98\"/>\n",
       "</g>\n",
       "<!-- 22 -->\n",
       "<g id=\"node23\" class=\"node\">\n",
       "<title>22</title>\n",
       "<polygon fill=\"none\" stroke=\"black\" points=\"849.5,-149.5 758.5,-149.5 758.5,-96.5 849.5,-96.5 849.5,-149.5\"/>\n",
       "<text text-anchor=\"middle\" x=\"804\" y=\"-134.3\" font-family=\"Times New Roman,serif\" font-size=\"14.00\">gini = 0.0</text>\n",
       "<text text-anchor=\"middle\" x=\"804\" y=\"-119.3\" font-family=\"Times New Roman,serif\" font-size=\"14.00\">samples = 1</text>\n",
       "<text text-anchor=\"middle\" x=\"804\" y=\"-104.3\" font-family=\"Times New Roman,serif\" font-size=\"14.00\">value = [1, 0]</text>\n",
       "</g>\n",
       "<!-- 20&#45;&gt;22 -->\n",
       "<g id=\"edge22\" class=\"edge\">\n",
       "<title>20-&gt;22</title>\n",
       "<path fill=\"none\" stroke=\"black\" d=\"M801.3,-192.88C801.72,-182.22 802.18,-170.35 802.61,-159.52\"/>\n",
       "<polygon fill=\"black\" stroke=\"black\" points=\"806.1,-159.65 803,-149.52 799.11,-159.38 806.1,-159.65\"/>\n",
       "</g>\n",
       "<!-- 24 -->\n",
       "<g id=\"node25\" class=\"node\">\n",
       "<title>24</title>\n",
       "<polygon fill=\"none\" stroke=\"black\" points=\"970.5,-157 867.5,-157 867.5,-89 970.5,-89 970.5,-157\"/>\n",
       "<text text-anchor=\"middle\" x=\"919\" y=\"-141.8\" font-family=\"Times New Roman,serif\" font-size=\"14.00\">Fare &lt;= 28.231</text>\n",
       "<text text-anchor=\"middle\" x=\"919\" y=\"-126.8\" font-family=\"Times New Roman,serif\" font-size=\"14.00\">gini = 0.195</text>\n",
       "<text text-anchor=\"middle\" x=\"919\" y=\"-111.8\" font-family=\"Times New Roman,serif\" font-size=\"14.00\">samples = 64</text>\n",
       "<text text-anchor=\"middle\" x=\"919\" y=\"-96.8\" font-family=\"Times New Roman,serif\" font-size=\"14.00\">value = [7, 57]</text>\n",
       "</g>\n",
       "<!-- 23&#45;&gt;24 -->\n",
       "<g id=\"edge24\" class=\"edge\">\n",
       "<title>23-&gt;24</title>\n",
       "<path fill=\"none\" stroke=\"black\" d=\"M921.03,-192.88C920.79,-184.78 920.53,-175.98 920.28,-167.47\"/>\n",
       "<polygon fill=\"black\" stroke=\"black\" points=\"923.77,-167.19 919.98,-157.3 916.77,-167.4 923.77,-167.19\"/>\n",
       "</g>\n",
       "<!-- 27 -->\n",
       "<g id=\"node28\" class=\"node\">\n",
       "<title>27</title>\n",
       "<polygon fill=\"none\" stroke=\"black\" points=\"1087,-157 989,-157 989,-89 1087,-89 1087,-157\"/>\n",
       "<text text-anchor=\"middle\" x=\"1038\" y=\"-141.8\" font-family=\"Times New Roman,serif\" font-size=\"14.00\">Parch &lt;= 1.5</text>\n",
       "<text text-anchor=\"middle\" x=\"1038\" y=\"-126.8\" font-family=\"Times New Roman,serif\" font-size=\"14.00\">gini = 0.021</text>\n",
       "<text text-anchor=\"middle\" x=\"1038\" y=\"-111.8\" font-family=\"Times New Roman,serif\" font-size=\"14.00\">samples = 93</text>\n",
       "<text text-anchor=\"middle\" x=\"1038\" y=\"-96.8\" font-family=\"Times New Roman,serif\" font-size=\"14.00\">value = [1, 92]</text>\n",
       "</g>\n",
       "<!-- 23&#45;&gt;27 -->\n",
       "<g id=\"edge27\" class=\"edge\">\n",
       "<title>23-&gt;27</title>\n",
       "<path fill=\"none\" stroke=\"black\" d=\"M959.66,-192.88C970.1,-183.71 981.54,-173.65 992.37,-164.12\"/>\n",
       "<polygon fill=\"black\" stroke=\"black\" points=\"994.93,-166.53 1000.13,-157.3 990.31,-161.27 994.93,-166.53\"/>\n",
       "</g>\n",
       "<!-- 25 -->\n",
       "<g id=\"node26\" class=\"node\">\n",
       "<title>25</title>\n",
       "<polygon fill=\"none\" stroke=\"black\" points=\"855,-53 757,-53 757,0 855,0 855,-53\"/>\n",
       "<text text-anchor=\"middle\" x=\"806\" y=\"-37.8\" font-family=\"Times New Roman,serif\" font-size=\"14.00\">gini = 0.172</text>\n",
       "<text text-anchor=\"middle\" x=\"806\" y=\"-22.8\" font-family=\"Times New Roman,serif\" font-size=\"14.00\">samples = 63</text>\n",
       "<text text-anchor=\"middle\" x=\"806\" y=\"-7.8\" font-family=\"Times New Roman,serif\" font-size=\"14.00\">value = [6, 57]</text>\n",
       "</g>\n",
       "<!-- 24&#45;&gt;25 -->\n",
       "<g id=\"edge25\" class=\"edge\">\n",
       "<title>24-&gt;25</title>\n",
       "<path fill=\"none\" stroke=\"black\" d=\"M879.48,-88.95C868.21,-79.53 855.95,-69.27 844.73,-59.89\"/>\n",
       "<polygon fill=\"black\" stroke=\"black\" points=\"846.69,-56.97 836.78,-53.24 842.2,-62.34 846.69,-56.97\"/>\n",
       "</g>\n",
       "<!-- 26 -->\n",
       "<g id=\"node27\" class=\"node\">\n",
       "<title>26</title>\n",
       "<polygon fill=\"none\" stroke=\"black\" points=\"964.5,-53 873.5,-53 873.5,0 964.5,0 964.5,-53\"/>\n",
       "<text text-anchor=\"middle\" x=\"919\" y=\"-37.8\" font-family=\"Times New Roman,serif\" font-size=\"14.00\">gini = 0.0</text>\n",
       "<text text-anchor=\"middle\" x=\"919\" y=\"-22.8\" font-family=\"Times New Roman,serif\" font-size=\"14.00\">samples = 1</text>\n",
       "<text text-anchor=\"middle\" x=\"919\" y=\"-7.8\" font-family=\"Times New Roman,serif\" font-size=\"14.00\">value = [1, 0]</text>\n",
       "</g>\n",
       "<!-- 24&#45;&gt;26 -->\n",
       "<g id=\"edge26\" class=\"edge\">\n",
       "<title>24-&gt;26</title>\n",
       "<path fill=\"none\" stroke=\"black\" d=\"M919,-88.95C919,-80.72 919,-71.85 919,-63.48\"/>\n",
       "<polygon fill=\"black\" stroke=\"black\" points=\"922.5,-63.24 919,-53.24 915.5,-63.24 922.5,-63.24\"/>\n",
       "</g>\n",
       "<!-- 28 -->\n",
       "<g id=\"node29\" class=\"node\">\n",
       "<title>28</title>\n",
       "<polygon fill=\"none\" stroke=\"black\" points=\"1081,-53 983,-53 983,0 1081,0 1081,-53\"/>\n",
       "<text text-anchor=\"middle\" x=\"1032\" y=\"-37.8\" font-family=\"Times New Roman,serif\" font-size=\"14.00\">gini = 0.0</text>\n",
       "<text text-anchor=\"middle\" x=\"1032\" y=\"-22.8\" font-family=\"Times New Roman,serif\" font-size=\"14.00\">samples = 81</text>\n",
       "<text text-anchor=\"middle\" x=\"1032\" y=\"-7.8\" font-family=\"Times New Roman,serif\" font-size=\"14.00\">value = [0, 81]</text>\n",
       "</g>\n",
       "<!-- 27&#45;&gt;28 -->\n",
       "<g id=\"edge28\" class=\"edge\">\n",
       "<title>27-&gt;28</title>\n",
       "<path fill=\"none\" stroke=\"black\" d=\"M1035.9,-88.95C1035.38,-80.72 1034.82,-71.85 1034.28,-63.48\"/>\n",
       "<polygon fill=\"black\" stroke=\"black\" points=\"1037.76,-62.99 1033.63,-53.24 1030.77,-63.44 1037.76,-62.99\"/>\n",
       "</g>\n",
       "<!-- 29 -->\n",
       "<g id=\"node30\" class=\"node\">\n",
       "<title>29</title>\n",
       "<polygon fill=\"none\" stroke=\"black\" points=\"1197,-53 1099,-53 1099,0 1197,0 1197,-53\"/>\n",
       "<text text-anchor=\"middle\" x=\"1148\" y=\"-37.8\" font-family=\"Times New Roman,serif\" font-size=\"14.00\">gini = 0.153</text>\n",
       "<text text-anchor=\"middle\" x=\"1148\" y=\"-22.8\" font-family=\"Times New Roman,serif\" font-size=\"14.00\">samples = 12</text>\n",
       "<text text-anchor=\"middle\" x=\"1148\" y=\"-7.8\" font-family=\"Times New Roman,serif\" font-size=\"14.00\">value = [1, 11]</text>\n",
       "</g>\n",
       "<!-- 27&#45;&gt;29 -->\n",
       "<g id=\"edge29\" class=\"edge\">\n",
       "<title>27-&gt;29</title>\n",
       "<path fill=\"none\" stroke=\"black\" d=\"M1076.47,-88.95C1087.44,-79.53 1099.38,-69.27 1110.3,-59.89\"/>\n",
       "<polygon fill=\"black\" stroke=\"black\" points=\"1112.74,-62.41 1118.04,-53.24 1108.18,-57.1 1112.74,-62.41\"/>\n",
       "</g>\n",
       "<!-- 31 -->\n",
       "<g id=\"node32\" class=\"node\">\n",
       "<title>31</title>\n",
       "<polygon fill=\"none\" stroke=\"black\" points=\"1480,-261 1376,-261 1376,-193 1480,-193 1480,-261\"/>\n",
       "<text text-anchor=\"middle\" x=\"1428\" y=\"-245.8\" font-family=\"Times New Roman,serif\" font-size=\"14.00\">Fare &lt;= 7.888</text>\n",
       "<text text-anchor=\"middle\" x=\"1428\" y=\"-230.8\" font-family=\"Times New Roman,serif\" font-size=\"14.00\">gini = 0.479</text>\n",
       "<text text-anchor=\"middle\" x=\"1428\" y=\"-215.8\" font-family=\"Times New Roman,serif\" font-size=\"14.00\">samples = 113</text>\n",
       "<text text-anchor=\"middle\" x=\"1428\" y=\"-200.8\" font-family=\"Times New Roman,serif\" font-size=\"14.00\">value = [45, 68]</text>\n",
       "</g>\n",
       "<!-- 30&#45;&gt;31 -->\n",
       "<g id=\"edge31\" class=\"edge\">\n",
       "<title>30-&gt;31</title>\n",
       "<path fill=\"none\" stroke=\"black\" d=\"M1428,-296.88C1428,-288.78 1428,-279.98 1428,-271.47\"/>\n",
       "<polygon fill=\"black\" stroke=\"black\" points=\"1431.5,-271.3 1428,-261.3 1424.5,-271.3 1431.5,-271.3\"/>\n",
       "</g>\n",
       "<!-- 38 -->\n",
       "<g id=\"node39\" class=\"node\">\n",
       "<title>38</title>\n",
       "<polygon fill=\"none\" stroke=\"black\" points=\"1658,-261 1560,-261 1560,-193 1658,-193 1658,-261\"/>\n",
       "<text text-anchor=\"middle\" x=\"1609\" y=\"-245.8\" font-family=\"Times New Roman,serif\" font-size=\"14.00\">Parch &lt;= 0.5</text>\n",
       "<text text-anchor=\"middle\" x=\"1609\" y=\"-230.8\" font-family=\"Times New Roman,serif\" font-size=\"14.00\">gini = 0.198</text>\n",
       "<text text-anchor=\"middle\" x=\"1609\" y=\"-215.8\" font-family=\"Times New Roman,serif\" font-size=\"14.00\">samples = 27</text>\n",
       "<text text-anchor=\"middle\" x=\"1609\" y=\"-200.8\" font-family=\"Times New Roman,serif\" font-size=\"14.00\">value = [24, 3]</text>\n",
       "</g>\n",
       "<!-- 30&#45;&gt;38 -->\n",
       "<g id=\"edge38\" class=\"edge\">\n",
       "<title>30-&gt;38</title>\n",
       "<path fill=\"none\" stroke=\"black\" d=\"M1480.35,-300.5C1502.47,-288.03 1528.32,-273.47 1551.01,-260.68\"/>\n",
       "<polygon fill=\"black\" stroke=\"black\" points=\"1552.88,-263.65 1559.87,-255.69 1549.44,-257.55 1552.88,-263.65\"/>\n",
       "</g>\n",
       "<!-- 32 -->\n",
       "<g id=\"node33\" class=\"node\">\n",
       "<title>32</title>\n",
       "<polygon fill=\"none\" stroke=\"black\" points=\"1423,-157 1311,-157 1311,-89 1423,-89 1423,-157\"/>\n",
       "<text text-anchor=\"middle\" x=\"1367\" y=\"-141.8\" font-family=\"Times New Roman,serif\" font-size=\"14.00\">AgeSD &lt;= 0.034</text>\n",
       "<text text-anchor=\"middle\" x=\"1367\" y=\"-126.8\" font-family=\"Times New Roman,serif\" font-size=\"14.00\">gini = 0.399</text>\n",
       "<text text-anchor=\"middle\" x=\"1367\" y=\"-111.8\" font-family=\"Times New Roman,serif\" font-size=\"14.00\">samples = 40</text>\n",
       "<text text-anchor=\"middle\" x=\"1367\" y=\"-96.8\" font-family=\"Times New Roman,serif\" font-size=\"14.00\">value = [11, 29]</text>\n",
       "</g>\n",
       "<!-- 31&#45;&gt;32 -->\n",
       "<g id=\"edge32\" class=\"edge\">\n",
       "<title>31-&gt;32</title>\n",
       "<path fill=\"none\" stroke=\"black\" d=\"M1408.2,-192.88C1403.08,-184.33 1397.51,-175.01 1392.16,-166.07\"/>\n",
       "<polygon fill=\"black\" stroke=\"black\" points=\"1395.05,-164.09 1386.91,-157.3 1389.04,-167.68 1395.05,-164.09\"/>\n",
       "</g>\n",
       "<!-- 35 -->\n",
       "<g id=\"node36\" class=\"node\">\n",
       "<title>35</title>\n",
       "<polygon fill=\"none\" stroke=\"black\" points=\"1545,-157 1441,-157 1441,-89 1545,-89 1545,-157\"/>\n",
       "<text text-anchor=\"middle\" x=\"1493\" y=\"-141.8\" font-family=\"Times New Roman,serif\" font-size=\"14.00\">Fare &lt;= 15.373</text>\n",
       "<text text-anchor=\"middle\" x=\"1493\" y=\"-126.8\" font-family=\"Times New Roman,serif\" font-size=\"14.00\">gini = 0.498</text>\n",
       "<text text-anchor=\"middle\" x=\"1493\" y=\"-111.8\" font-family=\"Times New Roman,serif\" font-size=\"14.00\">samples = 73</text>\n",
       "<text text-anchor=\"middle\" x=\"1493\" y=\"-96.8\" font-family=\"Times New Roman,serif\" font-size=\"14.00\">value = [34, 39]</text>\n",
       "</g>\n",
       "<!-- 31&#45;&gt;35 -->\n",
       "<g id=\"edge35\" class=\"edge\">\n",
       "<title>31-&gt;35</title>\n",
       "<path fill=\"none\" stroke=\"black\" d=\"M1449.1,-192.88C1454.61,-184.24 1460.62,-174.82 1466.37,-165.79\"/>\n",
       "<polygon fill=\"black\" stroke=\"black\" points=\"1469.36,-167.61 1471.78,-157.3 1463.45,-163.85 1469.36,-167.61\"/>\n",
       "</g>\n",
       "<!-- 33 -->\n",
       "<g id=\"node34\" class=\"node\">\n",
       "<title>33</title>\n",
       "<polygon fill=\"none\" stroke=\"black\" points=\"1313,-53 1215,-53 1215,0 1313,0 1313,-53\"/>\n",
       "<text text-anchor=\"middle\" x=\"1264\" y=\"-37.8\" font-family=\"Times New Roman,serif\" font-size=\"14.00\">gini = 0.361</text>\n",
       "<text text-anchor=\"middle\" x=\"1264\" y=\"-22.8\" font-family=\"Times New Roman,serif\" font-size=\"14.00\">samples = 38</text>\n",
       "<text text-anchor=\"middle\" x=\"1264\" y=\"-7.8\" font-family=\"Times New Roman,serif\" font-size=\"14.00\">value = [9, 29]</text>\n",
       "</g>\n",
       "<!-- 32&#45;&gt;33 -->\n",
       "<g id=\"edge33\" class=\"edge\">\n",
       "<title>32-&gt;33</title>\n",
       "<path fill=\"none\" stroke=\"black\" d=\"M1330.98,-88.95C1320.81,-79.62 1309.75,-69.47 1299.6,-60.16\"/>\n",
       "<polygon fill=\"black\" stroke=\"black\" points=\"1301.79,-57.42 1292.05,-53.24 1297.05,-62.58 1301.79,-57.42\"/>\n",
       "</g>\n",
       "<!-- 34 -->\n",
       "<g id=\"node35\" class=\"node\">\n",
       "<title>34</title>\n",
       "<polygon fill=\"none\" stroke=\"black\" points=\"1422.5,-53 1331.5,-53 1331.5,0 1422.5,0 1422.5,-53\"/>\n",
       "<text text-anchor=\"middle\" x=\"1377\" y=\"-37.8\" font-family=\"Times New Roman,serif\" font-size=\"14.00\">gini = 0.0</text>\n",
       "<text text-anchor=\"middle\" x=\"1377\" y=\"-22.8\" font-family=\"Times New Roman,serif\" font-size=\"14.00\">samples = 2</text>\n",
       "<text text-anchor=\"middle\" x=\"1377\" y=\"-7.8\" font-family=\"Times New Roman,serif\" font-size=\"14.00\">value = [2, 0]</text>\n",
       "</g>\n",
       "<!-- 32&#45;&gt;34 -->\n",
       "<g id=\"edge34\" class=\"edge\">\n",
       "<title>32-&gt;34</title>\n",
       "<path fill=\"none\" stroke=\"black\" d=\"M1370.5,-88.95C1371.38,-80.62 1372.33,-71.65 1373.22,-63.2\"/>\n",
       "<polygon fill=\"black\" stroke=\"black\" points=\"1376.7,-63.55 1374.28,-53.24 1369.74,-62.81 1376.7,-63.55\"/>\n",
       "</g>\n",
       "<!-- 36 -->\n",
       "<g id=\"node37\" class=\"node\">\n",
       "<title>36</title>\n",
       "<polygon fill=\"none\" stroke=\"black\" points=\"1545,-53 1441,-53 1441,0 1545,0 1545,-53\"/>\n",
       "<text text-anchor=\"middle\" x=\"1493\" y=\"-37.8\" font-family=\"Times New Roman,serif\" font-size=\"14.00\">gini = 0.487</text>\n",
       "<text text-anchor=\"middle\" x=\"1493\" y=\"-22.8\" font-family=\"Times New Roman,serif\" font-size=\"14.00\">samples = 43</text>\n",
       "<text text-anchor=\"middle\" x=\"1493\" y=\"-7.8\" font-family=\"Times New Roman,serif\" font-size=\"14.00\">value = [25, 18]</text>\n",
       "</g>\n",
       "<!-- 35&#45;&gt;36 -->\n",
       "<g id=\"edge36\" class=\"edge\">\n",
       "<title>35-&gt;36</title>\n",
       "<path fill=\"none\" stroke=\"black\" d=\"M1493,-88.95C1493,-80.72 1493,-71.85 1493,-63.48\"/>\n",
       "<polygon fill=\"black\" stroke=\"black\" points=\"1496.5,-63.24 1493,-53.24 1489.5,-63.24 1496.5,-63.24\"/>\n",
       "</g>\n",
       "<!-- 37 -->\n",
       "<g id=\"node38\" class=\"node\">\n",
       "<title>37</title>\n",
       "<polygon fill=\"none\" stroke=\"black\" points=\"1661,-53 1563,-53 1563,0 1661,0 1661,-53\"/>\n",
       "<text text-anchor=\"middle\" x=\"1612\" y=\"-37.8\" font-family=\"Times New Roman,serif\" font-size=\"14.00\">gini = 0.42</text>\n",
       "<text text-anchor=\"middle\" x=\"1612\" y=\"-22.8\" font-family=\"Times New Roman,serif\" font-size=\"14.00\">samples = 30</text>\n",
       "<text text-anchor=\"middle\" x=\"1612\" y=\"-7.8\" font-family=\"Times New Roman,serif\" font-size=\"14.00\">value = [9, 21]</text>\n",
       "</g>\n",
       "<!-- 35&#45;&gt;37 -->\n",
       "<g id=\"edge37\" class=\"edge\">\n",
       "<title>35-&gt;37</title>\n",
       "<path fill=\"none\" stroke=\"black\" d=\"M1534.62,-88.95C1546.6,-79.43 1559.65,-69.07 1571.56,-59.62\"/>\n",
       "<polygon fill=\"black\" stroke=\"black\" points=\"1573.94,-62.2 1579.59,-53.24 1569.58,-56.71 1573.94,-62.2\"/>\n",
       "</g>\n",
       "<!-- 39 -->\n",
       "<g id=\"node40\" class=\"node\">\n",
       "<title>39</title>\n",
       "<polygon fill=\"none\" stroke=\"black\" points=\"1654.5,-149.5 1563.5,-149.5 1563.5,-96.5 1654.5,-96.5 1654.5,-149.5\"/>\n",
       "<text text-anchor=\"middle\" x=\"1609\" y=\"-134.3\" font-family=\"Times New Roman,serif\" font-size=\"14.00\">gini = 0.0</text>\n",
       "<text text-anchor=\"middle\" x=\"1609\" y=\"-119.3\" font-family=\"Times New Roman,serif\" font-size=\"14.00\">samples = 1</text>\n",
       "<text text-anchor=\"middle\" x=\"1609\" y=\"-104.3\" font-family=\"Times New Roman,serif\" font-size=\"14.00\">value = [0, 1]</text>\n",
       "</g>\n",
       "<!-- 38&#45;&gt;39 -->\n",
       "<g id=\"edge39\" class=\"edge\">\n",
       "<title>38-&gt;39</title>\n",
       "<path fill=\"none\" stroke=\"black\" d=\"M1609,-192.88C1609,-182.33 1609,-170.6 1609,-159.85\"/>\n",
       "<polygon fill=\"black\" stroke=\"black\" points=\"1612.5,-159.52 1609,-149.52 1605.5,-159.52 1612.5,-159.52\"/>\n",
       "</g>\n",
       "<!-- 40 -->\n",
       "<g id=\"node41\" class=\"node\">\n",
       "<title>40</title>\n",
       "<polygon fill=\"none\" stroke=\"black\" points=\"1789,-157 1673,-157 1673,-89 1789,-89 1789,-157\"/>\n",
       "<text text-anchor=\"middle\" x=\"1731\" y=\"-141.8\" font-family=\"Times New Roman,serif\" font-size=\"14.00\">AgeSD &lt;= -1.864</text>\n",
       "<text text-anchor=\"middle\" x=\"1731\" y=\"-126.8\" font-family=\"Times New Roman,serif\" font-size=\"14.00\">gini = 0.142</text>\n",
       "<text text-anchor=\"middle\" x=\"1731\" y=\"-111.8\" font-family=\"Times New Roman,serif\" font-size=\"14.00\">samples = 26</text>\n",
       "<text text-anchor=\"middle\" x=\"1731\" y=\"-96.8\" font-family=\"Times New Roman,serif\" font-size=\"14.00\">value = [24, 2]</text>\n",
       "</g>\n",
       "<!-- 38&#45;&gt;40 -->\n",
       "<g id=\"edge40\" class=\"edge\">\n",
       "<title>38-&gt;40</title>\n",
       "<path fill=\"none\" stroke=\"black\" d=\"M1648.61,-192.88C1659.69,-183.62 1671.85,-173.45 1683.34,-163.85\"/>\n",
       "<polygon fill=\"black\" stroke=\"black\" points=\"1685.74,-166.4 1691.17,-157.3 1681.25,-161.03 1685.74,-166.4\"/>\n",
       "</g>\n",
       "<!-- 41 -->\n",
       "<g id=\"node42\" class=\"node\">\n",
       "<title>41</title>\n",
       "<polygon fill=\"none\" stroke=\"black\" points=\"1773.5,-53 1682.5,-53 1682.5,0 1773.5,0 1773.5,-53\"/>\n",
       "<text text-anchor=\"middle\" x=\"1728\" y=\"-37.8\" font-family=\"Times New Roman,serif\" font-size=\"14.00\">gini = 0.444</text>\n",
       "<text text-anchor=\"middle\" x=\"1728\" y=\"-22.8\" font-family=\"Times New Roman,serif\" font-size=\"14.00\">samples = 3</text>\n",
       "<text text-anchor=\"middle\" x=\"1728\" y=\"-7.8\" font-family=\"Times New Roman,serif\" font-size=\"14.00\">value = [2, 1]</text>\n",
       "</g>\n",
       "<!-- 40&#45;&gt;41 -->\n",
       "<g id=\"edge41\" class=\"edge\">\n",
       "<title>40-&gt;41</title>\n",
       "<path fill=\"none\" stroke=\"black\" d=\"M1729.95,-88.95C1729.69,-80.72 1729.41,-71.85 1729.14,-63.48\"/>\n",
       "<polygon fill=\"black\" stroke=\"black\" points=\"1732.63,-63.12 1728.82,-53.24 1725.64,-63.34 1732.63,-63.12\"/>\n",
       "</g>\n",
       "<!-- 42 -->\n",
       "<g id=\"node43\" class=\"node\">\n",
       "<title>42</title>\n",
       "<polygon fill=\"none\" stroke=\"black\" points=\"1890,-53 1792,-53 1792,0 1890,0 1890,-53\"/>\n",
       "<text text-anchor=\"middle\" x=\"1841\" y=\"-37.8\" font-family=\"Times New Roman,serif\" font-size=\"14.00\">gini = 0.083</text>\n",
       "<text text-anchor=\"middle\" x=\"1841\" y=\"-22.8\" font-family=\"Times New Roman,serif\" font-size=\"14.00\">samples = 23</text>\n",
       "<text text-anchor=\"middle\" x=\"1841\" y=\"-7.8\" font-family=\"Times New Roman,serif\" font-size=\"14.00\">value = [22, 1]</text>\n",
       "</g>\n",
       "<!-- 40&#45;&gt;42 -->\n",
       "<g id=\"edge42\" class=\"edge\">\n",
       "<title>40-&gt;42</title>\n",
       "<path fill=\"none\" stroke=\"black\" d=\"M1769.47,-88.95C1780.44,-79.53 1792.38,-69.27 1803.3,-59.89\"/>\n",
       "<polygon fill=\"black\" stroke=\"black\" points=\"1805.74,-62.41 1811.04,-53.24 1801.18,-57.1 1805.74,-62.41\"/>\n",
       "</g>\n",
       "</g>\n",
       "</svg>"
      ],
      "text/plain": [
       "<IPython.core.display.SVG object>"
      ]
     },
     "execution_count": 40,
     "metadata": {},
     "output_type": "execute_result"
    }
   ],
   "source": [
    "graph = Source(export_graphviz(model, out_file=None, feature_names=['Fare', 'Pclass', 'SibSp', 'Parch', 'EmbMap', 'SexMap', 'AgeSD']))\n",
    "SVG(graph.pipe(format='svg'))"
   ]
  },
  {
   "cell_type": "markdown",
   "id": "21405500",
   "metadata": {},
   "source": [
    "### 8.4 SVM"
   ]
  },
  {
   "cell_type": "code",
   "execution_count": 41,
   "id": "fd9ba0bf",
   "metadata": {},
   "outputs": [
    {
     "name": "stdout",
     "output_type": "stream",
     "text": [
      "Model Report\n",
      "Accuracy:  0.8182\n",
      "Precision:  0.7692\n",
      "Recall:  0.7692\n",
      "f1:  0.7692\n"
     ]
    },
    {
     "data": {
      "image/png": "[encoded data removed]",
      "text/plain": [
       "<Figure size 432x288 with 2 Axes>"
      ]
     },
     "metadata": {
      "needs_background": "light"
     },
     "output_type": "display_data"
    }
   ],
   "source": [
    "from sklearn.svm import SVC\n",
    "\n",
    "model = SVC(kernel='linear', C=8)\n",
    "train(model, X, y)"
   ]
  },
  {
   "cell_type": "markdown",
   "id": "c92716b7",
   "metadata": {},
   "source": [
    "### 8.5 Comparing and choosing final model"
   ]
  },
  {
   "cell_type": "code",
   "execution_count": 42,
   "id": "9e9d527f",
   "metadata": {},
   "outputs": [
    {
     "data": {
      "text/html": [
       "<div>\n",
       "<style scoped>\n",
       "    .dataframe tbody tr th:only-of-type {\n",
       "        vertical-align: middle;\n",
       "    }\n",
       "\n",
       "    .dataframe tbody tr th {\n",
       "        vertical-align: top;\n",
       "    }\n",
       "\n",
       "    .dataframe thead th {\n",
       "        text-align: right;\n",
       "    }\n",
       "</style>\n",
       "<table border=\"1\" class=\"dataframe\">\n",
       "  <thead>\n",
       "    <tr style=\"text-align: right;\">\n",
       "      <th></th>\n",
       "      <th>Logistic Regression</th>\n",
       "      <th>KNN</th>\n",
       "      <th>Decision Tree</th>\n",
       "      <th>SVM</th>\n",
       "    </tr>\n",
       "  </thead>\n",
       "  <tbody>\n",
       "    <tr>\n",
       "      <th>Accuracy</th>\n",
       "      <td>0.8788</td>\n",
       "      <td>0.8182</td>\n",
       "      <td>0.9091</td>\n",
       "      <td>0.8182</td>\n",
       "    </tr>\n",
       "    <tr>\n",
       "      <th>Precision</th>\n",
       "      <td>0.9091</td>\n",
       "      <td>0.7692</td>\n",
       "      <td>1.0000</td>\n",
       "      <td>0.7692</td>\n",
       "    </tr>\n",
       "    <tr>\n",
       "      <th>Recall</th>\n",
       "      <td>0.7692</td>\n",
       "      <td>0.7692</td>\n",
       "      <td>0.7692</td>\n",
       "      <td>0.7692</td>\n",
       "    </tr>\n",
       "    <tr>\n",
       "      <th>F1</th>\n",
       "      <td>0.8333</td>\n",
       "      <td>0.7692</td>\n",
       "      <td>0.8696</td>\n",
       "      <td>0.7692</td>\n",
       "    </tr>\n",
       "  </tbody>\n",
       "</table>\n",
       "</div>"
      ],
      "text/plain": [
       "           Logistic Regression     KNN  Decision Tree     SVM\n",
       "Accuracy                0.8788  0.8182         0.9091  0.8182\n",
       "Precision               0.9091  0.7692         1.0000  0.7692\n",
       "Recall                  0.7692  0.7692         0.7692  0.7692\n",
       "F1                      0.8333  0.7692         0.8696  0.7692"
      ]
     },
     "execution_count": 42,
     "metadata": {},
     "output_type": "execute_result"
    }
   ],
   "source": [
    "L = {'Logistic Regression':[0.8788,0.9091, 0.7692, 0.8333], 'KNN':[0.8182,0.7692, 0.7692, 0.7692], 'Decision Tree':[0.9091,1.0000, 0.7692, 0.8696], 'SVM':[0.8182,0.7692, 0.7692, 0.7692]}\n",
    "\n",
    "df_results = pd.DataFrame(L, index=['Accuracy', 'Precision', 'Recall', 'F1'])\n",
    "\n",
    "df_results"
   ]
  },
  {
   "cell_type": "code",
   "execution_count": 43,
   "id": "35cf2e85",
   "metadata": {},
   "outputs": [],
   "source": [
    "# Conclusion:\n",
    "\n",
    "## As can be observed in the DataFrame above, the Decision Tree model outperformed the three other models in all 4 metrics analysed\n",
    "## Therefore, we will continue our analysis using this model"
   ]
  },
  {
   "cell_type": "markdown",
   "id": "9b921f54",
   "metadata": {},
   "source": [
    "# 9. Removing features and re-training model"
   ]
  },
  {
   "cell_type": "code",
   "execution_count": 44,
   "id": "ae3ac80e",
   "metadata": {},
   "outputs": [],
   "source": [
    "# Recapitulating the results of our correlation matrix, we expect 'SexMap' and 'Pclass' to be important features\n",
    "\n",
    "## We will validate this thesis by removing one feature at a time and re-training the Decision Tree"
   ]
  },
  {
   "cell_type": "code",
   "execution_count": 45,
   "id": "65fbc365",
   "metadata": {},
   "outputs": [],
   "source": [
    "# We will name the new feature matrices by highlighting the removed feature\n",
    "## Example: 'X_Fare' is matrice X without the feature 'Fare'\n",
    "\n",
    "X_Fare = X.drop(['Fare'], axis=1)\n",
    "X_Pclass = X.drop(['Pclass'], axis=1)\n",
    "X_SibSp = X.drop(['SibSp'], axis=1)\n",
    "X_Parch = X.drop(['Parch'], axis=1)\n",
    "X_EmbMap = X.drop(['EmbMap'], axis=1)\n",
    "X_SexMap = X.drop(['SexMap'], axis=1)\n",
    "X_AgeSD = X.drop(['AgeSD'], axis=1)\n",
    "\n",
    "L_X = [X_Fare, X_Pclass, X_SibSp, X_Parch, X_EmbMap, X_SexMap, X_AgeSD]\n",
    "L_f = ['Fare', 'Pclass', 'SibSp', 'Parch', 'EmbMap', 'SexMap', 'AgeSD']"
   ]
  },
  {
   "cell_type": "code",
   "execution_count": 79,
   "id": "648b2e19",
   "metadata": {},
   "outputs": [],
   "source": [
    "results = pd.DataFrame(index=['Accuracy', 'Precision', 'Recall', 'F1'])"
   ]
  },
  {
   "cell_type": "code",
   "execution_count": 73,
   "id": "5d7a3560",
   "metadata": {},
   "outputs": [],
   "source": [
    "def train_2(model, X, y, name='Feature'):\n",
    "    X_train, X_test, y_train, y_test = train_test_split(X, y, test_size=33, random_state=999)\n",
    "    model.fit(X_train, y_train)\n",
    "    y_pred = model.predict(X_test)\n",
    "    \n",
    "    stats = [np.around(accuracy_score(y_test, y_pred),4),np.around(precision_score(y_test, y_pred),4),\n",
    "        np.around(recall_score(y_test, y_pred),4), np.around(f1_score(y_test, y_pred),4)]\n",
    "    results[name] = stats"
   ]
  },
  {
   "cell_type": "code",
   "execution_count": 80,
   "id": "01c7c257",
   "metadata": {},
   "outputs": [],
   "source": [
    "model = DecisionTreeClassifier(random_state=1, max_depth=5)"
   ]
  },
  {
   "cell_type": "code",
   "execution_count": 81,
   "id": "2837ccca",
   "metadata": {},
   "outputs": [
    {
     "data": {
      "text/html": [
       "<div>\n",
       "<style scoped>\n",
       "    .dataframe tbody tr th:only-of-type {\n",
       "        vertical-align: middle;\n",
       "    }\n",
       "\n",
       "    .dataframe tbody tr th {\n",
       "        vertical-align: top;\n",
       "    }\n",
       "\n",
       "    .dataframe thead th {\n",
       "        text-align: right;\n",
       "    }\n",
       "</style>\n",
       "<table border=\"1\" class=\"dataframe\">\n",
       "  <thead>\n",
       "    <tr style=\"text-align: right;\">\n",
       "      <th></th>\n",
       "      <th>Fare</th>\n",
       "      <th>Pclass</th>\n",
       "      <th>SibSp</th>\n",
       "      <th>Parch</th>\n",
       "      <th>EmbMap</th>\n",
       "      <th>SexMap</th>\n",
       "      <th>AgeSD</th>\n",
       "    </tr>\n",
       "  </thead>\n",
       "  <tbody>\n",
       "    <tr>\n",
       "      <th>Accuracy</th>\n",
       "      <td>0.9091</td>\n",
       "      <td>0.8182</td>\n",
       "      <td>0.9091</td>\n",
       "      <td>0.9091</td>\n",
       "      <td>0.9091</td>\n",
       "      <td>0.7273</td>\n",
       "      <td>0.8485</td>\n",
       "    </tr>\n",
       "    <tr>\n",
       "      <th>Precision</th>\n",
       "      <td>1.0000</td>\n",
       "      <td>0.7692</td>\n",
       "      <td>1.0000</td>\n",
       "      <td>1.0000</td>\n",
       "      <td>1.0000</td>\n",
       "      <td>0.6429</td>\n",
       "      <td>0.8333</td>\n",
       "    </tr>\n",
       "    <tr>\n",
       "      <th>Recall</th>\n",
       "      <td>0.7692</td>\n",
       "      <td>0.7692</td>\n",
       "      <td>0.7692</td>\n",
       "      <td>0.7692</td>\n",
       "      <td>0.7692</td>\n",
       "      <td>0.6923</td>\n",
       "      <td>0.7692</td>\n",
       "    </tr>\n",
       "    <tr>\n",
       "      <th>F1</th>\n",
       "      <td>0.8696</td>\n",
       "      <td>0.7692</td>\n",
       "      <td>0.8696</td>\n",
       "      <td>0.8696</td>\n",
       "      <td>0.8696</td>\n",
       "      <td>0.6667</td>\n",
       "      <td>0.8000</td>\n",
       "    </tr>\n",
       "  </tbody>\n",
       "</table>\n",
       "</div>"
      ],
      "text/plain": [
       "             Fare  Pclass   SibSp   Parch  EmbMap  SexMap   AgeSD\n",
       "Accuracy   0.9091  0.8182  0.9091  0.9091  0.9091  0.7273  0.8485\n",
       "Precision  1.0000  0.7692  1.0000  1.0000  1.0000  0.6429  0.8333\n",
       "Recall     0.7692  0.7692  0.7692  0.7692  0.7692  0.6923  0.7692\n",
       "F1         0.8696  0.7692  0.8696  0.8696  0.8696  0.6667  0.8000"
      ]
     },
     "execution_count": 81,
     "metadata": {},
     "output_type": "execute_result"
    }
   ],
   "source": [
    "i = 0\n",
    "for _ in range(0, len(L_X)):\n",
    "    train_2(model, L_X[_], y, name = L_f[i])    \n",
    "    i = i + 1\n",
    "    \n",
    "results"
   ]
  },
  {
   "cell_type": "code",
   "execution_count": 50,
   "id": "12f86a92",
   "metadata": {},
   "outputs": [],
   "source": [
    "# Conclusion:\n",
    "\n",
    "## The results shown in the DataFrame above are very interesting.\n",
    "## We can interpret that the features 'Fare', 'SibSp', 'Parch' and 'EmbMap' have no influence in our model whatsoever.\n",
    "## That is because when we remove them from our model there is no change in the output metrics.\n",
    "## Therefore, the only features that influence the outputs are 'SexMap', 'Pclass' and 'AgeSD', in the respective order of importance.\n",
    "\n",
    "# We will train a test matrix X with only the important features in order to double check our findings."
   ]
  },
  {
   "cell_type": "code",
   "execution_count": 82,
   "id": "bf3da411",
   "metadata": {},
   "outputs": [
    {
     "data": {
      "text/html": [
       "<div>\n",
       "<style scoped>\n",
       "    .dataframe tbody tr th:only-of-type {\n",
       "        vertical-align: middle;\n",
       "    }\n",
       "\n",
       "    .dataframe tbody tr th {\n",
       "        vertical-align: top;\n",
       "    }\n",
       "\n",
       "    .dataframe thead th {\n",
       "        text-align: right;\n",
       "    }\n",
       "</style>\n",
       "<table border=\"1\" class=\"dataframe\">\n",
       "  <thead>\n",
       "    <tr style=\"text-align: right;\">\n",
       "      <th></th>\n",
       "      <th>Fare</th>\n",
       "      <th>Pclass</th>\n",
       "      <th>SibSp</th>\n",
       "      <th>Parch</th>\n",
       "      <th>EmbMap</th>\n",
       "      <th>SexMap</th>\n",
       "      <th>AgeSD</th>\n",
       "      <th>Test*</th>\n",
       "    </tr>\n",
       "  </thead>\n",
       "  <tbody>\n",
       "    <tr>\n",
       "      <th>Accuracy</th>\n",
       "      <td>0.9091</td>\n",
       "      <td>0.8182</td>\n",
       "      <td>0.9091</td>\n",
       "      <td>0.9091</td>\n",
       "      <td>0.9091</td>\n",
       "      <td>0.7273</td>\n",
       "      <td>0.8485</td>\n",
       "      <td>0.8788</td>\n",
       "    </tr>\n",
       "    <tr>\n",
       "      <th>Precision</th>\n",
       "      <td>1.0000</td>\n",
       "      <td>0.7692</td>\n",
       "      <td>1.0000</td>\n",
       "      <td>1.0000</td>\n",
       "      <td>1.0000</td>\n",
       "      <td>0.6429</td>\n",
       "      <td>0.8333</td>\n",
       "      <td>0.8462</td>\n",
       "    </tr>\n",
       "    <tr>\n",
       "      <th>Recall</th>\n",
       "      <td>0.7692</td>\n",
       "      <td>0.7692</td>\n",
       "      <td>0.7692</td>\n",
       "      <td>0.7692</td>\n",
       "      <td>0.7692</td>\n",
       "      <td>0.6923</td>\n",
       "      <td>0.7692</td>\n",
       "      <td>0.8462</td>\n",
       "    </tr>\n",
       "    <tr>\n",
       "      <th>F1</th>\n",
       "      <td>0.8696</td>\n",
       "      <td>0.7692</td>\n",
       "      <td>0.8696</td>\n",
       "      <td>0.8696</td>\n",
       "      <td>0.8696</td>\n",
       "      <td>0.6667</td>\n",
       "      <td>0.8000</td>\n",
       "      <td>0.8462</td>\n",
       "    </tr>\n",
       "  </tbody>\n",
       "</table>\n",
       "</div>"
      ],
      "text/plain": [
       "             Fare  Pclass   SibSp   Parch  EmbMap  SexMap   AgeSD   Test*\n",
       "Accuracy   0.9091  0.8182  0.9091  0.9091  0.9091  0.7273  0.8485  0.8788\n",
       "Precision  1.0000  0.7692  1.0000  1.0000  1.0000  0.6429  0.8333  0.8462\n",
       "Recall     0.7692  0.7692  0.7692  0.7692  0.7692  0.6923  0.7692  0.8462\n",
       "F1         0.8696  0.7692  0.8696  0.8696  0.8696  0.6667  0.8000  0.8462"
      ]
     },
     "execution_count": 82,
     "metadata": {},
     "output_type": "execute_result"
    }
   ],
   "source": [
    "X_test1 = X.drop(['Fare', 'SibSp', 'Parch', 'EmbMap'], axis=1)\n",
    "\n",
    "train_2(model, X_test1, y, name='Test*')\n",
    "results"
   ]
  },
  {
   "cell_type": "code",
   "execution_count": 52,
   "id": "d41fa2a3",
   "metadata": {},
   "outputs": [],
   "source": [
    "# As expected, the metrics didn't change significantly, confirming our hyposthesis"
   ]
  },
  {
   "cell_type": "code",
   "execution_count": null,
   "id": "aaf671f2",
   "metadata": {},
   "outputs": [],
   "source": []
  }
 ],
 "metadata": {
  "kernelspec": {
   "display_name": "Python 3",
   "language": "python",
   "name": "python3"
  },
  "language_info": {
   "codemirror_mode": {
    "name": "ipython",
    "version": 3
   },
   "file_extension": ".py",
   "mimetype": "text/x-python",
   "name": "python",
   "nbconvert_exporter": "python",
   "pygments_lexer": "ipython3",
   "version": "3.8.5"
  }
 },
 "nbformat": 4,
 "nbformat_minor": 5
}
