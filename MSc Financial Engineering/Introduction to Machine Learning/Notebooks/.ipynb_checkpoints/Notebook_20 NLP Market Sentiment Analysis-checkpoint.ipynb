{
 "cells": [
  {
   "cell_type": "markdown",
   "metadata": {},
   "source": [
    "# NLP Market Sentiment Analysis\n",
    "We examine sentiment in News Headlines"
   ]
  },
  {
   "cell_type": "code",
   "execution_count": 5,
   "metadata": {},
   "outputs": [],
   "source": [
    "import numpy as np\n",
    "import pandas as pd\n",
    "import matplotlib.pyplot as plt\n",
    "import nltk\n",
    "plt.style.use('seaborn')\n",
    "\n",
    "import seaborn as sn\n",
    "%matplotlib inline"
   ]
  },
  {
   "cell_type": "markdown",
   "metadata": {},
   "source": [
    "## Loading the Data\n",
    "The purpose of this is to load all the emails into a program that counts the word frequency for all of the words across all of the emails in the training set. "
   ]
  },
  {
   "cell_type": "markdown",
   "metadata": {},
   "source": [
    "Make sure you unzip the data file"
   ]
  },
  {
   "cell_type": "code",
   "execution_count": 6,
   "metadata": {},
   "outputs": [],
   "source": [
    "datafile = './data/million-headlines/abcnews-date-text.csv'"
   ]
  },
  {
   "cell_type": "code",
   "execution_count": 7,
   "metadata": {},
   "outputs": [],
   "source": [
    "headline_df = pd.read_csv(datafile, parse_dates=[0],infer_datetime_format=True)"
   ]
  },
  {
   "cell_type": "code",
   "execution_count": 8,
   "metadata": {},
   "outputs": [
    {
     "data": {
      "text/plain": [
       "(1103663, 2)"
      ]
     },
     "execution_count": 8,
     "metadata": {},
     "output_type": "execute_result"
    }
   ],
   "source": [
    "headline_df.shape"
   ]
  },
  {
   "cell_type": "code",
   "execution_count": 9,
   "metadata": {},
   "outputs": [
    {
     "name": "stdout",
     "output_type": "stream",
     "text": [
      "<class 'pandas.core.frame.DataFrame'>\n",
      "RangeIndex: 1103663 entries, 0 to 1103662\n",
      "Data columns (total 2 columns):\n",
      "publish_date     1103663 non-null datetime64[ns]\n",
      "headline_text    1103663 non-null object\n",
      "dtypes: datetime64[ns](1), object(1)\n",
      "memory usage: 16.8+ MB\n"
     ]
    }
   ],
   "source": [
    "headline_df.info()"
   ]
  },
  {
   "cell_type": "code",
   "execution_count": 10,
   "metadata": {},
   "outputs": [
    {
     "data": {
      "text/html": [
       "<div>\n",
       "<style scoped>\n",
       "    .dataframe tbody tr th:only-of-type {\n",
       "        vertical-align: middle;\n",
       "    }\n",
       "\n",
       "    .dataframe tbody tr th {\n",
       "        vertical-align: top;\n",
       "    }\n",
       "\n",
       "    .dataframe thead th {\n",
       "        text-align: right;\n",
       "    }\n",
       "</style>\n",
       "<table border=\"1\" class=\"dataframe\">\n",
       "  <thead>\n",
       "    <tr style=\"text-align: right;\">\n",
       "      <th></th>\n",
       "      <th>publish_date</th>\n",
       "      <th>headline_text</th>\n",
       "    </tr>\n",
       "  </thead>\n",
       "  <tbody>\n",
       "    <tr>\n",
       "      <th>0</th>\n",
       "      <td>2003-02-19</td>\n",
       "      <td>aba decides against community broadcasting lic...</td>\n",
       "    </tr>\n",
       "    <tr>\n",
       "      <th>1</th>\n",
       "      <td>2003-02-19</td>\n",
       "      <td>act fire witnesses must be aware of defamation</td>\n",
       "    </tr>\n",
       "    <tr>\n",
       "      <th>2</th>\n",
       "      <td>2003-02-19</td>\n",
       "      <td>a g calls for infrastructure protection summit</td>\n",
       "    </tr>\n",
       "    <tr>\n",
       "      <th>3</th>\n",
       "      <td>2003-02-19</td>\n",
       "      <td>air nz staff in aust strike for pay rise</td>\n",
       "    </tr>\n",
       "    <tr>\n",
       "      <th>4</th>\n",
       "      <td>2003-02-19</td>\n",
       "      <td>air nz strike to affect australian travellers</td>\n",
       "    </tr>\n",
       "  </tbody>\n",
       "</table>\n",
       "</div>"
      ],
      "text/plain": [
       "  publish_date                                      headline_text\n",
       "0   2003-02-19  aba decides against community broadcasting lic...\n",
       "1   2003-02-19     act fire witnesses must be aware of defamation\n",
       "2   2003-02-19     a g calls for infrastructure protection summit\n",
       "3   2003-02-19           air nz staff in aust strike for pay rise\n",
       "4   2003-02-19      air nz strike to affect australian travellers"
      ]
     },
     "execution_count": 10,
     "metadata": {},
     "output_type": "execute_result"
    }
   ],
   "source": [
    "headline_df.head()"
   ]
  },
  {
   "cell_type": "code",
   "execution_count": 11,
   "metadata": {},
   "outputs": [],
   "source": [
    "re_headline_df = headline_df['headline_text']"
   ]
  },
  {
   "cell_type": "code",
   "execution_count": 12,
   "metadata": {},
   "outputs": [],
   "source": [
    "re_headline_df.index = headline_df['publish_date']"
   ]
  },
  {
   "cell_type": "code",
   "execution_count": 13,
   "metadata": {},
   "outputs": [
    {
     "data": {
      "text/plain": [
       "publish_date\n",
       "2003-02-19    aba decides against community broadcasting lic...\n",
       "2003-02-19       act fire witnesses must be aware of defamation\n",
       "2003-02-19       a g calls for infrastructure protection summit\n",
       "2003-02-19             air nz staff in aust strike for pay rise\n",
       "2003-02-19        air nz strike to affect australian travellers\n",
       "2003-02-19                    ambitious olsson wins triple jump\n",
       "2003-02-19           antic delighted with record breaking barca\n",
       "2003-02-19    aussie qualifier stosur wastes four memphis match\n",
       "2003-02-19         aust addresses un security council over iraq\n",
       "2003-02-19           australia is locked into war timetable opp\n",
       "2003-02-19    australia to contribute 10 million in aid to iraq\n",
       "2003-02-19    barca take record as robson celebrates birthda...\n",
       "2003-02-19                           bathhouse plans move ahead\n",
       "2003-02-19        big hopes for launceston cycling championship\n",
       "2003-02-19               big plan to boost paroo water supplies\n",
       "2003-02-19               blizzard buries united states in bills\n",
       "2003-02-19       brigadier dismisses reports troops harassed in\n",
       "2003-02-19       british combat troops arriving daily in kuwait\n",
       "2003-02-19           bryant leads lakers to double overtime win\n",
       "2003-02-19             bushfire victims urged to see centrelink\n",
       "2003-02-19      businesses should prepare for terrorist attacks\n",
       "2003-02-19      calleri avenges final defeat to eliminate massu\n",
       "2003-02-19              call for ethanol blend fuel to go ahead\n",
       "2003-02-19               carews freak goal leaves roma in ruins\n",
       "2003-02-19                         cemeteries miss out on funds\n",
       "2003-02-19    code of conduct toughens organ donation regula...\n",
       "2003-02-19         commonwealth bank cuts fixed home loan rates\n",
       "2003-02-19               community urged to help homeless youth\n",
       "2003-02-19     council chief executive fails to secure position\n",
       "2003-02-19      councillor to contest wollongong as independent\n",
       "                                    ...                        \n",
       "2017-12-31          nepal bans solo climbers from mount everest\n",
       "2017-12-31       new years eve 2018 celebrated around australia\n",
       "2017-12-31    new years eve australia prepares to bring in 2018\n",
       "2017-12-31          new years eve celebrations around the world\n",
       "2017-12-31    new years texting data load to surge as clock ...\n",
       "2017-12-31       north korea leader kim jong un watches concert\n",
       "2017-12-31     now its real tourists converge on sydney harbour\n",
       "2017-12-31    nye guide for sydney best venues public transp...\n",
       "2017-12-31      police confirm deaths of six people in seaplane\n",
       "2017-12-31    police officer brett forte; killed in a shooti...\n",
       "2017-12-31       p plate driver caught 100 kph over speed limit\n",
       "2017-12-31           protesters throw rocks at police in tehran\n",
       "2017-12-31            remembering australian lives lost in 2017\n",
       "2017-12-31    remount horsemanship helping veterans through ...\n",
       "2017-12-31    roger federer rivals battling injury ahead aus...\n",
       "2017-12-31    russian tankers fuelled north korea via transf...\n",
       "2017-12-31    sa transport department defends major intersec...\n",
       "2017-12-31    sea plane has crashed into the hawkesbury rive...\n",
       "2017-12-31    search for survivors in hawkesbury sea plane c...\n",
       "2017-12-31    second sexual assault reported at falls festiv...\n",
       "2017-12-31    severe storms forecast for nye in south east q...\n",
       "2017-12-31    snake catcher pleads for people not to kill re...\n",
       "2017-12-31    south australia prepares for party to welcome ...\n",
       "2017-12-31    strikers cool off the heat with big win in ade...\n",
       "2017-12-31      stunning images from the sydney to hobart yacht\n",
       "2017-12-31    the ashes smiths warners near miss liven up bo...\n",
       "2017-12-31              timelapse: brisbanes new year fireworks\n",
       "2017-12-31             what 2017 meant to the kids of australia\n",
       "2017-12-31     what the papodopoulos meeting may mean for ausus\n",
       "2017-12-31    who is george papadopoulos the former trump ca...\n",
       "Name: headline_text, Length: 1103663, dtype: object"
      ]
     },
     "execution_count": 13,
     "metadata": {},
     "output_type": "execute_result"
    }
   ],
   "source": [
    "re_headline_df"
   ]
  },
  {
   "cell_type": "markdown",
   "metadata": {},
   "source": [
    "## Sentiment Analysis"
   ]
  },
  {
   "cell_type": "code",
   "execution_count": 14,
   "metadata": {},
   "outputs": [],
   "source": [
    "# Run - pip install TextBlob from a cmd\n",
    "from textblob import TextBlob"
   ]
  },
  {
   "cell_type": "code",
   "execution_count": 15,
   "metadata": {},
   "outputs": [],
   "source": [
    "positive_sentence = \"I love EDHEC. Best Masters of Finance school!\"\n",
    "neutral_sentence = \"The sky is often blue except when there are clouds\"\n",
    "negative_sentence = \"I hate it when they give us a classroom without windows.\""
   ]
  },
  {
   "cell_type": "code",
   "execution_count": 16,
   "metadata": {},
   "outputs": [],
   "source": [
    "positive_blob = TextBlob(positive_sentence)\n",
    "neutral_blob = TextBlob(neutral_sentence)\n",
    "negative_blob = TextBlob(negative_sentence)"
   ]
  },
  {
   "cell_type": "code",
   "execution_count": 17,
   "metadata": {},
   "outputs": [
    {
     "name": "stdout",
     "output_type": "stream",
     "text": [
      "Analysis of positive sentence:  Sentiment(polarity=0.75, subjectivity=0.44999999999999996)\n",
      "Analysis of neutral sentence:  Sentiment(polarity=0.0, subjectivity=0.1)\n",
      "Analysis of negative sentence:  Sentiment(polarity=-0.8, subjectivity=0.9)\n"
     ]
    }
   ],
   "source": [
    "print(\"Analysis of positive sentence: \", positive_blob.sentiment)\n",
    "print(\"Analysis of neutral sentence: \", neutral_blob.sentiment)\n",
    "print(\"Analysis of negative sentence: \", negative_blob.sentiment)"
   ]
  },
  {
   "cell_type": "markdown",
   "metadata": {},
   "source": [
    "## Historical Analysis of Headlines"
   ]
  },
  {
   "cell_type": "code",
   "execution_count": null,
   "metadata": {},
   "outputs": [],
   "source": [
    "# This can be quite slow ~30 seconds\n",
    "blobs = [TextBlob(re_headline_df[i]) for i in range(re_headline_df.shape[0])]"
   ]
  },
  {
   "cell_type": "code",
   "execution_count": null,
   "metadata": {},
   "outputs": [],
   "source": [
    "# DO NOT set this to TRUE unless you are sure\n",
    "\n",
    "notCreated = False\n",
    "\n",
    "if notCreated:\n",
    "    \n",
    "    polarity = []\n",
    "    subjectivity = []\n",
    "\n",
    "    count = 1\n",
    "\n",
    "    for blob in blobs:\n",
    "    \n",
    "        if count % 10000 == 0:\n",
    "            print(count)\n",
    "\n",
    "        count += 1\n",
    "        \n",
    "        polarity.append(blob.polarity)\n",
    "        subjectivity.append(blob.subjectivity)\n",
    "    \n",
    "    sentiment_analysed = pd.DataFrame({'headline_text':reindexed_headline_df, \n",
    "                                   'polarity':polarity, \n",
    "                                   'subjectivity':subjectivity}, \n",
    "                                  index=reindexed_headline_df.index)\n",
    "\n",
    "    sentiment_analysed.to_csv('./data/abcnews-sentiment-analysed.csv')\n",
    "\n",
    "    del sentiment_analysed['headline_text']\n",
    "\n",
    "else:\n",
    "    sentiment_analysed = pd.read_csv('./data/abcnews-sentiment-analysed.csv',\n",
    "                                     index_col='publish_date',\n",
    "                                     parse_dates=[0], infer_datetime_format=True)"
   ]
  },
  {
   "cell_type": "code",
   "execution_count": null,
   "metadata": {},
   "outputs": [],
   "source": [
    "sentiment_analysed.head()"
   ]
  },
  {
   "cell_type": "code",
   "execution_count": null,
   "metadata": {},
   "outputs": [],
   "source": [
    "monthly_averages = sentiment_analysed.resample('M').mean()"
   ]
  },
  {
   "cell_type": "code",
   "execution_count": null,
   "metadata": {},
   "outputs": [],
   "source": [
    "yearly_averages = sentiment_analysed.resample('A').mean()"
   ]
  },
  {
   "cell_type": "code",
   "execution_count": null,
   "metadata": {},
   "outputs": [],
   "source": [
    "fig, ax = plt.subplots(2, figsize=(18,14))\n",
    "ax[0].plot(monthly_averages['subjectivity'])\n",
    "ax[0].plot(yearly_averages['subjectivity'], 'r--')\n",
    "ax[0].set_title('Mean Subjectivity Score')\n",
    "ax[1].plot(monthly_averages['polarity'])\n",
    "ax[1].plot(yearly_averages['polarity'], 'r--')\n",
    "ax[1].set_title('Mean Polarity Score')"
   ]
  },
  {
   "cell_type": "markdown",
   "metadata": {},
   "source": [
    "## Filtering for Names"
   ]
  },
  {
   "cell_type": "code",
   "execution_count": null,
   "metadata": {},
   "outputs": [],
   "source": [
    "name = \" wall street \""
   ]
  },
  {
   "cell_type": "code",
   "execution_count": null,
   "metadata": {},
   "outputs": [],
   "source": [
    "headline_name = sentiment_analysed[sentiment_analysed['headline_text'].str.contains(name)]"
   ]
  },
  {
   "cell_type": "code",
   "execution_count": null,
   "metadata": {},
   "outputs": [],
   "source": [
    "headline_name.size"
   ]
  },
  {
   "cell_type": "code",
   "execution_count": null,
   "metadata": {},
   "outputs": [],
   "source": [
    "name_averages = headline_name.resample('D').mean()"
   ]
  },
  {
   "cell_type": "code",
   "execution_count": null,
   "metadata": {},
   "outputs": [],
   "source": [
    "name_averages.dropna(inplace=True)"
   ]
  },
  {
   "cell_type": "code",
   "execution_count": null,
   "metadata": {},
   "outputs": [],
   "source": [
    "fig, ax = plt.subplots(2, figsize=(18,14))\n",
    "\n",
    "ax[0].plot(name_averages[\"polarity\"],'o',c='g')\n",
    "ax[1].plot(name_averages[\"subjectivity\"],'o',c='r')\n",
    "\n",
    "ax[0].set_title('Mean Subjectivity Score for *' + name + \"*\")\n",
    "ax[1].set_title('Mean Polarity Score for *' + name + \"*\")"
   ]
  },
  {
   "cell_type": "code",
   "execution_count": null,
   "metadata": {},
   "outputs": [],
   "source": [
    "def plotName(name,headlines):\n",
    "    \n",
    "    df_name = headlines[headlines['headline_text'].str.contains(name)]\n",
    "    \n",
    "    name_averages = df_name.resample('D').mean()\n",
    "    name_averages.dropna(inplace=True)\n",
    "    \n",
    "    fig, ax = plt.subplots(2, figsize=(18,14))\n",
    "\n",
    "    ax[0].set_title('Mean Polarity Score for *' + name + \"*\")\n",
    "    ax[1].set_title('Mean Subjectivity Score for *' + name + \"*\")\n",
    "\n",
    "    ax[0].plot(name_averages[\"polarity\"],'o',c='g')\n",
    "    ax[1].plot(name_averages[\"subjectivity\"],'o',c='r')\n"
   ]
  },
  {
   "cell_type": "code",
   "execution_count": null,
   "metadata": {},
   "outputs": [],
   "source": [
    "plotName(\"wall street\",sentiment_analysed)"
   ]
  },
  {
   "cell_type": "code",
   "execution_count": null,
   "metadata": {},
   "outputs": [],
   "source": [
    "plotName(\" trump\",sentiment_analysed)"
   ]
  }
 ],
 "metadata": {
  "kernelspec": {
   "display_name": "Python 3",
   "language": "python",
   "name": "python3"
  },
  "language_info": {
   "codemirror_mode": {
    "name": "ipython",
    "version": 3
   },
   "file_extension": ".py",
   "mimetype": "text/x-python",
   "name": "python",
   "nbconvert_exporter": "python",
   "pygments_lexer": "ipython3",
   "version": "3.6.7"
  }
 },
 "nbformat": 4,
 "nbformat_minor": 2
}
