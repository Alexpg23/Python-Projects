{
 "cells": [
  {
   "cell_type": "markdown",
   "metadata": {},
   "source": [
    "# Introduction to Gradient Descent Regression\n",
    "Linear Regression is the starting point for most analyses that wish to predict a value"
   ]
  },
  {
   "cell_type": "code",
   "execution_count": 1,
   "metadata": {},
   "outputs": [],
   "source": [
    "# Load up Numpy and Matplotlib for visualisation\n",
    "import numpy as np\n",
    "import matplotlib.pyplot as plt\n",
    "plt.style.use('seaborn')\n",
    "%matplotlib inline\n",
    "np.random.seed(1919)"
   ]
  },
  {
   "cell_type": "code",
   "execution_count": 2,
   "metadata": {},
   "outputs": [],
   "source": [
    "m=100"
   ]
  },
  {
   "cell_type": "code",
   "execution_count": 3,
   "metadata": {},
   "outputs": [],
   "source": [
    "# Generate numPoints random uniform points \n",
    "x = 2.0 * np.random.rand(m)"
   ]
  },
  {
   "cell_type": "code",
   "execution_count": 4,
   "metadata": {},
   "outputs": [],
   "source": [
    "#The y values are the equation y = 4 + 3x plus some noise\n",
    "y = 4.0 + 3.0 * x + np.random.randn(m) "
   ]
  },
  {
   "cell_type": "code",
   "execution_count": 5,
   "metadata": {},
   "outputs": [],
   "source": [
    "x = x.reshape(m,1)"
   ]
  },
  {
   "cell_type": "code",
   "execution_count": 6,
   "metadata": {},
   "outputs": [
    {
     "data": {
      "image/png": "[encoded data removed]",
      "text/plain": [
       "<Figure size 432x432 with 1 Axes>"
      ]
     },
     "metadata": {
      "needs_background": "light"
     },
     "output_type": "display_data"
    }
   ],
   "source": [
    "# Plot these on a scatter plot\n",
    "plt.figure(figsize=(6, 6))\n",
    "plt.xlabel('x')\n",
    "plt.ylabel('y') \n",
    "plt.scatter(x,y); # semi-colon suppresses output"
   ]
  },
  {
   "cell_type": "markdown",
   "metadata": {},
   "source": [
    "## Batch Gradient Descent"
   ]
  },
  {
   "cell_type": "markdown",
   "metadata": {},
   "source": [
    "We define a function that does Gradient Descent"
   ]
  },
  {
   "cell_type": "code",
   "execution_count": 7,
   "metadata": {},
   "outputs": [],
   "source": [
    "def gradient_descent(alpha, x, y, ftol=0.000001, max_iter=200):\n",
    "\n",
    "    converged = False\n",
    "    num_iter = 0\n",
    "    m = x.shape[0] # number of samples\n",
    "    \n",
    "    theta0 = 1.0\n",
    "    theta1 = 1.0\n",
    "    \n",
    "    J = sum([(theta0 + theta1*x[i] - y[i])**2 for i in range(m)])/m/2.0\n",
    "\n",
    "    while not converged:\n",
    "\n",
    "        # for each training sample, compute the gradient wrt t0 and t1\n",
    "        grad0 = 1.0/m * sum([(theta0 + theta1*x[i] - y[i]) for i in range(m)]) \n",
    "        grad1 = 1.0/m * sum([(theta0 + theta1*x[i] - y[i])*x[i] for i in range(m)])\n",
    "        temp0 = theta0 - alpha * grad0\n",
    "        temp1 = theta1 - alpha * grad1\n",
    "        theta0 = temp0\n",
    "        theta1 = temp1\n",
    "        \n",
    "        # mean squared error\n",
    "        e = sum( [ (theta0 + theta1 * x[i] - y[i])**2 for i in range(m)] ) /2.0/m\n",
    "\n",
    "        if abs(J-e) <= ftol: converged = True\n",
    "\n",
    "        J = e   # update error \n",
    "        num_iter += 1  # update iter\n",
    "        \n",
    "        if num_iter == max_iter: # max iterations exceeded\n",
    "            converged = True\n",
    "\n",
    "    return theta0,theta1,num_iter,e"
   ]
  },
  {
   "cell_type": "code",
   "execution_count": 8,
   "metadata": {},
   "outputs": [],
   "source": [
    "alpha = 0.1\n",
    "#theta0, theta1, numIters, e = gradient_descent(alpha,x,y)    \n",
    "#print(\"al:\",alpha,\" t0:\",theta0, \" t1:\", theta1, \" J:\", e, \" nIters:\", numIters)"
   ]
  },
  {
   "cell_type": "code",
   "execution_count": 9,
   "metadata": {
    "scrolled": true
   },
   "outputs": [
    {
     "name": "stdout",
     "output_type": "stream",
     "text": [
      "al: 0.1  t0: [3.54083296]  t1: [3.35067172]  J: [0.51146868]  nIters: 200\n",
      "al: 0.15000000000000002  t0: [3.55183033]  t1: [3.34199367]  J: [0.51141963]  nIters: 160\n",
      "al: 0.20000000000000004  t0: [3.55382777]  t1: [3.34041749]  J: [0.51141376]  nIters: 125\n",
      "al: 0.25000000000000006  t0: [3.55517476]  t1: [3.33935458]  J: [0.51141032]  nIters: 103\n",
      "al: 0.30000000000000004  t0: [3.55582529]  t1: [3.33884124]  J: [0.51140881]  nIters: 87\n",
      "al: 0.3500000000000001  t0: [3.55663608]  t1: [3.33820145]  J: [0.51140707]  nIters: 76\n",
      "al: 0.40000000000000013  t0: [3.5575023]  t1: [3.33751792]  J: [0.51140538]  nIters: 68\n",
      "al: 0.45000000000000007  t0: [3.55790762]  t1: [3.33719808]  J: [0.51140465]  nIters: 61\n",
      "al: 0.5000000000000001  t0: [3.55860766]  t1: [3.33664568]  J: [0.51140348]  nIters: 56\n",
      "al: 0.5500000000000002  t0: [3.55876662]  t1: [3.33652024]  J: [0.51140323]  nIters: 51\n",
      "al: 0.6000000000000002  t0: [3.55902044]  t1: [3.33631995]  J: [0.51140284]  nIters: 47\n",
      "al: 0.6500000000000001  t0: [3.5594949]  t1: [3.33594555]  J: [0.51140216]  nIters: 44\n",
      "al: 0.7000000000000002  t0: [3.55968249]  t1: [3.33579773]  J: [0.5114019]  nIters: 41\n",
      "al: 0.7500000000000002  t0: [3.56037161]  t1: [3.33553743]  J: [0.51140126]  nIters: 39\n",
      "al: 0.8000000000000002  t0: [3.56651475]  t1: [3.33281502]  J: [0.51140231]  nIters: 71\n",
      "al: 0.8500000000000002  t0: [-79.05797395]  t1: [-101.37436986]  J: [21123.26745929]  nIters: 200\n",
      "al: 0.9000000000000002  t0: [-3.12620096e+11]  t1: [-3.96172156e+11]  J: [3.02397587e+23]  nIters: 200\n",
      "al: 0.9500000000000003  t0: [-1.32095844e+20]  t1: [-1.67400292e+20]  J: [5.39911835e+40]  nIters: 200\n",
      "al: 1.0000000000000004  t0: [-9.26808741e+27]  t1: [-1.17451124e+28]  J: [2.65781519e+56]  nIters: 200\n",
      "al: 1.0500000000000003  t0: [-1.4544105e+35]  t1: [-1.84312189e+35]  J: [6.54513392e+70]  nIters: 200\n",
      "al: 1.1000000000000005  t0: [-6.42102996e+41]  t1: [-8.13713934e+41]  J: [1.27571578e+84]  nIters: 200\n",
      "al: 1.1500000000000004  t0: [-9.5520731e+47]  t1: [-1.21049972e+48]  J: [2.82318808e+96]  nIters: 200\n",
      "al: 1.2000000000000004  t0: [-5.53228687e+53]  t1: [-7.01086733e+53]  J: [9.47008596e+107]  nIters: 200\n",
      "al: 1.2500000000000004  t0: [-1.4029474e+59]  t1: [-1.77790456e+59]  J: [6.09014051e+118]  nIters: 200\n",
      "al: 1.3000000000000005  t0: [-1.71613028e+64]  t1: [-2.17478992e+64]  J: [9.1126575e+128]  nIters: 200\n",
      "al: 1.3500000000000005  t0: [-1.09771377e+69]  t1: [-1.39109301e+69]  J: [3.72840223e+138]  nIters: 200\n",
      "al: 1.4000000000000006  t0: [-3.93004397e+73]  t1: [-4.98040277e+73]  J: [4.77902558e+147]  nIters: 200\n",
      "al: 1.4500000000000006  t0: [-8.34443442e+77]  t1: [-1.05746003e+78]  J: [2.15445957e+156]  nIters: 200\n"
     ]
    }
   ],
   "source": [
    "# Using gradient descent\n",
    "for alpha in np.arange(0.1,1.5,0.05):\n",
    "    theta0, theta1, numIters, e = gradient_descent(alpha,x,y)    \n",
    "    print(\"al:\",alpha,\" t0:\",theta0, \" t1:\", theta1, \" J:\", e, \" nIters:\", numIters)"
   ]
  },
  {
   "cell_type": "markdown",
   "metadata": {},
   "source": [
    "We see that the convergence breaks down at higher values of $\\alpha$"
   ]
  },
  {
   "cell_type": "markdown",
   "metadata": {
    "collapsed": true
   },
   "source": [
    "### Using SciKit's Stochastic Gradient Descent Regressor"
   ]
  },
  {
   "cell_type": "markdown",
   "metadata": {},
   "source": [
    "http://scikit-learn.org/stable/modules/generated/sklearn.linear_model.SGDRegressor.html"
   ]
  },
  {
   "cell_type": "code",
   "execution_count": 10,
   "metadata": {},
   "outputs": [],
   "source": [
    "from sklearn.linear_model import SGDRegressor\n",
    "\n",
    "sgd = SGDRegressor(max_iter=10000, warm_start=False, penalty=None,learning_rate='constant',eta0=0.0005, tol=None)"
   ]
  },
  {
   "cell_type": "code",
   "execution_count": 11,
   "metadata": {},
   "outputs": [
    {
     "data": {
      "text/plain": [
       "SGDRegressor(eta0=0.0005, learning_rate='constant', max_iter=10000,\n",
       "             penalty=None, tol=None)"
      ]
     },
     "execution_count": 11,
     "metadata": {},
     "output_type": "execute_result"
    }
   ],
   "source": [
    "sgd.fit(x,y)"
   ]
  },
  {
   "cell_type": "code",
   "execution_count": 12,
   "metadata": {},
   "outputs": [
    {
     "data": {
      "text/plain": [
       "array([3.3304871])"
      ]
     },
     "execution_count": 12,
     "metadata": {},
     "output_type": "execute_result"
    }
   ],
   "source": [
    "sgd.coef_"
   ]
  },
  {
   "cell_type": "code",
   "execution_count": 13,
   "metadata": {},
   "outputs": [
    {
     "data": {
      "text/plain": [
       "array([3.56506956])"
      ]
     },
     "execution_count": 13,
     "metadata": {},
     "output_type": "execute_result"
    }
   ],
   "source": [
    "sgd.intercept_"
   ]
  },
  {
   "cell_type": "code",
   "execution_count": 14,
   "metadata": {},
   "outputs": [
    {
     "data": {
      "text/plain": [
       "10000"
      ]
     },
     "execution_count": 14,
     "metadata": {},
     "output_type": "execute_result"
    }
   ],
   "source": [
    "sgd.n_iter_"
   ]
  }
 ],
 "metadata": {
  "kernelspec": {
   "display_name": "Python 3",
   "language": "python",
   "name": "python3"
  },
  "language_info": {
   "codemirror_mode": {
    "name": "ipython",
    "version": 3
   },
   "file_extension": ".py",
   "mimetype": "text/x-python",
   "name": "python",
   "nbconvert_exporter": "python",
   "pygments_lexer": "ipython3",
   "version": "3.8.5"
  }
 },
 "nbformat": 4,
 "nbformat_minor": 2
}
