{
 "cells": [
  {
   "cell_type": "markdown",
   "id": "803aabb0-b411-47fe-8be2-597833100fe4",
   "metadata": {},
   "source": [
    "# Coursework Question 1 - House Price Prediction"
   ]
  },
  {
   "cell_type": "markdown",
   "id": "31e111fe-394a-419e-85c8-88fbe18dab18",
   "metadata": {},
   "source": [
    "Please List Members of Team and Student IDs below:\n",
    "\n",
    "Member 1: Marcel Santos de Carvalho, id 79083¶\n",
    "\n",
    "Member 2: Loris Baudry, id 79794\n",
    "\n",
    "Member 3: Alex Palacios, id\n",
    "\n",
    "Which member of the team is responsible for this notebook: Loris Baudry"
   ]
  },
  {
   "cell_type": "code",
   "execution_count": 1,
   "id": "d088b656-fc52-468d-91d1-256a572efb97",
   "metadata": {},
   "outputs": [],
   "source": [
    "import numpy as np\n",
    "import pandas as pd\n",
    "import matplotlib.pyplot as plt\n",
    "import seaborn as sns\n",
    "%matplotlib inline"
   ]
  },
  {
   "cell_type": "markdown",
   "id": "492e790a-1323-42bb-af72-24b35f80cb9a",
   "metadata": {},
   "source": [
    "# 1. Loading and Preview of the Data Frame"
   ]
  },
  {
   "cell_type": "markdown",
   "id": "422e75ab-baf5-4543-83b9-0a9a4e4c4eba",
   "metadata": {},
   "source": [
    "## 1.1. Loading "
   ]
  },
  {
   "cell_type": "code",
   "execution_count": 2,
   "id": "d4229ce7-5f64-41f0-8cf2-ecf4ade49272",
   "metadata": {},
   "outputs": [],
   "source": [
    "# We read the file into the data frame\n",
    "df = pd.read_csv('housing/train.csv')"
   ]
  },
  {
   "cell_type": "markdown",
   "id": "b958cfd6-04a6-43dc-8288-746f446a38ff",
   "metadata": {},
   "source": [
    "## 1.2. Preview of the Data Frame"
   ]
  },
  {
   "cell_type": "code",
   "execution_count": 3,
   "id": "4feec250-5e23-4de4-a415-1b5e201836c3",
   "metadata": {},
   "outputs": [
    {
     "data": {
      "text/html": [
       "<div>\n",
       "<style scoped>\n",
       "    .dataframe tbody tr th:only-of-type {\n",
       "        vertical-align: middle;\n",
       "    }\n",
       "\n",
       "    .dataframe tbody tr th {\n",
       "        vertical-align: top;\n",
       "    }\n",
       "\n",
       "    .dataframe thead th {\n",
       "        text-align: right;\n",
       "    }\n",
       "</style>\n",
       "<table border=\"1\" class=\"dataframe\">\n",
       "  <thead>\n",
       "    <tr style=\"text-align: right;\">\n",
       "      <th></th>\n",
       "      <th>Id</th>\n",
       "      <th>MSSubClass</th>\n",
       "      <th>MSZoning</th>\n",
       "      <th>LotFrontage</th>\n",
       "      <th>LotArea</th>\n",
       "      <th>Street</th>\n",
       "      <th>Alley</th>\n",
       "      <th>LotShape</th>\n",
       "      <th>LandContour</th>\n",
       "      <th>Utilities</th>\n",
       "      <th>...</th>\n",
       "      <th>PoolArea</th>\n",
       "      <th>PoolQC</th>\n",
       "      <th>Fence</th>\n",
       "      <th>MiscFeature</th>\n",
       "      <th>MiscVal</th>\n",
       "      <th>MoSold</th>\n",
       "      <th>YrSold</th>\n",
       "      <th>SaleType</th>\n",
       "      <th>SaleCondition</th>\n",
       "      <th>SalePrice</th>\n",
       "    </tr>\n",
       "  </thead>\n",
       "  <tbody>\n",
       "    <tr>\n",
       "      <th>0</th>\n",
       "      <td>1</td>\n",
       "      <td>60</td>\n",
       "      <td>RL</td>\n",
       "      <td>65.0</td>\n",
       "      <td>8450</td>\n",
       "      <td>Pave</td>\n",
       "      <td>NaN</td>\n",
       "      <td>Reg</td>\n",
       "      <td>Lvl</td>\n",
       "      <td>AllPub</td>\n",
       "      <td>...</td>\n",
       "      <td>0</td>\n",
       "      <td>NaN</td>\n",
       "      <td>NaN</td>\n",
       "      <td>NaN</td>\n",
       "      <td>0</td>\n",
       "      <td>2</td>\n",
       "      <td>2008</td>\n",
       "      <td>WD</td>\n",
       "      <td>Normal</td>\n",
       "      <td>208500</td>\n",
       "    </tr>\n",
       "    <tr>\n",
       "      <th>1</th>\n",
       "      <td>2</td>\n",
       "      <td>20</td>\n",
       "      <td>RL</td>\n",
       "      <td>80.0</td>\n",
       "      <td>9600</td>\n",
       "      <td>Pave</td>\n",
       "      <td>NaN</td>\n",
       "      <td>Reg</td>\n",
       "      <td>Lvl</td>\n",
       "      <td>AllPub</td>\n",
       "      <td>...</td>\n",
       "      <td>0</td>\n",
       "      <td>NaN</td>\n",
       "      <td>NaN</td>\n",
       "      <td>NaN</td>\n",
       "      <td>0</td>\n",
       "      <td>5</td>\n",
       "      <td>2007</td>\n",
       "      <td>WD</td>\n",
       "      <td>Normal</td>\n",
       "      <td>181500</td>\n",
       "    </tr>\n",
       "    <tr>\n",
       "      <th>2</th>\n",
       "      <td>3</td>\n",
       "      <td>60</td>\n",
       "      <td>RL</td>\n",
       "      <td>68.0</td>\n",
       "      <td>11250</td>\n",
       "      <td>Pave</td>\n",
       "      <td>NaN</td>\n",
       "      <td>IR1</td>\n",
       "      <td>Lvl</td>\n",
       "      <td>AllPub</td>\n",
       "      <td>...</td>\n",
       "      <td>0</td>\n",
       "      <td>NaN</td>\n",
       "      <td>NaN</td>\n",
       "      <td>NaN</td>\n",
       "      <td>0</td>\n",
       "      <td>9</td>\n",
       "      <td>2008</td>\n",
       "      <td>WD</td>\n",
       "      <td>Normal</td>\n",
       "      <td>223500</td>\n",
       "    </tr>\n",
       "    <tr>\n",
       "      <th>3</th>\n",
       "      <td>4</td>\n",
       "      <td>70</td>\n",
       "      <td>RL</td>\n",
       "      <td>60.0</td>\n",
       "      <td>9550</td>\n",
       "      <td>Pave</td>\n",
       "      <td>NaN</td>\n",
       "      <td>IR1</td>\n",
       "      <td>Lvl</td>\n",
       "      <td>AllPub</td>\n",
       "      <td>...</td>\n",
       "      <td>0</td>\n",
       "      <td>NaN</td>\n",
       "      <td>NaN</td>\n",
       "      <td>NaN</td>\n",
       "      <td>0</td>\n",
       "      <td>2</td>\n",
       "      <td>2006</td>\n",
       "      <td>WD</td>\n",
       "      <td>Abnorml</td>\n",
       "      <td>140000</td>\n",
       "    </tr>\n",
       "    <tr>\n",
       "      <th>4</th>\n",
       "      <td>5</td>\n",
       "      <td>60</td>\n",
       "      <td>RL</td>\n",
       "      <td>84.0</td>\n",
       "      <td>14260</td>\n",
       "      <td>Pave</td>\n",
       "      <td>NaN</td>\n",
       "      <td>IR1</td>\n",
       "      <td>Lvl</td>\n",
       "      <td>AllPub</td>\n",
       "      <td>...</td>\n",
       "      <td>0</td>\n",
       "      <td>NaN</td>\n",
       "      <td>NaN</td>\n",
       "      <td>NaN</td>\n",
       "      <td>0</td>\n",
       "      <td>12</td>\n",
       "      <td>2008</td>\n",
       "      <td>WD</td>\n",
       "      <td>Normal</td>\n",
       "      <td>250000</td>\n",
       "    </tr>\n",
       "  </tbody>\n",
       "</table>\n",
       "<p>5 rows × 81 columns</p>\n",
       "</div>"
      ],
      "text/plain": [
       "   Id  MSSubClass MSZoning  LotFrontage  LotArea Street Alley LotShape  \\\n",
       "0   1          60       RL         65.0     8450   Pave   NaN      Reg   \n",
       "1   2          20       RL         80.0     9600   Pave   NaN      Reg   \n",
       "2   3          60       RL         68.0    11250   Pave   NaN      IR1   \n",
       "3   4          70       RL         60.0     9550   Pave   NaN      IR1   \n",
       "4   5          60       RL         84.0    14260   Pave   NaN      IR1   \n",
       "\n",
       "  LandContour Utilities  ... PoolArea PoolQC Fence MiscFeature MiscVal MoSold  \\\n",
       "0         Lvl    AllPub  ...        0    NaN   NaN         NaN       0      2   \n",
       "1         Lvl    AllPub  ...        0    NaN   NaN         NaN       0      5   \n",
       "2         Lvl    AllPub  ...        0    NaN   NaN         NaN       0      9   \n",
       "3         Lvl    AllPub  ...        0    NaN   NaN         NaN       0      2   \n",
       "4         Lvl    AllPub  ...        0    NaN   NaN         NaN       0     12   \n",
       "\n",
       "  YrSold  SaleType  SaleCondition  SalePrice  \n",
       "0   2008        WD         Normal     208500  \n",
       "1   2007        WD         Normal     181500  \n",
       "2   2008        WD         Normal     223500  \n",
       "3   2006        WD        Abnorml     140000  \n",
       "4   2008        WD         Normal     250000  \n",
       "\n",
       "[5 rows x 81 columns]"
      ]
     },
     "execution_count": 3,
     "metadata": {},
     "output_type": "execute_result"
    }
   ],
   "source": [
    "# Have a preview of the first 10 rows\n",
    "df.head(5)"
   ]
  },
  {
   "cell_type": "code",
   "execution_count": 4,
   "id": "94b219c4-bd44-4504-9b63-af485fcdb026",
   "metadata": {},
   "outputs": [
    {
     "data": {
      "text/plain": [
       "(1460, 81)"
      ]
     },
     "execution_count": 4,
     "metadata": {},
     "output_type": "execute_result"
    }
   ],
   "source": [
    "# Find out how many data rows and columns we have\n",
    "df.shape"
   ]
  },
  {
   "cell_type": "code",
   "execution_count": null,
   "id": "52e06f69-77c3-489a-9910-7d3f2cc28148",
   "metadata": {},
   "outputs": [],
   "source": [
    "df.info()"
   ]
  },
  {
   "cell_type": "markdown",
   "id": "c086f8fc-9a1d-4a04-8e30-00580169f3fc",
   "metadata": {},
   "source": [
    "# 2. Clean and Prepare data for model"
   ]
  },
  {
   "cell_type": "markdown",
   "id": "b0f0ed73-36f8-4b79-8ec4-48141ca1a990",
   "metadata": {},
   "source": [
    "## 2.1. Drop Columns with lots of nulls "
   ]
  },
  {
   "cell_type": "code",
   "execution_count": 6,
   "id": "ffc36db5-c37a-4beb-8131-22fd5bb63dfa",
   "metadata": {},
   "outputs": [],
   "source": [
    "df.drop(['Id'],axis=1,inplace=True)"
   ]
  },
  {
   "cell_type": "code",
   "execution_count": 7,
   "id": "e287ef5e-b51e-475b-9d67-15e5c7f3b67b",
   "metadata": {},
   "outputs": [],
   "source": [
    "# Drop of columns with lots of nulls \n",
    "df.drop(['PoolQC','Fence','MiscFeature', 'Alley', 'GarageYrBlt' ],axis=1,inplace=True)"
   ]
  },
  {
   "cell_type": "markdown",
   "id": "0ad41a3a-54c5-47dd-a186-6b189bea77d9",
   "metadata": {},
   "source": [
    "## 2.2. Filling Missing Values"
   ]
  },
  {
   "cell_type": "code",
   "execution_count": 8,
   "id": "561f34d9-3577-46e5-b5a0-408a24495462",
   "metadata": {},
   "outputs": [],
   "source": [
    "# filling missing categorical columns with mode \n",
    "df['BsmtCond']=df['BsmtCond'].fillna(df['BsmtCond'].mode()[0])\n",
    "df['BsmtQual']=df['BsmtQual'].fillna(df['BsmtQual'].mode()[0])\n",
    "df['FireplaceQu']=df['FireplaceQu'].fillna(df['FireplaceQu'].mode()[0])\n",
    "df['GarageType']=df['GarageType'].fillna(df['GarageType'].mode()[0])\n",
    "df['GarageFinish']=df['GarageFinish'].fillna(df['GarageFinish'].mode()[0])\n",
    "df['GarageQual']=df['GarageQual'].fillna(df['GarageQual'].mode()[0])\n",
    "df['GarageCond']=df['GarageCond'].fillna(df['GarageCond'].mode()[0])\n",
    "df['MasVnrType']=df['MasVnrType'].fillna(df['MasVnrType'].mode()[0])\n",
    "df['MasVnrArea']=df['MasVnrArea'].fillna(df['MasVnrArea'].mode()[0])\n",
    "df['BsmtExposure']=df['BsmtExposure'].fillna(df['BsmtExposure'].mode()[0])\n",
    "df['BsmtFinType2']=df['BsmtFinType2'].fillna(df['BsmtFinType2'].mode()[0])"
   ]
  },
  {
   "cell_type": "code",
   "execution_count": 9,
   "id": "12b5ccaa-6fff-4a2d-8a8d-439aa63f912c",
   "metadata": {},
   "outputs": [],
   "source": [
    "# filling missing continuous columns with mean\n",
    "df['LotFrontage']=df['LotFrontage'].fillna(df['LotFrontage'].mean())"
   ]
  },
  {
   "cell_type": "markdown",
   "id": "83baddb0-01d3-474e-ab9b-fc72ce12b1d0",
   "metadata": {},
   "source": [
    "## 2.3. Remove Remaining Nulls"
   ]
  },
  {
   "cell_type": "code",
   "execution_count": 10,
   "id": "0cdc4f92-2d0a-4e69-980d-6458c83d0ee4",
   "metadata": {},
   "outputs": [],
   "source": [
    "df.dropna(inplace=True)"
   ]
  },
  {
   "cell_type": "code",
   "execution_count": 11,
   "id": "ee214bba-f984-41a6-ae71-46590b31ca86",
   "metadata": {},
   "outputs": [
    {
     "data": {
      "text/plain": [
       "(1422, 75)"
      ]
     },
     "execution_count": 11,
     "metadata": {},
     "output_type": "execute_result"
    }
   ],
   "source": [
    "df.shape"
   ]
  },
  {
   "cell_type": "markdown",
   "id": "b9719aaf-4a5d-40f2-b076-7729c5f87593",
   "metadata": {},
   "source": [
    "## 2.4. Handle Categorical Data"
   ]
  },
  {
   "cell_type": "code",
   "execution_count": 12,
   "id": "380f926a-1248-4617-a259-c19a5f5884e9",
   "metadata": {},
   "outputs": [
    {
     "data": {
      "text/html": [
       "<div>\n",
       "<style scoped>\n",
       "    .dataframe tbody tr th:only-of-type {\n",
       "        vertical-align: middle;\n",
       "    }\n",
       "\n",
       "    .dataframe tbody tr th {\n",
       "        vertical-align: top;\n",
       "    }\n",
       "\n",
       "    .dataframe thead th {\n",
       "        text-align: right;\n",
       "    }\n",
       "</style>\n",
       "<table border=\"1\" class=\"dataframe\">\n",
       "  <thead>\n",
       "    <tr style=\"text-align: right;\">\n",
       "      <th></th>\n",
       "      <th>MSSubClass</th>\n",
       "      <th>MSZoning</th>\n",
       "      <th>LotFrontage</th>\n",
       "      <th>LotArea</th>\n",
       "      <th>Street</th>\n",
       "      <th>LotShape</th>\n",
       "      <th>LandContour</th>\n",
       "      <th>Utilities</th>\n",
       "      <th>LotConfig</th>\n",
       "      <th>LandSlope</th>\n",
       "      <th>...</th>\n",
       "      <th>SaleType_ConLw</th>\n",
       "      <th>SaleType_New</th>\n",
       "      <th>SaleType_Oth</th>\n",
       "      <th>SaleType_WD</th>\n",
       "      <th>SaleCondition_Abnorml</th>\n",
       "      <th>SaleCondition_AdjLand</th>\n",
       "      <th>SaleCondition_Alloca</th>\n",
       "      <th>SaleCondition_Family</th>\n",
       "      <th>SaleCondition_Normal</th>\n",
       "      <th>SaleCondition_Partial</th>\n",
       "    </tr>\n",
       "  </thead>\n",
       "  <tbody>\n",
       "    <tr>\n",
       "      <th>0</th>\n",
       "      <td>60</td>\n",
       "      <td>RL</td>\n",
       "      <td>65.0</td>\n",
       "      <td>8450</td>\n",
       "      <td>Pave</td>\n",
       "      <td>Reg</td>\n",
       "      <td>Lvl</td>\n",
       "      <td>AllPub</td>\n",
       "      <td>Inside</td>\n",
       "      <td>Gtl</td>\n",
       "      <td>...</td>\n",
       "      <td>0</td>\n",
       "      <td>0</td>\n",
       "      <td>0</td>\n",
       "      <td>1</td>\n",
       "      <td>0</td>\n",
       "      <td>0</td>\n",
       "      <td>0</td>\n",
       "      <td>0</td>\n",
       "      <td>1</td>\n",
       "      <td>0</td>\n",
       "    </tr>\n",
       "    <tr>\n",
       "      <th>1</th>\n",
       "      <td>20</td>\n",
       "      <td>RL</td>\n",
       "      <td>80.0</td>\n",
       "      <td>9600</td>\n",
       "      <td>Pave</td>\n",
       "      <td>Reg</td>\n",
       "      <td>Lvl</td>\n",
       "      <td>AllPub</td>\n",
       "      <td>FR2</td>\n",
       "      <td>Gtl</td>\n",
       "      <td>...</td>\n",
       "      <td>0</td>\n",
       "      <td>0</td>\n",
       "      <td>0</td>\n",
       "      <td>1</td>\n",
       "      <td>0</td>\n",
       "      <td>0</td>\n",
       "      <td>0</td>\n",
       "      <td>0</td>\n",
       "      <td>1</td>\n",
       "      <td>0</td>\n",
       "    </tr>\n",
       "    <tr>\n",
       "      <th>2</th>\n",
       "      <td>60</td>\n",
       "      <td>RL</td>\n",
       "      <td>68.0</td>\n",
       "      <td>11250</td>\n",
       "      <td>Pave</td>\n",
       "      <td>IR1</td>\n",
       "      <td>Lvl</td>\n",
       "      <td>AllPub</td>\n",
       "      <td>Inside</td>\n",
       "      <td>Gtl</td>\n",
       "      <td>...</td>\n",
       "      <td>0</td>\n",
       "      <td>0</td>\n",
       "      <td>0</td>\n",
       "      <td>1</td>\n",
       "      <td>0</td>\n",
       "      <td>0</td>\n",
       "      <td>0</td>\n",
       "      <td>0</td>\n",
       "      <td>1</td>\n",
       "      <td>0</td>\n",
       "    </tr>\n",
       "    <tr>\n",
       "      <th>3</th>\n",
       "      <td>70</td>\n",
       "      <td>RL</td>\n",
       "      <td>60.0</td>\n",
       "      <td>9550</td>\n",
       "      <td>Pave</td>\n",
       "      <td>IR1</td>\n",
       "      <td>Lvl</td>\n",
       "      <td>AllPub</td>\n",
       "      <td>Corner</td>\n",
       "      <td>Gtl</td>\n",
       "      <td>...</td>\n",
       "      <td>0</td>\n",
       "      <td>0</td>\n",
       "      <td>0</td>\n",
       "      <td>1</td>\n",
       "      <td>1</td>\n",
       "      <td>0</td>\n",
       "      <td>0</td>\n",
       "      <td>0</td>\n",
       "      <td>0</td>\n",
       "      <td>0</td>\n",
       "    </tr>\n",
       "    <tr>\n",
       "      <th>4</th>\n",
       "      <td>60</td>\n",
       "      <td>RL</td>\n",
       "      <td>84.0</td>\n",
       "      <td>14260</td>\n",
       "      <td>Pave</td>\n",
       "      <td>IR1</td>\n",
       "      <td>Lvl</td>\n",
       "      <td>AllPub</td>\n",
       "      <td>FR2</td>\n",
       "      <td>Gtl</td>\n",
       "      <td>...</td>\n",
       "      <td>0</td>\n",
       "      <td>0</td>\n",
       "      <td>0</td>\n",
       "      <td>1</td>\n",
       "      <td>0</td>\n",
       "      <td>0</td>\n",
       "      <td>0</td>\n",
       "      <td>0</td>\n",
       "      <td>1</td>\n",
       "      <td>0</td>\n",
       "    </tr>\n",
       "  </tbody>\n",
       "</table>\n",
       "<p>5 rows × 310 columns</p>\n",
       "</div>"
      ],
      "text/plain": [
       "   MSSubClass MSZoning  LotFrontage  LotArea Street LotShape LandContour  \\\n",
       "0          60       RL         65.0     8450   Pave      Reg         Lvl   \n",
       "1          20       RL         80.0     9600   Pave      Reg         Lvl   \n",
       "2          60       RL         68.0    11250   Pave      IR1         Lvl   \n",
       "3          70       RL         60.0     9550   Pave      IR1         Lvl   \n",
       "4          60       RL         84.0    14260   Pave      IR1         Lvl   \n",
       "\n",
       "  Utilities LotConfig LandSlope  ... SaleType_ConLw SaleType_New SaleType_Oth  \\\n",
       "0    AllPub    Inside       Gtl  ...              0            0            0   \n",
       "1    AllPub       FR2       Gtl  ...              0            0            0   \n",
       "2    AllPub    Inside       Gtl  ...              0            0            0   \n",
       "3    AllPub    Corner       Gtl  ...              0            0            0   \n",
       "4    AllPub       FR2       Gtl  ...              0            0            0   \n",
       "\n",
       "  SaleType_WD SaleCondition_Abnorml  SaleCondition_AdjLand  \\\n",
       "0           1                     0                      0   \n",
       "1           1                     0                      0   \n",
       "2           1                     0                      0   \n",
       "3           1                     1                      0   \n",
       "4           1                     0                      0   \n",
       "\n",
       "   SaleCondition_Alloca  SaleCondition_Family  SaleCondition_Normal  \\\n",
       "0                     0                     0                     1   \n",
       "1                     0                     0                     1   \n",
       "2                     0                     0                     1   \n",
       "3                     0                     0                     0   \n",
       "4                     0                     0                     1   \n",
       "\n",
       "  SaleCondition_Partial  \n",
       "0                     0  \n",
       "1                     0  \n",
       "2                     0  \n",
       "3                     0  \n",
       "4                     0  \n",
       "\n",
       "[5 rows x 310 columns]"
      ]
     },
     "execution_count": 12,
     "metadata": {},
     "output_type": "execute_result"
    }
   ],
   "source": [
    "df_text = df.select_dtypes(include=object)\n",
    "one_hot = pd.get_dummies(df_text)\n",
    "df_join = df.join(one_hot)\n",
    "df_join.head()"
   ]
  },
  {
   "cell_type": "code",
   "execution_count": 13,
   "id": "e34a9442-e27d-407c-8363-8d2272e319d8",
   "metadata": {},
   "outputs": [
    {
     "data": {
      "text/html": [
       "<div>\n",
       "<style scoped>\n",
       "    .dataframe tbody tr th:only-of-type {\n",
       "        vertical-align: middle;\n",
       "    }\n",
       "\n",
       "    .dataframe tbody tr th {\n",
       "        vertical-align: top;\n",
       "    }\n",
       "\n",
       "    .dataframe thead th {\n",
       "        text-align: right;\n",
       "    }\n",
       "</style>\n",
       "<table border=\"1\" class=\"dataframe\">\n",
       "  <thead>\n",
       "    <tr style=\"text-align: right;\">\n",
       "      <th></th>\n",
       "      <th>MSSubClass</th>\n",
       "      <th>LotFrontage</th>\n",
       "      <th>LotArea</th>\n",
       "      <th>OverallQual</th>\n",
       "      <th>OverallCond</th>\n",
       "      <th>YearBuilt</th>\n",
       "      <th>YearRemodAdd</th>\n",
       "      <th>MasVnrArea</th>\n",
       "      <th>BsmtFinSF1</th>\n",
       "      <th>BsmtFinSF2</th>\n",
       "      <th>...</th>\n",
       "      <th>SaleType_ConLw</th>\n",
       "      <th>SaleType_New</th>\n",
       "      <th>SaleType_Oth</th>\n",
       "      <th>SaleType_WD</th>\n",
       "      <th>SaleCondition_Abnorml</th>\n",
       "      <th>SaleCondition_AdjLand</th>\n",
       "      <th>SaleCondition_Alloca</th>\n",
       "      <th>SaleCondition_Family</th>\n",
       "      <th>SaleCondition_Normal</th>\n",
       "      <th>SaleCondition_Partial</th>\n",
       "    </tr>\n",
       "  </thead>\n",
       "  <tbody>\n",
       "    <tr>\n",
       "      <th>0</th>\n",
       "      <td>60</td>\n",
       "      <td>65.0</td>\n",
       "      <td>8450</td>\n",
       "      <td>7</td>\n",
       "      <td>5</td>\n",
       "      <td>2003</td>\n",
       "      <td>2003</td>\n",
       "      <td>196.0</td>\n",
       "      <td>706</td>\n",
       "      <td>0</td>\n",
       "      <td>...</td>\n",
       "      <td>0</td>\n",
       "      <td>0</td>\n",
       "      <td>0</td>\n",
       "      <td>1</td>\n",
       "      <td>0</td>\n",
       "      <td>0</td>\n",
       "      <td>0</td>\n",
       "      <td>0</td>\n",
       "      <td>1</td>\n",
       "      <td>0</td>\n",
       "    </tr>\n",
       "    <tr>\n",
       "      <th>1</th>\n",
       "      <td>20</td>\n",
       "      <td>80.0</td>\n",
       "      <td>9600</td>\n",
       "      <td>6</td>\n",
       "      <td>8</td>\n",
       "      <td>1976</td>\n",
       "      <td>1976</td>\n",
       "      <td>0.0</td>\n",
       "      <td>978</td>\n",
       "      <td>0</td>\n",
       "      <td>...</td>\n",
       "      <td>0</td>\n",
       "      <td>0</td>\n",
       "      <td>0</td>\n",
       "      <td>1</td>\n",
       "      <td>0</td>\n",
       "      <td>0</td>\n",
       "      <td>0</td>\n",
       "      <td>0</td>\n",
       "      <td>1</td>\n",
       "      <td>0</td>\n",
       "    </tr>\n",
       "    <tr>\n",
       "      <th>2</th>\n",
       "      <td>60</td>\n",
       "      <td>68.0</td>\n",
       "      <td>11250</td>\n",
       "      <td>7</td>\n",
       "      <td>5</td>\n",
       "      <td>2001</td>\n",
       "      <td>2002</td>\n",
       "      <td>162.0</td>\n",
       "      <td>486</td>\n",
       "      <td>0</td>\n",
       "      <td>...</td>\n",
       "      <td>0</td>\n",
       "      <td>0</td>\n",
       "      <td>0</td>\n",
       "      <td>1</td>\n",
       "      <td>0</td>\n",
       "      <td>0</td>\n",
       "      <td>0</td>\n",
       "      <td>0</td>\n",
       "      <td>1</td>\n",
       "      <td>0</td>\n",
       "    </tr>\n",
       "    <tr>\n",
       "      <th>3</th>\n",
       "      <td>70</td>\n",
       "      <td>60.0</td>\n",
       "      <td>9550</td>\n",
       "      <td>7</td>\n",
       "      <td>5</td>\n",
       "      <td>1915</td>\n",
       "      <td>1970</td>\n",
       "      <td>0.0</td>\n",
       "      <td>216</td>\n",
       "      <td>0</td>\n",
       "      <td>...</td>\n",
       "      <td>0</td>\n",
       "      <td>0</td>\n",
       "      <td>0</td>\n",
       "      <td>1</td>\n",
       "      <td>1</td>\n",
       "      <td>0</td>\n",
       "      <td>0</td>\n",
       "      <td>0</td>\n",
       "      <td>0</td>\n",
       "      <td>0</td>\n",
       "    </tr>\n",
       "    <tr>\n",
       "      <th>4</th>\n",
       "      <td>60</td>\n",
       "      <td>84.0</td>\n",
       "      <td>14260</td>\n",
       "      <td>8</td>\n",
       "      <td>5</td>\n",
       "      <td>2000</td>\n",
       "      <td>2000</td>\n",
       "      <td>350.0</td>\n",
       "      <td>655</td>\n",
       "      <td>0</td>\n",
       "      <td>...</td>\n",
       "      <td>0</td>\n",
       "      <td>0</td>\n",
       "      <td>0</td>\n",
       "      <td>1</td>\n",
       "      <td>0</td>\n",
       "      <td>0</td>\n",
       "      <td>0</td>\n",
       "      <td>0</td>\n",
       "      <td>1</td>\n",
       "      <td>0</td>\n",
       "    </tr>\n",
       "  </tbody>\n",
       "</table>\n",
       "<p>5 rows × 271 columns</p>\n",
       "</div>"
      ],
      "text/plain": [
       "   MSSubClass  LotFrontage  LotArea  OverallQual  OverallCond  YearBuilt  \\\n",
       "0          60         65.0     8450            7            5       2003   \n",
       "1          20         80.0     9600            6            8       1976   \n",
       "2          60         68.0    11250            7            5       2001   \n",
       "3          70         60.0     9550            7            5       1915   \n",
       "4          60         84.0    14260            8            5       2000   \n",
       "\n",
       "   YearRemodAdd  MasVnrArea  BsmtFinSF1  BsmtFinSF2  ...  SaleType_ConLw  \\\n",
       "0          2003       196.0         706           0  ...               0   \n",
       "1          1976         0.0         978           0  ...               0   \n",
       "2          2002       162.0         486           0  ...               0   \n",
       "3          1970         0.0         216           0  ...               0   \n",
       "4          2000       350.0         655           0  ...               0   \n",
       "\n",
       "   SaleType_New  SaleType_Oth  SaleType_WD  SaleCondition_Abnorml  \\\n",
       "0             0             0            1                      0   \n",
       "1             0             0            1                      0   \n",
       "2             0             0            1                      0   \n",
       "3             0             0            1                      1   \n",
       "4             0             0            1                      0   \n",
       "\n",
       "   SaleCondition_AdjLand  SaleCondition_Alloca  SaleCondition_Family  \\\n",
       "0                      0                     0                     0   \n",
       "1                      0                     0                     0   \n",
       "2                      0                     0                     0   \n",
       "3                      0                     0                     0   \n",
       "4                      0                     0                     0   \n",
       "\n",
       "   SaleCondition_Normal  SaleCondition_Partial  \n",
       "0                     1                      0  \n",
       "1                     1                      0  \n",
       "2                     1                      0  \n",
       "3                     0                      0  \n",
       "4                     1                      0  \n",
       "\n",
       "[5 rows x 271 columns]"
      ]
     },
     "execution_count": 13,
     "metadata": {},
     "output_type": "execute_result"
    }
   ],
   "source": [
    "df = df_join.select_dtypes(exclude=['object'])\n",
    "df.head()"
   ]
  },
  {
   "cell_type": "code",
   "execution_count": 14,
   "id": "b34d0c8e-b106-4039-895d-8a99f7cb57a6",
   "metadata": {},
   "outputs": [
    {
     "data": {
      "text/plain": [
       "(1422, 271)"
      ]
     },
     "execution_count": 14,
     "metadata": {},
     "output_type": "execute_result"
    }
   ],
   "source": [
    "df.shape"
   ]
  },
  {
   "cell_type": "markdown",
   "id": "bbdb0259-b0bc-4d7b-8336-015586cb60d5",
   "metadata": {},
   "source": [
    "# 3. Select Relevant Features to build the model"
   ]
  },
  {
   "cell_type": "markdown",
   "id": "a7cac18f-56c9-4b25-b3b8-53af663b5ea3",
   "metadata": {},
   "source": [
    "## 3.1. Analysis of Features correlation with SalePrice"
   ]
  },
  {
   "cell_type": "code",
   "execution_count": 15,
   "id": "6d7fbe16-5bde-414f-86bf-6635e3a169f8",
   "metadata": {},
   "outputs": [],
   "source": [
    "# We delete features having a correlation > 80% with another feature\n",
    "\n",
    "corr = df.corr()\n",
    "columns = np.full((corr.shape[0],), True, dtype=bool)\n",
    "for i in range(corr.shape[0]):\n",
    "    for j in range(i+1, corr.shape[0]):\n",
    "        if corr.iloc[i,j] >= 0.8:\n",
    "            if columns[j]:\n",
    "                columns[j] = False\n",
    "selected_columns = df.columns[columns]\n",
    "df = df[selected_columns]"
   ]
  },
  {
   "cell_type": "code",
   "execution_count": 16,
   "id": "d7b43a69-80e7-4606-aab0-4a10ebd92051",
   "metadata": {},
   "outputs": [
    {
     "data": {
      "text/plain": [
       "SalePrice               1.000000\n",
       "OverallQual             0.787985\n",
       "GrLivArea               0.709303\n",
       "GarageCars              0.643039\n",
       "TotalBsmtSF             0.610085\n",
       "FullBath                0.573755\n",
       "BsmtQual_Ex             0.553768\n",
       "YearBuilt               0.519014\n",
       "KitchenQual_Ex          0.504655\n",
       "YearRemodAdd            0.500512\n",
       "Foundation_PConc        0.492300\n",
       "MasVnrArea              0.470117\n",
       "Fireplaces              0.461108\n",
       "ExterQual_Ex            0.452715\n",
       "ExterQual_Gd            0.443755\n",
       "HeatingQC_Ex            0.428411\n",
       "BsmtFinType1_GLQ        0.426911\n",
       "GarageFinish_Fin        0.417049\n",
       "Neighborhood_NridgHt    0.402007\n",
       "Name: SalePrice, dtype: float64"
      ]
     },
     "execution_count": 16,
     "metadata": {},
     "output_type": "execute_result"
    }
   ],
   "source": [
    "# Analysis of features correlations with SalePrice and selection of features with a correlation > 0.50 \n",
    "corr_matrix = df.corr()\n",
    "corr_analysis = corr_matrix[\"SalePrice\"].sort_values(ascending=False)\n",
    "relevant_features = corr_analysis[corr_analysis>0.40]\n",
    "relevant_features"
   ]
  },
  {
   "cell_type": "code",
   "execution_count": 17,
   "id": "fe21952f-1372-4138-9d5c-cb3738c50dce",
   "metadata": {},
   "outputs": [
    {
     "data": {
      "text/html": [
       "<div>\n",
       "<style scoped>\n",
       "    .dataframe tbody tr th:only-of-type {\n",
       "        vertical-align: middle;\n",
       "    }\n",
       "\n",
       "    .dataframe tbody tr th {\n",
       "        vertical-align: top;\n",
       "    }\n",
       "\n",
       "    .dataframe thead th {\n",
       "        text-align: right;\n",
       "    }\n",
       "</style>\n",
       "<table border=\"1\" class=\"dataframe\">\n",
       "  <thead>\n",
       "    <tr style=\"text-align: right;\">\n",
       "      <th></th>\n",
       "      <th>SalePrice</th>\n",
       "      <th>OverallQual</th>\n",
       "      <th>GrLivArea</th>\n",
       "      <th>GarageCars</th>\n",
       "      <th>TotalBsmtSF</th>\n",
       "      <th>FullBath</th>\n",
       "      <th>BsmtQual_Ex</th>\n",
       "      <th>YearBuilt</th>\n",
       "      <th>KitchenQual_Ex</th>\n",
       "      <th>YearRemodAdd</th>\n",
       "      <th>Foundation_PConc</th>\n",
       "      <th>KitchenQual_Ex</th>\n",
       "      <th>ExterQual_Gd</th>\n",
       "      <th>Fireplaces</th>\n",
       "      <th>MasVnrArea</th>\n",
       "      <th>ExterQual_Ex</th>\n",
       "      <th>HeatingQC_Ex</th>\n",
       "      <th>BsmtFinType1_GLQ</th>\n",
       "      <th>GarageFinish_Fin</th>\n",
       "      <th>Neighborhood_NridgHt</th>\n",
       "    </tr>\n",
       "  </thead>\n",
       "  <tbody>\n",
       "    <tr>\n",
       "      <th>SalePrice</th>\n",
       "      <td>1.000000</td>\n",
       "      <td>0.787985</td>\n",
       "      <td>0.709303</td>\n",
       "      <td>0.643039</td>\n",
       "      <td>0.610085</td>\n",
       "      <td>0.573755</td>\n",
       "      <td>0.553768</td>\n",
       "      <td>0.519014</td>\n",
       "      <td>0.504655</td>\n",
       "      <td>0.500512</td>\n",
       "      <td>0.492300</td>\n",
       "      <td>0.504655</td>\n",
       "      <td>0.443755</td>\n",
       "      <td>0.461108</td>\n",
       "      <td>0.470117</td>\n",
       "      <td>0.452715</td>\n",
       "      <td>0.428411</td>\n",
       "      <td>0.426911</td>\n",
       "      <td>0.417049</td>\n",
       "      <td>0.402007</td>\n",
       "    </tr>\n",
       "    <tr>\n",
       "      <th>OverallQual</th>\n",
       "      <td>0.787985</td>\n",
       "      <td>1.000000</td>\n",
       "      <td>0.593344</td>\n",
       "      <td>0.609183</td>\n",
       "      <td>0.509802</td>\n",
       "      <td>0.574951</td>\n",
       "      <td>0.475175</td>\n",
       "      <td>0.571984</td>\n",
       "      <td>0.429653</td>\n",
       "      <td>0.541770</td>\n",
       "      <td>0.566107</td>\n",
       "      <td>0.429653</td>\n",
       "      <td>0.542418</td>\n",
       "      <td>0.389639</td>\n",
       "      <td>0.405568</td>\n",
       "      <td>0.389704</td>\n",
       "      <td>0.453659</td>\n",
       "      <td>0.426587</td>\n",
       "      <td>0.396454</td>\n",
       "      <td>0.371976</td>\n",
       "    </tr>\n",
       "    <tr>\n",
       "      <th>GrLivArea</th>\n",
       "      <td>0.709303</td>\n",
       "      <td>0.593344</td>\n",
       "      <td>1.000000</td>\n",
       "      <td>0.465996</td>\n",
       "      <td>0.470000</td>\n",
       "      <td>0.633775</td>\n",
       "      <td>0.310477</td>\n",
       "      <td>0.191560</td>\n",
       "      <td>0.307346</td>\n",
       "      <td>0.281333</td>\n",
       "      <td>0.292686</td>\n",
       "      <td>0.307346</td>\n",
       "      <td>0.298918</td>\n",
       "      <td>0.458510</td>\n",
       "      <td>0.387068</td>\n",
       "      <td>0.274956</td>\n",
       "      <td>0.255706</td>\n",
       "      <td>0.189504</td>\n",
       "      <td>0.285195</td>\n",
       "      <td>0.179400</td>\n",
       "    </tr>\n",
       "    <tr>\n",
       "      <th>GarageCars</th>\n",
       "      <td>0.643039</td>\n",
       "      <td>0.609183</td>\n",
       "      <td>0.465996</td>\n",
       "      <td>1.000000</td>\n",
       "      <td>0.447293</td>\n",
       "      <td>0.477137</td>\n",
       "      <td>0.359344</td>\n",
       "      <td>0.537792</td>\n",
       "      <td>0.274938</td>\n",
       "      <td>0.424525</td>\n",
       "      <td>0.461165</td>\n",
       "      <td>0.274938</td>\n",
       "      <td>0.426137</td>\n",
       "      <td>0.300174</td>\n",
       "      <td>0.362444</td>\n",
       "      <td>0.244920</td>\n",
       "      <td>0.333210</td>\n",
       "      <td>0.320555</td>\n",
       "      <td>0.340599</td>\n",
       "      <td>0.284967</td>\n",
       "    </tr>\n",
       "    <tr>\n",
       "      <th>TotalBsmtSF</th>\n",
       "      <td>0.610085</td>\n",
       "      <td>0.509802</td>\n",
       "      <td>0.470000</td>\n",
       "      <td>0.447293</td>\n",
       "      <td>1.000000</td>\n",
       "      <td>0.364227</td>\n",
       "      <td>0.417708</td>\n",
       "      <td>0.396421</td>\n",
       "      <td>0.373005</td>\n",
       "      <td>0.265553</td>\n",
       "      <td>0.289228</td>\n",
       "      <td>0.373005</td>\n",
       "      <td>0.264442</td>\n",
       "      <td>0.335453</td>\n",
       "      <td>0.367622</td>\n",
       "      <td>0.362754</td>\n",
       "      <td>0.261704</td>\n",
       "      <td>0.302566</td>\n",
       "      <td>0.251640</td>\n",
       "      <td>0.302697</td>\n",
       "    </tr>\n",
       "    <tr>\n",
       "      <th>FullBath</th>\n",
       "      <td>0.573755</td>\n",
       "      <td>0.574951</td>\n",
       "      <td>0.633775</td>\n",
       "      <td>0.477137</td>\n",
       "      <td>0.364227</td>\n",
       "      <td>1.000000</td>\n",
       "      <td>0.241687</td>\n",
       "      <td>0.473917</td>\n",
       "      <td>0.178035</td>\n",
       "      <td>0.453908</td>\n",
       "      <td>0.476417</td>\n",
       "      <td>0.178035</td>\n",
       "      <td>0.432106</td>\n",
       "      <td>0.250130</td>\n",
       "      <td>0.273765</td>\n",
       "      <td>0.188392</td>\n",
       "      <td>0.348689</td>\n",
       "      <td>0.262041</td>\n",
       "      <td>0.285905</td>\n",
       "      <td>0.206536</td>\n",
       "    </tr>\n",
       "    <tr>\n",
       "      <th>BsmtQual_Ex</th>\n",
       "      <td>0.553768</td>\n",
       "      <td>0.475175</td>\n",
       "      <td>0.310477</td>\n",
       "      <td>0.359344</td>\n",
       "      <td>0.417708</td>\n",
       "      <td>0.241687</td>\n",
       "      <td>1.000000</td>\n",
       "      <td>0.318552</td>\n",
       "      <td>0.517412</td>\n",
       "      <td>0.286503</td>\n",
       "      <td>0.320482</td>\n",
       "      <td>0.517412</td>\n",
       "      <td>0.135758</td>\n",
       "      <td>0.186271</td>\n",
       "      <td>0.332663</td>\n",
       "      <td>0.531410</td>\n",
       "      <td>0.270040</td>\n",
       "      <td>0.245814</td>\n",
       "      <td>0.318039</td>\n",
       "      <td>0.461599</td>\n",
       "    </tr>\n",
       "    <tr>\n",
       "      <th>YearBuilt</th>\n",
       "      <td>0.519014</td>\n",
       "      <td>0.571984</td>\n",
       "      <td>0.191560</td>\n",
       "      <td>0.537792</td>\n",
       "      <td>0.396421</td>\n",
       "      <td>0.473917</td>\n",
       "      <td>0.318552</td>\n",
       "      <td>1.000000</td>\n",
       "      <td>0.202903</td>\n",
       "      <td>0.595832</td>\n",
       "      <td>0.653260</td>\n",
       "      <td>0.202903</td>\n",
       "      <td>0.556068</td>\n",
       "      <td>0.141634</td>\n",
       "      <td>0.308152</td>\n",
       "      <td>0.184249</td>\n",
       "      <td>0.466602</td>\n",
       "      <td>0.477975</td>\n",
       "      <td>0.392252</td>\n",
       "      <td>0.268269</td>\n",
       "    </tr>\n",
       "    <tr>\n",
       "      <th>KitchenQual_Ex</th>\n",
       "      <td>0.504655</td>\n",
       "      <td>0.429653</td>\n",
       "      <td>0.307346</td>\n",
       "      <td>0.274938</td>\n",
       "      <td>0.373005</td>\n",
       "      <td>0.178035</td>\n",
       "      <td>0.517412</td>\n",
       "      <td>0.202903</td>\n",
       "      <td>1.000000</td>\n",
       "      <td>0.237630</td>\n",
       "      <td>0.214309</td>\n",
       "      <td>1.000000</td>\n",
       "      <td>0.073911</td>\n",
       "      <td>0.212085</td>\n",
       "      <td>0.256185</td>\n",
       "      <td>0.561837</td>\n",
       "      <td>0.205736</td>\n",
       "      <td>0.208913</td>\n",
       "      <td>0.284127</td>\n",
       "      <td>0.408154</td>\n",
       "    </tr>\n",
       "    <tr>\n",
       "      <th>YearRemodAdd</th>\n",
       "      <td>0.500512</td>\n",
       "      <td>0.541770</td>\n",
       "      <td>0.281333</td>\n",
       "      <td>0.424525</td>\n",
       "      <td>0.265553</td>\n",
       "      <td>0.453908</td>\n",
       "      <td>0.286503</td>\n",
       "      <td>0.595832</td>\n",
       "      <td>0.237630</td>\n",
       "      <td>1.000000</td>\n",
       "      <td>0.570874</td>\n",
       "      <td>0.237630</td>\n",
       "      <td>0.530741</td>\n",
       "      <td>0.098646</td>\n",
       "      <td>0.169627</td>\n",
       "      <td>0.198487</td>\n",
       "      <td>0.510122</td>\n",
       "      <td>0.399193</td>\n",
       "      <td>0.325010</td>\n",
       "      <td>0.244167</td>\n",
       "    </tr>\n",
       "    <tr>\n",
       "      <th>Foundation_PConc</th>\n",
       "      <td>0.492300</td>\n",
       "      <td>0.566107</td>\n",
       "      <td>0.292686</td>\n",
       "      <td>0.461165</td>\n",
       "      <td>0.289228</td>\n",
       "      <td>0.476417</td>\n",
       "      <td>0.320482</td>\n",
       "      <td>0.653260</td>\n",
       "      <td>0.214309</td>\n",
       "      <td>0.570874</td>\n",
       "      <td>1.000000</td>\n",
       "      <td>0.214309</td>\n",
       "      <td>0.585942</td>\n",
       "      <td>0.095944</td>\n",
       "      <td>0.185993</td>\n",
       "      <td>0.169273</td>\n",
       "      <td>0.531828</td>\n",
       "      <td>0.449681</td>\n",
       "      <td>0.351936</td>\n",
       "      <td>0.257115</td>\n",
       "    </tr>\n",
       "    <tr>\n",
       "      <th>KitchenQual_Ex</th>\n",
       "      <td>0.504655</td>\n",
       "      <td>0.429653</td>\n",
       "      <td>0.307346</td>\n",
       "      <td>0.274938</td>\n",
       "      <td>0.373005</td>\n",
       "      <td>0.178035</td>\n",
       "      <td>0.517412</td>\n",
       "      <td>0.202903</td>\n",
       "      <td>1.000000</td>\n",
       "      <td>0.237630</td>\n",
       "      <td>0.214309</td>\n",
       "      <td>1.000000</td>\n",
       "      <td>0.073911</td>\n",
       "      <td>0.212085</td>\n",
       "      <td>0.256185</td>\n",
       "      <td>0.561837</td>\n",
       "      <td>0.205736</td>\n",
       "      <td>0.208913</td>\n",
       "      <td>0.284127</td>\n",
       "      <td>0.408154</td>\n",
       "    </tr>\n",
       "    <tr>\n",
       "      <th>ExterQual_Gd</th>\n",
       "      <td>0.443755</td>\n",
       "      <td>0.542418</td>\n",
       "      <td>0.298918</td>\n",
       "      <td>0.426137</td>\n",
       "      <td>0.264442</td>\n",
       "      <td>0.432106</td>\n",
       "      <td>0.135758</td>\n",
       "      <td>0.556068</td>\n",
       "      <td>0.073911</td>\n",
       "      <td>0.530741</td>\n",
       "      <td>0.585942</td>\n",
       "      <td>0.073911</td>\n",
       "      <td>1.000000</td>\n",
       "      <td>0.144463</td>\n",
       "      <td>0.132498</td>\n",
       "      <td>-0.140605</td>\n",
       "      <td>0.494108</td>\n",
       "      <td>0.370330</td>\n",
       "      <td>0.270243</td>\n",
       "      <td>0.141634</td>\n",
       "    </tr>\n",
       "    <tr>\n",
       "      <th>Fireplaces</th>\n",
       "      <td>0.461108</td>\n",
       "      <td>0.389639</td>\n",
       "      <td>0.458510</td>\n",
       "      <td>0.300174</td>\n",
       "      <td>0.335453</td>\n",
       "      <td>0.250130</td>\n",
       "      <td>0.186271</td>\n",
       "      <td>0.141634</td>\n",
       "      <td>0.212085</td>\n",
       "      <td>0.098646</td>\n",
       "      <td>0.095944</td>\n",
       "      <td>0.212085</td>\n",
       "      <td>0.144463</td>\n",
       "      <td>1.000000</td>\n",
       "      <td>0.240252</td>\n",
       "      <td>0.172063</td>\n",
       "      <td>0.129058</td>\n",
       "      <td>0.107286</td>\n",
       "      <td>0.255235</td>\n",
       "      <td>0.149644</td>\n",
       "    </tr>\n",
       "    <tr>\n",
       "      <th>MasVnrArea</th>\n",
       "      <td>0.470117</td>\n",
       "      <td>0.405568</td>\n",
       "      <td>0.387068</td>\n",
       "      <td>0.362444</td>\n",
       "      <td>0.367622</td>\n",
       "      <td>0.273765</td>\n",
       "      <td>0.332663</td>\n",
       "      <td>0.308152</td>\n",
       "      <td>0.256185</td>\n",
       "      <td>0.169627</td>\n",
       "      <td>0.185993</td>\n",
       "      <td>0.256185</td>\n",
       "      <td>0.132498</td>\n",
       "      <td>0.240252</td>\n",
       "      <td>1.000000</td>\n",
       "      <td>0.341094</td>\n",
       "      <td>0.161948</td>\n",
       "      <td>0.216958</td>\n",
       "      <td>0.194399</td>\n",
       "      <td>0.295483</td>\n",
       "    </tr>\n",
       "    <tr>\n",
       "      <th>ExterQual_Ex</th>\n",
       "      <td>0.452715</td>\n",
       "      <td>0.389704</td>\n",
       "      <td>0.274956</td>\n",
       "      <td>0.244920</td>\n",
       "      <td>0.362754</td>\n",
       "      <td>0.188392</td>\n",
       "      <td>0.531410</td>\n",
       "      <td>0.184249</td>\n",
       "      <td>0.561837</td>\n",
       "      <td>0.198487</td>\n",
       "      <td>0.169273</td>\n",
       "      <td>0.561837</td>\n",
       "      <td>-0.140605</td>\n",
       "      <td>0.172063</td>\n",
       "      <td>0.341094</td>\n",
       "      <td>1.000000</td>\n",
       "      <td>0.166129</td>\n",
       "      <td>0.170356</td>\n",
       "      <td>0.228429</td>\n",
       "      <td>0.416927</td>\n",
       "    </tr>\n",
       "    <tr>\n",
       "      <th>HeatingQC_Ex</th>\n",
       "      <td>0.428411</td>\n",
       "      <td>0.453659</td>\n",
       "      <td>0.255706</td>\n",
       "      <td>0.333210</td>\n",
       "      <td>0.261704</td>\n",
       "      <td>0.348689</td>\n",
       "      <td>0.270040</td>\n",
       "      <td>0.466602</td>\n",
       "      <td>0.205736</td>\n",
       "      <td>0.510122</td>\n",
       "      <td>0.531828</td>\n",
       "      <td>0.205736</td>\n",
       "      <td>0.494108</td>\n",
       "      <td>0.129058</td>\n",
       "      <td>0.161948</td>\n",
       "      <td>0.166129</td>\n",
       "      <td>1.000000</td>\n",
       "      <td>0.325072</td>\n",
       "      <td>0.270934</td>\n",
       "      <td>0.219213</td>\n",
       "    </tr>\n",
       "    <tr>\n",
       "      <th>BsmtFinType1_GLQ</th>\n",
       "      <td>0.426911</td>\n",
       "      <td>0.426587</td>\n",
       "      <td>0.189504</td>\n",
       "      <td>0.320555</td>\n",
       "      <td>0.302566</td>\n",
       "      <td>0.262041</td>\n",
       "      <td>0.245814</td>\n",
       "      <td>0.477975</td>\n",
       "      <td>0.208913</td>\n",
       "      <td>0.399193</td>\n",
       "      <td>0.449681</td>\n",
       "      <td>0.208913</td>\n",
       "      <td>0.370330</td>\n",
       "      <td>0.107286</td>\n",
       "      <td>0.216958</td>\n",
       "      <td>0.170356</td>\n",
       "      <td>0.325072</td>\n",
       "      <td>1.000000</td>\n",
       "      <td>0.252564</td>\n",
       "      <td>0.186657</td>\n",
       "    </tr>\n",
       "    <tr>\n",
       "      <th>GarageFinish_Fin</th>\n",
       "      <td>0.417049</td>\n",
       "      <td>0.396454</td>\n",
       "      <td>0.285195</td>\n",
       "      <td>0.340599</td>\n",
       "      <td>0.251640</td>\n",
       "      <td>0.285905</td>\n",
       "      <td>0.318039</td>\n",
       "      <td>0.392252</td>\n",
       "      <td>0.284127</td>\n",
       "      <td>0.325010</td>\n",
       "      <td>0.351936</td>\n",
       "      <td>0.284127</td>\n",
       "      <td>0.270243</td>\n",
       "      <td>0.255235</td>\n",
       "      <td>0.194399</td>\n",
       "      <td>0.228429</td>\n",
       "      <td>0.270934</td>\n",
       "      <td>0.252564</td>\n",
       "      <td>1.000000</td>\n",
       "      <td>0.130709</td>\n",
       "    </tr>\n",
       "    <tr>\n",
       "      <th>Neighborhood_NridgHt</th>\n",
       "      <td>0.402007</td>\n",
       "      <td>0.371976</td>\n",
       "      <td>0.179400</td>\n",
       "      <td>0.284967</td>\n",
       "      <td>0.302697</td>\n",
       "      <td>0.206536</td>\n",
       "      <td>0.461599</td>\n",
       "      <td>0.268269</td>\n",
       "      <td>0.408154</td>\n",
       "      <td>0.244167</td>\n",
       "      <td>0.257115</td>\n",
       "      <td>0.408154</td>\n",
       "      <td>0.141634</td>\n",
       "      <td>0.149644</td>\n",
       "      <td>0.295483</td>\n",
       "      <td>0.416927</td>\n",
       "      <td>0.219213</td>\n",
       "      <td>0.186657</td>\n",
       "      <td>0.130709</td>\n",
       "      <td>1.000000</td>\n",
       "    </tr>\n",
       "  </tbody>\n",
       "</table>\n",
       "</div>"
      ],
      "text/plain": [
       "                      SalePrice  OverallQual  GrLivArea  GarageCars  \\\n",
       "SalePrice              1.000000     0.787985   0.709303    0.643039   \n",
       "OverallQual            0.787985     1.000000   0.593344    0.609183   \n",
       "GrLivArea              0.709303     0.593344   1.000000    0.465996   \n",
       "GarageCars             0.643039     0.609183   0.465996    1.000000   \n",
       "TotalBsmtSF            0.610085     0.509802   0.470000    0.447293   \n",
       "FullBath               0.573755     0.574951   0.633775    0.477137   \n",
       "BsmtQual_Ex            0.553768     0.475175   0.310477    0.359344   \n",
       "YearBuilt              0.519014     0.571984   0.191560    0.537792   \n",
       "KitchenQual_Ex         0.504655     0.429653   0.307346    0.274938   \n",
       "YearRemodAdd           0.500512     0.541770   0.281333    0.424525   \n",
       "Foundation_PConc       0.492300     0.566107   0.292686    0.461165   \n",
       "KitchenQual_Ex         0.504655     0.429653   0.307346    0.274938   \n",
       "ExterQual_Gd           0.443755     0.542418   0.298918    0.426137   \n",
       "Fireplaces             0.461108     0.389639   0.458510    0.300174   \n",
       "MasVnrArea             0.470117     0.405568   0.387068    0.362444   \n",
       "ExterQual_Ex           0.452715     0.389704   0.274956    0.244920   \n",
       "HeatingQC_Ex           0.428411     0.453659   0.255706    0.333210   \n",
       "BsmtFinType1_GLQ       0.426911     0.426587   0.189504    0.320555   \n",
       "GarageFinish_Fin       0.417049     0.396454   0.285195    0.340599   \n",
       "Neighborhood_NridgHt   0.402007     0.371976   0.179400    0.284967   \n",
       "\n",
       "                      TotalBsmtSF  FullBath  BsmtQual_Ex  YearBuilt  \\\n",
       "SalePrice                0.610085  0.573755     0.553768   0.519014   \n",
       "OverallQual              0.509802  0.574951     0.475175   0.571984   \n",
       "GrLivArea                0.470000  0.633775     0.310477   0.191560   \n",
       "GarageCars               0.447293  0.477137     0.359344   0.537792   \n",
       "TotalBsmtSF              1.000000  0.364227     0.417708   0.396421   \n",
       "FullBath                 0.364227  1.000000     0.241687   0.473917   \n",
       "BsmtQual_Ex              0.417708  0.241687     1.000000   0.318552   \n",
       "YearBuilt                0.396421  0.473917     0.318552   1.000000   \n",
       "KitchenQual_Ex           0.373005  0.178035     0.517412   0.202903   \n",
       "YearRemodAdd             0.265553  0.453908     0.286503   0.595832   \n",
       "Foundation_PConc         0.289228  0.476417     0.320482   0.653260   \n",
       "KitchenQual_Ex           0.373005  0.178035     0.517412   0.202903   \n",
       "ExterQual_Gd             0.264442  0.432106     0.135758   0.556068   \n",
       "Fireplaces               0.335453  0.250130     0.186271   0.141634   \n",
       "MasVnrArea               0.367622  0.273765     0.332663   0.308152   \n",
       "ExterQual_Ex             0.362754  0.188392     0.531410   0.184249   \n",
       "HeatingQC_Ex             0.261704  0.348689     0.270040   0.466602   \n",
       "BsmtFinType1_GLQ         0.302566  0.262041     0.245814   0.477975   \n",
       "GarageFinish_Fin         0.251640  0.285905     0.318039   0.392252   \n",
       "Neighborhood_NridgHt     0.302697  0.206536     0.461599   0.268269   \n",
       "\n",
       "                      KitchenQual_Ex  YearRemodAdd  Foundation_PConc  \\\n",
       "SalePrice                   0.504655      0.500512          0.492300   \n",
       "OverallQual                 0.429653      0.541770          0.566107   \n",
       "GrLivArea                   0.307346      0.281333          0.292686   \n",
       "GarageCars                  0.274938      0.424525          0.461165   \n",
       "TotalBsmtSF                 0.373005      0.265553          0.289228   \n",
       "FullBath                    0.178035      0.453908          0.476417   \n",
       "BsmtQual_Ex                 0.517412      0.286503          0.320482   \n",
       "YearBuilt                   0.202903      0.595832          0.653260   \n",
       "KitchenQual_Ex              1.000000      0.237630          0.214309   \n",
       "YearRemodAdd                0.237630      1.000000          0.570874   \n",
       "Foundation_PConc            0.214309      0.570874          1.000000   \n",
       "KitchenQual_Ex              1.000000      0.237630          0.214309   \n",
       "ExterQual_Gd                0.073911      0.530741          0.585942   \n",
       "Fireplaces                  0.212085      0.098646          0.095944   \n",
       "MasVnrArea                  0.256185      0.169627          0.185993   \n",
       "ExterQual_Ex                0.561837      0.198487          0.169273   \n",
       "HeatingQC_Ex                0.205736      0.510122          0.531828   \n",
       "BsmtFinType1_GLQ            0.208913      0.399193          0.449681   \n",
       "GarageFinish_Fin            0.284127      0.325010          0.351936   \n",
       "Neighborhood_NridgHt        0.408154      0.244167          0.257115   \n",
       "\n",
       "                      KitchenQual_Ex  ExterQual_Gd  Fireplaces  MasVnrArea  \\\n",
       "SalePrice                   0.504655      0.443755    0.461108    0.470117   \n",
       "OverallQual                 0.429653      0.542418    0.389639    0.405568   \n",
       "GrLivArea                   0.307346      0.298918    0.458510    0.387068   \n",
       "GarageCars                  0.274938      0.426137    0.300174    0.362444   \n",
       "TotalBsmtSF                 0.373005      0.264442    0.335453    0.367622   \n",
       "FullBath                    0.178035      0.432106    0.250130    0.273765   \n",
       "BsmtQual_Ex                 0.517412      0.135758    0.186271    0.332663   \n",
       "YearBuilt                   0.202903      0.556068    0.141634    0.308152   \n",
       "KitchenQual_Ex              1.000000      0.073911    0.212085    0.256185   \n",
       "YearRemodAdd                0.237630      0.530741    0.098646    0.169627   \n",
       "Foundation_PConc            0.214309      0.585942    0.095944    0.185993   \n",
       "KitchenQual_Ex              1.000000      0.073911    0.212085    0.256185   \n",
       "ExterQual_Gd                0.073911      1.000000    0.144463    0.132498   \n",
       "Fireplaces                  0.212085      0.144463    1.000000    0.240252   \n",
       "MasVnrArea                  0.256185      0.132498    0.240252    1.000000   \n",
       "ExterQual_Ex                0.561837     -0.140605    0.172063    0.341094   \n",
       "HeatingQC_Ex                0.205736      0.494108    0.129058    0.161948   \n",
       "BsmtFinType1_GLQ            0.208913      0.370330    0.107286    0.216958   \n",
       "GarageFinish_Fin            0.284127      0.270243    0.255235    0.194399   \n",
       "Neighborhood_NridgHt        0.408154      0.141634    0.149644    0.295483   \n",
       "\n",
       "                      ExterQual_Ex  HeatingQC_Ex  BsmtFinType1_GLQ  \\\n",
       "SalePrice                 0.452715      0.428411          0.426911   \n",
       "OverallQual               0.389704      0.453659          0.426587   \n",
       "GrLivArea                 0.274956      0.255706          0.189504   \n",
       "GarageCars                0.244920      0.333210          0.320555   \n",
       "TotalBsmtSF               0.362754      0.261704          0.302566   \n",
       "FullBath                  0.188392      0.348689          0.262041   \n",
       "BsmtQual_Ex               0.531410      0.270040          0.245814   \n",
       "YearBuilt                 0.184249      0.466602          0.477975   \n",
       "KitchenQual_Ex            0.561837      0.205736          0.208913   \n",
       "YearRemodAdd              0.198487      0.510122          0.399193   \n",
       "Foundation_PConc          0.169273      0.531828          0.449681   \n",
       "KitchenQual_Ex            0.561837      0.205736          0.208913   \n",
       "ExterQual_Gd             -0.140605      0.494108          0.370330   \n",
       "Fireplaces                0.172063      0.129058          0.107286   \n",
       "MasVnrArea                0.341094      0.161948          0.216958   \n",
       "ExterQual_Ex              1.000000      0.166129          0.170356   \n",
       "HeatingQC_Ex              0.166129      1.000000          0.325072   \n",
       "BsmtFinType1_GLQ          0.170356      0.325072          1.000000   \n",
       "GarageFinish_Fin          0.228429      0.270934          0.252564   \n",
       "Neighborhood_NridgHt      0.416927      0.219213          0.186657   \n",
       "\n",
       "                      GarageFinish_Fin  Neighborhood_NridgHt  \n",
       "SalePrice                     0.417049              0.402007  \n",
       "OverallQual                   0.396454              0.371976  \n",
       "GrLivArea                     0.285195              0.179400  \n",
       "GarageCars                    0.340599              0.284967  \n",
       "TotalBsmtSF                   0.251640              0.302697  \n",
       "FullBath                      0.285905              0.206536  \n",
       "BsmtQual_Ex                   0.318039              0.461599  \n",
       "YearBuilt                     0.392252              0.268269  \n",
       "KitchenQual_Ex                0.284127              0.408154  \n",
       "YearRemodAdd                  0.325010              0.244167  \n",
       "Foundation_PConc              0.351936              0.257115  \n",
       "KitchenQual_Ex                0.284127              0.408154  \n",
       "ExterQual_Gd                  0.270243              0.141634  \n",
       "Fireplaces                    0.255235              0.149644  \n",
       "MasVnrArea                    0.194399              0.295483  \n",
       "ExterQual_Ex                  0.228429              0.416927  \n",
       "HeatingQC_Ex                  0.270934              0.219213  \n",
       "BsmtFinType1_GLQ              0.252564              0.186657  \n",
       "GarageFinish_Fin              1.000000              0.130709  \n",
       "Neighborhood_NridgHt          0.130709              1.000000  "
      ]
     },
     "execution_count": 17,
     "metadata": {},
     "output_type": "execute_result"
    }
   ],
   "source": [
    "# How does the correlation matrix look \n",
    "df[['SalePrice', 'OverallQual', 'GrLivArea', 'GarageCars', 'TotalBsmtSF', 'FullBath', 'BsmtQual_Ex', 'YearBuilt', 'KitchenQual_Ex', 'YearRemodAdd', 'Foundation_PConc', 'KitchenQual_Ex', 'ExterQual_Gd', 'Fireplaces', 'MasVnrArea', 'ExterQual_Ex', 'HeatingQC_Ex', 'BsmtFinType1_GLQ', 'GarageFinish_Fin', 'Neighborhood_NridgHt']].corr(method='pearson')"
   ]
  },
  {
   "cell_type": "code",
   "execution_count": 18,
   "id": "9161a25b-ce16-4bd9-84ab-cd696ccf7062",
   "metadata": {},
   "outputs": [],
   "source": [
    "X_corr = df[['OverallQual', 'GrLivArea', 'GarageCars', 'TotalBsmtSF', 'FullBath', 'BsmtQual_Ex', 'YearBuilt', 'KitchenQual_Ex', 'YearRemodAdd', 'Foundation_PConc', 'KitchenQual_Ex', 'ExterQual_Gd', 'Fireplaces', 'MasVnrArea', 'ExterQual_Ex', 'HeatingQC_Ex', 'BsmtFinType1_GLQ', 'GarageFinish_Fin', 'Neighborhood_NridgHt']]"
   ]
  },
  {
   "cell_type": "markdown",
   "id": "67ea50fa-368d-4182-9713-924ac09d7979",
   "metadata": {},
   "source": [
    "## 3.2. Analysis of Features P-values"
   ]
  },
  {
   "cell_type": "code",
   "execution_count": 19,
   "id": "2e1b077f-7b4f-4015-94a5-2117784a8873",
   "metadata": {},
   "outputs": [
    {
     "name": "stdout",
     "output_type": "stream",
     "text": [
      "                            OLS Regression Results                            \n",
      "==============================================================================\n",
      "Dep. Variable:              SalePrice   R-squared:                       0.814\n",
      "Model:                            OLS   Adj. R-squared:                  0.811\n",
      "Method:                 Least Squares   F-statistic:                     340.0\n",
      "Date:                Thu, 14 Oct 2021   Prob (F-statistic):               0.00\n",
      "Time:                        19:51:21   Log-Likelihood:                -16867.\n",
      "No. Observations:                1422   AIC:                         3.377e+04\n",
      "Df Residuals:                    1403   BIC:                         3.387e+04\n",
      "Df Model:                          18                                         \n",
      "Covariance Type:            nonrobust                                         \n",
      "========================================================================================\n",
      "                           coef    std err          t      P>|t|      [0.025      0.975]\n",
      "----------------------------------------------------------------------------------------\n",
      "const                -7.941e+05   1.44e+05     -5.532      0.000   -1.08e+06   -5.12e+05\n",
      "OverallQual           1.161e+04   1239.595      9.362      0.000    9173.742     1.4e+04\n",
      "GrLivArea               46.5167      2.933     15.860      0.000      40.763      52.270\n",
      "GarageCars            1.235e+04   1700.716      7.262      0.000    9014.946    1.57e+04\n",
      "TotalBsmtSF             17.4853      2.930      5.968      0.000      11.737      23.233\n",
      "FullBath             -1449.6325   2518.267     -0.576      0.565   -6389.606    3490.341\n",
      "BsmtQual_Ex           3.015e+04   4470.260      6.744      0.000    2.14e+04    3.89e+04\n",
      "YearBuilt              160.1695     51.856      3.089      0.002      58.447     261.892\n",
      "KitchenQual_Ex        1.332e+04   2384.914      5.585      0.000    8641.054     1.8e+04\n",
      "YearRemodAdd           231.0894     63.718      3.627      0.000     106.096     356.083\n",
      "Foundation_PConc     -3193.5808   2849.880     -1.121      0.263   -8784.067    2396.905\n",
      "KitchenQual_Ex        1.332e+04   2384.914      5.585      0.000    8641.054     1.8e+04\n",
      "ExterQual_Gd          7035.5592   3047.329      2.309      0.021    1057.748     1.3e+04\n",
      "Fireplaces            1.049e+04   1681.024      6.241      0.000    7193.790    1.38e+04\n",
      "MasVnrArea              17.2012      6.027      2.854      0.004       5.378      29.024\n",
      "ExterQual_Ex          2.184e+04   7167.551      3.047      0.002    7776.406    3.59e+04\n",
      "HeatingQC_Ex          3874.7686   2340.189      1.656      0.098    -715.879    8465.416\n",
      "BsmtFinType1_GLQ      1.296e+04   2400.909      5.398      0.000    8250.970    1.77e+04\n",
      "GarageFinish_Fin      2692.7903   2483.828      1.084      0.278   -2179.627    7565.208\n",
      "Neighborhood_NridgHt  1.117e+04   4903.450      2.278      0.023    1553.357    2.08e+04\n",
      "==============================================================================\n",
      "Omnibus:                      732.226   Durbin-Watson:                   1.978\n",
      "Prob(Omnibus):                  0.000   Jarque-Bera (JB):            97228.099\n",
      "Skew:                          -1.369   Prob(JB):                         0.00\n",
      "Kurtosis:                      43.416   Cond. No.                     7.32e+19\n",
      "==============================================================================\n",
      "\n",
      "Notes:\n",
      "[1] Standard Errors assume that the covariance matrix of the errors is correctly specified.\n",
      "[2] The smallest eigenvalue is 3.04e-30. This might indicate that there are\n",
      "strong multicollinearity problems or that the design matrix is singular.\n"
     ]
    }
   ],
   "source": [
    "import pandas as pd\n",
    "import numpy as np\n",
    "from sklearn import datasets, linear_model\n",
    "from sklearn.linear_model import LinearRegression\n",
    "import statsmodels.api as sm\n",
    "from scipy import stats\n",
    "\n",
    "X = X_corr\n",
    "y = df['SalePrice']\n",
    "\n",
    "X2 = sm.add_constant(X)\n",
    "est = sm.OLS(y, X2)\n",
    "est2 = est.fit()\n",
    "print(est2.summary())"
   ]
  },
  {
   "cell_type": "markdown",
   "id": "781d9023-92fb-4dfb-9794-78fc4dc76ed1",
   "metadata": {},
   "source": [
    "## 3.3. Result - Selected Features"
   ]
  },
  {
   "cell_type": "code",
   "execution_count": 20,
   "id": "4c9bd61a-7aba-4a6d-8daa-0a9590cfd3d8",
   "metadata": {},
   "outputs": [],
   "source": [
    "# Selected Features = 'OverallQual', 'GrLivArea', 'GarageCars', 'TotalBsmtSF', 'BsmtQual_Ex', 'YearBuilt', 'KitchenQual_Ex', 'YearRemodAdd', 'KitchenQual_Ex', 'ExterQual_Gd', 'Fireplaces', 'MasVnrArea', 'ExterQual_Ex', 'BsmtFinType1_GLQ']]"
   ]
  },
  {
   "cell_type": "markdown",
   "id": "ed2e63d3-9333-4b6b-a3a3-292fbc927771",
   "metadata": {},
   "source": [
    "# 4. Visualise the data and look for outliers to remove"
   ]
  },
  {
   "cell_type": "markdown",
   "id": "33551423-aeb3-46df-aa8c-21c25ca9ee3f",
   "metadata": {},
   "source": [
    "## 4.1. Label"
   ]
  },
  {
   "cell_type": "code",
   "execution_count": 21,
   "id": "3236fbb3-f020-4b4e-af7c-e2bd26a93db1",
   "metadata": {},
   "outputs": [
    {
     "data": {
      "image/png": "[encoded data removed]",
      "text/plain": [
       "<Figure size 576x432 with 1 Axes>"
      ]
     },
     "metadata": {
      "needs_background": "light"
     },
     "output_type": "display_data"
    }
   ],
   "source": [
    "# Study of the distribution of the column we want to predict: SalePrice\n",
    "plt.figure(figsize=(8, 6))\n",
    "plt.hist(df.SalePrice,bins=50);\n",
    "plt.xlabel('Sales Prices')\n",
    "plt.ylabel('Frequency');"
   ]
  },
  {
   "cell_type": "code",
   "execution_count": 22,
   "id": "a272c384-678c-4092-a7ea-49129ccd1de3",
   "metadata": {},
   "outputs": [],
   "source": [
    "# we drop outliers\n",
    "df = df[df.SalePrice<600000]"
   ]
  },
  {
   "cell_type": "code",
   "execution_count": 23,
   "id": "681fefb8-d788-4b42-b733-753c265f614c",
   "metadata": {},
   "outputs": [
    {
     "data": {
      "text/plain": [
       "count      1418.000000\n",
       "mean     181475.057828\n",
       "std       74838.466681\n",
       "min       34900.000000\n",
       "25%      131500.000000\n",
       "50%      164995.000000\n",
       "75%      215000.000000\n",
       "max      582933.000000\n",
       "Name: SalePrice, dtype: float64"
      ]
     },
     "execution_count": 23,
     "metadata": {},
     "output_type": "execute_result"
    }
   ],
   "source": [
    "df['SalePrice'].describe()"
   ]
  },
  {
   "cell_type": "markdown",
   "id": "9a55312d-68a7-4c55-83b2-47fda55a83a5",
   "metadata": {},
   "source": [
    "## 4.2. Features"
   ]
  },
  {
   "cell_type": "code",
   "execution_count": 84,
   "id": "eb1875c7-1ea8-4736-8c78-da968c8b641b",
   "metadata": {},
   "outputs": [
    {
     "data": {
      "text/html": [
       "<div>\n",
       "<style scoped>\n",
       "    .dataframe tbody tr th:only-of-type {\n",
       "        vertical-align: middle;\n",
       "    }\n",
       "\n",
       "    .dataframe tbody tr th {\n",
       "        vertical-align: top;\n",
       "    }\n",
       "\n",
       "    .dataframe thead th {\n",
       "        text-align: right;\n",
       "    }\n",
       "</style>\n",
       "<table border=\"1\" class=\"dataframe\">\n",
       "  <thead>\n",
       "    <tr style=\"text-align: right;\">\n",
       "      <th></th>\n",
       "      <th>OverallQual</th>\n",
       "      <th>GrLivArea</th>\n",
       "      <th>GarageCars</th>\n",
       "      <th>TotalBsmtSF</th>\n",
       "      <th>BsmtQual_Ex</th>\n",
       "      <th>YearBuilt</th>\n",
       "      <th>KitchenQual_Ex</th>\n",
       "      <th>YearRemodAdd</th>\n",
       "      <th>ExterQual_Gd</th>\n",
       "      <th>Fireplaces</th>\n",
       "      <th>MasVnrArea</th>\n",
       "      <th>ExterQual_Ex</th>\n",
       "      <th>BsmtFinType1_GLQ</th>\n",
       "    </tr>\n",
       "  </thead>\n",
       "  <tbody>\n",
       "    <tr>\n",
       "      <th>count</th>\n",
       "      <td>1412.000000</td>\n",
       "      <td>1412.000000</td>\n",
       "      <td>1412.000000</td>\n",
       "      <td>1412.000000</td>\n",
       "      <td>1412.000000</td>\n",
       "      <td>1412.000000</td>\n",
       "      <td>1412.000000</td>\n",
       "      <td>1412.000000</td>\n",
       "      <td>1412.000000</td>\n",
       "      <td>1412.000000</td>\n",
       "      <td>1412.000000</td>\n",
       "      <td>1412.000000</td>\n",
       "      <td>1412.000000</td>\n",
       "    </tr>\n",
       "    <tr>\n",
       "      <th>mean</th>\n",
       "      <td>6.125354</td>\n",
       "      <td>1507.909348</td>\n",
       "      <td>1.769830</td>\n",
       "      <td>1072.691218</td>\n",
       "      <td>0.080737</td>\n",
       "      <td>1971.418555</td>\n",
       "      <td>0.066572</td>\n",
       "      <td>1985.191218</td>\n",
       "      <td>0.341360</td>\n",
       "      <td>0.615439</td>\n",
       "      <td>100.747875</td>\n",
       "      <td>0.033286</td>\n",
       "      <td>0.289660</td>\n",
       "    </tr>\n",
       "    <tr>\n",
       "      <th>std</th>\n",
       "      <td>1.336616</td>\n",
       "      <td>491.552430</td>\n",
       "      <td>0.741689</td>\n",
       "      <td>366.312285</td>\n",
       "      <td>0.272527</td>\n",
       "      <td>30.381436</td>\n",
       "      <td>0.249368</td>\n",
       "      <td>20.470136</td>\n",
       "      <td>0.474334</td>\n",
       "      <td>0.640132</td>\n",
       "      <td>169.667274</td>\n",
       "      <td>0.179446</td>\n",
       "      <td>0.453765</td>\n",
       "    </tr>\n",
       "    <tr>\n",
       "      <th>min</th>\n",
       "      <td>1.000000</td>\n",
       "      <td>438.000000</td>\n",
       "      <td>0.000000</td>\n",
       "      <td>105.000000</td>\n",
       "      <td>0.000000</td>\n",
       "      <td>1872.000000</td>\n",
       "      <td>0.000000</td>\n",
       "      <td>1950.000000</td>\n",
       "      <td>0.000000</td>\n",
       "      <td>0.000000</td>\n",
       "      <td>0.000000</td>\n",
       "      <td>0.000000</td>\n",
       "      <td>0.000000</td>\n",
       "    </tr>\n",
       "    <tr>\n",
       "      <th>25%</th>\n",
       "      <td>5.000000</td>\n",
       "      <td>1135.750000</td>\n",
       "      <td>1.000000</td>\n",
       "      <td>809.500000</td>\n",
       "      <td>0.000000</td>\n",
       "      <td>1954.000000</td>\n",
       "      <td>0.000000</td>\n",
       "      <td>1968.000000</td>\n",
       "      <td>0.000000</td>\n",
       "      <td>0.000000</td>\n",
       "      <td>0.000000</td>\n",
       "      <td>0.000000</td>\n",
       "      <td>0.000000</td>\n",
       "    </tr>\n",
       "    <tr>\n",
       "      <th>50%</th>\n",
       "      <td>6.000000</td>\n",
       "      <td>1465.000000</td>\n",
       "      <td>2.000000</td>\n",
       "      <td>1002.500000</td>\n",
       "      <td>0.000000</td>\n",
       "      <td>1973.000000</td>\n",
       "      <td>0.000000</td>\n",
       "      <td>1994.000000</td>\n",
       "      <td>0.000000</td>\n",
       "      <td>1.000000</td>\n",
       "      <td>0.000000</td>\n",
       "      <td>0.000000</td>\n",
       "      <td>0.000000</td>\n",
       "    </tr>\n",
       "    <tr>\n",
       "      <th>75%</th>\n",
       "      <td>7.000000</td>\n",
       "      <td>1776.000000</td>\n",
       "      <td>2.000000</td>\n",
       "      <td>1302.000000</td>\n",
       "      <td>0.000000</td>\n",
       "      <td>2001.000000</td>\n",
       "      <td>0.000000</td>\n",
       "      <td>2004.000000</td>\n",
       "      <td>1.000000</td>\n",
       "      <td>1.000000</td>\n",
       "      <td>165.250000</td>\n",
       "      <td>0.000000</td>\n",
       "      <td>1.000000</td>\n",
       "    </tr>\n",
       "    <tr>\n",
       "      <th>max</th>\n",
       "      <td>10.000000</td>\n",
       "      <td>3608.000000</td>\n",
       "      <td>4.000000</td>\n",
       "      <td>2633.000000</td>\n",
       "      <td>1.000000</td>\n",
       "      <td>2010.000000</td>\n",
       "      <td>1.000000</td>\n",
       "      <td>2010.000000</td>\n",
       "      <td>1.000000</td>\n",
       "      <td>3.000000</td>\n",
       "      <td>1129.000000</td>\n",
       "      <td>1.000000</td>\n",
       "      <td>1.000000</td>\n",
       "    </tr>\n",
       "  </tbody>\n",
       "</table>\n",
       "</div>"
      ],
      "text/plain": [
       "       OverallQual    GrLivArea   GarageCars  TotalBsmtSF  BsmtQual_Ex  \\\n",
       "count  1412.000000  1412.000000  1412.000000  1412.000000  1412.000000   \n",
       "mean      6.125354  1507.909348     1.769830  1072.691218     0.080737   \n",
       "std       1.336616   491.552430     0.741689   366.312285     0.272527   \n",
       "min       1.000000   438.000000     0.000000   105.000000     0.000000   \n",
       "25%       5.000000  1135.750000     1.000000   809.500000     0.000000   \n",
       "50%       6.000000  1465.000000     2.000000  1002.500000     0.000000   \n",
       "75%       7.000000  1776.000000     2.000000  1302.000000     0.000000   \n",
       "max      10.000000  3608.000000     4.000000  2633.000000     1.000000   \n",
       "\n",
       "         YearBuilt  KitchenQual_Ex  YearRemodAdd  ExterQual_Gd   Fireplaces  \\\n",
       "count  1412.000000     1412.000000   1412.000000   1412.000000  1412.000000   \n",
       "mean   1971.418555        0.066572   1985.191218      0.341360     0.615439   \n",
       "std      30.381436        0.249368     20.470136      0.474334     0.640132   \n",
       "min    1872.000000        0.000000   1950.000000      0.000000     0.000000   \n",
       "25%    1954.000000        0.000000   1968.000000      0.000000     0.000000   \n",
       "50%    1973.000000        0.000000   1994.000000      0.000000     1.000000   \n",
       "75%    2001.000000        0.000000   2004.000000      1.000000     1.000000   \n",
       "max    2010.000000        1.000000   2010.000000      1.000000     3.000000   \n",
       "\n",
       "        MasVnrArea  ExterQual_Ex  BsmtFinType1_GLQ  \n",
       "count  1412.000000   1412.000000       1412.000000  \n",
       "mean    100.747875      0.033286          0.289660  \n",
       "std     169.667274      0.179446          0.453765  \n",
       "min       0.000000      0.000000          0.000000  \n",
       "25%       0.000000      0.000000          0.000000  \n",
       "50%       0.000000      0.000000          0.000000  \n",
       "75%     165.250000      0.000000          1.000000  \n",
       "max    1129.000000      1.000000          1.000000  "
      ]
     },
     "execution_count": 84,
     "metadata": {},
     "output_type": "execute_result"
    }
   ],
   "source": [
    "df[['OverallQual', 'GrLivArea', 'GarageCars', 'TotalBsmtSF', 'BsmtQual_Ex', 'YearBuilt', 'KitchenQual_Ex', 'YearRemodAdd', 'ExterQual_Gd', 'Fireplaces', 'MasVnrArea', 'ExterQual_Ex', 'BsmtFinType1_GLQ']].describe()"
   ]
  },
  {
   "cell_type": "code",
   "execution_count": 82,
   "id": "2d1b4079-dd6a-431d-9a48-5f5e523f25b0",
   "metadata": {},
   "outputs": [
    {
     "data": {
      "image/png": "[encoded data removed]",
      "text/plain": [
       "<Figure size 1584x1728 with 16 Axes>"
      ]
     },
     "metadata": {
      "needs_background": "light"
     },
     "output_type": "display_data"
    }
   ],
   "source": [
    "# Histograms of Selected Features\n",
    "df[['OverallQual', 'GrLivArea', 'GarageCars', 'TotalBsmtSF', 'BsmtQual_Ex', 'YearBuilt', 'KitchenQual_Ex', 'YearRemodAdd', 'ExterQual_Gd', 'Fireplaces', 'MasVnrArea', 'ExterQual_Ex', 'BsmtFinType1_GLQ']].hist(figsize=(22, 24));"
   ]
  },
  {
   "cell_type": "code",
   "execution_count": 83,
   "id": "9a95f9c7-4e4e-419d-8ee1-1e92549b1afa",
   "metadata": {},
   "outputs": [],
   "source": [
    "def plotFeatureName(featureName):\n",
    "    plt.figure(figsize=(8,6))\n",
    "    plt.scatter(df[featureName], df['SalePrice'])  \n",
    "    plt.title(featureName)\n",
    "    plt.xlabel(featureName)\n",
    "    plt.ylabel('price')"
   ]
  },
  {
   "cell_type": "code",
   "execution_count": 27,
   "id": "bf67c960-9cad-4dec-905e-c2a10829ada5",
   "metadata": {},
   "outputs": [
    {
     "data": {
      "image/png": "[encoded data removed]",
      "text/plain": [
       "<Figure size 576x432 with 1 Axes>"
      ]
     },
     "metadata": {
      "needs_background": "light"
     },
     "output_type": "display_data"
    }
   ],
   "source": [
    "plotFeatureName('OverallQual')"
   ]
  },
  {
   "cell_type": "code",
   "execution_count": 28,
   "id": "5d738110-6ad9-4486-b756-a6d78e17adf9",
   "metadata": {},
   "outputs": [
    {
     "data": {
      "image/png": "[encoded data removed]",
      "text/plain": [
       "<Figure size 576x432 with 1 Axes>"
      ]
     },
     "metadata": {
      "needs_background": "light"
     },
     "output_type": "display_data"
    }
   ],
   "source": [
    "plotFeatureName('GrLivArea')"
   ]
  },
  {
   "cell_type": "code",
   "execution_count": 29,
   "id": "3ed7f1e5-8068-4882-9ae3-aaa92654fc7f",
   "metadata": {},
   "outputs": [],
   "source": [
    "#Remove Outliers\n",
    "df = df[df['GrLivArea']<4000]"
   ]
  },
  {
   "cell_type": "code",
   "execution_count": 30,
   "id": "708ed9b9-0bbe-4a6d-ab50-7f336f26e095",
   "metadata": {},
   "outputs": [
    {
     "data": {
      "image/png": "[encoded data removed]",
      "text/plain": [
       "<Figure size 576x432 with 1 Axes>"
      ]
     },
     "metadata": {
      "needs_background": "light"
     },
     "output_type": "display_data"
    }
   ],
   "source": [
    "plotFeatureName('GarageCars')"
   ]
  },
  {
   "cell_type": "code",
   "execution_count": 31,
   "id": "c0059ee9-2beb-4548-bf35-6ff4a3af1e9f",
   "metadata": {},
   "outputs": [
    {
     "data": {
      "image/png": "[encoded data removed]",
      "text/plain": [
       "<Figure size 576x432 with 1 Axes>"
      ]
     },
     "metadata": {
      "needs_background": "light"
     },
     "output_type": "display_data"
    }
   ],
   "source": [
    "plotFeatureName('TotalBsmtSF')"
   ]
  },
  {
   "cell_type": "code",
   "execution_count": 32,
   "id": "58b49adb-ec6e-4d2d-8215-fbd2e54dc4af",
   "metadata": {},
   "outputs": [],
   "source": [
    "#Remove Outliers\n",
    "df = df[df['TotalBsmtSF']<3000]"
   ]
  },
  {
   "cell_type": "code",
   "execution_count": 33,
   "id": "30913cb9-b243-4507-9c86-e4b6ca914b84",
   "metadata": {},
   "outputs": [
    {
     "data": {
      "image/png": "[encoded data removed]",
      "text/plain": [
       "<Figure size 576x432 with 1 Axes>"
      ]
     },
     "metadata": {
      "needs_background": "light"
     },
     "output_type": "display_data"
    }
   ],
   "source": [
    "plotFeatureName('MasVnrArea')"
   ]
  },
  {
   "cell_type": "code",
   "execution_count": 34,
   "id": "97b6eb59-4aad-491e-a19d-c20a7b632c9c",
   "metadata": {},
   "outputs": [],
   "source": [
    "#Remove Outliers\n",
    "df = df[df['MasVnrArea']<1400]"
   ]
  },
  {
   "cell_type": "code",
   "execution_count": 35,
   "id": "1041686a-0156-4fbb-abe2-f0c734d31856",
   "metadata": {},
   "outputs": [
    {
     "data": {
      "image/png": "[encoded data removed]",
      "text/plain": [
       "<Figure size 576x432 with 1 Axes>"
      ]
     },
     "metadata": {
      "needs_background": "light"
     },
     "output_type": "display_data"
    }
   ],
   "source": [
    "plotFeatureName('YearRemodAdd')"
   ]
  },
  {
   "cell_type": "code",
   "execution_count": 36,
   "id": "25119bbb-f2ff-4717-a949-be1139fca1ff",
   "metadata": {},
   "outputs": [
    {
     "data": {
      "image/png": "[encoded data removed]",
      "text/plain": [
       "<Figure size 576x432 with 1 Axes>"
      ]
     },
     "metadata": {
      "needs_background": "light"
     },
     "output_type": "display_data"
    }
   ],
   "source": [
    "plotFeatureName('YearBuilt')"
   ]
  },
  {
   "cell_type": "code",
   "execution_count": 37,
   "id": "bbd1c83c-9eac-40b1-aca5-f5b32c0047c7",
   "metadata": {},
   "outputs": [
    {
     "data": {
      "text/plain": [
       "<seaborn.axisgrid.FacetGrid at 0x1e4113b4df0>"
      ]
     },
     "execution_count": 37,
     "metadata": {},
     "output_type": "execute_result"
    },
    {
     "data": {
      "image/png": "[encoded data removed]",
      "text/plain": [
       "<Figure size 360x360 with 1 Axes>"
      ]
     },
     "metadata": {
      "needs_background": "light"
     },
     "output_type": "display_data"
    }
   ],
   "source": [
    "sns.catplot(x=\"BsmtQual_Ex\", y=\"SalePrice\", jitter=False, data=df)"
   ]
  },
  {
   "cell_type": "code",
   "execution_count": 38,
   "id": "847fe87f-1540-478c-a135-45ff23b335ab",
   "metadata": {},
   "outputs": [
    {
     "data": {
      "text/plain": [
       "<seaborn.axisgrid.FacetGrid at 0x1e410de5ca0>"
      ]
     },
     "execution_count": 38,
     "metadata": {},
     "output_type": "execute_result"
    },
    {
     "data": {
      "image/png": "[encoded data removed]",
      "text/plain": [
       "<Figure size 360x360 with 1 Axes>"
      ]
     },
     "metadata": {
      "needs_background": "light"
     },
     "output_type": "display_data"
    }
   ],
   "source": [
    "sns.catplot(x=\"KitchenQual_Ex\", y=\"SalePrice\", jitter=False, data=df)"
   ]
  },
  {
   "cell_type": "code",
   "execution_count": 39,
   "id": "1cfc135a-09ae-49f2-ab4d-0f4d673610a8",
   "metadata": {},
   "outputs": [
    {
     "data": {
      "text/plain": [
       "<seaborn.axisgrid.FacetGrid at 0x1e410e08100>"
      ]
     },
     "execution_count": 39,
     "metadata": {},
     "output_type": "execute_result"
    },
    {
     "data": {
      "image/png": "[encoded data removed]",
      "text/plain": [
       "<Figure size 360x360 with 1 Axes>"
      ]
     },
     "metadata": {
      "needs_background": "light"
     },
     "output_type": "display_data"
    }
   ],
   "source": [
    "sns.catplot(x=\"Fireplaces\", y=\"SalePrice\", jitter=False, data=df)"
   ]
  },
  {
   "cell_type": "code",
   "execution_count": 40,
   "id": "e319db59-0907-4e02-ba07-f1dbed1af884",
   "metadata": {},
   "outputs": [
    {
     "data": {
      "text/plain": [
       "<seaborn.axisgrid.FacetGrid at 0x1e4112bb6a0>"
      ]
     },
     "execution_count": 40,
     "metadata": {},
     "output_type": "execute_result"
    },
    {
     "data": {
      "image/png": "[encoded data removed]",
      "text/plain": [
       "<Figure size 360x360 with 1 Axes>"
      ]
     },
     "metadata": {
      "needs_background": "light"
     },
     "output_type": "display_data"
    }
   ],
   "source": [
    "sns.catplot(x=\"ExterQual_Gd\", y=\"SalePrice\", jitter=False, data=df)"
   ]
  },
  {
   "cell_type": "code",
   "execution_count": 41,
   "id": "c110b17c-ab24-4179-92b3-3cd983be87c5",
   "metadata": {},
   "outputs": [
    {
     "data": {
      "text/plain": [
       "<seaborn.axisgrid.FacetGrid at 0x1e410c2b3a0>"
      ]
     },
     "execution_count": 41,
     "metadata": {},
     "output_type": "execute_result"
    },
    {
     "data": {
      "image/png": "[encoded data removed]",
      "text/plain": [
       "<Figure size 360x360 with 1 Axes>"
      ]
     },
     "metadata": {
      "needs_background": "light"
     },
     "output_type": "display_data"
    }
   ],
   "source": [
    "sns.catplot(x=\"ExterQual_Ex\", y=\"SalePrice\", jitter=False, data=df)"
   ]
  },
  {
   "cell_type": "code",
   "execution_count": 42,
   "id": "42af7b8f-da66-42d9-abc4-35270d2e65d7",
   "metadata": {},
   "outputs": [
    {
     "data": {
      "text/plain": [
       "<seaborn.axisgrid.FacetGrid at 0x1e411296460>"
      ]
     },
     "execution_count": 42,
     "metadata": {},
     "output_type": "execute_result"
    },
    {
     "data": {
      "image/png": "[encoded data removed]",
      "text/plain": [
       "<Figure size 360x360 with 1 Axes>"
      ]
     },
     "metadata": {
      "needs_background": "light"
     },
     "output_type": "display_data"
    }
   ],
   "source": [
    "sns.catplot(x=\"BsmtFinType1_GLQ\", y=\"SalePrice\", jitter=False, data=df)"
   ]
  },
  {
   "cell_type": "markdown",
   "id": "138f879f-7b23-407f-b8b9-ec76ae1cc0e9",
   "metadata": {},
   "source": [
    "# 5. Linear Regression Model"
   ]
  },
  {
   "cell_type": "code",
   "execution_count": 43,
   "id": "e9bf67c8-3f23-4e0b-a428-6d4d85541ff6",
   "metadata": {},
   "outputs": [],
   "source": [
    "X = df[['OverallQual', 'GrLivArea', 'GarageCars', 'TotalBsmtSF', 'FullBath', 'BsmtQual_Ex', 'YearBuilt', 'KitchenQual_Ex', 'YearRemodAdd', 'ExterQual_Gd', 'Fireplaces', 'MasVnrArea', 'ExterQual_Ex', 'BsmtFinType1_GLQ']]"
   ]
  },
  {
   "cell_type": "code",
   "execution_count": 44,
   "id": "f9cfba55-9454-49aa-b680-ff578021c49a",
   "metadata": {},
   "outputs": [],
   "source": [
    "y = df['SalePrice']"
   ]
  },
  {
   "cell_type": "code",
   "execution_count": 45,
   "id": "f862787d-8825-4686-8fc4-43a33624b229",
   "metadata": {},
   "outputs": [
    {
     "name": "stdout",
     "output_type": "stream",
     "text": [
      "(946, 14)\n",
      "(466, 14)\n",
      "(946,)\n",
      "(466,)\n"
     ]
    }
   ],
   "source": [
    "from sklearn.model_selection import train_test_split\n",
    "X_train, X_test, y_train, y_test  = train_test_split(X, y, test_size=0.33, random_state = 999)\n",
    "\n",
    "print(X_train.shape)\n",
    "print(X_test.shape)\n",
    "\n",
    "print(y_train.shape)\n",
    "print(y_test.shape)"
   ]
  },
  {
   "cell_type": "code",
   "execution_count": 46,
   "id": "ad24fb2a-7fd4-4129-90e1-5f1109b6353d",
   "metadata": {},
   "outputs": [],
   "source": [
    "# Load linear regression model\n",
    "from sklearn.linear_model import LinearRegression\n",
    "lm = LinearRegression()"
   ]
  },
  {
   "cell_type": "code",
   "execution_count": 47,
   "id": "33929e6e-0f6d-4b07-b166-5a183cf93b01",
   "metadata": {},
   "outputs": [
    {
     "data": {
      "text/plain": [
       "LinearRegression()"
      ]
     },
     "execution_count": 47,
     "metadata": {},
     "output_type": "execute_result"
    }
   ],
   "source": [
    "# Fit to the training data\n",
    "lm.fit(X_train, y_train)"
   ]
  },
  {
   "cell_type": "code",
   "execution_count": 81,
   "id": "e86f424a-76b5-4b7a-a440-a382f819c0cb",
   "metadata": {},
   "outputs": [
    {
     "name": "stdout",
     "output_type": "stream",
     "text": [
      "OverallQual          9976.611766\n",
      "GrLivArea              56.310424\n",
      "GarageCars           8189.927409\n",
      "TotalBsmtSF            31.699071\n",
      "FullBath           -10188.431245\n",
      "BsmtQual_Ex         19652.485859\n",
      "YearBuilt             236.341185\n",
      "KitchenQual_Ex      25945.044452\n",
      "YearRemodAdd          285.082482\n",
      "ExterQual_Gd         8782.014196\n",
      "Fireplaces           9292.625150\n",
      "MasVnrArea             10.298001\n",
      "ExterQual_Ex        47588.549480\n",
      "BsmtFinType1_GLQ    12821.253914\n",
      "dtype: float64\n"
     ]
    }
   ],
   "source": [
    "print(pd.Series(lm.coef_, index = X.columns))"
   ]
  },
  {
   "cell_type": "code",
   "execution_count": 49,
   "id": "db985a13-671b-4389-a491-5838de254665",
   "metadata": {},
   "outputs": [
    {
     "data": {
      "text/plain": [
       "-1048521.9669119274"
      ]
     },
     "execution_count": 49,
     "metadata": {},
     "output_type": "execute_result"
    }
   ],
   "source": [
    "lm.intercept_"
   ]
  },
  {
   "cell_type": "code",
   "execution_count": 50,
   "id": "a7bcf263-7923-4a55-9799-cbf32b12d9b5",
   "metadata": {},
   "outputs": [],
   "source": [
    "y_pred = lm.predict(X_test)"
   ]
  },
  {
   "cell_type": "code",
   "execution_count": 51,
   "id": "45e04722-07be-4ed7-8d6e-1458df4e9ead",
   "metadata": {},
   "outputs": [
    {
     "data": {
      "text/plain": [
       "[<matplotlib.lines.Line2D at 0x1e411f46a00>]"
      ]
     },
     "execution_count": 51,
     "metadata": {},
     "output_type": "execute_result"
    },
    {
     "data": {
      "image/png": "[encoded data removed]",
      "text/plain": [
       "<Figure size 432x432 with 1 Axes>"
      ]
     },
     "metadata": {
      "needs_background": "light"
     },
     "output_type": "display_data"
    }
   ],
   "source": [
    "plt.figure(figsize=(6,6))\n",
    "plt.scatter(y_test, y_pred)\n",
    "plt.xlabel(\"True Prices: $Y_i$\")\n",
    "plt.ylabel(\"Predicted prices: $\\hat{Y}_i$\")\n",
    "plt.plot([0, 50], [0, 50], '--k')"
   ]
  },
  {
   "cell_type": "code",
   "execution_count": 52,
   "id": "1b2c92ad-35b6-4c52-9565-468b805a732a",
   "metadata": {},
   "outputs": [],
   "source": [
    "from sklearn.metrics import mean_squared_error\n",
    "from sklearn.metrics import r2_score"
   ]
  },
  {
   "cell_type": "code",
   "execution_count": 53,
   "id": "9f6532b0-7c2f-440f-9beb-d5edfdc3c052",
   "metadata": {},
   "outputs": [
    {
     "name": "stdout",
     "output_type": "stream",
     "text": [
      "Mean squared error: 26723.75\n",
      "R squared: 0.87\n"
     ]
    }
   ],
   "source": [
    "# How well did it do on the training set\n",
    "y_pred = lm.predict(X_train)\n",
    "\n",
    "print(\"Mean squared error: %.2f\" % np.sqrt(mean_squared_error(y_train, y_pred)))\n",
    "print('R squared: %.2f' % r2_score(y_train, y_pred))"
   ]
  },
  {
   "cell_type": "code",
   "execution_count": 54,
   "id": "98a71063-aaf5-4f3b-abc8-9366d5114b3f",
   "metadata": {},
   "outputs": [
    {
     "name": "stdout",
     "output_type": "stream",
     "text": [
      "Mean squared error: 29080.07\n",
      "R squared: 0.85\n"
     ]
    }
   ],
   "source": [
    "# See how well it does on the test set\n",
    "y_pred = lm.predict(X_test)\n",
    "\n",
    "print(\"Mean squared error: %.2f\" % np.sqrt(mean_squared_error(y_test, y_pred)))\n",
    "print('R squared: %.2f' % r2_score(y_test, y_pred))"
   ]
  },
  {
   "cell_type": "markdown",
   "id": "c9aae264-3312-457a-af1b-4e80c9d1ac58",
   "metadata": {},
   "source": [
    "# 6. Ridge & Lasso Regression"
   ]
  },
  {
   "cell_type": "markdown",
   "id": "70499dd5-86d3-450f-b6b0-930460633181",
   "metadata": {},
   "source": [
    "## 6.1. Ridge Regression"
   ]
  },
  {
   "cell_type": "code",
   "execution_count": 55,
   "id": "369e1959-904f-410b-8803-5b86390090f1",
   "metadata": {},
   "outputs": [],
   "source": [
    "from sklearn.linear_model import Ridge"
   ]
  },
  {
   "cell_type": "code",
   "execution_count": 80,
   "id": "bc804700-ec5b-4d0d-b9c1-84c95e7e720b",
   "metadata": {},
   "outputs": [
    {
     "name": "stdout",
     "output_type": "stream",
     "text": [
      "OverallQual         10041.629150\n",
      "GrLivArea              56.311516\n",
      "GarageCars           8175.411851\n",
      "TotalBsmtSF            31.814984\n",
      "FullBath           -10141.799726\n",
      "BsmtQual_Ex         19714.145082\n",
      "YearBuilt             236.798677\n",
      "KitchenQual_Ex      25951.016447\n",
      "YearRemodAdd          286.777829\n",
      "ExterQual_Gd         8499.764127\n",
      "Fireplaces           9267.457699\n",
      "MasVnrArea             10.509555\n",
      "ExterQual_Ex        46299.818405\n",
      "BsmtFinType1_GLQ    12793.838723\n",
      "dtype: float64\n"
     ]
    }
   ],
   "source": [
    "print(pd.Series(ridge_reg.fit(X_train, y_train).coef_, index = X.columns))"
   ]
  },
  {
   "cell_type": "code",
   "execution_count": 56,
   "id": "21566a14-800d-4cef-968f-b6c2fa2e4c6a",
   "metadata": {},
   "outputs": [
    {
     "name": "stdout",
     "output_type": "stream",
     "text": [
      "Mean squared error - Training set: 26724.35\n",
      "R squared - Training set: 0.87\n"
     ]
    }
   ],
   "source": [
    "# How well did it do on the training set\n",
    "ridge_reg = Ridge(alpha=0.5)\n",
    "ridge_reg.fit(X_train, y_train)\n",
    "pred_train_ridge_reg= ridge_reg.predict(X_train)\n",
    "print(\"Mean squared error - Training set: %.2f\" % np.sqrt(mean_squared_error(y_train, pred_train_ridge_reg)))\n",
    "print('R squared - Training set: %.2f' % r2_score(y_train, pred_train_ridge_reg))"
   ]
  },
  {
   "cell_type": "code",
   "execution_count": 57,
   "id": "195cbd7a-5555-460b-ac6c-60a193976695",
   "metadata": {},
   "outputs": [
    {
     "name": "stdout",
     "output_type": "stream",
     "text": [
      "Mean squared error - Test set:: 29048.58\n",
      "R squared - Test set: 0.85\n"
     ]
    }
   ],
   "source": [
    "# How well it does on the test set\n",
    "pred_test_ridge_reg= ridge_reg.predict(X_test)\n",
    "print(\"Mean squared error - Test set:: %.2f\" % np.sqrt(mean_squared_error(y_test, pred_test_ridge_reg)))\n",
    "print('R squared - Test set: %.2f' % r2_score(y_test, pred_test_ridge_reg))"
   ]
  },
  {
   "cell_type": "markdown",
   "id": "d9892036-c8f4-41fb-9ee1-825ba7d5202e",
   "metadata": {},
   "source": [
    "## 6.2. Lasso Regression"
   ]
  },
  {
   "cell_type": "code",
   "execution_count": 63,
   "id": "4a288021-dcae-4ce8-bf07-11bc171e8595",
   "metadata": {},
   "outputs": [],
   "source": [
    "from sklearn.linear_model import Lasso"
   ]
  },
  {
   "cell_type": "code",
   "execution_count": 79,
   "id": "34ab9a4c-3399-4aec-a9f5-341875142121",
   "metadata": {},
   "outputs": [
    {
     "name": "stdout",
     "output_type": "stream",
     "text": [
      "OverallQual          9976.648130\n",
      "GrLivArea              56.310427\n",
      "GarageCars           8189.899964\n",
      "TotalBsmtSF            31.699155\n",
      "FullBath           -10188.365334\n",
      "BsmtQual_Ex         19652.427683\n",
      "YearBuilt             236.341903\n",
      "KitchenQual_Ex      25944.982417\n",
      "YearRemodAdd          285.083577\n",
      "ExterQual_Gd         8781.828518\n",
      "Fireplaces           9292.592438\n",
      "MasVnrArea             10.298110\n",
      "ExterQual_Ex        47588.041081\n",
      "BsmtFinType1_GLQ    12821.205969\n",
      "dtype: float64\n"
     ]
    }
   ],
   "source": [
    "print(pd.Series(lasso_reg.fit(X_train, y_train).coef_, index = X.columns))"
   ]
  },
  {
   "cell_type": "code",
   "execution_count": 64,
   "id": "5479c1cd-4741-4ba7-aa0a-c81f8ee75f44",
   "metadata": {},
   "outputs": [
    {
     "name": "stdout",
     "output_type": "stream",
     "text": [
      "Mean squared error - Training set: 26723.75\n",
      "R squared - Training set: 0.87\n"
     ]
    }
   ],
   "source": [
    "# How well did it do on the training set\n",
    "lasso_reg = Lasso(alpha=0.01)\n",
    "lasso_reg.fit(X_train, y_train)\n",
    "pred_train_lasso= lasso_reg.predict(X_train)\n",
    "print(\"Mean squared error - Training set: %.2f\" % np.sqrt(mean_squared_error(y_train, pred_train_lasso)))\n",
    "print('R squared - Training set: %.2f' % r2_score(y_train, pred_train_lasso))"
   ]
  },
  {
   "cell_type": "code",
   "execution_count": 78,
   "id": "232f4f1d-17fd-4313-a588-c53fe7739076",
   "metadata": {},
   "outputs": [
    {
     "name": "stdout",
     "output_type": "stream",
     "text": [
      "Mean squared error - Test set:: 29080.05\n",
      "R squared - Test set: 0.85\n"
     ]
    }
   ],
   "source": [
    "# How well it does on the test set\n",
    "pred_test_lasso= lasso_reg.predict(X_test)\n",
    "print(\"Mean squared error - Test set:: %.2f\" % np.sqrt(mean_squared_error(y_test, pred_test_lasso)))\n",
    "print('R squared - Test set: %.2f' % r2_score(y_test, pred_test_lasso))"
   ]
  }
 ],
 "metadata": {
  "kernelspec": {
   "display_name": "Python 3",
   "language": "python",
   "name": "python3"
  },
  "language_info": {
   "codemirror_mode": {
    "name": "ipython",
    "version": 3
   },
   "file_extension": ".py",
   "mimetype": "text/x-python",
   "name": "python",
   "nbconvert_exporter": "python",
   "pygments_lexer": "ipython3",
   "version": "3.8.8"
  }
 },
 "nbformat": 4,
 "nbformat_minor": 5
}
