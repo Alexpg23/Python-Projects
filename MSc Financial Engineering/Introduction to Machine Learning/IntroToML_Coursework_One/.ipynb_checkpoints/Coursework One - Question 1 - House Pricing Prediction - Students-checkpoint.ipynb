{
 "cells": [
  {
   "cell_type": "markdown",
   "metadata": {},
   "source": [
    "# Coursework One - Q1 - House Price Prediction - Student"
   ]
  },
  {
   "cell_type": "markdown",
   "metadata": {},
   "source": [
    "Please List Members of Team and Student IDs below:\n",
    "\n",
    "Member 1:\n",
    "\n",
    "Member 2:\n",
    "\n",
    "Member 3:\n",
    "\n",
    "Which member of the team is responsible for this notebook:"
   ]
  },
  {
   "cell_type": "markdown",
   "metadata": {},
   "source": [
    "## Instructions"
   ]
  },
  {
   "cell_type": "markdown",
   "metadata": {},
   "source": [
    "This is a dataset containing house prices and associated features. \n",
    "\n",
    "1. Load the file housing/train.csv. This is the only data you will use.\n",
    "2. Visualise and analyse the data. \n",
    "3. Your aim is to predict the SalesPrice column so study its distribution.\n",
    "4. Examine which features are most correlated with the sales price.\n",
    "5. Look for missing data and other issues.\n",
    "6. Visualise the data and look for outliers to remove.\n",
    "7. Drop any columns that do not seem helpful for predicting.\n",
    "8. Split the data into a 33% test and 66% training set.\n",
    "9. Use a linear regression model and compare its training and test performance.\n",
    "10. Use Scipy or Statamodels to get the p-values and to see which features are important.\n",
    "11. Repeat the fitting but use a Lasso and Ridge Regression. Discuss your results.\n"
   ]
  }
 ],
 "metadata": {
  "kernelspec": {
   "display_name": "Python 3",
   "language": "python",
   "name": "python3"
  },
  "language_info": {
   "codemirror_mode": {
    "name": "ipython",
    "version": 3
   },
   "file_extension": ".py",
   "mimetype": "text/x-python",
   "name": "python",
   "nbconvert_exporter": "python",
   "pygments_lexer": "ipython3",
   "version": "3.8.8"
  }
 },
 "nbformat": 4,
 "nbformat_minor": 2
}
