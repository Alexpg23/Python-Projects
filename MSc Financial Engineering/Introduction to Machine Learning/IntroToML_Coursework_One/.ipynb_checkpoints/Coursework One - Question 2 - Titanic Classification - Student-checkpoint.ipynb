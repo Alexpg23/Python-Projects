{
 "cells": [
  {
   "cell_type": "markdown",
   "metadata": {},
   "source": [
    "# Coursework One - Q2 - Titanic Prediction - Student"
   ]
  },
  {
   "cell_type": "markdown",
   "metadata": {},
   "source": [
    "Please List Members of Team and Student IDs below:\n",
    "\n",
    "Member 1:\n",
    "\n",
    "Member 2:\n",
    "\n",
    "Member 3:\n",
    "\n",
    "Which member of the team is responsible for this notebook:"
   ]
  },
  {
   "cell_type": "markdown",
   "metadata": {},
   "source": [
    "## Instructions"
   ]
  },
  {
   "cell_type": "markdown",
   "metadata": {},
   "source": [
    "This is the Titanic data set you already saw. You are going to use this as a first classification task.\n",
    "\n",
    "1. Load the file titanic/train.csv. This is the only data you will use.\n",
    "\n",
    "2. Visualise and analyse the data. \n",
    "\n",
    "3. Your aim is to predict the survived column.\n",
    "\n",
    "4. Handle categorical and other data.\n",
    "\n",
    "5. Look for missing data and other issues.\n",
    "\n",
    "6. Visualise the data and look for outliers to remove.\n",
    "\n",
    "7. Split the data into a 33% test and 66% training set.\n",
    "\n",
    "8. Use a logistic regression, KNN, decision tree and SVM model to see which performs best\n",
    "\n",
    "9. By removing one feature at a time and seeing its effect, find the most important features.\n",
    "\n",
    "10. Briefly discuss your results."
   ]
  },
  {
   "cell_type": "code",
   "execution_count": null,
   "metadata": {},
   "outputs": [],
   "source": []
  }
 ],
 "metadata": {
  "kernelspec": {
   "display_name": "Python 3",
   "language": "python",
   "name": "python3"
  },
  "language_info": {
   "codemirror_mode": {
    "name": "ipython",
    "version": 3
   },
   "file_extension": ".py",
   "mimetype": "text/x-python",
   "name": "python",
   "nbconvert_exporter": "python",
   "pygments_lexer": "ipython3",
   "version": "3.8.8"
  }
 },
 "nbformat": 4,
 "nbformat_minor": 2
}
