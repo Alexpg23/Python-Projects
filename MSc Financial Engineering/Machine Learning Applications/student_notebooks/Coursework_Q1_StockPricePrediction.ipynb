{
 "cells": [
  {
   "cell_type": "markdown",
   "metadata": {
    "id": "6fpijBtX0Jxv"
   },
   "source": [
    "# Trading Analysis: Microsoft Stock Return Prediction"
   ]
  },
  {
   "cell_type": "markdown",
   "metadata": {
    "id": "EdYnVWBN0Jxz"
   },
   "source": [
    "<a id='0'></a>\n",
    "# 1. Problem Definition"
   ]
  },
  {
   "cell_type": "markdown",
   "metadata": {
    "id": "NJxJDmkW0Jxz"
   },
   "source": [
    "In the supervised regression framework used for this case study, weekly return of the\n",
    "Microsoft stock is the predicted variable. We need to understand what affects Microsoft stock price and hence incorporate as much information into the model. \n",
    "\n",
    "For this case study, other than the historical data of Microsoft, the independent variables used are the following potentially correlated assets:\n",
    "* Stocks: IBM (IBM) and Alphabet (GOOGL)\n",
    "* Currency: USD/JPY and GBP/USD\n",
    "* Indices: S&P 500, Dow Jones and VIX\n",
    "\n",
    "These datasets are extracted from Yahoo Finance and the FRED database at the St Louis Fed. In addition to predicting the stock price, we will also go through all the steps of creating a stock price prediction model. We will use closing prices from 2010 on.\n"
   ]
  },
  {
   "cell_type": "markdown",
   "metadata": {
    "id": "nNxB_XOT0Jx0"
   },
   "source": [
    "<a id='1'></a>\n",
    "# 2. Getting Started"
   ]
  },
  {
   "cell_type": "code",
   "execution_count": 1,
   "metadata": {},
   "outputs": [
    {
     "name": "stdout",
     "output_type": "stream",
     "text": [
      "Requirement already satisfied: pandas_datareader in c:\\users\\dominic\\anaconda3\\lib\\site-packages (0.10.0)\n",
      "Requirement already satisfied: lxml in c:\\users\\dominic\\anaconda3\\lib\\site-packages (from pandas_datareader) (4.7.1)\n",
      "Requirement already satisfied: pandas>=0.23 in c:\\users\\dominic\\anaconda3\\lib\\site-packages (from pandas_datareader) (1.3.5)\n",
      "Requirement already satisfied: requests>=2.19.0 in c:\\users\\dominic\\anaconda3\\lib\\site-packages (from pandas_datareader) (2.27.1)\n",
      "Requirement already satisfied: python-dateutil>=2.7.3 in c:\\users\\dominic\\anaconda3\\lib\\site-packages (from pandas>=0.23->pandas_datareader) (2.8.2)\n",
      "Requirement already satisfied: numpy>=1.17.3 in c:\\users\\dominic\\anaconda3\\lib\\site-packages (from pandas>=0.23->pandas_datareader) (1.20.3)\n",
      "Requirement already satisfied: pytz>=2017.3 in c:\\users\\dominic\\anaconda3\\lib\\site-packages (from pandas>=0.23->pandas_datareader) (2021.3)\n",
      "Requirement already satisfied: six>=1.5 in c:\\users\\dominic\\anaconda3\\lib\\site-packages (from python-dateutil>=2.7.3->pandas>=0.23->pandas_datareader) (1.16.0)\n",
      "Requirement already satisfied: idna<4,>=2.5 in c:\\users\\dominic\\anaconda3\\lib\\site-packages (from requests>=2.19.0->pandas_datareader) (3.3)\n",
      "Requirement already satisfied: urllib3<1.27,>=1.21.1 in c:\\users\\dominic\\anaconda3\\lib\\site-packages (from requests>=2.19.0->pandas_datareader) (1.26.7)\n",
      "Requirement already satisfied: certifi>=2017.4.17 in c:\\users\\dominic\\anaconda3\\lib\\site-packages (from requests>=2.19.0->pandas_datareader) (2021.10.8)\n",
      "Requirement already satisfied: charset-normalizer~=2.0.0 in c:\\users\\dominic\\anaconda3\\lib\\site-packages (from requests>=2.19.0->pandas_datareader) (2.0.4)\n",
      "Requirement already satisfied: yfinance in c:\\users\\dominic\\anaconda3\\lib\\site-packages (0.1.68)\n",
      "Requirement already satisfied: multitasking>=0.0.7 in c:\\users\\dominic\\anaconda3\\lib\\site-packages (from yfinance) (0.0.10)\n",
      "Requirement already satisfied: pandas>=0.24 in c:\\users\\dominic\\anaconda3\\lib\\site-packages (from yfinance) (1.3.5)\n",
      "Requirement already satisfied: lxml>=4.5.1 in c:\\users\\dominic\\anaconda3\\lib\\site-packages (from yfinance) (4.7.1)\n",
      "Requirement already satisfied: numpy>=1.15 in c:\\users\\dominic\\anaconda3\\lib\\site-packages (from yfinance) (1.20.3)\n",
      "Requirement already satisfied: requests>=2.26 in c:\\users\\dominic\\anaconda3\\lib\\site-packages (from yfinance) (2.27.1)\n",
      "Requirement already satisfied: pytz>=2017.3 in c:\\users\\dominic\\anaconda3\\lib\\site-packages (from pandas>=0.24->yfinance) (2021.3)\n",
      "Requirement already satisfied: python-dateutil>=2.7.3 in c:\\users\\dominic\\anaconda3\\lib\\site-packages (from pandas>=0.24->yfinance) (2.8.2)\n",
      "Requirement already satisfied: six>=1.5 in c:\\users\\dominic\\anaconda3\\lib\\site-packages (from python-dateutil>=2.7.3->pandas>=0.24->yfinance) (1.16.0)\n",
      "Requirement already satisfied: charset-normalizer~=2.0.0 in c:\\users\\dominic\\anaconda3\\lib\\site-packages (from requests>=2.26->yfinance) (2.0.4)\n",
      "Requirement already satisfied: idna<4,>=2.5 in c:\\users\\dominic\\anaconda3\\lib\\site-packages (from requests>=2.26->yfinance) (3.3)\n",
      "Requirement already satisfied: urllib3<1.27,>=1.21.1 in c:\\users\\dominic\\anaconda3\\lib\\site-packages (from requests>=2.26->yfinance) (1.26.7)\n",
      "Requirement already satisfied: certifi>=2017.4.17 in c:\\users\\dominic\\anaconda3\\lib\\site-packages (from requests>=2.26->yfinance) (2021.10.8)\n"
     ]
    }
   ],
   "source": [
    "!pip install pandas_datareader\n",
    "!pip install yfinance"
   ]
  },
  {
   "cell_type": "code",
   "execution_count": 2,
   "metadata": {
    "executionInfo": {
     "elapsed": 7,
     "status": "ok",
     "timestamp": 1636901674299,
     "user": {
      "displayName": "D OK",
      "photoUrl": "https://lh3.googleusercontent.com/a/default-user=s64",
      "userId": "10267117973942008095"
     },
     "user_tz": -60
    },
    "id": "8DsjFIb-0Jx1"
   },
   "outputs": [],
   "source": [
    "# Load libraries\n",
    "import numpy as np\n",
    "import pandas as pd\n",
    "from matplotlib import pyplot\n",
    "from pandas.plotting import scatter_matrix\n",
    "import seaborn as sns\n",
    "from sklearn.preprocessing import StandardScaler\n",
    "\n",
    "# Cross Validation\n",
    "from sklearn.model_selection import train_test_split\n",
    "from sklearn.model_selection import KFold\n",
    "from sklearn.model_selection import cross_val_score\n",
    "from sklearn.model_selection import GridSearchCV\n",
    "\n",
    "# Model selection\n",
    "from sklearn.linear_model import LinearRegression\n",
    "from sklearn.linear_model import Lasso\n",
    "from sklearn.linear_model import ElasticNet\n",
    "from sklearn.tree import DecisionTreeRegressor\n",
    "from sklearn.neighbors import KNeighborsRegressor\n",
    "from sklearn.svm import SVR\n",
    "from sklearn.ensemble import RandomForestRegressor\n",
    "from sklearn.ensemble import GradientBoostingRegressor\n",
    "from sklearn.ensemble import AdaBoostRegressor\n",
    "from sklearn.neural_network import MLPRegressor\n",
    "\n",
    "#Libraries for Saving the Model\n",
    "from pickle import dump\n",
    "from pickle import load\n",
    "\n",
    "# Error Metrics\n",
    "from sklearn.metrics import mean_squared_error\n",
    "\n",
    "# Feature Selection\n",
    "from sklearn.feature_selection import SelectKBest\n",
    "from sklearn.feature_selection import chi2, f_regression\n",
    "\n",
    "#Plotting \n",
    "from pandas.plotting import scatter_matrix"
   ]
  },
  {
   "cell_type": "code",
   "execution_count": 3,
   "metadata": {
    "executionInfo": {
     "elapsed": 6,
     "status": "ok",
     "timestamp": 1636901674300,
     "user": {
      "displayName": "D OK",
      "photoUrl": "https://lh3.googleusercontent.com/a/default-user=s64",
      "userId": "10267117973942008095"
     },
     "user_tz": -60
    },
    "id": "1s7eV0El0Jx3"
   },
   "outputs": [],
   "source": [
    "#Diable the warnings\n",
    "import warnings\n",
    "warnings.filterwarnings('ignore')"
   ]
  },
  {
   "cell_type": "markdown",
   "metadata": {
    "id": "OD8r0XLH0Jx3"
   },
   "source": [
    "<a id='1.2'></a>\n",
    "## 2.2. Loading the Data"
   ]
  },
  {
   "cell_type": "markdown",
   "metadata": {
    "id": "6KXPzH-e0Jx4"
   },
   "source": [
    "Next, we extract the data required for our analysis using pandas datareader. "
   ]
  },
  {
   "cell_type": "markdown",
   "metadata": {},
   "source": [
    "The stock price data is coming from Yahoo while the stock index and currency data is coming fromn FRED."
   ]
  },
  {
   "cell_type": "code",
   "execution_count": 4,
   "metadata": {
    "colab": {
     "base_uri": "https://localhost:8080/"
    },
    "executionInfo": {
     "elapsed": 5048,
     "status": "ok",
     "timestamp": 1636901679343,
     "user": {
      "displayName": "D OK",
      "photoUrl": "https://lh3.googleusercontent.com/a/default-user=s64",
      "userId": "10267117973942008095"
     },
     "user_tz": -60
    },
    "id": "AVXXvPzg0Jx4",
    "outputId": "2697aee8-165e-4559-ecd1-60fc21413c97"
   },
   "outputs": [],
   "source": [
    "import yfinance as yf\n",
    "import pandas_datareader.data as web\n",
    "import datetime\n",
    "\n",
    "# 10 year period\n",
    "start = datetime.datetime(2012, 1, 1)\n",
    "end = datetime.datetime(2022, 1, 1)\n",
    "\n",
    "stk_tickers = ['MSFT', 'IBM', 'GOOGL']\n",
    "ccy_tickers = ['DEXUSEU', 'DEXUSUK']\n",
    "idx_tickers = ['SP500', 'DJIA', 'VIXCLS']\n",
    "\n",
    "# We can use pandas_datareader or yfinance\n",
    "# stk_data = yf.download(stk_tickers)\n",
    "\n",
    "stk_data = web.DataReader(stk_tickers, 'yahoo', start = start, end = end)\n",
    "ccy_data = web.DataReader(ccy_tickers, 'fred', start = start, end = end)\n",
    "idx_data = web.DataReader(idx_tickers, 'fred', start = start, end = end)"
   ]
  },
  {
   "cell_type": "code",
   "execution_count": 5,
   "metadata": {},
   "outputs": [
    {
     "name": "stdout",
     "output_type": "stream",
     "text": [
      "<class 'pandas.core.frame.DataFrame'>\n",
      "DatetimeIndex: 2517 entries, 2012-01-03 to 2021-12-31\n",
      "Data columns (total 18 columns):\n",
      " #   Column              Non-Null Count  Dtype  \n",
      "---  ------              --------------  -----  \n",
      " 0   (Adj Close, MSFT)   2517 non-null   float64\n",
      " 1   (Adj Close, IBM)    2517 non-null   float64\n",
      " 2   (Adj Close, GOOGL)  2517 non-null   float64\n",
      " 3   (Close, MSFT)       2517 non-null   float64\n",
      " 4   (Close, IBM)        2517 non-null   float64\n",
      " 5   (Close, GOOGL)      2517 non-null   float64\n",
      " 6   (High, MSFT)        2517 non-null   float64\n",
      " 7   (High, IBM)         2517 non-null   float64\n",
      " 8   (High, GOOGL)       2517 non-null   float64\n",
      " 9   (Low, MSFT)         2517 non-null   float64\n",
      " 10  (Low, IBM)          2517 non-null   float64\n",
      " 11  (Low, GOOGL)        2517 non-null   float64\n",
      " 12  (Open, MSFT)        2517 non-null   float64\n",
      " 13  (Open, IBM)         2517 non-null   float64\n",
      " 14  (Open, GOOGL)       2517 non-null   float64\n",
      " 15  (Volume, MSFT)      2517 non-null   float64\n",
      " 16  (Volume, IBM)       2517 non-null   float64\n",
      " 17  (Volume, GOOGL)     2517 non-null   float64\n",
      "dtypes: float64(18)\n",
      "memory usage: 373.6 KB\n"
     ]
    }
   ],
   "source": [
    "stk_data.info()"
   ]
  },
  {
   "cell_type": "code",
   "execution_count": 6,
   "metadata": {},
   "outputs": [
    {
     "name": "stdout",
     "output_type": "stream",
     "text": [
      "<class 'pandas.core.frame.DataFrame'>\n",
      "DatetimeIndex: 2610 entries, 2012-01-02 to 2021-12-31\n",
      "Data columns (total 2 columns):\n",
      " #   Column   Non-Null Count  Dtype  \n",
      "---  ------   --------------  -----  \n",
      " 0   DEXUSEU  2500 non-null   float64\n",
      " 1   DEXUSUK  2500 non-null   float64\n",
      "dtypes: float64(2)\n",
      "memory usage: 61.2 KB\n"
     ]
    }
   ],
   "source": [
    "ccy_data.info()"
   ]
  },
  {
   "cell_type": "code",
   "execution_count": 7,
   "metadata": {},
   "outputs": [],
   "source": [
    "ccy_data.columns = ['USDEUR', 'GBPUSD']"
   ]
  },
  {
   "cell_type": "code",
   "execution_count": 8,
   "metadata": {},
   "outputs": [
    {
     "name": "stdout",
     "output_type": "stream",
     "text": [
      "<class 'pandas.core.frame.DataFrame'>\n",
      "DatetimeIndex: 2610 entries, 2012-01-02 to 2021-12-31\n",
      "Freq: B\n",
      "Data columns (total 3 columns):\n",
      " #   Column  Non-Null Count  Dtype  \n",
      "---  ------  --------------  -----  \n",
      " 0   SP500   2491 non-null   float64\n",
      " 1   DJIA    2491 non-null   float64\n",
      " 2   VIXCLS  2517 non-null   float64\n",
      "dtypes: float64(3)\n",
      "memory usage: 81.6 KB\n"
     ]
    }
   ],
   "source": [
    "idx_data.info()"
   ]
  },
  {
   "cell_type": "markdown",
   "metadata": {},
   "source": [
    "I should save the data to file. Sometimes this is wise if there is a later YFinance problem."
   ]
  },
  {
   "cell_type": "markdown",
   "metadata": {},
   "source": [
    "We examine the stock price data first."
   ]
  },
  {
   "cell_type": "markdown",
   "metadata": {},
   "source": [
    "It looks fine. Some of the equities have different length time series.\n"
   ]
  },
  {
   "cell_type": "code",
   "execution_count": 9,
   "metadata": {},
   "outputs": [
    {
     "data": {
      "text/html": [
       "<div>\n",
       "<style scoped>\n",
       "    .dataframe tbody tr th:only-of-type {\n",
       "        vertical-align: middle;\n",
       "    }\n",
       "\n",
       "    .dataframe tbody tr th {\n",
       "        vertical-align: top;\n",
       "    }\n",
       "\n",
       "    .dataframe thead tr th {\n",
       "        text-align: left;\n",
       "    }\n",
       "\n",
       "    .dataframe thead tr:last-of-type th {\n",
       "        text-align: right;\n",
       "    }\n",
       "</style>\n",
       "<table border=\"1\" class=\"dataframe\">\n",
       "  <thead>\n",
       "    <tr>\n",
       "      <th>Attributes</th>\n",
       "      <th colspan=\"3\" halign=\"left\">Adj Close</th>\n",
       "      <th colspan=\"3\" halign=\"left\">Close</th>\n",
       "      <th colspan=\"3\" halign=\"left\">High</th>\n",
       "      <th colspan=\"3\" halign=\"left\">Low</th>\n",
       "      <th colspan=\"3\" halign=\"left\">Open</th>\n",
       "      <th colspan=\"3\" halign=\"left\">Volume</th>\n",
       "    </tr>\n",
       "    <tr>\n",
       "      <th>Symbols</th>\n",
       "      <th>MSFT</th>\n",
       "      <th>IBM</th>\n",
       "      <th>GOOGL</th>\n",
       "      <th>MSFT</th>\n",
       "      <th>IBM</th>\n",
       "      <th>GOOGL</th>\n",
       "      <th>MSFT</th>\n",
       "      <th>IBM</th>\n",
       "      <th>GOOGL</th>\n",
       "      <th>MSFT</th>\n",
       "      <th>IBM</th>\n",
       "      <th>GOOGL</th>\n",
       "      <th>MSFT</th>\n",
       "      <th>IBM</th>\n",
       "      <th>GOOGL</th>\n",
       "      <th>MSFT</th>\n",
       "      <th>IBM</th>\n",
       "      <th>GOOGL</th>\n",
       "    </tr>\n",
       "    <tr>\n",
       "      <th>Date</th>\n",
       "      <th></th>\n",
       "      <th></th>\n",
       "      <th></th>\n",
       "      <th></th>\n",
       "      <th></th>\n",
       "      <th></th>\n",
       "      <th></th>\n",
       "      <th></th>\n",
       "      <th></th>\n",
       "      <th></th>\n",
       "      <th></th>\n",
       "      <th></th>\n",
       "      <th></th>\n",
       "      <th></th>\n",
       "      <th></th>\n",
       "      <th></th>\n",
       "      <th></th>\n",
       "      <th></th>\n",
       "    </tr>\n",
       "  </thead>\n",
       "  <tbody>\n",
       "    <tr>\n",
       "      <th>2021-12-27</th>\n",
       "      <td>342.450012</td>\n",
       "      <td>131.619995</td>\n",
       "      <td>2958.129883</td>\n",
       "      <td>342.450012</td>\n",
       "      <td>131.619995</td>\n",
       "      <td>2958.129883</td>\n",
       "      <td>342.480011</td>\n",
       "      <td>131.649994</td>\n",
       "      <td>2966.879883</td>\n",
       "      <td>335.429993</td>\n",
       "      <td>129.949997</td>\n",
       "      <td>2943.389893</td>\n",
       "      <td>335.459991</td>\n",
       "      <td>130.630005</td>\n",
       "      <td>2945.120117</td>\n",
       "      <td>19947000.0</td>\n",
       "      <td>4293900.0</td>\n",
       "      <td>798800.0</td>\n",
       "    </tr>\n",
       "    <tr>\n",
       "      <th>2021-12-28</th>\n",
       "      <td>341.250000</td>\n",
       "      <td>132.630005</td>\n",
       "      <td>2933.739990</td>\n",
       "      <td>341.250000</td>\n",
       "      <td>132.630005</td>\n",
       "      <td>2933.739990</td>\n",
       "      <td>343.809998</td>\n",
       "      <td>133.220001</td>\n",
       "      <td>2965.979980</td>\n",
       "      <td>340.320007</td>\n",
       "      <td>131.589996</td>\n",
       "      <td>2921.090088</td>\n",
       "      <td>343.149994</td>\n",
       "      <td>131.600006</td>\n",
       "      <td>2964.719971</td>\n",
       "      <td>15661500.0</td>\n",
       "      <td>3445200.0</td>\n",
       "      <td>910000.0</td>\n",
       "    </tr>\n",
       "    <tr>\n",
       "      <th>2021-12-29</th>\n",
       "      <td>341.950012</td>\n",
       "      <td>133.350006</td>\n",
       "      <td>2933.100098</td>\n",
       "      <td>341.950012</td>\n",
       "      <td>133.350006</td>\n",
       "      <td>2933.100098</td>\n",
       "      <td>344.299988</td>\n",
       "      <td>134.210007</td>\n",
       "      <td>2948.340088</td>\n",
       "      <td>339.679993</td>\n",
       "      <td>132.300003</td>\n",
       "      <td>2912.949951</td>\n",
       "      <td>341.299988</td>\n",
       "      <td>132.399994</td>\n",
       "      <td>2932.889893</td>\n",
       "      <td>15042000.0</td>\n",
       "      <td>4239900.0</td>\n",
       "      <td>889400.0</td>\n",
       "    </tr>\n",
       "    <tr>\n",
       "      <th>2021-12-30</th>\n",
       "      <td>339.320007</td>\n",
       "      <td>133.910004</td>\n",
       "      <td>2924.010010</td>\n",
       "      <td>339.320007</td>\n",
       "      <td>133.910004</td>\n",
       "      <td>2924.010010</td>\n",
       "      <td>343.130005</td>\n",
       "      <td>134.369995</td>\n",
       "      <td>2946.000000</td>\n",
       "      <td>338.820007</td>\n",
       "      <td>133.330002</td>\n",
       "      <td>2919.889893</td>\n",
       "      <td>341.910004</td>\n",
       "      <td>133.750000</td>\n",
       "      <td>2933.879883</td>\n",
       "      <td>15994500.0</td>\n",
       "      <td>3158100.0</td>\n",
       "      <td>784400.0</td>\n",
       "    </tr>\n",
       "    <tr>\n",
       "      <th>2021-12-31</th>\n",
       "      <td>336.320007</td>\n",
       "      <td>133.660004</td>\n",
       "      <td>2897.040039</td>\n",
       "      <td>336.320007</td>\n",
       "      <td>133.660004</td>\n",
       "      <td>2897.040039</td>\n",
       "      <td>339.359985</td>\n",
       "      <td>134.990005</td>\n",
       "      <td>2933.969971</td>\n",
       "      <td>335.850006</td>\n",
       "      <td>133.610001</td>\n",
       "      <td>2897.040039</td>\n",
       "      <td>338.510010</td>\n",
       "      <td>134.000000</td>\n",
       "      <td>2921.000000</td>\n",
       "      <td>18000800.0</td>\n",
       "      <td>3362100.0</td>\n",
       "      <td>906800.0</td>\n",
       "    </tr>\n",
       "  </tbody>\n",
       "</table>\n",
       "</div>"
      ],
      "text/plain": [
       "Attributes   Adj Close                                Close              \\\n",
       "Symbols           MSFT         IBM        GOOGL        MSFT         IBM   \n",
       "Date                                                                      \n",
       "2021-12-27  342.450012  131.619995  2958.129883  342.450012  131.619995   \n",
       "2021-12-28  341.250000  132.630005  2933.739990  341.250000  132.630005   \n",
       "2021-12-29  341.950012  133.350006  2933.100098  341.950012  133.350006   \n",
       "2021-12-30  339.320007  133.910004  2924.010010  339.320007  133.910004   \n",
       "2021-12-31  336.320007  133.660004  2897.040039  336.320007  133.660004   \n",
       "\n",
       "Attributes                     High                                  Low  \\\n",
       "Symbols           GOOGL        MSFT         IBM        GOOGL        MSFT   \n",
       "Date                                                                       \n",
       "2021-12-27  2958.129883  342.480011  131.649994  2966.879883  335.429993   \n",
       "2021-12-28  2933.739990  343.809998  133.220001  2965.979980  340.320007   \n",
       "2021-12-29  2933.100098  344.299988  134.210007  2948.340088  339.679993   \n",
       "2021-12-30  2924.010010  343.130005  134.369995  2946.000000  338.820007   \n",
       "2021-12-31  2897.040039  339.359985  134.990005  2933.969971  335.850006   \n",
       "\n",
       "Attributes                                 Open                           \\\n",
       "Symbols            IBM        GOOGL        MSFT         IBM        GOOGL   \n",
       "Date                                                                       \n",
       "2021-12-27  129.949997  2943.389893  335.459991  130.630005  2945.120117   \n",
       "2021-12-28  131.589996  2921.090088  343.149994  131.600006  2964.719971   \n",
       "2021-12-29  132.300003  2912.949951  341.299988  132.399994  2932.889893   \n",
       "2021-12-30  133.330002  2919.889893  341.910004  133.750000  2933.879883   \n",
       "2021-12-31  133.610001  2897.040039  338.510010  134.000000  2921.000000   \n",
       "\n",
       "Attributes      Volume                       \n",
       "Symbols           MSFT        IBM     GOOGL  \n",
       "Date                                         \n",
       "2021-12-27  19947000.0  4293900.0  798800.0  \n",
       "2021-12-28  15661500.0  3445200.0  910000.0  \n",
       "2021-12-29  15042000.0  4239900.0  889400.0  \n",
       "2021-12-30  15994500.0  3158100.0  784400.0  \n",
       "2021-12-31  18000800.0  3362100.0  906800.0  "
      ]
     },
     "execution_count": 9,
     "metadata": {},
     "output_type": "execute_result"
    }
   ],
   "source": [
    "stk_data.tail()"
   ]
  },
  {
   "cell_type": "code",
   "execution_count": 10,
   "metadata": {},
   "outputs": [
    {
     "data": {
      "image/png": "[encoded data removed]",
      "text/plain": [
       "<Figure size 432x288 with 1 Axes>"
      ]
     },
     "metadata": {
      "needs_background": "light"
     },
     "output_type": "display_data"
    }
   ],
   "source": [
    "cols = stk_data.columns[0:3]\n",
    "stk_data[cols].plot();"
   ]
  },
  {
   "cell_type": "code",
   "execution_count": 11,
   "metadata": {},
   "outputs": [
    {
     "data": {
      "image/png": "[encoded data removed]",
      "text/plain": [
       "<Figure size 432x288 with 2 Axes>"
      ]
     },
     "metadata": {
      "needs_background": "light"
     },
     "output_type": "display_data"
    }
   ],
   "source": [
    "import matplotlib.pyplot as plt\n",
    "fig, ax1 = plt.subplots()\n",
    "ax2 = ax1.twinx()\n",
    "ax1.plot(ccy_data[\"USDEUR\"], color='r', label=\"JP-US\")\n",
    "ax2.plot(ccy_data[\"GBPUSD\"], color='b', label=\"US-UK\")\n",
    "plt.legend();"
   ]
  },
  {
   "cell_type": "markdown",
   "metadata": {},
   "source": [
    "We can easily show the equity index data."
   ]
  },
  {
   "cell_type": "code",
   "execution_count": 12,
   "metadata": {
    "colab": {
     "base_uri": "https://localhost:8080/",
     "height": 450
    },
    "executionInfo": {
     "elapsed": 232,
     "status": "ok",
     "timestamp": 1636902153466,
     "user": {
      "displayName": "D OK",
      "photoUrl": "https://lh3.googleusercontent.com/a/default-user=s64",
      "userId": "10267117973942008095"
     },
     "user_tz": -60
    },
    "id": "kkRza_tH04D3",
    "outputId": "efbad5e7-f15e-4114-8b18-28c87d90f355",
    "scrolled": true
   },
   "outputs": [
    {
     "data": {
      "image/png": "[encoded data removed]",
      "text/plain": [
       "<Figure size 432x288 with 1 Axes>"
      ]
     },
     "metadata": {
      "needs_background": "light"
     },
     "output_type": "display_data"
    }
   ],
   "source": [
    "idx_data.plot();"
   ]
  },
  {
   "cell_type": "markdown",
   "metadata": {},
   "source": [
    "### Prediction"
   ]
  },
  {
   "cell_type": "markdown",
   "metadata": {
    "id": "4dXB9rZA0Jx4"
   },
   "source": [
    "Next, we need a series to predict. We choose to predict using weekly returns. We approximate this by using 5 business day period returns."
   ]
  },
  {
   "cell_type": "markdown",
   "metadata": {
    "id": "DnEuXl9D0Jx5"
   },
   "source": [
    "We now define our Y series and our X series\n",
    "\n",
    "Y: MSFT **Future** Returns\n",
    "\n",
    "X:\n",
    "\n",
    "    a. GOOGL 5 Business Day Returns\n",
    "    b. IBM 5 Business DayReturns    \n",
    "    c. USD/JPY 5 Business DayReturns    \n",
    "    d. GBP/USD 5 Business DayReturns    \n",
    "    e. S&P 500 5 Business DayReturns    \n",
    "    f. Dow Jones 5 Business DayReturns    \n",
    "    g. MSFT 5 Business Day Returns    \n",
    "    h. MSFT 15 Business Day Returns    \n",
    "    i. MSFT 30 Business Day Returns    \n",
    "    j. MSFT 60 Business Day Returns\n",
    "\n",
    "We remove the MSFT past returns when we use the Time series models."
   ]
  },
  {
   "cell_type": "code",
   "execution_count": 13,
   "metadata": {},
   "outputs": [],
   "source": [
    "msft_close = stk_data[('Adj Close', 'MSFT')]"
   ]
  },
  {
   "cell_type": "code",
   "execution_count": 14,
   "metadata": {},
   "outputs": [
    {
     "data": {
      "text/plain": [
       "Date\n",
       "2021-12-17    323.799988\n",
       "2021-12-20    319.910004\n",
       "2021-12-21    327.290009\n",
       "2021-12-22    333.200012\n",
       "2021-12-23    334.690002\n",
       "2021-12-27    342.450012\n",
       "2021-12-28    341.250000\n",
       "2021-12-29    341.950012\n",
       "2021-12-30    339.320007\n",
       "2021-12-31    336.320007\n",
       "Name: (Adj Close, MSFT), dtype: float64"
      ]
     },
     "execution_count": 14,
     "metadata": {},
     "output_type": "execute_result"
    }
   ],
   "source": [
    "msft_close.tail(10)"
   ]
  },
  {
   "cell_type": "markdown",
   "metadata": {},
   "source": [
    "We first take logs."
   ]
  },
  {
   "cell_type": "code",
   "execution_count": 15,
   "metadata": {},
   "outputs": [
    {
     "data": {
      "text/plain": [
       "Date\n",
       "2021-12-17    5.780126\n",
       "2021-12-20    5.768040\n",
       "2021-12-21    5.790847\n",
       "2021-12-22    5.808743\n",
       "2021-12-23    5.813205\n",
       "2021-12-27    5.836126\n",
       "2021-12-28    5.832615\n",
       "2021-12-29    5.834665\n",
       "2021-12-30    5.826944\n",
       "2021-12-31    5.818063\n",
       "Name: (Adj Close, MSFT), dtype: float64"
      ]
     },
     "execution_count": 15,
     "metadata": {},
     "output_type": "execute_result"
    }
   ],
   "source": [
    "np.log(msft_close).tail(10) #.shift(-return_period)"
   ]
  },
  {
   "cell_type": "markdown",
   "metadata": {},
   "source": [
    "We then take differences"
   ]
  },
  {
   "cell_type": "code",
   "execution_count": 16,
   "metadata": {},
   "outputs": [
    {
     "data": {
      "text/plain": [
       "Date\n",
       "2021-12-17   -0.056262\n",
       "2021-12-20   -0.059140\n",
       "2021-12-21   -0.003203\n",
       "2021-12-22   -0.004342\n",
       "2021-12-23    0.029687\n",
       "2021-12-27    0.056000\n",
       "2021-12-28    0.064576\n",
       "2021-12-29    0.043818\n",
       "2021-12-30    0.018201\n",
       "2021-12-31    0.004858\n",
       "Name: (Adj Close, MSFT), dtype: float64"
      ]
     },
     "execution_count": 16,
     "metadata": {},
     "output_type": "execute_result"
    }
   ],
   "source": [
    "return_period = 5\n",
    "Y = np.log(msft_close).diff(return_period).tail(10)\n",
    "Y.tail(10)"
   ]
  },
  {
   "cell_type": "markdown",
   "metadata": {},
   "source": [
    "We then shift it back 5 days."
   ]
  },
  {
   "cell_type": "code",
   "execution_count": 17,
   "metadata": {},
   "outputs": [
    {
     "data": {
      "text/plain": [
       "Date\n",
       "2021-12-17    0.056000\n",
       "2021-12-20    0.064576\n",
       "2021-12-21    0.043818\n",
       "2021-12-22    0.018201\n",
       "2021-12-23    0.004858\n",
       "2021-12-27         NaN\n",
       "2021-12-28         NaN\n",
       "2021-12-29         NaN\n",
       "2021-12-30         NaN\n",
       "2021-12-31         NaN\n",
       "Name: (Adj Close, MSFT), dtype: float64"
      ]
     },
     "execution_count": 17,
     "metadata": {},
     "output_type": "execute_result"
    }
   ],
   "source": [
    "Y = np.log(msft_close).diff(return_period).shift(-return_period)\n",
    "Y.tail(10)"
   ]
  },
  {
   "cell_type": "code",
   "execution_count": 18,
   "metadata": {},
   "outputs": [],
   "source": [
    "Y.name = 'MSFT_pred'"
   ]
  },
  {
   "cell_type": "code",
   "execution_count": 19,
   "metadata": {},
   "outputs": [
    {
     "data": {
      "text/plain": [
       "<matplotlib.axes._subplots.AxesSubplot at 0x170bcb23eb0>"
      ]
     },
     "execution_count": 19,
     "metadata": {},
     "output_type": "execute_result"
    },
    {
     "data": {
      "image/png": "[encoded data removed]",
      "text/plain": [
       "<Figure size 432x288 with 1 Axes>"
      ]
     },
     "metadata": {
      "needs_background": "light"
     },
     "output_type": "display_data"
    }
   ],
   "source": [
    "Y.plot()"
   ]
  },
  {
   "cell_type": "markdown",
   "metadata": {},
   "source": [
    "Now we continue with the other manipulations."
   ]
  },
  {
   "cell_type": "code",
   "execution_count": 20,
   "metadata": {
    "executionInfo": {
     "elapsed": 4,
     "status": "ok",
     "timestamp": 1636902158573,
     "user": {
      "displayName": "D OK",
      "photoUrl": "https://lh3.googleusercontent.com/a/default-user=s64",
      "userId": "10267117973942008095"
     },
     "user_tz": -60
    },
    "id": "3m8SRLRX0Jx5"
   },
   "outputs": [],
   "source": [
    "X1 = np.log(stk_data.loc[:, ('Adj Close', ('GOOGL', 'IBM'))]).diff(return_period)\n",
    "X1.columns = X1.columns.droplevel()\n",
    "X2 = np.log(ccy_data).diff(return_period)\n",
    "X3 = np.log(idx_data).diff(return_period)\n",
    "\n",
    "X4 = pd.concat([np.log(stk_data.loc[:, ('Adj Close', 'MSFT')]).diff(i) \\\n",
    "                for i in [return_period, \\\n",
    "                          return_period*3, \\\n",
    "                          return_period*6, \\\n",
    "                          return_period*12]], axis=1).dropna()\n",
    "\n",
    "X4.columns = ['MSFT_RET_DT', 'MSFT_RET_3DT', 'MSFT_RET_6DT', 'MSFT_RET_12DT']\n",
    "\n",
    "X = pd.concat([X1, X2, X3, X4], join = \"inner\", axis=1)\n",
    "\n",
    "dataset = pd.concat([Y, X], join=\"inner\", axis=1).dropna() # .iloc[::return_period, :]\n",
    "\n",
    "# Now extract from dataset the label column\n",
    "Y = dataset.loc[:, Y.name]\n",
    "# Now extract from dataset the features columns\n",
    "X = dataset.loc[:, X.columns]"
   ]
  },
  {
   "cell_type": "markdown",
   "metadata": {
    "id": "VXTWQMVQ0Jx8"
   },
   "source": [
    "Looking at the scatter plot above, we see some linear relationship of the predicted\n",
    "variable the lagged 15 days, 30 days and 60 days return of MSFT."
   ]
  },
  {
   "cell_type": "markdown",
   "metadata": {
    "id": "sEoEEJ4d0Jx9"
   },
   "source": [
    "<a id='4'></a>\n",
    "# 5. Evaluate Algorithms and Models"
   ]
  },
  {
   "cell_type": "markdown",
   "metadata": {
    "id": "_hiJkMCk0Jx9"
   },
   "source": [
    "<a id='4.1'></a>\n",
    "## 5.1. Train Test Split and Evaluation Metrics"
   ]
  },
  {
   "cell_type": "markdown",
   "metadata": {
    "id": "e-SIbEsJ0Jx9"
   },
   "source": [
    "Next, we start by splitting our data in training and testing chunks. If we are going to use Time series models we have to split the data in continous series."
   ]
  },
  {
   "cell_type": "code",
   "execution_count": 23,
   "metadata": {
    "executionInfo": {
     "elapsed": 234,
     "status": "ok",
     "timestamp": 1636902199064,
     "user": {
      "displayName": "D OK",
      "photoUrl": "https://lh3.googleusercontent.com/a/default-user=s64",
      "userId": "10267117973942008095"
     },
     "user_tz": -60
    },
    "id": "aCjp_4PY0Jx9"
   },
   "outputs": [],
   "source": [
    "validation_size = 0.2\n",
    "\n",
    "# In case the data is not dependent on the time series, then train and test split randomly\n",
    "# seed = 7\n",
    "# X_train, X_test, Y_train, Y_test = train_test_split(X, Y, test_size=validation_size, random_state=seed)\n",
    "\n",
    "#In case the data is not dependent on the time series, then train and test split should be done based on sequential sample\n",
    "#This can be done by selecting an arbitrary split point in the ordered list of observations and creating two new datasets.\n",
    "train_size = int(len(X) * (1-validation_size))\n",
    "X_train, X_test = X[0:train_size], X[train_size:len(X)]\n",
    "Y_train, Y_test = Y[0:train_size], Y[train_size:len(X)]"
   ]
  },
  {
   "cell_type": "markdown",
   "metadata": {
    "id": "n1srXLHd0Jx9"
   },
   "source": [
    "<a id='4.2'></a>\n",
    "## 5.2. Test Options and Evaluation Metrics"
   ]
  },
  {
   "cell_type": "code",
   "execution_count": 24,
   "metadata": {
    "executionInfo": {
     "elapsed": 217,
     "status": "ok",
     "timestamp": 1636902200994,
     "user": {
      "displayName": "D OK",
      "photoUrl": "https://lh3.googleusercontent.com/a/default-user=s64",
      "userId": "10267117973942008095"
     },
     "user_tz": -60
    },
    "id": "XDy6zKge0Jx9"
   },
   "outputs": [],
   "source": [
    "num_folds = 10\n",
    "seed = 7\n",
    "# scikit is moving away from mean_squared_error. \n",
    "# In order to avoid confusion, and to allow comparison with other models, we invert the final scores\n",
    "scoring = 'neg_mean_squared_error' "
   ]
  },
  {
   "cell_type": "markdown",
   "metadata": {
    "id": "p2dWvaKj0Jx9"
   },
   "source": [
    "<a id='4.3'></a>\n",
    "## 5.3. Compare Models and Algorithms"
   ]
  },
  {
   "cell_type": "markdown",
   "metadata": {
    "id": "UjCNlCcq0Jx9"
   },
   "source": [
    "<a id='4.3.1'></a>\n",
    "### 5.3.1 Machine Learning models-from scikit-learn"
   ]
  },
  {
   "cell_type": "markdown",
   "metadata": {
    "id": "fOr6Q2Zr0Jx9"
   },
   "source": [
    "##### Regression and Tree Regression algorithms"
   ]
  },
  {
   "cell_type": "code",
   "execution_count": 29,
   "metadata": {
    "executionInfo": {
     "elapsed": 217,
     "status": "ok",
     "timestamp": 1636902203673,
     "user": {
      "displayName": "D OK",
      "photoUrl": "https://lh3.googleusercontent.com/a/default-user=s64",
      "userId": "10267117973942008095"
     },
     "user_tz": -60
    },
    "id": "OUxDko1y0Jx9"
   },
   "outputs": [],
   "source": [
    "models = []\n",
    "models.append(('LR', LinearRegression()))\n",
    "models.append(('LASSO', Lasso()))\n",
    "models.append(('KNN', KNeighborsRegressor()))\n",
    "models.append(('MLP', MLPRegressor(hidden_layer_sizes=(100,100))))\n",
    "# Boosting methods\n",
    "models.append(('ABR', AdaBoostRegressor()))\n",
    "# Bagging methods\n",
    "models.append(('RFR', RandomForestRegressor()))"
   ]
  },
  {
   "cell_type": "markdown",
   "metadata": {
    "id": "KP9c4b3M0Jx-"
   },
   "source": [
    "Once we have selected all the models, we loop over each of them. First we run the K-fold analysis. Next we run the model on the entire training and testing dataset."
   ]
  },
  {
   "cell_type": "code",
   "execution_count": 30,
   "metadata": {
    "colab": {
     "base_uri": "https://localhost:8080/"
    },
    "executionInfo": {
     "elapsed": 6486,
     "status": "ok",
     "timestamp": 1636902213770,
     "user": {
      "displayName": "D OK",
      "photoUrl": "https://lh3.googleusercontent.com/a/default-user=s64",
      "userId": "10267117973942008095"
     },
     "user_tz": -60
    },
    "id": "AXcRVr7f0Jx-",
    "outputId": "36eb1881-2a9b-466c-f4df-d91c6924ce41"
   },
   "outputs": [
    {
     "name": "stdout",
     "output_type": "stream",
     "text": [
      "LR: 0.000857 (0.000352) 0.000823 0.001613\n",
      "LASSO: 0.000875 (0.000379) 0.000872 0.001505\n",
      "KNN: 0.001049 (0.000338) 0.000520 0.001661\n",
      "MLP: 0.000884 (0.000351) 0.000819 0.001630\n",
      "ABR: 0.000997 (0.000341) 0.000779 0.001761\n",
      "RFR: 0.000906 (0.000332) 0.000101 0.001613\n"
     ]
    }
   ],
   "source": [
    "names = []\n",
    "kfold_results = []\n",
    "test_results = []\n",
    "train_results = []\n",
    "for name, model in models:\n",
    "    names.append(name)\n",
    "    \n",
    "    ## K-Fold analysis:\n",
    "    kfold = KFold(n_splits=num_folds)\n",
    "    #converted mean square error to positive. The lower the beter\n",
    "    cv_results = -1* cross_val_score(model, X_train, Y_train, cv=kfold, scoring=scoring)\n",
    "    kfold_results.append(cv_results)\n",
    "    \n",
    "    # Full Training period\n",
    "    res = model.fit(X_train, Y_train)\n",
    "    train_result = mean_squared_error(res.predict(X_train), Y_train)\n",
    "    train_results.append(train_result)\n",
    "    \n",
    "    # Test results\n",
    "    test_result = mean_squared_error(res.predict(X_test), Y_test)\n",
    "    test_results.append(test_result)\n",
    "    \n",
    "    msg = \"%s: %f (%f) %f %f\" % (name, cv_results.mean(), cv_results.std(), train_result, test_result)\n",
    "    print(msg)"
   ]
  },
  {
   "cell_type": "markdown",
   "metadata": {
    "id": "WG4BtwZX0Jx-"
   },
   "source": [
    "### K Fold results"
   ]
  },
  {
   "cell_type": "markdown",
   "metadata": {
    "id": "nlvg-9-40Jx-"
   },
   "source": [
    "We being by looking at the K Fold results"
   ]
  },
  {
   "cell_type": "code",
   "execution_count": 31,
   "metadata": {
    "colab": {
     "base_uri": "https://localhost:8080/",
     "height": 540
    },
    "executionInfo": {
     "elapsed": 558,
     "status": "ok",
     "timestamp": 1636902216070,
     "user": {
      "displayName": "D OK",
      "photoUrl": "https://lh3.googleusercontent.com/a/default-user=s64",
      "userId": "10267117973942008095"
     },
     "user_tz": -60
    },
    "id": "i5QrMYBZ0Jx-",
    "outputId": "41c8d190-3b5b-40bf-c9c2-fa4ef3ae7076"
   },
   "outputs": [
    {
     "data": {
      "image/png": "[encoded data removed]",
      "text/plain": [
       "<Figure size 1080x576 with 1 Axes>"
      ]
     },
     "metadata": {
      "needs_background": "light"
     },
     "output_type": "display_data"
    }
   ],
   "source": [
    "fig = pyplot.figure()\n",
    "fig.suptitle('Algorithm Comparison: K-Fold results')\n",
    "ax = fig.add_subplot(111)\n",
    "pyplot.boxplot(kfold_results)\n",
    "ax.set_xticklabels(names)\n",
    "fig.set_size_inches(15,8)\n",
    "pyplot.show()"
   ]
  },
  {
   "cell_type": "markdown",
   "metadata": {
    "id": "vZLsG3Fx0Jx-"
   },
   "source": [
    "We see the linear regression and the regularized regression including the Lasso regression (LASSO) and elastic net (EN) seem to do a good job."
   ]
  },
  {
   "cell_type": "markdown",
   "metadata": {
    "id": "NJjQshzv0Jx-"
   },
   "source": [
    "#### Training and Test error"
   ]
  },
  {
   "cell_type": "code",
   "execution_count": 32,
   "metadata": {
    "colab": {
     "base_uri": "https://localhost:8080/",
     "height": 540
    },
    "executionInfo": {
     "elapsed": 664,
     "status": "ok",
     "timestamp": 1636902231910,
     "user": {
      "displayName": "D OK",
      "photoUrl": "https://lh3.googleusercontent.com/a/default-user=s64",
      "userId": "10267117973942008095"
     },
     "user_tz": -60
    },
    "id": "GGdE23-M0Jx-",
    "outputId": "6a79c1e0-b176-44c8-f1e9-e80450358306"
   },
   "outputs": [
    {
     "data": {
      "image/png": "[encoded data removed]",
      "text/plain": [
       "<Figure size 1080x576 with 1 Axes>"
      ]
     },
     "metadata": {
      "needs_background": "light"
     },
     "output_type": "display_data"
    }
   ],
   "source": [
    "# compare algorithms\n",
    "fig = pyplot.figure()\n",
    "\n",
    "ind = np.arange(len(names))  # the x locations for the groups\n",
    "width = 0.35  # the width of the bars\n",
    "\n",
    "fig.suptitle('Algorithm Comparison')\n",
    "ax = fig.add_subplot(111)\n",
    "pyplot.bar(ind - width/2, train_results,  width=width, label='Train Error')\n",
    "pyplot.bar(ind + width/2, test_results, width=width, label='Test Error')\n",
    "fig.set_size_inches(15,8)\n",
    "pyplot.legend()\n",
    "ax.set_xticks(ind)\n",
    "ax.set_xticklabels(names)\n",
    "pyplot.show()"
   ]
  },
  {
   "cell_type": "markdown",
   "metadata": {
    "id": "1gSQ5bIW0Jx_"
   },
   "source": [
    "Looking at the training and test error, we still see a better performance of the linear models. Some of the algorithms, such as the decision tree regressor (CART) overfit on\n",
    "the training data and produced very high error on the test set and these models\n",
    "should be avoided. Ensemble models, such as gradient boosting regression (GBR) and\n",
    "random forest regression (RFR) have low bias but high variance. "
   ]
  },
  {
   "cell_type": "markdown",
   "metadata": {
    "id": "JTjnbbg80JyA"
   },
   "source": [
    "Looking at the chart above, we supervised-regression models such as Linear Regression (LR) and Lasso Regression (LASSO) did OK. "
   ]
  },
  {
   "cell_type": "markdown",
   "metadata": {},
   "source": [
    "# COURSEWORK HERE \n",
    "Compare these Models with Tensor Flow Multilayer Neural Networks"
   ]
  },
  {
   "cell_type": "code",
   "execution_count": null,
   "metadata": {},
   "outputs": [],
   "source": []
  }
 ],
 "metadata": {
  "colab": {
   "collapsed_sections": [
    "Isk644Vi0Jx8"
   ],
   "name": "DOK_StockPricePrediction.ipynb",
   "provenance": []
  },
  "kernelspec": {
   "display_name": "Python 3 (ipykernel)",
   "language": "python",
   "name": "python3"
  },
  "language_info": {
   "codemirror_mode": {
    "name": "ipython",
    "version": 3
   },
   "file_extension": ".py",
   "mimetype": "text/x-python",
   "name": "python",
   "nbconvert_exporter": "python",
   "pygments_lexer": "ipython3",
   "version": "3.9.7"
  }
 },
 "nbformat": 4,
 "nbformat_minor": 1
}
