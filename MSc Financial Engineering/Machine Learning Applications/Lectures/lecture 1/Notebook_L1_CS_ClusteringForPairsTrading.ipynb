{
 "cells": [
  {
   "cell_type": "markdown",
   "metadata": {
    "_cell_guid": "83708667-4fdc-1563-7b3a-06b6575d2865"
   },
   "source": [
    "# Pairs Trading- finding pairs based on Clustering\n",
    "\n",
    "In this case study, we will use clustering methods to select pairs for a pairs trading\n",
    "strategy."
   ]
  },
  {
   "cell_type": "markdown",
   "metadata": {},
   "source": [
    "# 1. Problem Definition"
   ]
  },
  {
   "cell_type": "markdown",
   "metadata": {},
   "source": [
    "Our goal in this case study is to perform clustering analysis on the stocks of S&P500\n",
    "and come up with pairs for a pairs trading strategy. The data of the stocks of S&P 500, obtained using pandas_datareader from yahoo finance. It includes price data from 2018 onwards."
   ]
  },
  {
   "cell_type": "markdown",
   "metadata": {},
   "source": [
    "# 2. Getting Started- Loading the data and python packages"
   ]
  },
  {
   "cell_type": "code",
   "execution_count": 1,
   "metadata": {
    "_cell_guid": "5d8fee34-f454-2642-8b06-ed719f0317e1"
   },
   "outputs": [],
   "source": [
    "# Load libraries\n",
    "import numpy as np\n",
    "import pandas as pd\n",
    "import matplotlib.pyplot as plt\n",
    "from pandas import read_csv, set_option\n",
    "from pandas.plotting import scatter_matrix\n",
    "import seaborn as sns\n",
    "from sklearn.preprocessing import StandardScaler\n",
    "import datetime\n",
    "import pandas_datareader as dr\n",
    "\n",
    "from sklearn import cluster, covariance, manifold\n",
    "from sklearn.cluster import KMeans, AgglomerativeClustering\n",
    "from sklearn.cluster import AffinityPropagation, DBSCAN\n",
    "from sklearn.metrics import adjusted_mutual_info_score\n",
    "\n",
    "from scipy.cluster.hierarchy import fcluster\n",
    "from scipy.cluster.hierarchy import dendrogram, linkage, cophenet\n",
    "from scipy.spatial.distance import pdist\n",
    "\n",
    "# Helper Packages and functions\n",
    "import matplotlib.ticker as ticker\n",
    "from itertools import cycle"
   ]
  },
  {
   "cell_type": "markdown",
   "metadata": {},
   "source": [
    "## 2.2. Loading the Data"
   ]
  },
  {
   "cell_type": "code",
   "execution_count": 2,
   "metadata": {},
   "outputs": [],
   "source": [
    "#The data already obtained from yahoo finance is imported.\n",
    "dataset = read_csv('./data/SP500Data.csv',index_col=0)"
   ]
  },
  {
   "cell_type": "code",
   "execution_count": 3,
   "metadata": {},
   "outputs": [],
   "source": [
    "#Diable the warnings\n",
    "import warnings\n",
    "warnings.filterwarnings('ignore')"
   ]
  },
  {
   "cell_type": "markdown",
   "metadata": {
    "_cell_guid": "df6a4523-b385-69ee-c933-592826d81431"
   },
   "source": [
    "<a id='2'></a>\n",
    "# 3. Exploratory Data Analysis"
   ]
  },
  {
   "cell_type": "markdown",
   "metadata": {},
   "source": [
    "<a id='2.1'></a>\n",
    "## 3.1. Descriptive Statistics"
   ]
  },
  {
   "cell_type": "code",
   "execution_count": 4,
   "metadata": {
    "_cell_guid": "52f85dc2-0f91-3c50-400e-ddc38bea966b"
   },
   "outputs": [
    {
     "name": "stdout",
     "output_type": "stream",
     "text": [
      "<class 'pandas.core.frame.DataFrame'>\n",
      "Index: 448 entries, 2018-01-02 to 2019-10-11\n",
      "Columns: 502 entries, ABT to ZTS\n",
      "dtypes: float64(502)\n",
      "memory usage: 1.7+ MB\n"
     ]
    }
   ],
   "source": [
    "# Basic info about number of column and rows \n",
    "dataset.info()"
   ]
  },
  {
   "cell_type": "code",
   "execution_count": 6,
   "metadata": {},
   "outputs": [
    {
     "data": {
      "text/html": [
       "<div>\n",
       "<style scoped>\n",
       "    .dataframe tbody tr th:only-of-type {\n",
       "        vertical-align: middle;\n",
       "    }\n",
       "\n",
       "    .dataframe tbody tr th {\n",
       "        vertical-align: top;\n",
       "    }\n",
       "\n",
       "    .dataframe thead th {\n",
       "        text-align: right;\n",
       "    }\n",
       "</style>\n",
       "<table border=\"1\" class=\"dataframe\">\n",
       "  <thead>\n",
       "    <tr style=\"text-align: right;\">\n",
       "      <th></th>\n",
       "      <th>ABT</th>\n",
       "      <th>ABBV</th>\n",
       "      <th>ABMD</th>\n",
       "      <th>ACN</th>\n",
       "      <th>ATVI</th>\n",
       "      <th>ADBE</th>\n",
       "      <th>AMD</th>\n",
       "      <th>AAP</th>\n",
       "      <th>AES</th>\n",
       "      <th>AMG</th>\n",
       "      <th>...</th>\n",
       "      <th>WLTW</th>\n",
       "      <th>WYNN</th>\n",
       "      <th>XEL</th>\n",
       "      <th>XRX</th>\n",
       "      <th>XLNX</th>\n",
       "      <th>XYL</th>\n",
       "      <th>YUM</th>\n",
       "      <th>ZBH</th>\n",
       "      <th>ZION</th>\n",
       "      <th>ZTS</th>\n",
       "    </tr>\n",
       "  </thead>\n",
       "  <tbody>\n",
       "    <tr>\n",
       "      <th>count</th>\n",
       "      <td>448.0</td>\n",
       "      <td>448.0</td>\n",
       "      <td>448.0</td>\n",
       "      <td>448.0</td>\n",
       "      <td>448.0</td>\n",
       "      <td>448.0</td>\n",
       "      <td>448.0</td>\n",
       "      <td>448.0</td>\n",
       "      <td>448.0</td>\n",
       "      <td>448.0</td>\n",
       "      <td>...</td>\n",
       "      <td>448.0</td>\n",
       "      <td>448.0</td>\n",
       "      <td>448.0</td>\n",
       "      <td>448.0</td>\n",
       "      <td>448.0</td>\n",
       "      <td>448.0</td>\n",
       "      <td>448.0</td>\n",
       "      <td>448.0</td>\n",
       "      <td>448.0</td>\n",
       "      <td>448.0</td>\n",
       "    </tr>\n",
       "    <tr>\n",
       "      <th>mean</th>\n",
       "      <td>70.9</td>\n",
       "      <td>88.1</td>\n",
       "      <td>307.3</td>\n",
       "      <td>167.5</td>\n",
       "      <td>59.6</td>\n",
       "      <td>252.3</td>\n",
       "      <td>21.8</td>\n",
       "      <td>147.5</td>\n",
       "      <td>14.5</td>\n",
       "      <td>128.4</td>\n",
       "      <td>...</td>\n",
       "      <td>165.1</td>\n",
       "      <td>139.5</td>\n",
       "      <td>51.7</td>\n",
       "      <td>29.2</td>\n",
       "      <td>90.8</td>\n",
       "      <td>74.5</td>\n",
       "      <td>93.5</td>\n",
       "      <td>120.4</td>\n",
       "      <td>49.2</td>\n",
       "      <td>94.8</td>\n",
       "    </tr>\n",
       "    <tr>\n",
       "      <th>std</th>\n",
       "      <td>9.0</td>\n",
       "      <td>13.5</td>\n",
       "      <td>72.0</td>\n",
       "      <td>14.6</td>\n",
       "      <td>13.1</td>\n",
       "      <td>29.0</td>\n",
       "      <td>7.4</td>\n",
       "      <td>21.1</td>\n",
       "      <td>2.3</td>\n",
       "      <td>38.6</td>\n",
       "      <td>...</td>\n",
       "      <td>17.4</td>\n",
       "      <td>29.3</td>\n",
       "      <td>6.7</td>\n",
       "      <td>3.5</td>\n",
       "      <td>21.1</td>\n",
       "      <td>4.9</td>\n",
       "      <td>12.0</td>\n",
       "      <td>9.2</td>\n",
       "      <td>4.8</td>\n",
       "      <td>14.4</td>\n",
       "    </tr>\n",
       "    <tr>\n",
       "      <th>min</th>\n",
       "      <td>56.3</td>\n",
       "      <td>63.0</td>\n",
       "      <td>159.3</td>\n",
       "      <td>133.7</td>\n",
       "      <td>40.1</td>\n",
       "      <td>177.7</td>\n",
       "      <td>9.5</td>\n",
       "      <td>103.8</td>\n",
       "      <td>10.1</td>\n",
       "      <td>71.8</td>\n",
       "      <td>...</td>\n",
       "      <td>134.8</td>\n",
       "      <td>92.0</td>\n",
       "      <td>42.1</td>\n",
       "      <td>18.9</td>\n",
       "      <td>62.8</td>\n",
       "      <td>61.4</td>\n",
       "      <td>76.3</td>\n",
       "      <td>97.2</td>\n",
       "      <td>38.5</td>\n",
       "      <td>71.5</td>\n",
       "    </tr>\n",
       "    <tr>\n",
       "      <th>25%</th>\n",
       "      <td>62.6</td>\n",
       "      <td>78.7</td>\n",
       "      <td>260.6</td>\n",
       "      <td>157.3</td>\n",
       "      <td>47.0</td>\n",
       "      <td>235.4</td>\n",
       "      <td>15.1</td>\n",
       "      <td>133.3</td>\n",
       "      <td>12.8</td>\n",
       "      <td>94.1</td>\n",
       "      <td>...</td>\n",
       "      <td>151.7</td>\n",
       "      <td>114.1</td>\n",
       "      <td>45.7</td>\n",
       "      <td>27.1</td>\n",
       "      <td>71.7</td>\n",
       "      <td>70.5</td>\n",
       "      <td>83.5</td>\n",
       "      <td>114.0</td>\n",
       "      <td>45.1</td>\n",
       "      <td>84.6</td>\n",
       "    </tr>\n",
       "    <tr>\n",
       "      <th>50%</th>\n",
       "      <td>70.0</td>\n",
       "      <td>88.5</td>\n",
       "      <td>301.9</td>\n",
       "      <td>162.9</td>\n",
       "      <td>55.3</td>\n",
       "      <td>254.7</td>\n",
       "      <td>21.9</td>\n",
       "      <td>154.9</td>\n",
       "      <td>14.8</td>\n",
       "      <td>113.4</td>\n",
       "      <td>...</td>\n",
       "      <td>158.8</td>\n",
       "      <td>133.0</td>\n",
       "      <td>49.4</td>\n",
       "      <td>29.1</td>\n",
       "      <td>85.2</td>\n",
       "      <td>75.2</td>\n",
       "      <td>89.9</td>\n",
       "      <td>120.6</td>\n",
       "      <td>49.2</td>\n",
       "      <td>90.1</td>\n",
       "    </tr>\n",
       "    <tr>\n",
       "      <th>75%</th>\n",
       "      <td>78.6</td>\n",
       "      <td>96.7</td>\n",
       "      <td>368.1</td>\n",
       "      <td>178.3</td>\n",
       "      <td>71.6</td>\n",
       "      <td>273.0</td>\n",
       "      <td>28.4</td>\n",
       "      <td>163.6</td>\n",
       "      <td>16.4</td>\n",
       "      <td>158.9</td>\n",
       "      <td>...</td>\n",
       "      <td>178.1</td>\n",
       "      <td>164.9</td>\n",
       "      <td>56.7</td>\n",
       "      <td>31.5</td>\n",
       "      <td>109.4</td>\n",
       "      <td>78.4</td>\n",
       "      <td>101.5</td>\n",
       "      <td>125.9</td>\n",
       "      <td>53.2</td>\n",
       "      <td>102.0</td>\n",
       "    </tr>\n",
       "    <tr>\n",
       "      <th>max</th>\n",
       "      <td>88.7</td>\n",
       "      <td>123.2</td>\n",
       "      <td>449.8</td>\n",
       "      <td>201.1</td>\n",
       "      <td>83.4</td>\n",
       "      <td>311.3</td>\n",
       "      <td>34.4</td>\n",
       "      <td>184.7</td>\n",
       "      <td>18.4</td>\n",
       "      <td>215.8</td>\n",
       "      <td>...</td>\n",
       "      <td>199.4</td>\n",
       "      <td>201.5</td>\n",
       "      <td>65.8</td>\n",
       "      <td>36.5</td>\n",
       "      <td>139.7</td>\n",
       "      <td>84.4</td>\n",
       "      <td>119.2</td>\n",
       "      <td>142.6</td>\n",
       "      <td>58.5</td>\n",
       "      <td>128.5</td>\n",
       "    </tr>\n",
       "  </tbody>\n",
       "</table>\n",
       "<p>8 rows × 502 columns</p>\n",
       "</div>"
      ],
      "text/plain": [
       "         ABT   ABBV   ABMD    ACN   ATVI   ADBE    AMD    AAP    AES    AMG  \\\n",
       "count  448.0  448.0  448.0  448.0  448.0  448.0  448.0  448.0  448.0  448.0   \n",
       "mean    70.9   88.1  307.3  167.5   59.6  252.3   21.8  147.5   14.5  128.4   \n",
       "std      9.0   13.5   72.0   14.6   13.1   29.0    7.4   21.1    2.3   38.6   \n",
       "min     56.3   63.0  159.3  133.7   40.1  177.7    9.5  103.8   10.1   71.8   \n",
       "25%     62.6   78.7  260.6  157.3   47.0  235.4   15.1  133.3   12.8   94.1   \n",
       "50%     70.0   88.5  301.9  162.9   55.3  254.7   21.9  154.9   14.8  113.4   \n",
       "75%     78.6   96.7  368.1  178.3   71.6  273.0   28.4  163.6   16.4  158.9   \n",
       "max     88.7  123.2  449.8  201.1   83.4  311.3   34.4  184.7   18.4  215.8   \n",
       "\n",
       "       ...   WLTW   WYNN    XEL    XRX   XLNX    XYL    YUM    ZBH   ZION  \\\n",
       "count  ...  448.0  448.0  448.0  448.0  448.0  448.0  448.0  448.0  448.0   \n",
       "mean   ...  165.1  139.5   51.7   29.2   90.8   74.5   93.5  120.4   49.2   \n",
       "std    ...   17.4   29.3    6.7    3.5   21.1    4.9   12.0    9.2    4.8   \n",
       "min    ...  134.8   92.0   42.1   18.9   62.8   61.4   76.3   97.2   38.5   \n",
       "25%    ...  151.7  114.1   45.7   27.1   71.7   70.5   83.5  114.0   45.1   \n",
       "50%    ...  158.8  133.0   49.4   29.1   85.2   75.2   89.9  120.6   49.2   \n",
       "75%    ...  178.1  164.9   56.7   31.5  109.4   78.4  101.5  125.9   53.2   \n",
       "max    ...  199.4  201.5   65.8   36.5  139.7   84.4  119.2  142.6   58.5   \n",
       "\n",
       "         ZTS  \n",
       "count  448.0  \n",
       "mean    94.8  \n",
       "std     14.4  \n",
       "min     71.5  \n",
       "25%     84.6  \n",
       "50%     90.1  \n",
       "75%    102.0  \n",
       "max    128.5  \n",
       "\n",
       "[8 rows x 502 columns]"
      ]
     },
     "execution_count": 6,
     "metadata": {},
     "output_type": "execute_result"
    }
   ],
   "source": [
    "set_option('display.precision', 1)\n",
    "dataset.describe()"
   ]
  },
  {
   "cell_type": "code",
   "execution_count": 7,
   "metadata": {},
   "outputs": [
    {
     "data": {
      "text/html": [
       "<div>\n",
       "<style scoped>\n",
       "    .dataframe tbody tr th:only-of-type {\n",
       "        vertical-align: middle;\n",
       "    }\n",
       "\n",
       "    .dataframe tbody tr th {\n",
       "        vertical-align: top;\n",
       "    }\n",
       "\n",
       "    .dataframe thead th {\n",
       "        text-align: right;\n",
       "    }\n",
       "</style>\n",
       "<table border=\"1\" class=\"dataframe\">\n",
       "  <thead>\n",
       "    <tr style=\"text-align: right;\">\n",
       "      <th></th>\n",
       "      <th>ABT</th>\n",
       "      <th>ABBV</th>\n",
       "      <th>ABMD</th>\n",
       "      <th>ACN</th>\n",
       "      <th>ATVI</th>\n",
       "      <th>ADBE</th>\n",
       "      <th>AMD</th>\n",
       "      <th>AAP</th>\n",
       "      <th>AES</th>\n",
       "      <th>AMG</th>\n",
       "      <th>...</th>\n",
       "      <th>WLTW</th>\n",
       "      <th>WYNN</th>\n",
       "      <th>XEL</th>\n",
       "      <th>XRX</th>\n",
       "      <th>XLNX</th>\n",
       "      <th>XYL</th>\n",
       "      <th>YUM</th>\n",
       "      <th>ZBH</th>\n",
       "      <th>ZION</th>\n",
       "      <th>ZTS</th>\n",
       "    </tr>\n",
       "    <tr>\n",
       "      <th>Date</th>\n",
       "      <th></th>\n",
       "      <th></th>\n",
       "      <th></th>\n",
       "      <th></th>\n",
       "      <th></th>\n",
       "      <th></th>\n",
       "      <th></th>\n",
       "      <th></th>\n",
       "      <th></th>\n",
       "      <th></th>\n",
       "      <th></th>\n",
       "      <th></th>\n",
       "      <th></th>\n",
       "      <th></th>\n",
       "      <th></th>\n",
       "      <th></th>\n",
       "      <th></th>\n",
       "      <th></th>\n",
       "      <th></th>\n",
       "      <th></th>\n",
       "      <th></th>\n",
       "    </tr>\n",
       "  </thead>\n",
       "  <tbody>\n",
       "    <tr>\n",
       "      <th>2018-01-02</th>\n",
       "      <td>58.8</td>\n",
       "      <td>98.4</td>\n",
       "      <td>192.5</td>\n",
       "      <td>153.8</td>\n",
       "      <td>64.3</td>\n",
       "      <td>177.7</td>\n",
       "      <td>11.0</td>\n",
       "      <td>106.1</td>\n",
       "      <td>10.9</td>\n",
       "      <td>203.0</td>\n",
       "      <td>...</td>\n",
       "      <td>147.0</td>\n",
       "      <td>164.3</td>\n",
       "      <td>47.8</td>\n",
       "      <td>29.4</td>\n",
       "      <td>67.9</td>\n",
       "      <td>68.1</td>\n",
       "      <td>81.6</td>\n",
       "      <td>124.1</td>\n",
       "      <td>50.7</td>\n",
       "      <td>71.8</td>\n",
       "    </tr>\n",
       "    <tr>\n",
       "      <th>2018-01-03</th>\n",
       "      <td>58.9</td>\n",
       "      <td>99.9</td>\n",
       "      <td>195.8</td>\n",
       "      <td>154.6</td>\n",
       "      <td>65.3</td>\n",
       "      <td>181.0</td>\n",
       "      <td>11.6</td>\n",
       "      <td>107.1</td>\n",
       "      <td>10.9</td>\n",
       "      <td>202.1</td>\n",
       "      <td>...</td>\n",
       "      <td>149.7</td>\n",
       "      <td>162.5</td>\n",
       "      <td>47.5</td>\n",
       "      <td>29.3</td>\n",
       "      <td>69.2</td>\n",
       "      <td>68.9</td>\n",
       "      <td>81.5</td>\n",
       "      <td>124.9</td>\n",
       "      <td>50.6</td>\n",
       "      <td>72.1</td>\n",
       "    </tr>\n",
       "    <tr>\n",
       "      <th>2018-01-04</th>\n",
       "      <td>58.8</td>\n",
       "      <td>99.4</td>\n",
       "      <td>199.2</td>\n",
       "      <td>156.4</td>\n",
       "      <td>64.7</td>\n",
       "      <td>183.2</td>\n",
       "      <td>12.1</td>\n",
       "      <td>111.0</td>\n",
       "      <td>10.8</td>\n",
       "      <td>198.5</td>\n",
       "      <td>...</td>\n",
       "      <td>151.3</td>\n",
       "      <td>163.4</td>\n",
       "      <td>47.1</td>\n",
       "      <td>29.7</td>\n",
       "      <td>70.5</td>\n",
       "      <td>69.4</td>\n",
       "      <td>82.4</td>\n",
       "      <td>124.7</td>\n",
       "      <td>50.8</td>\n",
       "      <td>72.5</td>\n",
       "    </tr>\n",
       "    <tr>\n",
       "      <th>2018-01-05</th>\n",
       "      <td>59.0</td>\n",
       "      <td>101.1</td>\n",
       "      <td>202.3</td>\n",
       "      <td>157.7</td>\n",
       "      <td>66.4</td>\n",
       "      <td>185.3</td>\n",
       "      <td>11.9</td>\n",
       "      <td>112.2</td>\n",
       "      <td>10.9</td>\n",
       "      <td>199.5</td>\n",
       "      <td>...</td>\n",
       "      <td>152.2</td>\n",
       "      <td>164.5</td>\n",
       "      <td>46.8</td>\n",
       "      <td>29.9</td>\n",
       "      <td>74.2</td>\n",
       "      <td>69.2</td>\n",
       "      <td>82.8</td>\n",
       "      <td>126.0</td>\n",
       "      <td>50.9</td>\n",
       "      <td>73.4</td>\n",
       "    </tr>\n",
       "    <tr>\n",
       "      <th>2018-01-08</th>\n",
       "      <td>58.8</td>\n",
       "      <td>99.5</td>\n",
       "      <td>207.8</td>\n",
       "      <td>158.9</td>\n",
       "      <td>66.6</td>\n",
       "      <td>185.0</td>\n",
       "      <td>12.3</td>\n",
       "      <td>111.4</td>\n",
       "      <td>10.9</td>\n",
       "      <td>200.5</td>\n",
       "      <td>...</td>\n",
       "      <td>151.4</td>\n",
       "      <td>162.3</td>\n",
       "      <td>47.1</td>\n",
       "      <td>30.3</td>\n",
       "      <td>74.6</td>\n",
       "      <td>69.5</td>\n",
       "      <td>83.0</td>\n",
       "      <td>126.2</td>\n",
       "      <td>50.6</td>\n",
       "      <td>74.2</td>\n",
       "    </tr>\n",
       "  </tbody>\n",
       "</table>\n",
       "<p>5 rows × 502 columns</p>\n",
       "</div>"
      ],
      "text/plain": [
       "             ABT   ABBV   ABMD    ACN  ATVI   ADBE   AMD    AAP   AES    AMG  \\\n",
       "Date                                                                           \n",
       "2018-01-02  58.8   98.4  192.5  153.8  64.3  177.7  11.0  106.1  10.9  203.0   \n",
       "2018-01-03  58.9   99.9  195.8  154.6  65.3  181.0  11.6  107.1  10.9  202.1   \n",
       "2018-01-04  58.8   99.4  199.2  156.4  64.7  183.2  12.1  111.0  10.8  198.5   \n",
       "2018-01-05  59.0  101.1  202.3  157.7  66.4  185.3  11.9  112.2  10.9  199.5   \n",
       "2018-01-08  58.8   99.5  207.8  158.9  66.6  185.0  12.3  111.4  10.9  200.5   \n",
       "\n",
       "            ...   WLTW   WYNN   XEL   XRX  XLNX   XYL   YUM    ZBH  ZION   ZTS  \n",
       "Date        ...                                                                 \n",
       "2018-01-02  ...  147.0  164.3  47.8  29.4  67.9  68.1  81.6  124.1  50.7  71.8  \n",
       "2018-01-03  ...  149.7  162.5  47.5  29.3  69.2  68.9  81.5  124.9  50.6  72.1  \n",
       "2018-01-04  ...  151.3  163.4  47.1  29.7  70.5  69.4  82.4  124.7  50.8  72.5  \n",
       "2018-01-05  ...  152.2  164.5  46.8  29.9  74.2  69.2  82.8  126.0  50.9  73.4  \n",
       "2018-01-08  ...  151.4  162.3  47.1  30.3  74.6  69.5  83.0  126.2  50.6  74.2  \n",
       "\n",
       "[5 rows x 502 columns]"
      ]
     },
     "execution_count": 7,
     "metadata": {},
     "output_type": "execute_result"
    }
   ],
   "source": [
    "# look at data\n",
    "dataset.head(5)"
   ]
  },
  {
   "cell_type": "code",
   "execution_count": 8,
   "metadata": {},
   "outputs": [
    {
     "data": {
      "text/plain": [
       "Index(['ABT', 'ABBV', 'ABMD', 'ACN', 'ATVI', 'ADBE', 'AMD', 'AAP', 'AES',\n",
       "       'AMG',\n",
       "       ...\n",
       "       'WLTW', 'WYNN', 'XEL', 'XRX', 'XLNX', 'XYL', 'YUM', 'ZBH', 'ZION',\n",
       "       'ZTS'],\n",
       "      dtype='object', length=502)"
      ]
     },
     "execution_count": 8,
     "metadata": {},
     "output_type": "execute_result"
    }
   ],
   "source": [
    "dataset.columns"
   ]
  },
  {
   "cell_type": "markdown",
   "metadata": {},
   "source": [
    "<a id='2.2'></a>\n",
    "## 3.2. Data Visualization"
   ]
  },
  {
   "cell_type": "markdown",
   "metadata": {},
   "source": [
    "We will take a detailed look into the visualization post clustering. To be honest, it's hard to visualise 498 stocks.\n",
    "\n",
    "<a id='3'></a>\n",
    "## 4. Data Preparation"
   ]
  },
  {
   "cell_type": "markdown",
   "metadata": {},
   "source": [
    "<a id='3.1'></a>\n",
    "## 4.1. Data Cleaning\n",
    "We check for the NAs in the rows, either drop them or fill them with the mean of the column."
   ]
  },
  {
   "cell_type": "code",
   "execution_count": 9,
   "metadata": {},
   "outputs": [
    {
     "name": "stdout",
     "output_type": "stream",
     "text": [
      "Null Values = True\n"
     ]
    }
   ],
   "source": [
    "#Checking for any null values and removing the null values'''\n",
    "print('Null Values =',dataset.isnull().values.any())"
   ]
  },
  {
   "cell_type": "markdown",
   "metadata": {},
   "source": [
    "Getting rid of the columns with more than 30% missing values. "
   ]
  },
  {
   "cell_type": "code",
   "execution_count": 10,
   "metadata": {},
   "outputs": [],
   "source": [
    "missing_fractions = dataset.isnull().mean().sort_values(ascending=False)\n",
    "\n",
    "drop_list = sorted(list(missing_fractions[missing_fractions > 0.3].index))\n",
    "\n",
    "dataset.drop(labels=drop_list, axis=1, inplace=True)"
   ]
  },
  {
   "cell_type": "code",
   "execution_count": 11,
   "metadata": {},
   "outputs": [
    {
     "data": {
      "text/plain": [
       "['CTVA', 'DOW', 'FOX', 'FOXA']"
      ]
     },
     "execution_count": 11,
     "metadata": {},
     "output_type": "execute_result"
    }
   ],
   "source": [
    "drop_list"
   ]
  },
  {
   "cell_type": "markdown",
   "metadata": {},
   "source": [
    "Given that there are null values drop the rown containing the null values."
   ]
  },
  {
   "cell_type": "code",
   "execution_count": 12,
   "metadata": {},
   "outputs": [
    {
     "data": {
      "text/html": [
       "<div>\n",
       "<style scoped>\n",
       "    .dataframe tbody tr th:only-of-type {\n",
       "        vertical-align: middle;\n",
       "    }\n",
       "\n",
       "    .dataframe tbody tr th {\n",
       "        vertical-align: top;\n",
       "    }\n",
       "\n",
       "    .dataframe thead th {\n",
       "        text-align: right;\n",
       "    }\n",
       "</style>\n",
       "<table border=\"1\" class=\"dataframe\">\n",
       "  <thead>\n",
       "    <tr style=\"text-align: right;\">\n",
       "      <th></th>\n",
       "      <th>ABT</th>\n",
       "      <th>ABBV</th>\n",
       "      <th>ABMD</th>\n",
       "      <th>ACN</th>\n",
       "      <th>ATVI</th>\n",
       "      <th>ADBE</th>\n",
       "      <th>AMD</th>\n",
       "      <th>AAP</th>\n",
       "      <th>AES</th>\n",
       "      <th>AMG</th>\n",
       "      <th>...</th>\n",
       "      <th>WLTW</th>\n",
       "      <th>WYNN</th>\n",
       "      <th>XEL</th>\n",
       "      <th>XRX</th>\n",
       "      <th>XLNX</th>\n",
       "      <th>XYL</th>\n",
       "      <th>YUM</th>\n",
       "      <th>ZBH</th>\n",
       "      <th>ZION</th>\n",
       "      <th>ZTS</th>\n",
       "    </tr>\n",
       "    <tr>\n",
       "      <th>Date</th>\n",
       "      <th></th>\n",
       "      <th></th>\n",
       "      <th></th>\n",
       "      <th></th>\n",
       "      <th></th>\n",
       "      <th></th>\n",
       "      <th></th>\n",
       "      <th></th>\n",
       "      <th></th>\n",
       "      <th></th>\n",
       "      <th></th>\n",
       "      <th></th>\n",
       "      <th></th>\n",
       "      <th></th>\n",
       "      <th></th>\n",
       "      <th></th>\n",
       "      <th></th>\n",
       "      <th></th>\n",
       "      <th></th>\n",
       "      <th></th>\n",
       "      <th></th>\n",
       "    </tr>\n",
       "  </thead>\n",
       "  <tbody>\n",
       "    <tr>\n",
       "      <th>2018-01-02</th>\n",
       "      <td>58.8</td>\n",
       "      <td>98.4</td>\n",
       "      <td>192.5</td>\n",
       "      <td>153.8</td>\n",
       "      <td>64.3</td>\n",
       "      <td>177.7</td>\n",
       "      <td>11.0</td>\n",
       "      <td>106.1</td>\n",
       "      <td>10.9</td>\n",
       "      <td>203.0</td>\n",
       "      <td>...</td>\n",
       "      <td>147.0</td>\n",
       "      <td>164.3</td>\n",
       "      <td>47.8</td>\n",
       "      <td>29.4</td>\n",
       "      <td>67.9</td>\n",
       "      <td>68.1</td>\n",
       "      <td>81.6</td>\n",
       "      <td>124.1</td>\n",
       "      <td>50.7</td>\n",
       "      <td>71.8</td>\n",
       "    </tr>\n",
       "    <tr>\n",
       "      <th>2018-01-03</th>\n",
       "      <td>58.9</td>\n",
       "      <td>99.9</td>\n",
       "      <td>195.8</td>\n",
       "      <td>154.6</td>\n",
       "      <td>65.3</td>\n",
       "      <td>181.0</td>\n",
       "      <td>11.6</td>\n",
       "      <td>107.1</td>\n",
       "      <td>10.9</td>\n",
       "      <td>202.1</td>\n",
       "      <td>...</td>\n",
       "      <td>149.7</td>\n",
       "      <td>162.5</td>\n",
       "      <td>47.5</td>\n",
       "      <td>29.3</td>\n",
       "      <td>69.2</td>\n",
       "      <td>68.9</td>\n",
       "      <td>81.5</td>\n",
       "      <td>124.9</td>\n",
       "      <td>50.6</td>\n",
       "      <td>72.1</td>\n",
       "    </tr>\n",
       "    <tr>\n",
       "      <th>2018-01-04</th>\n",
       "      <td>58.8</td>\n",
       "      <td>99.4</td>\n",
       "      <td>199.2</td>\n",
       "      <td>156.4</td>\n",
       "      <td>64.7</td>\n",
       "      <td>183.2</td>\n",
       "      <td>12.1</td>\n",
       "      <td>111.0</td>\n",
       "      <td>10.8</td>\n",
       "      <td>198.5</td>\n",
       "      <td>...</td>\n",
       "      <td>151.3</td>\n",
       "      <td>163.4</td>\n",
       "      <td>47.1</td>\n",
       "      <td>29.7</td>\n",
       "      <td>70.5</td>\n",
       "      <td>69.4</td>\n",
       "      <td>82.4</td>\n",
       "      <td>124.7</td>\n",
       "      <td>50.8</td>\n",
       "      <td>72.5</td>\n",
       "    </tr>\n",
       "    <tr>\n",
       "      <th>2018-01-05</th>\n",
       "      <td>59.0</td>\n",
       "      <td>101.1</td>\n",
       "      <td>202.3</td>\n",
       "      <td>157.7</td>\n",
       "      <td>66.4</td>\n",
       "      <td>185.3</td>\n",
       "      <td>11.9</td>\n",
       "      <td>112.2</td>\n",
       "      <td>10.9</td>\n",
       "      <td>199.5</td>\n",
       "      <td>...</td>\n",
       "      <td>152.2</td>\n",
       "      <td>164.5</td>\n",
       "      <td>46.8</td>\n",
       "      <td>29.9</td>\n",
       "      <td>74.2</td>\n",
       "      <td>69.2</td>\n",
       "      <td>82.8</td>\n",
       "      <td>126.0</td>\n",
       "      <td>50.9</td>\n",
       "      <td>73.4</td>\n",
       "    </tr>\n",
       "    <tr>\n",
       "      <th>2018-01-08</th>\n",
       "      <td>58.8</td>\n",
       "      <td>99.5</td>\n",
       "      <td>207.8</td>\n",
       "      <td>158.9</td>\n",
       "      <td>66.6</td>\n",
       "      <td>185.0</td>\n",
       "      <td>12.3</td>\n",
       "      <td>111.4</td>\n",
       "      <td>10.9</td>\n",
       "      <td>200.5</td>\n",
       "      <td>...</td>\n",
       "      <td>151.4</td>\n",
       "      <td>162.3</td>\n",
       "      <td>47.1</td>\n",
       "      <td>30.3</td>\n",
       "      <td>74.6</td>\n",
       "      <td>69.5</td>\n",
       "      <td>83.0</td>\n",
       "      <td>126.2</td>\n",
       "      <td>50.6</td>\n",
       "      <td>74.2</td>\n",
       "    </tr>\n",
       "  </tbody>\n",
       "</table>\n",
       "<p>5 rows × 498 columns</p>\n",
       "</div>"
      ],
      "text/plain": [
       "             ABT   ABBV   ABMD    ACN  ATVI   ADBE   AMD    AAP   AES    AMG  \\\n",
       "Date                                                                           \n",
       "2018-01-02  58.8   98.4  192.5  153.8  64.3  177.7  11.0  106.1  10.9  203.0   \n",
       "2018-01-03  58.9   99.9  195.8  154.6  65.3  181.0  11.6  107.1  10.9  202.1   \n",
       "2018-01-04  58.8   99.4  199.2  156.4  64.7  183.2  12.1  111.0  10.8  198.5   \n",
       "2018-01-05  59.0  101.1  202.3  157.7  66.4  185.3  11.9  112.2  10.9  199.5   \n",
       "2018-01-08  58.8   99.5  207.8  158.9  66.6  185.0  12.3  111.4  10.9  200.5   \n",
       "\n",
       "            ...   WLTW   WYNN   XEL   XRX  XLNX   XYL   YUM    ZBH  ZION   ZTS  \n",
       "Date        ...                                                                 \n",
       "2018-01-02  ...  147.0  164.3  47.8  29.4  67.9  68.1  81.6  124.1  50.7  71.8  \n",
       "2018-01-03  ...  149.7  162.5  47.5  29.3  69.2  68.9  81.5  124.9  50.6  72.1  \n",
       "2018-01-04  ...  151.3  163.4  47.1  29.7  70.5  69.4  82.4  124.7  50.8  72.5  \n",
       "2018-01-05  ...  152.2  164.5  46.8  29.9  74.2  69.2  82.8  126.0  50.9  73.4  \n",
       "2018-01-08  ...  151.4  162.3  47.1  30.3  74.6  69.5  83.0  126.2  50.6  74.2  \n",
       "\n",
       "[5 rows x 498 columns]"
      ]
     },
     "execution_count": 12,
     "metadata": {},
     "output_type": "execute_result"
    }
   ],
   "source": [
    "# Fill the missing values with the last value available in the dataset. \n",
    "dataset=dataset.fillna(method='ffill')\n",
    "dataset.head()"
   ]
  },
  {
   "cell_type": "markdown",
   "metadata": {},
   "source": [
    "<a id='3.2'></a>\n",
    "## 4.2. Data Transformation"
   ]
  },
  {
   "cell_type": "markdown",
   "metadata": {},
   "source": [
    "For the purpose of clustering, we will be using annual\n",
    "returns and variance as the variables as they are the indicators of the stock performance and its volatility. Let us prepare the return and volatility variables from the\n",
    "data."
   ]
  },
  {
   "cell_type": "code",
   "execution_count": 13,
   "metadata": {},
   "outputs": [],
   "source": [
    "# Calculate average annual percentage return and volatilities \n",
    "# over a theoretical one year period\n",
    "\n",
    "returns = dataset.pct_change().mean() * 252\n",
    "returns = pd.DataFrame(returns)\n",
    "returns.columns = ['Returns']\n",
    "returns['Volatility'] = dataset.pct_change().std() * np.sqrt(252)\n",
    "data=returns\n",
    "\n",
    "# format the data as a numpy array to feed into the K-Means algorithm\n",
    "# data = np.asarray([np.asarray(returns['Returns']),np.asarray(returns['Volatility'])]).T"
   ]
  },
  {
   "cell_type": "markdown",
   "metadata": {},
   "source": [
    "All the variables should be on the same scale before applying clustering, otherwise a feature with large values will dominate the result. We use StandardScaler in sklearn to standardize the dataset’s features onto unit scale (mean = 0 and variance = 1)."
   ]
  },
  {
   "cell_type": "code",
   "execution_count": 14,
   "metadata": {},
   "outputs": [
    {
     "data": {
      "text/html": [
       "<div>\n",
       "<style scoped>\n",
       "    .dataframe tbody tr th:only-of-type {\n",
       "        vertical-align: middle;\n",
       "    }\n",
       "\n",
       "    .dataframe tbody tr th {\n",
       "        vertical-align: top;\n",
       "    }\n",
       "\n",
       "    .dataframe thead th {\n",
       "        text-align: right;\n",
       "    }\n",
       "</style>\n",
       "<table border=\"1\" class=\"dataframe\">\n",
       "  <thead>\n",
       "    <tr style=\"text-align: right;\">\n",
       "      <th></th>\n",
       "      <th>Returns</th>\n",
       "      <th>Volatility</th>\n",
       "    </tr>\n",
       "  </thead>\n",
       "  <tbody>\n",
       "    <tr>\n",
       "      <th>ABT</th>\n",
       "      <td>0.8</td>\n",
       "      <td>-0.7</td>\n",
       "    </tr>\n",
       "    <tr>\n",
       "      <th>ABBV</th>\n",
       "      <td>-0.9</td>\n",
       "      <td>0.8</td>\n",
       "    </tr>\n",
       "  </tbody>\n",
       "</table>\n",
       "</div>"
      ],
      "text/plain": [
       "      Returns  Volatility\n",
       "ABT       0.8        -0.7\n",
       "ABBV     -0.9         0.8"
      ]
     },
     "execution_count": 14,
     "metadata": {},
     "output_type": "execute_result"
    }
   ],
   "source": [
    "from sklearn.preprocessing import StandardScaler\n",
    "scaler = StandardScaler().fit(data)\n",
    "rescaledDataset = pd.DataFrame(scaler.fit_transform(data),columns = data.columns, index = data.index)\n",
    "# summarize transformed data\n",
    "rescaledDataset.head(2)\n",
    "X=rescaledDataset\n",
    "X.head(2)"
   ]
  },
  {
   "cell_type": "markdown",
   "metadata": {},
   "source": [
    "The parameters to clusters are the indices and the variables used in the clustering are the columns. Hence the data is in the right format to be fed to the clustering algorithms"
   ]
  },
  {
   "cell_type": "markdown",
   "metadata": {},
   "source": [
    "<a id='4'></a>\n",
    "# 5. Evaluate Algorithms and Models"
   ]
  },
  {
   "cell_type": "markdown",
   "metadata": {},
   "source": [
    "We will look at the following models:\n",
    "\n",
    "1. KMeans\n",
    "2. Hierarchical Clustering (Agglomerative Clustering)\n",
    "3. Affinity Propagation "
   ]
  },
  {
   "cell_type": "markdown",
   "metadata": {},
   "source": [
    "## 5.1. K-Means Clustering\n"
   ]
  },
  {
   "cell_type": "markdown",
   "metadata": {},
   "source": [
    "<a id='5.1.1'></a>\n",
    "### 5.1.1. Finding optimal number of clusters"
   ]
  },
  {
   "cell_type": "markdown",
   "metadata": {},
   "source": [
    "In this step we look at the following metrices:\n",
    "\n",
    "1. Sum of square errors (SSE) within clusters\n",
    "2. Silhouette score."
   ]
  },
  {
   "cell_type": "code",
   "execution_count": 15,
   "metadata": {},
   "outputs": [
    {
     "data": {
      "image/png": "[encoded data removed]",
      "text/plain": [
       "<Figure size 720x360 with 1 Axes>"
      ]
     },
     "metadata": {
      "needs_background": "light"
     },
     "output_type": "display_data"
    }
   ],
   "source": [
    "distorsions = []\n",
    "max_loop=20\n",
    "for k in range(2, max_loop):\n",
    "    kmeans = KMeans(n_clusters=k)\n",
    "    kmeans.fit(X)\n",
    "    distorsions.append(kmeans.inertia_)\n",
    "fig = plt.figure(figsize=(10, 5))\n",
    "plt.plot(range(2, max_loop), distorsions)\n",
    "plt.xticks([i for i in range(2, max_loop)], rotation=75)\n",
    "plt.xlabel(\"Number of Clusters\")\n",
    "plt.ylabel(\"SSE within Clusters\")\n",
    "plt.grid(True)"
   ]
  },
  {
   "cell_type": "markdown",
   "metadata": {},
   "source": [
    "Inspecting the sum of squared errors chart, it appears the elbow “kink” occurs 5 or 6\n",
    "clusters for this data. Certainly, we can see that as the number of clusters increase pass\n",
    "6, the sum of square of errors within clusters plateaus off."
   ]
  },
  {
   "cell_type": "markdown",
   "metadata": {},
   "source": [
    "#### Silhouette score"
   ]
  },
  {
   "cell_type": "code",
   "execution_count": 16,
   "metadata": {},
   "outputs": [
    {
     "data": {
      "image/png": "[encoded data removed]",
      "text/plain": [
       "<Figure size 720x360 with 1 Axes>"
      ]
     },
     "metadata": {
      "needs_background": "light"
     },
     "output_type": "display_data"
    }
   ],
   "source": [
    "from sklearn import metrics\n",
    "\n",
    "silhouette_score = []\n",
    "for k in range(2, max_loop):\n",
    "        kmeans = KMeans(n_clusters=k,  random_state=10, n_init=10)\n",
    "        kmeans.fit(X)        \n",
    "        silhouette_score.append(metrics.silhouette_score(X, kmeans.labels_, random_state=10))\n",
    "fig = plt.figure(figsize=(10, 5))\n",
    "plt.plot(range(2, max_loop), silhouette_score)\n",
    "plt.xticks([i for i in range(2, max_loop)], rotation=75)\n",
    "plt.xlabel(\"Number of Clusters\")\n",
    "plt.ylabel(\"Silhouette Score\")\n",
    "plt.grid(True)"
   ]
  },
  {
   "cell_type": "markdown",
   "metadata": {},
   "source": [
    "From the silhouette score chart, we can see that there are various parts of the graph\n",
    "where a kink can be seen. Since there is not much a difference in SSE after 6 clusters,\n",
    "we would prefer 6 clusters in the K-means model."
   ]
  },
  {
   "cell_type": "markdown",
   "metadata": {},
   "source": [
    "<a id='5.1.2'></a>\n",
    "### 5.1.2.  Clustering and Visualisation"
   ]
  },
  {
   "cell_type": "markdown",
   "metadata": {},
   "source": [
    "Let us build the k-means model with six clusters and\n",
    "visualize the results."
   ]
  },
  {
   "cell_type": "code",
   "execution_count": 17,
   "metadata": {},
   "outputs": [],
   "source": [
    "nclust=6"
   ]
  },
  {
   "cell_type": "code",
   "execution_count": 18,
   "metadata": {},
   "outputs": [
    {
     "data": {
      "text/plain": [
       "KMeans(n_clusters=6)"
      ]
     },
     "execution_count": 18,
     "metadata": {},
     "output_type": "execute_result"
    }
   ],
   "source": [
    "#Fit with k-means\n",
    "k_means = cluster.KMeans(n_clusters=nclust, algorithm='auto', copy_x=True, \n",
    "                         init='k-means++', max_iter=300, n_init=10, \n",
    "                         random_state=None, tol=0.0001, verbose=0)\n",
    "k_means.fit(X)"
   ]
  },
  {
   "cell_type": "code",
   "execution_count": 19,
   "metadata": {},
   "outputs": [],
   "source": [
    "#Extracting labels \n",
    "target_labels = k_means.predict(X)"
   ]
  },
  {
   "cell_type": "markdown",
   "metadata": {},
   "source": [
    "Visualizing how your clusters are formed is no easy task when the number of variables/dimensions in your dataset is very large. One of the methods of visualising a cluster in two-dimensional space."
   ]
  },
  {
   "cell_type": "code",
   "execution_count": 20,
   "metadata": {},
   "outputs": [
    {
     "data": {
      "image/png": "[encoded data removed]",
      "text/plain": [
       "<Figure size 864x576 with 2 Axes>"
      ]
     },
     "metadata": {
      "needs_background": "light"
     },
     "output_type": "display_data"
    }
   ],
   "source": [
    "centroids = k_means.cluster_centers_\n",
    "fig = plt.figure(figsize=(12,8))\n",
    "ax = fig.add_subplot(111)\n",
    "scatter = ax.scatter(X.iloc[:,0],X.iloc[:,1], c = k_means.labels_, cmap =\"rainbow\", label = X.index)\n",
    "ax.set_title('k-Means results')\n",
    "ax.set_xlabel('Mean Return')\n",
    "ax.set_ylabel('Volatility')\n",
    "plt.colorbar(scatter)\n",
    "\n",
    "plt.plot(centroids[:,0],centroids[:,1],'sg',markersize=11);"
   ]
  },
  {
   "cell_type": "markdown",
   "metadata": {},
   "source": [
    "Let us check the elements of the clusters"
   ]
  },
  {
   "cell_type": "code",
   "execution_count": 21,
   "metadata": {},
   "outputs": [
    {
     "data": {
      "image/png": "[encoded data removed]",
      "text/plain": [
       "<Figure size 864x504 with 1 Axes>"
      ]
     },
     "metadata": {
      "needs_background": "light"
     },
     "output_type": "display_data"
    }
   ],
   "source": [
    "# show number of stocks in each cluster\n",
    "clustered_series = pd.Series(index=X.index, data=k_means.labels_.flatten())\n",
    "# clustered stock with its cluster label\n",
    "clustered_series_all = pd.Series(index=X.index, data=k_means.labels_.flatten())\n",
    "clustered_series = clustered_series[clustered_series != -1]\n",
    "\n",
    "plt.figure(figsize=(12,7))\n",
    "plt.barh(\n",
    "    range(len(clustered_series.value_counts())), # cluster labels, y axis\n",
    "    clustered_series.value_counts()\n",
    ")\n",
    "plt.title('Cluster Member Counts')\n",
    "plt.xlabel('Stocks in Cluster')\n",
    "plt.ylabel('Cluster Number')\n",
    "plt.show()"
   ]
  },
  {
   "cell_type": "markdown",
   "metadata": {},
   "source": [
    "The number of stocks in a cluster range from around 40 to 120. Although, the distribution is not equal, we have significant number of stocks in each cluster."
   ]
  },
  {
   "cell_type": "markdown",
   "metadata": {},
   "source": [
    "<a id='5.2'></a>\n",
    "## 5.2. Hierarchical Clustering (Agglomerative Clustering)"
   ]
  },
  {
   "cell_type": "markdown",
   "metadata": {},
   "source": [
    "In the first step we look at the hierarchy graph and check for the number of clusters"
   ]
  },
  {
   "cell_type": "markdown",
   "metadata": {},
   "source": [
    "<a id='5.2.1'></a>\n",
    "### 5.2.1. Building Hierarchy Graph/ Dendogram"
   ]
  },
  {
   "cell_type": "markdown",
   "metadata": {},
   "source": [
    "The hierarchy class has a dendrogram method which takes the value returned by the linkage method of the same class. The linkage method takes the dataset and the method to minimize distances as parameters. We use 'ward' as the method since it minimizes then variants of distances between the clusters."
   ]
  },
  {
   "cell_type": "code",
   "execution_count": 22,
   "metadata": {},
   "outputs": [
    {
     "data": {
      "text/plain": [
       "array([3.30000000e+01, 3.14000000e+02, 3.62580431e-03, 2.00000000e+00])"
      ]
     },
     "execution_count": 22,
     "metadata": {},
     "output_type": "execute_result"
    }
   ],
   "source": [
    "from scipy.cluster.hierarchy import dendrogram, linkage, ward\n",
    "# Calculate linkage\n",
    "Z= linkage(X, method='ward')\n",
    "Z[0]"
   ]
  },
  {
   "cell_type": "markdown",
   "metadata": {},
   "source": [
    "The best way to visualize an agglomerate clustering algorithm is through a dendogram, which displays a cluster tree, the leaves being the individual stocks and the root being the final single cluster. The \"distance\" between each cluster is shown on the y-axis, and thus the longer the branches are, the less correlated two clusters are."
   ]
  },
  {
   "cell_type": "code",
   "execution_count": 23,
   "metadata": {},
   "outputs": [
    {
     "data": {
      "image/png": "[encoded data removed]",
      "text/plain": [
       "<Figure size 720x504 with 1 Axes>"
      ]
     },
     "metadata": {
      "needs_background": "light"
     },
     "output_type": "display_data"
    }
   ],
   "source": [
    "#Plot Dendrogram\n",
    "plt.figure(figsize=(10, 7))\n",
    "plt.title(\"Stocks Dendrograms\")\n",
    "dendrogram(Z,labels = X.index)\n",
    "plt.show()"
   ]
  },
  {
   "cell_type": "markdown",
   "metadata": {},
   "source": [
    "Once one big cluster is formed, the longest vertical distance without any horizontal line passing through it is selected and a horizontal line is drawn through it. The number of vertical lines this newly created horizontal line passes is equal to number of clusters.\n",
    "Then we select the distance threshold to cut the dendrogram to obtain the selected clustering level. The output is the cluster labelled for each row of data. As expected from the dendrogram, a cut at 13 gives us four clusters."
   ]
  },
  {
   "cell_type": "code",
   "execution_count": 24,
   "metadata": {},
   "outputs": [
    {
     "data": {
      "text/plain": [
       "array([1, 4, 3, 2])"
      ]
     },
     "execution_count": 24,
     "metadata": {},
     "output_type": "execute_result"
    }
   ],
   "source": [
    "distance_threshold = 13\n",
    "clusters = fcluster(Z, distance_threshold, criterion='distance')\n",
    "chosen_clusters = pd.DataFrame(data=clusters, columns=['cluster'])\n",
    "chosen_clusters['cluster'].unique()"
   ]
  },
  {
   "cell_type": "markdown",
   "metadata": {},
   "source": [
    "<a id='5.2.2'></a>\n",
    "### 5.2.2.  Clustering and Visualisation"
   ]
  },
  {
   "cell_type": "code",
   "execution_count": 25,
   "metadata": {},
   "outputs": [],
   "source": [
    "nclust = 4\n",
    "hc = AgglomerativeClustering(n_clusters=nclust, affinity = 'euclidean', linkage = 'ward')\n",
    "clust_labels1 = hc.fit_predict(X)"
   ]
  },
  {
   "cell_type": "code",
   "execution_count": 26,
   "metadata": {},
   "outputs": [
    {
     "data": {
      "image/png": "[encoded data removed]",
      "text/plain": [
       "<Figure size 864x576 with 2 Axes>"
      ]
     },
     "metadata": {
      "needs_background": "light"
     },
     "output_type": "display_data"
    }
   ],
   "source": [
    "fig = plt.figure(figsize=(12,8))\n",
    "ax = fig.add_subplot(111)\n",
    "scatter = ax.scatter(X.iloc[:,0],X.iloc[:,1], c =clust_labels1, cmap =\"rainbow\")\n",
    "ax.set_title('Hierarchical Clustering')\n",
    "ax.set_xlabel('Mean Return')\n",
    "ax.set_ylabel('Volatility')\n",
    "plt.colorbar(scatter);"
   ]
  },
  {
   "cell_type": "markdown",
   "metadata": {},
   "source": [
    "Similar to the plot of k-means clustering, we see that there are some distinct clusters\n",
    "separated by different colors. "
   ]
  },
  {
   "cell_type": "markdown",
   "metadata": {},
   "source": [
    "<a id='5.4'></a>\n",
    "## 5.4. Cluster Evaluation"
   ]
  },
  {
   "cell_type": "markdown",
   "metadata": {},
   "source": [
    "If the labels are not known, evaluation must be performed using the model itself. The Silhouette Coefficient (sklearn.metrics.silhouette_score) is an example of such an evaluation, where a higher Silhouette Coefficient score relates to a model with better defined clusters. The Silhouette Coefficient is defined for each sample and is composed of two scores:"
   ]
  },
  {
   "cell_type": "code",
   "execution_count": 27,
   "metadata": {},
   "outputs": [
    {
     "name": "stdout",
     "output_type": "stream",
     "text": [
      "km 0.34975288626889356\n",
      "hc 0.34321495156408627\n"
     ]
    }
   ],
   "source": [
    "from sklearn import metrics\n",
    "print(\"km\", metrics.silhouette_score(X, k_means.labels_, metric='euclidean'))\n",
    "print(\"hc\", metrics.silhouette_score(X, hc.fit_predict(X), metric='euclidean'))"
   ]
  },
  {
   "cell_type": "markdown",
   "metadata": {},
   "source": [
    "We now focus on just the k means clustering approach to select the pairs."
   ]
  },
  {
   "cell_type": "markdown",
   "metadata": {},
   "source": [
    "<a id='6'></a>\n",
    "# 6. Pairs Selection"
   ]
  },
  {
   "cell_type": "markdown",
   "metadata": {},
   "source": [
    "We do not do this."
   ]
  },
  {
   "cell_type": "markdown",
   "metadata": {},
   "source": [
    "## Conclusion\n",
    "\n",
    "The clustering techniques do not directly help in stock trend prediction. However,\n",
    "they can be effectively used in portfolio construction for finding the right pairs,\n",
    "which eventually help in risk mitigation and one can achieve superior risk adjusted\n",
    "returns.\n",
    "\n",
    "We showed the approaches to finding the appropriate number of clusters in k-means\n",
    "and built a hierarchy graph in hierarchical clustering. A next step from this case study\n",
    "would be to explore and backtest various long/short trading strategies with pairs of\n",
    "stocks from the groupings of stocks.\n",
    "\n",
    "Clustering can effectively be used for dividing stocks into groups with “similar characteristics” for many other kinds of trading strategies and can help in portfolio construction to ensure we choose a universe of stocks with sufficient diversification\n",
    "between them."
   ]
  },
  {
   "cell_type": "code",
   "execution_count": null,
   "metadata": {},
   "outputs": [],
   "source": []
  }
 ],
 "metadata": {
  "_change_revision": 206,
  "_is_fork": false,
  "kernelspec": {
   "display_name": "Python 3",
   "language": "python",
   "name": "python3"
  },
  "language_info": {
   "codemirror_mode": {
    "name": "ipython",
    "version": 3
   },
   "file_extension": ".py",
   "mimetype": "text/x-python",
   "name": "python",
   "nbconvert_exporter": "python",
   "pygments_lexer": "ipython3",
   "version": "3.10.0"
  }
 },
 "nbformat": 4,
 "nbformat_minor": 4
}
