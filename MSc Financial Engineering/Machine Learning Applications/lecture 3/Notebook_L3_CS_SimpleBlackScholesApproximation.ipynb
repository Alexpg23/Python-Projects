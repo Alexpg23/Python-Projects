{
 "cells": [
  {
   "cell_type": "markdown",
   "metadata": {
    "id": "vqnv-eBizJI7"
   },
   "source": [
    "# Deep Learning Black Scholes\n",
    "The goal of this case study is to perform derivative pricing from a machine learning standpoint and use supervised regression-based model to learn the Black-Scholes option pricing model from simulated data.\n"
   ]
  },
  {
   "cell_type": "markdown",
   "metadata": {
    "id": "4ifiaH7JzJI-"
   },
   "source": [
    "<a id='0'></a>\n",
    "# 1. Problem Definition"
   ]
  },
  {
   "cell_type": "markdown",
   "metadata": {
    "id": "7e0ljoYCzJI-"
   },
   "source": [
    "In the supervised regression framework used for this case study, the derivative pricing\n",
    "problem is defined in the regression framework, where the predicted variable is the\n",
    "pricing of the option, and the predictor variables are the market data that are used as\n",
    "inputs to the Black-Scholes option pricing model"
   ]
  },
  {
   "cell_type": "markdown",
   "metadata": {
    "id": "01mumYSYzJI_"
   },
   "source": [
    "Options have been used in finance as means to hedge risk in a nonlinear manner. They are are also used by speculators in order to take leveraged bets in the financial markets. Historically, people have used the Black Scholes formula."
   ]
  },
  {
   "cell_type": "markdown",
   "metadata": {
    "id": "OV59MMZLzJI_"
   },
   "source": [
    "$$  Se^{-q \\tau}\\Phi(d_1) - e^{-r \\tau} K\\Phi(d_2) \\, $$"
   ]
  },
  {
   "cell_type": "markdown",
   "metadata": {
    "id": "iogr15MBzJJA"
   },
   "source": [
    "With"
   ]
  },
  {
   "cell_type": "markdown",
   "metadata": {
    "id": "I4O49pS8zJJA"
   },
   "source": [
    "$$  d_1 = \\frac{\\ln(S/K) + (r - q + \\sigma^2/2)\\tau}{\\sigma\\sqrt{\\tau}}  $$"
   ]
  },
  {
   "cell_type": "markdown",
   "metadata": {
    "id": "ehj119MDzJJA"
   },
   "source": [
    "and"
   ]
  },
  {
   "cell_type": "markdown",
   "metadata": {
    "id": "zAngvIpLzJJB"
   },
   "source": [
    "$$  d_2 = \\frac{\\ln(S/K) + (r - q - \\sigma^2/2)\\tau}{\\sigma\\sqrt{\\tau}} = d_1 - \\sigma\\sqrt{\\tau}  $$"
   ]
  },
  {
   "cell_type": "markdown",
   "metadata": {
    "id": "MkEEkc6bzJJB"
   },
   "source": [
    "Where we have;\n",
    "    Stock price $S$;\n",
    "    Strike price $K$;\n",
    "    Risk-free rate $r$;\n",
    "    Annual dividend yield $q$;\n",
    "    Time to maturity $\\tau = T-t$ (represented as a unit-less fraction of one year);\n",
    "    Volatility $\\sigma$"
   ]
  },
  {
   "cell_type": "markdown",
   "metadata": {
    "id": "7u2wCMUczJJB"
   },
   "source": [
    "In order to make the logic simpler, we define *Moneyness* as $M = K/S$ and look at the prices in terms of per unit of current stock price. We also set $q$ as $0$ "
   ]
  },
  {
   "cell_type": "markdown",
   "metadata": {
    "id": "9HznMaU1zJJB"
   },
   "source": [
    "This simplifes the formula down to the following"
   ]
  },
  {
   "cell_type": "markdown",
   "metadata": {
    "id": "16m4Og1pzJJB"
   },
   "source": [
    "$$  S e^{-q \\tau}\\Phi\\left( \\frac{- \\ln(M) + (r+ \\sigma^2/2 )\\tau}{\\sigma\\sqrt{\\tau}}\\right) - S e^{-r \\tau} M\\Phi\\left( \\frac{- \\ln(M) + (r - \\sigma^2/2)\\tau}{\\sigma\\sqrt{\\tau}} \\right) \\, $$"
   ]
  },
  {
   "cell_type": "markdown",
   "metadata": {
    "id": "5n-NM6rmzJJD"
   },
   "source": [
    "### Python Imports"
   ]
  },
  {
   "cell_type": "code",
   "execution_count": 12,
   "metadata": {
    "colab": {
     "base_uri": "https://localhost:8080/"
    },
    "executionInfo": {
     "elapsed": 931,
     "status": "ok",
     "timestamp": 1636899340729,
     "user": {
      "displayName": "D OK",
      "photoUrl": "https://lh3.googleusercontent.com/a/default-user=s64",
      "userId": "10267117973942008095"
     },
     "user_tz": -60
    },
    "id": "RfRq2r2UzJJD",
    "outputId": "b426ed01-e899-43cb-9f8b-08ee49c76cc6"
   },
   "outputs": [],
   "source": [
    "# Distribution functions\n",
    "from scipy.stats import norm\n",
    "\n",
    "\n",
    "# Load libraries\n",
    "import numpy as np\n",
    "import pandas as pd\n",
    "import pandas_datareader.data as web\n",
    "import matplotlib.pyplot as plt\n",
    "from pandas.plotting import scatter_matrix\n",
    "import seaborn as sns\n",
    "\n",
    "from sklearn.model_selection import KFold\n",
    "from sklearn.model_selection import cross_val_score\n",
    "from sklearn.model_selection import GridSearchCV\n",
    "\n",
    "# Error Metrics\n",
    "from sklearn.metrics import mean_squared_error\n",
    "\n",
    "# Feature Selection\n",
    "from sklearn.feature_selection import SelectKBest\n",
    "from sklearn.feature_selection import chi2, f_regression\n",
    "\n",
    "#Plotting \n",
    "from pandas.plotting import scatter_matrix"
   ]
  },
  {
   "cell_type": "code",
   "execution_count": 13,
   "metadata": {
    "executionInfo": {
     "elapsed": 265,
     "status": "ok",
     "timestamp": 1636899342528,
     "user": {
      "displayName": "D OK",
      "photoUrl": "https://lh3.googleusercontent.com/a/default-user=s64",
      "userId": "10267117973942008095"
     },
     "user_tz": -60
    },
    "id": "g6_33bcgzJJE"
   },
   "outputs": [],
   "source": [
    "#Diable the warnings\n",
    "import warnings\n",
    "warnings.filterwarnings('ignore')"
   ]
  },
  {
   "cell_type": "markdown",
   "metadata": {
    "id": "gu_Nw9kXzJJE"
   },
   "source": [
    "<a id='1.2'></a>\n",
    "## 2.2. Defining functions and parameters"
   ]
  },
  {
   "cell_type": "markdown",
   "metadata": {
    "id": "_olmQ12uzJJE"
   },
   "source": [
    "### True Parameters"
   ]
  },
  {
   "cell_type": "code",
   "execution_count": 14,
   "metadata": {
    "executionInfo": {
     "elapsed": 4,
     "status": "ok",
     "timestamp": 1636899345033,
     "user": {
      "displayName": "D OK",
      "photoUrl": "https://lh3.googleusercontent.com/a/default-user=s64",
      "userId": "10267117973942008095"
     },
     "user_tz": -60
    },
    "id": "cW5o9kAkzJJE"
   },
   "outputs": [],
   "source": [
    "r = 0.02\n",
    "s0 = 100.0"
   ]
  },
  {
   "cell_type": "markdown",
   "metadata": {
    "id": "wS4Gh2YezJJE"
   },
   "source": [
    "### Vol and Option Pricing Functions"
   ]
  },
  {
   "cell_type": "code",
   "execution_count": 15,
   "metadata": {
    "executionInfo": {
     "elapsed": 4,
     "status": "ok",
     "timestamp": 1636899346029,
     "user": {
      "displayName": "D OK",
      "photoUrl": "https://lh3.googleusercontent.com/a/default-user=s64",
      "userId": "10267117973942008095"
     },
     "user_tz": -60
    },
    "id": "XSB3y1IVzJJE"
   },
   "outputs": [],
   "source": [
    "def call_option_price(s0, M, t, v):\n",
    "    # Black Scholes Equation\n",
    "    d1=(-np.log(M)+(r+np.square(v)/2)*t)/(v*np.sqrt(t))\n",
    "    d2=(-np.log(M)+(r-np.square(v)/2)*t)/(v*np.sqrt(t))\n",
    "    N_d1 = norm.cdf(d1)\n",
    "    N_d2 = norm.cdf(d2)\n",
    "    return s0 * N_d1 - s0 * M * np.exp(-r*t) * N_d2"
   ]
  },
  {
   "cell_type": "code",
   "execution_count": 16,
   "metadata": {},
   "outputs": [],
   "source": [
    "def option_vol(m):\n",
    "    a = 0.35\n",
    "    b = -0.1\n",
    "    c = 0.02\n",
    "    vol = a + b*m + c*m*m\n",
    "    return vol"
   ]
  },
  {
   "cell_type": "code",
   "execution_count": 17,
   "metadata": {},
   "outputs": [
    {
     "data": {
      "image/png": "[encoded data removed]",
      "text/plain": [
       "<Figure size 432x288 with 1 Axes>"
      ]
     },
     "metadata": {
      "needs_background": "light"
     },
     "output_type": "display_data"
    }
   ],
   "source": [
    "moneyness = np.linspace(0.5, 2.0, 100)\n",
    "v = option_vol(moneyness)\n",
    "plt.plot(moneyness, v);\n",
    "plt.xlabel(\"Moneyness (K/S)\")\n",
    "plt.ylabel(\"Volatility\");"
   ]
  },
  {
   "cell_type": "markdown",
   "metadata": {
    "id": "W1SWnRqhzJJE"
   },
   "source": [
    "## Data Generation"
   ]
  },
  {
   "cell_type": "markdown",
   "metadata": {},
   "source": [
    "Generate option prices for a range of K, T, sigma holding r fixed "
   ]
  },
  {
   "cell_type": "code",
   "execution_count": 18,
   "metadata": {
    "executionInfo": {
     "elapsed": 2438,
     "status": "ok",
     "timestamp": 1636899349562,
     "user": {
      "displayName": "D OK",
      "photoUrl": "https://lh3.googleusercontent.com/a/default-user=s64",
      "userId": "10267117973942008095"
     },
     "user_tz": -60
    },
    "id": "pgMWgGEnzJJF"
   },
   "outputs": [],
   "source": [
    "N = 10000\n",
    "\n",
    "Ms = (0.5+1.0*np.random.random(N))\n",
    "Ts = np.random.random(N) * 5.0\n",
    "Vs = option_vol(Ms)\n",
    "Ps = np.array([call_option_price(s0, m, t, v) for m, t, v in zip(Ms,Ts,Vs)])"
   ]
  },
  {
   "cell_type": "markdown",
   "metadata": {
    "id": "clcERYVMzJJF"
   },
   "source": [
    "### Set the Endog and Exog Data"
   ]
  },
  {
   "cell_type": "code",
   "execution_count": 19,
   "metadata": {
    "executionInfo": {
     "elapsed": 7,
     "status": "ok",
     "timestamp": 1636899349562,
     "user": {
      "displayName": "D OK",
      "photoUrl": "https://lh3.googleusercontent.com/a/default-user=s64",
      "userId": "10267117973942008095"
     },
     "user_tz": -60
    },
    "id": "71JZmj3mzJJF"
   },
   "outputs": [],
   "source": [
    "Y = Ps\n",
    "\n",
    "X = np.concatenate([Ms.reshape(-1,1), Ts.reshape(-1,1), Vs.reshape(-1,1)], axis=1)\n",
    "\n",
    "dataset = pd.DataFrame(np.concatenate([Y.reshape(-1,1), X], axis=1),\n",
    "                       columns=['Price', 'Moneyness', 'Time', 'Volatility'])"
   ]
  },
  {
   "cell_type": "code",
   "execution_count": 20,
   "metadata": {
    "colab": {
     "base_uri": "https://localhost:8080/",
     "height": 204
    },
    "executionInfo": {
     "elapsed": 4,
     "status": "ok",
     "timestamp": 1636899349924,
     "user": {
      "displayName": "D OK",
      "photoUrl": "https://lh3.googleusercontent.com/a/default-user=s64",
      "userId": "10267117973942008095"
     },
     "user_tz": -60
    },
    "id": "BFrkpP8wzJJF",
    "outputId": "3c2cc811-fa3c-46fd-d791-b0f9a81791c6"
   },
   "outputs": [
    {
     "data": {
      "text/html": [
       "<div>\n",
       "<style scoped>\n",
       "    .dataframe tbody tr th:only-of-type {\n",
       "        vertical-align: middle;\n",
       "    }\n",
       "\n",
       "    .dataframe tbody tr th {\n",
       "        vertical-align: top;\n",
       "    }\n",
       "\n",
       "    .dataframe thead th {\n",
       "        text-align: right;\n",
       "    }\n",
       "</style>\n",
       "<table border=\"1\" class=\"dataframe\">\n",
       "  <thead>\n",
       "    <tr style=\"text-align: right;\">\n",
       "      <th></th>\n",
       "      <th>Price</th>\n",
       "      <th>Moneyness</th>\n",
       "      <th>Time</th>\n",
       "      <th>Volatility</th>\n",
       "    </tr>\n",
       "  </thead>\n",
       "  <tbody>\n",
       "    <tr>\n",
       "      <th>0</th>\n",
       "      <td>21.345038</td>\n",
       "      <td>0.968253</td>\n",
       "      <td>2.688680</td>\n",
       "      <td>0.271925</td>\n",
       "    </tr>\n",
       "    <tr>\n",
       "      <th>1</th>\n",
       "      <td>21.734835</td>\n",
       "      <td>1.094711</td>\n",
       "      <td>4.393400</td>\n",
       "      <td>0.264497</td>\n",
       "    </tr>\n",
       "    <tr>\n",
       "      <th>2</th>\n",
       "      <td>32.702309</td>\n",
       "      <td>0.878232</td>\n",
       "      <td>4.696395</td>\n",
       "      <td>0.277603</td>\n",
       "    </tr>\n",
       "    <tr>\n",
       "      <th>3</th>\n",
       "      <td>28.061217</td>\n",
       "      <td>0.757014</td>\n",
       "      <td>1.097702</td>\n",
       "      <td>0.285760</td>\n",
       "    </tr>\n",
       "    <tr>\n",
       "      <th>4</th>\n",
       "      <td>0.037796</td>\n",
       "      <td>1.294279</td>\n",
       "      <td>0.180297</td>\n",
       "      <td>0.254075</td>\n",
       "    </tr>\n",
       "  </tbody>\n",
       "</table>\n",
       "</div>"
      ],
      "text/plain": [
       "       Price  Moneyness      Time  Volatility\n",
       "0  21.345038   0.968253  2.688680    0.271925\n",
       "1  21.734835   1.094711  4.393400    0.264497\n",
       "2  32.702309   0.878232  4.696395    0.277603\n",
       "3  28.061217   0.757014  1.097702    0.285760\n",
       "4   0.037796   1.294279  0.180297    0.254075"
      ]
     },
     "execution_count": 20,
     "metadata": {},
     "output_type": "execute_result"
    }
   ],
   "source": [
    "dataset.head()"
   ]
  },
  {
   "cell_type": "markdown",
   "metadata": {
    "id": "WrPHthoTzJJG"
   },
   "source": [
    "<a id='2.2'></a>\n",
    "## 3.2. Data Visualization"
   ]
  },
  {
   "cell_type": "code",
   "execution_count": 21,
   "metadata": {
    "colab": {
     "base_uri": "https://localhost:8080/",
     "height": 707
    },
    "executionInfo": {
     "elapsed": 1523,
     "status": "ok",
     "timestamp": 1636899353404,
     "user": {
      "displayName": "D OK",
      "photoUrl": "https://lh3.googleusercontent.com/a/default-user=s64",
      "userId": "10267117973942008095"
     },
     "user_tz": -60
    },
    "id": "9vB-pC0kzJJG",
    "outputId": "3fb716e2-b0b1-465c-c0a6-a454ca0770b7"
   },
   "outputs": [
    {
     "data": {
      "image/png": "[encoded data removed]",
      "text/plain": [
       "<Figure size 864x648 with 4 Axes>"
      ]
     },
     "metadata": {
      "needs_background": "light"
     },
     "output_type": "display_data"
    }
   ],
   "source": [
    "dataset.hist(bins=50, density=True, sharex=False, sharey=False, xlabelsize=10, ylabelsize=10, figsize=(12,9));"
   ]
  },
  {
   "cell_type": "markdown",
   "metadata": {
    "id": "PFnqwwwszJJG"
   },
   "source": [
    "We can see that the price has an interesting distribution with a spike at $0$ due to all of the OTM options. Strike is Gaussian distributed around 100 and the time is uniformally distributed out to 5 years"
   ]
  },
  {
   "cell_type": "markdown",
   "metadata": {
    "id": "ILP9lvPEzJJG"
   },
   "source": [
    "Next we look at the interaction between different variables"
   ]
  },
  {
   "cell_type": "markdown",
   "metadata": {
    "id": "UyBhE8jYzJJG"
   },
   "source": [
    "## Data Preparation and Analysis"
   ]
  },
  {
   "cell_type": "markdown",
   "metadata": {
    "id": "0TXnGFVszJJG"
   },
   "source": [
    "### Univariate Feature Selection"
   ]
  },
  {
   "cell_type": "markdown",
   "metadata": {
    "id": "WZ0x9PJOzJJG"
   },
   "source": [
    "We use SelectKBest function from sklearn"
   ]
  },
  {
   "cell_type": "code",
   "execution_count": 22,
   "metadata": {
    "colab": {
     "base_uri": "https://localhost:8080/",
     "height": 173
    },
    "executionInfo": {
     "elapsed": 252,
     "status": "ok",
     "timestamp": 1636899368716,
     "user": {
      "displayName": "D OK",
      "photoUrl": "https://lh3.googleusercontent.com/a/default-user=s64",
      "userId": "10267117973942008095"
     },
     "user_tz": -60
    },
    "id": "69Zssuh0zJJG",
    "outputId": "4c88aeb8-666d-4a84-e3eb-9bee38ea2d5f"
   },
   "outputs": [
    {
     "data": {
      "text/html": [
       "<div>\n",
       "<style scoped>\n",
       "    .dataframe tbody tr th:only-of-type {\n",
       "        vertical-align: middle;\n",
       "    }\n",
       "\n",
       "    .dataframe tbody tr th {\n",
       "        vertical-align: top;\n",
       "    }\n",
       "\n",
       "    .dataframe thead th {\n",
       "        text-align: right;\n",
       "    }\n",
       "</style>\n",
       "<table border=\"1\" class=\"dataframe\">\n",
       "  <thead>\n",
       "    <tr style=\"text-align: right;\">\n",
       "      <th></th>\n",
       "      <th>Score</th>\n",
       "    </tr>\n",
       "    <tr>\n",
       "      <th>Specs</th>\n",
       "      <th></th>\n",
       "    </tr>\n",
       "  </thead>\n",
       "  <tbody>\n",
       "    <tr>\n",
       "      <th>Vol</th>\n",
       "      <td>63989.626847</td>\n",
       "    </tr>\n",
       "    <tr>\n",
       "      <th>Strike</th>\n",
       "      <td>50941.742395</td>\n",
       "    </tr>\n",
       "    <tr>\n",
       "      <th>Time</th>\n",
       "      <td>1169.751511</td>\n",
       "    </tr>\n",
       "  </tbody>\n",
       "</table>\n",
       "</div>"
      ],
      "text/plain": [
       "               Score\n",
       "Specs               \n",
       "Vol     63989.626847\n",
       "Strike  50941.742395\n",
       "Time     1169.751511"
      ]
     },
     "execution_count": 22,
     "metadata": {},
     "output_type": "execute_result"
    }
   ],
   "source": [
    "bestfeatures = SelectKBest(k='all', score_func=f_regression)\n",
    "fit = bestfeatures.fit(X,Y)\n",
    "dfscores = pd.DataFrame(fit.scores_)\n",
    "dfcolumns = pd.DataFrame(['Strike', 'Time', 'Vol'])\n",
    "#concat two dataframes for better visualization \n",
    "featureScores = pd.concat([dfcolumns,dfscores],axis=1)\n",
    "featureScores.columns = ['Specs','Score']  #naming the dataframe columns\n",
    "featureScores.nlargest(10,'Score').set_index('Specs')  #print 10 best features"
   ]
  },
  {
   "cell_type": "markdown",
   "metadata": {
    "id": "WcpoDeCLzJJH"
   },
   "source": [
    "<a id='4'></a>\n",
    "# 5. Evaluate Algorithms and Models"
   ]
  },
  {
   "cell_type": "markdown",
   "metadata": {
    "id": "H-7OmH8GzJJH"
   },
   "source": [
    "<a id='4.1'></a>\n",
    "## 5.1. Train Test Split and Evaluation Metrics"
   ]
  },
  {
   "cell_type": "code",
   "execution_count": 23,
   "metadata": {
    "executionInfo": {
     "elapsed": 251,
     "status": "ok",
     "timestamp": 1636899371401,
     "user": {
      "displayName": "D OK",
      "photoUrl": "https://lh3.googleusercontent.com/a/default-user=s64",
      "userId": "10267117973942008095"
     },
     "user_tz": -60
    },
    "id": "qIoFGyM_zJJH"
   },
   "outputs": [],
   "source": [
    "validation_size = 0.2\n",
    "\n",
    "train_size = int(len(X) * (1-validation_size))\n",
    "X_train, X_test = X[0:train_size], X[train_size:len(X)]\n",
    "Y_train, Y_test = Y[0:train_size], Y[train_size:len(X)]"
   ]
  },
  {
   "cell_type": "markdown",
   "metadata": {
    "id": "K284YCK2zJJH"
   },
   "source": [
    "We use the prebuilt scikit models to run a K fold analysis on our training data. We then train the model on the full training data and use it for prediction of the test data. The parameters for the K fold analysis are defined as -"
   ]
  },
  {
   "cell_type": "code",
   "execution_count": 24,
   "metadata": {
    "executionInfo": {
     "elapsed": 2,
     "status": "ok",
     "timestamp": 1636899372648,
     "user": {
      "displayName": "D OK",
      "photoUrl": "https://lh3.googleusercontent.com/a/default-user=s64",
      "userId": "10267117973942008095"
     },
     "user_tz": -60
    },
    "id": "nwcisKDzzJJH"
   },
   "outputs": [],
   "source": [
    "num_folds = 10\n",
    "seed = 7\n",
    "# scikit is moving away from mean_squared_error. \n",
    "# In order to avoid confusion, and to allow comparison with other models, we invert the final scores\n",
    "scoring = 'neg_mean_squared_error' "
   ]
  },
  {
   "cell_type": "markdown",
   "metadata": {
    "id": "Yx965hO-zJJH"
   },
   "source": [
    "## Training an MLP in Scikit Learn"
   ]
  },
  {
   "cell_type": "code",
   "execution_count": 25,
   "metadata": {},
   "outputs": [],
   "source": [
    "from sklearn.neural_network import MLPRegressor"
   ]
  },
  {
   "cell_type": "code",
   "execution_count": 26,
   "metadata": {
    "executionInfo": {
     "elapsed": 268,
     "status": "ok",
     "timestamp": 1636899374373,
     "user": {
      "displayName": "D OK",
      "photoUrl": "https://lh3.googleusercontent.com/a/default-user=s64",
      "userId": "10267117973942008095"
     },
     "user_tz": -60
    },
    "id": "H8HKxcbbzJJH"
   },
   "outputs": [],
   "source": [
    "models = []\n",
    "models.append(('MLP', MLPRegressor()))"
   ]
  },
  {
   "cell_type": "code",
   "execution_count": 27,
   "metadata": {
    "colab": {
     "base_uri": "https://localhost:8080/"
    },
    "executionInfo": {
     "elapsed": 53804,
     "status": "ok",
     "timestamp": 1636899430678,
     "user": {
      "displayName": "D OK",
      "photoUrl": "https://lh3.googleusercontent.com/a/default-user=s64",
      "userId": "10267117973942008095"
     },
     "user_tz": -60
    },
    "id": "LP4k-JZszJJH",
    "outputId": "3e4ef7df-b806-4761-84c3-f1aa75480740"
   },
   "outputs": [
    {
     "name": "stdout",
     "output_type": "stream",
     "text": [
      "MLP: 0.833325 (0.534133) 0.281951 0.275103\n"
     ]
    }
   ],
   "source": [
    "names = []\n",
    "kfold_results = []\n",
    "test_results = []\n",
    "train_results = []\n",
    "\n",
    "for name, model in models:\n",
    "    names.append(name)\n",
    "    \n",
    "    ## K Fold analysis:\n",
    "    \n",
    "    kfold = KFold(n_splits=num_folds)\n",
    "    #converted mean square error to positive. The lower the beter\n",
    "    cv_results = -1* cross_val_score(model, X_train, Y_train, cv=kfold, scoring=scoring)\n",
    "    kfold_results.append(cv_results)\n",
    "    \n",
    "    # Full Training period\n",
    "    res = model.fit(X_train, Y_train)\n",
    "    train_result = mean_squared_error(res.predict(X_train), Y_train)\n",
    "    train_results.append(train_result)\n",
    "    \n",
    "    # Test results\n",
    "    test_result = mean_squared_error(res.predict(X_test), Y_test)\n",
    "    test_results.append(test_result)\n",
    "    \n",
    "    msg = \"%s: %f (%f) %f %f\" % (name, cv_results.mean(), cv_results.std(), train_result, test_result)\n",
    "    print(msg)"
   ]
  },
  {
   "cell_type": "markdown",
   "metadata": {
    "id": "gtetnUoszJJI"
   },
   "source": [
    "We begin by looking at the Kfold analysis"
   ]
  },
  {
   "cell_type": "code",
   "execution_count": 28,
   "metadata": {
    "colab": {
     "base_uri": "https://localhost:8080/",
     "height": 540
    },
    "executionInfo": {
     "elapsed": 413,
     "status": "ok",
     "timestamp": 1636899431085,
     "user": {
      "displayName": "D OK",
      "photoUrl": "https://lh3.googleusercontent.com/a/default-user=s64",
      "userId": "10267117973942008095"
     },
     "user_tz": -60
    },
    "id": "j6IlN9gJzJJI",
    "outputId": "2adefcb5-ce94-4886-a257-6cbc9e9a0588"
   },
   "outputs": [
    {
     "data": {
      "image/png": "[encoded data removed]",
      "text/plain": [
       "<Figure size 1080x576 with 1 Axes>"
      ]
     },
     "metadata": {
      "needs_background": "light"
     },
     "output_type": "display_data"
    }
   ],
   "source": [
    "fig = plt.figure()\n",
    "fig.suptitle('Algorithm Comparison: Kfold results')\n",
    "ax = fig.add_subplot(111)\n",
    "plt.boxplot(kfold_results)\n",
    "ax.set_xticklabels(names)\n",
    "fig.set_size_inches(15,8)\n",
    "plt.show()"
   ]
  },
  {
   "cell_type": "markdown",
   "metadata": {
    "id": "QruBVDQ1zJJI"
   },
   "source": [
    "Let's look out of sample"
   ]
  },
  {
   "cell_type": "code",
   "execution_count": 29,
   "metadata": {
    "colab": {
     "base_uri": "https://localhost:8080/",
     "height": 540
    },
    "executionInfo": {
     "elapsed": 554,
     "status": "ok",
     "timestamp": 1636899431634,
     "user": {
      "displayName": "D OK",
      "photoUrl": "https://lh3.googleusercontent.com/a/default-user=s64",
      "userId": "10267117973942008095"
     },
     "user_tz": -60
    },
    "id": "Prq6P0zszJJI",
    "outputId": "53d769b0-e72d-47f2-ade0-f21c1e02e269"
   },
   "outputs": [
    {
     "data": {
      "image/png": "[encoded data removed]",
      "text/plain": [
       "<Figure size 1080x576 with 1 Axes>"
      ]
     },
     "metadata": {
      "needs_background": "light"
     },
     "output_type": "display_data"
    }
   ],
   "source": [
    "# compare algorithms\n",
    "fig = plt.figure()\n",
    "\n",
    "ind = np.arange(len(names))  # the x locations for the groups\n",
    "width = 0.35  # the width of the bars\n",
    "\n",
    "fig.suptitle('Algorithm Comparison')\n",
    "ax = fig.add_subplot(111)\n",
    "plt.bar(ind - width/2, train_results,  width=width, label='Train Error')\n",
    "plt.bar(ind + width/2, test_results, width=width, label='Test Error')\n",
    "fig.set_size_inches(15,8)\n",
    "plt.legend()\n",
    "ax.set_xticks(ind)\n",
    "ax.set_xticklabels(names)\n",
    "plt.show()"
   ]
  },
  {
   "cell_type": "markdown",
   "metadata": {
    "id": "60jujoRrzJJI"
   },
   "source": [
    "We see that the multilayer perceptron (MLP) algorithm does a lot better that the linear algorithm. Given MLP is one of the best models we perform the grid search for MLP model in the next step.  "
   ]
  },
  {
   "cell_type": "markdown",
   "metadata": {
    "id": "scC-oGvIzJJI"
   },
   "source": [
    "<a id='5'></a>\n",
    "# 6. Finalising the model"
   ]
  },
  {
   "cell_type": "code",
   "execution_count": 30,
   "metadata": {},
   "outputs": [
    {
     "data": {
      "text/plain": [
       "[('MLP', MLPRegressor())]"
      ]
     },
     "execution_count": 30,
     "metadata": {},
     "output_type": "execute_result"
    }
   ],
   "source": [
    "models"
   ]
  },
  {
   "cell_type": "code",
   "execution_count": 31,
   "metadata": {
    "colab": {
     "base_uri": "https://localhost:8080/"
    },
    "executionInfo": {
     "elapsed": 484,
     "status": "ok",
     "timestamp": 1636899448265,
     "user": {
      "displayName": "D OK",
      "photoUrl": "https://lh3.googleusercontent.com/a/default-user=s64",
      "userId": "10267117973942008095"
     },
     "user_tz": -60
    },
    "id": "7ZnXckh3zJJJ",
    "outputId": "b973662b-b90e-40b9-bb45-ef47e822724e"
   },
   "outputs": [],
   "source": [
    "# prepare model\n",
    "name, mlp = models[-1]"
   ]
  },
  {
   "cell_type": "code",
   "execution_count": 32,
   "metadata": {
    "colab": {
     "base_uri": "https://localhost:8080/"
    },
    "executionInfo": {
     "elapsed": 16,
     "status": "ok",
     "timestamp": 1636899448266,
     "user": {
      "displayName": "D OK",
      "photoUrl": "https://lh3.googleusercontent.com/a/default-user=s64",
      "userId": "10267117973942008095"
     },
     "user_tz": -60
    },
    "id": "0YUtyXb9zJJJ",
    "outputId": "ecff79f8-1903-4881-db9f-93803d6a2f4c"
   },
   "outputs": [
    {
     "name": "stdout",
     "output_type": "stream",
     "text": [
      "0.27510311596173515\n"
     ]
    }
   ],
   "source": [
    "# estimate accuracy on validation set\n",
    "# transform the validation dataset\n",
    "predictions = mlp.predict(X_test)\n",
    "print(mean_squared_error(Y_test, predictions))"
   ]
  },
  {
   "cell_type": "markdown",
   "metadata": {},
   "source": [
    "## Examination of the Fit"
   ]
  },
  {
   "cell_type": "markdown",
   "metadata": {},
   "source": [
    "We see how good the fit is for different moneyness, volatility and times to maturity."
   ]
  },
  {
   "cell_type": "code",
   "execution_count": 35,
   "metadata": {},
   "outputs": [
    {
     "data": {
      "text/plain": [
       "array([[0.7       , 1.        , 0.2898    ],\n",
       "       [0.70606061, 1.        , 0.28936437],\n",
       "       [0.71212121, 1.        , 0.28893021],\n",
       "       [0.71818182, 1.        , 0.28849752],\n",
       "       [0.72424242, 1.        , 0.2880663 ],\n",
       "       [0.73030303, 1.        , 0.28763655],\n",
       "       [0.73636364, 1.        , 0.28720826],\n",
       "       [0.74242424, 1.        , 0.28678145],\n",
       "       [0.74848485, 1.        , 0.28635611],\n",
       "       [0.75454545, 1.        , 0.28593223],\n",
       "       [0.76060606, 1.        , 0.28550983],\n",
       "       [0.76666667, 1.        , 0.28508889],\n",
       "       [0.77272727, 1.        , 0.28466942],\n",
       "       [0.77878788, 1.        , 0.28425142],\n",
       "       [0.78484848, 1.        , 0.28383489],\n",
       "       [0.79090909, 1.        , 0.28341983],\n",
       "       [0.7969697 , 1.        , 0.28300624],\n",
       "       [0.8030303 , 1.        , 0.28259412],\n",
       "       [0.80909091, 1.        , 0.28218347],\n",
       "       [0.81515152, 1.        , 0.28177429],\n",
       "       [0.82121212, 1.        , 0.28136657],\n",
       "       [0.82727273, 1.        , 0.28096033],\n",
       "       [0.83333333, 1.        , 0.28055556],\n",
       "       [0.83939394, 1.        , 0.28015225],\n",
       "       [0.84545455, 1.        , 0.27975041],\n",
       "       [0.85151515, 1.        , 0.27935005],\n",
       "       [0.85757576, 1.        , 0.27895115],\n",
       "       [0.86363636, 1.        , 0.27855372],\n",
       "       [0.86969697, 1.        , 0.27815776],\n",
       "       [0.87575758, 1.        , 0.27776327],\n",
       "       [0.88181818, 1.        , 0.27737025],\n",
       "       [0.88787879, 1.        , 0.2769787 ],\n",
       "       [0.89393939, 1.        , 0.27658861],\n",
       "       [0.9       , 1.        , 0.2762    ],\n",
       "       [0.90606061, 1.        , 0.27581286],\n",
       "       [0.91212121, 1.        , 0.27542718],\n",
       "       [0.91818182, 1.        , 0.27504298],\n",
       "       [0.92424242, 1.        , 0.27466024],\n",
       "       [0.93030303, 1.        , 0.27427897],\n",
       "       [0.93636364, 1.        , 0.27389917],\n",
       "       [0.94242424, 1.        , 0.27352084],\n",
       "       [0.94848485, 1.        , 0.27314399],\n",
       "       [0.95454545, 1.        , 0.2727686 ],\n",
       "       [0.96060606, 1.        , 0.27239467],\n",
       "       [0.96666667, 1.        , 0.27202222],\n",
       "       [0.97272727, 1.        , 0.27165124],\n",
       "       [0.97878788, 1.        , 0.27128173],\n",
       "       [0.98484848, 1.        , 0.27091368],\n",
       "       [0.99090909, 1.        , 0.27054711],\n",
       "       [0.9969697 , 1.        , 0.270182  ],\n",
       "       [1.0030303 , 1.        , 0.26981837],\n",
       "       [1.00909091, 1.        , 0.2694562 ],\n",
       "       [1.01515152, 1.        , 0.2690955 ],\n",
       "       [1.02121212, 1.        , 0.26873627],\n",
       "       [1.02727273, 1.        , 0.26837851],\n",
       "       [1.03333333, 1.        , 0.26802222],\n",
       "       [1.03939394, 1.        , 0.2676674 ],\n",
       "       [1.04545455, 1.        , 0.26731405],\n",
       "       [1.05151515, 1.        , 0.26696217],\n",
       "       [1.05757576, 1.        , 0.26661175],\n",
       "       [1.06363636, 1.        , 0.26626281],\n",
       "       [1.06969697, 1.        , 0.26591534],\n",
       "       [1.07575758, 1.        , 0.26556933],\n",
       "       [1.08181818, 1.        , 0.26522479],\n",
       "       [1.08787879, 1.        , 0.26488173],\n",
       "       [1.09393939, 1.        , 0.26454013],\n",
       "       [1.1       , 1.        , 0.2642    ],\n",
       "       [1.10606061, 1.        , 0.26386134],\n",
       "       [1.11212121, 1.        , 0.26352415],\n",
       "       [1.11818182, 1.        , 0.26318843],\n",
       "       [1.12424242, 1.        , 0.26285418],\n",
       "       [1.13030303, 1.        , 0.2625214 ],\n",
       "       [1.13636364, 1.        , 0.26219008],\n",
       "       [1.14242424, 1.        , 0.26186024],\n",
       "       [1.14848485, 1.        , 0.26153186],\n",
       "       [1.15454545, 1.        , 0.26120496],\n",
       "       [1.16060606, 1.        , 0.26087952],\n",
       "       [1.16666667, 1.        , 0.26055556],\n",
       "       [1.17272727, 1.        , 0.26023306],\n",
       "       [1.17878788, 1.        , 0.25991203],\n",
       "       [1.18484848, 1.        , 0.25959247],\n",
       "       [1.19090909, 1.        , 0.25927438],\n",
       "       [1.1969697 , 1.        , 0.25895776],\n",
       "       [1.2030303 , 1.        , 0.25864261],\n",
       "       [1.20909091, 1.        , 0.25832893],\n",
       "       [1.21515152, 1.        , 0.25801671],\n",
       "       [1.22121212, 1.        , 0.25770597],\n",
       "       [1.22727273, 1.        , 0.25739669],\n",
       "       [1.23333333, 1.        , 0.25708889],\n",
       "       [1.23939394, 1.        , 0.25678255],\n",
       "       [1.24545455, 1.        , 0.25647769],\n",
       "       [1.25151515, 1.        , 0.25617429],\n",
       "       [1.25757576, 1.        , 0.25587236],\n",
       "       [1.26363636, 1.        , 0.2555719 ],\n",
       "       [1.26969697, 1.        , 0.25527291],\n",
       "       [1.27575758, 1.        , 0.25497539],\n",
       "       [1.28181818, 1.        , 0.25467934],\n",
       "       [1.28787879, 1.        , 0.25438476],\n",
       "       [1.29393939, 1.        , 0.25409164],\n",
       "       [1.3       , 1.        , 0.2538    ]])"
      ]
     },
     "execution_count": 35,
     "metadata": {},
     "output_type": "execute_result"
    }
   ],
   "source": [
    "s0 = 100.0\n",
    "strike = np.linspace(0.7*s0, 1.3*s0, 100)\n",
    "moneyness = strike / s0\n",
    "time_to_maturity = np.ones(100)*1\n",
    "option_vol_vector = option_vol(moneyness)\n",
    "\n",
    "np.array([moneyness, time_to_maturity, option_vol_vector]).transpose()"
   ]
  },
  {
   "cell_type": "code",
   "execution_count": 33,
   "metadata": {},
   "outputs": [],
   "source": [
    "def plot_fit(tmat):\n",
    "\n",
    "    s0 = 100.0\n",
    "    strike = np.linspace(0.7*s0, 1.3*s0, 100)\n",
    "    moneyness = strike / s0\n",
    "    time_to_maturity = np.ones(100)*tmat\n",
    "    option_vol_vector = option_vol(moneyness)\n",
    "\n",
    "    bs_price = call_option_price(s0, moneyness, time_to_maturity, option_vol_vector)\n",
    "\n",
    "    X = np.array([moneyness, time_to_maturity, option_vol_vector]).transpose()\n",
    "    predicted_price = res.predict(X)\n",
    "\n",
    "    plt.plot(strike, bs_price, label='Black Scholes')\n",
    "    plt.plot(strike, predicted_price, label='Predicted Price')\n",
    "    plt.xlabel(\"Strike\")\n",
    "    plt.ylabel(\"Call Option Value\")\n",
    "    plt.title(\"Expiry in \" + str(tmat) + \" yea\")\n",
    "    plt.legend();"
   ]
  },
  {
   "cell_type": "code",
   "execution_count": 31,
   "metadata": {},
   "outputs": [
    {
     "data": {
      "image/png": "[encoded data removed]",
      "text/plain": [
       "<Figure size 432x288 with 1 Axes>"
      ]
     },
     "metadata": {
      "needs_background": "light"
     },
     "output_type": "display_data"
    }
   ],
   "source": [
    "plot_fit(0.50)"
   ]
  },
  {
   "cell_type": "code",
   "execution_count": 24,
   "metadata": {},
   "outputs": [
    {
     "data": {
      "image/png": "[encoded data removed]",
      "text/plain": [
       "<Figure size 432x288 with 1 Axes>"
      ]
     },
     "metadata": {
      "needs_background": "light"
     },
     "output_type": "display_data"
    }
   ],
   "source": [
    "plot_fit(1.0)"
   ]
  },
  {
   "cell_type": "code",
   "execution_count": 25,
   "metadata": {},
   "outputs": [
    {
     "data": {
      "image/png": "[encoded data removed]",
      "text/plain": [
       "<Figure size 432x288 with 1 Axes>"
      ]
     },
     "metadata": {
      "needs_background": "light"
     },
     "output_type": "display_data"
    }
   ],
   "source": [
    "plot_fit(3.0)"
   ]
  },
  {
   "cell_type": "code",
   "execution_count": 26,
   "metadata": {},
   "outputs": [
    {
     "data": {
      "image/png": "[encoded data removed]",
      "text/plain": [
       "<Figure size 432x288 with 1 Axes>"
      ]
     },
     "metadata": {
      "needs_background": "light"
     },
     "output_type": "display_data"
    }
   ],
   "source": [
    "plot_fit(5.0)"
   ]
  },
  {
   "cell_type": "markdown",
   "metadata": {
    "id": "Sj7AbpAKzJJK"
   },
   "source": [
    "### Summary"
   ]
  },
  {
   "cell_type": "markdown",
   "metadata": {
    "id": "F5eDYyLfzJJK"
   },
   "source": [
    "Artificial neural network (ANN) can reproduce the Black and Scholes option pricing formula for a call option to a reasonable degree of accuracy which means that we can leverage the efficient numerical calculation of machine learning in the derivative pricing without relying on the impractical assumptions made in the traditional derivative pricing models. "
   ]
  }
 ],
 "metadata": {
  "colab": {
   "collapsed_sections": [
    "UyBhE8jYzJJG"
   ],
   "name": "DOK_DerivativesPricing.ipynb",
   "provenance": []
  },
  "kernelspec": {
   "display_name": "Python 3 (ipykernel)",
   "language": "python",
   "name": "python3"
  },
  "language_info": {
   "codemirror_mode": {
    "name": "ipython",
    "version": 3
   },
   "file_extension": ".py",
   "mimetype": "text/x-python",
   "name": "python",
   "nbconvert_exporter": "python",
   "pygments_lexer": "ipython3",
   "version": "3.8.5"
  }
 },
 "nbformat": 4,
 "nbformat_minor": 4
}
