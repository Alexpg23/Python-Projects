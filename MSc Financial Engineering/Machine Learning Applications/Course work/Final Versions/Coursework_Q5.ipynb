{
 "cells": [
  {
   "cell_type": "markdown",
   "id": "ea80299d-aaae-4bf4-adfa-8737f6c10167",
   "metadata": {},
   "source": [
    "# Question 5"
   ]
  },
  {
   "cell_type": "code",
   "execution_count": 1,
   "id": "485d8139-0da4-4759-a5e1-a48b21b44b02",
   "metadata": {},
   "outputs": [],
   "source": [
    "import matplotlib.pyplot as plt\n",
    "import pandas as pd\n",
    "import numpy as np\n",
    "import tensorflow as tf\n",
    "from tensorflow import keras\n",
    "from tensorflow.keras import layers\n",
    "from tensorflow.keras.models import Sequential, Model\n",
    "from tensorflow.keras.layers import Dense, Input, Flatten, Reshape\n",
    "from tensorflow.keras.optimizers import Adam"
   ]
  },
  {
   "cell_type": "code",
   "execution_count": 2,
   "id": "f3ea6c86-aab0-4364-bcfd-c3e43d0002d3",
   "metadata": {},
   "outputs": [],
   "source": [
    "from tensorflow.keras.datasets import fashion_mnist"
   ]
  },
  {
   "cell_type": "markdown",
   "id": "f20d6131-b7e9-487c-b620-262a6fcadc55",
   "metadata": {},
   "source": [
    "### 5.1 We start by loading the dataset and preparing the data"
   ]
  },
  {
   "cell_type": "code",
   "execution_count": 3,
   "id": "cebd5b18-5783-4003-bdc0-748670410417",
   "metadata": {},
   "outputs": [],
   "source": [
    "mnist = tf.keras.datasets.mnist"
   ]
  },
  {
   "cell_type": "markdown",
   "id": "0b3a54ee-07ab-4a83-8faf-bf0b8efb6fb0",
   "metadata": {},
   "source": [
    "Train / Test split"
   ]
  },
  {
   "cell_type": "code",
   "execution_count": 4,
   "id": "8a92976e-61a9-44cf-ae4c-f64eab27bb8f",
   "metadata": {},
   "outputs": [],
   "source": [
    "(x_train, y_train), (x_test, y_test) = mnist.load_data()"
   ]
  },
  {
   "cell_type": "markdown",
   "id": "9ec0724e-b586-4be2-ab88-6c2e0ed47ef4",
   "metadata": {},
   "source": [
    "Resampling data"
   ]
  },
  {
   "cell_type": "code",
   "execution_count": 5,
   "id": "7a768542-ac3e-426f-a7d2-e283f250cc8d",
   "metadata": {},
   "outputs": [],
   "source": [
    "x_train_s, x_test_s = x_train.reshape(60000, 784) / 255, x_test.reshape(10000, 784) / 255"
   ]
  },
  {
   "cell_type": "code",
   "execution_count": 6,
   "id": "5ba54f3d-6533-494b-a5fd-7a9f8c140dcc",
   "metadata": {},
   "outputs": [
    {
     "data": {
      "text/plain": [
       "(60000, 784)"
      ]
     },
     "execution_count": 6,
     "metadata": {},
     "output_type": "execute_result"
    }
   ],
   "source": [
    "x_train_s.shape"
   ]
  },
  {
   "cell_type": "code",
   "execution_count": 7,
   "id": "acfd6442-5b15-4078-aedf-5d00738a1d0f",
   "metadata": {},
   "outputs": [
    {
     "data": {
      "text/plain": [
       "(784,)"
      ]
     },
     "execution_count": 7,
     "metadata": {},
     "output_type": "execute_result"
    }
   ],
   "source": [
    "x_train_s[0].shape"
   ]
  },
  {
   "cell_type": "code",
   "execution_count": 8,
   "id": "551e7ac1-d52d-451f-9f78-5fef53a63cc2",
   "metadata": {},
   "outputs": [
    {
     "data": {
      "text/plain": [
       "(10000, 28, 28)"
      ]
     },
     "execution_count": 8,
     "metadata": {},
     "output_type": "execute_result"
    }
   ],
   "source": [
    "x_test.shape"
   ]
  },
  {
   "cell_type": "markdown",
   "id": "389cbeed-668c-4216-ada7-0682a961838e",
   "metadata": {},
   "source": [
    "### 5.2 Now we create an Autoencoder with a structure [400, 200, 100, 50, N, 50, 100, 200, 400]"
   ]
  },
  {
   "cell_type": "markdown",
   "id": "d345121d-de32-4e35-bc63-8b8d3f14ebca",
   "metadata": {},
   "source": [
    "N will be looped through [50, 25, 10, 5]"
   ]
  },
  {
   "cell_type": "markdown",
   "id": "70200e41-4394-44e4-b75d-369069b995ae",
   "metadata": {},
   "source": [
    "We will do this by creating a looping function that outputs the Autoencoder model.\n",
    "\n",
    "For this reconstruction model, we wil use:\n",
    "\n",
    "- Sigmoid activation in the output layer (last layer in decoder)\n",
    "- Loss function: Mean Squared Error\n",
    "- Metric: Loss of the validation set\n",
    "\n",
    "We chose to use MSE + val_loss for it responded better to the model in comparison to Binary Crossentropy + Accuracy."
   ]
  },
  {
   "cell_type": "code",
   "execution_count": 9,
   "id": "005667e3-f756-4d68-8c8c-3a679c537f2d",
   "metadata": {},
   "outputs": [],
   "source": [
    "# Defining the autoencoder function\n",
    "def build_autoencoder(N):\n",
    "\n",
    "    encoder = Sequential()\n",
    "    encoder.add(Dense(400,  activation='relu', input_shape=(784,)))\n",
    "    encoder.add(Dense(200,  activation='relu'))\n",
    "    encoder.add(Dense(100,  activation='relu'))\n",
    "    encoder.add(Dense(50,   activation='relu'))\n",
    "    encoder.add(Dense(N,   activation='relu')) # Bottleneck\n",
    "\n",
    "    decoder = Sequential()\n",
    "    decoder.add(Dense(50,  input_shape=[N], activation='relu'))\n",
    "    decoder.add(Dense(100,  activation='relu'))\n",
    "    decoder.add(Dense(200,  activation='relu'))\n",
    "    decoder.add(Dense(400,  activation='relu'))\n",
    "    decoder.add(Dense(784,  activation='sigmoid'))\n",
    "    \n",
    "    autoencoder = Sequential([encoder, decoder])\n",
    "    \n",
    "    autoencoder.compile(loss='MSE', optimizer = Adam())\n",
    "    \n",
    "    return autoencoder"
   ]
  },
  {
   "cell_type": "code",
   "execution_count": 10,
   "id": "ec75841a-44ea-4190-bd66-795f31318163",
   "metadata": {},
   "outputs": [],
   "source": [
    "# Creating a results DataFrame to store the validation loss on the test set \n",
    "results = pd.DataFrame(index=['val_accuracy'])"
   ]
  },
  {
   "cell_type": "markdown",
   "id": "373449c7-610d-4199-b625-b039a26818a4",
   "metadata": {},
   "source": [
    "Now we will loop through the desired values of N and store the accuracy of each in our DataFrame"
   ]
  },
  {
   "cell_type": "code",
   "execution_count": 11,
   "id": "ca3d2eb5-5a9b-47b2-8a6d-391a53affb99",
   "metadata": {},
   "outputs": [
    {
     "name": "stdout",
     "output_type": "stream",
     "text": [
      "Epoch 1/10\n",
      "59/59 [==============================] - 2s 30ms/step - loss: 0.0909 - val_loss: 0.0683\n",
      "Epoch 2/10\n",
      "59/59 [==============================] - 2s 27ms/step - loss: 0.0623 - val_loss: 0.0557\n",
      "Epoch 3/10\n",
      "59/59 [==============================] - 2s 29ms/step - loss: 0.0476 - val_loss: 0.0406\n",
      "Epoch 4/10\n",
      "59/59 [==============================] - 2s 28ms/step - loss: 0.0374 - val_loss: 0.0339\n",
      "Epoch 5/10\n",
      "59/59 [==============================] - 2s 29ms/step - loss: 0.0320 - val_loss: 0.0298\n",
      "Epoch 6/10\n",
      "59/59 [==============================] - 2s 30ms/step - loss: 0.0287 - val_loss: 0.0278\n",
      "Epoch 7/10\n",
      "59/59 [==============================] - 2s 28ms/step - loss: 0.0264 - val_loss: 0.0252\n",
      "Epoch 8/10\n",
      "59/59 [==============================] - 2s 30ms/step - loss: 0.0247 - val_loss: 0.0237\n",
      "Epoch 9/10\n",
      "59/59 [==============================] - 2s 32ms/step - loss: 0.0234 - val_loss: 0.0231\n",
      "Epoch 10/10\n",
      "59/59 [==============================] - 2s 29ms/step - loss: 0.0223 - val_loss: 0.0214\n",
      "Epoch 1/10\n",
      "59/59 [==============================] - 3s 32ms/step - loss: 0.0935 - val_loss: 0.0685\n",
      "Epoch 2/10\n",
      "59/59 [==============================] - 2s 28ms/step - loss: 0.0622 - val_loss: 0.0560\n",
      "Epoch 3/10\n",
      "59/59 [==============================] - 2s 30ms/step - loss: 0.0505 - val_loss: 0.0433\n",
      "Epoch 4/10\n",
      "59/59 [==============================] - 2s 30ms/step - loss: 0.0406 - val_loss: 0.0377\n",
      "Epoch 5/10\n",
      "59/59 [==============================] - 2s 30ms/step - loss: 0.0358 - val_loss: 0.0329\n",
      "Epoch 6/10\n",
      "59/59 [==============================] - 2s 31ms/step - loss: 0.0324 - val_loss: 0.0306\n",
      "Epoch 7/10\n",
      "59/59 [==============================] - 2s 30ms/step - loss: 0.0300 - val_loss: 0.0292\n",
      "Epoch 8/10\n",
      "59/59 [==============================] - 2s 36ms/step - loss: 0.0279 - val_loss: 0.0267\n",
      "Epoch 9/10\n",
      "59/59 [==============================] - 2s 32ms/step - loss: 0.0258 - val_loss: 0.0247\n",
      "Epoch 10/10\n",
      "59/59 [==============================] - 2s 32ms/step - loss: 0.0243 - val_loss: 0.0234\n",
      "Epoch 1/10\n",
      "59/59 [==============================] - 3s 34ms/step - loss: 0.1024 - val_loss: 0.0725\n",
      "Epoch 2/10\n",
      "59/59 [==============================] - 2s 30ms/step - loss: 0.0685 - val_loss: 0.0648\n",
      "Epoch 3/10\n",
      "59/59 [==============================] - 2s 31ms/step - loss: 0.0612 - val_loss: 0.0548\n",
      "Epoch 4/10\n",
      "59/59 [==============================] - 2s 31ms/step - loss: 0.0518 - val_loss: 0.0485\n",
      "Epoch 5/10\n",
      "59/59 [==============================] - 2s 30ms/step - loss: 0.0470 - val_loss: 0.0453\n",
      "Epoch 6/10\n",
      "59/59 [==============================] - 2s 30ms/step - loss: 0.0440 - val_loss: 0.0427\n",
      "Epoch 7/10\n",
      "59/59 [==============================] - 2s 32ms/step - loss: 0.0415 - val_loss: 0.0392\n",
      "Epoch 8/10\n",
      "59/59 [==============================] - 2s 32ms/step - loss: 0.0378 - val_loss: 0.0372\n",
      "Epoch 9/10\n",
      "59/59 [==============================] - 2s 31ms/step - loss: 0.0357 - val_loss: 0.0347\n",
      "Epoch 10/10\n",
      "59/59 [==============================] - 2s 30ms/step - loss: 0.0345 - val_loss: 0.0338\n",
      "Epoch 1/10\n",
      "59/59 [==============================] - 3s 35ms/step - loss: 0.0979 - val_loss: 0.0718\n",
      "Epoch 2/10\n",
      "59/59 [==============================] - 2s 30ms/step - loss: 0.0673 - val_loss: 0.0645\n",
      "Epoch 3/10\n",
      "59/59 [==============================] - 2s 30ms/step - loss: 0.0622 - val_loss: 0.0576\n",
      "Epoch 4/10\n",
      "59/59 [==============================] - 2s 30ms/step - loss: 0.0551 - val_loss: 0.0513\n",
      "Epoch 5/10\n",
      "59/59 [==============================] - 2s 31ms/step - loss: 0.0489 - val_loss: 0.0464\n",
      "Epoch 6/10\n",
      "59/59 [==============================] - 2s 30ms/step - loss: 0.0452 - val_loss: 0.0435\n",
      "Epoch 7/10\n",
      "59/59 [==============================] - 2s 30ms/step - loss: 0.0429 - val_loss: 0.0417\n",
      "Epoch 8/10\n",
      "59/59 [==============================] - 2s 31ms/step - loss: 0.0413 - val_loss: 0.0405\n",
      "Epoch 9/10\n",
      "59/59 [==============================] - 2s 31ms/step - loss: 0.0401 - val_loss: 0.0396\n",
      "Epoch 10/10\n",
      "59/59 [==============================] - 2s 30ms/step - loss: 0.0391 - val_loss: 0.0387\n"
     ]
    }
   ],
   "source": [
    "# We use x_train_s as both input and output data, since the autoencoder is recreating the initial images\n",
    "for n in [50, 25, 10, 5]:\n",
    "    trained_model = build_autoencoder(n).fit(x_train_s, x_train_s, batch_size=1024, \n",
    "                                epochs=10, verbose=1, \n",
    "                                validation_data=(x_test_s, x_test_s))\n",
    "    results[n] = trained_model.history['val_loss'][-1]"
   ]
  },
  {
   "cell_type": "code",
   "execution_count": 12,
   "id": "6b0bf119-3266-473d-8ff7-a6ee59cdfe37",
   "metadata": {},
   "outputs": [
    {
     "data": {
      "text/html": [
       "<div>\n",
       "<style scoped>\n",
       "    .dataframe tbody tr th:only-of-type {\n",
       "        vertical-align: middle;\n",
       "    }\n",
       "\n",
       "    .dataframe tbody tr th {\n",
       "        vertical-align: top;\n",
       "    }\n",
       "\n",
       "    .dataframe thead th {\n",
       "        text-align: right;\n",
       "    }\n",
       "</style>\n",
       "<table border=\"1\" class=\"dataframe\">\n",
       "  <thead>\n",
       "    <tr style=\"text-align: right;\">\n",
       "      <th></th>\n",
       "      <th>50</th>\n",
       "      <th>25</th>\n",
       "      <th>10</th>\n",
       "      <th>5</th>\n",
       "    </tr>\n",
       "  </thead>\n",
       "  <tbody>\n",
       "    <tr>\n",
       "      <th>val_accuracy</th>\n",
       "      <td>0.021365</td>\n",
       "      <td>0.02344</td>\n",
       "      <td>0.033793</td>\n",
       "      <td>0.03868</td>\n",
       "    </tr>\n",
       "  </tbody>\n",
       "</table>\n",
       "</div>"
      ],
      "text/plain": [
       "                    50       25        10       5 \n",
       "val_accuracy  0.021365  0.02344  0.033793  0.03868"
      ]
     },
     "execution_count": 12,
     "metadata": {},
     "output_type": "execute_result"
    }
   ],
   "source": [
    "results"
   ]
  },
  {
   "cell_type": "markdown",
   "id": "3f771fae-0a16-4550-9b4a-8f435aaf813a",
   "metadata": {},
   "source": [
    "### Results interpretation\n",
    "##### Observing the results in the DataFrame, as we decrease the number of nodes in the Bottleneck layer the loss on the validation data goes up. This makes sense since the more we reduce the dimension of the initial images, the more we loose information and, therefore, performance."
   ]
  },
  {
   "cell_type": "markdown",
   "id": "e7b1705d-9f4d-4248-996f-293ea75daca5",
   "metadata": {},
   "source": [
    "### 5.3 - Generating a non-image"
   ]
  },
  {
   "cell_type": "markdown",
   "id": "649c6625-3c6f-42a4-ad76-8e22ed1c02b4",
   "metadata": {},
   "source": [
    "Now we will pass an image that is completely different from the ones in the MNIST dataset. We will try to reconstruct this image using our build_autoencoder function"
   ]
  },
  {
   "cell_type": "code",
   "execution_count": 13,
   "id": "06c6387e-ea71-449c-9850-3782111af367",
   "metadata": {},
   "outputs": [
    {
     "name": "stdout",
     "output_type": "stream",
     "text": [
      "Epoch 1/10\n",
      "59/59 [==============================] - 3s 36ms/step - loss: 0.0942 - val_loss: 0.0687\n",
      "Epoch 2/10\n",
      "59/59 [==============================] - 2s 30ms/step - loss: 0.0637 - val_loss: 0.0586\n",
      "Epoch 3/10\n",
      "59/59 [==============================] - 2s 31ms/step - loss: 0.0519 - val_loss: 0.0449\n",
      "Epoch 4/10\n",
      "59/59 [==============================] - 2s 31ms/step - loss: 0.0395 - val_loss: 0.0355\n",
      "Epoch 5/10\n",
      "59/59 [==============================] - 2s 30ms/step - loss: 0.0336 - val_loss: 0.0310\n",
      "Epoch 6/10\n",
      "59/59 [==============================] - 2s 34ms/step - loss: 0.0299 - val_loss: 0.0284\n",
      "Epoch 7/10\n",
      "59/59 [==============================] - 2s 32ms/step - loss: 0.0273 - val_loss: 0.0259\n",
      "Epoch 8/10\n",
      "59/59 [==============================] - 2s 32ms/step - loss: 0.0254 - val_loss: 0.0245\n",
      "Epoch 9/10\n",
      "59/59 [==============================] - 2s 31ms/step - loss: 0.0237 - val_loss: 0.0224\n",
      "Epoch 10/10\n",
      "59/59 [==============================] - 2s 32ms/step - loss: 0.0220 - val_loss: 0.0210\n"
     ]
    }
   ],
   "source": [
    "# We build and fit our model using N = 50, for maximum performance\n",
    "trained_model = build_autoencoder(50).fit(x_train_s, x_train_s, batch_size=1024, \n",
    "                                epochs=10, verbose=1, \n",
    "                                validation_data=(x_test_s, x_test_s))"
   ]
  },
  {
   "cell_type": "code",
   "execution_count": 22,
   "id": "5279d706-36eb-45bb-85ff-a41d5877944d",
   "metadata": {},
   "outputs": [
    {
     "data": {
      "image/png": "[encoded data removed]",
      "text/plain": [
       "<Figure size 432x288 with 1 Axes>"
      ]
     },
     "metadata": {
      "needs_background": "light"
     },
     "output_type": "display_data"
    },
    {
     "data": {
      "image/png": "[encoded data removed]",
      "text/plain": [
       "<Figure size 432x288 with 1 Axes>"
      ]
     },
     "metadata": {
      "needs_background": "light"
     },
     "output_type": "display_data"
    },
    {
     "name": "stdout",
     "output_type": "stream",
     "text": [
      "[2545.8208]\n"
     ]
    }
   ],
   "source": [
    "# We pass in an image of the letter W in the correct format for this exercise\n",
    "from tensorflow.keras.preprocessing import image\n",
    "\n",
    "img = image.load_img(\"img_Q52.png\", target_size=(28, 28), \n",
    "                     color_mode = \"grayscale\")\n",
    "plt.imshow(img, cmap='gray')\n",
    "plt.show()\n",
    "\n",
    "# Now we use our build_autoencoder function to try and predict the passed image\n",
    "input_img = image.img_to_array(img)\n",
    "inputs = input_img.reshape(1,784)\n",
    "target_data = trained_model.model.predict(inputs)\n",
    "plt.imshow(target_data.reshape(28,28))\n",
    "plt.show()\n",
    "\n",
    "dist = np.linalg.norm(inputs - target_data, axis=-1)\n",
    "print(dist)"
   ]
  },
  {
   "cell_type": "code",
   "execution_count": 21,
   "id": "a1238f5f-f3e4-464b-b06c-d5e32bd926dc",
   "metadata": {},
   "outputs": [
    {
     "data": {
      "image/png": "[encoded data removed]",
      "text/plain": [
       "<Figure size 432x288 with 1 Axes>"
      ]
     },
     "metadata": {
      "needs_background": "light"
     },
     "output_type": "display_data"
    },
    {
     "data": {
      "image/png": "[encoded data removed]",
      "text/plain": [
       "<Figure size 432x288 with 1 Axes>"
      ]
     },
     "metadata": {
      "needs_background": "light"
     },
     "output_type": "display_data"
    },
    {
     "name": "stdout",
     "output_type": "stream",
     "text": [
      "[5737.8027]\n"
     ]
    }
   ],
   "source": [
    "# We pass in an image of the letter V in the correct format for this exercise\n",
    "from tensorflow.keras.preprocessing import image\n",
    "\n",
    "img = image.load_img(\"img_Q5.png\", target_size=(28, 28), \n",
    "                     color_mode = \"grayscale\")\n",
    "plt.imshow(img, cmap='gray')\n",
    "plt.show()\n",
    "\n",
    "# Now we use our build_autoencoder function to try and predict the passed image\n",
    "input_img = image.img_to_array(img)\n",
    "inputs = input_img.reshape(1,784)\n",
    "target_data = trained_model.model.predict(inputs)\n",
    "plt.imshow(target_data.reshape(28,28))\n",
    "plt.show()\n",
    "\n",
    "dist = np.linalg.norm(inputs - target_data, axis=-1)\n",
    "print(dist)"
   ]
  },
  {
   "cell_type": "markdown",
   "id": "6287c683-e9da-433f-82f1-ccfe03c74f68",
   "metadata": {},
   "source": [
    "### Results interpretation\n",
    "##### As expected, the model fails when it encounters an image that it does not know. This is an important feature of the autoencoder, we can use this to detect anomalies in our dataset."
   ]
  },
  {
   "cell_type": "code",
   "execution_count": null,
   "id": "cbcbb457-b532-4ee1-8f32-e0b15aaa1724",
   "metadata": {},
   "outputs": [],
   "source": []
  }
 ],
 "metadata": {
  "kernelspec": {
   "display_name": "Python 3",
   "language": "python",
   "name": "python3"
  },
  "language_info": {
   "codemirror_mode": {
    "name": "ipython",
    "version": 3
   },
   "file_extension": ".py",
   "mimetype": "text/x-python",
   "name": "python",
   "nbconvert_exporter": "python",
   "pygments_lexer": "ipython3",
   "version": "3.8.8"
  }
 },
 "nbformat": 4,
 "nbformat_minor": 5
}
