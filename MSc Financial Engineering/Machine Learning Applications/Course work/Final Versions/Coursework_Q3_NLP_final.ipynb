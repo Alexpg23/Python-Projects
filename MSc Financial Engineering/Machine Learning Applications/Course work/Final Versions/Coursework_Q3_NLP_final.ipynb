{
 "cells": [
  {
   "cell_type": "markdown",
   "id": "b7c9cc1e",
   "metadata": {},
   "source": [
    "# Amazon Review Classification"
   ]
  },
  {
   "cell_type": "markdown",
   "id": "ddbd9531",
   "metadata": {},
   "source": [
    "In this question we will be studying a data set containing the information regarding purchases done through Amazon and their corresponding reviews. We will be using the Machine Learning technique called Natual Language Processing to classify the information given for which we will be assigning categories to the open ended text. \n",
    "\n",
    "We will base our analysis on the file 'Amazon_Unlocked_Mobile.csv' dataset published by Kaggle, which contains the following variables:\n",
    "* Product Name\n",
    "* Brand Name\n",
    "* Price\n",
    "* Rating\n",
    "* Reviews\n",
    "* Review Votes\n",
    "\n",
    "We will try to classify the reviews in order to predict the rating obtained after each purchase."
   ]
  },
  {
   "cell_type": "markdown",
   "id": "0b267fc2",
   "metadata": {},
   "source": [
    "## 1. Appetizer: Data Analysis"
   ]
  },
  {
   "cell_type": "markdown",
   "id": "15bacfcb",
   "metadata": {},
   "source": [
    "### Data download"
   ]
  },
  {
   "cell_type": "code",
   "execution_count": 1,
   "id": "c3d34de8",
   "metadata": {},
   "outputs": [],
   "source": [
    "# In this cell, we will import all the required packages to perform our analysis\n",
    "import pandas as pd\n",
    "import numpy as np\n",
    "import matplotlib.pyplot as plt\n",
    "import seaborn as sns"
   ]
  },
  {
   "cell_type": "code",
   "execution_count": 2,
   "id": "ab9b80a7",
   "metadata": {},
   "outputs": [],
   "source": [
    "# Load train and test sets\n",
    "train = pd.read_csv(\"./data/train.csv\")\n",
    "test = pd.read_csv(\"./data/test.csv\")"
   ]
  },
  {
   "cell_type": "code",
   "execution_count": 3,
   "id": "009a1561",
   "metadata": {},
   "outputs": [
    {
     "data": {
      "text/html": [
       "<div>\n",
       "<style scoped>\n",
       "    .dataframe tbody tr th:only-of-type {\n",
       "        vertical-align: middle;\n",
       "    }\n",
       "\n",
       "    .dataframe tbody tr th {\n",
       "        vertical-align: top;\n",
       "    }\n",
       "\n",
       "    .dataframe thead th {\n",
       "        text-align: right;\n",
       "    }\n",
       "</style>\n",
       "<table border=\"1\" class=\"dataframe\">\n",
       "  <thead>\n",
       "    <tr style=\"text-align: right;\">\n",
       "      <th></th>\n",
       "      <th>Product Name</th>\n",
       "      <th>Brand Name</th>\n",
       "      <th>Price</th>\n",
       "      <th>Rating</th>\n",
       "      <th>Reviews</th>\n",
       "      <th>Review Votes</th>\n",
       "    </tr>\n",
       "  </thead>\n",
       "  <tbody>\n",
       "    <tr>\n",
       "      <th>0</th>\n",
       "      <td>Samsung Galaxy Note 4 N910C Unlocked Cellphone...</td>\n",
       "      <td>Samsung</td>\n",
       "      <td>449.99</td>\n",
       "      <td>4</td>\n",
       "      <td>I love it!!! I absolutely love it!! 👌👍</td>\n",
       "      <td>0.0</td>\n",
       "    </tr>\n",
       "    <tr>\n",
       "      <th>1</th>\n",
       "      <td>BLU Energy X Plus Smartphone - With 4000 mAh S...</td>\n",
       "      <td>BLU</td>\n",
       "      <td>139.00</td>\n",
       "      <td>5</td>\n",
       "      <td>I love the BLU phones! This is my second one t...</td>\n",
       "      <td>4.0</td>\n",
       "    </tr>\n",
       "    <tr>\n",
       "      <th>2</th>\n",
       "      <td>Apple iPhone 6 128GB Silver AT&amp;T</td>\n",
       "      <td>Apple</td>\n",
       "      <td>599.95</td>\n",
       "      <td>5</td>\n",
       "      <td>Great phone</td>\n",
       "      <td>1.0</td>\n",
       "    </tr>\n",
       "    <tr>\n",
       "      <th>3</th>\n",
       "      <td>BLU Advance 4.0L Unlocked Smartphone -US GSM -...</td>\n",
       "      <td>BLU</td>\n",
       "      <td>51.99</td>\n",
       "      <td>4</td>\n",
       "      <td>Very happy with the performance. The apps work...</td>\n",
       "      <td>2.0</td>\n",
       "    </tr>\n",
       "    <tr>\n",
       "      <th>4</th>\n",
       "      <td>Huawei P8 Lite US Version- 5 Unlocked Android ...</td>\n",
       "      <td>Huawei</td>\n",
       "      <td>198.99</td>\n",
       "      <td>5</td>\n",
       "      <td>Easy to use great price</td>\n",
       "      <td>0.0</td>\n",
       "    </tr>\n",
       "  </tbody>\n",
       "</table>\n",
       "</div>"
      ],
      "text/plain": [
       "                                        Product Name Brand Name   Price  \\\n",
       "0  Samsung Galaxy Note 4 N910C Unlocked Cellphone...    Samsung  449.99   \n",
       "1  BLU Energy X Plus Smartphone - With 4000 mAh S...        BLU  139.00   \n",
       "2                   Apple iPhone 6 128GB Silver AT&T      Apple  599.95   \n",
       "3  BLU Advance 4.0L Unlocked Smartphone -US GSM -...        BLU   51.99   \n",
       "4  Huawei P8 Lite US Version- 5 Unlocked Android ...     Huawei  198.99   \n",
       "\n",
       "   Rating                                            Reviews  Review Votes  \n",
       "0       4             I love it!!! I absolutely love it!! 👌👍           0.0  \n",
       "1       5  I love the BLU phones! This is my second one t...           4.0  \n",
       "2       5                                        Great phone           1.0  \n",
       "3       4  Very happy with the performance. The apps work...           2.0  \n",
       "4       5                            Easy to use great price           0.0  "
      ]
     },
     "execution_count": 3,
     "metadata": {},
     "output_type": "execute_result"
    }
   ],
   "source": [
    "# Overview of train set\n",
    "train.head()"
   ]
  },
  {
   "cell_type": "code",
   "execution_count": 4,
   "id": "847af5ba",
   "metadata": {},
   "outputs": [
    {
     "data": {
      "text/html": [
       "<div>\n",
       "<style scoped>\n",
       "    .dataframe tbody tr th:only-of-type {\n",
       "        vertical-align: middle;\n",
       "    }\n",
       "\n",
       "    .dataframe tbody tr th {\n",
       "        vertical-align: top;\n",
       "    }\n",
       "\n",
       "    .dataframe thead th {\n",
       "        text-align: right;\n",
       "    }\n",
       "</style>\n",
       "<table border=\"1\" class=\"dataframe\">\n",
       "  <thead>\n",
       "    <tr style=\"text-align: right;\">\n",
       "      <th></th>\n",
       "      <th>Product Name</th>\n",
       "      <th>Brand Name</th>\n",
       "      <th>Price</th>\n",
       "      <th>Rating</th>\n",
       "      <th>Reviews</th>\n",
       "      <th>Review Votes</th>\n",
       "    </tr>\n",
       "  </thead>\n",
       "  <tbody>\n",
       "    <tr>\n",
       "      <th>0</th>\n",
       "      <td>Samsung 32GB Galaxy Note 10.1\" Android 4G LTE ...</td>\n",
       "      <td>NaN</td>\n",
       "      <td>499.99</td>\n",
       "      <td>4</td>\n",
       "      <td>The speed of this tablet is unreal! It is by f...</td>\n",
       "      <td>24.0</td>\n",
       "    </tr>\n",
       "    <tr>\n",
       "      <th>1</th>\n",
       "      <td>Kyocera Hydro C5170 PrePaid - Boost Mobile</td>\n",
       "      <td>NaN</td>\n",
       "      <td>27.47</td>\n",
       "      <td>4</td>\n",
       "      <td>i had been shopping for a smart phone from boo...</td>\n",
       "      <td>1.0</td>\n",
       "    </tr>\n",
       "    <tr>\n",
       "      <th>2</th>\n",
       "      <td>Apple iPhone 6 Plus Unlocked Cellphone, 16GB, ...</td>\n",
       "      <td>Apple</td>\n",
       "      <td>519.00</td>\n",
       "      <td>1</td>\n",
       "      <td>I would not recommend this phone.. It has a lo...</td>\n",
       "      <td>0.0</td>\n",
       "    </tr>\n",
       "    <tr>\n",
       "      <th>3</th>\n",
       "      <td>HTC One M8 - Factory Unlocked 32GB - US Warran...</td>\n",
       "      <td>HTC</td>\n",
       "      <td>138.99</td>\n",
       "      <td>1</td>\n",
       "      <td>NOT UNLOCKED!!!!! beware!!! Also as soon as I ...</td>\n",
       "      <td>NaN</td>\n",
       "    </tr>\n",
       "    <tr>\n",
       "      <th>4</th>\n",
       "      <td>T-Mobile Prepaid LG GS170 No-Contract Mobile P...</td>\n",
       "      <td>LG</td>\n",
       "      <td>299.99</td>\n",
       "      <td>5</td>\n",
       "      <td>This phone is a gift for my 80's something fri...</td>\n",
       "      <td>0.0</td>\n",
       "    </tr>\n",
       "  </tbody>\n",
       "</table>\n",
       "</div>"
      ],
      "text/plain": [
       "                                        Product Name Brand Name   Price  \\\n",
       "0  Samsung 32GB Galaxy Note 10.1\" Android 4G LTE ...        NaN  499.99   \n",
       "1         Kyocera Hydro C5170 PrePaid - Boost Mobile        NaN   27.47   \n",
       "2  Apple iPhone 6 Plus Unlocked Cellphone, 16GB, ...      Apple  519.00   \n",
       "3  HTC One M8 - Factory Unlocked 32GB - US Warran...        HTC  138.99   \n",
       "4  T-Mobile Prepaid LG GS170 No-Contract Mobile P...         LG  299.99   \n",
       "\n",
       "   Rating                                            Reviews  Review Votes  \n",
       "0       4  The speed of this tablet is unreal! It is by f...          24.0  \n",
       "1       4  i had been shopping for a smart phone from boo...           1.0  \n",
       "2       1  I would not recommend this phone.. It has a lo...           0.0  \n",
       "3       1  NOT UNLOCKED!!!!! beware!!! Also as soon as I ...           NaN  \n",
       "4       5  This phone is a gift for my 80's something fri...           0.0  "
      ]
     },
     "execution_count": 4,
     "metadata": {},
     "output_type": "execute_result"
    }
   ],
   "source": [
    "# Overview of test set\n",
    "test.head()"
   ]
  },
  {
   "cell_type": "code",
   "execution_count": 5,
   "id": "802418e9",
   "metadata": {},
   "outputs": [
    {
     "name": "stdout",
     "output_type": "stream",
     "text": [
      "(5000, 6) (1000, 6)\n"
     ]
    }
   ],
   "source": [
    "# Shapes of train, validation and test sets\n",
    "print(train.shape, test.shape)"
   ]
  },
  {
   "cell_type": "markdown",
   "id": "9c76361f",
   "metadata": {},
   "source": [
    "As we can see, the train set is comprised by 5,000 observations while the test set is comprised by 1,000. This proportion means that we will be training our models on around 83.33% of the data sample. The standard is normally between 80% and 70%. We hope this proportion help us to have a more accurate classification model with out falling in an overfitting of the data."
   ]
  },
  {
   "cell_type": "markdown",
   "id": "cbfcb926",
   "metadata": {},
   "source": [
    "#### Question 1\n",
    "##### Tokenization\n",
    "\n",
    "Our first step will be to prepare the data. When you are working with open ended text, there are several modifications to the original data set that have to be implemented. The objetive of this changes is to keep only the turthly relevant information and to not duplicate information. \n",
    "\n",
    "The first of this steps to prepare our data set will be to tokenize the data set. Tokenize refers to the action of breaking sentences into smaller pieces, in this case words. You can do it at a level sentence if you are breaking a document. We will break it into words so we can implement the following steps. "
   ]
  },
  {
   "cell_type": "code",
   "execution_count": 24,
   "id": "eb34b098",
   "metadata": {
    "scrolled": true
   },
   "outputs": [
    {
     "name": "stderr",
     "output_type": "stream",
     "text": [
      "[nltk_data] Downloading package punkt to\n",
      "[nltk_data]     C:\\Users\\apala\\AppData\\Roaming\\nltk_data...\n",
      "[nltk_data]   Package punkt is already up-to-date!\n"
     ]
    },
    {
     "name": "stdout",
     "output_type": "stream",
     "text": [
      "['I', 'love', 'it', '!', '!', '!', 'I', 'absolutely', 'love', 'it', '!', '!', '👌👍'] \n",
      "\n",
      "['I', 'love', 'the', 'BLU', 'phones', '!', 'This', 'is', 'my', 'second', 'one', 'this', 'year', 'and', 'not', 'because', 'there', 'is', 'anything', 'wrong', 'with', 'my', 'BLU', 'Studio', '6.0', 'HD', '.', 'I', 'have', 'just', 'opted', 'to', '``', 'upgrade', \"''\", 'to', 'a', 'phone', 'with', 'a', 'slightly', 'smaller', 'screen', 'and', 'better', 'battery', 'life', '.', 'For', 'the', 'price', 'of', 'these', 'phones', 'you', 'can', 'not', 'go', 'wrong.1', '.', 'Setup', 'is', 'a', 'breeze2', '.', 'customization', 'is', 'easy3', '.', 'colors', 'are', 'vibrant4', '.', 'phone', 'is', 'light', '(', 'even', 'with', 'a', 'rugged', 'case', ')', '5.', 'battery', 'life', 'is', 'better', 'than', 'any', 'phone', 'I', 'have', 'ever', 'had6', '.', 'Screen', 'is', 'responsive', 'to', 'touch', 'unlike', 'some', 'other', 'phones.I', 'have', 'had', 'no', 'issue', 'with', 'volume', 'or', 'music', 'playback', 'as', 'other', 'reviewers', 'have', 'noted', '.', 'All', 'in', 'all', 'a', 'great', 'phone', 'for', 'a', 'little', 'price', '.', 'Everyone', 'should', 'give', 'BLU', 'a', 'try', '.'] \n",
      "\n",
      "['Great', 'phone'] \n",
      "\n",
      "['Very', 'happy', 'with', 'the', 'performance', '.', 'The', 'apps', 'worked', 'flawlessly', ',', 'camera', 'could', 'be', 'better', 'but', 'no', 'complaints', 'considering', 'it', 'is', 'only', '$', '50', '.'] \n",
      "\n",
      "['Easy', 'to', 'use', 'great', 'price'] \n",
      "\n"
     ]
    }
   ],
   "source": [
    "# Tokenized the train set reviews\n",
    "# We import the method word_tokenize that helps to extract all the words and elements within a sentence\n",
    "import nltk\n",
    "nltk.download('punkt')\n",
    "from nltk.tokenize import word_tokenize\n",
    "reviews_tokenized_train = [word_tokenize(review) for review in train['Reviews']] # We loop through each of the reviews withih the column Reviews\n",
    "for sentence in reviews_tokenized_train[:5]: print('%s \\n'%sentence) # We print the elements to see how it looks"
   ]
  },
  {
   "cell_type": "markdown",
   "id": "91e93155-40bb-49c1-a6ae-0ed0353e2142",
   "metadata": {},
   "source": [
    "As we can see, we have a list of list. Each of the sublist contains the elements and words within each review."
   ]
  },
  {
   "cell_type": "markdown",
   "id": "1b919d5b",
   "metadata": {},
   "source": [
    "#### Question 2\n",
    "##### Flatten the input data\n",
    "\n",
    "As we can see above, we have a list of several list containing all the words per review. We would like to be able to identify the vocabulary used overall the data set. To permform this, it would be better to convert the data set into a 1 dimension vector. This is know as flattening. This also might come in handy when we  will be trying to use the data set as the input layer of a Nerual Network. "
   ]
  },
  {
   "cell_type": "code",
   "execution_count": 49,
   "id": "4e25f6bf",
   "metadata": {},
   "outputs": [
    {
     "data": {
      "text/plain": [
       "['I',\n",
       " 'love',\n",
       " 'it',\n",
       " '!',\n",
       " '!',\n",
       " '!',\n",
       " 'I',\n",
       " 'absolutely',\n",
       " 'love',\n",
       " 'it',\n",
       " '!',\n",
       " '!',\n",
       " '👌👍',\n",
       " 'I',\n",
       " 'love',\n",
       " 'the',\n",
       " 'BLU',\n",
       " 'phones',\n",
       " '!',\n",
       " 'This',\n",
       " 'is',\n",
       " 'my',\n",
       " 'second',\n",
       " 'one',\n",
       " 'this',\n",
       " 'year',\n",
       " 'and',\n",
       " 'not',\n",
       " 'because',\n",
       " 'there',\n",
       " 'is',\n",
       " 'anything',\n",
       " 'wrong',\n",
       " 'with',\n",
       " 'my']"
      ]
     },
     "execution_count": 49,
     "metadata": {},
     "output_type": "execute_result"
    }
   ],
   "source": [
    "# We will try to get the vocabulary within our data set\n",
    "flatten_reviews_train = [item for sublist in reviews_tokenized_train for item in sublist]\n",
    "flatten_reviews_train[0:35]\n",
    "# This line of code flattens the inptut matrix, which was a list of lists. Each sublist\n",
    "# was containing all the words within each review. After flattening the data, we get now\n",
    "# one vector containing all the words overall the data set. We print only the first 35 \n",
    "# observations"
   ]
  },
  {
   "cell_type": "markdown",
   "id": "492ecbd4",
   "metadata": {},
   "source": [
    "#### Question 3\n",
    "#####  Vocabulary Count\n",
    "\n",
    "Now, that we have our data set as a 1 dimension vector, we can proceed to count how many words are they in our data set. For this, we need to retrieve the unique elements within our words vector. This new vector with the unique elements will be referenced as the vocabulary set"
   ]
  },
  {
   "cell_type": "code",
   "execution_count": 26,
   "id": "9f939062",
   "metadata": {},
   "outputs": [
    {
     "data": {
      "text/plain": [
       "13099"
      ]
     },
     "execution_count": 26,
     "metadata": {},
     "output_type": "execute_result"
    }
   ],
   "source": [
    "# Count the train set vocabulary\n",
    "# Set allows to get unique words that are in flatten_reviews\n",
    "unique_words_train = list(set(flatten_reviews_train))\n",
    "len(unique_words_train) \n",
    "# We use the len method to compute the number of unique elements,\n",
    "# we checked the result with the following formula\n",
    "# len(np.unique(flatten_reviews_train))"
   ]
  },
  {
   "cell_type": "markdown",
   "id": "845e9dba",
   "metadata": {},
   "source": [
    "#### Question 4\n",
    "##### What are the five most common words? \n",
    "\n",
    "We will see now, what are the most common words in our vocabulary. This can be done easily with the FreqDist from nltk as shown below."
   ]
  },
  {
   "cell_type": "code",
   "execution_count": 30,
   "id": "452a2eeb",
   "metadata": {},
   "outputs": [
    {
     "name": "stdout",
     "output_type": "stream",
     "text": [
      "[('.', 10867), ('the', 8323), ('I', 6743), (',', 6551), ('and', 5429), ('it', 5217), ('phone', 5132), ('a', 4855), ('to', 4682), ('is', 3991), ('for', 2558), ('this', 2403), ('of', 2035), ('!', 1993), ('with', 1992), ('was', 1935), ('in', 1828), ('my', 1796), ('not', 1777), ('that', 1751)]\n"
     ]
    },
    {
     "data": {
      "image/png": "[encoded data removed]",
      "text/plain": [
       "<Figure size 432x288 with 1 Axes>"
      ]
     },
     "metadata": {
      "needs_background": "light"
     },
     "output_type": "display_data"
    },
    {
     "data": {
      "text/plain": [
       "<AxesSubplot:title={'center':'word occurences distribution'}, xlabel='word occurrence', ylabel='probability density'>"
      ]
     },
     "execution_count": 30,
     "metadata": {},
     "output_type": "execute_result"
    },
    {
     "data": {
      "image/png": "[encoded data removed]",
      "text/plain": [
       "<Figure size 576x360 with 1 Axes>"
      ]
     },
     "metadata": {
      "needs_background": "light"
     },
     "output_type": "display_data"
    }
   ],
   "source": [
    "# Plot the distribution of words\n",
    "# We import the method FreqDist\n",
    "from nltk import FreqDist\n",
    "\n",
    "# We need to pass to FreqDist the complete flattened word vector, not only the unique elements\n",
    "freqDist = FreqDist(flatten_reviews_train)\n",
    "# We print the 20 most common elements\n",
    "print(freqDist.most_common(20))\n",
    "\n",
    "# We create a normal plot that will allow us to the the tendency of the word counts\n",
    "freqDist.plot(25, cumulative=False)\n",
    "plt.show()\n",
    "plt.figure(figsize=(8,5))\n",
    "#Labeling features for readibility\n",
    "plt.xlabel('word occurrence'); plt.ylabel('probability density'); plt.title('word occurences distribution')\n",
    "\n",
    "# We create a vector containing the word count for each element to create a distribution plot\n",
    "full_counts = [x[1] for x in freqDist.most_common()]\n",
    "# Distribution plot\n",
    "sns.kdeplot(full_counts)"
   ]
  },
  {
   "cell_type": "markdown",
   "id": "e5ddf603",
   "metadata": {},
   "source": [
    "As we can see in the first graph, the most common character is \".\", which is not even a word. At this point, it is clear that some cleaning in our data set is still needed aa having punctuations as one of the most representative elements in the input set is very problematic. Some of the other most common words, like \"and\", \"to\", \"with\", etc., are known as Stop Words and are normally also eliminated as they have no real embedded meaning. This type of tokens will be erased further during this analysis before feeding our classification models. "
   ]
  },
  {
   "cell_type": "markdown",
   "id": "dc2181a0",
   "metadata": {},
   "source": [
    "#### Question 5\n",
    "##### Maximum lenght and only-one appereances\n",
    "\n",
    "Another charactristics of our datasets that might be interesting to retrieve are how many characters does the longest word have and which words only appear once."
   ]
  },
  {
   "cell_type": "code",
   "execution_count": 10,
   "id": "e8c261d6",
   "metadata": {},
   "outputs": [
    {
     "name": "stdout",
     "output_type": "stream",
     "text": [
      "//forum.xda-developers.com/lg-g3/help/lost-usb-connection-mode-t2847857Going : 76\n"
     ]
    }
   ],
   "source": [
    "# To return the vocabulary word with the highest length and its corresponding length, we will use the method max by using the\n",
    "# length of each word as the count criteria\n",
    "\n",
    "max_len=max(flatten_reviews_train, key=len)\n",
    "print(max_len, ':', len(max_len))"
   ]
  },
  {
   "cell_type": "markdown",
   "id": "cc889cb4-ddeb-4dce-82f7-94408002e4f1",
   "metadata": {},
   "source": [
    "As we can see below, the longest token observed is some sort of website adress which got a space missing between it and the next word, so they are pasted together. The lenght of the total token in 76. This kind of information could be a problem further in our analysis"
   ]
  },
  {
   "cell_type": "code",
   "execution_count": 31,
   "id": "f0fb1e7d",
   "metadata": {},
   "outputs": [
    {
     "data": {
      "text/plain": [
       "['//forum.xda-developers.com/lg-g3/help/lost-usb-connection-mode-t2847857Going']"
      ]
     },
     "execution_count": 31,
     "metadata": {},
     "output_type": "execute_result"
    }
   ],
   "source": [
    "# This is an alternative way to find the longest token, this method uses a loop which might be less efficient but it allows to \n",
    "# search for other tokerns besides the one having the maximum lenght\n",
    "\n",
    "maxlen = max(len(word) for word in flatten_reviews_train)\n",
    "[word for word in flatten_reviews_train if len(word) == maxlen]"
   ]
  },
  {
   "cell_type": "code",
   "execution_count": 32,
   "id": "0fe54b2e",
   "metadata": {},
   "outputs": [
    {
     "data": {
      "text/html": [
       "<div>\n",
       "<style scoped>\n",
       "    .dataframe tbody tr th:only-of-type {\n",
       "        vertical-align: middle;\n",
       "    }\n",
       "\n",
       "    .dataframe tbody tr th {\n",
       "        vertical-align: top;\n",
       "    }\n",
       "\n",
       "    .dataframe thead th {\n",
       "        text-align: right;\n",
       "    }\n",
       "</style>\n",
       "<table border=\"1\" class=\"dataframe\">\n",
       "  <thead>\n",
       "    <tr style=\"text-align: right;\">\n",
       "      <th></th>\n",
       "      <th>Word</th>\n",
       "      <th>Appereances</th>\n",
       "    </tr>\n",
       "  </thead>\n",
       "  <tbody>\n",
       "    <tr>\n",
       "      <th>5</th>\n",
       "      <td>👌👍</td>\n",
       "      <td>1</td>\n",
       "    </tr>\n",
       "    <tr>\n",
       "      <th>49</th>\n",
       "      <td>wrong.1</td>\n",
       "      <td>1</td>\n",
       "    </tr>\n",
       "    <tr>\n",
       "      <th>51</th>\n",
       "      <td>breeze2</td>\n",
       "      <td>1</td>\n",
       "    </tr>\n",
       "    <tr>\n",
       "      <th>53</th>\n",
       "      <td>easy3</td>\n",
       "      <td>1</td>\n",
       "    </tr>\n",
       "    <tr>\n",
       "      <th>56</th>\n",
       "      <td>vibrant4</td>\n",
       "      <td>1</td>\n",
       "    </tr>\n",
       "    <tr>\n",
       "      <th>...</th>\n",
       "      <td>...</td>\n",
       "      <td>...</td>\n",
       "    </tr>\n",
       "    <tr>\n",
       "      <th>13094</th>\n",
       "      <td>👎</td>\n",
       "      <td>1</td>\n",
       "    </tr>\n",
       "    <tr>\n",
       "      <th>13095</th>\n",
       "      <td>booted</td>\n",
       "      <td>1</td>\n",
       "    </tr>\n",
       "    <tr>\n",
       "      <th>13096</th>\n",
       "      <td>beofre</td>\n",
       "      <td>1</td>\n",
       "    </tr>\n",
       "    <tr>\n",
       "      <th>13097</th>\n",
       "      <td>silenced</td>\n",
       "      <td>1</td>\n",
       "    </tr>\n",
       "    <tr>\n",
       "      <th>13098</th>\n",
       "      <td>A++</td>\n",
       "      <td>1</td>\n",
       "    </tr>\n",
       "  </tbody>\n",
       "</table>\n",
       "<p>7273 rows × 2 columns</p>\n",
       "</div>"
      ],
      "text/plain": [
       "           Word Appereances\n",
       "5            👌👍           1\n",
       "49      wrong.1           1\n",
       "51      breeze2           1\n",
       "53        easy3           1\n",
       "56     vibrant4           1\n",
       "...         ...         ...\n",
       "13094         👎           1\n",
       "13095    booted           1\n",
       "13096    beofre           1\n",
       "13097  silenced           1\n",
       "13098       A++           1\n",
       "\n",
       "[7273 rows x 2 columns]"
      ]
     },
     "execution_count": 32,
     "metadata": {},
     "output_type": "execute_result"
    }
   ],
   "source": [
    "# Now, to find the number of words in the vocabulary that appear only once in the reviews we will use the method Counter fro\n",
    "# the package collections\n",
    "\n",
    "import collections\n",
    "from collections import Counter\n",
    "wordcounts = Counter(flatten_reviews_train) #This functions helps to count the appereances per word within the vocabulary\n",
    "a, b = zip(*wordcounts.items()) #The zip function helps to access the elemnts and its count\n",
    "# Then we just create a DataFrame containing the words and their appereances\n",
    "appereances = pd.DataFrame(data=[np.array(a),np.array(b)], index=['Word','Appereances']).T\n",
    "appereances[appereances['Appereances']== 1] # Here, we consider only the words appearing once"
   ]
  },
  {
   "cell_type": "markdown",
   "id": "67013a31",
   "metadata": {},
   "source": [
    "Here, we created a DataFrame, containing all the words and its count. We can see here that out of the 13,099 elemnts comprising our vocabulry, 7,273 appear only once. These words might not offer much information given that they are very specific.\n",
    "\n",
    "As we have seen so far, our vocabulary for the train test, has a lot of outlayers, several punctuations, stopwords, lower and upper case differences, among other issues. In order to use this vocabulary to train our classification models we will need to deal with this problems."
   ]
  },
  {
   "cell_type": "markdown",
   "id": "f7ad1d40",
   "metadata": {},
   "source": [
    "#### Question 6\n",
    "##### Building a vocabulary for the test set\n",
    "\n",
    "Now, we will build a vocabulary list for the test set as we did for the test set. The steps we will follow are very similar to those followed so far."
   ]
  },
  {
   "cell_type": "code",
   "execution_count": 33,
   "id": "50312af5",
   "metadata": {},
   "outputs": [
    {
     "name": "stdout",
     "output_type": "stream",
     "text": [
      "['The', 'speed', 'of', 'this', 'tablet', 'is', 'unreal', '!', 'It', 'is', 'by', 'far', 'the', 'fastest', 'I', \"'ve\", 'had', 'my', 'hands', 'on', '.', 'The', 'UI', 'is', 'very', 'responsive', 'and', 'flows', 'between', 'apps', 'as', 'smooth', 'as', 'butter', '!', 'I', 'believe', 'the', 'Quadrant', 'score', 'was', 'around', '22,000', '!', 'However', ',', 'I', 'think', 'mine', 'may', 'be', 'faulty', '...', 'The', 'battery', 'life', 'is', 'subpar', 'and', 'even', 'my', '3', 'year', 'old', 'Acer', 'A700', 'has', 'more', 'than', 'twice', 'the', 'run', 'time', 'under', 'the', 'same', 'load', '.', 'I', \"'m\", 'seeing', 'around', '4', '-', '5', 'hours', 'of', 'actual', 'use', 'before', 'the', 'battery', 'drops', 'below', '25', '-', '30', '%', ';', 'below', 'that', ',', 'it', 'drains', 'very', 'rapidly', '.', 'That', 'is', 'with', '1', '-', '1.5', 'hours', 'of', 'games', 'and', 'the', 'remaining', 'time', 'watching', 'movies', 'or', 'web', 'surfing', '.', 'I', \"'m\", 'finding', 'myself', 'having', 'to', 'recharge', 'it', 'at', 'least', 'once', 'during', 'the', 'day', ',', 'which', 'brings', 'up', 'another', 'complaint', '.', 'Even', 'with', 'the', 'stock', 'charger', ',', 'charging', 'is', 'slower', 'than', 'I', 'would', 'expect', '.', 'If', 'I', 'connect', 'a', 'non', 'OEM', 'power', 'adapter', '(', '5v', ',', 'rather', 'than', 'the', '5.3v', 'Samsung', 'adapter', ')', ',', 'it', 'charges', 'even', 'slower', 'and', ',', 'should', 'the', 'screen', 'turn', 'off', ',', 'will', 'stop', 'charging', 'altogether.I', \"'ve\", 'read', 'through', 'XDA', 'and', 'other', 'forums', 'enough', 'to', 'see', 'that', 'others', 'have', 'reported', 'experiencing', 'these', 'issues', ',', 'but', 'enough', 'have', 'validated', 'that', 'this', 'is', 'not', 'the', 'standard', '.', 'I', \"'ve\", 'hoped', 'with', 'my', 'battery', 'life', 'would', 'improve', 'after', 'several', 'charging', 'cycles', ',', 'however', ',', 'it', 'seems', 'to', 'stay', 'the', 'same', '.', 'I', 'do', 'believe', 'I', \"'ll\", 'be', 'exchanging', 'it', 'in', 'the', 'hopes', 'that', 'I', 'get', 'one', 'that', 'performs', 'as', 'it', 'should', '.', 'All', 'in', 'all', ',', 'though', ',', 'I', 'really', 'like', 'the', 'look', ',', 'feel', ',', 'and', 'speed', 'of', 'this', 'tablet', ',', 'but', 'if', 'I', 'ca', \"n't\", 'make', 'it', 'through', 'the', 'day', 'without', 'recharging', ',', 'which', 'has', 'not', 'been', 'an', 'issue', 'with', 'any', 'of', 'my', 'older', 'tablets', ',', 'then', 'I', 'may', 'need', 'to', 'keep', 'looking', ',', '--', '--', 'Update', ':', '9/17/15I', 'decided', 'to', 'keep', 'this', 'tablet', '.', 'With', 'subsequent', 'charging', 'cycles', ',', 'the', 'battery', 'life', 'began', 'improving', 'and', 'now', 'gets', 'closer', 'to', '8', 'hours', 'of', 'use', ',', 'which', 'is', 'near', 'what', 'the', 'stated', 'battery', 'time', 'is.I', 'am', 'still', 'deducting', 'a', 'star', 'for', '2', 'reasons', 'though', '.', 'The', 'T-Mobile', 'chime', 'when', 'it', 'turns', 'on', 'is', 'very', 'LOUD', 'and', 'very', 'ANNOYING', '!', 'Do', \"n't\", 'even', 'think', 'about', 'trying', 'to', 'discreetly', 'turn', 'this', 'on', 'or', 'restart', 'it', '.', 'The', 'other', 'con', 'is', 'that', ',', 'despite', 'having', 'a', 'Qualcom', 'chipset', ',', 'Quick', 'Charge', '2.0', 'does', \"n't\", 'seem', 'to', 'be', 'enabled', 'in', 'the', 'firmware', '.', 'Hopefully', 'that', 'will', 'be', 'fixed', 'in', 'the', 'future', '.', 'I', 'did', 'purchase', 'this', 'charger', '[', 'Qualcomm', 'Certified', ']', 'Anker', 'PowerPort+', '1', '(', 'Quick', 'Charge', '2.0', 'and', 'PowerIQ', 'Technology', '2-in-1', 'Premium', '18W', 'USB', 'Wall', 'Charger', ')', 'for', 'Galaxy', 'S6', '/', 'Edge', '/', 'Plus', ',', 'Note', '5', '/', '4', ',', 'LG', 'G4', ',', 'HTC', 'One', 'M8', '/', 'M9', ',', 'Nexus', '6', 'and', 'More', 'and', 'highly', 'recommend', 'it', '!', 'It', 'charges', 'the', 'tablet', 'as', 'well', ',', 'if', 'not', 'better', ',', 'than', 'the', 'OEM', 'charger', 'and', ',', 'unlike', 'all', 'of', 'my', 'other', 'aftermarket', '5v', '2+', 'amp', 'chargers', ',', 'the', 'Note', '10.1', 'does', \"n't\", 'stop', 'charging', 'if', 'the', 'screen', 'turns', 'off.All', 'in', 'all', ',', 'I', \"'m\", 'happy', 'with', 'this', 'tablet', '.', 'I', 'do', 'sometimes', 'wonder', 'though', 'if', 'it', 'would', 'have', 'been', 'worth', 'another', '$', '150', 'to', 'get', 'the', 'WIFI', 'only', 'version', 'without', 'the', 'T-Mobile', 'startup', 'chime', '.', ':', ')'] \n",
      "\n",
      "['i', 'had', 'been', 'shopping', 'for', 'a', 'smart', 'phone', 'from', 'boost', 'for', 'a', 'few', 'months', '.', 'i', 'knew', 'that', 'i', 'wanted', 'something', 'that', 'was', 'going', 'to', 'be', 'a', 'good', 'buy', '.', 'the', 'only', 'complaint', 'i', 'honestly', 'have', 'is', 'that', 'i', 'feel', 'the', 'phone', 'is', 'going', 'to', 'break', 'because', 'it', 'is', 'so', 'light', 'weight', '.', 'the', 'screen', 'on', 'it', 'is', 'awesome', ',', 'and', 'it', 'does', 'have', 'android', '4.0.', 'it', 'runs', 'super', 'fast', 'on', '3g', '...', 'its', 'confusing', 'at', 'first', ',', 'but', 'its', 'getting', 'easier', '.', 'good', 'buy', 'for', 'the', 'price', '...', 'definatley', 'worth', 'what', 'was', 'paid', 'for', 'it', '.'] \n",
      "\n",
      "['I', 'would', 'not', 'recommend', 'this', 'phone', '..', 'It', 'has', 'a', 'lot', 'of', 'problems', '.'] \n",
      "\n",
      "['NOT', 'UNLOCKED', '!', '!', '!', '!', '!', 'beware', '!', '!', '!', 'Also', 'as', 'soon', 'as', 'I', 'plugged', 'the', 'phone', 'it', 'got', 'really', 'hot', '!', '!', '!', 'I', 'saw', 'the', 'reviews', 'an', 'made', 'a', 'huge', 'mistake', 'by', 'giving', 'it', 'a', 'chance', '...', 'Do', 'not', 'buy', 'this', 'lie', '!', '!', '!', 'False', 'advertisement', '!', '!', '!', 'Repeat', 'it', 'is', 'NOT', 'a', 'factory', 'unlocked', 'phone'] \n",
      "\n",
      "['This', 'phone', 'is', 'a', 'gift', 'for', 'my', '80', \"'s\", 'something', 'friend', 'who', 'has', 'never', 'used', 'a', 'cell', 'phone', '.', 'This', 'phone', 'is', 'inexpensive', 'and', 'easy', 'to', 'use', '.', 'Even', 'though', 'it', 'is', 'small', ',', 'the', 'keypad', 'keys', 'are', 'large', 'enough', 'for', 'her', 'to', 'see', 'and', 'use', '.', 'The', 'phone', 'will', 'probably', 'be', 'used', 'as', 'a', 'phone', 'only', 'although', 'it', 'has', 'a', 'camera', 'and', 'web', 'functionality', '.', 'As', 'long', 'as', 'it', 'does', 'not', 'malfunction', ',', 'I', 'think', 'my', 'friend', 'will', 'be', 'pleased', '.'] \n",
      "\n"
     ]
    }
   ],
   "source": [
    "# Tokenized the test reviews\n",
    "\n",
    "reviews_tokenized_test = [word_tokenize(review) for review in test['Reviews']]\n",
    "for sentence in reviews_tokenized_test[:5]: print('%s \\n'%sentence)\n",
    "\n",
    "# Here, we tokenize the reviews contained within the test set, in order to\n",
    "# to be able to manipulate the test set at a word/element level."
   ]
  },
  {
   "cell_type": "code",
   "execution_count": 34,
   "id": "4943cba0",
   "metadata": {},
   "outputs": [
    {
     "data": {
      "text/plain": [
       "5225"
      ]
     },
     "execution_count": 34,
     "metadata": {},
     "output_type": "execute_result"
    }
   ],
   "source": [
    "# Test vocabulary creation\n",
    "\n",
    "flatten_reviews_test = [item for sublist in reviews_tokenized_test for item in sublist]\n",
    "unique_words_test = list(set(flatten_reviews_test))\n",
    "len(unique_words_test) \n",
    "\n",
    "# As we did before, the flatten the data set in order to extract the implicit vocabulary."
   ]
  },
  {
   "cell_type": "markdown",
   "id": "0f1aedbb",
   "metadata": {},
   "source": [
    "As it would be expected, the vocabulary of the test set (5,225 elements) is smaller than that of the train set (13,099)"
   ]
  },
  {
   "cell_type": "markdown",
   "id": "ecf5d206",
   "metadata": {},
   "source": [
    "#### Question 7\n",
    "##### Train vs Test\n",
    "\n",
    "Now, we will try to assess, how many of the words contained in the test set are not present in the train set. Hopefully, we won't get a high number."
   ]
  },
  {
   "cell_type": "code",
   "execution_count": 35,
   "id": "0b744657",
   "metadata": {},
   "outputs": [
    {
     "data": {
      "text/plain": [
       "3786"
      ]
     },
     "execution_count": 35,
     "metadata": {},
     "output_type": "execute_result"
    }
   ],
   "source": [
    "# Here we will try to see which words that are present in the test set of reviews are also present in the train vocabulary\n",
    "\n",
    "contained=[]\n",
    "for words1 in unique_words_test:\n",
    "    for words2 in unique_words_train:\n",
    "        if words1==words2:\n",
    "            contained.append(words1)\n",
    "\n",
    "len(contained)"
   ]
  },
  {
   "cell_type": "markdown",
   "id": "1a110844-e564-489c-a534-18c5b81f8a4b",
   "metadata": {},
   "source": [
    "Here, we obtained through a double loop, which are the words from the test vocabulary that are contained within the train vocabulary"
   ]
  },
  {
   "cell_type": "code",
   "execution_count": 36,
   "id": "8c3e20c8",
   "metadata": {},
   "outputs": [
    {
     "data": {
      "text/plain": [
       "True"
      ]
     },
     "execution_count": 36,
     "metadata": {},
     "output_type": "execute_result"
    }
   ],
   "source": [
    "# With this formula we can check that all the elements found above are actually\n",
    "# contained in the train sample. As, the words were obtained from the test sample\n",
    "# they will be contained in the test vocabulary, so no aditional check needed.\n",
    "\n",
    "all(elem in unique_words_train for elem in contained)"
   ]
  },
  {
   "cell_type": "code",
   "execution_count": 38,
   "id": "dee527cf",
   "metadata": {},
   "outputs": [
    {
     "data": {
      "text/plain": [
       "1439"
      ]
     },
     "execution_count": 38,
     "metadata": {},
     "output_type": "execute_result"
    }
   ],
   "source": [
    "# Lastly, we created a new list out of the train vocabulary droping\n",
    "# those elements contaied in both, the train and the test, vocabularies\n",
    "\n",
    "non_contained = [ele for ele in unique_words_test if ele not in contained]\n",
    "len(non_contained)"
   ]
  },
  {
   "cell_type": "markdown",
   "id": "f5c2c9e9-a56b-4165-b915-009ccd520d64",
   "metadata": {},
   "source": [
    "Out of the 5,225 words contained in the test set, there are 1,439 words that are not present in the test set, which accounts for 27.5% of the test sample. This number is not small, but we consider it is small enough to allow us to implement our classification method as almost 3/4 of the test sample will be used to train the model."
   ]
  },
  {
   "cell_type": "markdown",
   "id": "2c3906c3",
   "metadata": {},
   "source": [
    "## 2. Main Course: Review Classification with Logistic Regression and BoW text encoding\n",
    "\n",
    "Now, we will apply the Logistic Regression classification model by applying the Bag of Words method to our sample to process our data. All the work done before will serve as a basis to pepare our data."
   ]
  },
  {
   "cell_type": "markdown",
   "id": "4632161a",
   "metadata": {},
   "source": [
    "### 2.1. Defining X (features vectors) and y (labels) sets"
   ]
  },
  {
   "cell_type": "markdown",
   "id": "190dcb9a",
   "metadata": {},
   "source": [
    "We will now start to implement our classification methods. To do so, We start by storing our features and labels in X_train, y_train, X_test and y_test. Then, we will try to predict the ratings that go from 1 to 5 based on the written reviews. We will transform our ratings so that the scale starts in 0. This means that, now, the ratings will range from 0 to 4. This will allow us to define the categorical cross-entropy as a loss function for the Neural Network that we will be training. The categorical cross-entropy is defined as follows:\n",
    "\n",
    "$$C=-\\frac{1}{m}\\sum_{j=1}^{m}\\sum_{k=1}^{K}y_{ik}\\ln{p_{ik}}$$\n",
    "\n",
    "Where K are the different possible ratings and m is the number of data points in the train sample."
   ]
  },
  {
   "cell_type": "code",
   "execution_count": 39,
   "id": "caa532bc",
   "metadata": {},
   "outputs": [
    {
     "data": {
      "text/plain": [
       "((5000,), (5000,))"
      ]
     },
     "execution_count": 39,
     "metadata": {},
     "output_type": "execute_result"
    }
   ],
   "source": [
    "# We define X_train and y_train from the train sample obtained above with the reviews for each purchase and we\n",
    "# perform some adjustements. First, we assing a blank space whenever we dont count with a written review\n",
    "X_train = train['Reviews'].fillna(\"\")\n",
    "# We transform the ratings by substracting 1 to each rating to have labels that starts at 0 \n",
    "# to use sparse categorical cross-entropy as loss function for the NN training\n",
    "y_train = train['Rating']-1\n",
    "X_train.shape, y_train.shape"
   ]
  },
  {
   "cell_type": "code",
   "execution_count": 40,
   "id": "a9f23602",
   "metadata": {},
   "outputs": [
    {
     "data": {
      "text/plain": [
       "((1000,), (1000,))"
      ]
     },
     "execution_count": 40,
     "metadata": {},
     "output_type": "execute_result"
    }
   ],
   "source": [
    "# We perform the same step for the test set defined above\n",
    "X_test = test['Reviews'].fillna(\"\")\n",
    "# Substract 1 to rating to have labels that starts at 0 \n",
    "# to use sparse categorical cross-entropy as loss function for the NN training\n",
    "y_test = test['Rating']-1\n",
    "X_test.shape, y_test.shape"
   ]
  },
  {
   "cell_type": "markdown",
   "id": "67b24c31",
   "metadata": {},
   "source": [
    "#### Question 8\n",
    "\n",
    "#### Clean Function\n",
    "\n",
    "We will define a function that takes some text and return the cleaned version of it, considering the steps explained in the first part of this question, so that the processed data is ready to use it as an input for our classification method."
   ]
  },
  {
   "cell_type": "code",
   "execution_count": 41,
   "id": "61e44c7c",
   "metadata": {},
   "outputs": [
    {
     "name": "stderr",
     "output_type": "stream",
     "text": [
      "[nltk_data] Downloading package stopwords to\n",
      "[nltk_data]     C:\\Users\\apala\\AppData\\Roaming\\nltk_data...\n",
      "[nltk_data]   Package stopwords is already up-to-date!\n"
     ]
    }
   ],
   "source": [
    "## We are going to define a function called \"clean_text\" which takes text as input and\n",
    "## returns a clean text after several steps.\n",
    "## We will explain all the different steps along the process. \n",
    "\n",
    "\n",
    "import nltk\n",
    "nltk.download('stopwords') # This steps download a pre-built library of stop words as defined above, i.e. words with no real meaning\n",
    "import string \n",
    "from nltk.tokenize import WhitespaceTokenizer # We import the method to tokenize the text\n",
    "from nltk.stem import WordNetLemmatizer # We import the methdo to lemmatize the text. Lemmatize refers to a method that converts words to their root which helps reducing\n",
    "                                        # in an important fashion the amount of words within a large text. This is useful as congugated words have the same meaning but in \n",
    "                                        # a simple tokenization they are accountes as if they were different words.\n",
    "from nltk.corpus import stopwords # We import the method to remove the stop words\n",
    "\n",
    "# In this step, we import a library containing the normal emojis found in this types of reviews. This will allow us to indentify them and remove them from the reviews as their\n",
    "# meaning is normally redundant\n",
    "try:\n",
    "    import emoji\n",
    "except:\n",
    "    !pip install emoji\n",
    "    import emoji\n",
    "\n",
    "\n",
    "def clean_text(text):\n",
    "    # The first step will be to remove from our data sample any emoji for the reason exposed above\n",
    "    text = [c for w in text for c in w if c not in emoji.UNICODE_EMOJI]\n",
    "    text = ''.join(text)\n",
    "    \n",
    "     # We convert all text to lower case so that we do not double count words that are written both with upper and lower case, as they are the same word\n",
    "    text = text.lower()\n",
    "    \n",
    "     # We remove all the punctiation symbols as they do not have any real meaning associated with them\n",
    "    text = [word.strip(string.punctuation) for word in text.split(\" \")]\n",
    "    \n",
    "     # We remove any numbers found in the text as they information added regarding client satisfaction can be misleading\n",
    "    text = [word for word in text if not any(c.isdigit() for c in word)]\n",
    "    \n",
    "     # We, then, remove the stop words as they do not have any real meaning embedded\n",
    "    stop = stopwords.words('english')\n",
    "    text = [x for x in text if x not in stop]\n",
    "    \n",
    "     # We remove the blank spaces, for examples the ones created when removing the emojis\n",
    "    text = [t for t in text if len(t) > 0]\n",
    "    \n",
    "     # We lemmatize the words. The explanation of the process is above in this chunk of code\n",
    "    text = [WordNetLemmatizer().lemmatize(t) for t in text]\n",
    "    \n",
    "     # We remove any word having less that two characters as they normally do not add much information\n",
    "    text = [t for t in text if len(t) > 2]\n",
    "    \n",
    "    return \" \".join(text)"
   ]
  },
  {
   "cell_type": "code",
   "execution_count": 42,
   "id": "4fa20ae4",
   "metadata": {},
   "outputs": [],
   "source": [
    "# We then used the defined Clean function to X_train and X_test which were previous preprocessing\n",
    "X_train_cleaned = [clean_text(r) for r in X_train]\n",
    "X_test_cleaned = [clean_text(r) for r in X_test]"
   ]
  },
  {
   "cell_type": "markdown",
   "id": "b73868da",
   "metadata": {},
   "source": [
    "#### Question 9\n",
    "\n",
    "##### Logistic Regression\n",
    "\n",
    "In this step, we will fit a logistic regression model. In order to be able to pass our data sample to the neural network in a more efficient manner we will transform our data into matrix using a Bag of Words (BoW). The Bag of Words is representation of the vocabulary from a text (the one containing the unique words) in which an index is assinged to each unique word. We, then, can use this vector to represent each review as a vector indicating how much times each word contained in the Bag of Words appears in it, resulting in a matrix of NxM, where N is the number of reviews and M is the number of elements in the Bag of Words."
   ]
  },
  {
   "cell_type": "code",
   "execution_count": 50,
   "id": "26fd2c0d",
   "metadata": {},
   "outputs": [
    {
     "name": "stdout",
     "output_type": "stream",
     "text": [
      "accuracy score:  0.657\n",
      "              precision    recall  f1-score   support\n",
      "\n",
      "           0       0.62      0.63      0.63       156\n",
      "           1       0.12      0.21      0.15        28\n",
      "           2       0.13      0.20      0.16        45\n",
      "           3       0.23      0.44      0.30        84\n",
      "           4       0.91      0.74      0.81       687\n",
      "\n",
      "    accuracy                           0.66      1000\n",
      "   macro avg       0.40      0.45      0.41      1000\n",
      "weighted avg       0.75      0.66      0.69      1000\n",
      "\n"
     ]
    }
   ],
   "source": [
    "# Using LogisticRegression from sklearn, fit a first model\n",
    "from sklearn.linear_model import LogisticRegression # We import the logistic regression model\n",
    "from sklearn.feature_extraction.text import CountVectorizer # We import the CountVectorizer method which allows us to transform our data set into a matrix representation based on the BoW\n",
    "# Using classification_report, evaluate the model\n",
    "from sklearn.metrics import classification_report # We import a model that will help us to proved clear performance statistics of our classification model\n",
    "# Build, Fit and Evaluate a model using the previous preprocessing\n",
    "from sklearn.metrics import accuracy_score # We import a model that will give us the accuracy of the predictions made\n",
    "\n",
    "cv = CountVectorizer()\n",
    "\n",
    "# Here, we create the Bag of Words associated to our data sample. This method will, implicitly, extract the vocabulary out of the data sample and create a BoW from it. We do this\n",
    "# using the train vocabulary and then we use the resulting BoW to transform both the training and the test sample\n",
    "cv.fit(X_train_cleaned)\n",
    "\n",
    "# We transform our reviews into a vectorized form of the BoW. The resulting object is a NxM matrix\n",
    "X_train_encoded = cv.transform(X_train_cleaned)\n",
    "X_test_encoded = cv.transform(X_test_cleaned)\n",
    "\n",
    "lr = LogisticRegression(max_iter=200)\n",
    "lr.fit(X_train_encoded, y_train) # We fit the logistic regression to our data\n",
    "y_pred = lr.predict(X_test_encoded) # We generate the predictions to compare with the test sample\n",
    "\n",
    "# We finally, print the perfromance statistics\n",
    "print('accuracy score: ',accuracy_score(y_pred, y_test))\n",
    "print(classification_report(y_pred, y_test))\n",
    "\n",
    "\n",
    "# As explained above, the CountVectorizer allow us to represent the data sample in terms of a Bag of Words. Each review will be a vector with the same number of elements contained \n",
    "# in the BoW. The elements are the number of times that each word appears in the text. If the method CountVectorizer is set to Binary=True, then all the elements that are different\n",
    "# to zero will be converted to 1. This might be useful in a binary classification model, meaning that you have only two classes or when how much the words appear in the text do not\n",
    "# add much information to the classification task being done. In our case, we have more than two classes and the words frequency do matter, so binary should set as False. "
   ]
  },
  {
   "cell_type": "markdown",
   "id": "acbd6193",
   "metadata": {},
   "source": [
    "#### Question 10\n",
    "\n",
    "##### Interpreting the results"
   ]
  },
  {
   "cell_type": "markdown",
   "id": "2503e397-a5cf-4a12-aa8c-699c334634e0",
   "metadata": {},
   "source": [
    "As we can see from the overall accuracy result, which shows what percentage of the predicted value were correctly classified, is pretty low at 65.7%. But, then, while looking at the precision score, which reflects the proportion of the values well classified to each class to both the well and incorreclty classified data points at the corresponding class, we can see that the model is very good at capturing the data points belonging to the fifth class (5 stars) and first class, while it does not do very well in differentiating the data points belonging to the middle classes. \n",
    "\n",
    "This is consistent with what is observed in the recall and f1-score. The former reflects the proportion of correctly classified points to each class to both the correctly classified points and the points that should have been classified into the corresponding class but actually were not. The latter is a combination of both precision and recall and it is a more balanced performance metric than the accuracy, as it is not overly focused on correctly classified points as the accuracy metric. \n",
    "\n",
    "This point can be further stressed by comparing the macro average and the weighted average. The macro averages the metrics in an equally-weighted fashion, while the latter does so taking into account the proportion of data belonging to each class. The weighted average increases importantly as most of the reviews are focused on the last class. This reflects that our data set is quite unbalanced and, therefore, the model trained on such data gets very good at predicting the dominating class but it does not do so good in the other classes.\n",
    "\n",
    "Below, we will explain how to compute each of the measures discussed here for the last class."
   ]
  },
  {
   "cell_type": "code",
   "execution_count": 23,
   "id": "45168997",
   "metadata": {},
   "outputs": [
    {
     "name": "stderr",
     "output_type": "stream",
     "text": [
      "C:\\Users\\apala\\anaconda3\\lib\\site-packages\\sklearn\\utils\\deprecation.py:87: FutureWarning: Function plot_confusion_matrix is deprecated; Function `plot_confusion_matrix` is deprecated in 1.0 and will be removed in 1.2. Use one of the class methods: ConfusionMatrixDisplay.from_predictions or ConfusionMatrixDisplay.from_estimator.\n",
      "  warnings.warn(msg, category=FutureWarning)\n",
      "C:\\Users\\apala\\anaconda3\\lib\\site-packages\\sklearn\\utils\\deprecation.py:87: FutureWarning: Function plot_confusion_matrix is deprecated; Function `plot_confusion_matrix` is deprecated in 1.0 and will be removed in 1.2. Use one of the class methods: ConfusionMatrixDisplay.from_predictions or ConfusionMatrixDisplay.from_estimator.\n",
      "  warnings.warn(msg, category=FutureWarning)\n",
      "C:\\Users\\apala\\anaconda3\\lib\\site-packages\\sklearn\\utils\\deprecation.py:87: FutureWarning: Function plot_confusion_matrix is deprecated; Function `plot_confusion_matrix` is deprecated in 1.0 and will be removed in 1.2. Use one of the class methods: ConfusionMatrixDisplay.from_predictions or ConfusionMatrixDisplay.from_estimator.\n",
      "  warnings.warn(msg, category=FutureWarning)\n"
     ]
    },
    {
     "data": {
      "text/plain": [
       "<sklearn.metrics._plot.confusion_matrix.ConfusionMatrixDisplay at 0x21dedac0a00>"
      ]
     },
     "execution_count": 23,
     "metadata": {},
     "output_type": "execute_result"
    },
    {
     "data": {
      "image/png": "[encoded data removed]",
      "text/plain": [
       "<Figure size 432x288 with 2 Axes>"
      ]
     },
     "metadata": {
      "needs_background": "light"
     },
     "output_type": "display_data"
    },
    {
     "data": {
      "image/png": "[encoded data removed]",
      "text/plain": [
       "<Figure size 432x288 with 2 Axes>"
      ]
     },
     "metadata": {
      "needs_background": "light"
     },
     "output_type": "display_data"
    },
    {
     "data": {
      "image/png": "[encoded data removed]",
      "text/plain": [
       "<Figure size 432x288 with 2 Axes>"
      ]
     },
     "metadata": {
      "needs_background": "light"
     },
     "output_type": "display_data"
    }
   ],
   "source": [
    "# Print/plot the confusion matrix\n",
    "from sklearn.metrics import plot_confusion_matrix\n",
    "plot_confusion_matrix(lr, X_test_encoded, y_test);\n",
    "plot_confusion_matrix(lr, X_test_encoded, y_test, normalize='true');\n",
    "plot_confusion_matrix(lr, X_test_encoded, y_test, normalize='pred')\n",
    "\n",
    "### TO BE COMPLETED BY STUDENTS."
   ]
  },
  {
   "cell_type": "markdown",
   "id": "24acd45b-3f2e-46d7-a9d0-6c1ad58a3874",
   "metadata": {},
   "source": [
    "We created the confussion matrix, which allow us to see how the predictions were classified against how they should have been classified. We can use the data contained in them to compute the scores explanied above. For this, we need to look at the first matrix. The first step will be to compute the following metrics:\n",
    "\n",
    "- $True Positives = 506$\n",
    "- $False Positives = 12 + 4 + 10 + 24 = 50$\n",
    "- $True Negatives = 1000 - 506 = 494$\n",
    "- $False Negatives = 37 + 15 + 32 + 98 = 182$\n",
    "\n",
    "Now, we can see how to compute each measure:\n",
    "\n",
    "- $Precision = \\frac{TP}{TP+FP} = \\frac{506}{506+50} = 91.00\\%$\n",
    "- $Recall = \\frac{TP}{TP+FN} = \\frac{506}{506+182} = 73.54\\%$\n",
    "- $f-1 score = 2*\\frac{Precision*Recall}{Precision+Recall} = 2*\\frac{0.91*0.7354}{0.91+0.7354} = 81.35\\%$\n",
    "\n",
    "The second and the third matrix have the same information than the first matrix but scaled by the true value and the predicted value, accordingly. To understand it a little better, we can notice that the diagonal of the second matrix is equal to the precision score to each matrix and the diagonal of the second is equal to the recall score. "
   ]
  },
  {
   "cell_type": "markdown",
   "id": "28b39b17-07dd-4f35-ab9a-04d21d5f605e",
   "metadata": {
    "jp-MarkdownHeadingCollapsed": true,
    "tags": []
   },
   "source": [
    "#### Question 11\n",
    "\n",
    "##### There was no question 11"
   ]
  },
  {
   "cell_type": "markdown",
   "id": "c04213bb",
   "metadata": {},
   "source": [
    "#### Question 12\n",
    "\n",
    "##### TfidfVectorizer\n",
    "\n",
    "Now, we will repeat the same procedure as before but with a different method of vectorizing the data sample. The method is called TF-IDF, in which:\n",
    "\n",
    "- TF stands for Term Frequency the number of times a specific element appears in each review\n",
    "- IDF stands for Inverse Document Frequency the number of documents containing the element\n",
    "\n",
    "$$IDF(t) = 1+ln\\Big(\\frac{1+N}{1+DF(t)}\\Big)$$\n",
    "\n",
    "$$TF-IDF = TF*IDF$$\n",
    "\n",
    "So, the result of such vectorizing procedure will be a matrix just as in the Bag of Words method, but instead of having the counts of each word in each review as element, we will have the TF-IDF statistics. This will help us to give more importance to words that are hihgly present in some reviews even if it is not  that present overall the set of reviews, which is not possible using only the BoW."
   ]
  },
  {
   "cell_type": "code",
   "execution_count": 52,
   "id": "1e252bf6",
   "metadata": {},
   "outputs": [
    {
     "name": "stdout",
     "output_type": "stream",
     "text": [
      "accuracy score:  0.677\n",
      "              precision    recall  f1-score   support\n",
      "\n",
      "           0       0.73      0.64      0.68       181\n",
      "           1       0.04      1.00      0.08         2\n",
      "           2       0.01      0.25      0.03         4\n",
      "           3       0.14      0.45      0.21        51\n",
      "           4       0.96      0.70      0.81       762\n",
      "\n",
      "    accuracy                           0.68      1000\n",
      "   macro avg       0.38      0.61      0.36      1000\n",
      "weighted avg       0.87      0.68      0.75      1000\n",
      "\n"
     ]
    }
   ],
   "source": [
    "from sklearn.feature_extraction.text import TfidfVectorizer\n",
    "\n",
    "tf_idf = TfidfVectorizer()\n",
    "\n",
    "# Here, we create the Bag of Words associated to our data sample. This method will, implicitly, extract the vocabulary out of the data sample and create a BoW from it. We do this\n",
    "# using the train vocabulary and then we use the resulting BoW to transform both the training and the test sample\n",
    "tf_idf.fit(X_train_cleaned)\n",
    "\n",
    "# We transform our reviews into a vectorized form of the BoW. The resulting object is a NxM matrix\n",
    "X_train_encoded_2 = tf_idf.transform(X_train_cleaned)\n",
    "X_test_encoded_2 = tf_idf.transform(X_test_cleaned)\n",
    "\n",
    "lr = LogisticRegression(max_iter=200)\n",
    "lr.fit(X_train_encoded_2, y_train) # We fit the logistic regression to our data\n",
    "y_pred = lr.predict(X_test_encoded_2) # We generate the predictions to compare with the test sample\n",
    "\n",
    "# We finally, print the perfromance statistics\n",
    "print('accuracy score: ',accuracy_score(y_pred, y_test))\n",
    "print(classification_report(y_pred, y_test))\n",
    "\n",
    "# As we explained before, the TF-IDF vectorizer goes one step further than Bag of Words by giving more importance to the most frequent elements within the vocabulary.\n",
    "# Nevertheless, it is important to consider the meaning of some paramenters within the TfidVectorizer method.\n",
    "# n_gram -> instead of searching the frequency of specific words, with this parameter we can look for the frequency of specific combinations of words. Basically, instead of separating \n",
    "#           by word, we will separate by groups of two words (in the case of n being 2). So, that one portion of text like \"Product good performance\" coming from \"The product has\n",
    "#           good performance\" after cleaning, will be separeted in \"product good\" and \"good performance\" rather than \"product\", \"good\", \"performance\". In this example, we can see that\n",
    "#           the the two bigrams offer a lot of meaning, while from the three words only one of them does. \n",
    "# min_df -> it sets a minimum frequency for each word to be considered part of the words vector\n",
    "# max_df -> it sets a maximum frequency for each word to be considered part of the words vector\n",
    "# binary -> it will transform all the non-zero frequency counts in the tf to 1 (not the TF-IDF number)"
   ]
  },
  {
   "cell_type": "markdown",
   "id": "7b4ef87b-d57b-489d-8c4d-ea939410c3ee",
   "metadata": {},
   "source": [
    "As we can see, the weighted average of all the scores improved compared to the previous excersice, in which we obtained 0.76, 0.66 and 0.69, even if the overall accuracy did not changed a lot (previous figure was 0.657). This improvement may be explained for the fact that we can give more importance to those terms that are highly present in some reviews. This information was lost in the example in which we used only BoW. \n",
    "\n",
    "Nonetheless, is important to notice that the prediction perfromance in the middel ratings actually went a little down except from the recall measure for the second rating, which went all the way up to 1.00 implying that no false negatives were classified in that class. Even if this last statement seems very good, it enough to see that this was a specific case given that this improvement for this class was not observed in the other performance measures. "
   ]
  },
  {
   "cell_type": "markdown",
   "id": "ddccc1a8",
   "metadata": {},
   "source": [
    "#### Question 13\n",
    "\n",
    "#### Additional paramaters - Logistic Regression\n",
    "\n",
    "In this question we will explain more in detail what does the parameters \"penatly\" and \"C\" within the logistic regression model imply. Before diving into the concepts, we need to remember that a logistic regression will try to stablish a linear relationship between some features and the label(s). To do so, it calculates the coefficients to each feature so that the loss fucntion, normally the Mean Squared Error, is minimized. Nonetheless, there could be some flaws within the data sample leading to some flaws in the fitting of the model. One of the problems may be having coefficients that are too big in comparison to others, gaining maybe too much relevand in the model. There are some methods that provide a solution for this kind of problems. They are called regularization methods and the most populares are Ridge and Lasso. Ridge method will penalize the loss function by adding the squared magnitude of the coefficients.\n",
    "\n",
    "$$Ridge -> \\sum_{n=1}^{N}(y_{i}-\\hat{y}_{i})^2 + \\lambda\\sum_{n=1}^{N}\\beta_{i}^2$$ \n",
    "\n",
    "On the other hand, the Lasso method will penalize by adding the absolute value of the coefficient to the loss function.\n",
    "\n",
    "$$Lasso -> \\sum_{n=1}^{N}(y_{i}-\\hat{y}_{i})^2 + \\lambda\\sum_{n=1}^{N}|\\beta_{i}|$$\n",
    "\n",
    "This will implicitly force the optimization method to prefer coefficients thar are not too large given that they increase the loss function. An imporant characteristic of Lasso is that it will try to shrink the less important features coefficients to zero leading to a elimination of the less important features. This can be very useful when working with large feature space.\n",
    "\n",
    "Then, the penatly parameter within the logistic regression tells which method of regularization to use. Another interesting paramenter is the C, which is the inverse of the regulatization strength. This can be taught as the inverse of lambda. When lambda is zero, there is no regularization at all. This will mean a high C. When C is small, meaning a high value of lambda, the regularization strenght is high and, therefore, the model will be giving a high weight to the penalty in the loss function optimization. "
   ]
  },
  {
   "cell_type": "markdown",
   "id": "8211f7d0",
   "metadata": {},
   "source": [
    "## 3. Dessert: Review Classification with Neural Networks and Word Embedding\n",
    "\n",
    "In this part of question, we will explore the Neural Networks approach and compare it to the results we obtained from the slighlty more simplistic linear regression approach. One of the main differences is that now we will using the keras library instead of the sklearn one. Before, we used the CountVectorizer and TdifdVectorizer to transform our reviews into a vectorized form so that we could extract features from them. The equivalent method in keras library is called Tokenizer, which has less options but it allows to use the availables GPUs to make the processing faster. "
   ]
  },
  {
   "cell_type": "code",
   "execution_count": 53,
   "id": "14c38b70",
   "metadata": {},
   "outputs": [],
   "source": [
    "from tensorflow.keras.preprocessing.text import Tokenizer # We import the Tokenizer method to vectorize the reviews"
   ]
  },
  {
   "cell_type": "markdown",
   "id": "9b9e9d82",
   "metadata": {},
   "source": [
    "#### Question 14\n",
    "\n",
    "##### Tokenizer method"
   ]
  },
  {
   "cell_type": "code",
   "execution_count": 57,
   "id": "82a4cfc0",
   "metadata": {},
   "outputs": [],
   "source": [
    "# Create an instance of the Tokenizer class \n",
    "tokenizer = Tokenizer() \n",
    "\n",
    "# Here, we apply the vectorizaion method to our data sample. This method will, implicitly, also extract the vocabulary out of the data sample and create a vocabulary out of it.\n",
    "# We will, then, use the resulting BoW to transform both the training and the test sample\n",
    "tokenizer.fit_on_texts(X_train_cleaned) \n",
    "\n",
    "# We transform our reviews into a vectorized form of the BoW. The resulting object is list of sequences\n",
    "sequences_train = tokenizer.texts_to_sequences(X_train_cleaned) \n",
    "sequences_test = tokenizer.texts_to_sequences(X_test_cleaned) "
   ]
  },
  {
   "cell_type": "markdown",
   "id": "805c6ae6-860b-49a1-b0a6-f15db73dd340",
   "metadata": {},
   "source": [
    "So far, we stated that the basic idea behind Tokenizer and the other vectorization methods is the same. This is true but there is an important difference that we need to bear in mind. We can pass as a parameter to the method differents modes like binary, counts, frequency, TD-IDF, so to have a similar result as before. The problem is that both CountVectorizer and TdidfVectorizer should yield the same number of features as they create a matrix in which the number of columns is the number of words in the vocabulary. \n",
    "\n",
    "On the other hand, Tokenizer will create a list of sequences consisting on the representation of each word within the review. This means that we will only have the non zero terms, only a sequence of the representations of the words within each reviews. We can understand this as each review having different number of elements, while the previous methods will force every review to have the seme number of elements by adding zero to the non present words. "
   ]
  },
  {
   "cell_type": "markdown",
   "id": "464fd51b",
   "metadata": {},
   "source": [
    "#### Question 15"
   ]
  },
  {
   "cell_type": "code",
   "execution_count": 58,
   "id": "9999bee3",
   "metadata": {},
   "outputs": [
    {
     "name": "stdout",
     "output_type": "stream",
     "text": [
      "512\n"
     ]
    }
   ],
   "source": [
    "print(max([len(i) for i in sequences_train]))"
   ]
  },
  {
   "cell_type": "code",
   "execution_count": 59,
   "id": "cf1bb282",
   "metadata": {},
   "outputs": [
    {
     "name": "stdout",
     "output_type": "stream",
     "text": [
      "519\n"
     ]
    }
   ],
   "source": [
    "print(max([len(i) for i in sequences_test]))"
   ]
  },
  {
   "cell_type": "markdown",
   "id": "9aad2657-a391-4255-bc2a-b5833a92fc30",
   "metadata": {},
   "source": [
    "With the above two chunk of codes we can extract how many words does the longest review has in both the train set and the test set. The number of elements in each of them is 512 and 519, accordingly. We can be sure that there are only words in there as we have previously cleaned the data set before hand and because the Tokenizer method do account for punctuation terms my supressing them. "
   ]
  },
  {
   "cell_type": "markdown",
   "id": "95af0a74",
   "metadata": {},
   "source": [
    "#### Question 16\n",
    "\n",
    "##### Pad_Sequence method\n",
    "\n",
    "Now, we will introcue a method that allows to overcome the fact of each review having different number of elements. This method is call padding. It consists of adding zeros where there are no elements. This will lead to all reviews having the same number of elements. Nonetheless, we need to specify how long the resulting sequences will be. If we do not do this, the resuling vectos will be as long as maximum number of elements in the longest reviews. Therefore, it we would have vectors with a lenght of 512 in the train set and 519 in the test set. We would like them to have the same lenght, so we take the maximum of the two and pass that as parameter to the pad_sequence method. We will therefore get a matrix of size NxM as in the previous vectorizing methods."
   ]
  },
  {
   "cell_type": "code",
   "execution_count": 61,
   "id": "7efb95b6",
   "metadata": {},
   "outputs": [
    {
     "name": "stdout",
     "output_type": "stream",
     "text": [
      "(5000, 520)\n"
     ]
    }
   ],
   "source": [
    "from tensorflow.keras.preprocessing.sequence import pad_sequences # We download the padding method\n",
    "maxlen = 520 \n",
    "data_train = pad_sequences(sequences_train, maxlen) # We apply the padding method to our train set\n",
    "data_test = pad_sequences(sequences_test,maxlen) # We apply the padding method to our test set\n",
    "print(data_train.shape) "
   ]
  },
  {
   "cell_type": "markdown",
   "id": "9eff9c61",
   "metadata": {},
   "source": [
    "#### Question 17\n",
    "\n",
    "In this part of the question we will show how to acess the vocablary built by the Tokenizer method. Tokenizer creates a dictionary object comprising the vocabulary elements and the index assign to each element. In order to access it you use the word_index method as shown below."
   ]
  },
  {
   "cell_type": "code",
   "execution_count": 74,
   "id": "b0fb5c33-b177-48eb-a63f-65e282d7e0a5",
   "metadata": {},
   "outputs": [
    {
     "data": {
      "text/plain": [
       "[('phone', 1),\n",
       " ('great', 2),\n",
       " ('good', 3),\n",
       " ('work', 4),\n",
       " ('one', 5),\n",
       " ('like', 6),\n",
       " ('battery', 7),\n",
       " ('screen', 8),\n",
       " ('use', 9),\n",
       " ('love', 10)]"
      ]
     },
     "execution_count": 74,
     "metadata": {},
     "output_type": "execute_result"
    }
   ],
   "source": [
    "list(tokenizer.word_index .items())[:10]"
   ]
  },
  {
   "cell_type": "code",
   "execution_count": 62,
   "id": "2d30b73f",
   "metadata": {},
   "outputs": [
    {
     "name": "stdout",
     "output_type": "stream",
     "text": [
      "7848\n"
     ]
    }
   ],
   "source": [
    "word_index = tokenizer.word_index\n",
    "\n",
    "# How many words are there actually?\n",
    "nb_words =len(tokenizer.word_index)\n",
    "print(nb_words)"
   ]
  },
  {
   "cell_type": "markdown",
   "id": "0848d6d0",
   "metadata": {},
   "source": [
    "In the code above, we obtained the lenght of the dictionary created by Tokenizer. In this way we can now how many words are there in our vocabulary. Next, we will build a neural network to process our data. The architecthure of our neural network will consist of one embedding layer, one flatten layer, one hiden layer with 16 neuros and the output layer, which will have 5 neurons, one for each possible rating. The activation function of the output layer will be a soft max activation function, which is usually used in multicategorical classification method. \n",
    "\n",
    "We will train this neural network in order to be able to predcit ratings out of the reviews from the test set. It is important to expain before hand what the embedding layer will be doing. Embedding is a concept referring to a word represention as a vector. The idea is that represent each word a a vector of numbers so that our neural network can easily identify each word. A neural network cannot recognize a word as a word, but it can do so as a vector of numbers. There are multiple differents embedding methods. In this case, we will let the neural netwokr to choose the embedding representation that it founds to be optimal. \n"
   ]
  },
  {
   "cell_type": "markdown",
   "id": "06259f7c",
   "metadata": {},
   "source": [
    "#### Question 18"
   ]
  },
  {
   "cell_type": "code",
   "execution_count": 69,
   "id": "5fd5295b",
   "metadata": {},
   "outputs": [],
   "source": [
    "embedding_dim = 50\n",
    "\n",
    "# In order to apply the embedding method, we need to choose before hand the length of the vectors that will be representing each words. In this case, we will be choosing\n",
    "# 50 as the length of our vectors. "
   ]
  },
  {
   "cell_type": "markdown",
   "id": "bd369727",
   "metadata": {},
   "source": [
    "#### Question 19\n",
    "\n",
    "##### Artificial Neural Network construction\n",
    "\n",
    "Let us construct the artificial neural network as specified above. As stated above, the embedding layer will transform each word into a vector of 50 elements as we will pass the embedding_dim paramenter specified above to the ANN. So, each review that was previously a vector containing 520 elements after the padding, will be transformed into a matrix of size 520x50, as each element/word, will be itselt a vector of size 50. "
   ]
  },
  {
   "cell_type": "code",
   "execution_count": 89,
   "id": "0652850f",
   "metadata": {},
   "outputs": [
    {
     "name": "stdout",
     "output_type": "stream",
     "text": [
      "Model: \"sequential_5\"\n",
      "_________________________________________________________________\n",
      " Layer (type)                Output Shape              Param #   \n",
      "=================================================================\n",
      " embedding_5 (Embedding)     (None, 520, 50)           392450    \n",
      "                                                                 \n",
      " flatten_5 (Flatten)         (None, 26000)             0         \n",
      "                                                                 \n",
      " dense_9 (Dense)             (None, 16)                416016    \n",
      "                                                                 \n",
      " dense_10 (Dense)            (None, 5)                 85        \n",
      "                                                                 \n",
      "=================================================================\n",
      "Total params: 808,551\n",
      "Trainable params: 808,551\n",
      "Non-trainable params: 0\n",
      "_________________________________________________________________\n"
     ]
    }
   ],
   "source": [
    "# Build neural network model\n",
    "\n",
    "from tensorflow.keras.models import Sequential\n",
    "from tensorflow.keras.layers import Embedding, Flatten, Dense\n",
    "model = Sequential()\n",
    "\n",
    "model.add(Embedding(nb_words+1, \n",
    "                    embedding_dim, \n",
    "                    input_length=maxlen)) \n",
    "model.add(Flatten())\n",
    "model.add(Dense(16, activation='relu'))\n",
    "model.add(Dense(5, activation='softmax'))\n",
    "model.summary()\n",
    "\n",
    "# The main inputs into a embedding layer are:\n",
    "# input_dim-> in which we specify the number of words contained in the vocabulary. In our case, we specified if as the nb_words retreived above plus one because the layer takes a range\n",
    "#            of [0,nb_words+1), meaning that the last element is excluded.*********************************************\n",
    "# output_dim-> the size of the vector we want to represent each word. In our case is 50\n",
    "# embeddings_initializer-> We can choose a predefined initializer method to start the optimization method. This will apply a predefined method to choose the word representation\n",
    "# embeddings_regularizer-> It is a regularizer method that we will apply to the output matrix. This will help us to avoid an overfitting on the overall model coming from the embedding\n",
    "#                         weigths.\n",
    "# embeddings_constraint-> This are restrictions set on the model that need to be met when choosing the embedding weights.\n",
    "# mask_zero-> This helps to communicate to the model if the 0 are coming from a previous padding method.\n",
    "# input_length-> This is the length of reviews as a vector. In our case is 520. When connecting a Flatten and Dense layers to the embedding layer, it is required to specify this\n",
    "#                this paramenter as the output shape won't be able to be computed otherwise."
   ]
  },
  {
   "cell_type": "markdown",
   "id": "13b1af81",
   "metadata": {},
   "source": [
    "#### Question 20\n",
    "\n",
    "##### Parameters derivation"
   ]
  },
  {
   "cell_type": "markdown",
   "id": "a0737d5d-7e91-4d6f-a295-179feca36d48",
   "metadata": {},
   "source": [
    "The number of paramenters in the first dense layer, the hidden layer is calculated to be 416,016. We will explain next how to get this number. First we need to stablish the following:\n",
    "\n",
    "- As we explained before, the embedding layer will transform the 520 vector representation of each review to a 520x50 matrix\n",
    "- The flatten layer will then transform this into a vector of size $520*50=26,000$\n",
    "- Then, the dense layer will receive this 26,000 elements as inputs in each neuron. Each neuron will then have to find the optimal weight for each 26,000 elements, i.e. 26,000 weights, plus the corresponding bias term. Then, the number of paramenters at each neuron will be 26,001. Finally, as we have 16 neuros, the number of total paramenters at this point is $26,001*16=416,016$\n",
    "\n",
    "Next, the number of parameters in the output layer is computed as 85. This can be easily found as follows:\n",
    "\n",
    "- The previous hidden layer, has a ReLu actiavtion fuction wich will be taking as an input $z=\\sum_{i=i}^{26,000}w_{ij}*x_{i}+b_{j}$ and will be outputing $x_{i}$ if $x>0$ or 0 if $x<0$\n",
    "- So, the total output of the previous layer will be 16 elements. \n",
    "- So, each neuron will have to find the optimal weight of each of this elements, i.e. 16 weights, plus the bias term. This means that we will have 17 parameters at each neuron. As we have 5 neuros, then, the number of paramentes is $17*50=85$ "
   ]
  },
  {
   "cell_type": "markdown",
   "id": "5a90dd85",
   "metadata": {},
   "source": [
    "##### 'SparseCategoricalCrossentropy' vs 'CategoricalCrossentropy'"
   ]
  },
  {
   "cell_type": "markdown",
   "id": "10e84359",
   "metadata": {},
   "source": [
    "As we explained above, the loss function that we will favour using is the Sparse Caterofical Cross Entropy loss function. We can use this loss function given that our date is not hot encoded. What we mean is that the label is not a matrix in which each rating is a vector in which each element represents a class. If this were the case, each review would be containing zeros except from the element corresponding to class to which the rating corresponds. This is know as hot econded data. In our case, each ratings has a number ranging from 0 to 4, so instead of being a vector, each rating is an integer. This makes the optimization problem more fast to solve. Both, categorical cross entropy and sparse categorical cross entropy have the same loss function:\n",
    "\n",
    "$$J(w)=−\\frac{1}{N}\\displaystyle\\sum_{i=1}^{N}\\sum_{j=1}^{K}y_{ij} log(\\hat{y_{ij}})$$ \n",
    "\n",
    "Where: \n",
    "\n",
    "* $w$ refers to the model parameters, e.g. weights of the neural network\n",
    "* $y_i$ is the true label\n",
    "* $\\hat{y_i}$ is the predicted label\n",
    "* $K$ is the number or classes or ratings\n",
    "\n",
    "The difference is that $y_{i}$ is a vector in the case of the Categorical Cross Entropy case, while in the Sparse Categorical Corss Entroppy it is an integer. After this brief explanation, we will proceed to train the neural network built above."
   ]
  },
  {
   "cell_type": "code",
   "execution_count": 97,
   "id": "09d54530",
   "metadata": {},
   "outputs": [],
   "source": [
    "model.compile(optimizer='adam', # We specify which Gradient Descent to use while performing the optimization of the model\n",
    "              loss='SparseCategoricalCrossentropy', # We specify what loss function to use\n",
    "              metrics=['acc'])"
   ]
  },
  {
   "cell_type": "code",
   "execution_count": 98,
   "id": "10d0117d",
   "metadata": {},
   "outputs": [
    {
     "name": "stdout",
     "output_type": "stream",
     "text": [
      "Epoch 1/10\n",
      "157/157 [==============================] - 2s 10ms/step - loss: 0.1995 - acc: 0.9458 - val_loss: 1.3952 - val_acc: 0.6330\n",
      "Epoch 2/10\n",
      "157/157 [==============================] - 1s 9ms/step - loss: 0.1750 - acc: 0.9496 - val_loss: 1.4967 - val_acc: 0.6400\n",
      "Epoch 3/10\n",
      "157/157 [==============================] - 2s 10ms/step - loss: 0.1567 - acc: 0.9550 - val_loss: 1.5198 - val_acc: 0.6360\n",
      "Epoch 4/10\n",
      "157/157 [==============================] - 1s 9ms/step - loss: 0.1441 - acc: 0.9568 - val_loss: 1.6037 - val_acc: 0.6290\n",
      "Epoch 5/10\n",
      "157/157 [==============================] - 1s 9ms/step - loss: 0.1362 - acc: 0.9596 - val_loss: 1.7025 - val_acc: 0.6380\n",
      "Epoch 6/10\n",
      "157/157 [==============================] - 1s 9ms/step - loss: 0.1279 - acc: 0.9616 - val_loss: 1.7254 - val_acc: 0.6080\n",
      "Epoch 7/10\n",
      "157/157 [==============================] - 1s 9ms/step - loss: 0.1234 - acc: 0.9612 - val_loss: 1.7617 - val_acc: 0.6300\n",
      "Epoch 8/10\n",
      "157/157 [==============================] - 1s 9ms/step - loss: 0.1162 - acc: 0.9640 - val_loss: 1.8559 - val_acc: 0.6230\n",
      "Epoch 9/10\n",
      "157/157 [==============================] - 1s 9ms/step - loss: 0.1129 - acc: 0.9650 - val_loss: 1.9116 - val_acc: 0.6260\n",
      "Epoch 10/10\n",
      "157/157 [==============================] - 2s 10ms/step - loss: 0.1075 - acc: 0.9668 - val_loss: 1.9530 - val_acc: 0.6310\n"
     ]
    }
   ],
   "source": [
    "# We fit the model to our data sets built in Question 16\n",
    "\n",
    "history = model.fit(data_train, y_train,\n",
    "                    epochs=10,\n",
    "                    batch_size=32,\n",
    "                    validation_data=(data_test, y_test))"
   ]
  },
  {
   "cell_type": "markdown",
   "id": "69051fd2",
   "metadata": {},
   "source": [
    "#### Question 21\n",
    "\n",
    "##### argmax function"
   ]
  },
  {
   "cell_type": "code",
   "execution_count": 102,
   "id": "be0f4eda",
   "metadata": {},
   "outputs": [],
   "source": [
    "y_pred = model.predict(data_test)\n",
    "y_pred = np.argmax(y_pred, axis=1)"
   ]
  },
  {
   "cell_type": "markdown",
   "id": "bebb18c2-3e0f-45db-ba21-b8ea07f4c35c",
   "metadata": {},
   "source": [
    "In this step, we use the trained model to predict the the rating to each reviews within the test set. We need to remember that the activation fuction of the output layer was a softmax function defined as follows:\n",
    "\n",
    "$$p(k|x) = \\frac{exp^{z_{k}^{(L)}(x)}}{\\sum_{j=1}^{K}exp^{z_{k}^{(L)}(x)}}$$\n",
    "\n",
    "Where k represents the class or the ratings. This means the the softmax option will compute a probability for the element received to belong to each class. In our case, there were 5 classes thats why the output of our output layer in the neural network defined above was set to 5. \n",
    "\n",
    "This also means that each predicted label, $\\hat{y}_{i}$, will be a vector of 5 probabilities. What we care is only the highest probability out of the 5 obtained, which suggests that the review will most likely lead to the corresponding class or rating. With the function argmax in the above chunk of code we get the index of the highest probability within each probability vector. This will transform our predicted probability matrix to a vector containing the predicted label for each review. "
   ]
  },
  {
   "cell_type": "code",
   "execution_count": 103,
   "id": "9a6ea487",
   "metadata": {},
   "outputs": [
    {
     "name": "stdout",
     "output_type": "stream",
     "text": [
      "accuracy score:  0.631\n",
      "              precision    recall  f1-score   support\n",
      "\n",
      "           0       0.65      0.62      0.63       166\n",
      "           1       0.14      0.18      0.16        38\n",
      "           2       0.10      0.17      0.12        41\n",
      "           3       0.12      0.33      0.17        57\n",
      "           4       0.89      0.71      0.79       698\n",
      "\n",
      "    accuracy                           0.63      1000\n",
      "   macro avg       0.38      0.40      0.38      1000\n",
      "weighted avg       0.74      0.63      0.68      1000\n",
      "\n"
     ]
    }
   ],
   "source": [
    "print('accuracy score: ',accuracy_score(y_pred, y_test))\n",
    "print(classification_report(y_pred, y_test))"
   ]
  },
  {
   "cell_type": "code",
   "execution_count": 104,
   "id": "ab7d3464",
   "metadata": {},
   "outputs": [
    {
     "data": {
      "text/plain": [
       "<AxesSubplot:>"
      ]
     },
     "execution_count": 104,
     "metadata": {},
     "output_type": "execute_result"
    },
    {
     "data": {
      "image/png": "[encoded data removed]",
      "text/plain": [
       "<Figure size 432x288 with 2 Axes>"
      ]
     },
     "metadata": {
      "needs_background": "light"
     },
     "output_type": "display_data"
    }
   ],
   "source": [
    "# Print/plot the confusion matrix\n",
    "from sklearn.metrics import confusion_matrix\n",
    "sns.heatmap(confusion_matrix(y_test, y_pred),annot=True)"
   ]
  },
  {
   "cell_type": "code",
   "execution_count": 105,
   "id": "80b6fc86",
   "metadata": {},
   "outputs": [
    {
     "data": {
      "text/plain": [
       "<AxesSubplot:>"
      ]
     },
     "execution_count": 105,
     "metadata": {},
     "output_type": "execute_result"
    },
    {
     "data": {
      "image/png": "[encoded data removed]",
      "text/plain": [
       "<Figure size 432x288 with 2 Axes>"
      ]
     },
     "metadata": {
      "needs_background": "light"
     },
     "output_type": "display_data"
    }
   ],
   "source": [
    "# Print/plot the confusion matrix\n",
    "from sklearn.metrics import confusion_matrix\n",
    "import seaborn as sns\n",
    "sns.heatmap(confusion_matrix(y_test, y_pred, normalize='true'),annot=True)"
   ]
  },
  {
   "cell_type": "code",
   "execution_count": 106,
   "id": "e1d027da",
   "metadata": {},
   "outputs": [
    {
     "data": {
      "text/plain": [
       "<AxesSubplot:>"
      ]
     },
     "execution_count": 106,
     "metadata": {},
     "output_type": "execute_result"
    },
    {
     "data": {
      "image/png": "[encoded data removed]",
      "text/plain": [
       "<Figure size 432x288 with 2 Axes>"
      ]
     },
     "metadata": {
      "needs_background": "light"
     },
     "output_type": "display_data"
    }
   ],
   "source": [
    "sns.heatmap(confusion_matrix(y_test, y_pred, normalize='pred'),annot=True)"
   ]
  },
  {
   "cell_type": "markdown",
   "id": "6acc1708",
   "metadata": {},
   "source": [
    "#### Question 22: Interpret the results for this model (accuracy score, confusion matrix)."
   ]
  },
  {
   "cell_type": "markdown",
   "id": "a1742d8e-d4f3-4b18-a7d0-12620ce4e7f2",
   "metadata": {},
   "source": [
    "Finally, we computed the performance measures of the new model. This can be compared with the results obtained on the models above in which we had:\n",
    "\n",
    "- Weighted Average from Logistic Regression BoW -> Precision:0.75 , Recall: 0.66, f-1:0.69\n",
    "- Weighted Average from Logistic Regression TF-IDF -> Precision: 0.87, Recall: 0.68, f-1:0.75\n",
    "- Weighted Average from ANN -> Precision: 0.74, Recall: 0.63, f-1:0.68\n",
    "\n",
    "We can see that, even though, the ANN perfromance is the lower of all, it is super close the one obtained from the logistic regression based on the Bag of Words vectorization method. This makes sense as the tokenization method from the keras library, after padding, should yield an equivalent vector represantion to the one we obtained with the CountVectorizer method. What is interesting is that the embedding layer seems to do a good job, or at least similar, compared to the Bag of Words method. It also makes sense that the ANN has a worst performance compared to the TD-IDF word vectorization method given that, as we stated above, it captures more information by assinging more weight to those words that are specially present in some reviews despite the fact that they might not be very present in the overall set of reviews. An interesting additional step would be to ask the Tokenizer method to use a TD-IDF criteria to form the review's vector representation. Results should improve and, maybe, the ANN will be better at capturing this additional information than the more simpler logistic regression approach. Finally, if we observe the color distribution of the confussion matrices obtained now and before we can notice that is basically the same and that the worst performance is still concentrated in the middle raitings area. "
   ]
  },
  {
   "cell_type": "code",
   "execution_count": null,
   "id": "854e8d2c-ee46-4cf5-b45b-17310a31b719",
   "metadata": {},
   "outputs": [],
   "source": []
  }
 ],
 "metadata": {
  "kernelspec": {
   "display_name": "Python 3",
   "language": "python",
   "name": "python3"
  },
  "language_info": {
   "codemirror_mode": {
    "name": "ipython",
    "version": 3
   },
   "file_extension": ".py",
   "mimetype": "text/x-python",
   "name": "python",
   "nbconvert_exporter": "python",
   "pygments_lexer": "ipython3",
   "version": "3.8.8"
  }
 },
 "nbformat": 4,
 "nbformat_minor": 5
}
