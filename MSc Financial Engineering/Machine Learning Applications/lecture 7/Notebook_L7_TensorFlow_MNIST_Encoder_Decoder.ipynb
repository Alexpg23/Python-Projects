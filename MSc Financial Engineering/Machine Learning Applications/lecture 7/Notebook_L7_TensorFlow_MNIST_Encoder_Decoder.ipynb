{
 "cells": [
  {
   "cell_type": "markdown",
   "metadata": {},
   "source": [
    "# AutoEncoder - MNIST Digits"
   ]
  },
  {
   "cell_type": "markdown",
   "metadata": {},
   "source": [
    "In this notebook we use Tensorflow/Keras to build a classifier for handwritten numbers"
   ]
  },
  {
   "cell_type": "code",
   "execution_count": 1,
   "metadata": {},
   "outputs": [],
   "source": [
    "import matplotlib.pyplot as plt\n",
    "import numpy as np\n",
    "import tensorflow as tf\n",
    "from tensorflow import keras\n",
    "from tensorflow.keras import layers\n",
    "from tensorflow.keras.models import Sequential, Model\n",
    "from tensorflow.keras.layers import Dense, Input, Flatten, Reshape\n",
    "from tensorflow.keras.optimizers import Adam"
   ]
  },
  {
   "cell_type": "code",
   "execution_count": 2,
   "metadata": {},
   "outputs": [],
   "source": [
    "from tensorflow.keras.datasets import fashion_mnist"
   ]
  },
  {
   "cell_type": "markdown",
   "metadata": {},
   "source": [
    "Want to be sure it's version 2 ! "
   ]
  },
  {
   "cell_type": "code",
   "execution_count": 3,
   "metadata": {},
   "outputs": [
    {
     "name": "stdout",
     "output_type": "stream",
     "text": [
      "2.7.0\n"
     ]
    }
   ],
   "source": [
    "print(tf.__version__)"
   ]
  },
  {
   "cell_type": "markdown",
   "metadata": {},
   "source": [
    "## Load the data"
   ]
  },
  {
   "cell_type": "code",
   "execution_count": 4,
   "metadata": {},
   "outputs": [],
   "source": [
    "mnist = tf.keras.datasets.mnist"
   ]
  },
  {
   "cell_type": "code",
   "execution_count": 5,
   "metadata": {},
   "outputs": [],
   "source": [
    "(x_train, y_train), (x_test, y_test) = mnist.load_data()"
   ]
  },
  {
   "cell_type": "code",
   "execution_count": 6,
   "metadata": {},
   "outputs": [],
   "source": [
    "x_train_s, x_test_s = x_train.reshape(60000, 784) / 255, x_test.reshape(10000, 784) / 255"
   ]
  },
  {
   "cell_type": "code",
   "execution_count": 7,
   "metadata": {},
   "outputs": [
    {
     "data": {
      "text/plain": [
       "(60000, 784)"
      ]
     },
     "execution_count": 7,
     "metadata": {},
     "output_type": "execute_result"
    }
   ],
   "source": [
    "x_train_s.shape"
   ]
  },
  {
   "cell_type": "code",
   "execution_count": 8,
   "metadata": {},
   "outputs": [
    {
     "data": {
      "text/plain": [
       "(784,)"
      ]
     },
     "execution_count": 8,
     "metadata": {},
     "output_type": "execute_result"
    }
   ],
   "source": [
    "x_train_s[0].shape"
   ]
  },
  {
   "cell_type": "code",
   "execution_count": 9,
   "metadata": {},
   "outputs": [
    {
     "data": {
      "text/plain": [
       "(10000, 28, 28)"
      ]
     },
     "execution_count": 9,
     "metadata": {},
     "output_type": "execute_result"
    }
   ],
   "source": [
    "x_test.shape"
   ]
  },
  {
   "cell_type": "markdown",
   "metadata": {},
   "source": [
    "## Build a Stacked Auto-Encoder"
   ]
  },
  {
   "cell_type": "code",
   "execution_count": 10,
   "metadata": {},
   "outputs": [],
   "source": [
    "encoder = Sequential()\n",
    "encoder.add(Dense(400,  activation='relu', input_shape=(784,)))\n",
    "encoder.add(Dense(200,  activation='relu'))\n",
    "encoder.add(Dense(100,  activation='relu'))\n",
    "encoder.add(Dense(50,   activation='relu'))\n",
    "encoder.add(Dense(20,   activation='relu'))"
   ]
  },
  {
   "cell_type": "code",
   "execution_count": 11,
   "metadata": {},
   "outputs": [],
   "source": [
    "decoder = Sequential()\n",
    "decoder.add(Dense(50,  input_shape=[20], activation='relu'))\n",
    "decoder.add(Dense(100,  activation='relu'))\n",
    "decoder.add(Dense(200,  activation='relu'))\n",
    "decoder.add(Dense(400,  activation='relu'))\n",
    "decoder.add(Dense(784,  activation='sigmoid'))"
   ]
  },
  {
   "cell_type": "code",
   "execution_count": 12,
   "metadata": {},
   "outputs": [],
   "source": [
    "autoencoder = Sequential([encoder, decoder])"
   ]
  },
  {
   "cell_type": "markdown",
   "metadata": {},
   "source": [
    "We compile this - we choose the adam optimizer and maximize cross entropy and report the accuracy."
   ]
  },
  {
   "cell_type": "code",
   "execution_count": 13,
   "metadata": {},
   "outputs": [],
   "source": [
    "autoencoder.compile(loss='binary_crossentropy', \n",
    "                    metrics = ['accuracy'], \n",
    "                    optimizer = Adam())"
   ]
  },
  {
   "cell_type": "code",
   "execution_count": 14,
   "metadata": {},
   "outputs": [
    {
     "name": "stdout",
     "output_type": "stream",
     "text": [
      "Model: \"sequential_2\"\n",
      "_________________________________________________________________\n",
      " Layer (type)                Output Shape              Param #   \n",
      "=================================================================\n",
      " sequential (Sequential)     (None, 20)                420370    \n",
      "                                                                 \n",
      " sequential_1 (Sequential)   (None, 784)               421134    \n",
      "                                                                 \n",
      "=================================================================\n",
      "Total params: 841,504\n",
      "Trainable params: 841,504\n",
      "Non-trainable params: 0\n",
      "_________________________________________________________________\n"
     ]
    }
   ],
   "source": [
    "autoencoder.summary()"
   ]
  },
  {
   "cell_type": "code",
   "execution_count": 15,
   "metadata": {},
   "outputs": [
    {
     "name": "stdout",
     "output_type": "stream",
     "text": [
      "Epoch 1/10\n",
      "59/59 [==============================] - 3s 33ms/step - loss: 0.3282 - accuracy: 0.0074 - val_loss: 0.2566 - val_accuracy: 0.0137\n",
      "Epoch 2/10\n",
      "59/59 [==============================] - 2s 31ms/step - loss: 0.2496 - accuracy: 0.0117 - val_loss: 0.2378 - val_accuracy: 0.0109\n",
      "Epoch 3/10\n",
      "59/59 [==============================] - 2s 31ms/step - loss: 0.2208 - accuracy: 0.0137 - val_loss: 0.2043 - val_accuracy: 0.0161\n",
      "Epoch 4/10\n",
      "59/59 [==============================] - 2s 30ms/step - loss: 0.1945 - accuracy: 0.0104 - val_loss: 0.1788 - val_accuracy: 0.0089\n",
      "Epoch 5/10\n",
      "59/59 [==============================] - 2s 32ms/step - loss: 0.1693 - accuracy: 0.0088 - val_loss: 0.1595 - val_accuracy: 0.0067\n",
      "Epoch 6/10\n",
      "59/59 [==============================] - 2s 31ms/step - loss: 0.1553 - accuracy: 0.0087 - val_loss: 0.1507 - val_accuracy: 0.0110\n",
      "Epoch 7/10\n",
      "59/59 [==============================] - 2s 32ms/step - loss: 0.1493 - accuracy: 0.0105 - val_loss: 0.1466 - val_accuracy: 0.0115\n",
      "Epoch 8/10\n",
      "59/59 [==============================] - 2s 31ms/step - loss: 0.1457 - accuracy: 0.0103 - val_loss: 0.1434 - val_accuracy: 0.0120\n",
      "Epoch 9/10\n",
      "59/59 [==============================] - 2s 31ms/step - loss: 0.1430 - accuracy: 0.0105 - val_loss: 0.1405 - val_accuracy: 0.0127\n",
      "Epoch 10/10\n",
      "59/59 [==============================] - 2s 30ms/step - loss: 0.1390 - accuracy: 0.0099 - val_loss: 0.1366 - val_accuracy: 0.0110\n"
     ]
    }
   ],
   "source": [
    "trained_model = autoencoder.fit(x_train_s, x_train_s, batch_size=1024, \n",
    "                                epochs=10, verbose=1, \n",
    "                                validation_data=(x_test_s, x_test_s))"
   ]
  },
  {
   "cell_type": "markdown",
   "metadata": {},
   "source": [
    "## Using the AutoEncoder"
   ]
  },
  {
   "cell_type": "markdown",
   "metadata": {},
   "source": [
    "How well does the AutoEncoder Reconstruct the Images ?"
   ]
  },
  {
   "cell_type": "code",
   "execution_count": 16,
   "metadata": {
    "scrolled": false
   },
   "outputs": [
    {
     "name": "stdout",
     "output_type": "stream",
     "text": [
      "Original Image\n"
     ]
    },
    {
     "data": {
      "image/png": "[encoded data removed]",
      "text/plain": [
       "<Figure size 432x288 with 1 Axes>"
      ]
     },
     "metadata": {
      "needs_background": "light"
     },
     "output_type": "display_data"
    },
    {
     "name": "stdout",
     "output_type": "stream",
     "text": [
      "Reconstructed Image\n"
     ]
    },
    {
     "data": {
      "image/png": "[encoded data removed]",
      "text/plain": [
       "<Figure size 432x288 with 1 Axes>"
      ]
     },
     "metadata": {
      "needs_background": "light"
     },
     "output_type": "display_data"
    },
    {
     "name": "stdout",
     "output_type": "stream",
     "text": [
      "[5.92846859]\n",
      "Original Image\n"
     ]
    },
    {
     "data": {
      "image/png": "[encoded data removed]",
      "text/plain": [
       "<Figure size 432x288 with 1 Axes>"
      ]
     },
     "metadata": {
      "needs_background": "light"
     },
     "output_type": "display_data"
    },
    {
     "name": "stdout",
     "output_type": "stream",
     "text": [
      "Reconstructed Image\n"
     ]
    },
    {
     "data": {
      "image/png": "[encoded data removed]",
      "text/plain": [
       "<Figure size 432x288 with 1 Axes>"
      ]
     },
     "metadata": {
      "needs_background": "light"
     },
     "output_type": "display_data"
    },
    {
     "name": "stdout",
     "output_type": "stream",
     "text": [
      "[3.60923011]\n",
      "Original Image\n"
     ]
    },
    {
     "data": {
      "image/png": "[encoded data removed]",
      "text/plain": [
       "<Figure size 432x288 with 1 Axes>"
      ]
     },
     "metadata": {
      "needs_background": "light"
     },
     "output_type": "display_data"
    },
    {
     "name": "stdout",
     "output_type": "stream",
     "text": [
      "Reconstructed Image\n"
     ]
    },
    {
     "data": {
      "image/png": "[encoded data removed]",
      "text/plain": [
       "<Figure size 432x288 with 1 Axes>"
      ]
     },
     "metadata": {
      "needs_background": "light"
     },
     "output_type": "display_data"
    },
    {
     "name": "stdout",
     "output_type": "stream",
     "text": [
      "[5.53288751]\n"
     ]
    }
   ],
   "source": [
    "for i in range(0, 3):\n",
    "\n",
    "    x_img = x_train_s[i]\n",
    "    inputs = x_img.reshape(1,784)\n",
    "    target_data = autoencoder.predict(inputs)\n",
    "    dist = np.linalg.norm(inputs - target_data, axis=-1)\n",
    "    print(\"Original Image\")\n",
    "    plt.imshow(x_train[i])\n",
    "    plt.show()\n",
    "    print(\"Reconstructed Image\")\n",
    "    plt.imshow(target_data.reshape(28,28))\n",
    "    plt.show()\n",
    "    print(dist)"
   ]
  },
  {
   "cell_type": "markdown",
   "metadata": {},
   "source": [
    "Look small. Now compare it to an image I made by hand."
   ]
  },
  {
   "cell_type": "code",
   "execution_count": 17,
   "metadata": {},
   "outputs": [
    {
     "data": {
      "image/png": "[encoded data removed]",
      "text/plain": [
       "<Figure size 432x288 with 1 Axes>"
      ]
     },
     "metadata": {
      "needs_background": "light"
     },
     "output_type": "display_data"
    }
   ],
   "source": [
    "from tensorflow.keras.preprocessing import image\n",
    "\n",
    "img = image.load_img(\"./not_a_digit.png\", target_size=(28, 28), \n",
    "                     color_mode = \"grayscale\")\n",
    "plt.imshow(img, cmap='gray')\n",
    "plt.show()"
   ]
  },
  {
   "cell_type": "code",
   "execution_count": 19,
   "metadata": {},
   "outputs": [
    {
     "data": {
      "image/png": "[encoded data removed]",
      "text/plain": [
       "<Figure size 432x288 with 1 Axes>"
      ]
     },
     "metadata": {
      "needs_background": "light"
     },
     "output_type": "display_data"
    },
    {
     "name": "stdout",
     "output_type": "stream",
     "text": [
      "[2326.5889]\n"
     ]
    }
   ],
   "source": [
    "input_img = image.img_to_array(img)\n",
    "inputs = input_img.reshape(1,784)\n",
    "target_data = autoencoder.predict(inputs)\n",
    "plt.imshow(target_data.reshape(28,28))\n",
    "plt.show()\n",
    "\n",
    "dist = np.linalg.norm(inputs - target_data, axis=-1)\n",
    "print(dist)"
   ]
  },
  {
   "cell_type": "markdown",
   "metadata": {},
   "source": [
    "Looks like an anomaly."
   ]
  }
 ],
 "metadata": {
  "kernelspec": {
   "display_name": "Python 3 (ipykernel)",
   "language": "python",
   "name": "python3"
  },
  "language_info": {
   "codemirror_mode": {
    "name": "ipython",
    "version": 3
   },
   "file_extension": ".py",
   "mimetype": "text/x-python",
   "name": "python",
   "nbconvert_exporter": "python",
   "pygments_lexer": "ipython3",
   "version": "3.9.7"
  }
 },
 "nbformat": 4,
 "nbformat_minor": 4
}
