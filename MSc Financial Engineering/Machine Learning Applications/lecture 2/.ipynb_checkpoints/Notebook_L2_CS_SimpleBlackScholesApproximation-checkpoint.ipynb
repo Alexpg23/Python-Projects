{
 "cells": [
  {
   "cell_type": "markdown",
   "metadata": {
    "id": "vqnv-eBizJI7"
   },
   "source": [
    "# Deep Learning Black Scholes\n",
    "The goal of this case study is to perform derivative pricing from a machine learning standpoint and use supervised regression-based model to learn the Black-Scholes option pricing model from simulated data.\n"
   ]
  },
  {
   "cell_type": "markdown",
   "metadata": {
    "id": "4ifiaH7JzJI-"
   },
   "source": [
    "<a id='0'></a>\n",
    "# 1. Problem Definition"
   ]
  },
  {
   "cell_type": "markdown",
   "metadata": {
    "id": "7e0ljoYCzJI-"
   },
   "source": [
    "In the supervised regression framework used for this case study, the derivative pricing\n",
    "problem is defined in the regression framework, where the predicted variable is the\n",
    "pricing of the option, and the predictor variables are the market data that are used as\n",
    "inputs to the Black-Scholes option pricing model"
   ]
  },
  {
   "cell_type": "markdown",
   "metadata": {
    "id": "01mumYSYzJI_"
   },
   "source": [
    "Options have been used in finance as means to hedge risk in a nonlinear manner. They are are also used by speculators in order to take leveraged bets in the financial markets. Historically, people have used the Black Scholes formula."
   ]
  },
  {
   "cell_type": "markdown",
   "metadata": {
    "id": "OV59MMZLzJI_"
   },
   "source": [
    "$$  Se^{-q \\tau}\\Phi(d_1) - e^{-r \\tau} K\\Phi(d_2) \\, $$"
   ]
  },
  {
   "cell_type": "markdown",
   "metadata": {
    "id": "iogr15MBzJJA"
   },
   "source": [
    "With"
   ]
  },
  {
   "cell_type": "markdown",
   "metadata": {
    "id": "I4O49pS8zJJA"
   },
   "source": [
    "$$  d_1 = \\frac{\\ln(S/K) + (r - q + \\sigma^2/2)\\tau}{\\sigma\\sqrt{\\tau}}  $$"
   ]
  },
  {
   "cell_type": "markdown",
   "metadata": {
    "id": "ehj119MDzJJA"
   },
   "source": [
    "and"
   ]
  },
  {
   "cell_type": "markdown",
   "metadata": {
    "id": "zAngvIpLzJJB"
   },
   "source": [
    "$$  d_2 = \\frac{\\ln(S/K) + (r - q - \\sigma^2/2)\\tau}{\\sigma\\sqrt{\\tau}} = d_1 - \\sigma\\sqrt{\\tau}  $$"
   ]
  },
  {
   "cell_type": "markdown",
   "metadata": {
    "id": "MkEEkc6bzJJB"
   },
   "source": [
    "Where we have;\n",
    "    Stock price $S$;\n",
    "    Strike price $K$;\n",
    "    Risk-free rate $r$;\n",
    "    Annual dividend yield $q$;\n",
    "    Time to maturity $\\tau = T-t$ (represented as a unit-less fraction of one year);\n",
    "    Volatility $\\sigma$"
   ]
  },
  {
   "cell_type": "markdown",
   "metadata": {
    "id": "7u2wCMUczJJB"
   },
   "source": [
    "In order to make the logic simpler, we define *Moneyness* as $M = K/S$ and look at the prices in terms of per unit of current stock price. We also set $q$ as $0$ "
   ]
  },
  {
   "cell_type": "markdown",
   "metadata": {
    "id": "9HznMaU1zJJB"
   },
   "source": [
    "This simplifes the formula down to the following"
   ]
  },
  {
   "cell_type": "markdown",
   "metadata": {
    "id": "16m4Og1pzJJB"
   },
   "source": [
    "$$  e^{-q \\tau}\\Phi\\left( \\frac{- \\ln(M) + (r+ \\sigma^2/2 )\\tau}{\\sigma\\sqrt{\\tau}}\\right) - e^{-r \\tau} M\\Phi\\left( \\frac{- \\ln(M) + (r - \\sigma^2/2)\\tau}{\\sigma\\sqrt{\\tau}} \\right) \\, $$"
   ]
  },
  {
   "cell_type": "markdown",
   "metadata": {
    "id": "xkzKJ7v0zJJC"
   },
   "source": [
    "<a id='1'></a>\n",
    "# 2. Getting Started- Loading the data and python packages"
   ]
  },
  {
   "cell_type": "markdown",
   "metadata": {
    "id": "wqjS0TPVzJJD"
   },
   "source": [
    "<a id='1.1'></a>\n",
    "## 2.1. Loading the python packages"
   ]
  },
  {
   "cell_type": "markdown",
   "metadata": {
    "id": "5n-NM6rmzJJD"
   },
   "source": [
    "### Python Imports"
   ]
  },
  {
   "cell_type": "code",
   "execution_count": 112,
   "metadata": {
    "colab": {
     "base_uri": "https://localhost:8080/"
    },
    "executionInfo": {
     "elapsed": 931,
     "status": "ok",
     "timestamp": 1636899340729,
     "user": {
      "displayName": "D OK",
      "photoUrl": "https://lh3.googleusercontent.com/a/default-user=s64",
      "userId": "10267117973942008095"
     },
     "user_tz": -60
    },
    "id": "RfRq2r2UzJJD",
    "outputId": "b426ed01-e899-43cb-9f8b-08ee49c76cc6"
   },
   "outputs": [],
   "source": [
    "# Distribution functions\n",
    "from scipy.stats import norm\n",
    "\n",
    "\n",
    "# Load libraries\n",
    "import numpy as np\n",
    "import pandas as pd\n",
    "import pandas_datareader.data as web\n",
    "from matplotlib import pyplot\n",
    "from pandas.plotting import scatter_matrix\n",
    "import seaborn as sns\n",
    "\n",
    "from sklearn.model_selection import KFold\n",
    "from sklearn.model_selection import cross_val_score\n",
    "from sklearn.model_selection import GridSearchCV\n",
    "\n",
    "from sklearn.linear_model import LinearRegression\n",
    "from sklearn.linear_model import Lasso\n",
    "from sklearn.linear_model import ElasticNet\n",
    "from sklearn.neural_network import MLPRegressor\n",
    "\n",
    "# Error Metrics\n",
    "from sklearn.metrics import mean_squared_error\n",
    "\n",
    "# Feature Selection\n",
    "from sklearn.feature_selection import SelectKBest\n",
    "from sklearn.feature_selection import chi2, f_regression\n",
    "\n",
    "#Plotting \n",
    "from pandas.plotting import scatter_matrix\n"
   ]
  },
  {
   "cell_type": "code",
   "execution_count": 113,
   "metadata": {
    "executionInfo": {
     "elapsed": 265,
     "status": "ok",
     "timestamp": 1636899342528,
     "user": {
      "displayName": "D OK",
      "photoUrl": "https://lh3.googleusercontent.com/a/default-user=s64",
      "userId": "10267117973942008095"
     },
     "user_tz": -60
    },
    "id": "g6_33bcgzJJE"
   },
   "outputs": [],
   "source": [
    "#Diable the warnings\n",
    "import warnings\n",
    "warnings.filterwarnings('ignore')"
   ]
  },
  {
   "cell_type": "markdown",
   "metadata": {
    "id": "gu_Nw9kXzJJE"
   },
   "source": [
    "<a id='1.2'></a>\n",
    "## 2.2. Defining functions and parameters"
   ]
  },
  {
   "cell_type": "markdown",
   "metadata": {
    "id": "_olmQ12uzJJE"
   },
   "source": [
    "### True Parameters"
   ]
  },
  {
   "cell_type": "code",
   "execution_count": 114,
   "metadata": {
    "executionInfo": {
     "elapsed": 4,
     "status": "ok",
     "timestamp": 1636899345033,
     "user": {
      "displayName": "D OK",
      "photoUrl": "https://lh3.googleusercontent.com/a/default-user=s64",
      "userId": "10267117973942008095"
     },
     "user_tz": -60
    },
    "id": "cW5o9kAkzJJE"
   },
   "outputs": [],
   "source": [
    "r = 0.05\n",
    "s0 = 100.0"
   ]
  },
  {
   "cell_type": "markdown",
   "metadata": {
    "id": "wS4Gh2YezJJE"
   },
   "source": [
    "### Vol and Option Pricing Functions"
   ]
  },
  {
   "cell_type": "code",
   "execution_count": 115,
   "metadata": {
    "executionInfo": {
     "elapsed": 4,
     "status": "ok",
     "timestamp": 1636899346029,
     "user": {
      "displayName": "D OK",
      "photoUrl": "https://lh3.googleusercontent.com/a/default-user=s64",
      "userId": "10267117973942008095"
     },
     "user_tz": -60
    },
    "id": "XSB3y1IVzJJE"
   },
   "outputs": [],
   "source": [
    "def call_option_price(s0, K, t, v):\n",
    "    # Black Scholes Equation\n",
    "    d1=(np.log(s0/K)+(r+np.square(v))*t)/(v*np.sqrt(t))\n",
    "    d2=(np.log(s0/K)+(r-np.square(v))*t)/(v*np.sqrt(t))\n",
    "    N_d1 = norm.cdf(d1)\n",
    "    N_d2 = norm.cdf(d2)\n",
    "    \n",
    "    return s0 * N_d1 - K * np.exp(-r*t) * N_d2"
   ]
  },
  {
   "cell_type": "markdown",
   "metadata": {
    "id": "W1SWnRqhzJJE"
   },
   "source": [
    "<a id='1.3'></a>\n",
    "## 2.3. Data Generation"
   ]
  },
  {
   "cell_type": "markdown",
   "metadata": {},
   "source": [
    "Generate option prices for a range of K, T, sigma holding r fixed "
   ]
  },
  {
   "cell_type": "code",
   "execution_count": 119,
   "metadata": {
    "executionInfo": {
     "elapsed": 2438,
     "status": "ok",
     "timestamp": 1636899349562,
     "user": {
      "displayName": "D OK",
      "photoUrl": "https://lh3.googleusercontent.com/a/default-user=s64",
      "userId": "10267117973942008095"
     },
     "user_tz": -60
    },
    "id": "pgMWgGEnzJJF"
   },
   "outputs": [],
   "source": [
    "N = 10000\n",
    "v = 0.20\n",
    "\n",
    "Ks = s0 * (0.1+1.5*np.random.random(N))\n",
    "Vs = 0.20 + 0.20*np.random.random(N)\n",
    "Ts = np.random.random(N) * 5.0\n",
    "Ps = np.array([call_option_price(s0, k, t, v) for k, t, v in zip(Ks,Ts,Vs)])"
   ]
  },
  {
   "cell_type": "code",
   "execution_count": 120,
   "metadata": {},
   "outputs": [
    {
     "data": {
      "text/plain": [
       "array([ 68.78451235, 105.65813591, 127.02938925, ...,  69.53073667,\n",
       "        59.19227598,  72.36236766])"
      ]
     },
     "execution_count": 120,
     "metadata": {},
     "output_type": "execute_result"
    }
   ],
   "source": [
    "Ks"
   ]
  },
  {
   "cell_type": "code",
   "execution_count": 121,
   "metadata": {},
   "outputs": [
    {
     "data": {
      "text/plain": [
       "array([2.01794703, 1.08896017, 0.94011407, ..., 3.65387009, 0.00950073,\n",
       "       3.48706029])"
      ]
     },
     "execution_count": 121,
     "metadata": {},
     "output_type": "execute_result"
    }
   ],
   "source": [
    "Ts"
   ]
  },
  {
   "cell_type": "code",
   "execution_count": 122,
   "metadata": {},
   "outputs": [
    {
     "data": {
      "text/plain": [
       "array([41.41392227, 32.28126763, 18.87945554, ..., 62.15882624,\n",
       "       40.83583583, 50.79266848])"
      ]
     },
     "execution_count": 122,
     "metadata": {},
     "output_type": "execute_result"
    }
   ],
   "source": [
    "Ps"
   ]
  },
  {
   "cell_type": "code",
   "execution_count": 123,
   "metadata": {},
   "outputs": [
    {
     "data": {
      "text/plain": [
       "array([0.21788018, 0.39919947, 0.34978347, ..., 0.36521349, 0.26904749,\n",
       "       0.26217998])"
      ]
     },
     "execution_count": 123,
     "metadata": {},
     "output_type": "execute_result"
    }
   ],
   "source": [
    "Vs"
   ]
  },
  {
   "cell_type": "code",
   "execution_count": 124,
   "metadata": {},
   "outputs": [
    {
     "data": {
      "text/plain": [
       "(0.3999959658971893, 92.09068503793273, 4.998622034861569, 92.09068503793273)"
      ]
     },
     "execution_count": 124,
     "metadata": {},
     "output_type": "execute_result"
    }
   ],
   "source": [
    "max(Vs), max(Ps), max(Ts),max(Ps)"
   ]
  },
  {
   "cell_type": "code",
   "execution_count": 125,
   "metadata": {},
   "outputs": [
    {
     "data": {
      "text/plain": [
       "(0.20000915082167484, 0.0, 0.00016305574897623742, 0.0)"
      ]
     },
     "execution_count": 125,
     "metadata": {},
     "output_type": "execute_result"
    }
   ],
   "source": [
    "min(Vs), min(Ps), min(Ts),min(Ps)"
   ]
  },
  {
   "cell_type": "markdown",
   "metadata": {
    "id": "clcERYVMzJJF"
   },
   "source": [
    "### Set the Endog and Exog Data"
   ]
  },
  {
   "cell_type": "code",
   "execution_count": 126,
   "metadata": {
    "executionInfo": {
     "elapsed": 7,
     "status": "ok",
     "timestamp": 1636899349562,
     "user": {
      "displayName": "D OK",
      "photoUrl": "https://lh3.googleusercontent.com/a/default-user=s64",
      "userId": "10267117973942008095"
     },
     "user_tz": -60
    },
    "id": "71JZmj3mzJJF"
   },
   "outputs": [],
   "source": [
    "Y = Ps\n",
    "\n",
    "X = np.concatenate([Ks.reshape(-1,1), Ts.reshape(-1,1), Vs.reshape(-1,1)], axis=1)\n",
    "\n",
    "dataset = pd.DataFrame(np.concatenate([Y.reshape(-1,1), X], axis=1),\n",
    "                       columns=['Price', 'Strike', 'Time', 'Volatility'])"
   ]
  },
  {
   "cell_type": "markdown",
   "metadata": {
    "id": "MA2yxbV6zJJF"
   },
   "source": [
    "<a id='2'></a>\n",
    "# 3. Exploratory Data Analysis"
   ]
  },
  {
   "cell_type": "markdown",
   "metadata": {
    "id": "WhDmL21xzJJF"
   },
   "source": [
    "<a id='2.1'></a>\n",
    "## 3.1. Descriptive Statistics"
   ]
  },
  {
   "cell_type": "code",
   "execution_count": 127,
   "metadata": {
    "colab": {
     "base_uri": "https://localhost:8080/",
     "height": 204
    },
    "executionInfo": {
     "elapsed": 4,
     "status": "ok",
     "timestamp": 1636899349924,
     "user": {
      "displayName": "D OK",
      "photoUrl": "https://lh3.googleusercontent.com/a/default-user=s64",
      "userId": "10267117973942008095"
     },
     "user_tz": -60
    },
    "id": "BFrkpP8wzJJF",
    "outputId": "3c2cc811-fa3c-46fd-d791-b0f9a81791c6"
   },
   "outputs": [
    {
     "data": {
      "text/html": [
       "<div>\n",
       "<style scoped>\n",
       "    .dataframe tbody tr th:only-of-type {\n",
       "        vertical-align: middle;\n",
       "    }\n",
       "\n",
       "    .dataframe tbody tr th {\n",
       "        vertical-align: top;\n",
       "    }\n",
       "\n",
       "    .dataframe thead th {\n",
       "        text-align: right;\n",
       "    }\n",
       "</style>\n",
       "<table border=\"1\" class=\"dataframe\">\n",
       "  <thead>\n",
       "    <tr style=\"text-align: right;\">\n",
       "      <th></th>\n",
       "      <th>Price</th>\n",
       "      <th>Strike</th>\n",
       "      <th>Time</th>\n",
       "      <th>Volatility</th>\n",
       "    </tr>\n",
       "  </thead>\n",
       "  <tbody>\n",
       "    <tr>\n",
       "      <th>0</th>\n",
       "      <td>41.414</td>\n",
       "      <td>68.785</td>\n",
       "      <td>2.018</td>\n",
       "      <td>0.218</td>\n",
       "    </tr>\n",
       "    <tr>\n",
       "      <th>1</th>\n",
       "      <td>32.281</td>\n",
       "      <td>105.658</td>\n",
       "      <td>1.089</td>\n",
       "      <td>0.399</td>\n",
       "    </tr>\n",
       "    <tr>\n",
       "      <th>2</th>\n",
       "      <td>18.879</td>\n",
       "      <td>127.029</td>\n",
       "      <td>0.940</td>\n",
       "      <td>0.350</td>\n",
       "    </tr>\n",
       "    <tr>\n",
       "      <th>3</th>\n",
       "      <td>41.690</td>\n",
       "      <td>101.629</td>\n",
       "      <td>4.622</td>\n",
       "      <td>0.214</td>\n",
       "    </tr>\n",
       "    <tr>\n",
       "      <th>4</th>\n",
       "      <td>27.052</td>\n",
       "      <td>99.356</td>\n",
       "      <td>0.959</td>\n",
       "      <td>0.326</td>\n",
       "    </tr>\n",
       "  </tbody>\n",
       "</table>\n",
       "</div>"
      ],
      "text/plain": [
       "    Price   Strike   Time  Volatility\n",
       "0  41.414   68.785  2.018       0.218\n",
       "1  32.281  105.658  1.089       0.399\n",
       "2  18.879  127.029  0.940       0.350\n",
       "3  41.690  101.629  4.622       0.214\n",
       "4  27.052   99.356  0.959       0.326"
      ]
     },
     "execution_count": 127,
     "metadata": {},
     "output_type": "execute_result"
    }
   ],
   "source": [
    "dataset.head()"
   ]
  },
  {
   "cell_type": "code",
   "execution_count": 128,
   "metadata": {
    "colab": {
     "base_uri": "https://localhost:8080/",
     "height": 297
    },
    "executionInfo": {
     "elapsed": 5,
     "status": "ok",
     "timestamp": 1636899350191,
     "user": {
      "displayName": "D OK",
      "photoUrl": "https://lh3.googleusercontent.com/a/default-user=s64",
      "userId": "10267117973942008095"
     },
     "user_tz": -60
    },
    "id": "l_mg6ShHzJJF",
    "outputId": "db6b3e73-52a5-4eef-9b3e-6f75f8a29c36"
   },
   "outputs": [
    {
     "data": {
      "text/html": [
       "<div>\n",
       "<style scoped>\n",
       "    .dataframe tbody tr th:only-of-type {\n",
       "        vertical-align: middle;\n",
       "    }\n",
       "\n",
       "    .dataframe tbody tr th {\n",
       "        vertical-align: top;\n",
       "    }\n",
       "\n",
       "    .dataframe thead th {\n",
       "        text-align: right;\n",
       "    }\n",
       "</style>\n",
       "<table border=\"1\" class=\"dataframe\">\n",
       "  <thead>\n",
       "    <tr style=\"text-align: right;\">\n",
       "      <th></th>\n",
       "      <th>Price</th>\n",
       "      <th>Strike</th>\n",
       "      <th>Time</th>\n",
       "      <th>Volatility</th>\n",
       "    </tr>\n",
       "  </thead>\n",
       "  <tbody>\n",
       "    <tr>\n",
       "      <th>count</th>\n",
       "      <td>10000.000</td>\n",
       "      <td>10000.000</td>\n",
       "      <td>1.000e+04</td>\n",
       "      <td>10000.000</td>\n",
       "    </tr>\n",
       "    <tr>\n",
       "      <th>mean</th>\n",
       "      <td>47.219</td>\n",
       "      <td>84.655</td>\n",
       "      <td>2.483e+00</td>\n",
       "      <td>0.300</td>\n",
       "    </tr>\n",
       "    <tr>\n",
       "      <th>std</th>\n",
       "      <td>22.573</td>\n",
       "      <td>43.176</td>\n",
       "      <td>1.449e+00</td>\n",
       "      <td>0.058</td>\n",
       "    </tr>\n",
       "    <tr>\n",
       "      <th>min</th>\n",
       "      <td>0.000</td>\n",
       "      <td>10.002</td>\n",
       "      <td>1.631e-04</td>\n",
       "      <td>0.200</td>\n",
       "    </tr>\n",
       "    <tr>\n",
       "      <th>25%</th>\n",
       "      <td>31.098</td>\n",
       "      <td>47.168</td>\n",
       "      <td>1.209e+00</td>\n",
       "      <td>0.250</td>\n",
       "    </tr>\n",
       "    <tr>\n",
       "      <th>50%</th>\n",
       "      <td>47.546</td>\n",
       "      <td>84.655</td>\n",
       "      <td>2.467e+00</td>\n",
       "      <td>0.301</td>\n",
       "    </tr>\n",
       "    <tr>\n",
       "      <th>75%</th>\n",
       "      <td>63.659</td>\n",
       "      <td>121.976</td>\n",
       "      <td>3.739e+00</td>\n",
       "      <td>0.350</td>\n",
       "    </tr>\n",
       "    <tr>\n",
       "      <th>max</th>\n",
       "      <td>92.091</td>\n",
       "      <td>159.987</td>\n",
       "      <td>4.999e+00</td>\n",
       "      <td>0.400</td>\n",
       "    </tr>\n",
       "  </tbody>\n",
       "</table>\n",
       "</div>"
      ],
      "text/plain": [
       "           Price     Strike       Time  Volatility\n",
       "count  10000.000  10000.000  1.000e+04   10000.000\n",
       "mean      47.219     84.655  2.483e+00       0.300\n",
       "std       22.573     43.176  1.449e+00       0.058\n",
       "min        0.000     10.002  1.631e-04       0.200\n",
       "25%       31.098     47.168  1.209e+00       0.250\n",
       "50%       47.546     84.655  2.467e+00       0.301\n",
       "75%       63.659    121.976  3.739e+00       0.350\n",
       "max       92.091    159.987  4.999e+00       0.400"
      ]
     },
     "execution_count": 128,
     "metadata": {},
     "output_type": "execute_result"
    }
   ],
   "source": [
    "pd.set_option('precision', 3)\n",
    "dataset.describe()"
   ]
  },
  {
   "cell_type": "markdown",
   "metadata": {
    "id": "WrPHthoTzJJG"
   },
   "source": [
    "<a id='2.2'></a>\n",
    "## 3.2. Data Visualization"
   ]
  },
  {
   "cell_type": "code",
   "execution_count": 129,
   "metadata": {
    "colab": {
     "base_uri": "https://localhost:8080/",
     "height": 707
    },
    "executionInfo": {
     "elapsed": 1523,
     "status": "ok",
     "timestamp": 1636899353404,
     "user": {
      "displayName": "D OK",
      "photoUrl": "https://lh3.googleusercontent.com/a/default-user=s64",
      "userId": "10267117973942008095"
     },
     "user_tz": -60
    },
    "id": "9vB-pC0kzJJG",
    "outputId": "3fb716e2-b0b1-465c-c0a6-a454ca0770b7"
   },
   "outputs": [
    {
     "data": {
      "image/png": "[encoded data removed]",
      "text/plain": [
       "<Figure size 1080x864 with 4 Axes>"
      ]
     },
     "metadata": {
      "needs_background": "light"
     },
     "output_type": "display_data"
    }
   ],
   "source": [
    "dataset.hist(bins=50, sharex=False, sharey=False, xlabelsize=10, ylabelsize=10, figsize=(15,12))\n",
    "pyplot.show()"
   ]
  },
  {
   "cell_type": "markdown",
   "metadata": {
    "id": "PFnqwwwszJJG"
   },
   "source": [
    "We can see that the price has an interesting distribution with a spike at $0$ due to all of the OTM options. Strike is Gaussian distributed around 100 and the time is uniformally distributed out to 5 years"
   ]
  },
  {
   "cell_type": "markdown",
   "metadata": {
    "id": "ILP9lvPEzJJG"
   },
   "source": [
    "Next we look at the interaction between different variables"
   ]
  },
  {
   "cell_type": "code",
   "execution_count": 130,
   "metadata": {},
   "outputs": [
    {
     "data": {
      "text/plain": [
       "(10000, 3)"
      ]
     },
     "execution_count": 130,
     "metadata": {},
     "output_type": "execute_result"
    }
   ],
   "source": [
    "X.shape"
   ]
  },
  {
   "cell_type": "code",
   "execution_count": 131,
   "metadata": {},
   "outputs": [
    {
     "data": {
      "text/plain": [
       "(10000,)"
      ]
     },
     "execution_count": 131,
     "metadata": {},
     "output_type": "execute_result"
    }
   ],
   "source": [
    "Y.shape"
   ]
  },
  {
   "cell_type": "markdown",
   "metadata": {
    "id": "d5R4INrfzJJG"
   },
   "source": [
    "We see some very interesting non linear analysis. This means that we expect our non linear models to do a better job than our linear models."
   ]
  },
  {
   "cell_type": "markdown",
   "metadata": {
    "id": "UyBhE8jYzJJG"
   },
   "source": [
    "<a id='3'></a>\n",
    "## 4. Data Preparation and Analysis"
   ]
  },
  {
   "cell_type": "markdown",
   "metadata": {
    "id": "0TXnGFVszJJG"
   },
   "source": [
    "<a id='4.1'></a>\n",
    "## 4.1. Univariate Feature Selection"
   ]
  },
  {
   "cell_type": "markdown",
   "metadata": {
    "id": "WZ0x9PJOzJJG"
   },
   "source": [
    "We use SelectKBest function from sklearn"
   ]
  },
  {
   "cell_type": "code",
   "execution_count": 132,
   "metadata": {
    "colab": {
     "base_uri": "https://localhost:8080/",
     "height": 173
    },
    "executionInfo": {
     "elapsed": 252,
     "status": "ok",
     "timestamp": 1636899368716,
     "user": {
      "displayName": "D OK",
      "photoUrl": "https://lh3.googleusercontent.com/a/default-user=s64",
      "userId": "10267117973942008095"
     },
     "user_tz": -60
    },
    "id": "69Zssuh0zJJG",
    "outputId": "4c88aeb8-666d-4a84-e3eb-9bee38ea2d5f"
   },
   "outputs": [
    {
     "data": {
      "text/html": [
       "<div>\n",
       "<style scoped>\n",
       "    .dataframe tbody tr th:only-of-type {\n",
       "        vertical-align: middle;\n",
       "    }\n",
       "\n",
       "    .dataframe tbody tr th {\n",
       "        vertical-align: top;\n",
       "    }\n",
       "\n",
       "    .dataframe thead th {\n",
       "        text-align: right;\n",
       "    }\n",
       "</style>\n",
       "<table border=\"1\" class=\"dataframe\">\n",
       "  <thead>\n",
       "    <tr style=\"text-align: right;\">\n",
       "      <th></th>\n",
       "      <th>Score</th>\n",
       "    </tr>\n",
       "    <tr>\n",
       "      <th>Specs</th>\n",
       "      <th></th>\n",
       "    </tr>\n",
       "  </thead>\n",
       "  <tbody>\n",
       "    <tr>\n",
       "      <th>Strike</th>\n",
       "      <td>22280.805</td>\n",
       "    </tr>\n",
       "    <tr>\n",
       "      <th>Time</th>\n",
       "      <td>2181.298</td>\n",
       "    </tr>\n",
       "    <tr>\n",
       "      <th>Vol</th>\n",
       "      <td>243.553</td>\n",
       "    </tr>\n",
       "  </tbody>\n",
       "</table>\n",
       "</div>"
      ],
      "text/plain": [
       "            Score\n",
       "Specs            \n",
       "Strike  22280.805\n",
       "Time     2181.298\n",
       "Vol       243.553"
      ]
     },
     "execution_count": 132,
     "metadata": {},
     "output_type": "execute_result"
    }
   ],
   "source": [
    "bestfeatures = SelectKBest(k='all', score_func=f_regression)\n",
    "fit = bestfeatures.fit(X,Y)\n",
    "dfscores = pd.DataFrame(fit.scores_)\n",
    "dfcolumns = pd.DataFrame(['Strike', 'Time', 'Vol'])\n",
    "#concat two dataframes for better visualization \n",
    "featureScores = pd.concat([dfcolumns,dfscores],axis=1)\n",
    "featureScores.columns = ['Specs','Score']  #naming the dataframe columns\n",
    "featureScores.nlargest(10,'Score').set_index('Specs')  #print 10 best features"
   ]
  },
  {
   "cell_type": "markdown",
   "metadata": {
    "id": "8hPOpSufzJJH"
   },
   "source": [
    "We observe that the moneyness is the most important variable for the price."
   ]
  },
  {
   "cell_type": "markdown",
   "metadata": {
    "id": "WcpoDeCLzJJH"
   },
   "source": [
    "<a id='4'></a>\n",
    "# 5. Evaluate Algorithms and Models"
   ]
  },
  {
   "cell_type": "markdown",
   "metadata": {
    "id": "H-7OmH8GzJJH"
   },
   "source": [
    "<a id='4.1'></a>\n",
    "## 5.1. Train Test Split and Evaluation Metrics"
   ]
  },
  {
   "cell_type": "code",
   "execution_count": 133,
   "metadata": {
    "executionInfo": {
     "elapsed": 251,
     "status": "ok",
     "timestamp": 1636899371401,
     "user": {
      "displayName": "D OK",
      "photoUrl": "https://lh3.googleusercontent.com/a/default-user=s64",
      "userId": "10267117973942008095"
     },
     "user_tz": -60
    },
    "id": "qIoFGyM_zJJH"
   },
   "outputs": [],
   "source": [
    "validation_size = 0.2\n",
    "\n",
    "train_size = int(len(X) * (1-validation_size))\n",
    "X_train, X_test = X[0:train_size], X[train_size:len(X)]\n",
    "Y_train, Y_test = Y[0:train_size], Y[train_size:len(X)]"
   ]
  },
  {
   "cell_type": "markdown",
   "metadata": {
    "id": "K284YCK2zJJH"
   },
   "source": [
    "We use the prebuilt scikit models to run a K fold analysis on our training data. We then train the model on the full training data and use it for prediction of the test data. The parameters for the K fold analysis are defined as -"
   ]
  },
  {
   "cell_type": "code",
   "execution_count": 134,
   "metadata": {
    "executionInfo": {
     "elapsed": 2,
     "status": "ok",
     "timestamp": 1636899372648,
     "user": {
      "displayName": "D OK",
      "photoUrl": "https://lh3.googleusercontent.com/a/default-user=s64",
      "userId": "10267117973942008095"
     },
     "user_tz": -60
    },
    "id": "nwcisKDzzJJH"
   },
   "outputs": [],
   "source": [
    "num_folds = 10\n",
    "seed = 7\n",
    "# scikit is moving away from mean_squared_error. \n",
    "# In order to avoid confusion, and to allow comparison with other models, we invert the final scores\n",
    "scoring = 'neg_mean_squared_error' "
   ]
  },
  {
   "cell_type": "markdown",
   "metadata": {
    "id": "Yx965hO-zJJH"
   },
   "source": [
    "<a id='4.2'></a>\n",
    "## 5.2. Compare Models and Algorithms"
   ]
  },
  {
   "cell_type": "markdown",
   "metadata": {
    "id": "rTew8gw_zJJH"
   },
   "source": [
    "#### Linear Models and Regression Trees"
   ]
  },
  {
   "cell_type": "code",
   "execution_count": 225,
   "metadata": {
    "executionInfo": {
     "elapsed": 268,
     "status": "ok",
     "timestamp": 1636899374373,
     "user": {
      "displayName": "D OK",
      "photoUrl": "https://lh3.googleusercontent.com/a/default-user=s64",
      "userId": "10267117973942008095"
     },
     "user_tz": -60
    },
    "id": "H8HKxcbbzJJH"
   },
   "outputs": [],
   "source": [
    "models = []\n",
    "models.append(('LR', LinearRegression()))\n",
    "models.append(('LASSO', Lasso()))\n",
    "models.append(('EN', ElasticNet()))\n",
    "models.append(('MLP', MLPRegressor(hidden_layer_sizes = (50, 50, 50))))"
   ]
  },
  {
   "cell_type": "code",
   "execution_count": 226,
   "metadata": {
    "colab": {
     "base_uri": "https://localhost:8080/"
    },
    "executionInfo": {
     "elapsed": 53804,
     "status": "ok",
     "timestamp": 1636899430678,
     "user": {
      "displayName": "D OK",
      "photoUrl": "https://lh3.googleusercontent.com/a/default-user=s64",
      "userId": "10267117973942008095"
     },
     "user_tz": -60
    },
    "id": "LP4k-JZszJJH",
    "outputId": "3e4ef7df-b806-4761-84c3-f1aa75480740"
   },
   "outputs": [
    {
     "name": "stdout",
     "output_type": "stream",
     "text": [
      "LR: 54.234866 (2.073846) 54.164908 53.931152\n",
      "LASSO: 69.429224 (1.722767) 69.376774 69.074309\n",
      "EN: 73.317234 (2.238570) 73.267964 73.452145\n",
      "MLP: 2.752735 (1.194243) 4.719248 5.001016\n"
     ]
    }
   ],
   "source": [
    "names = []\n",
    "kfold_results = []\n",
    "test_results = []\n",
    "train_results = []\n",
    "\n",
    "for name, model in models:\n",
    "    names.append(name)\n",
    "    \n",
    "    ## K Fold analysis:\n",
    "    \n",
    "    kfold = KFold(n_splits=num_folds)\n",
    "    #converted mean square error to positive. The lower the beter\n",
    "    cv_results = -1* cross_val_score(model, X_train, Y_train, cv=kfold, scoring=scoring)\n",
    "    kfold_results.append(cv_results)\n",
    "    \n",
    "\n",
    "    # Full Training period\n",
    "    res = model.fit(X_train, Y_train)\n",
    "    train_result = mean_squared_error(res.predict(X_train), Y_train)\n",
    "    train_results.append(train_result)\n",
    "    \n",
    "    # Test results\n",
    "    test_result = mean_squared_error(res.predict(X_test), Y_test)\n",
    "    test_results.append(test_result)\n",
    "    \n",
    "    msg = \"%s: %f (%f) %f %f\" % (name, cv_results.mean(), cv_results.std(), train_result, test_result)\n",
    "    print(msg)"
   ]
  },
  {
   "cell_type": "markdown",
   "metadata": {
    "id": "gtetnUoszJJI"
   },
   "source": [
    "We begin by looking at the Kfold analysis"
   ]
  },
  {
   "cell_type": "code",
   "execution_count": 227,
   "metadata": {
    "colab": {
     "base_uri": "https://localhost:8080/",
     "height": 540
    },
    "executionInfo": {
     "elapsed": 413,
     "status": "ok",
     "timestamp": 1636899431085,
     "user": {
      "displayName": "D OK",
      "photoUrl": "https://lh3.googleusercontent.com/a/default-user=s64",
      "userId": "10267117973942008095"
     },
     "user_tz": -60
    },
    "id": "j6IlN9gJzJJI",
    "outputId": "2adefcb5-ce94-4886-a257-6cbc9e9a0588"
   },
   "outputs": [
    {
     "data": {
      "image/png": "[encoded data removed]",
      "text/plain": [
       "<Figure size 1080x576 with 1 Axes>"
      ]
     },
     "metadata": {
      "needs_background": "light"
     },
     "output_type": "display_data"
    }
   ],
   "source": [
    "fig = pyplot.figure()\n",
    "fig.suptitle('Algorithm Comparison: Kfold results')\n",
    "ax = fig.add_subplot(111)\n",
    "pyplot.boxplot(kfold_results)\n",
    "ax.set_xticklabels(names)\n",
    "fig.set_size_inches(15,8)\n",
    "pyplot.show()"
   ]
  },
  {
   "cell_type": "markdown",
   "metadata": {
    "id": "QruBVDQ1zJJI"
   },
   "source": [
    "Let's look out of sample"
   ]
  },
  {
   "cell_type": "code",
   "execution_count": 228,
   "metadata": {
    "colab": {
     "base_uri": "https://localhost:8080/",
     "height": 540
    },
    "executionInfo": {
     "elapsed": 554,
     "status": "ok",
     "timestamp": 1636899431634,
     "user": {
      "displayName": "D OK",
      "photoUrl": "https://lh3.googleusercontent.com/a/default-user=s64",
      "userId": "10267117973942008095"
     },
     "user_tz": -60
    },
    "id": "Prq6P0zszJJI",
    "outputId": "53d769b0-e72d-47f2-ade0-f21c1e02e269"
   },
   "outputs": [
    {
     "data": {
      "image/png": "[encoded data removed]",
      "text/plain": [
       "<Figure size 1080x576 with 1 Axes>"
      ]
     },
     "metadata": {
      "needs_background": "light"
     },
     "output_type": "display_data"
    }
   ],
   "source": [
    "# compare algorithms\n",
    "fig = pyplot.figure()\n",
    "\n",
    "ind = np.arange(len(names))  # the x locations for the groups\n",
    "width = 0.35  # the width of the bars\n",
    "\n",
    "fig.suptitle('Algorithm Comparison')\n",
    "ax = fig.add_subplot(111)\n",
    "pyplot.bar(ind - width/2, train_results,  width=width, label='Train Error')\n",
    "pyplot.bar(ind + width/2, test_results, width=width, label='Test Error')\n",
    "fig.set_size_inches(15,8)\n",
    "pyplot.legend()\n",
    "ax.set_xticks(ind)\n",
    "ax.set_xticklabels(names)\n",
    "pyplot.show()"
   ]
  },
  {
   "cell_type": "markdown",
   "metadata": {
    "id": "60jujoRrzJJI"
   },
   "source": [
    "We see that the multilayer perceptron (MLP) algorithm does a lot better that the linear algorithm. Given MLP is one of the best models we perform the grid search for MLP model in the next step.  "
   ]
  },
  {
   "cell_type": "markdown",
   "metadata": {
    "id": "scC-oGvIzJJI"
   },
   "source": [
    "<a id='5'></a>\n",
    "# 6. Finalising the model"
   ]
  },
  {
   "cell_type": "code",
   "execution_count": 229,
   "metadata": {},
   "outputs": [
    {
     "data": {
      "text/plain": [
       "[('LR', LinearRegression()),\n",
       " ('LASSO', Lasso()),\n",
       " ('EN', ElasticNet()),\n",
       " ('MLP', MLPRegressor(hidden_layer_sizes=(50, 50, 50)))]"
      ]
     },
     "execution_count": 229,
     "metadata": {},
     "output_type": "execute_result"
    }
   ],
   "source": [
    "models"
   ]
  },
  {
   "cell_type": "code",
   "execution_count": 230,
   "metadata": {
    "colab": {
     "base_uri": "https://localhost:8080/"
    },
    "executionInfo": {
     "elapsed": 484,
     "status": "ok",
     "timestamp": 1636899448265,
     "user": {
      "displayName": "D OK",
      "photoUrl": "https://lh3.googleusercontent.com/a/default-user=s64",
      "userId": "10267117973942008095"
     },
     "user_tz": -60
    },
    "id": "7ZnXckh3zJJJ",
    "outputId": "b973662b-b90e-40b9-bb45-ef47e822724e"
   },
   "outputs": [],
   "source": [
    "# prepare model\n",
    "name, mlp = models[3]"
   ]
  },
  {
   "cell_type": "code",
   "execution_count": 231,
   "metadata": {
    "colab": {
     "base_uri": "https://localhost:8080/"
    },
    "executionInfo": {
     "elapsed": 16,
     "status": "ok",
     "timestamp": 1636899448266,
     "user": {
      "displayName": "D OK",
      "photoUrl": "https://lh3.googleusercontent.com/a/default-user=s64",
      "userId": "10267117973942008095"
     },
     "user_tz": -60
    },
    "id": "0YUtyXb9zJJJ",
    "outputId": "ecff79f8-1903-4881-db9f-93803d6a2f4c"
   },
   "outputs": [
    {
     "name": "stdout",
     "output_type": "stream",
     "text": [
      "1.2558457682856756\n"
     ]
    }
   ],
   "source": [
    "# estimate accuracy on validation set\n",
    "# transform the validation dataset\n",
    "predictions = model_tuned.predict(X_test)\n",
    "print(mean_squared_error(Y_test, predictions))"
   ]
  },
  {
   "cell_type": "markdown",
   "metadata": {},
   "source": [
    "### Some Examples"
   ]
  },
  {
   "cell_type": "code",
   "execution_count": 232,
   "metadata": {},
   "outputs": [],
   "source": [
    "def plot_fit(vol, tmat):\n",
    "    strike = np.linspace(50, 150, 100)\n",
    "    time_to_maturity = np.ones(100)*tmat\n",
    "    option_vol_20 = np.ones(100)*vol\n",
    "    bs_price = call_option_price(s0, strike, time_to_maturity, option_vol)\n",
    "    X = np.array([strike, time_to_maturity, option_vol]).transpose()\n",
    "    mlp_price = res.predict(X)\n",
    "    plt.plot(strike, bs_price, label='Black Scholes')\n",
    "    plt.plot(strike, mlp_price, label='MLP')\n",
    "    plt.xlabel(\"Strike\")\n",
    "    plt.ylabel(\"Call Option Value\")\n",
    "    plt.legend();"
   ]
  },
  {
   "cell_type": "code",
   "execution_count": 233,
   "metadata": {},
   "outputs": [
    {
     "data": {
      "image/png": "[encoded data removed]",
      "text/plain": [
       "<Figure size 432x288 with 1 Axes>"
      ]
     },
     "metadata": {
      "needs_background": "light"
     },
     "output_type": "display_data"
    }
   ],
   "source": [
    "plot_fit(0.2, 0.5)"
   ]
  },
  {
   "cell_type": "code",
   "execution_count": 234,
   "metadata": {},
   "outputs": [
    {
     "data": {
      "image/png": "[encoded data removed]",
      "text/plain": [
       "<Figure size 432x288 with 1 Axes>"
      ]
     },
     "metadata": {
      "needs_background": "light"
     },
     "output_type": "display_data"
    }
   ],
   "source": [
    "plot_fit(0.3, 1.0)"
   ]
  },
  {
   "cell_type": "code",
   "execution_count": 235,
   "metadata": {},
   "outputs": [
    {
     "data": {
      "image/png": "[encoded data removed]",
      "text/plain": [
       "<Figure size 432x288 with 1 Axes>"
      ]
     },
     "metadata": {
      "needs_background": "light"
     },
     "output_type": "display_data"
    }
   ],
   "source": [
    "plot_fit(0.2, 2.0)"
   ]
  },
  {
   "cell_type": "code",
   "execution_count": 236,
   "metadata": {},
   "outputs": [
    {
     "data": {
      "image/png": "[encoded data removed]",
      "text/plain": [
       "<Figure size 432x288 with 1 Axes>"
      ]
     },
     "metadata": {
      "needs_background": "light"
     },
     "output_type": "display_data"
    }
   ],
   "source": [
    "plot_fit(0.3, 4.0)"
   ]
  },
  {
   "cell_type": "markdown",
   "metadata": {
    "id": "Sj7AbpAKzJJK"
   },
   "source": [
    "### Summary"
   ]
  },
  {
   "cell_type": "markdown",
   "metadata": {
    "id": "F5eDYyLfzJJK"
   },
   "source": [
    "Artificial neural network (ANN) can reproduce the Black and Scholes option pricing formula for a call option to a reasonable degree of accuracy which means that we can leverage the efficient numerical calculation of machine learning in the derivative pricing without relying on the impractical assumptions made in the traditional derivative pricing models. "
   ]
  }
 ],
 "metadata": {
  "colab": {
   "collapsed_sections": [
    "UyBhE8jYzJJG"
   ],
   "name": "DOK_DerivativesPricing.ipynb",
   "provenance": []
  },
  "kernelspec": {
   "display_name": "Python 3 (ipykernel)",
   "language": "python",
   "name": "python3"
  },
  "language_info": {
   "codemirror_mode": {
    "name": "ipython",
    "version": 3
   },
   "file_extension": ".py",
   "mimetype": "text/x-python",
   "name": "python",
   "nbconvert_exporter": "python",
   "pygments_lexer": "ipython3",
   "version": "3.9.7"
  }
 },
 "nbformat": 4,
 "nbformat_minor": 1
}
