{
 "cells": [
  {
   "cell_type": "code",
   "execution_count": 7,
   "id": "264b78bb",
   "metadata": {},
   "outputs": [
    {
     "name": "stdout",
     "output_type": "stream",
     "text": [
      "Collecting arch\n",
      "  Downloading arch-5.1.0-cp38-cp38-win_amd64.whl (849 kB)\n",
      "Requirement already satisfied: pandas>=1.0 in c:\\users\\apala\\anaconda3\\lib\\site-packages (from arch) (1.2.4)\n",
      "Collecting property-cached>=1.6.4\n",
      "  Downloading property_cached-1.6.4-py2.py3-none-any.whl (7.8 kB)\n",
      "Requirement already satisfied: numpy>=1.17 in c:\\users\\apala\\anaconda3\\lib\\site-packages (from arch) (1.20.1)\n",
      "Requirement already satisfied: statsmodels>=0.11 in c:\\users\\apala\\anaconda3\\lib\\site-packages (from arch) (0.12.2)\n",
      "Requirement already satisfied: scipy>=1.3 in c:\\users\\apala\\anaconda3\\lib\\site-packages (from arch) (1.6.2)\n",
      "Requirement already satisfied: pytz>=2017.3 in c:\\users\\apala\\anaconda3\\lib\\site-packages (from pandas>=1.0->arch) (2021.1)\n",
      "Requirement already satisfied: python-dateutil>=2.7.3 in c:\\users\\apala\\anaconda3\\lib\\site-packages (from pandas>=1.0->arch) (2.8.1)\n",
      "Requirement already satisfied: six>=1.5 in c:\\users\\apala\\anaconda3\\lib\\site-packages (from python-dateutil>=2.7.3->pandas>=1.0->arch) (1.15.0)\n",
      "Requirement already satisfied: patsy>=0.5 in c:\\users\\apala\\anaconda3\\lib\\site-packages (from statsmodels>=0.11->arch) (0.5.1)\n",
      "Installing collected packages: property-cached, arch\n",
      "Successfully installed arch-5.1.0 property-cached-1.6.4\n",
      "Note: you may need to restart the kernel to use updated packages.\n"
     ]
    }
   ],
   "source": [
    "pip install arch"
   ]
  },
  {
   "cell_type": "code",
   "execution_count": 8,
   "id": "b7191dcc",
   "metadata": {},
   "outputs": [],
   "source": [
    "import pandas as pd\n",
    "import numpy as np\n",
    "from arch import arch_model"
   ]
  },
  {
   "cell_type": "code",
   "execution_count": 50,
   "id": "2e095975",
   "metadata": {},
   "outputs": [],
   "source": [
    "returns = pd.read_excel(\"Data_1.xlsx\", header=0, index_col=0, parse_dates=True)*100"
   ]
  },
  {
   "cell_type": "code",
   "execution_count": 51,
   "id": "a7afbb9e",
   "metadata": {},
   "outputs": [
    {
     "data": {
      "text/html": [
       "<div>\n",
       "<style scoped>\n",
       "    .dataframe tbody tr th:only-of-type {\n",
       "        vertical-align: middle;\n",
       "    }\n",
       "\n",
       "    .dataframe tbody tr th {\n",
       "        vertical-align: top;\n",
       "    }\n",
       "\n",
       "    .dataframe thead th {\n",
       "        text-align: right;\n",
       "    }\n",
       "</style>\n",
       "<table border=\"1\" class=\"dataframe\">\n",
       "  <thead>\n",
       "    <tr style=\"text-align: right;\">\n",
       "      <th></th>\n",
       "      <th>ret</th>\n",
       "    </tr>\n",
       "    <tr>\n",
       "      <th>date</th>\n",
       "      <th></th>\n",
       "    </tr>\n",
       "  </thead>\n",
       "  <tbody>\n",
       "    <tr>\n",
       "      <th>1986-10-31</th>\n",
       "      <td>0.000000</td>\n",
       "    </tr>\n",
       "    <tr>\n",
       "      <th>1986-11-30</th>\n",
       "      <td>1.204475</td>\n",
       "    </tr>\n",
       "    <tr>\n",
       "      <th>1986-12-31</th>\n",
       "      <td>-0.746390</td>\n",
       "    </tr>\n",
       "    <tr>\n",
       "      <th>1987-01-31</th>\n",
       "      <td>6.624790</td>\n",
       "    </tr>\n",
       "    <tr>\n",
       "      <th>1987-02-28</th>\n",
       "      <td>1.458332</td>\n",
       "    </tr>\n",
       "    <tr>\n",
       "      <th>...</th>\n",
       "      <td>...</td>\n",
       "    </tr>\n",
       "    <tr>\n",
       "      <th>2021-06-30</th>\n",
       "      <td>0.844056</td>\n",
       "    </tr>\n",
       "    <tr>\n",
       "      <th>2021-07-31</th>\n",
       "      <td>1.639902</td>\n",
       "    </tr>\n",
       "    <tr>\n",
       "      <th>2021-08-31</th>\n",
       "      <td>0.884216</td>\n",
       "    </tr>\n",
       "    <tr>\n",
       "      <th>2021-09-30</th>\n",
       "      <td>-2.201622</td>\n",
       "    </tr>\n",
       "    <tr>\n",
       "      <th>2021-10-31</th>\n",
       "      <td>3.665578</td>\n",
       "    </tr>\n",
       "  </tbody>\n",
       "</table>\n",
       "<p>421 rows × 1 columns</p>\n",
       "</div>"
      ],
      "text/plain": [
       "                 ret\n",
       "date                \n",
       "1986-10-31  0.000000\n",
       "1986-11-30  1.204475\n",
       "1986-12-31 -0.746390\n",
       "1987-01-31  6.624790\n",
       "1987-02-28  1.458332\n",
       "...              ...\n",
       "2021-06-30  0.844056\n",
       "2021-07-31  1.639902\n",
       "2021-08-31  0.884216\n",
       "2021-09-30 -2.201622\n",
       "2021-10-31  3.665578\n",
       "\n",
       "[421 rows x 1 columns]"
      ]
     },
     "execution_count": 51,
     "metadata": {},
     "output_type": "execute_result"
    }
   ],
   "source": [
    "returns"
   ]
  },
  {
   "cell_type": "code",
   "execution_count": 58,
   "id": "8b352f47",
   "metadata": {},
   "outputs": [
    {
     "name": "stdout",
     "output_type": "stream",
     "text": [
      "Iteration:      1,   Func. Count:      6,   Neg. LLF: 14120.351989905199\n",
      "Iteration:      2,   Func. Count:     13,   Neg. LLF: 95291.46641754966\n",
      "Iteration:      3,   Func. Count:     19,   Neg. LLF: 920.5137033983879\n",
      "Iteration:      4,   Func. Count:     26,   Neg. LLF: 907.0727453546247\n",
      "Iteration:      5,   Func. Count:     32,   Neg. LLF: 905.8889786047448\n",
      "Iteration:      6,   Func. Count:     37,   Neg. LLF: 905.8747901996546\n",
      "Iteration:      7,   Func. Count:     43,   Neg. LLF: 905.8386916902915\n",
      "Iteration:      8,   Func. Count:     48,   Neg. LLF: 905.8384680298968\n",
      "Iteration:      9,   Func. Count:     53,   Neg. LLF: 905.838461926619\n",
      "Iteration:     10,   Func. Count:     58,   Neg. LLF: 905.8384613334408\n",
      "Optimization terminated successfully    (Exit mode 0)\n",
      "            Current function value: 905.8384613334408\n",
      "            Iterations: 10\n",
      "            Function evaluations: 58\n",
      "            Gradient evaluations: 10\n"
     ]
    }
   ],
   "source": [
    "model_ret = arch_model(returns['ret'], vol='Garch', p=1, o=0, q=1, dist='Normal', rescale=True, mean='Constant')\n",
    "res_ret = model_ret.fit()"
   ]
  },
  {
   "cell_type": "code",
   "execution_count": 59,
   "id": "bf4b7a0c",
   "metadata": {},
   "outputs": [
    {
     "data": {
      "text/plain": [
       "                     Constant Mean - GARCH Model Results                      \n",
       "==============================================================================\n",
       "Dep. Variable:                    ret   R-squared:                       0.000\n",
       "Mean Model:             Constant Mean   Adj. R-squared:                  0.000\n",
       "Vol Model:                      GARCH   Log-Likelihood:               -905.838\n",
       "Distribution:                  Normal   AIC:                           1819.68\n",
       "Method:            Maximum Likelihood   BIC:                           1835.85\n",
       "                                        No. Observations:                  421\n",
       "Date:                Wed, Jan 26 2022   Df Residuals:                      420\n",
       "Time:                        11:47:06   Df Model:                            1\n",
       "                               Mean Model                               \n",
       "========================================================================\n",
       "                 coef    std err          t      P>|t|  95.0% Conf. Int.\n",
       "------------------------------------------------------------------------\n",
       "mu             0.7620  9.349e-02      8.151  3.616e-16 [  0.579,  0.945]\n",
       "                             Volatility Model                             \n",
       "==========================================================================\n",
       "                 coef    std err          t      P>|t|    95.0% Conf. Int.\n",
       "--------------------------------------------------------------------------\n",
       "omega          1.8151      0.814      2.231  2.569e-02   [  0.220,  3.410]\n",
       "alpha[1]       0.3387      0.139      2.432  1.502e-02 [6.574e-02,  0.612]\n",
       "beta[1]        0.3102      0.222      1.396      0.163   [ -0.125,  0.746]\n",
       "==========================================================================\n",
       "\n",
       "Covariance estimator: robust\n",
       "ARCHModelResult, id: 0x1f85bd5ff70"
      ]
     },
     "execution_count": 59,
     "metadata": {},
     "output_type": "execute_result"
    }
   ],
   "source": [
    "res_ret"
   ]
  },
  {
   "cell_type": "code",
   "execution_count": 33,
   "id": "97d96be5",
   "metadata": {},
   "outputs": [],
   "source": [
    "import datetime as dt\n",
    "import pandas_datareader.data as web\n",
    "djia = web.get_data_fred('DJIA')\n",
    "returns2 = 100 * djia['DJIA'].pct_change().dropna()\n"
   ]
  },
  {
   "cell_type": "code",
   "execution_count": 64,
   "id": "eafd0f38",
   "metadata": {},
   "outputs": [
    {
     "data": {
      "text/plain": [
       "<AxesSubplot:xlabel='DATE'>"
      ]
     },
     "execution_count": 64,
     "metadata": {},
     "output_type": "execute_result"
    },
    {
     "data": {
      "image/png": "[encoded data removed]",
      "text/plain": [
       "<Figure size 432x288 with 1 Axes>"
      ]
     },
     "metadata": {
      "needs_background": "light"
     },
     "output_type": "display_data"
    }
   ],
   "source": [
    "returns22.plot()"
   ]
  },
  {
   "cell_type": "code",
   "execution_count": 53,
   "id": "469afb0a",
   "metadata": {},
   "outputs": [
    {
     "data": {
      "text/plain": [
       "<AxesSubplot:xlabel='date'>"
      ]
     },
     "execution_count": 53,
     "metadata": {},
     "output_type": "execute_result"
    },
    {
     "data": {
      "image/png": "[encoded data removed]",
      "text/plain": [
       "<Figure size 432x288 with 1 Axes>"
      ]
     },
     "metadata": {
      "needs_background": "light"
     },
     "output_type": "display_data"
    }
   ],
   "source": [
    "returns.plot()"
   ]
  },
  {
   "cell_type": "code",
   "execution_count": 123,
   "id": "255e5b62",
   "metadata": {},
   "outputs": [
    {
     "name": "stdout",
     "output_type": "stream",
     "text": [
      "Iteration:      1,   Func. Count:      6,   Neg. LLF: 10062.97634787743\n",
      "Iteration:      2,   Func. Count:     16,   Neg. LLF: 4767616151.873185\n",
      "Iteration:      3,   Func. Count:     23,   Neg. LLF: 2129.8345466998426\n",
      "Iteration:      4,   Func. Count:     30,   Neg. LLF: 1594.9272529724235\n",
      "Iteration:      5,   Func. Count:     36,   Neg. LLF: 3195.288984764604\n",
      "Iteration:      6,   Func. Count:     43,   Neg. LLF: 1593.0850235341522\n",
      "Iteration:      7,   Func. Count:     49,   Neg. LLF: 1593.0762423324873\n",
      "Iteration:      8,   Func. Count:     54,   Neg. LLF: 1593.076215401262\n",
      "Iteration:      9,   Func. Count:     58,   Neg. LLF: 1593.0762154012411\n",
      "Optimization terminated successfully    (Exit mode 0)\n",
      "            Current function value: 1593.076215401262\n",
      "            Iterations: 9\n",
      "            Function evaluations: 58\n",
      "            Gradient evaluations: 9\n"
     ]
    },
    {
     "data": {
      "text/plain": [
       "                     Constant Mean - GARCH Model Results                      \n",
       "==============================================================================\n",
       "Dep. Variable:                   DJIA   R-squared:                       0.000\n",
       "Mean Model:             Constant Mean   Adj. R-squared:                  0.000\n",
       "Vol Model:                      GARCH   Log-Likelihood:               -1593.08\n",
       "Distribution:                  Normal   AIC:                           3194.15\n",
       "Method:            Maximum Likelihood   BIC:                           3214.84\n",
       "                                        No. Observations:                 1302\n",
       "Date:                Wed, Jan 26 2022   Df Residuals:                     1301\n",
       "Time:                        14:10:16   Df Model:                            1\n",
       "                                Mean Model                                \n",
       "==========================================================================\n",
       "                 coef    std err          t      P>|t|    95.0% Conf. Int.\n",
       "--------------------------------------------------------------------------\n",
       "mu             0.0881  1.802e-02      4.888  1.018e-06 [5.278e-02,  0.123]\n",
       "                              Volatility Model                              \n",
       "============================================================================\n",
       "                 coef    std err          t      P>|t|      95.0% Conf. Int.\n",
       "----------------------------------------------------------------------------\n",
       "omega          0.0368  1.024e-02      3.598  3.204e-04 [1.677e-02,5.689e-02]\n",
       "alpha[1]       0.2124  3.971e-02      5.348  8.890e-08     [  0.135,  0.290]\n",
       "beta[1]        0.7626  3.360e-02     22.694 5.130e-114     [  0.697,  0.828]\n",
       "============================================================================\n",
       "\n",
       "Covariance estimator: robust\n",
       "ARCHModelResult, id: 0x1f85c0aa4c0"
      ]
     },
     "execution_count": 123,
     "metadata": {},
     "output_type": "execute_result"
    }
   ],
   "source": [
    "returns21=returns2/100+1\n",
    "returns22=(returns21.groupby(pd.Grouper(freq=\"M\")).prod()-1)*100\n",
    "model_ret2 = arch_model(returns2, p=1, o=0, q=1, dist='Normal', rescale=True, mean='Constant',vol='Garch')\n",
    "res_ret2 = model_ret2.fit()\n",
    "res_ret2"
   ]
  },
  {
   "cell_type": "code",
   "execution_count": 96,
   "id": "6be65023",
   "metadata": {},
   "outputs": [
    {
     "ename": "TypeError",
     "evalue": "'GARCH' object is not callable",
     "output_type": "error",
     "traceback": [
      "\u001b[1;31m---------------------------------------------------------------------------\u001b[0m",
      "\u001b[1;31mTypeError\u001b[0m                                 Traceback (most recent call last)",
      "\u001b[1;32m<ipython-input-96-d2ce10c5ffd5>\u001b[0m in \u001b[0;36m<module>\u001b[1;34m\u001b[0m\n\u001b[1;32m----> 1\u001b[1;33m \u001b[0mfixed_res\u001b[0m \u001b[1;33m=\u001b[0m \u001b[0mmodel_ret2\u001b[0m\u001b[1;33m.\u001b[0m\u001b[0mvolatility\u001b[0m\u001b[1;33m(\u001b[0m\u001b[1;34m'EMWAVariance'\u001b[0m\u001b[1;33m)\u001b[0m\u001b[1;33m\u001b[0m\u001b[1;33m\u001b[0m\u001b[0m\n\u001b[0m\u001b[0;32m      2\u001b[0m \u001b[0mprint\u001b[0m\u001b[1;33m(\u001b[0m\u001b[0mfixed_res\u001b[0m\u001b[1;33m.\u001b[0m\u001b[0msummary\u001b[0m\u001b[1;33m(\u001b[0m\u001b[1;33m)\u001b[0m\u001b[1;33m)\u001b[0m\u001b[1;33m\u001b[0m\u001b[1;33m\u001b[0m\u001b[0m\n",
      "\u001b[1;31mTypeError\u001b[0m: 'GARCH' object is not callable"
     ]
    }
   ],
   "source": [
    "fixed_res = model_ret2.volatility('EMWAVariance')\n",
    "print(fixed_res.summary())"
   ]
  },
  {
   "cell_type": "code",
   "execution_count": 124,
   "id": "43a4c88b",
   "metadata": {},
   "outputs": [
    {
     "name": "stdout",
     "output_type": "stream",
     "text": [
      "Iteration:      1,   Func. Count:      4,   Neg. LLF: 11283.410316824971\n",
      "Iteration:      2,   Func. Count:     10,   Neg. LLF: 449007.0200884031\n",
      "Iteration:      3,   Func. Count:     15,   Neg. LLF: 1646.1875886569537\n",
      "Iteration:      4,   Func. Count:     18,   Neg. LLF: 1645.927195929552\n",
      "Iteration:      5,   Func. Count:     21,   Neg. LLF: 1645.925423898731\n",
      "Iteration:      6,   Func. Count:     24,   Neg. LLF: 1645.92541957925\n",
      "Iteration:      7,   Func. Count:     26,   Neg. LLF: 1645.9254195791968\n",
      "Optimization terminated successfully    (Exit mode 0)\n",
      "            Current function value: 1645.92541957925\n",
      "            Iterations: 7\n",
      "            Function evaluations: 26\n",
      "            Gradient evaluations: 7\n"
     ]
    },
    {
     "data": {
      "text/plain": [
       "                Constant Mean - EWMA/RiskMetrics Model Results                \n",
       "==============================================================================\n",
       "Dep. Variable:                   DJIA   R-squared:                       0.000\n",
       "Mean Model:             Constant Mean   Adj. R-squared:                  0.000\n",
       "Vol Model:           EWMA/RiskMetrics   Log-Likelihood:               -1645.93\n",
       "Distribution:                  Normal   AIC:                           3295.85\n",
       "Method:            Maximum Likelihood   BIC:                           3306.19\n",
       "                                        No. Observations:                 1302\n",
       "Date:                Wed, Jan 26 2022   Df Residuals:                     1301\n",
       "Time:                        14:19:06   Df Model:                            1\n",
       "                                Mean Model                                \n",
       "==========================================================================\n",
       "                 coef    std err          t      P>|t|    95.0% Conf. Int.\n",
       "--------------------------------------------------------------------------\n",
       "mu             0.0759  3.379e-02      2.245  2.477e-02 [9.634e-03,  0.142]\n",
       "                            Volatility Model                            \n",
       "========================================================================\n",
       "                 coef    std err          t      P>|t|  95.0% Conf. Int.\n",
       "------------------------------------------------------------------------\n",
       "lam            0.9033  2.322e-02     38.906      0.000 [  0.858,  0.949]\n",
       "========================================================================\n",
       "\n",
       "Covariance estimator: robust\n",
       "ARCHModelResult, id: 0x1f85cd3a250"
      ]
     },
     "execution_count": 124,
     "metadata": {},
     "output_type": "execute_result"
    }
   ],
   "source": [
    "am = ConstantMean(returns2)\n",
    "am.volatility = EWMAVariance(None)\n",
    "am.distribution = Normal()\n",
    "res = am.fit()\n",
    "res"
   ]
  },
  {
   "cell_type": "code",
   "execution_count": 120,
   "id": "b7fc20d7",
   "metadata": {},
   "outputs": [],
   "source": [
    "import datetime as dt\n",
    "\n",
    "import pandas_datareader.data as web\n",
    "\n",
    "from arch import arch_model\n",
    "\n",
    "from arch.univariate import ZeroMean, GARCH, Normal"
   ]
  },
  {
   "cell_type": "code",
   "execution_count": 108,
   "id": "ba19927d",
   "metadata": {},
   "outputs": [],
   "source": [
    "from arch.univariate import EWMAVariance"
   ]
  },
  {
   "cell_type": "code",
   "execution_count": 117,
   "id": "d5e2d5e3",
   "metadata": {},
   "outputs": [
    {
     "data": {
      "text/plain": [
       "mu    0.066429\n",
       "Name: params, dtype: float64"
      ]
     },
     "execution_count": 117,
     "metadata": {},
     "output_type": "execute_result"
    }
   ],
   "source": [
    "res.params"
   ]
  },
  {
   "cell_type": "code",
   "execution_count": 125,
   "id": "8414f2d8",
   "metadata": {},
   "outputs": [
    {
     "ename": "TypeError",
     "evalue": "'Series' object is not callable",
     "output_type": "error",
     "traceback": [
      "\u001b[1;31m---------------------------------------------------------------------------\u001b[0m",
      "\u001b[1;31mTypeError\u001b[0m                                 Traceback (most recent call last)",
      "\u001b[1;32m<ipython-input-125-2ec23cacacc9>\u001b[0m in \u001b[0;36m<module>\u001b[1;34m\u001b[0m\n\u001b[1;32m----> 1\u001b[1;33m \u001b[0mres\u001b[0m\u001b[1;33m.\u001b[0m\u001b[0mconditional_volatility\u001b[0m\u001b[1;33m(\u001b[0m\u001b[1;33m)\u001b[0m\u001b[1;33m\u001b[0m\u001b[1;33m\u001b[0m\u001b[0m\n\u001b[0m",
      "\u001b[1;31mTypeError\u001b[0m: 'Series' object is not callable"
     ]
    }
   ],
   "source": [
    "res.conditional_volatility()"
   ]
  },
  {
   "cell_type": "code",
   "execution_count": null,
   "id": "1d29137e",
   "metadata": {},
   "outputs": [],
   "source": []
  }
 ],
 "metadata": {
  "kernelspec": {
   "display_name": "Python 3",
   "language": "python",
   "name": "python3"
  },
  "language_info": {
   "codemirror_mode": {
    "name": "ipython",
    "version": 3
   },
   "file_extension": ".py",
   "mimetype": "text/x-python",
   "name": "python",
   "nbconvert_exporter": "python",
   "pygments_lexer": "ipython3",
   "version": "3.8.5"
  }
 },
 "nbformat": 4,
 "nbformat_minor": 5
}
