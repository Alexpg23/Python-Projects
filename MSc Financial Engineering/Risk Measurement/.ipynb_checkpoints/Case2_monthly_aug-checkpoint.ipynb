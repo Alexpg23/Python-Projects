{
 "cells": [
  {
   "cell_type": "code",
   "execution_count": 1,
   "id": "90c0a70a",
   "metadata": {},
   "outputs": [],
   "source": [
    "import pandas as pd\n",
    "import numpy as np\n",
    "from pandas.tseries.offsets import MonthEnd\n",
    "import matplotlib.pyplot as plt\n",
    "import scipy.stats as sp\n",
    "from arch import arch_model\n",
    "from arch.univariate import ZeroMean,GARCH,Normal,EWMAVariance\n",
    "import matplotlib.ticker as mtick\n",
    "import warnings\n",
    "warnings.filterwarnings(\"ignore\")"
   ]
  },
  {
   "cell_type": "code",
   "execution_count": 2,
   "id": "3f5be02a",
   "metadata": {},
   "outputs": [],
   "source": [
    "df=pd.read_excel(\"data.xlsx\" ,index_col=0, parse_dates=True)"
   ]
  },
  {
   "cell_type": "code",
   "execution_count": 3,
   "id": "6b88e5aa",
   "metadata": {},
   "outputs": [
    {
     "data": {
      "text/html": [
       "<div>\n",
       "<style scoped>\n",
       "    .dataframe tbody tr th:only-of-type {\n",
       "        vertical-align: middle;\n",
       "    }\n",
       "\n",
       "    .dataframe tbody tr th {\n",
       "        vertical-align: top;\n",
       "    }\n",
       "\n",
       "    .dataframe thead th {\n",
       "        text-align: right;\n",
       "    }\n",
       "</style>\n",
       "<table border=\"1\" class=\"dataframe\">\n",
       "  <thead>\n",
       "    <tr style=\"text-align: right;\">\n",
       "      <th></th>\n",
       "      <th>Equities</th>\n",
       "      <th>Tsies</th>\n",
       "      <th>CorpIG</th>\n",
       "      <th>AbsReturn</th>\n",
       "      <th>Gold</th>\n",
       "      <th>Oil</th>\n",
       "    </tr>\n",
       "    <tr>\n",
       "      <th>date</th>\n",
       "      <th></th>\n",
       "      <th></th>\n",
       "      <th></th>\n",
       "      <th></th>\n",
       "      <th></th>\n",
       "      <th></th>\n",
       "    </tr>\n",
       "  </thead>\n",
       "  <tbody>\n",
       "    <tr>\n",
       "      <th>1986-10-31</th>\n",
       "      <td>100.000000</td>\n",
       "      <td>100.000000</td>\n",
       "      <td>100.000000</td>\n",
       "      <td>100.000000</td>\n",
       "      <td>100.000000</td>\n",
       "      <td>100.000000</td>\n",
       "    </tr>\n",
       "    <tr>\n",
       "      <th>1986-11-03</th>\n",
       "      <td>100.621000</td>\n",
       "      <td>100.350693</td>\n",
       "      <td>100.169884</td>\n",
       "      <td>99.888000</td>\n",
       "      <td>101.296758</td>\n",
       "      <td>96.393443</td>\n",
       "    </tr>\n",
       "    <tr>\n",
       "      <th>1986-11-04</th>\n",
       "      <td>100.853435</td>\n",
       "      <td>100.210050</td>\n",
       "      <td>100.336838</td>\n",
       "      <td>100.069796</td>\n",
       "      <td>101.745636</td>\n",
       "      <td>98.688525</td>\n",
       "    </tr>\n",
       "    <tr>\n",
       "      <th>1986-11-05</th>\n",
       "      <td>101.086406</td>\n",
       "      <td>100.703160</td>\n",
       "      <td>100.503793</td>\n",
       "      <td>100.616177</td>\n",
       "      <td>101.059850</td>\n",
       "      <td>97.901639</td>\n",
       "    </tr>\n",
       "    <tr>\n",
       "      <th>1986-11-06</th>\n",
       "      <td>100.865027</td>\n",
       "      <td>100.138867</td>\n",
       "      <td>100.480361</td>\n",
       "      <td>100.714781</td>\n",
       "      <td>101.882793</td>\n",
       "      <td>98.885246</td>\n",
       "    </tr>\n",
       "    <tr>\n",
       "      <th>...</th>\n",
       "      <td>...</td>\n",
       "      <td>...</td>\n",
       "      <td>...</td>\n",
       "      <td>...</td>\n",
       "      <td>...</td>\n",
       "      <td>...</td>\n",
       "    </tr>\n",
       "    <tr>\n",
       "      <th>2021-10-25</th>\n",
       "      <td>4081.420245</td>\n",
       "      <td>152.128638</td>\n",
       "      <td>1029.079406</td>\n",
       "      <td>1609.593575</td>\n",
       "      <td>450.187032</td>\n",
       "      <td>555.016393</td>\n",
       "    </tr>\n",
       "    <tr>\n",
       "      <th>2021-10-26</th>\n",
       "      <td>4083.052813</td>\n",
       "      <td>152.268491</td>\n",
       "      <td>1031.343546</td>\n",
       "      <td>1600.354508</td>\n",
       "      <td>445.274314</td>\n",
       "      <td>561.573770</td>\n",
       "    </tr>\n",
       "    <tr>\n",
       "      <th>2021-10-27</th>\n",
       "      <td>4052.021612</td>\n",
       "      <td>153.534099</td>\n",
       "      <td>1038.844791</td>\n",
       "      <td>1589.936200</td>\n",
       "      <td>447.693267</td>\n",
       "      <td>542.032787</td>\n",
       "    </tr>\n",
       "    <tr>\n",
       "      <th>2021-10-28</th>\n",
       "      <td>4098.214658</td>\n",
       "      <td>153.109371</td>\n",
       "      <td>1035.751735</td>\n",
       "      <td>1579.363124</td>\n",
       "      <td>449.750623</td>\n",
       "      <td>542.819672</td>\n",
       "    </tr>\n",
       "    <tr>\n",
       "      <th>2021-10-29</th>\n",
       "      <td>4107.230731</td>\n",
       "      <td>153.392027</td>\n",
       "      <td>1035.775168</td>\n",
       "      <td>1567.202028</td>\n",
       "      <td>441.184539</td>\n",
       "      <td>547.540984</td>\n",
       "    </tr>\n",
       "  </tbody>\n",
       "</table>\n",
       "<p>8821 rows × 6 columns</p>\n",
       "</div>"
      ],
      "text/plain": [
       "               Equities       Tsies       CorpIG    AbsReturn        Gold  \\\n",
       "date                                                                        \n",
       "1986-10-31   100.000000  100.000000   100.000000   100.000000  100.000000   \n",
       "1986-11-03   100.621000  100.350693   100.169884    99.888000  101.296758   \n",
       "1986-11-04   100.853435  100.210050   100.336838   100.069796  101.745636   \n",
       "1986-11-05   101.086406  100.703160   100.503793   100.616177  101.059850   \n",
       "1986-11-06   100.865027  100.138867   100.480361   100.714781  101.882793   \n",
       "...                 ...         ...          ...          ...         ...   \n",
       "2021-10-25  4081.420245  152.128638  1029.079406  1609.593575  450.187032   \n",
       "2021-10-26  4083.052813  152.268491  1031.343546  1600.354508  445.274314   \n",
       "2021-10-27  4052.021612  153.534099  1038.844791  1589.936200  447.693267   \n",
       "2021-10-28  4098.214658  153.109371  1035.751735  1579.363124  449.750623   \n",
       "2021-10-29  4107.230731  153.392027  1035.775168  1567.202028  441.184539   \n",
       "\n",
       "                   Oil  \n",
       "date                    \n",
       "1986-10-31  100.000000  \n",
       "1986-11-03   96.393443  \n",
       "1986-11-04   98.688525  \n",
       "1986-11-05   97.901639  \n",
       "1986-11-06   98.885246  \n",
       "...                ...  \n",
       "2021-10-25  555.016393  \n",
       "2021-10-26  561.573770  \n",
       "2021-10-27  542.032787  \n",
       "2021-10-28  542.819672  \n",
       "2021-10-29  547.540984  \n",
       "\n",
       "[8821 rows x 6 columns]"
      ]
     },
     "execution_count": 3,
     "metadata": {},
     "output_type": "execute_result"
    }
   ],
   "source": [
    "df"
   ]
  },
  {
   "cell_type": "markdown",
   "id": "86508343",
   "metadata": {},
   "source": [
    "# Creating Returns and Analysing results"
   ]
  },
  {
   "cell_type": "code",
   "execution_count": 4,
   "id": "3d56927a",
   "metadata": {},
   "outputs": [
    {
     "data": {
      "text/html": [
       "<div>\n",
       "<style scoped>\n",
       "    .dataframe tbody tr th:only-of-type {\n",
       "        vertical-align: middle;\n",
       "    }\n",
       "\n",
       "    .dataframe tbody tr th {\n",
       "        vertical-align: top;\n",
       "    }\n",
       "\n",
       "    .dataframe thead th {\n",
       "        text-align: right;\n",
       "    }\n",
       "</style>\n",
       "<table border=\"1\" class=\"dataframe\">\n",
       "  <thead>\n",
       "    <tr style=\"text-align: right;\">\n",
       "      <th></th>\n",
       "      <th>Equities</th>\n",
       "      <th>Tsies</th>\n",
       "      <th>CorpIG</th>\n",
       "      <th>AbsReturn</th>\n",
       "      <th>Gold</th>\n",
       "      <th>Oil</th>\n",
       "    </tr>\n",
       "    <tr>\n",
       "      <th>date</th>\n",
       "      <th></th>\n",
       "      <th></th>\n",
       "      <th></th>\n",
       "      <th></th>\n",
       "      <th></th>\n",
       "      <th></th>\n",
       "    </tr>\n",
       "  </thead>\n",
       "  <tbody>\n",
       "    <tr>\n",
       "      <th>1986-11-03</th>\n",
       "      <td>0.00621</td>\n",
       "      <td>0.003507</td>\n",
       "      <td>0.001699</td>\n",
       "      <td>-0.00112</td>\n",
       "      <td>0.012968</td>\n",
       "      <td>-0.036066</td>\n",
       "    </tr>\n",
       "    <tr>\n",
       "      <th>1986-11-04</th>\n",
       "      <td>0.00231</td>\n",
       "      <td>-0.001402</td>\n",
       "      <td>0.001667</td>\n",
       "      <td>0.00182</td>\n",
       "      <td>0.004431</td>\n",
       "      <td>0.023810</td>\n",
       "    </tr>\n",
       "    <tr>\n",
       "      <th>1986-11-05</th>\n",
       "      <td>0.00231</td>\n",
       "      <td>0.004921</td>\n",
       "      <td>0.001664</td>\n",
       "      <td>0.00546</td>\n",
       "      <td>-0.006740</td>\n",
       "      <td>-0.007973</td>\n",
       "    </tr>\n",
       "    <tr>\n",
       "      <th>1986-11-06</th>\n",
       "      <td>-0.00219</td>\n",
       "      <td>-0.005604</td>\n",
       "      <td>-0.000233</td>\n",
       "      <td>0.00098</td>\n",
       "      <td>0.008143</td>\n",
       "      <td>0.010047</td>\n",
       "    </tr>\n",
       "    <tr>\n",
       "      <th>1986-11-07</th>\n",
       "      <td>0.00001</td>\n",
       "      <td>-0.005583</td>\n",
       "      <td>-0.002303</td>\n",
       "      <td>0.00252</td>\n",
       "      <td>-0.000857</td>\n",
       "      <td>0.004642</td>\n",
       "    </tr>\n",
       "    <tr>\n",
       "      <th>...</th>\n",
       "      <td>...</td>\n",
       "      <td>...</td>\n",
       "      <td>...</td>\n",
       "      <td>...</td>\n",
       "      <td>...</td>\n",
       "      <td>...</td>\n",
       "    </tr>\n",
       "    <tr>\n",
       "      <th>2021-10-25</th>\n",
       "      <td>0.00580</td>\n",
       "      <td>0.001838</td>\n",
       "      <td>0.001437</td>\n",
       "      <td>-0.00630</td>\n",
       "      <td>-0.001659</td>\n",
       "      <td>0.001301</td>\n",
       "    </tr>\n",
       "    <tr>\n",
       "      <th>2021-10-26</th>\n",
       "      <td>0.00040</td>\n",
       "      <td>0.000919</td>\n",
       "      <td>0.002200</td>\n",
       "      <td>-0.00574</td>\n",
       "      <td>-0.010913</td>\n",
       "      <td>0.011815</td>\n",
       "    </tr>\n",
       "    <tr>\n",
       "      <th>2021-10-27</th>\n",
       "      <td>-0.00760</td>\n",
       "      <td>0.008312</td>\n",
       "      <td>0.007273</td>\n",
       "      <td>-0.00651</td>\n",
       "      <td>0.005432</td>\n",
       "      <td>-0.034797</td>\n",
       "    </tr>\n",
       "    <tr>\n",
       "      <th>2021-10-28</th>\n",
       "      <td>0.01140</td>\n",
       "      <td>-0.002766</td>\n",
       "      <td>-0.002977</td>\n",
       "      <td>-0.00665</td>\n",
       "      <td>0.004595</td>\n",
       "      <td>0.001452</td>\n",
       "    </tr>\n",
       "    <tr>\n",
       "      <th>2021-10-29</th>\n",
       "      <td>0.00220</td>\n",
       "      <td>0.001846</td>\n",
       "      <td>0.000023</td>\n",
       "      <td>-0.00770</td>\n",
       "      <td>-0.019046</td>\n",
       "      <td>0.008698</td>\n",
       "    </tr>\n",
       "  </tbody>\n",
       "</table>\n",
       "<p>8820 rows × 6 columns</p>\n",
       "</div>"
      ],
      "text/plain": [
       "            Equities     Tsies    CorpIG  AbsReturn      Gold       Oil\n",
       "date                                                                   \n",
       "1986-11-03   0.00621  0.003507  0.001699   -0.00112  0.012968 -0.036066\n",
       "1986-11-04   0.00231 -0.001402  0.001667    0.00182  0.004431  0.023810\n",
       "1986-11-05   0.00231  0.004921  0.001664    0.00546 -0.006740 -0.007973\n",
       "1986-11-06  -0.00219 -0.005604 -0.000233    0.00098  0.008143  0.010047\n",
       "1986-11-07   0.00001 -0.005583 -0.002303    0.00252 -0.000857  0.004642\n",
       "...              ...       ...       ...        ...       ...       ...\n",
       "2021-10-25   0.00580  0.001838  0.001437   -0.00630 -0.001659  0.001301\n",
       "2021-10-26   0.00040  0.000919  0.002200   -0.00574 -0.010913  0.011815\n",
       "2021-10-27  -0.00760  0.008312  0.007273   -0.00651  0.005432 -0.034797\n",
       "2021-10-28   0.01140 -0.002766 -0.002977   -0.00665  0.004595  0.001452\n",
       "2021-10-29   0.00220  0.001846  0.000023   -0.00770 -0.019046  0.008698\n",
       "\n",
       "[8820 rows x 6 columns]"
      ]
     },
     "execution_count": 4,
     "metadata": {},
     "output_type": "execute_result"
    }
   ],
   "source": [
    "df_d_ret=df/df.shift(1)-1\n",
    "df_d_ret.dropna(inplace=True)\n",
    "df_d_ret"
   ]
  },
  {
   "cell_type": "code",
   "execution_count": 5,
   "id": "24fe6f6b",
   "metadata": {},
   "outputs": [
    {
     "data": {
      "text/html": [
       "<div>\n",
       "<style scoped>\n",
       "    .dataframe tbody tr th:only-of-type {\n",
       "        vertical-align: middle;\n",
       "    }\n",
       "\n",
       "    .dataframe tbody tr th {\n",
       "        vertical-align: top;\n",
       "    }\n",
       "\n",
       "    .dataframe thead th {\n",
       "        text-align: right;\n",
       "    }\n",
       "</style>\n",
       "<table border=\"1\" class=\"dataframe\">\n",
       "  <thead>\n",
       "    <tr style=\"text-align: right;\">\n",
       "      <th></th>\n",
       "      <th>Equities</th>\n",
       "      <th>Tsies</th>\n",
       "      <th>CorpIG</th>\n",
       "      <th>AbsReturn</th>\n",
       "      <th>Gold</th>\n",
       "      <th>Oil</th>\n",
       "    </tr>\n",
       "    <tr>\n",
       "      <th>date</th>\n",
       "      <th></th>\n",
       "      <th></th>\n",
       "      <th></th>\n",
       "      <th></th>\n",
       "      <th></th>\n",
       "      <th></th>\n",
       "    </tr>\n",
       "  </thead>\n",
       "  <tbody>\n",
       "    <tr>\n",
       "      <th>1986-11-30</th>\n",
       "      <td>0.015783</td>\n",
       "      <td>0.013404</td>\n",
       "      <td>0.017311</td>\n",
       "      <td>0.015520</td>\n",
       "      <td>-0.028678</td>\n",
       "      <td>-0.016393</td>\n",
       "    </tr>\n",
       "    <tr>\n",
       "      <th>1986-12-31</th>\n",
       "      <td>-0.028032</td>\n",
       "      <td>-0.005662</td>\n",
       "      <td>0.011171</td>\n",
       "      <td>0.013714</td>\n",
       "      <td>-0.001926</td>\n",
       "      <td>0.195333</td>\n",
       "    </tr>\n",
       "    <tr>\n",
       "      <th>1987-01-31</th>\n",
       "      <td>0.128832</td>\n",
       "      <td>0.003491</td>\n",
       "      <td>0.015917</td>\n",
       "      <td>-0.022385</td>\n",
       "      <td>0.030225</td>\n",
       "      <td>0.044618</td>\n",
       "    </tr>\n",
       "    <tr>\n",
       "      <th>1987-02-28</th>\n",
       "      <td>0.048564</td>\n",
       "      <td>-0.000733</td>\n",
       "      <td>0.007259</td>\n",
       "      <td>-0.057454</td>\n",
       "      <td>0.013358</td>\n",
       "      <td>-0.121730</td>\n",
       "    </tr>\n",
       "    <tr>\n",
       "      <th>1987-03-31</th>\n",
       "      <td>0.020713</td>\n",
       "      <td>-0.022195</td>\n",
       "      <td>-0.005064</td>\n",
       "      <td>0.053161</td>\n",
       "      <td>0.037329</td>\n",
       "      <td>0.144073</td>\n",
       "    </tr>\n",
       "    <tr>\n",
       "      <th>...</th>\n",
       "      <td>...</td>\n",
       "      <td>...</td>\n",
       "      <td>...</td>\n",
       "      <td>...</td>\n",
       "      <td>...</td>\n",
       "      <td>...</td>\n",
       "    </tr>\n",
       "    <tr>\n",
       "      <th>2021-06-30</th>\n",
       "      <td>0.027363</td>\n",
       "      <td>0.012022</td>\n",
       "      <td>0.016835</td>\n",
       "      <td>-0.072918</td>\n",
       "      <td>-0.072002</td>\n",
       "      <td>0.108732</td>\n",
       "    </tr>\n",
       "    <tr>\n",
       "      <th>2021-07-31</th>\n",
       "      <td>0.012483</td>\n",
       "      <td>0.019682</td>\n",
       "      <td>0.012074</td>\n",
       "      <td>0.022422</td>\n",
       "      <td>0.035505</td>\n",
       "      <td>0.005577</td>\n",
       "    </tr>\n",
       "    <tr>\n",
       "      <th>2021-08-31</th>\n",
       "      <td>0.029175</td>\n",
       "      <td>-0.005652</td>\n",
       "      <td>-0.001959</td>\n",
       "      <td>-0.014198</td>\n",
       "      <td>-0.005970</td>\n",
       "      <td>-0.074395</td>\n",
       "    </tr>\n",
       "    <tr>\n",
       "      <th>2021-09-30</th>\n",
       "      <td>-0.043660</td>\n",
       "      <td>-0.020315</td>\n",
       "      <td>-0.010571</td>\n",
       "      <td>0.036912</td>\n",
       "      <td>-0.039700</td>\n",
       "      <td>0.099225</td>\n",
       "    </tr>\n",
       "    <tr>\n",
       "      <th>2021-10-31</th>\n",
       "      <td>0.066594</td>\n",
       "      <td>-0.002825</td>\n",
       "      <td>0.002407</td>\n",
       "      <td>-0.000948</td>\n",
       "      <td>0.015119</td>\n",
       "      <td>0.110077</td>\n",
       "    </tr>\n",
       "  </tbody>\n",
       "</table>\n",
       "<p>420 rows × 6 columns</p>\n",
       "</div>"
      ],
      "text/plain": [
       "            Equities     Tsies    CorpIG  AbsReturn      Gold       Oil\n",
       "date                                                                   \n",
       "1986-11-30  0.015783  0.013404  0.017311   0.015520 -0.028678 -0.016393\n",
       "1986-12-31 -0.028032 -0.005662  0.011171   0.013714 -0.001926  0.195333\n",
       "1987-01-31  0.128832  0.003491  0.015917  -0.022385  0.030225  0.044618\n",
       "1987-02-28  0.048564 -0.000733  0.007259  -0.057454  0.013358 -0.121730\n",
       "1987-03-31  0.020713 -0.022195 -0.005064   0.053161  0.037329  0.144073\n",
       "...              ...       ...       ...        ...       ...       ...\n",
       "2021-06-30  0.027363  0.012022  0.016835  -0.072918 -0.072002  0.108732\n",
       "2021-07-31  0.012483  0.019682  0.012074   0.022422  0.035505  0.005577\n",
       "2021-08-31  0.029175 -0.005652 -0.001959  -0.014198 -0.005970 -0.074395\n",
       "2021-09-30 -0.043660 -0.020315 -0.010571   0.036912 -0.039700  0.099225\n",
       "2021-10-31  0.066594 -0.002825  0.002407  -0.000948  0.015119  0.110077\n",
       "\n",
       "[420 rows x 6 columns]"
      ]
     },
     "execution_count": 5,
     "metadata": {},
     "output_type": "execute_result"
    }
   ],
   "source": [
    "df_d_ret_2=df_d_ret+1\n",
    "df_monthly_ret=df_d_ret_2.groupby(pd.Grouper(freq='M')).prod()-1\n",
    "df_monthly_ret"
   ]
  },
  {
   "cell_type": "code",
   "execution_count": 6,
   "id": "50934c7d",
   "metadata": {},
   "outputs": [],
   "source": [
    "weights_aug=pd.DataFrame(index=[\"weights\"],columns=df.columns,data=[[0.4,0.2,0.05,0.2,0.15,0.0]])"
   ]
  },
  {
   "cell_type": "code",
   "execution_count": 7,
   "id": "0862e266",
   "metadata": {},
   "outputs": [
    {
     "data": {
      "text/html": [
       "<div>\n",
       "<style scoped>\n",
       "    .dataframe tbody tr th:only-of-type {\n",
       "        vertical-align: middle;\n",
       "    }\n",
       "\n",
       "    .dataframe tbody tr th {\n",
       "        vertical-align: top;\n",
       "    }\n",
       "\n",
       "    .dataframe thead th {\n",
       "        text-align: right;\n",
       "    }\n",
       "</style>\n",
       "<table border=\"1\" class=\"dataframe\">\n",
       "  <thead>\n",
       "    <tr style=\"text-align: right;\">\n",
       "      <th></th>\n",
       "      <th>Equities</th>\n",
       "      <th>Tsies</th>\n",
       "      <th>CorpIG</th>\n",
       "      <th>AbsReturn</th>\n",
       "      <th>Gold</th>\n",
       "      <th>Oil</th>\n",
       "    </tr>\n",
       "  </thead>\n",
       "  <tbody>\n",
       "    <tr>\n",
       "      <th>weights</th>\n",
       "      <td>40.0%</td>\n",
       "      <td>20.0%</td>\n",
       "      <td>5.0%</td>\n",
       "      <td>20.0%</td>\n",
       "      <td>15.0%</td>\n",
       "      <td>0.0%</td>\n",
       "    </tr>\n",
       "  </tbody>\n",
       "</table>\n",
       "</div>"
      ],
      "text/plain": [
       "        Equities  Tsies CorpIG AbsReturn   Gold   Oil\n",
       "weights    40.0%  20.0%   5.0%     20.0%  15.0%  0.0%"
      ]
     },
     "execution_count": 7,
     "metadata": {},
     "output_type": "execute_result"
    }
   ],
   "source": [
    "(weights_aug*100).applymap('{:,.1f}%'.format)"
   ]
  },
  {
   "cell_type": "code",
   "execution_count": 8,
   "id": "f28a61c3",
   "metadata": {},
   "outputs": [],
   "source": [
    "portfolio_ret_d_aug=pd.DataFrame(index=df_d_ret.index,columns=[\"ret\"], data=np.dot(df_d_ret,weights_aug.T)).dropna()"
   ]
  },
  {
   "cell_type": "code",
   "execution_count": 9,
   "id": "97d202a9",
   "metadata": {},
   "outputs": [],
   "source": [
    "portfolio_ret_m_aug=pd.DataFrame(index=df_monthly_ret.index,columns=[\"ret\"], data=np.dot(df_monthly_ret,weights_aug.T))"
   ]
  },
  {
   "cell_type": "code",
   "execution_count": 10,
   "id": "86b88813",
   "metadata": {},
   "outputs": [
    {
     "data": {
      "image/png": "[encoded data removed]",
      "text/plain": [
       "<Figure size 432x288 with 1 Axes>"
      ]
     },
     "metadata": {
      "needs_background": "light"
     },
     "output_type": "display_data"
    }
   ],
   "source": [
    "ax = (portfolio_ret_m_aug*100).plot()\n",
    "plt.ylabel('Monthly Returns Aug')\n",
    "ax.yaxis.set_major_formatter(mtick.PercentFormatter())"
   ]
  },
  {
   "cell_type": "code",
   "execution_count": 11,
   "id": "162d7750",
   "metadata": {},
   "outputs": [
    {
     "data": {
      "text/plain": [
       "array([[<AxesSubplot:title={'center':'ret'}>]], dtype=object)"
      ]
     },
     "execution_count": 11,
     "metadata": {},
     "output_type": "execute_result"
    },
    {
     "data": {
      "image/png": "[encoded data removed]",
      "text/plain": [
       "<Figure size 432x288 with 1 Axes>"
      ]
     },
     "metadata": {
      "needs_background": "light"
     },
     "output_type": "display_data"
    }
   ],
   "source": [
    "ax = portfolio_ret_m_aug.hist()\n",
    "ax"
   ]
  },
  {
   "cell_type": "code",
   "execution_count": 12,
   "id": "231e2331",
   "metadata": {},
   "outputs": [],
   "source": [
    "mean_m_aug = portfolio_ret_m_aug['ret'].mean()\n",
    "std_m_aug = portfolio_ret_m_aug['ret'].std()\n",
    "max_m_aug = portfolio_ret_m_aug['ret'].max()\n",
    "min_m_aug = portfolio_ret_m_aug['ret'].min()\n",
    "kurt_m_aug = sp.kurtosis(portfolio_ret_m_aug['ret'])\n",
    "skew_m_aug = sp.skew(portfolio_ret_m_aug['ret'])"
   ]
  },
  {
   "cell_type": "code",
   "execution_count": 13,
   "id": "060c5286",
   "metadata": {},
   "outputs": [],
   "source": [
    "normalized_portfolio_ret_m_aug=(portfolio_ret_m_aug-mean_m_aug)/std_m_aug"
   ]
  },
  {
   "cell_type": "code",
   "execution_count": 14,
   "id": "e71a1f54",
   "metadata": {},
   "outputs": [
    {
     "data": {
      "text/html": [
       "<div>\n",
       "<style scoped>\n",
       "    .dataframe tbody tr th:only-of-type {\n",
       "        vertical-align: middle;\n",
       "    }\n",
       "\n",
       "    .dataframe tbody tr th {\n",
       "        vertical-align: top;\n",
       "    }\n",
       "\n",
       "    .dataframe thead th {\n",
       "        text-align: right;\n",
       "    }\n",
       "</style>\n",
       "<table border=\"1\" class=\"dataframe\">\n",
       "  <thead>\n",
       "    <tr style=\"text-align: right;\">\n",
       "      <th></th>\n",
       "      <th>ret</th>\n",
       "    </tr>\n",
       "    <tr>\n",
       "      <th>date</th>\n",
       "      <th></th>\n",
       "    </tr>\n",
       "  </thead>\n",
       "  <tbody>\n",
       "    <tr>\n",
       "      <th>1986-11-30</th>\n",
       "      <td>0.108994</td>\n",
       "    </tr>\n",
       "    <tr>\n",
       "      <th>1986-12-31</th>\n",
       "      <td>-0.868556</td>\n",
       "    </tr>\n",
       "    <tr>\n",
       "      <th>1987-01-31</th>\n",
       "      <td>2.522151</td>\n",
       "    </tr>\n",
       "    <tr>\n",
       "      <th>1987-02-28</th>\n",
       "      <td>0.190108</td>\n",
       "    </tr>\n",
       "    <tr>\n",
       "      <th>1987-03-31</th>\n",
       "      <td>0.715381</td>\n",
       "    </tr>\n",
       "    <tr>\n",
       "      <th>...</th>\n",
       "      <td>...</td>\n",
       "    </tr>\n",
       "    <tr>\n",
       "      <th>2021-06-30</th>\n",
       "      <td>-0.969569</td>\n",
       "    </tr>\n",
       "    <tr>\n",
       "      <th>2021-07-31</th>\n",
       "      <td>0.689267</td>\n",
       "    </tr>\n",
       "    <tr>\n",
       "      <th>2021-08-31</th>\n",
       "      <td>0.002761</td>\n",
       "    </tr>\n",
       "    <tr>\n",
       "      <th>2021-09-30</th>\n",
       "      <td>-1.482161</td>\n",
       "    </tr>\n",
       "    <tr>\n",
       "      <th>2021-10-31</th>\n",
       "      <td>1.174264</td>\n",
       "    </tr>\n",
       "  </tbody>\n",
       "</table>\n",
       "<p>420 rows × 1 columns</p>\n",
       "</div>"
      ],
      "text/plain": [
       "                 ret\n",
       "date                \n",
       "1986-11-30  0.108994\n",
       "1986-12-31 -0.868556\n",
       "1987-01-31  2.522151\n",
       "1987-02-28  0.190108\n",
       "1987-03-31  0.715381\n",
       "...              ...\n",
       "2021-06-30 -0.969569\n",
       "2021-07-31  0.689267\n",
       "2021-08-31  0.002761\n",
       "2021-09-30 -1.482161\n",
       "2021-10-31  1.174264\n",
       "\n",
       "[420 rows x 1 columns]"
      ]
     },
     "execution_count": 14,
     "metadata": {},
     "output_type": "execute_result"
    }
   ],
   "source": [
    "normalized_portfolio_ret_m_aug"
   ]
  },
  {
   "cell_type": "code",
   "execution_count": 15,
   "id": "6ba2d317",
   "metadata": {},
   "outputs": [],
   "source": [
    "mean_norm_m_aug = normalized_portfolio_ret_m_aug['ret'].mean()\n",
    "std_norm_m_aug = normalized_portfolio_ret_m_aug['ret'].std()\n",
    "max_norm_m_aug = normalized_portfolio_ret_m_aug['ret'].max()\n",
    "min_norm_m_aug = normalized_portfolio_ret_m_aug['ret'].min()\n",
    "kurt_norm_m_aug = sp.kurtosis(normalized_portfolio_ret_m_aug['ret'])\n",
    "skew_norm_m_aug = sp.skew(normalized_portfolio_ret_m_aug['ret'])"
   ]
  },
  {
   "cell_type": "markdown",
   "id": "c9b59cbf",
   "metadata": {},
   "source": [
    "# Fitting Garch Model"
   ]
  },
  {
   "cell_type": "code",
   "execution_count": 16,
   "id": "a0f4f745",
   "metadata": {},
   "outputs": [
    {
     "name": "stdout",
     "output_type": "stream",
     "text": [
      "Optimization terminated successfully    (Exit mode 0)\n",
      "            Current function value: 868.789524403415\n",
      "            Iterations: 10\n",
      "            Function evaluations: 48\n",
      "            Gradient evaluations: 10\n"
     ]
    },
    {
     "data": {
      "text/plain": [
       "                       Zero Mean - GARCH Model Results                        \n",
       "==============================================================================\n",
       "Dep. Variable:                    ret   R-squared:                       0.000\n",
       "Mean Model:                 Zero Mean   Adj. R-squared:                  0.002\n",
       "Vol Model:                      GARCH   Log-Likelihood:               -868.790\n",
       "Distribution:                  Normal   AIC:                           1743.58\n",
       "Method:            Maximum Likelihood   BIC:                           1755.70\n",
       "                                        No. Observations:                  420\n",
       "Date:                Sun, Feb 06 2022   Df Residuals:                      420\n",
       "Time:                        20:56:38   Df Model:                            0\n",
       "                              Volatility Model                             \n",
       "===========================================================================\n",
       "                 coef    std err          t      P>|t|     95.0% Conf. Int.\n",
       "---------------------------------------------------------------------------\n",
       "omega          0.5636      0.650      0.867      0.386    [ -0.711,  1.838]\n",
       "alpha[1]       0.0729  5.921e-02      1.231      0.218 [-4.319e-02,  0.189]\n",
       "beta[1]        0.7757      0.212      3.668  2.449e-04    [  0.361,  1.190]\n",
       "===========================================================================\n",
       "\n",
       "Covariance estimator: robust\n",
       "ARCHModelResult, id: 0x29e6d97d250"
      ]
     },
     "execution_count": 16,
     "metadata": {},
     "output_type": "execute_result"
    }
   ],
   "source": [
    "model_garch_aug = arch_model(y=portfolio_ret_m_aug['ret']*100, rescale=True, mean='Zero')\n",
    "res_garch_m_aug = model_garch_aug.fit(100)\n",
    "res_garch_m_aug"
   ]
  },
  {
   "cell_type": "code",
   "execution_count": 17,
   "id": "9685b56b",
   "metadata": {},
   "outputs": [
    {
     "data": {
      "text/plain": [
       "1.0"
      ]
     },
     "execution_count": 17,
     "metadata": {},
     "output_type": "execute_result"
    }
   ],
   "source": [
    "scale_aug = res_garch_m_aug.scale\n",
    "scale_aug"
   ]
  },
  {
   "cell_type": "code",
   "execution_count": 18,
   "id": "df455afa",
   "metadata": {},
   "outputs": [],
   "source": [
    "forecasts_garch_m_aug = res_garch_m_aug.forecast(horizon=1, reindex=True)"
   ]
  },
  {
   "cell_type": "code",
   "execution_count": 19,
   "id": "aa9f69c5",
   "metadata": {},
   "outputs": [],
   "source": [
    "vol_garch_for_m_aug = (forecasts_garch_m_aug.variance.iloc[-1]/10000)**0.5"
   ]
  },
  {
   "cell_type": "code",
   "execution_count": 20,
   "id": "2418ea34",
   "metadata": {},
   "outputs": [
    {
     "data": {
      "text/plain": [
       "0.01840805947758256"
      ]
     },
     "execution_count": 20,
     "metadata": {},
     "output_type": "execute_result"
    }
   ],
   "source": [
    "std_m_aug"
   ]
  },
  {
   "cell_type": "code",
   "execution_count": 21,
   "id": "353c37b8",
   "metadata": {},
   "outputs": [
    {
     "data": {
      "text/plain": [
       "0.020419784371334165"
      ]
     },
     "execution_count": 21,
     "metadata": {},
     "output_type": "execute_result"
    }
   ],
   "source": [
    "vol_garch_for_m_aug[0]"
   ]
  },
  {
   "cell_type": "markdown",
   "id": "47d5481d",
   "metadata": {},
   "source": [
    "# Fitting EWMA Model"
   ]
  },
  {
   "cell_type": "code",
   "execution_count": 22,
   "id": "c566afcc",
   "metadata": {},
   "outputs": [
    {
     "name": "stdout",
     "output_type": "stream",
     "text": [
      "Iteration:      1,   Func. Count:      3,   Neg. LLF: 882.6018278380354\n",
      "Iteration:      2,   Func. Count:      5,   Neg. LLF: 884.6993827416275\n",
      "Iteration:      3,   Func. Count:     10,   Neg. LLF: 880.4473276575336\n",
      "Iteration:      4,   Func. Count:     12,   Neg. LLF: 880.4347717605401\n",
      "Iteration:      5,   Func. Count:     14,   Neg. LLF: 880.427537161526\n",
      "Iteration:      6,   Func. Count:     16,   Neg. LLF: 880.4261463265867\n",
      "Iteration:      7,   Func. Count:     18,   Neg. LLF: 880.4260677676491\n",
      "Iteration:      8,   Func. Count:     20,   Neg. LLF: 880.426067117789\n",
      "Optimization terminated successfully    (Exit mode 0)\n",
      "            Current function value: 880.426067117789\n",
      "            Iterations: 8\n",
      "            Function evaluations: 20\n",
      "            Gradient evaluations: 8\n"
     ]
    },
    {
     "data": {
      "text/plain": [
       "                  Zero Mean - EWMA/RiskMetrics Model Results                  \n",
       "==============================================================================\n",
       "Dep. Variable:                    ret   R-squared:                       0.000\n",
       "Mean Model:                 Zero Mean   Adj. R-squared:                  0.002\n",
       "Vol Model:           EWMA/RiskMetrics   Log-Likelihood:               -880.426\n",
       "Distribution:                  Normal   AIC:                           1762.85\n",
       "Method:            Maximum Likelihood   BIC:                           1766.89\n",
       "                                        No. Observations:                  420\n",
       "Date:                Sun, Feb 06 2022   Df Residuals:                      420\n",
       "Time:                        20:56:38   Df Model:                            0\n",
       "                            Volatility Model                            \n",
       "========================================================================\n",
       "                 coef    std err          t      P>|t|  95.0% Conf. Int.\n",
       "------------------------------------------------------------------------\n",
       "lam            0.9941  3.193e-02     31.138 7.366e-213 [  0.932,  1.057]\n",
       "========================================================================\n",
       "\n",
       "Covariance estimator: robust\n",
       "ARCHModelResult, id: 0x29e6daea7f0"
      ]
     },
     "execution_count": 22,
     "metadata": {},
     "output_type": "execute_result"
    }
   ],
   "source": [
    "am_m_aug = ZeroMean(portfolio_ret_m_aug['ret']*100)\n",
    "am_m_aug.volatility = EWMAVariance(None)\n",
    "am_m_aug.distribution = Normal()\n",
    "res_m_aug = am_m_aug.fit()\n",
    "res_m_aug"
   ]
  },
  {
   "cell_type": "code",
   "execution_count": 23,
   "id": "03db144e",
   "metadata": {},
   "outputs": [
    {
     "data": {
      "text/plain": [
       "0.020689746524159894"
      ]
     },
     "execution_count": 23,
     "metadata": {},
     "output_type": "execute_result"
    }
   ],
   "source": [
    "forecasts_res_m_aug = res_m_aug.forecast(horizon=1, reindex=True)\n",
    "vol_ewma_for_m_aug = (forecasts_res_m_aug.variance.iloc[-1]/10000)**0.5\n",
    "\n",
    "vol_ewma_for_m_aug[0]"
   ]
  },
  {
   "cell_type": "markdown",
   "id": "f3aefd34",
   "metadata": {},
   "source": [
    "# Definging Garch and Emwa Volatilities\n",
    "# Definging Forecast Parameters: Omega, Alpha, Beta, Lambda"
   ]
  },
  {
   "cell_type": "code",
   "execution_count": 24,
   "id": "dca8b992",
   "metadata": {},
   "outputs": [],
   "source": [
    "forc_vol_emwa_m_aug = (forecasts_res_m_aug.variance.iloc[-1]/10000)**0.5"
   ]
  },
  {
   "cell_type": "code",
   "execution_count": 25,
   "id": "c71fa94b",
   "metadata": {},
   "outputs": [],
   "source": [
    "forc_vol_garch_m_aug= (forecasts_garch_m_aug.variance.iloc[-1]/10000)**0.5"
   ]
  },
  {
   "cell_type": "code",
   "execution_count": 26,
   "id": "7f1158ab",
   "metadata": {},
   "outputs": [],
   "source": [
    "omega_m_aug = res_garch_m_aug.params[0]/10000\n",
    "alpha_m_aug = res_garch_m_aug.params[1]\n",
    "beta_m_aug = res_garch_m_aug.params[2]\n",
    "lamb_m_aug = res_m_aug.params[0]"
   ]
  },
  {
   "cell_type": "code",
   "execution_count": 27,
   "id": "b0915f00",
   "metadata": {},
   "outputs": [],
   "source": [
    "lt_var_m_aug = omega_m_aug/(1-alpha_m_aug-beta_m_aug)\n",
    "lt_vol_m_aug = lt_var_m_aug**(1/2)"
   ]
  },
  {
   "cell_type": "code",
   "execution_count": 28,
   "id": "515aaf3d",
   "metadata": {},
   "outputs": [
    {
     "data": {
      "text/plain": [
       "0.01840805947758256"
      ]
     },
     "execution_count": 28,
     "metadata": {},
     "output_type": "execute_result"
    }
   ],
   "source": [
    "obsv_vol_m_aug = portfolio_ret_m_aug['ret'].std()\n",
    "\n",
    "obsv_vol_m_aug"
   ]
  },
  {
   "cell_type": "code",
   "execution_count": 29,
   "id": "4f399035",
   "metadata": {},
   "outputs": [],
   "source": [
    "L1_m_aug = [alpha_m_aug.round(4), beta_m_aug.round(4), (omega_m_aug*10000).round(4), lamb_m_aug.round(4)]\n",
    "L2_m_aug = [np.round(obsv_vol_m_aug, 4), forc_vol_garch_m_aug[0].round(4), forc_vol_emwa_m_aug[0].round(4), lt_vol_m_aug.round(4)]"
   ]
  },
  {
   "cell_type": "code",
   "execution_count": 30,
   "id": "51340888",
   "metadata": {},
   "outputs": [],
   "source": [
    "est_patam_m_aug = pd.DataFrame(columns=['Alpha', 'Beta', 'Omega', 'Lamda'])\n",
    "vols_m_aug = pd.DataFrame(columns=['Obsv. Vola', 'Vola GARCH', 'Vola EWMA', 'LT Vola GARCH'])"
   ]
  },
  {
   "cell_type": "code",
   "execution_count": 31,
   "id": "53ab94df",
   "metadata": {},
   "outputs": [
    {
     "data": {
      "text/html": [
       "<div>\n",
       "<style scoped>\n",
       "    .dataframe tbody tr th:only-of-type {\n",
       "        vertical-align: middle;\n",
       "    }\n",
       "\n",
       "    .dataframe tbody tr th {\n",
       "        vertical-align: top;\n",
       "    }\n",
       "\n",
       "    .dataframe thead th {\n",
       "        text-align: right;\n",
       "    }\n",
       "</style>\n",
       "<table border=\"1\" class=\"dataframe\">\n",
       "  <thead>\n",
       "    <tr style=\"text-align: right;\">\n",
       "      <th></th>\n",
       "      <th>Alpha</th>\n",
       "      <th>Beta</th>\n",
       "      <th>Omega</th>\n",
       "      <th>Lamda</th>\n",
       "    </tr>\n",
       "  </thead>\n",
       "  <tbody>\n",
       "    <tr>\n",
       "      <th>Values</th>\n",
       "      <td>0.07</td>\n",
       "      <td>0.78</td>\n",
       "      <td>0.56</td>\n",
       "      <td>0.99</td>\n",
       "    </tr>\n",
       "  </tbody>\n",
       "</table>\n",
       "</div>"
      ],
      "text/plain": [
       "       Alpha  Beta Omega Lamda\n",
       "Values  0.07  0.78  0.56  0.99"
      ]
     },
     "execution_count": 31,
     "metadata": {},
     "output_type": "execute_result"
    }
   ],
   "source": [
    "est_patam_m_aug.loc['Values'] = L1_m_aug\n",
    "\n",
    "est_patam_m_aug.applymap('{:,.2f}'.format)"
   ]
  },
  {
   "cell_type": "code",
   "execution_count": 32,
   "id": "0087806a",
   "metadata": {},
   "outputs": [
    {
     "data": {
      "text/html": [
       "<div>\n",
       "<style scoped>\n",
       "    .dataframe tbody tr th:only-of-type {\n",
       "        vertical-align: middle;\n",
       "    }\n",
       "\n",
       "    .dataframe tbody tr th {\n",
       "        vertical-align: top;\n",
       "    }\n",
       "\n",
       "    .dataframe thead th {\n",
       "        text-align: right;\n",
       "    }\n",
       "</style>\n",
       "<table border=\"1\" class=\"dataframe\">\n",
       "  <thead>\n",
       "    <tr style=\"text-align: right;\">\n",
       "      <th></th>\n",
       "      <th>Obsv. Vola</th>\n",
       "      <th>Vola GARCH</th>\n",
       "      <th>Vola EWMA</th>\n",
       "      <th>LT Vola GARCH</th>\n",
       "    </tr>\n",
       "  </thead>\n",
       "  <tbody>\n",
       "    <tr>\n",
       "      <th>Values</th>\n",
       "      <td>1.84%</td>\n",
       "      <td>2.04%</td>\n",
       "      <td>2.07%</td>\n",
       "      <td>1.93%</td>\n",
       "    </tr>\n",
       "  </tbody>\n",
       "</table>\n",
       "</div>"
      ],
      "text/plain": [
       "       Obsv. Vola Vola GARCH Vola EWMA LT Vola GARCH\n",
       "Values      1.84%      2.04%     2.07%         1.93%"
      ]
     },
     "execution_count": 32,
     "metadata": {},
     "output_type": "execute_result"
    }
   ],
   "source": [
    "vols_m_aug.loc['Values'] = L2_m_aug\n",
    "\n",
    "(vols_m_aug*100).applymap('{:,.2f}%'.format)"
   ]
  },
  {
   "cell_type": "markdown",
   "id": "11cbec17",
   "metadata": {},
   "source": [
    "## Cerating DataFrame with EWMA weights"
   ]
  },
  {
   "cell_type": "code",
   "execution_count": 33,
   "id": "6049753c",
   "metadata": {},
   "outputs": [],
   "source": [
    "L_weights_emwa_m_aug = []"
   ]
  },
  {
   "cell_type": "code",
   "execution_count": 34,
   "id": "327932f0",
   "metadata": {},
   "outputs": [],
   "source": [
    "for t in range(0, len(portfolio_ret_m_aug)):\n",
    "    L_weights_emwa_m_aug.append((lamb_m_aug**t)*(1-lamb_m_aug))"
   ]
  },
  {
   "cell_type": "code",
   "execution_count": 35,
   "id": "39de1eed",
   "metadata": {},
   "outputs": [],
   "source": [
    "L_weights_emwa_m_aug.reverse()"
   ]
  },
  {
   "cell_type": "code",
   "execution_count": 36,
   "id": "ef721a4d",
   "metadata": {},
   "outputs": [],
   "source": [
    "weights_emwa_m_aug = pd.DataFrame(columns=['weights', 'acum_weights'])\n",
    "weights_emwa_m_aug['weights'] = L_weights_emwa_m_aug"
   ]
  },
  {
   "cell_type": "code",
   "execution_count": 37,
   "id": "c3717ac0",
   "metadata": {},
   "outputs": [],
   "source": [
    "for y in range(0, len(weights_emwa_m_aug)):\n",
    "    if y==0:\n",
    "        weights_emwa_m_aug.iloc[y, 1] = weights_emwa_m_aug.iloc[y, 0]\n",
    "    else: weights_emwa_m_aug.iloc[y, 1] = weights_emwa_m_aug.iloc[y-1, 1] + weights_emwa_m_aug.iloc[y, 0]"
   ]
  },
  {
   "cell_type": "code",
   "execution_count": 38,
   "id": "0d540109",
   "metadata": {},
   "outputs": [
    {
     "data": {
      "text/html": [
       "<div>\n",
       "<style scoped>\n",
       "    .dataframe tbody tr th:only-of-type {\n",
       "        vertical-align: middle;\n",
       "    }\n",
       "\n",
       "    .dataframe tbody tr th {\n",
       "        vertical-align: top;\n",
       "    }\n",
       "\n",
       "    .dataframe thead th {\n",
       "        text-align: right;\n",
       "    }\n",
       "</style>\n",
       "<table border=\"1\" class=\"dataframe\">\n",
       "  <thead>\n",
       "    <tr style=\"text-align: right;\">\n",
       "      <th></th>\n",
       "      <th>weights</th>\n",
       "      <th>acum_weights</th>\n",
       "    </tr>\n",
       "    <tr>\n",
       "      <th>date</th>\n",
       "      <th></th>\n",
       "      <th></th>\n",
       "    </tr>\n",
       "  </thead>\n",
       "  <tbody>\n",
       "    <tr>\n",
       "      <th>2020-08-31</th>\n",
       "      <td>0.005420</td>\n",
       "      <td>0.836904</td>\n",
       "    </tr>\n",
       "    <tr>\n",
       "      <th>2020-09-30</th>\n",
       "      <td>0.005452</td>\n",
       "      <td>0.842356</td>\n",
       "    </tr>\n",
       "    <tr>\n",
       "      <th>2020-10-31</th>\n",
       "      <td>0.005484</td>\n",
       "      <td>0.84784</td>\n",
       "    </tr>\n",
       "    <tr>\n",
       "      <th>2020-11-30</th>\n",
       "      <td>0.005517</td>\n",
       "      <td>0.853356</td>\n",
       "    </tr>\n",
       "    <tr>\n",
       "      <th>2020-12-31</th>\n",
       "      <td>0.005549</td>\n",
       "      <td>0.858906</td>\n",
       "    </tr>\n",
       "    <tr>\n",
       "      <th>2021-01-31</th>\n",
       "      <td>0.005582</td>\n",
       "      <td>0.864488</td>\n",
       "    </tr>\n",
       "    <tr>\n",
       "      <th>2021-02-28</th>\n",
       "      <td>0.005615</td>\n",
       "      <td>0.870103</td>\n",
       "    </tr>\n",
       "    <tr>\n",
       "      <th>2021-03-31</th>\n",
       "      <td>0.005649</td>\n",
       "      <td>0.875752</td>\n",
       "    </tr>\n",
       "    <tr>\n",
       "      <th>2021-04-30</th>\n",
       "      <td>0.005682</td>\n",
       "      <td>0.881434</td>\n",
       "    </tr>\n",
       "    <tr>\n",
       "      <th>2021-05-31</th>\n",
       "      <td>0.005716</td>\n",
       "      <td>0.887149</td>\n",
       "    </tr>\n",
       "    <tr>\n",
       "      <th>2021-06-30</th>\n",
       "      <td>0.005749</td>\n",
       "      <td>0.892899</td>\n",
       "    </tr>\n",
       "    <tr>\n",
       "      <th>2021-07-31</th>\n",
       "      <td>0.005784</td>\n",
       "      <td>0.898682</td>\n",
       "    </tr>\n",
       "    <tr>\n",
       "      <th>2021-08-31</th>\n",
       "      <td>0.005818</td>\n",
       "      <td>0.9045</td>\n",
       "    </tr>\n",
       "    <tr>\n",
       "      <th>2021-09-30</th>\n",
       "      <td>0.005852</td>\n",
       "      <td>0.910352</td>\n",
       "    </tr>\n",
       "    <tr>\n",
       "      <th>2021-10-31</th>\n",
       "      <td>0.005887</td>\n",
       "      <td>0.916239</td>\n",
       "    </tr>\n",
       "  </tbody>\n",
       "</table>\n",
       "</div>"
      ],
      "text/plain": [
       "             weights acum_weights\n",
       "date                             \n",
       "2020-08-31  0.005420     0.836904\n",
       "2020-09-30  0.005452     0.842356\n",
       "2020-10-31  0.005484      0.84784\n",
       "2020-11-30  0.005517     0.853356\n",
       "2020-12-31  0.005549     0.858906\n",
       "2021-01-31  0.005582     0.864488\n",
       "2021-02-28  0.005615     0.870103\n",
       "2021-03-31  0.005649     0.875752\n",
       "2021-04-30  0.005682     0.881434\n",
       "2021-05-31  0.005716     0.887149\n",
       "2021-06-30  0.005749     0.892899\n",
       "2021-07-31  0.005784     0.898682\n",
       "2021-08-31  0.005818       0.9045\n",
       "2021-09-30  0.005852     0.910352\n",
       "2021-10-31  0.005887     0.916239"
      ]
     },
     "execution_count": 38,
     "metadata": {},
     "output_type": "execute_result"
    }
   ],
   "source": [
    "weights_emwa_m_aug.index=portfolio_ret_m_aug.index\n",
    "weights_emwa_m_aug.tail(15)"
   ]
  },
  {
   "cell_type": "markdown",
   "id": "2ed30d50",
   "metadata": {},
   "source": [
    "# Preparing DataFrame to generate data (portfolio_ret_m)\n",
    "\n",
    "### Columns: Returns, Conditional Var Garch, Conditional Var Emwa, Conditional Vol Garch, Conditonal Vol Emwa, Model Vol Garch, Model Emwa, Z-Garch, Z-Emwa, Returns Garch, Returns Emwa"
   ]
  },
  {
   "cell_type": "code",
   "execution_count": 39,
   "id": "be1671b9",
   "metadata": {},
   "outputs": [],
   "source": [
    "portfolio_ret_m_aug['cond_var_garch'] = 0\n",
    "portfolio_ret_m_aug['cond_var_emwa'] = 0\n",
    "portfolio_ret_m_aug['cond_vol_garch'] = 0\n",
    "portfolio_ret_m_aug['cond_vol_emwa'] = 0\n",
    "portfolio_ret_m_aug['model_vol_garch'] = 0\n",
    "portfolio_ret_m_aug['model_vol_emwa'] = 0\n",
    "portfolio_ret_m_aug['z_garch'] = 0\n",
    "portfolio_ret_m_aug['z_emwa'] = 0\n",
    "portfolio_ret_m_aug['resc_r_garch'] = 0\n",
    "portfolio_ret_m_aug['resc_r_emwa'] = 0"
   ]
  },
  {
   "cell_type": "markdown",
   "id": "8aea3899",
   "metadata": {},
   "source": [
    "# Looping on data to generate Rescaled Returns on Garch and Emwa"
   ]
  },
  {
   "cell_type": "code",
   "execution_count": 40,
   "id": "60deb23a",
   "metadata": {},
   "outputs": [],
   "source": [
    "for i in range(0,len(portfolio_ret_m_aug)):\n",
    "    if i == 0:\n",
    "        portfolio_ret_m_aug.iloc[i,1] = portfolio_ret_m_aug.iloc[i,0]**2\n",
    "    else: portfolio_ret_m_aug.iloc[i,1] = omega_m_aug + alpha_m_aug*portfolio_ret_m_aug.iloc[i-1,0]**2  + beta_m_aug*portfolio_ret_m_aug.iloc[i-1,1] "
   ]
  },
  {
   "cell_type": "code",
   "execution_count": 41,
   "id": "da5d1d45",
   "metadata": {},
   "outputs": [],
   "source": [
    "for z in range(0,len(portfolio_ret_m_aug)):\n",
    "    if z == 0:\n",
    "        portfolio_ret_m_aug.iloc[z, 2] = portfolio_ret_m_aug.iloc[z, 0]**2\n",
    "    else: portfolio_ret_m_aug.iloc[z, 2] = (1 - lamb_m_aug)*portfolio_ret_m_aug.iloc[z-1, 0]**2 + lamb_m_aug*portfolio_ret_m_aug.iloc[z-1, 2]"
   ]
  },
  {
   "cell_type": "code",
   "execution_count": 42,
   "id": "a42c529c",
   "metadata": {},
   "outputs": [],
   "source": [
    "portfolio_ret_m_aug['cond_vol_garch'] = portfolio_ret_m_aug['cond_var_garch']**(1/2)\n",
    "portfolio_ret_m_aug['cond_vol_emwa'] = portfolio_ret_m_aug['cond_var_emwa']**(1/2)"
   ]
  },
  {
   "cell_type": "code",
   "execution_count": 43,
   "id": "a3ab6f78",
   "metadata": {},
   "outputs": [
    {
     "data": {
      "image/png": "[encoded data removed]",
      "text/plain": [
       "<Figure size 432x288 with 1 Axes>"
      ]
     },
     "metadata": {
      "needs_background": "light"
     },
     "output_type": "display_data"
    }
   ],
   "source": [
    "ax = (portfolio_ret_m_aug['cond_vol_emwa']*100).plot(c='red', label = 'Cond. Volatility EWMA')\n",
    "ax = (portfolio_ret_m_aug['cond_vol_garch']*100).plot(c='blue', alpha=0.5, label = 'Cond. Volatility GARCH')\n",
    "plt.ylabel('Conditional Monthly Volatility Aug')\n",
    "plt.legend()\n",
    "ax.yaxis.set_major_formatter(mtick.PercentFormatter())"
   ]
  },
  {
   "cell_type": "code",
   "execution_count": 44,
   "id": "910a3493",
   "metadata": {},
   "outputs": [
    {
     "data": {
      "image/png": "[encoded data removed]",
      "text/plain": [
       "<Figure size 432x288 with 1 Axes>"
      ]
     },
     "metadata": {
      "needs_background": "light"
     },
     "output_type": "display_data"
    }
   ],
   "source": [
    "ax = (portfolio_ret_m_aug['cond_vol_emwa']*100).plot(c='red', label = 'Cond. Volatility EWMA Aug')\n",
    "plt.ylabel('Conditional Monthly Volatility Aug')\n",
    "plt.legend()\n",
    "ax.yaxis.set_major_formatter(mtick.PercentFormatter())"
   ]
  },
  {
   "cell_type": "code",
   "execution_count": 45,
   "id": "d5f1e762",
   "metadata": {},
   "outputs": [
    {
     "data": {
      "image/png": "[encoded data removed]",
      "text/plain": [
       "<Figure size 432x288 with 1 Axes>"
      ]
     },
     "metadata": {
      "needs_background": "light"
     },
     "output_type": "display_data"
    }
   ],
   "source": [
    "ax = (portfolio_ret_m_aug['cond_vol_garch']*100).plot(c='blue', label = 'Cond. Volatility GARCH Aug')\n",
    "plt.ylabel('Conditional Volatility Aug')\n",
    "plt.legend()\n",
    "ax.yaxis.set_major_formatter(mtick.PercentFormatter())"
   ]
  },
  {
   "cell_type": "code",
   "execution_count": 46,
   "id": "d0e8135f",
   "metadata": {},
   "outputs": [
    {
     "data": {
      "image/png": "[encoded data removed]",
      "text/plain": [
       "<Figure size 432x288 with 1 Axes>"
      ]
     },
     "metadata": {
      "needs_background": "light"
     },
     "output_type": "display_data"
    }
   ],
   "source": [
    "ax = ((((res_garch_m_aug.conditional_volatility**2)/10000)**0.5)*100).plot(c='blue', alpha=0.5, label = 'Cond. Volatility EWMA from model Aug')\n",
    "ax = ((((res_m_aug.conditional_volatility**2)/10000)**0.5)*100).plot(c='red', label = 'Cond. Volatility GARCH from model Aug')\n",
    "plt.ylabel('Conditional Monthly Volatility Aug')\n",
    "plt.legend()\n",
    "ax.yaxis.set_major_formatter(mtick.PercentFormatter())"
   ]
  },
  {
   "cell_type": "code",
   "execution_count": 47,
   "id": "47ad2c30",
   "metadata": {},
   "outputs": [
    {
     "data": {
      "image/png": "[encoded data removed]",
      "text/plain": [
       "<Figure size 432x288 with 1 Axes>"
      ]
     },
     "metadata": {
      "needs_background": "light"
     },
     "output_type": "display_data"
    }
   ],
   "source": [
    "ax = (portfolio_ret_m_aug['cond_vol_garch']*100).plot(c='red', label = 'Cond. Volatility GARCH Aug')\n",
    "ax = ((((res_garch_m_aug.conditional_volatility**2)/10000)**0.5)*100).plot(c='blue', alpha=0.5, label = 'Cond. Volatility GARCH from model Aug')\n",
    "plt.ylabel('Conditional Monthly Volatility Aug')\n",
    "plt.legend()\n",
    "ax.yaxis.set_major_formatter(mtick.PercentFormatter())"
   ]
  },
  {
   "cell_type": "code",
   "execution_count": 48,
   "id": "febe97e3",
   "metadata": {},
   "outputs": [
    {
     "data": {
      "image/png": "[encoded data removed]",
      "text/plain": [
       "<Figure size 432x288 with 1 Axes>"
      ]
     },
     "metadata": {
      "needs_background": "light"
     },
     "output_type": "display_data"
    }
   ],
   "source": [
    "ax = (portfolio_ret_m_aug['cond_vol_emwa']*100).plot(c='red', label = 'Cond. Volatility EWMA Aug')\n",
    "ax = ((((res_m_aug.conditional_volatility**2)/10000)**0.5)*100).plot(c='blue', alpha=0.5, label = 'Cond. Volatility EWMA from model Aug')\n",
    "plt.ylabel('Conditional Monthly Volatility Aug')\n",
    "plt.legend()\n",
    "ax.yaxis.set_major_formatter(mtick.PercentFormatter())"
   ]
  },
  {
   "cell_type": "code",
   "execution_count": 49,
   "id": "fd21e59e",
   "metadata": {},
   "outputs": [],
   "source": [
    "portfolio_ret_m_aug['model_vol_garch']=((res_garch_m_aug.conditional_volatility**2)/10000)**0.5\n",
    "portfolio_ret_m_aug['model_vol_emwa']=((res_m_aug.conditional_volatility**2)/10000)**0.5"
   ]
  },
  {
   "cell_type": "code",
   "execution_count": 50,
   "id": "e11a0052",
   "metadata": {},
   "outputs": [],
   "source": [
    "portfolio_ret_m_aug['z_garch'] = portfolio_ret_m_aug['ret']/portfolio_ret_m_aug['cond_vol_garch']\n",
    "portfolio_ret_m_aug['z_emwa'] = portfolio_ret_m_aug['ret']/portfolio_ret_m_aug['cond_vol_emwa']"
   ]
  },
  {
   "cell_type": "code",
   "execution_count": 51,
   "id": "3ea4e75a",
   "metadata": {},
   "outputs": [],
   "source": [
    "for g in range(0, len(portfolio_ret_m_aug)-1):\n",
    "    portfolio_ret_m_aug.iloc[g, 9] = portfolio_ret_m_aug.iloc[g,7] * forc_vol_emwa_m_aug"
   ]
  },
  {
   "cell_type": "code",
   "execution_count": 52,
   "id": "0f8ccf52",
   "metadata": {},
   "outputs": [],
   "source": [
    "for h in range(0, len(portfolio_ret_m_aug)-1):\n",
    "    portfolio_ret_m_aug.iloc[h, 10] = portfolio_ret_m_aug.iloc[h,8] * forc_vol_garch_m_aug"
   ]
  },
  {
   "cell_type": "code",
   "execution_count": 53,
   "id": "7816930a",
   "metadata": {},
   "outputs": [
    {
     "data": {
      "text/html": [
       "<div>\n",
       "<style scoped>\n",
       "    .dataframe tbody tr th:only-of-type {\n",
       "        vertical-align: middle;\n",
       "    }\n",
       "\n",
       "    .dataframe tbody tr th {\n",
       "        vertical-align: top;\n",
       "    }\n",
       "\n",
       "    .dataframe thead th {\n",
       "        text-align: right;\n",
       "    }\n",
       "</style>\n",
       "<table border=\"1\" class=\"dataframe\">\n",
       "  <thead>\n",
       "    <tr style=\"text-align: right;\">\n",
       "      <th></th>\n",
       "      <th>ret</th>\n",
       "      <th>cond_var_garch</th>\n",
       "      <th>cond_var_emwa</th>\n",
       "      <th>cond_vol_garch</th>\n",
       "      <th>cond_vol_emwa</th>\n",
       "      <th>model_vol_garch</th>\n",
       "      <th>model_vol_emwa</th>\n",
       "      <th>z_garch</th>\n",
       "      <th>z_emwa</th>\n",
       "      <th>resc_r_garch</th>\n",
       "      <th>resc_r_emwa</th>\n",
       "    </tr>\n",
       "    <tr>\n",
       "      <th>date</th>\n",
       "      <th></th>\n",
       "      <th></th>\n",
       "      <th></th>\n",
       "      <th></th>\n",
       "      <th></th>\n",
       "      <th></th>\n",
       "      <th></th>\n",
       "      <th></th>\n",
       "      <th></th>\n",
       "      <th></th>\n",
       "      <th></th>\n",
       "    </tr>\n",
       "  </thead>\n",
       "  <tbody>\n",
       "    <tr>\n",
       "      <th>1986-11-30</th>\n",
       "      <td>0.008662</td>\n",
       "      <td>0.000075</td>\n",
       "      <td>0.000075</td>\n",
       "      <td>0.008662</td>\n",
       "      <td>0.008662</td>\n",
       "      <td>0.021525</td>\n",
       "      <td>0.021899</td>\n",
       "      <td>1.000000</td>\n",
       "      <td>1.000000</td>\n",
       "      <td>0.020690</td>\n",
       "      <td>0.020420</td>\n",
       "    </tr>\n",
       "    <tr>\n",
       "      <th>1986-12-31</th>\n",
       "      <td>-0.009333</td>\n",
       "      <td>0.000120</td>\n",
       "      <td>0.000075</td>\n",
       "      <td>0.010956</td>\n",
       "      <td>0.008662</td>\n",
       "      <td>0.020524</td>\n",
       "      <td>0.021845</td>\n",
       "      <td>-0.851881</td>\n",
       "      <td>-1.077488</td>\n",
       "      <td>-0.017625</td>\n",
       "      <td>-0.022002</td>\n",
       "    </tr>\n",
       "    <tr>\n",
       "      <th>1987-01-31</th>\n",
       "      <td>0.053083</td>\n",
       "      <td>0.000156</td>\n",
       "      <td>0.000075</td>\n",
       "      <td>0.012483</td>\n",
       "      <td>0.008666</td>\n",
       "      <td>0.019735</td>\n",
       "      <td>0.021792</td>\n",
       "      <td>4.252578</td>\n",
       "      <td>6.125534</td>\n",
       "      <td>0.087985</td>\n",
       "      <td>0.125082</td>\n",
       "    </tr>\n",
       "    <tr>\n",
       "      <th>1987-02-28</th>\n",
       "      <td>0.010155</td>\n",
       "      <td>0.000383</td>\n",
       "      <td>0.000091</td>\n",
       "      <td>0.019558</td>\n",
       "      <td>0.009552</td>\n",
       "      <td>0.023744</td>\n",
       "      <td>0.022106</td>\n",
       "      <td>0.519210</td>\n",
       "      <td>1.063102</td>\n",
       "      <td>0.010742</td>\n",
       "      <td>0.021708</td>\n",
       "    </tr>\n",
       "    <tr>\n",
       "      <th>1987-03-31</th>\n",
       "      <td>0.019824</td>\n",
       "      <td>0.000361</td>\n",
       "      <td>0.000091</td>\n",
       "      <td>0.018990</td>\n",
       "      <td>0.009556</td>\n",
       "      <td>0.022387</td>\n",
       "      <td>0.022055</td>\n",
       "      <td>1.043946</td>\n",
       "      <td>2.074564</td>\n",
       "      <td>0.021599</td>\n",
       "      <td>0.042362</td>\n",
       "    </tr>\n",
       "    <tr>\n",
       "      <th>...</th>\n",
       "      <td>...</td>\n",
       "      <td>...</td>\n",
       "      <td>...</td>\n",
       "      <td>...</td>\n",
       "      <td>...</td>\n",
       "      <td>...</td>\n",
       "      <td>...</td>\n",
       "      <td>...</td>\n",
       "      <td>...</td>\n",
       "      <td>...</td>\n",
       "      <td>...</td>\n",
       "    </tr>\n",
       "    <tr>\n",
       "      <th>2021-06-30</th>\n",
       "      <td>-0.011192</td>\n",
       "      <td>0.000484</td>\n",
       "      <td>0.000395</td>\n",
       "      <td>0.022003</td>\n",
       "      <td>0.019883</td>\n",
       "      <td>0.022003</td>\n",
       "      <td>0.020742</td>\n",
       "      <td>-0.508669</td>\n",
       "      <td>-0.562912</td>\n",
       "      <td>-0.010524</td>\n",
       "      <td>-0.011495</td>\n",
       "    </tr>\n",
       "    <tr>\n",
       "      <th>2021-07-31</th>\n",
       "      <td>0.019344</td>\n",
       "      <td>0.000441</td>\n",
       "      <td>0.000394</td>\n",
       "      <td>0.021001</td>\n",
       "      <td>0.019843</td>\n",
       "      <td>0.021001</td>\n",
       "      <td>0.020699</td>\n",
       "      <td>0.921071</td>\n",
       "      <td>0.974822</td>\n",
       "      <td>0.019057</td>\n",
       "      <td>0.019906</td>\n",
       "    </tr>\n",
       "    <tr>\n",
       "      <th>2021-08-31</th>\n",
       "      <td>0.006706</td>\n",
       "      <td>0.000426</td>\n",
       "      <td>0.000394</td>\n",
       "      <td>0.020634</td>\n",
       "      <td>0.019840</td>\n",
       "      <td>0.020634</td>\n",
       "      <td>0.020691</td>\n",
       "      <td>0.325017</td>\n",
       "      <td>0.338014</td>\n",
       "      <td>0.006725</td>\n",
       "      <td>0.006902</td>\n",
       "    </tr>\n",
       "    <tr>\n",
       "      <th>2021-09-30</th>\n",
       "      <td>-0.020628</td>\n",
       "      <td>0.000390</td>\n",
       "      <td>0.000392</td>\n",
       "      <td>0.019746</td>\n",
       "      <td>0.019788</td>\n",
       "      <td>0.019746</td>\n",
       "      <td>0.020637</td>\n",
       "      <td>-1.044701</td>\n",
       "      <td>-1.042441</td>\n",
       "      <td>-0.021615</td>\n",
       "      <td>-0.021286</td>\n",
       "    </tr>\n",
       "    <tr>\n",
       "      <th>2021-10-31</th>\n",
       "      <td>0.028271</td>\n",
       "      <td>0.000390</td>\n",
       "      <td>0.000392</td>\n",
       "      <td>0.019743</td>\n",
       "      <td>0.019793</td>\n",
       "      <td>0.019743</td>\n",
       "      <td>0.020637</td>\n",
       "      <td>1.431936</td>\n",
       "      <td>1.428318</td>\n",
       "      <td>0.000000</td>\n",
       "      <td>0.000000</td>\n",
       "    </tr>\n",
       "  </tbody>\n",
       "</table>\n",
       "<p>420 rows × 11 columns</p>\n",
       "</div>"
      ],
      "text/plain": [
       "                 ret  cond_var_garch  cond_var_emwa  cond_vol_garch  \\\n",
       "date                                                                  \n",
       "1986-11-30  0.008662        0.000075       0.000075        0.008662   \n",
       "1986-12-31 -0.009333        0.000120       0.000075        0.010956   \n",
       "1987-01-31  0.053083        0.000156       0.000075        0.012483   \n",
       "1987-02-28  0.010155        0.000383       0.000091        0.019558   \n",
       "1987-03-31  0.019824        0.000361       0.000091        0.018990   \n",
       "...              ...             ...            ...             ...   \n",
       "2021-06-30 -0.011192        0.000484       0.000395        0.022003   \n",
       "2021-07-31  0.019344        0.000441       0.000394        0.021001   \n",
       "2021-08-31  0.006706        0.000426       0.000394        0.020634   \n",
       "2021-09-30 -0.020628        0.000390       0.000392        0.019746   \n",
       "2021-10-31  0.028271        0.000390       0.000392        0.019743   \n",
       "\n",
       "            cond_vol_emwa  model_vol_garch  model_vol_emwa   z_garch  \\\n",
       "date                                                                   \n",
       "1986-11-30       0.008662         0.021525        0.021899  1.000000   \n",
       "1986-12-31       0.008662         0.020524        0.021845 -0.851881   \n",
       "1987-01-31       0.008666         0.019735        0.021792  4.252578   \n",
       "1987-02-28       0.009552         0.023744        0.022106  0.519210   \n",
       "1987-03-31       0.009556         0.022387        0.022055  1.043946   \n",
       "...                   ...              ...             ...       ...   \n",
       "2021-06-30       0.019883         0.022003        0.020742 -0.508669   \n",
       "2021-07-31       0.019843         0.021001        0.020699  0.921071   \n",
       "2021-08-31       0.019840         0.020634        0.020691  0.325017   \n",
       "2021-09-30       0.019788         0.019746        0.020637 -1.044701   \n",
       "2021-10-31       0.019793         0.019743        0.020637  1.431936   \n",
       "\n",
       "              z_emwa  resc_r_garch  resc_r_emwa  \n",
       "date                                             \n",
       "1986-11-30  1.000000      0.020690     0.020420  \n",
       "1986-12-31 -1.077488     -0.017625    -0.022002  \n",
       "1987-01-31  6.125534      0.087985     0.125082  \n",
       "1987-02-28  1.063102      0.010742     0.021708  \n",
       "1987-03-31  2.074564      0.021599     0.042362  \n",
       "...              ...           ...          ...  \n",
       "2021-06-30 -0.562912     -0.010524    -0.011495  \n",
       "2021-07-31  0.974822      0.019057     0.019906  \n",
       "2021-08-31  0.338014      0.006725     0.006902  \n",
       "2021-09-30 -1.042441     -0.021615    -0.021286  \n",
       "2021-10-31  1.428318      0.000000     0.000000  \n",
       "\n",
       "[420 rows x 11 columns]"
      ]
     },
     "execution_count": 53,
     "metadata": {},
     "output_type": "execute_result"
    }
   ],
   "source": [
    "portfolio_ret_m_aug"
   ]
  },
  {
   "cell_type": "code",
   "execution_count": 54,
   "id": "03af22cf",
   "metadata": {},
   "outputs": [],
   "source": [
    "mean_garch_m_aug = portfolio_ret_m_aug['z_garch'].mean()\n",
    "std_garch_m_aug = portfolio_ret_m_aug['z_garch'].std()\n",
    "max_garch_m_aug = portfolio_ret_m_aug['z_garch'].max() \n",
    "min_garch_m_aug = portfolio_ret_m_aug['z_garch'].min()\n",
    "kurt_garch_m_aug = sp.kurtosis(portfolio_ret_m_aug['z_garch'])\n",
    "skew_garch_m_aug = sp.skew(portfolio_ret_m_aug['z_garch'])"
   ]
  },
  {
   "cell_type": "code",
   "execution_count": 55,
   "id": "6b35a695",
   "metadata": {},
   "outputs": [],
   "source": [
    "mean_ewma_m_aug = portfolio_ret_m_aug['z_emwa'].mean()\n",
    "std_ewma_m_aug = portfolio_ret_m_aug['z_emwa'].std()\n",
    "max_ewma_m_aug = portfolio_ret_m_aug['z_emwa'].max() \n",
    "min_ewma_m_aug = portfolio_ret_m_aug['z_emwa'].min()\n",
    "kurt_ewma_m_aug = sp.kurtosis(portfolio_ret_m_aug['z_emwa'])\n",
    "skew_ewma_m_aug = sp.skew(portfolio_ret_m_aug['z_emwa'])"
   ]
  },
  {
   "cell_type": "markdown",
   "id": "e48121b6",
   "metadata": {},
   "source": [
    "## Statistics Table"
   ]
  },
  {
   "cell_type": "code",
   "execution_count": 56,
   "id": "a5f3f251",
   "metadata": {},
   "outputs": [],
   "source": [
    "df_stats_aug = pd.DataFrame(index=['min', 'max', 'mean', 'kurtosis', 'skewness'])"
   ]
  },
  {
   "cell_type": "code",
   "execution_count": 57,
   "id": "1620924f",
   "metadata": {},
   "outputs": [
    {
     "data": {
      "text/html": [
       "<div>\n",
       "<style scoped>\n",
       "    .dataframe tbody tr th:only-of-type {\n",
       "        vertical-align: middle;\n",
       "    }\n",
       "\n",
       "    .dataframe tbody tr th {\n",
       "        vertical-align: top;\n",
       "    }\n",
       "\n",
       "    .dataframe thead th {\n",
       "        text-align: right;\n",
       "    }\n",
       "</style>\n",
       "<table border=\"1\" class=\"dataframe\">\n",
       "  <thead>\n",
       "    <tr style=\"text-align: right;\">\n",
       "      <th></th>\n",
       "      <th>Returs</th>\n",
       "      <th>Normalized Returns</th>\n",
       "      <th>Garch z-scores</th>\n",
       "      <th>Ewma z-scores</th>\n",
       "    </tr>\n",
       "  </thead>\n",
       "  <tbody>\n",
       "    <tr>\n",
       "      <th>min</th>\n",
       "      <td>-0.10</td>\n",
       "      <td>-5.60</td>\n",
       "      <td>-5.66</td>\n",
       "      <td>-6.34</td>\n",
       "    </tr>\n",
       "    <tr>\n",
       "      <th>max</th>\n",
       "      <td>0.07</td>\n",
       "      <td>3.34</td>\n",
       "      <td>4.25</td>\n",
       "      <td>6.13</td>\n",
       "    </tr>\n",
       "    <tr>\n",
       "      <th>mean</th>\n",
       "      <td>0.01</td>\n",
       "      <td>0.00</td>\n",
       "      <td>0.34</td>\n",
       "      <td>0.44</td>\n",
       "    </tr>\n",
       "    <tr>\n",
       "      <th>kurtosis</th>\n",
       "      <td>3.21</td>\n",
       "      <td>3.21</td>\n",
       "      <td>4.50</td>\n",
       "      <td>4.59</td>\n",
       "    </tr>\n",
       "    <tr>\n",
       "      <th>skewness</th>\n",
       "      <td>-0.74</td>\n",
       "      <td>-0.74</td>\n",
       "      <td>-0.85</td>\n",
       "      <td>-0.69</td>\n",
       "    </tr>\n",
       "  </tbody>\n",
       "</table>\n",
       "</div>"
      ],
      "text/plain": [
       "         Returs Normalized Returns Garch z-scores Ewma z-scores\n",
       "min       -0.10              -5.60          -5.66         -6.34\n",
       "max        0.07               3.34           4.25          6.13\n",
       "mean       0.01               0.00           0.34          0.44\n",
       "kurtosis   3.21               3.21           4.50          4.59\n",
       "skewness  -0.74              -0.74          -0.85         -0.69"
      ]
     },
     "execution_count": 57,
     "metadata": {},
     "output_type": "execute_result"
    }
   ],
   "source": [
    "df_stats_aug['Returs'] = [min_m_aug, max_m_aug, mean_m_aug, kurt_m_aug, skew_m_aug]\n",
    "df_stats_aug['Normalized Returns'] = [min_norm_m_aug, max_norm_m_aug, mean_norm_m_aug, kurt_norm_m_aug, skew_norm_m_aug]\n",
    "df_stats_aug['Garch z-scores'] = [min_garch_m_aug, max_garch_m_aug, mean_garch_m_aug, kurt_garch_m_aug, skew_garch_m_aug]\n",
    "df_stats_aug['Ewma z-scores'] = [min_ewma_m_aug, max_ewma_m_aug, mean_ewma_m_aug, kurt_ewma_m_aug, skew_ewma_m_aug]\n",
    "\n",
    "df_stats_aug.applymap('{:,.2f}'.format)"
   ]
  },
  {
   "cell_type": "markdown",
   "id": "ece3650a",
   "metadata": {},
   "source": [
    "# Prepating new DataFrame to generate risk measures"
   ]
  },
  {
   "cell_type": "code",
   "execution_count": 58,
   "id": "86a5c0b4",
   "metadata": {},
   "outputs": [],
   "source": [
    "df_returns_m_aug = pd.DataFrame()"
   ]
  },
  {
   "cell_type": "code",
   "execution_count": 59,
   "id": "c18d7265",
   "metadata": {},
   "outputs": [
    {
     "data": {
      "text/html": [
       "<div>\n",
       "<style scoped>\n",
       "    .dataframe tbody tr th:only-of-type {\n",
       "        vertical-align: middle;\n",
       "    }\n",
       "\n",
       "    .dataframe tbody tr th {\n",
       "        vertical-align: top;\n",
       "    }\n",
       "\n",
       "    .dataframe thead th {\n",
       "        text-align: right;\n",
       "    }\n",
       "</style>\n",
       "<table border=\"1\" class=\"dataframe\">\n",
       "  <thead>\n",
       "    <tr style=\"text-align: right;\">\n",
       "      <th></th>\n",
       "      <th>Returns</th>\n",
       "      <th>Returns_Garch</th>\n",
       "      <th>Returns_Emwa</th>\n",
       "    </tr>\n",
       "    <tr>\n",
       "      <th>date</th>\n",
       "      <th></th>\n",
       "      <th></th>\n",
       "      <th></th>\n",
       "    </tr>\n",
       "  </thead>\n",
       "  <tbody>\n",
       "    <tr>\n",
       "      <th>1986-11-30</th>\n",
       "      <td>0.008662</td>\n",
       "      <td>0.020690</td>\n",
       "      <td>0.020420</td>\n",
       "    </tr>\n",
       "    <tr>\n",
       "      <th>1986-12-31</th>\n",
       "      <td>-0.009333</td>\n",
       "      <td>-0.017625</td>\n",
       "      <td>-0.022002</td>\n",
       "    </tr>\n",
       "    <tr>\n",
       "      <th>1987-01-31</th>\n",
       "      <td>0.053083</td>\n",
       "      <td>0.087985</td>\n",
       "      <td>0.125082</td>\n",
       "    </tr>\n",
       "    <tr>\n",
       "      <th>1987-02-28</th>\n",
       "      <td>0.010155</td>\n",
       "      <td>0.010742</td>\n",
       "      <td>0.021708</td>\n",
       "    </tr>\n",
       "    <tr>\n",
       "      <th>1987-03-31</th>\n",
       "      <td>0.019824</td>\n",
       "      <td>0.021599</td>\n",
       "      <td>0.042362</td>\n",
       "    </tr>\n",
       "    <tr>\n",
       "      <th>...</th>\n",
       "      <td>...</td>\n",
       "      <td>...</td>\n",
       "      <td>...</td>\n",
       "    </tr>\n",
       "    <tr>\n",
       "      <th>2021-06-30</th>\n",
       "      <td>-0.011192</td>\n",
       "      <td>-0.010524</td>\n",
       "      <td>-0.011495</td>\n",
       "    </tr>\n",
       "    <tr>\n",
       "      <th>2021-07-31</th>\n",
       "      <td>0.019344</td>\n",
       "      <td>0.019057</td>\n",
       "      <td>0.019906</td>\n",
       "    </tr>\n",
       "    <tr>\n",
       "      <th>2021-08-31</th>\n",
       "      <td>0.006706</td>\n",
       "      <td>0.006725</td>\n",
       "      <td>0.006902</td>\n",
       "    </tr>\n",
       "    <tr>\n",
       "      <th>2021-09-30</th>\n",
       "      <td>-0.020628</td>\n",
       "      <td>-0.021615</td>\n",
       "      <td>-0.021286</td>\n",
       "    </tr>\n",
       "    <tr>\n",
       "      <th>2021-10-31</th>\n",
       "      <td>0.028271</td>\n",
       "      <td>0.000000</td>\n",
       "      <td>0.000000</td>\n",
       "    </tr>\n",
       "  </tbody>\n",
       "</table>\n",
       "<p>420 rows × 3 columns</p>\n",
       "</div>"
      ],
      "text/plain": [
       "             Returns  Returns_Garch  Returns_Emwa\n",
       "date                                             \n",
       "1986-11-30  0.008662       0.020690      0.020420\n",
       "1986-12-31 -0.009333      -0.017625     -0.022002\n",
       "1987-01-31  0.053083       0.087985      0.125082\n",
       "1987-02-28  0.010155       0.010742      0.021708\n",
       "1987-03-31  0.019824       0.021599      0.042362\n",
       "...              ...            ...           ...\n",
       "2021-06-30 -0.011192      -0.010524     -0.011495\n",
       "2021-07-31  0.019344       0.019057      0.019906\n",
       "2021-08-31  0.006706       0.006725      0.006902\n",
       "2021-09-30 -0.020628      -0.021615     -0.021286\n",
       "2021-10-31  0.028271       0.000000      0.000000\n",
       "\n",
       "[420 rows x 3 columns]"
      ]
     },
     "execution_count": 59,
     "metadata": {},
     "output_type": "execute_result"
    }
   ],
   "source": [
    "df_returns_m_aug['Returns'] = portfolio_ret_m_aug['ret']\n",
    "df_returns_m_aug['Returns_Garch'] = portfolio_ret_m_aug['resc_r_garch']\n",
    "df_returns_m_aug['Returns_Emwa'] = portfolio_ret_m_aug['resc_r_emwa']\n",
    "\n",
    "df_returns_m_aug"
   ]
  },
  {
   "cell_type": "markdown",
   "id": "a04862fc",
   "metadata": {},
   "source": [
    "## Generating Risk Measures for each Look-back Period"
   ]
  },
  {
   "cell_type": "code",
   "execution_count": 60,
   "id": "4529e2a8",
   "metadata": {},
   "outputs": [],
   "source": [
    "df_risk_measures_m_aug = pd.DataFrame(index=['VaR_PreC','VaR_PostC','ES_PreC','ES_PostC'], columns=['Param', 'Hist', 'Fhist_G', 'Fhist_E', 'Whist'])"
   ]
  },
  {
   "cell_type": "code",
   "execution_count": 61,
   "id": "60e03d06",
   "metadata": {},
   "outputs": [
    {
     "data": {
      "text/html": [
       "<div>\n",
       "<style scoped>\n",
       "    .dataframe tbody tr th:only-of-type {\n",
       "        vertical-align: middle;\n",
       "    }\n",
       "\n",
       "    .dataframe tbody tr th {\n",
       "        vertical-align: top;\n",
       "    }\n",
       "\n",
       "    .dataframe thead th {\n",
       "        text-align: right;\n",
       "    }\n",
       "</style>\n",
       "<table border=\"1\" class=\"dataframe\">\n",
       "  <thead>\n",
       "    <tr style=\"text-align: right;\">\n",
       "      <th></th>\n",
       "      <th>Returns</th>\n",
       "      <th>Returns_Garch</th>\n",
       "      <th>Returns_Emwa</th>\n",
       "    </tr>\n",
       "    <tr>\n",
       "      <th>date</th>\n",
       "      <th></th>\n",
       "      <th></th>\n",
       "      <th></th>\n",
       "    </tr>\n",
       "  </thead>\n",
       "  <tbody>\n",
       "    <tr>\n",
       "      <th>2019-10-31</th>\n",
       "      <td>0.008543</td>\n",
       "      <td>0.009048</td>\n",
       "      <td>0.009754</td>\n",
       "    </tr>\n",
       "    <tr>\n",
       "      <th>2019-11-30</th>\n",
       "      <td>0.002952</td>\n",
       "      <td>0.003230</td>\n",
       "      <td>0.003379</td>\n",
       "    </tr>\n",
       "    <tr>\n",
       "      <th>2019-12-31</th>\n",
       "      <td>0.019357</td>\n",
       "      <td>0.021900</td>\n",
       "      <td>0.022216</td>\n",
       "    </tr>\n",
       "    <tr>\n",
       "      <th>2020-01-31</th>\n",
       "      <td>0.002543</td>\n",
       "      <td>0.002840</td>\n",
       "      <td>0.002917</td>\n",
       "    </tr>\n",
       "    <tr>\n",
       "      <th>2020-02-29</th>\n",
       "      <td>-0.033245</td>\n",
       "      <td>-0.038274</td>\n",
       "      <td>-0.038245</td>\n",
       "    </tr>\n",
       "    <tr>\n",
       "      <th>2020-03-31</th>\n",
       "      <td>-0.072137</td>\n",
       "      <td>-0.075828</td>\n",
       "      <td>-0.082381</td>\n",
       "    </tr>\n",
       "    <tr>\n",
       "      <th>2020-04-30</th>\n",
       "      <td>0.068103</td>\n",
       "      <td>0.051937</td>\n",
       "      <td>0.074496</td>\n",
       "    </tr>\n",
       "    <tr>\n",
       "      <th>2020-05-31</th>\n",
       "      <td>0.017470</td>\n",
       "      <td>0.011634</td>\n",
       "      <td>0.018453</td>\n",
       "    </tr>\n",
       "    <tr>\n",
       "      <th>2020-06-30</th>\n",
       "      <td>0.012536</td>\n",
       "      <td>0.009017</td>\n",
       "      <td>0.013249</td>\n",
       "    </tr>\n",
       "    <tr>\n",
       "      <th>2020-07-31</th>\n",
       "      <td>0.042965</td>\n",
       "      <td>0.033371</td>\n",
       "      <td>0.045485</td>\n",
       "    </tr>\n",
       "    <tr>\n",
       "      <th>2020-08-31</th>\n",
       "      <td>0.026167</td>\n",
       "      <td>0.019885</td>\n",
       "      <td>0.027385</td>\n",
       "    </tr>\n",
       "    <tr>\n",
       "      <th>2020-09-30</th>\n",
       "      <td>-0.028287</td>\n",
       "      <td>-0.022423</td>\n",
       "      <td>-0.029533</td>\n",
       "    </tr>\n",
       "    <tr>\n",
       "      <th>2020-10-31</th>\n",
       "      <td>-0.009030</td>\n",
       "      <td>-0.007367</td>\n",
       "      <td>-0.009398</td>\n",
       "    </tr>\n",
       "    <tr>\n",
       "      <th>2020-11-30</th>\n",
       "      <td>0.044458</td>\n",
       "      <td>0.038830</td>\n",
       "      <td>0.046377</td>\n",
       "    </tr>\n",
       "    <tr>\n",
       "      <th>2020-12-31</th>\n",
       "      <td>0.022502</td>\n",
       "      <td>0.018466</td>\n",
       "      <td>0.023191</td>\n",
       "    </tr>\n",
       "    <tr>\n",
       "      <th>2021-01-31</th>\n",
       "      <td>-0.000351</td>\n",
       "      <td>-0.000300</td>\n",
       "      <td>-0.000361</td>\n",
       "    </tr>\n",
       "    <tr>\n",
       "      <th>2021-02-28</th>\n",
       "      <td>0.000978</td>\n",
       "      <td>0.000895</td>\n",
       "      <td>0.001010</td>\n",
       "    </tr>\n",
       "    <tr>\n",
       "      <th>2021-03-31</th>\n",
       "      <td>0.024966</td>\n",
       "      <td>0.024270</td>\n",
       "      <td>0.025860</td>\n",
       "    </tr>\n",
       "    <tr>\n",
       "      <th>2021-04-30</th>\n",
       "      <td>0.026599</td>\n",
       "      <td>0.025852</td>\n",
       "      <td>0.027503</td>\n",
       "    </tr>\n",
       "    <tr>\n",
       "      <th>2021-05-31</th>\n",
       "      <td>0.031310</td>\n",
       "      <td>0.030223</td>\n",
       "      <td>0.032297</td>\n",
       "    </tr>\n",
       "    <tr>\n",
       "      <th>2021-06-30</th>\n",
       "      <td>-0.011192</td>\n",
       "      <td>-0.010524</td>\n",
       "      <td>-0.011495</td>\n",
       "    </tr>\n",
       "    <tr>\n",
       "      <th>2021-07-31</th>\n",
       "      <td>0.019344</td>\n",
       "      <td>0.019057</td>\n",
       "      <td>0.019906</td>\n",
       "    </tr>\n",
       "    <tr>\n",
       "      <th>2021-08-31</th>\n",
       "      <td>0.006706</td>\n",
       "      <td>0.006725</td>\n",
       "      <td>0.006902</td>\n",
       "    </tr>\n",
       "    <tr>\n",
       "      <th>2021-09-30</th>\n",
       "      <td>-0.020628</td>\n",
       "      <td>-0.021615</td>\n",
       "      <td>-0.021286</td>\n",
       "    </tr>\n",
       "    <tr>\n",
       "      <th>2021-10-31</th>\n",
       "      <td>0.028271</td>\n",
       "      <td>0.000000</td>\n",
       "      <td>0.000000</td>\n",
       "    </tr>\n",
       "  </tbody>\n",
       "</table>\n",
       "</div>"
      ],
      "text/plain": [
       "             Returns  Returns_Garch  Returns_Emwa\n",
       "date                                             \n",
       "2019-10-31  0.008543       0.009048      0.009754\n",
       "2019-11-30  0.002952       0.003230      0.003379\n",
       "2019-12-31  0.019357       0.021900      0.022216\n",
       "2020-01-31  0.002543       0.002840      0.002917\n",
       "2020-02-29 -0.033245      -0.038274     -0.038245\n",
       "2020-03-31 -0.072137      -0.075828     -0.082381\n",
       "2020-04-30  0.068103       0.051937      0.074496\n",
       "2020-05-31  0.017470       0.011634      0.018453\n",
       "2020-06-30  0.012536       0.009017      0.013249\n",
       "2020-07-31  0.042965       0.033371      0.045485\n",
       "2020-08-31  0.026167       0.019885      0.027385\n",
       "2020-09-30 -0.028287      -0.022423     -0.029533\n",
       "2020-10-31 -0.009030      -0.007367     -0.009398\n",
       "2020-11-30  0.044458       0.038830      0.046377\n",
       "2020-12-31  0.022502       0.018466      0.023191\n",
       "2021-01-31 -0.000351      -0.000300     -0.000361\n",
       "2021-02-28  0.000978       0.000895      0.001010\n",
       "2021-03-31  0.024966       0.024270      0.025860\n",
       "2021-04-30  0.026599       0.025852      0.027503\n",
       "2021-05-31  0.031310       0.030223      0.032297\n",
       "2021-06-30 -0.011192      -0.010524     -0.011495\n",
       "2021-07-31  0.019344       0.019057      0.019906\n",
       "2021-08-31  0.006706       0.006725      0.006902\n",
       "2021-09-30 -0.020628      -0.021615     -0.021286\n",
       "2021-10-31  0.028271       0.000000      0.000000"
      ]
     },
     "execution_count": 61,
     "metadata": {},
     "output_type": "execute_result"
    }
   ],
   "source": [
    "df_25_m_aug = df_returns_m_aug.iloc[-25:,:]\n",
    "\n",
    "df_25_m_aug"
   ]
  },
  {
   "cell_type": "code",
   "execution_count": 62,
   "id": "26662295",
   "metadata": {},
   "outputs": [],
   "source": [
    "lb_25_vol_m_aug= ((df_25_m_aug['Returns']**2).mean())**0.5"
   ]
  },
  {
   "cell_type": "code",
   "execution_count": 63,
   "id": "439fa08d",
   "metadata": {},
   "outputs": [],
   "source": [
    "var_param_m_aug = sp.norm.ppf(0.95)*lb_25_vol_m_aug"
   ]
  },
  {
   "cell_type": "code",
   "execution_count": 64,
   "id": "b1b3ae69",
   "metadata": {},
   "outputs": [],
   "source": [
    "es_param_m_aug = sp.norm.pdf(sp.norm.ppf(0.95))*lb_25_vol_m_aug/0.05"
   ]
  },
  {
   "cell_type": "code",
   "execution_count": 65,
   "id": "78a99184",
   "metadata": {},
   "outputs": [],
   "source": [
    "var_25_hist_m_aug = df_25_m_aug['Returns'].quantile(q=0.05)"
   ]
  },
  {
   "cell_type": "code",
   "execution_count": 66,
   "id": "b04e687b",
   "metadata": {},
   "outputs": [],
   "source": [
    "es_25_hist_m_aug = (df_25_m_aug['Returns'][(df_25_m_aug['Returns']<df_25_m_aug['Returns'].quantile(q=0.05))]).mean()"
   ]
  },
  {
   "cell_type": "code",
   "execution_count": 67,
   "id": "07561ef3",
   "metadata": {},
   "outputs": [],
   "source": [
    "var_25_fhist_g_m_aug = df_25_m_aug['Returns_Garch'].quantile(q=0.05)"
   ]
  },
  {
   "cell_type": "code",
   "execution_count": 68,
   "id": "60a4ed7a",
   "metadata": {},
   "outputs": [],
   "source": [
    "es_25_fhist_g_m_aug= (df_25_m_aug['Returns_Garch'][(df_25_m_aug['Returns_Garch']<df_25_m_aug['Returns_Garch'].quantile(q=0.05))]).mean()"
   ]
  },
  {
   "cell_type": "code",
   "execution_count": 69,
   "id": "ee6137ea",
   "metadata": {},
   "outputs": [],
   "source": [
    "var_25_fhist_e_m_aug = df_25_m_aug['Returns_Emwa'].quantile(q=0.05)"
   ]
  },
  {
   "cell_type": "code",
   "execution_count": 70,
   "id": "04142d58",
   "metadata": {},
   "outputs": [],
   "source": [
    "es_25_fhist_e_m_aug = (df_25_m_aug['Returns_Emwa'][(df_25_m_aug['Returns_Emwa']<df_25_m_aug['Returns_Emwa'].quantile(q=0.05))]).mean()"
   ]
  },
  {
   "cell_type": "code",
   "execution_count": 71,
   "id": "3ea86f95",
   "metadata": {},
   "outputs": [
    {
     "data": {
      "text/plain": [
       "0.9999999999999997"
      ]
     },
     "execution_count": 71,
     "metadata": {},
     "output_type": "execute_result"
    }
   ],
   "source": [
    "weights_emwa_25_m_aug=weights_emwa_m_aug.loc[df_25_m_aug.index,:]\n",
    "adj_m_aug=lamb_m_aug**25\n",
    "n_w_m_aug=weights_emwa_25_m_aug['weights']/(1-adj_m_aug)\n",
    "df_25_m_aug['weights']=n_w_m_aug\n",
    "df_25_m_aug['weights'].sum()"
   ]
  },
  {
   "cell_type": "code",
   "execution_count": 72,
   "id": "765f0c61",
   "metadata": {},
   "outputs": [],
   "source": [
    "df_25_m_aug.sort_values('Returns', inplace=True)\n",
    "df_25_m_aug['acum_weights'] = 0\n",
    "\n",
    "for y in range(0, len(df_25_m_aug.index)):\n",
    "    if y==0:\n",
    "        df_25_m_aug.iloc[y, 4] = df_25_m_aug.iloc[y, 3]\n",
    "    else: df_25_m_aug.iloc[y, 4] = df_25_m_aug.iloc[y-1, 4] + df_25_m_aug.iloc[y, 3]"
   ]
  },
  {
   "cell_type": "code",
   "execution_count": 73,
   "id": "7dd2084b",
   "metadata": {},
   "outputs": [],
   "source": [
    "w_hist_df_m_aug=df_25_m_aug[df_25_m_aug['acum_weights']<=0.05]\n",
    "\n",
    "hr_m_aug=df_25_m_aug.iloc[len(w_hist_df_m_aug),0]\n",
    "hw_m_aug=df_25_m_aug.iloc[len(w_hist_df_m_aug),4]\n",
    "lr_m_aug=w_hist_df_m_aug.iloc[-1,0]\n",
    "lw_m_aug=w_hist_df_m_aug.iloc[-1,4]\n",
    "\n",
    "w_hist_VaR_m_aug=lr_m_aug+(0.05-lw_m_aug)*(hr_m_aug-lr_m_aug)/(hw_m_aug-lw_m_aug)\n",
    "w_hist_ES_m_aug=(w_hist_df_m_aug['Returns']*w_hist_df_m_aug['weights']).sum()/0.05"
   ]
  },
  {
   "cell_type": "code",
   "execution_count": 74,
   "id": "bf21bee0",
   "metadata": {},
   "outputs": [],
   "source": [
    "VaR_25_m_aug = [var_param_m_aug, -var_25_hist_m_aug, -var_25_fhist_g_m_aug, -var_25_fhist_e_m_aug, -w_hist_VaR_m_aug]\n",
    "ES_25_m_aug = [es_param_m_aug, -es_25_hist_m_aug, -es_25_fhist_g_m_aug, -es_25_fhist_e_m_aug, -w_hist_ES_m_aug]"
   ]
  },
  {
   "cell_type": "code",
   "execution_count": 75,
   "id": "e6ada01f",
   "metadata": {},
   "outputs": [],
   "source": [
    "df_risk_measures_m_aug.loc['VaR_PreC']=VaR_25_m_aug\n",
    "df_risk_measures_m_aug.loc['ES_PreC']=ES_25_m_aug"
   ]
  },
  {
   "cell_type": "code",
   "execution_count": 76,
   "id": "b7d279ec",
   "metadata": {},
   "outputs": [
    {
     "data": {
      "text/html": [
       "<div>\n",
       "<style scoped>\n",
       "    .dataframe tbody tr th:only-of-type {\n",
       "        vertical-align: middle;\n",
       "    }\n",
       "\n",
       "    .dataframe tbody tr th {\n",
       "        vertical-align: top;\n",
       "    }\n",
       "\n",
       "    .dataframe thead th {\n",
       "        text-align: right;\n",
       "    }\n",
       "</style>\n",
       "<table border=\"1\" class=\"dataframe\">\n",
       "  <thead>\n",
       "    <tr style=\"text-align: right;\">\n",
       "      <th></th>\n",
       "      <th>Param</th>\n",
       "      <th>Hist</th>\n",
       "      <th>Fhist_G</th>\n",
       "      <th>Fhist_E</th>\n",
       "      <th>Whist</th>\n",
       "    </tr>\n",
       "  </thead>\n",
       "  <tbody>\n",
       "    <tr>\n",
       "      <th>VaR_PreC</th>\n",
       "      <td>4.86%</td>\n",
       "      <td>3.23%</td>\n",
       "      <td>3.51%</td>\n",
       "      <td>3.65%</td>\n",
       "      <td>6.02%</td>\n",
       "    </tr>\n",
       "    <tr>\n",
       "      <th>VaR_PostC</th>\n",
       "      <td>nan%</td>\n",
       "      <td>nan%</td>\n",
       "      <td>nan%</td>\n",
       "      <td>nan%</td>\n",
       "      <td>nan%</td>\n",
       "    </tr>\n",
       "    <tr>\n",
       "      <th>ES_PreC</th>\n",
       "      <td>6.10%</td>\n",
       "      <td>5.27%</td>\n",
       "      <td>5.71%</td>\n",
       "      <td>6.03%</td>\n",
       "      <td>5.53%</td>\n",
       "    </tr>\n",
       "    <tr>\n",
       "      <th>ES_PostC</th>\n",
       "      <td>nan%</td>\n",
       "      <td>nan%</td>\n",
       "      <td>nan%</td>\n",
       "      <td>nan%</td>\n",
       "      <td>nan%</td>\n",
       "    </tr>\n",
       "  </tbody>\n",
       "</table>\n",
       "</div>"
      ],
      "text/plain": [
       "           Param   Hist Fhist_G Fhist_E  Whist\n",
       "VaR_PreC   4.86%  3.23%   3.51%   3.65%  6.02%\n",
       "VaR_PostC   nan%   nan%    nan%    nan%   nan%\n",
       "ES_PreC    6.10%  5.27%   5.71%   6.03%  5.53%\n",
       "ES_PostC    nan%   nan%    nan%    nan%   nan%"
      ]
     },
     "execution_count": 76,
     "metadata": {},
     "output_type": "execute_result"
    }
   ],
   "source": [
    "(df_risk_measures_m_aug*100).applymap('{:,.2f}%'.format)"
   ]
  },
  {
   "cell_type": "markdown",
   "id": "37aa6e35",
   "metadata": {},
   "source": [
    "### PostCovid"
   ]
  },
  {
   "cell_type": "code",
   "execution_count": 77,
   "id": "46865b03",
   "metadata": {},
   "outputs": [
    {
     "data": {
      "text/html": [
       "<div>\n",
       "<style scoped>\n",
       "    .dataframe tbody tr th:only-of-type {\n",
       "        vertical-align: middle;\n",
       "    }\n",
       "\n",
       "    .dataframe tbody tr th {\n",
       "        vertical-align: top;\n",
       "    }\n",
       "\n",
       "    .dataframe thead th {\n",
       "        text-align: right;\n",
       "    }\n",
       "</style>\n",
       "<table border=\"1\" class=\"dataframe\">\n",
       "  <thead>\n",
       "    <tr style=\"text-align: right;\">\n",
       "      <th></th>\n",
       "      <th>Returns</th>\n",
       "      <th>Returns_Garch</th>\n",
       "      <th>Returns_Emwa</th>\n",
       "    </tr>\n",
       "    <tr>\n",
       "      <th>date</th>\n",
       "      <th></th>\n",
       "      <th></th>\n",
       "      <th></th>\n",
       "    </tr>\n",
       "  </thead>\n",
       "  <tbody>\n",
       "    <tr>\n",
       "      <th>2020-10-31</th>\n",
       "      <td>-0.009030</td>\n",
       "      <td>-0.007367</td>\n",
       "      <td>-0.009398</td>\n",
       "    </tr>\n",
       "    <tr>\n",
       "      <th>2020-11-30</th>\n",
       "      <td>0.044458</td>\n",
       "      <td>0.038830</td>\n",
       "      <td>0.046377</td>\n",
       "    </tr>\n",
       "    <tr>\n",
       "      <th>2020-12-31</th>\n",
       "      <td>0.022502</td>\n",
       "      <td>0.018466</td>\n",
       "      <td>0.023191</td>\n",
       "    </tr>\n",
       "    <tr>\n",
       "      <th>2021-01-31</th>\n",
       "      <td>-0.000351</td>\n",
       "      <td>-0.000300</td>\n",
       "      <td>-0.000361</td>\n",
       "    </tr>\n",
       "    <tr>\n",
       "      <th>2021-02-28</th>\n",
       "      <td>0.000978</td>\n",
       "      <td>0.000895</td>\n",
       "      <td>0.001010</td>\n",
       "    </tr>\n",
       "    <tr>\n",
       "      <th>2021-03-31</th>\n",
       "      <td>0.024966</td>\n",
       "      <td>0.024270</td>\n",
       "      <td>0.025860</td>\n",
       "    </tr>\n",
       "    <tr>\n",
       "      <th>2021-04-30</th>\n",
       "      <td>0.026599</td>\n",
       "      <td>0.025852</td>\n",
       "      <td>0.027503</td>\n",
       "    </tr>\n",
       "    <tr>\n",
       "      <th>2021-05-31</th>\n",
       "      <td>0.031310</td>\n",
       "      <td>0.030223</td>\n",
       "      <td>0.032297</td>\n",
       "    </tr>\n",
       "    <tr>\n",
       "      <th>2021-06-30</th>\n",
       "      <td>-0.011192</td>\n",
       "      <td>-0.010524</td>\n",
       "      <td>-0.011495</td>\n",
       "    </tr>\n",
       "    <tr>\n",
       "      <th>2021-07-31</th>\n",
       "      <td>0.019344</td>\n",
       "      <td>0.019057</td>\n",
       "      <td>0.019906</td>\n",
       "    </tr>\n",
       "    <tr>\n",
       "      <th>2021-08-31</th>\n",
       "      <td>0.006706</td>\n",
       "      <td>0.006725</td>\n",
       "      <td>0.006902</td>\n",
       "    </tr>\n",
       "    <tr>\n",
       "      <th>2021-09-30</th>\n",
       "      <td>-0.020628</td>\n",
       "      <td>-0.021615</td>\n",
       "      <td>-0.021286</td>\n",
       "    </tr>\n",
       "    <tr>\n",
       "      <th>2021-10-31</th>\n",
       "      <td>0.028271</td>\n",
       "      <td>0.000000</td>\n",
       "      <td>0.000000</td>\n",
       "    </tr>\n",
       "  </tbody>\n",
       "</table>\n",
       "</div>"
      ],
      "text/plain": [
       "             Returns  Returns_Garch  Returns_Emwa\n",
       "date                                             \n",
       "2020-10-31 -0.009030      -0.007367     -0.009398\n",
       "2020-11-30  0.044458       0.038830      0.046377\n",
       "2020-12-31  0.022502       0.018466      0.023191\n",
       "2021-01-31 -0.000351      -0.000300     -0.000361\n",
       "2021-02-28  0.000978       0.000895      0.001010\n",
       "2021-03-31  0.024966       0.024270      0.025860\n",
       "2021-04-30  0.026599       0.025852      0.027503\n",
       "2021-05-31  0.031310       0.030223      0.032297\n",
       "2021-06-30 -0.011192      -0.010524     -0.011495\n",
       "2021-07-31  0.019344       0.019057      0.019906\n",
       "2021-08-31  0.006706       0.006725      0.006902\n",
       "2021-09-30 -0.020628      -0.021615     -0.021286\n",
       "2021-10-31  0.028271       0.000000      0.000000"
      ]
     },
     "execution_count": 77,
     "metadata": {},
     "output_type": "execute_result"
    }
   ],
   "source": [
    "df_13_m_aug = df_returns_m_aug.iloc[-13:,:]\n",
    "\n",
    "df_13_m_aug"
   ]
  },
  {
   "cell_type": "code",
   "execution_count": 78,
   "id": "0dee26b0",
   "metadata": {},
   "outputs": [],
   "source": [
    "lb_13_vol_m_aug= ((df_13_m_aug['Returns']**2).mean())**0.5"
   ]
  },
  {
   "cell_type": "code",
   "execution_count": 79,
   "id": "b3d7b3d6",
   "metadata": {},
   "outputs": [],
   "source": [
    "var_13_param_m_aug = sp.norm.ppf(0.95)*lb_13_vol_m_aug"
   ]
  },
  {
   "cell_type": "code",
   "execution_count": 80,
   "id": "a76dddc1",
   "metadata": {},
   "outputs": [],
   "source": [
    "es_13_param_m_aug = sp.norm.pdf(sp.norm.ppf(0.95))*lb_13_vol_m_aug/0.05"
   ]
  },
  {
   "cell_type": "code",
   "execution_count": 81,
   "id": "8f3f4bf1",
   "metadata": {},
   "outputs": [],
   "source": [
    "var_13_hist_m_aug = df_13_m_aug['Returns'].quantile(q=0.05)"
   ]
  },
  {
   "cell_type": "code",
   "execution_count": 82,
   "id": "5cde5a0b",
   "metadata": {},
   "outputs": [],
   "source": [
    "es_13_hist_m_aug = (df_13_m_aug['Returns'][(df_13_m_aug['Returns']<df_13_m_aug['Returns'].quantile(q=0.05))]).mean()"
   ]
  },
  {
   "cell_type": "code",
   "execution_count": 83,
   "id": "098090ec",
   "metadata": {},
   "outputs": [],
   "source": [
    "var_13_fhist_g_m_aug = df_13_m_aug['Returns_Garch'].quantile(q=0.05)"
   ]
  },
  {
   "cell_type": "code",
   "execution_count": 84,
   "id": "3af30913",
   "metadata": {},
   "outputs": [],
   "source": [
    "es_13_fhist_g_m_aug = (df_13_m_aug['Returns_Garch'][(df_13_m_aug['Returns_Garch']<df_13_m_aug['Returns_Garch'].quantile(q=0.05))]).mean()"
   ]
  },
  {
   "cell_type": "code",
   "execution_count": 85,
   "id": "86e03899",
   "metadata": {},
   "outputs": [],
   "source": [
    "var_13_fhist_e_m_aug = df_13_m_aug['Returns_Emwa'].quantile(q=0.05)"
   ]
  },
  {
   "cell_type": "code",
   "execution_count": 86,
   "id": "7c2bd90d",
   "metadata": {},
   "outputs": [],
   "source": [
    "es_13_fhist_e_m_aug = (df_13_m_aug['Returns_Emwa'][(df_13_m_aug['Returns_Emwa']<df_13_m_aug['Returns_Emwa'].quantile(q=0.05))]).mean()"
   ]
  },
  {
   "cell_type": "code",
   "execution_count": 87,
   "id": "3995d9e5",
   "metadata": {},
   "outputs": [
    {
     "data": {
      "text/plain": [
       "0.9999999999999998"
      ]
     },
     "execution_count": 87,
     "metadata": {},
     "output_type": "execute_result"
    }
   ],
   "source": [
    "weights_emwa_13_m_aug=weights_emwa_m_aug.loc[df_13_m_aug.index,:]\n",
    "adj_m_aug=lamb_m_aug**13\n",
    "n_w_m_aug=weights_emwa_13_m_aug['weights']/(1-adj_m_aug)\n",
    "df_13_m_aug['weights']=n_w_m_aug\n",
    "df_13_m_aug['weights'].sum()"
   ]
  },
  {
   "cell_type": "code",
   "execution_count": 88,
   "id": "2a18cb99",
   "metadata": {},
   "outputs": [],
   "source": [
    "df_13_m_aug.sort_values('Returns', inplace=True)\n",
    "df_13_m_aug['acum_weights'] = 0\n",
    "\n",
    "for y in range(0, len(df_13_m_aug.index)):\n",
    "    if y==0:\n",
    "        df_13_m_aug.iloc[y, 4] = df_13_m_aug.iloc[y, 3]\n",
    "    else: df_13_m_aug.iloc[y, 4] = df_13_m_aug.iloc[y-1, 4] + df_13_m_aug.iloc[y, 3]"
   ]
  },
  {
   "cell_type": "code",
   "execution_count": 89,
   "id": "5ee367cd",
   "metadata": {},
   "outputs": [],
   "source": [
    "#w_hist_df_m=df_13_m[df_13_m['acum_weights']<=0.05]\n",
    "\n",
    "#hr_m=df_13_m.iloc[len(w_hist_df_m),0]\n",
    "#hw_m=df_13_m.iloc[len(w_hist_df_m),4]\n",
    "#lr_m=w_hist_df_m.iloc[-1,0]\n",
    "#lw_m=w_hist_df_m.iloc[-1,4]\n",
    "\n",
    "#w_hist_VaR_m=lr_m+(0.05-lw_m)/(hw_m-lw_m)*(hr_m-lr_m)\n",
    "#w_hist_ES_m=(w_hist_df_m['Returns']*w_hist_df_m['weights']).sum()/0.05\n",
    "\n",
    "# Here VaR and ES are the mimimum because the acumulative weights of the minimum return is already above 5%\n",
    "\n",
    "w_hist_df_m_aug=pd.DataFrame(df_13_m_aug.iloc[0,:])\n",
    "w_hist_VaR_m_aug=w_hist_df_m_aug.loc['Returns']\n",
    "w_hist_VaR_m_aug=w_hist_VaR_m_aug[0]\n",
    "w_hist_ES_m_aug=(w_hist_df_m_aug.loc['Returns']*w_hist_df_m_aug.loc['weights']).sum()/0.05"
   ]
  },
  {
   "cell_type": "code",
   "execution_count": 90,
   "id": "8ef73f83",
   "metadata": {},
   "outputs": [],
   "source": [
    "VaR_13_m_aug = [var_param_m_aug, -var_13_hist_m_aug, -var_13_fhist_g_m_aug, -var_13_fhist_e_m_aug, -w_hist_VaR_m_aug]\n",
    "ES_13_m_aug = [es_param_m_aug, -es_13_hist_m_aug, -es_13_fhist_g_m_aug, -es_13_fhist_e_m_aug, -w_hist_ES_m_aug]"
   ]
  },
  {
   "cell_type": "code",
   "execution_count": 91,
   "id": "823c8a9a",
   "metadata": {},
   "outputs": [],
   "source": [
    "df_risk_measures_m_aug.loc['VaR_PostC']=VaR_13_m_aug\n",
    "df_risk_measures_m_aug.loc['ES_PostC']=ES_13_m_aug"
   ]
  },
  {
   "cell_type": "code",
   "execution_count": 92,
   "id": "46258bfa",
   "metadata": {},
   "outputs": [
    {
     "data": {
      "text/html": [
       "<div>\n",
       "<style scoped>\n",
       "    .dataframe tbody tr th:only-of-type {\n",
       "        vertical-align: middle;\n",
       "    }\n",
       "\n",
       "    .dataframe tbody tr th {\n",
       "        vertical-align: top;\n",
       "    }\n",
       "\n",
       "    .dataframe thead th {\n",
       "        text-align: right;\n",
       "    }\n",
       "</style>\n",
       "<table border=\"1\" class=\"dataframe\">\n",
       "  <thead>\n",
       "    <tr style=\"text-align: right;\">\n",
       "      <th></th>\n",
       "      <th>Param</th>\n",
       "      <th>Hist</th>\n",
       "      <th>Fhist_G</th>\n",
       "      <th>Fhist_E</th>\n",
       "      <th>Whist</th>\n",
       "    </tr>\n",
       "  </thead>\n",
       "  <tbody>\n",
       "    <tr>\n",
       "      <th>VaR_PreC</th>\n",
       "      <td>4.86%</td>\n",
       "      <td>3.23%</td>\n",
       "      <td>3.51%</td>\n",
       "      <td>3.65%</td>\n",
       "      <td>6.02%</td>\n",
       "    </tr>\n",
       "    <tr>\n",
       "      <th>VaR_PostC</th>\n",
       "      <td>4.86%</td>\n",
       "      <td>1.50%</td>\n",
       "      <td>1.50%</td>\n",
       "      <td>1.54%</td>\n",
       "      <td>2.06%</td>\n",
       "    </tr>\n",
       "    <tr>\n",
       "      <th>ES_PreC</th>\n",
       "      <td>6.10%</td>\n",
       "      <td>5.27%</td>\n",
       "      <td>5.71%</td>\n",
       "      <td>6.03%</td>\n",
       "      <td>5.53%</td>\n",
       "    </tr>\n",
       "    <tr>\n",
       "      <th>ES_PostC</th>\n",
       "      <td>6.10%</td>\n",
       "      <td>2.06%</td>\n",
       "      <td>2.16%</td>\n",
       "      <td>2.13%</td>\n",
       "      <td>3.27%</td>\n",
       "    </tr>\n",
       "  </tbody>\n",
       "</table>\n",
       "</div>"
      ],
      "text/plain": [
       "           Param   Hist Fhist_G Fhist_E  Whist\n",
       "VaR_PreC   4.86%  3.23%   3.51%   3.65%  6.02%\n",
       "VaR_PostC  4.86%  1.50%   1.50%   1.54%  2.06%\n",
       "ES_PreC    6.10%  5.27%   5.71%   6.03%  5.53%\n",
       "ES_PostC   6.10%  2.06%   2.16%   2.13%  3.27%"
      ]
     },
     "execution_count": 92,
     "metadata": {},
     "output_type": "execute_result"
    }
   ],
   "source": [
    "(df_risk_measures_m_aug*100).applymap('{:,.2f}%'.format)"
   ]
  },
  {
   "cell_type": "markdown",
   "id": "85b0a501",
   "metadata": {},
   "source": [
    "# Evaluation of volatility"
   ]
  },
  {
   "cell_type": "code",
   "execution_count": 93,
   "id": "4d35df97",
   "metadata": {},
   "outputs": [
    {
     "data": {
      "text/html": [
       "<div>\n",
       "<style scoped>\n",
       "    .dataframe tbody tr th:only-of-type {\n",
       "        vertical-align: middle;\n",
       "    }\n",
       "\n",
       "    .dataframe tbody tr th {\n",
       "        vertical-align: top;\n",
       "    }\n",
       "\n",
       "    .dataframe thead th {\n",
       "        text-align: right;\n",
       "    }\n",
       "</style>\n",
       "<table border=\"1\" class=\"dataframe\">\n",
       "  <thead>\n",
       "    <tr style=\"text-align: right;\">\n",
       "      <th></th>\n",
       "      <th>Garch</th>\n",
       "      <th>EWMA</th>\n",
       "    </tr>\n",
       "  </thead>\n",
       "  <tbody>\n",
       "    <tr>\n",
       "      <th>Stdv</th>\n",
       "      <td>0.94</td>\n",
       "      <td>1.15</td>\n",
       "    </tr>\n",
       "  </tbody>\n",
       "</table>\n",
       "</div>"
      ],
      "text/plain": [
       "     Garch  EWMA\n",
       "Stdv  0.94  1.15"
      ]
     },
     "execution_count": 93,
     "metadata": {},
     "output_type": "execute_result"
    }
   ],
   "source": [
    "df_eval_m_aug = portfolio_ret_m_aug.iloc[24:,:]\n",
    "bias_garch_m_aug =  df_eval_m_aug['z_garch'].std()\n",
    "bias_ewma_m_aug =  df_eval_m_aug['z_emwa'].std()\n",
    "\n",
    "df_bias_m_aug = pd.DataFrame(index=['Stdv'], columns=['Garch', 'EWMA'], data= [[bias_garch_m_aug,bias_ewma_m_aug]])\n",
    "df_bias_m_aug.applymap('{:,.2f}'.format) "
   ]
  },
  {
   "cell_type": "code",
   "execution_count": 94,
   "id": "159e075f",
   "metadata": {},
   "outputs": [
    {
     "data": {
      "text/html": [
       "<div>\n",
       "<style scoped>\n",
       "    .dataframe tbody tr th:only-of-type {\n",
       "        vertical-align: middle;\n",
       "    }\n",
       "\n",
       "    .dataframe tbody tr th {\n",
       "        vertical-align: top;\n",
       "    }\n",
       "\n",
       "    .dataframe thead th {\n",
       "        text-align: right;\n",
       "    }\n",
       "</style>\n",
       "<table border=\"1\" class=\"dataframe\">\n",
       "  <thead>\n",
       "    <tr style=\"text-align: right;\">\n",
       "      <th></th>\n",
       "      <th>Low Interval</th>\n",
       "      <th>High Interval</th>\n",
       "    </tr>\n",
       "  </thead>\n",
       "  <tbody>\n",
       "    <tr>\n",
       "      <th>95% Confidence Intervals</th>\n",
       "      <td>0.93</td>\n",
       "      <td>1.07</td>\n",
       "    </tr>\n",
       "  </tbody>\n",
       "</table>\n",
       "</div>"
      ],
      "text/plain": [
       "                         Low Interval High Interval\n",
       "95% Confidence Intervals         0.93          1.07"
      ]
     },
     "execution_count": 94,
     "metadata": {},
     "output_type": "execute_result"
    }
   ],
   "source": [
    "low_interval_confidence_m_aug = 1-(2/((len(portfolio_ret_m_aug)-25)))**0.5\n",
    "high_interval_confidence_m_aug = 1+(2/((len(portfolio_ret_m_aug)-25)))**0.5\n",
    "\n",
    "df_bias_int_m_aug = pd.DataFrame(index=['95% Confidence Intervals'], columns=['Low Interval', 'High Interval'], data= [[low_interval_confidence_m_aug, high_interval_confidence_m_aug]])\n",
    "df_bias_int_m_aug.applymap('{:,.2f}'.format)  "
   ]
  },
  {
   "cell_type": "code",
   "execution_count": 95,
   "id": "69d690e5",
   "metadata": {},
   "outputs": [],
   "source": [
    "df_eval_m_aug[['garch_std','ewma_std']] = 5\n",
    "z_m_aug = []\n",
    "\n",
    "for i in range(0,len(df_eval_m_aug)):\n",
    "    z_m_aug.append(portfolio_ret_m_aug.iloc[i:24+i,7].std())\n",
    "    \n",
    "df_eval_m_aug['garch_std'] = z_m_aug"
   ]
  },
  {
   "cell_type": "code",
   "execution_count": 97,
   "id": "04364c3e",
   "metadata": {},
   "outputs": [],
   "source": [
    "y_m_aug = []\n",
    "\n",
    "for i in range(0,len(df_eval_m_aug)):\n",
    "    y_m_aug.append(portfolio_ret_m_aug.iloc[i:24+i,8].std())\n",
    "    \n",
    "df_eval_m_aug['ewma_std'] = y_m_aug"
   ]
  },
  {
   "cell_type": "code",
   "execution_count": 98,
   "id": "142df152",
   "metadata": {},
   "outputs": [
    {
     "data": {
      "text/html": [
       "<div>\n",
       "<style scoped>\n",
       "    .dataframe tbody tr th:only-of-type {\n",
       "        vertical-align: middle;\n",
       "    }\n",
       "\n",
       "    .dataframe tbody tr th {\n",
       "        vertical-align: top;\n",
       "    }\n",
       "\n",
       "    .dataframe thead th {\n",
       "        text-align: right;\n",
       "    }\n",
       "</style>\n",
       "<table border=\"1\" class=\"dataframe\">\n",
       "  <thead>\n",
       "    <tr style=\"text-align: right;\">\n",
       "      <th></th>\n",
       "      <th>Garch</th>\n",
       "      <th>EWMA</th>\n",
       "    </tr>\n",
       "  </thead>\n",
       "  <tbody>\n",
       "    <tr>\n",
       "      <th>MRAD</th>\n",
       "      <td>0.20</td>\n",
       "      <td>0.28</td>\n",
       "    </tr>\n",
       "  </tbody>\n",
       "</table>\n",
       "</div>"
      ],
      "text/plain": [
       "     Garch  EWMA\n",
       "MRAD  0.20  0.28"
      ]
     },
     "execution_count": 98,
     "metadata": {},
     "output_type": "execute_result"
    }
   ],
   "source": [
    "bias_garch_2_m_aug = abs((df_eval_m_aug['garch_std']-1)).mean()\n",
    "bias_ewma_2_m_aug = abs((df_eval_m_aug['ewma_std']-1)).mean()\n",
    "\n",
    "df_MRAD_m_aug = pd.DataFrame(index=['MRAD'], columns=['Garch', 'EWMA'], data= [[bias_garch_2_m_aug,bias_ewma_2_m_aug]])\n",
    "df_MRAD_m_aug.applymap('{:,.2f}'.format)  "
   ]
  },
  {
   "cell_type": "code",
   "execution_count": 99,
   "id": "a3388531",
   "metadata": {},
   "outputs": [
    {
     "data": {
      "text/html": [
       "<div>\n",
       "<style scoped>\n",
       "    .dataframe tbody tr th:only-of-type {\n",
       "        vertical-align: middle;\n",
       "    }\n",
       "\n",
       "    .dataframe tbody tr th {\n",
       "        vertical-align: top;\n",
       "    }\n",
       "\n",
       "    .dataframe thead th {\n",
       "        text-align: right;\n",
       "    }\n",
       "</style>\n",
       "<table border=\"1\" class=\"dataframe\">\n",
       "  <thead>\n",
       "    <tr style=\"text-align: right;\">\n",
       "      <th></th>\n",
       "      <th>Ret</th>\n",
       "      <th>Garch</th>\n",
       "      <th>EWMA</th>\n",
       "    </tr>\n",
       "  </thead>\n",
       "  <tbody>\n",
       "    <tr>\n",
       "      <th>Skew</th>\n",
       "      <td>-0.72</td>\n",
       "      <td>-0.99</td>\n",
       "      <td>-0.74</td>\n",
       "    </tr>\n",
       "    <tr>\n",
       "      <th>Robust Skew</th>\n",
       "      <td>-0.08</td>\n",
       "      <td>-0.19</td>\n",
       "      <td>-0.15</td>\n",
       "    </tr>\n",
       "    <tr>\n",
       "      <th>Kurtosis</th>\n",
       "      <td>3.25</td>\n",
       "      <td>4.39</td>\n",
       "      <td>3.25</td>\n",
       "    </tr>\n",
       "  </tbody>\n",
       "</table>\n",
       "</div>"
      ],
      "text/plain": [
       "               Ret  Garch   EWMA\n",
       "Skew         -0.72  -0.99  -0.74\n",
       "Robust Skew  -0.08  -0.19  -0.15\n",
       "Kurtosis      3.25   4.39   3.25"
      ]
     },
     "execution_count": 99,
     "metadata": {},
     "output_type": "execute_result"
    }
   ],
   "source": [
    "skew_garch_m_aug =  sp.skew(df_eval_m_aug['z_garch'])\n",
    "skew_ewma_m_aug =  sp.skew(df_eval_m_aug['z_emwa'])\n",
    "skew_ret_m_aug =  sp.skew(df_eval_m_aug['ret'])\n",
    "kurt_garch_m_aug =  sp.kurtosis(df_eval_m_aug['z_garch'])\n",
    "kurt_ewma_m_aug =  sp.kurtosis(df_eval_m_aug['z_emwa'])\n",
    "kurt_ret_m_aug =  sp.kurtosis(df_eval_m_aug['ret'])\n",
    "\n",
    "zg_mn_m_aug=df_eval_m_aug['z_garch'].mean()\n",
    "ze_mn_m_aug=df_eval_m_aug['z_garch'].mean()\n",
    "r_mn_m_aug=df_eval_m_aug['ret'].mean()\n",
    "zg_mdn_m_aug=df_eval_m_aug['z_emwa'].median()\n",
    "ze_mdn_m_aug=df_eval_m_aug['z_emwa'].median()\n",
    "r_mdn_m_aug=df_eval_m_aug['ret'].median()\n",
    "\n",
    "r_skew_garch_m_aug =  (zg_mn_m_aug-zg_mdn_m_aug)/bias_garch_m_aug\n",
    "r_skew_ewma_m_aug =  (ze_mn_m_aug-ze_mdn_m_aug)/bias_ewma_m_aug\n",
    "r_skew_r_m_aug = (r_mn_m_aug-r_mdn_m_aug)/df_eval_m_aug['ret'].std()\n",
    "\n",
    "df_dist_m_aug = pd.DataFrame(index=['Skew','Robust Skew','Kurtosis'], columns=['Ret','Garch', 'EWMA'], data= [[skew_ret_m_aug,skew_garch_m_aug,skew_ewma_m_aug],[r_skew_r_m_aug,r_skew_garch_m_aug,r_skew_ewma_m_aug],[kurt_ret_m_aug,kurt_garch_m_aug,kurt_ewma_m_aug]])\n",
    "df_dist_m_aug.applymap('{:,.2f}'.format) "
   ]
  },
  {
   "cell_type": "code",
   "execution_count": 100,
   "id": "111bfc8b",
   "metadata": {},
   "outputs": [
    {
     "data": {
      "text/html": [
       "<div>\n",
       "<style scoped>\n",
       "    .dataframe tbody tr th:only-of-type {\n",
       "        vertical-align: middle;\n",
       "    }\n",
       "\n",
       "    .dataframe tbody tr th {\n",
       "        vertical-align: top;\n",
       "    }\n",
       "\n",
       "    .dataframe thead th {\n",
       "        text-align: right;\n",
       "    }\n",
       "</style>\n",
       "<table border=\"1\" class=\"dataframe\">\n",
       "  <thead>\n",
       "    <tr style=\"text-align: right;\">\n",
       "      <th></th>\n",
       "      <th>Garch</th>\n",
       "      <th>EWMA</th>\n",
       "      <th>A-B</th>\n",
       "    </tr>\n",
       "  </thead>\n",
       "  <tbody>\n",
       "    <tr>\n",
       "      <th>Sum_QL</th>\n",
       "      <td>-895.49</td>\n",
       "      <td>-953.5</td>\n",
       "      <td></td>\n",
       "    </tr>\n",
       "    <tr>\n",
       "      <th>Avg_d</th>\n",
       "      <td></td>\n",
       "      <td></td>\n",
       "      <td>0.15</td>\n",
       "    </tr>\n",
       "    <tr>\n",
       "      <th>t_d</th>\n",
       "      <td></td>\n",
       "      <td></td>\n",
       "      <td>3.0</td>\n",
       "    </tr>\n",
       "  </tbody>\n",
       "</table>\n",
       "</div>"
      ],
      "text/plain": [
       "          Garch    EWMA   A-B\n",
       "Sum_QL  -895.49  -953.5      \n",
       "Avg_d                    0.15\n",
       "t_d                       3.0"
      ]
     },
     "execution_count": 100,
     "metadata": {},
     "output_type": "execute_result"
    }
   ],
   "source": [
    "df_eval_m_aug[['QL_G','QL_E','d']] = 5\n",
    "\n",
    "df_eval_m_aug['QL_G']=np.log(df_eval_m_aug['z_garch']**2)-df_eval_m_aug['z_garch']**2\n",
    "df_eval_m_aug['QL_E']=np.log(df_eval_m_aug['z_emwa']**2)-df_eval_m_aug['z_emwa']**2\n",
    "df_eval_m_aug['d'] = df_eval_m_aug['QL_G'] - df_eval_m_aug['QL_E']\n",
    "\n",
    "mean_d_m_aug = np.round(df_eval_m_aug['d'].mean(),2)\n",
    "std_d_m_aug = np.round(df_eval_m_aug['d'].std()/((len(portfolio_ret_m_aug)-25)**0.5),2)\n",
    "t_d_m_aug = np.round(mean_d_m_aug/std_d_m_aug.round(2),2)\n",
    "sum_QL1_m_aug = np.round(df_eval_m_aug['QL_G'].sum(),2)\n",
    "sum_QL2_m_aug = np.round(df_eval_m_aug['QL_E'].sum(),2)\n",
    "\n",
    "\n",
    "df_QL_m_aug = pd.DataFrame(index=['Sum_QL','Avg_d','t_d'], columns=['Garch', 'EWMA', 'A-B'], data= [[f'{sum_QL1_m_aug:,}',f'{sum_QL2_m_aug:,}',''],['','',mean_d_m_aug],['','',t_d_m_aug]])\n",
    "df_QL_m_aug"
   ]
  },
  {
   "cell_type": "markdown",
   "id": "8547a806",
   "metadata": {},
   "source": [
    "# Evaluation of VaR"
   ]
  },
  {
   "cell_type": "code",
   "execution_count": 101,
   "id": "5ec895e2",
   "metadata": {},
   "outputs": [],
   "source": [
    "df_eval_m_aug[['p_VaR_t','h_VaR_t','fhg_VaR_t','fhe_VaR_t','wh_VaR_t']] = 5"
   ]
  },
  {
   "cell_type": "code",
   "execution_count": 107,
   "id": "c2aacdf7",
   "metadata": {},
   "outputs": [],
   "source": [
    "a_aug = []\n",
    "for i in range(0,len(df_eval_m_aug)):\n",
    "    v= portfolio_ret_m_aug.iloc[i:24+i,0].std()\n",
    "    a_aug.append(-sp.norm.ppf(0.95)*v)\n",
    "    \n",
    "df_eval_m_aug['p_VaR_t'] = a_aug\n",
    "\n",
    "b_aug = []\n",
    "for i in range(0,len(df_eval_m_aug)):\n",
    "    b_aug.append(portfolio_ret_m_aug.iloc[i:24+i,0].quantile(q=0.05))\n",
    "    \n",
    "df_eval_m_aug['h_VaR_t'] = b_aug\n",
    "\n",
    "c_aug = []\n",
    "for i in range(0,len(df_eval_m_aug)):\n",
    "    if i < len(df_eval_m_aug)-1:\n",
    "        c_aug.append((portfolio_ret_m_aug.iloc[i:24+i,0]*portfolio_ret_m_aug.iloc[24+i+1,3]/portfolio_ret_m_aug.iloc[i:24+i,3]).quantile(q=0.05))\n",
    "    else:\n",
    "        c_aug.append((portfolio_ret_m_aug.iloc[i:24+i,0]*forc_vol_garch_m_aug[0]/portfolio_ret_m_aug.iloc[i:24+i,3]).quantile(q=0.05))\n",
    "    \n",
    "df_eval_m_aug['fhg_VaR_t'] = c_aug\n",
    "\n",
    "d_aug = []\n",
    "for i in range(0,len(df_eval_m_aug)):\n",
    "    if i < len(df_eval_m_aug)-1:\n",
    "        d_aug.append((portfolio_ret_m_aug.iloc[i:24+i,0]*portfolio_ret_m_aug.iloc[24+i+1,4]/portfolio_ret_m_aug.iloc[i:24+i,4]).quantile(q=0.05))\n",
    "    else:\n",
    "        d_aug.append((portfolio_ret_m_aug.iloc[i:24+i,0]*forc_vol_emwa_m_aug[0]/portfolio_ret_m_aug.iloc[i:24+i,4]).quantile(q=0.05))\n",
    "    \n",
    "df_eval_m_aug['fhe_VaR_t'] = d_aug"
   ]
  },
  {
   "cell_type": "code",
   "execution_count": 108,
   "id": "7911fbd4",
   "metadata": {},
   "outputs": [],
   "source": [
    "e_aug = []\n",
    "for i in range(0,len(df_eval_m_aug)):\n",
    "    weights_temp_aug=[]\n",
    "    temp_aug=[]\n",
    "    w_temp_df_aug=[]\n",
    "    s_aug=0\n",
    "    \n",
    "    weights_temp_aug = weights_emwa_m_aug.iloc[i:24+i,0]\n",
    "    s_aug = weights_temp_aug.sum()\n",
    "    weights_temp_aug = weights_temp_aug/s_aug \n",
    "    temp_aug = pd.DataFrame(portfolio_ret_m_aug.iloc[i:24+i,0])\n",
    "    temp_aug['w'] = weights_temp_aug\n",
    "    temp_aug.sort_values('ret', inplace=True)\n",
    "    temp_aug['acum_weights'] = 0\n",
    "    for y in range(0, len(temp_aug.index)):\n",
    "        if y==0:\n",
    "            temp_aug.iloc[y, 2] = temp_aug.iloc[y, 1]\n",
    "        else: temp_aug.iloc[y, 2] = temp_aug.iloc[y-1, 2] + temp_aug.iloc[y, 1]\n",
    "    w_temp_df_aug=temp_aug.loc[temp_aug['acum_weights']<=0.05,['ret','w','acum_weights']]\n",
    "    hr_t_aug=temp_aug.iloc[len(w_temp_df_aug),0]\n",
    "    hw_t_aug=temp_aug.iloc[len(w_temp_df_aug),2]\n",
    "    if len(w_temp_df_aug.index) > 0:\n",
    "        lr_t_aug=w_temp_df_aug.iloc[-1,0]\n",
    "        lw_t_aug=w_temp_df_aug.iloc[-1,2]\n",
    "        e_aug.append(lr_t_aug+(0.05-lw_t_aug)/(hw_t_aug-lw_t_aug)*(hr_t_aug-lr_t_aug))\n",
    "    else:\n",
    "        e_aug.append(temp_aug.iloc[0,0])\n",
    "    \n",
    "df_eval_m_aug['wh_VaR_t'] = e_aug"
   ]
  },
  {
   "cell_type": "code",
   "execution_count": 109,
   "id": "fb6dd756",
   "metadata": {},
   "outputs": [
    {
     "data": {
      "image/png": "[encoded data removed]",
      "text/plain": [
       "<Figure size 432x288 with 1 Axes>"
      ]
     },
     "metadata": {
      "needs_background": "light"
     },
     "output_type": "display_data"
    }
   ],
   "source": [
    "ax = (df_eval_m_aug[['p_VaR_t','h_VaR_t']]*100).plot()\n",
    "ax = (df_eval_m_aug['fhg_VaR_t']*100).plot(alpha=0.4)\n",
    "ax = (df_eval_m_aug['fhe_VaR_t']*100).plot(alpha=0.4)\n",
    "ax = (df_eval_m_aug['wh_VaR_t']*100).plot(alpha=0.4)\n",
    "ax = (df_eval_m_aug['ret']*100).plot(alpha=0.3)\n",
    "plt.legend()\n",
    "ax.yaxis.set_major_formatter(mtick.PercentFormatter())"
   ]
  },
  {
   "cell_type": "code",
   "execution_count": 111,
   "id": "72921db6",
   "metadata": {},
   "outputs": [
    {
     "data": {
      "text/html": [
       "<div>\n",
       "<style scoped>\n",
       "    .dataframe tbody tr th:only-of-type {\n",
       "        vertical-align: middle;\n",
       "    }\n",
       "\n",
       "    .dataframe tbody tr th {\n",
       "        vertical-align: top;\n",
       "    }\n",
       "\n",
       "    .dataframe thead th {\n",
       "        text-align: right;\n",
       "    }\n",
       "</style>\n",
       "<table border=\"1\" class=\"dataframe\">\n",
       "  <thead>\n",
       "    <tr style=\"text-align: right;\">\n",
       "      <th></th>\n",
       "      <th>Average Number of Excedences per Year</th>\n",
       "    </tr>\n",
       "  </thead>\n",
       "  <tbody>\n",
       "    <tr>\n",
       "      <th>p_VaR_t</th>\n",
       "      <td>0.50</td>\n",
       "    </tr>\n",
       "    <tr>\n",
       "      <th>h_VaR_t</th>\n",
       "      <td>0.97</td>\n",
       "    </tr>\n",
       "    <tr>\n",
       "      <th>fhg_VaR_t</th>\n",
       "      <td>1.00</td>\n",
       "    </tr>\n",
       "    <tr>\n",
       "      <th>fhe_VaR_t</th>\n",
       "      <td>0.97</td>\n",
       "    </tr>\n",
       "    <tr>\n",
       "      <th>wh_VaR_t</th>\n",
       "      <td>0.50</td>\n",
       "    </tr>\n",
       "  </tbody>\n",
       "</table>\n",
       "</div>"
      ],
      "text/plain": [
       "           Average Number of Excedences per Year\n",
       "p_VaR_t                                     0.50\n",
       "h_VaR_t                                     0.97\n",
       "fhg_VaR_t                                   1.00\n",
       "fhe_VaR_t                                   0.97\n",
       "wh_VaR_t                                    0.50"
      ]
     },
     "execution_count": 111,
     "metadata": {},
     "output_type": "execute_result"
    }
   ],
   "source": [
    "VaR_t_m_aug=pd.DataFrame(index=df_eval_m_aug.index, columns= ['p_VaR_t','h_VaR_t','fhg_VaR_t','fhe_VaR_t','wh_VaR_t'])\n",
    "\n",
    "VaR_t_m_aug['p_VaR_t']= df_eval_m_aug['ret']<df_eval_m_aug['p_VaR_t']\n",
    "VaR_t_m_aug['h_VaR_t']= df_eval_m_aug['ret']<df_eval_m_aug['h_VaR_t']\n",
    "VaR_t_m_aug['fhg_VaR_t']= df_eval_m_aug['ret']<df_eval_m_aug['fhg_VaR_t']\n",
    "VaR_t_m_aug['fhe_VaR_t']= df_eval_m_aug['ret']<df_eval_m_aug['fhe_VaR_t']\n",
    "VaR_t_m_aug['wh_VaR_t']= df_eval_m_aug['ret']<df_eval_m_aug['wh_VaR_t']\n",
    "\n",
    "VaR_t_2_m_aug=VaR_t_m_aug.groupby(pd.Grouper(freq='Y')).sum()\n",
    "pd.DataFrame(columns=['Average Number of Excedences per Year'],data=VaR_t_2_m_aug.mean().round(2))"
   ]
  },
  {
   "cell_type": "code",
   "execution_count": 112,
   "id": "c1b9da97",
   "metadata": {},
   "outputs": [
    {
     "data": {
      "text/plain": [
       "Text(0, 0.5, 'Average Number of Excedences per Year')"
      ]
     },
     "execution_count": 112,
     "metadata": {},
     "output_type": "execute_result"
    },
    {
     "data": {
      "image/png": "[encoded data removed]",
      "text/plain": [
       "<Figure size 432x288 with 1 Axes>"
      ]
     },
     "metadata": {
      "needs_background": "light"
     },
     "output_type": "display_data"
    }
   ],
   "source": [
    "ax = VaR_t_2_m_aug.plot()\n",
    "plt.ylabel('Average Number of Excedences per Year')"
   ]
  },
  {
   "cell_type": "code",
   "execution_count": 113,
   "id": "b19b4301",
   "metadata": {},
   "outputs": [
    {
     "data": {
      "image/png": "[encoded data removed]",
      "text/plain": [
       "<Figure size 432x288 with 1 Axes>"
      ]
     },
     "metadata": {
      "needs_background": "light"
     },
     "output_type": "display_data"
    }
   ],
   "source": [
    "ax = df_eval_m_aug[['p_VaR_t','fhg_VaR_t','fhe_VaR_t']].plot()\n",
    "ax = df_eval_m_aug['wh_VaR_t'].plot(alpha=0.5)\n",
    "plt.legend()\n",
    "ax.yaxis.set_major_formatter(mtick.PercentFormatter())"
   ]
  },
  {
   "cell_type": "code",
   "execution_count": null,
   "id": "56b309f5",
   "metadata": {},
   "outputs": [],
   "source": []
  }
 ],
 "metadata": {
  "kernelspec": {
   "display_name": "Python 3",
   "language": "python",
   "name": "python3"
  },
  "language_info": {
   "codemirror_mode": {
    "name": "ipython",
    "version": 3
   },
   "file_extension": ".py",
   "mimetype": "text/x-python",
   "name": "python",
   "nbconvert_exporter": "python",
   "pygments_lexer": "ipython3",
   "version": "3.8.8"
  }
 },
 "nbformat": 4,
 "nbformat_minor": 5
}
