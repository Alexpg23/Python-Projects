{
 "cells": [
  {
   "cell_type": "code",
   "execution_count": 1,
   "id": "88408631",
   "metadata": {},
   "outputs": [],
   "source": [
    "import pandas as pd\n",
    "import numpy as np\n",
    "from pandas.tseries.offsets import MonthEnd\n",
    "import matplotlib.pyplot as plt\n",
    "import scipy.stats as sp\n",
    "from arch import arch_model\n",
    "from arch.univariate import ZeroMean,GARCH,Normal,EWMAVariance"
   ]
  },
  {
   "cell_type": "code",
   "execution_count": 2,
   "id": "9f8bef6f",
   "metadata": {},
   "outputs": [],
   "source": [
    "df=pd.read_excel(\"data.xlsx\" ,index_col=0, parse_dates=True)"
   ]
  },
  {
   "cell_type": "code",
   "execution_count": 3,
   "id": "1c2d558d",
   "metadata": {},
   "outputs": [
    {
     "data": {
      "text/html": [
       "<div>\n",
       "<style scoped>\n",
       "    .dataframe tbody tr th:only-of-type {\n",
       "        vertical-align: middle;\n",
       "    }\n",
       "\n",
       "    .dataframe tbody tr th {\n",
       "        vertical-align: top;\n",
       "    }\n",
       "\n",
       "    .dataframe thead th {\n",
       "        text-align: right;\n",
       "    }\n",
       "</style>\n",
       "<table border=\"1\" class=\"dataframe\">\n",
       "  <thead>\n",
       "    <tr style=\"text-align: right;\">\n",
       "      <th></th>\n",
       "      <th>Equities</th>\n",
       "      <th>Tsies</th>\n",
       "      <th>CorpIG</th>\n",
       "      <th>AbsReturn</th>\n",
       "      <th>Gold</th>\n",
       "      <th>Oil</th>\n",
       "    </tr>\n",
       "    <tr>\n",
       "      <th>date</th>\n",
       "      <th></th>\n",
       "      <th></th>\n",
       "      <th></th>\n",
       "      <th></th>\n",
       "      <th></th>\n",
       "      <th></th>\n",
       "    </tr>\n",
       "  </thead>\n",
       "  <tbody>\n",
       "    <tr>\n",
       "      <th>1986-10-31</th>\n",
       "      <td>100.000000</td>\n",
       "      <td>100.000000</td>\n",
       "      <td>100.000000</td>\n",
       "      <td>100.000000</td>\n",
       "      <td>100.000000</td>\n",
       "      <td>100.000000</td>\n",
       "    </tr>\n",
       "    <tr>\n",
       "      <th>1986-11-03</th>\n",
       "      <td>100.621000</td>\n",
       "      <td>100.350693</td>\n",
       "      <td>100.169884</td>\n",
       "      <td>99.888000</td>\n",
       "      <td>101.296758</td>\n",
       "      <td>96.393443</td>\n",
       "    </tr>\n",
       "    <tr>\n",
       "      <th>1986-11-04</th>\n",
       "      <td>100.853435</td>\n",
       "      <td>100.210050</td>\n",
       "      <td>100.336838</td>\n",
       "      <td>100.069796</td>\n",
       "      <td>101.745636</td>\n",
       "      <td>98.688525</td>\n",
       "    </tr>\n",
       "    <tr>\n",
       "      <th>1986-11-05</th>\n",
       "      <td>101.086406</td>\n",
       "      <td>100.703160</td>\n",
       "      <td>100.503793</td>\n",
       "      <td>100.616177</td>\n",
       "      <td>101.059850</td>\n",
       "      <td>97.901639</td>\n",
       "    </tr>\n",
       "    <tr>\n",
       "      <th>1986-11-06</th>\n",
       "      <td>100.865027</td>\n",
       "      <td>100.138867</td>\n",
       "      <td>100.480361</td>\n",
       "      <td>100.714781</td>\n",
       "      <td>101.882793</td>\n",
       "      <td>98.885246</td>\n",
       "    </tr>\n",
       "    <tr>\n",
       "      <th>...</th>\n",
       "      <td>...</td>\n",
       "      <td>...</td>\n",
       "      <td>...</td>\n",
       "      <td>...</td>\n",
       "      <td>...</td>\n",
       "      <td>...</td>\n",
       "    </tr>\n",
       "    <tr>\n",
       "      <th>2021-10-25</th>\n",
       "      <td>4081.420245</td>\n",
       "      <td>152.128638</td>\n",
       "      <td>1029.079406</td>\n",
       "      <td>1609.593575</td>\n",
       "      <td>450.187032</td>\n",
       "      <td>555.016393</td>\n",
       "    </tr>\n",
       "    <tr>\n",
       "      <th>2021-10-26</th>\n",
       "      <td>4083.052813</td>\n",
       "      <td>152.268491</td>\n",
       "      <td>1031.343546</td>\n",
       "      <td>1600.354508</td>\n",
       "      <td>445.274314</td>\n",
       "      <td>561.573770</td>\n",
       "    </tr>\n",
       "    <tr>\n",
       "      <th>2021-10-27</th>\n",
       "      <td>4052.021612</td>\n",
       "      <td>153.534099</td>\n",
       "      <td>1038.844791</td>\n",
       "      <td>1589.936200</td>\n",
       "      <td>447.693267</td>\n",
       "      <td>542.032787</td>\n",
       "    </tr>\n",
       "    <tr>\n",
       "      <th>2021-10-28</th>\n",
       "      <td>4098.214658</td>\n",
       "      <td>153.109371</td>\n",
       "      <td>1035.751735</td>\n",
       "      <td>1579.363124</td>\n",
       "      <td>449.750623</td>\n",
       "      <td>542.819672</td>\n",
       "    </tr>\n",
       "    <tr>\n",
       "      <th>2021-10-29</th>\n",
       "      <td>4107.230731</td>\n",
       "      <td>153.392027</td>\n",
       "      <td>1035.775168</td>\n",
       "      <td>1567.202028</td>\n",
       "      <td>441.184539</td>\n",
       "      <td>547.540984</td>\n",
       "    </tr>\n",
       "  </tbody>\n",
       "</table>\n",
       "<p>8821 rows × 6 columns</p>\n",
       "</div>"
      ],
      "text/plain": [
       "               Equities       Tsies       CorpIG    AbsReturn        Gold  \\\n",
       "date                                                                        \n",
       "1986-10-31   100.000000  100.000000   100.000000   100.000000  100.000000   \n",
       "1986-11-03   100.621000  100.350693   100.169884    99.888000  101.296758   \n",
       "1986-11-04   100.853435  100.210050   100.336838   100.069796  101.745636   \n",
       "1986-11-05   101.086406  100.703160   100.503793   100.616177  101.059850   \n",
       "1986-11-06   100.865027  100.138867   100.480361   100.714781  101.882793   \n",
       "...                 ...         ...          ...          ...         ...   \n",
       "2021-10-25  4081.420245  152.128638  1029.079406  1609.593575  450.187032   \n",
       "2021-10-26  4083.052813  152.268491  1031.343546  1600.354508  445.274314   \n",
       "2021-10-27  4052.021612  153.534099  1038.844791  1589.936200  447.693267   \n",
       "2021-10-28  4098.214658  153.109371  1035.751735  1579.363124  449.750623   \n",
       "2021-10-29  4107.230731  153.392027  1035.775168  1567.202028  441.184539   \n",
       "\n",
       "                   Oil  \n",
       "date                    \n",
       "1986-10-31  100.000000  \n",
       "1986-11-03   96.393443  \n",
       "1986-11-04   98.688525  \n",
       "1986-11-05   97.901639  \n",
       "1986-11-06   98.885246  \n",
       "...                ...  \n",
       "2021-10-25  555.016393  \n",
       "2021-10-26  561.573770  \n",
       "2021-10-27  542.032787  \n",
       "2021-10-28  542.819672  \n",
       "2021-10-29  547.540984  \n",
       "\n",
       "[8821 rows x 6 columns]"
      ]
     },
     "execution_count": 3,
     "metadata": {},
     "output_type": "execute_result"
    }
   ],
   "source": [
    "df"
   ]
  },
  {
   "cell_type": "markdown",
   "id": "8a035388",
   "metadata": {},
   "source": [
    "# Creating Returns and Analysing results"
   ]
  },
  {
   "cell_type": "code",
   "execution_count": 4,
   "id": "28f28f26",
   "metadata": {},
   "outputs": [
    {
     "data": {
      "text/html": [
       "<div>\n",
       "<style scoped>\n",
       "    .dataframe tbody tr th:only-of-type {\n",
       "        vertical-align: middle;\n",
       "    }\n",
       "\n",
       "    .dataframe tbody tr th {\n",
       "        vertical-align: top;\n",
       "    }\n",
       "\n",
       "    .dataframe thead th {\n",
       "        text-align: right;\n",
       "    }\n",
       "</style>\n",
       "<table border=\"1\" class=\"dataframe\">\n",
       "  <thead>\n",
       "    <tr style=\"text-align: right;\">\n",
       "      <th></th>\n",
       "      <th>Equities</th>\n",
       "      <th>Tsies</th>\n",
       "      <th>CorpIG</th>\n",
       "      <th>AbsReturn</th>\n",
       "      <th>Gold</th>\n",
       "      <th>Oil</th>\n",
       "    </tr>\n",
       "    <tr>\n",
       "      <th>date</th>\n",
       "      <th></th>\n",
       "      <th></th>\n",
       "      <th></th>\n",
       "      <th></th>\n",
       "      <th></th>\n",
       "      <th></th>\n",
       "    </tr>\n",
       "  </thead>\n",
       "  <tbody>\n",
       "    <tr>\n",
       "      <th>1986-11-03</th>\n",
       "      <td>0.00621</td>\n",
       "      <td>0.003507</td>\n",
       "      <td>0.001699</td>\n",
       "      <td>-0.00112</td>\n",
       "      <td>0.012968</td>\n",
       "      <td>-0.036066</td>\n",
       "    </tr>\n",
       "    <tr>\n",
       "      <th>1986-11-04</th>\n",
       "      <td>0.00231</td>\n",
       "      <td>-0.001402</td>\n",
       "      <td>0.001667</td>\n",
       "      <td>0.00182</td>\n",
       "      <td>0.004431</td>\n",
       "      <td>0.023810</td>\n",
       "    </tr>\n",
       "    <tr>\n",
       "      <th>1986-11-05</th>\n",
       "      <td>0.00231</td>\n",
       "      <td>0.004921</td>\n",
       "      <td>0.001664</td>\n",
       "      <td>0.00546</td>\n",
       "      <td>-0.006740</td>\n",
       "      <td>-0.007973</td>\n",
       "    </tr>\n",
       "    <tr>\n",
       "      <th>1986-11-06</th>\n",
       "      <td>-0.00219</td>\n",
       "      <td>-0.005604</td>\n",
       "      <td>-0.000233</td>\n",
       "      <td>0.00098</td>\n",
       "      <td>0.008143</td>\n",
       "      <td>0.010047</td>\n",
       "    </tr>\n",
       "    <tr>\n",
       "      <th>1986-11-07</th>\n",
       "      <td>0.00001</td>\n",
       "      <td>-0.005583</td>\n",
       "      <td>-0.002303</td>\n",
       "      <td>0.00252</td>\n",
       "      <td>-0.000857</td>\n",
       "      <td>0.004642</td>\n",
       "    </tr>\n",
       "    <tr>\n",
       "      <th>...</th>\n",
       "      <td>...</td>\n",
       "      <td>...</td>\n",
       "      <td>...</td>\n",
       "      <td>...</td>\n",
       "      <td>...</td>\n",
       "      <td>...</td>\n",
       "    </tr>\n",
       "    <tr>\n",
       "      <th>2021-10-25</th>\n",
       "      <td>0.00580</td>\n",
       "      <td>0.001838</td>\n",
       "      <td>0.001437</td>\n",
       "      <td>-0.00630</td>\n",
       "      <td>-0.001659</td>\n",
       "      <td>0.001301</td>\n",
       "    </tr>\n",
       "    <tr>\n",
       "      <th>2021-10-26</th>\n",
       "      <td>0.00040</td>\n",
       "      <td>0.000919</td>\n",
       "      <td>0.002200</td>\n",
       "      <td>-0.00574</td>\n",
       "      <td>-0.010913</td>\n",
       "      <td>0.011815</td>\n",
       "    </tr>\n",
       "    <tr>\n",
       "      <th>2021-10-27</th>\n",
       "      <td>-0.00760</td>\n",
       "      <td>0.008312</td>\n",
       "      <td>0.007273</td>\n",
       "      <td>-0.00651</td>\n",
       "      <td>0.005432</td>\n",
       "      <td>-0.034797</td>\n",
       "    </tr>\n",
       "    <tr>\n",
       "      <th>2021-10-28</th>\n",
       "      <td>0.01140</td>\n",
       "      <td>-0.002766</td>\n",
       "      <td>-0.002977</td>\n",
       "      <td>-0.00665</td>\n",
       "      <td>0.004595</td>\n",
       "      <td>0.001452</td>\n",
       "    </tr>\n",
       "    <tr>\n",
       "      <th>2021-10-29</th>\n",
       "      <td>0.00220</td>\n",
       "      <td>0.001846</td>\n",
       "      <td>0.000023</td>\n",
       "      <td>-0.00770</td>\n",
       "      <td>-0.019046</td>\n",
       "      <td>0.008698</td>\n",
       "    </tr>\n",
       "  </tbody>\n",
       "</table>\n",
       "<p>8820 rows × 6 columns</p>\n",
       "</div>"
      ],
      "text/plain": [
       "            Equities     Tsies    CorpIG  AbsReturn      Gold       Oil\n",
       "date                                                                   \n",
       "1986-11-03   0.00621  0.003507  0.001699   -0.00112  0.012968 -0.036066\n",
       "1986-11-04   0.00231 -0.001402  0.001667    0.00182  0.004431  0.023810\n",
       "1986-11-05   0.00231  0.004921  0.001664    0.00546 -0.006740 -0.007973\n",
       "1986-11-06  -0.00219 -0.005604 -0.000233    0.00098  0.008143  0.010047\n",
       "1986-11-07   0.00001 -0.005583 -0.002303    0.00252 -0.000857  0.004642\n",
       "...              ...       ...       ...        ...       ...       ...\n",
       "2021-10-25   0.00580  0.001838  0.001437   -0.00630 -0.001659  0.001301\n",
       "2021-10-26   0.00040  0.000919  0.002200   -0.00574 -0.010913  0.011815\n",
       "2021-10-27  -0.00760  0.008312  0.007273   -0.00651  0.005432 -0.034797\n",
       "2021-10-28   0.01140 -0.002766 -0.002977   -0.00665  0.004595  0.001452\n",
       "2021-10-29   0.00220  0.001846  0.000023   -0.00770 -0.019046  0.008698\n",
       "\n",
       "[8820 rows x 6 columns]"
      ]
     },
     "execution_count": 4,
     "metadata": {},
     "output_type": "execute_result"
    }
   ],
   "source": [
    "df_d_ret=df/df.shift(1)-1\n",
    "df_d_ret.dropna(inplace=True)\n",
    "df_d_ret"
   ]
  },
  {
   "cell_type": "code",
   "execution_count": 5,
   "id": "ed17b0bf",
   "metadata": {},
   "outputs": [
    {
     "data": {
      "text/html": [
       "<div>\n",
       "<style scoped>\n",
       "    .dataframe tbody tr th:only-of-type {\n",
       "        vertical-align: middle;\n",
       "    }\n",
       "\n",
       "    .dataframe tbody tr th {\n",
       "        vertical-align: top;\n",
       "    }\n",
       "\n",
       "    .dataframe thead th {\n",
       "        text-align: right;\n",
       "    }\n",
       "</style>\n",
       "<table border=\"1\" class=\"dataframe\">\n",
       "  <thead>\n",
       "    <tr style=\"text-align: right;\">\n",
       "      <th></th>\n",
       "      <th>Equities</th>\n",
       "      <th>Tsies</th>\n",
       "      <th>CorpIG</th>\n",
       "      <th>AbsReturn</th>\n",
       "      <th>Gold</th>\n",
       "      <th>Oil</th>\n",
       "    </tr>\n",
       "    <tr>\n",
       "      <th>date</th>\n",
       "      <th></th>\n",
       "      <th></th>\n",
       "      <th></th>\n",
       "      <th></th>\n",
       "      <th></th>\n",
       "      <th></th>\n",
       "    </tr>\n",
       "  </thead>\n",
       "  <tbody>\n",
       "    <tr>\n",
       "      <th>1986-11-30</th>\n",
       "      <td>0.015783</td>\n",
       "      <td>0.013404</td>\n",
       "      <td>0.017311</td>\n",
       "      <td>0.015520</td>\n",
       "      <td>-0.028678</td>\n",
       "      <td>-0.016393</td>\n",
       "    </tr>\n",
       "    <tr>\n",
       "      <th>1986-12-31</th>\n",
       "      <td>-0.028032</td>\n",
       "      <td>-0.005662</td>\n",
       "      <td>0.011171</td>\n",
       "      <td>0.013714</td>\n",
       "      <td>-0.001926</td>\n",
       "      <td>0.195333</td>\n",
       "    </tr>\n",
       "    <tr>\n",
       "      <th>1987-01-31</th>\n",
       "      <td>0.128832</td>\n",
       "      <td>0.003491</td>\n",
       "      <td>0.015917</td>\n",
       "      <td>-0.022385</td>\n",
       "      <td>0.030225</td>\n",
       "      <td>0.044618</td>\n",
       "    </tr>\n",
       "    <tr>\n",
       "      <th>1987-02-28</th>\n",
       "      <td>0.048564</td>\n",
       "      <td>-0.000733</td>\n",
       "      <td>0.007259</td>\n",
       "      <td>-0.057454</td>\n",
       "      <td>0.013358</td>\n",
       "      <td>-0.121730</td>\n",
       "    </tr>\n",
       "    <tr>\n",
       "      <th>1987-03-31</th>\n",
       "      <td>0.020713</td>\n",
       "      <td>-0.022195</td>\n",
       "      <td>-0.005064</td>\n",
       "      <td>0.053161</td>\n",
       "      <td>0.037329</td>\n",
       "      <td>0.144073</td>\n",
       "    </tr>\n",
       "    <tr>\n",
       "      <th>...</th>\n",
       "      <td>...</td>\n",
       "      <td>...</td>\n",
       "      <td>...</td>\n",
       "      <td>...</td>\n",
       "      <td>...</td>\n",
       "      <td>...</td>\n",
       "    </tr>\n",
       "    <tr>\n",
       "      <th>2021-06-30</th>\n",
       "      <td>0.027363</td>\n",
       "      <td>0.012022</td>\n",
       "      <td>0.016835</td>\n",
       "      <td>-0.072918</td>\n",
       "      <td>-0.072002</td>\n",
       "      <td>0.108732</td>\n",
       "    </tr>\n",
       "    <tr>\n",
       "      <th>2021-07-31</th>\n",
       "      <td>0.012483</td>\n",
       "      <td>0.019682</td>\n",
       "      <td>0.012074</td>\n",
       "      <td>0.022422</td>\n",
       "      <td>0.035505</td>\n",
       "      <td>0.005577</td>\n",
       "    </tr>\n",
       "    <tr>\n",
       "      <th>2021-08-31</th>\n",
       "      <td>0.029175</td>\n",
       "      <td>-0.005652</td>\n",
       "      <td>-0.001959</td>\n",
       "      <td>-0.014198</td>\n",
       "      <td>-0.005970</td>\n",
       "      <td>-0.074395</td>\n",
       "    </tr>\n",
       "    <tr>\n",
       "      <th>2021-09-30</th>\n",
       "      <td>-0.043660</td>\n",
       "      <td>-0.020315</td>\n",
       "      <td>-0.010571</td>\n",
       "      <td>0.036912</td>\n",
       "      <td>-0.039700</td>\n",
       "      <td>0.099225</td>\n",
       "    </tr>\n",
       "    <tr>\n",
       "      <th>2021-10-31</th>\n",
       "      <td>0.066594</td>\n",
       "      <td>-0.002825</td>\n",
       "      <td>0.002407</td>\n",
       "      <td>-0.000948</td>\n",
       "      <td>0.015119</td>\n",
       "      <td>0.110077</td>\n",
       "    </tr>\n",
       "  </tbody>\n",
       "</table>\n",
       "<p>420 rows × 6 columns</p>\n",
       "</div>"
      ],
      "text/plain": [
       "            Equities     Tsies    CorpIG  AbsReturn      Gold       Oil\n",
       "date                                                                   \n",
       "1986-11-30  0.015783  0.013404  0.017311   0.015520 -0.028678 -0.016393\n",
       "1986-12-31 -0.028032 -0.005662  0.011171   0.013714 -0.001926  0.195333\n",
       "1987-01-31  0.128832  0.003491  0.015917  -0.022385  0.030225  0.044618\n",
       "1987-02-28  0.048564 -0.000733  0.007259  -0.057454  0.013358 -0.121730\n",
       "1987-03-31  0.020713 -0.022195 -0.005064   0.053161  0.037329  0.144073\n",
       "...              ...       ...       ...        ...       ...       ...\n",
       "2021-06-30  0.027363  0.012022  0.016835  -0.072918 -0.072002  0.108732\n",
       "2021-07-31  0.012483  0.019682  0.012074   0.022422  0.035505  0.005577\n",
       "2021-08-31  0.029175 -0.005652 -0.001959  -0.014198 -0.005970 -0.074395\n",
       "2021-09-30 -0.043660 -0.020315 -0.010571   0.036912 -0.039700  0.099225\n",
       "2021-10-31  0.066594 -0.002825  0.002407  -0.000948  0.015119  0.110077\n",
       "\n",
       "[420 rows x 6 columns]"
      ]
     },
     "execution_count": 5,
     "metadata": {},
     "output_type": "execute_result"
    }
   ],
   "source": [
    "df_d_ret_2=df_d_ret+1\n",
    "df_monthly_ret=df_d_ret_2.groupby(pd.Grouper(freq='M')).prod()-1\n",
    "df_monthly_ret"
   ]
  },
  {
   "cell_type": "code",
   "execution_count": 6,
   "id": "bf27a092",
   "metadata": {},
   "outputs": [],
   "source": [
    "weights=pd.DataFrame(index=[\"weights\"],columns=df.columns,data=[[0.5,0.25,0.05,0.12,0.05,0.03]])"
   ]
  },
  {
   "cell_type": "code",
   "execution_count": 7,
   "id": "510d0225",
   "metadata": {},
   "outputs": [
    {
     "data": {
      "text/html": [
       "<div>\n",
       "<style scoped>\n",
       "    .dataframe tbody tr th:only-of-type {\n",
       "        vertical-align: middle;\n",
       "    }\n",
       "\n",
       "    .dataframe tbody tr th {\n",
       "        vertical-align: top;\n",
       "    }\n",
       "\n",
       "    .dataframe thead th {\n",
       "        text-align: right;\n",
       "    }\n",
       "</style>\n",
       "<table border=\"1\" class=\"dataframe\">\n",
       "  <thead>\n",
       "    <tr style=\"text-align: right;\">\n",
       "      <th></th>\n",
       "      <th>Equities</th>\n",
       "      <th>Tsies</th>\n",
       "      <th>CorpIG</th>\n",
       "      <th>AbsReturn</th>\n",
       "      <th>Gold</th>\n",
       "      <th>Oil</th>\n",
       "    </tr>\n",
       "  </thead>\n",
       "  <tbody>\n",
       "    <tr>\n",
       "      <th>weights</th>\n",
       "      <td>0.5</td>\n",
       "      <td>0.25</td>\n",
       "      <td>0.05</td>\n",
       "      <td>0.12</td>\n",
       "      <td>0.05</td>\n",
       "      <td>0.03</td>\n",
       "    </tr>\n",
       "  </tbody>\n",
       "</table>\n",
       "</div>"
      ],
      "text/plain": [
       "         Equities  Tsies  CorpIG  AbsReturn  Gold   Oil\n",
       "weights       0.5   0.25    0.05       0.12  0.05  0.03"
      ]
     },
     "execution_count": 7,
     "metadata": {},
     "output_type": "execute_result"
    }
   ],
   "source": [
    "weights"
   ]
  },
  {
   "cell_type": "code",
   "execution_count": 8,
   "id": "f144a8ef",
   "metadata": {},
   "outputs": [],
   "source": [
    "portfolio_ret_d=pd.DataFrame(index=df_d_ret.index,columns=[\"ret\"], data=np.dot(df_d_ret,weights.T)).dropna()"
   ]
  },
  {
   "cell_type": "code",
   "execution_count": 9,
   "id": "1794bb8d",
   "metadata": {},
   "outputs": [],
   "source": [
    "portfolio_ret_m=pd.DataFrame(index=df_monthly_ret.index,columns=[\"ret\"], data=np.dot(df_monthly_ret,weights.T))"
   ]
  },
  {
   "cell_type": "code",
   "execution_count": 10,
   "id": "a096830c",
   "metadata": {},
   "outputs": [
    {
     "data": {
      "text/plain": [
       "<AxesSubplot:xlabel='date'>"
      ]
     },
     "execution_count": 10,
     "metadata": {},
     "output_type": "execute_result"
    },
    {
     "data": {
      "image/png": "[encoded data removed]",
      "text/plain": [
       "<Figure size 432x288 with 1 Axes>"
      ]
     },
     "metadata": {
      "needs_background": "light"
     },
     "output_type": "display_data"
    }
   ],
   "source": [
    "portfolio_ret_d.plot()"
   ]
  },
  {
   "cell_type": "code",
   "execution_count": 11,
   "id": "35576652",
   "metadata": {},
   "outputs": [
    {
     "data": {
      "text/plain": [
       "array([[<AxesSubplot:title={'center':'ret'}>]], dtype=object)"
      ]
     },
     "execution_count": 11,
     "metadata": {},
     "output_type": "execute_result"
    },
    {
     "data": {
      "image/png": "[encoded data removed]",
      "text/plain": [
       "<Figure size 432x288 with 1 Axes>"
      ]
     },
     "metadata": {
      "needs_background": "light"
     },
     "output_type": "display_data"
    }
   ],
   "source": [
    "portfolio_ret_d.hist()"
   ]
  },
  {
   "cell_type": "code",
   "execution_count": 12,
   "id": "b018b133",
   "metadata": {},
   "outputs": [],
   "source": [
    "mean=portfolio_ret_d['ret'].mean()\n",
    "std=portfolio_ret_d['ret'].std()\n",
    "max_ = portfolio_ret_d['ret'].max()\n",
    "min_ = portfolio_ret_d['ret'].min()\n",
    "kurt = sp.kurtosis(portfolio_ret_d['ret'])\n",
    "skew = sp.skew(portfolio_ret_d['ret'])"
   ]
  },
  {
   "cell_type": "code",
   "execution_count": 13,
   "id": "ec98f1ca",
   "metadata": {},
   "outputs": [],
   "source": [
    "normalized_portfolio_ret=(portfolio_ret_d-mean)/std"
   ]
  },
  {
   "cell_type": "code",
   "execution_count": 14,
   "id": "b1f5307d",
   "metadata": {},
   "outputs": [
    {
     "data": {
      "text/html": [
       "<div>\n",
       "<style scoped>\n",
       "    .dataframe tbody tr th:only-of-type {\n",
       "        vertical-align: middle;\n",
       "    }\n",
       "\n",
       "    .dataframe tbody tr th {\n",
       "        vertical-align: top;\n",
       "    }\n",
       "\n",
       "    .dataframe thead th {\n",
       "        text-align: right;\n",
       "    }\n",
       "</style>\n",
       "<table border=\"1\" class=\"dataframe\">\n",
       "  <thead>\n",
       "    <tr style=\"text-align: right;\">\n",
       "      <th></th>\n",
       "      <th>ret</th>\n",
       "    </tr>\n",
       "    <tr>\n",
       "      <th>date</th>\n",
       "      <th></th>\n",
       "    </tr>\n",
       "  </thead>\n",
       "  <tbody>\n",
       "    <tr>\n",
       "      <th>1986-11-03</th>\n",
       "      <td>0.551166</td>\n",
       "    </tr>\n",
       "    <tr>\n",
       "      <th>1986-11-04</th>\n",
       "      <td>0.297985</td>\n",
       "    </tr>\n",
       "    <tr>\n",
       "      <th>1986-11-05</th>\n",
       "      <td>0.385799</td>\n",
       "    </tr>\n",
       "    <tr>\n",
       "      <th>1986-11-06</th>\n",
       "      <td>-0.349289</td>\n",
       "    </tr>\n",
       "    <tr>\n",
       "      <th>1986-11-07</th>\n",
       "      <td>-0.249476</td>\n",
       "    </tr>\n",
       "    <tr>\n",
       "      <th>...</th>\n",
       "      <td>...</td>\n",
       "    </tr>\n",
       "    <tr>\n",
       "      <th>2021-10-25</th>\n",
       "      <td>0.400394</td>\n",
       "    </tr>\n",
       "    <tr>\n",
       "      <th>2021-10-26</th>\n",
       "      <td>-0.116143</td>\n",
       "    </tr>\n",
       "    <tr>\n",
       "      <th>2021-10-27</th>\n",
       "      <td>-0.563191</td>\n",
       "    </tr>\n",
       "    <tr>\n",
       "      <th>2021-10-28</th>\n",
       "      <td>0.696521</td>\n",
       "    </tr>\n",
       "    <tr>\n",
       "      <th>2021-10-29</th>\n",
       "      <td>-0.066179</td>\n",
       "    </tr>\n",
       "  </tbody>\n",
       "</table>\n",
       "<p>8820 rows × 1 columns</p>\n",
       "</div>"
      ],
      "text/plain": [
       "                 ret\n",
       "date                \n",
       "1986-11-03  0.551166\n",
       "1986-11-04  0.297985\n",
       "1986-11-05  0.385799\n",
       "1986-11-06 -0.349289\n",
       "1986-11-07 -0.249476\n",
       "...              ...\n",
       "2021-10-25  0.400394\n",
       "2021-10-26 -0.116143\n",
       "2021-10-27 -0.563191\n",
       "2021-10-28  0.696521\n",
       "2021-10-29 -0.066179\n",
       "\n",
       "[8820 rows x 1 columns]"
      ]
     },
     "execution_count": 14,
     "metadata": {},
     "output_type": "execute_result"
    }
   ],
   "source": [
    "normalized_portfolio_ret"
   ]
  },
  {
   "cell_type": "code",
   "execution_count": 15,
   "id": "a9db129c",
   "metadata": {},
   "outputs": [],
   "source": [
    "mean_norm = normalized_portfolio_ret['ret'].mean()\n",
    "std_norm = normalized_portfolio_ret['ret'].std()\n",
    "max_norm = normalized_portfolio_ret['ret'].max()\n",
    "min_norm = normalized_portfolio_ret['ret'].min()\n",
    "kurt_norm = sp.kurtosis(normalized_portfolio_ret['ret'])\n",
    "skew_norm = sp.skew(normalized_portfolio_ret['ret'])"
   ]
  },
  {
   "cell_type": "markdown",
   "id": "d20a8fb8",
   "metadata": {},
   "source": [
    "# Fitting Garch Model"
   ]
  },
  {
   "cell_type": "code",
   "execution_count": 16,
   "id": "81e1346c",
   "metadata": {},
   "outputs": [
    {
     "name": "stdout",
     "output_type": "stream",
     "text": [
      "Optimization terminated successfully    (Exit mode 0)\n",
      "            Current function value: 5699.068546236962\n",
      "            Iterations: 9\n",
      "            Function evaluations: 45\n",
      "            Gradient evaluations: 9\n"
     ]
    },
    {
     "data": {
      "text/plain": [
       "                       Zero Mean - GARCH Model Results                        \n",
       "==============================================================================\n",
       "Dep. Variable:                    ret   R-squared:                       0.000\n",
       "Mean Model:                 Zero Mean   Adj. R-squared:                  0.000\n",
       "Vol Model:                      GARCH   Log-Likelihood:               -5699.07\n",
       "Distribution:                  Normal   AIC:                           11404.1\n",
       "Method:            Maximum Likelihood   BIC:                           11425.4\n",
       "                                        No. Observations:                 8820\n",
       "Date:                Thu, Jan 27 2022   Df Residuals:                     8820\n",
       "Time:                        11:06:09   Df Model:                            0\n",
       "                              Volatility Model                              \n",
       "============================================================================\n",
       "                 coef    std err          t      P>|t|      95.0% Conf. Int.\n",
       "----------------------------------------------------------------------------\n",
       "omega      5.0920e-03  1.236e-03      4.118  3.813e-05 [2.669e-03,7.515e-03]\n",
       "alpha[1]       0.0912  1.290e-02      7.071  1.539e-12   [6.592e-02,  0.116]\n",
       "beta[1]        0.8906  1.497e-02     59.512      0.000     [  0.861,  0.920]\n",
       "============================================================================\n",
       "\n",
       "Covariance estimator: robust\n",
       "ARCHModelResult, id: 0x1dc289b7ca0"
      ]
     },
     "execution_count": 16,
     "metadata": {},
     "output_type": "execute_result"
    }
   ],
   "source": [
    "model_garch = arch_model(y=portfolio_ret_d['ret']*100, rescale=True, mean='Zero')\n",
    "res_garch = model_garch.fit(100)\n",
    "res_garch"
   ]
  },
  {
   "cell_type": "code",
   "execution_count": 17,
   "id": "8837ec09",
   "metadata": {},
   "outputs": [
    {
     "data": {
      "text/plain": [
       "1.0"
      ]
     },
     "execution_count": 17,
     "metadata": {},
     "output_type": "execute_result"
    }
   ],
   "source": [
    "scale = res_garch.scale\n",
    "scale"
   ]
  },
  {
   "cell_type": "code",
   "execution_count": 18,
   "id": "ac9ee375",
   "metadata": {},
   "outputs": [
    {
     "name": "stderr",
     "output_type": "stream",
     "text": [
      "C:\\Users\\apala\\anaconda3\\lib\\site-packages\\arch\\__future__\\_utility.py:11: FutureWarning: \n",
      "The default for reindex is True. After September 2021 this will change to\n",
      "False. Set reindex to True or False to silence this message. Alternatively,\n",
      "you can use the import comment\n",
      "\n",
      "from arch.__future__ import reindexing\n",
      "\n",
      "to globally set reindex to True and silence this warning.\n",
      "\n",
      "  warnings.warn(\n"
     ]
    }
   ],
   "source": [
    "forecasts_garch = res_garch.forecast(horizon=1)"
   ]
  },
  {
   "cell_type": "code",
   "execution_count": 19,
   "id": "3ad021db",
   "metadata": {},
   "outputs": [],
   "source": [
    "vol_garch_for = (forecasts_garch.variance.iloc[-1]/10000)**0.5"
   ]
  },
  {
   "cell_type": "code",
   "execution_count": 20,
   "id": "08d6d060",
   "metadata": {},
   "outputs": [
    {
     "data": {
      "text/plain": [
       "0.005752715159760153"
      ]
     },
     "execution_count": 20,
     "metadata": {},
     "output_type": "execute_result"
    }
   ],
   "source": [
    "std"
   ]
  },
  {
   "cell_type": "code",
   "execution_count": 21,
   "id": "0529fdcf",
   "metadata": {},
   "outputs": [
    {
     "data": {
      "text/plain": [
       "h.1    0.003758\n",
       "Name: 2021-10-29 00:00:00, dtype: float64"
      ]
     },
     "execution_count": 21,
     "metadata": {},
     "output_type": "execute_result"
    }
   ],
   "source": [
    "vol_garch_for"
   ]
  },
  {
   "cell_type": "markdown",
   "id": "8fb87585",
   "metadata": {},
   "source": [
    "# Fitting EWMA Model"
   ]
  },
  {
   "cell_type": "code",
   "execution_count": 22,
   "id": "45b09602",
   "metadata": {},
   "outputs": [
    {
     "name": "stdout",
     "output_type": "stream",
     "text": [
      "Iteration:      1,   Func. Count:      3,   Neg. LLF: 128694789.71589002\n",
      "Iteration:      2,   Func. Count:      7,   Neg. LLF: 5803.0148244820975\n",
      "Iteration:      3,   Func. Count:      9,   Neg. LLF: 5803.006571305573\n",
      "Iteration:      4,   Func. Count:     11,   Neg. LLF: 5803.00651967235\n",
      "Iteration:      5,   Func. Count:     12,   Neg. LLF: 5803.0065196720125\n",
      "Optimization terminated successfully    (Exit mode 0)\n",
      "            Current function value: 5803.00651967235\n",
      "            Iterations: 5\n",
      "            Function evaluations: 12\n",
      "            Gradient evaluations: 5\n"
     ]
    },
    {
     "data": {
      "text/plain": [
       "                  Zero Mean - EWMA/RiskMetrics Model Results                  \n",
       "==============================================================================\n",
       "Dep. Variable:                    ret   R-squared:                       0.000\n",
       "Mean Model:                 Zero Mean   Adj. R-squared:                  0.000\n",
       "Vol Model:           EWMA/RiskMetrics   Log-Likelihood:               -5803.01\n",
       "Distribution:                  Normal   AIC:                           11608.0\n",
       "Method:            Maximum Likelihood   BIC:                           11615.1\n",
       "                                        No. Observations:                 8820\n",
       "Date:                Thu, Jan 27 2022   Df Residuals:                     8820\n",
       "Time:                        11:06:10   Df Model:                            0\n",
       "                            Volatility Model                            \n",
       "========================================================================\n",
       "                 coef    std err          t      P>|t|  95.0% Conf. Int.\n",
       "------------------------------------------------------------------------\n",
       "lam            0.9344  7.430e-03    125.758      0.000 [  0.920,  0.949]\n",
       "========================================================================\n",
       "\n",
       "Covariance estimator: robust\n",
       "ARCHModelResult, id: 0x1dc2891f700"
      ]
     },
     "execution_count": 22,
     "metadata": {},
     "output_type": "execute_result"
    }
   ],
   "source": [
    "am = ZeroMean(portfolio_ret_d['ret']*100)\n",
    "am.volatility = EWMAVariance(None)\n",
    "am.distribution = Normal()\n",
    "res = am.fit()\n",
    "res"
   ]
  },
  {
   "cell_type": "code",
   "execution_count": 23,
   "id": "28e157ef",
   "metadata": {},
   "outputs": [
    {
     "name": "stderr",
     "output_type": "stream",
     "text": [
      "C:\\Users\\apala\\anaconda3\\lib\\site-packages\\arch\\__future__\\_utility.py:11: FutureWarning: \n",
      "The default for reindex is True. After September 2021 this will change to\n",
      "False. Set reindex to True or False to silence this message. Alternatively,\n",
      "you can use the import comment\n",
      "\n",
      "from arch.__future__ import reindexing\n",
      "\n",
      "to globally set reindex to True and silence this warning.\n",
      "\n",
      "  warnings.warn(\n"
     ]
    },
    {
     "data": {
      "text/plain": [
       "h.1    0.003701\n",
       "Name: 2021-10-29 00:00:00, dtype: float64"
      ]
     },
     "execution_count": 23,
     "metadata": {},
     "output_type": "execute_result"
    }
   ],
   "source": [
    "forecasts_res = res.forecast(horizon=1)\n",
    "vol_ewma_for = (forecasts_res.variance.iloc[-1]/10000)**0.5\n",
    "\n",
    "vol_ewma_for"
   ]
  },
  {
   "cell_type": "markdown",
   "id": "451ef452",
   "metadata": {},
   "source": [
    "# Definging Garch and Emwa Volatilities\n",
    "# Definging Forecast Parameters: Omega, Alpha, Beta, Lambda"
   ]
  },
  {
   "cell_type": "code",
   "execution_count": 24,
   "id": "f3473dfa",
   "metadata": {},
   "outputs": [],
   "source": [
    "forc_vol_emwa = (forecasts_res.variance.iloc[-1]/10000)**0.5"
   ]
  },
  {
   "cell_type": "code",
   "execution_count": 25,
   "id": "5d63ae47",
   "metadata": {},
   "outputs": [],
   "source": [
    "forc_vol_garch = (forecasts_garch.variance.iloc[-1]/10000)**0.5"
   ]
  },
  {
   "cell_type": "code",
   "execution_count": 26,
   "id": "15cb0eae",
   "metadata": {},
   "outputs": [],
   "source": [
    "omega = res_garch.params[0]/10000\n",
    "alpha = res_garch.params[1]\n",
    "beta = res_garch.params[2]\n",
    "lamb = res.params[0]"
   ]
  },
  {
   "cell_type": "markdown",
   "id": "99a9704e",
   "metadata": {},
   "source": [
    "## Cerating DataFrame with Emua weights"
   ]
  },
  {
   "cell_type": "code",
   "execution_count": 27,
   "id": "6c1a45af",
   "metadata": {},
   "outputs": [],
   "source": [
    "L_weights_emwa = []"
   ]
  },
  {
   "cell_type": "code",
   "execution_count": 28,
   "id": "0dde3120",
   "metadata": {},
   "outputs": [],
   "source": [
    "for t in range(0, len(portfolio_ret_d)):\n",
    "    L_weights_emwa.append((lamb**t)*(1-lamb))"
   ]
  },
  {
   "cell_type": "code",
   "execution_count": 29,
   "id": "c7b32557",
   "metadata": {},
   "outputs": [],
   "source": [
    "L_weights_emwa.reverse()"
   ]
  },
  {
   "cell_type": "code",
   "execution_count": 30,
   "id": "36b1471d",
   "metadata": {},
   "outputs": [],
   "source": [
    "weights_emwa = pd.DataFrame(columns=['weights', 'acum_weights'])\n",
    "weights_emwa['weights'] = L_weights_emwa"
   ]
  },
  {
   "cell_type": "code",
   "execution_count": 31,
   "id": "759c1cb2",
   "metadata": {},
   "outputs": [],
   "source": [
    "for y in range(0, len(weights_emwa)):\n",
    "    if y==0:\n",
    "        weights_emwa.iloc[y, 1] = weights_emwa.iloc[y, 0]\n",
    "    else: weights_emwa.iloc[y, 1] = weights_emwa.iloc[y-1, 1] + weights_emwa.iloc[y, 0]"
   ]
  },
  {
   "cell_type": "code",
   "execution_count": 32,
   "id": "a06514d6",
   "metadata": {},
   "outputs": [
    {
     "data": {
      "text/html": [
       "<div>\n",
       "<style scoped>\n",
       "    .dataframe tbody tr th:only-of-type {\n",
       "        vertical-align: middle;\n",
       "    }\n",
       "\n",
       "    .dataframe tbody tr th {\n",
       "        vertical-align: top;\n",
       "    }\n",
       "\n",
       "    .dataframe thead th {\n",
       "        text-align: right;\n",
       "    }\n",
       "</style>\n",
       "<table border=\"1\" class=\"dataframe\">\n",
       "  <thead>\n",
       "    <tr style=\"text-align: right;\">\n",
       "      <th></th>\n",
       "      <th>weights</th>\n",
       "      <th>acum_weights</th>\n",
       "    </tr>\n",
       "    <tr>\n",
       "      <th>date</th>\n",
       "      <th></th>\n",
       "      <th></th>\n",
       "    </tr>\n",
       "  </thead>\n",
       "  <tbody>\n",
       "    <tr>\n",
       "      <th>1986-11-03</th>\n",
       "      <td>8.678057e-262</td>\n",
       "      <td>0.0</td>\n",
       "    </tr>\n",
       "    <tr>\n",
       "      <th>1986-11-04</th>\n",
       "      <td>9.287322e-262</td>\n",
       "      <td>0.0</td>\n",
       "    </tr>\n",
       "    <tr>\n",
       "      <th>1986-11-05</th>\n",
       "      <td>9.939362e-262</td>\n",
       "      <td>0.0</td>\n",
       "    </tr>\n",
       "    <tr>\n",
       "      <th>1986-11-06</th>\n",
       "      <td>1.063718e-261</td>\n",
       "      <td>0.0</td>\n",
       "    </tr>\n",
       "    <tr>\n",
       "      <th>1986-11-07</th>\n",
       "      <td>1.138399e-261</td>\n",
       "      <td>0.0</td>\n",
       "    </tr>\n",
       "    <tr>\n",
       "      <th>...</th>\n",
       "      <td>...</td>\n",
       "      <td>...</td>\n",
       "    </tr>\n",
       "    <tr>\n",
       "      <th>2021-10-25</th>\n",
       "      <td>5.000851e-02</td>\n",
       "      <td>0.762303</td>\n",
       "    </tr>\n",
       "    <tr>\n",
       "      <th>2021-10-26</th>\n",
       "      <td>5.351948e-02</td>\n",
       "      <td>0.815823</td>\n",
       "    </tr>\n",
       "    <tr>\n",
       "      <th>2021-10-27</th>\n",
       "      <td>5.727696e-02</td>\n",
       "      <td>0.8731</td>\n",
       "    </tr>\n",
       "    <tr>\n",
       "      <th>2021-10-28</th>\n",
       "      <td>6.129823e-02</td>\n",
       "      <td>0.934398</td>\n",
       "    </tr>\n",
       "    <tr>\n",
       "      <th>2021-10-29</th>\n",
       "      <td>6.560183e-02</td>\n",
       "      <td>1.0</td>\n",
       "    </tr>\n",
       "  </tbody>\n",
       "</table>\n",
       "<p>8820 rows × 2 columns</p>\n",
       "</div>"
      ],
      "text/plain": [
       "                  weights acum_weights\n",
       "date                                  \n",
       "1986-11-03  8.678057e-262          0.0\n",
       "1986-11-04  9.287322e-262          0.0\n",
       "1986-11-05  9.939362e-262          0.0\n",
       "1986-11-06  1.063718e-261          0.0\n",
       "1986-11-07  1.138399e-261          0.0\n",
       "...                   ...          ...\n",
       "2021-10-25   5.000851e-02     0.762303\n",
       "2021-10-26   5.351948e-02     0.815823\n",
       "2021-10-27   5.727696e-02       0.8731\n",
       "2021-10-28   6.129823e-02     0.934398\n",
       "2021-10-29   6.560183e-02          1.0\n",
       "\n",
       "[8820 rows x 2 columns]"
      ]
     },
     "execution_count": 32,
     "metadata": {},
     "output_type": "execute_result"
    }
   ],
   "source": [
    "weights_emwa.index=portfolio_ret_d.index\n",
    "weights_emwa"
   ]
  },
  {
   "cell_type": "markdown",
   "id": "339cf344",
   "metadata": {},
   "source": [
    "# Preparing DataFrame to generate data (portfolio_ret_d)\n",
    "\n",
    "### Columns: Returns, Conditional Var Garch, Conditional Var Emwa, Conditional Vol Garch, Conditonal Vol Emwa, Model Vol Garch, Model Emwa, Z-Garch, Z-Emwa, Returns Garch, Returns Emwa"
   ]
  },
  {
   "cell_type": "code",
   "execution_count": 33,
   "id": "78e2d2f9",
   "metadata": {},
   "outputs": [],
   "source": [
    "portfolio_ret_d['cond_var_garch'] = 0\n",
    "portfolio_ret_d['cond_var_emwa'] = 0\n",
    "portfolio_ret_d['cond_vol_garch'] = 0\n",
    "portfolio_ret_d['cond_vol_emwa'] = 0\n",
    "portfolio_ret_d['model_vol_garch'] = 0\n",
    "portfolio_ret_d['model_vol_emwa'] = 0\n",
    "portfolio_ret_d['z_garch'] = 0\n",
    "portfolio_ret_d['z_emwa'] = 0\n",
    "portfolio_ret_d['resc_r_garch'] = 0\n",
    "portfolio_ret_d['resc_r_emwa'] = 0"
   ]
  },
  {
   "cell_type": "markdown",
   "id": "5b49ef14",
   "metadata": {},
   "source": [
    "# Looping on data to generate Rescaled Returns on Garch and Emwa"
   ]
  },
  {
   "cell_type": "code",
   "execution_count": 34,
   "id": "b4c9a4a7",
   "metadata": {},
   "outputs": [],
   "source": [
    "for i in range(0,len(portfolio_ret_d)):\n",
    "    if i == 0:\n",
    "        portfolio_ret_d.iloc[i,1] = portfolio_ret_d.iloc[i,0]**2\n",
    "    else: portfolio_ret_d.iloc[i,1] = omega + alpha*portfolio_ret_d.iloc[i-1,0]**2  + beta*portfolio_ret_d.iloc[i-1,1] "
   ]
  },
  {
   "cell_type": "code",
   "execution_count": 35,
   "id": "fc6d8f40",
   "metadata": {},
   "outputs": [],
   "source": [
    "for z in range(0,len(portfolio_ret_d)):\n",
    "    if z == 0:\n",
    "        portfolio_ret_d.iloc[z, 2] = portfolio_ret_d.iloc[z, 0]**2\n",
    "    else: portfolio_ret_d.iloc[z, 2] = (1 - lamb)*portfolio_ret_d.iloc[z-1, 0]**2 + lamb*portfolio_ret_d.iloc[z-1, 2]"
   ]
  },
  {
   "cell_type": "code",
   "execution_count": 36,
   "id": "6e98804e",
   "metadata": {},
   "outputs": [],
   "source": [
    "portfolio_ret_d['cond_vol_garch'] = portfolio_ret_d['cond_var_garch']**(1/2)\n",
    "portfolio_ret_d['cond_vol_emwa'] = portfolio_ret_d['cond_var_emwa']**(1/2)"
   ]
  },
  {
   "cell_type": "code",
   "execution_count": 37,
   "id": "c61110ad",
   "metadata": {},
   "outputs": [
    {
     "data": {
      "text/plain": [
       "<AxesSubplot:xlabel='date'>"
      ]
     },
     "execution_count": 37,
     "metadata": {},
     "output_type": "execute_result"
    },
    {
     "data": {
      "image/png": "[encoded data removed]",
      "text/plain": [
       "<Figure size 432x288 with 1 Axes>"
      ]
     },
     "metadata": {
      "needs_background": "light"
     },
     "output_type": "display_data"
    }
   ],
   "source": [
    "portfolio_ret_d['cond_vol_emwa'].plot(c='red')\n",
    "portfolio_ret_d['cond_vol_garch'].plot(c='blue', alpha=0.5)"
   ]
  },
  {
   "cell_type": "code",
   "execution_count": 38,
   "id": "2c67059b",
   "metadata": {},
   "outputs": [
    {
     "data": {
      "text/plain": [
       "<AxesSubplot:xlabel='date'>"
      ]
     },
     "execution_count": 38,
     "metadata": {},
     "output_type": "execute_result"
    },
    {
     "data": {
      "image/png": "[encoded data removed]",
      "text/plain": [
       "<Figure size 432x288 with 1 Axes>"
      ]
     },
     "metadata": {
      "needs_background": "light"
     },
     "output_type": "display_data"
    }
   ],
   "source": [
    "(((res_garch.conditional_volatility**2)/10000)**0.5).plot(c='red')\n",
    "(((res.conditional_volatility**2)/10000)**0.5).plot(c='blue', alpha=0.5)"
   ]
  },
  {
   "cell_type": "code",
   "execution_count": 39,
   "id": "7a54e534",
   "metadata": {},
   "outputs": [
    {
     "data": {
      "text/plain": [
       "<AxesSubplot:xlabel='date'>"
      ]
     },
     "execution_count": 39,
     "metadata": {},
     "output_type": "execute_result"
    },
    {
     "data": {
      "image/png": "[encoded data removed]",
      "text/plain": [
       "<Figure size 432x288 with 1 Axes>"
      ]
     },
     "metadata": {
      "needs_background": "light"
     },
     "output_type": "display_data"
    }
   ],
   "source": [
    "portfolio_ret_d['cond_vol_garch'].plot(c='red')\n",
    "(((res_garch.conditional_volatility**2)/10000)**0.5).plot(c='blue', alpha=0.5)"
   ]
  },
  {
   "cell_type": "code",
   "execution_count": 40,
   "id": "5d26090a",
   "metadata": {},
   "outputs": [
    {
     "data": {
      "text/plain": [
       "<AxesSubplot:xlabel='date'>"
      ]
     },
     "execution_count": 40,
     "metadata": {},
     "output_type": "execute_result"
    },
    {
     "data": {
      "image/png": "[encoded data removed]",
      "text/plain": [
       "<Figure size 432x288 with 1 Axes>"
      ]
     },
     "metadata": {
      "needs_background": "light"
     },
     "output_type": "display_data"
    }
   ],
   "source": [
    "portfolio_ret_d['cond_vol_emwa'].plot(c='red')\n",
    "(((res.conditional_volatility**2)/10000)**0.5).plot(c='blue', alpha=0.5)"
   ]
  },
  {
   "cell_type": "code",
   "execution_count": 41,
   "id": "4d1f989f",
   "metadata": {},
   "outputs": [],
   "source": [
    "portfolio_ret_d['model_vol_garch']=((res_garch.conditional_volatility**2)/10000)**0.5\n",
    "portfolio_ret_d['model_vol_emwa']=((res.conditional_volatility**2)/10000)**0.5"
   ]
  },
  {
   "cell_type": "code",
   "execution_count": 42,
   "id": "1769e74a",
   "metadata": {},
   "outputs": [],
   "source": [
    "portfolio_ret_d['z_garch'] = portfolio_ret_d['ret']/portfolio_ret_d['cond_vol_garch']\n",
    "portfolio_ret_d['z_emwa'] = portfolio_ret_d['ret']/portfolio_ret_d['cond_vol_emwa']"
   ]
  },
  {
   "cell_type": "code",
   "execution_count": 43,
   "id": "fce6ef14",
   "metadata": {},
   "outputs": [],
   "source": [
    "for g in range(0, len(portfolio_ret_d)-1):\n",
    "    portfolio_ret_d.iloc[g, 9] = portfolio_ret_d.iloc[g,7] * forc_vol_emwa"
   ]
  },
  {
   "cell_type": "code",
   "execution_count": 44,
   "id": "b7a50647",
   "metadata": {},
   "outputs": [],
   "source": [
    "for h in range(0, len(portfolio_ret_d)-1):\n",
    "    portfolio_ret_d.iloc[h, 10] = portfolio_ret_d.iloc[h,8] * forc_vol_garch"
   ]
  },
  {
   "cell_type": "code",
   "execution_count": 45,
   "id": "12a6605c",
   "metadata": {},
   "outputs": [
    {
     "data": {
      "text/html": [
       "<div>\n",
       "<style scoped>\n",
       "    .dataframe tbody tr th:only-of-type {\n",
       "        vertical-align: middle;\n",
       "    }\n",
       "\n",
       "    .dataframe tbody tr th {\n",
       "        vertical-align: top;\n",
       "    }\n",
       "\n",
       "    .dataframe thead th {\n",
       "        text-align: right;\n",
       "    }\n",
       "</style>\n",
       "<table border=\"1\" class=\"dataframe\">\n",
       "  <thead>\n",
       "    <tr style=\"text-align: right;\">\n",
       "      <th></th>\n",
       "      <th>ret</th>\n",
       "      <th>cond_var_garch</th>\n",
       "      <th>cond_var_emwa</th>\n",
       "      <th>cond_vol_garch</th>\n",
       "      <th>cond_vol_emwa</th>\n",
       "      <th>model_vol_garch</th>\n",
       "      <th>model_vol_emwa</th>\n",
       "      <th>z_garch</th>\n",
       "      <th>z_emwa</th>\n",
       "      <th>resc_r_garch</th>\n",
       "      <th>resc_r_emwa</th>\n",
       "    </tr>\n",
       "    <tr>\n",
       "      <th>date</th>\n",
       "      <th></th>\n",
       "      <th></th>\n",
       "      <th></th>\n",
       "      <th></th>\n",
       "      <th></th>\n",
       "      <th></th>\n",
       "      <th></th>\n",
       "      <th></th>\n",
       "      <th></th>\n",
       "      <th></th>\n",
       "      <th></th>\n",
       "    </tr>\n",
       "  </thead>\n",
       "  <tbody>\n",
       "    <tr>\n",
       "      <th>1986-11-03</th>\n",
       "      <td>0.003499</td>\n",
       "      <td>0.000012</td>\n",
       "      <td>0.000012</td>\n",
       "      <td>0.003499</td>\n",
       "      <td>0.003499</td>\n",
       "      <td>0.004085</td>\n",
       "      <td>0.004059</td>\n",
       "      <td>1.000000</td>\n",
       "      <td>1.000000</td>\n",
       "      <td>0.003701</td>\n",
       "      <td>0.003758</td>\n",
       "    </tr>\n",
       "    <tr>\n",
       "      <th>1986-11-04</th>\n",
       "      <td>0.002042</td>\n",
       "      <td>0.000013</td>\n",
       "      <td>0.000012</td>\n",
       "      <td>0.003539</td>\n",
       "      <td>0.003499</td>\n",
       "      <td>0.004061</td>\n",
       "      <td>0.004025</td>\n",
       "      <td>0.576997</td>\n",
       "      <td>0.583707</td>\n",
       "      <td>0.002135</td>\n",
       "      <td>0.002194</td>\n",
       "    </tr>\n",
       "    <tr>\n",
       "      <th>1986-11-05</th>\n",
       "      <td>0.002547</td>\n",
       "      <td>0.000012</td>\n",
       "      <td>0.000012</td>\n",
       "      <td>0.003471</td>\n",
       "      <td>0.003422</td>\n",
       "      <td>0.003946</td>\n",
       "      <td>0.003926</td>\n",
       "      <td>0.733950</td>\n",
       "      <td>0.744370</td>\n",
       "      <td>0.002716</td>\n",
       "      <td>0.002797</td>\n",
       "    </tr>\n",
       "    <tr>\n",
       "      <th>1986-11-06</th>\n",
       "      <td>-0.001681</td>\n",
       "      <td>0.000012</td>\n",
       "      <td>0.000011</td>\n",
       "      <td>0.003439</td>\n",
       "      <td>0.003372</td>\n",
       "      <td>0.003869</td>\n",
       "      <td>0.003851</td>\n",
       "      <td>-0.488859</td>\n",
       "      <td>-0.498664</td>\n",
       "      <td>-0.001809</td>\n",
       "      <td>-0.001874</td>\n",
       "    </tr>\n",
       "    <tr>\n",
       "      <th>1986-11-07</th>\n",
       "      <td>-0.001107</td>\n",
       "      <td>0.000011</td>\n",
       "      <td>0.000011</td>\n",
       "      <td>0.003362</td>\n",
       "      <td>0.003288</td>\n",
       "      <td>0.003755</td>\n",
       "      <td>0.003747</td>\n",
       "      <td>-0.329333</td>\n",
       "      <td>-0.336773</td>\n",
       "      <td>-0.001219</td>\n",
       "      <td>-0.001266</td>\n",
       "    </tr>\n",
       "    <tr>\n",
       "      <th>...</th>\n",
       "      <td>...</td>\n",
       "      <td>...</td>\n",
       "      <td>...</td>\n",
       "      <td>...</td>\n",
       "      <td>...</td>\n",
       "      <td>...</td>\n",
       "      <td>...</td>\n",
       "      <td>...</td>\n",
       "      <td>...</td>\n",
       "      <td>...</td>\n",
       "      <td>...</td>\n",
       "    </tr>\n",
       "    <tr>\n",
       "      <th>2021-10-25</th>\n",
       "      <td>0.002631</td>\n",
       "      <td>0.000017</td>\n",
       "      <td>0.000016</td>\n",
       "      <td>0.004125</td>\n",
       "      <td>0.004054</td>\n",
       "      <td>0.004125</td>\n",
       "      <td>0.004054</td>\n",
       "      <td>0.637933</td>\n",
       "      <td>0.649121</td>\n",
       "      <td>0.002361</td>\n",
       "      <td>0.002440</td>\n",
       "    </tr>\n",
       "    <tr>\n",
       "      <th>2021-10-26</th>\n",
       "      <td>-0.000340</td>\n",
       "      <td>0.000016</td>\n",
       "      <td>0.000016</td>\n",
       "      <td>0.004036</td>\n",
       "      <td>0.003976</td>\n",
       "      <td>0.004036</td>\n",
       "      <td>0.003976</td>\n",
       "      <td>-0.084270</td>\n",
       "      <td>-0.085551</td>\n",
       "      <td>-0.000312</td>\n",
       "      <td>-0.000322</td>\n",
       "    </tr>\n",
       "    <tr>\n",
       "      <th>2021-10-27</th>\n",
       "      <td>-0.002912</td>\n",
       "      <td>0.000015</td>\n",
       "      <td>0.000015</td>\n",
       "      <td>0.003877</td>\n",
       "      <td>0.003844</td>\n",
       "      <td>0.003877</td>\n",
       "      <td>0.003844</td>\n",
       "      <td>-0.751085</td>\n",
       "      <td>-0.757445</td>\n",
       "      <td>-0.002780</td>\n",
       "      <td>-0.002847</td>\n",
       "    </tr>\n",
       "    <tr>\n",
       "      <th>2021-10-28</th>\n",
       "      <td>0.004335</td>\n",
       "      <td>0.000015</td>\n",
       "      <td>0.000014</td>\n",
       "      <td>0.003830</td>\n",
       "      <td>0.003790</td>\n",
       "      <td>0.003830</td>\n",
       "      <td>0.003790</td>\n",
       "      <td>1.131829</td>\n",
       "      <td>1.143695</td>\n",
       "      <td>0.004189</td>\n",
       "      <td>0.004298</td>\n",
       "    </tr>\n",
       "    <tr>\n",
       "      <th>2021-10-29</th>\n",
       "      <td>-0.000053</td>\n",
       "      <td>0.000015</td>\n",
       "      <td>0.000015</td>\n",
       "      <td>0.003910</td>\n",
       "      <td>0.003828</td>\n",
       "      <td>0.003910</td>\n",
       "      <td>0.003828</td>\n",
       "      <td>-0.013485</td>\n",
       "      <td>-0.013772</td>\n",
       "      <td>0.000000</td>\n",
       "      <td>0.000000</td>\n",
       "    </tr>\n",
       "  </tbody>\n",
       "</table>\n",
       "<p>8820 rows × 11 columns</p>\n",
       "</div>"
      ],
      "text/plain": [
       "                 ret  cond_var_garch  cond_var_emwa  cond_vol_garch  \\\n",
       "date                                                                  \n",
       "1986-11-03  0.003499        0.000012       0.000012        0.003499   \n",
       "1986-11-04  0.002042        0.000013       0.000012        0.003539   \n",
       "1986-11-05  0.002547        0.000012       0.000012        0.003471   \n",
       "1986-11-06 -0.001681        0.000012       0.000011        0.003439   \n",
       "1986-11-07 -0.001107        0.000011       0.000011        0.003362   \n",
       "...              ...             ...            ...             ...   \n",
       "2021-10-25  0.002631        0.000017       0.000016        0.004125   \n",
       "2021-10-26 -0.000340        0.000016       0.000016        0.004036   \n",
       "2021-10-27 -0.002912        0.000015       0.000015        0.003877   \n",
       "2021-10-28  0.004335        0.000015       0.000014        0.003830   \n",
       "2021-10-29 -0.000053        0.000015       0.000015        0.003910   \n",
       "\n",
       "            cond_vol_emwa  model_vol_garch  model_vol_emwa   z_garch  \\\n",
       "date                                                                   \n",
       "1986-11-03       0.003499         0.004085        0.004059  1.000000   \n",
       "1986-11-04       0.003499         0.004061        0.004025  0.576997   \n",
       "1986-11-05       0.003422         0.003946        0.003926  0.733950   \n",
       "1986-11-06       0.003372         0.003869        0.003851 -0.488859   \n",
       "1986-11-07       0.003288         0.003755        0.003747 -0.329333   \n",
       "...                   ...              ...             ...       ...   \n",
       "2021-10-25       0.004054         0.004125        0.004054  0.637933   \n",
       "2021-10-26       0.003976         0.004036        0.003976 -0.084270   \n",
       "2021-10-27       0.003844         0.003877        0.003844 -0.751085   \n",
       "2021-10-28       0.003790         0.003830        0.003790  1.131829   \n",
       "2021-10-29       0.003828         0.003910        0.003828 -0.013485   \n",
       "\n",
       "              z_emwa  resc_r_garch  resc_r_emwa  \n",
       "date                                             \n",
       "1986-11-03  1.000000      0.003701     0.003758  \n",
       "1986-11-04  0.583707      0.002135     0.002194  \n",
       "1986-11-05  0.744370      0.002716     0.002797  \n",
       "1986-11-06 -0.498664     -0.001809    -0.001874  \n",
       "1986-11-07 -0.336773     -0.001219    -0.001266  \n",
       "...              ...           ...          ...  \n",
       "2021-10-25  0.649121      0.002361     0.002440  \n",
       "2021-10-26 -0.085551     -0.000312    -0.000322  \n",
       "2021-10-27 -0.757445     -0.002780    -0.002847  \n",
       "2021-10-28  1.143695      0.004189     0.004298  \n",
       "2021-10-29 -0.013772      0.000000     0.000000  \n",
       "\n",
       "[8820 rows x 11 columns]"
      ]
     },
     "execution_count": 45,
     "metadata": {},
     "output_type": "execute_result"
    }
   ],
   "source": [
    "portfolio_ret_d"
   ]
  },
  {
   "cell_type": "code",
   "execution_count": 46,
   "id": "7246914a",
   "metadata": {},
   "outputs": [],
   "source": [
    "mean_garch = portfolio_ret_d['z_garch'].mean()\n",
    "std_garch = portfolio_ret_d['z_garch'].std()\n",
    "max_garch = portfolio_ret_d['z_garch'].max() \n",
    "min_garch = portfolio_ret_d['z_garch'].min()\n",
    "kurt_garch = sp.kurtosis(portfolio_ret_d['z_garch'])\n",
    "skew_garch = sp.skew(portfolio_ret_d['z_garch'])"
   ]
  },
  {
   "cell_type": "code",
   "execution_count": 47,
   "id": "da41d595",
   "metadata": {},
   "outputs": [],
   "source": [
    "mean_ewma = portfolio_ret_d['z_emwa'].mean()\n",
    "std_ewma = portfolio_ret_d['z_emwa'].std()\n",
    "max_ewma = portfolio_ret_d['z_emwa'].max() \n",
    "min_ewma = portfolio_ret_d['z_emwa'].min()\n",
    "kurt_ewma = sp.kurtosis(portfolio_ret_d['z_emwa'])\n",
    "skew_ewma = sp.skew(portfolio_ret_d['z_emwa'])"
   ]
  },
  {
   "cell_type": "markdown",
   "id": "908bdc36",
   "metadata": {},
   "source": [
    "## Statistics Table"
   ]
  },
  {
   "cell_type": "code",
   "execution_count": 48,
   "id": "875a5a6b",
   "metadata": {},
   "outputs": [],
   "source": [
    "df_stats = pd.DataFrame(index=['min', 'max', 'mean', 'kurtosis', 'skewness'])"
   ]
  },
  {
   "cell_type": "code",
   "execution_count": 49,
   "id": "b0aac13c",
   "metadata": {},
   "outputs": [
    {
     "data": {
      "text/html": [
       "<div>\n",
       "<style scoped>\n",
       "    .dataframe tbody tr th:only-of-type {\n",
       "        vertical-align: middle;\n",
       "    }\n",
       "\n",
       "    .dataframe tbody tr th {\n",
       "        vertical-align: top;\n",
       "    }\n",
       "\n",
       "    .dataframe thead th {\n",
       "        text-align: right;\n",
       "    }\n",
       "</style>\n",
       "<table border=\"1\" class=\"dataframe\">\n",
       "  <thead>\n",
       "    <tr style=\"text-align: right;\">\n",
       "      <th></th>\n",
       "      <th>Ret</th>\n",
       "      <th>Norm</th>\n",
       "      <th>Garch</th>\n",
       "      <th>Ewma</th>\n",
       "    </tr>\n",
       "  </thead>\n",
       "  <tbody>\n",
       "    <tr>\n",
       "      <th>min</th>\n",
       "      <td>-0.101</td>\n",
       "      <td>-17.550</td>\n",
       "      <td>-8.294</td>\n",
       "      <td>-9.176</td>\n",
       "    </tr>\n",
       "    <tr>\n",
       "      <th>max</th>\n",
       "      <td>0.053</td>\n",
       "      <td>9.078</td>\n",
       "      <td>4.157</td>\n",
       "      <td>4.464</td>\n",
       "    </tr>\n",
       "    <tr>\n",
       "      <th>mean</th>\n",
       "      <td>0.000</td>\n",
       "      <td>-0.000</td>\n",
       "      <td>0.072</td>\n",
       "      <td>0.076</td>\n",
       "    </tr>\n",
       "    <tr>\n",
       "      <th>kurtosis</th>\n",
       "      <td>26.612</td>\n",
       "      <td>26.612</td>\n",
       "      <td>2.335</td>\n",
       "      <td>2.960</td>\n",
       "    </tr>\n",
       "    <tr>\n",
       "      <th>skewness</th>\n",
       "      <td>-1.372</td>\n",
       "      <td>-1.372</td>\n",
       "      <td>-0.503</td>\n",
       "      <td>-0.574</td>\n",
       "    </tr>\n",
       "  </tbody>\n",
       "</table>\n",
       "</div>"
      ],
      "text/plain": [
       "             Ret    Norm  Garch   Ewma\n",
       "min       -0.101 -17.550 -8.294 -9.176\n",
       "max        0.053   9.078  4.157  4.464\n",
       "mean       0.000  -0.000  0.072  0.076\n",
       "kurtosis  26.612  26.612  2.335  2.960\n",
       "skewness  -1.372  -1.372 -0.503 -0.574"
      ]
     },
     "execution_count": 49,
     "metadata": {},
     "output_type": "execute_result"
    }
   ],
   "source": [
    "df_stats['Ret'] = [min_, max_, mean, kurt, skew]\n",
    "df_stats['Norm'] = [min_norm, max_norm, mean_norm, kurt_norm, skew_norm]\n",
    "df_stats['Garch'] = [min_garch, max_garch, mean_garch, kurt_garch, skew_garch]\n",
    "df_stats['Ewma'] = [min_ewma, max_ewma, mean_ewma, kurt_ewma, skew_ewma]\n",
    "\n",
    "df_stats.round(3)"
   ]
  },
  {
   "cell_type": "markdown",
   "id": "d1fee7a3",
   "metadata": {},
   "source": [
    "# Prepating new DataFrame to generate risk measures"
   ]
  },
  {
   "cell_type": "code",
   "execution_count": 50,
   "id": "9421d542",
   "metadata": {},
   "outputs": [],
   "source": [
    "df_returns = pd.DataFrame()"
   ]
  },
  {
   "cell_type": "code",
   "execution_count": 51,
   "id": "73c42d8b",
   "metadata": {},
   "outputs": [
    {
     "data": {
      "text/html": [
       "<div>\n",
       "<style scoped>\n",
       "    .dataframe tbody tr th:only-of-type {\n",
       "        vertical-align: middle;\n",
       "    }\n",
       "\n",
       "    .dataframe tbody tr th {\n",
       "        vertical-align: top;\n",
       "    }\n",
       "\n",
       "    .dataframe thead th {\n",
       "        text-align: right;\n",
       "    }\n",
       "</style>\n",
       "<table border=\"1\" class=\"dataframe\">\n",
       "  <thead>\n",
       "    <tr style=\"text-align: right;\">\n",
       "      <th></th>\n",
       "      <th>Returns</th>\n",
       "      <th>Returns_Garch</th>\n",
       "      <th>Returns_Emwa</th>\n",
       "    </tr>\n",
       "    <tr>\n",
       "      <th>date</th>\n",
       "      <th></th>\n",
       "      <th></th>\n",
       "      <th></th>\n",
       "    </tr>\n",
       "  </thead>\n",
       "  <tbody>\n",
       "    <tr>\n",
       "      <th>1986-11-03</th>\n",
       "      <td>0.003499</td>\n",
       "      <td>0.003701</td>\n",
       "      <td>0.003758</td>\n",
       "    </tr>\n",
       "    <tr>\n",
       "      <th>1986-11-04</th>\n",
       "      <td>0.002042</td>\n",
       "      <td>0.002135</td>\n",
       "      <td>0.002194</td>\n",
       "    </tr>\n",
       "    <tr>\n",
       "      <th>1986-11-05</th>\n",
       "      <td>0.002547</td>\n",
       "      <td>0.002716</td>\n",
       "      <td>0.002797</td>\n",
       "    </tr>\n",
       "    <tr>\n",
       "      <th>1986-11-06</th>\n",
       "      <td>-0.001681</td>\n",
       "      <td>-0.001809</td>\n",
       "      <td>-0.001874</td>\n",
       "    </tr>\n",
       "    <tr>\n",
       "      <th>1986-11-07</th>\n",
       "      <td>-0.001107</td>\n",
       "      <td>-0.001219</td>\n",
       "      <td>-0.001266</td>\n",
       "    </tr>\n",
       "    <tr>\n",
       "      <th>...</th>\n",
       "      <td>...</td>\n",
       "      <td>...</td>\n",
       "      <td>...</td>\n",
       "    </tr>\n",
       "    <tr>\n",
       "      <th>2021-10-25</th>\n",
       "      <td>0.002631</td>\n",
       "      <td>0.002361</td>\n",
       "      <td>0.002440</td>\n",
       "    </tr>\n",
       "    <tr>\n",
       "      <th>2021-10-26</th>\n",
       "      <td>-0.000340</td>\n",
       "      <td>-0.000312</td>\n",
       "      <td>-0.000322</td>\n",
       "    </tr>\n",
       "    <tr>\n",
       "      <th>2021-10-27</th>\n",
       "      <td>-0.002912</td>\n",
       "      <td>-0.002780</td>\n",
       "      <td>-0.002847</td>\n",
       "    </tr>\n",
       "    <tr>\n",
       "      <th>2021-10-28</th>\n",
       "      <td>0.004335</td>\n",
       "      <td>0.004189</td>\n",
       "      <td>0.004298</td>\n",
       "    </tr>\n",
       "    <tr>\n",
       "      <th>2021-10-29</th>\n",
       "      <td>-0.000053</td>\n",
       "      <td>0.000000</td>\n",
       "      <td>0.000000</td>\n",
       "    </tr>\n",
       "  </tbody>\n",
       "</table>\n",
       "<p>8820 rows × 3 columns</p>\n",
       "</div>"
      ],
      "text/plain": [
       "             Returns  Returns_Garch  Returns_Emwa\n",
       "date                                             \n",
       "1986-11-03  0.003499       0.003701      0.003758\n",
       "1986-11-04  0.002042       0.002135      0.002194\n",
       "1986-11-05  0.002547       0.002716      0.002797\n",
       "1986-11-06 -0.001681      -0.001809     -0.001874\n",
       "1986-11-07 -0.001107      -0.001219     -0.001266\n",
       "...              ...            ...           ...\n",
       "2021-10-25  0.002631       0.002361      0.002440\n",
       "2021-10-26 -0.000340      -0.000312     -0.000322\n",
       "2021-10-27 -0.002912      -0.002780     -0.002847\n",
       "2021-10-28  0.004335       0.004189      0.004298\n",
       "2021-10-29 -0.000053       0.000000      0.000000\n",
       "\n",
       "[8820 rows x 3 columns]"
      ]
     },
     "execution_count": 51,
     "metadata": {},
     "output_type": "execute_result"
    }
   ],
   "source": [
    "df_returns['Returns'] = portfolio_ret_d['ret']\n",
    "df_returns['Returns_Garch'] = portfolio_ret_d['resc_r_garch']\n",
    "df_returns['Returns_Emwa'] = portfolio_ret_d['resc_r_emwa']\n",
    "\n",
    "df_returns"
   ]
  },
  {
   "cell_type": "markdown",
   "id": "17210b86",
   "metadata": {},
   "source": [
    "## Generating Risk Measures for each Look-back Period"
   ]
  },
  {
   "cell_type": "code",
   "execution_count": 52,
   "id": "3c6f7d72",
   "metadata": {},
   "outputs": [],
   "source": [
    "df_risk_measures = pd.DataFrame(index=['VaR_PreC','VaR_PostC','ES_PreC','ES_PostC'], columns=['Param', 'Hist', 'Fhist_G', 'Fhist_E', 'Whist'])"
   ]
  },
  {
   "cell_type": "code",
   "execution_count": 53,
   "id": "7c4685b9",
   "metadata": {},
   "outputs": [
    {
     "data": {
      "text/html": [
       "<div>\n",
       "<style scoped>\n",
       "    .dataframe tbody tr th:only-of-type {\n",
       "        vertical-align: middle;\n",
       "    }\n",
       "\n",
       "    .dataframe tbody tr th {\n",
       "        vertical-align: top;\n",
       "    }\n",
       "\n",
       "    .dataframe thead th {\n",
       "        text-align: right;\n",
       "    }\n",
       "</style>\n",
       "<table border=\"1\" class=\"dataframe\">\n",
       "  <thead>\n",
       "    <tr style=\"text-align: right;\">\n",
       "      <th></th>\n",
       "      <th>Returns</th>\n",
       "      <th>Returns_Garch</th>\n",
       "      <th>Returns_Emwa</th>\n",
       "    </tr>\n",
       "    <tr>\n",
       "      <th>date</th>\n",
       "      <th></th>\n",
       "      <th></th>\n",
       "      <th></th>\n",
       "    </tr>\n",
       "  </thead>\n",
       "  <tbody>\n",
       "    <tr>\n",
       "      <th>2019-10-30</th>\n",
       "      <td>0.001384</td>\n",
       "      <td>0.001523</td>\n",
       "      <td>0.001542</td>\n",
       "    </tr>\n",
       "    <tr>\n",
       "      <th>2019-10-31</th>\n",
       "      <td>0.000226</td>\n",
       "      <td>0.000255</td>\n",
       "      <td>0.000259</td>\n",
       "    </tr>\n",
       "    <tr>\n",
       "      <th>2019-11-01</th>\n",
       "      <td>0.006176</td>\n",
       "      <td>0.007194</td>\n",
       "      <td>0.007319</td>\n",
       "    </tr>\n",
       "    <tr>\n",
       "      <th>2019-11-04</th>\n",
       "      <td>0.002479</td>\n",
       "      <td>0.002547</td>\n",
       "      <td>0.002701</td>\n",
       "    </tr>\n",
       "    <tr>\n",
       "      <th>2019-11-05</th>\n",
       "      <td>-0.001856</td>\n",
       "      <td>-0.001933</td>\n",
       "      <td>-0.002056</td>\n",
       "    </tr>\n",
       "    <tr>\n",
       "      <th>...</th>\n",
       "      <td>...</td>\n",
       "      <td>...</td>\n",
       "      <td>...</td>\n",
       "    </tr>\n",
       "    <tr>\n",
       "      <th>2021-10-25</th>\n",
       "      <td>0.002631</td>\n",
       "      <td>0.002361</td>\n",
       "      <td>0.002440</td>\n",
       "    </tr>\n",
       "    <tr>\n",
       "      <th>2021-10-26</th>\n",
       "      <td>-0.000340</td>\n",
       "      <td>-0.000312</td>\n",
       "      <td>-0.000322</td>\n",
       "    </tr>\n",
       "    <tr>\n",
       "      <th>2021-10-27</th>\n",
       "      <td>-0.002912</td>\n",
       "      <td>-0.002780</td>\n",
       "      <td>-0.002847</td>\n",
       "    </tr>\n",
       "    <tr>\n",
       "      <th>2021-10-28</th>\n",
       "      <td>0.004335</td>\n",
       "      <td>0.004189</td>\n",
       "      <td>0.004298</td>\n",
       "    </tr>\n",
       "    <tr>\n",
       "      <th>2021-10-29</th>\n",
       "      <td>-0.000053</td>\n",
       "      <td>0.000000</td>\n",
       "      <td>0.000000</td>\n",
       "    </tr>\n",
       "  </tbody>\n",
       "</table>\n",
       "<p>505 rows × 3 columns</p>\n",
       "</div>"
      ],
      "text/plain": [
       "             Returns  Returns_Garch  Returns_Emwa\n",
       "date                                             \n",
       "2019-10-30  0.001384       0.001523      0.001542\n",
       "2019-10-31  0.000226       0.000255      0.000259\n",
       "2019-11-01  0.006176       0.007194      0.007319\n",
       "2019-11-04  0.002479       0.002547      0.002701\n",
       "2019-11-05 -0.001856      -0.001933     -0.002056\n",
       "...              ...            ...           ...\n",
       "2021-10-25  0.002631       0.002361      0.002440\n",
       "2021-10-26 -0.000340      -0.000312     -0.000322\n",
       "2021-10-27 -0.002912      -0.002780     -0.002847\n",
       "2021-10-28  0.004335       0.004189      0.004298\n",
       "2021-10-29 -0.000053       0.000000      0.000000\n",
       "\n",
       "[505 rows x 3 columns]"
      ]
     },
     "execution_count": 53,
     "metadata": {},
     "output_type": "execute_result"
    }
   ],
   "source": [
    "df_505 = df_returns.iloc[-505:,:]\n",
    "\n",
    "df_505"
   ]
  },
  {
   "cell_type": "code",
   "execution_count": 407,
   "id": "acbeee01",
   "metadata": {},
   "outputs": [],
   "source": [
    "lb_505_vol= ((df_505['Returns']**2).mean())**0.5"
   ]
  },
  {
   "cell_type": "code",
   "execution_count": 408,
   "id": "1a31c5c1",
   "metadata": {},
   "outputs": [],
   "source": [
    "var_param = sp.norm.ppf(0.95)*lb_505_vol"
   ]
  },
  {
   "cell_type": "code",
   "execution_count": 409,
   "id": "da0dc3ff",
   "metadata": {},
   "outputs": [],
   "source": [
    "es_param = sp.norm.pdf(sp.norm.ppf(0.95))*lb_505_vol/0.05"
   ]
  },
  {
   "cell_type": "code",
   "execution_count": 410,
   "id": "7f039fd5",
   "metadata": {},
   "outputs": [],
   "source": [
    "var_505_hist = df_505['Returns'].quantile(q=0.05)"
   ]
  },
  {
   "cell_type": "code",
   "execution_count": 411,
   "id": "06121e44",
   "metadata": {},
   "outputs": [],
   "source": [
    "es_505_hist = (df_505['Returns'][(df_505['Returns']<df_505['Returns'].quantile(q=0.05))]).mean()"
   ]
  },
  {
   "cell_type": "code",
   "execution_count": 412,
   "id": "5fcc0a44",
   "metadata": {},
   "outputs": [],
   "source": [
    "var_505_fhist_g = df_505['Returns_Garch'].quantile(q=0.05)"
   ]
  },
  {
   "cell_type": "code",
   "execution_count": 413,
   "id": "fdfbe3da",
   "metadata": {},
   "outputs": [],
   "source": [
    "es_505_fhist_g = (df_505['Returns_Garch'][(df_505['Returns_Garch']<df_505['Returns_Garch'].quantile(q=0.05))]).mean()"
   ]
  },
  {
   "cell_type": "code",
   "execution_count": 414,
   "id": "52c61fe3",
   "metadata": {},
   "outputs": [],
   "source": [
    "var_505_fhist_e = df_505['Returns_Emwa'].quantile(q=0.05)"
   ]
  },
  {
   "cell_type": "code",
   "execution_count": 415,
   "id": "a63c29ab",
   "metadata": {},
   "outputs": [],
   "source": [
    "es_505_fhist_e = (df_505['Returns_Emwa'][(df_505['Returns_Emwa']<df_505['Returns_Emwa'].quantile(q=0.05))]).mean()"
   ]
  },
  {
   "cell_type": "code",
   "execution_count": 416,
   "id": "ec8f85da",
   "metadata": {},
   "outputs": [
    {
     "data": {
      "text/plain": [
       "1.0"
      ]
     },
     "execution_count": 416,
     "metadata": {},
     "output_type": "execute_result"
    }
   ],
   "source": [
    "weights_emwa_505=weights_emwa.loc[df_505.index,:]\n",
    "adj=lamb**505\n",
    "n_w=weights_emwa_505['weights']/(1-adj)\n",
    "df_505['weights']=n_w\n",
    "df_505['weights'].sum()"
   ]
  },
  {
   "cell_type": "code",
   "execution_count": 417,
   "id": "7b454295",
   "metadata": {},
   "outputs": [],
   "source": [
    "df_505.sort_values('Returns', inplace=True)\n",
    "df_505['acum_weights'] = 0\n",
    "\n",
    "for y in range(0, len(df_505.index)):\n",
    "    if y==0:\n",
    "        df_505.iloc[y, 4] = df_505.iloc[y, 3]\n",
    "    else: df_505.iloc[y, 4] = df_505.iloc[y-1, 4] + df_505.iloc[y, 3]"
   ]
  },
  {
   "cell_type": "code",
   "execution_count": 418,
   "id": "3deef5d2",
   "metadata": {},
   "outputs": [],
   "source": [
    "w_hist_df=df_505[df_505['acum_weights']<=0.05]\n",
    "\n",
    "hr_=df_505.iloc[len(w_hist_df),0]\n",
    "hw_=df_505.iloc[len(w_hist_df),4]\n",
    "lr_=w_hist_df.iloc[-1,0]\n",
    "lw_=w_hist_df.iloc[-1,4]\n",
    "\n",
    "w_hist_VaR=lr_+(0.05-lw_)/(hw_-lw_)*(hr_-lr_)\n",
    "w_hist_ES=(w_hist_df['Returns']*w_hist_df['acum_weights']).sum()/0.05"
   ]
  },
  {
   "cell_type": "code",
   "execution_count": 419,
   "id": "02ea8424",
   "metadata": {},
   "outputs": [],
   "source": [
    "VaR_505 = [var_param, -var_505_hist, -var_505_fhist_g, -var_505_fhist_e, -w_hist_VaR]\n",
    "ES_505 = [es_param, -es_505_hist, -es_505_fhist_g, -es_505_fhist_e, -w_hist_ES]"
   ]
  },
  {
   "cell_type": "code",
   "execution_count": 420,
   "id": "9b28da8d",
   "metadata": {},
   "outputs": [],
   "source": [
    "df_risk_measures.loc['VaR_PreC']=VaR_505\n",
    "df_risk_measures.loc['ES_PreC']=ES_505"
   ]
  },
  {
   "cell_type": "code",
   "execution_count": 421,
   "id": "46897b05",
   "metadata": {},
   "outputs": [
    {
     "data": {
      "text/html": [
       "<div>\n",
       "<style scoped>\n",
       "    .dataframe tbody tr th:only-of-type {\n",
       "        vertical-align: middle;\n",
       "    }\n",
       "\n",
       "    .dataframe tbody tr th {\n",
       "        vertical-align: top;\n",
       "    }\n",
       "\n",
       "    .dataframe thead th {\n",
       "        text-align: right;\n",
       "    }\n",
       "</style>\n",
       "<table border=\"1\" class=\"dataframe\">\n",
       "  <thead>\n",
       "    <tr style=\"text-align: right;\">\n",
       "      <th></th>\n",
       "      <th>Param</th>\n",
       "      <th>Hist</th>\n",
       "      <th>Fhist_G</th>\n",
       "      <th>Fhist_E</th>\n",
       "      <th>Whist</th>\n",
       "    </tr>\n",
       "  </thead>\n",
       "  <tbody>\n",
       "    <tr>\n",
       "      <th>VaR_PreC</th>\n",
       "      <td>0.016628</td>\n",
       "      <td>0.010853</td>\n",
       "      <td>0.006311</td>\n",
       "      <td>0.006742</td>\n",
       "      <td>0.005403</td>\n",
       "    </tr>\n",
       "    <tr>\n",
       "      <th>VaR_PostC</th>\n",
       "      <td>0.007547</td>\n",
       "      <td>0.006224</td>\n",
       "      <td>0.005375</td>\n",
       "      <td>0.005638</td>\n",
       "      <td>0.005403</td>\n",
       "    </tr>\n",
       "    <tr>\n",
       "      <th>ES_PreC</th>\n",
       "      <td>0.020853</td>\n",
       "      <td>0.027481</td>\n",
       "      <td>0.010378</td>\n",
       "      <td>0.010844</td>\n",
       "      <td>0.105011</td>\n",
       "    </tr>\n",
       "    <tr>\n",
       "      <th>ES_PostC</th>\n",
       "      <td>0.009465</td>\n",
       "      <td>0.009036</td>\n",
       "      <td>0.007973</td>\n",
       "      <td>0.008318</td>\n",
       "      <td>0.105011</td>\n",
       "    </tr>\n",
       "  </tbody>\n",
       "</table>\n",
       "</div>"
      ],
      "text/plain": [
       "              Param      Hist   Fhist_G   Fhist_E     Whist\n",
       "VaR_PreC   0.016628  0.010853  0.006311  0.006742  0.005403\n",
       "VaR_PostC  0.007547  0.006224  0.005375  0.005638  0.005403\n",
       "ES_PreC    0.020853  0.027481  0.010378  0.010844  0.105011\n",
       "ES_PostC   0.009465  0.009036  0.007973  0.008318  0.105011"
      ]
     },
     "execution_count": 421,
     "metadata": {},
     "output_type": "execute_result"
    }
   ],
   "source": [
    "df_risk_measures"
   ]
  },
  {
   "cell_type": "markdown",
   "id": "7d33f3cb",
   "metadata": {},
   "source": [
    "### PostCovid"
   ]
  },
  {
   "cell_type": "code",
   "execution_count": 69,
   "id": "108367ed",
   "metadata": {},
   "outputs": [
    {
     "data": {
      "text/html": [
       "<div>\n",
       "<style scoped>\n",
       "    .dataframe tbody tr th:only-of-type {\n",
       "        vertical-align: middle;\n",
       "    }\n",
       "\n",
       "    .dataframe tbody tr th {\n",
       "        vertical-align: top;\n",
       "    }\n",
       "\n",
       "    .dataframe thead th {\n",
       "        text-align: right;\n",
       "    }\n",
       "</style>\n",
       "<table border=\"1\" class=\"dataframe\">\n",
       "  <thead>\n",
       "    <tr style=\"text-align: right;\">\n",
       "      <th></th>\n",
       "      <th>Returns</th>\n",
       "      <th>Returns_Garch</th>\n",
       "      <th>Returns_Emwa</th>\n",
       "    </tr>\n",
       "    <tr>\n",
       "      <th>date</th>\n",
       "      <th></th>\n",
       "      <th></th>\n",
       "      <th></th>\n",
       "    </tr>\n",
       "  </thead>\n",
       "  <tbody>\n",
       "    <tr>\n",
       "      <th>2020-10-30</th>\n",
       "      <td>-0.006262</td>\n",
       "      <td>-0.003102</td>\n",
       "      <td>-0.003244</td>\n",
       "    </tr>\n",
       "    <tr>\n",
       "      <th>2020-11-02</th>\n",
       "      <td>0.008737</td>\n",
       "      <td>0.004409</td>\n",
       "      <td>0.004564</td>\n",
       "    </tr>\n",
       "    <tr>\n",
       "      <th>2020-11-03</th>\n",
       "      <td>0.009758</td>\n",
       "      <td>0.004852</td>\n",
       "      <td>0.005019</td>\n",
       "    </tr>\n",
       "    <tr>\n",
       "      <th>2020-11-04</th>\n",
       "      <td>0.009427</td>\n",
       "      <td>0.004561</td>\n",
       "      <td>0.004729</td>\n",
       "    </tr>\n",
       "    <tr>\n",
       "      <th>2020-11-05</th>\n",
       "      <td>0.012445</td>\n",
       "      <td>0.005910</td>\n",
       "      <td>0.006127</td>\n",
       "    </tr>\n",
       "    <tr>\n",
       "      <th>...</th>\n",
       "      <td>...</td>\n",
       "      <td>...</td>\n",
       "      <td>...</td>\n",
       "    </tr>\n",
       "    <tr>\n",
       "      <th>2021-10-25</th>\n",
       "      <td>0.002631</td>\n",
       "      <td>0.002361</td>\n",
       "      <td>0.002440</td>\n",
       "    </tr>\n",
       "    <tr>\n",
       "      <th>2021-10-26</th>\n",
       "      <td>-0.000340</td>\n",
       "      <td>-0.000312</td>\n",
       "      <td>-0.000322</td>\n",
       "    </tr>\n",
       "    <tr>\n",
       "      <th>2021-10-27</th>\n",
       "      <td>-0.002912</td>\n",
       "      <td>-0.002780</td>\n",
       "      <td>-0.002847</td>\n",
       "    </tr>\n",
       "    <tr>\n",
       "      <th>2021-10-28</th>\n",
       "      <td>0.004335</td>\n",
       "      <td>0.004189</td>\n",
       "      <td>0.004298</td>\n",
       "    </tr>\n",
       "    <tr>\n",
       "      <th>2021-10-29</th>\n",
       "      <td>-0.000053</td>\n",
       "      <td>0.000000</td>\n",
       "      <td>0.000000</td>\n",
       "    </tr>\n",
       "  </tbody>\n",
       "</table>\n",
       "<p>252 rows × 3 columns</p>\n",
       "</div>"
      ],
      "text/plain": [
       "             Returns  Returns_Garch  Returns_Emwa\n",
       "date                                             \n",
       "2020-10-30 -0.006262      -0.003102     -0.003244\n",
       "2020-11-02  0.008737       0.004409      0.004564\n",
       "2020-11-03  0.009758       0.004852      0.005019\n",
       "2020-11-04  0.009427       0.004561      0.004729\n",
       "2020-11-05  0.012445       0.005910      0.006127\n",
       "...              ...            ...           ...\n",
       "2021-10-25  0.002631       0.002361      0.002440\n",
       "2021-10-26 -0.000340      -0.000312     -0.000322\n",
       "2021-10-27 -0.002912      -0.002780     -0.002847\n",
       "2021-10-28  0.004335       0.004189      0.004298\n",
       "2021-10-29 -0.000053       0.000000      0.000000\n",
       "\n",
       "[252 rows x 3 columns]"
      ]
     },
     "execution_count": 69,
     "metadata": {},
     "output_type": "execute_result"
    }
   ],
   "source": [
    "df_252 = df_returns.iloc[-252:,:]\n",
    "\n",
    "df_252"
   ]
  },
  {
   "cell_type": "code",
   "execution_count": 396,
   "id": "152712ed",
   "metadata": {},
   "outputs": [],
   "source": [
    "lb_252_vol= ((df_252['Returns']**2).mean())**0.5"
   ]
  },
  {
   "cell_type": "code",
   "execution_count": 402,
   "id": "57088d9c",
   "metadata": {},
   "outputs": [],
   "source": [
    "var_param = sp.norm.ppf(0.95)*lb_252_vol"
   ]
  },
  {
   "cell_type": "code",
   "execution_count": 403,
   "id": "8fee788f",
   "metadata": {},
   "outputs": [],
   "source": [
    "es_param = sp.norm.pdf(sp.norm.ppf(0.95))*lb_252_vol/0.05"
   ]
  },
  {
   "cell_type": "code",
   "execution_count": 73,
   "id": "59d436a8",
   "metadata": {},
   "outputs": [],
   "source": [
    "var_252_hist = df_252['Returns'].quantile(q=0.05)"
   ]
  },
  {
   "cell_type": "code",
   "execution_count": 74,
   "id": "5c5ff67c",
   "metadata": {},
   "outputs": [],
   "source": [
    "es_252_hist = (df_252['Returns'][(df_252['Returns']<df_252['Returns'].quantile(q=0.05))]).mean()"
   ]
  },
  {
   "cell_type": "code",
   "execution_count": 75,
   "id": "192e0b62",
   "metadata": {},
   "outputs": [],
   "source": [
    "var_252_fhist_g = df_252['Returns_Garch'].quantile(q=0.05)"
   ]
  },
  {
   "cell_type": "code",
   "execution_count": 76,
   "id": "c53a4b81",
   "metadata": {},
   "outputs": [],
   "source": [
    "es_252_fhist_g = (df_252['Returns_Garch'][(df_252['Returns_Garch']<df_252['Returns_Garch'].quantile(q=0.05))]).mean()"
   ]
  },
  {
   "cell_type": "code",
   "execution_count": 77,
   "id": "383f31ed",
   "metadata": {},
   "outputs": [],
   "source": [
    "var_252_fhist_e = df_252['Returns_Emwa'].quantile(q=0.05)"
   ]
  },
  {
   "cell_type": "code",
   "execution_count": 78,
   "id": "caf2ba50",
   "metadata": {},
   "outputs": [],
   "source": [
    "es_252_fhist_e = (df_252['Returns_Emwa'][(df_252['Returns_Emwa']<df_252['Returns_Emwa'].quantile(q=0.05))]).mean()"
   ]
  },
  {
   "cell_type": "code",
   "execution_count": 174,
   "id": "2e2e62bb",
   "metadata": {},
   "outputs": [
    {
     "name": "stderr",
     "output_type": "stream",
     "text": [
      "<ipython-input-174-42dd3c3fa201>:4: SettingWithCopyWarning: \n",
      "A value is trying to be set on a copy of a slice from a DataFrame.\n",
      "Try using .loc[row_indexer,col_indexer] = value instead\n",
      "\n",
      "See the caveats in the documentation: https://pandas.pydata.org/pandas-docs/stable/user_guide/indexing.html#returning-a-view-versus-a-copy\n",
      "  df_252['weights']=n_w\n"
     ]
    },
    {
     "data": {
      "text/plain": [
       "1.0"
      ]
     },
     "execution_count": 174,
     "metadata": {},
     "output_type": "execute_result"
    }
   ],
   "source": [
    "weights_emwa_252=weights_emwa.loc[df_252.index,:]\n",
    "adj=lamb**252\n",
    "n_w=weights_emwa_252['weights']/(1-adj)\n",
    "df_252['weights']=n_w\n",
    "df_252['weights'].sum()"
   ]
  },
  {
   "cell_type": "code",
   "execution_count": 175,
   "id": "ca35cc9f",
   "metadata": {},
   "outputs": [
    {
     "name": "stderr",
     "output_type": "stream",
     "text": [
      "<ipython-input-175-e2679b477d2a>:1: SettingWithCopyWarning: \n",
      "A value is trying to be set on a copy of a slice from a DataFrame\n",
      "\n",
      "See the caveats in the documentation: https://pandas.pydata.org/pandas-docs/stable/user_guide/indexing.html#returning-a-view-versus-a-copy\n",
      "  df_252.sort_values('Returns', inplace=True)\n",
      "<ipython-input-175-e2679b477d2a>:2: SettingWithCopyWarning: \n",
      "A value is trying to be set on a copy of a slice from a DataFrame.\n",
      "Try using .loc[row_indexer,col_indexer] = value instead\n",
      "\n",
      "See the caveats in the documentation: https://pandas.pydata.org/pandas-docs/stable/user_guide/indexing.html#returning-a-view-versus-a-copy\n",
      "  df_252['acum_weights'] = 0\n",
      "C:\\Users\\apala\\anaconda3\\lib\\site-packages\\pandas\\core\\indexing.py:1720: SettingWithCopyWarning: \n",
      "A value is trying to be set on a copy of a slice from a DataFrame.\n",
      "Try using .loc[row_indexer,col_indexer] = value instead\n",
      "\n",
      "See the caveats in the documentation: https://pandas.pydata.org/pandas-docs/stable/user_guide/indexing.html#returning-a-view-versus-a-copy\n",
      "  self._setitem_single_column(loc, value, pi)\n"
     ]
    }
   ],
   "source": [
    "df_252.sort_values('Returns', inplace=True)\n",
    "df_252['acum_weights'] = 0\n",
    "\n",
    "for y in range(0, len(df_252.index)):\n",
    "    if y==0:\n",
    "        df_252.iloc[y, 4] = df_252.iloc[y, 3]\n",
    "    else: df_252.iloc[y, 4] = df_252.iloc[y-1, 4] + df_252.iloc[y, 3]"
   ]
  },
  {
   "cell_type": "code",
   "execution_count": 190,
   "id": "b63f16dc",
   "metadata": {},
   "outputs": [],
   "source": [
    "w_hist_df=df_252[df_252['acum_weights']<=0.05]\n",
    "\n",
    "hr_=df_252.iloc[len(w_hist_df),0]\n",
    "hw_=df_252.iloc[len(w_hist_df),4]\n",
    "lr_=w_hist_df.iloc[-1,0]\n",
    "lw_=w_hist_df.iloc[-1,4]\n",
    "\n",
    "w_hist_VaR=lr_+(0.05-lw_)/(hw_-lw_)*(hr_-lr_)\n",
    "w_hist_ES=(w_hist_df['Returns']*w_hist_df['acum_weights']).sum()/0.05"
   ]
  },
  {
   "cell_type": "code",
   "execution_count": 404,
   "id": "b66e33bf",
   "metadata": {},
   "outputs": [],
   "source": [
    "VaR_252 = [var_param, -var_252_hist, -var_252_fhist_g, -var_252_fhist_e, -w_hist_VaR]\n",
    "ES_252 = [es_param, -es_252_hist, -es_252_fhist_g, -es_252_fhist_e, -w_hist_ES]"
   ]
  },
  {
   "cell_type": "code",
   "execution_count": 405,
   "id": "cf9293cf",
   "metadata": {},
   "outputs": [],
   "source": [
    "df_risk_measures.loc['VaR_PostC']=VaR_252\n",
    "df_risk_measures.loc['ES_PostC']=ES_252"
   ]
  },
  {
   "cell_type": "code",
   "execution_count": 406,
   "id": "09624198",
   "metadata": {},
   "outputs": [
    {
     "data": {
      "text/html": [
       "<div>\n",
       "<style scoped>\n",
       "    .dataframe tbody tr th:only-of-type {\n",
       "        vertical-align: middle;\n",
       "    }\n",
       "\n",
       "    .dataframe tbody tr th {\n",
       "        vertical-align: top;\n",
       "    }\n",
       "\n",
       "    .dataframe thead th {\n",
       "        text-align: right;\n",
       "    }\n",
       "</style>\n",
       "<table border=\"1\" class=\"dataframe\">\n",
       "  <thead>\n",
       "    <tr style=\"text-align: right;\">\n",
       "      <th></th>\n",
       "      <th>Param</th>\n",
       "      <th>Hist</th>\n",
       "      <th>Fhist_G</th>\n",
       "      <th>Fhist_E</th>\n",
       "      <th>Whist</th>\n",
       "    </tr>\n",
       "  </thead>\n",
       "  <tbody>\n",
       "    <tr>\n",
       "      <th>VaR_PreC</th>\n",
       "      <td>0.000035</td>\n",
       "      <td>0.010853</td>\n",
       "      <td>0.006311</td>\n",
       "      <td>0.006742</td>\n",
       "      <td>0.005403</td>\n",
       "    </tr>\n",
       "    <tr>\n",
       "      <th>VaR_PostC</th>\n",
       "      <td>0.007547</td>\n",
       "      <td>0.006224</td>\n",
       "      <td>0.005375</td>\n",
       "      <td>0.005638</td>\n",
       "      <td>0.005403</td>\n",
       "    </tr>\n",
       "    <tr>\n",
       "      <th>ES_PreC</th>\n",
       "      <td>0.000043</td>\n",
       "      <td>0.027481</td>\n",
       "      <td>0.010378</td>\n",
       "      <td>0.010844</td>\n",
       "      <td>0.105011</td>\n",
       "    </tr>\n",
       "    <tr>\n",
       "      <th>ES_PostC</th>\n",
       "      <td>0.009465</td>\n",
       "      <td>0.009036</td>\n",
       "      <td>0.007973</td>\n",
       "      <td>0.008318</td>\n",
       "      <td>0.105011</td>\n",
       "    </tr>\n",
       "  </tbody>\n",
       "</table>\n",
       "</div>"
      ],
      "text/plain": [
       "              Param      Hist   Fhist_G   Fhist_E     Whist\n",
       "VaR_PreC   0.000035  0.010853  0.006311  0.006742  0.005403\n",
       "VaR_PostC  0.007547  0.006224  0.005375  0.005638  0.005403\n",
       "ES_PreC    0.000043  0.027481  0.010378  0.010844  0.105011\n",
       "ES_PostC   0.009465  0.009036  0.007973  0.008318  0.105011"
      ]
     },
     "execution_count": 406,
     "metadata": {},
     "output_type": "execute_result"
    }
   ],
   "source": [
    "df_risk_measures"
   ]
  },
  {
   "cell_type": "markdown",
   "id": "4f15c23c",
   "metadata": {},
   "source": [
    "# Evaluation of volatility"
   ]
  },
  {
   "cell_type": "code",
   "execution_count": 155,
   "id": "f595f187",
   "metadata": {},
   "outputs": [
    {
     "data": {
      "text/html": [
       "<div>\n",
       "<style scoped>\n",
       "    .dataframe tbody tr th:only-of-type {\n",
       "        vertical-align: middle;\n",
       "    }\n",
       "\n",
       "    .dataframe tbody tr th {\n",
       "        vertical-align: top;\n",
       "    }\n",
       "\n",
       "    .dataframe thead th {\n",
       "        text-align: right;\n",
       "    }\n",
       "</style>\n",
       "<table border=\"1\" class=\"dataframe\">\n",
       "  <thead>\n",
       "    <tr style=\"text-align: right;\">\n",
       "      <th></th>\n",
       "      <th>Garch</th>\n",
       "      <th>EWMA</th>\n",
       "    </tr>\n",
       "  </thead>\n",
       "  <tbody>\n",
       "    <tr>\n",
       "      <th>Stdv</th>\n",
       "      <td>0.99176</td>\n",
       "      <td>1.050151</td>\n",
       "    </tr>\n",
       "  </tbody>\n",
       "</table>\n",
       "</div>"
      ],
      "text/plain": [
       "        Garch      EWMA\n",
       "Stdv  0.99176  1.050151"
      ]
     },
     "execution_count": 155,
     "metadata": {},
     "output_type": "execute_result"
    }
   ],
   "source": [
    "df_eval = portfolio_ret_d.iloc[504:,:]\n",
    "bias_garch =  df_eval['z_garch'].std()\n",
    "bias_ewma =  df_eval['z_emwa'].std()\n",
    "\n",
    "df_bias = pd.DataFrame(index=['Stdv'], columns=['Garch', 'EWMA'], data= [[bias_garch,bias_ewma]])\n",
    "df_bias "
   ]
  },
  {
   "cell_type": "code",
   "execution_count": 157,
   "id": "21aa62dd",
   "metadata": {},
   "outputs": [
    {
     "data": {
      "text/html": [
       "<div>\n",
       "<style scoped>\n",
       "    .dataframe tbody tr th:only-of-type {\n",
       "        vertical-align: middle;\n",
       "    }\n",
       "\n",
       "    .dataframe tbody tr th {\n",
       "        vertical-align: top;\n",
       "    }\n",
       "\n",
       "    .dataframe thead th {\n",
       "        text-align: right;\n",
       "    }\n",
       "</style>\n",
       "<table border=\"1\" class=\"dataframe\">\n",
       "  <thead>\n",
       "    <tr style=\"text-align: right;\">\n",
       "      <th></th>\n",
       "      <th>Low Interval</th>\n",
       "      <th>High Interval</th>\n",
       "    </tr>\n",
       "  </thead>\n",
       "  <tbody>\n",
       "    <tr>\n",
       "      <th>95% Confidence Intervals</th>\n",
       "      <td>0.984491</td>\n",
       "      <td>1.015509</td>\n",
       "    </tr>\n",
       "  </tbody>\n",
       "</table>\n",
       "</div>"
      ],
      "text/plain": [
       "                          Low Interval  High Interval\n",
       "95% Confidence Intervals      0.984491       1.015509"
      ]
     },
     "execution_count": 157,
     "metadata": {},
     "output_type": "execute_result"
    }
   ],
   "source": [
    "low_interval_confidence = 1-(2/((len(portfolio_ret_d)-505)))**0.5\n",
    "high_interval_confidence = 1+(2/((len(portfolio_ret_d)-505)))**0.5\n",
    "\n",
    "df_bias_int = pd.DataFrame(index=['95% Confidence Intervals'], columns=['Low Interval', 'High Interval'], data= [[low_interval_confidence, hihg_interval_confidence]])\n",
    "df_bias_int "
   ]
  },
  {
   "cell_type": "code",
   "execution_count": 164,
   "id": "72812dbf",
   "metadata": {},
   "outputs": [
    {
     "name": "stderr",
     "output_type": "stream",
     "text": [
      "<ipython-input-164-a3b0c3cc9540>:1: SettingWithCopyWarning: \n",
      "A value is trying to be set on a copy of a slice from a DataFrame.\n",
      "Try using .loc[row_indexer,col_indexer] = value instead\n",
      "\n",
      "See the caveats in the documentation: https://pandas.pydata.org/pandas-docs/stable/user_guide/indexing.html#returning-a-view-versus-a-copy\n",
      "  df_eval[['garch_std','ewma_std']] = 5\n",
      "C:\\Users\\apala\\anaconda3\\lib\\site-packages\\pandas\\core\\indexing.py:1720: SettingWithCopyWarning: \n",
      "A value is trying to be set on a copy of a slice from a DataFrame.\n",
      "Try using .loc[row_indexer,col_indexer] = value instead\n",
      "\n",
      "See the caveats in the documentation: https://pandas.pydata.org/pandas-docs/stable/user_guide/indexing.html#returning-a-view-versus-a-copy\n",
      "  self._setitem_single_column(loc, value, pi)\n",
      "<ipython-input-164-a3b0c3cc9540>:7: SettingWithCopyWarning: \n",
      "A value is trying to be set on a copy of a slice from a DataFrame.\n",
      "Try using .loc[row_indexer,col_indexer] = value instead\n",
      "\n",
      "See the caveats in the documentation: https://pandas.pydata.org/pandas-docs/stable/user_guide/indexing.html#returning-a-view-versus-a-copy\n",
      "  df_eval['garch_std'] = z\n"
     ]
    }
   ],
   "source": [
    "df_eval[['garch_std','ewma_std']] = 5\n",
    "z = []\n",
    "\n",
    "for i in range(0,len(df_eval)):\n",
    "    z.append(portfolio_ret_d.iloc[i:504+i,7].std())\n",
    "    \n",
    "df_eval['garch_std'] = z"
   ]
  },
  {
   "cell_type": "code",
   "execution_count": 166,
   "id": "23487f04",
   "metadata": {},
   "outputs": [
    {
     "name": "stderr",
     "output_type": "stream",
     "text": [
      "<ipython-input-166-81b0d8304c17>:6: SettingWithCopyWarning: \n",
      "A value is trying to be set on a copy of a slice from a DataFrame.\n",
      "Try using .loc[row_indexer,col_indexer] = value instead\n",
      "\n",
      "See the caveats in the documentation: https://pandas.pydata.org/pandas-docs/stable/user_guide/indexing.html#returning-a-view-versus-a-copy\n",
      "  df_eval['ewma_std'] = y\n"
     ]
    }
   ],
   "source": [
    "y = []\n",
    "\n",
    "for i in range(0,len(df_eval)):\n",
    "    y.append(portfolio_ret_d.iloc[i:504+i,8].std())\n",
    "    \n",
    "df_eval['ewma_std'] = y"
   ]
  },
  {
   "cell_type": "code",
   "execution_count": 167,
   "id": "d0bbf2cf",
   "metadata": {},
   "outputs": [
    {
     "data": {
      "text/html": [
       "<div>\n",
       "<style scoped>\n",
       "    .dataframe tbody tr th:only-of-type {\n",
       "        vertical-align: middle;\n",
       "    }\n",
       "\n",
       "    .dataframe tbody tr th {\n",
       "        vertical-align: top;\n",
       "    }\n",
       "\n",
       "    .dataframe thead th {\n",
       "        text-align: right;\n",
       "    }\n",
       "</style>\n",
       "<table border=\"1\" class=\"dataframe\">\n",
       "  <thead>\n",
       "    <tr style=\"text-align: right;\">\n",
       "      <th></th>\n",
       "      <th>Garch</th>\n",
       "      <th>EWMA</th>\n",
       "    </tr>\n",
       "  </thead>\n",
       "  <tbody>\n",
       "    <tr>\n",
       "      <th>MRAD</th>\n",
       "      <td>-0.007807</td>\n",
       "      <td>0.051586</td>\n",
       "    </tr>\n",
       "  </tbody>\n",
       "</table>\n",
       "</div>"
      ],
      "text/plain": [
       "         Garch      EWMA\n",
       "MRAD -0.007807  0.051586"
      ]
     },
     "execution_count": 167,
     "metadata": {},
     "output_type": "execute_result"
    }
   ],
   "source": [
    "bias_garch_2 = (df_eval['garch_std']-1).mean()\n",
    "bias_ewma_2 = (df_eval['ewma_std']-1).mean()\n",
    "\n",
    "df_MRAD = pd.DataFrame(index=['MRAD'], columns=['Garch', 'EWMA'], data= [[bias_garch_2,bias_ewma_2]])\n",
    "df_MRAD "
   ]
  },
  {
   "cell_type": "code",
   "execution_count": 168,
   "id": "1468d9f9",
   "metadata": {},
   "outputs": [
    {
     "data": {
      "text/html": [
       "<div>\n",
       "<style scoped>\n",
       "    .dataframe tbody tr th:only-of-type {\n",
       "        vertical-align: middle;\n",
       "    }\n",
       "\n",
       "    .dataframe tbody tr th {\n",
       "        vertical-align: top;\n",
       "    }\n",
       "\n",
       "    .dataframe thead th {\n",
       "        text-align: right;\n",
       "    }\n",
       "</style>\n",
       "<table border=\"1\" class=\"dataframe\">\n",
       "  <thead>\n",
       "    <tr style=\"text-align: right;\">\n",
       "      <th></th>\n",
       "      <th>Ret</th>\n",
       "      <th>Garch</th>\n",
       "      <th>EWMA</th>\n",
       "    </tr>\n",
       "  </thead>\n",
       "  <tbody>\n",
       "    <tr>\n",
       "      <th>Skew</th>\n",
       "      <td>-1.148201</td>\n",
       "      <td>-0.457597</td>\n",
       "      <td>-0.521012</td>\n",
       "    </tr>\n",
       "    <tr>\n",
       "      <th>Robust Skew</th>\n",
       "      <td>-0.033116</td>\n",
       "      <td>-0.055374</td>\n",
       "      <td>-0.052295</td>\n",
       "    </tr>\n",
       "    <tr>\n",
       "      <th>Kurtosis</th>\n",
       "      <td>23.994012</td>\n",
       "      <td>1.873718</td>\n",
       "      <td>2.413744</td>\n",
       "    </tr>\n",
       "  </tbody>\n",
       "</table>\n",
       "</div>"
      ],
      "text/plain": [
       "                   Ret     Garch      EWMA\n",
       "Skew         -1.148201 -0.457597 -0.521012\n",
       "Robust Skew  -0.033116 -0.055374 -0.052295\n",
       "Kurtosis     23.994012  1.873718  2.413744"
      ]
     },
     "execution_count": 168,
     "metadata": {},
     "output_type": "execute_result"
    }
   ],
   "source": [
    "skew_garch =  sp.skew(df_eval['z_garch'])\n",
    "skew_ewma =  sp.skew(df_eval['z_emwa'])\n",
    "skew_ret =  sp.skew(df_eval['ret'])\n",
    "kurt_garch =  sp.kurtosis(df_eval['z_garch'])\n",
    "kurt_ewma =  sp.kurtosis(df_eval['z_emwa'])\n",
    "kurt_ret =  sp.kurtosis(df_eval['ret'])\n",
    "\n",
    "zg_mn=df_eval['z_garch'].mean()\n",
    "ze_mn=df_eval['z_garch'].mean()\n",
    "r_mn=df_eval['ret'].mean()\n",
    "zg_mdn=df_eval['z_emwa'].median()\n",
    "ze_mdn=df_eval['z_emwa'].median()\n",
    "r_mdn=df_eval['ret'].median()\n",
    "\n",
    "r_skew_garch =  (zg_mn-zg_mdn)/bias_garch\n",
    "r_skew_ewma =  (ze_mn-ze_mdn)/bias_ewma\n",
    "r_skew_r = (r_mn-r_mdn)/df_eval['ret'].std()\n",
    "\n",
    "df_dist = pd.DataFrame(index=['Skew','Robust Skew','Kurtosis'], columns=['Ret','Garch', 'EWMA'], data= [[skew_ret,skew_garch,skew_ewma],[r_skew_r,r_skew_garch,r_skew_ewma],[kurt_ret,kurt_garch,kurt_ewma]])\n",
    "df_dist"
   ]
  },
  {
   "cell_type": "code",
   "execution_count": 170,
   "id": "a2736d2a",
   "metadata": {},
   "outputs": [
    {
     "name": "stderr",
     "output_type": "stream",
     "text": [
      "<ipython-input-170-74502c1261f1>:1: SettingWithCopyWarning: \n",
      "A value is trying to be set on a copy of a slice from a DataFrame.\n",
      "Try using .loc[row_indexer,col_indexer] = value instead\n",
      "\n",
      "See the caveats in the documentation: https://pandas.pydata.org/pandas-docs/stable/user_guide/indexing.html#returning-a-view-versus-a-copy\n",
      "  df_eval[['QL_G','QL_E','d']] = 5\n",
      "C:\\Users\\apala\\anaconda3\\lib\\site-packages\\pandas\\core\\indexing.py:1720: SettingWithCopyWarning: \n",
      "A value is trying to be set on a copy of a slice from a DataFrame.\n",
      "Try using .loc[row_indexer,col_indexer] = value instead\n",
      "\n",
      "See the caveats in the documentation: https://pandas.pydata.org/pandas-docs/stable/user_guide/indexing.html#returning-a-view-versus-a-copy\n",
      "  self._setitem_single_column(loc, value, pi)\n",
      "<ipython-input-170-74502c1261f1>:3: SettingWithCopyWarning: \n",
      "A value is trying to be set on a copy of a slice from a DataFrame.\n",
      "Try using .loc[row_indexer,col_indexer] = value instead\n",
      "\n",
      "See the caveats in the documentation: https://pandas.pydata.org/pandas-docs/stable/user_guide/indexing.html#returning-a-view-versus-a-copy\n",
      "  df_eval['QL_G']=np.log(df_eval['z_garch']**2)-df_eval['z_garch']**2\n",
      "<ipython-input-170-74502c1261f1>:4: SettingWithCopyWarning: \n",
      "A value is trying to be set on a copy of a slice from a DataFrame.\n",
      "Try using .loc[row_indexer,col_indexer] = value instead\n",
      "\n",
      "See the caveats in the documentation: https://pandas.pydata.org/pandas-docs/stable/user_guide/indexing.html#returning-a-view-versus-a-copy\n",
      "  df_eval['QL_E']=np.log(df_eval['z_emwa']**2)-df_eval['z_emwa']**2\n",
      "<ipython-input-170-74502c1261f1>:5: SettingWithCopyWarning: \n",
      "A value is trying to be set on a copy of a slice from a DataFrame.\n",
      "Try using .loc[row_indexer,col_indexer] = value instead\n",
      "\n",
      "See the caveats in the documentation: https://pandas.pydata.org/pandas-docs/stable/user_guide/indexing.html#returning-a-view-versus-a-copy\n",
      "  df_eval['d'] = df_eval['QL_G'] - df_eval['QL_E']\n"
     ]
    },
    {
     "data": {
      "text/html": [
       "<div>\n",
       "<style scoped>\n",
       "    .dataframe tbody tr th:only-of-type {\n",
       "        vertical-align: middle;\n",
       "    }\n",
       "\n",
       "    .dataframe tbody tr th {\n",
       "        vertical-align: top;\n",
       "    }\n",
       "\n",
       "    .dataframe thead th {\n",
       "        text-align: right;\n",
       "    }\n",
       "</style>\n",
       "<table border=\"1\" class=\"dataframe\">\n",
       "  <thead>\n",
       "    <tr style=\"text-align: right;\">\n",
       "      <th></th>\n",
       "      <th>Garch</th>\n",
       "      <th>EWMA</th>\n",
       "      <th>A-B</th>\n",
       "    </tr>\n",
       "  </thead>\n",
       "  <tbody>\n",
       "    <tr>\n",
       "      <th>Sum_QL</th>\n",
       "      <td>-20457.054911</td>\n",
       "      <td>-20634.34863</td>\n",
       "      <td></td>\n",
       "    </tr>\n",
       "    <tr>\n",
       "      <th>Avg_d</th>\n",
       "      <td></td>\n",
       "      <td></td>\n",
       "      <td>0.02132</td>\n",
       "    </tr>\n",
       "    <tr>\n",
       "      <th>t_d</th>\n",
       "      <td></td>\n",
       "      <td></td>\n",
       "      <td>3.226644</td>\n",
       "    </tr>\n",
       "  </tbody>\n",
       "</table>\n",
       "</div>"
      ],
      "text/plain": [
       "               Garch         EWMA       A-B\n",
       "Sum_QL -20457.054911 -20634.34863          \n",
       "Avg_d                               0.02132\n",
       "t_d                                3.226644"
      ]
     },
     "execution_count": 170,
     "metadata": {},
     "output_type": "execute_result"
    }
   ],
   "source": [
    "df_eval[['QL_G','QL_E','d']] = 5\n",
    "\n",
    "df_eval['QL_G']=np.log(df_eval['z_garch']**2)-df_eval['z_garch']**2\n",
    "df_eval['QL_E']=np.log(df_eval['z_emwa']**2)-df_eval['z_emwa']**2\n",
    "df_eval['d'] = df_eval['QL_G'] - df_eval['QL_E']\n",
    "\n",
    "mean_d = df_eval['d'].mean()\n",
    "std_d = df_eval['d'].std()/((len(portfolio_ret_d)-505)**0.5)\n",
    "t_d = mean_d/std_d\n",
    "\n",
    "df_QL = pd.DataFrame(index=['Sum_QL','Avg_d','t_d'], columns=['Garch', 'EWMA', 'A-B'], data= [[df_eval['QL_G'].sum(),df_eval['QL_E'].sum(),''],['','',mean_d],['','',t_d]])\n",
    "df_QL"
   ]
  },
  {
   "cell_type": "markdown",
   "id": "ada257ad",
   "metadata": {},
   "source": [
    "# Evaluation of VaR"
   ]
  },
  {
   "cell_type": "code",
   "execution_count": 204,
   "id": "a6c6b6ef",
   "metadata": {},
   "outputs": [],
   "source": [
    "import warnings\n",
    "warnings.filterwarnings(\"ignore\")"
   ]
  },
  {
   "cell_type": "code",
   "execution_count": 342,
   "id": "07fc31e3",
   "metadata": {},
   "outputs": [],
   "source": [
    "df_eval[['p_VaR_t','h_VaR_t','fhg_VaR_t','fhe_VaR_t','wh_VaR_t']] = 5"
   ]
  },
  {
   "cell_type": "code",
   "execution_count": 380,
   "id": "3d5af1d6",
   "metadata": {},
   "outputs": [],
   "source": [
    "a = []\n",
    "for i in range(0,len(df_eval)):\n",
    "    v= portfolio_ret_d.iloc[i:504+i,0].std()\n",
    "    a.append(-sp.norm.ppf(0.95)*v)\n",
    "    \n",
    "df_eval['p_VaR_t'] = a\n",
    "\n",
    "b = []\n",
    "for i in range(0,len(df_eval)):\n",
    "    b.append(portfolio_ret_d.iloc[i:504+i,0].quantile(q=0.05))\n",
    "    \n",
    "df_eval['h_VaR_t'] = b\n",
    "\n",
    "c = []\n",
    "for i in range(0,len(df_eval)):\n",
    "    if i < len(df_eval)-1:\n",
    "        c.append((portfolio_ret_d.iloc[i:504+i,0]*portfolio_ret_d.iloc[504+i+1,3]/portfolio_ret_d.iloc[i:504+i,3]).quantile(q=0.05))\n",
    "    else:\n",
    "        c.append((portfolio_ret_d.iloc[i:504+i,0]*forc_vol_garch[0]/portfolio_ret_d.iloc[i:504+i,3]).quantile(q=0.05))\n",
    "    \n",
    "df_eval['fhg_VaR_t'] = c\n",
    "\n",
    "d = []\n",
    "for i in range(0,len(df_eval)):\n",
    "    if i < len(df_eval)-1:\n",
    "        d.append((portfolio_ret_d.iloc[i:504+i,0]*portfolio_ret_d.iloc[504+i+1,4]/portfolio_ret_d.iloc[i:504+i,4]).quantile(q=0.05))\n",
    "    else:\n",
    "        d.append((portfolio_ret_d.iloc[i:504+i,0]*forc_vol_emwa[0]/portfolio_ret_d.iloc[i:504+i,4]).quantile(q=0.05))\n",
    "    \n",
    "df_eval['fhe_VaR_t'] = d"
   ]
  },
  {
   "cell_type": "code",
   "execution_count": 344,
   "id": "c7891326",
   "metadata": {},
   "outputs": [],
   "source": [
    "e = []\n",
    "for i in range(0,len(df_eval)):\n",
    "    weights_temp=[]\n",
    "    temp=[]\n",
    "    w_temp_df=[]\n",
    "    s=0\n",
    "    \n",
    "    weights_temp = weights_emwa.iloc[i:504+i,0]\n",
    "    s = weights_temp.sum()\n",
    "    weights_temp = weights_temp/s \n",
    "    temp = pd.DataFrame(portfolio_ret_d.iloc[i:504+i,0])\n",
    "    temp['w'] = weights_temp\n",
    "    temp.sort_values('ret', inplace=True)\n",
    "    temp['acum_weights'] = 0\n",
    "    for y in range(0, len(temp.index)):\n",
    "        if y==0:\n",
    "            temp.iloc[y, 2] = temp.iloc[y, 1]\n",
    "        else: temp.iloc[y, 2] = temp.iloc[y-1, 2] + temp.iloc[y, 1]\n",
    "    w_temp_df=temp.loc[temp['acum_weights']<=0.05,['ret','w','acum_weights']]\n",
    "    hr_t=temp.iloc[len(w_temp_df),0]\n",
    "    hw_t=temp.iloc[len(w_temp_df),2]\n",
    "    if len(w_temp_df.index) > 0:\n",
    "        lr_t=w_temp_df.iloc[-1,0]\n",
    "        lw_t=w_temp_df.iloc[-1,2]\n",
    "        e.append(lr_t+(0.05-lw_t)/(hw_t-lw_t)*(hr_t-lr_t))\n",
    "    else:\n",
    "        e.append(temp.iloc[0,0])\n",
    "    \n",
    "df_eval['wh_VaR_t'] = e"
   ]
  },
  {
   "cell_type": "code",
   "execution_count": 394,
   "id": "88508050",
   "metadata": {},
   "outputs": [
    {
     "data": {
      "text/plain": [
       "<matplotlib.legend.Legend at 0x1dc37fef1c0>"
      ]
     },
     "execution_count": 394,
     "metadata": {},
     "output_type": "execute_result"
    },
    {
     "data": {
      "image/png": "[encoded data removed]",
      "text/plain": [
       "<Figure size 432x288 with 1 Axes>"
      ]
     },
     "metadata": {
      "needs_background": "light"
     },
     "output_type": "display_data"
    }
   ],
   "source": [
    "df_eval[['p_VaR_t','h_VaR_t']].plot()\n",
    "df_eval['fhg_VaR_t'].plot(alpha=0.4)\n",
    "df_eval['fhe_VaR_t'].plot(alpha=0.4)\n",
    "df_eval['wh_VaR_t'].plot(alpha=0.4)\n",
    "df_eval['ret'].plot(alpha=0.3)\n",
    "plt.legend()"
   ]
  },
  {
   "cell_type": "code",
   "execution_count": 382,
   "id": "fa77df0e",
   "metadata": {},
   "outputs": [
    {
     "data": {
      "text/html": [
       "<div>\n",
       "<style scoped>\n",
       "    .dataframe tbody tr th:only-of-type {\n",
       "        vertical-align: middle;\n",
       "    }\n",
       "\n",
       "    .dataframe tbody tr th {\n",
       "        vertical-align: top;\n",
       "    }\n",
       "\n",
       "    .dataframe thead th {\n",
       "        text-align: right;\n",
       "    }\n",
       "</style>\n",
       "<table border=\"1\" class=\"dataframe\">\n",
       "  <thead>\n",
       "    <tr style=\"text-align: right;\">\n",
       "      <th></th>\n",
       "      <th>Average Number of Excedences per Year</th>\n",
       "    </tr>\n",
       "  </thead>\n",
       "  <tbody>\n",
       "    <tr>\n",
       "      <th>p_VaR_t</th>\n",
       "      <td>11.12</td>\n",
       "    </tr>\n",
       "    <tr>\n",
       "      <th>h_VaR_t</th>\n",
       "      <td>13.00</td>\n",
       "    </tr>\n",
       "    <tr>\n",
       "      <th>fhg_VaR_t</th>\n",
       "      <td>9.82</td>\n",
       "    </tr>\n",
       "    <tr>\n",
       "      <th>fhe_VaR_t</th>\n",
       "      <td>10.91</td>\n",
       "    </tr>\n",
       "    <tr>\n",
       "      <th>wh_VaR_t</th>\n",
       "      <td>15.88</td>\n",
       "    </tr>\n",
       "  </tbody>\n",
       "</table>\n",
       "</div>"
      ],
      "text/plain": [
       "           Average Number of Excedences per Year\n",
       "p_VaR_t                                    11.12\n",
       "h_VaR_t                                    13.00\n",
       "fhg_VaR_t                                   9.82\n",
       "fhe_VaR_t                                  10.91\n",
       "wh_VaR_t                                   15.88"
      ]
     },
     "execution_count": 382,
     "metadata": {},
     "output_type": "execute_result"
    }
   ],
   "source": [
    "VaR_t=pd.DataFrame(index=df_eval.index, columns= ['p_VaR_t','h_VaR_t','fhg_VaR_t','fhe_VaR_t','wh_VaR_t'])\n",
    "\n",
    "VaR_t['p_VaR_t']= df_eval['ret']<df_eval['p_VaR_t']\n",
    "VaR_t['h_VaR_t']= df_eval['ret']<df_eval['h_VaR_t']\n",
    "VaR_t['fhg_VaR_t']= df_eval['ret']<df_eval['fhg_VaR_t']\n",
    "VaR_t['fhe_VaR_t']= df_eval['ret']<df_eval['fhe_VaR_t']\n",
    "VaR_t['wh_VaR_t']= df_eval['ret']<df_eval['wh_VaR_t']\n",
    "\n",
    "VaR_t_2=VaR_t.groupby(pd.Grouper(freq='Y')).sum()\n",
    "pd.DataFrame(columns=['Average Number of Excedences per Year'],data=VaR_t_2.mean().round(2))"
   ]
  },
  {
   "cell_type": "code",
   "execution_count": 383,
   "id": "7e4523b7",
   "metadata": {},
   "outputs": [
    {
     "data": {
      "text/plain": [
       "<AxesSubplot:xlabel='date'>"
      ]
     },
     "execution_count": 383,
     "metadata": {},
     "output_type": "execute_result"
    },
    {
     "data": {
      "image/png": "[encoded data removed]",
      "text/plain": [
       "<Figure size 432x288 with 1 Axes>"
      ]
     },
     "metadata": {
      "needs_background": "light"
     },
     "output_type": "display_data"
    }
   ],
   "source": [
    "VaR_t_2.plot()"
   ]
  },
  {
   "cell_type": "code",
   "execution_count": 395,
   "id": "68208486",
   "metadata": {},
   "outputs": [
    {
     "data": {
      "text/plain": [
       "<matplotlib.legend.Legend at 0x1dc382a2370>"
      ]
     },
     "execution_count": 395,
     "metadata": {},
     "output_type": "execute_result"
    },
    {
     "data": {
      "image/png": "[encoded data removed]",
      "text/plain": [
       "<Figure size 432x288 with 1 Axes>"
      ]
     },
     "metadata": {
      "needs_background": "light"
     },
     "output_type": "display_data"
    }
   ],
   "source": [
    "df_eval[['p_VaR_t','fhg_VaR_t','fhe_VaR_t']].plot()\n",
    "df_eval['wh_VaR_t'].plot(alpha=0.5)\n",
    "plt.legend()"
   ]
  },
  {
   "cell_type": "code",
   "execution_count": null,
   "id": "b187fda8",
   "metadata": {},
   "outputs": [],
   "source": []
  }
 ],
 "metadata": {
  "kernelspec": {
   "display_name": "Python 3",
   "language": "python",
   "name": "python3"
  },
  "language_info": {
   "codemirror_mode": {
    "name": "ipython",
    "version": 3
   },
   "file_extension": ".py",
   "mimetype": "text/x-python",
   "name": "python",
   "nbconvert_exporter": "python",
   "pygments_lexer": "ipython3",
   "version": "3.8.5"
  }
 },
 "nbformat": 4,
 "nbformat_minor": 5
}
