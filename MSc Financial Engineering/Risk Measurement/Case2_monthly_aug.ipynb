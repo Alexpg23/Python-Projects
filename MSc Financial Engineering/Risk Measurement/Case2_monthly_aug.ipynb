{
 "cells": [
  {
   "cell_type": "code",
   "execution_count": 1,
   "id": "734d9d30",
   "metadata": {},
   "outputs": [],
   "source": [
    "import pandas as pd\n",
    "import numpy as np\n",
    "from pandas.tseries.offsets import MonthEnd\n",
    "import matplotlib.pyplot as plt\n",
    "import scipy.stats as sp\n",
    "from arch import arch_model\n",
    "from arch.univariate import ZeroMean,GARCH,Normal,EWMAVariance\n",
    "import matplotlib.ticker as mtick\n",
    "import warnings\n",
    "warnings.filterwarnings(\"ignore\")"
   ]
  },
  {
   "cell_type": "code",
   "execution_count": 2,
   "id": "ab891f60",
   "metadata": {},
   "outputs": [],
   "source": [
    "df=pd.read_excel(\"data.xlsx\" ,index_col=0, parse_dates=True)"
   ]
  },
  {
   "cell_type": "code",
   "execution_count": 3,
   "id": "5196ef6b",
   "metadata": {},
   "outputs": [
    {
     "data": {
      "text/html": [
       "<div>\n",
       "<style scoped>\n",
       "    .dataframe tbody tr th:only-of-type {\n",
       "        vertical-align: middle;\n",
       "    }\n",
       "\n",
       "    .dataframe tbody tr th {\n",
       "        vertical-align: top;\n",
       "    }\n",
       "\n",
       "    .dataframe thead th {\n",
       "        text-align: right;\n",
       "    }\n",
       "</style>\n",
       "<table border=\"1\" class=\"dataframe\">\n",
       "  <thead>\n",
       "    <tr style=\"text-align: right;\">\n",
       "      <th></th>\n",
       "      <th>Equities</th>\n",
       "      <th>Tsies</th>\n",
       "      <th>CorpIG</th>\n",
       "      <th>AbsReturn</th>\n",
       "      <th>Gold</th>\n",
       "      <th>Oil</th>\n",
       "    </tr>\n",
       "    <tr>\n",
       "      <th>date</th>\n",
       "      <th></th>\n",
       "      <th></th>\n",
       "      <th></th>\n",
       "      <th></th>\n",
       "      <th></th>\n",
       "      <th></th>\n",
       "    </tr>\n",
       "  </thead>\n",
       "  <tbody>\n",
       "    <tr>\n",
       "      <th>1986-10-31</th>\n",
       "      <td>100.000000</td>\n",
       "      <td>100.000000</td>\n",
       "      <td>100.000000</td>\n",
       "      <td>100.000000</td>\n",
       "      <td>100.000000</td>\n",
       "      <td>100.000000</td>\n",
       "    </tr>\n",
       "    <tr>\n",
       "      <th>1986-11-03</th>\n",
       "      <td>100.621000</td>\n",
       "      <td>100.350693</td>\n",
       "      <td>100.169884</td>\n",
       "      <td>99.888000</td>\n",
       "      <td>101.296758</td>\n",
       "      <td>96.393443</td>\n",
       "    </tr>\n",
       "    <tr>\n",
       "      <th>1986-11-04</th>\n",
       "      <td>100.853435</td>\n",
       "      <td>100.210050</td>\n",
       "      <td>100.336838</td>\n",
       "      <td>100.069796</td>\n",
       "      <td>101.745636</td>\n",
       "      <td>98.688525</td>\n",
       "    </tr>\n",
       "    <tr>\n",
       "      <th>1986-11-05</th>\n",
       "      <td>101.086406</td>\n",
       "      <td>100.703160</td>\n",
       "      <td>100.503793</td>\n",
       "      <td>100.616177</td>\n",
       "      <td>101.059850</td>\n",
       "      <td>97.901639</td>\n",
       "    </tr>\n",
       "    <tr>\n",
       "      <th>1986-11-06</th>\n",
       "      <td>100.865027</td>\n",
       "      <td>100.138867</td>\n",
       "      <td>100.480361</td>\n",
       "      <td>100.714781</td>\n",
       "      <td>101.882793</td>\n",
       "      <td>98.885246</td>\n",
       "    </tr>\n",
       "    <tr>\n",
       "      <th>...</th>\n",
       "      <td>...</td>\n",
       "      <td>...</td>\n",
       "      <td>...</td>\n",
       "      <td>...</td>\n",
       "      <td>...</td>\n",
       "      <td>...</td>\n",
       "    </tr>\n",
       "    <tr>\n",
       "      <th>2021-10-25</th>\n",
       "      <td>4081.420245</td>\n",
       "      <td>152.128638</td>\n",
       "      <td>1029.079406</td>\n",
       "      <td>1609.593575</td>\n",
       "      <td>450.187032</td>\n",
       "      <td>555.016393</td>\n",
       "    </tr>\n",
       "    <tr>\n",
       "      <th>2021-10-26</th>\n",
       "      <td>4083.052813</td>\n",
       "      <td>152.268491</td>\n",
       "      <td>1031.343546</td>\n",
       "      <td>1600.354508</td>\n",
       "      <td>445.274314</td>\n",
       "      <td>561.573770</td>\n",
       "    </tr>\n",
       "    <tr>\n",
       "      <th>2021-10-27</th>\n",
       "      <td>4052.021612</td>\n",
       "      <td>153.534099</td>\n",
       "      <td>1038.844791</td>\n",
       "      <td>1589.936200</td>\n",
       "      <td>447.693267</td>\n",
       "      <td>542.032787</td>\n",
       "    </tr>\n",
       "    <tr>\n",
       "      <th>2021-10-28</th>\n",
       "      <td>4098.214658</td>\n",
       "      <td>153.109371</td>\n",
       "      <td>1035.751735</td>\n",
       "      <td>1579.363124</td>\n",
       "      <td>449.750623</td>\n",
       "      <td>542.819672</td>\n",
       "    </tr>\n",
       "    <tr>\n",
       "      <th>2021-10-29</th>\n",
       "      <td>4107.230731</td>\n",
       "      <td>153.392027</td>\n",
       "      <td>1035.775168</td>\n",
       "      <td>1567.202028</td>\n",
       "      <td>441.184539</td>\n",
       "      <td>547.540984</td>\n",
       "    </tr>\n",
       "  </tbody>\n",
       "</table>\n",
       "<p>8821 rows × 6 columns</p>\n",
       "</div>"
      ],
      "text/plain": [
       "               Equities       Tsies       CorpIG    AbsReturn        Gold  \\\n",
       "date                                                                        \n",
       "1986-10-31   100.000000  100.000000   100.000000   100.000000  100.000000   \n",
       "1986-11-03   100.621000  100.350693   100.169884    99.888000  101.296758   \n",
       "1986-11-04   100.853435  100.210050   100.336838   100.069796  101.745636   \n",
       "1986-11-05   101.086406  100.703160   100.503793   100.616177  101.059850   \n",
       "1986-11-06   100.865027  100.138867   100.480361   100.714781  101.882793   \n",
       "...                 ...         ...          ...          ...         ...   \n",
       "2021-10-25  4081.420245  152.128638  1029.079406  1609.593575  450.187032   \n",
       "2021-10-26  4083.052813  152.268491  1031.343546  1600.354508  445.274314   \n",
       "2021-10-27  4052.021612  153.534099  1038.844791  1589.936200  447.693267   \n",
       "2021-10-28  4098.214658  153.109371  1035.751735  1579.363124  449.750623   \n",
       "2021-10-29  4107.230731  153.392027  1035.775168  1567.202028  441.184539   \n",
       "\n",
       "                   Oil  \n",
       "date                    \n",
       "1986-10-31  100.000000  \n",
       "1986-11-03   96.393443  \n",
       "1986-11-04   98.688525  \n",
       "1986-11-05   97.901639  \n",
       "1986-11-06   98.885246  \n",
       "...                ...  \n",
       "2021-10-25  555.016393  \n",
       "2021-10-26  561.573770  \n",
       "2021-10-27  542.032787  \n",
       "2021-10-28  542.819672  \n",
       "2021-10-29  547.540984  \n",
       "\n",
       "[8821 rows x 6 columns]"
      ]
     },
     "execution_count": 3,
     "metadata": {},
     "output_type": "execute_result"
    }
   ],
   "source": [
    "df"
   ]
  },
  {
   "cell_type": "markdown",
   "id": "35afe546",
   "metadata": {},
   "source": [
    "# Creating Returns and Analysing results"
   ]
  },
  {
   "cell_type": "code",
   "execution_count": 4,
   "id": "17e5665b",
   "metadata": {},
   "outputs": [
    {
     "data": {
      "text/html": [
       "<div>\n",
       "<style scoped>\n",
       "    .dataframe tbody tr th:only-of-type {\n",
       "        vertical-align: middle;\n",
       "    }\n",
       "\n",
       "    .dataframe tbody tr th {\n",
       "        vertical-align: top;\n",
       "    }\n",
       "\n",
       "    .dataframe thead th {\n",
       "        text-align: right;\n",
       "    }\n",
       "</style>\n",
       "<table border=\"1\" class=\"dataframe\">\n",
       "  <thead>\n",
       "    <tr style=\"text-align: right;\">\n",
       "      <th></th>\n",
       "      <th>Equities</th>\n",
       "      <th>Tsies</th>\n",
       "      <th>CorpIG</th>\n",
       "      <th>AbsReturn</th>\n",
       "      <th>Gold</th>\n",
       "      <th>Oil</th>\n",
       "    </tr>\n",
       "    <tr>\n",
       "      <th>date</th>\n",
       "      <th></th>\n",
       "      <th></th>\n",
       "      <th></th>\n",
       "      <th></th>\n",
       "      <th></th>\n",
       "      <th></th>\n",
       "    </tr>\n",
       "  </thead>\n",
       "  <tbody>\n",
       "    <tr>\n",
       "      <th>1986-11-03</th>\n",
       "      <td>0.00621</td>\n",
       "      <td>0.003507</td>\n",
       "      <td>0.001699</td>\n",
       "      <td>-0.00112</td>\n",
       "      <td>0.012968</td>\n",
       "      <td>-0.036066</td>\n",
       "    </tr>\n",
       "    <tr>\n",
       "      <th>1986-11-04</th>\n",
       "      <td>0.00231</td>\n",
       "      <td>-0.001402</td>\n",
       "      <td>0.001667</td>\n",
       "      <td>0.00182</td>\n",
       "      <td>0.004431</td>\n",
       "      <td>0.023810</td>\n",
       "    </tr>\n",
       "    <tr>\n",
       "      <th>1986-11-05</th>\n",
       "      <td>0.00231</td>\n",
       "      <td>0.004921</td>\n",
       "      <td>0.001664</td>\n",
       "      <td>0.00546</td>\n",
       "      <td>-0.006740</td>\n",
       "      <td>-0.007973</td>\n",
       "    </tr>\n",
       "    <tr>\n",
       "      <th>1986-11-06</th>\n",
       "      <td>-0.00219</td>\n",
       "      <td>-0.005604</td>\n",
       "      <td>-0.000233</td>\n",
       "      <td>0.00098</td>\n",
       "      <td>0.008143</td>\n",
       "      <td>0.010047</td>\n",
       "    </tr>\n",
       "    <tr>\n",
       "      <th>1986-11-07</th>\n",
       "      <td>0.00001</td>\n",
       "      <td>-0.005583</td>\n",
       "      <td>-0.002303</td>\n",
       "      <td>0.00252</td>\n",
       "      <td>-0.000857</td>\n",
       "      <td>0.004642</td>\n",
       "    </tr>\n",
       "    <tr>\n",
       "      <th>...</th>\n",
       "      <td>...</td>\n",
       "      <td>...</td>\n",
       "      <td>...</td>\n",
       "      <td>...</td>\n",
       "      <td>...</td>\n",
       "      <td>...</td>\n",
       "    </tr>\n",
       "    <tr>\n",
       "      <th>2021-10-25</th>\n",
       "      <td>0.00580</td>\n",
       "      <td>0.001838</td>\n",
       "      <td>0.001437</td>\n",
       "      <td>-0.00630</td>\n",
       "      <td>-0.001659</td>\n",
       "      <td>0.001301</td>\n",
       "    </tr>\n",
       "    <tr>\n",
       "      <th>2021-10-26</th>\n",
       "      <td>0.00040</td>\n",
       "      <td>0.000919</td>\n",
       "      <td>0.002200</td>\n",
       "      <td>-0.00574</td>\n",
       "      <td>-0.010913</td>\n",
       "      <td>0.011815</td>\n",
       "    </tr>\n",
       "    <tr>\n",
       "      <th>2021-10-27</th>\n",
       "      <td>-0.00760</td>\n",
       "      <td>0.008312</td>\n",
       "      <td>0.007273</td>\n",
       "      <td>-0.00651</td>\n",
       "      <td>0.005432</td>\n",
       "      <td>-0.034797</td>\n",
       "    </tr>\n",
       "    <tr>\n",
       "      <th>2021-10-28</th>\n",
       "      <td>0.01140</td>\n",
       "      <td>-0.002766</td>\n",
       "      <td>-0.002977</td>\n",
       "      <td>-0.00665</td>\n",
       "      <td>0.004595</td>\n",
       "      <td>0.001452</td>\n",
       "    </tr>\n",
       "    <tr>\n",
       "      <th>2021-10-29</th>\n",
       "      <td>0.00220</td>\n",
       "      <td>0.001846</td>\n",
       "      <td>0.000023</td>\n",
       "      <td>-0.00770</td>\n",
       "      <td>-0.019046</td>\n",
       "      <td>0.008698</td>\n",
       "    </tr>\n",
       "  </tbody>\n",
       "</table>\n",
       "<p>8820 rows × 6 columns</p>\n",
       "</div>"
      ],
      "text/plain": [
       "            Equities     Tsies    CorpIG  AbsReturn      Gold       Oil\n",
       "date                                                                   \n",
       "1986-11-03   0.00621  0.003507  0.001699   -0.00112  0.012968 -0.036066\n",
       "1986-11-04   0.00231 -0.001402  0.001667    0.00182  0.004431  0.023810\n",
       "1986-11-05   0.00231  0.004921  0.001664    0.00546 -0.006740 -0.007973\n",
       "1986-11-06  -0.00219 -0.005604 -0.000233    0.00098  0.008143  0.010047\n",
       "1986-11-07   0.00001 -0.005583 -0.002303    0.00252 -0.000857  0.004642\n",
       "...              ...       ...       ...        ...       ...       ...\n",
       "2021-10-25   0.00580  0.001838  0.001437   -0.00630 -0.001659  0.001301\n",
       "2021-10-26   0.00040  0.000919  0.002200   -0.00574 -0.010913  0.011815\n",
       "2021-10-27  -0.00760  0.008312  0.007273   -0.00651  0.005432 -0.034797\n",
       "2021-10-28   0.01140 -0.002766 -0.002977   -0.00665  0.004595  0.001452\n",
       "2021-10-29   0.00220  0.001846  0.000023   -0.00770 -0.019046  0.008698\n",
       "\n",
       "[8820 rows x 6 columns]"
      ]
     },
     "execution_count": 4,
     "metadata": {},
     "output_type": "execute_result"
    }
   ],
   "source": [
    "df_d_ret=df/df.shift(1)-1\n",
    "df_d_ret.dropna(inplace=True)\n",
    "df_d_ret"
   ]
  },
  {
   "cell_type": "code",
   "execution_count": 5,
   "id": "dba287c4",
   "metadata": {},
   "outputs": [
    {
     "data": {
      "text/html": [
       "<div>\n",
       "<style scoped>\n",
       "    .dataframe tbody tr th:only-of-type {\n",
       "        vertical-align: middle;\n",
       "    }\n",
       "\n",
       "    .dataframe tbody tr th {\n",
       "        vertical-align: top;\n",
       "    }\n",
       "\n",
       "    .dataframe thead th {\n",
       "        text-align: right;\n",
       "    }\n",
       "</style>\n",
       "<table border=\"1\" class=\"dataframe\">\n",
       "  <thead>\n",
       "    <tr style=\"text-align: right;\">\n",
       "      <th></th>\n",
       "      <th>Equities</th>\n",
       "      <th>Tsies</th>\n",
       "      <th>CorpIG</th>\n",
       "      <th>AbsReturn</th>\n",
       "      <th>Gold</th>\n",
       "      <th>Oil</th>\n",
       "    </tr>\n",
       "    <tr>\n",
       "      <th>date</th>\n",
       "      <th></th>\n",
       "      <th></th>\n",
       "      <th></th>\n",
       "      <th></th>\n",
       "      <th></th>\n",
       "      <th></th>\n",
       "    </tr>\n",
       "  </thead>\n",
       "  <tbody>\n",
       "    <tr>\n",
       "      <th>1986-11-30</th>\n",
       "      <td>0.015783</td>\n",
       "      <td>0.013404</td>\n",
       "      <td>0.017311</td>\n",
       "      <td>0.015520</td>\n",
       "      <td>-0.028678</td>\n",
       "      <td>-0.016393</td>\n",
       "    </tr>\n",
       "    <tr>\n",
       "      <th>1986-12-31</th>\n",
       "      <td>-0.028032</td>\n",
       "      <td>-0.005662</td>\n",
       "      <td>0.011171</td>\n",
       "      <td>0.013714</td>\n",
       "      <td>-0.001926</td>\n",
       "      <td>0.195333</td>\n",
       "    </tr>\n",
       "    <tr>\n",
       "      <th>1987-01-31</th>\n",
       "      <td>0.128832</td>\n",
       "      <td>0.003491</td>\n",
       "      <td>0.015917</td>\n",
       "      <td>-0.022385</td>\n",
       "      <td>0.030225</td>\n",
       "      <td>0.044618</td>\n",
       "    </tr>\n",
       "    <tr>\n",
       "      <th>1987-02-28</th>\n",
       "      <td>0.048564</td>\n",
       "      <td>-0.000733</td>\n",
       "      <td>0.007259</td>\n",
       "      <td>-0.057454</td>\n",
       "      <td>0.013358</td>\n",
       "      <td>-0.121730</td>\n",
       "    </tr>\n",
       "    <tr>\n",
       "      <th>1987-03-31</th>\n",
       "      <td>0.020713</td>\n",
       "      <td>-0.022195</td>\n",
       "      <td>-0.005064</td>\n",
       "      <td>0.053161</td>\n",
       "      <td>0.037329</td>\n",
       "      <td>0.144073</td>\n",
       "    </tr>\n",
       "    <tr>\n",
       "      <th>...</th>\n",
       "      <td>...</td>\n",
       "      <td>...</td>\n",
       "      <td>...</td>\n",
       "      <td>...</td>\n",
       "      <td>...</td>\n",
       "      <td>...</td>\n",
       "    </tr>\n",
       "    <tr>\n",
       "      <th>2021-06-30</th>\n",
       "      <td>0.027363</td>\n",
       "      <td>0.012022</td>\n",
       "      <td>0.016835</td>\n",
       "      <td>-0.072918</td>\n",
       "      <td>-0.072002</td>\n",
       "      <td>0.108732</td>\n",
       "    </tr>\n",
       "    <tr>\n",
       "      <th>2021-07-31</th>\n",
       "      <td>0.012483</td>\n",
       "      <td>0.019682</td>\n",
       "      <td>0.012074</td>\n",
       "      <td>0.022422</td>\n",
       "      <td>0.035505</td>\n",
       "      <td>0.005577</td>\n",
       "    </tr>\n",
       "    <tr>\n",
       "      <th>2021-08-31</th>\n",
       "      <td>0.029175</td>\n",
       "      <td>-0.005652</td>\n",
       "      <td>-0.001959</td>\n",
       "      <td>-0.014198</td>\n",
       "      <td>-0.005970</td>\n",
       "      <td>-0.074395</td>\n",
       "    </tr>\n",
       "    <tr>\n",
       "      <th>2021-09-30</th>\n",
       "      <td>-0.043660</td>\n",
       "      <td>-0.020315</td>\n",
       "      <td>-0.010571</td>\n",
       "      <td>0.036912</td>\n",
       "      <td>-0.039700</td>\n",
       "      <td>0.099225</td>\n",
       "    </tr>\n",
       "    <tr>\n",
       "      <th>2021-10-31</th>\n",
       "      <td>0.066594</td>\n",
       "      <td>-0.002825</td>\n",
       "      <td>0.002407</td>\n",
       "      <td>-0.000948</td>\n",
       "      <td>0.015119</td>\n",
       "      <td>0.110077</td>\n",
       "    </tr>\n",
       "  </tbody>\n",
       "</table>\n",
       "<p>420 rows × 6 columns</p>\n",
       "</div>"
      ],
      "text/plain": [
       "            Equities     Tsies    CorpIG  AbsReturn      Gold       Oil\n",
       "date                                                                   \n",
       "1986-11-30  0.015783  0.013404  0.017311   0.015520 -0.028678 -0.016393\n",
       "1986-12-31 -0.028032 -0.005662  0.011171   0.013714 -0.001926  0.195333\n",
       "1987-01-31  0.128832  0.003491  0.015917  -0.022385  0.030225  0.044618\n",
       "1987-02-28  0.048564 -0.000733  0.007259  -0.057454  0.013358 -0.121730\n",
       "1987-03-31  0.020713 -0.022195 -0.005064   0.053161  0.037329  0.144073\n",
       "...              ...       ...       ...        ...       ...       ...\n",
       "2021-06-30  0.027363  0.012022  0.016835  -0.072918 -0.072002  0.108732\n",
       "2021-07-31  0.012483  0.019682  0.012074   0.022422  0.035505  0.005577\n",
       "2021-08-31  0.029175 -0.005652 -0.001959  -0.014198 -0.005970 -0.074395\n",
       "2021-09-30 -0.043660 -0.020315 -0.010571   0.036912 -0.039700  0.099225\n",
       "2021-10-31  0.066594 -0.002825  0.002407  -0.000948  0.015119  0.110077\n",
       "\n",
       "[420 rows x 6 columns]"
      ]
     },
     "execution_count": 5,
     "metadata": {},
     "output_type": "execute_result"
    }
   ],
   "source": [
    "df_d_ret_2=df_d_ret+1\n",
    "df_monthly_ret=df_d_ret_2.groupby(pd.Grouper(freq='M')).prod()-1\n",
    "df_monthly_ret"
   ]
  },
  {
   "cell_type": "code",
   "execution_count": 6,
   "id": "61c9f820",
   "metadata": {},
   "outputs": [],
   "source": [
    "weights_aug=pd.DataFrame(index=[\"weights\"],columns=df.columns,data=[[0.4,0.2,0.05,0.2,0.15,0.0]])"
   ]
  },
  {
   "cell_type": "code",
   "execution_count": 7,
   "id": "7662c83b",
   "metadata": {},
   "outputs": [
    {
     "data": {
      "text/html": [
       "<div>\n",
       "<style scoped>\n",
       "    .dataframe tbody tr th:only-of-type {\n",
       "        vertical-align: middle;\n",
       "    }\n",
       "\n",
       "    .dataframe tbody tr th {\n",
       "        vertical-align: top;\n",
       "    }\n",
       "\n",
       "    .dataframe thead th {\n",
       "        text-align: right;\n",
       "    }\n",
       "</style>\n",
       "<table border=\"1\" class=\"dataframe\">\n",
       "  <thead>\n",
       "    <tr style=\"text-align: right;\">\n",
       "      <th></th>\n",
       "      <th>Equities</th>\n",
       "      <th>Tsies</th>\n",
       "      <th>CorpIG</th>\n",
       "      <th>AbsReturn</th>\n",
       "      <th>Gold</th>\n",
       "      <th>Oil</th>\n",
       "    </tr>\n",
       "  </thead>\n",
       "  <tbody>\n",
       "    <tr>\n",
       "      <th>weights</th>\n",
       "      <td>40.0%</td>\n",
       "      <td>20.0%</td>\n",
       "      <td>5.0%</td>\n",
       "      <td>20.0%</td>\n",
       "      <td>15.0%</td>\n",
       "      <td>0.0%</td>\n",
       "    </tr>\n",
       "  </tbody>\n",
       "</table>\n",
       "</div>"
      ],
      "text/plain": [
       "        Equities  Tsies CorpIG AbsReturn   Gold   Oil\n",
       "weights    40.0%  20.0%   5.0%     20.0%  15.0%  0.0%"
      ]
     },
     "execution_count": 7,
     "metadata": {},
     "output_type": "execute_result"
    }
   ],
   "source": [
    "(weights_aug*100).applymap('{:,.1f}%'.format)"
   ]
  },
  {
   "cell_type": "code",
   "execution_count": 8,
   "id": "63e45d2e",
   "metadata": {},
   "outputs": [],
   "source": [
    "portfolio_ret_d_aug=pd.DataFrame(index=df_d_ret.index,columns=[\"ret\"], data=np.dot(df_d_ret,weights_aug.T)).dropna()"
   ]
  },
  {
   "cell_type": "code",
   "execution_count": 9,
   "id": "ced0f126",
   "metadata": {},
   "outputs": [],
   "source": [
    "portfolio_ret_m_aug=pd.DataFrame(index=df_monthly_ret.index,columns=[\"ret\"], data=np.dot(df_monthly_ret,weights_aug.T))"
   ]
  },
  {
   "cell_type": "code",
   "execution_count": 10,
   "id": "d48766a6",
   "metadata": {},
   "outputs": [
    {
     "data": {
      "image/png": "[encoded data removed]",
      "text/plain": [
       "<Figure size 432x288 with 1 Axes>"
      ]
     },
     "metadata": {
      "needs_background": "light"
     },
     "output_type": "display_data"
    }
   ],
   "source": [
    "ax = (portfolio_ret_m_aug*100).plot()\n",
    "plt.ylabel('Monthly Returns Aug')\n",
    "ax.yaxis.set_major_formatter(mtick.PercentFormatter())"
   ]
  },
  {
   "cell_type": "code",
   "execution_count": 11,
   "id": "77f49b26",
   "metadata": {},
   "outputs": [
    {
     "data": {
      "text/plain": [
       "array([[<AxesSubplot:title={'center':'ret'}>]], dtype=object)"
      ]
     },
     "execution_count": 11,
     "metadata": {},
     "output_type": "execute_result"
    },
    {
     "data": {
      "image/png": "[encoded data removed]",
      "text/plain": [
       "<Figure size 432x288 with 1 Axes>"
      ]
     },
     "metadata": {
      "needs_background": "light"
     },
     "output_type": "display_data"
    }
   ],
   "source": [
    "ax = portfolio_ret_m_aug.hist()\n",
    "ax"
   ]
  },
  {
   "cell_type": "code",
   "execution_count": 12,
   "id": "1f8f62f5",
   "metadata": {},
   "outputs": [],
   "source": [
    "mean_m_aug = portfolio_ret_m_aug['ret'].mean()\n",
    "std_m_aug = portfolio_ret_m_aug['ret'].std()\n",
    "max_m_aug = portfolio_ret_m_aug['ret'].max()\n",
    "min_m_aug = portfolio_ret_m_aug['ret'].min()\n",
    "kurt_m_aug = sp.kurtosis(portfolio_ret_m_aug['ret'])\n",
    "skew_m_aug = sp.skew(portfolio_ret_m_aug['ret'])"
   ]
  },
  {
   "cell_type": "code",
   "execution_count": 13,
   "id": "732370ac",
   "metadata": {},
   "outputs": [],
   "source": [
    "normalized_portfolio_ret_m_aug=(portfolio_ret_m_aug-mean_m_aug)/std_m_aug"
   ]
  },
  {
   "cell_type": "code",
   "execution_count": 14,
   "id": "78130b67",
   "metadata": {},
   "outputs": [
    {
     "data": {
      "text/html": [
       "<div>\n",
       "<style scoped>\n",
       "    .dataframe tbody tr th:only-of-type {\n",
       "        vertical-align: middle;\n",
       "    }\n",
       "\n",
       "    .dataframe tbody tr th {\n",
       "        vertical-align: top;\n",
       "    }\n",
       "\n",
       "    .dataframe thead th {\n",
       "        text-align: right;\n",
       "    }\n",
       "</style>\n",
       "<table border=\"1\" class=\"dataframe\">\n",
       "  <thead>\n",
       "    <tr style=\"text-align: right;\">\n",
       "      <th></th>\n",
       "      <th>ret</th>\n",
       "    </tr>\n",
       "    <tr>\n",
       "      <th>date</th>\n",
       "      <th></th>\n",
       "    </tr>\n",
       "  </thead>\n",
       "  <tbody>\n",
       "    <tr>\n",
       "      <th>1986-11-30</th>\n",
       "      <td>0.108994</td>\n",
       "    </tr>\n",
       "    <tr>\n",
       "      <th>1986-12-31</th>\n",
       "      <td>-0.868556</td>\n",
       "    </tr>\n",
       "    <tr>\n",
       "      <th>1987-01-31</th>\n",
       "      <td>2.522151</td>\n",
       "    </tr>\n",
       "    <tr>\n",
       "      <th>1987-02-28</th>\n",
       "      <td>0.190108</td>\n",
       "    </tr>\n",
       "    <tr>\n",
       "      <th>1987-03-31</th>\n",
       "      <td>0.715381</td>\n",
       "    </tr>\n",
       "    <tr>\n",
       "      <th>...</th>\n",
       "      <td>...</td>\n",
       "    </tr>\n",
       "    <tr>\n",
       "      <th>2021-06-30</th>\n",
       "      <td>-0.969569</td>\n",
       "    </tr>\n",
       "    <tr>\n",
       "      <th>2021-07-31</th>\n",
       "      <td>0.689267</td>\n",
       "    </tr>\n",
       "    <tr>\n",
       "      <th>2021-08-31</th>\n",
       "      <td>0.002761</td>\n",
       "    </tr>\n",
       "    <tr>\n",
       "      <th>2021-09-30</th>\n",
       "      <td>-1.482161</td>\n",
       "    </tr>\n",
       "    <tr>\n",
       "      <th>2021-10-31</th>\n",
       "      <td>1.174264</td>\n",
       "    </tr>\n",
       "  </tbody>\n",
       "</table>\n",
       "<p>420 rows × 1 columns</p>\n",
       "</div>"
      ],
      "text/plain": [
       "                 ret\n",
       "date                \n",
       "1986-11-30  0.108994\n",
       "1986-12-31 -0.868556\n",
       "1987-01-31  2.522151\n",
       "1987-02-28  0.190108\n",
       "1987-03-31  0.715381\n",
       "...              ...\n",
       "2021-06-30 -0.969569\n",
       "2021-07-31  0.689267\n",
       "2021-08-31  0.002761\n",
       "2021-09-30 -1.482161\n",
       "2021-10-31  1.174264\n",
       "\n",
       "[420 rows x 1 columns]"
      ]
     },
     "execution_count": 14,
     "metadata": {},
     "output_type": "execute_result"
    }
   ],
   "source": [
    "normalized_portfolio_ret_m_aug"
   ]
  },
  {
   "cell_type": "code",
   "execution_count": 15,
   "id": "4b254926",
   "metadata": {},
   "outputs": [],
   "source": [
    "mean_norm_m_aug = normalized_portfolio_ret_m_aug['ret'].mean()\n",
    "std_norm_m_aug = normalized_portfolio_ret_m_aug['ret'].std()\n",
    "max_norm_m_aug = normalized_portfolio_ret_m_aug['ret'].max()\n",
    "min_norm_m_aug = normalized_portfolio_ret_m_aug['ret'].min()\n",
    "kurt_norm_m_aug = sp.kurtosis(normalized_portfolio_ret_m_aug['ret'])\n",
    "skew_norm_m_aug = sp.skew(normalized_portfolio_ret_m_aug['ret'])"
   ]
  },
  {
   "cell_type": "markdown",
   "id": "6612ed6b",
   "metadata": {},
   "source": [
    "# Fitting Garch Model"
   ]
  },
  {
   "cell_type": "code",
   "execution_count": 16,
   "id": "61ecd2cb",
   "metadata": {},
   "outputs": [
    {
     "name": "stdout",
     "output_type": "stream",
     "text": [
      "Iteration:      1,   Func. Count:      5,   Neg. LLF: 928.1627018538229\n",
      "Iteration:      2,   Func. Count:     12,   Neg. LLF: 877.8222630351756\n",
      "Iteration:      3,   Func. Count:     18,   Neg. LLF: 880.2302270269513\n",
      "Iteration:      4,   Func. Count:     24,   Neg. LLF: 870.0320852822867\n",
      "Iteration:      5,   Func. Count:     29,   Neg. LLF: 869.9898998424794\n",
      "Iteration:      6,   Func. Count:     33,   Neg. LLF: 869.9866681095808\n",
      "Iteration:      7,   Func. Count:     37,   Neg. LLF: 869.9863860536977\n",
      "Iteration:      8,   Func. Count:     41,   Neg. LLF: 869.9856754319256\n",
      "Iteration:      9,   Func. Count:     45,   Neg. LLF: 869.9856427234755\n",
      "Iteration:     10,   Func. Count:     48,   Neg. LLF: 869.9856427234313\n",
      "Optimization terminated successfully    (Exit mode 0)\n",
      "            Current function value: 869.9856427234755\n",
      "            Iterations: 10\n",
      "            Function evaluations: 48\n",
      "            Gradient evaluations: 10\n"
     ]
    },
    {
     "data": {
      "text/plain": [
       "                       Zero Mean - GARCH Model Results                        \n",
       "==============================================================================\n",
       "Dep. Variable:                    ret   R-squared:                       0.000\n",
       "Mean Model:                 Zero Mean   Adj. R-squared:                  0.002\n",
       "Vol Model:                      GARCH   Log-Likelihood:               -869.986\n",
       "Distribution:                  Normal   AIC:                           1745.97\n",
       "Method:            Maximum Likelihood   BIC:                           1758.09\n",
       "                                        No. Observations:                  420\n",
       "Date:                Tue, Feb 08 2022   Df Residuals:                      420\n",
       "Time:                        03:54:30   Df Model:                            0\n",
       "                              Volatility Model                             \n",
       "===========================================================================\n",
       "                 coef    std err          t      P>|t|     95.0% Conf. Int.\n",
       "---------------------------------------------------------------------------\n",
       "omega          1.3217      0.909      1.453      0.146    [ -0.461,  3.104]\n",
       "alpha[1]       0.1240  6.920e-02      1.792  7.312e-02 [-1.162e-02,  0.260]\n",
       "beta[1]        0.5297      0.264      2.010  4.447e-02  [1.309e-02,  1.046]\n",
       "===========================================================================\n",
       "\n",
       "Covariance estimator: robust\n",
       "ARCHModelResult, id: 0x2a745c41e20"
      ]
     },
     "execution_count": 16,
     "metadata": {},
     "output_type": "execute_result"
    }
   ],
   "source": [
    "model_garch_aug = arch_model(y=portfolio_ret_m_aug['ret']*100, rescale=True, mean='Zero')\n",
    "res_garch_m_aug = model_garch_aug.fit(backcast=(portfolio_ret_m_aug['ret'][0]*100)**2)\n",
    "res_garch_m_aug"
   ]
  },
  {
   "cell_type": "code",
   "execution_count": 17,
   "id": "2d954ee3",
   "metadata": {},
   "outputs": [
    {
     "data": {
      "text/plain": [
       "1.0"
      ]
     },
     "execution_count": 17,
     "metadata": {},
     "output_type": "execute_result"
    }
   ],
   "source": [
    "scale_aug = res_garch_m_aug.scale\n",
    "scale_aug"
   ]
  },
  {
   "cell_type": "code",
   "execution_count": 18,
   "id": "2e6f41a5",
   "metadata": {},
   "outputs": [],
   "source": [
    "forecasts_garch_m_aug = res_garch_m_aug.forecast(horizon=1, reindex=True)"
   ]
  },
  {
   "cell_type": "code",
   "execution_count": 19,
   "id": "c3918b1a",
   "metadata": {},
   "outputs": [],
   "source": [
    "vol_garch_for_m_aug = (forecasts_garch_m_aug.variance.iloc[-1]/10000)**0.5"
   ]
  },
  {
   "cell_type": "code",
   "execution_count": 20,
   "id": "11df1892",
   "metadata": {},
   "outputs": [
    {
     "data": {
      "text/plain": [
       "0.018408059477582565"
      ]
     },
     "execution_count": 20,
     "metadata": {},
     "output_type": "execute_result"
    }
   ],
   "source": [
    "std_m_aug"
   ]
  },
  {
   "cell_type": "code",
   "execution_count": 21,
   "id": "4c74439b",
   "metadata": {},
   "outputs": [
    {
     "data": {
      "text/plain": [
       "0.020642583964926953"
      ]
     },
     "execution_count": 21,
     "metadata": {},
     "output_type": "execute_result"
    }
   ],
   "source": [
    "vol_garch_for_m_aug[0]"
   ]
  },
  {
   "cell_type": "markdown",
   "id": "42d19b67",
   "metadata": {},
   "source": [
    "# Fitting EWMA Model"
   ]
  },
  {
   "cell_type": "code",
   "execution_count": 22,
   "id": "6bb745e1",
   "metadata": {},
   "outputs": [
    {
     "name": "stdout",
     "output_type": "stream",
     "text": [
      "Iteration:      1,   Func. Count:      3,   Neg. LLF: 1395.7972759008592\n",
      "Iteration:      2,   Func. Count:      6,   Neg. LLF: 899.7530438188779\n",
      "Iteration:      3,   Func. Count:      9,   Neg. LLF: 899.2797183947242\n",
      "Iteration:      4,   Func. Count:     11,   Neg. LLF: 899.2780977504908\n",
      "Iteration:      5,   Func. Count:     13,   Neg. LLF: 899.2780941797025\n",
      "Iteration:      6,   Func. Count:     14,   Neg. LLF: 899.2780941796323\n",
      "Optimization terminated successfully    (Exit mode 0)\n",
      "            Current function value: 899.2780941797025\n",
      "            Iterations: 6\n",
      "            Function evaluations: 14\n",
      "            Gradient evaluations: 6\n"
     ]
    },
    {
     "data": {
      "text/plain": [
       "                  Zero Mean - EWMA/RiskMetrics Model Results                  \n",
       "==============================================================================\n",
       "Dep. Variable:                    ret   R-squared:                       0.000\n",
       "Mean Model:                 Zero Mean   Adj. R-squared:                  0.002\n",
       "Vol Model:           EWMA/RiskMetrics   Log-Likelihood:               -899.278\n",
       "Distribution:                  Normal   AIC:                           1800.56\n",
       "Method:            Maximum Likelihood   BIC:                           1804.60\n",
       "                                        No. Observations:                  420\n",
       "Date:                Tue, Feb 08 2022   Df Residuals:                      420\n",
       "Time:                        03:54:30   Df Model:                            0\n",
       "                            Volatility Model                            \n",
       "========================================================================\n",
       "                 coef    std err          t      P>|t|  95.0% Conf. Int.\n",
       "------------------------------------------------------------------------\n",
       "lam            0.9605  4.320e-02     22.233 1.640e-109 [  0.876,  1.045]\n",
       "========================================================================\n",
       "\n",
       "Covariance estimator: robust\n",
       "ARCHModelResult, id: 0x2a745d66580"
      ]
     },
     "execution_count": 22,
     "metadata": {},
     "output_type": "execute_result"
    }
   ],
   "source": [
    "am_m_aug = ZeroMean(portfolio_ret_m_aug['ret']*100)\n",
    "am_m_aug.volatility = EWMAVariance(None)\n",
    "am_m_aug.volatility.starting_values((portfolio_ret_m_aug['ret']**2)*100)\n",
    "am_m_aug.distribution = Normal()\n",
    "res_m_aug = am_m_aug.fit(backcast=(portfolio_ret_m_aug['ret'][0]*100)**2)\n",
    "res_m_aug"
   ]
  },
  {
   "cell_type": "code",
   "execution_count": 23,
   "id": "dc3e0432",
   "metadata": {},
   "outputs": [
    {
     "data": {
      "text/plain": [
       "0.024583528233444438"
      ]
     },
     "execution_count": 23,
     "metadata": {},
     "output_type": "execute_result"
    }
   ],
   "source": [
    "forecasts_res_m_aug = res_m_aug.forecast(horizon=1, reindex=True)\n",
    "vol_ewma_for_m_aug = (forecasts_res_m_aug.variance.iloc[-1]/10000)**0.5\n",
    "\n",
    "vol_ewma_for_m_aug[0]"
   ]
  },
  {
   "cell_type": "markdown",
   "id": "71e49cec",
   "metadata": {},
   "source": [
    "# Definging Garch and Emwa Volatilities\n",
    "# Definging Forecast Parameters: Omega, Alpha, Beta, Lambda"
   ]
  },
  {
   "cell_type": "code",
   "execution_count": 24,
   "id": "9a5648e3",
   "metadata": {},
   "outputs": [],
   "source": [
    "forc_vol_emwa_m_aug = (forecasts_res_m_aug.variance.iloc[-1]/10000)**0.5"
   ]
  },
  {
   "cell_type": "code",
   "execution_count": 25,
   "id": "b4eca9de",
   "metadata": {},
   "outputs": [],
   "source": [
    "forc_vol_garch_m_aug= (forecasts_garch_m_aug.variance.iloc[-1]/10000)**0.5"
   ]
  },
  {
   "cell_type": "code",
   "execution_count": 26,
   "id": "e26a81ac",
   "metadata": {},
   "outputs": [],
   "source": [
    "omega_m_aug = res_garch_m_aug.params[0]/10000\n",
    "alpha_m_aug = res_garch_m_aug.params[1]\n",
    "beta_m_aug = res_garch_m_aug.params[2]\n",
    "lamb_m_aug = res_m_aug.params[0]"
   ]
  },
  {
   "cell_type": "code",
   "execution_count": 27,
   "id": "293fc618",
   "metadata": {},
   "outputs": [],
   "source": [
    "lt_var_m_aug = omega_m_aug/(1-alpha_m_aug-beta_m_aug)\n",
    "lt_vol_m_aug = lt_var_m_aug**(1/2)"
   ]
  },
  {
   "cell_type": "code",
   "execution_count": 28,
   "id": "56ca3a60",
   "metadata": {},
   "outputs": [
    {
     "data": {
      "text/plain": [
       "0.018408059477582565"
      ]
     },
     "execution_count": 28,
     "metadata": {},
     "output_type": "execute_result"
    }
   ],
   "source": [
    "obsv_vol_m_aug = portfolio_ret_m_aug['ret'].std()\n",
    "\n",
    "obsv_vol_m_aug"
   ]
  },
  {
   "cell_type": "code",
   "execution_count": 29,
   "id": "70c3d7d3",
   "metadata": {},
   "outputs": [],
   "source": [
    "L1_m_aug = [alpha_m_aug.round(4), beta_m_aug.round(4), (omega_m_aug*10000).round(4), lamb_m_aug.round(4)]\n",
    "L2_m_aug = [np.round(obsv_vol_m_aug, 4), forc_vol_garch_m_aug[0].round(4), forc_vol_emwa_m_aug[0].round(4), lt_vol_m_aug.round(4)]"
   ]
  },
  {
   "cell_type": "code",
   "execution_count": 30,
   "id": "af649d5b",
   "metadata": {},
   "outputs": [],
   "source": [
    "est_patam_m_aug = pd.DataFrame(columns=['Alpha', 'Beta', 'Omega', 'Lamda'])\n",
    "vols_m_aug = pd.DataFrame(columns=['Obsv. Vola', 'Vola GARCH', 'Vola EWMA', 'LT Vola GARCH'])"
   ]
  },
  {
   "cell_type": "code",
   "execution_count": 31,
   "id": "291cbe05",
   "metadata": {},
   "outputs": [
    {
     "data": {
      "text/html": [
       "<div>\n",
       "<style scoped>\n",
       "    .dataframe tbody tr th:only-of-type {\n",
       "        vertical-align: middle;\n",
       "    }\n",
       "\n",
       "    .dataframe tbody tr th {\n",
       "        vertical-align: top;\n",
       "    }\n",
       "\n",
       "    .dataframe thead th {\n",
       "        text-align: right;\n",
       "    }\n",
       "</style>\n",
       "<table border=\"1\" class=\"dataframe\">\n",
       "  <thead>\n",
       "    <tr style=\"text-align: right;\">\n",
       "      <th></th>\n",
       "      <th>Alpha</th>\n",
       "      <th>Beta</th>\n",
       "      <th>Omega</th>\n",
       "      <th>Lamda</th>\n",
       "    </tr>\n",
       "  </thead>\n",
       "  <tbody>\n",
       "    <tr>\n",
       "      <th>Values</th>\n",
       "      <td>0.12</td>\n",
       "      <td>0.53</td>\n",
       "      <td>1.32</td>\n",
       "      <td>0.96</td>\n",
       "    </tr>\n",
       "  </tbody>\n",
       "</table>\n",
       "</div>"
      ],
      "text/plain": [
       "       Alpha  Beta Omega Lamda\n",
       "Values  0.12  0.53  1.32  0.96"
      ]
     },
     "execution_count": 31,
     "metadata": {},
     "output_type": "execute_result"
    }
   ],
   "source": [
    "est_patam_m_aug.loc['Values'] = L1_m_aug\n",
    "\n",
    "est_patam_m_aug.applymap('{:,.2f}'.format)"
   ]
  },
  {
   "cell_type": "code",
   "execution_count": 32,
   "id": "ba549e8d",
   "metadata": {},
   "outputs": [
    {
     "data": {
      "text/html": [
       "<div>\n",
       "<style scoped>\n",
       "    .dataframe tbody tr th:only-of-type {\n",
       "        vertical-align: middle;\n",
       "    }\n",
       "\n",
       "    .dataframe tbody tr th {\n",
       "        vertical-align: top;\n",
       "    }\n",
       "\n",
       "    .dataframe thead th {\n",
       "        text-align: right;\n",
       "    }\n",
       "</style>\n",
       "<table border=\"1\" class=\"dataframe\">\n",
       "  <thead>\n",
       "    <tr style=\"text-align: right;\">\n",
       "      <th></th>\n",
       "      <th>Obsv. Vola</th>\n",
       "      <th>Vola GARCH</th>\n",
       "      <th>Vola EWMA</th>\n",
       "      <th>LT Vola GARCH</th>\n",
       "    </tr>\n",
       "  </thead>\n",
       "  <tbody>\n",
       "    <tr>\n",
       "      <th>Values</th>\n",
       "      <td>1.84%</td>\n",
       "      <td>2.06%</td>\n",
       "      <td>2.46%</td>\n",
       "      <td>1.95%</td>\n",
       "    </tr>\n",
       "  </tbody>\n",
       "</table>\n",
       "</div>"
      ],
      "text/plain": [
       "       Obsv. Vola Vola GARCH Vola EWMA LT Vola GARCH\n",
       "Values      1.84%      2.06%     2.46%         1.95%"
      ]
     },
     "execution_count": 32,
     "metadata": {},
     "output_type": "execute_result"
    }
   ],
   "source": [
    "vols_m_aug.loc['Values'] = L2_m_aug\n",
    "\n",
    "(vols_m_aug*100).applymap('{:,.2f}%'.format)"
   ]
  },
  {
   "cell_type": "markdown",
   "id": "76fe36f5",
   "metadata": {},
   "source": [
    "## Cerating DataFrame with EWMA weights"
   ]
  },
  {
   "cell_type": "code",
   "execution_count": 33,
   "id": "efc2e7cb",
   "metadata": {},
   "outputs": [],
   "source": [
    "L_weights_emwa_m_aug = []"
   ]
  },
  {
   "cell_type": "code",
   "execution_count": 34,
   "id": "b14afc12",
   "metadata": {},
   "outputs": [],
   "source": [
    "for t in range(0, len(portfolio_ret_m_aug)):\n",
    "    L_weights_emwa_m_aug.append((lamb_m_aug**t)*(1-lamb_m_aug))"
   ]
  },
  {
   "cell_type": "code",
   "execution_count": 35,
   "id": "018cac65",
   "metadata": {},
   "outputs": [],
   "source": [
    "L_weights_emwa_m_aug.reverse()"
   ]
  },
  {
   "cell_type": "code",
   "execution_count": 36,
   "id": "9c6cd9fe",
   "metadata": {},
   "outputs": [],
   "source": [
    "weights_emwa_m_aug = pd.DataFrame(columns=['weights', 'acum_weights'])\n",
    "weights_emwa_m_aug['weights'] = L_weights_emwa_m_aug"
   ]
  },
  {
   "cell_type": "code",
   "execution_count": 37,
   "id": "7b980f6e",
   "metadata": {},
   "outputs": [],
   "source": [
    "for y in range(0, len(weights_emwa_m_aug)):\n",
    "    if y==0:\n",
    "        weights_emwa_m_aug.iloc[y, 1] = weights_emwa_m_aug.iloc[y, 0]\n",
    "    else: weights_emwa_m_aug.iloc[y, 1] = weights_emwa_m_aug.iloc[y-1, 1] + weights_emwa_m_aug.iloc[y, 0]"
   ]
  },
  {
   "cell_type": "code",
   "execution_count": 38,
   "id": "21fdc1f0",
   "metadata": {},
   "outputs": [
    {
     "data": {
      "text/html": [
       "<div>\n",
       "<style scoped>\n",
       "    .dataframe tbody tr th:only-of-type {\n",
       "        vertical-align: middle;\n",
       "    }\n",
       "\n",
       "    .dataframe tbody tr th {\n",
       "        vertical-align: top;\n",
       "    }\n",
       "\n",
       "    .dataframe thead th {\n",
       "        text-align: right;\n",
       "    }\n",
       "</style>\n",
       "<table border=\"1\" class=\"dataframe\">\n",
       "  <thead>\n",
       "    <tr style=\"text-align: right;\">\n",
       "      <th></th>\n",
       "      <th>weights</th>\n",
       "      <th>acum_weights</th>\n",
       "    </tr>\n",
       "    <tr>\n",
       "      <th>date</th>\n",
       "      <th></th>\n",
       "      <th></th>\n",
       "    </tr>\n",
       "  </thead>\n",
       "  <tbody>\n",
       "    <tr>\n",
       "      <th>2020-08-31</th>\n",
       "      <td>0.022478</td>\n",
       "      <td>0.568448</td>\n",
       "    </tr>\n",
       "    <tr>\n",
       "      <th>2020-09-30</th>\n",
       "      <td>0.023404</td>\n",
       "      <td>0.591852</td>\n",
       "    </tr>\n",
       "    <tr>\n",
       "      <th>2020-10-31</th>\n",
       "      <td>0.024367</td>\n",
       "      <td>0.616219</td>\n",
       "    </tr>\n",
       "    <tr>\n",
       "      <th>2020-11-30</th>\n",
       "      <td>0.025370</td>\n",
       "      <td>0.641589</td>\n",
       "    </tr>\n",
       "    <tr>\n",
       "      <th>2020-12-31</th>\n",
       "      <td>0.026415</td>\n",
       "      <td>0.668004</td>\n",
       "    </tr>\n",
       "    <tr>\n",
       "      <th>2021-01-31</th>\n",
       "      <td>0.027502</td>\n",
       "      <td>0.695507</td>\n",
       "    </tr>\n",
       "    <tr>\n",
       "      <th>2021-02-28</th>\n",
       "      <td>0.028635</td>\n",
       "      <td>0.724141</td>\n",
       "    </tr>\n",
       "    <tr>\n",
       "      <th>2021-03-31</th>\n",
       "      <td>0.029814</td>\n",
       "      <td>0.753955</td>\n",
       "    </tr>\n",
       "    <tr>\n",
       "      <th>2021-04-30</th>\n",
       "      <td>0.031041</td>\n",
       "      <td>0.784996</td>\n",
       "    </tr>\n",
       "    <tr>\n",
       "      <th>2021-05-31</th>\n",
       "      <td>0.032319</td>\n",
       "      <td>0.817315</td>\n",
       "    </tr>\n",
       "    <tr>\n",
       "      <th>2021-06-30</th>\n",
       "      <td>0.033650</td>\n",
       "      <td>0.850965</td>\n",
       "    </tr>\n",
       "    <tr>\n",
       "      <th>2021-07-31</th>\n",
       "      <td>0.035035</td>\n",
       "      <td>0.886</td>\n",
       "    </tr>\n",
       "    <tr>\n",
       "      <th>2021-08-31</th>\n",
       "      <td>0.036478</td>\n",
       "      <td>0.922478</td>\n",
       "    </tr>\n",
       "    <tr>\n",
       "      <th>2021-09-30</th>\n",
       "      <td>0.037979</td>\n",
       "      <td>0.960457</td>\n",
       "    </tr>\n",
       "    <tr>\n",
       "      <th>2021-10-31</th>\n",
       "      <td>0.039543</td>\n",
       "      <td>1.0</td>\n",
       "    </tr>\n",
       "  </tbody>\n",
       "</table>\n",
       "</div>"
      ],
      "text/plain": [
       "             weights acum_weights\n",
       "date                             \n",
       "2020-08-31  0.022478     0.568448\n",
       "2020-09-30  0.023404     0.591852\n",
       "2020-10-31  0.024367     0.616219\n",
       "2020-11-30  0.025370     0.641589\n",
       "2020-12-31  0.026415     0.668004\n",
       "2021-01-31  0.027502     0.695507\n",
       "2021-02-28  0.028635     0.724141\n",
       "2021-03-31  0.029814     0.753955\n",
       "2021-04-30  0.031041     0.784996\n",
       "2021-05-31  0.032319     0.817315\n",
       "2021-06-30  0.033650     0.850965\n",
       "2021-07-31  0.035035        0.886\n",
       "2021-08-31  0.036478     0.922478\n",
       "2021-09-30  0.037979     0.960457\n",
       "2021-10-31  0.039543          1.0"
      ]
     },
     "execution_count": 38,
     "metadata": {},
     "output_type": "execute_result"
    }
   ],
   "source": [
    "weights_emwa_m_aug.index=portfolio_ret_m_aug.index\n",
    "weights_emwa_m_aug.tail(15)"
   ]
  },
  {
   "cell_type": "markdown",
   "id": "d177a51f",
   "metadata": {},
   "source": [
    "# Preparing DataFrame to generate data (portfolio_ret_m)\n",
    "\n",
    "### Columns: Returns, Conditional Var Garch, Conditional Var Emwa, Conditional Vol Garch, Conditonal Vol Emwa, Model Vol Garch, Model Emwa, Z-Garch, Z-Emwa, Returns Garch, Returns Emwa"
   ]
  },
  {
   "cell_type": "code",
   "execution_count": 39,
   "id": "93f00dc3",
   "metadata": {},
   "outputs": [],
   "source": [
    "portfolio_ret_m_aug['cond_var_garch'] = 0\n",
    "portfolio_ret_m_aug['cond_var_emwa'] = 0\n",
    "portfolio_ret_m_aug['cond_vol_garch'] = 0\n",
    "portfolio_ret_m_aug['cond_vol_emwa'] = 0\n",
    "portfolio_ret_m_aug['model_vol_garch'] = 0\n",
    "portfolio_ret_m_aug['model_vol_emwa'] = 0\n",
    "portfolio_ret_m_aug['z_garch'] = 0\n",
    "portfolio_ret_m_aug['z_emwa'] = 0\n",
    "portfolio_ret_m_aug['resc_r_garch'] = 0\n",
    "portfolio_ret_m_aug['resc_r_emwa'] = 0"
   ]
  },
  {
   "cell_type": "markdown",
   "id": "ea24eb78",
   "metadata": {},
   "source": [
    "# Looping on data to generate Rescaled Returns on Garch and Emwa"
   ]
  },
  {
   "cell_type": "code",
   "execution_count": 40,
   "id": "0cfa5d80",
   "metadata": {},
   "outputs": [],
   "source": [
    "for i in range(0,len(portfolio_ret_m_aug)):\n",
    "    if i == 0:\n",
    "        portfolio_ret_m_aug.iloc[i,1] = portfolio_ret_m_aug.iloc[i,0]**2\n",
    "    else: portfolio_ret_m_aug.iloc[i,1] = omega_m_aug + alpha_m_aug*portfolio_ret_m_aug.iloc[i-1,0]**2  + beta_m_aug*portfolio_ret_m_aug.iloc[i-1,1] "
   ]
  },
  {
   "cell_type": "code",
   "execution_count": 41,
   "id": "1fec0e5b",
   "metadata": {},
   "outputs": [],
   "source": [
    "for z in range(0,len(portfolio_ret_m_aug)):\n",
    "    if z == 0:\n",
    "        portfolio_ret_m_aug.iloc[z, 2] = portfolio_ret_m_aug.iloc[z, 0]**2\n",
    "    else: portfolio_ret_m_aug.iloc[z, 2] = (1 - lamb_m_aug)*portfolio_ret_m_aug.iloc[z-1, 0]**2 + lamb_m_aug*portfolio_ret_m_aug.iloc[z-1, 2]"
   ]
  },
  {
   "cell_type": "code",
   "execution_count": 42,
   "id": "339b6129",
   "metadata": {},
   "outputs": [],
   "source": [
    "portfolio_ret_m_aug['cond_vol_garch'] = portfolio_ret_m_aug['cond_var_garch']**(1/2)\n",
    "portfolio_ret_m_aug['cond_vol_emwa'] = portfolio_ret_m_aug['cond_var_emwa']**(1/2)"
   ]
  },
  {
   "cell_type": "code",
   "execution_count": 43,
   "id": "cdf16b83",
   "metadata": {},
   "outputs": [
    {
     "data": {
      "text/html": [
       "<div>\n",
       "<style scoped>\n",
       "    .dataframe tbody tr th:only-of-type {\n",
       "        vertical-align: middle;\n",
       "    }\n",
       "\n",
       "    .dataframe tbody tr th {\n",
       "        vertical-align: top;\n",
       "    }\n",
       "\n",
       "    .dataframe thead th {\n",
       "        text-align: right;\n",
       "    }\n",
       "</style>\n",
       "<table border=\"1\" class=\"dataframe\">\n",
       "  <thead>\n",
       "    <tr style=\"text-align: right;\">\n",
       "      <th></th>\n",
       "      <th>ret</th>\n",
       "      <th>cond_var_garch</th>\n",
       "      <th>cond_var_emwa</th>\n",
       "      <th>cond_vol_garch</th>\n",
       "      <th>cond_vol_emwa</th>\n",
       "      <th>model_vol_garch</th>\n",
       "      <th>model_vol_emwa</th>\n",
       "      <th>z_garch</th>\n",
       "      <th>z_emwa</th>\n",
       "      <th>resc_r_garch</th>\n",
       "      <th>resc_r_emwa</th>\n",
       "    </tr>\n",
       "    <tr>\n",
       "      <th>date</th>\n",
       "      <th></th>\n",
       "      <th></th>\n",
       "      <th></th>\n",
       "      <th></th>\n",
       "      <th></th>\n",
       "      <th></th>\n",
       "      <th></th>\n",
       "      <th></th>\n",
       "      <th></th>\n",
       "      <th></th>\n",
       "      <th></th>\n",
       "    </tr>\n",
       "  </thead>\n",
       "  <tbody>\n",
       "    <tr>\n",
       "      <th>1986-11-30</th>\n",
       "      <td>0.008662</td>\n",
       "      <td>0.000075</td>\n",
       "      <td>0.000075</td>\n",
       "      <td>0.008662</td>\n",
       "      <td>0.008662</td>\n",
       "      <td>0</td>\n",
       "      <td>0</td>\n",
       "      <td>0</td>\n",
       "      <td>0</td>\n",
       "      <td>0</td>\n",
       "      <td>0</td>\n",
       "    </tr>\n",
       "    <tr>\n",
       "      <th>1986-12-31</th>\n",
       "      <td>-0.009333</td>\n",
       "      <td>0.000181</td>\n",
       "      <td>0.000075</td>\n",
       "      <td>0.013462</td>\n",
       "      <td>0.008662</td>\n",
       "      <td>0</td>\n",
       "      <td>0</td>\n",
       "      <td>0</td>\n",
       "      <td>0</td>\n",
       "      <td>0</td>\n",
       "      <td>0</td>\n",
       "    </tr>\n",
       "    <tr>\n",
       "      <th>1987-01-31</th>\n",
       "      <td>0.053083</td>\n",
       "      <td>0.000239</td>\n",
       "      <td>0.000076</td>\n",
       "      <td>0.015459</td>\n",
       "      <td>0.008689</td>\n",
       "      <td>0</td>\n",
       "      <td>0</td>\n",
       "      <td>0</td>\n",
       "      <td>0</td>\n",
       "      <td>0</td>\n",
       "      <td>0</td>\n",
       "    </tr>\n",
       "    <tr>\n",
       "      <th>1987-02-28</th>\n",
       "      <td>0.010155</td>\n",
       "      <td>0.000608</td>\n",
       "      <td>0.000184</td>\n",
       "      <td>0.024661</td>\n",
       "      <td>0.013563</td>\n",
       "      <td>0</td>\n",
       "      <td>0</td>\n",
       "      <td>0</td>\n",
       "      <td>0</td>\n",
       "      <td>0</td>\n",
       "      <td>0</td>\n",
       "    </tr>\n",
       "    <tr>\n",
       "      <th>1987-03-31</th>\n",
       "      <td>0.019824</td>\n",
       "      <td>0.000467</td>\n",
       "      <td>0.000181</td>\n",
       "      <td>0.021613</td>\n",
       "      <td>0.013444</td>\n",
       "      <td>0</td>\n",
       "      <td>0</td>\n",
       "      <td>0</td>\n",
       "      <td>0</td>\n",
       "      <td>0</td>\n",
       "      <td>0</td>\n",
       "    </tr>\n",
       "    <tr>\n",
       "      <th>1987-04-30</th>\n",
       "      <td>-0.004865</td>\n",
       "      <td>0.000428</td>\n",
       "      <td>0.000189</td>\n",
       "      <td>0.020697</td>\n",
       "      <td>0.013753</td>\n",
       "      <td>0</td>\n",
       "      <td>0</td>\n",
       "      <td>0</td>\n",
       "      <td>0</td>\n",
       "      <td>0</td>\n",
       "      <td>0</td>\n",
       "    </tr>\n",
       "    <tr>\n",
       "      <th>1987-05-31</th>\n",
       "      <td>0.000399</td>\n",
       "      <td>0.000362</td>\n",
       "      <td>0.000183</td>\n",
       "      <td>0.019027</td>\n",
       "      <td>0.013513</td>\n",
       "      <td>0</td>\n",
       "      <td>0</td>\n",
       "      <td>0</td>\n",
       "      <td>0</td>\n",
       "      <td>0</td>\n",
       "      <td>0</td>\n",
       "    </tr>\n",
       "    <tr>\n",
       "      <th>1987-06-30</th>\n",
       "      <td>0.024185</td>\n",
       "      <td>0.000324</td>\n",
       "      <td>0.000175</td>\n",
       "      <td>0.017999</td>\n",
       "      <td>0.013243</td>\n",
       "      <td>0</td>\n",
       "      <td>0</td>\n",
       "      <td>0</td>\n",
       "      <td>0</td>\n",
       "      <td>0</td>\n",
       "      <td>0</td>\n",
       "    </tr>\n",
       "    <tr>\n",
       "      <th>1987-07-31</th>\n",
       "      <td>0.021584</td>\n",
       "      <td>0.000376</td>\n",
       "      <td>0.000192</td>\n",
       "      <td>0.019399</td>\n",
       "      <td>0.013841</td>\n",
       "      <td>0</td>\n",
       "      <td>0</td>\n",
       "      <td>0</td>\n",
       "      <td>0</td>\n",
       "      <td>0</td>\n",
       "      <td>0</td>\n",
       "    </tr>\n",
       "    <tr>\n",
       "      <th>1987-08-31</th>\n",
       "      <td>0.007685</td>\n",
       "      <td>0.000389</td>\n",
       "      <td>0.000202</td>\n",
       "      <td>0.019730</td>\n",
       "      <td>0.014228</td>\n",
       "      <td>0</td>\n",
       "      <td>0</td>\n",
       "      <td>0</td>\n",
       "      <td>0</td>\n",
       "      <td>0</td>\n",
       "      <td>0</td>\n",
       "    </tr>\n",
       "    <tr>\n",
       "      <th>1987-09-30</th>\n",
       "      <td>-0.013522</td>\n",
       "      <td>0.000346</td>\n",
       "      <td>0.000197</td>\n",
       "      <td>0.018593</td>\n",
       "      <td>0.014027</td>\n",
       "      <td>0</td>\n",
       "      <td>0</td>\n",
       "      <td>0</td>\n",
       "      <td>0</td>\n",
       "      <td>0</td>\n",
       "      <td>0</td>\n",
       "    </tr>\n",
       "    <tr>\n",
       "      <th>1987-10-31</th>\n",
       "      <td>-0.059976</td>\n",
       "      <td>0.000338</td>\n",
       "      <td>0.000196</td>\n",
       "      <td>0.018384</td>\n",
       "      <td>0.014007</td>\n",
       "      <td>0</td>\n",
       "      <td>0</td>\n",
       "      <td>0</td>\n",
       "      <td>0</td>\n",
       "      <td>0</td>\n",
       "      <td>0</td>\n",
       "    </tr>\n",
       "    <tr>\n",
       "      <th>1987-11-30</th>\n",
       "      <td>-0.019888</td>\n",
       "      <td>0.000757</td>\n",
       "      <td>0.000331</td>\n",
       "      <td>0.027518</td>\n",
       "      <td>0.018185</td>\n",
       "      <td>0</td>\n",
       "      <td>0</td>\n",
       "      <td>0</td>\n",
       "      <td>0</td>\n",
       "      <td>0</td>\n",
       "      <td>0</td>\n",
       "    </tr>\n",
       "    <tr>\n",
       "      <th>1987-12-31</th>\n",
       "      <td>0.024774</td>\n",
       "      <td>0.000582</td>\n",
       "      <td>0.000333</td>\n",
       "      <td>0.024132</td>\n",
       "      <td>0.018255</td>\n",
       "      <td>0</td>\n",
       "      <td>0</td>\n",
       "      <td>0</td>\n",
       "      <td>0</td>\n",
       "      <td>0</td>\n",
       "      <td>0</td>\n",
       "    </tr>\n",
       "    <tr>\n",
       "      <th>1988-01-31</th>\n",
       "      <td>0.028281</td>\n",
       "      <td>0.000517</td>\n",
       "      <td>0.000344</td>\n",
       "      <td>0.022732</td>\n",
       "      <td>0.018556</td>\n",
       "      <td>0</td>\n",
       "      <td>0</td>\n",
       "      <td>0</td>\n",
       "      <td>0</td>\n",
       "      <td>0</td>\n",
       "      <td>0</td>\n",
       "    </tr>\n",
       "    <tr>\n",
       "      <th>1988-02-29</th>\n",
       "      <td>0.013578</td>\n",
       "      <td>0.000505</td>\n",
       "      <td>0.000362</td>\n",
       "      <td>0.022474</td>\n",
       "      <td>0.019036</td>\n",
       "      <td>0</td>\n",
       "      <td>0</td>\n",
       "      <td>0</td>\n",
       "      <td>0</td>\n",
       "      <td>0</td>\n",
       "      <td>0</td>\n",
       "    </tr>\n",
       "    <tr>\n",
       "      <th>1988-03-31</th>\n",
       "      <td>0.001926</td>\n",
       "      <td>0.000423</td>\n",
       "      <td>0.000355</td>\n",
       "      <td>0.020557</td>\n",
       "      <td>0.018850</td>\n",
       "      <td>0</td>\n",
       "      <td>0</td>\n",
       "      <td>0</td>\n",
       "      <td>0</td>\n",
       "      <td>0</td>\n",
       "      <td>0</td>\n",
       "    </tr>\n",
       "    <tr>\n",
       "      <th>1988-04-30</th>\n",
       "      <td>0.002728</td>\n",
       "      <td>0.000356</td>\n",
       "      <td>0.000341</td>\n",
       "      <td>0.018881</td>\n",
       "      <td>0.018477</td>\n",
       "      <td>0</td>\n",
       "      <td>0</td>\n",
       "      <td>0</td>\n",
       "      <td>0</td>\n",
       "      <td>0</td>\n",
       "      <td>0</td>\n",
       "    </tr>\n",
       "    <tr>\n",
       "      <th>1988-05-31</th>\n",
       "      <td>0.002388</td>\n",
       "      <td>0.000322</td>\n",
       "      <td>0.000328</td>\n",
       "      <td>0.017942</td>\n",
       "      <td>0.018116</td>\n",
       "      <td>0</td>\n",
       "      <td>0</td>\n",
       "      <td>0</td>\n",
       "      <td>0</td>\n",
       "      <td>0</td>\n",
       "      <td>0</td>\n",
       "    </tr>\n",
       "    <tr>\n",
       "      <th>1988-06-30</th>\n",
       "      <td>0.017597</td>\n",
       "      <td>0.000303</td>\n",
       "      <td>0.000315</td>\n",
       "      <td>0.017419</td>\n",
       "      <td>0.017761</td>\n",
       "      <td>0</td>\n",
       "      <td>0</td>\n",
       "      <td>0</td>\n",
       "      <td>0</td>\n",
       "      <td>0</td>\n",
       "      <td>0</td>\n",
       "    </tr>\n",
       "    <tr>\n",
       "      <th>1988-07-31</th>\n",
       "      <td>-0.001246</td>\n",
       "      <td>0.000331</td>\n",
       "      <td>0.000315</td>\n",
       "      <td>0.018201</td>\n",
       "      <td>0.017755</td>\n",
       "      <td>0</td>\n",
       "      <td>0</td>\n",
       "      <td>0</td>\n",
       "      <td>0</td>\n",
       "      <td>0</td>\n",
       "      <td>0</td>\n",
       "    </tr>\n",
       "    <tr>\n",
       "      <th>1988-08-31</th>\n",
       "      <td>-0.009656</td>\n",
       "      <td>0.000308</td>\n",
       "      <td>0.000303</td>\n",
       "      <td>0.017546</td>\n",
       "      <td>0.017402</td>\n",
       "      <td>0</td>\n",
       "      <td>0</td>\n",
       "      <td>0</td>\n",
       "      <td>0</td>\n",
       "      <td>0</td>\n",
       "      <td>0</td>\n",
       "    </tr>\n",
       "    <tr>\n",
       "      <th>1988-09-30</th>\n",
       "      <td>0.012705</td>\n",
       "      <td>0.000307</td>\n",
       "      <td>0.000295</td>\n",
       "      <td>0.017516</td>\n",
       "      <td>0.017162</td>\n",
       "      <td>0</td>\n",
       "      <td>0</td>\n",
       "      <td>0</td>\n",
       "      <td>0</td>\n",
       "      <td>0</td>\n",
       "      <td>0</td>\n",
       "    </tr>\n",
       "    <tr>\n",
       "      <th>1988-10-31</th>\n",
       "      <td>0.023756</td>\n",
       "      <td>0.000315</td>\n",
       "      <td>0.000289</td>\n",
       "      <td>0.017740</td>\n",
       "      <td>0.017008</td>\n",
       "      <td>0</td>\n",
       "      <td>0</td>\n",
       "      <td>0</td>\n",
       "      <td>0</td>\n",
       "      <td>0</td>\n",
       "      <td>0</td>\n",
       "    </tr>\n",
       "    <tr>\n",
       "      <th>1988-11-30</th>\n",
       "      <td>-0.003838</td>\n",
       "      <td>0.000369</td>\n",
       "      <td>0.000300</td>\n",
       "      <td>0.019206</td>\n",
       "      <td>0.017325</td>\n",
       "      <td>0</td>\n",
       "      <td>0</td>\n",
       "      <td>0</td>\n",
       "      <td>0</td>\n",
       "      <td>0</td>\n",
       "      <td>0</td>\n",
       "    </tr>\n",
       "    <tr>\n",
       "      <th>1988-12-31</th>\n",
       "      <td>0.002685</td>\n",
       "      <td>0.000329</td>\n",
       "      <td>0.000289</td>\n",
       "      <td>0.018149</td>\n",
       "      <td>0.016996</td>\n",
       "      <td>0</td>\n",
       "      <td>0</td>\n",
       "      <td>0</td>\n",
       "      <td>0</td>\n",
       "      <td>0</td>\n",
       "      <td>0</td>\n",
       "    </tr>\n",
       "    <tr>\n",
       "      <th>1989-01-31</th>\n",
       "      <td>0.023768</td>\n",
       "      <td>0.000308</td>\n",
       "      <td>0.000278</td>\n",
       "      <td>0.017537</td>\n",
       "      <td>0.016665</td>\n",
       "      <td>0</td>\n",
       "      <td>0</td>\n",
       "      <td>0</td>\n",
       "      <td>0</td>\n",
       "      <td>0</td>\n",
       "      <td>0</td>\n",
       "    </tr>\n",
       "    <tr>\n",
       "      <th>1989-02-28</th>\n",
       "      <td>-0.009538</td>\n",
       "      <td>0.000365</td>\n",
       "      <td>0.000289</td>\n",
       "      <td>0.019109</td>\n",
       "      <td>0.017002</td>\n",
       "      <td>0</td>\n",
       "      <td>0</td>\n",
       "      <td>0</td>\n",
       "      <td>0</td>\n",
       "      <td>0</td>\n",
       "      <td>0</td>\n",
       "    </tr>\n",
       "    <tr>\n",
       "      <th>1989-03-31</th>\n",
       "      <td>0.011095</td>\n",
       "      <td>0.000337</td>\n",
       "      <td>0.000281</td>\n",
       "      <td>0.018354</td>\n",
       "      <td>0.016770</td>\n",
       "      <td>0</td>\n",
       "      <td>0</td>\n",
       "      <td>0</td>\n",
       "      <td>0</td>\n",
       "      <td>0</td>\n",
       "      <td>0</td>\n",
       "    </tr>\n",
       "    <tr>\n",
       "      <th>1989-04-30</th>\n",
       "      <td>0.022068</td>\n",
       "      <td>0.000326</td>\n",
       "      <td>0.000275</td>\n",
       "      <td>0.018052</td>\n",
       "      <td>0.016583</td>\n",
       "      <td>0</td>\n",
       "      <td>0</td>\n",
       "      <td>0</td>\n",
       "      <td>0</td>\n",
       "      <td>0</td>\n",
       "      <td>0</td>\n",
       "    </tr>\n",
       "  </tbody>\n",
       "</table>\n",
       "</div>"
      ],
      "text/plain": [
       "                 ret  cond_var_garch  cond_var_emwa  cond_vol_garch  \\\n",
       "date                                                                  \n",
       "1986-11-30  0.008662        0.000075       0.000075        0.008662   \n",
       "1986-12-31 -0.009333        0.000181       0.000075        0.013462   \n",
       "1987-01-31  0.053083        0.000239       0.000076        0.015459   \n",
       "1987-02-28  0.010155        0.000608       0.000184        0.024661   \n",
       "1987-03-31  0.019824        0.000467       0.000181        0.021613   \n",
       "1987-04-30 -0.004865        0.000428       0.000189        0.020697   \n",
       "1987-05-31  0.000399        0.000362       0.000183        0.019027   \n",
       "1987-06-30  0.024185        0.000324       0.000175        0.017999   \n",
       "1987-07-31  0.021584        0.000376       0.000192        0.019399   \n",
       "1987-08-31  0.007685        0.000389       0.000202        0.019730   \n",
       "1987-09-30 -0.013522        0.000346       0.000197        0.018593   \n",
       "1987-10-31 -0.059976        0.000338       0.000196        0.018384   \n",
       "1987-11-30 -0.019888        0.000757       0.000331        0.027518   \n",
       "1987-12-31  0.024774        0.000582       0.000333        0.024132   \n",
       "1988-01-31  0.028281        0.000517       0.000344        0.022732   \n",
       "1988-02-29  0.013578        0.000505       0.000362        0.022474   \n",
       "1988-03-31  0.001926        0.000423       0.000355        0.020557   \n",
       "1988-04-30  0.002728        0.000356       0.000341        0.018881   \n",
       "1988-05-31  0.002388        0.000322       0.000328        0.017942   \n",
       "1988-06-30  0.017597        0.000303       0.000315        0.017419   \n",
       "1988-07-31 -0.001246        0.000331       0.000315        0.018201   \n",
       "1988-08-31 -0.009656        0.000308       0.000303        0.017546   \n",
       "1988-09-30  0.012705        0.000307       0.000295        0.017516   \n",
       "1988-10-31  0.023756        0.000315       0.000289        0.017740   \n",
       "1988-11-30 -0.003838        0.000369       0.000300        0.019206   \n",
       "1988-12-31  0.002685        0.000329       0.000289        0.018149   \n",
       "1989-01-31  0.023768        0.000308       0.000278        0.017537   \n",
       "1989-02-28 -0.009538        0.000365       0.000289        0.019109   \n",
       "1989-03-31  0.011095        0.000337       0.000281        0.018354   \n",
       "1989-04-30  0.022068        0.000326       0.000275        0.018052   \n",
       "\n",
       "            cond_vol_emwa  model_vol_garch  model_vol_emwa  z_garch  z_emwa  \\\n",
       "date                                                                          \n",
       "1986-11-30       0.008662                0               0        0       0   \n",
       "1986-12-31       0.008662                0               0        0       0   \n",
       "1987-01-31       0.008689                0               0        0       0   \n",
       "1987-02-28       0.013563                0               0        0       0   \n",
       "1987-03-31       0.013444                0               0        0       0   \n",
       "1987-04-30       0.013753                0               0        0       0   \n",
       "1987-05-31       0.013513                0               0        0       0   \n",
       "1987-06-30       0.013243                0               0        0       0   \n",
       "1987-07-31       0.013841                0               0        0       0   \n",
       "1987-08-31       0.014228                0               0        0       0   \n",
       "1987-09-30       0.014027                0               0        0       0   \n",
       "1987-10-31       0.014007                0               0        0       0   \n",
       "1987-11-30       0.018185                0               0        0       0   \n",
       "1987-12-31       0.018255                0               0        0       0   \n",
       "1988-01-31       0.018556                0               0        0       0   \n",
       "1988-02-29       0.019036                0               0        0       0   \n",
       "1988-03-31       0.018850                0               0        0       0   \n",
       "1988-04-30       0.018477                0               0        0       0   \n",
       "1988-05-31       0.018116                0               0        0       0   \n",
       "1988-06-30       0.017761                0               0        0       0   \n",
       "1988-07-31       0.017755                0               0        0       0   \n",
       "1988-08-31       0.017402                0               0        0       0   \n",
       "1988-09-30       0.017162                0               0        0       0   \n",
       "1988-10-31       0.017008                0               0        0       0   \n",
       "1988-11-30       0.017325                0               0        0       0   \n",
       "1988-12-31       0.016996                0               0        0       0   \n",
       "1989-01-31       0.016665                0               0        0       0   \n",
       "1989-02-28       0.017002                0               0        0       0   \n",
       "1989-03-31       0.016770                0               0        0       0   \n",
       "1989-04-30       0.016583                0               0        0       0   \n",
       "\n",
       "            resc_r_garch  resc_r_emwa  \n",
       "date                                   \n",
       "1986-11-30             0            0  \n",
       "1986-12-31             0            0  \n",
       "1987-01-31             0            0  \n",
       "1987-02-28             0            0  \n",
       "1987-03-31             0            0  \n",
       "1987-04-30             0            0  \n",
       "1987-05-31             0            0  \n",
       "1987-06-30             0            0  \n",
       "1987-07-31             0            0  \n",
       "1987-08-31             0            0  \n",
       "1987-09-30             0            0  \n",
       "1987-10-31             0            0  \n",
       "1987-11-30             0            0  \n",
       "1987-12-31             0            0  \n",
       "1988-01-31             0            0  \n",
       "1988-02-29             0            0  \n",
       "1988-03-31             0            0  \n",
       "1988-04-30             0            0  \n",
       "1988-05-31             0            0  \n",
       "1988-06-30             0            0  \n",
       "1988-07-31             0            0  \n",
       "1988-08-31             0            0  \n",
       "1988-09-30             0            0  \n",
       "1988-10-31             0            0  \n",
       "1988-11-30             0            0  \n",
       "1988-12-31             0            0  \n",
       "1989-01-31             0            0  \n",
       "1989-02-28             0            0  \n",
       "1989-03-31             0            0  \n",
       "1989-04-30             0            0  "
      ]
     },
     "execution_count": 43,
     "metadata": {},
     "output_type": "execute_result"
    }
   ],
   "source": [
    "portfolio_ret_m_aug.head(30)"
   ]
  },
  {
   "cell_type": "code",
   "execution_count": 44,
   "id": "4b153a44",
   "metadata": {},
   "outputs": [
    {
     "data": {
      "image/png": "[encoded data removed]",
      "text/plain": [
       "<Figure size 432x288 with 1 Axes>"
      ]
     },
     "metadata": {
      "needs_background": "light"
     },
     "output_type": "display_data"
    }
   ],
   "source": [
    "ax = (portfolio_ret_m_aug['cond_vol_emwa']*100).plot(c='red', label = 'Cond. Volatility EWMA')\n",
    "ax = (portfolio_ret_m_aug['cond_vol_garch']*100).plot(c='blue', alpha=0.5, label = 'Cond. Volatility GARCH')\n",
    "plt.ylabel('Conditional Monthly Volatility Aug')\n",
    "plt.legend()\n",
    "ax.yaxis.set_major_formatter(mtick.PercentFormatter())"
   ]
  },
  {
   "cell_type": "code",
   "execution_count": 45,
   "id": "b3f16d44",
   "metadata": {},
   "outputs": [
    {
     "data": {
      "image/png": "[encoded data removed]",
      "text/plain": [
       "<Figure size 432x288 with 1 Axes>"
      ]
     },
     "metadata": {
      "needs_background": "light"
     },
     "output_type": "display_data"
    }
   ],
   "source": [
    "ax = (portfolio_ret_m_aug['cond_vol_emwa']*100).plot(c='red', label = 'Cond. Volatility EWMA Aug')\n",
    "plt.ylabel('Conditional Monthly Volatility Aug')\n",
    "plt.legend()\n",
    "ax.yaxis.set_major_formatter(mtick.PercentFormatter())"
   ]
  },
  {
   "cell_type": "code",
   "execution_count": 46,
   "id": "ebacfc87",
   "metadata": {},
   "outputs": [
    {
     "data": {
      "image/png": "[encoded data removed]",
      "text/plain": [
       "<Figure size 432x288 with 1 Axes>"
      ]
     },
     "metadata": {
      "needs_background": "light"
     },
     "output_type": "display_data"
    }
   ],
   "source": [
    "ax = (portfolio_ret_m_aug['cond_vol_garch']*100).plot(c='blue', label = 'Cond. Volatility GARCH Aug')\n",
    "plt.ylabel('Conditional Volatility Aug')\n",
    "plt.legend()\n",
    "ax.yaxis.set_major_formatter(mtick.PercentFormatter())"
   ]
  },
  {
   "cell_type": "code",
   "execution_count": 47,
   "id": "92d989a1",
   "metadata": {},
   "outputs": [
    {
     "data": {
      "image/png": "[encoded data removed]",
      "text/plain": [
       "<Figure size 432x288 with 1 Axes>"
      ]
     },
     "metadata": {
      "needs_background": "light"
     },
     "output_type": "display_data"
    }
   ],
   "source": [
    "ax = ((((res_garch_m_aug.conditional_volatility**2)/10000)**0.5)*100).plot(c='blue', alpha=0.5, label = 'Cond. Volatility EWMA from model Aug')\n",
    "ax = ((((res_m_aug.conditional_volatility**2)/10000)**0.5)*100).plot(c='red', label = 'Cond. Volatility GARCH from model Aug')\n",
    "plt.ylabel('Conditional Monthly Volatility Aug')\n",
    "plt.legend()\n",
    "ax.yaxis.set_major_formatter(mtick.PercentFormatter())"
   ]
  },
  {
   "cell_type": "code",
   "execution_count": 48,
   "id": "592f172d",
   "metadata": {},
   "outputs": [
    {
     "data": {
      "image/png": "[encoded data removed]",
      "text/plain": [
       "<Figure size 432x288 with 1 Axes>"
      ]
     },
     "metadata": {
      "needs_background": "light"
     },
     "output_type": "display_data"
    }
   ],
   "source": [
    "ax = (portfolio_ret_m_aug['cond_vol_garch']*100).plot(c='red', label = 'Cond. Volatility GARCH Aug')\n",
    "ax = ((((res_garch_m_aug.conditional_volatility**2)/10000)**0.5)*100).plot(c='blue', alpha=0.5, label = 'Cond. Volatility GARCH from model Aug')\n",
    "plt.ylabel('Conditional Monthly Volatility Aug')\n",
    "plt.legend()\n",
    "ax.yaxis.set_major_formatter(mtick.PercentFormatter())"
   ]
  },
  {
   "cell_type": "code",
   "execution_count": 49,
   "id": "47a2a8f1",
   "metadata": {},
   "outputs": [
    {
     "data": {
      "image/png": "[encoded data removed]",
      "text/plain": [
       "<Figure size 432x288 with 1 Axes>"
      ]
     },
     "metadata": {
      "needs_background": "light"
     },
     "output_type": "display_data"
    }
   ],
   "source": [
    "ax = (portfolio_ret_m_aug['cond_vol_emwa']*100).plot(c='red', label = 'Cond. Volatility EWMA Aug')\n",
    "ax = ((((res_m_aug.conditional_volatility**2)/10000)**0.5)*100).plot(c='blue', alpha=0.5, label = 'Cond. Volatility EWMA from model Aug')\n",
    "plt.ylabel('Conditional Monthly Volatility Aug')\n",
    "plt.legend()\n",
    "ax.yaxis.set_major_formatter(mtick.PercentFormatter())"
   ]
  },
  {
   "cell_type": "code",
   "execution_count": 50,
   "id": "0eabb126",
   "metadata": {},
   "outputs": [],
   "source": [
    "portfolio_ret_m_aug['model_vol_garch']=((res_garch_m_aug.conditional_volatility**2)/10000)**0.5\n",
    "portfolio_ret_m_aug['model_vol_emwa']=((res_m_aug.conditional_volatility**2)/10000)**0.5"
   ]
  },
  {
   "cell_type": "code",
   "execution_count": 51,
   "id": "df944da0",
   "metadata": {},
   "outputs": [],
   "source": [
    "portfolio_ret_m_aug['z_garch'] = portfolio_ret_m_aug['ret']/portfolio_ret_m_aug['cond_vol_garch']\n",
    "portfolio_ret_m_aug['z_emwa'] = portfolio_ret_m_aug['ret']/portfolio_ret_m_aug['cond_vol_emwa']"
   ]
  },
  {
   "cell_type": "code",
   "execution_count": 52,
   "id": "7fa8228c",
   "metadata": {},
   "outputs": [],
   "source": [
    "for g in range(0, len(portfolio_ret_m_aug)-1):\n",
    "    portfolio_ret_m_aug.iloc[g, 9] = portfolio_ret_m_aug.iloc[g,7] * forc_vol_emwa_m_aug"
   ]
  },
  {
   "cell_type": "code",
   "execution_count": 53,
   "id": "1a001fe8",
   "metadata": {},
   "outputs": [],
   "source": [
    "for h in range(0, len(portfolio_ret_m_aug)-1):\n",
    "    portfolio_ret_m_aug.iloc[h, 10] = portfolio_ret_m_aug.iloc[h,8] * forc_vol_garch_m_aug"
   ]
  },
  {
   "cell_type": "code",
   "execution_count": 54,
   "id": "f8b12a75",
   "metadata": {},
   "outputs": [
    {
     "data": {
      "text/html": [
       "<div>\n",
       "<style scoped>\n",
       "    .dataframe tbody tr th:only-of-type {\n",
       "        vertical-align: middle;\n",
       "    }\n",
       "\n",
       "    .dataframe tbody tr th {\n",
       "        vertical-align: top;\n",
       "    }\n",
       "\n",
       "    .dataframe thead th {\n",
       "        text-align: right;\n",
       "    }\n",
       "</style>\n",
       "<table border=\"1\" class=\"dataframe\">\n",
       "  <thead>\n",
       "    <tr style=\"text-align: right;\">\n",
       "      <th></th>\n",
       "      <th>ret</th>\n",
       "      <th>cond_var_garch</th>\n",
       "      <th>cond_var_emwa</th>\n",
       "      <th>cond_vol_garch</th>\n",
       "      <th>cond_vol_emwa</th>\n",
       "      <th>model_vol_garch</th>\n",
       "      <th>model_vol_emwa</th>\n",
       "      <th>z_garch</th>\n",
       "      <th>z_emwa</th>\n",
       "      <th>resc_r_garch</th>\n",
       "      <th>resc_r_emwa</th>\n",
       "    </tr>\n",
       "    <tr>\n",
       "      <th>date</th>\n",
       "      <th></th>\n",
       "      <th></th>\n",
       "      <th></th>\n",
       "      <th></th>\n",
       "      <th></th>\n",
       "      <th></th>\n",
       "      <th></th>\n",
       "      <th></th>\n",
       "      <th></th>\n",
       "      <th></th>\n",
       "      <th></th>\n",
       "    </tr>\n",
       "  </thead>\n",
       "  <tbody>\n",
       "    <tr>\n",
       "      <th>1986-11-30</th>\n",
       "      <td>0.008662</td>\n",
       "      <td>0.000075</td>\n",
       "      <td>0.000075</td>\n",
       "      <td>0.008662</td>\n",
       "      <td>0.008662</td>\n",
       "      <td>0.013462</td>\n",
       "      <td>0.008662</td>\n",
       "      <td>1.000000</td>\n",
       "      <td>1.000000</td>\n",
       "      <td>0.024584</td>\n",
       "      <td>0.020643</td>\n",
       "    </tr>\n",
       "    <tr>\n",
       "      <th>1986-12-31</th>\n",
       "      <td>-0.009333</td>\n",
       "      <td>0.000181</td>\n",
       "      <td>0.000075</td>\n",
       "      <td>0.013462</td>\n",
       "      <td>0.008662</td>\n",
       "      <td>0.015410</td>\n",
       "      <td>0.008662</td>\n",
       "      <td>-0.693293</td>\n",
       "      <td>-1.077488</td>\n",
       "      <td>-0.017044</td>\n",
       "      <td>-0.022242</td>\n",
       "    </tr>\n",
       "    <tr>\n",
       "      <th>1987-01-31</th>\n",
       "      <td>0.053083</td>\n",
       "      <td>0.000239</td>\n",
       "      <td>0.000076</td>\n",
       "      <td>0.015459</td>\n",
       "      <td>0.008689</td>\n",
       "      <td>0.016394</td>\n",
       "      <td>0.008689</td>\n",
       "      <td>3.433889</td>\n",
       "      <td>6.109023</td>\n",
       "      <td>0.084417</td>\n",
       "      <td>0.126106</td>\n",
       "    </tr>\n",
       "    <tr>\n",
       "      <th>1987-02-28</th>\n",
       "      <td>0.010155</td>\n",
       "      <td>0.000608</td>\n",
       "      <td>0.000184</td>\n",
       "      <td>0.024661</td>\n",
       "      <td>0.013563</td>\n",
       "      <td>0.024979</td>\n",
       "      <td>0.013563</td>\n",
       "      <td>0.411774</td>\n",
       "      <td>0.748745</td>\n",
       "      <td>0.010123</td>\n",
       "      <td>0.015456</td>\n",
       "    </tr>\n",
       "    <tr>\n",
       "      <th>1987-03-31</th>\n",
       "      <td>0.019824</td>\n",
       "      <td>0.000467</td>\n",
       "      <td>0.000181</td>\n",
       "      <td>0.021613</td>\n",
       "      <td>0.013444</td>\n",
       "      <td>0.021806</td>\n",
       "      <td>0.013444</td>\n",
       "      <td>0.917233</td>\n",
       "      <td>1.474546</td>\n",
       "      <td>0.022549</td>\n",
       "      <td>0.030438</td>\n",
       "    </tr>\n",
       "    <tr>\n",
       "      <th>...</th>\n",
       "      <td>...</td>\n",
       "      <td>...</td>\n",
       "      <td>...</td>\n",
       "      <td>...</td>\n",
       "      <td>...</td>\n",
       "      <td>...</td>\n",
       "      <td>...</td>\n",
       "      <td>...</td>\n",
       "      <td>...</td>\n",
       "      <td>...</td>\n",
       "      <td>...</td>\n",
       "    </tr>\n",
       "    <tr>\n",
       "      <th>2021-06-30</th>\n",
       "      <td>-0.011192</td>\n",
       "      <td>0.000481</td>\n",
       "      <td>0.000658</td>\n",
       "      <td>0.021921</td>\n",
       "      <td>0.025647</td>\n",
       "      <td>0.021921</td>\n",
       "      <td>0.025647</td>\n",
       "      <td>-0.510588</td>\n",
       "      <td>-0.436399</td>\n",
       "      <td>-0.012552</td>\n",
       "      <td>-0.009008</td>\n",
       "    </tr>\n",
       "    <tr>\n",
       "      <th>2021-07-31</th>\n",
       "      <td>0.019344</td>\n",
       "      <td>0.000402</td>\n",
       "      <td>0.000637</td>\n",
       "      <td>0.020056</td>\n",
       "      <td>0.025233</td>\n",
       "      <td>0.020056</td>\n",
       "      <td>0.025233</td>\n",
       "      <td>0.964475</td>\n",
       "      <td>0.766581</td>\n",
       "      <td>0.023710</td>\n",
       "      <td>0.015824</td>\n",
       "    </tr>\n",
       "    <tr>\n",
       "      <th>2021-08-31</th>\n",
       "      <td>0.006706</td>\n",
       "      <td>0.000392</td>\n",
       "      <td>0.000626</td>\n",
       "      <td>0.019790</td>\n",
       "      <td>0.025027</td>\n",
       "      <td>0.019790</td>\n",
       "      <td>0.025027</td>\n",
       "      <td>0.338871</td>\n",
       "      <td>0.267962</td>\n",
       "      <td>0.008331</td>\n",
       "      <td>0.005531</td>\n",
       "    </tr>\n",
       "    <tr>\n",
       "      <th>2021-09-30</th>\n",
       "      <td>-0.020628</td>\n",
       "      <td>0.000345</td>\n",
       "      <td>0.000603</td>\n",
       "      <td>0.018580</td>\n",
       "      <td>0.024563</td>\n",
       "      <td>0.018580</td>\n",
       "      <td>0.024563</td>\n",
       "      <td>-1.110252</td>\n",
       "      <td>-0.839800</td>\n",
       "      <td>-0.027294</td>\n",
       "      <td>-0.017336</td>\n",
       "    </tr>\n",
       "    <tr>\n",
       "      <th>2021-10-31</th>\n",
       "      <td>0.028271</td>\n",
       "      <td>0.000368</td>\n",
       "      <td>0.000596</td>\n",
       "      <td>0.019178</td>\n",
       "      <td>0.024420</td>\n",
       "      <td>0.019178</td>\n",
       "      <td>0.024420</td>\n",
       "      <td>1.474142</td>\n",
       "      <td>1.157724</td>\n",
       "      <td>0.000000</td>\n",
       "      <td>0.000000</td>\n",
       "    </tr>\n",
       "  </tbody>\n",
       "</table>\n",
       "<p>420 rows × 11 columns</p>\n",
       "</div>"
      ],
      "text/plain": [
       "                 ret  cond_var_garch  cond_var_emwa  cond_vol_garch  \\\n",
       "date                                                                  \n",
       "1986-11-30  0.008662        0.000075       0.000075        0.008662   \n",
       "1986-12-31 -0.009333        0.000181       0.000075        0.013462   \n",
       "1987-01-31  0.053083        0.000239       0.000076        0.015459   \n",
       "1987-02-28  0.010155        0.000608       0.000184        0.024661   \n",
       "1987-03-31  0.019824        0.000467       0.000181        0.021613   \n",
       "...              ...             ...            ...             ...   \n",
       "2021-06-30 -0.011192        0.000481       0.000658        0.021921   \n",
       "2021-07-31  0.019344        0.000402       0.000637        0.020056   \n",
       "2021-08-31  0.006706        0.000392       0.000626        0.019790   \n",
       "2021-09-30 -0.020628        0.000345       0.000603        0.018580   \n",
       "2021-10-31  0.028271        0.000368       0.000596        0.019178   \n",
       "\n",
       "            cond_vol_emwa  model_vol_garch  model_vol_emwa   z_garch  \\\n",
       "date                                                                   \n",
       "1986-11-30       0.008662         0.013462        0.008662  1.000000   \n",
       "1986-12-31       0.008662         0.015410        0.008662 -0.693293   \n",
       "1987-01-31       0.008689         0.016394        0.008689  3.433889   \n",
       "1987-02-28       0.013563         0.024979        0.013563  0.411774   \n",
       "1987-03-31       0.013444         0.021806        0.013444  0.917233   \n",
       "...                   ...              ...             ...       ...   \n",
       "2021-06-30       0.025647         0.021921        0.025647 -0.510588   \n",
       "2021-07-31       0.025233         0.020056        0.025233  0.964475   \n",
       "2021-08-31       0.025027         0.019790        0.025027  0.338871   \n",
       "2021-09-30       0.024563         0.018580        0.024563 -1.110252   \n",
       "2021-10-31       0.024420         0.019178        0.024420  1.474142   \n",
       "\n",
       "              z_emwa  resc_r_garch  resc_r_emwa  \n",
       "date                                             \n",
       "1986-11-30  1.000000      0.024584     0.020643  \n",
       "1986-12-31 -1.077488     -0.017044    -0.022242  \n",
       "1987-01-31  6.109023      0.084417     0.126106  \n",
       "1987-02-28  0.748745      0.010123     0.015456  \n",
       "1987-03-31  1.474546      0.022549     0.030438  \n",
       "...              ...           ...          ...  \n",
       "2021-06-30 -0.436399     -0.012552    -0.009008  \n",
       "2021-07-31  0.766581      0.023710     0.015824  \n",
       "2021-08-31  0.267962      0.008331     0.005531  \n",
       "2021-09-30 -0.839800     -0.027294    -0.017336  \n",
       "2021-10-31  1.157724      0.000000     0.000000  \n",
       "\n",
       "[420 rows x 11 columns]"
      ]
     },
     "execution_count": 54,
     "metadata": {},
     "output_type": "execute_result"
    }
   ],
   "source": [
    "portfolio_ret_m_aug"
   ]
  },
  {
   "cell_type": "code",
   "execution_count": 55,
   "id": "854725e1",
   "metadata": {},
   "outputs": [],
   "source": [
    "mean_garch_m_aug = portfolio_ret_m_aug['z_garch'].mean()\n",
    "std_garch_m_aug = portfolio_ret_m_aug['z_garch'].std()\n",
    "max_garch_m_aug = portfolio_ret_m_aug['z_garch'].max() \n",
    "min_garch_m_aug = portfolio_ret_m_aug['z_garch'].min()\n",
    "kurt_garch_m_aug = sp.kurtosis(portfolio_ret_m_aug['z_garch'])\n",
    "skew_garch_m_aug = sp.skew(portfolio_ret_m_aug['z_garch'])"
   ]
  },
  {
   "cell_type": "code",
   "execution_count": 56,
   "id": "2dc04f16",
   "metadata": {},
   "outputs": [],
   "source": [
    "mean_ewma_m_aug = portfolio_ret_m_aug['z_emwa'].mean()\n",
    "std_ewma_m_aug = portfolio_ret_m_aug['z_emwa'].std()\n",
    "max_ewma_m_aug = portfolio_ret_m_aug['z_emwa'].max() \n",
    "min_ewma_m_aug = portfolio_ret_m_aug['z_emwa'].min()\n",
    "kurt_ewma_m_aug = sp.kurtosis(portfolio_ret_m_aug['z_emwa'])\n",
    "skew_ewma_m_aug = sp.skew(portfolio_ret_m_aug['z_emwa'])"
   ]
  },
  {
   "cell_type": "markdown",
   "id": "10d0ca21",
   "metadata": {},
   "source": [
    "## Statistics Table"
   ]
  },
  {
   "cell_type": "code",
   "execution_count": 57,
   "id": "572b4d57",
   "metadata": {},
   "outputs": [],
   "source": [
    "df_stats_aug = pd.DataFrame(index=['min', 'max', 'mean', 'kurtosis', 'skewness'])"
   ]
  },
  {
   "cell_type": "code",
   "execution_count": 58,
   "id": "82ebe5db",
   "metadata": {},
   "outputs": [
    {
     "data": {
      "text/html": [
       "<div>\n",
       "<style scoped>\n",
       "    .dataframe tbody tr th:only-of-type {\n",
       "        vertical-align: middle;\n",
       "    }\n",
       "\n",
       "    .dataframe tbody tr th {\n",
       "        vertical-align: top;\n",
       "    }\n",
       "\n",
       "    .dataframe thead th {\n",
       "        text-align: right;\n",
       "    }\n",
       "</style>\n",
       "<table border=\"1\" class=\"dataframe\">\n",
       "  <thead>\n",
       "    <tr style=\"text-align: right;\">\n",
       "      <th></th>\n",
       "      <th>Returs</th>\n",
       "      <th>Normalized Returns</th>\n",
       "      <th>Garch z-scores</th>\n",
       "      <th>Ewma z-scores</th>\n",
       "    </tr>\n",
       "  </thead>\n",
       "  <tbody>\n",
       "    <tr>\n",
       "      <th>min</th>\n",
       "      <td>-0.10</td>\n",
       "      <td>-5.60</td>\n",
       "      <td>-5.42</td>\n",
       "      <td>-7.33</td>\n",
       "    </tr>\n",
       "    <tr>\n",
       "      <th>max</th>\n",
       "      <td>0.07</td>\n",
       "      <td>3.34</td>\n",
       "      <td>3.43</td>\n",
       "      <td>6.11</td>\n",
       "    </tr>\n",
       "    <tr>\n",
       "      <th>mean</th>\n",
       "      <td>0.01</td>\n",
       "      <td>-0.00</td>\n",
       "      <td>0.34</td>\n",
       "      <td>0.36</td>\n",
       "    </tr>\n",
       "    <tr>\n",
       "      <th>kurtosis</th>\n",
       "      <td>3.21</td>\n",
       "      <td>3.21</td>\n",
       "      <td>3.82</td>\n",
       "      <td>8.75</td>\n",
       "    </tr>\n",
       "    <tr>\n",
       "      <th>skewness</th>\n",
       "      <td>-0.74</td>\n",
       "      <td>-0.74</td>\n",
       "      <td>-0.88</td>\n",
       "      <td>-0.97</td>\n",
       "    </tr>\n",
       "  </tbody>\n",
       "</table>\n",
       "</div>"
      ],
      "text/plain": [
       "         Returs Normalized Returns Garch z-scores Ewma z-scores\n",
       "min       -0.10              -5.60          -5.42         -7.33\n",
       "max        0.07               3.34           3.43          6.11\n",
       "mean       0.01              -0.00           0.34          0.36\n",
       "kurtosis   3.21               3.21           3.82          8.75\n",
       "skewness  -0.74              -0.74          -0.88         -0.97"
      ]
     },
     "execution_count": 58,
     "metadata": {},
     "output_type": "execute_result"
    }
   ],
   "source": [
    "df_stats_aug['Returs'] = [min_m_aug, max_m_aug, mean_m_aug, kurt_m_aug, skew_m_aug]\n",
    "df_stats_aug['Normalized Returns'] = [min_norm_m_aug, max_norm_m_aug, mean_norm_m_aug, kurt_norm_m_aug, skew_norm_m_aug]\n",
    "df_stats_aug['Garch z-scores'] = [min_garch_m_aug, max_garch_m_aug, mean_garch_m_aug, kurt_garch_m_aug, skew_garch_m_aug]\n",
    "df_stats_aug['Ewma z-scores'] = [min_ewma_m_aug, max_ewma_m_aug, mean_ewma_m_aug, kurt_ewma_m_aug, skew_ewma_m_aug]\n",
    "\n",
    "df_stats_aug.applymap('{:,.2f}'.format)"
   ]
  },
  {
   "cell_type": "markdown",
   "id": "acc393b5",
   "metadata": {},
   "source": [
    "# Prepating new DataFrame to generate risk measures"
   ]
  },
  {
   "cell_type": "code",
   "execution_count": 59,
   "id": "bdd9e103",
   "metadata": {},
   "outputs": [],
   "source": [
    "df_returns_m_aug = pd.DataFrame()"
   ]
  },
  {
   "cell_type": "code",
   "execution_count": 60,
   "id": "bbf36991",
   "metadata": {},
   "outputs": [
    {
     "data": {
      "text/html": [
       "<div>\n",
       "<style scoped>\n",
       "    .dataframe tbody tr th:only-of-type {\n",
       "        vertical-align: middle;\n",
       "    }\n",
       "\n",
       "    .dataframe tbody tr th {\n",
       "        vertical-align: top;\n",
       "    }\n",
       "\n",
       "    .dataframe thead th {\n",
       "        text-align: right;\n",
       "    }\n",
       "</style>\n",
       "<table border=\"1\" class=\"dataframe\">\n",
       "  <thead>\n",
       "    <tr style=\"text-align: right;\">\n",
       "      <th></th>\n",
       "      <th>Returns</th>\n",
       "      <th>Returns_Garch</th>\n",
       "      <th>Returns_Emwa</th>\n",
       "    </tr>\n",
       "    <tr>\n",
       "      <th>date</th>\n",
       "      <th></th>\n",
       "      <th></th>\n",
       "      <th></th>\n",
       "    </tr>\n",
       "  </thead>\n",
       "  <tbody>\n",
       "    <tr>\n",
       "      <th>1986-11-30</th>\n",
       "      <td>0.008662</td>\n",
       "      <td>0.024584</td>\n",
       "      <td>0.020643</td>\n",
       "    </tr>\n",
       "    <tr>\n",
       "      <th>1986-12-31</th>\n",
       "      <td>-0.009333</td>\n",
       "      <td>-0.017044</td>\n",
       "      <td>-0.022242</td>\n",
       "    </tr>\n",
       "    <tr>\n",
       "      <th>1987-01-31</th>\n",
       "      <td>0.053083</td>\n",
       "      <td>0.084417</td>\n",
       "      <td>0.126106</td>\n",
       "    </tr>\n",
       "    <tr>\n",
       "      <th>1987-02-28</th>\n",
       "      <td>0.010155</td>\n",
       "      <td>0.010123</td>\n",
       "      <td>0.015456</td>\n",
       "    </tr>\n",
       "    <tr>\n",
       "      <th>1987-03-31</th>\n",
       "      <td>0.019824</td>\n",
       "      <td>0.022549</td>\n",
       "      <td>0.030438</td>\n",
       "    </tr>\n",
       "    <tr>\n",
       "      <th>...</th>\n",
       "      <td>...</td>\n",
       "      <td>...</td>\n",
       "      <td>...</td>\n",
       "    </tr>\n",
       "    <tr>\n",
       "      <th>2021-06-30</th>\n",
       "      <td>-0.011192</td>\n",
       "      <td>-0.012552</td>\n",
       "      <td>-0.009008</td>\n",
       "    </tr>\n",
       "    <tr>\n",
       "      <th>2021-07-31</th>\n",
       "      <td>0.019344</td>\n",
       "      <td>0.023710</td>\n",
       "      <td>0.015824</td>\n",
       "    </tr>\n",
       "    <tr>\n",
       "      <th>2021-08-31</th>\n",
       "      <td>0.006706</td>\n",
       "      <td>0.008331</td>\n",
       "      <td>0.005531</td>\n",
       "    </tr>\n",
       "    <tr>\n",
       "      <th>2021-09-30</th>\n",
       "      <td>-0.020628</td>\n",
       "      <td>-0.027294</td>\n",
       "      <td>-0.017336</td>\n",
       "    </tr>\n",
       "    <tr>\n",
       "      <th>2021-10-31</th>\n",
       "      <td>0.028271</td>\n",
       "      <td>0.000000</td>\n",
       "      <td>0.000000</td>\n",
       "    </tr>\n",
       "  </tbody>\n",
       "</table>\n",
       "<p>420 rows × 3 columns</p>\n",
       "</div>"
      ],
      "text/plain": [
       "             Returns  Returns_Garch  Returns_Emwa\n",
       "date                                             \n",
       "1986-11-30  0.008662       0.024584      0.020643\n",
       "1986-12-31 -0.009333      -0.017044     -0.022242\n",
       "1987-01-31  0.053083       0.084417      0.126106\n",
       "1987-02-28  0.010155       0.010123      0.015456\n",
       "1987-03-31  0.019824       0.022549      0.030438\n",
       "...              ...            ...           ...\n",
       "2021-06-30 -0.011192      -0.012552     -0.009008\n",
       "2021-07-31  0.019344       0.023710      0.015824\n",
       "2021-08-31  0.006706       0.008331      0.005531\n",
       "2021-09-30 -0.020628      -0.027294     -0.017336\n",
       "2021-10-31  0.028271       0.000000      0.000000\n",
       "\n",
       "[420 rows x 3 columns]"
      ]
     },
     "execution_count": 60,
     "metadata": {},
     "output_type": "execute_result"
    }
   ],
   "source": [
    "df_returns_m_aug['Returns'] = portfolio_ret_m_aug['ret']\n",
    "df_returns_m_aug['Returns_Garch'] = portfolio_ret_m_aug['resc_r_garch']\n",
    "df_returns_m_aug['Returns_Emwa'] = portfolio_ret_m_aug['resc_r_emwa']\n",
    "\n",
    "df_returns_m_aug"
   ]
  },
  {
   "cell_type": "markdown",
   "id": "6412189a",
   "metadata": {},
   "source": [
    "## Generating Risk Measures for each Look-back Period"
   ]
  },
  {
   "cell_type": "code",
   "execution_count": 61,
   "id": "f5c8fd3e",
   "metadata": {},
   "outputs": [],
   "source": [
    "df_risk_measures_m_aug = pd.DataFrame(index=['VaR_PreC','VaR_PostC','ES_PreC','ES_PostC'], columns=['Param', 'Hist', 'Fhist_G', 'Fhist_E', 'Whist'])"
   ]
  },
  {
   "cell_type": "code",
   "execution_count": 62,
   "id": "60267420",
   "metadata": {},
   "outputs": [
    {
     "data": {
      "text/html": [
       "<div>\n",
       "<style scoped>\n",
       "    .dataframe tbody tr th:only-of-type {\n",
       "        vertical-align: middle;\n",
       "    }\n",
       "\n",
       "    .dataframe tbody tr th {\n",
       "        vertical-align: top;\n",
       "    }\n",
       "\n",
       "    .dataframe thead th {\n",
       "        text-align: right;\n",
       "    }\n",
       "</style>\n",
       "<table border=\"1\" class=\"dataframe\">\n",
       "  <thead>\n",
       "    <tr style=\"text-align: right;\">\n",
       "      <th></th>\n",
       "      <th>Returns</th>\n",
       "      <th>Returns_Garch</th>\n",
       "      <th>Returns_Emwa</th>\n",
       "    </tr>\n",
       "    <tr>\n",
       "      <th>date</th>\n",
       "      <th></th>\n",
       "      <th></th>\n",
       "      <th></th>\n",
       "    </tr>\n",
       "  </thead>\n",
       "  <tbody>\n",
       "    <tr>\n",
       "      <th>2019-10-31</th>\n",
       "      <td>0.008543</td>\n",
       "      <td>0.011069</td>\n",
       "      <td>0.010379</td>\n",
       "    </tr>\n",
       "    <tr>\n",
       "      <th>2019-11-30</th>\n",
       "      <td>0.002952</td>\n",
       "      <td>0.003984</td>\n",
       "      <td>0.003641</td>\n",
       "    </tr>\n",
       "    <tr>\n",
       "      <th>2019-12-31</th>\n",
       "      <td>0.019357</td>\n",
       "      <td>0.027068</td>\n",
       "      <td>0.024344</td>\n",
       "    </tr>\n",
       "    <tr>\n",
       "      <th>2020-01-31</th>\n",
       "      <td>0.002543</td>\n",
       "      <td>0.003378</td>\n",
       "      <td>0.003173</td>\n",
       "    </tr>\n",
       "    <tr>\n",
       "      <th>2020-02-29</th>\n",
       "      <td>-0.033245</td>\n",
       "      <td>-0.046098</td>\n",
       "      <td>-0.042315</td>\n",
       "    </tr>\n",
       "    <tr>\n",
       "      <th>2020-03-31</th>\n",
       "      <td>-0.072137</td>\n",
       "      <td>-0.084956</td>\n",
       "      <td>-0.086505</td>\n",
       "    </tr>\n",
       "    <tr>\n",
       "      <th>2020-04-30</th>\n",
       "      <td>0.068103</td>\n",
       "      <td>0.052725</td>\n",
       "      <td>0.063484</td>\n",
       "    </tr>\n",
       "    <tr>\n",
       "      <th>2020-05-31</th>\n",
       "      <td>0.017470</td>\n",
       "      <td>0.012189</td>\n",
       "      <td>0.014097</td>\n",
       "    </tr>\n",
       "    <tr>\n",
       "      <th>2020-06-30</th>\n",
       "      <td>0.012536</td>\n",
       "      <td>0.010712</td>\n",
       "      <td>0.010224</td>\n",
       "    </tr>\n",
       "    <tr>\n",
       "      <th>2020-07-31</th>\n",
       "      <td>0.042965</td>\n",
       "      <td>0.043482</td>\n",
       "      <td>0.035577</td>\n",
       "    </tr>\n",
       "    <tr>\n",
       "      <th>2020-08-31</th>\n",
       "      <td>0.026167</td>\n",
       "      <td>0.024785</td>\n",
       "      <td>0.020870</td>\n",
       "    </tr>\n",
       "    <tr>\n",
       "      <th>2020-09-30</th>\n",
       "      <td>-0.028287</td>\n",
       "      <td>-0.029027</td>\n",
       "      <td>-0.022550</td>\n",
       "    </tr>\n",
       "    <tr>\n",
       "      <th>2020-10-31</th>\n",
       "      <td>-0.009030</td>\n",
       "      <td>-0.009594</td>\n",
       "      <td>-0.007171</td>\n",
       "    </tr>\n",
       "    <tr>\n",
       "      <th>2020-11-30</th>\n",
       "      <td>0.044458</td>\n",
       "      <td>0.052960</td>\n",
       "      <td>0.035938</td>\n",
       "    </tr>\n",
       "    <tr>\n",
       "      <th>2020-12-31</th>\n",
       "      <td>0.022502</td>\n",
       "      <td>0.022530</td>\n",
       "      <td>0.017501</td>\n",
       "    </tr>\n",
       "    <tr>\n",
       "      <th>2021-01-31</th>\n",
       "      <td>-0.000351</td>\n",
       "      <td>-0.000380</td>\n",
       "      <td>-0.000275</td>\n",
       "    </tr>\n",
       "    <tr>\n",
       "      <th>2021-02-28</th>\n",
       "      <td>0.000978</td>\n",
       "      <td>0.001195</td>\n",
       "      <td>0.000780</td>\n",
       "    </tr>\n",
       "    <tr>\n",
       "      <th>2021-03-31</th>\n",
       "      <td>0.024966</td>\n",
       "      <td>0.032965</td>\n",
       "      <td>0.020329</td>\n",
       "    </tr>\n",
       "    <tr>\n",
       "      <th>2021-04-30</th>\n",
       "      <td>0.026599</td>\n",
       "      <td>0.032981</td>\n",
       "      <td>0.021671</td>\n",
       "    </tr>\n",
       "    <tr>\n",
       "      <th>2021-05-31</th>\n",
       "      <td>0.031310</td>\n",
       "      <td>0.037200</td>\n",
       "      <td>0.025458</td>\n",
       "    </tr>\n",
       "    <tr>\n",
       "      <th>2021-06-30</th>\n",
       "      <td>-0.011192</td>\n",
       "      <td>-0.012552</td>\n",
       "      <td>-0.009008</td>\n",
       "    </tr>\n",
       "    <tr>\n",
       "      <th>2021-07-31</th>\n",
       "      <td>0.019344</td>\n",
       "      <td>0.023710</td>\n",
       "      <td>0.015824</td>\n",
       "    </tr>\n",
       "    <tr>\n",
       "      <th>2021-08-31</th>\n",
       "      <td>0.006706</td>\n",
       "      <td>0.008331</td>\n",
       "      <td>0.005531</td>\n",
       "    </tr>\n",
       "    <tr>\n",
       "      <th>2021-09-30</th>\n",
       "      <td>-0.020628</td>\n",
       "      <td>-0.027294</td>\n",
       "      <td>-0.017336</td>\n",
       "    </tr>\n",
       "    <tr>\n",
       "      <th>2021-10-31</th>\n",
       "      <td>0.028271</td>\n",
       "      <td>0.000000</td>\n",
       "      <td>0.000000</td>\n",
       "    </tr>\n",
       "  </tbody>\n",
       "</table>\n",
       "</div>"
      ],
      "text/plain": [
       "             Returns  Returns_Garch  Returns_Emwa\n",
       "date                                             \n",
       "2019-10-31  0.008543       0.011069      0.010379\n",
       "2019-11-30  0.002952       0.003984      0.003641\n",
       "2019-12-31  0.019357       0.027068      0.024344\n",
       "2020-01-31  0.002543       0.003378      0.003173\n",
       "2020-02-29 -0.033245      -0.046098     -0.042315\n",
       "2020-03-31 -0.072137      -0.084956     -0.086505\n",
       "2020-04-30  0.068103       0.052725      0.063484\n",
       "2020-05-31  0.017470       0.012189      0.014097\n",
       "2020-06-30  0.012536       0.010712      0.010224\n",
       "2020-07-31  0.042965       0.043482      0.035577\n",
       "2020-08-31  0.026167       0.024785      0.020870\n",
       "2020-09-30 -0.028287      -0.029027     -0.022550\n",
       "2020-10-31 -0.009030      -0.009594     -0.007171\n",
       "2020-11-30  0.044458       0.052960      0.035938\n",
       "2020-12-31  0.022502       0.022530      0.017501\n",
       "2021-01-31 -0.000351      -0.000380     -0.000275\n",
       "2021-02-28  0.000978       0.001195      0.000780\n",
       "2021-03-31  0.024966       0.032965      0.020329\n",
       "2021-04-30  0.026599       0.032981      0.021671\n",
       "2021-05-31  0.031310       0.037200      0.025458\n",
       "2021-06-30 -0.011192      -0.012552     -0.009008\n",
       "2021-07-31  0.019344       0.023710      0.015824\n",
       "2021-08-31  0.006706       0.008331      0.005531\n",
       "2021-09-30 -0.020628      -0.027294     -0.017336\n",
       "2021-10-31  0.028271       0.000000      0.000000"
      ]
     },
     "execution_count": 62,
     "metadata": {},
     "output_type": "execute_result"
    }
   ],
   "source": [
    "df_25_m_aug = df_returns_m_aug.iloc[-25:,:]\n",
    "\n",
    "df_25_m_aug"
   ]
  },
  {
   "cell_type": "code",
   "execution_count": 63,
   "id": "629af025",
   "metadata": {},
   "outputs": [],
   "source": [
    "lb_25_vol_m_aug= ((df_25_m_aug['Returns']**2).mean())**0.5"
   ]
  },
  {
   "cell_type": "code",
   "execution_count": 64,
   "id": "3c36e75c",
   "metadata": {},
   "outputs": [],
   "source": [
    "var_param_m_aug = sp.norm.ppf(0.95)*lb_25_vol_m_aug"
   ]
  },
  {
   "cell_type": "code",
   "execution_count": 65,
   "id": "a55c9941",
   "metadata": {},
   "outputs": [],
   "source": [
    "es_param_m_aug = sp.norm.pdf(sp.norm.ppf(0.95))*lb_25_vol_m_aug/0.05"
   ]
  },
  {
   "cell_type": "code",
   "execution_count": 66,
   "id": "316be483",
   "metadata": {},
   "outputs": [],
   "source": [
    "var_25_hist_m_aug = df_25_m_aug['Returns'].quantile(q=0.05)"
   ]
  },
  {
   "cell_type": "code",
   "execution_count": 67,
   "id": "1ecaf54d",
   "metadata": {},
   "outputs": [],
   "source": [
    "es_25_hist_m_aug = (df_25_m_aug['Returns'][(df_25_m_aug['Returns']<df_25_m_aug['Returns'].quantile(q=0.05))]).mean()"
   ]
  },
  {
   "cell_type": "code",
   "execution_count": 68,
   "id": "9655ece0",
   "metadata": {},
   "outputs": [],
   "source": [
    "var_25_fhist_g_m_aug = df_25_m_aug['Returns_Garch'].quantile(q=0.05)"
   ]
  },
  {
   "cell_type": "code",
   "execution_count": 69,
   "id": "28dc2089",
   "metadata": {},
   "outputs": [],
   "source": [
    "es_25_fhist_g_m_aug= (df_25_m_aug['Returns_Garch'][(df_25_m_aug['Returns_Garch']<df_25_m_aug['Returns_Garch'].quantile(q=0.05))]).mean()"
   ]
  },
  {
   "cell_type": "code",
   "execution_count": 70,
   "id": "1158e2f8",
   "metadata": {},
   "outputs": [],
   "source": [
    "var_25_fhist_e_m_aug = df_25_m_aug['Returns_Emwa'].quantile(q=0.05)"
   ]
  },
  {
   "cell_type": "code",
   "execution_count": 71,
   "id": "f1445d23",
   "metadata": {},
   "outputs": [],
   "source": [
    "es_25_fhist_e_m_aug = (df_25_m_aug['Returns_Emwa'][(df_25_m_aug['Returns_Emwa']<df_25_m_aug['Returns_Emwa'].quantile(q=0.05))]).mean()"
   ]
  },
  {
   "cell_type": "code",
   "execution_count": 72,
   "id": "4a8a5d04",
   "metadata": {},
   "outputs": [
    {
     "data": {
      "text/plain": [
       "1.0"
      ]
     },
     "execution_count": 72,
     "metadata": {},
     "output_type": "execute_result"
    }
   ],
   "source": [
    "weights_emwa_25_m_aug=weights_emwa_m_aug.loc[df_25_m_aug.index,:]\n",
    "adj_m_aug=lamb_m_aug**25\n",
    "n_w_m_aug=weights_emwa_25_m_aug['weights']/(1-adj_m_aug)\n",
    "df_25_m_aug['weights']=n_w_m_aug\n",
    "df_25_m_aug['weights'].sum()"
   ]
  },
  {
   "cell_type": "code",
   "execution_count": 73,
   "id": "98a96258",
   "metadata": {},
   "outputs": [],
   "source": [
    "df_25_m_aug.sort_values('Returns', inplace=True)\n",
    "df_25_m_aug['acum_weights'] = 0\n",
    "\n",
    "for y in range(0, len(df_25_m_aug.index)):\n",
    "    if y==0:\n",
    "        df_25_m_aug.iloc[y, 4] = df_25_m_aug.iloc[y, 3]\n",
    "    else: df_25_m_aug.iloc[y, 4] = df_25_m_aug.iloc[y-1, 4] + df_25_m_aug.iloc[y, 3]"
   ]
  },
  {
   "cell_type": "code",
   "execution_count": 74,
   "id": "944272af",
   "metadata": {},
   "outputs": [],
   "source": [
    "w_hist_df_m_aug=df_25_m_aug[df_25_m_aug['acum_weights']<=0.05]\n",
    "\n",
    "hr_m_aug=df_25_m_aug.iloc[len(w_hist_df_m_aug),0]\n",
    "hw_m_aug=df_25_m_aug.iloc[len(w_hist_df_m_aug),4]\n",
    "lr_m_aug=w_hist_df_m_aug.iloc[-1,0]\n",
    "lw_m_aug=w_hist_df_m_aug.iloc[-1,4]\n",
    "\n",
    "w_hist_VaR_m_aug=lr_m_aug+(0.05-lw_m_aug)*(hr_m_aug-lr_m_aug)/(hw_m_aug-lw_m_aug)\n",
    "w_hist_ES_m_aug=(w_hist_df_m_aug['Returns']*w_hist_df_m_aug['weights']).sum()/0.05"
   ]
  },
  {
   "cell_type": "code",
   "execution_count": 75,
   "id": "db363078",
   "metadata": {},
   "outputs": [],
   "source": [
    "VaR_25_m_aug = [var_param_m_aug, -var_25_hist_m_aug, -var_25_fhist_g_m_aug, -var_25_fhist_e_m_aug, -w_hist_VaR_m_aug]\n",
    "ES_25_m_aug = [es_param_m_aug, -es_25_hist_m_aug, -es_25_fhist_g_m_aug, -es_25_fhist_e_m_aug, -w_hist_ES_m_aug]"
   ]
  },
  {
   "cell_type": "code",
   "execution_count": 76,
   "id": "bee280bd",
   "metadata": {},
   "outputs": [],
   "source": [
    "df_risk_measures_m_aug.loc['VaR_PreC']=VaR_25_m_aug\n",
    "df_risk_measures_m_aug.loc['ES_PreC']=ES_25_m_aug"
   ]
  },
  {
   "cell_type": "code",
   "execution_count": 77,
   "id": "d54689e2",
   "metadata": {},
   "outputs": [
    {
     "data": {
      "text/html": [
       "<div>\n",
       "<style scoped>\n",
       "    .dataframe tbody tr th:only-of-type {\n",
       "        vertical-align: middle;\n",
       "    }\n",
       "\n",
       "    .dataframe tbody tr th {\n",
       "        vertical-align: top;\n",
       "    }\n",
       "\n",
       "    .dataframe thead th {\n",
       "        text-align: right;\n",
       "    }\n",
       "</style>\n",
       "<table border=\"1\" class=\"dataframe\">\n",
       "  <thead>\n",
       "    <tr style=\"text-align: right;\">\n",
       "      <th></th>\n",
       "      <th>Param</th>\n",
       "      <th>Hist</th>\n",
       "      <th>Fhist_G</th>\n",
       "      <th>Fhist_E</th>\n",
       "      <th>Whist</th>\n",
       "    </tr>\n",
       "  </thead>\n",
       "  <tbody>\n",
       "    <tr>\n",
       "      <th>VaR_PreC</th>\n",
       "      <td>4.86%</td>\n",
       "      <td>3.23%</td>\n",
       "      <td>4.27%</td>\n",
       "      <td>3.84%</td>\n",
       "      <td>4.26%</td>\n",
       "    </tr>\n",
       "    <tr>\n",
       "      <th>VaR_PostC</th>\n",
       "      <td>nan%</td>\n",
       "      <td>nan%</td>\n",
       "      <td>nan%</td>\n",
       "      <td>nan%</td>\n",
       "      <td>nan%</td>\n",
       "    </tr>\n",
       "    <tr>\n",
       "      <th>ES_PreC</th>\n",
       "      <td>6.10%</td>\n",
       "      <td>5.27%</td>\n",
       "      <td>6.55%</td>\n",
       "      <td>6.44%</td>\n",
       "      <td>4.17%</td>\n",
       "    </tr>\n",
       "    <tr>\n",
       "      <th>ES_PostC</th>\n",
       "      <td>nan%</td>\n",
       "      <td>nan%</td>\n",
       "      <td>nan%</td>\n",
       "      <td>nan%</td>\n",
       "      <td>nan%</td>\n",
       "    </tr>\n",
       "  </tbody>\n",
       "</table>\n",
       "</div>"
      ],
      "text/plain": [
       "           Param   Hist Fhist_G Fhist_E  Whist\n",
       "VaR_PreC   4.86%  3.23%   4.27%   3.84%  4.26%\n",
       "VaR_PostC   nan%   nan%    nan%    nan%   nan%\n",
       "ES_PreC    6.10%  5.27%   6.55%   6.44%  4.17%\n",
       "ES_PostC    nan%   nan%    nan%    nan%   nan%"
      ]
     },
     "execution_count": 77,
     "metadata": {},
     "output_type": "execute_result"
    }
   ],
   "source": [
    "(df_risk_measures_m_aug*100).applymap('{:,.2f}%'.format)"
   ]
  },
  {
   "cell_type": "markdown",
   "id": "041eb6b9",
   "metadata": {},
   "source": [
    "### PostCovid"
   ]
  },
  {
   "cell_type": "code",
   "execution_count": 78,
   "id": "2960b740",
   "metadata": {},
   "outputs": [
    {
     "data": {
      "text/html": [
       "<div>\n",
       "<style scoped>\n",
       "    .dataframe tbody tr th:only-of-type {\n",
       "        vertical-align: middle;\n",
       "    }\n",
       "\n",
       "    .dataframe tbody tr th {\n",
       "        vertical-align: top;\n",
       "    }\n",
       "\n",
       "    .dataframe thead th {\n",
       "        text-align: right;\n",
       "    }\n",
       "</style>\n",
       "<table border=\"1\" class=\"dataframe\">\n",
       "  <thead>\n",
       "    <tr style=\"text-align: right;\">\n",
       "      <th></th>\n",
       "      <th>Returns</th>\n",
       "      <th>Returns_Garch</th>\n",
       "      <th>Returns_Emwa</th>\n",
       "    </tr>\n",
       "    <tr>\n",
       "      <th>date</th>\n",
       "      <th></th>\n",
       "      <th></th>\n",
       "      <th></th>\n",
       "    </tr>\n",
       "  </thead>\n",
       "  <tbody>\n",
       "    <tr>\n",
       "      <th>2020-10-31</th>\n",
       "      <td>-0.009030</td>\n",
       "      <td>-0.009594</td>\n",
       "      <td>-0.007171</td>\n",
       "    </tr>\n",
       "    <tr>\n",
       "      <th>2020-11-30</th>\n",
       "      <td>0.044458</td>\n",
       "      <td>0.052960</td>\n",
       "      <td>0.035938</td>\n",
       "    </tr>\n",
       "    <tr>\n",
       "      <th>2020-12-31</th>\n",
       "      <td>0.022502</td>\n",
       "      <td>0.022530</td>\n",
       "      <td>0.017501</td>\n",
       "    </tr>\n",
       "    <tr>\n",
       "      <th>2021-01-31</th>\n",
       "      <td>-0.000351</td>\n",
       "      <td>-0.000380</td>\n",
       "      <td>-0.000275</td>\n",
       "    </tr>\n",
       "    <tr>\n",
       "      <th>2021-02-28</th>\n",
       "      <td>0.000978</td>\n",
       "      <td>0.001195</td>\n",
       "      <td>0.000780</td>\n",
       "    </tr>\n",
       "    <tr>\n",
       "      <th>2021-03-31</th>\n",
       "      <td>0.024966</td>\n",
       "      <td>0.032965</td>\n",
       "      <td>0.020329</td>\n",
       "    </tr>\n",
       "    <tr>\n",
       "      <th>2021-04-30</th>\n",
       "      <td>0.026599</td>\n",
       "      <td>0.032981</td>\n",
       "      <td>0.021671</td>\n",
       "    </tr>\n",
       "    <tr>\n",
       "      <th>2021-05-31</th>\n",
       "      <td>0.031310</td>\n",
       "      <td>0.037200</td>\n",
       "      <td>0.025458</td>\n",
       "    </tr>\n",
       "    <tr>\n",
       "      <th>2021-06-30</th>\n",
       "      <td>-0.011192</td>\n",
       "      <td>-0.012552</td>\n",
       "      <td>-0.009008</td>\n",
       "    </tr>\n",
       "    <tr>\n",
       "      <th>2021-07-31</th>\n",
       "      <td>0.019344</td>\n",
       "      <td>0.023710</td>\n",
       "      <td>0.015824</td>\n",
       "    </tr>\n",
       "    <tr>\n",
       "      <th>2021-08-31</th>\n",
       "      <td>0.006706</td>\n",
       "      <td>0.008331</td>\n",
       "      <td>0.005531</td>\n",
       "    </tr>\n",
       "    <tr>\n",
       "      <th>2021-09-30</th>\n",
       "      <td>-0.020628</td>\n",
       "      <td>-0.027294</td>\n",
       "      <td>-0.017336</td>\n",
       "    </tr>\n",
       "    <tr>\n",
       "      <th>2021-10-31</th>\n",
       "      <td>0.028271</td>\n",
       "      <td>0.000000</td>\n",
       "      <td>0.000000</td>\n",
       "    </tr>\n",
       "  </tbody>\n",
       "</table>\n",
       "</div>"
      ],
      "text/plain": [
       "             Returns  Returns_Garch  Returns_Emwa\n",
       "date                                             \n",
       "2020-10-31 -0.009030      -0.009594     -0.007171\n",
       "2020-11-30  0.044458       0.052960      0.035938\n",
       "2020-12-31  0.022502       0.022530      0.017501\n",
       "2021-01-31 -0.000351      -0.000380     -0.000275\n",
       "2021-02-28  0.000978       0.001195      0.000780\n",
       "2021-03-31  0.024966       0.032965      0.020329\n",
       "2021-04-30  0.026599       0.032981      0.021671\n",
       "2021-05-31  0.031310       0.037200      0.025458\n",
       "2021-06-30 -0.011192      -0.012552     -0.009008\n",
       "2021-07-31  0.019344       0.023710      0.015824\n",
       "2021-08-31  0.006706       0.008331      0.005531\n",
       "2021-09-30 -0.020628      -0.027294     -0.017336\n",
       "2021-10-31  0.028271       0.000000      0.000000"
      ]
     },
     "execution_count": 78,
     "metadata": {},
     "output_type": "execute_result"
    }
   ],
   "source": [
    "df_13_m_aug = df_returns_m_aug.iloc[-13:,:]\n",
    "\n",
    "df_13_m_aug"
   ]
  },
  {
   "cell_type": "code",
   "execution_count": 79,
   "id": "caae4d47",
   "metadata": {},
   "outputs": [],
   "source": [
    "lb_13_vol_m_aug= ((df_13_m_aug['Returns']**2).mean())**0.5"
   ]
  },
  {
   "cell_type": "code",
   "execution_count": 80,
   "id": "b826084a",
   "metadata": {},
   "outputs": [],
   "source": [
    "var_13_param_m_aug = sp.norm.ppf(0.95)*lb_13_vol_m_aug"
   ]
  },
  {
   "cell_type": "code",
   "execution_count": 81,
   "id": "bad87e4c",
   "metadata": {},
   "outputs": [],
   "source": [
    "es_13_param_m_aug = sp.norm.pdf(sp.norm.ppf(0.95))*lb_13_vol_m_aug/0.05"
   ]
  },
  {
   "cell_type": "code",
   "execution_count": 82,
   "id": "2ba90f04",
   "metadata": {},
   "outputs": [],
   "source": [
    "var_13_hist_m_aug = df_13_m_aug['Returns'].quantile(q=0.05)"
   ]
  },
  {
   "cell_type": "code",
   "execution_count": 83,
   "id": "90220b28",
   "metadata": {},
   "outputs": [],
   "source": [
    "es_13_hist_m_aug = (df_13_m_aug['Returns'][(df_13_m_aug['Returns']<df_13_m_aug['Returns'].quantile(q=0.05))]).mean()"
   ]
  },
  {
   "cell_type": "code",
   "execution_count": 84,
   "id": "b9383c20",
   "metadata": {},
   "outputs": [],
   "source": [
    "var_13_fhist_g_m_aug = df_13_m_aug['Returns_Garch'].quantile(q=0.05)"
   ]
  },
  {
   "cell_type": "code",
   "execution_count": 85,
   "id": "ad2f73f8",
   "metadata": {},
   "outputs": [],
   "source": [
    "es_13_fhist_g_m_aug = (df_13_m_aug['Returns_Garch'][(df_13_m_aug['Returns_Garch']<df_13_m_aug['Returns_Garch'].quantile(q=0.05))]).mean()"
   ]
  },
  {
   "cell_type": "code",
   "execution_count": 86,
   "id": "a94ec3df",
   "metadata": {},
   "outputs": [],
   "source": [
    "var_13_fhist_e_m_aug = df_13_m_aug['Returns_Emwa'].quantile(q=0.05)"
   ]
  },
  {
   "cell_type": "code",
   "execution_count": 87,
   "id": "e3cdfc73",
   "metadata": {},
   "outputs": [],
   "source": [
    "es_13_fhist_e_m_aug = (df_13_m_aug['Returns_Emwa'][(df_13_m_aug['Returns_Emwa']<df_13_m_aug['Returns_Emwa'].quantile(q=0.05))]).mean()"
   ]
  },
  {
   "cell_type": "code",
   "execution_count": 88,
   "id": "47c7643e",
   "metadata": {},
   "outputs": [
    {
     "data": {
      "text/plain": [
       "1.0000000000000002"
      ]
     },
     "execution_count": 88,
     "metadata": {},
     "output_type": "execute_result"
    }
   ],
   "source": [
    "weights_emwa_13_m_aug=weights_emwa_m_aug.loc[df_13_m_aug.index,:]\n",
    "adj_m_aug=lamb_m_aug**13\n",
    "n_w_m_aug=weights_emwa_13_m_aug['weights']/(1-adj_m_aug)\n",
    "df_13_m_aug['weights']=n_w_m_aug\n",
    "df_13_m_aug['weights'].sum()"
   ]
  },
  {
   "cell_type": "code",
   "execution_count": 89,
   "id": "32eb7533",
   "metadata": {},
   "outputs": [],
   "source": [
    "df_13_m_aug.sort_values('Returns', inplace=True)\n",
    "df_13_m_aug['acum_weights'] = 0\n",
    "\n",
    "for y in range(0, len(df_13_m_aug.index)):\n",
    "    if y==0:\n",
    "        df_13_m_aug.iloc[y, 4] = df_13_m_aug.iloc[y, 3]\n",
    "    else: df_13_m_aug.iloc[y, 4] = df_13_m_aug.iloc[y-1, 4] + df_13_m_aug.iloc[y, 3]"
   ]
  },
  {
   "cell_type": "code",
   "execution_count": 90,
   "id": "f940b979",
   "metadata": {},
   "outputs": [],
   "source": [
    "#w_hist_df_m=df_13_m[df_13_m['acum_weights']<=0.05]\n",
    "\n",
    "#hr_m=df_13_m.iloc[len(w_hist_df_m),0]\n",
    "#hw_m=df_13_m.iloc[len(w_hist_df_m),4]\n",
    "#lr_m=w_hist_df_m.iloc[-1,0]\n",
    "#lw_m=w_hist_df_m.iloc[-1,4]\n",
    "\n",
    "#w_hist_VaR_m=lr_m+(0.05-lw_m)/(hw_m-lw_m)*(hr_m-lr_m)\n",
    "#w_hist_ES_m=(w_hist_df_m['Returns']*w_hist_df_m['weights']).sum()/0.05\n",
    "\n",
    "# Here VaR and ES are the mimimum because the acumulative weights of the minimum return is already above 5%\n",
    "\n",
    "w_hist_df_m_aug=pd.DataFrame(df_13_m_aug.iloc[0,:])\n",
    "w_hist_VaR_m_aug=w_hist_df_m_aug.loc['Returns']\n",
    "w_hist_VaR_m_aug=w_hist_VaR_m_aug[0]\n",
    "w_hist_ES_m_aug=(w_hist_df_m_aug.loc['Returns']*w_hist_df_m_aug.loc['weights']).sum()/0.05"
   ]
  },
  {
   "cell_type": "code",
   "execution_count": 91,
   "id": "277211bf",
   "metadata": {},
   "outputs": [],
   "source": [
    "VaR_13_m_aug = [var_param_m_aug, -var_13_hist_m_aug, -var_13_fhist_g_m_aug, -var_13_fhist_e_m_aug, -w_hist_VaR_m_aug]\n",
    "ES_13_m_aug = [es_param_m_aug, -es_13_hist_m_aug, -es_13_fhist_g_m_aug, -es_13_fhist_e_m_aug, -w_hist_ES_m_aug]"
   ]
  },
  {
   "cell_type": "code",
   "execution_count": 92,
   "id": "5205e10f",
   "metadata": {},
   "outputs": [],
   "source": [
    "df_risk_measures_m_aug.loc['VaR_PostC']=VaR_13_m_aug\n",
    "df_risk_measures_m_aug.loc['ES_PostC']=ES_13_m_aug"
   ]
  },
  {
   "cell_type": "code",
   "execution_count": 93,
   "id": "bf0cc680",
   "metadata": {},
   "outputs": [
    {
     "data": {
      "text/html": [
       "<div>\n",
       "<style scoped>\n",
       "    .dataframe tbody tr th:only-of-type {\n",
       "        vertical-align: middle;\n",
       "    }\n",
       "\n",
       "    .dataframe tbody tr th {\n",
       "        vertical-align: top;\n",
       "    }\n",
       "\n",
       "    .dataframe thead th {\n",
       "        text-align: right;\n",
       "    }\n",
       "</style>\n",
       "<table border=\"1\" class=\"dataframe\">\n",
       "  <thead>\n",
       "    <tr style=\"text-align: right;\">\n",
       "      <th></th>\n",
       "      <th>Param</th>\n",
       "      <th>Hist</th>\n",
       "      <th>Fhist_G</th>\n",
       "      <th>Fhist_E</th>\n",
       "      <th>Whist</th>\n",
       "    </tr>\n",
       "  </thead>\n",
       "  <tbody>\n",
       "    <tr>\n",
       "      <th>VaR_PreC</th>\n",
       "      <td>4.86%</td>\n",
       "      <td>3.23%</td>\n",
       "      <td>4.27%</td>\n",
       "      <td>3.84%</td>\n",
       "      <td>4.26%</td>\n",
       "    </tr>\n",
       "    <tr>\n",
       "      <th>VaR_PostC</th>\n",
       "      <td>4.86%</td>\n",
       "      <td>1.50%</td>\n",
       "      <td>1.84%</td>\n",
       "      <td>1.23%</td>\n",
       "      <td>2.06%</td>\n",
       "    </tr>\n",
       "    <tr>\n",
       "      <th>ES_PreC</th>\n",
       "      <td>6.10%</td>\n",
       "      <td>5.27%</td>\n",
       "      <td>6.55%</td>\n",
       "      <td>6.44%</td>\n",
       "      <td>4.17%</td>\n",
       "    </tr>\n",
       "    <tr>\n",
       "      <th>ES_PostC</th>\n",
       "      <td>6.10%</td>\n",
       "      <td>2.06%</td>\n",
       "      <td>2.73%</td>\n",
       "      <td>1.73%</td>\n",
       "      <td>3.84%</td>\n",
       "    </tr>\n",
       "  </tbody>\n",
       "</table>\n",
       "</div>"
      ],
      "text/plain": [
       "           Param   Hist Fhist_G Fhist_E  Whist\n",
       "VaR_PreC   4.86%  3.23%   4.27%   3.84%  4.26%\n",
       "VaR_PostC  4.86%  1.50%   1.84%   1.23%  2.06%\n",
       "ES_PreC    6.10%  5.27%   6.55%   6.44%  4.17%\n",
       "ES_PostC   6.10%  2.06%   2.73%   1.73%  3.84%"
      ]
     },
     "execution_count": 93,
     "metadata": {},
     "output_type": "execute_result"
    }
   ],
   "source": [
    "(df_risk_measures_m_aug*100).applymap('{:,.2f}%'.format)"
   ]
  },
  {
   "cell_type": "markdown",
   "id": "870b3c45",
   "metadata": {},
   "source": [
    "# Evaluation of volatility"
   ]
  },
  {
   "cell_type": "code",
   "execution_count": 94,
   "id": "afa6c055",
   "metadata": {},
   "outputs": [
    {
     "data": {
      "text/html": [
       "<div>\n",
       "<style scoped>\n",
       "    .dataframe tbody tr th:only-of-type {\n",
       "        vertical-align: middle;\n",
       "    }\n",
       "\n",
       "    .dataframe tbody tr th {\n",
       "        vertical-align: top;\n",
       "    }\n",
       "\n",
       "    .dataframe thead th {\n",
       "        text-align: right;\n",
       "    }\n",
       "</style>\n",
       "<table border=\"1\" class=\"dataframe\">\n",
       "  <thead>\n",
       "    <tr style=\"text-align: right;\">\n",
       "      <th></th>\n",
       "      <th>Garch</th>\n",
       "      <th>EWMA</th>\n",
       "    </tr>\n",
       "  </thead>\n",
       "  <tbody>\n",
       "    <tr>\n",
       "      <th>Stdv</th>\n",
       "      <td>0.93</td>\n",
       "      <td>1.01</td>\n",
       "    </tr>\n",
       "  </tbody>\n",
       "</table>\n",
       "</div>"
      ],
      "text/plain": [
       "     Garch  EWMA\n",
       "Stdv  0.93  1.01"
      ]
     },
     "execution_count": 94,
     "metadata": {},
     "output_type": "execute_result"
    }
   ],
   "source": [
    "df_eval_m_aug = portfolio_ret_m_aug.iloc[24:,:]\n",
    "bias_garch_m_aug =  df_eval_m_aug['z_garch'].std()\n",
    "bias_ewma_m_aug =  df_eval_m_aug['z_emwa'].std()\n",
    "\n",
    "df_bias_m_aug = pd.DataFrame(index=['Stdv'], columns=['Garch', 'EWMA'], data= [[bias_garch_m_aug,bias_ewma_m_aug]])\n",
    "df_bias_m_aug.applymap('{:,.2f}'.format) "
   ]
  },
  {
   "cell_type": "code",
   "execution_count": 95,
   "id": "50ad3133",
   "metadata": {},
   "outputs": [
    {
     "data": {
      "text/html": [
       "<div>\n",
       "<style scoped>\n",
       "    .dataframe tbody tr th:only-of-type {\n",
       "        vertical-align: middle;\n",
       "    }\n",
       "\n",
       "    .dataframe tbody tr th {\n",
       "        vertical-align: top;\n",
       "    }\n",
       "\n",
       "    .dataframe thead th {\n",
       "        text-align: right;\n",
       "    }\n",
       "</style>\n",
       "<table border=\"1\" class=\"dataframe\">\n",
       "  <thead>\n",
       "    <tr style=\"text-align: right;\">\n",
       "      <th></th>\n",
       "      <th>Low Interval</th>\n",
       "      <th>High Interval</th>\n",
       "    </tr>\n",
       "  </thead>\n",
       "  <tbody>\n",
       "    <tr>\n",
       "      <th>95% Confidence Intervals</th>\n",
       "      <td>0.93</td>\n",
       "      <td>1.07</td>\n",
       "    </tr>\n",
       "  </tbody>\n",
       "</table>\n",
       "</div>"
      ],
      "text/plain": [
       "                         Low Interval High Interval\n",
       "95% Confidence Intervals         0.93          1.07"
      ]
     },
     "execution_count": 95,
     "metadata": {},
     "output_type": "execute_result"
    }
   ],
   "source": [
    "low_interval_confidence_m_aug = 1-(2/((len(portfolio_ret_m_aug)-25)))**0.5\n",
    "high_interval_confidence_m_aug = 1+(2/((len(portfolio_ret_m_aug)-25)))**0.5\n",
    "\n",
    "df_bias_int_m_aug = pd.DataFrame(index=['95% Confidence Intervals'], columns=['Low Interval', 'High Interval'], data= [[low_interval_confidence_m_aug, high_interval_confidence_m_aug]])\n",
    "df_bias_int_m_aug.applymap('{:,.2f}'.format)  "
   ]
  },
  {
   "cell_type": "code",
   "execution_count": 96,
   "id": "555068f3",
   "metadata": {},
   "outputs": [],
   "source": [
    "df_eval_m_aug[['garch_std','ewma_std']] = 5\n",
    "z_m_aug = []\n",
    "\n",
    "for i in range(0,len(df_eval_m_aug)):\n",
    "    z_m_aug.append(portfolio_ret_m_aug.iloc[i:24+i,7].std())\n",
    "    \n",
    "df_eval_m_aug['garch_std'] = z_m_aug"
   ]
  },
  {
   "cell_type": "code",
   "execution_count": 97,
   "id": "1f88226e",
   "metadata": {},
   "outputs": [],
   "source": [
    "y_m_aug = []\n",
    "\n",
    "for i in range(0,len(df_eval_m_aug)):\n",
    "    y_m_aug.append(portfolio_ret_m_aug.iloc[i:24+i,8].std())\n",
    "    \n",
    "df_eval_m_aug['ewma_std'] = y_m_aug"
   ]
  },
  {
   "cell_type": "code",
   "execution_count": 98,
   "id": "f63c2f2a",
   "metadata": {},
   "outputs": [
    {
     "data": {
      "text/html": [
       "<div>\n",
       "<style scoped>\n",
       "    .dataframe tbody tr th:only-of-type {\n",
       "        vertical-align: middle;\n",
       "    }\n",
       "\n",
       "    .dataframe tbody tr th {\n",
       "        vertical-align: top;\n",
       "    }\n",
       "\n",
       "    .dataframe thead th {\n",
       "        text-align: right;\n",
       "    }\n",
       "</style>\n",
       "<table border=\"1\" class=\"dataframe\">\n",
       "  <thead>\n",
       "    <tr style=\"text-align: right;\">\n",
       "      <th></th>\n",
       "      <th>Garch</th>\n",
       "      <th>EWMA</th>\n",
       "    </tr>\n",
       "  </thead>\n",
       "  <tbody>\n",
       "    <tr>\n",
       "      <th>MRAD</th>\n",
       "      <td>0.21</td>\n",
       "      <td>0.23</td>\n",
       "    </tr>\n",
       "  </tbody>\n",
       "</table>\n",
       "</div>"
      ],
      "text/plain": [
       "     Garch  EWMA\n",
       "MRAD  0.21  0.23"
      ]
     },
     "execution_count": 98,
     "metadata": {},
     "output_type": "execute_result"
    }
   ],
   "source": [
    "bias_garch_2_m_aug = abs((df_eval_m_aug['garch_std']-1)).mean()\n",
    "bias_ewma_2_m_aug = abs((df_eval_m_aug['ewma_std']-1)).mean()\n",
    "\n",
    "df_MRAD_m_aug = pd.DataFrame(index=['MRAD'], columns=['Garch', 'EWMA'], data= [[bias_garch_2_m_aug,bias_ewma_2_m_aug]])\n",
    "df_MRAD_m_aug.applymap('{:,.2f}'.format)  "
   ]
  },
  {
   "cell_type": "code",
   "execution_count": 99,
   "id": "ba199963",
   "metadata": {},
   "outputs": [
    {
     "data": {
      "text/html": [
       "<div>\n",
       "<style scoped>\n",
       "    .dataframe tbody tr th:only-of-type {\n",
       "        vertical-align: middle;\n",
       "    }\n",
       "\n",
       "    .dataframe tbody tr th {\n",
       "        vertical-align: top;\n",
       "    }\n",
       "\n",
       "    .dataframe thead th {\n",
       "        text-align: right;\n",
       "    }\n",
       "</style>\n",
       "<table border=\"1\" class=\"dataframe\">\n",
       "  <thead>\n",
       "    <tr style=\"text-align: right;\">\n",
       "      <th></th>\n",
       "      <th>Ret</th>\n",
       "      <th>Garch</th>\n",
       "      <th>EWMA</th>\n",
       "    </tr>\n",
       "  </thead>\n",
       "  <tbody>\n",
       "    <tr>\n",
       "      <th>Skew</th>\n",
       "      <td>-0.72</td>\n",
       "      <td>-0.92</td>\n",
       "      <td>-1.40</td>\n",
       "    </tr>\n",
       "    <tr>\n",
       "      <th>Robust Skew</th>\n",
       "      <td>-0.08</td>\n",
       "      <td>-0.13</td>\n",
       "      <td>-0.12</td>\n",
       "    </tr>\n",
       "    <tr>\n",
       "      <th>Kurtosis</th>\n",
       "      <td>3.25</td>\n",
       "      <td>3.80</td>\n",
       "      <td>8.51</td>\n",
       "    </tr>\n",
       "  </tbody>\n",
       "</table>\n",
       "</div>"
      ],
      "text/plain": [
       "               Ret  Garch   EWMA\n",
       "Skew         -0.72  -0.92  -1.40\n",
       "Robust Skew  -0.08  -0.13  -0.12\n",
       "Kurtosis      3.25   3.80   8.51"
      ]
     },
     "execution_count": 99,
     "metadata": {},
     "output_type": "execute_result"
    }
   ],
   "source": [
    "skew_garch_m_aug =  sp.skew(df_eval_m_aug['z_garch'])\n",
    "skew_ewma_m_aug =  sp.skew(df_eval_m_aug['z_emwa'])\n",
    "skew_ret_m_aug =  sp.skew(df_eval_m_aug['ret'])\n",
    "kurt_garch_m_aug =  sp.kurtosis(df_eval_m_aug['z_garch'])\n",
    "kurt_ewma_m_aug =  sp.kurtosis(df_eval_m_aug['z_emwa'])\n",
    "kurt_ret_m_aug =  sp.kurtosis(df_eval_m_aug['ret'])\n",
    "\n",
    "zg_mn_m_aug=df_eval_m_aug['z_garch'].mean()\n",
    "ze_mn_m_aug=df_eval_m_aug['z_garch'].mean()\n",
    "r_mn_m_aug=df_eval_m_aug['ret'].mean()\n",
    "zg_mdn_m_aug=df_eval_m_aug['z_emwa'].median()\n",
    "ze_mdn_m_aug=df_eval_m_aug['z_emwa'].median()\n",
    "r_mdn_m_aug=df_eval_m_aug['ret'].median()\n",
    "\n",
    "r_skew_garch_m_aug =  (zg_mn_m_aug-zg_mdn_m_aug)/bias_garch_m_aug\n",
    "r_skew_ewma_m_aug =  (ze_mn_m_aug-ze_mdn_m_aug)/bias_ewma_m_aug\n",
    "r_skew_r_m_aug = (r_mn_m_aug-r_mdn_m_aug)/df_eval_m_aug['ret'].std()\n",
    "\n",
    "df_dist_m_aug = pd.DataFrame(index=['Skew','Robust Skew','Kurtosis'], columns=['Ret','Garch', 'EWMA'], data= [[skew_ret_m_aug,skew_garch_m_aug,skew_ewma_m_aug],[r_skew_r_m_aug,r_skew_garch_m_aug,r_skew_ewma_m_aug],[kurt_ret_m_aug,kurt_garch_m_aug,kurt_ewma_m_aug]])\n",
    "df_dist_m_aug.applymap('{:,.2f}'.format) "
   ]
  },
  {
   "cell_type": "code",
   "execution_count": 100,
   "id": "c9b28caf",
   "metadata": {},
   "outputs": [
    {
     "data": {
      "text/html": [
       "<div>\n",
       "<style scoped>\n",
       "    .dataframe tbody tr th:only-of-type {\n",
       "        vertical-align: middle;\n",
       "    }\n",
       "\n",
       "    .dataframe tbody tr th {\n",
       "        vertical-align: top;\n",
       "    }\n",
       "\n",
       "    .dataframe thead th {\n",
       "        text-align: right;\n",
       "    }\n",
       "</style>\n",
       "<table border=\"1\" class=\"dataframe\">\n",
       "  <thead>\n",
       "    <tr style=\"text-align: right;\">\n",
       "      <th></th>\n",
       "      <th>Garch</th>\n",
       "      <th>EWMA</th>\n",
       "      <th>A-B</th>\n",
       "    </tr>\n",
       "  </thead>\n",
       "  <tbody>\n",
       "    <tr>\n",
       "      <th>Sum_QL</th>\n",
       "      <td>-896.23</td>\n",
       "      <td>-923.83</td>\n",
       "      <td></td>\n",
       "    </tr>\n",
       "    <tr>\n",
       "      <th>Avg_d</th>\n",
       "      <td></td>\n",
       "      <td></td>\n",
       "      <td>0.07</td>\n",
       "    </tr>\n",
       "    <tr>\n",
       "      <th>t_d</th>\n",
       "      <td></td>\n",
       "      <td></td>\n",
       "      <td>1.0</td>\n",
       "    </tr>\n",
       "  </tbody>\n",
       "</table>\n",
       "</div>"
      ],
      "text/plain": [
       "          Garch     EWMA   A-B\n",
       "Sum_QL  -896.23  -923.83      \n",
       "Avg_d                     0.07\n",
       "t_d                        1.0"
      ]
     },
     "execution_count": 100,
     "metadata": {},
     "output_type": "execute_result"
    }
   ],
   "source": [
    "df_eval_m_aug[['QL_G','QL_E','d']] = 5\n",
    "\n",
    "df_eval_m_aug['QL_G']=np.log(df_eval_m_aug['z_garch']**2)-df_eval_m_aug['z_garch']**2\n",
    "df_eval_m_aug['QL_E']=np.log(df_eval_m_aug['z_emwa']**2)-df_eval_m_aug['z_emwa']**2\n",
    "df_eval_m_aug['d'] = df_eval_m_aug['QL_G'] - df_eval_m_aug['QL_E']\n",
    "\n",
    "mean_d_m_aug = np.round(df_eval_m_aug['d'].mean(),2)\n",
    "std_d_m_aug = np.round(df_eval_m_aug['d'].std()/((len(portfolio_ret_m_aug)-25)**0.5),2)\n",
    "t_d_m_aug = np.round(mean_d_m_aug/std_d_m_aug.round(2),2)\n",
    "sum_QL1_m_aug = np.round(df_eval_m_aug['QL_G'].sum(),2)\n",
    "sum_QL2_m_aug = np.round(df_eval_m_aug['QL_E'].sum(),2)\n",
    "\n",
    "\n",
    "df_QL_m_aug = pd.DataFrame(index=['Sum_QL','Avg_d','t_d'], columns=['Garch', 'EWMA', 'A-B'], data= [[f'{sum_QL1_m_aug:,}',f'{sum_QL2_m_aug:,}',''],['','',mean_d_m_aug],['','',t_d_m_aug]])\n",
    "df_QL_m_aug"
   ]
  },
  {
   "cell_type": "markdown",
   "id": "1f236e07",
   "metadata": {},
   "source": [
    "# Evaluation of VaR"
   ]
  },
  {
   "cell_type": "code",
   "execution_count": 101,
   "id": "cfaac458",
   "metadata": {},
   "outputs": [],
   "source": [
    "df_eval_m_aug[['p_VaR_t','h_VaR_t','fhg_VaR_t','fhe_VaR_t','wh_VaR_t']] = 5"
   ]
  },
  {
   "cell_type": "code",
   "execution_count": 102,
   "id": "21db1f29",
   "metadata": {},
   "outputs": [],
   "source": [
    "a_aug = []\n",
    "for i in range(0,len(df_eval_m_aug)):\n",
    "    v= portfolio_ret_m_aug.iloc[i:24+i,0].std()\n",
    "    a_aug.append(-sp.norm.ppf(0.95)*v)\n",
    "    \n",
    "df_eval_m_aug['p_VaR_t'] = a_aug\n",
    "\n",
    "b_aug = []\n",
    "for i in range(0,len(df_eval_m_aug)):\n",
    "    b_aug.append(portfolio_ret_m_aug.iloc[i:24+i,0].quantile(q=0.05))\n",
    "    \n",
    "df_eval_m_aug['h_VaR_t'] = b_aug\n",
    "\n",
    "c_aug = []\n",
    "for i in range(0,len(df_eval_m_aug)):\n",
    "    if i < len(df_eval_m_aug)-1:\n",
    "        c_aug.append((portfolio_ret_m_aug.iloc[i:24+i,0]*portfolio_ret_m_aug.iloc[24+i+1,3]/portfolio_ret_m_aug.iloc[i:24+i,3]).quantile(q=0.05))\n",
    "    else:\n",
    "        c_aug.append((portfolio_ret_m_aug.iloc[i:24+i,0]*forc_vol_garch_m_aug[0]/portfolio_ret_m_aug.iloc[i:24+i,3]).quantile(q=0.05))\n",
    "    \n",
    "df_eval_m_aug['fhg_VaR_t'] = c_aug\n",
    "\n",
    "d_aug = []\n",
    "for i in range(0,len(df_eval_m_aug)):\n",
    "    if i < len(df_eval_m_aug)-1:\n",
    "        d_aug.append((portfolio_ret_m_aug.iloc[i:24+i,0]*portfolio_ret_m_aug.iloc[24+i+1,4]/portfolio_ret_m_aug.iloc[i:24+i,4]).quantile(q=0.05))\n",
    "    else:\n",
    "        d_aug.append((portfolio_ret_m_aug.iloc[i:24+i,0]*forc_vol_emwa_m_aug[0]/portfolio_ret_m_aug.iloc[i:24+i,4]).quantile(q=0.05))\n",
    "    \n",
    "df_eval_m_aug['fhe_VaR_t'] = d_aug"
   ]
  },
  {
   "cell_type": "code",
   "execution_count": 103,
   "id": "8ba630c7",
   "metadata": {},
   "outputs": [],
   "source": [
    "e_aug = []\n",
    "for i in range(0,len(df_eval_m_aug)):\n",
    "    weights_temp_aug=[]\n",
    "    temp_aug=[]\n",
    "    w_temp_df_aug=[]\n",
    "    s_aug=0\n",
    "    \n",
    "    weights_temp_aug = weights_emwa_m_aug.iloc[i:24+i,0]\n",
    "    s_aug = weights_temp_aug.sum()\n",
    "    weights_temp_aug = weights_temp_aug/s_aug \n",
    "    temp_aug = pd.DataFrame(portfolio_ret_m_aug.iloc[i:24+i,0])\n",
    "    temp_aug['w'] = weights_temp_aug\n",
    "    temp_aug.sort_values('ret', inplace=True)\n",
    "    temp_aug['acum_weights'] = 0\n",
    "    for y in range(0, len(temp_aug.index)):\n",
    "        if y==0:\n",
    "            temp_aug.iloc[y, 2] = temp_aug.iloc[y, 1]\n",
    "        else: temp_aug.iloc[y, 2] = temp_aug.iloc[y-1, 2] + temp_aug.iloc[y, 1]\n",
    "    w_temp_df_aug=temp_aug.loc[temp_aug['acum_weights']<=0.05,['ret','w','acum_weights']]\n",
    "    hr_t_aug=temp_aug.iloc[len(w_temp_df_aug),0]\n",
    "    hw_t_aug=temp_aug.iloc[len(w_temp_df_aug),2]\n",
    "    if len(w_temp_df_aug.index) > 0:\n",
    "        lr_t_aug=w_temp_df_aug.iloc[-1,0]\n",
    "        lw_t_aug=w_temp_df_aug.iloc[-1,2]\n",
    "        e_aug.append(lr_t_aug+(0.05-lw_t_aug)/(hw_t_aug-lw_t_aug)*(hr_t_aug-lr_t_aug))\n",
    "    else:\n",
    "        e_aug.append(temp_aug.iloc[0,0])\n",
    "    \n",
    "df_eval_m_aug['wh_VaR_t'] = e_aug"
   ]
  },
  {
   "cell_type": "code",
   "execution_count": 104,
   "id": "0d0e0e1d",
   "metadata": {},
   "outputs": [
    {
     "data": {
      "image/png": "[encoded data removed]",
      "text/plain": [
       "<Figure size 432x288 with 1 Axes>"
      ]
     },
     "metadata": {
      "needs_background": "light"
     },
     "output_type": "display_data"
    }
   ],
   "source": [
    "ax = (df_eval_m_aug[['p_VaR_t','h_VaR_t']]*100).plot()\n",
    "ax = (df_eval_m_aug['fhg_VaR_t']*100).plot(alpha=0.4)\n",
    "ax = (df_eval_m_aug['fhe_VaR_t']*100).plot(alpha=0.4)\n",
    "ax = (df_eval_m_aug['wh_VaR_t']*100).plot(alpha=0.4)\n",
    "ax = (df_eval_m_aug['ret']*100).plot(alpha=0.3)\n",
    "plt.legend()\n",
    "ax.yaxis.set_major_formatter(mtick.PercentFormatter())"
   ]
  },
  {
   "cell_type": "code",
   "execution_count": 105,
   "id": "bd3092b1",
   "metadata": {},
   "outputs": [
    {
     "data": {
      "text/html": [
       "<div>\n",
       "<style scoped>\n",
       "    .dataframe tbody tr th:only-of-type {\n",
       "        vertical-align: middle;\n",
       "    }\n",
       "\n",
       "    .dataframe tbody tr th {\n",
       "        vertical-align: top;\n",
       "    }\n",
       "\n",
       "    .dataframe thead th {\n",
       "        text-align: right;\n",
       "    }\n",
       "</style>\n",
       "<table border=\"1\" class=\"dataframe\">\n",
       "  <thead>\n",
       "    <tr style=\"text-align: right;\">\n",
       "      <th></th>\n",
       "      <th>Average Number of Excedences per Year</th>\n",
       "    </tr>\n",
       "  </thead>\n",
       "  <tbody>\n",
       "    <tr>\n",
       "      <th>p_VaR_t</th>\n",
       "      <td>0.50</td>\n",
       "    </tr>\n",
       "    <tr>\n",
       "      <th>h_VaR_t</th>\n",
       "      <td>0.97</td>\n",
       "    </tr>\n",
       "    <tr>\n",
       "      <th>fhg_VaR_t</th>\n",
       "      <td>1.00</td>\n",
       "    </tr>\n",
       "    <tr>\n",
       "      <th>fhe_VaR_t</th>\n",
       "      <td>1.00</td>\n",
       "    </tr>\n",
       "    <tr>\n",
       "      <th>wh_VaR_t</th>\n",
       "      <td>0.59</td>\n",
       "    </tr>\n",
       "  </tbody>\n",
       "</table>\n",
       "</div>"
      ],
      "text/plain": [
       "           Average Number of Excedences per Year\n",
       "p_VaR_t                                     0.50\n",
       "h_VaR_t                                     0.97\n",
       "fhg_VaR_t                                   1.00\n",
       "fhe_VaR_t                                   1.00\n",
       "wh_VaR_t                                    0.59"
      ]
     },
     "execution_count": 105,
     "metadata": {},
     "output_type": "execute_result"
    }
   ],
   "source": [
    "VaR_t_m_aug=pd.DataFrame(index=df_eval_m_aug.index, columns= ['p_VaR_t','h_VaR_t','fhg_VaR_t','fhe_VaR_t','wh_VaR_t'])\n",
    "\n",
    "VaR_t_m_aug['p_VaR_t']= df_eval_m_aug['ret']<df_eval_m_aug['p_VaR_t']\n",
    "VaR_t_m_aug['h_VaR_t']= df_eval_m_aug['ret']<df_eval_m_aug['h_VaR_t']\n",
    "VaR_t_m_aug['fhg_VaR_t']= df_eval_m_aug['ret']<df_eval_m_aug['fhg_VaR_t']\n",
    "VaR_t_m_aug['fhe_VaR_t']= df_eval_m_aug['ret']<df_eval_m_aug['fhe_VaR_t']\n",
    "VaR_t_m_aug['wh_VaR_t']= df_eval_m_aug['ret']<df_eval_m_aug['wh_VaR_t']\n",
    "\n",
    "VaR_t_2_m_aug=VaR_t_m_aug.groupby(pd.Grouper(freq='Y')).sum()\n",
    "pd.DataFrame(columns=['Average Number of Excedences per Year'],data=VaR_t_2_m_aug.mean().round(2))"
   ]
  },
  {
   "cell_type": "code",
   "execution_count": 106,
   "id": "39a17ca2",
   "metadata": {},
   "outputs": [
    {
     "data": {
      "text/plain": [
       "Text(0, 0.5, 'Average Number of Excedences per Year')"
      ]
     },
     "execution_count": 106,
     "metadata": {},
     "output_type": "execute_result"
    },
    {
     "data": {
      "image/png": "[encoded data removed]",
      "text/plain": [
       "<Figure size 432x288 with 1 Axes>"
      ]
     },
     "metadata": {
      "needs_background": "light"
     },
     "output_type": "display_data"
    }
   ],
   "source": [
    "ax = VaR_t_2_m_aug.plot()\n",
    "plt.ylabel('Average Number of Excedences per Year')"
   ]
  },
  {
   "cell_type": "code",
   "execution_count": 107,
   "id": "570b4b2c",
   "metadata": {},
   "outputs": [
    {
     "data": {
      "image/png": "[encoded data removed]",
      "text/plain": [
       "<Figure size 432x288 with 1 Axes>"
      ]
     },
     "metadata": {
      "needs_background": "light"
     },
     "output_type": "display_data"
    }
   ],
   "source": [
    "ax = df_eval_m_aug[['p_VaR_t','fhg_VaR_t','fhe_VaR_t']].plot()\n",
    "ax = df_eval_m_aug['wh_VaR_t'].plot(alpha=0.5)\n",
    "plt.legend()\n",
    "ax.yaxis.set_major_formatter(mtick.PercentFormatter())"
   ]
  },
  {
   "cell_type": "code",
   "execution_count": null,
   "id": "8b7574fe",
   "metadata": {},
   "outputs": [],
   "source": []
  },
  {
   "cell_type": "markdown",
   "id": "bf29068b",
   "metadata": {},
   "source": [
    "# Covariance estimation"
   ]
  },
  {
   "cell_type": "code",
   "execution_count": 108,
   "id": "708ea413",
   "metadata": {},
   "outputs": [],
   "source": [
    "se_vol_m_aug = 1/np.sqrt(len(df_25_m_aug)*2)"
   ]
  },
  {
   "cell_type": "code",
   "execution_count": 109,
   "id": "a07fb0bb",
   "metadata": {},
   "outputs": [
    {
     "data": {
      "text/plain": [
       "(0.026481188406051966, 0.014803979523801938)"
      ]
     },
     "execution_count": 109,
     "metadata": {},
     "output_type": "execute_result"
    }
   ],
   "source": [
    "(vol_garch_for_m_aug[0]*(1+2*se_vol_m_aug),vol_garch_for_m_aug[0]*(1-2*se_vol_m_aug))"
   ]
  },
  {
   "cell_type": "code",
   "execution_count": 110,
   "id": "8fcd5938",
   "metadata": {},
   "outputs": [
    {
     "data": {
      "text/plain": [
       "0.020642583964926953"
      ]
     },
     "execution_count": 110,
     "metadata": {},
     "output_type": "execute_result"
    }
   ],
   "source": [
    "vol_garch_for_m_aug[0]"
   ]
  },
  {
   "cell_type": "code",
   "execution_count": 111,
   "id": "1393c0b0",
   "metadata": {},
   "outputs": [],
   "source": [
    "se_var_m_aug = np.sqrt((0.5*0.95)/(len(df_25_m_aug)*(sp.norm.pdf(-sp.norm.ppf(0.05))**2)))"
   ]
  },
  {
   "cell_type": "code",
   "execution_count": 112,
   "id": "9d528ac7",
   "metadata": {},
   "outputs": [
    {
     "data": {
      "text/plain": [
       "(0.11204766524244356, -0.026680133425846225)"
      ]
     },
     "execution_count": 112,
     "metadata": {},
     "output_type": "execute_result"
    }
   ],
   "source": [
    "((-sp.norm.ppf(0.05)+2*se_var_m_aug)*(var_25_fhist_g_m_aug/sp.norm.ppf(0.05)),(-sp.norm.ppf(0.05)-2*se_var_m_aug)*(var_25_fhist_g_m_aug/sp.norm.ppf(0.05)))"
   ]
  },
  {
   "cell_type": "code",
   "execution_count": 113,
   "id": "c47377b9",
   "metadata": {},
   "outputs": [
    {
     "data": {
      "text/plain": [
       "0.04268376590829867"
      ]
     },
     "execution_count": 113,
     "metadata": {},
     "output_type": "execute_result"
    }
   ],
   "source": [
    "-var_25_fhist_g_m_aug"
   ]
  },
  {
   "cell_type": "code",
   "execution_count": 114,
   "id": "683818aa",
   "metadata": {},
   "outputs": [
    {
     "data": {
      "text/plain": [
       "-1.8105286004289372"
      ]
     },
     "execution_count": 114,
     "metadata": {},
     "output_type": "execute_result"
    }
   ],
   "source": [
    "cf_std_m_aug = df_25_m_aug['Returns'].std()\n",
    "cf_skw_m_aug = sp.skew(df_25_m_aug['Returns'])\n",
    "cf_kurt_m_aug = sp.kurtosis(df_25_m_aug['Returns'])\n",
    "\n",
    "cf_z_m_aug = sp.norm.ppf(0.05)+((sp.norm.ppf(0.05)**2)-1)*cf_skw_m_aug/6+((sp.norm.ppf(0.05)**3)-3*sp.norm.ppf(0.05))*cf_kurt_m_aug/24-(2*(sp.norm.ppf(0.05)**3)-5*sp.norm.ppf(0.05))*(cf_skw_m_aug**2)/36\n",
    "cf_z_m_aug"
   ]
  },
  {
   "cell_type": "code",
   "execution_count": 115,
   "id": "9cce8bdd",
   "metadata": {},
   "outputs": [
    {
     "data": {
      "text/plain": [
       "0.03737398865525602"
      ]
     },
     "execution_count": 115,
     "metadata": {},
     "output_type": "execute_result"
    }
   ],
   "source": [
    "cf_var_m_aug = -cf_z_m_aug*vol_garch_for_m_aug[0]\n",
    "cf_var_m_aug"
   ]
  },
  {
   "cell_type": "code",
   "execution_count": 116,
   "id": "601ce2dc",
   "metadata": {},
   "outputs": [],
   "source": [
    "df_returns_crap_m_aug = pd.DataFrame(df_returns_m_aug['Returns'])\n",
    "df_returns_crap_m_aug['Abs Returns'] = np.abs(df_returns_m_aug['Returns'])\n",
    "df_returns_crap_m_aug.sort_values('Abs Returns', inplace=True)\n",
    "df_returns_crap_m_aug['Cum Returns'] = df_returns_m_aug['Returns']\n",
    "df_returns_crap_m_aug.reset_index(inplace=True)\n",
    "df_returns_crap_m_aug.drop(columns=['date'],inplace=True)"
   ]
  },
  {
   "cell_type": "code",
   "execution_count": 117,
   "id": "e844d6ac",
   "metadata": {},
   "outputs": [
    {
     "data": {
      "text/html": [
       "<div>\n",
       "<style scoped>\n",
       "    .dataframe tbody tr th:only-of-type {\n",
       "        vertical-align: middle;\n",
       "    }\n",
       "\n",
       "    .dataframe tbody tr th {\n",
       "        vertical-align: top;\n",
       "    }\n",
       "\n",
       "    .dataframe thead th {\n",
       "        text-align: right;\n",
       "    }\n",
       "</style>\n",
       "<table border=\"1\" class=\"dataframe\">\n",
       "  <thead>\n",
       "    <tr style=\"text-align: right;\">\n",
       "      <th></th>\n",
       "      <th>Returns</th>\n",
       "      <th>Abs Returns</th>\n",
       "      <th>Cum Returns</th>\n",
       "    </tr>\n",
       "  </thead>\n",
       "  <tbody>\n",
       "    <tr>\n",
       "      <th>380</th>\n",
       "      <td>0.031127</td>\n",
       "      <td>0.031127</td>\n",
       "      <td>2.274030</td>\n",
       "    </tr>\n",
       "    <tr>\n",
       "      <th>381</th>\n",
       "      <td>0.031310</td>\n",
       "      <td>0.031310</td>\n",
       "      <td>2.305340</td>\n",
       "    </tr>\n",
       "    <tr>\n",
       "      <th>382</th>\n",
       "      <td>0.031500</td>\n",
       "      <td>0.031500</td>\n",
       "      <td>2.336840</td>\n",
       "    </tr>\n",
       "    <tr>\n",
       "      <th>383</th>\n",
       "      <td>0.031655</td>\n",
       "      <td>0.031655</td>\n",
       "      <td>2.368495</td>\n",
       "    </tr>\n",
       "    <tr>\n",
       "      <th>384</th>\n",
       "      <td>-0.031740</td>\n",
       "      <td>0.031740</td>\n",
       "      <td>2.336755</td>\n",
       "    </tr>\n",
       "    <tr>\n",
       "      <th>385</th>\n",
       "      <td>-0.033245</td>\n",
       "      <td>0.033245</td>\n",
       "      <td>2.303510</td>\n",
       "    </tr>\n",
       "    <tr>\n",
       "      <th>386</th>\n",
       "      <td>0.033629</td>\n",
       "      <td>0.033629</td>\n",
       "      <td>2.337139</td>\n",
       "    </tr>\n",
       "    <tr>\n",
       "      <th>387</th>\n",
       "      <td>0.034052</td>\n",
       "      <td>0.034052</td>\n",
       "      <td>2.371190</td>\n",
       "    </tr>\n",
       "    <tr>\n",
       "      <th>388</th>\n",
       "      <td>-0.034585</td>\n",
       "      <td>0.034585</td>\n",
       "      <td>2.336606</td>\n",
       "    </tr>\n",
       "    <tr>\n",
       "      <th>389</th>\n",
       "      <td>0.034669</td>\n",
       "      <td>0.034669</td>\n",
       "      <td>2.371275</td>\n",
       "    </tr>\n",
       "    <tr>\n",
       "      <th>390</th>\n",
       "      <td>0.034696</td>\n",
       "      <td>0.034696</td>\n",
       "      <td>2.405971</td>\n",
       "    </tr>\n",
       "    <tr>\n",
       "      <th>391</th>\n",
       "      <td>-0.034901</td>\n",
       "      <td>0.034901</td>\n",
       "      <td>2.371069</td>\n",
       "    </tr>\n",
       "    <tr>\n",
       "      <th>392</th>\n",
       "      <td>-0.034980</td>\n",
       "      <td>0.034980</td>\n",
       "      <td>2.336089</td>\n",
       "    </tr>\n",
       "    <tr>\n",
       "      <th>393</th>\n",
       "      <td>0.035990</td>\n",
       "      <td>0.035990</td>\n",
       "      <td>2.372079</td>\n",
       "    </tr>\n",
       "    <tr>\n",
       "      <th>394</th>\n",
       "      <td>0.036117</td>\n",
       "      <td>0.036117</td>\n",
       "      <td>2.408197</td>\n",
       "    </tr>\n",
       "    <tr>\n",
       "      <th>395</th>\n",
       "      <td>0.036409</td>\n",
       "      <td>0.036409</td>\n",
       "      <td>2.444606</td>\n",
       "    </tr>\n",
       "    <tr>\n",
       "      <th>396</th>\n",
       "      <td>0.037762</td>\n",
       "      <td>0.037762</td>\n",
       "      <td>2.482368</td>\n",
       "    </tr>\n",
       "    <tr>\n",
       "      <th>397</th>\n",
       "      <td>0.038250</td>\n",
       "      <td>0.038250</td>\n",
       "      <td>2.520617</td>\n",
       "    </tr>\n",
       "    <tr>\n",
       "      <th>398</th>\n",
       "      <td>0.038520</td>\n",
       "      <td>0.038520</td>\n",
       "      <td>2.559138</td>\n",
       "    </tr>\n",
       "    <tr>\n",
       "      <th>399</th>\n",
       "      <td>0.038953</td>\n",
       "      <td>0.038953</td>\n",
       "      <td>2.598091</td>\n",
       "    </tr>\n",
       "    <tr>\n",
       "      <th>400</th>\n",
       "      <td>0.039052</td>\n",
       "      <td>0.039052</td>\n",
       "      <td>2.637142</td>\n",
       "    </tr>\n",
       "    <tr>\n",
       "      <th>401</th>\n",
       "      <td>-0.040461</td>\n",
       "      <td>0.040461</td>\n",
       "      <td>2.596681</td>\n",
       "    </tr>\n",
       "    <tr>\n",
       "      <th>402</th>\n",
       "      <td>-0.040853</td>\n",
       "      <td>0.040853</td>\n",
       "      <td>2.555829</td>\n",
       "    </tr>\n",
       "    <tr>\n",
       "      <th>403</th>\n",
       "      <td>0.041235</td>\n",
       "      <td>0.041235</td>\n",
       "      <td>2.597063</td>\n",
       "    </tr>\n",
       "    <tr>\n",
       "      <th>404</th>\n",
       "      <td>0.041703</td>\n",
       "      <td>0.041703</td>\n",
       "      <td>2.638766</td>\n",
       "    </tr>\n",
       "    <tr>\n",
       "      <th>405</th>\n",
       "      <td>0.042965</td>\n",
       "      <td>0.042965</td>\n",
       "      <td>2.681731</td>\n",
       "    </tr>\n",
       "    <tr>\n",
       "      <th>406</th>\n",
       "      <td>0.044099</td>\n",
       "      <td>0.044099</td>\n",
       "      <td>2.725830</td>\n",
       "    </tr>\n",
       "    <tr>\n",
       "      <th>407</th>\n",
       "      <td>0.044458</td>\n",
       "      <td>0.044458</td>\n",
       "      <td>2.770288</td>\n",
       "    </tr>\n",
       "    <tr>\n",
       "      <th>408</th>\n",
       "      <td>0.044977</td>\n",
       "      <td>0.044977</td>\n",
       "      <td>2.815266</td>\n",
       "    </tr>\n",
       "    <tr>\n",
       "      <th>409</th>\n",
       "      <td>0.046981</td>\n",
       "      <td>0.046981</td>\n",
       "      <td>2.862247</td>\n",
       "    </tr>\n",
       "    <tr>\n",
       "      <th>410</th>\n",
       "      <td>0.047162</td>\n",
       "      <td>0.047162</td>\n",
       "      <td>2.909409</td>\n",
       "    </tr>\n",
       "    <tr>\n",
       "      <th>411</th>\n",
       "      <td>0.047181</td>\n",
       "      <td>0.047181</td>\n",
       "      <td>2.956590</td>\n",
       "    </tr>\n",
       "    <tr>\n",
       "      <th>412</th>\n",
       "      <td>0.047345</td>\n",
       "      <td>0.047345</td>\n",
       "      <td>3.003935</td>\n",
       "    </tr>\n",
       "    <tr>\n",
       "      <th>413</th>\n",
       "      <td>-0.048288</td>\n",
       "      <td>0.048288</td>\n",
       "      <td>2.955647</td>\n",
       "    </tr>\n",
       "    <tr>\n",
       "      <th>414</th>\n",
       "      <td>-0.052934</td>\n",
       "      <td>0.052934</td>\n",
       "      <td>2.902713</td>\n",
       "    </tr>\n",
       "    <tr>\n",
       "      <th>415</th>\n",
       "      <td>0.053083</td>\n",
       "      <td>0.053083</td>\n",
       "      <td>2.955796</td>\n",
       "    </tr>\n",
       "    <tr>\n",
       "      <th>416</th>\n",
       "      <td>-0.059976</td>\n",
       "      <td>0.059976</td>\n",
       "      <td>2.895821</td>\n",
       "    </tr>\n",
       "    <tr>\n",
       "      <th>417</th>\n",
       "      <td>0.068103</td>\n",
       "      <td>0.068103</td>\n",
       "      <td>2.963924</td>\n",
       "    </tr>\n",
       "    <tr>\n",
       "      <th>418</th>\n",
       "      <td>-0.072137</td>\n",
       "      <td>0.072137</td>\n",
       "      <td>2.891787</td>\n",
       "    </tr>\n",
       "    <tr>\n",
       "      <th>419</th>\n",
       "      <td>-0.096504</td>\n",
       "      <td>0.096504</td>\n",
       "      <td>2.795283</td>\n",
       "    </tr>\n",
       "  </tbody>\n",
       "</table>\n",
       "</div>"
      ],
      "text/plain": [
       "      Returns  Abs Returns  Cum Returns\n",
       "380  0.031127     0.031127     2.274030\n",
       "381  0.031310     0.031310     2.305340\n",
       "382  0.031500     0.031500     2.336840\n",
       "383  0.031655     0.031655     2.368495\n",
       "384 -0.031740     0.031740     2.336755\n",
       "385 -0.033245     0.033245     2.303510\n",
       "386  0.033629     0.033629     2.337139\n",
       "387  0.034052     0.034052     2.371190\n",
       "388 -0.034585     0.034585     2.336606\n",
       "389  0.034669     0.034669     2.371275\n",
       "390  0.034696     0.034696     2.405971\n",
       "391 -0.034901     0.034901     2.371069\n",
       "392 -0.034980     0.034980     2.336089\n",
       "393  0.035990     0.035990     2.372079\n",
       "394  0.036117     0.036117     2.408197\n",
       "395  0.036409     0.036409     2.444606\n",
       "396  0.037762     0.037762     2.482368\n",
       "397  0.038250     0.038250     2.520617\n",
       "398  0.038520     0.038520     2.559138\n",
       "399  0.038953     0.038953     2.598091\n",
       "400  0.039052     0.039052     2.637142\n",
       "401 -0.040461     0.040461     2.596681\n",
       "402 -0.040853     0.040853     2.555829\n",
       "403  0.041235     0.041235     2.597063\n",
       "404  0.041703     0.041703     2.638766\n",
       "405  0.042965     0.042965     2.681731\n",
       "406  0.044099     0.044099     2.725830\n",
       "407  0.044458     0.044458     2.770288\n",
       "408  0.044977     0.044977     2.815266\n",
       "409  0.046981     0.046981     2.862247\n",
       "410  0.047162     0.047162     2.909409\n",
       "411  0.047181     0.047181     2.956590\n",
       "412  0.047345     0.047345     3.003935\n",
       "413 -0.048288     0.048288     2.955647\n",
       "414 -0.052934     0.052934     2.902713\n",
       "415  0.053083     0.053083     2.955796\n",
       "416 -0.059976     0.059976     2.895821\n",
       "417  0.068103     0.068103     2.963924\n",
       "418 -0.072137     0.072137     2.891787\n",
       "419 -0.096504     0.096504     2.795283"
      ]
     },
     "execution_count": 117,
     "metadata": {},
     "output_type": "execute_result"
    }
   ],
   "source": [
    "for y in range(0, len(df_returns_crap_m_aug)):\n",
    "    if y==0:\n",
    "        df_returns_crap_m_aug.iloc[y, 2] = df_returns_crap_m_aug.iloc[y, 0]\n",
    "    else: df_returns_crap_m_aug.iloc[y, 2] = df_returns_crap_m_aug.iloc[y-1, 2] + df_returns_crap_m_aug.iloc[y, 0]\n",
    "        \n",
    "df_returns_crap_m_aug.tail(40)"
   ]
  },
  {
   "cell_type": "code",
   "execution_count": 118,
   "id": "eb6ece83",
   "metadata": {},
   "outputs": [
    {
     "data": {
      "text/plain": [
       "<AxesSubplot:>"
      ]
     },
     "execution_count": 118,
     "metadata": {},
     "output_type": "execute_result"
    },
    {
     "data": {
      "image/png": "[encoded data removed]",
      "text/plain": [
       "<Figure size 432x288 with 1 Axes>"
      ]
     },
     "metadata": {
      "needs_background": "light"
     },
     "output_type": "display_data"
    }
   ],
   "source": [
    "df_returns_crap_m_aug['Cum Returns'].plot()"
   ]
  },
  {
   "cell_type": "code",
   "execution_count": 120,
   "id": "02ad254b",
   "metadata": {},
   "outputs": [
    {
     "data": {
      "text/plain": [
       "0.004761904761904762"
      ]
     },
     "execution_count": 120,
     "metadata": {},
     "output_type": "execute_result"
    }
   ],
   "source": [
    "2/420"
   ]
  },
  {
   "cell_type": "code",
   "execution_count": null,
   "id": "9b4089cb",
   "metadata": {},
   "outputs": [],
   "source": []
  }
 ],
 "metadata": {
  "kernelspec": {
   "display_name": "Python 3",
   "language": "python",
   "name": "python3"
  },
  "language_info": {
   "codemirror_mode": {
    "name": "ipython",
    "version": 3
   },
   "file_extension": ".py",
   "mimetype": "text/x-python",
   "name": "python",
   "nbconvert_exporter": "python",
   "pygments_lexer": "ipython3",
   "version": "3.8.5"
  }
 },
 "nbformat": 4,
 "nbformat_minor": 5
}
