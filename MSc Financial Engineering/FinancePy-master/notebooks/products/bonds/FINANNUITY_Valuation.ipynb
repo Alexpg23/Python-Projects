{
 "cells": [
  {
   "cell_type": "markdown",
   "metadata": {},
   "source": [
    "# ANNUITY CALCULATOR"
   ]
  },
  {
   "cell_type": "markdown",
   "metadata": {},
   "source": [
    "In this notebook I use the simple mortgage calculator to generate mortgage cash flows."
   ]
  },
  {
   "cell_type": "code",
   "execution_count": 1,
   "metadata": {
    "scrolled": true,
    "tags": []
   },
   "outputs": [
    {
     "name": "stdout",
     "output_type": "stream",
     "text": [
      "####################################################################\n",
      "# FINANCEPY BETA Version 0.193 - This build:  19 Apr 2021 at 22:33 #\n",
      "#      This software is distributed FREE & WITHOUT ANY WARRANTY    #\n",
      "# For info and disclaimer - https://github.com/domokane/FinancePy  #\n",
      "#      Send any bug reports or comments to quant@financepy.com     #\n",
      "####################################################################\n",
      "\n"
     ]
    }
   ],
   "source": [
    "from financepy.utils import *"
   ]
  },
  {
   "cell_type": "code",
   "execution_count": 2,
   "metadata": {},
   "outputs": [],
   "source": [
    "from financepy.products.bonds import *\n",
    "from financepy.utils import *\n",
    "from financepy.products.rates import *"
   ]
  },
  {
   "cell_type": "markdown",
   "metadata": {},
   "source": [
    "## CREATE AN ANNUITY STREAM"
   ]
  },
  {
   "cell_type": "markdown",
   "metadata": {},
   "source": [
    "Calculate the cash flows on an annuity"
   ]
  },
  {
   "cell_type": "code",
   "execution_count": 3,
   "metadata": {},
   "outputs": [],
   "source": [
    "valuation_date = Date(20, 6, 2018)\n",
    "settlement_date = valuation_date"
   ]
  },
  {
   "cell_type": "code",
   "execution_count": 4,
   "metadata": {
    "scrolled": true
   },
   "outputs": [],
   "source": [
    "maturity_date = settlement_date.add_tenor(\"5Y\")  # Date(20, 9, 2028)\n",
    "coupon = 0.05\n",
    "frequencyType = FrequencyTypes.SEMI_ANNUAL\n",
    "calendar_type = CalendarTypes.WEEKEND\n",
    "bus_day_adjust_type = BusDayAdjustTypes.FOLLOWING\n",
    "date_gen_rule_type = DateGenRuleTypes.BACKWARD\n",
    "basis_type = DayCountTypes.ACT_360\n",
    "face = ONE_MILLION"
   ]
  },
  {
   "cell_type": "code",
   "execution_count": 5,
   "metadata": {},
   "outputs": [],
   "source": [
    "annuity = BondAnnuity(maturity_date,coupon,frequencyType,calendar_type,\n",
    "                         bus_day_adjust_type,date_gen_rule_type,basis_type,face)"
   ]
  },
  {
   "cell_type": "code",
   "execution_count": 6,
   "metadata": {
    "scrolled": true,
    "tags": []
   },
   "outputs": [
    {
     "name": "stdout",
     "output_type": "stream",
     "text": [
      "OBJECT TYPE: BondAnnuity\n",
      "MATURITY DATE: 20-JUN-2023\n",
      "FREQUENCY: FrequencyTypes.SEMI_ANNUAL\n",
      "CALENDAR: CalendarTypes.WEEKEND\n",
      "BUS_DAY_RULE: BusDayAdjustTypes.FOLLOWING\n",
      "DATE_GEN_RULE: DateGenRuleTypes.BACKWARD\n",
      "\n"
     ]
    }
   ],
   "source": [
    "print(annuity)"
   ]
  },
  {
   "cell_type": "code",
   "execution_count": 7,
   "metadata": {
    "tags": []
   },
   "outputs": [
    {
     "name": "stdout",
     "output_type": "stream",
     "text": [
      "20-DEC-2018 , 25416.666666666668\n",
      "20-JUN-2019 , 25277.777777777777\n",
      "20-DEC-2019 , 25416.666666666668\n",
      "20-JUN-2020 , 25416.666666666668\n",
      "20-DEC-2020 , 25416.666666666668\n",
      "20-JUN-2021 , 25277.777777777777\n",
      "20-DEC-2021 , 25416.666666666668\n",
      "20-JUN-2022 , 25277.777777777777\n",
      "20-DEC-2022 , 25416.666666666668\n",
      "20-JUN-2023 , 25277.777777777777\n"
     ]
    }
   ],
   "source": [
    "annuity.print_flows(settlement_date)"
   ]
  },
  {
   "cell_type": "markdown",
   "metadata": {},
   "source": [
    "## We can value the flows by discounting them"
   ]
  },
  {
   "cell_type": "markdown",
   "metadata": {},
   "source": [
    "First we build a Libor swap curve"
   ]
  },
  {
   "cell_type": "code",
   "execution_count": 11,
   "metadata": {},
   "outputs": [],
   "source": [
    "depos = []\n",
    "dcType = DayCountTypes.ACT_360\n",
    "fixedFreq = FrequencyTypes.SEMI_ANNUAL\n",
    "swapType = SwapTypes.PAY\n",
    "swap1 = IborSwap(settlement_date,\"1Y\",swapType,0.0500,fixedFreq,dcType)\n",
    "swap2 = IborSwap(settlement_date,\"2Y\",swapType,0.0500,fixedFreq,dcType)\n",
    "swap3 = IborSwap(settlement_date,\"3Y\",swapType,0.0500,fixedFreq,dcType)\n",
    "swap4 = IborSwap(settlement_date,\"4Y\",swapType,0.0500,fixedFreq,dcType)\n",
    "swap5 = IborSwap(settlement_date,\"5Y\",swapType,0.0500,fixedFreq,dcType)\n",
    "swaps = [swap1, swap2, swap3, swap4, swap5]\n",
    "\n",
    "libor_curve = IborSingleCurve(valuation_date, depos, [], swaps)"
   ]
  },
  {
   "cell_type": "code",
   "execution_count": 12,
   "metadata": {},
   "outputs": [
    {
     "data": {
      "text/plain": [
       "-2.9103830456733704e-11"
      ]
     },
     "execution_count": 12,
     "metadata": {},
     "output_type": "execute_result"
    }
   ],
   "source": [
    "swap5.value(settlement_date, libor_curve)"
   ]
  },
  {
   "cell_type": "code",
   "execution_count": 13,
   "metadata": {},
   "outputs": [
    {
     "name": "stdout",
     "output_type": "stream",
     "text": [
      "START DATE: 20-JUN-2018\n",
      "MATURITY DATE: 20-JUN-2023\n",
      "COUPON (%): 5.0\n",
      "FREQUENCY: FrequencyTypes.SEMI_ANNUAL\n",
      "DAY COUNT: DayCountTypes.ACT_360\n",
      "PAY_DATE     ACCR_START   ACCR_END     DAYS  YEARFRAC    RATE      PAYMENT       DF          PV        CUM PV\n",
      "20-DEC-2018  20-JUN-2018  20-DEC-2018   183  0.508333   5.00000     25416.67  0.97521251     24786.65     24786.65\n",
      "20-JUN-2019  20-DEC-2018  20-JUN-2019   182  0.505556   5.00000     25277.78  0.95116989     24043.46     48830.11\n",
      "20-DEC-2019  20-JUN-2019  20-DEC-2019   183  0.508333   5.00000     25416.67  0.92759512     23576.38     72406.49\n",
      "22-JUN-2020  20-DEC-2019  22-JUN-2020   185  0.513889   5.00000     25694.44  0.90435657     23236.94     95643.43\n",
      "21-DEC-2020  22-JUN-2020  21-DEC-2020   182  0.505556   5.00000     25277.78  0.88206005     22296.52    117939.95\n",
      "21-JUN-2021  21-DEC-2020  21-JUN-2021   182  0.505556   5.00000     25277.78  0.86031325     21746.81    139686.75\n",
      "20-DEC-2021  21-JUN-2021  20-DEC-2021   182  0.505556   5.00000     25277.78  0.83910260     21210.65    160897.40\n",
      "20-JUN-2022  20-DEC-2021  20-JUN-2022   182  0.505556   5.00000     25277.78  0.81841489     20687.71    181585.11\n",
      "20-DEC-2022  20-JUN-2022  20-DEC-2022   183  0.508333   5.00000     25416.67  0.79812844     20285.76    201870.88\n",
      "20-JUN-2023  20-DEC-2022  20-JUN-2023   182  0.505556   5.00000     25277.78  0.77845160     19677.53    221548.40\n"
     ]
    }
   ],
   "source": [
    "swap5.print_fixed_leg_pv()"
   ]
  },
  {
   "cell_type": "markdown",
   "metadata": {},
   "source": [
    "Here are the flows on the fixed leg of the 5Y swap"
   ]
  },
  {
   "cell_type": "code",
   "execution_count": 14,
   "metadata": {},
   "outputs": [
    {
     "name": "stdout",
     "output_type": "stream",
     "text": [
      "START DATE: 20-JUN-2018\n",
      "MATURITY DATE: 20-JUN-2023\n",
      "SPREAD (BPS): 0.0\n",
      "FREQUENCY: FrequencyTypes.QUARTERLY\n",
      "DAY COUNT: DayCountTypes.THIRTY_E_360\n",
      "PAY_DATE     ACCR_START   ACCR_END     DAYS  YEARFRAC    IBOR      PAYMENT       DF          PV        CUM PV\n",
      "20-SEP-2018  20-JUN-2018  20-SEP-2018    90  0.250000    5.07939     12698.47  0.98746076     12539.24     12539.24\n",
      "20-DEC-2018  20-SEP-2018  20-DEC-2018    90  0.250000    5.02383     12559.58  0.97521251     12248.26     24787.49\n",
      "20-MAR-2019  20-DEC-2018  20-MAR-2019    90  0.250000    4.96828     12420.70  0.96324829     11964.22     36751.71\n",
      "20-JUN-2019  20-MAR-2019  20-JUN-2019    90  0.250000    5.07939     12698.47  0.95116989     12078.40     48830.11\n",
      "20-SEP-2019  20-JUN-2019  20-SEP-2019    90  0.250000    5.07887     12697.17  0.93924414     11925.75     60755.86\n",
      "20-DEC-2019  20-SEP-2019  20-DEC-2019    90  0.250000    5.02332     12558.30  0.92759512     11649.02     72404.88\n",
      "20-MAR-2020  20-DEC-2019  20-MAR-2020    90  0.250000    5.02332     12558.30  0.91609058     11504.54     83909.42\n",
      "22-JUN-2020  20-MAR-2020  22-JUN-2020    92  0.255556    5.07717     12974.98  0.90435657     11734.01     95643.43\n",
      "21-SEP-2020  22-JUN-2020  21-SEP-2020    89  0.247222    5.08045     12560.01  0.89313874     11217.83    106861.26\n",
      "21-DEC-2020  21-SEP-2020  21-DEC-2020    90  0.250000    5.02400     12560.01  0.88206005     11078.68    117939.95\n",
      "22-MAR-2021  21-DEC-2020  22-MAR-2021    91  0.252778    4.96880     12560.01  0.87111879     10941.26    128881.21\n",
      "21-JUN-2021  22-MAR-2021  21-JUN-2021    89  0.247222    5.08045     12560.01  0.86031325     10805.54    139686.75\n",
      "20-SEP-2021  21-JUN-2021  20-SEP-2021    89  0.247222    5.08045     12560.01  0.84964174     10671.51    150358.26\n",
      "20-DEC-2021  20-SEP-2021  20-DEC-2021    90  0.250000    5.02400     12560.01  0.83910260     10539.14    160897.40\n",
      "21-MAR-2022  20-DEC-2021  21-MAR-2022    91  0.252778    4.96880     12560.01  0.82869419     10408.41    171305.81\n",
      "20-JUN-2022  21-MAR-2022  20-JUN-2022    89  0.247222    5.08045     12560.01  0.81841489     10279.30    181585.11\n",
      "20-SEP-2022  20-JUN-2022  20-SEP-2022    90  0.250000    5.07939     12698.47  0.80815259     10262.30    191847.41\n",
      "20-DEC-2022  20-SEP-2022  20-DEC-2022    90  0.250000    5.02383     12559.58  0.79812844     10024.15    201871.56\n",
      "20-MAR-2023  20-DEC-2022  20-MAR-2023    90  0.250000    4.96828     12420.70  0.78833674      9791.70    211663.26\n",
      "20-JUN-2023  20-MAR-2023  20-JUN-2023    90  0.250000    5.07939     12698.47  0.77845160      9885.14    221548.40\n"
     ]
    }
   ],
   "source": [
    "swap5.print_float_leg_pv()"
   ]
  },
  {
   "cell_type": "code",
   "execution_count": 15,
   "metadata": {},
   "outputs": [],
   "source": [
    "cleanValue = annuity.clean_price_from_discount_curve(settlement_date, libor_curve)"
   ]
  },
  {
   "cell_type": "code",
   "execution_count": 16,
   "metadata": {},
   "outputs": [],
   "source": [
    "dirtyValue = annuity.full_price_from_discount_curve(settlement_date, libor_curve)"
   ]
  },
  {
   "cell_type": "markdown",
   "metadata": {},
   "source": [
    "The price of the annuity is quoted based on a par notional"
   ]
  },
  {
   "cell_type": "code",
   "execution_count": 17,
   "metadata": {},
   "outputs": [
    {
     "name": "stdout",
     "output_type": "stream",
     "text": [
      "CLEAN PRICE: 22.154860681946733\n",
      "DIRTY PRICE: 22.154860681946733\n",
      "ACCRD VALUE: 0.0\n"
     ]
    }
   ],
   "source": [
    "print(\"CLEAN PRICE:\", cleanValue)\n",
    "print(\"DIRTY PRICE:\", dirtyValue)\n",
    "print(\"ACCRD VALUE:\", annuity._accrued_interest)"
   ]
  },
  {
   "cell_type": "markdown",
   "metadata": {},
   "source": [
    "Copyright (c) 2020 Dominic O'Kane"
   ]
  }
 ],
 "metadata": {
  "kernelspec": {
   "display_name": "Python 3",
   "language": "python",
   "name": "python3"
  },
  "language_info": {
   "codemirror_mode": {
    "name": "ipython",
    "version": 3
   },
   "file_extension": ".py",
   "mimetype": "text/x-python",
   "name": "python",
   "nbconvert_exporter": "python",
   "pygments_lexer": "ipython3",
   "version": "3.8.8"
  }
 },
 "nbformat": 4,
 "nbformat_minor": 2
}
