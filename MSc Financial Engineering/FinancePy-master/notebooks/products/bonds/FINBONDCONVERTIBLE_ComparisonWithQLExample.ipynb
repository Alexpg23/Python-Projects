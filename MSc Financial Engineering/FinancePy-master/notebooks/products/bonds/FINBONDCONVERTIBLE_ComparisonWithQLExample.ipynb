{
 "cells": [
  {
   "cell_type": "markdown",
   "metadata": {},
   "source": [
    "# Convertible Bond Valuation - QL Example"
   ]
  },
  {
   "cell_type": "markdown",
   "metadata": {},
   "source": [
    "Value a Convertible Bond and compare to QL example at http://gouthamanbalaraman.com/blog/value-convertible-bond-quantlib-python.html"
   ]
  },
  {
   "cell_type": "code",
   "execution_count": 17,
   "metadata": {},
   "outputs": [],
   "source": [
    "import numpy as np\n",
    "import matplotlib.pyplot as plt"
   ]
  },
  {
   "cell_type": "code",
   "execution_count": 18,
   "metadata": {},
   "outputs": [],
   "source": [
    "from financepy.utils import *\n",
    "from financepy.products.bonds import *\n",
    "from financepy.market.curves import *"
   ]
  },
  {
   "cell_type": "markdown",
   "metadata": {},
   "source": [
    "## Creating the Convertible Bond"
   ]
  },
  {
   "cell_type": "code",
   "execution_count": 19,
   "metadata": {},
   "outputs": [],
   "source": [
    "valuation_date = Date(9, 1, 2004)\n",
    "settlement_date = valuation_date.add_days(2)"
   ]
  },
  {
   "cell_type": "markdown",
   "metadata": {},
   "source": [
    "We set the maturity date, annualised coupon, coupon annual_frequency and convention for calculating accrued interest"
   ]
  },
  {
   "cell_type": "code",
   "execution_count": 20,
   "metadata": {},
   "outputs": [],
   "source": [
    "maturity_date = Date(15, 3, 2022)\n",
    "coupon = 0.0575\n",
    "frequencyType = FrequencyTypes.SEMI_ANNUAL\n",
    "accrualBasis = DayCountTypes.THIRTY_360_BOND\n",
    "face = 100.0 \n",
    "conversion_ratio = 3.84615  "
   ]
  },
  {
   "cell_type": "markdown",
   "metadata": {},
   "source": [
    "We need to set the face amount and the conversion ratio. This is the number of shares you can convert to for that face amount."
   ]
  },
  {
   "cell_type": "markdown",
   "metadata": {},
   "source": [
    "We can also delay the start of the conversion feature using the start convert date. We allow conversion to occur from settlement."
   ]
  },
  {
   "cell_type": "code",
   "execution_count": 21,
   "metadata": {},
   "outputs": [],
   "source": [
    "start_convert_date = settlement_date"
   ]
  },
  {
   "cell_type": "markdown",
   "metadata": {},
   "source": [
    "We can also set the call schedule - the price and date on which the issuer can call back the bond. This is given with reference to a price of 100. Making the call price very high means it will never be called. So the call has no impact."
   ]
  },
  {
   "cell_type": "code",
   "execution_count": 22,
   "metadata": {},
   "outputs": [],
   "source": [
    "call_price = 100.0\n",
    "call_dates = [Date(20, 3, 2007), Date(15, 3, 2012), Date(15, 3, 2017)]\n",
    "call_prices = [call_price, call_price, call_price]"
   ]
  },
  {
   "cell_type": "markdown",
   "metadata": {},
   "source": [
    "We can also set the put schedule - the price and date on which the owner can put back the bond to the issuer. This is given with reference to a price of 100. Making the put price very low means it will never be put."
   ]
  },
  {
   "cell_type": "code",
   "execution_count": 23,
   "metadata": {},
   "outputs": [],
   "source": [
    "putPrice = 100.0\n",
    "put_dates = [Date(20, 3, 2007), Date(15, 3, 2012), Date(15, 3, 2017)]\n",
    "put_prices = [putPrice, putPrice, putPrice]"
   ]
  },
  {
   "cell_type": "markdown",
   "metadata": {},
   "source": [
    "At this point we can create our bond."
   ]
  },
  {
   "cell_type": "code",
   "execution_count": 24,
   "metadata": {},
   "outputs": [],
   "source": [
    "bond = BondConvertible(maturity_date, coupon, frequencyType, start_convert_date, conversion_ratio,\n",
    "                          call_dates, call_prices, put_dates, put_prices, accrualBasis, face)"
   ]
  },
  {
   "cell_type": "code",
   "execution_count": 25,
   "metadata": {},
   "outputs": [
    {
     "name": "stdout",
     "output_type": "stream",
     "text": [
      "OBJECT TYPE: BondConvertible\n",
      "MATURITY DATE: 15-MAR-2022\n",
      "COUPON: 0.0575\n",
      "FREQUENCY: FrequencyTypes.SEMI_ANNUAL\n",
      "ACCRUAL TYPE: DayCountTypes.THIRTY_360_BOND\n",
      "FACE AMOUNT: 100.0\n",
      "CONVERSION RATIO: 3.84615\n",
      "START CONVERT DATE: 11-JAN-2004\n",
      "CALL: DATES\n",
      "20-MAR-2007: 100.0\n",
      "15-MAR-2012: 100.0\n",
      "15-MAR-2017: 100.0\n",
      "PUT: DATES\n",
      "20-MAR-2007: 100.0\n",
      "15-MAR-2012: 100.0\n",
      "15-MAR-2017: 100.0\n",
      "\n"
     ]
    }
   ],
   "source": [
    "print(bond)"
   ]
  },
  {
   "cell_type": "markdown",
   "metadata": {},
   "source": [
    "## Valuation Inputs"
   ]
  },
  {
   "cell_type": "markdown",
   "metadata": {},
   "source": [
    "The model allows a discrete dividend schedule. We can use the FinSchedule class to do this."
   ]
  },
  {
   "cell_type": "code",
   "execution_count": 27,
   "metadata": {},
   "outputs": [],
   "source": [
    "dividendSchedule = Schedule(settlement_date, maturity_date).schedule_dates()[1:]\n",
    "dividend_yields = [0.02] * len(dividendSchedule)"
   ]
  },
  {
   "cell_type": "code",
   "execution_count": 28,
   "metadata": {},
   "outputs": [],
   "source": [
    "rate = 0.04\n",
    "discount_curve = DiscountCurveFlat(settlement_date, rate, FrequencyTypes.CONTINUOUS)"
   ]
  },
  {
   "cell_type": "code",
   "execution_count": 29,
   "metadata": {},
   "outputs": [],
   "source": [
    "stock_price = 29.04\n",
    "stock_volatility = 0.40\n",
    "credit_spread = 0.03\n",
    "recovery_rate = 0.40 # 40 percent\n",
    "num_steps_per_year = 1000"
   ]
  },
  {
   "cell_type": "code",
   "execution_count": 30,
   "metadata": {},
   "outputs": [
    {
     "data": {
      "text/plain": [
       "{'cbprice': 135.35452399080853,\n",
       " 'bond': 89.44004150041206,\n",
       " 'delta': 2.8964034274730124,\n",
       " 'gamma': 0.5948917917094881,\n",
       " 'theta': 221.62044995424202}"
      ]
     },
     "execution_count": 30,
     "metadata": {},
     "output_type": "execute_result"
    }
   ],
   "source": [
    "bond.value(valuation_date, stock_price, stock_volatility, dividendSchedule, dividend_yields,\n",
    "           discount_curve, credit_spread, recovery_rate, num_steps_per_year)"
   ]
  },
  {
   "cell_type": "markdown",
   "metadata": {},
   "source": [
    "Copyright (c) 2020 Dominic O'Kane"
   ]
  },
  {
   "cell_type": "markdown",
   "metadata": {},
   "source": [
    "This compares to 132.31 found by QL. The difference could be due to the different treatment of dividends or the credit spread."
   ]
  }
 ],
 "metadata": {
  "kernelspec": {
   "display_name": "Python 3",
   "language": "python",
   "name": "python3"
  },
  "language_info": {
   "codemirror_mode": {
    "name": "ipython",
    "version": 3
   },
   "file_extension": ".py",
   "mimetype": "text/x-python",
   "name": "python",
   "nbconvert_exporter": "python",
   "pygments_lexer": "ipython3",
   "version": "3.8.8"
  }
 },
 "nbformat": 4,
 "nbformat_minor": 2
}
