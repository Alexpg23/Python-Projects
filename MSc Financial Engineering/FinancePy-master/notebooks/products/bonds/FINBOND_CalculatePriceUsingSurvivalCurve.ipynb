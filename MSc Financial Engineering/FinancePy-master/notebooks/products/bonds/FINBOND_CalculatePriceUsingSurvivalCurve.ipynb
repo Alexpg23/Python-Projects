{
 "cells": [
  {
   "cell_type": "markdown",
   "metadata": {},
   "source": [
    "# Calculating Bond Price using Survival Curve"
   ]
  },
  {
   "cell_type": "markdown",
   "metadata": {},
   "source": [
    "Calculate the bond price using a survival curve."
   ]
  },
  {
   "cell_type": "code",
   "execution_count": 1,
   "metadata": {},
   "outputs": [],
   "source": [
    "import numpy as np\n",
    "import matplotlib.pyplot as plt"
   ]
  },
  {
   "cell_type": "code",
   "execution_count": 3,
   "metadata": {
    "tags": []
   },
   "outputs": [],
   "source": [
    "from financepy.utils import *\n",
    "from financepy.market.curves import *\n",
    "from financepy.products.bonds.bond import *"
   ]
  },
  {
   "cell_type": "markdown",
   "metadata": {},
   "source": [
    "## Creating the Bond"
   ]
  },
  {
   "cell_type": "code",
   "execution_count": 4,
   "metadata": {},
   "outputs": [],
   "source": [
    "issue_date = Date(15, 5, 2010)\n",
    "maturity_date = Date(15, 5, 2027)\n",
    "coupon = 0.05\n",
    "freq_type = FrequencyTypes.SEMI_ANNUAL\n",
    "accrual_type = DayCountTypes.ACT_ACT_ICMA\n",
    "face = 100.0 # By setting the face to 100 we expect a price of par to be 100.0"
   ]
  },
  {
   "cell_type": "code",
   "execution_count": 5,
   "metadata": {},
   "outputs": [],
   "source": [
    "bond = Bond(issue_date, maturity_date, coupon, freq_type, accrual_type, face)"
   ]
  },
  {
   "cell_type": "code",
   "execution_count": 6,
   "metadata": {
    "tags": []
   },
   "outputs": [
    {
     "name": "stdout",
     "output_type": "stream",
     "text": [
      "OBJECT TYPE: Bond\n",
      "ISSUE DATE: 15-MAY-2010\n",
      "MATURITY DATE: 15-MAY-2027\n",
      "COUPON: 0.05\n",
      "FREQUENCY: FrequencyTypes.SEMI_ANNUAL\n",
      "ACCRUAL TYPE: DayCountTypes.ACT_ACT_ICMA\n",
      "FACE AMOUNT: 100.0\n"
     ]
    }
   ],
   "source": [
    "print(bond)"
   ]
  },
  {
   "cell_type": "code",
   "execution_count": 7,
   "metadata": {},
   "outputs": [],
   "source": [
    "valuation_date = Date(15, 5, 2020)"
   ]
  },
  {
   "cell_type": "code",
   "execution_count": 8,
   "metadata": {},
   "outputs": [
    {
     "name": "stdout",
     "output_type": "stream",
     "text": [
      " 15-MAY-2020          2.50 \n",
      " 15-NOV-2020          2.50 \n",
      " 15-MAY-2021          2.50 \n",
      " 15-NOV-2021          2.50 \n",
      " 15-MAY-2022          2.50 \n",
      " 15-NOV-2022          2.50 \n",
      " 15-MAY-2023          2.50 \n",
      " 15-NOV-2023          2.50 \n",
      " 15-MAY-2024          2.50 \n",
      " 15-NOV-2024          2.50 \n",
      " 15-MAY-2025          2.50 \n",
      " 15-NOV-2025          2.50 \n",
      " 15-MAY-2026          2.50 \n",
      " 15-NOV-2026          2.50 \n",
      " 15-MAY-2027        102.50 \n"
     ]
    }
   ],
   "source": [
    "bond.print_flows(valuation_date)"
   ]
  },
  {
   "cell_type": "markdown",
   "metadata": {},
   "source": [
    "## Create a Discount Curve"
   ]
  },
  {
   "cell_type": "markdown",
   "metadata": {},
   "source": [
    "I create a discount curve with a 5% discount rate."
   ]
  },
  {
   "cell_type": "code",
   "execution_count": 10,
   "metadata": {},
   "outputs": [],
   "source": [
    "discCurve = DiscountCurveFlat(valuation_date, 0.05, FrequencyTypes.SEMI_ANNUAL, DayCountTypes.THIRTY_360_BOND)"
   ]
  },
  {
   "cell_type": "markdown",
   "metadata": {},
   "source": [
    "## Create Survival Curve"
   ]
  },
  {
   "cell_type": "markdown",
   "metadata": {},
   "source": [
    "I create a curve with a 0% hazard rate, i.e. it is risk free."
   ]
  },
  {
   "cell_type": "code",
   "execution_count": 11,
   "metadata": {},
   "outputs": [],
   "source": [
    "h = 0.0"
   ]
  },
  {
   "cell_type": "code",
   "execution_count": 13,
   "metadata": {},
   "outputs": [],
   "source": [
    "survCurve = DiscountCurveFlat(valuation_date, h)"
   ]
  },
  {
   "cell_type": "code",
   "execution_count": 14,
   "metadata": {},
   "outputs": [],
   "source": [
    "recovery_rate = 0.0"
   ]
  },
  {
   "cell_type": "code",
   "execution_count": 15,
   "metadata": {},
   "outputs": [],
   "source": [
    "full_price = bond.full_price_from_survival_curve(valuation_date, discCurve, survCurve, recovery_rate)"
   ]
  },
  {
   "cell_type": "code",
   "execution_count": 16,
   "metadata": {},
   "outputs": [
    {
     "name": "stdout",
     "output_type": "stream",
     "text": [
      "FULL PRICE: 102.500000\n"
     ]
    }
   ],
   "source": [
    "print(\"FULL PRICE: %9.6f\" %full_price)"
   ]
  },
  {
   "cell_type": "code",
   "execution_count": 17,
   "metadata": {},
   "outputs": [],
   "source": [
    "clean_price = bond.clean_price_from_survival_curve(valuation_date, discCurve, survCurve, recovery_rate)"
   ]
  },
  {
   "cell_type": "code",
   "execution_count": 18,
   "metadata": {},
   "outputs": [
    {
     "name": "stdout",
     "output_type": "stream",
     "text": [
      "CLEAN PRICE: 100.000000\n"
     ]
    }
   ],
   "source": [
    "print(\"CLEAN PRICE: %9.6f\" %clean_price)"
   ]
  },
  {
   "cell_type": "markdown",
   "metadata": {},
   "source": [
    "The bond prices at par as expected."
   ]
  },
  {
   "cell_type": "markdown",
   "metadata": {},
   "source": [
    "## Non-Zero Default Risk"
   ]
  },
  {
   "cell_type": "markdown",
   "metadata": {},
   "source": [
    "Now I change the hazard rate."
   ]
  },
  {
   "cell_type": "code",
   "execution_count": 19,
   "metadata": {},
   "outputs": [],
   "source": [
    "h = 0.02"
   ]
  },
  {
   "cell_type": "code",
   "execution_count": 22,
   "metadata": {},
   "outputs": [],
   "source": [
    "survCurve = DiscountCurveFlat(valuation_date, h)"
   ]
  },
  {
   "cell_type": "code",
   "execution_count": 23,
   "metadata": {},
   "outputs": [],
   "source": [
    "clean_price = bond.clean_price_from_survival_curve(valuation_date, discCurve, survCurve, recovery_rate)"
   ]
  },
  {
   "cell_type": "code",
   "execution_count": 24,
   "metadata": {},
   "outputs": [
    {
     "name": "stdout",
     "output_type": "stream",
     "text": [
      "CLEAN PRICE: 88.774861\n"
     ]
    }
   ],
   "source": [
    "print(\"CLEAN PRICE: %9.6f\" %clean_price)"
   ]
  },
  {
   "cell_type": "markdown",
   "metadata": {},
   "source": [
    "The bond price falls as it should. Nopw let's make the recovery rate 40%"
   ]
  },
  {
   "cell_type": "code",
   "execution_count": 25,
   "metadata": {},
   "outputs": [],
   "source": [
    "recovery_rate = 0.40"
   ]
  },
  {
   "cell_type": "code",
   "execution_count": 26,
   "metadata": {},
   "outputs": [],
   "source": [
    "clean_price = bond.clean_price_from_survival_curve(valuation_date, discCurve, survCurve, recovery_rate)"
   ]
  },
  {
   "cell_type": "code",
   "execution_count": 27,
   "metadata": {},
   "outputs": [
    {
     "name": "stdout",
     "output_type": "stream",
     "text": [
      "CLEAN PRICE: 93.210160\n"
     ]
    }
   ],
   "source": [
    "print(\"CLEAN PRICE: %9.6f\" %clean_price)"
   ]
  },
  {
   "cell_type": "markdown",
   "metadata": {},
   "source": [
    "The price increases as more is recovered in default. What if we make the recovery rate 100% ?"
   ]
  },
  {
   "cell_type": "code",
   "execution_count": 28,
   "metadata": {},
   "outputs": [],
   "source": [
    "recovery_rate = 1.0"
   ]
  },
  {
   "cell_type": "code",
   "execution_count": 29,
   "metadata": {},
   "outputs": [],
   "source": [
    "clean_price = bond.clean_price_from_survival_curve(valuation_date, discCurve, survCurve, recovery_rate)"
   ]
  },
  {
   "cell_type": "code",
   "execution_count": 30,
   "metadata": {},
   "outputs": [
    {
     "name": "stdout",
     "output_type": "stream",
     "text": [
      "CLEAN PRICE: 99.863108\n"
     ]
    }
   ],
   "source": [
    "print(\"CLEAN PRICE: %9.6f\" %clean_price)"
   ]
  },
  {
   "cell_type": "markdown",
   "metadata": {},
   "source": [
    "The price goes up but not to par. This is because a default will still cause coupons to be lost as they are zero recovery."
   ]
  },
  {
   "cell_type": "markdown",
   "metadata": {},
   "source": [
    "## Option Adjusted Spread vs Credit Triangle"
   ]
  },
  {
   "cell_type": "markdown",
   "metadata": {},
   "source": [
    "One measure of credit spread is the OAS. We calculate it."
   ]
  },
  {
   "cell_type": "code",
   "execution_count": 31,
   "metadata": {},
   "outputs": [
    {
     "data": {
      "text/plain": [
       "2.342586226697817"
      ]
     },
     "execution_count": 31,
     "metadata": {},
     "output_type": "execute_result"
    }
   ],
   "source": [
    "bond.option_adjusted_spread(valuation_date, clean_price, discCurve) * 10000"
   ]
  },
  {
   "cell_type": "markdown",
   "metadata": {},
   "source": [
    "This is small as the recovery rate is 100%."
   ]
  },
  {
   "cell_type": "markdown",
   "metadata": {},
   "source": [
    "Note the credit triangle $S \\simeq h (1-R)$ which gives"
   ]
  },
  {
   "cell_type": "code",
   "execution_count": 32,
   "metadata": {},
   "outputs": [
    {
     "data": {
      "text/plain": [
       "0.0"
      ]
     },
     "execution_count": 32,
     "metadata": {},
     "output_type": "execute_result"
    }
   ],
   "source": [
    "h * (1.0 - recovery_rate) * 10000"
   ]
  },
  {
   "cell_type": "markdown",
   "metadata": {},
   "source": [
    "This is zero as the credit triangle ignores coupons."
   ]
  },
  {
   "cell_type": "markdown",
   "metadata": {},
   "source": [
    "Let's check the recovery dependence"
   ]
  },
  {
   "cell_type": "code",
   "execution_count": 33,
   "metadata": {},
   "outputs": [],
   "source": [
    "recovery_rates = np.linspace(0.0, 1.0, 10)"
   ]
  },
  {
   "cell_type": "code",
   "execution_count": 34,
   "metadata": {},
   "outputs": [],
   "source": [
    "clean_prices = bond.clean_price_from_survival_curve(valuation_date, discCurve, survCurve, recovery_rates)"
   ]
  },
  {
   "cell_type": "code",
   "execution_count": 35,
   "metadata": {},
   "outputs": [],
   "source": [
    "optAdjSpds = bond.option_adjusted_spread(valuation_date, clean_prices, discCurve) * 10000"
   ]
  },
  {
   "cell_type": "code",
   "execution_count": 36,
   "metadata": {},
   "outputs": [],
   "source": [
    "triangleSpds = h * (1-recovery_rates) * 10000"
   ]
  },
  {
   "cell_type": "code",
   "execution_count": 37,
   "metadata": {},
   "outputs": [
    {
     "data": {
      "text/plain": [
       "<matplotlib.legend.Legend at 0x1751d2cb1c0>"
      ]
     },
     "execution_count": 37,
     "metadata": {},
     "output_type": "execute_result"
    },
    {
     "data": {
      "image/png": "[encoded data removed]",
      "text/plain": [
       "<Figure size 576x432 with 1 Axes>"
      ]
     },
     "metadata": {
      "needs_background": "light"
     },
     "output_type": "display_data"
    }
   ],
   "source": [
    "plt.figure(figsize=(8,6))\n",
    "plt.plot(recovery_rates, optAdjSpds, label=\"OAS\")\n",
    "plt.plot(recovery_rates, triangleSpds, label=\"Credit Triangle\")\n",
    "plt.xlabel(\"Recovery Rates\")\n",
    "plt.ylabel(\"Spreads (bp)\")\n",
    "plt.grid()\n",
    "plt.legend()"
   ]
  },
  {
   "cell_type": "markdown",
   "metadata": {},
   "source": [
    "The credit triangle works well !"
   ]
  },
  {
   "cell_type": "markdown",
   "metadata": {},
   "source": [
    "Copyright (c) 2020 Dominic O'Kane"
   ]
  }
 ],
 "metadata": {
  "kernelspec": {
   "display_name": "Python 3",
   "language": "python",
   "name": "python3"
  },
  "language_info": {
   "codemirror_mode": {
    "name": "ipython",
    "version": 3
   },
   "file_extension": ".py",
   "mimetype": "text/x-python",
   "name": "python",
   "nbconvert_exporter": "python",
   "pygments_lexer": "ipython3",
   "version": "3.8.8"
  }
 },
 "nbformat": 4,
 "nbformat_minor": 2
}
