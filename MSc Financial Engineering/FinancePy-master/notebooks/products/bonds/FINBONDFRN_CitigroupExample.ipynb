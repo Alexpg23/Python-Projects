{
 "cells": [
  {
   "cell_type": "markdown",
   "metadata": {},
   "source": [
    "# CITIGROUP FLOATING RATE NOTE ANALYSIS"
   ]
  },
  {
   "cell_type": "markdown",
   "metadata": {},
   "source": [
    "This is an analysis of floating rate notes. "
   ]
  },
  {
   "cell_type": "markdown",
   "metadata": {},
   "source": [
    "Based on an example of a Citigroup FRN from https://data.bloomberglp.com/bat/sites/3/2017/07/SF-2017_Paul-Fjeldsted.pdf"
   ]
  },
  {
   "cell_type": "code",
   "execution_count": 1,
   "metadata": {},
   "outputs": [],
   "source": [
    "import numpy as np\n",
    "import matplotlib.pyplot as plt"
   ]
  },
  {
   "cell_type": "code",
   "execution_count": 2,
   "metadata": {},
   "outputs": [
    {
     "name": "stdout",
     "output_type": "stream",
     "text": [
      "####################################################################\n",
      "# FINANCEPY BETA Version 0.193 - This build:  19 Apr 2021 at 22:33 #\n",
      "#      This software is distributed FREE & WITHOUT ANY WARRANTY    #\n",
      "# For info and disclaimer - https://github.com/domokane/FinancePy  #\n",
      "#      Send any bug reports or comments to quant@financepy.com     #\n",
      "####################################################################\n",
      "\n"
     ]
    }
   ],
   "source": [
    "from financepy.products.rates import *\n",
    "from financepy.products.bonds import *\n",
    "from financepy.utils import *"
   ]
  },
  {
   "cell_type": "markdown",
   "metadata": {},
   "source": [
    "## Define the Details of the FRN"
   ]
  },
  {
   "cell_type": "code",
   "execution_count": 3,
   "metadata": {},
   "outputs": [],
   "source": [
    "issue_date = Date(10, 11, 2015)\n",
    "maturity_date = Date(10, 11, 2021)\n",
    "quoted_margin = 0.0025\n",
    "freq_type = FrequencyTypes.QUARTERLY\n",
    "accrual_type = DayCountTypes.THIRTY_360_BOND\n",
    "face = ONE_MILLION"
   ]
  },
  {
   "cell_type": "code",
   "execution_count": 4,
   "metadata": {},
   "outputs": [],
   "source": [
    "bond = BondFRN(issue_date, maturity_date, quoted_margin, freq_type, accrual_type, face)"
   ]
  },
  {
   "cell_type": "code",
   "execution_count": 5,
   "metadata": {},
   "outputs": [
    {
     "name": "stdout",
     "output_type": "stream",
     "text": [
      "OBJECT TYPE: BondFRN\n",
      "ISSUE DATE: 10-NOV-2015\n",
      "MATURITY DATE: 10-NOV-2021\n",
      "QUOTED MARGIN (bp): 25.0\n",
      "FREQUENCY: FrequencyTypes.QUARTERLY\n",
      "ACCRUAL TYPE: DayCountTypes.THIRTY_360_BOND\n",
      "FACE AMOUNT: 1000000\n",
      "\n"
     ]
    }
   ],
   "source": [
    "print(bond)"
   ]
  },
  {
   "cell_type": "code",
   "execution_count": 6,
   "metadata": {},
   "outputs": [],
   "source": [
    "settlement_date = Date(21, 7, 2017)"
   ]
  },
  {
   "cell_type": "code",
   "execution_count": 7,
   "metadata": {
    "scrolled": false
   },
   "outputs": [
    {
     "name": "stdout",
     "output_type": "stream",
     "text": [
      "10-FEB-2016\n",
      "10-MAY-2016\n",
      "10-AUG-2016\n",
      "10-NOV-2016\n",
      "10-FEB-2017\n",
      "10-MAY-2017\n",
      "10-AUG-2017\n",
      "10-NOV-2017\n",
      "10-FEB-2018\n",
      "10-MAY-2018\n",
      "10-AUG-2018\n",
      "10-NOV-2018\n",
      "10-FEB-2019\n",
      "10-MAY-2019\n",
      "10-AUG-2019\n",
      "10-NOV-2019\n",
      "10-FEB-2020\n",
      "10-MAY-2020\n",
      "10-AUG-2020\n",
      "10-NOV-2020\n",
      "10-FEB-2021\n",
      "10-MAY-2021\n",
      "10-AUG-2021\n",
      "10-NOV-2021\n"
     ]
    }
   ],
   "source": [
    "bond.print_flows(settlement_date)"
   ]
  },
  {
   "cell_type": "markdown",
   "metadata": {},
   "source": [
    "## Analysis"
   ]
  },
  {
   "cell_type": "markdown",
   "metadata": {},
   "source": [
    "The simplest analysis of an FRN considers 3 Ibor rates"
   ]
  },
  {
   "cell_type": "code",
   "execution_count": 8,
   "metadata": {},
   "outputs": [],
   "source": [
    "next_coupon = 0.01434560\n",
    "current_ibor = 0.01210534\n",
    "future_ibors = 0.01305220"
   ]
  },
  {
   "cell_type": "code",
   "execution_count": 9,
   "metadata": {},
   "outputs": [],
   "source": [
    "clean_price = 96.793"
   ]
  },
  {
   "cell_type": "code",
   "execution_count": 10,
   "metadata": {
    "scrolled": true
   },
   "outputs": [
    {
     "name": "stdout",
     "output_type": "stream",
     "text": [
      "DISCOUNT MARGIN: 103.518944 bps\n"
     ]
    }
   ],
   "source": [
    "dm = bond.discount_margin(settlement_date, next_coupon, current_ibor, future_ibors, clean_price)\n",
    "print(\"DISCOUNT MARGIN: %9.6f bps\"% (dm*10000))"
   ]
  },
  {
   "cell_type": "code",
   "execution_count": 11,
   "metadata": {},
   "outputs": [
    {
     "name": "stdout",
     "output_type": "stream",
     "text": [
      "FULL PRICE FROM DM:    97.075927 \n"
     ]
    }
   ],
   "source": [
    "full_price = bond.full_price_from_dm(settlement_date, next_coupon, current_ibor, future_ibors, dm)\n",
    "print(\"FULL PRICE FROM DM: %12.6f \"% full_price)"
   ]
  },
  {
   "cell_type": "code",
   "execution_count": 12,
   "metadata": {},
   "outputs": [
    {
     "name": "stdout",
     "output_type": "stream",
     "text": [
      "Previous Coupon Date: 10-MAY-2017\n"
     ]
    }
   ],
   "source": [
    "prevCouponDt = bond._pcd\n",
    "print(\"Previous Coupon Date: %s\"% str(prevCouponDt))"
   ]
  },
  {
   "cell_type": "code",
   "execution_count": 13,
   "metadata": {},
   "outputs": [
    {
     "name": "stdout",
     "output_type": "stream",
     "text": [
      "Accrued Days:  71.00000\n"
     ]
    }
   ],
   "source": [
    "accddays = bond._accrued_days\n",
    "print(\"Accrued Days: %9.5f\"% accddays)"
   ]
  },
  {
   "cell_type": "code",
   "execution_count": 14,
   "metadata": {},
   "outputs": [
    {
     "name": "stdout",
     "output_type": "stream",
     "text": [
      "PRINCIPAL FROM DM: 967930.000000 \n"
     ]
    }
   ],
   "source": [
    "principal = bond.principal(settlement_date, next_coupon, current_ibor, future_ibors, dm)\n",
    "print(\"PRINCIPAL FROM DM: %12.6f \"% principal)"
   ]
  },
  {
   "cell_type": "code",
   "execution_count": 15,
   "metadata": {},
   "outputs": [
    {
     "name": "stdout",
     "output_type": "stream",
     "text": [
      "Accrued Amount:   2829.27\n"
     ]
    }
   ],
   "source": [
    "accdAmount = bond._accrued_interest\n",
    "print(\"Accrued Amount: %9.2f\"% accdAmount)"
   ]
  },
  {
   "cell_type": "code",
   "execution_count": 16,
   "metadata": {},
   "outputs": [
    {
     "data": {
      "text/plain": [
       "2829.271111111111"
      ]
     },
     "execution_count": 16,
     "metadata": {},
     "output_type": "execute_result"
    }
   ],
   "source": [
    "bond._accrued_interest"
   ]
  },
  {
   "cell_type": "markdown",
   "metadata": {},
   "source": [
    "## Determine the Rate Duration and Convexity"
   ]
  },
  {
   "cell_type": "code",
   "execution_count": 17,
   "metadata": {},
   "outputs": [
    {
     "name": "stdout",
     "output_type": "stream",
     "text": [
      "Dollar Duration:   5.11739\n"
     ]
    }
   ],
   "source": [
    "duration = bond.dollar_duration(settlement_date, next_coupon, current_ibor, future_ibors, dm)\n",
    "print(\"Dollar Duration: %9.5f\" % duration)"
   ]
  },
  {
   "cell_type": "code",
   "execution_count": 18,
   "metadata": {},
   "outputs": [
    {
     "name": "stdout",
     "output_type": "stream",
     "text": [
      "Modified Duration:   0.05272\n"
     ]
    }
   ],
   "source": [
    "modified_duration = bond.modified_duration(settlement_date, next_coupon, current_ibor, future_ibors, dm)\n",
    "print(\"Modified Duration: %9.5f\" % modified_duration)"
   ]
  },
  {
   "cell_type": "code",
   "execution_count": 19,
   "metadata": {},
   "outputs": [
    {
     "name": "stdout",
     "output_type": "stream",
     "text": [
      "Macauley Duration:   0.05304\n"
     ]
    }
   ],
   "source": [
    "macauley_duration = bond.macauley_duration(settlement_date, next_coupon, current_ibor, future_ibors, dm)\n",
    "print(\"Macauley Duration: %9.5f\" % macauley_duration)"
   ]
  },
  {
   "cell_type": "code",
   "execution_count": 20,
   "metadata": {},
   "outputs": [
    {
     "name": "stdout",
     "output_type": "stream",
     "text": [
      "Convexity:  0.000056\n"
     ]
    }
   ],
   "source": [
    "convexity = bond.convexity_from_dm(settlement_date, next_coupon, current_ibor, future_ibors, dm)\n",
    "print(\"Convexity: %9.6f\" % convexity)"
   ]
  },
  {
   "cell_type": "markdown",
   "metadata": {},
   "source": [
    "## Determine the Credit Duration and Convexity"
   ]
  },
  {
   "cell_type": "code",
   "execution_count": 21,
   "metadata": {},
   "outputs": [
    {
     "name": "stdout",
     "output_type": "stream",
     "text": [
      "Dollar Credit Duration: 401.00825\n"
     ]
    }
   ],
   "source": [
    "duration = bond.dollar_credit_duration(settlement_date, next_coupon, current_ibor, future_ibors, dm)\n",
    "print(\"Dollar Credit Duration: %9.5f\" % duration)"
   ]
  },
  {
   "cell_type": "code",
   "execution_count": 22,
   "metadata": {},
   "outputs": [
    {
     "name": "stdout",
     "output_type": "stream",
     "text": [
      "Modified Credit Duration:   4.13087\n"
     ]
    }
   ],
   "source": [
    "modified_duration = bond.modified_credit_duration(settlement_date, next_coupon, current_ibor, future_ibors, dm)\n",
    "print(\"Modified Credit Duration: %9.5f\" % modified_duration)"
   ]
  },
  {
   "cell_type": "markdown",
   "metadata": {},
   "source": [
    "Copyright (c) 2020 Dominic O'Kane"
   ]
  }
 ],
 "metadata": {
  "kernelspec": {
   "display_name": "Python 3",
   "language": "python",
   "name": "python3"
  },
  "language_info": {
   "codemirror_mode": {
    "name": "ipython",
    "version": 3
   },
   "file_extension": ".py",
   "mimetype": "text/x-python",
   "name": "python",
   "nbconvert_exporter": "python",
   "pygments_lexer": "ipython3",
   "version": "3.8.8"
  }
 },
 "nbformat": 4,
 "nbformat_minor": 2
}
