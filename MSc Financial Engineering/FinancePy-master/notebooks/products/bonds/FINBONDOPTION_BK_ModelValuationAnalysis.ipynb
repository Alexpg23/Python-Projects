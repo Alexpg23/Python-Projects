{
 "cells": [
  {
   "cell_type": "markdown",
   "metadata": {},
   "source": [
    "# Bond Option Pricing using Black-Karasinski Model"
   ]
  },
  {
   "cell_type": "markdown",
   "metadata": {},
   "source": [
    "Value an option on a coupon paying bond using the Black-Karasinski model"
   ]
  },
  {
   "cell_type": "code",
   "execution_count": 1,
   "metadata": {},
   "outputs": [],
   "source": [
    "import numpy as np\n",
    "import matplotlib.pyplot as plt\n",
    "import time"
   ]
  },
  {
   "cell_type": "code",
   "execution_count": 2,
   "metadata": {},
   "outputs": [
    {
     "name": "stdout",
     "output_type": "stream",
     "text": [
      "####################################################################\n",
      "# FINANCEPY BETA Version 0.200 - This build:  09 Jul 2021 at 15:18 #\n",
      "# **** NEW PEP8 COMPLIANT VERSION -- PLEASE UPDATE YOUR CODE  **** #\n",
      "#      This software is distributed FREE & WITHOUT ANY WARRANTY    #\n",
      "# For info and disclaimer - https://github.com/domokane/FinancePy  #\n",
      "#      Send any bug reports or comments to quant@financepy.com     #\n",
      "####################################################################\n",
      "\n"
     ]
    }
   ],
   "source": [
    "from financepy.utils import *\n",
    "from financepy.market.curves import *\n",
    "from financepy.products.rates import *\n",
    "from financepy.models import *\n",
    "from financepy.products.bonds import *"
   ]
  },
  {
   "cell_type": "markdown",
   "metadata": {},
   "source": [
    "## Bond Option Valuation"
   ]
  },
  {
   "cell_type": "code",
   "execution_count": 3,
   "metadata": {},
   "outputs": [],
   "source": [
    "valuation_date = Date(1, 12, 2019)\n",
    "settlement_date = valuation_date"
   ]
  },
  {
   "cell_type": "markdown",
   "metadata": {},
   "source": [
    "Set up discount curve"
   ]
  },
  {
   "cell_type": "code",
   "execution_count": 5,
   "metadata": {},
   "outputs": [],
   "source": [
    "dcType = DayCountTypes.THIRTY_360_BOND\n",
    "fixedFreq = FrequencyTypes.SEMI_ANNUAL\n",
    "swapType = SwapTypes.PAY\n",
    "swap1 = IborSwap(settlement_date,\"1Y\",swapType,0.0500,fixedFreq,dcType)\n",
    "swap2 = IborSwap(settlement_date,\"3Y\",swapType,0.0500,fixedFreq,dcType)\n",
    "swap3 = IborSwap(settlement_date,\"5Y\",swapType,0.0500,fixedFreq,dcType)\n",
    "swap4 = IborSwap(settlement_date,\"7Y\",swapType,0.0500,fixedFreq,dcType)\n",
    "swap5 = IborSwap(settlement_date,\"10Y\",swapType,0.0500,fixedFreq,dcType)\n",
    "swaps = [swap1, swap2, swap3, swap4, swap5]\n",
    "\n",
    "libor_curve = IborSingleCurve(valuation_date, [], [], swaps)"
   ]
  },
  {
   "cell_type": "markdown",
   "metadata": {},
   "source": [
    "## Set up the Bond Option"
   ]
  },
  {
   "cell_type": "markdown",
   "metadata": {},
   "source": [
    "First create the bond"
   ]
  },
  {
   "cell_type": "code",
   "execution_count": 6,
   "metadata": {},
   "outputs": [],
   "source": [
    "issue_date = Date(1, 12, 2015)\n",
    "maturity_date = Date(1, 12, 2029)\n",
    "coupon = 0.05\n",
    "freq_type = FrequencyTypes.SEMI_ANNUAL\n",
    "accrual_type = DayCountTypes.THIRTY_360_BOND\n",
    "bond = Bond(issue_date, maturity_date, coupon, freq_type, accrual_type)"
   ]
  },
  {
   "cell_type": "markdown",
   "metadata": {},
   "source": [
    "Let's first price the bond on the libor curve"
   ]
  },
  {
   "cell_type": "code",
   "execution_count": 7,
   "metadata": {},
   "outputs": [
    {
     "name": "stdout",
     "output_type": "stream",
     "text": [
      "Fixed Income Price: 99.99996342785461\n"
     ]
    }
   ],
   "source": [
    "price = bond.clean_price_from_discount_curve(settlement_date, libor_curve)\n",
    "print(\"Fixed Income Price:\", price)"
   ]
  },
  {
   "cell_type": "markdown",
   "metadata": {},
   "source": [
    "Then define and create the option"
   ]
  },
  {
   "cell_type": "code",
   "execution_count": 8,
   "metadata": {},
   "outputs": [],
   "source": [
    "expiry_date = settlement_date.add_tenor(\"18m\")\n",
    "strike_price = 90.0\n",
    "face = 100.0\n",
    "option_type = BondOptionTypes.AMERICAN_CALL"
   ]
  },
  {
   "cell_type": "markdown",
   "metadata": {},
   "source": [
    "### Black Karasinski Model"
   ]
  },
  {
   "cell_type": "markdown",
   "metadata": {},
   "source": [
    "Set the model parameters"
   ]
  },
  {
   "cell_type": "code",
   "execution_count": 9,
   "metadata": {},
   "outputs": [],
   "source": [
    "sigma = 0.20\n",
    "a = 0.05\n",
    "bkModel = BKTree(sigma, a)"
   ]
  },
  {
   "cell_type": "code",
   "execution_count": 10,
   "metadata": {},
   "outputs": [],
   "source": [
    "strikes = [80, 85, 90, 95, 100, 105, 110, 115, 120]"
   ]
  },
  {
   "cell_type": "code",
   "execution_count": 11,
   "metadata": {},
   "outputs": [
    {
     "name": "stdout",
     "output_type": "stream",
     "text": [
      "K:  80.00000 EUR_CALL:  18.57681  AMER_CALL:  19.99996  EUR_PUT:   0.01048  AMER_PUT:   0.01112\n",
      "K:  85.00000 EUR_CALL:  13.98129  AMER_CALL:  14.99996  EUR_PUT:   0.05829  AMER_PUT:   0.06172\n",
      "K:  90.00000 EUR_CALL:   9.51980  AMER_CALL:  10.17521  EUR_PUT:   0.24015  AMER_PUT:   0.26005\n",
      "K:  95.00000 EUR_CALL:   5.53971  AMER_CALL:   5.91742  EUR_PUT:   0.90339  AMER_PUT:   0.97533\n",
      "K: 100.00000 EUR_CALL:   2.44103  AMER_CALL:   2.63522  EUR_PUT:   2.44806  AMER_PUT:   2.65325\n",
      "K: 105.00000 EUR_CALL:   0.73622  AMER_CALL:   0.79655  EUR_PUT:   5.38659  AMER_PUT:   5.80863\n",
      "K: 110.00000 EUR_CALL:   0.11512  AMER_CALL:   0.12490  EUR_PUT:   9.40882  AMER_PUT:  10.12631\n",
      "K: 115.00000 EUR_CALL:   0.00673  AMER_CALL:   0.00722  EUR_PUT:  13.94377  AMER_PUT:  15.00004\n",
      "K: 120.00000 EUR_CALL:   0.00006  AMER_CALL:   0.00006  EUR_PUT:  18.58044  AMER_PUT:  20.00004\n"
     ]
    }
   ],
   "source": [
    "for K in strikes:\n",
    "    europeanCallBondOption = BondOption(bond, expiry_date, K, face, OptionTypes.EUROPEAN_CALL)\n",
    "    v_ec = europeanCallBondOption.value(settlement_date, libor_curve, bkModel)\n",
    "    americanCallBondOption = BondOption(bond, expiry_date, K, face, OptionTypes.AMERICAN_CALL)\n",
    "    v_ac = americanCallBondOption.value(settlement_date, libor_curve, bkModel)\n",
    "    europeanPutBondOption = BondOption(bond, expiry_date, K, face, OptionTypes.EUROPEAN_PUT)\n",
    "    v_ep = europeanPutBondOption.value(settlement_date, libor_curve, bkModel)\n",
    "    americanPutBondOption = BondOption(bond, expiry_date, K, face, OptionTypes.AMERICAN_PUT)\n",
    "    v_ap = americanPutBondOption.value(settlement_date, libor_curve, bkModel)\n",
    "    \n",
    "    print(\"K: %9.5f EUR_CALL: %9.5f  AMER_CALL: %9.5f  EUR_PUT: %9.5f  AMER_PUT: %9.5f\" %(K, v_ec, v_ac, v_ep, v_ap))"
   ]
  },
  {
   "cell_type": "markdown",
   "metadata": {},
   "source": [
    "## Convergence Testing - Black-Karasinski"
   ]
  },
  {
   "cell_type": "markdown",
   "metadata": {},
   "source": [
    "It is important that the tree price is stable to the number of tree steps. This can be a challenge when pricing American optionality on bonds due to the payment of coupons and the effect of accrued interest on the clean bond price."
   ]
  },
  {
   "cell_type": "code",
   "execution_count": 12,
   "metadata": {},
   "outputs": [],
   "source": [
    "discount_curve = DiscountCurveFlat(valuation_date, 0.05)"
   ]
  },
  {
   "cell_type": "code",
   "execution_count": 13,
   "metadata": {},
   "outputs": [],
   "source": [
    "issue_date = Date(1, 9, 2004)\n",
    "maturity_date = Date(1, 9, 2025)\n",
    "coupon = 0.05\n",
    "freq_type = FrequencyTypes.ANNUAL\n",
    "accrual_type = DayCountTypes.ACT_ACT_ICMA\n",
    "bond = Bond(issue_date, maturity_date, coupon, freq_type, accrual_type)\n",
    "expiry_date = settlement_date.add_tenor(\"18m\")\n",
    "face = 100.0"
   ]
  },
  {
   "cell_type": "code",
   "execution_count": 14,
   "metadata": {},
   "outputs": [],
   "source": [
    "num_stepsVector = range(50, 500, 10)"
   ]
  },
  {
   "cell_type": "code",
   "execution_count": 15,
   "metadata": {},
   "outputs": [],
   "source": [
    "sigma = 0.00001\n",
    "a = 0.05"
   ]
  },
  {
   "cell_type": "code",
   "execution_count": 16,
   "metadata": {},
   "outputs": [],
   "source": [
    "K = 102.0"
   ]
  },
  {
   "cell_type": "code",
   "execution_count": 17,
   "metadata": {
    "scrolled": false
   },
   "outputs": [],
   "source": [
    "vec_ec = []\n",
    "vec_ac = []\n",
    "vec_ep = []\n",
    "vec_ap = []\n",
    "\n",
    "for num_steps in num_stepsVector:\n",
    "    \n",
    "    bkModel = BKTree(sigma, a, num_steps)\n",
    "    \n",
    "    europeanCallBondOption = BondOption(bond, expiry_date, K, face, OptionTypes.EUROPEAN_CALL)\n",
    "    v_ec = europeanCallBondOption.value(settlement_date, discount_curve, bkModel)\n",
    "\n",
    "    americanCallBondOption = BondOption(bond, expiry_date, K, face, OptionTypes.AMERICAN_CALL)\n",
    "    v_ac = americanCallBondOption.value(settlement_date, discount_curve, bkModel)\n",
    "    \n",
    "    europeanPutBondOption = BondOption(bond, expiry_date, K, face, OptionTypes.EUROPEAN_PUT)\n",
    "    v_ep = europeanPutBondOption.value(settlement_date, discount_curve, bkModel)\n",
    "    \n",
    "    americanPutBondOption = BondOption(bond, expiry_date, K, face, OptionTypes.AMERICAN_PUT)\n",
    "    v_ap = americanPutBondOption.value(settlement_date, discount_curve, bkModel)\n",
    "    \n",
    "    # print(\"%d %9.5f %9.5f %9.5f %9.5f\"%(num_steps, v_ec, v_ac, v_ep, v_ap))\n",
    "    vec_ec.append(v_ec)\n",
    "    vec_ac.append(v_ac)\n",
    "    vec_ep.append(v_ep)\n",
    "    vec_ap.append(v_ap)"
   ]
  },
  {
   "cell_type": "code",
   "execution_count": 18,
   "metadata": {},
   "outputs": [
    {
     "data": {
      "image/png": "[encoded data removed]",
      "text/plain": [
       "<Figure size 432x288 with 1 Axes>"
      ]
     },
     "metadata": {
      "needs_background": "light"
     },
     "output_type": "display_data"
    }
   ],
   "source": [
    "plt.plot(num_stepsVector,vec_ec, label=\"European Bond Call\")\n",
    "plt.legend();"
   ]
  },
  {
   "cell_type": "code",
   "execution_count": 19,
   "metadata": {},
   "outputs": [
    {
     "data": {
      "image/png": "[encoded data removed]",
      "text/plain": [
       "<Figure size 432x288 with 1 Axes>"
      ]
     },
     "metadata": {
      "needs_background": "light"
     },
     "output_type": "display_data"
    }
   ],
   "source": [
    "plt.plot(num_stepsVector,vec_ac, label=\"American Bond Call\")\n",
    "plt.legend();"
   ]
  },
  {
   "cell_type": "code",
   "execution_count": 20,
   "metadata": {},
   "outputs": [
    {
     "data": {
      "image/png": "[encoded data removed]",
      "text/plain": [
       "<Figure size 432x288 with 1 Axes>"
      ]
     },
     "metadata": {
      "needs_background": "light"
     },
     "output_type": "display_data"
    }
   ],
   "source": [
    "plt.plot(num_stepsVector,vec_ep, label=\"European Bond Put\")\n",
    "plt.legend();"
   ]
  },
  {
   "cell_type": "code",
   "execution_count": 21,
   "metadata": {},
   "outputs": [
    {
     "data": {
      "image/png": "[encoded data removed]",
      "text/plain": [
       "<Figure size 432x288 with 1 Axes>"
      ]
     },
     "metadata": {
      "needs_background": "light"
     },
     "output_type": "display_data"
    }
   ],
   "source": [
    "plt.plot(num_stepsVector,vec_ap, label=\"American Bond Put\")\n",
    "plt.legend();"
   ]
  },
  {
   "cell_type": "markdown",
   "metadata": {},
   "source": [
    "Copyright (c) 2020 Dominic O'Kane"
   ]
  }
 ],
 "metadata": {
  "kernelspec": {
   "display_name": "Python 3",
   "language": "python",
   "name": "python3"
  },
  "language_info": {
   "codemirror_mode": {
    "name": "ipython",
    "version": 3
   },
   "file_extension": ".py",
   "mimetype": "text/x-python",
   "name": "python",
   "nbconvert_exporter": "python",
   "pygments_lexer": "ipython3",
   "version": "3.8.5"
  }
 },
 "nbformat": 4,
 "nbformat_minor": 2
}
