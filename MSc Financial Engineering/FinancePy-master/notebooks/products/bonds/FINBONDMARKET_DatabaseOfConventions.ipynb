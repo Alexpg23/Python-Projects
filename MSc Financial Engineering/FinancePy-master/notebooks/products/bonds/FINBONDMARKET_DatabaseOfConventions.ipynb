{
 "cells": [
  {
   "cell_type": "markdown",
   "metadata": {},
   "source": [
    "# BOND MARKET CONVENTIONS"
   ]
  },
  {
   "cell_type": "markdown",
   "metadata": {},
   "source": [
    "You can get Government Bond Market conventions for various countries from FinancePy. They are not guaranteed accurate as they can change so please see them as advisory. Contact me if you see any errors."
   ]
  },
  {
   "cell_type": "code",
   "execution_count": 1,
   "metadata": {
    "scrolled": true
   },
   "outputs": [
    {
     "name": "stdout",
     "output_type": "stream",
     "text": [
      "####################################################################\n",
      "# FINANCEPY BETA Version 0.193 - This build:  20 Apr 2021 at 10:38 #\n",
      "#      This software is distributed FREE & WITHOUT ANY WARRANTY    #\n",
      "# For info and disclaimer - https://github.com/domokane/FinancePy  #\n",
      "#      Send any bug reports or comments to quant@financepy.com     #\n",
      "####################################################################\n",
      "\n"
     ]
    }
   ],
   "source": [
    "from financepy.utils.day_count import DayCountTypes\n",
    "from financepy.utils.date import Date\n",
    "from financepy.products.bonds.bond_market import get_bond_market_conventions, BondMarkets"
   ]
  },
  {
   "cell_type": "markdown",
   "metadata": {},
   "source": [
    "First we get a list of the markets available. The order is EU and then non-EU"
   ]
  },
  {
   "cell_type": "code",
   "execution_count": 2,
   "metadata": {
    "scrolled": false
   },
   "outputs": [
    {
     "name": "stdout",
     "output_type": "stream",
     "text": [
      "AUSTRIA\n",
      "BELGIUM\n",
      "CYPRUS\n",
      "ESTONIA\n",
      "FINLAND\n",
      "FRANCE\n",
      "GERMANY\n",
      "GREECE\n",
      "IRELAND\n",
      "ITALY\n",
      "LATVIA\n",
      "LITHUANIA\n",
      "LUXEMBOURG\n",
      "MALTA\n",
      "NETHERLANDS\n",
      "PORTUGAL\n",
      "SLOVAKIA\n",
      "SLOVENIA\n",
      "SPAIN\n",
      "ESM\n",
      "EFSF\n",
      "BULGARIA\n",
      "CROATIA\n",
      "CZECH_REPUBLIC\n",
      "DENMARK\n",
      "HUNGARY\n",
      "POLAND\n",
      "ROMANIA\n",
      "SWEDEN\n",
      "JAPAN\n",
      "SWITZERLAND\n",
      "UNITED_KINGDOM\n",
      "UNITED_STATES\n",
      "AUSTRALIA\n",
      "NEW_ZEALAND\n",
      "NORWAY\n",
      "SOUTH_AFRICA\n"
     ]
    }
   ],
   "source": [
    "for country in BondMarkets:\n",
    "    print(country.name)"
   ]
  },
  {
   "cell_type": "markdown",
   "metadata": {},
   "source": [
    "There is a function to get the accrual convention, the annual_frequency and the settlement period for each"
   ]
  },
  {
   "cell_type": "code",
   "execution_count": 4,
   "metadata": {
    "scrolled": false
   },
   "outputs": [
    {
     "name": "stdout",
     "output_type": "stream",
     "text": [
      "             COUNTRY           ACCRUED            FREQ    SET_DAYS EX_DIV_DAYS   CALENDAR\n",
      "             AUSTRIA      ACT_ACT_ICMA          ANNUAL           2          0       None\n",
      "             BELGIUM      ACT_ACT_ICMA          ANNUAL           2          0       None\n",
      "              CYPRUS      ACT_ACT_ICMA     SEMI_ANNUAL           2          0       None\n",
      "             ESTONIA      ACT_ACT_ICMA          ANNUAL           2          0       None\n",
      "             FINLAND      ACT_ACT_ICMA          ANNUAL           2          0       None\n",
      "              FRANCE      ACT_ACT_ICMA          ANNUAL           2          0       None\n",
      "             GERMANY      ACT_ACT_ICMA          ANNUAL           2          0       None\n",
      "              GREECE      ACT_ACT_ICMA          ANNUAL           3          0       None\n",
      "             IRELAND      ACT_ACT_ICMA          ANNUAL           2          0       None\n",
      "               ITALY      ACT_ACT_ICMA     SEMI_ANNUAL           2          0       None\n",
      "              LATVIA      ACT_ACT_ICMA          ANNUAL           2          0       None\n",
      "           LITHUANIA      ACT_ACT_ICMA          ANNUAL           1          0       None\n",
      "          LUXEMBOURG      ACT_ACT_ICMA          ANNUAL           2          0       None\n",
      "               MALTA      ACT_ACT_ICMA     SEMI_ANNUAL           2          0       None\n",
      "         NETHERLANDS      ACT_ACT_ICMA          ANNUAL           2          0       None\n",
      "            PORTUGAL      ACT_ACT_ICMA          ANNUAL           2          0       None\n",
      "            SLOVAKIA      ACT_ACT_ICMA          ANNUAL           2          0       None\n",
      "            SLOVENIA      ACT_ACT_ICMA          ANNUAL           2          0       None\n",
      "               SPAIN      ACT_ACT_ICMA          ANNUAL           2          0       None\n",
      "                 ESM      ACT_ACT_ICMA          ANNUAL           2          0       None\n",
      "                EFSF      ACT_ACT_ICMA          ANNUAL           2          0       None\n",
      "            BULGARIA      ACT_ACT_ICMA     SEMI_ANNUAL           0          0       None\n",
      "             CROATIA      ACT_ACT_ICMA     SEMI_ANNUAL           3          0       None\n",
      "      CZECH_REPUBLIC      ACT_ACT_ICMA     SEMI_ANNUAL           2          0       None\n",
      "             DENMARK      ACT_ACT_ICMA          ANNUAL           2          0       None\n",
      "             HUNGARY      ACT_ACT_ICMA          ANNUAL           2          0       None\n",
      "              POLAND      ACT_ACT_ICMA     SEMI_ANNUAL           2          0       None\n",
      "             ROMANIA      ACT_ACT_ICMA     SEMI_ANNUAL           2          0       None\n",
      "              SWEDEN      THIRTY_E_360          ANNUAL           2          0       None\n",
      "               JAPAN      ACT_ACT_ICMA          ANNUAL           2          0       None\n",
      "         SWITZERLAND      ACT_ACT_ICMA          ANNUAL           2          0       None\n",
      "      UNITED_KINGDOM      ACT_ACT_ICMA     SEMI_ANNUAL           1          6 CalendarTypes.UNITED_KINGDOM\n",
      "       UNITED_STATES      ACT_ACT_ICMA     SEMI_ANNUAL           2          0       None\n",
      "           AUSTRALIA      ACT_ACT_ICMA          ANNUAL           2          7 CalendarTypes.NONE\n",
      "Unknown Country: BondMarkets.NEW_ZEALAND\n",
      "Unknown Country: BondMarkets.NORWAY\n",
      "        SOUTH_AFRICA      ACT_ACT_ICMA          ANNUAL           2         10 CalendarTypes.NONE\n"
     ]
    }
   ],
   "source": [
    "print(\"%20s %17s %15s %11s %10s %10s\" % (\"COUNTRY\",\"ACCRUED\",\"FREQ\",\"SET_DAYS\",\"EX_DIV_DAYS\",\"CALENDAR\"))\n",
    "for country in BondMarkets:\n",
    "\n",
    "    (accrual_type, frequencyType, settlementDays, exDiv, cal) = get_bond_market_conventions(country)\n",
    "    \n",
    "    if accrual_type is not None:\n",
    "        print(\"%20s %17s %15s %11d %10d %10s\" %(country.name, accrual_type.name, frequencyType.name, \n",
    "                                           settlementDays, exDiv, cal))"
   ]
  },
  {
   "cell_type": "markdown",
   "metadata": {},
   "source": [
    "Copyright (c) 2019, Dominic O'Kane "
   ]
  },
  {
   "cell_type": "code",
   "execution_count": null,
   "metadata": {},
   "outputs": [],
   "source": []
  }
 ],
 "metadata": {
  "kernelspec": {
   "display_name": "Python 3",
   "language": "python",
   "name": "python3"
  },
  "language_info": {
   "codemirror_mode": {
    "name": "ipython",
    "version": 3
   },
   "file_extension": ".py",
   "mimetype": "text/x-python",
   "name": "python",
   "nbconvert_exporter": "python",
   "pygments_lexer": "ipython3",
   "version": "3.8.8"
  }
 },
 "nbformat": 4,
 "nbformat_minor": 2
}
