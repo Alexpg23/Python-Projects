{
 "cells": [
  {
   "cell_type": "markdown",
   "metadata": {},
   "source": [
    "# Defining a Fixed-Floating Interest Rate Swap"
   ]
  },
  {
   "cell_type": "markdown",
   "metadata": {},
   "source": [
    "Simple introduction to the inputs required to define a Ibor deposit and a FRA"
   ]
  },
  {
   "cell_type": "code",
   "execution_count": 1,
   "metadata": {},
   "outputs": [
    {
     "name": "stdout",
     "output_type": "stream",
     "text": [
      "####################################################################\n",
      "# FINANCEPY BETA Version 0.200 - This build:  14 Jul 2021 at 13:18 #\n",
      "# **** NEW PEP8 COMPLIANT VERSION -- PLEASE UPDATE YOUR CODE  **** #\n",
      "#      This software is distributed FREE & WITHOUT ANY WARRANTY    #\n",
      "# For info and disclaimer - https://github.com/domokane/FinancePy  #\n",
      "#      Send any bug reports or comments to quant@financepy.com     #\n",
      "####################################################################\n",
      "\n"
     ]
    }
   ],
   "source": [
    "from financepy.utils import *\n",
    "from financepy.products.rates import *"
   ]
  },
  {
   "cell_type": "markdown",
   "metadata": {},
   "source": [
    "## Creating the Swap"
   ]
  },
  {
   "cell_type": "markdown",
   "metadata": {},
   "source": [
    "We begin by setting the market conventions we wish to use."
   ]
  },
  {
   "cell_type": "code",
   "execution_count": 2,
   "metadata": {},
   "outputs": [],
   "source": [
    "swapCalendarType = CalendarTypes.TARGET\n",
    "bus_day_adjust_type = BusDayAdjustTypes.FOLLOWING\n",
    "date_gen_rule_type = DateGenRuleTypes.BACKWARD"
   ]
  },
  {
   "cell_type": "markdown",
   "metadata": {},
   "source": [
    "We then define the Fixed Leg"
   ]
  },
  {
   "cell_type": "code",
   "execution_count": 3,
   "metadata": {},
   "outputs": [],
   "source": [
    "fixed_coupon = 0.05\n",
    "fixedFreqType = FrequencyTypes.ANNUAL\n",
    "fixed_day_count_type = DayCountTypes.ACT_360"
   ]
  },
  {
   "cell_type": "markdown",
   "metadata": {},
   "source": [
    "And then we define the Floating Leg"
   ]
  },
  {
   "cell_type": "code",
   "execution_count": 4,
   "metadata": {},
   "outputs": [],
   "source": [
    "float_spread = 0.0\n",
    "floatFreqType = FrequencyTypes.SEMI_ANNUAL\n",
    "float_day_count_type = DayCountTypes.ACT_360"
   ]
  },
  {
   "cell_type": "markdown",
   "metadata": {},
   "source": [
    "We need to specify the size and direction of the swap."
   ]
  },
  {
   "cell_type": "code",
   "execution_count": 5,
   "metadata": {},
   "outputs": [],
   "source": [
    "swapType = SwapTypes.RECEIVE\n",
    "notional = 10 * ONE_MILLION"
   ]
  },
  {
   "cell_type": "markdown",
   "metadata": {},
   "source": [
    "And then we define when the swap begins and ends."
   ]
  },
  {
   "cell_type": "code",
   "execution_count": 6,
   "metadata": {},
   "outputs": [],
   "source": [
    "start_date = Date(20, 6, 2018)\n",
    "maturity_date = Date(20, 9, 2025)"
   ]
  },
  {
   "cell_type": "markdown",
   "metadata": {},
   "source": [
    "We can now create the swap object."
   ]
  },
  {
   "cell_type": "code",
   "execution_count": 7,
   "metadata": {},
   "outputs": [],
   "source": [
    "swap = IborSwap(start_date,\n",
    "                    maturity_date,\n",
    "                    swapType,\n",
    "                    fixed_coupon,\n",
    "                    fixedFreqType,\n",
    "                    fixed_day_count_type,\n",
    "                    notional,\n",
    "                    float_spread,\n",
    "                    floatFreqType,\n",
    "                    float_day_count_type,\n",
    "                    swapCalendarType,\n",
    "                    bus_day_adjust_type,\n",
    "                    date_gen_rule_type)"
   ]
  },
  {
   "cell_type": "code",
   "execution_count": 8,
   "metadata": {},
   "outputs": [
    {
     "name": "stdout",
     "output_type": "stream",
     "text": [
      "OBJECT TYPE: IborSwap\n",
      "OBJECT TYPE: SwapFixedLeg\n",
      "START DATE: 20-JUN-2018\n",
      "TERMINATION DATE: 20-SEP-2025\n",
      "MATURITY DATE: 22-SEP-2025\n",
      "NOTIONAL: 10000000\n",
      "PRINCIPAL: 0.0\n",
      "LEG TYPE: SwapTypes.RECEIVE\n",
      "COUPON: 0.05\n",
      "FREQUENCY: FrequencyTypes.ANNUAL\n",
      "DAY COUNT: DayCountTypes.ACT_360\n",
      "CALENDAR: CalendarTypes.TARGET\n",
      "BUS DAY ADJUST: BusDayAdjustTypes.FOLLOWING\n",
      "DATE GEN TYPE: DateGenRuleTypes.BACKWARD\n",
      "\n",
      "OBJECT TYPE: SwapFloatLeg\n",
      "START DATE: 20-JUN-2018\n",
      "TERMINATION DATE: 20-SEP-2025\n",
      "MATURITY DATE: 22-SEP-2025\n",
      "NOTIONAL: 10000000\n",
      "SWAP TYPE: SwapTypes.PAY\n",
      "SPREAD (BPS): 0.0\n",
      "FREQUENCY: FrequencyTypes.SEMI_ANNUAL\n",
      "DAY COUNT: DayCountTypes.ACT_360\n",
      "CALENDAR: CalendarTypes.TARGET\n",
      "BUS DAY ADJUST: BusDayAdjustTypes.FOLLOWING\n",
      "DATE GEN TYPE: DateGenRuleTypes.BACKWARD\n",
      "\n"
     ]
    }
   ],
   "source": [
    "print(swap)"
   ]
  },
  {
   "cell_type": "code",
   "execution_count": 9,
   "metadata": {},
   "outputs": [
    {
     "name": "stdout",
     "output_type": "stream",
     "text": [
      "START DATE: 20-JUN-2018\n",
      "MATURITY DATE: 22-SEP-2025\n",
      "COUPON (%): 5.0\n",
      "FREQUENCY: FrequencyTypes.ANNUAL\n",
      "DAY COUNT: DayCountTypes.ACT_360\n",
      "PAY_DATE     ACCR_START   ACCR_END      DAYS  YEARFRAC    RATE      PAYMENT \n",
      "20-SEP-2018  20-JUN-2018  20-SEP-2018    92  0.255556  5.000000    127777.78\n",
      "20-SEP-2019  20-SEP-2018  20-SEP-2019   365  1.013889  5.000000    506944.44\n",
      "21-SEP-2020  20-SEP-2019  21-SEP-2020   367  1.019444  5.000000    509722.22\n",
      "20-SEP-2021  21-SEP-2020  20-SEP-2021   364  1.011111  5.000000    505555.56\n",
      "20-SEP-2022  20-SEP-2021  20-SEP-2022   365  1.013889  5.000000    506944.44\n",
      "20-SEP-2023  20-SEP-2022  20-SEP-2023   365  1.013889  5.000000    506944.44\n",
      "20-SEP-2024  20-SEP-2023  20-SEP-2024   366  1.016667  5.000000    508333.33\n",
      "22-SEP-2025  20-SEP-2024  22-SEP-2025   367  1.019444  5.000000    509722.22\n",
      "START DATE: 20-JUN-2018\n",
      "MATURITY DATE: 22-SEP-2025\n",
      "SPREAD (bp): 0.0\n",
      "FREQUENCY: FrequencyTypes.SEMI_ANNUAL\n",
      "DAY COUNT: DayCountTypes.ACT_360\n",
      "PAY_DATE     ACCR_START   ACCR_END      DAYS  YEARFRAC\n",
      "24-SEP-2018  20-JUN-2018  24-SEP-2018    96  0.266667  \n",
      "22-MAR-2019  24-SEP-2018  22-MAR-2019   179  0.497222  \n",
      "23-SEP-2019  22-MAR-2019  23-SEP-2019   185  0.513889  \n",
      "23-MAR-2020  23-SEP-2019  23-MAR-2020   182  0.505556  \n",
      "22-SEP-2020  23-MAR-2020  22-SEP-2020   183  0.508333  \n",
      "22-MAR-2021  22-SEP-2020  22-MAR-2021   181  0.502778  \n",
      "22-SEP-2021  22-MAR-2021  22-SEP-2021   184  0.511111  \n",
      "22-MAR-2022  22-SEP-2021  22-MAR-2022   181  0.502778  \n",
      "22-SEP-2022  22-MAR-2022  22-SEP-2022   184  0.511111  \n",
      "22-MAR-2023  22-SEP-2022  22-MAR-2023   181  0.502778  \n",
      "22-SEP-2023  22-MAR-2023  22-SEP-2023   184  0.511111  \n",
      "22-MAR-2024  22-SEP-2023  22-MAR-2024   182  0.505556  \n",
      "23-SEP-2024  22-MAR-2024  23-SEP-2024   185  0.513889  \n",
      "24-MAR-2025  23-SEP-2024  24-MAR-2025   182  0.505556  \n",
      "22-SEP-2025  24-MAR-2025  22-SEP-2025   182  0.505556  \n"
     ]
    }
   ],
   "source": [
    "swap.print_flows()"
   ]
  },
  {
   "cell_type": "markdown",
   "metadata": {},
   "source": [
    "## Valuation"
   ]
  },
  {
   "cell_type": "code",
   "execution_count": 10,
   "metadata": {},
   "outputs": [],
   "source": [
    "valuation_date = Date(20,3,2020)"
   ]
  },
  {
   "cell_type": "code",
   "execution_count": 11,
   "metadata": {},
   "outputs": [],
   "source": [
    "settlement_date = valuation_date.add_weekdays(0)"
   ]
  },
  {
   "cell_type": "markdown",
   "metadata": {},
   "source": [
    "This is just using a flat curve without any Ibor accrual factors."
   ]
  },
  {
   "cell_type": "code",
   "execution_count": 12,
   "metadata": {},
   "outputs": [],
   "source": [
    "from financepy.market.curves.discount_curve_flat import DiscountCurveFlat"
   ]
  },
  {
   "cell_type": "code",
   "execution_count": 13,
   "metadata": {},
   "outputs": [],
   "source": [
    "discount_curve = DiscountCurveFlat(valuation_date, 0.05, FrequencyTypes.SEMI_ANNUAL)"
   ]
  },
  {
   "cell_type": "markdown",
   "metadata": {},
   "source": [
    "Need to specify the next fixing on the floating leg"
   ]
  },
  {
   "cell_type": "code",
   "execution_count": 14,
   "metadata": {},
   "outputs": [
    {
     "data": {
      "text/plain": [
       "254993.13993501337"
      ]
     },
     "execution_count": 14,
     "metadata": {},
     "output_type": "execute_result"
    }
   ],
   "source": [
    "swap.value(settlement_date, discount_curve, discount_curve)"
   ]
  },
  {
   "cell_type": "markdown",
   "metadata": {},
   "source": [
    "We can examine the individual legs - here is the floating leg valuation"
   ]
  },
  {
   "cell_type": "code",
   "execution_count": 15,
   "metadata": {},
   "outputs": [
    {
     "name": "stdout",
     "output_type": "stream",
     "text": [
      "START DATE: 20-JUN-2018\n",
      "MATURITY DATE: 22-SEP-2025\n",
      "SPREAD (BPS): 0.0\n",
      "FREQUENCY: FrequencyTypes.SEMI_ANNUAL\n",
      "DAY COUNT: DayCountTypes.ACT_360\n",
      "PAY_DATE     ACCR_START   ACCR_END     DAYS  YEARFRAC    IBOR      PAYMENT       DF          PV        CUM PV\n",
      "24-SEP-2018  20-JUN-2018  24-SEP-2018    96  0.266667    0.00000         0.00  0.00000000         0.00         0.00\n",
      "22-MAR-2019  24-SEP-2018  22-MAR-2019   179  0.497222    0.00000         0.00  0.00000000         0.00         0.00\n",
      "23-SEP-2019  22-MAR-2019  23-SEP-2019   185  0.513889    0.00000         0.00  0.00000000         0.00         0.00\n",
      "23-MAR-2020  23-SEP-2019  23-MAR-2020   182  0.505556    0.08009      4048.79  0.99959528      4047.15      4047.15\n",
      "22-SEP-2020  23-MAR-2020  22-SEP-2020   183  0.508333    4.91803    250000.00  0.97521491    243803.73    247850.88\n",
      "22-MAR-2021  22-SEP-2020  22-MAR-2021   181  0.502778    4.92339    247537.32  0.95165783    235570.83    483421.71\n",
      "22-SEP-2021  22-MAR-2021  22-SEP-2021   184  0.511111    4.93201    252080.48  0.92825825    233995.78    717417.49\n",
      "22-MAR-2022  22-SEP-2021  22-MAR-2022   181  0.502778    4.93100    247919.94  0.90580162    224566.29    941983.78\n",
      "22-SEP-2022  22-MAR-2022  22-SEP-2022   184  0.511111    4.93201    252080.48  0.88352957    222720.56   1164704.33\n",
      "22-MAR-2023  22-SEP-2022  22-MAR-2023   181  0.502778    4.93100    247919.94  0.86215502    213745.42   1378449.76\n",
      "22-SEP-2023  22-MAR-2023  22-SEP-2023   184  0.511111    4.93201    252080.48  0.84095616    211988.63   1590438.39\n",
      "22-MAR-2024  22-SEP-2023  22-MAR-2024   182  0.505556    4.92527    248999.70  0.82052511    204310.51   1794748.90\n",
      "23-SEP-2024  22-MAR-2024  23-SEP-2024   185  0.513889    4.91870    252766.49  0.80029630    202288.08   1997036.98\n",
      "24-MAR-2025  23-SEP-2024  24-MAR-2025   182  0.505556    4.92384    248927.71  0.78085857    194377.34   2191414.32\n",
      "22-SEP-2025  24-MAR-2025  22-SEP-2025   182  0.505556    4.93134    249306.60  0.76186478    189937.92   2381352.24\n"
     ]
    }
   ],
   "source": [
    "swap.print_float_leg_pv()"
   ]
  },
  {
   "cell_type": "markdown",
   "metadata": {},
   "source": [
    "And here is the fixed leg valuation"
   ]
  },
  {
   "cell_type": "code",
   "execution_count": 16,
   "metadata": {},
   "outputs": [
    {
     "name": "stdout",
     "output_type": "stream",
     "text": [
      "START DATE: 20-JUN-2018\n",
      "MATURITY DATE: 22-SEP-2025\n",
      "COUPON (%): 5.0\n",
      "FREQUENCY: FrequencyTypes.ANNUAL\n",
      "DAY COUNT: DayCountTypes.ACT_360\n",
      "PAY_DATE     ACCR_START   ACCR_END     DAYS  YEARFRAC    RATE      PAYMENT       DF          PV        CUM PV\n",
      "20-SEP-2018  20-JUN-2018  20-SEP-2018    92  0.255556   5.00000    127777.78  0.00000000         0.00         0.00\n",
      "20-SEP-2019  20-SEP-2018  20-SEP-2019   365  1.013889   5.00000    506944.44  0.00000000         0.00         0.00\n",
      "21-SEP-2020  20-SEP-2019  21-SEP-2020   367  1.019444   5.00000    509722.22  0.97534651    497155.79    497155.79\n",
      "20-SEP-2021  21-SEP-2020  20-SEP-2021   364  1.011111   5.00000    505555.56  0.92850948    469413.12    966568.91\n",
      "20-SEP-2022  20-SEP-2021  20-SEP-2022   365  1.013889   5.00000    506944.44  0.88376869    448021.63   1414590.54\n",
      "20-SEP-2023  20-SEP-2022  20-SEP-2023   365  1.013889   5.00000    506944.44  0.84118376    426433.43   1841023.97\n",
      "20-SEP-2024  20-SEP-2023  20-SEP-2024   366  1.016667   5.00000    508333.33  0.80062032    406982.00   2248005.97\n",
      "22-SEP-2025  20-SEP-2024  22-SEP-2025   367  1.019444   5.00000    509722.22  0.76186478    388339.41   2636345.38\n"
     ]
    }
   ],
   "source": [
    "swap.print_fixed_leg_pv()"
   ]
  },
  {
   "cell_type": "code",
   "execution_count": 17,
   "metadata": {},
   "outputs": [
    {
     "data": {
      "text/plain": [
       "5.272690754192439"
      ]
     },
     "execution_count": 17,
     "metadata": {},
     "output_type": "execute_result"
    }
   ],
   "source": [
    "swap.pv01(valuation_date, discount_curve)"
   ]
  },
  {
   "cell_type": "code",
   "execution_count": 18,
   "metadata": {},
   "outputs": [
    {
     "data": {
      "text/plain": [
       "0.04516388971357023"
      ]
     },
     "execution_count": 18,
     "metadata": {},
     "output_type": "execute_result"
    }
   ],
   "source": [
    "swap.swap_rate(valuation_date, discount_curve)"
   ]
  },
  {
   "cell_type": "markdown",
   "metadata": {},
   "source": [
    "## Including a final exchange of principal"
   ]
  },
  {
   "cell_type": "code",
   "execution_count": 19,
   "metadata": {},
   "outputs": [
    {
     "data": {
      "text/plain": [
       "254993.13993501337"
      ]
     },
     "execution_count": 19,
     "metadata": {},
     "output_type": "execute_result"
    }
   ],
   "source": [
    "swap.value(settlement_date, discount_curve, discount_curve)"
   ]
  },
  {
   "cell_type": "code",
   "execution_count": 20,
   "metadata": {},
   "outputs": [
    {
     "name": "stdout",
     "output_type": "stream",
     "text": [
      "START DATE: 20-JUN-2018\n",
      "MATURITY DATE: 22-SEP-2025\n",
      "SPREAD (BPS): 0.0\n",
      "FREQUENCY: FrequencyTypes.SEMI_ANNUAL\n",
      "DAY COUNT: DayCountTypes.ACT_360\n",
      "PAY_DATE     ACCR_START   ACCR_END     DAYS  YEARFRAC    IBOR      PAYMENT       DF          PV        CUM PV\n",
      "24-SEP-2018  20-JUN-2018  24-SEP-2018    96  0.266667    0.00000         0.00  0.00000000         0.00         0.00\n",
      "22-MAR-2019  24-SEP-2018  22-MAR-2019   179  0.497222    0.00000         0.00  0.00000000         0.00         0.00\n",
      "23-SEP-2019  22-MAR-2019  23-SEP-2019   185  0.513889    0.00000         0.00  0.00000000         0.00         0.00\n",
      "23-MAR-2020  23-SEP-2019  23-MAR-2020   182  0.505556    0.08009      4048.79  0.99959528      4047.15      4047.15\n",
      "22-SEP-2020  23-MAR-2020  22-SEP-2020   183  0.508333    4.91803    250000.00  0.97521491    243803.73    247850.88\n",
      "22-MAR-2021  22-SEP-2020  22-MAR-2021   181  0.502778    4.92339    247537.32  0.95165783    235570.83    483421.71\n",
      "22-SEP-2021  22-MAR-2021  22-SEP-2021   184  0.511111    4.93201    252080.48  0.92825825    233995.78    717417.49\n",
      "22-MAR-2022  22-SEP-2021  22-MAR-2022   181  0.502778    4.93100    247919.94  0.90580162    224566.29    941983.78\n",
      "22-SEP-2022  22-MAR-2022  22-SEP-2022   184  0.511111    4.93201    252080.48  0.88352957    222720.56   1164704.33\n",
      "22-MAR-2023  22-SEP-2022  22-MAR-2023   181  0.502778    4.93100    247919.94  0.86215502    213745.42   1378449.76\n",
      "22-SEP-2023  22-MAR-2023  22-SEP-2023   184  0.511111    4.93201    252080.48  0.84095616    211988.63   1590438.39\n",
      "22-MAR-2024  22-SEP-2023  22-MAR-2024   182  0.505556    4.92527    248999.70  0.82052511    204310.51   1794748.90\n",
      "23-SEP-2024  22-MAR-2024  23-SEP-2024   185  0.513889    4.91870    252766.49  0.80029630    202288.08   1997036.98\n",
      "24-MAR-2025  23-SEP-2024  24-MAR-2025   182  0.505556    4.92384    248927.71  0.78085857    194377.34   2191414.32\n",
      "22-SEP-2025  24-MAR-2025  22-SEP-2025   182  0.505556    4.93134    249306.60  0.76186478    189937.92   2381352.24\n"
     ]
    }
   ],
   "source": [
    "swap.print_float_leg_pv()"
   ]
  },
  {
   "cell_type": "markdown",
   "metadata": {},
   "source": [
    "As expected we see the final PV of the floating Leg is par (same index and discounting curve)."
   ]
  },
  {
   "cell_type": "code",
   "execution_count": 21,
   "metadata": {},
   "outputs": [
    {
     "name": "stdout",
     "output_type": "stream",
     "text": [
      "START DATE: 20-JUN-2018\n",
      "MATURITY DATE: 22-SEP-2025\n",
      "COUPON (%): 5.0\n",
      "FREQUENCY: FrequencyTypes.ANNUAL\n",
      "DAY COUNT: DayCountTypes.ACT_360\n",
      "PAY_DATE     ACCR_START   ACCR_END     DAYS  YEARFRAC    RATE      PAYMENT       DF          PV        CUM PV\n",
      "20-SEP-2018  20-JUN-2018  20-SEP-2018    92  0.255556   5.00000    127777.78  0.00000000         0.00         0.00\n",
      "20-SEP-2019  20-SEP-2018  20-SEP-2019   365  1.013889   5.00000    506944.44  0.00000000         0.00         0.00\n",
      "21-SEP-2020  20-SEP-2019  21-SEP-2020   367  1.019444   5.00000    509722.22  0.97534651    497155.79    497155.79\n",
      "20-SEP-2021  21-SEP-2020  20-SEP-2021   364  1.011111   5.00000    505555.56  0.92850948    469413.12    966568.91\n",
      "20-SEP-2022  20-SEP-2021  20-SEP-2022   365  1.013889   5.00000    506944.44  0.88376869    448021.63   1414590.54\n",
      "20-SEP-2023  20-SEP-2022  20-SEP-2023   365  1.013889   5.00000    506944.44  0.84118376    426433.43   1841023.97\n",
      "20-SEP-2024  20-SEP-2023  20-SEP-2024   366  1.016667   5.00000    508333.33  0.80062032    406982.00   2248005.97\n",
      "22-SEP-2025  20-SEP-2024  22-SEP-2025   367  1.019444   5.00000    509722.22  0.76186478    388339.41   2636345.38\n"
     ]
    }
   ],
   "source": [
    "swap.print_fixed_leg_pv()"
   ]
  },
  {
   "cell_type": "code",
   "execution_count": 22,
   "metadata": {},
   "outputs": [
    {
     "data": {
      "text/plain": [
       "2636345.37709622"
      ]
     },
     "execution_count": 22,
     "metadata": {},
     "output_type": "execute_result"
    }
   ],
   "source": [
    "swap._fixed_leg.value(settlement_date, discount_curve)"
   ]
  },
  {
   "cell_type": "code",
   "execution_count": 23,
   "metadata": {},
   "outputs": [
    {
     "data": {
      "text/plain": [
       "-2381352.2371612065"
      ]
     },
     "execution_count": 23,
     "metadata": {},
     "output_type": "execute_result"
    }
   ],
   "source": [
    "swap._float_leg.value(settlement_date, discount_curve, discount_curve)"
   ]
  },
  {
   "cell_type": "markdown",
   "metadata": {},
   "source": [
    "Copyright (c) 2020 Dominic O'Kane"
   ]
  }
 ],
 "metadata": {
  "kernelspec": {
   "display_name": "Python 3",
   "language": "python",
   "name": "python3"
  },
  "language_info": {
   "codemirror_mode": {
    "name": "ipython",
    "version": 3
   },
   "file_extension": ".py",
   "mimetype": "text/x-python",
   "name": "python",
   "nbconvert_exporter": "python",
   "pygments_lexer": "ipython3",
   "version": "3.8.5"
  }
 },
 "nbformat": 4,
 "nbformat_minor": 4
}
