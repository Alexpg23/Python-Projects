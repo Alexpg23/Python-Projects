{
 "cells": [
  {
   "cell_type": "markdown",
   "metadata": {},
   "source": [
    "# Building a USD Libor Dual Curve and Valuing a Swap"
   ]
  },
  {
   "cell_type": "markdown",
   "metadata": {},
   "source": [
    "We build an OIS curve from OIS swaps that include forward starting OIS using MM dates.\n",
    "\n",
    "This follows example mentioned in the blogpost at https://blog.deriscope.com/index.php/en/excel-ois-discounted-usd-libor-curve"
   ]
  },
  {
   "cell_type": "code",
   "execution_count": 1,
   "metadata": {},
   "outputs": [],
   "source": [
    "import numpy as np\n",
    "import matplotlib.pyplot as plt"
   ]
  },
  {
   "cell_type": "code",
   "execution_count": 2,
   "metadata": {},
   "outputs": [
    {
     "name": "stdout",
     "output_type": "stream",
     "text": [
      "####################################################################\n",
      "# FINANCEPY BETA Version 0.185 - This build:  19 Nov 2020 at 22:37 #\n",
      "#      This software is distributed FREE & WITHOUT ANY WARRANTY    #\n",
      "# For info and disclaimer - https://github.com/domokane/FinancePy  #\n",
      "#      Send any bug reports or comments to quant@financepy.com     #\n",
      "####################################################################\n",
      "\n"
     ]
    }
   ],
   "source": [
    "from financepy.utils import *\n",
    "from financepy.products.rates import *"
   ]
  },
  {
   "cell_type": "code",
   "execution_count": 3,
   "metadata": {},
   "outputs": [],
   "source": [
    "valuation_date = Date(22, 5, 2019)"
   ]
  },
  {
   "cell_type": "code",
   "execution_count": 4,
   "metadata": {},
   "outputs": [],
   "source": [
    "interp_type = InterpTypes.LINEAR_ZERO_RATES"
   ]
  },
  {
   "cell_type": "code",
   "execution_count": 5,
   "metadata": {},
   "outputs": [
    {
     "data": {
      "text/plain": [
       "19-JUN-2019"
      ]
     },
     "execution_count": 5,
     "metadata": {},
     "output_type": "execute_result"
    }
   ],
   "source": [
    "valuation_date.next_imm_date()"
   ]
  },
  {
   "cell_type": "markdown",
   "metadata": {},
   "source": [
    "## Building USD Single Curve"
   ]
  },
  {
   "cell_type": "code",
   "execution_count": 6,
   "metadata": {},
   "outputs": [],
   "source": [
    "# Need to specify a UK calendar (trade was done in London)\n",
    "cal = CalendarTypes.UNITED_KINGDOM\n",
    "\n",
    "depoDCCType = DayCountTypes.ACT_360\n",
    "depos = []\n",
    "spot_days = 2\n",
    "settlement_date = valuation_date.add_weekdays(spot_days)\n",
    "depo = IborDeposit(settlement_date, \"3M\", 2.523380000/100.0, depoDCCType, calendar_type=cal); depos.append(depo)\n",
    "\n",
    "fraDCCType = DayCountTypes.ACT_360\n",
    "\n",
    "f1 = valuation_date.next_imm_date()\n",
    "f2 = f1.next_imm_date()\n",
    "f3 = f2.next_imm_date()\n",
    "f4 = f3.next_imm_date()\n",
    "f5 = f4.next_imm_date()\n",
    "f6 = f5.next_imm_date()\n",
    "f7 = f6.next_imm_date()\n",
    "\n",
    "fras = []\n",
    "fra = IborFRA(f1, f2, 2.524910280/100.0, fraDCCType, calendar_type=cal); fras.append(fra)\n",
    "fra = IborFRA(f2, f3, 2.434411307/100.0, fraDCCType, calendar_type=cal); fras.append(fra)\n",
    "fra = IborFRA(f3, f4, 2.373650291/100.0, fraDCCType, calendar_type=cal); fras.append(fra)\n",
    "fra = IborFRA(f4, f5, 2.237622952/100.0, fraDCCType, calendar_type=cal); fras.append(fra)\n",
    "fra = IborFRA(f5, f6, 2.136343383/100.0, fraDCCType, calendar_type=cal); fras.append(fra)\n",
    "fra = IborFRA(f6, f7, 2.074814539/100.0, fraDCCType, calendar_type=cal); fras.append(fra)\n",
    "\n",
    "swaps = []\n",
    "swapType = SwapTypes.PAY\n",
    "fixedDCCType = DayCountTypes.THIRTY_E_360_ISDA\n",
    "fixedFreqType = FrequencyTypes.SEMI_ANNUAL\n",
    "\n",
    "swap = IborSwap(settlement_date, \"2Y\", swapType, 2.289249897/100.0, fixedFreqType, fixedDCCType, calendar_type=cal); swaps.append(swap)\n",
    "swap = IborSwap(settlement_date, \"3Y\", swapType, 2.218399525/100.0, fixedFreqType, fixedDCCType, calendar_type=cal); swaps.append(swap)\n",
    "swap = IborSwap(settlement_date, \"4Y\", swapType, 2.200400352/100.0, fixedFreqType, fixedDCCType, calendar_type=cal); swaps.append(swap)\n",
    "swap = IborSwap(settlement_date, \"5Y\", swapType, 2.209749699/100.0, fixedFreqType, fixedDCCType, calendar_type=cal); swaps.append(swap)\n",
    "swap = IborSwap(settlement_date, \"6Y\", swapType, 2.233999729/100.0, fixedFreqType, fixedDCCType, calendar_type=cal); swaps.append(swap)\n",
    "swap = IborSwap(settlement_date, \"7Y\", swapType, 2.262149811/100.0, fixedFreqType, fixedDCCType, calendar_type=cal); swaps.append(swap)\n",
    "swap = IborSwap(settlement_date, \"8Y\", swapType, 2.293599606/100.0, fixedFreqType, fixedDCCType, calendar_type=cal); swaps.append(swap)\n",
    "swap = IborSwap(settlement_date, \"9Y\", swapType, 2.326499939/100.0, fixedFreqType, fixedDCCType, calendar_type=cal); swaps.append(swap)\n",
    "swap = IborSwap(settlement_date, \"10Y\", swapType, 2.358519554/100.0, fixedFreqType, fixedDCCType, calendar_type=cal); swaps.append(swap)\n",
    "swap = IborSwap(settlement_date, \"11Y\", swapType, 2.388500214/100.0, fixedFreqType, fixedDCCType, calendar_type=cal); swaps.append(swap)\n",
    "swap = IborSwap(settlement_date, \"12Y\", swapType, 2.416099548/100.0, fixedFreqType, fixedDCCType, calendar_type=cal); swaps.append(swap)\n",
    "swap = IborSwap(settlement_date, \"15Y\", swapType, 2.475949764/100.0, fixedFreqType, fixedDCCType, calendar_type=cal); swaps.append(swap)\n",
    "swap = IborSwap(settlement_date, \"20Y\", swapType, 2.528799534/100.0, fixedFreqType, fixedDCCType, calendar_type=cal); swaps.append(swap)\n",
    "swap = IborSwap(settlement_date, \"25Y\", swapType, 2.545499325/100.0, fixedFreqType, fixedDCCType, calendar_type=cal); swaps.append(swap)\n",
    "swap = IborSwap(settlement_date, \"30Y\", swapType, 2.551049709/100.0, fixedFreqType, fixedDCCType, calendar_type=cal); swaps.append(swap)\n",
    "swap = IborSwap(settlement_date, \"40Y\", swapType, 2.534699440/100.0, fixedFreqType, fixedDCCType, calendar_type=cal); swaps.append(swap)\n",
    "swap = IborSwap(settlement_date, \"50Y\", swapType, 2.504999638/100.0, fixedFreqType, fixedDCCType, calendar_type=cal); swaps.append(swap)\n",
    "\n",
    "iborDepos = depos.copy()\n",
    "iborFras = fras.copy()\n",
    "ibor_swaps = swaps.copy()"
   ]
  },
  {
   "cell_type": "code",
   "execution_count": 7,
   "metadata": {},
   "outputs": [
    {
     "name": "stdout",
     "output_type": "stream",
     "text": [
      "Inserting synthetic deposit\n"
     ]
    }
   ],
   "source": [
    "iborSingleCurve = IborSingleCurve(valuation_date, iborDepos, iborFras, ibor_swaps, interp_type)"
   ]
  },
  {
   "cell_type": "code",
   "execution_count": 8,
   "metadata": {},
   "outputs": [
    {
     "name": "stdout",
     "output_type": "stream",
     "text": [
      "FRI 24 MAY 2019  1.000000000  2.523203\n",
      "TUE 27 AUG 2019  0.993385128  2.515184\n",
      "WED 18 SEP 2019  0.991850650  2.517857\n",
      "WED 18 DEC 2019  0.985784477  2.478465\n",
      "WED 18 MAR 2020  0.979904988  2.444632\n",
      "WED 17 JUN 2020  0.974393609  2.395113\n",
      "WED 16 SEP 2020  0.969159950  2.345276\n",
      "WED 16 DEC 2020  0.964103545  2.301539\n",
      "MON 24 MAY 2021  0.955542506  2.240360\n",
      "TUE 24 MAY 2022  0.936048300  2.171422\n",
      "WED 24 MAY 2023  0.916298215  2.154429\n",
      "FRI 24 MAY 2024  0.896031562  2.163539\n",
      "TUE 27 MAY 2025  0.875061736  2.189184\n",
      "TUE 26 MAY 2026  0.854102795  2.218813\n",
      "MON 24 MAY 2027  0.832956272  2.252023\n",
      "WED 24 MAY 2028  0.811555475  2.286303\n",
      "THU 24 MAY 2029  0.790200025  2.320639\n",
      "FRI 24 MAY 2030  0.769039401  2.353014\n",
      "TUE 27 MAY 2031  0.748020313  2.383034\n",
      "WED 24 MAY 2034  0.688939909  2.448219\n",
      "TUE 24 MAY 2039  0.601370508  2.506177\n",
      "TUE 24 MAY 2044  0.527467703  2.521686\n",
      "MON 24 MAY 2049  0.463716946  2.524668\n",
      "TUE 27 MAY 2059  0.363447226  2.493425\n",
      "FRI 24 MAY 2069  0.290010123  2.440036\n"
     ]
    }
   ],
   "source": [
    "for depo in iborDepos:\n",
    "    dt = depo._maturity_date\n",
    "    df = iborSingleCurve.df(dt) / iborSingleCurve.df(settlement_date)\n",
    "    ccZeroRate = iborSingleCurve.zero_rate(dt, FrequencyTypes.CONTINUOUS, DayCountTypes.ACT_360)\n",
    "    print(\"%12s %12.9f %9.6f\"% (dt, df, ccZeroRate*100))\n",
    "\n",
    "for fra in iborFras:\n",
    "    dt = fra._maturity_date\n",
    "    df = iborSingleCurve.df(dt) / iborSingleCurve.df(settlement_date)\n",
    "    ccZeroRate = iborSingleCurve.zero_rate(dt, FrequencyTypes.CONTINUOUS, DayCountTypes.ACT_360)\n",
    "    print(\"%12s %12.9f %9.6f\"% (dt, df, ccZeroRate*100))\n",
    "    \n",
    "for swap in ibor_swaps:\n",
    "    dt = swap._maturity_date\n",
    "    df = iborSingleCurve.df(dt) / iborSingleCurve.df(settlement_date)\n",
    "    ccZeroRate = iborSingleCurve.zero_rate(dt, FrequencyTypes.CONTINUOUS, DayCountTypes.ACT_360)\n",
    "    print(\"%12s %12.9f %9.6f\"% (dt, df, ccZeroRate*100))"
   ]
  },
  {
   "cell_type": "markdown",
   "metadata": {},
   "source": [
    "## Building the Discounting OIS Curve"
   ]
  },
  {
   "cell_type": "markdown",
   "metadata": {},
   "source": [
    "We construct the OIS curve from a series of swaps, some forward starting. The default assumption on the floating leg is annual payments."
   ]
  },
  {
   "cell_type": "code",
   "execution_count": 9,
   "metadata": {},
   "outputs": [],
   "source": [
    "cal = CalendarTypes.UNITED_KINGDOM\n",
    "\n",
    "depoDCCType = DayCountTypes.ACT_360\n",
    "depos = []\n",
    "\n",
    "spot_days = 2\n",
    "settlement_date = valuation_date.add_weekdays(spot_days)\n",
    "depo = IborDeposit(settlement_date, \"1D\", 2.390000/100.0, depoDCCType, calendar_type = cal); depos.append(depo)\n",
    "\n",
    "fras = []\n",
    "\n",
    "swaps = []\n",
    "swapType = SwapTypes.PAY\n",
    "spot_days = 2\n",
    "settlement_date = valuation_date.add_weekdays(spot_days)\n",
    "fixedDCCType = DayCountTypes.ACT_360\n",
    "fixedFreqType = FrequencyTypes.ANNUAL\n",
    "\n",
    "# Standard OIS with standard annual terms\n",
    "swap = OIS(settlement_date, \"1W\", swapType, 2.38829947/100.0, fixedFreqType, fixedDCCType, calendar_type = cal); swaps.append(swap)\n",
    "swap = OIS(settlement_date, \"2W\", swapType, 2.38419962/100.0, fixedFreqType, fixedDCCType, calendar_type = cal); swaps.append(swap)\n",
    "swap = OIS(settlement_date, \"3W\", swapType, 2.39200020/100.0, fixedFreqType, fixedDCCType, calendar_type = cal); swaps.append(swap)\n",
    "swap = OIS(settlement_date, \"1M\", swapType, 2.38549948/100.0, fixedFreqType, fixedDCCType, calendar_type = cal); swaps.append(swap)\n",
    "swap = OIS(settlement_date, \"2M\", swapType, 2.38499975/100.0, fixedFreqType, fixedDCCType, calendar_type = cal); swaps.append(swap)\n",
    "swap = OIS(settlement_date, \"3M\", swapType, 2.37699986/100.0, fixedFreqType, fixedDCCType, calendar_type = cal); swaps.append(swap)\n",
    "swap = OIS(settlement_date, \"4M\", swapType, 2.36999989/100.0, fixedFreqType, fixedDCCType, calendar_type = cal); swaps.append(swap)\n",
    "swap = OIS(settlement_date, \"5M\", swapType, 2.35499954/100.0, fixedFreqType, fixedDCCType, calendar_type = cal); swaps.append(swap)\n",
    "swap = OIS(settlement_date, \"6M\", swapType, 2.33832979/100.0, fixedFreqType, fixedDCCType, calendar_type = cal); swaps.append(swap)\n",
    "swap = OIS(settlement_date, \"9M\", swapType, 2.2810001373/100.0, fixedFreqType, fixedDCCType, calendar_type = cal); swaps.append(swap)\n",
    "swap = OIS(settlement_date, \"12M\", swapType, 2.2280001640/100.0, fixedFreqType, fixedDCCType, calendar_type = cal); swaps.append(swap)\n",
    "swap = OIS(settlement_date, \"18M\", swapType, 2.1263647078/100.0, fixedFreqType, fixedDCCType, calendar_type = cal); swaps.append(swap)\n",
    "swap = OIS(settlement_date, \"2Y\", swapType, 2.0547046661/100.0, fixedFreqType, fixedDCCType, calendar_type = cal); swaps.append(swap)\n",
    "swap = OIS(settlement_date, \"3Y\", swapType, 1.9829993844/100.0, fixedFreqType, fixedDCCType, calendar_type = cal); swaps.append(swap)\n",
    "swap = OIS(settlement_date, \"4Y\", swapType, 1.9649996758/100.0, fixedFreqType, fixedDCCType, calendar_type = cal); swaps.append(swap)\n",
    "swap = OIS(settlement_date, \"5Y\", swapType, 1.9729995728/100.0, fixedFreqType, fixedDCCType, calendar_type = cal); swaps.append(swap)\n",
    "swap = OIS(settlement_date, \"7Y\", swapType, 2.0252024253/100.0, fixedFreqType, fixedDCCType, calendar_type = cal); swaps.append(swap)\n",
    "swap = OIS(settlement_date, \"10Y\", swapType, 2.1155184592/100.0, fixedFreqType, fixedDCCType, calendar_type = cal); swaps.append(swap)\n",
    "swap = OIS(settlement_date, \"12Y\", swapType, 2.1703001490/100.0, fixedFreqType, fixedDCCType, calendar_type = cal); swaps.append(swap)\n",
    "swap = OIS(settlement_date, \"15Y\", swapType, 2.2254047478/100.0, fixedFreqType, fixedDCCType, calendar_type = cal); swaps.append(swap)\n",
    "swap = OIS(settlement_date, \"20Y\", swapType, 2.2718827283/100.0, fixedFreqType, fixedDCCType, calendar_type = cal); swaps.append(swap)\n",
    "swap = OIS(settlement_date, \"25Y\", swapType, 2.2859679587/100.0, fixedFreqType, fixedDCCType, calendar_type = cal); swaps.append(swap)\n",
    "swap = OIS(settlement_date, \"30Y\", swapType, 2.2865169760/100.0, fixedFreqType, fixedDCCType, calendar_type = cal); swaps.append(swap)\n",
    "swap = OIS(settlement_date, \"40Y\", swapType, 2.2714174506/100.0, fixedFreqType, fixedDCCType, calendar_type = cal); swaps.append(swap)\n",
    "swap = OIS(settlement_date, \"50Y\", swapType, 2.2406175848/100.0, fixedFreqType, fixedDCCType, calendar_type = cal); swaps.append(swap)\n",
    "\n",
    "oisDepos = depos.copy()\n",
    "oisFras = fras.copy()\n",
    "oisSwaps = swaps.copy()"
   ]
  },
  {
   "cell_type": "code",
   "execution_count": 10,
   "metadata": {},
   "outputs": [
    {
     "name": "stdout",
     "output_type": "stream",
     "text": [
      "Inserting synthetic deposit\n"
     ]
    }
   ],
   "source": [
    "oisCurve = OISCurve(valuation_date, oisDepos, oisFras, oisSwaps, interp_type)"
   ]
  },
  {
   "cell_type": "code",
   "execution_count": 12,
   "metadata": {},
   "outputs": [
    {
     "name": "stdout",
     "output_type": "stream",
     "text": [
      "FRI 31 MAY 2019  0.999535824  2.421381\n",
      "FRI 07 JUN 2019  0.999073670  2.417049\n",
      "FRI 14 JUN 2019  0.998606611  2.423489\n",
      "MON 24 JUN 2019  0.997950031  2.416568\n",
      "WED 24 JUL 2019  0.995975016  2.413562\n",
      "TUE 27 AUG 2019  0.993766462  2.402910\n",
      "TUE 24 SEP 2019  0.991967543  2.393717\n",
      "THU 24 OCT 2019  0.990090434  2.376447\n",
      "MON 25 NOV 2019  0.988126263  2.357385\n",
      "MON 24 FEB 2020  0.982812895  2.293629\n",
      "TUE 26 MAY 2020  0.977732042  2.234629\n",
      "TUE 24 NOV 2020  0.968326468  2.137019\n",
      "MON 24 MAY 2021  0.959583156  2.060984\n",
      "TUE 24 MAY 2022  0.942053259  1.988759\n",
      "WED 24 MAY 2023  0.924167141  1.970828\n",
      "FRI 24 MAY 2024  0.905691303  1.979452\n",
      "TUE 26 MAY 2026  0.867091882  2.034410\n",
      "THU 24 MAY 2029  0.807952365  2.130930\n",
      "TUE 27 MAY 2031  0.768581151  2.190515\n",
      "WED 24 MAY 2034  0.713274060  2.251015\n",
      "TUE 24 MAY 2039  0.630852239  2.301875\n",
      "TUE 24 MAY 2044  0.560354153  2.314993\n",
      "MON 24 MAY 2049  0.499557250  2.311775\n",
      "TUE 27 MAY 2059  0.400662706  2.284573\n",
      "FRI 24 MAY 2069  0.327286548  2.232269\n"
     ]
    }
   ],
   "source": [
    "for swap in oisSwaps:\n",
    "    dt = swap._maturity_date\n",
    "    df = oisCurve.df(dt) / oisCurve.df(settlement_date)\n",
    "    ccZeroRate = oisCurve.zero_rate(dt, FrequencyTypes.CONTINUOUS, DayCountTypes.ACT_365F)\n",
    "    print(\"%12s %12.9f %9.6f\"% (dt, df, ccZeroRate*100))"
   ]
  },
  {
   "cell_type": "markdown",
   "metadata": {},
   "source": [
    "## Building the Dual Curve"
   ]
  },
  {
   "cell_type": "code",
   "execution_count": 13,
   "metadata": {},
   "outputs": [],
   "source": [
    "iborDualCurve = IborDualCurve(valuation_date, oisCurve, iborDepos, iborFras, ibor_swaps, interp_type)"
   ]
  },
  {
   "cell_type": "code",
   "execution_count": 14,
   "metadata": {},
   "outputs": [
    {
     "name": "stdout",
     "output_type": "stream",
     "text": [
      "MON 24 MAY 2021  0.955525512  2.272361\n",
      "TUE 24 MAY 2022  0.936021603  2.202529\n",
      "WED 24 MAY 2023  0.916264430  2.185271\n",
      "FRI 24 MAY 2024  0.895994975  2.194403\n",
      "TUE 27 MAY 2025  0.875027987  2.220230\n",
      "TUE 26 MAY 2026  0.854075802  2.250080\n",
      "MON 24 MAY 2027  0.832941876  2.283517\n",
      "WED 24 MAY 2028  0.811559344  2.318005\n",
      "THU 24 MAY 2029  0.790227026  2.352529\n",
      "FRI 24 MAY 2030  0.769093343  2.385058\n",
      "TUE 27 MAY 2031  0.748104569  2.415194\n",
      "WED 24 MAY 2034  0.689109917  2.480579\n",
      "TUE 24 MAY 2039  0.601651493  2.538651\n",
      "TUE 24 MAY 2044  0.527773107  2.554397\n",
      "MON 24 MAY 2049  0.464003484  2.557676\n",
      "TUE 27 MAY 2059  0.363477650  2.527847\n",
      "FRI 24 MAY 2069  0.289564427  2.476999\n"
     ]
    }
   ],
   "source": [
    "for swap in ibor_swaps:\n",
    "    dt = swap._maturity_date\n",
    "    df = iborDualCurve.df(dt) / iborDualCurve.df(settlement_date)\n",
    "    ccZeroRate = iborDualCurve.zero_rate(dt, FrequencyTypes.CONTINUOUS, DayCountTypes.ACT_365F)\n",
    "    print(\"%12s %12.9f %9.6f\"% (dt, df, ccZeroRate*100))"
   ]
  },
  {
   "cell_type": "markdown",
   "metadata": {},
   "source": [
    "## Single vs Dual Curve"
   ]
  },
  {
   "cell_type": "code",
   "execution_count": 15,
   "metadata": {},
   "outputs": [
    {
     "data": {
      "image/png": "[encoded data removed]",
      "text/plain": [
       "<Figure size 864x432 with 1 Axes>"
      ]
     },
     "metadata": {
      "needs_background": "light"
     },
     "output_type": "display_data"
    }
   ],
   "source": [
    "years = np.linspace(9, 24, 100)\n",
    "dates = settlement_date.add_years(years)\n",
    "\n",
    "iborSingleCurveFwds = iborSingleCurve.fwd_rate(dates, \"6M\")    \n",
    "iborDualCurveFwds = iborDualCurve.fwd_rate(dates, \"6M\")\n",
    "\n",
    "plt.figure(figsize=(12,6))\n",
    "plt.plot(years, iborSingleCurveFwds*100.0, label=\"Euribor Single Curve\")\n",
    "plt.plot(years, iborDualCurveFwds*100.0, label=\"Euribor Dual Curve\")\n",
    "plt.xlabel(\"Years\")\n",
    "plt.ylabel(\"Forward Rate (%)\")\n",
    "plt.legend();"
   ]
  },
  {
   "cell_type": "markdown",
   "metadata": {},
   "source": [
    "I calculate the difference between the two curves."
   ]
  },
  {
   "cell_type": "code",
   "execution_count": 16,
   "metadata": {},
   "outputs": [
    {
     "data": {
      "image/png": "[encoded data removed]",
      "text/plain": [
       "<Figure size 864x432 with 1 Axes>"
      ]
     },
     "metadata": {
      "needs_background": "light"
     },
     "output_type": "display_data"
    }
   ],
   "source": [
    "dayMax = 50*360\n",
    "years = np.linspace(1/365, dayMax/365, dayMax)\n",
    "dates = settlement_date.add_years(years)\n",
    "\n",
    "liborSingleCurveFwds = iborSingleCurve.fwd(dates)    \n",
    "liborDualCurveFwds = iborDualCurve.fwd(dates)\n",
    "\n",
    "diff = liborSingleCurveFwds - liborDualCurveFwds\n",
    "\n",
    "plt.figure(figsize=(12,6))\n",
    "plt.plot(years, diff*10000.0, label=\"USD Dual - Single Curve Fwds\")\n",
    "plt.xlabel(\"Years\")\n",
    "plt.ylabel(\"Forward Rate Difference (bp)\")\n",
    "plt.legend();"
   ]
  },
  {
   "cell_type": "markdown",
   "metadata": {},
   "source": [
    "Copyright (c) Dominic O'Kane 2020"
   ]
  }
 ],
 "metadata": {
  "kernelspec": {
   "display_name": "Python 3",
   "language": "python",
   "name": "python3"
  },
  "language_info": {
   "codemirror_mode": {
    "name": "ipython",
    "version": 3
   },
   "file_extension": ".py",
   "mimetype": "text/x-python",
   "name": "python",
   "nbconvert_exporter": "python",
   "pygments_lexer": "ipython3",
   "version": "3.8.5"
  }
 },
 "nbformat": 4,
 "nbformat_minor": 4
}
