{
 "cells": [
  {
   "cell_type": "markdown",
   "metadata": {},
   "source": [
    "# European Swaption Pricing - All Models"
   ]
  },
  {
   "cell_type": "markdown",
   "metadata": {},
   "source": [
    "Value a European Swaption using the Hull-White, Black-Derman-Toy and Black-Karasinski models. I analyse relationships to test the model pricing."
   ]
  },
  {
   "cell_type": "code",
   "execution_count": 1,
   "metadata": {},
   "outputs": [],
   "source": [
    "import numpy as np\n",
    "import matplotlib.pyplot as plt"
   ]
  },
  {
   "cell_type": "code",
   "execution_count": 2,
   "metadata": {
    "tags": []
   },
   "outputs": [
    {
     "name": "stdout",
     "output_type": "stream",
     "text": [
      "####################################################################\n",
      "# FINANCEPY BETA Version 0.200 - This build:  14 Jul 2021 at 16:00 #\n",
      "# **** NEW PEP8 COMPLIANT VERSION -- PLEASE UPDATE YOUR CODE  **** #\n",
      "#      This software is distributed FREE & WITHOUT ANY WARRANTY    #\n",
      "# For info and disclaimer - https://github.com/domokane/FinancePy  #\n",
      "#      Send any bug reports or comments to quant@financepy.com     #\n",
      "####################################################################\n",
      "\n"
     ]
    }
   ],
   "source": [
    "from financepy.utils import *\n",
    "from financepy.products.rates import *\n",
    "from financepy.market.curves import *\n",
    "from financepy.models.hw_tree import HWTree\n",
    "from financepy.models.bk_tree import BKTree\n",
    "from financepy.models.bdt_tree import BDTTree"
   ]
  },
  {
   "cell_type": "markdown",
   "metadata": {},
   "source": [
    "## Discount Curve"
   ]
  },
  {
   "cell_type": "code",
   "execution_count": 3,
   "metadata": {},
   "outputs": [],
   "source": [
    "valuation_date = Date(1, 1, 2011)\n",
    "settlement_date = valuation_date"
   ]
  },
  {
   "cell_type": "markdown",
   "metadata": {},
   "source": [
    "Set up flat discount curve at 6% (semi-annual compounding)"
   ]
  },
  {
   "cell_type": "code",
   "execution_count": 4,
   "metadata": {},
   "outputs": [],
   "source": [
    "libor_curve = DiscountCurveFlat(valuation_date, 0.0625, FrequencyTypes.SEMI_ANNUAL)"
   ]
  },
  {
   "cell_type": "markdown",
   "metadata": {},
   "source": [
    "# Defining the Swaptions"
   ]
  },
  {
   "cell_type": "markdown",
   "metadata": {},
   "source": [
    "We begin with European swaptions. European swaptions can be set up directly as European Swaptions or as Bermudan swaptions with an exercise type of EUROPEAN"
   ]
  },
  {
   "cell_type": "code",
   "execution_count": 5,
   "metadata": {},
   "outputs": [],
   "source": [
    "exercise_date = settlement_date.add_tenor(\"1Y\")\n",
    "swapMaturityDate = settlement_date.add_tenor(\"4Y\")\n",
    "\n",
    "swapFixedCoupon = 0.060\n",
    "swapFixedFrequencyType = FrequencyTypes.SEMI_ANNUAL\n",
    "swapFixedDayCountType = DayCountTypes.ACT_365F\n",
    "swapType = SwapTypes.PAY "
   ]
  },
  {
   "cell_type": "code",
   "execution_count": 6,
   "metadata": {},
   "outputs": [
    {
     "data": {
      "text/plain": [
       "01-JAN-2012"
      ]
     },
     "execution_count": 6,
     "metadata": {},
     "output_type": "execute_result"
    }
   ],
   "source": [
    "exercise_date"
   ]
  },
  {
   "cell_type": "code",
   "execution_count": 7,
   "metadata": {},
   "outputs": [
    {
     "data": {
      "text/plain": [
       "01-JAN-2015"
      ]
     },
     "execution_count": 7,
     "metadata": {},
     "output_type": "execute_result"
    }
   ],
   "source": [
    "swapMaturityDate"
   ]
  },
  {
   "cell_type": "code",
   "execution_count": 8,
   "metadata": {},
   "outputs": [],
   "source": [
    "swaptionPay = IborSwaption(settlement_date,\n",
    "                               exercise_date,\n",
    "                               swapMaturityDate,\n",
    "                               SwapTypes.PAY ,\n",
    "                               swapFixedCoupon,\n",
    "                               swapFixedFrequencyType,\n",
    "                               swapFixedDayCountType)"
   ]
  },
  {
   "cell_type": "code",
   "execution_count": 9,
   "metadata": {},
   "outputs": [],
   "source": [
    "swaptionRec = IborSwaption(settlement_date,\n",
    "                               exercise_date,\n",
    "                               swapMaturityDate,\n",
    "                               SwapTypes.RECEIVE,\n",
    "                               swapFixedCoupon,\n",
    "                               swapFixedFrequencyType,\n",
    "                               swapFixedDayCountType)"
   ]
  },
  {
   "cell_type": "markdown",
   "metadata": {},
   "source": [
    "## Valuation using Black's Model"
   ]
  },
  {
   "cell_type": "markdown",
   "metadata": {},
   "source": [
    "Let's try the zero volatility limit first"
   ]
  },
  {
   "cell_type": "code",
   "execution_count": 10,
   "metadata": {},
   "outputs": [],
   "source": [
    "model = Black(0.00001)"
   ]
  },
  {
   "cell_type": "code",
   "execution_count": 11,
   "metadata": {
    "tags": []
   },
   "outputs": [
    {
     "name": "stdout",
     "output_type": "stream",
     "text": [
      "PAY Value: 6193.31147\n",
      "Recvr Value:   0.00000\n",
      "PayV - RecV: 6193.31147\n"
     ]
    }
   ],
   "source": [
    "valuePay = swaptionPay.value(settlement_date, libor_curve, model)\n",
    "valueRec = swaptionRec.value(settlement_date, libor_curve, model)\n",
    "valuePayRec = valuePay - valueRec\n",
    "print(\"PAY Value: %9.5f\"% valuePay)\n",
    "print(\"Recvr Value: %9.5f\"% valueRec)\n",
    "print(\"PayV - RecV: %9.5f\"% valuePayRec)"
   ]
  },
  {
   "cell_type": "markdown",
   "metadata": {},
   "source": [
    "We can value the forward starting swap."
   ]
  },
  {
   "cell_type": "code",
   "execution_count": 12,
   "metadata": {},
   "outputs": [],
   "source": [
    "swap = IborSwap(exercise_date,\n",
    "                    swapMaturityDate,\n",
    "                    swapType,\n",
    "                    swapFixedCoupon,\n",
    "                    swapFixedFrequencyType,\n",
    "                    swapFixedDayCountType)"
   ]
  },
  {
   "cell_type": "code",
   "execution_count": 13,
   "metadata": {},
   "outputs": [
    {
     "name": "stdout",
     "output_type": "stream",
     "text": [
      "Swap Value: 6193.31147\n"
     ]
    }
   ],
   "source": [
    "swapValue = swap.value(settlement_date, libor_curve, libor_curve)\n",
    "print(\"Swap Value: %9.5f\"% swapValue)"
   ]
  },
  {
   "cell_type": "markdown",
   "metadata": {},
   "source": [
    "At zero volatility the PAY swaption is in the money and is just a forward starting swap so this makes sense."
   ]
  },
  {
   "cell_type": "markdown",
   "metadata": {},
   "source": [
    "Let's repeat with a non-zero volatility"
   ]
  },
  {
   "cell_type": "code",
   "execution_count": 14,
   "metadata": {},
   "outputs": [],
   "source": [
    "model = Black(0.20)"
   ]
  },
  {
   "cell_type": "code",
   "execution_count": 15,
   "metadata": {
    "tags": []
   },
   "outputs": [
    {
     "name": "stdout",
     "output_type": "stream",
     "text": [
      "PAY Value: 15721.54222\n",
      "Recvr Value: 9528.23076\n",
      "PayV - RecV: 6193.31147\n"
     ]
    }
   ],
   "source": [
    "valuePay = swaptionPay.value(settlement_date, libor_curve, model)\n",
    "valueRec = swaptionRec.value(settlement_date, libor_curve, model)\n",
    "valuePayRec = valuePay - valueRec\n",
    "print(\"PAY Value: %9.5f\"% valuePay)\n",
    "print(\"Recvr Value: %9.5f\"% valueRec)\n",
    "print(\"PayV - RecV: %9.5f\"% valuePayRec)"
   ]
  },
  {
   "cell_type": "markdown",
   "metadata": {},
   "source": [
    "The swaption values have changed. Put call parity keeps the difference equal to the value of the forward starting swap."
   ]
  },
  {
   "cell_type": "markdown",
   "metadata": {},
   "source": [
    "We can also value the European option using other models. Let's try Black-Karasinski."
   ]
  },
  {
   "cell_type": "markdown",
   "metadata": {},
   "source": [
    "## Valuation using Shifted Black Model"
   ]
  },
  {
   "cell_type": "code",
   "execution_count": 18,
   "metadata": {},
   "outputs": [],
   "source": [
    "model = BlackShifted(0.00001, 0.002)"
   ]
  },
  {
   "cell_type": "code",
   "execution_count": 19,
   "metadata": {},
   "outputs": [
    {
     "name": "stdout",
     "output_type": "stream",
     "text": [
      "PAY Value: 6193.31147\n",
      "Recvr Value:   0.00000\n",
      "PayV - RecV: 6193.31147\n"
     ]
    }
   ],
   "source": [
    "valuePay = swaptionPay.value(settlement_date, libor_curve, model)\n",
    "valueRec = swaptionRec.value(settlement_date, libor_curve, model)\n",
    "valuePayRec = valuePay - valueRec\n",
    "print(\"PAY Value: %9.5f\"% valuePay)\n",
    "print(\"Recvr Value: %9.5f\"% valueRec)\n",
    "print(\"PayV - RecV: %9.5f\"% valuePayRec)"
   ]
  },
  {
   "cell_type": "code",
   "execution_count": 22,
   "metadata": {},
   "outputs": [],
   "source": [
    "model = BlackShifted(0.20, 0.002)"
   ]
  },
  {
   "cell_type": "code",
   "execution_count": 23,
   "metadata": {},
   "outputs": [
    {
     "name": "stdout",
     "output_type": "stream",
     "text": [
      "PAY Value: 16118.33597\n",
      "Recvr Value: 9925.02451\n",
      "PayV - RecV: 6193.31147\n"
     ]
    }
   ],
   "source": [
    "valuePay = swaptionPay.value(settlement_date, libor_curve, model)\n",
    "valueRec = swaptionRec.value(settlement_date, libor_curve, model)\n",
    "valuePayRec = valuePay - valueRec\n",
    "print(\"PAY Value: %9.5f\"% valuePay)\n",
    "print(\"Recvr Value: %9.5f\"% valueRec)\n",
    "print(\"PayV - RecV: %9.5f\"% valuePayRec)"
   ]
  },
  {
   "cell_type": "markdown",
   "metadata": {},
   "source": [
    "Once again the model satisfies put-call parity."
   ]
  },
  {
   "cell_type": "markdown",
   "metadata": {},
   "source": [
    "## Valuation using Black-Karasinski"
   ]
  },
  {
   "cell_type": "markdown",
   "metadata": {},
   "source": [
    "Start with the zero volatility limit"
   ]
  },
  {
   "cell_type": "code",
   "execution_count": 38,
   "metadata": {},
   "outputs": [],
   "source": [
    "sigma = 0.000001\n",
    "a = 0.01\n",
    "num_time_steps = 200\n",
    "model = BKTree(sigma, a, num_time_steps)"
   ]
  },
  {
   "cell_type": "code",
   "execution_count": 39,
   "metadata": {
    "tags": []
   },
   "outputs": [
    {
     "name": "stdout",
     "output_type": "stream",
     "text": [
      "PAY Value: 6347.52035\n",
      "Recvr Value:   0.00000\n",
      "PayV - RecV: 6347.52035\n"
     ]
    }
   ],
   "source": [
    "valuePay = swaptionPay.value(settlement_date, libor_curve, model)\n",
    "valueRec = swaptionRec.value(settlement_date, libor_curve, model)\n",
    "valuePayRec = valuePay - valueRec\n",
    "print(\"PAY Value: %9.5f\"% valuePay)\n",
    "print(\"Recvr Value: %9.5f\"% valueRec)\n",
    "print(\"PayV - RecV: %9.5f\"% valuePayRec)"
   ]
  },
  {
   "cell_type": "markdown",
   "metadata": {},
   "source": [
    "Only the PAY swaption is in the money and is worth the forward starting swap."
   ]
  },
  {
   "cell_type": "code",
   "execution_count": 26,
   "metadata": {},
   "outputs": [],
   "source": [
    "sigma = 0.20\n",
    "a = 0.01\n",
    "num_time_steps = 200\n",
    "model = BKTree(sigma, a, num_time_steps)"
   ]
  },
  {
   "cell_type": "code",
   "execution_count": 27,
   "metadata": {
    "tags": []
   },
   "outputs": [
    {
     "name": "stdout",
     "output_type": "stream",
     "text": [
      "PAY Value: 15727.42906\n",
      "Recvr Value: 9379.90877\n",
      "PayV - RecV: 6347.52029\n"
     ]
    }
   ],
   "source": [
    "valuePay = swaptionPay.value(settlement_date, libor_curve, model)\n",
    "valueRec = swaptionRec.value(settlement_date, libor_curve, model)\n",
    "valuePayRec = valuePay - valueRec\n",
    "print(\"PAY Value: %9.5f\"% valuePay)\n",
    "print(\"Recvr Value: %9.5f\"% valueRec)\n",
    "print(\"PayV - RecV: %9.5f\"% valuePayRec)"
   ]
  },
  {
   "cell_type": "markdown",
   "metadata": {},
   "source": [
    "At 20% volatility the values are higher but put-call parity is obeyed."
   ]
  },
  {
   "cell_type": "markdown",
   "metadata": {},
   "source": [
    "## Valuation using Black-Derman-Toy"
   ]
  },
  {
   "cell_type": "markdown",
   "metadata": {},
   "source": [
    "Check the zero volatility limit"
   ]
  },
  {
   "cell_type": "code",
   "execution_count": 28,
   "metadata": {},
   "outputs": [],
   "source": [
    "sigma = 0.00001\n",
    "num_time_steps = 200\n",
    "model = BDTTree(sigma, num_time_steps)"
   ]
  },
  {
   "cell_type": "code",
   "execution_count": 29,
   "metadata": {
    "tags": []
   },
   "outputs": [
    {
     "name": "stdout",
     "output_type": "stream",
     "text": [
      "PAY Value: 6347.28920\n",
      "Recvr Value:   0.00000\n",
      "PayV - RecV: 6347.28920\n"
     ]
    }
   ],
   "source": [
    "valuePay = swaptionPay.value(settlement_date, libor_curve, model)\n",
    "valueRec = swaptionRec.value(settlement_date, libor_curve, model)\n",
    "valuePayRec = valuePay - valueRec\n",
    "print(\"PAY Value: %9.5f\"% valuePay)\n",
    "print(\"Recvr Value: %9.5f\"% valueRec)\n",
    "print(\"PayV - RecV: %9.5f\"% valuePayRec)"
   ]
  },
  {
   "cell_type": "markdown",
   "metadata": {},
   "source": [
    "Same result as before."
   ]
  },
  {
   "cell_type": "code",
   "execution_count": 30,
   "metadata": {},
   "outputs": [],
   "source": [
    "sigma = 0.20\n",
    "num_time_steps = 200\n",
    "model = BDTTree(sigma, num_time_steps)"
   ]
  },
  {
   "cell_type": "code",
   "execution_count": 31,
   "metadata": {
    "tags": []
   },
   "outputs": [
    {
     "name": "stdout",
     "output_type": "stream",
     "text": [
      "PAY Value: 15990.91739\n",
      "Recvr Value: 9639.93743\n",
      "PayV - RecV: 6350.97996\n"
     ]
    }
   ],
   "source": [
    "valuePay = swaptionPay.value(settlement_date, libor_curve, model)\n",
    "valueRec = swaptionRec.value(settlement_date, libor_curve, model)\n",
    "valuePayRec = valuePay - valueRec\n",
    "print(\"PAY Value: %9.5f\"% valuePay)\n",
    "print(\"Recvr Value: %9.5f\"% valueRec)\n",
    "print(\"PayV - RecV: %9.5f\"% valuePayRec)"
   ]
  },
  {
   "cell_type": "markdown",
   "metadata": {},
   "source": [
    "At 20% volatility the values are higher but put-call parity is obeyed."
   ]
  },
  {
   "cell_type": "markdown",
   "metadata": {},
   "source": [
    "## Valuation using Hull-White Model"
   ]
  },
  {
   "cell_type": "markdown",
   "metadata": {},
   "source": [
    "We do the zero volatility limit first."
   ]
  },
  {
   "cell_type": "code",
   "execution_count": 32,
   "metadata": {},
   "outputs": [],
   "source": [
    "sigma = 0.0000001\n",
    "a = 0.01\n",
    "num_time_steps = 200\n",
    "model = HWTree(sigma, a)"
   ]
  },
  {
   "cell_type": "markdown",
   "metadata": {},
   "source": [
    "This is analytical as it uses Jamshidians method."
   ]
  },
  {
   "cell_type": "code",
   "execution_count": 33,
   "metadata": {
    "tags": []
   },
   "outputs": [
    {
     "name": "stdout",
     "output_type": "stream",
     "text": [
      "PAY Value: 6348.45763\n",
      "Recvr Value:   0.00000\n",
      "PayV - RecV: 6348.45763\n"
     ]
    }
   ],
   "source": [
    "valuePay = swaptionPay.value(settlement_date, libor_curve, model)\n",
    "valueRec = swaptionRec.value(settlement_date, libor_curve, model)\n",
    "valuePayRec = valuePay - valueRec\n",
    "print(\"PAY Value: %9.5f\"% valuePay)\n",
    "print(\"Recvr Value: %9.5f\"% valueRec)\n",
    "print(\"PayV - RecV: %9.5f\"% valuePayRec)"
   ]
  },
  {
   "cell_type": "markdown",
   "metadata": {},
   "source": [
    "This is as expected."
   ]
  },
  {
   "cell_type": "code",
   "execution_count": 34,
   "metadata": {},
   "outputs": [],
   "source": [
    "sigma = 0.01\n",
    "a = 0.01\n",
    "num_time_steps = 200\n",
    "model = HWTree(sigma, a)"
   ]
  },
  {
   "cell_type": "code",
   "execution_count": 35,
   "metadata": {
    "tags": []
   },
   "outputs": [
    {
     "name": "stdout",
     "output_type": "stream",
     "text": [
      "PAY Value: 13721.09708\n",
      "Recvr Value: 7372.76925\n",
      "PayV - RecV: 6348.32782\n"
     ]
    }
   ],
   "source": [
    "valuePay = swaptionPay.value(settlement_date, libor_curve, model)\n",
    "valueRec = swaptionRec.value(settlement_date, libor_curve, model)\n",
    "valuePayRec = valuePay - valueRec\n",
    "print(\"PAY Value: %9.5f\"% valuePay)\n",
    "print(\"Recvr Value: %9.5f\"% valueRec)\n",
    "print(\"PayV - RecV: %9.5f\"% valuePayRec)"
   ]
  },
  {
   "cell_type": "markdown",
   "metadata": {},
   "source": [
    "Once again put-call parity is obeyed."
   ]
  },
  {
   "cell_type": "markdown",
   "metadata": {},
   "source": [
    "# Tree Convergence Testing"
   ]
  },
  {
   "cell_type": "markdown",
   "metadata": {},
   "source": [
    "## BK Model"
   ]
  },
  {
   "cell_type": "code",
   "execution_count": 36,
   "metadata": {},
   "outputs": [
    {
     "data": {
      "image/png": "[encoded data removed]",
      "text/plain": [
       "<Figure size 432x288 with 1 Axes>"
      ]
     },
     "metadata": {
      "needs_background": "light"
     },
     "output_type": "display_data"
    }
   ],
   "source": [
    "sigma = 0.2012\n",
    "a = 0.04\n",
    "\n",
    "timeSteps = range(100,500,1)\n",
    "values = []\n",
    "for num_time_steps in timeSteps:\n",
    "    model = BKTree(sigma, a, num_time_steps)\n",
    "    v = swaptionPay.value(valuation_date, libor_curve, model)\n",
    "    values.append(v)\n",
    "\n",
    "plt.plot(timeSteps, values);"
   ]
  },
  {
   "cell_type": "markdown",
   "metadata": {},
   "source": [
    "Averaging even and odd values will improve convergence."
   ]
  },
  {
   "cell_type": "markdown",
   "metadata": {},
   "source": [
    "## BDT Model"
   ]
  },
  {
   "cell_type": "code",
   "execution_count": 37,
   "metadata": {},
   "outputs": [
    {
     "data": {
      "image/png": "[encoded data removed]",
      "text/plain": [
       "<Figure size 432x288 with 1 Axes>"
      ]
     },
     "metadata": {
      "needs_background": "light"
     },
     "output_type": "display_data"
    }
   ],
   "source": [
    "sigma = 0.2012\n",
    "\n",
    "timeSteps = range(100,500,1)\n",
    "values = []\n",
    "for num_time_steps in timeSteps:\n",
    "    model = BDTTree(sigma, num_time_steps)\n",
    "    v = swaptionPay.value(settlement_date, libor_curve, model)\n",
    "    values.append(v)\n",
    "    \n",
    "plt.plot(timeSteps, values);"
   ]
  },
  {
   "cell_type": "markdown",
   "metadata": {},
   "source": [
    "Averaging even and odd values will improve convergence."
   ]
  },
  {
   "cell_type": "markdown",
   "metadata": {},
   "source": [
    "Copyright (c) 2020 Dominic O'Kane"
   ]
  }
 ],
 "metadata": {
  "kernelspec": {
   "display_name": "Python 3",
   "language": "python",
   "name": "python3"
  },
  "language_info": {
   "codemirror_mode": {
    "name": "ipython",
    "version": 3
   },
   "file_extension": ".py",
   "mimetype": "text/x-python",
   "name": "python",
   "nbconvert_exporter": "python",
   "pygments_lexer": "ipython3",
   "version": "3.8.5"
  }
 },
 "nbformat": 4,
 "nbformat_minor": 2
}
