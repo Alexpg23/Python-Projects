{
 "cells": [
  {
   "cell_type": "markdown",
   "metadata": {},
   "source": [
    "# Building a Dual Ibor Curve"
   ]
  },
  {
   "cell_type": "markdown",
   "metadata": {},
   "source": [
    "The aim is to construct an IBOR curve that uses OIS discounting"
   ]
  },
  {
   "cell_type": "code",
   "execution_count": 1,
   "metadata": {},
   "outputs": [],
   "source": [
    "import numpy as np\n",
    "import matplotlib.pyplot as plt"
   ]
  },
  {
   "cell_type": "code",
   "execution_count": 2,
   "metadata": {},
   "outputs": [
    {
     "name": "stdout",
     "output_type": "stream",
     "text": [
      "####################################################################\n",
      "# FINANCEPY BETA Version 0.200 - This build:  14 Jul 2021 at 16:00 #\n",
      "# **** NEW PEP8 COMPLIANT VERSION -- PLEASE UPDATE YOUR CODE  **** #\n",
      "#      This software is distributed FREE & WITHOUT ANY WARRANTY    #\n",
      "# For info and disclaimer - https://github.com/domokane/FinancePy  #\n",
      "#      Send any bug reports or comments to quant@financepy.com     #\n",
      "####################################################################\n",
      "\n"
     ]
    }
   ],
   "source": [
    "from financepy.utils import *\n",
    "from financepy.products.rates import *"
   ]
  },
  {
   "cell_type": "code",
   "execution_count": 3,
   "metadata": {},
   "outputs": [],
   "source": [
    "set_date_format(DateFormatTypes.UK_LONGEST)"
   ]
  },
  {
   "cell_type": "code",
   "execution_count": 4,
   "metadata": {},
   "outputs": [],
   "source": [
    "valuation_date = Date(18, 9, 2019)"
   ]
  },
  {
   "cell_type": "markdown",
   "metadata": {},
   "source": [
    "## Building the Discount Curve"
   ]
  },
  {
   "cell_type": "markdown",
   "metadata": {},
   "source": [
    "This is based on OIS rates. We anchor the short end using the overnight rate."
   ]
  },
  {
   "cell_type": "code",
   "execution_count": 5,
   "metadata": {},
   "outputs": [],
   "source": [
    "onRate = 0.045\n",
    "\n",
    "depoDCCType = DayCountTypes.THIRTY_E_360_ISDA\n",
    "depos = []\n",
    "spot_days = 2\n",
    "settlement_date = valuation_date.add_weekdays(spot_days)\n",
    "depo = IborDeposit(settlement_date, \"1D\", onRate, depoDCCType); depos.append(depo)"
   ]
  },
  {
   "cell_type": "code",
   "execution_count": 6,
   "metadata": {},
   "outputs": [
    {
     "data": {
      "text/plain": [
       "FRI 20 SEP 2019"
      ]
     },
     "execution_count": 6,
     "metadata": {},
     "output_type": "execute_result"
    }
   ],
   "source": [
    "settlement_date"
   ]
  },
  {
   "cell_type": "markdown",
   "metadata": {},
   "source": [
    "We use swaps with a regular term"
   ]
  },
  {
   "cell_type": "code",
   "execution_count": 7,
   "metadata": {},
   "outputs": [],
   "source": [
    "oiss = []\n",
    "swapType = SwapTypes.PAY\n",
    "fixedDCCType = DayCountTypes.ACT_365F\n",
    "fixedFreqType = FrequencyTypes.SEMI_ANNUAL\n",
    "\n",
    "swap = OIS(settlement_date, \"1Y\", swapType, onRate + 0.0001, fixedFreqType, fixedDCCType); oiss.append(swap)\n",
    "swap = OIS(settlement_date, \"2Y\", swapType, onRate + 0.0003, fixedFreqType, fixedDCCType); oiss.append(swap)\n",
    "swap = OIS(settlement_date, \"3Y\", swapType, onRate + 0.0010, fixedFreqType, fixedDCCType); oiss.append(swap)\n",
    "swap = OIS(settlement_date, \"4Y\", swapType, onRate + 0.0015, fixedFreqType, fixedDCCType); oiss.append(swap)\n",
    "swap = OIS(settlement_date, \"5Y\", swapType, onRate + 0.0020, fixedFreqType, fixedDCCType); oiss.append(swap)\n",
    "swap = OIS(settlement_date, \"7Y\", swapType, onRate + 0.0030, fixedFreqType, fixedDCCType); oiss.append(swap)\n",
    "swap = OIS(settlement_date, \"10Y\", swapType, onRate + 0.0035, fixedFreqType, fixedDCCType); oiss.append(swap)"
   ]
  },
  {
   "cell_type": "code",
   "execution_count": 8,
   "metadata": {},
   "outputs": [
    {
     "name": "stdout",
     "output_type": "stream",
     "text": [
      "Inserting synthetic deposit\n"
     ]
    }
   ],
   "source": [
    "oisCurve = OISCurve(valuation_date, depos, [], oiss, InterpTypes.FLAT_FWD_RATES)"
   ]
  },
  {
   "cell_type": "markdown",
   "metadata": {},
   "source": [
    "Let's just check a repricing by looking at the value of the longest OIS."
   ]
  },
  {
   "cell_type": "code",
   "execution_count": 9,
   "metadata": {},
   "outputs": [
    {
     "name": "stdout",
     "output_type": "stream",
     "text": [
      "MON 21 SEP 2020  -0.000000000000\n",
      "MON 20 SEP 2021  -0.000000000000\n",
      "TUE 20 SEP 2022  -0.000000000000\n",
      "WED 20 SEP 2023   0.000000000000\n",
      "FRI 20 SEP 2024   0.000000000000\n",
      "MON 21 SEP 2026  -0.000000000000\n",
      "THU 20 SEP 2029  -0.000000000001\n"
     ]
    }
   ],
   "source": [
    "for swap in oiss:\n",
    "    v_single = swap.value(valuation_date, oisCurve) / swap._fixed_leg._notional\n",
    "    print(\"%12s  %15.12f\" % (swap._maturity_date, v_single))"
   ]
  },
  {
   "cell_type": "markdown",
   "metadata": {},
   "source": [
    "This is effectively zero. So they are all repriced."
   ]
  },
  {
   "cell_type": "markdown",
   "metadata": {},
   "source": [
    "## Building the 3M IBOR Curve"
   ]
  },
  {
   "cell_type": "markdown",
   "metadata": {},
   "source": [
    "We use ON rate, 3M Ibor FRAs and IBOR swaps with a 3M floating Leg (this is the default for IborSwap)"
   ]
  },
  {
   "cell_type": "code",
   "execution_count": 10,
   "metadata": {},
   "outputs": [],
   "source": [
    "depoDCCType = DayCountTypes.THIRTY_E_360_ISDA\n",
    "depos = []\n",
    "depo = IborDeposit(settlement_date, \"1D\", onRate, depoDCCType); depos.append(depo)\n",
    "\n",
    "payFixed = True\n",
    "fras = []\n",
    "\n",
    "# 1 x 4 FRA\n",
    "fraRate = onRate + 0.0003\n",
    "fraSettlementDate = settlement_date.add_months(1)\n",
    "fraMaturityDate = settlement_date.add_months(4)\n",
    "fra = IborFRA(fraSettlementDate, fraMaturityDate, fraRate, depoDCCType)\n",
    "fras.append(fra)\n",
    "\n",
    "# 2 x 5 FRA\n",
    "fraRate = onRate + 0.0005\n",
    "fraSettlementDate = settlement_date.add_months(2)\n",
    "fraMaturityDate = settlement_date.add_months(5)\n",
    "fra = IborFRA(fraSettlementDate, fraMaturityDate, fraRate, depoDCCType)\n",
    "fras.append(fra)\n",
    "\n",
    "# 3 x 6 FRA\n",
    "fraRate = onRate + 0.0007\n",
    "fraSettlementDate = settlement_date.add_months(3)\n",
    "fraMaturityDate = settlement_date.add_months(6)\n",
    "fra = IborFRA(fraSettlementDate, fraMaturityDate, fraRate, depoDCCType)\n",
    "fras.append(fra)\n",
    "\n",
    "# 4 x 7 FRA\n",
    "fraRate = onRate + 0.0007\n",
    "fraSettlementDate = settlement_date.add_months(4)\n",
    "fraMaturityDate = settlement_date.add_months(7)\n",
    "fra = IborFRA(fraSettlementDate, fraMaturityDate, fraRate, depoDCCType)\n",
    "fras.append(fra)\n",
    "\n",
    "# 5 x 8 FRA\n",
    "fraRate = onRate + 0.0008\n",
    "fraSettlementDate = settlement_date.add_months(5)\n",
    "fraMaturityDate = settlement_date.add_months(8)\n",
    "fra = IborFRA(fraSettlementDate, fraMaturityDate, fraRate, depoDCCType)\n",
    "fras.append(fra)\n",
    "\n",
    "swaps = []\n",
    "swapType = SwapTypes.PAY\n",
    "fixedDCCType = DayCountTypes.ACT_365F\n",
    "fixedFreqType = FrequencyTypes.SEMI_ANNUAL\n",
    "\n",
    "swap = IborSwap(settlement_date, \"1Y\", swapType, 0.0470, fixedFreqType, fixedDCCType); swaps.append(swap)\n",
    "swap = IborSwap(settlement_date, \"3Y\", swapType, 0.0475, fixedFreqType, fixedDCCType); swaps.append(swap)\n",
    "swap = IborSwap(settlement_date, \"5Y\", swapType, 0.0490, fixedFreqType, fixedDCCType); swaps.append(swap)\n",
    "swap = IborSwap(settlement_date, \"7Y\", swapType, 0.0510, fixedFreqType, fixedDCCType); swaps.append(swap)\n",
    "swap = IborSwap(settlement_date, \"10Y\", swapType, 0.0520, fixedFreqType, fixedDCCType); swaps.append(swap)"
   ]
  },
  {
   "cell_type": "markdown",
   "metadata": {},
   "source": [
    "Let's first build a single curve that assumes index and funding rates are same"
   ]
  },
  {
   "cell_type": "markdown",
   "metadata": {},
   "source": [
    "Note that for ease of comparison I use flat forward interpolation"
   ]
  },
  {
   "cell_type": "code",
   "execution_count": 11,
   "metadata": {},
   "outputs": [
    {
     "data": {
      "text/plain": [
       "OBJECT TYPE: IborDeposit\n",
       "START DATE: FRI 20 SEP 2019\n",
       "MATURITY DATE: MON 23 SEP 2019\n",
       "NOTIONAL: 100.0\n",
       "DEPOSIT RATE: 0.045\n",
       "DAY COUNT TYPE: DayCountTypes.THIRTY_E_360_ISDA\n",
       "CALENDAR: CalendarTypes.WEEKEND\n",
       "BUS DAY ADJUST TYPE: BusDayAdjustTypes.MODIFIED_FOLLOWING"
      ]
     },
     "execution_count": 11,
     "metadata": {},
     "output_type": "execute_result"
    }
   ],
   "source": [
    "depos[0]"
   ]
  },
  {
   "cell_type": "code",
   "execution_count": 12,
   "metadata": {},
   "outputs": [],
   "source": [
    "iborSingleCurve = IborSingleCurve(valuation_date, depos, fras, swaps, InterpTypes.FLAT_FWD_RATES)"
   ]
  },
  {
   "cell_type": "markdown",
   "metadata": {},
   "source": [
    "Let's check repricing of FRAs and Swaps"
   ]
  },
  {
   "cell_type": "code",
   "execution_count": 13,
   "metadata": {},
   "outputs": [
    {
     "name": "stdout",
     "output_type": "stream",
     "text": [
      "MON 20 JAN 2020     0.000000000000\n",
      "THU 20 FEB 2020     0.000000000000\n",
      "FRI 20 MAR 2020    -0.000000000000\n",
      "MON 20 APR 2020    -0.000000000000\n",
      "WED 20 MAY 2020    -0.000000000000\n"
     ]
    }
   ],
   "source": [
    "for fra in fras:\n",
    "    v = fra.value(valuation_date, iborSingleCurve)/ fra._notional\n",
    "    print(\"%12s %18.12f\" % (fra._maturity_date, v))"
   ]
  },
  {
   "cell_type": "code",
   "execution_count": 14,
   "metadata": {},
   "outputs": [
    {
     "name": "stdout",
     "output_type": "stream",
     "text": [
      "MON 21 SEP 2020    -0.000000000000\n",
      "TUE 20 SEP 2022    -0.000000000000\n",
      "FRI 20 SEP 2024    -0.000000000000\n",
      "MON 21 SEP 2026    -0.000000000000\n",
      "THU 20 SEP 2029    -0.000000000002\n"
     ]
    }
   ],
   "source": [
    "for swap in swaps:\n",
    "    v = swap.value(valuation_date, iborSingleCurve)/ swap._fixed_leg._notional\n",
    "    print(\"%12s %18.12f\" %(swap._maturity_date, v))"
   ]
  },
  {
   "cell_type": "markdown",
   "metadata": {},
   "source": [
    "The fit looks perfect"
   ]
  },
  {
   "cell_type": "markdown",
   "metadata": {},
   "source": [
    "## Building the Dual Curve"
   ]
  },
  {
   "cell_type": "markdown",
   "metadata": {},
   "source": [
    "Let's build a dual curve that incorporates funding and index curve differential."
   ]
  },
  {
   "cell_type": "code",
   "execution_count": 15,
   "metadata": {},
   "outputs": [],
   "source": [
    "iborDualCurve = IborDualCurve(valuation_date, oisCurve, depos, fras, swaps, InterpTypes.FLAT_FWD_RATES)"
   ]
  },
  {
   "cell_type": "code",
   "execution_count": 16,
   "metadata": {},
   "outputs": [
    {
     "name": "stdout",
     "output_type": "stream",
     "text": [
      "MON 20 JAN 2020    -0.000000000000\n",
      "THU 20 FEB 2020     0.000000000001\n",
      "FRI 20 MAR 2020     0.000000000001\n",
      "MON 20 APR 2020     0.000000000001\n",
      "WED 20 MAY 2020     0.000000000001\n"
     ]
    }
   ],
   "source": [
    "for fra in fras:\n",
    "    v_dual = fra.value(valuation_date, oisCurve, iborDualCurve) / fra._notional\n",
    "    print(\"%12s %18.12f\"% (fra._maturity_date, v_dual))"
   ]
  },
  {
   "cell_type": "code",
   "execution_count": 17,
   "metadata": {},
   "outputs": [
    {
     "name": "stdout",
     "output_type": "stream",
     "text": [
      "MON 21 SEP 2020     0.000000000000\n",
      "TUE 20 SEP 2022    -0.000000000000\n",
      "FRI 20 SEP 2024    -0.000000000000\n",
      "MON 21 SEP 2026    -0.000000000000\n",
      "THU 20 SEP 2029    -0.000000000000\n"
     ]
    }
   ],
   "source": [
    "for swap in swaps:\n",
    "    v_dual = swap.value(valuation_date, oisCurve, iborDualCurve) / swap._fixed_leg._notional\n",
    "    print(\"%12s %18.12f\"% (swap._maturity_date, v_dual))"
   ]
  },
  {
   "cell_type": "markdown",
   "metadata": {},
   "source": [
    "This is within the allowed tolerance."
   ]
  },
  {
   "cell_type": "markdown",
   "metadata": {},
   "source": [
    "## Comparison of Curves"
   ]
  },
  {
   "cell_type": "markdown",
   "metadata": {},
   "source": [
    "We examine the forward rates of the three curves"
   ]
  },
  {
   "cell_type": "code",
   "execution_count": 18,
   "metadata": {},
   "outputs": [
    {
     "data": {
      "image/png": "[encoded data removed]",
      "text/plain": [
       "<Figure size 432x288 with 1 Axes>"
      ]
     },
     "metadata": {
      "needs_background": "light"
     },
     "output_type": "display_data"
    }
   ],
   "source": [
    "years = np.linspace(0, 10, 1201)\n",
    "dates = settlement_date.add_years(years)\n",
    "    \n",
    "singleCurveFwds = iborSingleCurve.fwd(dates)   \n",
    "plt.plot(years, singleCurveFwds*100, label=\"Single Libor Curve\")\n",
    " \n",
    "oisCurveFwds = oisCurve.fwd(dates)    \n",
    "plt.plot(years, oisCurveFwds*100.0, label=\"OIS Curve\")\n",
    "\n",
    "index_curveFwds = iborDualCurve.fwd(dates)    \n",
    "plt.plot(years, index_curveFwds*100.0, label=\"Libor Index Curve\")\n",
    "        \n",
    "plt.legend();"
   ]
  },
  {
   "cell_type": "code",
   "execution_count": 19,
   "metadata": {},
   "outputs": [
    {
     "data": {
      "text/plain": [
       "<matplotlib.legend.Legend at 0x220a9f31b20>"
      ]
     },
     "execution_count": 19,
     "metadata": {},
     "output_type": "execute_result"
    },
    {
     "data": {
      "image/png": "[encoded data removed]",
      "text/plain": [
       "<Figure size 432x288 with 1 Axes>"
      ]
     },
     "metadata": {
      "needs_background": "light"
     },
     "output_type": "display_data"
    }
   ],
   "source": [
    "diff = (index_curveFwds - singleCurveFwds)*10000\n",
    "plt.plot(years, diff, label=\"Libor funding FWD vs OIS Funding FWD (bps)\")\n",
    "plt.legend()"
   ]
  },
  {
   "cell_type": "markdown",
   "metadata": {},
   "source": [
    "The difference is small but not negligible."
   ]
  },
  {
   "cell_type": "markdown",
   "metadata": {},
   "source": [
    "Copyright (c) Dominic O'Kane 2020"
   ]
  }
 ],
 "metadata": {
  "kernelspec": {
   "display_name": "Python 3",
   "language": "python",
   "name": "python3"
  },
  "language_info": {
   "codemirror_mode": {
    "name": "ipython",
    "version": 3
   },
   "file_extension": ".py",
   "mimetype": "text/x-python",
   "name": "python",
   "nbconvert_exporter": "python",
   "pygments_lexer": "ipython3",
   "version": "3.8.5"
  }
 },
 "nbformat": 4,
 "nbformat_minor": 4
}
