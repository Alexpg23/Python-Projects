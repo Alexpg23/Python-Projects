{
 "cells": [
  {
   "cell_type": "markdown",
   "metadata": {},
   "source": [
    "# Building a Simple Ibor Single Curve"
   ]
  },
  {
   "cell_type": "markdown",
   "metadata": {},
   "source": [
    "Simple Ibor curve that assumes Ibor discounting."
   ]
  },
  {
   "cell_type": "code",
   "execution_count": 1,
   "metadata": {},
   "outputs": [],
   "source": [
    "import numpy as np\n",
    "import matplotlib.pyplot as plt"
   ]
  },
  {
   "cell_type": "code",
   "execution_count": 2,
   "metadata": {},
   "outputs": [
    {
     "name": "stdout",
     "output_type": "stream",
     "text": [
      "####################################################################\n",
      "# FINANCEPY BETA Version 0.185 - This build:  24 Oct 2020 at 20:12 #\n",
      "#      This software is distributed FREE & WITHOUT ANY WARRANTY    #\n",
      "# For info and disclaimer - https://github.com/domokane/FinancePy  #\n",
      "#      Send any bug reports or comments to quant@financepy.com     #\n",
      "####################################################################\n",
      "\n"
     ]
    }
   ],
   "source": [
    "from financepy.utils import *\n",
    "from financepy.products.rates import *"
   ]
  },
  {
   "cell_type": "code",
   "execution_count": 3,
   "metadata": {},
   "outputs": [],
   "source": [
    "valuation_date = Date(18, 9, 2019)"
   ]
  },
  {
   "cell_type": "markdown",
   "metadata": {},
   "source": [
    "## Building the Curve"
   ]
  },
  {
   "cell_type": "code",
   "execution_count": 4,
   "metadata": {},
   "outputs": [],
   "source": [
    "depoDCCType = DayCountTypes.THIRTY_E_360_ISDA\n",
    "depos = []\n",
    "spot_days = 2\n",
    "settlement_date = valuation_date.add_weekdays(spot_days)\n",
    "\n",
    "depo = IborDeposit(settlement_date, \"1M\", 0.0200, depoDCCType); depos.append(depo)\n",
    "depo = IborDeposit(settlement_date, \"3M\", 0.0230, depoDCCType); depos.append(depo)\n",
    "depo = IborDeposit(settlement_date, \"6M\", 0.0250, depoDCCType); depos.append(depo)\n",
    "depo = IborDeposit(settlement_date, \"9M\", 0.0280, depoDCCType); depos.append(depo)\n",
    "depo = IborDeposit(settlement_date, \"12M\", 0.0310, depoDCCType); depos.append(depo)\n",
    "\n",
    "swaps = []\n",
    "swapType = SwapTypes.PAY\n",
    "fixedDCCType = DayCountTypes.ACT_365F\n",
    "fixedFreqType = FrequencyTypes.SEMI_ANNUAL\n",
    "\n",
    "swap = IborSwap(settlement_date, \"2Y\", swapType, 0.0320, fixedFreqType, fixedDCCType); swaps.append(swap)\n",
    "swap = IborSwap(settlement_date, \"3Y\", swapType, 0.0350, fixedFreqType, fixedDCCType); swaps.append(swap)\n",
    "swap = IborSwap(settlement_date, \"4Y\", swapType, 0.0375, fixedFreqType, fixedDCCType); swaps.append(swap)\n",
    "swap = IborSwap(settlement_date, \"5Y\", swapType, 0.0400, fixedFreqType, fixedDCCType); swaps.append(swap)\n",
    "swap = IborSwap(settlement_date, \"7Y\", swapType, 0.0420, fixedFreqType, fixedDCCType); swaps.append(swap)\n",
    "swap = IborSwap(settlement_date, \"10Y\", swapType, 0.0410, fixedFreqType, fixedDCCType); swaps.append(swap)"
   ]
  },
  {
   "cell_type": "code",
   "execution_count": 5,
   "metadata": {},
   "outputs": [
    {
     "name": "stdout",
     "output_type": "stream",
     "text": [
      "Inserting synthetic deposit\n"
     ]
    }
   ],
   "source": [
    "libor_curve = IborSingleCurve(valuation_date, depos, [], swaps)"
   ]
  },
  {
   "cell_type": "markdown",
   "metadata": {},
   "source": [
    "Copyright (c) Dominic O'Kane 2020"
   ]
  }
 ],
 "metadata": {
  "kernelspec": {
   "display_name": "Python 3",
   "language": "python",
   "name": "python3"
  },
  "language_info": {
   "codemirror_mode": {
    "name": "ipython",
    "version": 3
   },
   "file_extension": ".py",
   "mimetype": "text/x-python",
   "name": "python",
   "nbconvert_exporter": "python",
   "pygments_lexer": "ipython3",
   "version": "3.7.6"
  }
 },
 "nbformat": 4,
 "nbformat_minor": 4
}
