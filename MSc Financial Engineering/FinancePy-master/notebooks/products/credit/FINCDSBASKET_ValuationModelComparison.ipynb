{
 "cells": [
  {
   "cell_type": "markdown",
   "metadata": {},
   "source": [
    "# Determining the CDS Basket Spread"
   ]
  },
  {
   "cell_type": "markdown",
   "metadata": {},
   "source": [
    "An analysis of pricing a CDS Basket "
   ]
  },
  {
   "cell_type": "markdown",
   "metadata": {},
   "source": [
    "## NOTE THAT THE API WILL CHANGE BUT THE UNDERLYING MODELS WILL REMAIN"
   ]
  },
  {
   "cell_type": "code",
   "execution_count": 1,
   "metadata": {},
   "outputs": [],
   "source": [
    "import numpy as np\n",
    "import matplotlib.pyplot as plt"
   ]
  },
  {
   "cell_type": "code",
   "execution_count": 2,
   "metadata": {},
   "outputs": [
    {
     "name": "stdout",
     "output_type": "stream",
     "text": [
      "####################################################################\n",
      "# FINANCEPY BETA Version 0.200 - This build:  14 Jul 2021 at 13:18 #\n",
      "# **** NEW PEP8 COMPLIANT VERSION -- PLEASE UPDATE YOUR CODE  **** #\n",
      "#      This software is distributed FREE & WITHOUT ANY WARRANTY    #\n",
      "# For info and disclaimer - https://github.com/domokane/FinancePy  #\n",
      "#      Send any bug reports or comments to quant@financepy.com     #\n",
      "####################################################################\n",
      "\n"
     ]
    }
   ],
   "source": [
    "from financepy.products.credit import *\n",
    "from financepy.products.rates import *\n",
    "from financepy.utils import *"
   ]
  },
  {
   "cell_type": "code",
   "execution_count": 3,
   "metadata": {},
   "outputs": [],
   "source": [
    "valuation_date = Date(1, 8, 2007)\n",
    "settlement_date = valuation_date.add_weekdays(1)"
   ]
  },
  {
   "cell_type": "markdown",
   "metadata": {},
   "source": [
    "## Build Ibor Curve"
   ]
  },
  {
   "cell_type": "code",
   "execution_count": 4,
   "metadata": {},
   "outputs": [],
   "source": [
    "dcType = DayCountTypes.THIRTY_E_360_ISDA\n",
    "fixedFreq = FrequencyTypes.SEMI_ANNUAL\n",
    "swapType = SwapTypes.PAY\n",
    "depo = IborDeposit(settlement_date, \"1D\", 0.0502, dcType)\n",
    "depos = [depo]\n",
    "swap1 = IborSwap(settlement_date,\"1Y\",swapType,0.0502,fixedFreq,dcType)\n",
    "swap2 = IborSwap(settlement_date,\"2Y\",swapType,0.0502,fixedFreq,dcType)\n",
    "swap3 = IborSwap(settlement_date,\"3Y\",swapType,0.0501,fixedFreq,dcType)\n",
    "swap4 = IborSwap(settlement_date,\"4Y\",swapType,0.0502,fixedFreq,dcType)\n",
    "swap5 = IborSwap(settlement_date,\"5Y\",swapType,0.0501,fixedFreq,dcType)\n",
    "swaps = [swap1,swap2,swap3,swap4,swap5]\n",
    "\n",
    "libor_curve = IborSingleCurve(valuation_date, depos, [], swaps)"
   ]
  },
  {
   "cell_type": "markdown",
   "metadata": {},
   "source": [
    "We treat an index as a CDS contract with a flat CDS curve at the CDS index spread for the same maturity"
   ]
  },
  {
   "cell_type": "markdown",
   "metadata": {},
   "source": [
    "## Create the Underlying CDS Index Portfolio"
   ]
  },
  {
   "cell_type": "code",
   "execution_count": 5,
   "metadata": {},
   "outputs": [],
   "source": [
    "step_in_date = valuation_date.add_weekdays(0)\n",
    "valuation_date = step_in_date"
   ]
  },
  {
   "cell_type": "code",
   "execution_count": 6,
   "metadata": {},
   "outputs": [],
   "source": [
    "maturity3Y = valuation_date.next_cds_date(36)\n",
    "maturity5Y = valuation_date.next_cds_date(60)\n",
    "maturity7Y = valuation_date.next_cds_date(84)\n",
    "maturity10Y = valuation_date.next_cds_date(120)"
   ]
  },
  {
   "cell_type": "markdown",
   "metadata": {},
   "source": [
    "### Heterogeneous Curves"
   ]
  },
  {
   "cell_type": "code",
   "execution_count": 8,
   "metadata": {},
   "outputs": [],
   "source": [
    "f = open('.//data//CDX_NA_IG_S7_SPREADS.csv', 'r')\n",
    "data = f.readlines()\n",
    "heteroIssuerCurves = []\n",
    "\n",
    "num_credits = len(data) - 1  # The file has a header\n",
    "\n",
    "for row in data[1:]:\n",
    "    splitRow = row.split(\",\")\n",
    "    spd3Y = float(splitRow[1]) / 10000.0\n",
    "    spd5Y = float(splitRow[2]) / 10000.0\n",
    "    spd7Y = float(splitRow[3]) / 10000.0\n",
    "    spd10Y = float(splitRow[4]) / 10000.0\n",
    "    recovery_rate = float(splitRow[5])\n",
    "    cds3Y = CDS(step_in_date, maturity3Y, spd3Y)\n",
    "    cds5Y = CDS(step_in_date, maturity5Y, spd5Y)\n",
    "    cds7Y = CDS(step_in_date, maturity7Y, spd7Y)\n",
    "    cds10Y = CDS(step_in_date, maturity10Y, spd10Y)\n",
    "    cds_contracts = [cds3Y, cds5Y, cds7Y, cds10Y]\n",
    "    issuer_curve = CDSCurve(valuation_date, cds_contracts, libor_curve, recovery_rate)\n",
    "    heteroIssuerCurves.append(issuer_curve)"
   ]
  },
  {
   "cell_type": "markdown",
   "metadata": {},
   "source": [
    "### Homogeneous Curves "
   ]
  },
  {
   "cell_type": "markdown",
   "metadata": {},
   "source": [
    "Calculate the average spread of the heterogeneous portfolio"
   ]
  },
  {
   "cell_type": "code",
   "execution_count": 9,
   "metadata": {},
   "outputs": [],
   "source": [
    "homoIssuerCurves = []\n",
    "num_credits = 125\n",
    "recovery_rate = 0.40 "
   ]
  },
  {
   "cell_type": "code",
   "execution_count": 12,
   "metadata": {},
   "outputs": [],
   "source": [
    "cdsIndex = CDSIndexPortfolio()"
   ]
  },
  {
   "cell_type": "code",
   "execution_count": 13,
   "metadata": {},
   "outputs": [],
   "source": [
    "spd3Y = cdsIndex.intrinsic_spread(valuation_date, step_in_date, maturity3Y, heteroIssuerCurves)\n",
    "spd5Y = cdsIndex.intrinsic_spread(valuation_date, step_in_date, maturity5Y, heteroIssuerCurves)\n",
    "spd7Y = cdsIndex.intrinsic_spread(valuation_date, step_in_date, maturity7Y, heteroIssuerCurves)\n",
    "spd10Y = cdsIndex.intrinsic_spread(valuation_date, step_in_date, maturity10Y, heteroIssuerCurves)"
   ]
  },
  {
   "cell_type": "code",
   "execution_count": 14,
   "metadata": {},
   "outputs": [
    {
     "name": "stdout",
     "output_type": "stream",
     "text": [
      "Homogeneous curve 3Y: 19.67881818373111\n",
      "Homogeneous curve 5Y: 35.539099512634195\n",
      "Homogeneous curve 7Y: 49.01165177405258\n",
      "Homogeneous curve 10Y: 61.41331504013942\n"
     ]
    }
   ],
   "source": [
    "print(\"Homogeneous curve 3Y:\", spd3Y*10000)\n",
    "print(\"Homogeneous curve 5Y:\", spd5Y*10000)\n",
    "print(\"Homogeneous curve 7Y:\", spd7Y*10000)\n",
    "print(\"Homogeneous curve 10Y:\", spd10Y*10000)"
   ]
  },
  {
   "cell_type": "code",
   "execution_count": 15,
   "metadata": {},
   "outputs": [],
   "source": [
    "for row in range(0,num_credits):\n",
    "    cds3Y = CDS(step_in_date, maturity3Y, spd3Y)\n",
    "    cds5Y = CDS(step_in_date, maturity5Y, spd5Y)\n",
    "    cds7Y = CDS(step_in_date, maturity7Y, spd7Y)\n",
    "    cds10Y = CDS(step_in_date, maturity10Y, spd10Y)\n",
    "    cds_contracts = [cds3Y, cds5Y, cds7Y, cds10Y]\n",
    "    issuer_curve = CDSCurve(valuation_date, cds_contracts, libor_curve, recovery_rate)\n",
    "    homoIssuerCurves.append(issuer_curve)"
   ]
  },
  {
   "cell_type": "markdown",
   "metadata": {},
   "source": [
    "## Define the Baskets"
   ]
  },
  {
   "cell_type": "code",
   "execution_count": 16,
   "metadata": {},
   "outputs": [],
   "source": [
    "num_credits = 5"
   ]
  },
  {
   "cell_type": "code",
   "execution_count": 17,
   "metadata": {},
   "outputs": [],
   "source": [
    "issuer_curves = heteroIssuerCurves[0:num_credits]"
   ]
  },
  {
   "cell_type": "code",
   "execution_count": 19,
   "metadata": {},
   "outputs": [],
   "source": [
    "basketMaturity = Date(20, 12, 2011)\n",
    "cdsIndex = CDSIndexPortfolio()"
   ]
  },
  {
   "cell_type": "code",
   "execution_count": 21,
   "metadata": {},
   "outputs": [
    {
     "name": "stdout",
     "output_type": "stream",
     "text": [
      "INTRINSIC SPD BASKET MATURITY 29.035439080042693\n",
      "SUMMED UP SPD BASKET MATURITY 145.79732756821284\n",
      "MINIMUM SPD BASKET MATURITY 9.61956584754749\n",
      "MAXIMUM SPD BASKET MATURITY 73.20319094403649\n"
     ]
    }
   ],
   "source": [
    "intrinsicSpd = cdsIndex.intrinsic_spread(valuation_date, step_in_date, basketMaturity, issuer_curves) * 10000.0\n",
    "\n",
    "print(\"INTRINSIC SPD BASKET MATURITY\", intrinsicSpd)\n",
    "\n",
    "totalSpd = cdsIndex.total_spread(valuation_date, step_in_date, basketMaturity, issuer_curves) * 10000.0\n",
    "\n",
    "print(\"SUMMED UP SPD BASKET MATURITY\", totalSpd)\n",
    "\n",
    "minSpd = cdsIndex.min_spread(valuation_date, step_in_date, basketMaturity, issuer_curves) * 10000.0\n",
    "\n",
    "print(\"MINIMUM SPD BASKET MATURITY\", minSpd)\n",
    "\n",
    "maxSpd = cdsIndex.max_spread(valuation_date, step_in_date, basketMaturity, issuer_curves) * 10000.0\n",
    "\n",
    "print(\"MAXIMUM SPD BASKET MATURITY\", maxSpd)"
   ]
  },
  {
   "cell_type": "code",
   "execution_count": 22,
   "metadata": {},
   "outputs": [],
   "source": [
    "basket = CDSBasket(valuation_date,basketMaturity)"
   ]
  },
  {
   "cell_type": "markdown",
   "metadata": {},
   "source": [
    "## Gaussian Copula Model"
   ]
  },
  {
   "cell_type": "markdown",
   "metadata": {},
   "source": [
    "WARNING: THE INTERFACE ON THIS FUNCTION WILL CHANGE SOON! THEY ALSO NEED TO BE ADAPTED TO USE NUMBA."
   ]
  },
  {
   "cell_type": "code",
   "execution_count": 27,
   "metadata": {},
   "outputs": [
    {
     "name": "stdout",
     "output_type": "stream",
     "text": [
      "NTrials   Rho    NTD    SPD_GC_MC    SPD_1FGC    SPD_ST10\n",
      "=========================================================\n",
      "   5000   0.00    1      136.795     144.115      124.474\n",
      "   5000   0.06    1      132.078     142.097      121.591\n",
      "   5000   0.25    1      122.355     133.632      115.075\n",
      "   5000   0.56    1      105.720     111.965       97.041\n",
      "   5000   0.81    1       83.279      88.627       81.204\n",
      "   5000   1.00    1       70.959      73.204       68.675\n",
      "=========================================================\n",
      "   5000   0.00    2        4.194       5.056       14.680\n",
      "   5000   0.06    2        6.282       6.823       16.536\n",
      "   5000   0.25    2       13.687      13.439       21.588\n",
      "   5000   0.56    2       24.977      25.498       27.768\n",
      "   5000   0.81    2       30.660      32.097       29.979\n",
      "   5000   1.00    2       20.595      22.005       20.719\n",
      "=========================================================\n",
      "   5000   0.00    3        0.122       0.086        1.558\n",
      "   5000   0.06    3        0.377       0.219        2.193\n",
      "   5000   0.25    3        1.266       1.451        4.469\n",
      "   5000   0.56    3        7.599       7.506       10.608\n",
      "   5000   0.81    3       14.635      15.444       14.109\n",
      "   5000   1.00    3       19.452      21.015       19.469\n",
      "=========================================================\n",
      "   5000   0.00    4        0.000       0.001        0.627\n",
      "   5000   0.06    4        0.000       0.004        0.644\n",
      "   5000   0.25    4        0.258       0.135        1.424\n",
      "   5000   0.56    4        2.240       2.120        3.912\n",
      "   5000   0.81    4        8.394       7.439        8.615\n",
      "   5000   1.00    4       18.273      19.954       18.530\n",
      "=========================================================\n",
      "   5000   0.00    5        0.000       0.000        0.000\n",
      "   5000   0.06    5        0.000       0.000        0.000\n",
      "   5000   0.25    5        0.000       0.008        0.241\n",
      "   5000   0.56    5        0.608       0.426        2.412\n",
      "   5000   0.81    5        2.927       2.857        4.503\n",
      "   5000   1.00    5        9.761       9.620        9.096\n",
      "=========================================================\n"
     ]
    }
   ],
   "source": [
    "seed = 42\n",
    "doF = 5\n",
    "num_trials = 5000\n",
    "\n",
    "print(\"NTrials   Rho    NTD    SPD_GC_MC    SPD_1FGC    SPD_ST10\")\n",
    "print(\"=========================================================\")\n",
    "\n",
    "for ntd in range(1, num_credits + 1):\n",
    "    for beta in [0.0, 0.25, 0.5, 0.75, 0.90, 0.9999]:\n",
    "        rho = beta * beta\n",
    "        beta_vector = np.ones(num_credits) * beta\n",
    "        corr_matrix = corr_matrix_generator(rho, num_credits)\n",
    "        for num_trials in [5000]:\n",
    "            v1 = basket.value_gaussian_mc(valuation_date,ntd,issuer_curves,corr_matrix,libor_curve,num_trials,seed)\n",
    "            v2 = basket.value_1f_gaussian_homo(valuation_date,ntd,issuer_curves,beta_vector,libor_curve)\n",
    "            v3 = basket.value_student_t_mc(valuation_date, ntd, issuer_curves, corr_matrix, doF, libor_curve, num_trials,seed)\n",
    "            print(\"%7d  %5.2f    %d    %9.3f   %9.3f    %9.3f\"% (num_trials, rho, ntd, v1[2] * 10000, v2[3] * 10000, v3[2] *10000))\n",
    "    print(\"=========================================================\")\n"
   ]
  },
  {
   "cell_type": "markdown",
   "metadata": {},
   "source": [
    "Copyright (c) 2020 Dominic O'Kane"
   ]
  }
 ],
 "metadata": {
  "kernelspec": {
   "display_name": "Python 3",
   "language": "python",
   "name": "python3"
  },
  "language_info": {
   "codemirror_mode": {
    "name": "ipython",
    "version": 3
   },
   "file_extension": ".py",
   "mimetype": "text/x-python",
   "name": "python",
   "nbconvert_exporter": "python",
   "pygments_lexer": "ipython3",
   "version": "3.8.5"
  }
 },
 "nbformat": 4,
 "nbformat_minor": 2
}
