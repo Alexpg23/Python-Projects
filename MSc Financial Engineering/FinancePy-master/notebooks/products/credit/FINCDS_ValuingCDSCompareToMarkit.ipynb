{
 "cells": [
  {
   "cell_type": "markdown",
   "metadata": {},
   "source": [
    "# Creating and Valuing a CDS Contract vs Markit"
   ]
  },
  {
   "cell_type": "markdown",
   "metadata": {},
   "source": [
    "Example CDS Valuation and comparison with market standard ISDA model on Markit website"
   ]
  },
  {
   "cell_type": "code",
   "execution_count": 1,
   "metadata": {},
   "outputs": [],
   "source": [
    "import numpy as np\n",
    "import matplotlib.pyplot as plt"
   ]
  },
  {
   "cell_type": "code",
   "execution_count": 2,
   "metadata": {},
   "outputs": [
    {
     "name": "stdout",
     "output_type": "stream",
     "text": [
      "####################################################################\n",
      "# FINANCEPY BETA Version 0.202 - This build:  17 Jul 2021 at 13:32 #\n",
      "# **** NEW PEP8 COMPLIANT VERSION -- PLEASE UPDATE YOUR CODE  **** #\n",
      "#      This software is distributed FREE & WITHOUT ANY WARRANTY    #\n",
      "#  Report bugs as issues at https://github.com/domokane/FinancePy  #\n",
      "####################################################################\n",
      "\n"
     ]
    }
   ],
   "source": [
    "from financepy.utils import *\n",
    "from financepy.products.rates import *\n",
    "from financepy.products.credit import *"
   ]
  },
  {
   "cell_type": "markdown",
   "metadata": {},
   "source": [
    "## Creating a CDS Contract"
   ]
  },
  {
   "cell_type": "markdown",
   "metadata": {},
   "source": [
    "This based on an example from Markit's CDS calculator website https://www.markit.com/markit.jsp?jsppage=pv.jsp"
   ]
  },
  {
   "cell_type": "code",
   "execution_count": 3,
   "metadata": {},
   "outputs": [],
   "source": [
    "valuation_date = Date(21, 11, 2019)\n",
    "settlement_date = valuation_date.add_days(1)\n",
    "maturity_date = Date(20, 12, 2024)\n",
    "cdsCoupon = 0.050\n",
    "notional = ONE_MILLION\n",
    "long_protection = True\n",
    "tradeDate = Date(9, 8, 2019)"
   ]
  },
  {
   "cell_type": "code",
   "execution_count": 4,
   "metadata": {},
   "outputs": [],
   "source": [
    "cds_contract = CDS(settlement_date, maturity_date, cdsCoupon, notional, long_protection)"
   ]
  },
  {
   "cell_type": "code",
   "execution_count": 5,
   "metadata": {},
   "outputs": [
    {
     "name": "stdout",
     "output_type": "stream",
     "text": [
      "OBJECT TYPE: CDS\n",
      "STEP-IN DATE: 22-NOV-2019\n",
      "MATURITY: 20-DEC-2024\n",
      "NOTIONAL: 1000000\n",
      "RUNNING COUPON: 500.0bp\n",
      "DAYCOUNT: DayCountTypes.ACT_360\n",
      "FREQUENCY: FrequencyTypes.QUARTERLY\n",
      "CALENDAR: CalendarTypes.WEEKEND\n",
      "BUSDAYRULE: BusDayAdjustTypes.FOLLOWING\n",
      "DATEGENRULE: DateGenRuleTypes.BACKWARD\n",
      "ACCRUED DAYS: 63.0\n",
      "PAYMENT_DATE, YEAR_FRAC, FLOW\n",
      "20-SEP-2019,     0.000000,     0.000000\n",
      "20-DEC-2019,     0.252778, 12638.888889\n",
      "20-MAR-2020,     0.252778, 12638.888889\n",
      "22-JUN-2020,     0.261111, 13055.555556\n",
      "21-SEP-2020,     0.252778, 12638.888889\n",
      "21-DEC-2020,     0.252778, 12638.888889\n",
      "22-MAR-2021,     0.252778, 12638.888889\n",
      "21-JUN-2021,     0.252778, 12638.888889\n",
      "20-SEP-2021,     0.252778, 12638.888889\n",
      "20-DEC-2021,     0.252778, 12638.888889\n",
      "21-MAR-2022,     0.252778, 12638.888889\n",
      "20-JUN-2022,     0.252778, 12638.888889\n",
      "20-SEP-2022,     0.255556, 12777.777778\n",
      "20-DEC-2022,     0.252778, 12638.888889\n",
      "20-MAR-2023,     0.250000, 12500.000000\n",
      "20-JUN-2023,     0.255556, 12777.777778\n",
      "20-SEP-2023,     0.255556, 12777.777778\n",
      "20-DEC-2023,     0.252778, 12638.888889\n",
      "20-MAR-2024,     0.252778, 12638.888889\n",
      "20-JUN-2024,     0.255556, 12777.777778\n",
      "20-SEP-2024,     0.255556, 12777.777778\n",
      "21-DEC-2024,     0.255556, 12777.777778\n"
     ]
    }
   ],
   "source": [
    "print(cds_contract)"
   ]
  },
  {
   "cell_type": "markdown",
   "metadata": {},
   "source": [
    "## Build Ibor Curve"
   ]
  },
  {
   "cell_type": "code",
   "execution_count": 6,
   "metadata": {},
   "outputs": [],
   "source": [
    "dcType = DayCountTypes.ACT_360\n",
    "depo1 = IborDeposit(settlement_date, \"1M\", 0.017156, dcType)\n",
    "depo2 = IborDeposit(settlement_date, \"2M\", 0.018335, dcType)\n",
    "depo3 = IborDeposit(settlement_date, \"3M\", 0.018988, dcType)\n",
    "depo4 = IborDeposit(settlement_date, \"6M\", 0.018911, dcType)\n",
    "depo5 = IborDeposit(settlement_date, \"12M\", 0.019093, dcType)\n",
    "depos = [depo1,depo2,depo3,depo4,depo5]\n",
    "\n",
    "swapType = SwapTypes.PAY\n",
    "dcType = DayCountTypes.THIRTY_E_360_ISDA\n",
    "fixedFreq = FrequencyTypes.SEMI_ANNUAL\n",
    "swap1 = IborSwap(settlement_date,\"2Y\",swapType,0.015630,fixedFreq,dcType)\n",
    "swap2 = IborSwap(settlement_date,\"3Y\",swapType,0.015140,fixedFreq,dcType)\n",
    "swap3 = IborSwap(settlement_date,\"4Y\",swapType,0.015065,fixedFreq,dcType)\n",
    "swap4 = IborSwap(settlement_date,\"5Y\",swapType,0.015140,fixedFreq,dcType)\n",
    "swap5 = IborSwap(settlement_date,\"6Y\",swapType,0.015270,fixedFreq,dcType)\n",
    "swap6 = IborSwap(settlement_date,\"7Y\",swapType,0.015470,fixedFreq,dcType)\n",
    "swap7 = IborSwap(settlement_date,\"8Y\",swapType,0.015720,fixedFreq,dcType)\n",
    "swap8 = IborSwap(settlement_date,\"9Y\",swapType,0.016000,fixedFreq,dcType)\n",
    "swap9 = IborSwap(settlement_date,\"10Y\",swapType,0.016285,fixedFreq,dcType)\n",
    "swap10 = IborSwap(settlement_date,\"12Y\",swapType,0.01670,fixedFreq,dcType)\n",
    "swaps = [swap1,swap2,swap3,swap4,swap5,swap6,swap7,swap8,swap9,swap10]\n",
    "\n",
    "libor_curve = IborSingleCurve(valuation_date, depos, [], swaps)"
   ]
  },
  {
   "cell_type": "markdown",
   "metadata": {},
   "source": [
    "# Build a CDS Curve"
   ]
  },
  {
   "cell_type": "code",
   "execution_count": 7,
   "metadata": {},
   "outputs": [],
   "source": [
    "cdsFlatSpread = 0.0100"
   ]
  },
  {
   "cell_type": "code",
   "execution_count": 8,
   "metadata": {},
   "outputs": [],
   "source": [
    "cds1 = CDS(settlement_date, \"1Y\", cdsFlatSpread)\n",
    "cds2 = CDS(settlement_date, \"2Y\", cdsFlatSpread)\n",
    "cds3 = CDS(settlement_date, \"3Y\", cdsFlatSpread)\n",
    "cds4 = CDS(settlement_date, \"4Y\", cdsFlatSpread)\n",
    "cds5 = CDS(settlement_date, \"5Y\", cdsFlatSpread)\n",
    "cds6 = CDS(settlement_date, \"7Y\", cdsFlatSpread)\n",
    "cds7 = CDS(settlement_date, \"10Y\", cdsFlatSpread)\n",
    "cds8 = CDS(settlement_date, \"15Y\", cdsFlatSpread)"
   ]
  },
  {
   "cell_type": "code",
   "execution_count": 9,
   "metadata": {},
   "outputs": [],
   "source": [
    "cdss = [cds1, cds2, cds3, cds4, cds5, cds6, cds7, cds8]"
   ]
  },
  {
   "cell_type": "code",
   "execution_count": 10,
   "metadata": {},
   "outputs": [],
   "source": [
    "recovery_rate = 0.40"
   ]
  },
  {
   "cell_type": "code",
   "execution_count": 11,
   "metadata": {},
   "outputs": [],
   "source": [
    "issuer_curve = CDSCurve(valuation_date, cdss, libor_curve, recovery_rate)"
   ]
  },
  {
   "cell_type": "markdown",
   "metadata": {},
   "source": [
    "# Valuation Results"
   ]
  },
  {
   "cell_type": "code",
   "execution_count": 12,
   "metadata": {},
   "outputs": [
    {
     "name": "stdout",
     "output_type": "stream",
     "text": [
      "FAIR CDS SPREAD  100.00000 bp\n"
     ]
    }
   ],
   "source": [
    "spd = cds_contract.par_spread(valuation_date, issuer_curve, recovery_rate) * 10000.0\n",
    "print(\"FAIR CDS SPREAD %10.5f bp\"% spd)"
   ]
  },
  {
   "cell_type": "code",
   "execution_count": 13,
   "metadata": {},
   "outputs": [
    {
     "name": "stdout",
     "output_type": "stream",
     "text": [
      "FULL VALUE    -198538.17\n",
      "CLEAN VALUE   -189788.17\n"
     ]
    }
   ],
   "source": [
    "v = cds_contract.value(valuation_date, issuer_curve, recovery_rate)\n",
    "full_pv = v['full_pv']\n",
    "clean_pv = v['clean_pv']\n",
    "\n",
    "print(\"FULL VALUE  %12.2f\"% full_pv)\n",
    "print(\"CLEAN VALUE %12.2f\"% clean_pv)"
   ]
  },
  {
   "cell_type": "markdown",
   "metadata": {},
   "source": [
    "MARKIT CALCULATE -198,551 for the FULL VALUE"
   ]
  },
  {
   "cell_type": "code",
   "execution_count": 14,
   "metadata": {},
   "outputs": [
    {
     "name": "stdout",
     "output_type": "stream",
     "text": [
      "CLEAN PRICE   118.980528\n"
     ]
    }
   ],
   "source": [
    "cleanp = cds_contract.clean_price(settlement_date, issuer_curve, recovery_rate)\n",
    "print(\"CLEAN PRICE %12.6f\"% cleanp)"
   ]
  },
  {
   "cell_type": "markdown",
   "metadata": {},
   "source": [
    "MARKIT CALCULATE 118.98%"
   ]
  },
  {
   "cell_type": "code",
   "execution_count": 15,
   "metadata": {},
   "outputs": [
    {
     "name": "stdout",
     "output_type": "stream",
     "text": [
      "ACCRUED_DAYS 63.0\n"
     ]
    }
   ],
   "source": [
    "accrued_days = cds_contract.accrued_days()\n",
    "print(\"ACCRUED_DAYS\", accrued_days)"
   ]
  },
  {
   "cell_type": "markdown",
   "metadata": {},
   "source": [
    "MARKIT CALCULATE 63"
   ]
  },
  {
   "cell_type": "code",
   "execution_count": 16,
   "metadata": {},
   "outputs": [
    {
     "name": "stdout",
     "output_type": "stream",
     "text": [
      "ACCRUED_COUPON -8750.0\n"
     ]
    }
   ],
   "source": [
    "accrued_interest = cds_contract.accrued_interest()\n",
    "print(\"ACCRUED_COUPON\", accrued_interest)"
   ]
  },
  {
   "cell_type": "markdown",
   "metadata": {},
   "source": [
    "MARKIT CALCULATE 8750"
   ]
  },
  {
   "cell_type": "code",
   "execution_count": 17,
   "metadata": {},
   "outputs": [
    {
     "name": "stdout",
     "output_type": "stream",
     "text": [
      "PROTECTION_PV 47451.24170755438\n"
     ]
    }
   ],
   "source": [
    "prot_pv = cds_contract.protection_leg_pv(settlement_date, issuer_curve, recovery_rate)\n",
    "print(\"PROTECTION_PV\", prot_pv)"
   ]
  },
  {
   "cell_type": "code",
   "execution_count": 18,
   "metadata": {},
   "outputs": [
    {
     "name": "stdout",
     "output_type": "stream",
     "text": [
      "PREMIUM_PV 246006.7119164227\n"
     ]
    }
   ],
   "source": [
    "premPV = cds_contract.premium_leg_pv(settlement_date, issuer_curve, recovery_rate)\n",
    "print(\"PREMIUM_PV\", premPV)"
   ]
  },
  {
   "cell_type": "markdown",
   "metadata": {},
   "source": [
    "## Risk Measures"
   ]
  },
  {
   "cell_type": "code",
   "execution_count": 19,
   "metadata": {},
   "outputs": [
    {
     "name": "stdout",
     "output_type": "stream",
     "text": [
      "Credit DV01        553.55\n"
     ]
    }
   ],
   "source": [
    "credit_dv01 = cds_contract.credit_dv01(settlement_date, issuer_curve, recovery_rate)\n",
    "print(\"Credit DV01  %12.2f\"% credit_dv01)"
   ]
  },
  {
   "cell_type": "markdown",
   "metadata": {},
   "source": [
    "MARKIT FOUND 554"
   ]
  },
  {
   "cell_type": "code",
   "execution_count": 20,
   "metadata": {},
   "outputs": [
    {
     "name": "stdout",
     "output_type": "stream",
     "text": [
      "Interest DV01         48.78\n"
     ]
    }
   ],
   "source": [
    "interest_dv01 = cds_contract.interest_dv01(settlement_date, issuer_curve, recovery_rate)\n",
    "print(\"Interest DV01  %12.2f\"% interest_dv01)"
   ]
  },
  {
   "cell_type": "markdown",
   "metadata": {},
   "source": [
    "MARKIT FOUND 49"
   ]
  },
  {
   "cell_type": "markdown",
   "metadata": {},
   "source": [
    "## Full Analysis "
   ]
  },
  {
   "cell_type": "code",
   "execution_count": 21,
   "metadata": {},
   "outputs": [
    {
     "name": "stdout",
     "output_type": "stream",
     "text": [
      "PAYMENT_DATE      YEAR_FRAC      FLOW           DF       SURV_PROB      NPV\n",
      "    20-DEC-2019   0.252778     12638.89     0.998620     0.998658     12604.51\n",
      "    20-MAR-2020   0.252778     12638.89     0.993728     0.994459     12490.03\n",
      "    22-JUN-2020   0.261111     13055.56     0.988864     0.990141     12782.88\n",
      "    21-SEP-2020   0.252778     12638.89     0.984127     0.985978     12263.86\n",
      "    21-DEC-2020   0.252778     12638.89     0.979970     0.981833     12160.72\n",
      "    22-MAR-2021   0.252778     12638.89     0.977083     0.977711     12073.99\n",
      "    21-JUN-2021   0.252778     12638.89     0.974203     0.973607     11987.88\n",
      "    20-SEP-2021   0.252778     12638.89     0.971332     0.969521     11902.38\n",
      "    20-DEC-2021   0.252778     12638.89     0.968303     0.965451     11815.45\n",
      "    21-MAR-2022   0.252778     12638.89     0.964907     0.961400     11724.61\n",
      "    20-JUN-2022   0.252778     12638.89     0.961523     0.957365     11634.46\n",
      "    20-SEP-2022   0.255556     12777.78     0.958114     0.953304     11670.89\n",
      "    20-DEC-2022   0.252778     12638.89     0.954704     0.949303     11454.67\n",
      "    20-MAR-2023   0.250000     12500.00     0.951231     0.945364     11240.74\n",
      "    20-JUN-2023   0.255556     12777.78     0.947694     0.941353     11399.25\n",
      "    20-SEP-2023   0.255556     12777.78     0.944170     0.937360     11308.68\n",
      "    20-DEC-2023   0.252778     12638.89     0.940657     0.933427     11097.37\n",
      "    20-MAR-2024   0.252778     12638.89     0.937064     0.929510     11008.60\n",
      "    20-JUN-2024   0.255556     12777.78     0.933445     0.925567     11039.57\n",
      "    20-SEP-2024   0.255556     12777.78     0.929841     0.921641     10950.29\n",
      "    21-DEC-2024   0.255556     12777.78     0.926211     0.917731     10861.27\n"
     ]
    }
   ],
   "source": [
    "cds_contract.print_flows(issuer_curve)"
   ]
  }
 ],
 "metadata": {
  "kernelspec": {
   "display_name": "Python 3",
   "language": "python",
   "name": "python3"
  },
  "language_info": {
   "codemirror_mode": {
    "name": "ipython",
    "version": 3
   },
   "file_extension": ".py",
   "mimetype": "text/x-python",
   "name": "python",
   "nbconvert_exporter": "python",
   "pygments_lexer": "ipython3",
   "version": "3.8.5"
  }
 },
 "nbformat": 4,
 "nbformat_minor": 2
}
