{
 "cells": [
  {
   "cell_type": "markdown",
   "metadata": {},
   "source": [
    "# CONSTRUCTION OF FX VOL SURFACE - PART I"
   ]
  },
  {
   "cell_type": "markdown",
   "metadata": {},
   "source": [
    "In this notebook I show how you can calibrate to the FX Vol Surface to ATM, 25D MS and 25D RR at one expiry date and analyse different volatility interpolation methods."
   ]
  },
  {
   "cell_type": "code",
   "execution_count": 1,
   "metadata": {},
   "outputs": [],
   "source": [
    "import numpy as np\n",
    "import matplotlib.pyplot as plt"
   ]
  },
  {
   "cell_type": "code",
   "execution_count": 4,
   "metadata": {},
   "outputs": [
    {
     "name": "stderr",
     "output_type": "stream",
     "text": [
      "C:\\Users\\Dominic\\anaconda3\\lib\\site-packages\\numba\\np\\ufunc\\parallel.py:363: NumbaWarning: \u001b[1mThe TBB threading layer requires TBB version 2019.5 or later i.e., TBB_INTERFACE_VERSION >= 11005. Found TBB_INTERFACE_VERSION = 7004. The TBB threading layer is disabled.\u001b[0m\n",
      "  warnings.warn(problem)\n"
     ]
    }
   ],
   "source": [
    "from financepy.utils import *\n",
    "from financepy.models.black_scholes import *\n",
    "from financepy.products.fx import *\n",
    "from financepy.market.curves import DiscountCurveFlat\n",
    "from financepy.market.volatility import * "
   ]
  },
  {
   "cell_type": "markdown",
   "metadata": {},
   "source": [
    "## Load the Volatility Market Quotes"
   ]
  },
  {
   "cell_type": "code",
   "execution_count": 5,
   "metadata": {},
   "outputs": [],
   "source": [
    "valuation_date = Date(10, 4, 2020)"
   ]
  },
  {
   "cell_type": "code",
   "execution_count": 6,
   "metadata": {},
   "outputs": [],
   "source": [
    "forName = \"EUR\"\n",
    "domName = \"USD\"\n",
    "forCCRate = 0.03460  # EUR\n",
    "domCCRate = 0.02940  # USD"
   ]
  },
  {
   "cell_type": "markdown",
   "metadata": {},
   "source": [
    "We need to set up the option details - what you would find in the Term Sheet."
   ]
  },
  {
   "cell_type": "code",
   "execution_count": 7,
   "metadata": {},
   "outputs": [],
   "source": [
    "dom_discount_curve = DiscountCurveFlat(valuation_date, domCCRate)\n",
    "for_discount_curve = DiscountCurveFlat(valuation_date, forCCRate)"
   ]
  },
  {
   "cell_type": "code",
   "execution_count": 8,
   "metadata": {},
   "outputs": [],
   "source": [
    "currency_pair = forName + domName\n",
    "spot_fx_rate = 1.3465        "
   ]
  },
  {
   "cell_type": "markdown",
   "metadata": {},
   "source": [
    "I now load the option tenor, the ATM vol and the market strangle and risk-reversal quotes."
   ]
  },
  {
   "cell_type": "code",
   "execution_count": 9,
   "metadata": {},
   "outputs": [],
   "source": [
    "tenors = ['1Y']\n",
    "atm_vols = [18.250]\n",
    "ms25DeltaVols = [0.95]\n",
    "rr25DeltaVols = [-0.60]"
   ]
  },
  {
   "cell_type": "markdown",
   "metadata": {},
   "source": [
    "We need to set some parameters for the vol surface."
   ]
  },
  {
   "cell_type": "code",
   "execution_count": 10,
   "metadata": {},
   "outputs": [],
   "source": [
    "notional_currency = forName\n",
    "atmMethod = FinFXATMMethod.FWD_DELTA_NEUTRAL\n",
    "deltaMethod = FinFXDeltaMethod.SPOT_DELTA"
   ]
  },
  {
   "cell_type": "code",
   "execution_count": 12,
   "metadata": {},
   "outputs": [],
   "source": [
    "fxVolSurfaceClark = FXVolSurface(valuation_date, spot_fx_rate, currency_pair, notional_currency,\n",
    "                                   dom_discount_curve, for_discount_curve,\n",
    "                                   tenors, atm_vols, ms25DeltaVols, rr25DeltaVols,\n",
    "                                   atmMethod, deltaMethod, VolFunctionTypes.CLARK5)"
   ]
  },
  {
   "cell_type": "code",
   "execution_count": 13,
   "metadata": {},
   "outputs": [],
   "source": [
    "fxVolSurfaceSABR = FXVolSurface(valuation_date, spot_fx_rate, currency_pair, notional_currency,\n",
    "                                   dom_discount_curve, for_discount_curve,\n",
    "                                   tenors, atm_vols, ms25DeltaVols, rr25DeltaVols,\n",
    "                                   atmMethod, deltaMethod, VolFunctionTypes.SABR)"
   ]
  },
  {
   "cell_type": "code",
   "execution_count": 14,
   "metadata": {},
   "outputs": [],
   "source": [
    "fxVolSurfaceBBG = FXVolSurface(valuation_date, spot_fx_rate, currency_pair, notional_currency,\n",
    "                                  dom_discount_curve, for_discount_curve,\n",
    "                                  tenors, atm_vols, ms25DeltaVols, rr25DeltaVols,\n",
    "                                  atmMethod, deltaMethod, VolFunctionTypes.BBG)"
   ]
  },
  {
   "cell_type": "markdown",
   "metadata": {},
   "source": [
    "We can examine the calibration"
   ]
  },
  {
   "cell_type": "code",
   "execution_count": 15,
   "metadata": {},
   "outputs": [
    {
     "name": "stdout",
     "output_type": "stream",
     "text": [
      "==========================================================\n",
      "VALUE DATE: 10-APR-2020\n",
      "SPOT FX RATE: 1.3465\n",
      "ATM METHOD: FinFXATMMethod.FWD_DELTA_NEUTRAL\n",
      "DELTA METHOD: FinFXDeltaMethod.SPOT_DELTA\n",
      "==========================================================\n",
      "TENOR: 1Y\n",
      "EXPIRY DATE: 10-APR-2021\n",
      "IN ATM VOL: 18.250000 %\n",
      "IN MKT STRANGLE 25D VOL:  0.950000 %\n",
      "IN RSK REVERSAL 25D VOL: -0.600000 %\n",
      "==========================================================\n",
      "T_(YEARS):  1.0\n",
      "CNT_CPD_RD: 2.940000 %\n",
      "CNT_CPD_RF: 3.460000 %\n",
      "FWD_RATE:   1.339516\n",
      "==========================================================\n",
      "VOL FUNCTION VolFunctionTypes.CLARK5\n",
      "VOL_PARAMETERS: [-1.69813144e+00  1.08430155e-01  8.04436705e-01  3.27925335e-03\n",
      " -5.49960239e-04]\n",
      "==========================================================\n",
      "OUT_K_ATM:   1.362010\n",
      "OUT_ATM_VOL: 18.250001 %\n",
      "CALL_DELTA:  0.482996  PUT_DELTA: -0.482996  NET_DELTA:  0.000000\n",
      "==========================================================\n",
      "MKT STRANGLE VOL IN:  0.950000 %\n",
      "K_25D_C_MS:  1.544922  ATM + MSVOL: 19.200000 %   DELTA:  0.250000\n",
      "K_25D_P_MS:  1.205034  ATM + MSVOL: 19.200000 %   DELTA: -0.250000\n",
      "CALL_VALUE:  0.035509  PUT_VALUE:  0.043125  MS_VALUE:  0.078634\n",
      "K_25D_C_MS:  1.544922  SURFACE_VOL: 18.923580 %   DELTA:  0.246190\n",
      "K_25D_P_MS:  1.205034  SURFACE_VOL: 19.474751 %   DELTA: -0.252005\n",
      "CALL_VALUE:  0.034351  PUT_VALUE:  0.044283  MS_SKEW_VALUE:  0.078634\n",
      "K_25D_C: 1.5410073  VOL: 18.897091  DELTA:  0.250000\n",
      "K_25D_P: 1.2034116  VOL: 19.497087  DELTA: -0.250000\n",
      "==========================================================\n",
      "RR = VOL_K_25_C - VOL_K_25_P => RR_IN: -0.600000 % RR_OUT: -0.599996 %\n",
      "==========================================================\n"
     ]
    }
   ],
   "source": [
    "fxVolSurfaceClark.check_calibration(True)"
   ]
  },
  {
   "cell_type": "code",
   "execution_count": 16,
   "metadata": {},
   "outputs": [
    {
     "name": "stdout",
     "output_type": "stream",
     "text": [
      "==========================================================\n",
      "VALUE DATE: 10-APR-2020\n",
      "SPOT FX RATE: 1.3465\n",
      "ATM METHOD: FinFXATMMethod.FWD_DELTA_NEUTRAL\n",
      "DELTA METHOD: FinFXDeltaMethod.SPOT_DELTA\n",
      "==========================================================\n",
      "TENOR: 1Y\n",
      "EXPIRY DATE: 10-APR-2021\n",
      "IN ATM VOL: 18.250000 %\n",
      "IN MKT STRANGLE 25D VOL:  0.950000 %\n",
      "IN RSK REVERSAL 25D VOL: -0.600000 %\n",
      "==========================================================\n",
      "T_(YEARS):  1.0\n",
      "CNT_CPD_RD: 2.940000 %\n",
      "CNT_CPD_RF: 3.460000 %\n",
      "FWD_RATE:   1.339516\n",
      "==========================================================\n",
      "VOL FUNCTION VolFunctionTypes.SABR\n",
      "VOL_PARAMETERS: [ 0.17431637  0.99987064 -0.1126546   0.81695829]\n",
      "==========================================================\n",
      "OUT_K_ATM:   1.362010\n",
      "OUT_ATM_VOL: 18.249990 %\n",
      "CALL_DELTA:  0.482996  PUT_DELTA: -0.482996  NET_DELTA: -0.000000\n",
      "==========================================================\n",
      "MKT STRANGLE VOL IN:  0.950000 %\n",
      "K_25D_C_MS:  1.544922  ATM + MSVOL: 19.200000 %   DELTA:  0.250000\n",
      "K_25D_P_MS:  1.205034  ATM + MSVOL: 19.200000 %   DELTA: -0.250000\n",
      "CALL_VALUE:  0.035509  PUT_VALUE:  0.043125  MS_VALUE:  0.078634\n",
      "K_25D_C_MS:  1.544922  SURFACE_VOL: 18.925491 %   DELTA:  0.246217\n",
      "K_25D_P_MS:  1.205034  SURFACE_VOL: 19.472900 %   DELTA: -0.251991\n",
      "CALL_VALUE:  0.034359  PUT_VALUE:  0.044276  MS_SKEW_VALUE:  0.078634\n",
      "K_25D_C: 1.5409731  VOL: 18.894438  DELTA:  0.250000\n",
      "K_25D_P: 1.2034260  VOL: 19.494439  DELTA: -0.250000\n",
      "==========================================================\n",
      "RR = VOL_K_25_C - VOL_K_25_P => RR_IN: -0.600000 % RR_OUT: -0.600001 %\n",
      "==========================================================\n"
     ]
    }
   ],
   "source": [
    "fxVolSurfaceSABR.check_calibration(True)"
   ]
  },
  {
   "cell_type": "code",
   "execution_count": 17,
   "metadata": {},
   "outputs": [
    {
     "name": "stdout",
     "output_type": "stream",
     "text": [
      "==========================================================\n",
      "VALUE DATE: 10-APR-2020\n",
      "SPOT FX RATE: 1.3465\n",
      "ATM METHOD: FinFXATMMethod.FWD_DELTA_NEUTRAL\n",
      "DELTA METHOD: FinFXDeltaMethod.SPOT_DELTA\n",
      "==========================================================\n",
      "TENOR: 1Y\n",
      "EXPIRY DATE: 10-APR-2021\n",
      "IN ATM VOL: 18.250000 %\n",
      "IN MKT STRANGLE 25D VOL:  0.950000 %\n",
      "IN RSK REVERSAL 25D VOL: -0.600000 %\n",
      "==========================================================\n",
      "T_(YEARS):  1.0\n",
      "CNT_CPD_RD: 2.940000 %\n",
      "CNT_CPD_RF: 3.460000 %\n",
      "FWD_RATE:   1.339516\n",
      "==========================================================\n",
      "VOL FUNCTION VolFunctionTypes.BBG\n",
      "VOL_PARAMETERS: [ 0.15005797 -0.13818929  0.21408016]\n",
      "==========================================================\n",
      "OUT_K_ATM:   1.362010\n",
      "OUT_ATM_VOL: 18.250000 %\n",
      "CALL_DELTA:  0.482996  PUT_DELTA: -0.482996  NET_DELTA:  0.000000\n",
      "==========================================================\n",
      "MKT STRANGLE VOL IN:  0.950000 %\n",
      "K_25D_C_MS:  1.544922  ATM + MSVOL: 19.200000 %   DELTA:  0.250000\n",
      "K_25D_P_MS:  1.205034  ATM + MSVOL: 19.200000 %   DELTA: -0.250000\n",
      "CALL_VALUE:  0.035509  PUT_VALUE:  0.043125  MS_VALUE:  0.078634\n",
      "K_25D_C_MS:  1.544922  SURFACE_VOL: 18.923438 %   DELTA:  0.246188\n",
      "K_25D_P_MS:  1.205034  SURFACE_VOL: 19.474895 %   DELTA: -0.252006\n",
      "CALL_VALUE:  0.034350  PUT_VALUE:  0.044284  MS_SKEW_VALUE:  0.078634\n",
      "K_25D_C: 1.5409823  VOL: 18.895152  DELTA:  0.250000\n",
      "K_25D_P: 1.2034222  VOL: 19.495151  DELTA: -0.250000\n",
      "==========================================================\n",
      "RR = VOL_K_25_C - VOL_K_25_P => RR_IN: -0.600000 % RR_OUT: -0.599999 %\n",
      "==========================================================\n"
     ]
    }
   ],
   "source": [
    "fxVolSurfaceBBG.check_calibration(True)"
   ]
  },
  {
   "cell_type": "markdown",
   "metadata": {},
   "source": [
    "## Volatility Smile Analysis - Different Volatility Function Types"
   ]
  },
  {
   "cell_type": "code",
   "execution_count": 18,
   "metadata": {},
   "outputs": [],
   "source": [
    "strikes = np.linspace(0.5, 2.5, 1000)"
   ]
  },
  {
   "cell_type": "code",
   "execution_count": 19,
   "metadata": {},
   "outputs": [],
   "source": [
    "expiry_date = valuation_date.add_tenor(\"1Y\")"
   ]
  },
  {
   "cell_type": "code",
   "execution_count": 20,
   "metadata": {},
   "outputs": [],
   "source": [
    "volsClark = []\n",
    "volsSABR = []\n",
    "volsBBG = []\n",
    "\n",
    "for k in strikes:\n",
    "    volClark = fxVolSurfaceClark.volatility(k, expiry_date)\n",
    "    volSABR = fxVolSurfaceSABR.volatility(k, expiry_date)\n",
    "    volBBG = fxVolSurfaceBBG.volatility(k, expiry_date)\n",
    "    volsClark.append(volClark*100.0)    \n",
    "    volsSABR.append(volSABR*100.0)    \n",
    "    volsBBG.append(volBBG*100.0)    "
   ]
  },
  {
   "cell_type": "code",
   "execution_count": 21,
   "metadata": {},
   "outputs": [
    {
     "data": {
      "image/png": "[encoded data removed]",
      "text/plain": [
       "<Figure size 720x432 with 1 Axes>"
      ]
     },
     "metadata": {
      "needs_background": "light"
     },
     "output_type": "display_data"
    }
   ],
   "source": [
    "plt.figure(figsize=(10,6))\n",
    "plt.plot(strikes, volsClark, label=\"Clark\")\n",
    "plt.plot(strikes, volsSABR, label=\"SABR\")\n",
    "plt.plot(strikes, volsBBG, label=\"BBG\")\n",
    "plt.xlabel(\"Strike\")\n",
    "plt.ylabel(\"Black Scholes Volatility (%)\")\n",
    "plt.title(\"Comparison of Volatility Smiles\")\n",
    "plt.legend();"
   ]
  },
  {
   "cell_type": "markdown",
   "metadata": {},
   "source": [
    "## Implied FX Rate Probability Density Functions"
   ]
  },
  {
   "cell_type": "code",
   "execution_count": 22,
   "metadata": {},
   "outputs": [],
   "source": [
    "lower = 0.50\n",
    "upper = 2.25\n",
    "dbnClark = fxVolSurfaceClark.implied_dbns(lower, upper, 1000)\n",
    "dbnSABR = fxVolSurfaceSABR.implied_dbns(lower, upper, 1000)\n",
    "dbnBBG = fxVolSurfaceBBG.implied_dbns(lower, upper, 1000)"
   ]
  },
  {
   "cell_type": "code",
   "execution_count": 23,
   "metadata": {},
   "outputs": [
    {
     "data": {
      "image/png": "[encoded data removed]",
      "text/plain": [
       "<Figure size 720x432 with 1 Axes>"
      ]
     },
     "metadata": {
      "needs_background": "light"
     },
     "output_type": "display_data"
    }
   ],
   "source": [
    "plt.figure(figsize=(10,6))\n",
    "plt.plot(dbnClark[0]._x, dbnClark[0]._densitydx, label=\"Clark\")\n",
    "plt.plot(dbnSABR[0]._x, dbnSABR[0]._densitydx, label=\"SABR\")\n",
    "plt.plot(dbnBBG[0]._x, dbnBBG[0]._densitydx, label=\"BBG\")\n",
    "plt.title(\"Implied Probability Density Function\")\n",
    "plt.legend();"
   ]
  },
  {
   "cell_type": "markdown",
   "metadata": {},
   "source": [
    "## Expiry Date Interpolation"
   ]
  },
  {
   "cell_type": "markdown",
   "metadata": {},
   "source": [
    "We only have one expiry date. The volatility is therefore assumed to be flat at the level of this expiry date."
   ]
  },
  {
   "cell_type": "code",
   "execution_count": 24,
   "metadata": {},
   "outputs": [],
   "source": [
    "k = 1.30"
   ]
  },
  {
   "cell_type": "code",
   "execution_count": 25,
   "metadata": {},
   "outputs": [],
   "source": [
    "years = np.linspace(0.0, 2.0, 100)"
   ]
  },
  {
   "cell_type": "code",
   "execution_count": 26,
   "metadata": {},
   "outputs": [],
   "source": [
    "expiry_dates = valuation_date.add_years(years)"
   ]
  },
  {
   "cell_type": "code",
   "execution_count": 27,
   "metadata": {},
   "outputs": [],
   "source": [
    "volsClark = []\n",
    "volsSABR = []\n",
    "volsBBG = []\n",
    "\n",
    "for expiry_date in expiry_dates:\n",
    "    \n",
    "    volClark = fxVolSurfaceClark.volatility(k, expiry_date)\n",
    "    volSABR = fxVolSurfaceSABR.volatility(k, expiry_date)\n",
    "    volBBG = fxVolSurfaceBBG.volatility(k, expiry_date)\n",
    "\n",
    "    volsClark.append(volClark*100.0)    \n",
    "    volsSABR.append(volSABR*100.0)    \n",
    "    volsBBG.append(volBBG*100.0)    "
   ]
  },
  {
   "cell_type": "code",
   "execution_count": 28,
   "metadata": {},
   "outputs": [
    {
     "data": {
      "image/png": "[encoded data removed]",
      "text/plain": [
       "<Figure size 720x432 with 1 Axes>"
      ]
     },
     "metadata": {
      "needs_background": "light"
     },
     "output_type": "display_data"
    }
   ],
   "source": [
    "plt.figure(figsize=(10,6))\n",
    "plt.plot(years, volsClark, label=\"Clark\")\n",
    "plt.plot(years, volsSABR, label=\"SABR\")\n",
    "plt.plot(years, volsBBG, label=\"BBG\")\n",
    "plt.xlabel(\"Years\")\n",
    "plt.ylabel(\"Black Scholes Volatility (%)\")\n",
    "plt.title(\"Comparison of Volatility Time Interpolation\")\n",
    "plt.legend();"
   ]
  },
  {
   "cell_type": "markdown",
   "metadata": {},
   "source": [
    "Copyright (c) 2020, Dominic O'Kane "
   ]
  }
 ],
 "metadata": {
  "kernelspec": {
   "display_name": "Python 3",
   "language": "python",
   "name": "python3"
  },
  "language_info": {
   "codemirror_mode": {
    "name": "ipython",
    "version": 3
   },
   "file_extension": ".py",
   "mimetype": "text/x-python",
   "name": "python",
   "nbconvert_exporter": "python",
   "pygments_lexer": "ipython3",
   "version": "3.8.5"
  }
 },
 "nbformat": 4,
 "nbformat_minor": 2
}
