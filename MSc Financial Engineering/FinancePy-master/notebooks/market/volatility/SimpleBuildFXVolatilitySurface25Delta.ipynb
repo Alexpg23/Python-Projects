{
 "cells": [
  {
   "cell_type": "markdown",
   "metadata": {},
   "source": [
    "# Simple Build FX Volatility Surface to ATM and 25D"
   ]
  },
  {
   "cell_type": "markdown",
   "metadata": {},
   "source": [
    "Construct an FX volatility surface to different terms using ATM volatility, risk reversals and strangles. The example is taken from the book by Iain Clarke (see Tables 3.3 and 3.4 of the book)"
   ]
  },
  {
   "cell_type": "code",
   "execution_count": 3,
   "metadata": {
    "scrolled": false
   },
   "outputs": [],
   "source": [
    "from financepy.utils.date import Date\n",
    "from financepy.market.curves.discount_curve_flat import *\n",
    "from financepy.market.volatility.fx_vol_surface import *"
   ]
  },
  {
   "cell_type": "code",
   "execution_count": 4,
   "metadata": {},
   "outputs": [],
   "source": [
    "valuation_date = Date(10, 4, 2020)"
   ]
  },
  {
   "cell_type": "code",
   "execution_count": 5,
   "metadata": {},
   "outputs": [],
   "source": [
    "forName = \"EUR\"\n",
    "domName = \"USD\"\n",
    "currency_pair = forName + domName\n",
    "spot_fx_rate = 1.3465"
   ]
  },
  {
   "cell_type": "code",
   "execution_count": 6,
   "metadata": {},
   "outputs": [],
   "source": [
    "forCCRate = 0.03460  # EUR\n",
    "domCCRate = 0.02940  # USD"
   ]
  },
  {
   "cell_type": "code",
   "execution_count": 7,
   "metadata": {},
   "outputs": [],
   "source": [
    "dom_discount_curve = DiscountCurveFlat(valuation_date, domCCRate)\n",
    "for_discount_curve = DiscountCurveFlat(valuation_date, forCCRate)"
   ]
  },
  {
   "cell_type": "code",
   "execution_count": 8,
   "metadata": {},
   "outputs": [],
   "source": [
    "tenors = ['1M', '2M', '3M', '6M', '1Y', '2Y']\n",
    "atm_vols = [21.00, 21.00, 20.750, 19.400, 18.250, 17.677]\n",
    "marketStrangle25DeltaVols = [0.65, 0.75, 0.85, 0.90, 0.95, 0.85]\n",
    "riskReversal25DeltaVols = [-0.20, -0.25, -0.30, -0.50, -0.60, -0.562]"
   ]
  },
  {
   "cell_type": "code",
   "execution_count": 9,
   "metadata": {},
   "outputs": [],
   "source": [
    "notional_currency = forName"
   ]
  },
  {
   "cell_type": "code",
   "execution_count": 10,
   "metadata": {},
   "outputs": [],
   "source": [
    "atmMethod = FinFXATMMethod.FWD_DELTA_NEUTRAL\n",
    "deltaMethod = FinFXDeltaMethod.SPOT_DELTA"
   ]
  },
  {
   "cell_type": "code",
   "execution_count": 11,
   "metadata": {},
   "outputs": [],
   "source": [
    "fxMarket = FXVolSurface(valuation_date,\n",
    "                              spot_fx_rate,\n",
    "                              currency_pair,\n",
    "                              notional_currency,\n",
    "                              dom_discount_curve,\n",
    "                              for_discount_curve,\n",
    "                              tenors,\n",
    "                              atm_vols,\n",
    "                              marketStrangle25DeltaVols,\n",
    "                              riskReversal25DeltaVols,\n",
    "                              atmMethod,\n",
    "                              deltaMethod)"
   ]
  },
  {
   "cell_type": "code",
   "execution_count": 12,
   "metadata": {
    "scrolled": false
   },
   "outputs": [
    {
     "name": "stdout",
     "output_type": "stream",
     "text": [
      "==========================================================\n",
      "VALUE DATE: 10-APR-2020\n",
      "SPOT FX RATE: 1.3465\n",
      "ATM METHOD: FinFXATMMethod.FWD_DELTA_NEUTRAL\n",
      "DELTA METHOD: FinFXDeltaMethod.SPOT_DELTA\n",
      "==========================================================\n",
      "TENOR: 1M\n",
      "EXPIRY DATE: 10-MAY-2020\n",
      "IN ATM VOL: 21.000000 %\n",
      "IN MKT STRANGLE 25D VOL:  0.650000 %\n",
      "IN RSK REVERSAL 25D VOL: -0.200000 %\n",
      "==========================================================\n",
      "T_(YEARS):  0.0821917808219178\n",
      "CNT_CPD_RD: 2.940000 %\n",
      "CNT_CPD_RF: 3.460000 %\n",
      "FWD_RATE:   1.345925\n",
      "==========================================================\n",
      "VOL FUNCTION VolFunctionTypes.CLARK\n",
      "VOL_PARAMETERS: [-1.56039796  0.02648577  0.46580484]\n",
      "==========================================================\n",
      "OUT_K_ATM:   1.348366\n",
      "OUT_ATM_VOL: 20.999978 %\n",
      "CALL_DELTA:  0.498580  PUT_DELTA: -0.498580  NET_DELTA: -0.000000\n",
      "==========================================================\n",
      "MKT STRANGLE VOL IN:  0.650000 %\n",
      "K_25D_C_MS:  1.405978  ATM + MSVOL: 21.650000 %   DELTA:  0.250000\n",
      "K_25D_P_MS:  1.293410  ATM + MSVOL: 21.650000 %   DELTA: -0.250000\n",
      "CALL_VALUE:  0.012099  PUT_VALUE:  0.012876  MS_VALUE:  0.024975\n",
      "K_25D_C_MS:  1.405978  SURFACE_VOL: 21.555411 %   DELTA:  0.248979\n",
      "K_25D_P_MS:  1.293410  SURFACE_VOL: 21.745131 %   DELTA: -0.250848\n",
      "CALL_VALUE:  0.011983  PUT_VALUE:  0.012993  MS_SKEW_VALUE:  0.024976\n",
      "K_25D_C: 1.4056831  VOL: 21.550323  DELTA:  0.250000\n",
      "K_25D_P: 1.2931827  VOL: 21.750323  DELTA: -0.250000\n",
      "==========================================================\n",
      "RR = VOL_K_25_C - VOL_K_25_P => RR_IN: -0.200000 % RR_OUT: -0.200000 %\n",
      "==========================================================\n",
      "TENOR: 2M\n",
      "EXPIRY DATE: 10-JUN-2020\n",
      "IN ATM VOL: 21.000000 %\n",
      "IN MKT STRANGLE 25D VOL:  0.750000 %\n",
      "IN RSK REVERSAL 25D VOL: -0.250000 %\n",
      "==========================================================\n",
      "T_(YEARS):  0.16712328767123288\n",
      "CNT_CPD_RD: 2.940000 %\n",
      "CNT_CPD_RF: 3.460000 %\n",
      "FWD_RATE:   1.345330\n",
      "==========================================================\n",
      "VOL FUNCTION VolFunctionTypes.CLARK\n",
      "VOL_PARAMETERS: [-1.56017819  0.0365989   0.53523396]\n",
      "==========================================================\n",
      "OUT_K_ATM:   1.350297\n",
      "OUT_ATM_VOL: 21.000000 %\n",
      "CALL_DELTA:  0.497117  PUT_DELTA: -0.497117  NET_DELTA:  0.000000\n",
      "==========================================================\n",
      "MKT STRANGLE VOL IN:  0.750000 %\n",
      "K_25D_C_MS:  1.433559  ATM + MSVOL: 21.750000 %   DELTA:  0.250000\n",
      "K_25D_P_MS:  1.272553  ATM + MSVOL: 21.750000 %   DELTA: -0.250000\n",
      "CALL_VALUE:  0.017123  PUT_VALUE:  0.018721  MS_VALUE:  0.035844\n",
      "K_25D_C_MS:  1.433559  SURFACE_VOL: 21.632211 %   DELTA:  0.248693\n",
      "K_25D_P_MS:  1.272553  SURFACE_VOL: 21.867516 %   DELTA: -0.250990\n",
      "CALL_VALUE:  0.016918  PUT_VALUE:  0.018926  MS_SKEW_VALUE:  0.035844\n",
      "K_25D_C: 1.4330021  VOL: 21.624718  DELTA:  0.250000\n",
      "K_25D_P: 1.2721761  VOL: 21.874716  DELTA: -0.250000\n",
      "==========================================================\n",
      "RR = VOL_K_25_C - VOL_K_25_P => RR_IN: -0.250000 % RR_OUT: -0.249999 %\n",
      "==========================================================\n",
      "TENOR: 3M\n",
      "EXPIRY DATE: 10-JUL-2020\n",
      "IN ATM VOL: 20.750000 %\n",
      "IN MKT STRANGLE 25D VOL:  0.850000 %\n",
      "IN RSK REVERSAL 25D VOL: -0.300000 %\n",
      "==========================================================\n",
      "T_(YEARS):  0.2493150684931507\n",
      "CNT_CPD_RD: 2.940000 %\n",
      "CNT_CPD_RF: 3.460000 %\n",
      "FWD_RATE:   1.344755\n",
      "==========================================================\n",
      "VOL FUNCTION VolFunctionTypes.CLARK\n",
      "VOL_PARAMETERS: [-1.57191868  0.04679843  0.61112624]\n",
      "==========================================================\n",
      "OUT_K_ATM:   1.351993\n",
      "OUT_ATM_VOL: 20.749992 %\n",
      "CALL_DELTA:  0.495705  PUT_DELTA: -0.495705  NET_DELTA: -0.000000\n",
      "==========================================================\n",
      "MKT STRANGLE VOL IN:  0.850000 %\n",
      "K_25D_C_MS:  1.453595  ATM + MSVOL: 21.600000 %   DELTA:  0.250000\n",
      "K_25D_P_MS:  1.258621  ATM + MSVOL: 21.600000 %   DELTA: -0.250000\n",
      "CALL_VALUE:  0.020598  PUT_VALUE:  0.022955  MS_VALUE:  0.043553\n",
      "K_25D_C_MS:  1.453595  SURFACE_VOL: 21.459879 %   DELTA:  0.248401\n",
      "K_25D_P_MS:  1.258621  SURFACE_VOL: 21.739811 %   DELTA: -0.251140\n",
      "CALL_VALUE:  0.020301  PUT_VALUE:  0.023253  MS_SKEW_VALUE:  0.043553\n",
      "K_25D_C: 1.4527483  VOL: 21.449458  DELTA:  0.250000\n",
      "K_25D_P: 1.2580956  VOL: 21.749456  DELTA: -0.250000\n",
      "==========================================================\n",
      "RR = VOL_K_25_C - VOL_K_25_P => RR_IN: -0.300000 % RR_OUT: -0.299999 %\n",
      "==========================================================\n",
      "TENOR: 6M\n",
      "EXPIRY DATE: 10-OCT-2020\n",
      "IN ATM VOL: 19.400000 %\n",
      "IN MKT STRANGLE 25D VOL:  0.900000 %\n",
      "IN RSK REVERSAL 25D VOL: -0.500000 %\n",
      "==========================================================\n",
      "T_(YEARS):  0.5013698630136987\n",
      "CNT_CPD_RD: 2.940000 %\n",
      "CNT_CPD_RF: 3.460000 %\n",
      "FWD_RATE:   1.342994\n",
      "==========================================================\n",
      "VOL FUNCTION VolFunctionTypes.CLARK\n",
      "VOL_PARAMETERS: [-1.63829301  0.07769869  0.6967677 ]\n",
      "==========================================================\n",
      "OUT_K_ATM:   1.355725\n",
      "OUT_ATM_VOL: 19.400016 %\n",
      "CALL_DELTA:  0.491401  PUT_DELTA: -0.491401  NET_DELTA:  0.000000\n",
      "==========================================================\n",
      "MKT STRANGLE VOL IN:  0.900000 %\n",
      "K_25D_C_MS:  1.492142  ATM + MSVOL: 20.300000 %   DELTA:  0.250000\n",
      "K_25D_P_MS:  1.233988  ATM + MSVOL: 20.300000 %   DELTA: -0.250000\n",
      "CALL_VALUE:  0.027056  PUT_VALUE:  0.031269  MS_VALUE:  0.058326\n",
      "K_25D_C_MS:  1.492142  SURFACE_VOL: 20.067915 %   DELTA:  0.247079\n",
      "K_25D_P_MS:  1.233988  SURFACE_VOL: 20.530837 %   DELTA: -0.251833\n",
      "CALL_VALUE:  0.026361  PUT_VALUE:  0.031964  MS_SKEW_VALUE:  0.058325\n",
      "K_25D_C: 1.4900106  VOL: 20.048762  DELTA:  0.250000\n",
      "K_25D_P: 1.2328665  VOL: 20.548762  DELTA: -0.250000\n",
      "==========================================================\n",
      "RR = VOL_K_25_C - VOL_K_25_P => RR_IN: -0.500000 % RR_OUT: -0.500000 %\n",
      "==========================================================\n",
      "TENOR: 1Y\n",
      "EXPIRY DATE: 10-APR-2021\n",
      "IN ATM VOL: 18.250000 %\n",
      "IN MKT STRANGLE 25D VOL:  0.950000 %\n",
      "IN RSK REVERSAL 25D VOL: -0.600000 %\n",
      "==========================================================\n",
      "T_(YEARS):  1.0\n",
      "CNT_CPD_RD: 2.940000 %\n",
      "CNT_CPD_RF: 3.460000 %\n",
      "FWD_RATE:   1.339516\n",
      "==========================================================\n",
      "VOL FUNCTION VolFunctionTypes.CLARK\n",
      "VOL_PARAMETERS: [-1.69812401  0.10862656  0.80408262]\n",
      "==========================================================\n",
      "OUT_K_ATM:   1.362010\n",
      "OUT_ATM_VOL: 18.250001 %\n",
      "CALL_DELTA:  0.482996  PUT_DELTA: -0.482996  NET_DELTA:  0.000000\n",
      "==========================================================\n",
      "MKT STRANGLE VOL IN:  0.950000 %\n",
      "K_25D_C_MS:  1.544922  ATM + MSVOL: 19.200000 %   DELTA:  0.250000\n",
      "K_25D_P_MS:  1.205034  ATM + MSVOL: 19.200000 %   DELTA: -0.250000\n",
      "CALL_VALUE:  0.035509  PUT_VALUE:  0.043125  MS_VALUE:  0.078634\n",
      "K_25D_C_MS:  1.544922  SURFACE_VOL: 18.923587 %   DELTA:  0.246190\n",
      "K_25D_P_MS:  1.205034  SURFACE_VOL: 19.474748 %   DELTA: -0.252005\n",
      "CALL_VALUE:  0.034351  PUT_VALUE:  0.044283  MS_SKEW_VALUE:  0.078634\n",
      "K_25D_C: 1.5410069  VOL: 18.897063  DELTA:  0.250000\n",
      "K_25D_P: 1.2034118  VOL: 19.497062  DELTA: -0.250000\n",
      "==========================================================\n",
      "RR = VOL_K_25_C - VOL_K_25_P => RR_IN: -0.600000 % RR_OUT: -0.600000 %\n",
      "==========================================================\n",
      "TENOR: 2Y\n",
      "EXPIRY DATE: 10-APR-2022\n",
      "IN ATM VOL: 17.677000 %\n",
      "IN MKT STRANGLE 25D VOL:  0.850000 %\n",
      "IN RSK REVERSAL 25D VOL: -0.562000 %\n",
      "==========================================================\n",
      "T_(YEARS):  2.0\n",
      "CNT_CPD_RD: 2.940000 %\n",
      "CNT_CPD_RF: 3.460000 %\n",
      "FWD_RATE:   1.332569\n",
      "==========================================================\n",
      "VOL FUNCTION VolFunctionTypes.CLARK\n",
      "VOL_PARAMETERS: [-1.7284247   0.13086155  0.81527512]\n",
      "==========================================================\n",
      "OUT_K_ATM:   1.374866\n",
      "OUT_ATM_VOL: 17.677006 %\n",
      "CALL_DELTA:  0.466570  PUT_DELTA: -0.466570  NET_DELTA:  0.000000\n",
      "==========================================================\n",
      "MKT STRANGLE VOL IN:  0.850000 %\n",
      "K_25D_C_MS:  1.621992  ATM + MSVOL: 18.527000 %   DELTA:  0.250000\n",
      "K_25D_P_MS:  1.172587  ATM + MSVOL: 18.527000 %   DELTA: -0.250000\n",
      "CALL_VALUE:  0.047393  PUT_VALUE:  0.061952  MS_VALUE:  0.109345\n",
      "K_25D_C_MS:  1.621992  SURFACE_VOL: 18.265951 %   DELTA:  0.246153\n",
      "K_25D_P_MS:  1.172587  SURFACE_VOL: 18.786630 %   DELTA: -0.251511\n",
      "CALL_VALUE:  0.045871  PUT_VALUE:  0.063474  MS_SKEW_VALUE:  0.109345\n",
      "K_25D_C: 1.6162337  VOL: 18.240963  DELTA:  0.250000\n",
      "K_25D_P: 1.1709627  VOL: 18.802965  DELTA: -0.250000\n",
      "==========================================================\n",
      "RR = VOL_K_25_C - VOL_K_25_P => RR_IN: -0.562000 % RR_OUT: -0.562002 %\n",
      "==========================================================\n"
     ]
    }
   ],
   "source": [
    "fxMarket.check_calibration(True)"
   ]
  },
  {
   "cell_type": "code",
   "execution_count": 13,
   "metadata": {},
   "outputs": [
    {
     "data": {
      "image/png": "[encoded data removed]",
      "text/plain": [
       "<Figure size 432x288 with 1 Axes>"
      ]
     },
     "metadata": {
      "needs_background": "light"
     },
     "output_type": "display_data"
    }
   ],
   "source": [
    "fxMarket.plot_vol_curves()"
   ]
  },
  {
   "cell_type": "markdown",
   "metadata": {},
   "source": [
    "## Extracting Information from Volatility Surface"
   ]
  },
  {
   "cell_type": "code",
   "execution_count": 14,
   "metadata": {},
   "outputs": [
    {
     "data": {
      "text/plain": [
       "array([1.34592463, 1.34533034, 1.34475548, 1.34299408, 1.33951637,\n",
       "       1.33256897])"
      ]
     },
     "execution_count": 14,
     "metadata": {},
     "output_type": "execute_result"
    }
   ],
   "source": [
    "fxMarket._F0T"
   ]
  },
  {
   "cell_type": "code",
   "execution_count": 15,
   "metadata": {},
   "outputs": [
    {
     "data": {
      "text/plain": [
       "array([[-1.56039796,  0.02648577,  0.46580484],\n",
       "       [-1.56017819,  0.0365989 ,  0.53523396],\n",
       "       [-1.57191868,  0.04679843,  0.61112624],\n",
       "       [-1.63829301,  0.07769869,  0.6967677 ],\n",
       "       [-1.69812401,  0.10862656,  0.80408262],\n",
       "       [-1.7284247 ,  0.13086155,  0.81527512]])"
      ]
     },
     "execution_count": 15,
     "metadata": {},
     "output_type": "execute_result"
    }
   ],
   "source": [
    "fxMarket._parameters"
   ]
  },
  {
   "cell_type": "markdown",
   "metadata": {},
   "source": [
    "We can extract information from the volatility surface"
   ]
  },
  {
   "cell_type": "code",
   "execution_count": 16,
   "metadata": {},
   "outputs": [],
   "source": [
    "expiry_dates = valuation_date.add_tenor(tenors)"
   ]
  },
  {
   "cell_type": "code",
   "execution_count": 17,
   "metadata": {},
   "outputs": [],
   "source": [
    "K = fxMarket._K_ATM[0]"
   ]
  },
  {
   "cell_type": "markdown",
   "metadata": {},
   "source": [
    "The zeroth curve is the 1M volatility smile"
   ]
  },
  {
   "cell_type": "code",
   "execution_count": 18,
   "metadata": {},
   "outputs": [
    {
     "data": {
      "text/plain": [
       "(1.3483661021875544, 0.2099997836721049)"
      ]
     },
     "execution_count": 18,
     "metadata": {},
     "output_type": "execute_result"
    }
   ],
   "source": [
    "K, fxMarket.volatility(K, expiry_dates[0])"
   ]
  },
  {
   "cell_type": "markdown",
   "metadata": {},
   "source": [
    "The fifth curve is the 2Y volatility smile"
   ]
  },
  {
   "cell_type": "code",
   "execution_count": 19,
   "metadata": {},
   "outputs": [],
   "source": [
    "K = fxMarket._K_ATM[-1]"
   ]
  },
  {
   "cell_type": "code",
   "execution_count": 20,
   "metadata": {},
   "outputs": [
    {
     "data": {
      "text/plain": [
       "(1.3748659922257365, 0.17677006207733056)"
      ]
     },
     "execution_count": 20,
     "metadata": {},
     "output_type": "execute_result"
    }
   ],
   "source": [
    "K, fxMarket.volatility(K,expiry_dates[-1])"
   ]
  },
  {
   "cell_type": "markdown",
   "metadata": {},
   "source": [
    "Copyright (c) 2020 Dominic O'Kane"
   ]
  }
 ],
 "metadata": {
  "kernelspec": {
   "display_name": "Python 3",
   "language": "python",
   "name": "python3"
  },
  "language_info": {
   "codemirror_mode": {
    "name": "ipython",
    "version": 3
   },
   "file_extension": ".py",
   "mimetype": "text/x-python",
   "name": "python",
   "nbconvert_exporter": "python",
   "pygments_lexer": "ipython3",
   "version": "3.8.5"
  }
 },
 "nbformat": 4,
 "nbformat_minor": 4
}
