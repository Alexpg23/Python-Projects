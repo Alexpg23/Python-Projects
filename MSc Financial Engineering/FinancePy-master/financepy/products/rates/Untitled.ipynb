{
 "cells": [
  {
   "cell_type": "markdown",
   "id": "3eaec4d5",
   "metadata": {},
   "source": [
    "# VBA Programming Solutions for Finance\n",
    "## Final Assignment\n",
    "\n",
    "### Team Members:\n",
    "\n",
    "#### Marcel Santos de Carvalho, id 79083\n",
    "#### Alex Palacios, id 73713\n"
   ]
  },
  {
   "cell_type": "code",
   "execution_count": null,
   "id": "c22a554b",
   "metadata": {},
   "outputs": [],
   "source": [
    "from PIL import Image\n",
    "img1.1 = Image.open('Q1/Correlation.png')\n",
    "img1.2 = Image.open('Q1/ExP_Shortfall.png')\n",
    "img1.3 = Image.open('Q1/Info.png')\n",
    "img1.4 = Image.open('Q1/Ratios.png')\n",
    "img1.5 = Image.open('Q1/Statistics.png')\n",
    "img1.6 = Image.open('Q1/VaR.png')\n",
    "img1.7 = Image.open('Q1/VarCovar.png')\n",
    "\n",
    "img2a.1 = Image.open('Q2a/Analytical - Simulated Yield Curves.png')\n",
    "img2a.2 = Image.open('Q2a/Analytical - Simulated Yield Paths.png')\n",
    "img2a.3 = Image.open('Q2a/Market data - 30Y Curve.png')\n",
    "img2a.4 = Image.open('Q2a/Market data - 3Y Curve.png')\n",
    "img2a.5 = Image.open('Q2a/Market data - Blue Dots.png')\n",
    "img2a.6 = Image.open('Q2a/Market data - Historical rates.png')\n",
    "img2a.7 = Image.open('Q2a/Vasicek - Parameters.png')\n",
    "\n",
    "img2b.1 = Image.open('Q2a/Analytical - Simulated Yield Curves.png')\n",
    "img2b.2 = Image.open('Q2a/Analytical - Simulated Yield Curves.png')\n",
    "img2b.3 = Image.open('Q2a/Analytical - Simulated Yield Curves.png')\n",
    "img2b.4 = Image.open('Q2a/Analytical - Simulated Yield Curves.png')\n",
    "img2b.5 = Image.open('Q2a/Analytical - Simulated Yield Curves.png')\n",
    "img2b.6 = Image.open('Q2a/Analytical - Simulated Yield Curves.png')\n",
    "img2b.7 = Image.open('Q2a/Analytical - Simulated Yield Curves.png')\n",
    "img2b.8 = Image.open('Q2a/Analytical - Simulated Yield Curves.png')\n",
    "img2b.9 = Image.open('Q2a/Analytical - Simulated Yield Curves.png')\n",
    "img2b.10 = Image.open('Q2a/Analytical - Simulated Yield Curves.png')"
   ]
  },
  {
   "cell_type": "markdown",
   "id": "70a6f61a",
   "metadata": {},
   "source": [
    "![text](Correlation.png)"
   ]
  },
  {
   "cell_type": "code",
   "execution_count": 3,
   "id": "bd562915",
   "metadata": {},
   "outputs": [
    {
     "data": {
      "text/plain": [
       "6"
      ]
     },
     "execution_count": 3,
     "metadata": {},
     "output_type": "execute_result"
    }
   ],
   "source": [
    "3+3"
   ]
  },
  {
   "cell_type": "markdown",
   "id": "01ace2ab",
   "metadata": {},
   "source": [
    "![text](Correlation.png)"
   ]
  },
  {
   "cell_type": "code",
   "execution_count": null,
   "id": "3c6eb4f2",
   "metadata": {},
   "outputs": [],
   "source": []
  }
 ],
 "metadata": {
  "kernelspec": {
   "display_name": "Python 3",
   "language": "python",
   "name": "python3"
  },
  "language_info": {
   "codemirror_mode": {
    "name": "ipython",
    "version": 3
   },
   "file_extension": ".py",
   "mimetype": "text/x-python",
   "name": "python",
   "nbconvert_exporter": "python",
   "pygments_lexer": "ipython3",
   "version": "3.8.5"
  }
 },
 "nbformat": 4,
 "nbformat_minor": 5
}
