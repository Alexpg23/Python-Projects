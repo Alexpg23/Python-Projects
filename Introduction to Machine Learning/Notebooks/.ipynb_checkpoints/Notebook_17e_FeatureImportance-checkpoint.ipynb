{
 "cells": [
  {
   "cell_type": "markdown",
   "metadata": {},
   "source": [
    "# Feature Importance"
   ]
  },
  {
   "cell_type": "code",
   "execution_count": 1,
   "metadata": {},
   "outputs": [],
   "source": [
    "import numpy as np\n",
    "import pandas as pd\n",
    "import matplotlib.pyplot as plt\n",
    "plt.style.use('seaborn')\n",
    "import seaborn as sn\n",
    "%matplotlib inline"
   ]
  },
  {
   "cell_type": "code",
   "execution_count": 2,
   "metadata": {},
   "outputs": [],
   "source": [
    "from sklearn.model_selection import train_test_split\n",
    "\n",
    "from sklearn.metrics import classification_report, confusion_matrix\n",
    "import HelpfulFunctions as hp"
   ]
  },
  {
   "cell_type": "markdown",
   "metadata": {},
   "source": [
    "## Loading Data Wisconsin Breast Cancer Dataset"
   ]
  },
  {
   "cell_type": "code",
   "execution_count": 3,
   "metadata": {},
   "outputs": [],
   "source": [
    "from sklearn.datasets import load_breast_cancer\n",
    "breastCancerData = load_breast_cancer()\n",
    "X = pd.DataFrame(breastCancerData['data'],columns = breastCancerData['feature_names'])\n",
    "y = breastCancerData['target']"
   ]
  },
  {
   "cell_type": "code",
   "execution_count": 4,
   "metadata": {},
   "outputs": [],
   "source": [
    "feature_names = X.columns\n",
    "n_feats = len(feature_names)"
   ]
  },
  {
   "cell_type": "markdown",
   "metadata": {},
   "source": [
    "## Standardising the Data"
   ]
  },
  {
   "cell_type": "code",
   "execution_count": 5,
   "metadata": {},
   "outputs": [],
   "source": [
    "from sklearn.preprocessing import StandardScaler\n",
    "scaler = StandardScaler()\n",
    "scaler.fit(X)\n",
    "X_standardised = scaler.transform(X)"
   ]
  },
  {
   "cell_type": "code",
   "execution_count": 6,
   "metadata": {},
   "outputs": [],
   "source": [
    "X_train, X_test, y_train, y_test = train_test_split(X_standardised,y,test_size=0.3,random_state = 101)"
   ]
  },
  {
   "cell_type": "markdown",
   "metadata": {
    "scrolled": true
   },
   "source": [
    "## Fit Range of Models"
   ]
  },
  {
   "cell_type": "code",
   "execution_count": 7,
   "metadata": {},
   "outputs": [
    {
     "data": {
      "text/plain": [
       "LogisticRegression()"
      ]
     },
     "execution_count": 7,
     "metadata": {},
     "output_type": "execute_result"
    }
   ],
   "source": [
    "from sklearn.linear_model import LogisticRegression\n",
    "log_model = LogisticRegression(solver='lbfgs')\n",
    "log_model.fit(X_train,y_train)"
   ]
  },
  {
   "cell_type": "code",
   "execution_count": 8,
   "metadata": {},
   "outputs": [
    {
     "data": {
      "text/plain": [
       "KNeighborsClassifier()"
      ]
     },
     "execution_count": 8,
     "metadata": {},
     "output_type": "execute_result"
    }
   ],
   "source": [
    "from sklearn.neighbors import KNeighborsClassifier\n",
    "knn_model = KNeighborsClassifier()\n",
    "knn_model.fit(X_train,y_train)"
   ]
  },
  {
   "cell_type": "code",
   "execution_count": 9,
   "metadata": {},
   "outputs": [
    {
     "data": {
      "text/plain": [
       "DecisionTreeClassifier()"
      ]
     },
     "execution_count": 9,
     "metadata": {},
     "output_type": "execute_result"
    }
   ],
   "source": [
    "from sklearn.tree import DecisionTreeClassifier\n",
    "tree_model = DecisionTreeClassifier()\n",
    "tree_model.fit(X_train,y_train)"
   ]
  },
  {
   "cell_type": "code",
   "execution_count": 10,
   "metadata": {},
   "outputs": [
    {
     "data": {
      "text/plain": [
       "GaussianNB()"
      ]
     },
     "execution_count": 10,
     "metadata": {},
     "output_type": "execute_result"
    }
   ],
   "source": [
    "from sklearn.naive_bayes import GaussianNB\n",
    "bayes_model = GaussianNB()\n",
    "bayes_model.fit(X_train,y_train)"
   ]
  },
  {
   "cell_type": "code",
   "execution_count": 11,
   "metadata": {},
   "outputs": [
    {
     "data": {
      "text/plain": [
       "SVC(gamma='auto')"
      ]
     },
     "execution_count": 11,
     "metadata": {},
     "output_type": "execute_result"
    }
   ],
   "source": [
    "from sklearn.svm import SVC\n",
    "svc_model = SVC(gamma = \"auto\")\n",
    "svc_model.fit(X_train,y_train)"
   ]
  },
  {
   "cell_type": "code",
   "execution_count": 14,
   "metadata": {},
   "outputs": [
    {
     "data": {
      "text/plain": [
       "RandomForestClassifier()"
      ]
     },
     "execution_count": 14,
     "metadata": {},
     "output_type": "execute_result"
    }
   ],
   "source": [
    "from sklearn.ensemble import RandomForestClassifier\n",
    "rnd_model = RandomForestClassifier(n_estimators = 100)\n",
    "rnd_model.fit(X_train,y_train)"
   ]
  },
  {
   "cell_type": "markdown",
   "metadata": {},
   "source": [
    "## Prediction Accuracy"
   ]
  },
  {
   "cell_type": "code",
   "execution_count": 15,
   "metadata": {},
   "outputs": [],
   "source": [
    "model_list = [log_model,knn_model,tree_model,bayes_model,svc_model,mlp_model,rnd_model]"
   ]
  },
  {
   "cell_type": "code",
   "execution_count": 16,
   "metadata": {},
   "outputs": [
    {
     "name": "stdout",
     "output_type": "stream",
     "text": [
      "<class 'sklearn.linear_model._logistic.LogisticRegression'>\n",
      "Test Accuracy: 0.977\n",
      "<class 'sklearn.neighbors._classification.KNeighborsClassifier'>\n",
      "Test Accuracy: 0.953\n",
      "<class 'sklearn.tree._classes.DecisionTreeClassifier'>\n",
      "Test Accuracy: 0.918\n",
      "<class 'sklearn.naive_bayes.GaussianNB'>\n",
      "Test Accuracy: 0.918\n",
      "<class 'sklearn.svm._classes.SVC'>\n",
      "Test Accuracy: 0.977\n",
      "<class 'sklearn.neural_network._multilayer_perceptron.MLPClassifier'>\n",
      "Test Accuracy: 0.959\n",
      "<class 'sklearn.ensemble._forest.RandomForestClassifier'>\n",
      "Test Accuracy: 0.953\n"
     ]
    }
   ],
   "source": [
    "for model in model_list:\n",
    "    predictions = model.predict(X_test)\n",
    "    cm = confusion_matrix(y_test,predictions)\n",
    "    print(model.__class__)\n",
    "    print('Test Accuracy: %.3f' %model.score(X_test, y_test))"
   ]
  },
  {
   "cell_type": "markdown",
   "metadata": {},
   "source": [
    "## Feature Importance using Individual Features"
   ]
  },
  {
   "cell_type": "code",
   "execution_count": 17,
   "metadata": {},
   "outputs": [],
   "source": [
    "model_list = [log_model,knn_model,tree_model,bayes_model,svc_model,rnd_model]"
   ]
  },
  {
   "cell_type": "code",
   "execution_count": 18,
   "metadata": {},
   "outputs": [],
   "source": [
    "from sklearn.model_selection import cross_val_score"
   ]
  },
  {
   "cell_type": "code",
   "execution_count": 19,
   "metadata": {},
   "outputs": [],
   "source": [
    "import numpy"
   ]
  },
  {
   "cell_type": "code",
   "execution_count": 20,
   "metadata": {},
   "outputs": [
    {
     "name": "stdout",
     "output_type": "stream",
     "text": [
      "----------------------------------------------------\n",
      "<class 'sklearn.linear_model._logistic.LogisticRegression'>\n",
      "0 : worst concave points 0.9196518987341772\n",
      "1 : worst area 0.9195569620253166\n",
      "2 : mean concave points 0.9172468354430379\n",
      "3 : worst perimeter 0.9170886075949367\n",
      "4 : worst radius 0.9145253164556962\n",
      "----------------------------------------------------\n",
      "<class 'sklearn.neighbors._classification.KNeighborsClassifier'>\n",
      "0 : mean concave points 0.9046835443037974\n",
      "1 : worst concave points 0.9046518987341774\n",
      "2 : worst radius 0.8944620253164557\n",
      "3 : worst area 0.889493670886076\n",
      "4 : worst perimeter 0.8868354430379748\n",
      "----------------------------------------------------\n",
      "<class 'sklearn.tree._classes.DecisionTreeClassifier'>\n",
      "0 : worst area 0.8845886075949366\n",
      "1 : worst radius 0.8819303797468354\n",
      "2 : worst concave points 0.8795569620253165\n",
      "3 : worst perimeter 0.8568037974683544\n",
      "4 : mean perimeter 0.8543987341772151\n",
      "----------------------------------------------------\n",
      "<class 'sklearn.naive_bayes.GaussianNB'>\n",
      "0 : worst concave points 0.9196518987341772\n",
      "1 : worst perimeter 0.9195886075949368\n",
      "2 : worst radius 0.9170569620253165\n",
      "3 : worst area 0.9170253164556963\n",
      "4 : mean concave points 0.9147468354430378\n",
      "----------------------------------------------------\n",
      "<class 'sklearn.svm._classes.SVC'>\n",
      "0 : worst concave points 0.9246835443037973\n",
      "1 : worst perimeter 0.919620253164557\n",
      "2 : worst area 0.9195253164556962\n",
      "3 : worst radius 0.9170569620253165\n",
      "4 : mean concave points 0.9147784810126582\n",
      "----------------------------------------------------\n",
      "<class 'sklearn.ensemble._forest.RandomForestClassifier'>\n",
      "0 : worst area 0.8845886075949366\n",
      "1 : worst concave points 0.8820569620253165\n",
      "2 : worst radius 0.8794303797468354\n",
      "3 : worst perimeter 0.8744620253164557\n",
      "4 : mean perimeter 0.8568987341772152\n",
      "----------------------------------------------------\n"
     ]
    }
   ],
   "source": [
    "for model in model_list:\n",
    "\n",
    "    print(\"----------------------------------------------------\")    \n",
    "    print(model.__class__)\n",
    "    scores_list = []\n",
    "\n",
    "    for i in range(n_feats):\n",
    "        X_one_feature = X_train[:, i].reshape(-1, 1)\n",
    "        scores = cross_val_score(model, X_one_feature, y_train, cv=5)\n",
    "        scores_mean = scores.mean()\n",
    "        scores_list.append(scores.mean())\n",
    "\n",
    "    sorted_indices = numpy.argsort(np.array(scores_list) * -1) # negate to have descending\n",
    "\n",
    "    for i in range(0,5): # top 5 features\n",
    "        index = sorted_indices[i]\n",
    "        print(i, \":\", feature_names[index], scores_list[index])\n",
    "    \n",
    "print(\"----------------------------------------------------\")"
   ]
  },
  {
   "cell_type": "markdown",
   "metadata": {},
   "source": [
    "## Feature Importance using Recursive Feature Elimination"
   ]
  },
  {
   "cell_type": "code",
   "execution_count": 21,
   "metadata": {},
   "outputs": [],
   "source": [
    "from sklearn.feature_selection import RFE"
   ]
  },
  {
   "cell_type": "code",
   "execution_count": 22,
   "metadata": {},
   "outputs": [],
   "source": [
    "# We cannot run this on all models\n",
    "model_list = [log_model,tree_model,rnd_model]"
   ]
  },
  {
   "cell_type": "code",
   "execution_count": 43,
   "metadata": {},
   "outputs": [
    {
     "name": "stdout",
     "output_type": "stream",
     "text": [
      "-------------------------------------------------\n",
      "<class 'sklearn.linear_model._logistic.LogisticRegression'>\n",
      "mean concave points\n",
      "worst radius\n",
      "worst texture\n",
      "worst area\n",
      "worst concave points\n",
      "\n",
      "-------------------------------------------------\n",
      "<class 'sklearn.tree._classes.DecisionTreeClassifier'>\n",
      "area error\n",
      "fractal dimension error\n",
      "worst texture\n",
      "worst area\n",
      "worst concave points\n",
      "\n",
      "-------------------------------------------------\n",
      "<class 'sklearn.ensemble._forest.RandomForestClassifier'>\n",
      "mean concave points\n",
      "worst radius\n",
      "worst perimeter\n",
      "worst area\n",
      "worst concave points\n",
      "\n"
     ]
    }
   ],
   "source": [
    "for model in model_list:\n",
    "    \n",
    "    print(\"-------------------------------------------------\")\n",
    "    \n",
    "    rfe = RFE(estimator=model, n_features_to_select=5)\n",
    "    \n",
    "    print(model.__class__)\n",
    "    rfe.fit(X_train, y_train)\n",
    "\n",
    "    for i in range(0,len(rnk)):\n",
    "        if rfe.support_[i] == True:\n",
    "            print(feature_names[i], end=\"\\n\")\n",
    "    print(\"\")\n"
   ]
  },
  {
   "cell_type": "code",
   "execution_count": null,
   "metadata": {},
   "outputs": [],
   "source": []
  }
 ],
 "metadata": {
  "kernelspec": {
   "display_name": "Python 3",
   "language": "python",
   "name": "python3"
  },
  "language_info": {
   "codemirror_mode": {
    "name": "ipython",
    "version": 3
   },
   "file_extension": ".py",
   "mimetype": "text/x-python",
   "name": "python",
   "nbconvert_exporter": "python",
   "pygments_lexer": "ipython3",
   "version": "3.8.5"
  }
 },
 "nbformat": 4,
 "nbformat_minor": 2
}
