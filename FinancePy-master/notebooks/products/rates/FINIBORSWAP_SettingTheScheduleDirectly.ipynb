{
 "cells": [
  {
   "cell_type": "markdown",
   "metadata": {},
   "source": [
    "# Analysing an Interest Rate Swap - Customising Schedules"
   ]
  },
  {
   "cell_type": "markdown",
   "metadata": {},
   "source": [
    "You can override the schedule dates if you need to."
   ]
  },
  {
   "cell_type": "code",
   "execution_count": 1,
   "metadata": {},
   "outputs": [
    {
     "name": "stdout",
     "output_type": "stream",
     "text": [
      "###################################################################\n",
      "# FINANCEPY BETA Version 0.180 - This build: 22 Sep 2020 at 19:38 #\n",
      "#     This software is distributed FREE & WITHOUT ANY WARRANTY    #\n",
      "# For info and disclaimer - https://github.com/domokane/FinancePy #\n",
      "###################################################################\n",
      "\n"
     ]
    }
   ],
   "source": [
    "from financepy.utils import *\n",
    "from financepy.products.rates import *\n",
    "from financepy.market.curves import *"
   ]
  },
  {
   "cell_type": "code",
   "execution_count": 2,
   "metadata": {},
   "outputs": [],
   "source": [
    "valuation_date = Date(20, 10, 2015)"
   ]
  },
  {
   "cell_type": "code",
   "execution_count": 3,
   "metadata": {},
   "outputs": [],
   "source": [
    "discount_curve = DiscountCurveFlat(valuation_date, \n",
    "                                     0.01,\n",
    "                                     FrequencyTypes.CONTINUOUS,\n",
    "                                     DayCountTypes.ACT_365F)"
   ]
  },
  {
   "cell_type": "code",
   "execution_count": 4,
   "metadata": {},
   "outputs": [],
   "source": [
    "index_curve = DiscountCurveFlat(valuation_date, \n",
    "                                  0.02,\n",
    "                                  FrequencyTypes.CONTINUOUS,\n",
    "                                  DayCountTypes.ACT_365F)"
   ]
  },
  {
   "cell_type": "markdown",
   "metadata": {},
   "source": [
    "## Creating the Swap"
   ]
  },
  {
   "cell_type": "code",
   "execution_count": 5,
   "metadata": {},
   "outputs": [],
   "source": [
    "settlement_date = valuation_date.add_weekdays(5)"
   ]
  },
  {
   "cell_type": "code",
   "execution_count": 6,
   "metadata": {},
   "outputs": [
    {
     "data": {
      "text/plain": [
       "TUE 27 OCT 2015"
      ]
     },
     "execution_count": 6,
     "metadata": {},
     "output_type": "execute_result"
    }
   ],
   "source": [
    "settlement_date"
   ]
  },
  {
   "cell_type": "code",
   "execution_count": 7,
   "metadata": {},
   "outputs": [],
   "source": [
    "maturity_date = settlement_date.add_tenor(\"10Y\")"
   ]
  },
  {
   "cell_type": "markdown",
   "metadata": {},
   "source": [
    "We begin by setting the market conventions we wish to use."
   ]
  },
  {
   "cell_type": "code",
   "execution_count": 8,
   "metadata": {},
   "outputs": [],
   "source": [
    "swapCalendarType = CalendarTypes.UNITED_STATES\n",
    "bus_day_adjust_type = BusDayAdjustTypes.MODIFIED_FOLLOWING\n",
    "date_gen_rule_type = DateGenRuleTypes.FORWARD"
   ]
  },
  {
   "cell_type": "markdown",
   "metadata": {},
   "source": [
    "We then define the Fixed Leg"
   ]
  },
  {
   "cell_type": "code",
   "execution_count": 9,
   "metadata": {},
   "outputs": [],
   "source": [
    "fixed_coupon = 0.025\n",
    "fixedFreqType = FrequencyTypes.SEMI_ANNUAL\n",
    "fixed_day_count_type = DayCountTypes.ACT_360"
   ]
  },
  {
   "cell_type": "markdown",
   "metadata": {},
   "source": [
    "And then we define the Floating Leg"
   ]
  },
  {
   "cell_type": "code",
   "execution_count": 10,
   "metadata": {},
   "outputs": [],
   "source": [
    "float_spread = 0.004\n",
    "floatFreqType = FrequencyTypes.QUARTERLY\n",
    "float_day_count_type = DayCountTypes.ACT_360"
   ]
  },
  {
   "cell_type": "markdown",
   "metadata": {},
   "source": [
    "We need to specify the size and direction of the swap."
   ]
  },
  {
   "cell_type": "code",
   "execution_count": 12,
   "metadata": {},
   "outputs": [],
   "source": [
    "swapType = SwapTypes.PAY\n",
    "notional = 10 * ONE_MILLION"
   ]
  },
  {
   "cell_type": "markdown",
   "metadata": {},
   "source": [
    "And then we define when the swap begins and ends."
   ]
  },
  {
   "cell_type": "markdown",
   "metadata": {},
   "source": [
    "We can now create the swap object."
   ]
  },
  {
   "cell_type": "code",
   "execution_count": 16,
   "metadata": {},
   "outputs": [],
   "source": [
    "swap = IborSwap(settlement_date,\n",
    "                    maturity_date,\n",
    "                    swapType,\n",
    "                    fixed_coupon,\n",
    "                    fixedFreqType,\n",
    "                    fixed_day_count_type,\n",
    "                    notional,\n",
    "                    float_spread,\n",
    "                    floatFreqType,\n",
    "                    float_day_count_type,\n",
    "                    swapCalendarType,\n",
    "                    bus_day_adjust_type,\n",
    "                    date_gen_rule_type)"
   ]
  },
  {
   "cell_type": "code",
   "execution_count": null,
   "metadata": {},
   "outputs": [],
   "source": [
    "swap.value(valuation_date, discount_curve, index_curve)"
   ]
  },
  {
   "cell_type": "code",
   "execution_count": null,
   "metadata": {},
   "outputs": [],
   "source": [
    "swap.print_fixed_leg_pv()"
   ]
  },
  {
   "cell_type": "code",
   "execution_count": null,
   "metadata": {},
   "outputs": [],
   "source": [
    "swap.print_float_leg_pv()"
   ]
  },
  {
   "cell_type": "markdown",
   "metadata": {},
   "source": [
    "## Customising the Schedules"
   ]
  },
  {
   "cell_type": "markdown",
   "metadata": {},
   "source": [
    "Suppose I want to customise the schedules in a way that is not possible using the IborSwap constructor. This can easily be done by overriding the internal variable that stores the schedule of dates. For example, suppose I wish to make the fixed leg have odd payments as follows."
   ]
  },
  {
   "cell_type": "code",
   "execution_count": 177,
   "metadata": {},
   "outputs": [],
   "source": [
    "fixedSchedule = [valuation_date, Date(15, 11, 2015), Date(15,11, 2020), Date(15,11,2025)]"
   ]
  },
  {
   "cell_type": "markdown",
   "metadata": {},
   "source": [
    "The first date is assumed to be the previous coupon date. We can set the schedule easily."
   ]
  },
  {
   "cell_type": "code",
   "execution_count": 182,
   "metadata": {},
   "outputs": [],
   "source": [
    "swap._adjustedFixedDates = fixedSchedule"
   ]
  },
  {
   "cell_type": "markdown",
   "metadata": {},
   "source": [
    "Now I redo the valuation"
   ]
  },
  {
   "cell_type": "code",
   "execution_count": 183,
   "metadata": {},
   "outputs": [
    {
     "data": {
      "text/plain": [
       "-78021.22225541156"
      ]
     },
     "execution_count": 183,
     "metadata": {},
     "output_type": "execute_result"
    }
   ],
   "source": [
    "swap.value(valuation_date, discount_curve, index_curve)"
   ]
  },
  {
   "cell_type": "markdown",
   "metadata": {},
   "source": [
    "We can then check to see how the valuation is arrived at."
   ]
  },
  {
   "cell_type": "code",
   "execution_count": 184,
   "metadata": {},
   "outputs": [
    {
     "name": "stdout",
     "output_type": "stream",
     "text": [
      "START DATE: TUE 27 OCT 2015\n",
      "MATURITY DATE: MON 27 OCT 2025\n",
      "COUPON (%): 2.5\n",
      "FIXED LEG FREQUENCY: FrequencyTypes.SEMI_ANNUAL\n",
      "FIXED LEG DAY COUNT: DayCountTypes.ACT_360\n",
      "VALUATION DATE TUE 20 OCT 2015\n",
      "PAYMENT_DATE     YEAR_FRAC        FLOW         DF         DF*FLOW       CUM_PV\n",
      "TUE 20 OCT 2015          -            -   1.00000000            -            -\n",
      "SUN 15 NOV 2015  0.0722222     18055.56   0.99928792     18042.70     18042.70\n",
      "SUN 15 NOV 2020  5.0750000   1268750.00   0.95049999   1205946.87   1223989.57\n",
      "SAT 15 NOV 2025  5.0722222   1268055.56   0.90411879   1146472.86   2370462.42\n"
     ]
    }
   ],
   "source": [
    "swap.print_fixed_leg_pv()"
   ]
  },
  {
   "cell_type": "markdown",
   "metadata": {},
   "source": [
    "Clearly the coupons have been adjusted. We do not the ability to override the flow amounts."
   ]
  },
  {
   "cell_type": "markdown",
   "metadata": {},
   "source": [
    "The floating leg is not affected."
   ]
  },
  {
   "cell_type": "markdown",
   "metadata": {},
   "source": [
    "Copyright (c) 2020 Dominic O'Kane"
   ]
  }
 ],
 "metadata": {
  "kernelspec": {
   "display_name": "Python 3",
   "language": "python",
   "name": "python3"
  },
  "language_info": {
   "codemirror_mode": {
    "name": "ipython",
    "version": 3
   },
   "file_extension": ".py",
   "mimetype": "text/x-python",
   "name": "python",
   "nbconvert_exporter": "python",
   "pygments_lexer": "ipython3",
   "version": "3.7.6"
  }
 },
 "nbformat": 4,
 "nbformat_minor": 4
}
