{
 "cells": [
  {
   "cell_type": "markdown",
   "metadata": {},
   "source": [
    "# Bermudan Swaption Pricing"
   ]
  },
  {
   "cell_type": "markdown",
   "metadata": {},
   "source": [
    "Value a European Swaption using the Hull-White, Black-Derman-Toy and Black-Karasinski models. I analyse relationships to test the model pricing."
   ]
  },
  {
   "cell_type": "markdown",
   "metadata": {},
   "source": [
    "NOTE SENSITIVE TO EVEN-ODD NUMBER OF TIME STEPS ON TREE - INVESTIGATE"
   ]
  },
  {
   "cell_type": "code",
   "execution_count": 1,
   "metadata": {},
   "outputs": [],
   "source": [
    "import numpy as np\n",
    "import matplotlib.pyplot as plt"
   ]
  },
  {
   "cell_type": "code",
   "execution_count": 2,
   "metadata": {
    "tags": []
   },
   "outputs": [
    {
     "name": "stdout",
     "output_type": "stream",
     "text": [
      "####################################################################\n",
      "# FINANCEPY BETA Version 0.200 - This build:  14 Jul 2021 at 16:00 #\n",
      "# **** NEW PEP8 COMPLIANT VERSION -- PLEASE UPDATE YOUR CODE  **** #\n",
      "#      This software is distributed FREE & WITHOUT ANY WARRANTY    #\n",
      "# For info and disclaimer - https://github.com/domokane/FinancePy  #\n",
      "#      Send any bug reports or comments to quant@financepy.com     #\n",
      "####################################################################\n",
      "\n"
     ]
    }
   ],
   "source": [
    "from financepy.utils import *\n",
    "from financepy.products.rates import *\n",
    "from financepy.market.curves import *\n",
    "from financepy.models.hw_tree import HWTree\n",
    "from financepy.models.bk_tree import BKTree\n",
    "from financepy.models.bdt_tree import BDTTree"
   ]
  },
  {
   "cell_type": "markdown",
   "metadata": {},
   "source": [
    "## Discount Curve"
   ]
  },
  {
   "cell_type": "code",
   "execution_count": 3,
   "metadata": {},
   "outputs": [],
   "source": [
    "valuation_date = Date(1, 1, 2011)\n",
    "settlement_date = valuation_date"
   ]
  },
  {
   "cell_type": "markdown",
   "metadata": {},
   "source": [
    "Set up flat discount curve"
   ]
  },
  {
   "cell_type": "code",
   "execution_count": 4,
   "metadata": {},
   "outputs": [],
   "source": [
    "rate = 0.0625\n",
    "libor_curve = DiscountCurveFlat(valuation_date, \n",
    "                                  rate, \n",
    "                                  FrequencyTypes.SEMI_ANNUAL, \n",
    "                                  DayCountTypes.ACT_365F)"
   ]
  },
  {
   "cell_type": "markdown",
   "metadata": {},
   "source": [
    "# The Underlying Swap"
   ]
  },
  {
   "cell_type": "markdown",
   "metadata": {},
   "source": [
    "We begin with the underlying swap."
   ]
  },
  {
   "cell_type": "code",
   "execution_count": 5,
   "metadata": {},
   "outputs": [],
   "source": [
    "exercise_date = settlement_date.add_years(1)\n",
    "swapMaturityDate = settlement_date.add_years(4)\n",
    "swapFixedCoupon = 0.060\n",
    "swapFixedFrequencyType = FrequencyTypes.SEMI_ANNUAL\n",
    "swapFixedDayCountType = DayCountTypes.ACT_365F\n",
    "swapType = SwapTypes.PAY "
   ]
  },
  {
   "cell_type": "markdown",
   "metadata": {},
   "source": [
    "We can value the forward starting swap."
   ]
  },
  {
   "cell_type": "code",
   "execution_count": 6,
   "metadata": {},
   "outputs": [],
   "source": [
    "swap = IborSwap(exercise_date,\n",
    "                    swapMaturityDate,\n",
    "                    swapType,\n",
    "                    swapFixedCoupon,\n",
    "                    swapFixedFrequencyType,\n",
    "                    swapFixedDayCountType)"
   ]
  },
  {
   "cell_type": "markdown",
   "metadata": {},
   "source": [
    "We can approximate the value using 2.5 as the approximate duration of a 3 year swap"
   ]
  },
  {
   "cell_type": "code",
   "execution_count": 7,
   "metadata": {},
   "outputs": [
    {
     "data": {
      "text/plain": [
       "6250.0000000000055"
      ]
     },
     "execution_count": 7,
     "metadata": {},
     "output_type": "execute_result"
    }
   ],
   "source": [
    "(rate - swapFixedCoupon) * 2.5 * ONE_MILLION"
   ]
  },
  {
   "cell_type": "code",
   "execution_count": 8,
   "metadata": {},
   "outputs": [
    {
     "name": "stdout",
     "output_type": "stream",
     "text": [
      "Swap Value: 6348.48951\n"
     ]
    }
   ],
   "source": [
    "swapValue = swap.value(valuation_date, libor_curve, libor_curve)\n",
    "print(\"Swap Value: %9.5f\"% swapValue)"
   ]
  },
  {
   "cell_type": "markdown",
   "metadata": {},
   "source": [
    "The estimate was not bad !"
   ]
  },
  {
   "cell_type": "code",
   "execution_count": 9,
   "metadata": {},
   "outputs": [
    {
     "name": "stdout",
     "output_type": "stream",
     "text": [
      "START DATE: 01-JAN-2012\n",
      "MATURITY DATE: 01-JAN-2015\n",
      "COUPON (%): 6.0\n",
      "FREQUENCY: FrequencyTypes.SEMI_ANNUAL\n",
      "DAY COUNT: DayCountTypes.ACT_365F\n",
      "PAY_DATE     ACCR_START   ACCR_END     DAYS  YEARFRAC    RATE      PAYMENT       DF          PV        CUM PV\n",
      "02-JUL-2012  01-JAN-2012  02-JUL-2012   183  0.501370   6.00000     30082.19  0.91174104     27427.17     27427.17\n",
      "01-JAN-2013  02-JUL-2012  01-JAN-2013   183  0.501370   6.00000     30082.19  0.88403799     26593.80     54020.97\n",
      "01-JUL-2013  01-JAN-2013  01-JUL-2013   181  0.495890   6.00000     29753.42  0.85746580     25512.54     79533.51\n",
      "01-JAN-2014  01-JUL-2013  01-JAN-2014   184  0.504110   6.00000     30246.58  0.83127172     25143.12    104676.64\n",
      "01-JUL-2014  01-JAN-2014  01-JUL-2014   181  0.495890   6.00000     29753.42  0.80628556     23989.76    128666.39\n",
      "01-JAN-2015  01-JUL-2014  01-JAN-2015   184  0.504110   6.00000     30246.58  0.78165495     23642.39    152308.78\n"
     ]
    }
   ],
   "source": [
    "swap.print_fixed_leg_pv()"
   ]
  },
  {
   "cell_type": "code",
   "execution_count": 10,
   "metadata": {},
   "outputs": [
    {
     "name": "stdout",
     "output_type": "stream",
     "text": [
      "START DATE: 01-JAN-2012\n",
      "MATURITY DATE: 01-JAN-2015\n",
      "SPREAD (BPS): 0.0\n",
      "FREQUENCY: FrequencyTypes.QUARTERLY\n",
      "DAY COUNT: DayCountTypes.THIRTY_E_360\n",
      "PAY_DATE     ACCR_START   ACCR_END     DAYS  YEARFRAC    IBOR      PAYMENT       DF          PV        CUM PV\n",
      "02-APR-2012  01-JAN-2012  02-APR-2012    91  0.252778    6.18457     15633.23  0.92583837     14473.84     14473.84\n",
      "02-JUL-2012  02-APR-2012  02-JUL-2012    90  0.250000    6.18480     15461.99  0.91174104     14097.34     28571.18\n",
      "01-OCT-2012  02-JUL-2012  01-OCT-2012    89  0.247222    6.25429     15461.99  0.89785835     13882.68     42453.86\n",
      "01-JAN-2013  01-OCT-2012  01-JAN-2013    90  0.250000    6.25329     15633.23  0.88403799     13820.37     56274.23\n",
      "01-APR-2013  01-JAN-2013  01-APR-2013    90  0.250000    6.11632     15290.79  0.87072393     13314.06     69588.28\n",
      "01-JUL-2013  01-APR-2013  01-JUL-2013    90  0.250000    6.18480     15461.99  0.85746580     13258.13     82846.42\n",
      "01-OCT-2013  01-JUL-2013  01-OCT-2013    90  0.250000    6.25329     15633.23  0.84426718     13198.62     96045.04\n",
      "01-JAN-2014  01-OCT-2013  01-JAN-2014    90  0.250000    6.25329     15633.23  0.83127172     12995.46    109040.50\n",
      "01-APR-2014  01-JAN-2014  01-APR-2014    90  0.250000    6.11632     15290.79  0.81875234     12519.37    121559.87\n",
      "01-JUL-2014  01-APR-2014  01-JUL-2014    90  0.250000    6.18480     15461.99  0.80628556     12466.78    134026.65\n",
      "01-OCT-2014  01-JUL-2014  01-OCT-2014    90  0.250000    6.25329     15633.23  0.79387474     12410.82    146437.48\n",
      "01-JAN-2015  01-OCT-2014  01-JAN-2015    90  0.250000    6.25329     15633.23  0.78165495     12219.79    158657.27\n"
     ]
    }
   ],
   "source": [
    "swap.print_float_leg_pv()"
   ]
  },
  {
   "cell_type": "markdown",
   "metadata": {},
   "source": [
    "# IborSwaption"
   ]
  },
  {
   "cell_type": "markdown",
   "metadata": {},
   "source": [
    "This is a class for European-style swaptions. It implements a number of model implementations."
   ]
  },
  {
   "cell_type": "code",
   "execution_count": 11,
   "metadata": {},
   "outputs": [],
   "source": [
    "europeanSwaptionPay = IborSwaption(settlement_date,\n",
    "                                      exercise_date,\n",
    "                                      swapMaturityDate,\n",
    "                                      SwapTypes.PAY,\n",
    "                                      swapFixedCoupon,\n",
    "                                      swapFixedFrequencyType,\n",
    "                                      swapFixedDayCountType)"
   ]
  },
  {
   "cell_type": "code",
   "execution_count": 12,
   "metadata": {},
   "outputs": [],
   "source": [
    "europeanSwaptionRec = IborSwaption(settlement_date,\n",
    "                                      exercise_date,\n",
    "                                      swapMaturityDate,\n",
    "                                      SwapTypes.RECEIVE,\n",
    "                                      swapFixedCoupon,\n",
    "                                      swapFixedFrequencyType,\n",
    "                                      swapFixedDayCountType)"
   ]
  },
  {
   "cell_type": "code",
   "execution_count": 13,
   "metadata": {},
   "outputs": [
    {
     "data": {
      "text/plain": [
       "OBJECT TYPE: IborSwaption\n",
       "SETTLEMENT DATE: 01-JAN-2011\n",
       "EXERCISE DATE: 01-JAN-2012\n",
       "SWAP FIXED LEG TYPE: SwapTypes.PAY\n",
       "SWAP MATURITY DATE: 01-JAN-2015\n",
       "SWAP NOTIONAL: 1000000\n",
       "FIXED COUPON: 6.0\n",
       "FIXED FREQUENCY: FrequencyTypes.SEMI_ANNUAL\n",
       "FIXED DAY COUNT: DayCountTypes.ACT_365F\n",
       "FLOAT FREQUENCY: FrequencyTypes.QUARTERLY\n",
       "FLOAT DAY COUNT: DayCountTypes.THIRTY_E_360"
      ]
     },
     "execution_count": 13,
     "metadata": {},
     "output_type": "execute_result"
    }
   ],
   "source": [
    "europeanSwaptionPay"
   ]
  },
  {
   "cell_type": "markdown",
   "metadata": {},
   "source": [
    "Set the volatility to zero so that payer is pure intrinsic"
   ]
  },
  {
   "cell_type": "markdown",
   "metadata": {},
   "source": [
    "### Black's Model"
   ]
  },
  {
   "cell_type": "code",
   "execution_count": 14,
   "metadata": {},
   "outputs": [],
   "source": [
    "sigma = 0.00001"
   ]
  },
  {
   "cell_type": "code",
   "execution_count": 15,
   "metadata": {},
   "outputs": [],
   "source": [
    "model = Black(sigma)"
   ]
  },
  {
   "cell_type": "code",
   "execution_count": 16,
   "metadata": {},
   "outputs": [
    {
     "data": {
      "text/plain": [
       "6348.489508767811"
      ]
     },
     "execution_count": 16,
     "metadata": {},
     "output_type": "execute_result"
    }
   ],
   "source": [
    "europeanSwaptionPay.value(valuation_date, libor_curve, model)"
   ]
  },
  {
   "cell_type": "markdown",
   "metadata": {},
   "source": [
    "Let's check for put-call parity"
   ]
  },
  {
   "cell_type": "code",
   "execution_count": 17,
   "metadata": {},
   "outputs": [],
   "source": [
    "sigma = 0.20"
   ]
  },
  {
   "cell_type": "code",
   "execution_count": 18,
   "metadata": {},
   "outputs": [],
   "source": [
    "model = Black(sigma)"
   ]
  },
  {
   "cell_type": "code",
   "execution_count": 19,
   "metadata": {},
   "outputs": [
    {
     "name": "stdout",
     "output_type": "stream",
     "text": [
      "PAY Value: 15815.70649\n",
      "REC Value: 9467.21698\n",
      "PAY - REC: 6348.48951\n"
     ]
    }
   ],
   "source": [
    "valuePay = europeanSwaptionPay.value(valuation_date, libor_curve, model)\n",
    "valueRec = europeanSwaptionRec.value(valuation_date, libor_curve, model)\n",
    "valuePayRec = valuePay - valueRec\n",
    "print(\"PAY Value: %9.5f\"% valuePay)\n",
    "print(\"REC Value: %9.5f\"% valueRec)\n",
    "print(\"PAY - REC: %9.5f\"% valuePayRec)"
   ]
  },
  {
   "cell_type": "markdown",
   "metadata": {},
   "source": [
    "Yes put-call parity is respected."
   ]
  },
  {
   "cell_type": "markdown",
   "metadata": {},
   "source": [
    "### BK Model"
   ]
  },
  {
   "cell_type": "code",
   "execution_count": 20,
   "metadata": {},
   "outputs": [],
   "source": [
    "a = 0.01\n",
    "sigma = 0.0000001\n",
    "num_time_steps = 100\n",
    "model = BKTree(sigma, a, num_time_steps)"
   ]
  },
  {
   "cell_type": "code",
   "execution_count": 21,
   "metadata": {},
   "outputs": [
    {
     "name": "stdout",
     "output_type": "stream",
     "text": [
      "PAY Value: 6346.08093\n",
      "REC Value:   0.00000\n",
      "PAY - REC: 6346.08093\n"
     ]
    }
   ],
   "source": [
    "valuePay = europeanSwaptionPay.value(valuation_date, libor_curve, model)\n",
    "valueRec = europeanSwaptionRec.value(valuation_date, libor_curve, model)\n",
    "valuePayRec = valuePay - valueRec\n",
    "print(\"PAY Value: %9.5f\"% valuePay)\n",
    "print(\"REC Value: %9.5f\"% valueRec)\n",
    "print(\"PAY - REC: %9.5f\"% valuePayRec)"
   ]
  },
  {
   "cell_type": "code",
   "execution_count": 22,
   "metadata": {},
   "outputs": [],
   "source": [
    "a = 0.01\n",
    "sigma = 0.20\n",
    "num_time_steps = 100\n",
    "model = BKTree(sigma, a, num_time_steps)"
   ]
  },
  {
   "cell_type": "code",
   "execution_count": 23,
   "metadata": {},
   "outputs": [
    {
     "name": "stdout",
     "output_type": "stream",
     "text": [
      "PAY Value: 15746.57475\n",
      "REC Value: 9400.49421\n",
      "PAY - REC: 6346.08054\n"
     ]
    }
   ],
   "source": [
    "valuePay = europeanSwaptionPay.value(valuation_date, libor_curve, model)\n",
    "valueRec = europeanSwaptionRec.value(valuation_date, libor_curve, model)\n",
    "valuePayRec = valuePay - valueRec\n",
    "print(\"PAY Value: %9.5f\"% valuePay)\n",
    "print(\"REC Value: %9.5f\"% valueRec)\n",
    "print(\"PAY - REC: %9.5f\"% valuePayRec)"
   ]
  },
  {
   "cell_type": "markdown",
   "metadata": {},
   "source": [
    "### BDT Model"
   ]
  },
  {
   "cell_type": "code",
   "execution_count": 24,
   "metadata": {},
   "outputs": [],
   "source": [
    "sigma = 0.0000001\n",
    "num_time_steps = 200\n",
    "model = BDTTree(sigma, num_time_steps)"
   ]
  },
  {
   "cell_type": "code",
   "execution_count": 25,
   "metadata": {},
   "outputs": [
    {
     "name": "stdout",
     "output_type": "stream",
     "text": [
      "PAY Value: 6347.28920\n",
      "REC Value:   0.00000\n",
      "PAY - REC: 6347.28920\n"
     ]
    }
   ],
   "source": [
    "valuePay = europeanSwaptionPay.value(valuation_date, libor_curve, model)\n",
    "valueRec = europeanSwaptionRec.value(valuation_date, libor_curve, model)\n",
    "valuePayRec = valuePay - valueRec\n",
    "print(\"PAY Value: %9.5f\"% valuePay)\n",
    "print(\"REC Value: %9.5f\"% valueRec)\n",
    "print(\"PAY - REC: %9.5f\"% valuePayRec)"
   ]
  },
  {
   "cell_type": "code",
   "execution_count": 26,
   "metadata": {},
   "outputs": [],
   "source": [
    "sigma = 0.20\n",
    "model = BDTTree(sigma, num_time_steps)"
   ]
  },
  {
   "cell_type": "code",
   "execution_count": 27,
   "metadata": {},
   "outputs": [
    {
     "name": "stdout",
     "output_type": "stream",
     "text": [
      "PAY Value: 15990.91739\n",
      "REC Value: 9639.93743\n",
      "PAY - REC: 6350.97996\n"
     ]
    }
   ],
   "source": [
    "valuePay = europeanSwaptionPay.value(valuation_date, libor_curve, model)\n",
    "valueRec = europeanSwaptionRec.value(valuation_date, libor_curve, model)\n",
    "valuePayRec = valuePay - valueRec\n",
    "print(\"PAY Value: %9.5f\"% valuePay)\n",
    "print(\"REC Value: %9.5f\"% valueRec)\n",
    "print(\"PAY - REC: %9.5f\"% valuePayRec)"
   ]
  },
  {
   "cell_type": "markdown",
   "metadata": {},
   "source": [
    "### HW Model"
   ]
  },
  {
   "cell_type": "code",
   "execution_count": 28,
   "metadata": {},
   "outputs": [],
   "source": [
    "sigma = 0.0000001\n",
    "num_time_steps = 200\n",
    "a = 0.01\n",
    "model = HWTree(sigma, a, num_time_steps)"
   ]
  },
  {
   "cell_type": "code",
   "execution_count": 29,
   "metadata": {},
   "outputs": [
    {
     "name": "stdout",
     "output_type": "stream",
     "text": [
      "PAY Value: 6348.45763\n",
      "REC Value:   0.00000\n",
      "PAY - REC: 6348.45763\n"
     ]
    }
   ],
   "source": [
    "valuePay = europeanSwaptionPay.value(valuation_date, libor_curve, model)\n",
    "valueRec = europeanSwaptionRec.value(valuation_date, libor_curve, model)\n",
    "valuePayRec = valuePay - valueRec\n",
    "print(\"PAY Value: %9.5f\"% valuePay)\n",
    "print(\"REC Value: %9.5f\"% valueRec)\n",
    "print(\"PAY - REC: %9.5f\"% valuePayRec)"
   ]
  },
  {
   "cell_type": "code",
   "execution_count": 30,
   "metadata": {},
   "outputs": [],
   "source": [
    "sigma = 0.20 * rate\n",
    "num_time_steps = 200\n",
    "a = 0.01\n",
    "model = HWTree(sigma, a, num_time_steps)"
   ]
  },
  {
   "cell_type": "code",
   "execution_count": 31,
   "metadata": {},
   "outputs": [
    {
     "name": "stdout",
     "output_type": "stream",
     "text": [
      "PAY Value: 16217.69298\n",
      "REC Value: 9869.43817\n",
      "PAY - REC: 6348.25481\n"
     ]
    }
   ],
   "source": [
    "valuePay = europeanSwaptionPay.value(valuation_date, libor_curve, model)\n",
    "valueRec = europeanSwaptionRec.value(valuation_date, libor_curve, model)\n",
    "valuePayRec = valuePay - valueRec\n",
    "print(\"PAY Value: %9.5f\"% valuePay)\n",
    "print(\"REC Value: %9.5f\"% valueRec)\n",
    "print(\"PAY - REC: %9.5f\"% valuePayRec)"
   ]
  },
  {
   "cell_type": "markdown",
   "metadata": {},
   "source": [
    "# IborBermudanSwaption"
   ]
  },
  {
   "cell_type": "markdown",
   "metadata": {},
   "source": [
    "I now examine FinBermudanSwaption and use the tree models to value it. But first let me price it on the tree models as a European option."
   ]
  },
  {
   "cell_type": "markdown",
   "metadata": {},
   "source": [
    "## Start By Only Allowing European Exercise"
   ]
  },
  {
   "cell_type": "code",
   "execution_count": 32,
   "metadata": {},
   "outputs": [],
   "source": [
    "europeanBermSwaptionPay = IborBermudanSwaption(settlement_date,\n",
    "                                                  exercise_date,\n",
    "                                                  swapMaturityDate,\n",
    "                                                  SwapTypes.PAY,\n",
    "                                                  FinExerciseTypes.EUROPEAN,\n",
    "                                                  swapFixedCoupon,\n",
    "                                                  swapFixedFrequencyType,\n",
    "                                                  swapFixedDayCountType)"
   ]
  },
  {
   "cell_type": "code",
   "execution_count": 33,
   "metadata": {},
   "outputs": [],
   "source": [
    "europeanBermSwaptionRec = IborBermudanSwaption(settlement_date,\n",
    "                                                  exercise_date,\n",
    "                                                  swapMaturityDate,\n",
    "                                                  SwapTypes.RECEIVE,\n",
    "                                                  FinExerciseTypes.EUROPEAN,\n",
    "                                                  swapFixedCoupon,\n",
    "                                                  swapFixedFrequencyType,\n",
    "                                                  swapFixedDayCountType)"
   ]
  },
  {
   "cell_type": "markdown",
   "metadata": {},
   "source": [
    "### Black Karasinski Model"
   ]
  },
  {
   "cell_type": "markdown",
   "metadata": {},
   "source": [
    "Setting the volatility close to zero so we only have intrinsic value."
   ]
  },
  {
   "cell_type": "code",
   "execution_count": 34,
   "metadata": {},
   "outputs": [],
   "source": [
    "blackVol = 0.0000001"
   ]
  },
  {
   "cell_type": "code",
   "execution_count": 35,
   "metadata": {},
   "outputs": [],
   "source": [
    "sigma = blackVol\n",
    "a = 0.01\n",
    "num_time_steps = 200\n",
    "model = BKTree(sigma, a, num_time_steps)"
   ]
  },
  {
   "cell_type": "code",
   "execution_count": 36,
   "metadata": {},
   "outputs": [
    {
     "name": "stdout",
     "output_type": "stream",
     "text": [
      "PAY Value: 6313.74545\n",
      "REC Value:   0.00000\n",
      "PAY - REC: 6313.74545\n"
     ]
    }
   ],
   "source": [
    "valuePay = europeanBermSwaptionPay.value(valuation_date, libor_curve, model)\n",
    "valueRec = europeanBermSwaptionRec.value(valuation_date, libor_curve, model)\n",
    "valuePayRec = valuePay - valueRec\n",
    "print(\"PAY Value: %9.5f\"% valuePay)\n",
    "print(\"REC Value: %9.5f\"% valueRec)\n",
    "print(\"PAY - REC: %9.5f\"% valuePayRec)"
   ]
  },
  {
   "cell_type": "code",
   "execution_count": 38,
   "metadata": {},
   "outputs": [
    {
     "name": "stdout",
     "output_type": "stream",
     "text": [
      "SWAP PV01: 2.538479623216061\n",
      "CPN TIME:  1.0 FLOW 0.0\n",
      "CPN TIME:  1.5013698630136987 FLOW 0.030246575342465755\n",
      "CPN TIME:  2.0027397260273974 FLOW 0.03008219178082192\n",
      "CPN TIME:  2.4986301369863013 FLOW 0.03008219178082192\n",
      "CPN TIME:  3.0027397260273974 FLOW 0.029753424657534246\n",
      "CPN TIME:  3.4986301369863013 FLOW 0.030246575342465755\n",
      "CPN TIME:  4.002739726027397 FLOW 0.029753424657534246\n",
      "CALL TIME:  1.0\n",
      "CALL TIME:  1.5013698630136987\n",
      "CALL TIME:  2.0027397260273974\n",
      "CALL TIME:  2.4986301369863013\n",
      "CALL TIME:  3.0027397260273974\n",
      "CALL TIME:  3.4986301369863013\n",
      "CALL TIME:  4.002739726027397\n"
     ]
    }
   ],
   "source": [
    "europeanBermSwaptionPay.print_swaption_value()"
   ]
  },
  {
   "cell_type": "markdown",
   "metadata": {},
   "source": [
    "### Black Derman Toy Model"
   ]
  },
  {
   "cell_type": "code",
   "execution_count": 39,
   "metadata": {},
   "outputs": [],
   "source": [
    "sigma = 0.0000001\n",
    "num_time_steps = 100\n",
    "model = BDTTree(sigma, num_time_steps)"
   ]
  },
  {
   "cell_type": "code",
   "execution_count": 40,
   "metadata": {},
   "outputs": [
    {
     "name": "stdout",
     "output_type": "stream",
     "text": [
      "PAY Value: 6311.83846\n",
      "REC Value:   0.00000\n",
      "PAY - REC: 6311.83846\n"
     ]
    }
   ],
   "source": [
    "valuePay = europeanBermSwaptionPay.value(valuation_date, libor_curve, model)\n",
    "valueRec = europeanBermSwaptionRec.value(valuation_date, libor_curve, model)\n",
    "valuePayRec = valuePay - valueRec\n",
    "print(\"PAY Value: %9.5f\"% valuePay)\n",
    "print(\"REC Value: %9.5f\"% valueRec)\n",
    "print(\"PAY - REC: %9.5f\"% valuePayRec)"
   ]
  },
  {
   "cell_type": "code",
   "execution_count": 41,
   "metadata": {},
   "outputs": [],
   "source": [
    "sigma = 0.20\n",
    "num_time_steps = 100\n",
    "model = BDTTree(sigma, num_time_steps)"
   ]
  },
  {
   "cell_type": "code",
   "execution_count": 42,
   "metadata": {},
   "outputs": [
    {
     "name": "stdout",
     "output_type": "stream",
     "text": [
      "PAY Value: 15937.51370\n",
      "REC Value: 9618.31192\n",
      "PAY - REC: 6319.20178\n"
     ]
    }
   ],
   "source": [
    "valuePay = europeanBermSwaptionPay.value(valuation_date, libor_curve, model)\n",
    "valueRec = europeanBermSwaptionRec.value(valuation_date, libor_curve, model)\n",
    "valuePayRec = valuePay - valueRec\n",
    "print(\"PAY Value: %9.5f\"% valuePay)\n",
    "print(\"REC Value: %9.5f\"% valueRec)\n",
    "print(\"PAY - REC: %9.5f\"% valuePayRec)"
   ]
  },
  {
   "cell_type": "markdown",
   "metadata": {},
   "source": [
    "### Hull White Model"
   ]
  },
  {
   "cell_type": "code",
   "execution_count": 43,
   "metadata": {},
   "outputs": [],
   "source": [
    "sigma = 0.0000001\n",
    "a = 0.01\n",
    "num_time_steps = 101\n",
    "model = HWTree(sigma, a, num_time_steps)"
   ]
  },
  {
   "cell_type": "code",
   "execution_count": 44,
   "metadata": {},
   "outputs": [
    {
     "name": "stdout",
     "output_type": "stream",
     "text": [
      "PAY Value: 6314.50332\n",
      "REC Value:   0.00000\n",
      "PAY - REC: 6314.50332\n"
     ]
    }
   ],
   "source": [
    "valuePay = europeanBermSwaptionPay.value(valuation_date, libor_curve, model)\n",
    "valueRec = europeanBermSwaptionRec.value(valuation_date, libor_curve, model)\n",
    "valuePayRec = valuePay - valueRec\n",
    "print(\"PAY Value: %9.5f\"% valuePay)\n",
    "print(\"REC Value: %9.5f\"% valueRec)\n",
    "print(\"PAY - REC: %9.5f\"% valuePayRec)"
   ]
  },
  {
   "cell_type": "code",
   "execution_count": 45,
   "metadata": {},
   "outputs": [],
   "source": [
    "sigma = 0.20 * rate\n",
    "a = 0.01\n",
    "num_time_steps = 101\n",
    "model = HWTree(sigma, a, num_time_steps)"
   ]
  },
  {
   "cell_type": "code",
   "execution_count": 46,
   "metadata": {},
   "outputs": [
    {
     "name": "stdout",
     "output_type": "stream",
     "text": [
      "PAY Value: 16237.06135\n",
      "REC Value: 9922.55803\n",
      "PAY - REC: 6314.50332\n"
     ]
    }
   ],
   "source": [
    "valuePay = europeanBermSwaptionPay.value(valuation_date, libor_curve, model)\n",
    "valueRec = europeanBermSwaptionRec.value(valuation_date, libor_curve, model)\n",
    "valuePayRec = valuePay - valueRec\n",
    "print(\"PAY Value: %9.5f\"% valuePay)\n",
    "print(\"REC Value: %9.5f\"% valueRec)\n",
    "print(\"PAY - REC: %9.5f\"% valuePayRec)"
   ]
  },
  {
   "cell_type": "markdown",
   "metadata": {},
   "source": [
    "# Now allow Multiple Exercise Dates - Bermudan"
   ]
  },
  {
   "cell_type": "markdown",
   "metadata": {},
   "source": [
    "Now allow exercise on ALL coupon dates PLUS expiry."
   ]
  },
  {
   "cell_type": "code",
   "execution_count": 47,
   "metadata": {},
   "outputs": [],
   "source": [
    "bermudan_swaption_pay = IborBermudanSwaption(settlement_date,\n",
    "                                               exercise_date,\n",
    "                                               swapMaturityDate,\n",
    "                                               SwapTypes.PAY,\n",
    "                                               FinExerciseTypes.BERMUDAN,\n",
    "                                               swapFixedCoupon,\n",
    "                                               swapFixedFrequencyType,\n",
    "                                               swapFixedDayCountType)"
   ]
  },
  {
   "cell_type": "code",
   "execution_count": 48,
   "metadata": {},
   "outputs": [],
   "source": [
    "bermudan_swaption_rec = IborBermudanSwaption(settlement_date,\n",
    "                                               exercise_date,\n",
    "                                               swapMaturityDate,\n",
    "                                               SwapTypes.RECEIVE,\n",
    "                                               FinExerciseTypes.BERMUDAN,\n",
    "                                               swapFixedCoupon,\n",
    "                                               swapFixedFrequencyType,\n",
    "                                               swapFixedDayCountType)"
   ]
  },
  {
   "cell_type": "markdown",
   "metadata": {},
   "source": [
    "### Black Karasinski Model"
   ]
  },
  {
   "cell_type": "code",
   "execution_count": 49,
   "metadata": {},
   "outputs": [],
   "source": [
    "sigma = 0.20\n",
    "a = 0.01\n",
    "num_time_steps = 100\n",
    "model = BKTree(sigma, a, num_time_steps)"
   ]
  },
  {
   "cell_type": "code",
   "execution_count": 50,
   "metadata": {},
   "outputs": [
    {
     "name": "stdout",
     "output_type": "stream",
     "text": [
      "PAY Value: 19235.85760\n",
      "REC Value: 13043.39490\n",
      "PAY - REC: 6192.46270\n"
     ]
    }
   ],
   "source": [
    "valuePay = bermudan_swaption_pay.value(valuation_date, libor_curve, model)\n",
    "valueRec = bermudan_swaption_rec.value(valuation_date, libor_curve, model)\n",
    "valuePayRec = valuePay - valueRec\n",
    "print(\"PAY Value: %9.5f\"% valuePay)\n",
    "print(\"REC Value: %9.5f\"% valueRec)\n",
    "print(\"PAY - REC: %9.5f\"% valuePayRec)"
   ]
  },
  {
   "cell_type": "markdown",
   "metadata": {},
   "source": [
    "### Black-Derman-Toy Model"
   ]
  },
  {
   "cell_type": "code",
   "execution_count": 51,
   "metadata": {},
   "outputs": [],
   "source": [
    "sigma = 0.20\n",
    "num_time_steps = 100\n",
    "model = BDTTree(sigma, num_time_steps)"
   ]
  },
  {
   "cell_type": "code",
   "execution_count": 52,
   "metadata": {},
   "outputs": [
    {
     "name": "stdout",
     "output_type": "stream",
     "text": [
      "PAY Value: 19500.06870\n",
      "REC Value: 13318.31315\n",
      "PAY - REC: 6181.75555\n"
     ]
    }
   ],
   "source": [
    "valuePay = bermudan_swaption_pay.value(settlement_date, libor_curve, model)\n",
    "valueRec = bermudan_swaption_rec.value(settlement_date, libor_curve, model)\n",
    "valuePayRec = valuePay - valueRec\n",
    "print(\"PAY Value: %9.5f\"% valuePay)\n",
    "print(\"REC Value: %9.5f\"% valueRec)\n",
    "print(\"PAY - REC: %9.5f\"% valuePayRec)"
   ]
  },
  {
   "cell_type": "markdown",
   "metadata": {},
   "source": [
    "### Hull-White Model"
   ]
  },
  {
   "cell_type": "code",
   "execution_count": 53,
   "metadata": {},
   "outputs": [],
   "source": [
    "sigma = 0.01\n",
    "a = 0.01\n",
    "num_time_steps = 100\n",
    "model = HWTree(sigma, a)"
   ]
  },
  {
   "cell_type": "code",
   "execution_count": 54,
   "metadata": {},
   "outputs": [
    {
     "name": "stdout",
     "output_type": "stream",
     "text": [
      "PAY Value: 16578.58987\n",
      "REC Value: 10406.29704\n",
      "PAY - REC: 6172.29283\n"
     ]
    }
   ],
   "source": [
    "valuePay = bermudan_swaption_pay.value(settlement_date, libor_curve, model)\n",
    "valueRec = bermudan_swaption_rec.value(settlement_date, libor_curve, model)\n",
    "valuePayRec = valuePay - valueRec\n",
    "print(\"PAY Value: %9.5f\"% valuePay)\n",
    "print(\"REC Value: %9.5f\"% valueRec)\n",
    "print(\"PAY - REC: %9.5f\"% valuePayRec)"
   ]
  },
  {
   "cell_type": "markdown",
   "metadata": {},
   "source": [
    "The swaption is Bermudan so it can only be exercised on coupon payment dates"
   ]
  },
  {
   "cell_type": "markdown",
   "metadata": {},
   "source": [
    "Copyright (c) 2020 Dominic O'Kane"
   ]
  }
 ],
 "metadata": {
  "kernelspec": {
   "display_name": "Python 3",
   "language": "python",
   "name": "python3"
  },
  "language_info": {
   "codemirror_mode": {
    "name": "ipython",
    "version": 3
   },
   "file_extension": ".py",
   "mimetype": "text/x-python",
   "name": "python",
   "nbconvert_exporter": "python",
   "pygments_lexer": "ipython3",
   "version": "3.8.5"
  }
 },
 "nbformat": 4,
 "nbformat_minor": 2
}
