{
 "cells": [
  {
   "cell_type": "markdown",
   "metadata": {},
   "source": [
    "# Building a Libor Curve - Business Day Conventions"
   ]
  },
  {
   "cell_type": "markdown",
   "metadata": {},
   "source": [
    "Examining role of conventions in determining swap flowsm"
   ]
  },
  {
   "cell_type": "code",
   "execution_count": 1,
   "metadata": {},
   "outputs": [],
   "source": [
    "import numpy as np\n",
    "import matplotlib.pyplot as plt"
   ]
  },
  {
   "cell_type": "code",
   "execution_count": 2,
   "metadata": {},
   "outputs": [
    {
     "name": "stdout",
     "output_type": "stream",
     "text": [
      "####################################################################\n",
      "# FINANCEPY BETA Version 0.191 - This build:  17 Jan 2021 at 18:30 #\n",
      "#      This software is distributed FREE & WITHOUT ANY WARRANTY    #\n",
      "# For info and disclaimer - https://github.com/domokane/FinancePy  #\n",
      "#      Send any bug reports or comments to quant@financepy.com     #\n",
      "####################################################################\n",
      "\n"
     ]
    }
   ],
   "source": [
    "from financepy.utils import *\n",
    "from financepy.products.rates import *"
   ]
  },
  {
   "cell_type": "markdown",
   "metadata": {},
   "source": [
    "## Creating the Swap"
   ]
  },
  {
   "cell_type": "code",
   "execution_count": 3,
   "metadata": {},
   "outputs": [],
   "source": [
    "valuation_date = Date(26, 2, 2008)"
   ]
  },
  {
   "cell_type": "code",
   "execution_count": 4,
   "metadata": {},
   "outputs": [],
   "source": [
    "swapType = SwapTypes.PAY"
   ]
  },
  {
   "cell_type": "code",
   "execution_count": 5,
   "metadata": {},
   "outputs": [],
   "source": [
    "spot_days = 2"
   ]
  },
  {
   "cell_type": "code",
   "execution_count": 6,
   "metadata": {},
   "outputs": [],
   "source": [
    "effective_date = valuation_date.add_weekdays(spot_days)"
   ]
  },
  {
   "cell_type": "code",
   "execution_count": 7,
   "metadata": {},
   "outputs": [],
   "source": [
    "maturity_date = Date(28, 2, 2011)"
   ]
  },
  {
   "cell_type": "code",
   "execution_count": 8,
   "metadata": {},
   "outputs": [],
   "source": [
    "swap_rate = 0.050"
   ]
  },
  {
   "cell_type": "markdown",
   "metadata": {},
   "source": [
    "### Calendar Types is NONE"
   ]
  },
  {
   "cell_type": "code",
   "execution_count": 9,
   "metadata": {},
   "outputs": [],
   "source": [
    "swap = IborSwap(effective_date, \n",
    "                    maturity_date, \n",
    "                    swapType,\n",
    "                    swap_rate, \n",
    "                    fixed_freq_type=FrequencyTypes.SEMI_ANNUAL, \n",
    "                    fixed_day_count_type= DayCountTypes.ACT_360,\n",
    "                    calendar_type = CalendarTypes.NONE, \n",
    "                    bus_day_adjust_type=BusDayAdjustTypes.MODIFIED_FOLLOWING)"
   ]
  },
  {
   "cell_type": "code",
   "execution_count": 11,
   "metadata": {},
   "outputs": [
    {
     "name": "stdout",
     "output_type": "stream",
     "text": [
      "START DATE: 28-FEB-2008\n",
      "MATURITY DATE: 28-FEB-2011\n",
      "COUPON (%): 5.0\n",
      "FREQUENCY: FrequencyTypes.SEMI_ANNUAL\n",
      "DAY COUNT: DayCountTypes.ACT_360\n",
      "PAY_DATE     ACCR_START   ACCR_END      DAYS  YEARFRAC    RATE      PAYMENT \n",
      "28-AUG-2008  28-FEB-2008  28-AUG-2008   182  0.505556  5.000000     25277.78\n",
      "28-FEB-2009  28-AUG-2008  28-FEB-2009   184  0.511111  5.000000     25555.56\n",
      "28-AUG-2009  28-FEB-2009  28-AUG-2009   181  0.502778  5.000000     25138.89\n",
      "28-FEB-2010  28-AUG-2009  28-FEB-2010   184  0.511111  5.000000     25555.56\n",
      "28-AUG-2010  28-FEB-2010  28-AUG-2010   181  0.502778  5.000000     25138.89\n",
      "28-FEB-2011  28-AUG-2010  28-FEB-2011   184  0.511111  5.000000     25555.56\n",
      "START DATE: 28-FEB-2008\n",
      "MATURITY DATE: 28-FEB-2011\n",
      "SPREAD (bp): 0.0\n",
      "FREQUENCY: FrequencyTypes.QUARTERLY\n",
      "DAY COUNT: DayCountTypes.THIRTY_E_360\n",
      "PAY_DATE     ACCR_START   ACCR_END      DAYS  YEARFRAC\n",
      "28-MAY-2008  28-FEB-2008  28-MAY-2008    90  0.250000  \n",
      "28-AUG-2008  28-MAY-2008  28-AUG-2008    90  0.250000  \n",
      "28-NOV-2008  28-AUG-2008  28-NOV-2008    90  0.250000  \n",
      "28-FEB-2009  28-NOV-2008  28-FEB-2009    90  0.250000  \n",
      "28-MAY-2009  28-FEB-2009  28-MAY-2009    90  0.250000  \n",
      "28-AUG-2009  28-MAY-2009  28-AUG-2009    90  0.250000  \n",
      "28-NOV-2009  28-AUG-2009  28-NOV-2009    90  0.250000  \n",
      "28-FEB-2010  28-NOV-2009  28-FEB-2010    90  0.250000  \n",
      "28-MAY-2010  28-FEB-2010  28-MAY-2010    90  0.250000  \n",
      "28-AUG-2010  28-MAY-2010  28-AUG-2010    90  0.250000  \n",
      "28-NOV-2010  28-AUG-2010  28-NOV-2010    90  0.250000  \n",
      "28-FEB-2011  28-NOV-2010  28-FEB-2011    90  0.250000  \n"
     ]
    }
   ],
   "source": [
    "swap.print_flows()"
   ]
  },
  {
   "cell_type": "markdown",
   "metadata": {},
   "source": [
    "### Calendar Types is WEEKEND and Adjustment is MODIFIED FOLLOWING"
   ]
  },
  {
   "cell_type": "code",
   "execution_count": 12,
   "metadata": {},
   "outputs": [],
   "source": [
    "swap = IborSwap(effective_date, \n",
    "                    maturity_date,\n",
    "                    swapType,\n",
    "                    swap_rate,\n",
    "                    fixed_freq_type=FrequencyTypes.SEMI_ANNUAL, \n",
    "                    fixed_day_count_type= DayCountTypes.ACT_360,\n",
    "                    calendar_type = CalendarTypes.WEEKEND, \n",
    "                    bus_day_adjust_type=BusDayAdjustTypes.MODIFIED_FOLLOWING)"
   ]
  },
  {
   "cell_type": "code",
   "execution_count": 14,
   "metadata": {},
   "outputs": [
    {
     "name": "stdout",
     "output_type": "stream",
     "text": [
      "START DATE: 28-FEB-2008\n",
      "MATURITY DATE: 28-FEB-2011\n",
      "COUPON (%): 5.0\n",
      "FREQUENCY: FrequencyTypes.SEMI_ANNUAL\n",
      "DAY COUNT: DayCountTypes.ACT_360\n",
      "PAY_DATE     ACCR_START   ACCR_END      DAYS  YEARFRAC    RATE      PAYMENT \n",
      "28-AUG-2008  28-FEB-2008  28-AUG-2008   182  0.505556  5.000000     25277.78\n",
      "27-FEB-2009  28-AUG-2008  27-FEB-2009   183  0.508333  5.000000     25416.67\n",
      "28-AUG-2009  27-FEB-2009  28-AUG-2009   182  0.505556  5.000000     25277.78\n",
      "26-FEB-2010  28-AUG-2009  26-FEB-2010   182  0.505556  5.000000     25277.78\n",
      "30-AUG-2010  26-FEB-2010  30-AUG-2010   185  0.513889  5.000000     25694.44\n",
      "28-FEB-2011  30-AUG-2010  28-FEB-2011   182  0.505556  5.000000     25277.78\n",
      "START DATE: 28-FEB-2008\n",
      "MATURITY DATE: 28-FEB-2011\n",
      "SPREAD (bp): 0.0\n",
      "FREQUENCY: FrequencyTypes.QUARTERLY\n",
      "DAY COUNT: DayCountTypes.THIRTY_E_360\n",
      "PAY_DATE     ACCR_START   ACCR_END      DAYS  YEARFRAC\n",
      "28-MAY-2008  28-FEB-2008  28-MAY-2008    90  0.250000  \n",
      "28-AUG-2008  28-MAY-2008  28-AUG-2008    90  0.250000  \n",
      "28-NOV-2008  28-AUG-2008  28-NOV-2008    90  0.250000  \n",
      "27-FEB-2009  28-NOV-2008  27-FEB-2009    89  0.247222  \n",
      "28-MAY-2009  27-FEB-2009  28-MAY-2009    91  0.252778  \n",
      "28-AUG-2009  28-MAY-2009  28-AUG-2009    90  0.250000  \n",
      "30-NOV-2009  28-AUG-2009  30-NOV-2009    92  0.255556  \n",
      "26-FEB-2010  30-NOV-2009  26-FEB-2010    86  0.238889  \n",
      "28-MAY-2010  26-FEB-2010  28-MAY-2010    92  0.255556  \n",
      "30-AUG-2010  28-MAY-2010  30-AUG-2010    92  0.255556  \n",
      "29-NOV-2010  30-AUG-2010  29-NOV-2010    89  0.247222  \n",
      "28-FEB-2011  29-NOV-2010  28-FEB-2011    89  0.247222  \n"
     ]
    }
   ],
   "source": [
    "swap.print_flows()"
   ]
  },
  {
   "cell_type": "markdown",
   "metadata": {},
   "source": [
    "Copyright (c) 2020 Dominic O'Kane"
   ]
  }
 ],
 "metadata": {
  "kernelspec": {
   "display_name": "Python 3",
   "language": "python",
   "name": "python3"
  },
  "language_info": {
   "codemirror_mode": {
    "name": "ipython",
    "version": 3
   },
   "file_extension": ".py",
   "mimetype": "text/x-python",
   "name": "python",
   "nbconvert_exporter": "python",
   "pygments_lexer": "ipython3",
   "version": "3.8.5"
  }
 },
 "nbformat": 4,
 "nbformat_minor": 4
}
