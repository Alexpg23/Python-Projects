{
 "cells": [
  {
   "cell_type": "markdown",
   "metadata": {},
   "source": [
    "# Building a Libor Curve"
   ]
  },
  {
   "cell_type": "markdown",
   "metadata": {},
   "source": [
    "This is an example of a replication of a BBG example from\n",
    "\n",
    "https://github.com/vilen22/curve-building/blob/master/Bloomberg%20Curve%20Building%20Replication.xlsx\n",
    "\n",
    "Agreement is very good however some issues about date generation need to be checked."
   ]
  },
  {
   "cell_type": "code",
   "execution_count": 1,
   "metadata": {},
   "outputs": [],
   "source": [
    "import numpy as np\n",
    "import matplotlib.pyplot as plt"
   ]
  },
  {
   "cell_type": "code",
   "execution_count": 2,
   "metadata": {},
   "outputs": [
    {
     "name": "stdout",
     "output_type": "stream",
     "text": [
      "####################################################################\n",
      "# FINANCEPY BETA Version 0.191 - This build:  17 Jan 2021 at 21:17 #\n",
      "#      This software is distributed FREE & WITHOUT ANY WARRANTY    #\n",
      "# For info and disclaimer - https://github.com/domokane/FinancePy  #\n",
      "#      Send any bug reports or comments to quant@financepy.com     #\n",
      "####################################################################\n",
      "\n"
     ]
    }
   ],
   "source": [
    "from financepy.utils import *\n",
    "from financepy.products.rates import *"
   ]
  },
  {
   "cell_type": "markdown",
   "metadata": {},
   "source": [
    "## Creating the Libor Instruments"
   ]
  },
  {
   "cell_type": "code",
   "execution_count": 3,
   "metadata": {},
   "outputs": [],
   "source": [
    "valuation_date = Date(6, 6, 2018)"
   ]
  },
  {
   "cell_type": "markdown",
   "metadata": {},
   "source": [
    "### Load up the deposits first"
   ]
  },
  {
   "cell_type": "code",
   "execution_count": 4,
   "metadata": {},
   "outputs": [],
   "source": [
    "spot_days = 0\n",
    "settlement_date = valuation_date.add_weekdays(spot_days)"
   ]
  },
  {
   "cell_type": "code",
   "execution_count": 5,
   "metadata": {},
   "outputs": [],
   "source": [
    "depoDCCType = DayCountTypes.THIRTY_E_360_ISDA\n",
    "depos = []\n",
    "deposit_rate = 0.0231381\n",
    "maturity_date = settlement_date.add_months(3)\n",
    "depo = IborDeposit(settlement_date, maturity_date, deposit_rate, depoDCCType)\n",
    "depos.append(depo)"
   ]
  },
  {
   "cell_type": "markdown",
   "metadata": {},
   "source": [
    "### Create Strips of Interest Rate Futures "
   ]
  },
  {
   "cell_type": "code",
   "execution_count": 6,
   "metadata": {},
   "outputs": [],
   "source": [
    "futs = []\n",
    "fut = IborFuture(valuation_date, 1) ; futs.append(fut)\n",
    "fut = IborFuture(valuation_date, 2) ; futs.append(fut)\n",
    "fut = IborFuture(valuation_date, 3) ; futs.append(fut)\n",
    "fut = IborFuture(valuation_date, 4) ; futs.append(fut)\n",
    "fut = IborFuture(valuation_date, 5) ; futs.append(fut)\n",
    "fut = IborFuture(valuation_date, 6) ; futs.append(fut)"
   ]
  },
  {
   "cell_type": "markdown",
   "metadata": {},
   "source": [
    "### Convert Interest Rate Futures to FRAs"
   ]
  },
  {
   "cell_type": "markdown",
   "metadata": {},
   "source": [
    "Need to supply futures price and the convexity (in percent)"
   ]
  },
  {
   "cell_type": "code",
   "execution_count": 7,
   "metadata": {},
   "outputs": [],
   "source": [
    "fras = [None]*6\n",
    "fras[0] = futs[0].to_fra(97.6675,-0.00005)\n",
    "fras[1] = futs[1].to_fra(97.5200,-0.00060)\n",
    "fras[2] = futs[2].to_fra(97.3550,-0.00146)\n",
    "fras[3] = futs[3].to_fra(97.2450,-0.00263)\n",
    "fras[4] = futs[4].to_fra(97.1450,-0.00411)\n",
    "fras[5] = futs[5].to_fra(97.0750,-0.00589)"
   ]
  },
  {
   "cell_type": "markdown",
   "metadata": {},
   "source": [
    "### Then we load up swap rates"
   ]
  },
  {
   "cell_type": "code",
   "execution_count": 8,
   "metadata": {},
   "outputs": [],
   "source": [
    "accrual = DayCountTypes.THIRTY_E_360\n",
    "freq = FrequencyTypes.SEMI_ANNUAL\n",
    "longEnd = DateGenRuleTypes.BACKWARD\n",
    "swapType = SwapTypes.PAY"
   ]
  },
  {
   "cell_type": "code",
   "execution_count": 9,
   "metadata": {},
   "outputs": [],
   "source": [
    "spot_days = 2\n",
    "settlement_date = valuation_date.add_weekdays(spot_days)\n",
    "notional = ONE_MILLION"
   ]
  },
  {
   "cell_type": "code",
   "execution_count": 10,
   "metadata": {},
   "outputs": [],
   "source": [
    "swaps = []\n",
    "swap = IborSwap(settlement_date, \"2Y\", swapType, (2.77417+2.77844)/200, freq, accrual, notional); swaps.append(swap)\n",
    "swap = IborSwap(settlement_date, \"3Y\", swapType, (2.86098+2.86582)/200, freq, accrual); swaps.append(swap)\n",
    "swap = IborSwap(settlement_date, \"4Y\", swapType, (2.90240+2.90620)/200, freq, accrual); swaps.append(swap)\n",
    "swap = IborSwap(settlement_date, \"5Y\", swapType, (2.92944+2.92906)/200, freq, accrual); swaps.append(swap)\n",
    "swap = IborSwap(settlement_date, \"6Y\", swapType, (2.94001+2.94499)/200, freq, accrual); swaps.append(swap)\n",
    "swap = IborSwap(settlement_date, \"7Y\", swapType, (2.95352+2.95998)/200, freq, accrual); swaps.append(swap)\n",
    "swap = IborSwap(settlement_date, \"8Y\", swapType, (2.96830+2.97400)/200, freq, accrual); swaps.append(swap)\n",
    "swap = IborSwap(settlement_date, \"9Y\", swapType, (2.98403+2.98817)/200, freq, accrual); swaps.append(swap)\n",
    "swap = IborSwap(settlement_date, \"10Y\", swapType, (2.99716+3.00394)/200, freq, accrual); swaps.append(swap)\n",
    "swap = IborSwap(settlement_date, \"11Y\", swapType, (3.01344+3.01596)/200, freq, accrual); swaps.append(swap)\n",
    "swap = IborSwap(settlement_date, \"12Y\", swapType, (3.02276+3.02684)/200, freq, accrual); swaps.append(swap)\n",
    "swap = IborSwap(settlement_date, \"15Y\", swapType, (3.04092+3.04508)/200, freq, accrual); swaps.append(swap)\n",
    "swap = IborSwap(settlement_date, \"20Y\", swapType, (3.04417+3.05183)/200, freq, accrual); swaps.append(swap)\n",
    "swap = IborSwap(settlement_date, \"25Y\", swapType, (3.03219+3.03621)/200, freq, accrual); swaps.append(swap)\n",
    "swap = IborSwap(settlement_date, \"30Y\", swapType, (3.01030+3.01370)/200, freq, accrual); swaps.append(swap)\n",
    "swap = IborSwap(settlement_date, \"40Y\", swapType, (2.96946+2.97354)/200, freq, accrual); swaps.append(swap)\n",
    "swap = IborSwap(settlement_date, \"50Y\", swapType, (2.91552+2.93748)/200, freq, accrual); swaps.append(swap)"
   ]
  },
  {
   "cell_type": "markdown",
   "metadata": {},
   "source": [
    "## Build the Curve"
   ]
  },
  {
   "cell_type": "code",
   "execution_count": 11,
   "metadata": {},
   "outputs": [
    {
     "data": {
      "text/plain": [
       "[OBJECT TYPE: IborDeposit\n",
       " START DATE: 06-JUN-2018\n",
       " MATURITY DATE: 06-SEP-2018\n",
       " NOTIONAL: 100.0\n",
       " DEPOSIT RATE: 0.0231381\n",
       " DAY COUNT TYPE: DayCountTypes.THIRTY_E_360_ISDA\n",
       " CALENDAR: CalendarTypes.WEEKEND\n",
       " BUS DAY ADJUST TYPE: BusDayAdjustTypes.MODIFIED_FOLLOWING]"
      ]
     },
     "execution_count": 11,
     "metadata": {},
     "output_type": "execute_result"
    }
   ],
   "source": [
    "depos"
   ]
  },
  {
   "cell_type": "code",
   "execution_count": 12,
   "metadata": {},
   "outputs": [
    {
     "data": {
      "text/plain": [
       "08-JUN-2018"
      ]
     },
     "execution_count": 12,
     "metadata": {},
     "output_type": "execute_result"
    }
   ],
   "source": [
    "settlement_date"
   ]
  },
  {
   "cell_type": "code",
   "execution_count": 13,
   "metadata": {},
   "outputs": [],
   "source": [
    "libor_curve = IborSingleCurve(valuation_date, depos, fras, swaps)"
   ]
  },
  {
   "cell_type": "markdown",
   "metadata": {},
   "source": [
    "## Curve Examination"
   ]
  },
  {
   "cell_type": "markdown",
   "metadata": {},
   "source": [
    "Generate a vector of time points and then generate zero rates and forward rates"
   ]
  },
  {
   "cell_type": "code",
   "execution_count": 14,
   "metadata": {},
   "outputs": [],
   "source": [
    "years = np.linspace(0.01,50,1000)\n",
    "dates = settlement_date.add_years(years)\n",
    "zero_rates = libor_curve.zero_rate(dates)\n",
    "fwd_rates = libor_curve.fwd(dates)"
   ]
  },
  {
   "cell_type": "code",
   "execution_count": 15,
   "metadata": {},
   "outputs": [
    {
     "data": {
      "image/png": "[encoded data removed]",
      "text/plain": [
       "<Figure size 576x432 with 1 Axes>"
      ]
     },
     "metadata": {
      "needs_background": "light"
     },
     "output_type": "display_data"
    }
   ],
   "source": [
    "plt.figure(figsize=(8,6))\n",
    "plt.plot(years, zero_rates*100, label=\"zero rates\")\n",
    "plt.plot(years, fwd_rates*100, label = \"fwd rates\")\n",
    "plt.xlabel(\"Times\")\n",
    "plt.ylabel(\"CC forward rates\")\n",
    "plt.legend();"
   ]
  },
  {
   "cell_type": "markdown",
   "metadata": {},
   "source": [
    "We see that the forward rates are piecewise flat"
   ]
  },
  {
   "cell_type": "markdown",
   "metadata": {},
   "source": [
    "## Detailed Valuation"
   ]
  },
  {
   "cell_type": "code",
   "execution_count": 16,
   "metadata": {},
   "outputs": [
    {
     "data": {
      "text/plain": [
       "-7.552444003522396e-09"
      ]
     },
     "execution_count": 16,
     "metadata": {},
     "output_type": "execute_result"
    }
   ],
   "source": [
    "swaps[0].value(settlement_date, libor_curve, libor_curve)"
   ]
  },
  {
   "cell_type": "code",
   "execution_count": 18,
   "metadata": {},
   "outputs": [
    {
     "data": {
      "text/plain": [
       "-53715.21909361753"
      ]
     },
     "execution_count": 18,
     "metadata": {},
     "output_type": "execute_result"
    }
   ],
   "source": [
    "swaps[0]._fixed_leg.value(settlement_date, libor_curve)"
   ]
  },
  {
   "cell_type": "code",
   "execution_count": 19,
   "metadata": {},
   "outputs": [
    {
     "data": {
      "text/plain": [
       "53715.21909360998"
      ]
     },
     "execution_count": 19,
     "metadata": {},
     "output_type": "execute_result"
    }
   ],
   "source": [
    "swaps[0]._float_leg.value(settlement_date, libor_curve, libor_curve)"
   ]
  },
  {
   "cell_type": "code",
   "execution_count": 20,
   "metadata": {},
   "outputs": [
    {
     "name": "stdout",
     "output_type": "stream",
     "text": [
      "START DATE: 08-JUN-2018\n",
      "MATURITY DATE: 08-JUN-2020\n",
      "COUPON (%): 2.776305\n",
      "FREQUENCY: FrequencyTypes.SEMI_ANNUAL\n",
      "DAY COUNT: DayCountTypes.THIRTY_E_360\n",
      "PAY_DATE     ACCR_START   ACCR_END     DAYS  YEARFRAC    RATE      PAYMENT       DF          PV        CUM PV\n",
      "10-DEC-2018  08-JUN-2018  10-DEC-2018   182  0.505556   2.77630     14035.76  0.98781403     13864.72     13864.72\n",
      "10-JUN-2019  10-DEC-2018  10-JUN-2019   180  0.500000   2.77630     13881.52  0.97454325     13528.15     27392.87\n",
      "09-DEC-2019  10-JUN-2019  09-DEC-2019   179  0.497222   2.77630     13804.41  0.96052302     13259.45     40652.32\n",
      "08-JUN-2020  09-DEC-2019  08-JUN-2020   179  0.497222   2.77630     13804.41  0.94628478     13062.90     53715.22\n"
     ]
    }
   ],
   "source": [
    "swaps[0].print_fixed_leg_pv()"
   ]
  },
  {
   "cell_type": "code",
   "execution_count": 21,
   "metadata": {},
   "outputs": [
    {
     "name": "stdout",
     "output_type": "stream",
     "text": [
      "START DATE: 08-JUN-2018\n",
      "MATURITY DATE: 08-JUN-2020\n",
      "SPREAD (BPS): 0.0\n",
      "FREQUENCY: FrequencyTypes.QUARTERLY\n",
      "DAY COUNT: DayCountTypes.THIRTY_E_360\n",
      "PAY_DATE     ACCR_START   ACCR_END     DAYS  YEARFRAC    IBOR      PAYMENT       DF          PV        CUM PV\n",
      "10-SEP-2018  08-JUN-2018  10-SEP-2018    92  0.255556    2.33387      5964.33  0.99407103      5928.97      5928.97\n",
      "10-DEC-2018  10-SEP-2018  10-DEC-2018    90  0.250000    2.53368      6334.19  0.98781403      6257.01     12185.97\n",
      "08-MAR-2019  10-DEC-2018  08-MAR-2019    88  0.244444    2.62646      6420.24  0.98151248      6301.55     18487.52\n",
      "10-JUN-2019  08-MAR-2019  10-JUN-2019    92  0.255556    2.79833      7151.28  0.97454325      6969.23     25456.75\n",
      "09-SEP-2019  10-JUN-2019  09-SEP-2019    89  0.247222    2.90499      7181.78  0.96759420      6949.05     32405.80\n",
      "09-DEC-2019  09-SEP-2019  09-DEC-2019    90  0.250000    2.94472      7361.81  0.96052302      7071.18     39476.98\n",
      "09-MAR-2020  09-DEC-2019  09-MAR-2020    90  0.250000    2.99564      7489.09  0.95338304      7139.97     46616.96\n",
      "08-JUN-2020  09-MAR-2020  08-JUN-2020    89  0.247222    3.03419      7501.19  0.94628478      7098.26     53715.22\n"
     ]
    }
   ],
   "source": [
    "swaps[0].print_float_leg_pv()"
   ]
  },
  {
   "cell_type": "markdown",
   "metadata": {},
   "source": [
    "Copyright (c) 2020 Dominic O'Kane"
   ]
  }
 ],
 "metadata": {
  "kernelspec": {
   "display_name": "Python 3",
   "language": "python",
   "name": "python3"
  },
  "language_info": {
   "codemirror_mode": {
    "name": "ipython",
    "version": 3
   },
   "file_extension": ".py",
   "mimetype": "text/x-python",
   "name": "python",
   "nbconvert_exporter": "python",
   "pygments_lexer": "ipython3",
   "version": "3.8.5"
  }
 },
 "nbformat": 4,
 "nbformat_minor": 4
}
