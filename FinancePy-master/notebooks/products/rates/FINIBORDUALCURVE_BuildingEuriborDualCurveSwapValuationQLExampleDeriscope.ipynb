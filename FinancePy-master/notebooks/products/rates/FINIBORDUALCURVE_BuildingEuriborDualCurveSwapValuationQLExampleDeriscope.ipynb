{
 "cells": [
  {
   "cell_type": "markdown",
   "metadata": {},
   "source": [
    "# Building a Euribor Libor Dual Curve and Valuing a Swap"
   ]
  },
  {
   "cell_type": "markdown",
   "metadata": {},
   "source": [
    "We build an OIS curve from OIS swaps that include forward starting OIS using MM dates.\n",
    "\n",
    "This follows example mentioned in the blogpost at https://blog.deriscope.com/index.php/en/excel-interest-rate-swap-price-dual-bootstrapping-curve"
   ]
  },
  {
   "cell_type": "code",
   "execution_count": 1,
   "metadata": {},
   "outputs": [],
   "source": [
    "import numpy as np\n",
    "import matplotlib.pyplot as plt"
   ]
  },
  {
   "cell_type": "code",
   "execution_count": 2,
   "metadata": {},
   "outputs": [
    {
     "name": "stdout",
     "output_type": "stream",
     "text": [
      "####################################################################\n",
      "# FINANCEPY BETA Version 0.186 - This build:  01 Dec 2020 at 13:21 #\n",
      "#      This software is distributed FREE & WITHOUT ANY WARRANTY    #\n",
      "# For info and disclaimer - https://github.com/domokane/FinancePy  #\n",
      "#      Send any bug reports or comments to quant@financepy.com     #\n",
      "####################################################################\n",
      "\n"
     ]
    }
   ],
   "source": [
    "from financepy.utils import *\n",
    "from financepy.products.rates import *"
   ]
  },
  {
   "cell_type": "code",
   "execution_count": 3,
   "metadata": {},
   "outputs": [],
   "source": [
    "set_date_format(DateFormatTypes.UK_LONG)"
   ]
  },
  {
   "cell_type": "code",
   "execution_count": 4,
   "metadata": {},
   "outputs": [],
   "source": [
    "valuation_date = Date(30, 11, 2018)"
   ]
  },
  {
   "cell_type": "markdown",
   "metadata": {},
   "source": [
    "## Define IR Swap"
   ]
  },
  {
   "cell_type": "markdown",
   "metadata": {},
   "source": [
    "Define the swap characteristics"
   ]
  },
  {
   "cell_type": "code",
   "execution_count": 5,
   "metadata": {},
   "outputs": [],
   "source": [
    "start_date = Date(27, 12, 2017)\n",
    "maturity_date = Date(27, 12, 2067)\n",
    "notional = 10 * ONE_MILLION\n",
    "swapType = SwapTypes.RECEIVE"
   ]
  },
  {
   "cell_type": "markdown",
   "metadata": {},
   "source": [
    "Set up the fixed leg"
   ]
  },
  {
   "cell_type": "code",
   "execution_count": 6,
   "metadata": {},
   "outputs": [],
   "source": [
    "fixedRate = 0.0150\n",
    "fixedDCCType = DayCountTypes.THIRTY_360_BOND\n",
    "fixedFreqType = FrequencyTypes.ANNUAL"
   ]
  },
  {
   "cell_type": "markdown",
   "metadata": {},
   "source": [
    "Set up the floating leg"
   ]
  },
  {
   "cell_type": "code",
   "execution_count": 7,
   "metadata": {},
   "outputs": [],
   "source": [
    "float_spread = 0.0\n",
    "principal = 0.0\n",
    "floatDCCType = DayCountTypes.ACT_360\n",
    "floatFreqType = FrequencyTypes.SEMI_ANNUAL"
   ]
  },
  {
   "cell_type": "code",
   "execution_count": 8,
   "metadata": {},
   "outputs": [],
   "source": [
    "offMarketSwap = IborSwap(start_date, maturity_date, swapType, \n",
    "                            fixedRate, fixedFreqType, fixedDCCType,\n",
    "                            notional,\n",
    "                            float_spread, floatFreqType, floatDCCType, \n",
    "                            CalendarTypes.TARGET)"
   ]
  },
  {
   "cell_type": "code",
   "execution_count": 9,
   "metadata": {},
   "outputs": [],
   "source": [
    "interp_type = InterpTypes.LINEAR_ZERO_RATES"
   ]
  },
  {
   "cell_type": "markdown",
   "metadata": {},
   "source": [
    "## Build a USD Libor Single Curve"
   ]
  },
  {
   "cell_type": "code",
   "execution_count": 10,
   "metadata": {},
   "outputs": [],
   "source": [
    "depos = []; fras = []; swaps = []\n",
    "\n",
    "spot_days = 0\n",
    "settlement_date = valuation_date.add_weekdays(spot_days)\n",
    "depoDCCType = DayCountTypes.ACT_360\n",
    "depo = IborDeposit(settlement_date, \"6M\", -0.2510/100.0, depoDCCType); depos.append(depo)\n",
    "fraDCCType = DayCountTypes.ACT_360\n",
    "\n",
    "fra = IborFRA(settlement_date.add_tenor(\"1M\"), \"6M\", -0.2450/100.0, fraDCCType); fras.append(fra)\n",
    "fra = IborFRA(settlement_date.add_tenor(\"2M\"), \"6M\", -0.2435/100.0, fraDCCType); fras.append(fra)\n",
    "fra = IborFRA(settlement_date.add_tenor(\"3M\"), \"6M\", -0.2400/100.0, fraDCCType); fras.append(fra)\n",
    "fra = IborFRA(settlement_date.add_tenor(\"4M\"), \"6M\", -0.2360/100.0, fraDCCType); fras.append(fra)\n",
    "fra = IborFRA(settlement_date.add_tenor(\"5M\"), \"6M\", -0.2285/100.0, fraDCCType); fras.append(fra)\n",
    "fra = IborFRA(settlement_date.add_tenor(\"6M\"), \"6M\", -0.2230/100.0, fraDCCType); fras.append(fra)\n",
    "fra = IborFRA(settlement_date.add_tenor(\"7M\"), \"6M\", -0.2110/100.0, fraDCCType); fras.append(fra)\n",
    "fra = IborFRA(settlement_date.add_tenor(\"8M\"), \"6M\", -0.1990/100.0, fraDCCType); fras.append(fra)\n",
    "fra = IborFRA(settlement_date.add_tenor(\"9M\"), \"6M\", -0.1850/100.0, fraDCCType); fras.append(fra)\n",
    "fra = IborFRA(settlement_date.add_tenor(\"10M\"), \"6M\", -0.1680/100.0, fraDCCType); fras.append(fra)\n",
    "fra = IborFRA(settlement_date.add_tenor(\"11M\"), \"6M\", -0.1510/100.0, fraDCCType); fras.append(fra)\n",
    "fra = IborFRA(settlement_date.add_tenor(\"12M\"), \"6M\", -0.1360/100.0, fraDCCType); fras.append(fra)\n",
    "\n",
    "swapType = SwapTypes.PAY\n",
    "fixedDCCType = DayCountTypes.THIRTY_360_BOND\n",
    "fixedFreqType = FrequencyTypes.ANNUAL\n",
    "\n",
    "swap = IborSwap(settlement_date, \"2Y\", swapType, -0.1525/100.0, fixedFreqType, fixedDCCType); swaps.append(swap)\n",
    "swap = IborSwap(settlement_date, \"3Y\", swapType, -0.0185/100.0, fixedFreqType, fixedDCCType); swaps.append(swap)\n",
    "swap = IborSwap(settlement_date, \"4Y\", swapType, 0.1315/100.0, fixedFreqType, fixedDCCType); swaps.append(swap)\n",
    "swap = IborSwap(settlement_date, \"5Y\", swapType, 0.2745/100.0, fixedFreqType, fixedDCCType); swaps.append(swap)\n",
    "swap = IborSwap(settlement_date, \"6Y\", swapType, 0.4135/100.0, fixedFreqType, fixedDCCType); swaps.append(swap)\n",
    "swap = IborSwap(settlement_date, \"7Y\", swapType, 0.5439/100.0, fixedFreqType, fixedDCCType); swaps.append(swap)\n",
    "swap = IborSwap(settlement_date, \"8Y\", swapType, 0.6652/100.0, fixedFreqType, fixedDCCType); swaps.append(swap)\n",
    "swap = IborSwap(settlement_date, \"9Y\", swapType, 0.7784/100.0, fixedFreqType, fixedDCCType); swaps.append(swap)\n",
    "swap = IborSwap(settlement_date, \"10Y\", swapType, 0.8799/100.0, fixedFreqType, fixedDCCType); swaps.append(swap)\n",
    "swap = IborSwap(settlement_date, \"11Y\", swapType, 0.9715/100.0, fixedFreqType, fixedDCCType); swaps.append(swap)\n",
    "swap = IborSwap(settlement_date, \"12Y\", swapType, 1.0517/100.0, fixedFreqType, fixedDCCType); swaps.append(swap)\n",
    "swap = IborSwap(settlement_date, \"15Y\", swapType, 1.2369/100.0, fixedFreqType, fixedDCCType); swaps.append(swap)\n",
    "swap = IborSwap(settlement_date, \"20Y\", swapType, 1.3965/100.0, fixedFreqType, fixedDCCType); swaps.append(swap)\n",
    "swap = IborSwap(settlement_date, \"25Y\", swapType, 1.4472/100.0, fixedFreqType, fixedDCCType); swaps.append(swap)\n",
    "swap = IborSwap(settlement_date, \"30Y\", swapType, 1.4585/100.0, fixedFreqType, fixedDCCType); swaps.append(swap)\n",
    "swap = IborSwap(settlement_date, \"35Y\", swapType, 1.4595/100.0, fixedFreqType, fixedDCCType); swaps.append(swap)\n",
    "swap = IborSwap(settlement_date, \"40Y\", swapType, 1.4535/100.0, fixedFreqType, fixedDCCType); swaps.append(swap)\n",
    "swap = IborSwap(settlement_date, \"45Y\", swapType, 1.4410/100.0, fixedFreqType, fixedDCCType); swaps.append(swap)\n",
    "swap = IborSwap(settlement_date, \"50Y\", swapType, 1.4335/100.0, fixedFreqType, fixedDCCType); swaps.append(swap)\n",
    "\n",
    "iborSingleCurve = IborSingleCurve(valuation_date, depos, fras, swaps, interp_type)"
   ]
  },
  {
   "cell_type": "code",
   "execution_count": 11,
   "metadata": {},
   "outputs": [],
   "source": [
    "iborDepos = depos.copy()\n",
    "iborFras = fras.copy()\n",
    "ibor_swaps = swaps.copy()"
   ]
  },
  {
   "cell_type": "code",
   "execution_count": 12,
   "metadata": {},
   "outputs": [],
   "source": [
    "iborCurve = IborSingleCurve(valuation_date, iborDepos, iborFras, ibor_swaps, interp_type)"
   ]
  },
  {
   "cell_type": "code",
   "execution_count": 13,
   "metadata": {},
   "outputs": [
    {
     "name": "stdout",
     "output_type": "stream",
     "text": [
      "START DATE: 30-NOV-2018\n",
      "MATURITY DATE: 30-NOV-2020\n",
      "COUPON (%): -0.1525\n",
      "FREQUENCY: FrequencyTypes.ANNUAL\n",
      "DAY COUNT: DayCountTypes.THIRTY_360_BOND\n",
      "PAY_DATE     ACCR_START   ACCR_END     DAYS  YEARFRAC    RATE      PAYMENT       DF          PV        CUM PV\n",
      "02-DEC-2019  30-NOV-2018  02-DEC-2019   362  1.005556  -0.15250     -1533.47  1.00240918     -1537.17     -1537.17\n",
      "30-NOV-2020  02-DEC-2019  30-NOV-2020   358  0.994444  -0.15250     -1516.53  1.00305833     -1521.17     -3058.33\n"
     ]
    }
   ],
   "source": [
    "ibor_swaps[0].print_fixed_leg_pv()"
   ]
  },
  {
   "cell_type": "code",
   "execution_count": 14,
   "metadata": {},
   "outputs": [
    {
     "name": "stdout",
     "output_type": "stream",
     "text": [
      "START DATE: 30-NOV-2018\n",
      "MATURITY DATE: 30-NOV-2020\n",
      "SPREAD (BPS): 0.0\n",
      "FREQUENCY: FrequencyTypes.QUARTERLY\n",
      "DAY COUNT: DayCountTypes.THIRTY_E_360\n",
      "PAY_DATE     ACCR_START   ACCR_END     DAYS  YEARFRAC    IBOR      PAYMENT       DF          PV        CUM PV\n",
      "28-FEB-2019  30-NOV-2018  28-FEB-2019    88  0.244444   -0.25678      -627.69  1.00062809      -628.09      -628.09\n",
      "29-MAY-2019  28-FEB-2019  29-MAY-2019    91  0.252778   -0.24799      -626.86  1.00125574      -627.65     -1255.74\n",
      "29-AUG-2019  29-MAY-2019  29-AUG-2019    90  0.250000   -0.23461      -586.51  1.00184334      -587.60     -1843.34\n",
      "29-NOV-2019  29-AUG-2019  29-NOV-2019    90  0.250000   -0.22069      -551.72  1.00239638      -553.05     -2396.38\n",
      "02-MAR-2020  29-NOV-2019  02-MAR-2020    93  0.258333   -0.15432      -398.65  1.00279615      -399.77     -2796.15\n",
      "01-JUN-2020  02-MAR-2020  01-JUN-2020    89  0.247222   -0.11730      -289.98  1.00308703      -290.88     -3087.03\n",
      "31-AUG-2020  01-JUN-2020  31-AUG-2020    89  0.247222   -0.02066       -51.08  1.00313826       -51.24     -3138.26\n",
      "30-NOV-2020  31-AUG-2020  30-NOV-2020    90  0.250000    0.03188        79.69  1.00305833        79.93     -3058.33\n"
     ]
    }
   ],
   "source": [
    "ibor_swaps[0]._float_leg.print_valuation()"
   ]
  },
  {
   "cell_type": "markdown",
   "metadata": {},
   "source": [
    "## Swap Valuation"
   ]
  },
  {
   "cell_type": "code",
   "execution_count": 15,
   "metadata": {},
   "outputs": [],
   "source": [
    "vBloomberg = 388147"
   ]
  },
  {
   "cell_type": "code",
   "execution_count": 16,
   "metadata": {},
   "outputs": [],
   "source": [
    "v1 = offMarketSwap.value(valuation_date, iborCurve, iborCurve, -0.268/100.0)"
   ]
  },
  {
   "cell_type": "code",
   "execution_count": 17,
   "metadata": {},
   "outputs": [
    {
     "name": "stdout",
     "output_type": "stream",
     "text": [
      "Single Curve Value: 381271.36  BBG Value:388147.00\n"
     ]
    }
   ],
   "source": [
    "print(\"Single Curve Value: %9.2f  BBG Value:%9.2f\"% (v1, vBloomberg))"
   ]
  },
  {
   "cell_type": "code",
   "execution_count": 18,
   "metadata": {},
   "outputs": [
    {
     "name": "stdout",
     "output_type": "stream",
     "text": [
      "Error in bps: -6.875643\n"
     ]
    }
   ],
   "source": [
    "print(\"Error in bps: %9.6f\"% ((v1-vBloomberg)/notional*10000))"
   ]
  },
  {
   "cell_type": "markdown",
   "metadata": {},
   "source": [
    "In Bloomberg, this swap has a value of 388,147.49 - why the difference - BBG uses a Dual Curve."
   ]
  },
  {
   "cell_type": "markdown",
   "metadata": {},
   "source": [
    "## Building the Discounting OIS Curve"
   ]
  },
  {
   "cell_type": "markdown",
   "metadata": {},
   "source": [
    "We construct the OIS curve from a series of swaps, some forward starting. The default assumption on the floating leg is annual payments."
   ]
  },
  {
   "cell_type": "code",
   "execution_count": 19,
   "metadata": {},
   "outputs": [],
   "source": [
    "depoDCCType = DayCountTypes.ACT_360\n",
    "depos = []\n",
    "\n",
    "spot_days = 0\n",
    "settlement_date = valuation_date.add_weekdays(spot_days)\n",
    "depo = IborDeposit(settlement_date, \"1D\", -0.3490/100.0, depoDCCType); depos.append(depo)\n",
    "\n",
    "fras = []\n",
    "\n",
    "swaps = []\n",
    "swapType = SwapTypes.PAY\n",
    "fixedDCCType = DayCountTypes.ACT_365F\n",
    "fixedFreqType = FrequencyTypes.ANNUAL\n",
    "\n",
    "# Standard OIS with standard annual terms\n",
    "swap = OIS(settlement_date, \"2W\", swapType, -0.3600/100.0, fixedFreqType, fixedDCCType); swaps.append(swap)\n",
    "swap = OIS(settlement_date, \"1M\", swapType, -0.3560/100.0, fixedFreqType, fixedDCCType); swaps.append(swap)\n",
    "swap = OIS(settlement_date, \"2M\", swapType, -0.3570/100.0, fixedFreqType, fixedDCCType); swaps.append(swap)\n",
    "swap = OIS(settlement_date, \"3M\", swapType, -0.3580/100.0, fixedFreqType, fixedDCCType); swaps.append(swap)\n",
    "swap = OIS(settlement_date, \"4M\", swapType, -0.3575/100.0, fixedFreqType, fixedDCCType); swaps.append(swap)\n",
    "swap = OIS(settlement_date, \"5M\", swapType, -0.3578/100.0, fixedFreqType, fixedDCCType); swaps.append(swap)\n",
    "swap = OIS(settlement_date, \"6M\", swapType, -0.3580/100.0, fixedFreqType, fixedDCCType); swaps.append(swap)\n",
    "swap = OIS(settlement_date, \"7M\", swapType, -0.3600/100.0, fixedFreqType, fixedDCCType); swaps.append(swap)\n",
    "swap = OIS(settlement_date, \"8M\", swapType, -0.3575/100.0, fixedFreqType, fixedDCCType); swaps.append(swap)\n",
    "swap = OIS(settlement_date, \"9M\", swapType, -0.3569/100.0, fixedFreqType, fixedDCCType); swaps.append(swap)\n",
    "swap = OIS(settlement_date, \"10M\", swapType, -0.3553/100.0, fixedFreqType, fixedDCCType); swaps.append(swap)\n",
    "swap = OIS(settlement_date, \"11M\", swapType, -0.3534/100.0, fixedFreqType, fixedDCCType); swaps.append(swap)\n",
    "swap = OIS(settlement_date, \"12M\", swapType, -0.3496/100.0, fixedFreqType, fixedDCCType); swaps.append(swap)\n",
    "swap = OIS(settlement_date, \"18M\", swapType, -0.3173/100.0, fixedFreqType, fixedDCCType); swaps.append(swap)\n",
    "\n",
    "swap = OIS(settlement_date, \"2Y\", swapType, -0.2671/100.0, fixedFreqType, fixedDCCType); swaps.append(swap)\n",
    "swap = OIS(settlement_date, \"30M\", swapType, -0.2070/100.0, fixedFreqType, fixedDCCType); swaps.append(swap)\n",
    "swap = OIS(settlement_date, \"3Y\", swapType, -0.1410/100.0, fixedFreqType, fixedDCCType); swaps.append(swap)\n",
    "swap = OIS(settlement_date, \"4Y\", swapType, -0.0060/100.0, fixedFreqType, fixedDCCType); swaps.append(swap)\n",
    "swap = OIS(settlement_date, \"5Y\", swapType, 0.1285/100.0, fixedFreqType, fixedDCCType); swaps.append(swap)\n",
    "swap = OIS(settlement_date, \"6Y\", swapType, 0.2590/100.0, fixedFreqType, fixedDCCType); swaps.append(swap)\n",
    "swap = OIS(settlement_date, \"7Y\", swapType, 0.3830/100.0, fixedFreqType, fixedDCCType); swaps.append(swap)\n",
    "swap = OIS(settlement_date, \"8Y\", swapType, 0.5020/100.0, fixedFreqType, fixedDCCType); swaps.append(swap)\n",
    "swap = OIS(settlement_date, \"9Y\", swapType, 0.6140/100.0, fixedFreqType, fixedDCCType); swaps.append(swap)\n",
    "swap = OIS(settlement_date, \"10Y\", swapType, 0.7160/100.0, fixedFreqType, fixedDCCType); swaps.append(swap)\n",
    "swap = OIS(settlement_date, \"11Y\", swapType, 0.8070/100.0, fixedFreqType, fixedDCCType); swaps.append(swap)\n",
    "swap = OIS(settlement_date, \"12Y\", swapType, 0.8890/100.0, fixedFreqType, fixedDCCType); swaps.append(swap)\n",
    "swap = OIS(settlement_date, \"15Y\", swapType, 1.0790/100.0, fixedFreqType, fixedDCCType); swaps.append(swap)\n",
    "swap = OIS(settlement_date, \"20Y\", swapType, 1.2460/100.0, fixedFreqType, fixedDCCType); swaps.append(swap)\n",
    "swap = OIS(settlement_date, \"25Y\", swapType, 1.3055/100.0, fixedFreqType, fixedDCCType); swaps.append(swap)\n",
    "swap = OIS(settlement_date, \"30Y\", swapType, 1.3270/100.0, fixedFreqType, fixedDCCType); swaps.append(swap)\n",
    "swap = OIS(settlement_date, \"35Y\", swapType, 1.3315/100.0, fixedFreqType, fixedDCCType); swaps.append(swap)\n",
    "swap = OIS(settlement_date, \"40Y\", swapType, 1.3300/100.0, fixedFreqType, fixedDCCType); swaps.append(swap)\n",
    "swap = OIS(settlement_date, \"50Y\", swapType, 1.3270/100.0, fixedFreqType, fixedDCCType); swaps.append(swap)\n",
    "\n",
    "oisDepos = depos.copy()\n",
    "oisFras = fras.copy()\n",
    "oisSwaps = swaps.copy()"
   ]
  },
  {
   "cell_type": "code",
   "execution_count": 20,
   "metadata": {},
   "outputs": [],
   "source": [
    "oisCurve = OISCurve(valuation_date, oisDepos, oisFras, oisSwaps, interp_type)"
   ]
  },
  {
   "cell_type": "code",
   "execution_count": 21,
   "metadata": {},
   "outputs": [
    {
     "data": {
      "text/plain": [
       "array([1.        , 1.00002908, 1.0001381 , 1.00030245, 1.00059699,\n",
       "       1.00088352, 1.00115709, 1.00147258, 1.00175876, 1.00207553,\n",
       "       1.00236606, 1.0026569 , 1.00296799, 1.00322485, 1.00348897,\n",
       "       1.00475563, 1.00537308, 1.00518321, 1.00425241, 1.00024097,\n",
       "       0.99356254, 0.9844542 , 0.97329392, 0.96018927, 0.94550181,\n",
       "       0.92977295, 0.9134757 , 0.89666882, 0.84664609, 0.77285729,\n",
       "       0.71384822, 0.66373016, 0.6201139 , 0.58084365, 0.50997795])"
      ]
     },
     "execution_count": 21,
     "metadata": {},
     "output_type": "execute_result"
    }
   ],
   "source": [
    "oisCurve._dfs"
   ]
  },
  {
   "cell_type": "markdown",
   "metadata": {},
   "source": [
    "## Building the Dual Curve"
   ]
  },
  {
   "cell_type": "code",
   "execution_count": 22,
   "metadata": {},
   "outputs": [],
   "source": [
    "iborSingleCurve = IborSingleCurve(valuation_date, iborDepos, iborFras, ibor_swaps, interp_type)"
   ]
  },
  {
   "cell_type": "code",
   "execution_count": 23,
   "metadata": {},
   "outputs": [],
   "source": [
    "iborDualCurve = IborDualCurve(valuation_date, oisCurve, iborDepos, iborFras, ibor_swaps, interp_type)"
   ]
  },
  {
   "cell_type": "code",
   "execution_count": 24,
   "metadata": {},
   "outputs": [],
   "source": [
    "v2 = offMarketSwap.value(valuation_date, oisCurve, iborDualCurve, -0.268/100.0)"
   ]
  },
  {
   "cell_type": "code",
   "execution_count": 25,
   "metadata": {},
   "outputs": [
    {
     "name": "stdout",
     "output_type": "stream",
     "text": [
      "Two Curve Value: 387290.77  BBG Value:388147.00\n"
     ]
    }
   ],
   "source": [
    "print(\"Two Curve Value: %9.2f  BBG Value:%9.2f\"% (v2, vBloomberg))"
   ]
  },
  {
   "cell_type": "code",
   "execution_count": 26,
   "metadata": {},
   "outputs": [
    {
     "name": "stdout",
     "output_type": "stream",
     "text": [
      "Error in bps: -0.856230\n"
     ]
    }
   ],
   "source": [
    "print(\"Error in bps: %9.6f\"% ((v2-vBloomberg)/notional*10000))"
   ]
  },
  {
   "cell_type": "code",
   "execution_count": 27,
   "metadata": {},
   "outputs": [
    {
     "data": {
      "text/plain": [
       "1.3956719290048496"
      ]
     },
     "execution_count": 27,
     "metadata": {},
     "output_type": "execute_result"
    }
   ],
   "source": [
    "offMarketSwap.swap_rate(valuation_date, iborDualCurve )*100"
   ]
  },
  {
   "cell_type": "markdown",
   "metadata": {},
   "source": [
    "## Single vs Dual Curve"
   ]
  },
  {
   "cell_type": "code",
   "execution_count": 28,
   "metadata": {},
   "outputs": [
    {
     "data": {
      "image/png": "[encoded data removed]",
      "text/plain": [
       "<Figure size 864x432 with 1 Axes>"
      ]
     },
     "metadata": {
      "needs_background": "light"
     },
     "output_type": "display_data"
    }
   ],
   "source": [
    "years = np.linspace(9, 24, 100)\n",
    "dates = valuation_date.add_years(years)\n",
    "\n",
    "iborSingleCurveFwds = iborSingleCurve.fwd_rate(dates, \"6M\")    \n",
    "iborDualCurveFwds = iborDualCurve.fwd_rate(dates, \"6M\")\n",
    "\n",
    "plt.figure(figsize=(12,6))\n",
    "plt.plot(years, iborSingleCurveFwds*100.0, label=\"Euribor Single Curve\")\n",
    "plt.plot(years, iborDualCurveFwds*100.0, label=\"Euribor Dual Curve\")\n",
    "plt.xlabel(\"Years\")\n",
    "plt.ylabel(\"Forward Rate (%)\")\n",
    "plt.legend();"
   ]
  },
  {
   "cell_type": "markdown",
   "metadata": {},
   "source": [
    "I calculate the difference between the two curves."
   ]
  },
  {
   "cell_type": "code",
   "execution_count": 29,
   "metadata": {},
   "outputs": [
    {
     "data": {
      "image/png": "[encoded data removed]",
      "text/plain": [
       "<Figure size 864x432 with 1 Axes>"
      ]
     },
     "metadata": {
      "needs_background": "light"
     },
     "output_type": "display_data"
    }
   ],
   "source": [
    "dayMax = 50*360\n",
    "years = np.linspace(0, dayMax/365, dayMax)\n",
    "dates = valuation_date.add_years(years)\n",
    "\n",
    "liborSingleCurveFwds = iborSingleCurve.fwd(dates)    \n",
    "liborDualCurveFwds = iborDualCurve.fwd(dates)\n",
    "\n",
    "diff = liborSingleCurveFwds - liborDualCurveFwds\n",
    "\n",
    "plt.figure(figsize=(12,6))\n",
    "plt.plot(years, diff*10000.0, label=\"EONIA Dual - Single Curve Fwds\")\n",
    "plt.xlabel(\"Years\")\n",
    "plt.ylabel(\"Forward Rate Difference (bp)\")\n",
    "plt.legend();"
   ]
  },
  {
   "cell_type": "markdown",
   "metadata": {},
   "source": [
    "Copyright (c) Dominic O'Kane 2020"
   ]
  }
 ],
 "metadata": {
  "kernelspec": {
   "display_name": "Python 3",
   "language": "python",
   "name": "python3"
  },
  "language_info": {
   "codemirror_mode": {
    "name": "ipython",
    "version": 3
   },
   "file_extension": ".py",
   "mimetype": "text/x-python",
   "name": "python",
   "nbconvert_exporter": "python",
   "pygments_lexer": "ipython3",
   "version": "3.8.5"
  }
 },
 "nbformat": 4,
 "nbformat_minor": 4
}
