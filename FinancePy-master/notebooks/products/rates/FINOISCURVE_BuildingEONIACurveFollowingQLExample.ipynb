{
 "cells": [
  {
   "cell_type": "markdown",
   "metadata": {},
   "source": [
    "# Building an EONIA Curve"
   ]
  },
  {
   "cell_type": "markdown",
   "metadata": {},
   "source": [
    "We build an OIS curve from OIS swaps that include forward starting OIS using market data in https://papers.ssrn.com/sol3/papers.cfm?abstract_id=2219548."
   ]
  },
  {
   "cell_type": "code",
   "execution_count": 1,
   "metadata": {},
   "outputs": [],
   "source": [
    "import numpy as np\n",
    "import matplotlib.pyplot as plt"
   ]
  },
  {
   "cell_type": "code",
   "execution_count": 2,
   "metadata": {},
   "outputs": [
    {
     "name": "stdout",
     "output_type": "stream",
     "text": [
      "####################################################################\n",
      "# FINANCEPY BETA Version 0.185 - This build:  21 Oct 2020 at 11:04 #\n",
      "#      This software is distributed FREE & WITHOUT ANY WARRANTY    #\n",
      "# For info and disclaimer - https://github.com/domokane/FinancePy  #\n",
      "#      Send any bug reports or comments to quant@financepy.com     #\n",
      "####################################################################\n",
      "\n"
     ]
    }
   ],
   "source": [
    "from financepy.utils import *\n",
    "from financepy.products.rates import *"
   ]
  },
  {
   "cell_type": "code",
   "execution_count": 3,
   "metadata": {},
   "outputs": [],
   "source": [
    "valuation_date = Date(11, 12, 2012)"
   ]
  },
  {
   "cell_type": "markdown",
   "metadata": {},
   "source": [
    "## Building the OIS Curve"
   ]
  },
  {
   "cell_type": "markdown",
   "metadata": {},
   "source": [
    "We construct the OIS curve from a series of swaps, some forward starting. The default assumption on the floating leg is annual payments."
   ]
  },
  {
   "cell_type": "code",
   "execution_count": 71,
   "metadata": {},
   "outputs": [],
   "source": [
    "depoDCCType = DayCountTypes.ACT_360\n",
    "depos = []\n",
    "\n",
    "spot_days = 0\n",
    "settlement_date = valuation_date.add_weekdays(spot_days)\n",
    "depo = IborDeposit(settlement_date, \"1D\", 0.0400/100.0, depoDCCType); depos.append(depo)\n",
    "\n",
    "spot_days = 1\n",
    "settlement_date = valuation_date.add_weekdays(spot_days)\n",
    "depo = IborDeposit(settlement_date, \"1D\", 0.0400/100.0, depoDCCType); depos.append(depo)\n",
    "\n",
    "spot_days = 2\n",
    "settlement_date = valuation_date.add_weekdays(spot_days)\n",
    "depo = IborDeposit(settlement_date, \"1D\", 0.0400/100.0, depoDCCType); depos.append(depo)\n",
    "\n",
    "###################################### OIS SWAPS START HERE ################################################\n",
    "\n",
    "swaps = []\n",
    "swapType = SwapTypes.PAY\n",
    "fixedDCCType = DayCountTypes.ACT_365F\n",
    "fixedFreqType = FrequencyTypes.ANNUAL\n",
    "\n",
    "swap = OIS(settlement_date, \"1W\", swapType, 0.0700/100.0, fixedFreqType, fixedDCCType); swaps.append(swap)\n",
    "swap = OIS(settlement_date, \"2W\", swapType, 0.0690/100.0, fixedFreqType, fixedDCCType); swaps.append(swap)\n",
    "swap = OIS(settlement_date, \"3W\", swapType, 0.0780/100.0, fixedFreqType, fixedDCCType); swaps.append(swap)\n",
    "swap = OIS(settlement_date, \"1M\", swapType, 0.0740/100.0, fixedFreqType, fixedDCCType); swaps.append(swap)\n",
    "\n",
    "m1Date = Date(16,1,2013)\n",
    "m2Date = Date(13,2,2013)\n",
    "m3Date = Date(13,3,2013)\n",
    "m4Date = Date(10,4,2013)\n",
    "m5Date = Date(8,5,2013)\n",
    "m6Date = Date(12,6,2013)\n",
    "\n",
    "# This OIS stops at the next meeting date\n",
    "swap = OIS(m1Date, m2Date, swapType, 0.0460/100.0, fixedFreqType, fixedDCCType); swaps.append(swap)\n",
    "swap = OIS(m2Date, m3Date, swapType, 0.0160/100.0, fixedFreqType, fixedDCCType); swaps.append(swap)\n",
    "swap = OIS(m3Date, m4Date, swapType, -0.007/100.0, fixedFreqType, fixedDCCType); swaps.append(swap)\n",
    "swap = OIS(m4Date, m5Date, swapType, -0.013/100.0, fixedFreqType, fixedDCCType); swaps.append(swap)\n",
    "swap = OIS(m5Date, m6Date, swapType, -0.014/100.0, fixedFreqType, fixedDCCType); swaps.append(swap)\n",
    "\n",
    "# Standard OIS with standard annual terms\n",
    "swap = OIS(settlement_date, \"15M\", swapType, 0.002/100.0, fixedFreqType, fixedDCCType); swaps.append(swap)\n",
    "swap = OIS(settlement_date, \"18M\", swapType, 0.008/100.0, fixedFreqType, fixedDCCType); swaps.append(swap)\n",
    "swap = OIS(settlement_date, \"21M\", swapType, 0.021/100.0, fixedFreqType, fixedDCCType); swaps.append(swap)\n",
    "swap = OIS(settlement_date, \"2Y\", swapType, 0.036/100.0, fixedFreqType, fixedDCCType); swaps.append(swap)\n",
    "swap = OIS(settlement_date, \"3Y\", swapType, 0.127/100.0, fixedFreqType, fixedDCCType); swaps.append(swap)\n",
    "swap = OIS(settlement_date, \"4Y\", swapType, 0.274/100.0, fixedFreqType, fixedDCCType); swaps.append(swap)\n",
    "swap = OIS(settlement_date, \"5Y\", swapType, 0.456/100.0, fixedFreqType, fixedDCCType); swaps.append(swap)\n",
    "swap = OIS(settlement_date, \"6Y\", swapType, 0.647/100.0, fixedFreqType, fixedDCCType); swaps.append(swap)\n",
    "swap = OIS(settlement_date, \"7Y\", swapType, 0.827/100.0, fixedFreqType, fixedDCCType); swaps.append(swap)\n",
    "swap = OIS(settlement_date, \"8Y\", swapType, 0.996/100.0, fixedFreqType, fixedDCCType); swaps.append(swap)\n",
    "swap = OIS(settlement_date, \"9Y\", swapType, 1.147/100.0, fixedFreqType, fixedDCCType); swaps.append(swap)\n",
    "swap = OIS(settlement_date, \"10Y\", swapType, 1.280/100.0, fixedFreqType, fixedDCCType); swaps.append(swap)\n",
    "swap = OIS(settlement_date, \"11Y\", swapType, 1.404/100.0, fixedFreqType, fixedDCCType); swaps.append(swap)\n",
    "swap = OIS(settlement_date, \"12Y\", swapType, 1.516/100.0, fixedFreqType, fixedDCCType); swaps.append(swap)\n",
    "swap = OIS(settlement_date, \"15Y\", swapType, 1.764/100.0, fixedFreqType, fixedDCCType); swaps.append(swap)\n",
    "swap = OIS(settlement_date, \"20Y\", swapType, 1.939/100.0, fixedFreqType, fixedDCCType); swaps.append(swap)\n",
    "swap = OIS(settlement_date, \"25Y\", swapType, 2.003/100.0, fixedFreqType, fixedDCCType); swaps.append(swap)\n",
    "swap = OIS(settlement_date, \"30Y\", swapType, 2.038/100.0, fixedFreqType, fixedDCCType); swaps.append(swap)"
   ]
  },
  {
   "cell_type": "code",
   "execution_count": 72,
   "metadata": {},
   "outputs": [],
   "source": [
    "oisCurveFF = OISCurve(valuation_date, depos, [], swaps, InterpTypes.FLAT_FWD_RATES)"
   ]
  },
  {
   "cell_type": "code",
   "execution_count": 73,
   "metadata": {},
   "outputs": [
    {
     "data": {
      "image/png": "[encoded data removed]",
      "text/plain": [
       "<Figure size 864x432 with 1 Axes>"
      ]
     },
     "metadata": {
      "needs_background": "light"
     },
     "output_type": "display_data"
    }
   ],
   "source": [
    "dayMax = 30*360\n",
    "years = np.linspace(0, dayMax/365, dayMax)\n",
    "dates = valuation_date.add_years(years)\n",
    "oisCurveFwdsFF = oisCurveFF.fwd(dates)    \n",
    "\n",
    "plt.figure(figsize=(12,6))\n",
    "plt.plot(years, oisCurveFwdsFF*100.0, label=\"OIS Curve FF\")\n",
    "plt.xlabel(\"Years\")\n",
    "plt.ylabel(\"Forward Rate (%)\")\n",
    "plt.legend();"
   ]
  },
  {
   "cell_type": "markdown",
   "metadata": {},
   "source": [
    "## Examining the Short End"
   ]
  },
  {
   "cell_type": "code",
   "execution_count": 74,
   "metadata": {},
   "outputs": [
    {
     "data": {
      "image/png": "[encoded data removed]",
      "text/plain": [
       "<Figure size 864x432 with 1 Axes>"
      ]
     },
     "metadata": {
      "needs_background": "light"
     },
     "output_type": "display_data"
    }
   ],
   "source": [
    "dayMax = 180\n",
    "years = np.linspace(0, dayMax/365, dayMax)\n",
    "dates = valuation_date.add_years(years)\n",
    "oisCurveFwdsFF = oisCurveFF.fwd(dates)    \n",
    "\n",
    "plt.figure(figsize=(12,6))\n",
    "plt.plot(years, oisCurveFwdsFF*100.0, label=\"OIS Curve FF\")\n",
    "plt.xlabel(\"Years\")\n",
    "plt.ylabel(\"Forward Rate (%)\")\n",
    "plt.legend();"
   ]
  },
  {
   "cell_type": "markdown",
   "metadata": {},
   "source": [
    "We can examine the detailed structure of the short term rates."
   ]
  },
  {
   "cell_type": "markdown",
   "metadata": {},
   "source": [
    "The different interpolation schemes have their own strengths and weaknesses."
   ]
  },
  {
   "cell_type": "markdown",
   "metadata": {},
   "source": [
    "Copyright (c) Dominic O'Kane 2020"
   ]
  }
 ],
 "metadata": {
  "kernelspec": {
   "display_name": "Python 3",
   "language": "python",
   "name": "python3"
  },
  "language_info": {
   "codemirror_mode": {
    "name": "ipython",
    "version": 3
   },
   "file_extension": ".py",
   "mimetype": "text/x-python",
   "name": "python",
   "nbconvert_exporter": "python",
   "pygments_lexer": "ipython3",
   "version": "3.7.6"
  }
 },
 "nbformat": 4,
 "nbformat_minor": 4
}
