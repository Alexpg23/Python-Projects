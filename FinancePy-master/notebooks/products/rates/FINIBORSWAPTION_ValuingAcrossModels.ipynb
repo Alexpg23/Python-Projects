{
 "cells": [
  {
   "cell_type": "markdown",
   "metadata": {},
   "source": [
    "# Valuing European-Style Swaptions Across Models"
   ]
  },
  {
   "cell_type": "code",
   "execution_count": 1,
   "metadata": {},
   "outputs": [],
   "source": [
    "import numpy as np\n",
    "import matplotlib.pyplot as plt"
   ]
  },
  {
   "cell_type": "code",
   "execution_count": 2,
   "metadata": {},
   "outputs": [
    {
     "name": "stdout",
     "output_type": "stream",
     "text": [
      "####################################################################\n",
      "# FINANCEPY BETA Version 0.200 - This build:  14 Jul 2021 at 16:00 #\n",
      "# **** NEW PEP8 COMPLIANT VERSION -- PLEASE UPDATE YOUR CODE  **** #\n",
      "#      This software is distributed FREE & WITHOUT ANY WARRANTY    #\n",
      "# For info and disclaimer - https://github.com/domokane/FinancePy  #\n",
      "#      Send any bug reports or comments to quant@financepy.com     #\n",
      "####################################################################\n",
      "\n"
     ]
    }
   ],
   "source": [
    "from financepy.products.rates import *\n",
    "from financepy.utils import *\n",
    "from financepy.products.rates.ibor_single_curve import IborSingleCurve\n",
    "from financepy.market.curves.interpolator import InterpTypes"
   ]
  },
  {
   "cell_type": "markdown",
   "metadata": {},
   "source": [
    "## Building a Libor Discount Curve"
   ]
  },
  {
   "cell_type": "code",
   "execution_count": 3,
   "metadata": {},
   "outputs": [],
   "source": [
    "valuation_date = Date(28, 2, 2014)\n",
    "settlement_date = Date(4, 3, 2014)"
   ]
  },
  {
   "cell_type": "markdown",
   "metadata": {},
   "source": [
    "We have a vector of dates and zero rates"
   ]
  },
  {
   "cell_type": "code",
   "execution_count": 4,
   "metadata": {},
   "outputs": [],
   "source": [
    "depoDCCType = DayCountTypes.THIRTY_E_360_ISDA\n",
    "depos = []\n",
    "\n",
    "depo = IborDeposit(settlement_date, \"1W\", 0.0023, depoDCCType); depos.append(depo)\n",
    "depo = IborDeposit(settlement_date, \"1M\", 0.0023, depoDCCType); depos.append(depo)\n",
    "depo = IborDeposit(settlement_date, \"3M\", 0.0023, depoDCCType); depos.append(depo)\n",
    "depo = IborDeposit(settlement_date, \"6M\", 0.0023, depoDCCType); depos.append(depo)\n",
    "\n",
    "# No convexity correction provided so I omit interest rate futures\n",
    "\n",
    "swaps = []\n",
    "swapType = SwapTypes.PAY\n",
    "fixedDCCType = DayCountTypes.ACT_365F\n",
    "fixedFreqType = FrequencyTypes.SEMI_ANNUAL\n",
    "\n",
    "swap = IborSwap(settlement_date, \"3Y\", swapType, 0.00790, fixedFreqType, fixedDCCType); swaps.append(swap)\n",
    "swap = IborSwap(settlement_date, \"4Y\", swapType, 0.01200, fixedFreqType, fixedDCCType); swaps.append(swap)\n",
    "swap = IborSwap(settlement_date, \"5Y\", swapType, 0.01570, fixedFreqType, fixedDCCType); swaps.append(swap)\n",
    "swap = IborSwap(settlement_date, \"6Y\", swapType, 0.01865, fixedFreqType, fixedDCCType); swaps.append(swap)\n",
    "swap = IborSwap(settlement_date, \"7Y\", swapType, 0.02160, fixedFreqType, fixedDCCType); swaps.append(swap)\n",
    "swap = IborSwap(settlement_date, \"8Y\", swapType, 0.02350, fixedFreqType, fixedDCCType); swaps.append(swap)\n",
    "swap = IborSwap(settlement_date, \"9Y\", swapType, 0.02540, fixedFreqType, fixedDCCType); swaps.append(swap)\n",
    "swap = IborSwap(settlement_date, \"10Y\", swapType, 0.0273, fixedFreqType, fixedDCCType); swaps.append(swap)\n",
    "swap = IborSwap(settlement_date, \"15Y\", swapType, 0.0297, fixedFreqType, fixedDCCType); swaps.append(swap)\n",
    "swap = IborSwap(settlement_date, \"20Y\", swapType, 0.0316, fixedFreqType, fixedDCCType); swaps.append(swap)\n",
    "swap = IborSwap(settlement_date, \"25Y\", swapType, 0.0335, fixedFreqType, fixedDCCType); swaps.append(swap)\n",
    "swap = IborSwap(settlement_date, \"30Y\", swapType, 0.0354, fixedFreqType, fixedDCCType); swaps.append(swap)\n",
    "\n",
    "libor_curve = IborSingleCurve(valuation_date, depos, [], swaps)"
   ]
  },
  {
   "cell_type": "code",
   "execution_count": 5,
   "metadata": {},
   "outputs": [],
   "source": [
    "exercise_date = settlement_date.add_tenor(\"5Y\")\n",
    "swapMaturityDate = exercise_date.add_tenor(\"5Y\")\n",
    "swapFixedCoupon = 0.040852\n",
    "swapFixedFrequencyType = FrequencyTypes.SEMI_ANNUAL\n",
    "swapFixedDayCountType = DayCountTypes.THIRTY_E_360_ISDA\n",
    "swapFloatFrequencyType = FrequencyTypes.QUARTERLY\n",
    "swapFloatDayCountType = DayCountTypes.ACT_360\n",
    "swapNotional = ONE_MILLION\n",
    "swapType = SwapTypes.PAY  \n",
    "calendar_type = CalendarTypes.WEEKEND\n",
    "bus_day_adjust_type = BusDayAdjustTypes.NONE\n",
    "date_gen_rule_type = DateGenRuleTypes.BACKWARD"
   ]
  },
  {
   "cell_type": "code",
   "execution_count": 6,
   "metadata": {},
   "outputs": [],
   "source": [
    "swaption = IborSwaption(settlement_date,\n",
    "                            exercise_date,\n",
    "                            swapMaturityDate,\n",
    "                            swapType,\n",
    "                            swapFixedCoupon,\n",
    "                            swapFixedFrequencyType,\n",
    "                            swapFixedDayCountType, \n",
    "                            swapNotional, \n",
    "                            swapFloatFrequencyType,\n",
    "                            swapFloatDayCountType,\n",
    "                            calendar_type, \n",
    "                            bus_day_adjust_type,\n",
    "                            date_gen_rule_type)"
   ]
  },
  {
   "cell_type": "markdown",
   "metadata": {},
   "source": [
    "## Valuation using Black's Model"
   ]
  },
  {
   "cell_type": "code",
   "execution_count": 7,
   "metadata": {},
   "outputs": [],
   "source": [
    "model = Black(0.1533)"
   ]
  },
  {
   "cell_type": "code",
   "execution_count": 8,
   "metadata": {},
   "outputs": [
    {
     "data": {
      "text/plain": [
       "23177.897388443453"
      ]
     },
     "execution_count": 8,
     "metadata": {},
     "output_type": "execute_result"
    }
   ],
   "source": [
    "swaption.value(settlement_date, libor_curve, model)"
   ]
  },
  {
   "cell_type": "markdown",
   "metadata": {},
   "source": [
    "## Valuation using Shifted Black"
   ]
  },
  {
   "cell_type": "code",
   "execution_count": 9,
   "metadata": {},
   "outputs": [],
   "source": [
    "model = BlackShifted(0.1533, 0.008)"
   ]
  },
  {
   "cell_type": "code",
   "execution_count": 10,
   "metadata": {},
   "outputs": [
    {
     "data": {
      "text/plain": [
       "27708.384724442658"
      ]
     },
     "execution_count": 10,
     "metadata": {},
     "output_type": "execute_result"
    }
   ],
   "source": [
    "swaption.value(settlement_date, libor_curve, model)"
   ]
  },
  {
   "cell_type": "markdown",
   "metadata": {},
   "source": [
    "##  Valuation using SABR"
   ]
  },
  {
   "cell_type": "code",
   "execution_count": 11,
   "metadata": {},
   "outputs": [],
   "source": [
    "model = SABR(0.132, 0.5, 0.5, 0.5)"
   ]
  },
  {
   "cell_type": "code",
   "execution_count": 12,
   "metadata": {},
   "outputs": [
    {
     "data": {
      "text/plain": [
       "104569.2906552164"
      ]
     },
     "execution_count": 12,
     "metadata": {},
     "output_type": "execute_result"
    }
   ],
   "source": [
    "swaption.value(settlement_date, libor_curve, model)"
   ]
  },
  {
   "cell_type": "markdown",
   "metadata": {},
   "source": [
    "## Valuation using Shifted SABR"
   ]
  },
  {
   "cell_type": "code",
   "execution_count": 13,
   "metadata": {},
   "outputs": [],
   "source": [
    "model = SABRShifted(0.1, 0.2, 0.1, 0.15, -0.005)"
   ]
  },
  {
   "cell_type": "code",
   "execution_count": 14,
   "metadata": {},
   "outputs": [
    {
     "data": {
      "text/plain": [
       "163421.0373631705"
      ]
     },
     "execution_count": 14,
     "metadata": {},
     "output_type": "execute_result"
    }
   ],
   "source": [
    "swaption.value(settlement_date, libor_curve, model)"
   ]
  },
  {
   "cell_type": "markdown",
   "metadata": {},
   "source": [
    "## Valuation using Hull-White"
   ]
  },
  {
   "cell_type": "code",
   "execution_count": 15,
   "metadata": {},
   "outputs": [],
   "source": [
    "model = HWTree(0.01, 0.02)"
   ]
  },
  {
   "cell_type": "code",
   "execution_count": 16,
   "metadata": {},
   "outputs": [
    {
     "data": {
      "text/plain": [
       "34187.751028830324"
      ]
     },
     "execution_count": 16,
     "metadata": {},
     "output_type": "execute_result"
    }
   ],
   "source": [
    "swaption.value(settlement_date, libor_curve, model)"
   ]
  },
  {
   "cell_type": "markdown",
   "metadata": {},
   "source": [
    "## Valuation using Black-Karasinski"
   ]
  },
  {
   "cell_type": "code",
   "execution_count": 17,
   "metadata": {},
   "outputs": [],
   "source": [
    "model = BKTree(0.2, 0.05)"
   ]
  },
  {
   "cell_type": "code",
   "execution_count": 18,
   "metadata": {},
   "outputs": [
    {
     "data": {
      "text/plain": [
       "23484.270979088065"
      ]
     },
     "execution_count": 18,
     "metadata": {},
     "output_type": "execute_result"
    }
   ],
   "source": [
    "swaption.value(settlement_date, libor_curve, model)"
   ]
  },
  {
   "cell_type": "markdown",
   "metadata": {},
   "source": [
    "## Internals"
   ]
  },
  {
   "cell_type": "code",
   "execution_count": 19,
   "metadata": {},
   "outputs": [
    {
     "name": "stdout",
     "output_type": "stream",
     "text": [
      "OBJECT TYPE: IborSwaption\n",
      "SETTLEMENT DATE: 04-MAR-2014\n",
      "EXERCISE DATE: 04-MAR-2019\n",
      "SWAP FIXED LEG TYPE: SwapTypes.PAY\n",
      "SWAP MATURITY DATE: 04-MAR-2024\n",
      "SWAP NOTIONAL: 1000000\n",
      "FIXED COUPON: 4.0852\n",
      "FIXED FREQUENCY: FrequencyTypes.SEMI_ANNUAL\n",
      "FIXED DAY COUNT: DayCountTypes.THIRTY_E_360_ISDA\n",
      "FLOAT FREQUENCY: FrequencyTypes.QUARTERLY\n",
      "FLOAT DAY COUNT: DayCountTypes.ACT_360\n",
      "PV01: 4.160171830498574\n",
      "FWD SWAP RATE: 4.087016466038407\n",
      "FWD DF TO EXPIRY: 0.923742195746149\n"
     ]
    }
   ],
   "source": [
    "print(swaption)"
   ]
  },
  {
   "cell_type": "markdown",
   "metadata": {},
   "source": [
    "We can see that the forward swap rate almost equals the fixed coupon. The underlying swap is close to being ATM forward."
   ]
  },
  {
   "cell_type": "code",
   "execution_count": 20,
   "metadata": {},
   "outputs": [
    {
     "name": "stdout",
     "output_type": "stream",
     "text": [
      "START DATE: 04-MAR-2019\n",
      "MATURITY DATE: 04-MAR-2024\n",
      "COUPON (%): 4.0852\n",
      "FREQUENCY: FrequencyTypes.SEMI_ANNUAL\n",
      "DAY COUNT: DayCountTypes.THIRTY_E_360_ISDA\n",
      "PAY_DATE     ACCR_START   ACCR_END     DAYS  YEARFRAC    RATE      PAYMENT       DF          PV        CUM PV\n",
      "04-SEP-2019  04-MAR-2019  04-SEP-2019   180  0.500000   4.08520     20426.00  0.90796633     18546.12     18546.12\n",
      "04-MAR-2020  04-SEP-2019  04-MAR-2020   180  0.500000   4.08520     20426.00  0.89260443     18232.34     36778.46\n",
      "04-SEP-2020  04-MAR-2020  04-SEP-2020   180  0.500000   4.08520     20426.00  0.87443197     17861.15     54639.61\n",
      "04-MAR-2021  04-SEP-2020  04-MAR-2021   180  0.500000   4.08520     20426.00  0.85691681     17503.38     72142.99\n",
      "04-SEP-2021  04-MAR-2021  04-SEP-2021   180  0.500000   4.08520     20426.00  0.84055350     17169.15     89312.13\n",
      "04-MAR-2022  04-SEP-2021  04-MAR-2022   180  0.500000   4.08520     20426.00  0.82476188     16846.59    106158.72\n",
      "04-SEP-2022  04-MAR-2022  04-SEP-2022   180  0.500000   4.08520     20426.00  0.80724609     16488.81    122647.53\n",
      "04-MAR-2023  04-SEP-2022  04-MAR-2023   180  0.500000   4.08520     20426.00  0.79037886     16144.28    138791.81\n",
      "04-SEP-2023  04-MAR-2023  04-SEP-2023   180  0.500000   4.08520     20426.00  0.77174923     15763.75    154555.56\n",
      "04-MAR-2024  04-SEP-2023  04-MAR-2024   180  0.500000   4.08520     20426.00  0.75373455     15395.78    169951.34\n"
     ]
    }
   ],
   "source": [
    "swaption.print_swap_fixed_leg()"
   ]
  },
  {
   "cell_type": "markdown",
   "metadata": {},
   "source": [
    "Copyright (c) 2020 Dominic O'Kane"
   ]
  }
 ],
 "metadata": {
  "kernelspec": {
   "display_name": "Python 3",
   "language": "python",
   "name": "python3"
  },
  "language_info": {
   "codemirror_mode": {
    "name": "ipython",
    "version": 3
   },
   "file_extension": ".py",
   "mimetype": "text/x-python",
   "name": "python",
   "nbconvert_exporter": "python",
   "pygments_lexer": "ipython3",
   "version": "3.8.5"
  }
 },
 "nbformat": 4,
 "nbformat_minor": 4
}
