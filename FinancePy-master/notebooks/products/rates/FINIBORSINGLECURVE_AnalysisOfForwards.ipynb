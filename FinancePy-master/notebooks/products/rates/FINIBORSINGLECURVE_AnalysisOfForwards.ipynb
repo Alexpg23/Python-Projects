{
 "cells": [
  {
   "cell_type": "markdown",
   "metadata": {},
   "source": [
    "# Bootstrapping a Ibor Curve"
   ]
  },
  {
   "cell_type": "markdown",
   "metadata": {},
   "source": [
    "Constructing a Ibor curve from a combination of deposits and swaps"
   ]
  },
  {
   "cell_type": "code",
   "execution_count": 1,
   "metadata": {},
   "outputs": [],
   "source": [
    "import numpy as np\n",
    "import matplotlib.pyplot as plt"
   ]
  },
  {
   "cell_type": "raw",
   "metadata": {},
   "source": []
  },
  {
   "cell_type": "code",
   "execution_count": 2,
   "metadata": {},
   "outputs": [
    {
     "name": "stdout",
     "output_type": "stream",
     "text": [
      "####################################################################\n",
      "# FINANCEPY BETA Version 0.191 - This build:  17 Jan 2021 at 21:17 #\n",
      "#      This software is distributed FREE & WITHOUT ANY WARRANTY    #\n",
      "# For info and disclaimer - https://github.com/domokane/FinancePy  #\n",
      "#      Send any bug reports or comments to quant@financepy.com     #\n",
      "####################################################################\n",
      "\n"
     ]
    }
   ],
   "source": [
    "from financepy.utils import *\n",
    "from financepy.products.rates import *"
   ]
  },
  {
   "cell_type": "code",
   "execution_count": 3,
   "metadata": {},
   "outputs": [],
   "source": [
    "valuation_date = Date(9, 8, 2019)\n",
    "spot_days = 2\n",
    "settlement_date = valuation_date.add_days(spot_days)"
   ]
  },
  {
   "cell_type": "markdown",
   "metadata": {},
   "source": [
    "## Ibor Deposits"
   ]
  },
  {
   "cell_type": "code",
   "execution_count": 4,
   "metadata": {},
   "outputs": [],
   "source": [
    "dcType = DayCountTypes.ACT_360"
   ]
  },
  {
   "cell_type": "code",
   "execution_count": 5,
   "metadata": {},
   "outputs": [],
   "source": [
    "depo1 = IborDeposit(settlement_date, \"1M\", 0.022009, dcType)\n",
    "depo2 = IborDeposit(settlement_date, \"2M\", 0.022138, dcType)\n",
    "depo3 = IborDeposit(settlement_date, \"3M\", 0.021810, dcType)\n",
    "depo4 = IborDeposit(settlement_date, \"6M\", 0.020503, dcType)\n",
    "depo5 = IborDeposit(settlement_date, \"12M\", 0.019930, dcType)"
   ]
  },
  {
   "cell_type": "code",
   "execution_count": 6,
   "metadata": {},
   "outputs": [],
   "source": [
    "depos = [depo1,depo2,depo3,depo4,depo5]"
   ]
  },
  {
   "cell_type": "code",
   "execution_count": 7,
   "metadata": {},
   "outputs": [],
   "source": [
    "dcType = DayCountTypes.THIRTY_E_360_ISDA\n",
    "fixedFreq = FrequencyTypes.SEMI_ANNUAL"
   ]
  },
  {
   "cell_type": "markdown",
   "metadata": {},
   "source": [
    "## Interest Rate Swaps"
   ]
  },
  {
   "cell_type": "code",
   "execution_count": 8,
   "metadata": {},
   "outputs": [],
   "source": [
    "dcType = DayCountTypes.THIRTY_E_360_ISDA\n",
    "fixedFreq = FrequencyTypes.SEMI_ANNUAL\n",
    "swapType = SwapTypes.PAY"
   ]
  },
  {
   "cell_type": "code",
   "execution_count": 9,
   "metadata": {},
   "outputs": [],
   "source": [
    "swap1 = IborSwap(settlement_date,\"2Y\",swapType,0.015910,fixedFreq,dcType)\n",
    "swap2 = IborSwap(settlement_date,\"3Y\",swapType,0.014990,fixedFreq,dcType)\n",
    "swap3 = IborSwap(settlement_date,\"4Y\",swapType,0.014725,fixedFreq,dcType)\n",
    "swap4 = IborSwap(settlement_date,\"5Y\",swapType,0.014640,fixedFreq,dcType)\n",
    "swap5 = IborSwap(settlement_date,\"6Y\",swapType,0.014800,fixedFreq,dcType)\n",
    "swap6 = IborSwap(settlement_date,\"7Y\",swapType,0.014995,fixedFreq,dcType)\n",
    "swap7 = IborSwap(settlement_date,\"8Y\",swapType,0.015180,fixedFreq,dcType)\n",
    "swap8 = IborSwap(settlement_date,\"9Y\",swapType,0.015610,fixedFreq,dcType)\n",
    "swap9 = IborSwap(settlement_date,\"10Y\",swapType,0.0159880,fixedFreq,dcType)\n",
    "swap10 = IborSwap(settlement_date,\"12Y\",swapType,0.016430,fixedFreq,dcType)"
   ]
  },
  {
   "cell_type": "code",
   "execution_count": 10,
   "metadata": {},
   "outputs": [],
   "source": [
    "swaps = [swap1,swap2,swap3,swap4,swap5,swap6,swap7,swap8,swap9,swap10]"
   ]
  },
  {
   "cell_type": "code",
   "execution_count": 11,
   "metadata": {},
   "outputs": [],
   "source": [
    "fras = []"
   ]
  },
  {
   "cell_type": "markdown",
   "metadata": {},
   "source": [
    "# Bootstrapping The Curve"
   ]
  },
  {
   "cell_type": "code",
   "execution_count": 12,
   "metadata": {},
   "outputs": [],
   "source": [
    "libor_curve = IborSingleCurve(valuation_date, depos, fras, swaps)"
   ]
  },
  {
   "cell_type": "markdown",
   "metadata": {},
   "source": [
    "Can we show that the Ibor deposits have been repriced at par"
   ]
  },
  {
   "cell_type": "code",
   "execution_count": 13,
   "metadata": {},
   "outputs": [
    {
     "name": "stdout",
     "output_type": "stream",
     "text": [
      "100.0 11-AUG-2019 100.0\n",
      "100.0 11-SEP-2019 100.0\n",
      "100.0 11-OCT-2019 100.0\n",
      "100.0 11-NOV-2019 99.99999999999999\n",
      "100.0 11-FEB-2020 99.99999999999999\n",
      "100.0 11-AUG-2020 100.0\n"
     ]
    }
   ],
   "source": [
    "for depo in depos:\n",
    "    v = depo.value(settlement_date, libor_curve)\n",
    "    print(depo._notional, depo._maturity_date, v)"
   ]
  },
  {
   "cell_type": "code",
   "execution_count": 14,
   "metadata": {},
   "outputs": [
    {
     "name": "stdout",
     "output_type": "stream",
     "text": [
      "11-AUG-2021 -1.5327786968555301e-06\n",
      "11-AUG-2022 -1.93630694411695e-06\n",
      "11-AUG-2023 -2.2433887352235615e-06\n",
      "12-AUG-2024 -2.365020918659866e-06\n",
      "11-AUG-2025 -2.9940856620669365e-06\n",
      "11-AUG-2026 -3.442735760472715e-06\n",
      "11-AUG-2027 -3.6851270124316216e-06\n",
      "11-AUG-2028 -6.043919711373746e-06\n",
      "13-AUG-2029 -6.750895408913493e-06\n",
      "11-AUG-2031 -8.731149137020111e-11\n"
     ]
    }
   ],
   "source": [
    "for swap in swaps:\n",
    "    v = swap.value(settlement_date, libor_curve, libor_curve, None)\n",
    "    print(swap._maturity_date, v)"
   ]
  },
  {
   "cell_type": "markdown",
   "metadata": {},
   "source": [
    "Looks good!"
   ]
  },
  {
   "cell_type": "markdown",
   "metadata": {},
   "source": [
    "## The Forward Curve"
   ]
  },
  {
   "cell_type": "code",
   "execution_count": 15,
   "metadata": {},
   "outputs": [],
   "source": [
    "years = np.linspace(0, 15.0, 200)\n",
    "dates = settlement_date.add_years(years)\n",
    "fwds = libor_curve.fwd(dates)"
   ]
  },
  {
   "cell_type": "code",
   "execution_count": 16,
   "metadata": {
    "scrolled": true
   },
   "outputs": [
    {
     "data": {
      "image/png": "[encoded data removed]",
      "text/plain": [
       "<Figure size 576x360 with 1 Axes>"
      ]
     },
     "metadata": {
      "needs_background": "light"
     },
     "output_type": "display_data"
    }
   ],
   "source": [
    "plt.figure(figsize=(8,5))\n",
    "plt.plot(years,fwds*100, label=\"Instantaneous Forwards\")\n",
    "plt.xlabel(\"Time\")\n",
    "plt.ylabel(\"Forwards (%)\")\n",
    "plt.legend()\n",
    "plt.grid()"
   ]
  },
  {
   "cell_type": "markdown",
   "metadata": {},
   "source": [
    "Zoom in one the short end"
   ]
  },
  {
   "cell_type": "code",
   "execution_count": 17,
   "metadata": {},
   "outputs": [],
   "source": [
    "years = np.linspace(0,1.0,1000)\n",
    "dates = settlement_date.add_years(years)\n",
    "fwds = libor_curve.fwd(dates)"
   ]
  },
  {
   "cell_type": "code",
   "execution_count": 18,
   "metadata": {},
   "outputs": [
    {
     "data": {
      "image/png": "[encoded data removed]",
      "text/plain": [
       "<Figure size 576x360 with 1 Axes>"
      ]
     },
     "metadata": {
      "needs_background": "light"
     },
     "output_type": "display_data"
    }
   ],
   "source": [
    "plt.figure(figsize=(8,5))\n",
    "plt.plot(years,fwds*100, label=\"Instantaneous Forwards\")\n",
    "plt.xlabel(\"Time\")\n",
    "plt.ylabel(\"Forwards (%)\")\n",
    "plt.legend()\n",
    "plt.grid()"
   ]
  },
  {
   "cell_type": "markdown",
   "metadata": {},
   "source": [
    "## Extracting the Zero Rate Curves"
   ]
  },
  {
   "cell_type": "markdown",
   "metadata": {},
   "source": [
    "We choose a range of zero rate frequencies."
   ]
  },
  {
   "cell_type": "code",
   "execution_count": 19,
   "metadata": {},
   "outputs": [],
   "source": [
    "years = np.linspace(1/365,5,100)\n",
    "dates = settlement_date.add_years(years)\n",
    "zerosC = libor_curve.zero_rate(dates, FrequencyTypes.CONTINUOUS)\n",
    "zeros1 = libor_curve.zero_rate(dates, FrequencyTypes.ANNUAL)\n",
    "zeros2 = libor_curve.zero_rate(dates, FrequencyTypes.SEMI_ANNUAL)\n",
    "zeros4 = libor_curve.zero_rate(dates, FrequencyTypes.QUARTERLY)"
   ]
  },
  {
   "cell_type": "code",
   "execution_count": 20,
   "metadata": {},
   "outputs": [
    {
     "data": {
      "image/png": "[encoded data removed]",
      "text/plain": [
       "<Figure size 576x360 with 1 Axes>"
      ]
     },
     "metadata": {
      "needs_background": "light"
     },
     "output_type": "display_data"
    }
   ],
   "source": [
    "plt.figure(figsize=(8,5))\n",
    "plt.plot(years,zerosC*100, label=\"Zero Rates (C)\")\n",
    "plt.plot(years,zeros1*100, label=\"Zero Rates (Ann)\")\n",
    "plt.plot(years,zeros2*100, label=\"Zero Rates (SA)\")\n",
    "plt.plot(years,zeros4*100, label=\"Zero Rates (Q)\")\n",
    "plt.xlabel(\"Time\")\n",
    "plt.ylabel(\"Zero (%)\")\n",
    "plt.legend()\n",
    "plt.grid()"
   ]
  },
  {
   "cell_type": "markdown",
   "metadata": {},
   "source": [
    "Copyright (c) 2020 Dominic O'Kane"
   ]
  }
 ],
 "metadata": {
  "kernelspec": {
   "display_name": "Python 3",
   "language": "python",
   "name": "python3"
  },
  "language_info": {
   "codemirror_mode": {
    "name": "ipython",
    "version": 3
   },
   "file_extension": ".py",
   "mimetype": "text/x-python",
   "name": "python",
   "nbconvert_exporter": "python",
   "pygments_lexer": "ipython3",
   "version": "3.8.5"
  }
 },
 "nbformat": 4,
 "nbformat_minor": 4
}
