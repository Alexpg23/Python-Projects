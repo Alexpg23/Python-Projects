{
 "cells": [
  {
   "cell_type": "markdown",
   "metadata": {},
   "source": [
    "# Analysing an Interest Rate Swap - QL Comparison"
   ]
  },
  {
   "cell_type": "markdown",
   "metadata": {},
   "source": [
    "This is comparison with example in http://gouthamanbalaraman.com/blog/interest-rate-swap-quantlib-python.html"
   ]
  },
  {
   "cell_type": "code",
   "execution_count": 1,
   "metadata": {},
   "outputs": [
    {
     "name": "stdout",
     "output_type": "stream",
     "text": [
      "####################################################################\n",
      "# FINANCEPY BETA Version 0.184 - This build:  19 Oct 2020 at 09:55 #\n",
      "#      This software is distributed FREE & WITHOUT ANY WARRANTY    #\n",
      "# For info and disclaimer - https://github.com/domokane/FinancePy  #\n",
      "#      Send any bug reports or comments to quant@financepy.com     #\n",
      "####################################################################\n",
      "\n"
     ]
    }
   ],
   "source": [
    "from financepy.utils import *\n",
    "from financepy.products.rates import *\n",
    "from financepy.market.curves import *"
   ]
  },
  {
   "cell_type": "code",
   "execution_count": 2,
   "metadata": {},
   "outputs": [],
   "source": [
    "valuation_date = Date(20, 10, 2015)"
   ]
  },
  {
   "cell_type": "code",
   "execution_count": 3,
   "metadata": {},
   "outputs": [],
   "source": [
    "discount_curve = DiscountCurveFlat(valuation_date, \n",
    "                                     0.01,\n",
    "                                     FrequencyTypes.CONTINUOUS,\n",
    "                                     DayCountTypes.ACT_365F)"
   ]
  },
  {
   "cell_type": "code",
   "execution_count": 4,
   "metadata": {},
   "outputs": [],
   "source": [
    "index_curve = DiscountCurveFlat(valuation_date, \n",
    "                                  0.02,\n",
    "                                  FrequencyTypes.CONTINUOUS,\n",
    "                                  DayCountTypes.ACT_365F)"
   ]
  },
  {
   "cell_type": "markdown",
   "metadata": {},
   "source": [
    "## Creating the Swap"
   ]
  },
  {
   "cell_type": "code",
   "execution_count": 5,
   "metadata": {},
   "outputs": [],
   "source": [
    "settlement_date = valuation_date.add_weekdays(5)"
   ]
  },
  {
   "cell_type": "code",
   "execution_count": 6,
   "metadata": {},
   "outputs": [
    {
     "data": {
      "text/plain": [
       "TUE 27 OCT 2015"
      ]
     },
     "execution_count": 6,
     "metadata": {},
     "output_type": "execute_result"
    }
   ],
   "source": [
    "settlement_date"
   ]
  },
  {
   "cell_type": "code",
   "execution_count": 7,
   "metadata": {},
   "outputs": [],
   "source": [
    "maturity_date = settlement_date.add_tenor(\"10Y\")"
   ]
  },
  {
   "cell_type": "markdown",
   "metadata": {},
   "source": [
    "We begin by setting the market conventions we wish to use."
   ]
  },
  {
   "cell_type": "code",
   "execution_count": 8,
   "metadata": {},
   "outputs": [],
   "source": [
    "swapCalendarType = CalendarTypes.UNITED_STATES\n",
    "bus_day_adjust_type = BusDayAdjustTypes.MODIFIED_FOLLOWING\n",
    "date_gen_rule_type = DateGenRuleTypes.FORWARD"
   ]
  },
  {
   "cell_type": "markdown",
   "metadata": {},
   "source": [
    "We then define the Fixed Leg"
   ]
  },
  {
   "cell_type": "code",
   "execution_count": 9,
   "metadata": {},
   "outputs": [],
   "source": [
    "fixed_coupon = 0.025\n",
    "fixedFreqType = FrequencyTypes.SEMI_ANNUAL\n",
    "fixed_day_count_type = DayCountTypes.ACT_360"
   ]
  },
  {
   "cell_type": "markdown",
   "metadata": {},
   "source": [
    "And then we define the Floating Leg"
   ]
  },
  {
   "cell_type": "code",
   "execution_count": 10,
   "metadata": {},
   "outputs": [],
   "source": [
    "float_spread = 0.004\n",
    "floatFreqType = FrequencyTypes.QUARTERLY\n",
    "float_day_count_type = DayCountTypes.ACT_360"
   ]
  },
  {
   "cell_type": "markdown",
   "metadata": {},
   "source": [
    "We need to specify the size and direction of the swap."
   ]
  },
  {
   "cell_type": "code",
   "execution_count": 11,
   "metadata": {},
   "outputs": [],
   "source": [
    "swapType = SwapTypes.PAY\n",
    "notional = 10 * ONE_MILLION"
   ]
  },
  {
   "cell_type": "markdown",
   "metadata": {},
   "source": [
    "And then we define when the swap begins and ends."
   ]
  },
  {
   "cell_type": "markdown",
   "metadata": {},
   "source": [
    "We can now create the swap object."
   ]
  },
  {
   "cell_type": "code",
   "execution_count": 12,
   "metadata": {},
   "outputs": [],
   "source": [
    "swap = IborSwap(settlement_date,\n",
    "                    maturity_date,\n",
    "                    swapType,\n",
    "                    fixed_coupon,\n",
    "                    fixedFreqType,\n",
    "                    fixed_day_count_type,\n",
    "                    notional,\n",
    "                    float_spread,\n",
    "                    floatFreqType,\n",
    "                    float_day_count_type,\n",
    "                    swapCalendarType,\n",
    "                    bus_day_adjust_type,\n",
    "                    date_gen_rule_type)"
   ]
  },
  {
   "cell_type": "code",
   "execution_count": 13,
   "metadata": {},
   "outputs": [
    {
     "data": {
      "text/plain": [
       "-115054.03437833814"
      ]
     },
     "execution_count": 13,
     "metadata": {},
     "output_type": "execute_result"
    }
   ],
   "source": [
    "swap.value(valuation_date, discount_curve, index_curve)"
   ]
  },
  {
   "cell_type": "markdown",
   "metadata": {},
   "source": [
    "This is in exact agreement with QL."
   ]
  },
  {
   "cell_type": "code",
   "execution_count": 14,
   "metadata": {},
   "outputs": [
    {
     "name": "stdout",
     "output_type": "stream",
     "text": [
      "START DATE: TUE 27 OCT 2015\n",
      "MATURITY DATE: MON 27 OCT 2025\n",
      "COUPON (%): 2.5\n",
      "FIXED LEG FREQUENCY: FrequencyTypes.SEMI_ANNUAL\n",
      "FIXED LEG DAY COUNT: DayCountTypes.ACT_360\n",
      "VALUATION DATE TUE 20 OCT 2015\n",
      "PAYMENT_DATE     YEAR_FRAC        FLOW         DF         DF*FLOW       CUM_PV\n",
      "TUE 20 OCT 2015          -            -   1.00000000            -            -\n",
      "WED 27 APR 2016  0.5083333    127083.33   0.99480805    126423.52    126423.52\n",
      "THU 27 OCT 2016  0.5083333    127083.33   0.98983286    125791.26    252214.78\n",
      "THU 27 APR 2017  0.5055556    126388.89   0.98490954    124481.62    376696.40\n",
      "FRI 27 OCT 2017  0.5083333    127083.33   0.97998386    124539.62    501236.02\n",
      "FRI 27 APR 2018  0.5055556    126388.89   0.97510953    123243.01    624479.03\n",
      "MON 29 OCT 2018  0.5138889    128472.22   0.97017969    124641.14    749120.17\n",
      "MON 29 APR 2019  0.5055556    126388.89   0.96535413    122010.04    871130.21\n",
      "MON 28 OCT 2019  0.5055556    126388.89   0.96055256    121403.17    992533.38\n",
      "MON 27 APR 2020  0.5055556    126388.89   0.95577488    120799.32   1113332.70\n",
      "TUE 27 OCT 2020  0.5083333    127083.33   0.95099490    120855.60   1234188.30\n",
      "TUE 27 APR 2021  0.5055556    126388.89   0.94626476    119597.35   1353785.66\n",
      "WED 27 OCT 2021  0.5083333    127083.33   0.94153235    119653.07   1473438.72\n",
      "WED 27 APR 2022  0.5055556    126388.89   0.93684927    118407.34   1591846.06\n",
      "THU 27 OCT 2022  0.5083333    127083.33   0.93216394    118462.50   1710308.56\n",
      "THU 27 APR 2023  0.5055556    126388.89   0.92752746    117229.17   1827537.73\n",
      "FRI 27 OCT 2023  0.5083333    127083.33   0.92288876    117283.78   1944821.51\n",
      "MON 29 APR 2024  0.5138889    128472.22   0.91822294    117966.14   2062787.65\n",
      "MON 28 OCT 2024  0.5055556    126388.89   0.91365580    115475.94   2178263.59\n",
      "MON 28 APR 2025  0.5055556    126388.89   0.90911137    114901.58   2293165.17\n",
      "MON 27 OCT 2025  0.5055556    126388.89   0.90458955    114330.07   2407495.23\n"
     ]
    }
   ],
   "source": [
    "swap.print_fixed_leg_pv()"
   ]
  },
  {
   "cell_type": "code",
   "execution_count": 15,
   "metadata": {},
   "outputs": [
    {
     "name": "stdout",
     "output_type": "stream",
     "text": [
      "START DATE: TUE 27 OCT 2015\n",
      "MATURITY DATE: MON 27 OCT 2025\n",
      "SPREAD COUPON (%): 0.4\n",
      "FLOAT LEG FREQUENCY: FrequencyTypes.QUARTERLY\n",
      "FLOAT LEG DAY COUNT: DayCountTypes.ACT_360\n",
      "VALUATION DATE TUE 20 OCT 2015\n",
      "         *** FIRST FLOATING RATE PAYMENT IS IMPLIED ***\n",
      "PAYMENT_DATE     YEAR_FRAC    RATE(%)       FLOW         DF         DF*FLOW       CUM_PV\n",
      "TUE 20 OCT 2015          -          -            -   1.00000000            -            -\n",
      "WED 27 JAN 2016  0.2555556    1.97758     60760.46   0.99729135     60595.88     60595.88\n",
      "WED 27 APR 2016  0.2527778    1.97753     60098.65   0.99480805     59786.62    120382.50\n",
      "WED 27 JUL 2016  0.2527778    1.97753     60098.65   0.99233093     59637.75    180020.24\n",
      "THU 27 OCT 2016  0.2555556    1.97758     60760.46   0.98983286     60142.70    240162.94\n",
      "FRI 27 JAN 2017  0.2555556    1.97758     60760.46   0.98734108     59991.30    300154.24\n",
      "THU 27 APR 2017  0.2500000    1.97747     59436.87   0.98490954     58539.94    358694.18\n",
      "THU 27 JUL 2017  0.2527778    1.97753     60098.65   0.98245707     59044.34    417738.52\n",
      "FRI 27 OCT 2017  0.2555556    1.97758     60760.46   0.97998386     59544.27    477282.79\n",
      "MON 29 JAN 2018  0.2611111    1.97769     62084.17   0.97746331     60685.00    537967.78\n",
      "FRI 27 APR 2018  0.2444444    1.97737     58113.40   0.97510953     56666.93    594634.71\n",
      "FRI 27 JUL 2018  0.2527778    1.97753     60098.65   0.97268146     58456.84    653091.55\n",
      "MON 29 OCT 2018  0.2611111    1.97769     62084.17   0.97017969     60232.80    713324.35\n",
      "MON 28 JAN 2019  0.2527778    1.97753     60098.65   0.96776390     58161.30    771485.65\n",
      "MON 29 APR 2019  0.2527778    1.97753     60098.65   0.96535413     58016.48    829502.13\n",
      "MON 29 JUL 2019  0.2527778    1.97753     60098.65   0.96295035     57872.01    887374.15\n",
      "MON 28 OCT 2019  0.2527778    1.97753     60098.65   0.96055256     57727.91    945102.06\n",
      "MON 27 JAN 2020  0.2527778    1.97753     60098.65   0.95816074     57584.16   1002686.22\n",
      "MON 27 APR 2020  0.2527778    1.97753     60098.65   0.95577488     57440.78   1060127.00\n",
      "MON 27 JUL 2020  0.2527778    1.97753     60098.65   0.95339496     57297.75   1117424.75\n",
      "TUE 27 OCT 2020  0.2555556    1.97758     60760.46   0.95099490     57782.89   1175207.63\n",
      "WED 27 JAN 2021  0.2555556    1.97758     60760.46   0.94860089     57637.42   1232845.06\n",
      "TUE 27 APR 2021  0.2500000    1.97747     59436.87   0.94626476     56243.01   1289088.07\n",
      "TUE 27 JUL 2021  0.2527778    1.97753     60098.65   0.94390852     56727.63   1345815.70\n",
      "WED 27 OCT 2021  0.2555556    1.97758     60760.46   0.94153235     57207.94   1403023.63\n",
      "THU 27 JAN 2022  0.2555556    1.97758     60760.46   0.93916216     57063.92   1460087.56\n",
      "WED 27 APR 2022  0.2500000    1.97747     59436.87   0.93684927     55683.39   1515770.94\n",
      "WED 27 JUL 2022  0.2527778    1.97753     60098.65   0.93451647     56163.18   1571934.12\n",
      "THU 27 OCT 2022  0.2555556    1.97758     60760.46   0.93216394     56638.71   1628572.83\n",
      "FRI 27 JAN 2023  0.2555556    1.97758     60760.46   0.92981734     56496.13   1685068.95\n",
      "THU 27 APR 2023  0.2500000    1.97747     59436.87   0.92752746     55129.33   1740198.28\n",
      "THU 27 JUL 2023  0.2527778    1.97753     60098.65   0.92521788     55604.34   1795802.62\n",
      "FRI 27 OCT 2023  0.2555556    1.97758     60760.46   0.92288876     56075.14   1851877.77\n",
      "MON 29 JAN 2024  0.2611111    1.97769     62084.17   0.92051506     57149.41   1909027.18\n",
      "MON 29 APR 2024  0.2527778    1.97753     60098.65   0.91822294     55183.96   1964211.14\n",
      "MON 29 JUL 2024  0.2527778    1.97753     60098.65   0.91593652     55046.55   2019257.68\n",
      "MON 28 OCT 2024  0.2527778    1.97753     60098.65   0.91365580     54909.48   2074167.16\n",
      "MON 27 JAN 2025  0.2527778    1.97753     60098.65   0.91138075     54772.75   2128939.91\n",
      "MON 28 APR 2025  0.2527778    1.97753     60098.65   0.90911137     54636.36   2183576.27\n",
      "MON 28 JUL 2025  0.2527778    1.97753     60098.65   0.90684764     54500.32   2238076.59\n",
      "MON 27 OCT 2025  0.2527778    1.97753     60098.65   0.90458955     54364.61   2292441.20\n"
     ]
    }
   ],
   "source": [
    "swap.print_float_leg_pv()"
   ]
  },
  {
   "cell_type": "markdown",
   "metadata": {},
   "source": [
    "Copyright (c) 2020 Dominic O'Kane"
   ]
  }
 ],
 "metadata": {
  "kernelspec": {
   "display_name": "Python 3",
   "language": "python",
   "name": "python3"
  },
  "language_info": {
   "codemirror_mode": {
    "name": "ipython",
    "version": 3
   },
   "file_extension": ".py",
   "mimetype": "text/x-python",
   "name": "python",
   "nbconvert_exporter": "python",
   "pygments_lexer": "ipython3",
   "version": "3.7.6"
  }
 },
 "nbformat": 4,
 "nbformat_minor": 4
}
