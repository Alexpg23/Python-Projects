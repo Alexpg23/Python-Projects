{
 "cells": [
  {
   "cell_type": "markdown",
   "metadata": {},
   "source": [
    "# Valuing European-style Swaptions with QL Example"
   ]
  },
  {
   "cell_type": "markdown",
   "metadata": {},
   "source": [
    "We value a European swaption using Black's model and try to replicate a QL example at http://khandrikacm.blogspot.com/2014/03/european-style-interest-rate-swaption.html"
   ]
  },
  {
   "cell_type": "code",
   "execution_count": 14,
   "metadata": {},
   "outputs": [],
   "source": [
    "import numpy as np\n",
    "import matplotlib.pyplot as plt"
   ]
  },
  {
   "cell_type": "code",
   "execution_count": 16,
   "metadata": {},
   "outputs": [],
   "source": [
    "from financepy.products.rates import *\n",
    "from financepy.utils import *\n",
    "from financepy.market.curves import *\n",
    "from financepy.models.black import Black"
   ]
  },
  {
   "cell_type": "markdown",
   "metadata": {},
   "source": [
    "## Building a Ibor Discount Curve"
   ]
  },
  {
   "cell_type": "code",
   "execution_count": 17,
   "metadata": {},
   "outputs": [],
   "source": [
    "valuation_date = Date(28, 2, 2014)\n",
    "settlement_date = Date(4, 3, 2014)"
   ]
  },
  {
   "cell_type": "markdown",
   "metadata": {},
   "source": [
    "We have a vector of dates and zero rates"
   ]
  },
  {
   "cell_type": "code",
   "execution_count": 18,
   "metadata": {},
   "outputs": [],
   "source": [
    "depoDCCType = DayCountTypes.THIRTY_E_360_ISDA\n",
    "depos = []\n",
    "\n",
    "depo = IborDeposit(settlement_date, \"1W\", 0.0023, depoDCCType); depos.append(depo)\n",
    "depo = IborDeposit(settlement_date, \"1M\", 0.0023, depoDCCType); depos.append(depo)\n",
    "depo = IborDeposit(settlement_date, \"3M\", 0.0023, depoDCCType); depos.append(depo)\n",
    "depo = IborDeposit(settlement_date, \"6M\", 0.0023, depoDCCType); depos.append(depo)\n",
    "\n",
    "# No convexity correction provided so I omit interest rate futures\n",
    "\n",
    "swaps = []\n",
    "swapType = SwapTypes.PAY\n",
    "fixedDCCType = DayCountTypes.ACT_365F\n",
    "fixedFreqType = FrequencyTypes.SEMI_ANNUAL\n",
    "\n",
    "swap = IborSwap(settlement_date, \"3Y\", swapType, 0.00790, fixedFreqType, fixedDCCType); swaps.append(swap)\n",
    "swap = IborSwap(settlement_date, \"4Y\", swapType, 0.01200, fixedFreqType, fixedDCCType); swaps.append(swap)\n",
    "swap = IborSwap(settlement_date, \"5Y\", swapType, 0.01570, fixedFreqType, fixedDCCType); swaps.append(swap)\n",
    "swap = IborSwap(settlement_date, \"6Y\", swapType, 0.01865, fixedFreqType, fixedDCCType); swaps.append(swap)\n",
    "swap = IborSwap(settlement_date, \"7Y\", swapType, 0.02160, fixedFreqType, fixedDCCType); swaps.append(swap)\n",
    "swap = IborSwap(settlement_date, \"8Y\", swapType, 0.02350, fixedFreqType, fixedDCCType); swaps.append(swap)\n",
    "swap = IborSwap(settlement_date, \"9Y\", swapType, 0.02540, fixedFreqType, fixedDCCType); swaps.append(swap)\n",
    "swap = IborSwap(settlement_date, \"10Y\", swapType, 0.0273, fixedFreqType, fixedDCCType); swaps.append(swap)\n",
    "swap = IborSwap(settlement_date, \"15Y\", swapType, 0.0297, fixedFreqType, fixedDCCType); swaps.append(swap)\n",
    "swap = IborSwap(settlement_date, \"20Y\", swapType, 0.0316, fixedFreqType, fixedDCCType); swaps.append(swap)\n",
    "swap = IborSwap(settlement_date, \"25Y\", swapType, 0.0335, fixedFreqType, fixedDCCType); swaps.append(swap)\n",
    "swap = IborSwap(settlement_date, \"30Y\", swapType, 0.0354, fixedFreqType, fixedDCCType); swaps.append(swap)\n",
    "\n",
    "libor_curve = IborSingleCurve(valuation_date, depos, [], swaps)"
   ]
  },
  {
   "cell_type": "code",
   "execution_count": 19,
   "metadata": {},
   "outputs": [],
   "source": [
    "exercise_date = settlement_date.add_tenor(\"5Y\")\n",
    "swapMaturityDate = exercise_date.add_tenor(\"5Y\")\n",
    "\n",
    "swapFixedCoupon = 0.040852\n",
    "swapFixedFrequencyType = FrequencyTypes.SEMI_ANNUAL\n",
    "swapFixedDayCountType = DayCountTypes.THIRTY_E_360_ISDA\n",
    "\n",
    "swapFloatFrequencyType = FrequencyTypes.QUARTERLY\n",
    "swapFloatDayCountType = DayCountTypes.ACT_360\n",
    "\n",
    "swapNotional = ONE_MILLION\n",
    "swapType = SwapTypes.PAY \n",
    "calendar_type = CalendarTypes.TARGET\n",
    "bus_day_adjust_type = BusDayAdjustTypes.MODIFIED_FOLLOWING\n",
    "date_gen_rule_type = DateGenRuleTypes.BACKWARD"
   ]
  },
  {
   "cell_type": "code",
   "execution_count": 20,
   "metadata": {},
   "outputs": [],
   "source": [
    "swaption = IborSwaption(settlement_date,\n",
    "                            exercise_date,\n",
    "                            swapMaturityDate,\n",
    "                            swapType,\n",
    "                            swapFixedCoupon,\n",
    "                            swapFixedFrequencyType,\n",
    "                            swapFixedDayCountType, \n",
    "                            swapNotional, \n",
    "                            swapFloatFrequencyType,\n",
    "                            swapFloatDayCountType,\n",
    "                            calendar_type, \n",
    "                            bus_day_adjust_type,\n",
    "                            date_gen_rule_type)"
   ]
  },
  {
   "cell_type": "code",
   "execution_count": 21,
   "metadata": {},
   "outputs": [
    {
     "name": "stdout",
     "output_type": "stream",
     "text": [
      "OBJECT TYPE: IborSwaption\n",
      "SETTLEMENT DATE: 04-MAR-2014\n",
      "EXERCISE DATE: 04-MAR-2019\n",
      "SWAP FIXED LEG TYPE: SwapTypes.PAY\n",
      "SWAP MATURITY DATE: 04-MAR-2024\n",
      "SWAP NOTIONAL: 1000000\n",
      "FIXED COUPON: 4.0852\n",
      "FIXED FREQUENCY: FrequencyTypes.SEMI_ANNUAL\n",
      "FIXED DAY COUNT: DayCountTypes.THIRTY_E_360_ISDA\n",
      "FLOAT FREQUENCY: FrequencyTypes.QUARTERLY\n",
      "FLOAT DAY COUNT: DayCountTypes.ACT_360\n",
      "\n"
     ]
    }
   ],
   "source": [
    "print(swaption)"
   ]
  },
  {
   "cell_type": "code",
   "execution_count": 22,
   "metadata": {},
   "outputs": [],
   "source": [
    "model = Black(0.1533)"
   ]
  },
  {
   "cell_type": "code",
   "execution_count": 23,
   "metadata": {},
   "outputs": [
    {
     "data": {
      "text/plain": [
       "23177.738747208212"
      ]
     },
     "execution_count": 23,
     "metadata": {},
     "output_type": "execute_result"
    }
   ],
   "source": [
    "swaption.value(settlement_date, libor_curve, model)"
   ]
  },
  {
   "cell_type": "markdown",
   "metadata": {},
   "source": [
    "This is close to a value of 23162 using QL"
   ]
  },
  {
   "cell_type": "markdown",
   "metadata": {},
   "source": [
    "## Internals"
   ]
  },
  {
   "cell_type": "code",
   "execution_count": 24,
   "metadata": {},
   "outputs": [
    {
     "name": "stdout",
     "output_type": "stream",
     "text": [
      "OBJECT TYPE: IborSwaption\n",
      "SETTLEMENT DATE: 04-MAR-2014\n",
      "EXERCISE DATE: 04-MAR-2019\n",
      "SWAP FIXED LEG TYPE: SwapTypes.PAY\n",
      "SWAP MATURITY DATE: 04-MAR-2024\n",
      "SWAP NOTIONAL: 1000000\n",
      "FIXED COUPON: 4.0852\n",
      "FIXED FREQUENCY: FrequencyTypes.SEMI_ANNUAL\n",
      "FIXED DAY COUNT: DayCountTypes.THIRTY_E_360_ISDA\n",
      "FLOAT FREQUENCY: FrequencyTypes.QUARTERLY\n",
      "FLOAT DAY COUNT: DayCountTypes.ACT_360\n",
      "PV01: 4.160180810139469\n",
      "FWD SWAP RATE: 4.087007644320825\n",
      "FWD DF TO EXPIRY: 0.923742195746149\n"
     ]
    }
   ],
   "source": [
    "print(swaption)"
   ]
  },
  {
   "cell_type": "markdown",
   "metadata": {},
   "source": [
    "We can see that the forward swap rate almost equals the fixed coupon. The underlying swap is close to being ATM forward."
   ]
  },
  {
   "cell_type": "code",
   "execution_count": 25,
   "metadata": {},
   "outputs": [
    {
     "name": "stdout",
     "output_type": "stream",
     "text": [
      "START DATE: 04-MAR-2019\n",
      "MATURITY DATE: 04-MAR-2024\n",
      "COUPON (%): 4.0852\n",
      "FREQUENCY: FrequencyTypes.SEMI_ANNUAL\n",
      "DAY COUNT: DayCountTypes.THIRTY_E_360_ISDA\n",
      "PAY_DATE     ACCR_START   ACCR_END     DAYS  YEARFRAC    RATE      PAYMENT       DF          PV        CUM PV\n",
      "04-SEP-2019  04-MAR-2019  04-SEP-2019   180  0.500000   4.08520     20426.00  0.90796633     18546.12     18546.12\n",
      "04-MAR-2020  04-SEP-2019  04-MAR-2020   180  0.500000   4.08520     20426.00  0.89260443     18232.34     36778.46\n",
      "04-SEP-2020  04-MAR-2020  04-SEP-2020   180  0.500000   4.08520     20426.00  0.87443197     17861.15     54639.61\n",
      "04-MAR-2021  04-SEP-2020  04-MAR-2021   180  0.500000   4.08520     20426.00  0.85691681     17503.38     72142.99\n",
      "06-SEP-2021  04-MAR-2021  06-SEP-2021   182  0.505556   4.08520     20652.96  0.84037737     17356.28     89499.26\n",
      "04-MAR-2022  06-SEP-2021  04-MAR-2022   178  0.494444   4.08520     20199.04  0.82476188     16659.40    106158.67\n",
      "05-SEP-2022  04-MAR-2022  05-SEP-2022   181  0.502778   4.08520     20539.48  0.80715192     16578.48    122737.15\n",
      "06-MAR-2023  05-SEP-2022  06-MAR-2023   181  0.502778   4.08520     20539.48  0.79019447     16230.18    138967.33\n",
      "04-SEP-2023  06-MAR-2023  04-SEP-2023   178  0.494444   4.08520     20199.04  0.77174923     15588.60    154555.92\n",
      "04-MAR-2024  04-SEP-2023  04-MAR-2024   180  0.500000   4.08520     20426.00  0.75373455     15395.78    169951.71\n"
     ]
    }
   ],
   "source": [
    "swaption.print_swap_fixed_leg()"
   ]
  },
  {
   "cell_type": "code",
   "execution_count": 26,
   "metadata": {},
   "outputs": [
    {
     "name": "stdout",
     "output_type": "stream",
     "text": [
      "START DATE: 04-MAR-2019\n",
      "MATURITY DATE: 04-MAR-2024\n",
      "SPREAD (BPS): 0.0\n",
      "FREQUENCY: FrequencyTypes.QUARTERLY\n",
      "DAY COUNT: DayCountTypes.ACT_360\n",
      "Payments not calculated.\n"
     ]
    }
   ],
   "source": [
    "swaption.print_swap_float_leg()"
   ]
  },
  {
   "cell_type": "markdown",
   "metadata": {},
   "source": [
    "Copyright (c) 2020 Dominic O'Kane"
   ]
  }
 ],
 "metadata": {
  "kernelspec": {
   "display_name": "Python 3",
   "language": "python",
   "name": "python3"
  },
  "language_info": {
   "codemirror_mode": {
    "name": "ipython",
    "version": 3
   },
   "file_extension": ".py",
   "mimetype": "text/x-python",
   "name": "python",
   "nbconvert_exporter": "python",
   "pygments_lexer": "ipython3",
   "version": "3.8.5"
  }
 },
 "nbformat": 4,
 "nbformat_minor": 4
}
