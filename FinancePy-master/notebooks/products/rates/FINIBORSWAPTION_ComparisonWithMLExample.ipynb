{
 "cells": [
  {
   "cell_type": "markdown",
   "metadata": {},
   "source": [
    "# Valuing European-Style Swaptions with Matlab Example"
   ]
  },
  {
   "cell_type": "markdown",
   "metadata": {},
   "source": [
    "We value a European swaption using Black's model and try to replicate a ML example at https://fr.mathworks.com/help/fininst/swaptionbyblk.html"
   ]
  },
  {
   "cell_type": "code",
   "execution_count": 1,
   "metadata": {},
   "outputs": [],
   "source": [
    "import numpy as np\n",
    "import matplotlib.pyplot as plt"
   ]
  },
  {
   "cell_type": "code",
   "execution_count": 4,
   "metadata": {},
   "outputs": [],
   "source": [
    "from financepy.products.rates import *\n",
    "from financepy.utils import *\n",
    "from financepy.market.curves import *\n",
    "from financepy.market.curves.discount_curve_flat import DiscountCurveFlat\n",
    "from financepy.market.curves.interpolator import InterpTypes"
   ]
  },
  {
   "cell_type": "code",
   "execution_count": 5,
   "metadata": {},
   "outputs": [],
   "source": [
    "valuation_date = Date(1, 1, 2010)"
   ]
  },
  {
   "cell_type": "code",
   "execution_count": 6,
   "metadata": {},
   "outputs": [],
   "source": [
    "libor_curve = DiscountCurveFlat(valuation_date, 0.06, \n",
    "                                  FrequencyTypes.CONTINUOUS, \n",
    "                                  DayCountTypes.THIRTY_E_360)"
   ]
  },
  {
   "cell_type": "markdown",
   "metadata": {},
   "source": [
    "### Defining the swaption"
   ]
  },
  {
   "cell_type": "code",
   "execution_count": 7,
   "metadata": {},
   "outputs": [],
   "source": [
    "settlement_date = Date(1, 1, 2011)\n",
    "exercise_date = Date(1, 1, 2016)\n",
    "maturity_date = Date(1, 1, 2019)\n",
    "fixed_coupon = 0.062\n",
    "fixed_frequency_type = FrequencyTypes.SEMI_ANNUAL\n",
    "fixed_day_count_type = DayCountTypes.THIRTY_E_360\n",
    "float_frequency_type = FrequencyTypes.SEMI_ANNUAL\n",
    "float_day_count_type = DayCountTypes.THIRTY_E_360\n",
    "notional = 100.0\n",
    "swapType = SwapTypes.PAY  \n",
    "calendar_type = CalendarTypes.NONE\n",
    "bus_day_adjust_type = BusDayAdjustTypes.NONE\n",
    "date_gen_rule_type = DateGenRuleTypes.BACKWARD"
   ]
  },
  {
   "cell_type": "code",
   "execution_count": 8,
   "metadata": {},
   "outputs": [],
   "source": [
    "swaption = IborSwaption(settlement_date, \n",
    "                            exercise_date,\n",
    "                            maturity_date,\n",
    "                            swapType,\n",
    "                            fixed_coupon,\n",
    "                            fixed_frequency_type,\n",
    "                            fixed_day_count_type, \n",
    "                            notional, \n",
    "                            float_frequency_type,\n",
    "                            float_day_count_type,\n",
    "                            calendar_type, \n",
    "                            bus_day_adjust_type,\n",
    "                            date_gen_rule_type)"
   ]
  },
  {
   "cell_type": "code",
   "execution_count": 9,
   "metadata": {},
   "outputs": [
    {
     "name": "stdout",
     "output_type": "stream",
     "text": [
      "OBJECT TYPE: IborSwaption\n",
      "SETTLEMENT DATE: 01-JAN-2011\n",
      "EXERCISE DATE: 01-JAN-2016\n",
      "SWAP FIXED LEG TYPE: SwapTypes.PAY\n",
      "SWAP MATURITY DATE: 01-JAN-2019\n",
      "SWAP NOTIONAL: 100.0\n",
      "FIXED COUPON: 6.2\n",
      "FIXED FREQUENCY: FrequencyTypes.SEMI_ANNUAL\n",
      "FIXED DAY COUNT: DayCountTypes.THIRTY_E_360\n",
      "FLOAT FREQUENCY: FrequencyTypes.SEMI_ANNUAL\n",
      "FLOAT DAY COUNT: DayCountTypes.THIRTY_E_360\n",
      "\n"
     ]
    }
   ],
   "source": [
    "print(swaption)"
   ]
  },
  {
   "cell_type": "markdown",
   "metadata": {},
   "source": [
    "## Valuation using Black's Model"
   ]
  },
  {
   "cell_type": "code",
   "execution_count": 10,
   "metadata": {},
   "outputs": [],
   "source": [
    "model = Black(0.20)"
   ]
  },
  {
   "cell_type": "code",
   "execution_count": 11,
   "metadata": {},
   "outputs": [
    {
     "data": {
      "text/plain": [
       "2.0715673101223606"
      ]
     },
     "execution_count": 11,
     "metadata": {},
     "output_type": "execute_result"
    }
   ],
   "source": [
    "swaption.value(valuation_date, libor_curve, model)"
   ]
  },
  {
   "cell_type": "markdown",
   "metadata": {},
   "source": [
    "The MATLAB price is 2.071. "
   ]
  },
  {
   "cell_type": "code",
   "execution_count": 12,
   "metadata": {},
   "outputs": [
    {
     "name": "stdout",
     "output_type": "stream",
     "text": [
      "OBJECT TYPE: IborSwaption\n",
      "SETTLEMENT DATE: 01-JAN-2011\n",
      "EXERCISE DATE: 01-JAN-2016\n",
      "SWAP FIXED LEG TYPE: SwapTypes.PAY\n",
      "SWAP MATURITY DATE: 01-JAN-2019\n",
      "SWAP NOTIONAL: 100.0\n",
      "FIXED COUPON: 6.2\n",
      "FIXED FREQUENCY: FrequencyTypes.SEMI_ANNUAL\n",
      "FIXED DAY COUNT: DayCountTypes.THIRTY_E_360\n",
      "FLOAT FREQUENCY: FrequencyTypes.SEMI_ANNUAL\n",
      "FLOAT DAY COUNT: DayCountTypes.THIRTY_E_360\n",
      "PV01: 1.8868795344638085\n",
      "FWD SWAP RATE: 6.090906790703007\n",
      "FWD DF TO EXPIRY: 0.697676326071031\n"
     ]
    }
   ],
   "source": [
    "print(swaption)"
   ]
  },
  {
   "cell_type": "markdown",
   "metadata": {},
   "source": [
    "We can see that the forward swap rate almost equals the fixed coupon. The underlying swap is close to being ATM forward."
   ]
  },
  {
   "cell_type": "code",
   "execution_count": 13,
   "metadata": {},
   "outputs": [
    {
     "name": "stdout",
     "output_type": "stream",
     "text": [
      "START DATE: 01-JAN-2016\n",
      "MATURITY DATE: 01-JAN-2019\n",
      "COUPON (%): 6.2\n",
      "FREQUENCY: FrequencyTypes.SEMI_ANNUAL\n",
      "DAY COUNT: DayCountTypes.THIRTY_E_360\n",
      "PAY_DATE     ACCR_START   ACCR_END     DAYS  YEARFRAC    RATE      PAYMENT       DF          PV        CUM PV\n",
      "01-JUL-2016  01-JAN-2016  01-JUL-2016   180  0.500000   6.20000         3.10  0.67705687         2.10         2.10\n",
      "01-JAN-2017  01-JUL-2016  01-JAN-2017   180  0.500000   6.20000         3.10  0.65704682         2.04         4.14\n",
      "01-JUL-2017  01-JAN-2017  01-JUL-2017   180  0.500000   6.20000         3.10  0.63762815         1.98         6.11\n",
      "01-JAN-2018  01-JUL-2017  01-JAN-2018   180  0.500000   6.20000         3.10  0.61878339         1.92         8.03\n",
      "01-JUL-2018  01-JAN-2018  01-JUL-2018   180  0.500000   6.20000         3.10  0.60049558         1.86         9.89\n",
      "01-JAN-2019  01-JUL-2018  01-JAN-2019   180  0.500000   6.20000         3.10  0.58274825         1.81        11.70\n"
     ]
    }
   ],
   "source": [
    "swaption.print_swap_fixed_leg()"
   ]
  },
  {
   "cell_type": "markdown",
   "metadata": {},
   "source": [
    "## Increasing Yield Curve"
   ]
  },
  {
   "cell_type": "code",
   "execution_count": 14,
   "metadata": {},
   "outputs": [],
   "source": [
    "valuation_date = Date(1, 1, 2010)"
   ]
  },
  {
   "cell_type": "code",
   "execution_count": 15,
   "metadata": {},
   "outputs": [],
   "source": [
    "dates = [Date(1,1,2011), Date(1,1,2012), Date(1,1,2013),\n",
    "         Date(1,1,2014), Date(1,1,2015)]\n",
    "rates = [0.03, 0.034, 0.037, 0.039, 0.04]\n",
    "\n",
    "frequencyType = FrequencyTypes.CONTINUOUS\n",
    "day_count_type = DayCountTypes.THIRTY_E_360"
   ]
  },
  {
   "cell_type": "code",
   "execution_count": 16,
   "metadata": {},
   "outputs": [],
   "source": [
    "libor_curve = DiscountCurveZeros(valuation_date, dates, rates, frequencyType, \n",
    "                                   day_count_type, InterpTypes.LINEAR_ZERO_RATES)"
   ]
  },
  {
   "cell_type": "code",
   "execution_count": 17,
   "metadata": {},
   "outputs": [
    {
     "name": "stdout",
     "output_type": "stream",
     "text": [
      "OBJECT TYPE: DiscountCurveZeros\n",
      "VALUATION DATE: 01-JAN-2010\n",
      "FREQUENCY TYPE: FrequencyTypes.CONTINUOUS\n",
      "DAY COUNT TYPE: DayCountTypes.THIRTY_E_360\n",
      "INTERP TYPE: InterpTypes.LINEAR_ZERO_RATES\n",
      "DATES: ZERO RATES\n",
      " 01-JAN-2011:  0.0300000\n",
      " 01-JAN-2012:  0.0340000\n",
      " 01-JAN-2013:  0.0370000\n",
      " 01-JAN-2014:  0.0390000\n",
      " 01-JAN-2015:  0.0400000\n",
      "\n"
     ]
    }
   ],
   "source": [
    "print(libor_curve)"
   ]
  },
  {
   "cell_type": "code",
   "execution_count": 18,
   "metadata": {},
   "outputs": [],
   "source": [
    "settlement_date = Date(1, 1, 2011)\n",
    "exercise_date = Date(1, 1, 2012)\n",
    "maturity_date = Date(1, 1, 2017)\n",
    "fixed_coupon = 0.03\n",
    "fixed_frequency_type = FrequencyTypes.SEMI_ANNUAL\n",
    "fixed_day_count_type = DayCountTypes.THIRTY_E_360\n",
    "notional = 1000.0\n",
    "swaptionType = SwapTypes.RECEIVE  "
   ]
  },
  {
   "cell_type": "code",
   "execution_count": 19,
   "metadata": {},
   "outputs": [],
   "source": [
    "swaption = IborSwaption(settlement_date, \n",
    "                            exercise_date,\n",
    "                            maturity_date,\n",
    "                            swaptionType,\n",
    "                            fixed_coupon,\n",
    "                            fixed_frequency_type,\n",
    "                            fixed_day_count_type, \n",
    "                            notional)"
   ]
  },
  {
   "cell_type": "code",
   "execution_count": 20,
   "metadata": {},
   "outputs": [],
   "source": [
    "model = Black(0.21)"
   ]
  },
  {
   "cell_type": "code",
   "execution_count": 21,
   "metadata": {},
   "outputs": [
    {
     "data": {
      "text/plain": [
       "0.5775558943650441"
      ]
     },
     "execution_count": 21,
     "metadata": {},
     "output_type": "execute_result"
    }
   ],
   "source": [
    "swaption.value(valuation_date, libor_curve, model)"
   ]
  },
  {
   "cell_type": "markdown",
   "metadata": {},
   "source": [
    "This differs from Matlab who find 0.5771."
   ]
  },
  {
   "cell_type": "code",
   "execution_count": 22,
   "metadata": {},
   "outputs": [
    {
     "name": "stdout",
     "output_type": "stream",
     "text": [
      "OBJECT TYPE: IborSwaption\n",
      "SETTLEMENT DATE: 01-JAN-2011\n",
      "EXERCISE DATE: 01-JAN-2012\n",
      "SWAP FIXED LEG TYPE: SwapTypes.RECEIVE\n",
      "SWAP MATURITY DATE: 01-JAN-2017\n",
      "SWAP NOTIONAL: 1000.0\n",
      "FIXED COUPON: 3.0\n",
      "FIXED FREQUENCY: FrequencyTypes.SEMI_ANNUAL\n",
      "FIXED DAY COUNT: DayCountTypes.THIRTY_E_360\n",
      "FLOAT FREQUENCY: FrequencyTypes.QUARTERLY\n",
      "FLOAT DAY COUNT: DayCountTypes.THIRTY_E_360\n",
      "PV01: 4.158509036040892\n",
      "FWD SWAP RATE: 4.293863542920198\n",
      "FWD DF TO EXPIRY: 0.9342604735772135\n"
     ]
    }
   ],
   "source": [
    "print(swaption)"
   ]
  },
  {
   "cell_type": "markdown",
   "metadata": {},
   "source": [
    "Let's just check the swap rate"
   ]
  },
  {
   "cell_type": "code",
   "execution_count": 23,
   "metadata": {},
   "outputs": [
    {
     "data": {
      "text/plain": [
       "0.04293811513331629"
      ]
     },
     "execution_count": 23,
     "metadata": {},
     "output_type": "execute_result"
    }
   ],
   "source": [
    "libor_curve.swap_rate(exercise_date, \n",
    "                   maturity_date,\n",
    "                   FrequencyTypes.SEMI_ANNUAL, \n",
    "                   DayCountTypes.THIRTY_E_360)"
   ]
  },
  {
   "cell_type": "markdown",
   "metadata": {},
   "source": [
    "As required, it's the same."
   ]
  },
  {
   "cell_type": "code",
   "execution_count": 24,
   "metadata": {},
   "outputs": [
    {
     "name": "stdout",
     "output_type": "stream",
     "text": [
      "START DATE: 01-JAN-2012\n",
      "MATURITY DATE: 02-JAN-2017\n",
      "COUPON (%): 3.0\n",
      "FREQUENCY: FrequencyTypes.SEMI_ANNUAL\n",
      "DAY COUNT: DayCountTypes.THIRTY_E_360\n",
      "PAY_DATE     ACCR_START   ACCR_END     DAYS  YEARFRAC    RATE      PAYMENT       DF          PV        CUM PV\n",
      "02-JUL-2012  01-JAN-2012  02-JUL-2012   181  0.502778   3.00000        15.08  0.91496500        13.80        13.80\n",
      "01-JAN-2013  02-JUL-2012  01-JAN-2013   179  0.497222   3.00000        14.92  0.89493875        13.35        27.15\n",
      "01-JUL-2013  01-JAN-2013  01-JUL-2013   180  0.500000   3.00000        15.00  0.87546509        13.13        40.28\n",
      "01-JAN-2014  01-JUL-2013  01-JAN-2014   180  0.500000   3.00000        15.00  0.85555919        12.83        53.12\n",
      "01-JUL-2014  01-JAN-2014  01-JUL-2014   180  0.500000   3.00000        15.00  0.83715169        12.56        65.67\n",
      "01-JAN-2015  01-JUL-2014  01-JAN-2015   180  0.500000   3.00000        15.00  0.81873075        12.28        77.95\n",
      "01-JUL-2015  01-JAN-2015  01-JUL-2015   180  0.500000   3.00000        15.00  0.80251880        12.04        89.99\n",
      "01-JAN-2016  01-JUL-2015  01-JAN-2016   180  0.500000   3.00000        15.00  0.78662786        11.80       101.79\n",
      "01-JUL-2016  01-JAN-2016  01-JUL-2016   180  0.500000   3.00000        15.00  0.77105159        11.57       113.36\n",
      "02-JAN-2017  01-JUL-2016  02-JAN-2017   181  0.502778   3.00000        15.08  0.75569977        11.40       124.76\n"
     ]
    }
   ],
   "source": [
    "swaption.print_swap_fixed_leg()"
   ]
  },
  {
   "cell_type": "markdown",
   "metadata": {},
   "source": [
    "Differences with Matlab are likely due to rate compounding or calculation of time used in volatility calculations."
   ]
  },
  {
   "cell_type": "markdown",
   "metadata": {},
   "source": [
    "Copyright (c) 2020 Dominic O'Kane"
   ]
  }
 ],
 "metadata": {
  "kernelspec": {
   "display_name": "Python 3",
   "language": "python",
   "name": "python3"
  },
  "language_info": {
   "codemirror_mode": {
    "name": "ipython",
    "version": 3
   },
   "file_extension": ".py",
   "mimetype": "text/x-python",
   "name": "python",
   "nbconvert_exporter": "python",
   "pygments_lexer": "ipython3",
   "version": "3.8.5"
  }
 },
 "nbformat": 4,
 "nbformat_minor": 4
}
