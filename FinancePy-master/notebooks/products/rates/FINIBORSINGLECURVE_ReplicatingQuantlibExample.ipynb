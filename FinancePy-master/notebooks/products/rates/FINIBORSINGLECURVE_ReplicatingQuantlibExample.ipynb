{
 "cells": [
  {
   "cell_type": "markdown",
   "metadata": {},
   "source": [
    "# Building a Libor Curve"
   ]
  },
  {
   "cell_type": "markdown",
   "metadata": {},
   "source": [
    "This is an example of a replication of a Quantlib example from\n",
    "\n",
    "http://billiontrader.com/2015/02/16/bootstrapping-with-quantlib/\n",
    "\n",
    "Agreement is very good however some issues about date generation need to be checked."
   ]
  },
  {
   "cell_type": "code",
   "execution_count": 1,
   "metadata": {},
   "outputs": [],
   "source": [
    "import numpy as np\n",
    "import matplotlib.pyplot as plt"
   ]
  },
  {
   "cell_type": "code",
   "execution_count": 2,
   "metadata": {},
   "outputs": [
    {
     "name": "stdout",
     "output_type": "stream",
     "text": [
      "####################################################################\n",
      "# FINANCEPY BETA Version 0.191 - This build:  17 Jan 2021 at 18:30 #\n",
      "#      This software is distributed FREE & WITHOUT ANY WARRANTY    #\n",
      "# For info and disclaimer - https://github.com/domokane/FinancePy  #\n",
      "#      Send any bug reports or comments to quant@financepy.com     #\n",
      "####################################################################\n",
      "\n"
     ]
    }
   ],
   "source": [
    "from financepy.utils import *\n",
    "from financepy.products.rates import *"
   ]
  },
  {
   "cell_type": "markdown",
   "metadata": {},
   "source": [
    "## Creating the Libor Instruments"
   ]
  },
  {
   "cell_type": "code",
   "execution_count": 3,
   "metadata": {},
   "outputs": [],
   "source": [
    "tradeDate = Date(16, 2, 2015)"
   ]
  },
  {
   "cell_type": "markdown",
   "metadata": {},
   "source": [
    "### Load up the deposits first"
   ]
  },
  {
   "cell_type": "code",
   "execution_count": 4,
   "metadata": {},
   "outputs": [],
   "source": [
    "spot_days = 0\n",
    "settlement_date = tradeDate.add_weekdays(spot_days)"
   ]
  },
  {
   "cell_type": "code",
   "execution_count": 5,
   "metadata": {},
   "outputs": [],
   "source": [
    "depoDCCType = DayCountTypes.ACT_360\n",
    "depos = []\n",
    "\n",
    "deposit_rate = 0.001375\n",
    "depo = IborDeposit(settlement_date, \"7D\", deposit_rate, depoDCCType)\n",
    "depos.append(depo)\n",
    "\n",
    "deposit_rate = 0.001717\n",
    "depo = IborDeposit(settlement_date, \"1M\", deposit_rate, depoDCCType)\n",
    "depos.append(depo)\n",
    "\n",
    "deposit_rate = 0.002112\n",
    "depo = IborDeposit(settlement_date, \"2M\", deposit_rate, depoDCCType)\n",
    "depos.append(depo)\n",
    "\n",
    "deposit_rate = 0.002581\n",
    "depo = IborDeposit(settlement_date, \"3M\", deposit_rate, depoDCCType)\n",
    "depos.append(depo)"
   ]
  },
  {
   "cell_type": "code",
   "execution_count": 6,
   "metadata": {},
   "outputs": [
    {
     "name": "stdout",
     "output_type": "stream",
     "text": [
      "OBJECT TYPE: IborDeposit\n",
      "START DATE: 16-FEB-2015\n",
      "MATURITY DATE: 23-FEB-2015\n",
      "NOTIONAL: 100.0\n",
      "DEPOSIT RATE: 0.001375\n",
      "DAY COUNT TYPE: DayCountTypes.ACT_360\n",
      "CALENDAR: CalendarTypes.WEEKEND\n",
      "BUS DAY ADJUST TYPE: BusDayAdjustTypes.MODIFIED_FOLLOWING\n",
      "\n",
      "OBJECT TYPE: IborDeposit\n",
      "START DATE: 16-FEB-2015\n",
      "MATURITY DATE: 16-MAR-2015\n",
      "NOTIONAL: 100.0\n",
      "DEPOSIT RATE: 0.001717\n",
      "DAY COUNT TYPE: DayCountTypes.ACT_360\n",
      "CALENDAR: CalendarTypes.WEEKEND\n",
      "BUS DAY ADJUST TYPE: BusDayAdjustTypes.MODIFIED_FOLLOWING\n",
      "\n",
      "OBJECT TYPE: IborDeposit\n",
      "START DATE: 16-FEB-2015\n",
      "MATURITY DATE: 16-APR-2015\n",
      "NOTIONAL: 100.0\n",
      "DEPOSIT RATE: 0.002112\n",
      "DAY COUNT TYPE: DayCountTypes.ACT_360\n",
      "CALENDAR: CalendarTypes.WEEKEND\n",
      "BUS DAY ADJUST TYPE: BusDayAdjustTypes.MODIFIED_FOLLOWING\n",
      "\n",
      "OBJECT TYPE: IborDeposit\n",
      "START DATE: 16-FEB-2015\n",
      "MATURITY DATE: 18-MAY-2015\n",
      "NOTIONAL: 100.0\n",
      "DEPOSIT RATE: 0.002581\n",
      "DAY COUNT TYPE: DayCountTypes.ACT_360\n",
      "CALENDAR: CalendarTypes.WEEKEND\n",
      "BUS DAY ADJUST TYPE: BusDayAdjustTypes.MODIFIED_FOLLOWING\n",
      "\n"
     ]
    }
   ],
   "source": [
    "for depo in depos:\n",
    "    print(depo)"
   ]
  },
  {
   "cell_type": "markdown",
   "metadata": {},
   "source": [
    "### Create Strips of Interest Rate Futures "
   ]
  },
  {
   "cell_type": "code",
   "execution_count": 7,
   "metadata": {},
   "outputs": [],
   "source": [
    "futs = []\n",
    "fut = IborFuture(tradeDate, 1) ; futs.append(fut)\n",
    "fut = IborFuture(tradeDate, 2) ; futs.append(fut)\n",
    "fut = IborFuture(tradeDate, 3) ; futs.append(fut)\n",
    "fut = IborFuture(tradeDate, 4) ; futs.append(fut)\n",
    "fut = IborFuture(tradeDate, 5) ; futs.append(fut)\n",
    "fut = IborFuture(tradeDate, 6) ; futs.append(fut)"
   ]
  },
  {
   "cell_type": "markdown",
   "metadata": {},
   "source": [
    "### Convert Interest Rate Futures to FRAs"
   ]
  },
  {
   "cell_type": "markdown",
   "metadata": {},
   "source": [
    "Need to supply futures price and the convexity (in percent) which is set to zero"
   ]
  },
  {
   "cell_type": "code",
   "execution_count": 8,
   "metadata": {},
   "outputs": [],
   "source": [
    "fras = [None]*len(futs)\n",
    "fras[0] = futs[0].to_fra(99.725,-0.0)\n",
    "fras[1] = futs[1].to_fra(99.585,-0.00)\n",
    "fras[2] = futs[2].to_fra(99.385,-0.00)\n",
    "fras[3] = futs[3].to_fra(99.160,-0.00)\n",
    "fras[4] = futs[4].to_fra(98.930,-0.00)\n",
    "fras[5] = futs[5].to_fra(98.715,-0.00)"
   ]
  },
  {
   "cell_type": "markdown",
   "metadata": {},
   "source": [
    "### Then we load up swap rates"
   ]
  },
  {
   "cell_type": "code",
   "execution_count": 9,
   "metadata": {},
   "outputs": [],
   "source": [
    "accrual = DayCountTypes.ACT_360\n",
    "freq = FrequencyTypes.ANNUAL\n",
    "longEnd = DateGenRuleTypes.BACKWARD\n",
    "swapType = SwapTypes.PAY"
   ]
  },
  {
   "cell_type": "code",
   "execution_count": 10,
   "metadata": {},
   "outputs": [],
   "source": [
    "spot_days = 2\n",
    "settlement_date = tradeDate.add_weekdays(spot_days)"
   ]
  },
  {
   "cell_type": "code",
   "execution_count": 11,
   "metadata": {},
   "outputs": [],
   "source": [
    "swaps = []\n",
    "swap = IborSwap(settlement_date, \"2Y\", swapType, 0.0089268, freq, accrual); swaps.append(swap)\n",
    "swap = IborSwap(settlement_date, \"3Y\", swapType, 0.0123343, freq, accrual); swaps.append(swap)\n",
    "swap = IborSwap(settlement_date, \"4Y\", swapType, 0.0147985, freq, accrual); swaps.append(swap)\n",
    "swap = IborSwap(settlement_date, \"5Y\", swapType, 0.0165843, freq, accrual); swaps.append(swap)"
   ]
  },
  {
   "cell_type": "code",
   "execution_count": 13,
   "metadata": {},
   "outputs": [
    {
     "name": "stdout",
     "output_type": "stream",
     "text": [
      "18-FEB-2017\n",
      "18-FEB-2018\n",
      "18-FEB-2019\n",
      "18-FEB-2020\n"
     ]
    }
   ],
   "source": [
    "for swap in swaps:\n",
    "    print(swap._termination_date)"
   ]
  },
  {
   "cell_type": "markdown",
   "metadata": {},
   "source": [
    "## Build the Curve"
   ]
  },
  {
   "cell_type": "code",
   "execution_count": 14,
   "metadata": {},
   "outputs": [],
   "source": [
    "libor_curve = IborSingleCurve(tradeDate, depos, fras, swaps)"
   ]
  },
  {
   "cell_type": "markdown",
   "metadata": {},
   "source": [
    "## Curve Examination"
   ]
  },
  {
   "cell_type": "markdown",
   "metadata": {},
   "source": [
    "Generate a vector of time points and then generate zero rates and forward rates"
   ]
  },
  {
   "cell_type": "code",
   "execution_count": 15,
   "metadata": {},
   "outputs": [
    {
     "name": "stdout",
     "output_type": "stream",
     "text": [
      " 23-FEB-2015   0.13750000   0.99997326\n",
      " 16-MAR-2015   0.17170000   0.99986647\n",
      " 16-APR-2015   0.21120000   0.99965399\n",
      " 18-MAY-2015   0.25810000   0.99934801\n"
     ]
    }
   ],
   "source": [
    "for depo in depos:\n",
    "    dt = depo._maturity_date\n",
    "    df = libor_curve.df(dt)\n",
    "    zero_rate = libor_curve.zero_rate(dt, FrequencyTypes.SIMPLE, DayCountTypes.ACT_360)\n",
    "    df = libor_curve.df(dt)\n",
    "    print(\"%12s %12.8f %12.8f\" % (dt, zero_rate*100.0, df))"
   ]
  },
  {
   "cell_type": "code",
   "execution_count": 16,
   "metadata": {},
   "outputs": [
    {
     "name": "stdout",
     "output_type": "stream",
     "text": [
      " 17-JUN-2015   0.25066108   0.99915821\n",
      " 16-SEP-2015   0.32135287   0.99811116\n",
      " 16-DEC-2015   0.40989345   0.99656192\n",
      " 16-MAR-2016   0.50990211   0.99445037\n",
      " 15-JUN-2016   0.61611302   0.99176792\n",
      " 21-SEP-2016   0.73034320   0.98831075\n"
     ]
    }
   ],
   "source": [
    "for fra in fras:\n",
    "    dt = fra._maturity_date\n",
    "    df = libor_curve.df(dt)\n",
    "    zero_rate = libor_curve.zero_rate(dt, FrequencyTypes.SIMPLE, DayCountTypes.ACT_360)\n",
    "    print(\"%12s %12.8f %12.8f\" % (dt, zero_rate*100.0, df))"
   ]
  },
  {
   "cell_type": "code",
   "execution_count": 18,
   "metadata": {},
   "outputs": [
    {
     "name": "stdout",
     "output_type": "stream",
     "text": [
      " 18-FEB-2017   0.89066120   0.98210744\n",
      " 18-FEB-2018   1.23669623   0.96320607\n",
      " 18-FEB-2019   1.48896351   0.94170449\n",
      " 18-FEB-2020   1.67274927   0.91921438\n"
     ]
    }
   ],
   "source": [
    "for swap in swaps:\n",
    "    dt = swap._termination_date\n",
    "    df = libor_curve.df(dt)\n",
    "    zero_rate = libor_curve.zero_rate(dt, FrequencyTypes.ANNUAL, DayCountTypes.ACT_360)\n",
    "    print(\"%12s %12.8f %12.8f\" % (dt, zero_rate*100.0, df))"
   ]
  },
  {
   "cell_type": "code",
   "execution_count": 19,
   "metadata": {},
   "outputs": [
    {
     "data": {
      "text/plain": [
       "-5.093170329928398e-11"
      ]
     },
     "execution_count": 19,
     "metadata": {},
     "output_type": "execute_result"
    }
   ],
   "source": [
    "swaps[0].value(settlement_date, libor_curve, libor_curve)"
   ]
  },
  {
   "cell_type": "code",
   "execution_count": 20,
   "metadata": {},
   "outputs": [
    {
     "name": "stdout",
     "output_type": "stream",
     "text": [
      "START DATE: 18-FEB-2015\n",
      "MATURITY DATE: 20-FEB-2017\n",
      "COUPON (%): 0.89268\n",
      "FREQUENCY: FrequencyTypes.ANNUAL\n",
      "DAY COUNT: DayCountTypes.ACT_360\n",
      "PAY_DATE     ACCR_START   ACCR_END     DAYS  YEARFRAC    RATE      PAYMENT       DF          PV        CUM PV\n",
      "18-FEB-2016  18-FEB-2015  18-FEB-2016   365  1.013889   0.89268      9050.78  0.99508401      9006.29      9006.29\n",
      "20-FEB-2017  18-FEB-2016  20-FEB-2017   368  1.022222   0.89268      9125.17  0.98203249      8961.22     17967.51\n"
     ]
    }
   ],
   "source": [
    "swaps[0].print_fixed_leg_pv()"
   ]
  },
  {
   "cell_type": "code",
   "execution_count": 21,
   "metadata": {},
   "outputs": [
    {
     "name": "stdout",
     "output_type": "stream",
     "text": [
      "START DATE: 18-FEB-2015\n",
      "MATURITY DATE: 18-FEB-2019\n",
      "SPREAD (BPS): 0.0\n",
      "FREQUENCY: FrequencyTypes.QUARTERLY\n",
      "DAY COUNT: DayCountTypes.THIRTY_E_360\n",
      "PAY_DATE     ACCR_START   ACCR_END     DAYS  YEARFRAC    IBOR      PAYMENT       DF          PV        CUM PV\n",
      "18-MAY-2015  18-FEB-2015  18-MAY-2015    90  0.250000    0.25791       644.78  0.99934801       644.36       644.36\n",
      "18-AUG-2015  18-MAY-2015  18-AUG-2015    90  0.250000    0.36188       904.69  0.99844472       903.29      1547.64\n",
      "18-NOV-2015  18-AUG-2015  18-NOV-2015    90  0.250000    0.56422      1410.54  0.99703836      1406.36      2954.00\n",
      "18-FEB-2016  18-NOV-2015  18-FEB-2016    90  0.250000    0.78866      1971.65  0.99507641      1961.95      4915.95\n",
      "18-MAY-2016  18-FEB-2016  18-MAY-2016    90  0.250000    1.00097      2502.43  0.99259252      2483.89      7399.84\n",
      "18-AUG-2016  18-MAY-2016  18-AUG-2016    90  0.250000    1.24656      3116.40  0.98950881      3083.71     10483.55\n",
      "18-NOV-2016  18-AUG-2016  18-NOV-2016    90  0.250000    1.46111      3652.78  0.98590751      3601.30     14084.86\n",
      "20-FEB-2017  18-NOV-2016  20-FEB-2017    92  0.255556    1.54705      3953.58  0.98202499      3882.51     17967.37\n",
      "18-MAY-2017  20-FEB-2017  18-MAY-2017    88  0.244444    1.90155      4648.23  0.97748144      4543.55     22510.92\n",
      "18-AUG-2017  18-MAY-2017  18-AUG-2017    90  0.250000    1.96641      4916.02  0.97269963      4781.81     27292.73\n",
      "20-NOV-2017  18-AUG-2017  20-NOV-2017    92  0.255556    1.96558      5023.16  0.96783802      4861.60     32154.34\n",
      "19-FEB-2018  20-NOV-2017  19-FEB-2018    89  0.247222    1.96684      4862.46  0.96315473      4683.30     36837.63\n",
      "18-MAY-2018  19-FEB-2018  18-MAY-2018    89  0.247222    2.20848      5459.86  0.95792459      5230.14     42067.77\n",
      "20-AUG-2018  18-MAY-2018  20-AUG-2018    92  0.255556    2.28256      5833.21  0.95236922      5555.37     47623.14\n",
      "19-NOV-2018  20-AUG-2018  19-NOV-2018    89  0.247222    2.28399      5646.52  0.94702184      5347.38     52970.52\n",
      "18-FEB-2019  19-NOV-2018  18-FEB-2019    89  0.247222    2.28399      5646.52  0.94170449      5317.35     58287.87\n"
     ]
    }
   ],
   "source": [
    "swaps[2].print_float_leg_pv()"
   ]
  },
  {
   "cell_type": "markdown",
   "metadata": {},
   "source": [
    "Agreement with Quantlib example is very very good but not exact. Not sure how some of quantlib dates are generated - e.g. 19/2/2019 is a Tuesday so the 18th was a weekday and should have been used ?"
   ]
  },
  {
   "cell_type": "markdown",
   "metadata": {},
   "source": [
    "Copyright (c) 2020 Dominic O'Kane"
   ]
  }
 ],
 "metadata": {
  "kernelspec": {
   "display_name": "Python 3",
   "language": "python",
   "name": "python3"
  },
  "language_info": {
   "codemirror_mode": {
    "name": "ipython",
    "version": 3
   },
   "file_extension": ".py",
   "mimetype": "text/x-python",
   "name": "python",
   "nbconvert_exporter": "python",
   "pygments_lexer": "ipython3",
   "version": "3.8.5"
  }
 },
 "nbformat": 4,
 "nbformat_minor": 4
}
