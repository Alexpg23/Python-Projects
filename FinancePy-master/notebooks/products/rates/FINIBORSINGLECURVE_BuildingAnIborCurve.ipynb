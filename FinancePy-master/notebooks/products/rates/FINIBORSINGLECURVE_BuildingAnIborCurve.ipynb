{
 "cells": [
  {
   "cell_type": "markdown",
   "metadata": {},
   "source": [
    "# Building an Ibor Single Curve"
   ]
  },
  {
   "cell_type": "markdown",
   "metadata": {},
   "source": [
    "Constructing an Ibor Single Curve"
   ]
  },
  {
   "cell_type": "code",
   "execution_count": 1,
   "metadata": {},
   "outputs": [],
   "source": [
    "import numpy as np\n",
    "import matplotlib.pyplot as plt"
   ]
  },
  {
   "cell_type": "code",
   "execution_count": 2,
   "metadata": {},
   "outputs": [
    {
     "name": "stdout",
     "output_type": "stream",
     "text": [
      "####################################################################\n",
      "# FINANCEPY BETA Version 0.200 - This build:  14 Jul 2021 at 13:18 #\n",
      "# **** NEW PEP8 COMPLIANT VERSION -- PLEASE UPDATE YOUR CODE  **** #\n",
      "#      This software is distributed FREE & WITHOUT ANY WARRANTY    #\n",
      "# For info and disclaimer - https://github.com/domokane/FinancePy  #\n",
      "#      Send any bug reports or comments to quant@financepy.com     #\n",
      "####################################################################\n",
      "\n"
     ]
    }
   ],
   "source": [
    "from financepy.utils import *\n",
    "from financepy.products.rates import *"
   ]
  },
  {
   "cell_type": "markdown",
   "metadata": {},
   "source": [
    "## Creating the Libor Instruments"
   ]
  },
  {
   "cell_type": "code",
   "execution_count": 3,
   "metadata": {},
   "outputs": [],
   "source": [
    "valuation_date = Date(18, 9, 2019)"
   ]
  },
  {
   "cell_type": "markdown",
   "metadata": {},
   "source": [
    "### Load up the deposits first"
   ]
  },
  {
   "cell_type": "code",
   "execution_count": 4,
   "metadata": {},
   "outputs": [],
   "source": [
    "depoDCCType = DayCountTypes.THIRTY_E_360_ISDA\n",
    "depos = []\n",
    "\n",
    "spot_days = 2\n",
    "settlement_date = valuation_date.add_weekdays(spot_days)\n",
    "\n",
    "deposit_rate = 0.050\n",
    "maturity_date = settlement_date.add_months(1)\n",
    "depo = IborDeposit(settlement_date, maturity_date, deposit_rate, depoDCCType)\n",
    "depos.append(depo)\n",
    "\n",
    "maturity_date = settlement_date.add_months(3)\n",
    "depo = IborDeposit(settlement_date, maturity_date, deposit_rate, depoDCCType)\n",
    "depos.append(depo)\n",
    "\n",
    "maturity_date = settlement_date.add_months(6)\n",
    "depo = IborDeposit(settlement_date, maturity_date, deposit_rate, depoDCCType)\n",
    "depos.append(depo)\n",
    "\n",
    "maturity_date = settlement_date.add_months(9)\n",
    "depo = IborDeposit(settlement_date, maturity_date, deposit_rate, depoDCCType)\n",
    "depos.append(depo)\n",
    "\n",
    "maturity_date = settlement_date.add_months(12)\n",
    "depo = IborDeposit(settlement_date, maturity_date, deposit_rate, depoDCCType)\n",
    "depos.append(depo)"
   ]
  },
  {
   "cell_type": "markdown",
   "metadata": {},
   "source": [
    "### Then we load up the FRAs"
   ]
  },
  {
   "cell_type": "code",
   "execution_count": 5,
   "metadata": {},
   "outputs": [],
   "source": [
    "# 1 x 4 FRA\n",
    "payFixed = True\n",
    "notional = 1000\n",
    "fras = []\n",
    "\n",
    "fraRate = 0.05\n",
    "fraSettlementDate = settlement_date.add_months(12)\n",
    "fraMaturityDate = settlement_date.add_months(16)\n",
    "fra = IborFRA(fraSettlementDate, fraMaturityDate, fraRate, depoDCCType)\n",
    "fras.append(fra)\n",
    "\n",
    "# 4 x 7 FRA\n",
    "fraRate = 0.08\n",
    "fraSettlementDate = settlement_date.add_months(16)\n",
    "fraMaturityDate = settlement_date.add_months(20)\n",
    "fra = IborFRA(fraSettlementDate, fraMaturityDate, fraRate, depoDCCType)\n",
    "fras.append(fra)"
   ]
  },
  {
   "cell_type": "markdown",
   "metadata": {},
   "source": [
    "### Then we load up swap rates"
   ]
  },
  {
   "cell_type": "code",
   "execution_count": 6,
   "metadata": {},
   "outputs": [],
   "source": [
    "swaps = []\n",
    "fixedDCCType = DayCountTypes.ACT_365F\n",
    "fixedFreqType = FrequencyTypes.SEMI_ANNUAL\n",
    "swapType = SwapTypes.PAY\n",
    "\n",
    "swap_rate = 0.050\n",
    "maturity_date = settlement_date.add_months(24)\n",
    "swap = IborSwap(settlement_date, maturity_date, swapType, swap_rate, fixedFreqType, fixedDCCType)\n",
    "swaps.append(swap)\n",
    "\n",
    "swap_rate = 0.052\n",
    "maturity_date = settlement_date.add_months(36)\n",
    "swap = IborSwap(settlement_date, maturity_date, swapType, swap_rate, fixedFreqType, fixedDCCType)\n",
    "swaps.append(swap)\n",
    "\n",
    "swap_rate = 0.0535\n",
    "maturity_date = settlement_date.add_months(48)\n",
    "swap = IborSwap(settlement_date, maturity_date, swapType, swap_rate, fixedFreqType, fixedDCCType)\n",
    "swaps.append(swap)\n",
    "\n",
    "swap_rate = 0.055\n",
    "maturity_date = settlement_date.add_months(60)\n",
    "swap = IborSwap(settlement_date, maturity_date, swapType, swap_rate, fixedFreqType, fixedDCCType)\n",
    "swaps.append(swap)\n",
    "\n",
    "swap_rate = 0.0565\n",
    "maturity_date = settlement_date.add_months(84)\n",
    "swap = IborSwap(settlement_date, maturity_date, swapType, swap_rate, fixedFreqType, fixedDCCType)\n",
    "swaps.append(swap)\n",
    "\n",
    "swap_rate = 0.057\n",
    "maturity_date = settlement_date.add_months(120)\n",
    "swap = IborSwap(settlement_date, maturity_date, swapType, swap_rate, fixedFreqType, fixedDCCType)\n",
    "swaps.append(swap)"
   ]
  },
  {
   "cell_type": "code",
   "execution_count": 8,
   "metadata": {},
   "outputs": [],
   "source": [
    "libor_curve = IborSingleCurve(valuation_date, depos, fras, swaps)"
   ]
  },
  {
   "cell_type": "markdown",
   "metadata": {},
   "source": [
    "## Check Repricing"
   ]
  },
  {
   "cell_type": "code",
   "execution_count": 9,
   "metadata": {},
   "outputs": [
    {
     "name": "stdout",
     "output_type": "stream",
     "text": [
      "Depo Value: 100.000000\n",
      "Depo Value: 100.000000\n",
      "Depo Value: 100.000000\n",
      "Depo Value: 100.000000\n",
      "Depo Value: 100.000000\n",
      "Depo Value: 100.000000\n"
     ]
    }
   ],
   "source": [
    "for depo in depos:\n",
    "    v = depo.value(settlement_date, libor_curve)\n",
    "    print(\"Depo Value: %10.6f\"% v)"
   ]
  },
  {
   "cell_type": "code",
   "execution_count": 10,
   "metadata": {},
   "outputs": [
    {
     "name": "stdout",
     "output_type": "stream",
     "text": [
      "FRA Value:   0.000000\n",
      "FRA Value:  -0.000000\n"
     ]
    }
   ],
   "source": [
    "for fra in fras:\n",
    "    v = fra.value(settlement_date, libor_curve)\n",
    "    print(\"FRA Value: %10.6f\"% v)"
   ]
  },
  {
   "cell_type": "code",
   "execution_count": 11,
   "metadata": {},
   "outputs": [
    {
     "name": "stdout",
     "output_type": "stream",
     "text": [
      "Swap Value:   0.00000000\n",
      "Swap Value:  -0.00000000\n",
      "Swap Value:  -0.00000000\n",
      "Swap Value:  -0.00000000\n",
      "Swap Value:  -0.00000011\n",
      "Swap Value:  -0.00000347\n"
     ]
    }
   ],
   "source": [
    "for swap in swaps:\n",
    "    v = swap.value(settlement_date, libor_curve)\n",
    "    print(\"Swap Value: %12.8f\" % v)"
   ]
  },
  {
   "cell_type": "markdown",
   "metadata": {},
   "source": [
    "## Curve Examination"
   ]
  },
  {
   "cell_type": "markdown",
   "metadata": {},
   "source": [
    "Generate a vector of time points and then generate zero rates and forward rates"
   ]
  },
  {
   "cell_type": "code",
   "execution_count": 12,
   "metadata": {},
   "outputs": [],
   "source": [
    "years = np.linspace(0.01,10,500)\n",
    "dates = settlement_date.add_years(years)\n",
    "zero_rates = libor_curve.zero_rate(dates)\n",
    "fwd_rates = libor_curve.fwd(dates)"
   ]
  },
  {
   "cell_type": "code",
   "execution_count": 13,
   "metadata": {},
   "outputs": [
    {
     "data": {
      "image/png": "[encoded data removed]",
      "text/plain": [
       "<Figure size 576x432 with 1 Axes>"
      ]
     },
     "metadata": {
      "needs_background": "light"
     },
     "output_type": "display_data"
    }
   ],
   "source": [
    "plt.figure(figsize=(8,6))\n",
    "plt.plot(years, zero_rates*100, label=\"zero rates\")\n",
    "plt.plot(years, fwd_rates*100, label = \"fwd rates\")\n",
    "plt.xlabel(\"Times\")\n",
    "plt.ylabel(\"CC forward rates\")\n",
    "plt.legend();"
   ]
  },
  {
   "cell_type": "markdown",
   "metadata": {},
   "source": [
    "We see that the forward rates are piecewise flat"
   ]
  },
  {
   "cell_type": "code",
   "execution_count": null,
   "metadata": {},
   "outputs": [],
   "source": []
  }
 ],
 "metadata": {
  "kernelspec": {
   "display_name": "Python 3",
   "language": "python",
   "name": "python3"
  },
  "language_info": {
   "codemirror_mode": {
    "name": "ipython",
    "version": 3
   },
   "file_extension": ".py",
   "mimetype": "text/x-python",
   "name": "python",
   "nbconvert_exporter": "python",
   "pygments_lexer": "ipython3",
   "version": "3.8.5"
  }
 },
 "nbformat": 4,
 "nbformat_minor": 4
}
