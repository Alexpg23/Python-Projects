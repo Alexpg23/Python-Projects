{
 "cells": [
  {
   "cell_type": "markdown",
   "metadata": {},
   "source": [
    "# Building a Euribor Dual Curve and Valuing a Swap - Bloomberg Example"
   ]
  },
  {
   "cell_type": "markdown",
   "metadata": {},
   "source": [
    "We build an OIS curve from OIS swaps that include forward starting OIS using MM dates."
   ]
  },
  {
   "cell_type": "code",
   "execution_count": 1,
   "metadata": {},
   "outputs": [],
   "source": [
    "import numpy as np\n",
    "import matplotlib.pyplot as plt"
   ]
  },
  {
   "cell_type": "code",
   "execution_count": 2,
   "metadata": {},
   "outputs": [
    {
     "name": "stdout",
     "output_type": "stream",
     "text": [
      "####################################################################\n",
      "# FINANCEPY BETA Version 0.200 - This build:  14 Jul 2021 at 16:00 #\n",
      "# **** NEW PEP8 COMPLIANT VERSION -- PLEASE UPDATE YOUR CODE  **** #\n",
      "#      This software is distributed FREE & WITHOUT ANY WARRANTY    #\n",
      "# For info and disclaimer - https://github.com/domokane/FinancePy  #\n",
      "#      Send any bug reports or comments to quant@financepy.com     #\n",
      "####################################################################\n",
      "\n"
     ]
    }
   ],
   "source": [
    "from financepy.utils import *\n",
    "from financepy.products.rates import *"
   ]
  },
  {
   "cell_type": "code",
   "execution_count": 3,
   "metadata": {},
   "outputs": [],
   "source": [
    "valuation_date = Date(26, 10, 2020)"
   ]
  },
  {
   "cell_type": "code",
   "execution_count": 4,
   "metadata": {},
   "outputs": [
    {
     "data": {
      "text/plain": [
       "29-OCT-2020"
      ]
     },
     "execution_count": 4,
     "metadata": {},
     "output_type": "execute_result"
    }
   ],
   "source": [
    "valuation_date.add_weekdays(2).add_tenor(\"1D\")"
   ]
  },
  {
   "cell_type": "code",
   "execution_count": 5,
   "metadata": {},
   "outputs": [],
   "source": [
    "interp_type = InterpTypes.LINEAR_ZERO_RATES"
   ]
  },
  {
   "cell_type": "markdown",
   "metadata": {},
   "source": [
    "## Building the Discounting OIS Curve"
   ]
  },
  {
   "cell_type": "markdown",
   "metadata": {},
   "source": [
    "We construct the OIS curve from a series of swaps, some forward starting. The default assumption on the floating leg is annual payments."
   ]
  },
  {
   "cell_type": "code",
   "execution_count": 8,
   "metadata": {},
   "outputs": [],
   "source": [
    "cal = CalendarTypes.TARGET\n",
    "\n",
    "depoDCCType = DayCountTypes.ACT_360\n",
    "depos = []\n",
    "\n",
    "spot_days = 2\n",
    "settlement_date = valuation_date.add_weekdays(spot_days)\n",
    "depo = IborDeposit(settlement_date, \"1D\", -0.46800/100.0, depoDCCType, calendar_type = cal); depos.append(depo)\n",
    "\n",
    "fras = []\n",
    "\n",
    "swaps = []\n",
    "swapType = SwapTypes.PAY\n",
    "spot_days = 2\n",
    "settlement_date = valuation_date.add_weekdays(spot_days)\n",
    "fixedDCCType = DayCountTypes.ACT_360\n",
    "fixedFreqType = FrequencyTypes.ANNUAL\n",
    "lag = 1 # days\n",
    "\n",
    "# Standard OIS with standard annual terms\n",
    "swap = OIS(settlement_date, \"1W\", swapType, -0.47000/100.0, fixedFreqType, fixedDCCType, calendar_type = cal, payment_lag=lag); swaps.append(swap)\n",
    "swap = OIS(settlement_date, \"2W\", swapType, -0.47150/100.0, fixedFreqType, fixedDCCType, calendar_type = cal, payment_lag=lag); swaps.append(swap)\n",
    "swap = OIS(settlement_date, \"1M\", swapType, -0.47300/100.0, fixedFreqType, fixedDCCType, calendar_type = cal, payment_lag=lag); swaps.append(swap)\n",
    "swap = OIS(settlement_date, \"2M\", swapType, -0.47700/100.0, fixedFreqType, fixedDCCType, calendar_type = cal, payment_lag=lag); swaps.append(swap)\n",
    "swap = OIS(settlement_date, \"3M\", swapType, -0.48150/100.0, fixedFreqType, fixedDCCType, calendar_type = cal, payment_lag=lag); swaps.append(swap)\n",
    "swap = OIS(settlement_date, \"4M\", swapType, -0.48500/100.0, fixedFreqType, fixedDCCType, calendar_type = cal, payment_lag=lag); swaps.append(swap)\n",
    "swap = OIS(settlement_date, \"5M\", swapType, -0.48900/100.0, fixedFreqType, fixedDCCType, calendar_type = cal, payment_lag=lag); swaps.append(swap)\n",
    "swap = OIS(settlement_date, \"6M\", swapType, -0.49300/100.0, fixedFreqType, fixedDCCType, calendar_type = cal, payment_lag=lag); swaps.append(swap)\n",
    "swap = OIS(settlement_date, \"7M\", swapType, -0.49700/100.0, fixedFreqType, fixedDCCType, calendar_type = cal, payment_lag=lag); swaps.append(swap)\n",
    "swap = OIS(settlement_date, \"8M\", swapType, -0.50065/100.0, fixedFreqType, fixedDCCType, calendar_type = cal, payment_lag=lag); swaps.append(swap)\n",
    "swap = OIS(settlement_date, \"9M\", swapType, -0.50375/100.0, fixedFreqType, fixedDCCType, calendar_type = cal, payment_lag=lag); swaps.append(swap)\n",
    "swap = OIS(settlement_date, \"10M\", swapType, -0.50790/100.0, fixedFreqType, fixedDCCType, calendar_type = cal, payment_lag=lag); swaps.append(swap)\n",
    "swap = OIS(settlement_date, \"11M\", swapType, -0.51100/100.0, fixedFreqType, fixedDCCType, calendar_type = cal, payment_lag=lag); swaps.append(swap)\n",
    "swap = OIS(settlement_date, \"12M\", swapType, -0.51400/100.0, fixedFreqType, fixedDCCType, calendar_type = cal, payment_lag=lag); swaps.append(swap)\n",
    "swap = OIS(settlement_date, \"18M\", swapType, -0.53250/100.0, fixedFreqType, fixedDCCType, calendar_type = cal, payment_lag=lag); swaps.append(swap)\n",
    "swap = OIS(settlement_date, \"2Y\", swapType, -0.54300/100.0, fixedFreqType, fixedDCCType, calendar_type = cal, payment_lag=lag); swaps.append(swap)\n",
    "swap = OIS(settlement_date, \"30M\", swapType, -0.54850/100.0, fixedFreqType, fixedDCCType, calendar_type = cal, payment_lag=lag); swaps.append(swap)\n",
    "swap = OIS(settlement_date, \"3Y\", swapType, -0.54900/100.0, fixedFreqType, fixedDCCType, calendar_type = cal, payment_lag=lag); swaps.append(swap)\n",
    "swap = OIS(settlement_date, \"4Y\", swapType, -0.53700/100.0, fixedFreqType, fixedDCCType, calendar_type = cal, payment_lag=lag); swaps.append(swap)\n",
    "swap = OIS(settlement_date, \"5Y\", swapType, -0.51350/100.0, fixedFreqType, fixedDCCType, calendar_type = cal, payment_lag=lag); swaps.append(swap)\n",
    "swap = OIS(settlement_date, \"6Y\", swapType, -0.48300/100.0, fixedFreqType, fixedDCCType, calendar_type = cal, payment_lag=lag); swaps.append(swap)\n",
    "\n",
    "swap = OIS(settlement_date, \"7Y\", swapType, -0.44650/100.0, fixedFreqType, fixedDCCType, calendar_type = cal, payment_lag=lag); swaps.append(swap)\n",
    "swap = OIS(settlement_date, \"8Y\", swapType, -0.40480/100.0, fixedFreqType, fixedDCCType, calendar_type = cal, payment_lag=lag); swaps.append(swap)\n",
    "swap = OIS(settlement_date, \"9Y\", swapType, -0.36220/100.0, fixedFreqType, fixedDCCType, calendar_type = cal, payment_lag=lag); swaps.append(swap)\n",
    "swap = OIS(settlement_date, \"10Y\", swapType, -0.31550/100.0, fixedFreqType, fixedDCCType, calendar_type = cal, payment_lag=lag); swaps.append(swap)\n",
    "swap = OIS(settlement_date, \"11Y\", swapType, -0.27100/100.0, fixedFreqType, fixedDCCType, calendar_type = cal, payment_lag=lag); swaps.append(swap)\n",
    "swap = OIS(settlement_date, \"12Y\", swapType, -0.22850/100.0, fixedFreqType, fixedDCCType, calendar_type = cal, payment_lag=lag); swaps.append(swap)\n",
    "swap = OIS(settlement_date, \"15Y\", swapType, -0.12300/100.0, fixedFreqType, fixedDCCType, calendar_type = cal, payment_lag=lag); swaps.append(swap)\n",
    "swap = OIS(settlement_date, \"20Y\", swapType, -0.04000/100.0, fixedFreqType, fixedDCCType, calendar_type = cal, payment_lag=lag); swaps.append(swap)\n",
    "swap = OIS(settlement_date, \"25Y\", swapType, -0.03450/100.0, fixedFreqType, fixedDCCType, calendar_type = cal, payment_lag=lag); swaps.append(swap)\n",
    "swap = OIS(settlement_date, \"30Y\", swapType, -0.05750/100.0, fixedFreqType, fixedDCCType, calendar_type = cal, payment_lag=lag); swaps.append(swap)\n",
    "swap = OIS(settlement_date, \"35Y\", swapType, -0.08160/100.0, fixedFreqType, fixedDCCType, calendar_type = cal, payment_lag=lag); swaps.append(swap)\n",
    "swap = OIS(settlement_date, \"40Y\", swapType, -0.10485/100.0, fixedFreqType, fixedDCCType, calendar_type = cal, payment_lag=lag); swaps.append(swap)\n",
    "swap = OIS(settlement_date, \"50Y\", swapType, -0.14300/100.0, fixedFreqType, fixedDCCType, calendar_type = cal, payment_lag=lag); swaps.append(swap)\n",
    "\n",
    "oisDepos = depos.copy()\n",
    "oisFras = fras.copy()\n",
    "oisSwaps = swaps.copy()"
   ]
  },
  {
   "cell_type": "code",
   "execution_count": 10,
   "metadata": {},
   "outputs": [
    {
     "name": "stdout",
     "output_type": "stream",
     "text": [
      "Inserting synthetic deposit\n"
     ]
    }
   ],
   "source": [
    "oisCurve = OISCurve(valuation_date, oisDepos, oisFras, oisSwaps, interp_type)"
   ]
  },
  {
   "cell_type": "code",
   "execution_count": 11,
   "metadata": {
    "scrolled": false
   },
   "outputs": [
    {
     "name": "stdout",
     "output_type": "stream",
     "text": [
      "DFStart: 1.0000260006760175\n",
      " 26-OCT-2020   28-OCT-2020   28-OCT-2020     0   1.000000000  -0.474506\n",
      " 28-OCT-2020   29-OCT-2020   29-OCT-2020     1   1.000013000  -0.474505\n",
      " 28-OCT-2020   04-NOV-2020   05-NOV-2020     7   1.000104515  -0.476361\n",
      " 28-OCT-2020   11-NOV-2020   12-NOV-2020    14   1.000196583  -0.477858\n",
      " 28-OCT-2020   30-NOV-2020   01-DEC-2020    33   1.000446994  -0.479463\n",
      " 28-OCT-2020   28-DEC-2020   29-DEC-2020    61   1.000822426  -0.483675\n",
      " 28-OCT-2020   28-JAN-2021   29-JAN-2021    92   1.001245800  -0.488341\n",
      " 28-OCT-2020   01-MAR-2021   02-MAR-2021   124   1.001687246  -0.491981\n",
      " 28-OCT-2020   29-MAR-2021   30-MAR-2021   152   1.002083193  -0.496171\n",
      " 28-OCT-2020   28-APR-2021   29-APR-2021   182   1.002513059  -0.500327\n",
      " 28-OCT-2020   28-MAY-2021   31-MAY-2021   212   1.002979433  -0.504777\n",
      " 28-OCT-2020   28-JUN-2021   29-JUN-2021   243   1.003405640  -0.508308\n",
      " 28-OCT-2020   28-JUL-2021   29-JUL-2021   273   1.003849643  -0.511562\n",
      " 28-OCT-2020   30-AUG-2021   31-AUG-2021   306   1.004351187  -0.515931\n",
      " 28-OCT-2020   28-SEP-2021   29-SEP-2021   335   1.004793189  -0.519179\n",
      " 28-OCT-2020   28-OCT-2021   29-OCT-2021   365   1.005254143  -0.522346\n",
      " 28-OCT-2020   28-APR-2022   29-APR-2022   547   1.008158215  -0.540938\n",
      " 28-OCT-2020   28-OCT-2022   31-OCT-2022   730   1.011150270  -0.551948\n",
      " 28-OCT-2020   28-APR-2023   02-MAY-2023   912   1.014090473  -0.557366\n",
      " 28-OCT-2020   30-OCT-2023   31-OCT-2023  1097   1.016930699  -0.557951\n",
      " 28-OCT-2020   28-OCT-2024   29-OCT-2024  1461   1.022108690  -0.545850\n",
      " 28-OCT-2020   28-OCT-2025   29-OCT-2025  1826   1.026483338  -0.522150\n",
      " 28-OCT-2020   28-OCT-2026   29-OCT-2026  2191   1.029952005  -0.491406\n",
      " 28-OCT-2020   28-OCT-2027   29-OCT-2027  2556   1.032359564  -0.454617\n",
      " 28-OCT-2020   30-OCT-2028   31-OCT-2028  2924   1.033611715  -0.412576\n",
      " 28-OCT-2020   29-OCT-2029   30-OCT-2029  3288   1.033858055  -0.369586\n",
      " 28-OCT-2020   28-OCT-2030   29-OCT-2030  3652   1.032783302  -0.322392\n",
      " 28-OCT-2020   28-OCT-2031   29-OCT-2031  4017   1.030989537  -0.277337\n",
      " 28-OCT-2020   28-OCT-2032   29-OCT-2032  4383   1.028516012  -0.234204\n",
      " 28-OCT-2020   29-OCT-2035   30-OCT-2035  5479   1.019172310  -0.126617\n",
      " 28-OCT-2020   29-OCT-2040   30-OCT-2040  7306   1.008286799  -0.041342\n",
      " 28-OCT-2020   30-OCT-2045   31-OCT-2045  9133   1.008920930  -0.035587\n",
      " 28-OCT-2020   28-OCT-2050   31-OCT-2050 10957   1.017838972  -0.058961\n",
      " 28-OCT-2020   28-OCT-2055   29-OCT-2055 12783   1.029540575  -0.083182\n",
      " 28-OCT-2020   28-OCT-2060   29-OCT-2060 14610   1.043478553  -0.106370\n",
      " 28-OCT-2020   28-OCT-2070   29-OCT-2070 18262   1.074672398  -0.143965\n"
     ]
    }
   ],
   "source": [
    "dfStart = oisCurve.df(settlement_date)\n",
    "\n",
    "print(\"DFStart:\", dfStart)\n",
    "\n",
    "for depo in oisDepos:\n",
    "    start = depo._start_date\n",
    "    maturity_date = depo._maturity_date\n",
    "    df = oisCurve.df(maturity_date) / dfStart\n",
    "    days = maturity_date - settlement_date\n",
    "    ccZeroRate = oisCurve.zero_rate(maturity_date, FrequencyTypes.CONTINUOUS, DayCountTypes.ACT_365F)\n",
    "    print(\"%12s  %12s  %12s %5.0f  %12.9f  %9.6f\"% (start, maturity_date, maturity_date, days, df, ccZeroRate*100))\n",
    "\n",
    "for swap in oisSwaps:\n",
    "    start = swap._effective_date\n",
    "    maturity_date = swap._fixed_leg._maturity_date\n",
    "    payment_date = swap._fixed_leg._payment_dates[-1]\n",
    "    df = oisCurve.df(payment_date) / dfStart\n",
    "    days = maturity_date - settlement_date\n",
    "    ccZeroRate = oisCurve.zero_rate(payment_date, FrequencyTypes.CONTINUOUS, DayCountTypes.ACT_365F)\n",
    "    print(\"%12s  %12s  %12s %5.0f  %12.9f  %9.6f\"% (start, maturity_date, payment_date, days, df, ccZeroRate*100))"
   ]
  },
  {
   "cell_type": "markdown",
   "metadata": {},
   "source": [
    "## Value an OIS Contract"
   ]
  },
  {
   "cell_type": "code",
   "execution_count": 12,
   "metadata": {},
   "outputs": [],
   "source": [
    "fixedCpn = -0.51350/100 # CHANGED\n",
    "start_date = settlement_date\n",
    "maturity_date = Date(28, 10, 2025,)\n",
    "fixedDCCType = DayCountTypes.ACT_360\n",
    "fixedFreqType = FrequencyTypes.ANNUAL\n",
    "floatDCCType = DayCountTypes.ACT_360\n",
    "floatFreqType = FrequencyTypes.ANNUAL\n",
    "notional = 10 * ONE_MILLION"
   ]
  },
  {
   "cell_type": "code",
   "execution_count": 13,
   "metadata": {},
   "outputs": [],
   "source": [
    "oisSwap = OIS(start_date, maturity_date, SwapTypes.RECEIVE, \n",
    "                 fixedCpn, fixedFreqType, fixedDCCType, \n",
    "                 notional, lag, \n",
    "                 0.0, floatFreqType, floatDCCType)"
   ]
  },
  {
   "cell_type": "code",
   "execution_count": 14,
   "metadata": {},
   "outputs": [
    {
     "data": {
      "text/plain": [
       "-2.0466395653784275e-06"
      ]
     },
     "execution_count": 14,
     "metadata": {},
     "output_type": "execute_result"
    }
   ],
   "source": [
    "oisSwap.value(settlement_date, oisCurve)"
   ]
  },
  {
   "cell_type": "code",
   "execution_count": 15,
   "metadata": {},
   "outputs": [
    {
     "data": {
      "text/plain": [
       "1.0052541425593997"
      ]
     },
     "execution_count": 15,
     "metadata": {},
     "output_type": "execute_result"
    }
   ],
   "source": [
    "oisCurve.df(Date(29,10,2021)) / oisCurve.df(Date(28,10,2020))"
   ]
  },
  {
   "cell_type": "code",
   "execution_count": 16,
   "metadata": {},
   "outputs": [
    {
     "name": "stdout",
     "output_type": "stream",
     "text": [
      "START DATE: 28-OCT-2020\n",
      "MATURITY DATE: 28-OCT-2025\n",
      "COUPON (%): -0.5135\n",
      "FREQUENCY: FrequencyTypes.ANNUAL\n",
      "DAY COUNT: DayCountTypes.ACT_360\n",
      "PAY_DATE     ACCR_START   ACCR_END     DAYS  YEARFRAC    RATE      PAYMENT       DF          PV        CUM PV\n",
      "29-OCT-2021  28-OCT-2020  28-OCT-2021   365  1.013889  -0.51350    -52063.19  1.00525414    -52336.74    -52336.74\n",
      "31-OCT-2022  28-OCT-2021  28-OCT-2022   365  1.013889  -0.51350    -52063.19  1.01115027    -52643.71   -104980.45\n",
      "31-OCT-2023  28-OCT-2022  30-OCT-2023   367  1.019444  -0.51350    -52348.47  1.01693070    -53234.77   -158215.22\n",
      "29-OCT-2024  30-OCT-2023  28-OCT-2024   364  1.011111  -0.51350    -51920.56  1.02210869    -53068.45   -211283.67\n",
      "29-OCT-2025  28-OCT-2024  28-OCT-2025   365  1.013889  -0.51350    -52063.19  1.02648334    -53442.00   -264725.68\n"
     ]
    }
   ],
   "source": [
    "oisSwap.print_fixed_leg_pv()"
   ]
  },
  {
   "cell_type": "code",
   "execution_count": 17,
   "metadata": {},
   "outputs": [
    {
     "name": "stdout",
     "output_type": "stream",
     "text": [
      "START DATE: 28-OCT-2020\n",
      "MATURITY DATE: 28-OCT-2025\n",
      "SPREAD (BPS): 0.0\n",
      "FREQUENCY: FrequencyTypes.ANNUAL\n",
      "DAY COUNT: DayCountTypes.ACT_360\n",
      "PAY_DATE     ACCR_START   ACCR_END     DAYS  YEARFRAC    IBOR      PAYMENT       DF          PV        CUM PV\n",
      "29-OCT-2021  28-OCT-2020  28-OCT-2021   365  1.013889   -0.51400    -52113.89  1.00525414    -52387.70    -52387.70\n",
      "31-OCT-2022  28-OCT-2021  28-OCT-2022   365  1.013889   -0.57183    -57977.30  1.01115027    -58623.76   -111011.46\n",
      "31-OCT-2023  28-OCT-2022  30-OCT-2023   367  1.019444   -0.56085    -57175.63  1.01693070    -58143.66   -169155.12\n",
      "29-OCT-2024  30-OCT-2023  28-OCT-2024   364  1.011111   -0.50121    -50677.40  1.02210869    -51797.82   -220952.94\n",
      "29-OCT-2025  28-OCT-2024  28-OCT-2025   365  1.013889   -0.42059    -42643.40  1.02648334    -43772.74   -264725.68\n"
     ]
    }
   ],
   "source": [
    "oisSwap.print_float_leg_pv()"
   ]
  },
  {
   "cell_type": "markdown",
   "metadata": {},
   "source": [
    "## Building the Dual Curve"
   ]
  },
  {
   "cell_type": "markdown",
   "metadata": {},
   "source": [
    "Build the Ibor Curve"
   ]
  },
  {
   "cell_type": "code",
   "execution_count": 19,
   "metadata": {},
   "outputs": [],
   "source": [
    "# Need to specify a UK calendar (trade was done in London)\n",
    "cal = CalendarTypes.UNITED_KINGDOM\n",
    "\n",
    "depoDCCType = DayCountTypes.ACT_360\n",
    "depos = []\n",
    "spot_days = 2\n",
    "settlement_date = valuation_date.add_weekdays(spot_days)\n",
    "depo = IborDeposit(settlement_date, \"6M\", -0.496/100.0, depoDCCType, calendar_type=cal); depos.append(depo)\n",
    "\n",
    "fraDCCType = DayCountTypes.ACT_360\n",
    "\n",
    "fras = []\n",
    "fra = IborFRA(settlement_date.add_tenor(\"1M\"), \"6M\", -0.493/100.0, fraDCCType, calendar_type=cal); fras.append(fra)\n",
    "fra = IborFRA(settlement_date.add_tenor(\"2M\"), \"6M\", -0.491/100.0, fraDCCType, calendar_type=cal); fras.append(fra)\n",
    "fra = IborFRA(settlement_date.add_tenor(\"3M\"), \"6M\", -0.494/100.0, fraDCCType, calendar_type=cal); fras.append(fra)\n",
    "fra = IborFRA(settlement_date.add_tenor(\"4M\"), \"6M\", -0.496/100.0, fraDCCType, calendar_type=cal); fras.append(fra)\n",
    "fra = IborFRA(settlement_date.add_tenor(\"5M\"), \"6M\", -0.499/100.0, fraDCCType, calendar_type=cal); fras.append(fra)\n",
    "fra = IborFRA(settlement_date.add_tenor(\"6M\"), \"6M\", -0.501/100.0, fraDCCType, calendar_type=cal); fras.append(fra)\n",
    "fra = IborFRA(settlement_date.add_tenor(\"7M\"), \"6M\", -0.505/100.0, fraDCCType, calendar_type=cal); fras.append(fra)\n",
    "fra = IborFRA(settlement_date.add_tenor(\"8M\"), \"6M\", -0.508/100.0, fraDCCType, calendar_type=cal); fras.append(fra)\n",
    "fra = IborFRA(settlement_date.add_tenor(\"9M\"), \"6M\", -0.518/100.0, fraDCCType, calendar_type=cal); fras.append(fra)\n",
    "fra = IborFRA(settlement_date.add_tenor(\"10M\"), \"6M\", -0.516/100.0, fraDCCType, calendar_type=cal); fras.append(fra)\n",
    "fra = IborFRA(settlement_date.add_tenor(\"11M\"), \"6M\", -0.518/100.0, fraDCCType, calendar_type=cal); fras.append(fra)\n",
    "fra = IborFRA(settlement_date.add_tenor(\"12M\"), \"6M\", -0.519/100.0, fraDCCType, calendar_type=cal); fras.append(fra)\n",
    "\n",
    "swaps = []\n",
    "swapType = SwapTypes.PAY\n",
    "fixedDCCType = DayCountTypes.THIRTY_E_360_ISDA\n",
    "fixedFreqType = FrequencyTypes.ANNUAL\n",
    "\n",
    "swap = IborSwap(settlement_date, \"2Y\", swapType, -0.51375/100.0, fixedFreqType, fixedDCCType, calendar_type=cal); swaps.append(swap)\n",
    "swap = IborSwap(settlement_date, \"3Y\", swapType, -0.50600/100.0, fixedFreqType, fixedDCCType, calendar_type=cal); swaps.append(swap)\n",
    "swap = IborSwap(settlement_date, \"4Y\", swapType, -0.48225/100.0, fixedFreqType, fixedDCCType, calendar_type=cal); swaps.append(swap)\n",
    "swap = IborSwap(settlement_date, \"5Y\", swapType, -0.45100/100.0, fixedFreqType, fixedDCCType, calendar_type=cal); swaps.append(swap)\n",
    "swap = IborSwap(settlement_date, \"6Y\", swapType, -0.41500/100.0, fixedFreqType, fixedDCCType, calendar_type=cal); swaps.append(swap)\n",
    "swap = IborSwap(settlement_date, \"7Y\", swapType, -0.37530/100.0, fixedFreqType, fixedDCCType, calendar_type=cal); swaps.append(swap)\n",
    "swap = IborSwap(settlement_date, \"8Y\", swapType, -0.33250/100.0, fixedFreqType, fixedDCCType, calendar_type=cal); swaps.append(swap)\n",
    "swap = IborSwap(settlement_date, \"9Y\", swapType, -0.28810/100.0, fixedFreqType, fixedDCCType, calendar_type=cal); swaps.append(swap)\n",
    "swap = IborSwap(settlement_date, \"10Y\", swapType, -0.24180/100.0, fixedFreqType, fixedDCCType, calendar_type=cal); swaps.append(swap)\n",
    "swap = IborSwap(settlement_date, \"11Y\", swapType, -0.198/100.0, fixedFreqType, fixedDCCType, calendar_type=cal); swaps.append(swap)\n",
    "swap = IborSwap(settlement_date, \"12Y\", swapType, -0.156/100.0, fixedFreqType, fixedDCCType, calendar_type=cal); swaps.append(swap)\n",
    "swap = IborSwap(settlement_date, \"15Y\", swapType, -0.05375/100.0, fixedFreqType, fixedDCCType, calendar_type=cal); swaps.append(swap)\n",
    "swap = IborSwap(settlement_date, \"20Y\", swapType, 0.02325/100.0, fixedFreqType, fixedDCCType, calendar_type=cal); swaps.append(swap)\n",
    "swap = IborSwap(settlement_date, \"25Y\", swapType, 0.02300/100.0, fixedFreqType, fixedDCCType, calendar_type=cal); swaps.append(swap)\n",
    "swap = IborSwap(settlement_date, \"30Y\", swapType, -0.00510/100.0, fixedFreqType, fixedDCCType, calendar_type=cal); swaps.append(swap)\n",
    "swap = IborSwap(settlement_date, \"40Y\", swapType, -0.0627/100.0, fixedFreqType, fixedDCCType, calendar_type=cal); swaps.append(swap)\n",
    "swap = IborSwap(settlement_date, \"50Y\", swapType, -0.1125/100.0, fixedFreqType, fixedDCCType, calendar_type=cal); swaps.append(swap)\n",
    "\n",
    "iborDepos = depos.copy()\n",
    "iborFras = fras.copy()\n",
    "ibor_swaps = swaps.copy()"
   ]
  },
  {
   "cell_type": "code",
   "execution_count": 20,
   "metadata": {},
   "outputs": [],
   "source": [
    "iborSingleCurve = IborSingleCurve(valuation_date, iborDepos, iborFras, ibor_swaps, interp_type)"
   ]
  },
  {
   "cell_type": "code",
   "execution_count": 21,
   "metadata": {},
   "outputs": [],
   "source": [
    "iborDualCurve = IborDualCurve(valuation_date, oisCurve, iborDepos, iborFras, ibor_swaps, interp_type)"
   ]
  },
  {
   "cell_type": "code",
   "execution_count": 22,
   "metadata": {},
   "outputs": [
    {
     "name": "stdout",
     "output_type": "stream",
     "text": [
      " 28-OCT-2022  1.010356096 -0.515108\n",
      " 30-OCT-2023  1.015367804 -0.507429\n",
      " 28-OCT-2024  1.019538933 -0.483458\n",
      " 28-OCT-2025  1.022890635 -0.452459\n",
      " 28-OCT-2026  1.025325480 -0.416723\n",
      " 28-OCT-2027  1.026766277 -0.377298\n",
      " 30-OCT-2028  1.027162135 -0.334654\n",
      " 29-OCT-2029  1.026503523 -0.290513\n",
      " 28-OCT-2030  1.024741037 -0.244407\n",
      " 28-OCT-2031  1.022315447 -0.200688\n",
      " 28-OCT-2032  1.019211952 -0.158630\n",
      " 29-OCT-2035  1.008391078 -0.055830\n",
      " 29-OCT-2040  0.995528358  0.022246\n",
      " 30-OCT-2045  0.994433869  0.022192\n",
      " 28-OCT-2050  1.001741564 -0.005887\n",
      " 28-OCT-2060  1.025398973 -0.062722\n",
      " 28-OCT-2070  1.057126099 -0.111078\n"
     ]
    }
   ],
   "source": [
    "for swap in ibor_swaps:\n",
    "    dt = swap._maturity_date\n",
    "    df = iborDualCurve.df(dt) / iborDualCurve.df(settlement_date)\n",
    "    ccZeroRate = iborDualCurve.zero_rate(dt, FrequencyTypes.CONTINUOUS, DayCountTypes.ACT_365F)\n",
    "    print(\"%12s %12.9f %9.6f\"% (dt, df, ccZeroRate*100))"
   ]
  },
  {
   "cell_type": "markdown",
   "metadata": {},
   "source": [
    "## Swap Valuation"
   ]
  },
  {
   "cell_type": "code",
   "execution_count": 23,
   "metadata": {},
   "outputs": [],
   "source": [
    "fixedCpn = -0.4510/100.0\n",
    "start_date = settlement_date\n",
    "maturity_date = Date(28, 10, 2025)\n",
    "fixedDCCType = DayCountTypes.THIRTY_E_360_ISDA\n",
    "fixedFreqType = FrequencyTypes.ANNUAL\n",
    "floatDCCType = DayCountTypes.ACT_360\n",
    "floatFreqType = FrequencyTypes.SEMI_ANNUAL\n",
    "notional = 10 * ONE_MILLION"
   ]
  },
  {
   "cell_type": "code",
   "execution_count": 24,
   "metadata": {},
   "outputs": [],
   "source": [
    "iborSwap = IborSwap(start_date, maturity_date, SwapTypes.RECEIVE, \n",
    "                 fixedCpn, fixedFreqType, fixedDCCType, \n",
    "                 notional, \n",
    "                 0.0, floatFreqType, floatDCCType)"
   ]
  },
  {
   "cell_type": "code",
   "execution_count": 25,
   "metadata": {},
   "outputs": [
    {
     "data": {
      "text/plain": [
       "2.8812792152166367e-08"
      ]
     },
     "execution_count": 25,
     "metadata": {},
     "output_type": "execute_result"
    }
   ],
   "source": [
    "iborSwap.value(settlement_date, iborSingleCurve)"
   ]
  },
  {
   "cell_type": "code",
   "execution_count": 26,
   "metadata": {},
   "outputs": [
    {
     "data": {
      "text/plain": [
       "20.715399545180844"
      ]
     },
     "execution_count": 26,
     "metadata": {},
     "output_type": "execute_result"
    }
   ],
   "source": [
    "iborSwap.value(settlement_date, oisCurve, iborDualCurve)"
   ]
  },
  {
   "cell_type": "code",
   "execution_count": 27,
   "metadata": {},
   "outputs": [
    {
     "name": "stdout",
     "output_type": "stream",
     "text": [
      "START DATE: 28-OCT-2020\n",
      "MATURITY DATE: 28-OCT-2025\n",
      "COUPON (%): -0.451\n",
      "FREQUENCY: FrequencyTypes.ANNUAL\n",
      "DAY COUNT: DayCountTypes.THIRTY_E_360_ISDA\n",
      "PAY_DATE     ACCR_START   ACCR_END     DAYS  YEARFRAC    RATE      PAYMENT       DF          PV        CUM PV\n",
      "28-OCT-2021  28-OCT-2020  28-OCT-2021   360  1.000000  -0.45100    -45100.00  1.00523869    -45336.26    -45336.26\n",
      "28-OCT-2022  28-OCT-2021  28-OCT-2022   360  1.000000  -0.45100    -45100.00  1.01110078    -45600.65    -90936.91\n",
      "30-OCT-2023  28-OCT-2022  30-OCT-2023   362  1.005556  -0.45100    -45350.56  1.01691506    -46117.66   -137054.57\n",
      "28-OCT-2024  30-OCT-2023  28-OCT-2024   358  0.994444  -0.45100    -44849.44  1.02209477    -45840.38   -182894.96\n",
      "28-OCT-2025  28-OCT-2024  28-OCT-2025   360  1.000000  -0.45100    -45100.00  1.02647199    -46293.89   -229188.84\n"
     ]
    }
   ],
   "source": [
    "iborSwap.print_fixed_leg_pv()"
   ]
  },
  {
   "cell_type": "code",
   "execution_count": 28,
   "metadata": {},
   "outputs": [
    {
     "name": "stdout",
     "output_type": "stream",
     "text": [
      "START DATE: 28-OCT-2020\n",
      "MATURITY DATE: 28-OCT-2025\n",
      "SPREAD (BPS): 0.0\n",
      "FREQUENCY: FrequencyTypes.SEMI_ANNUAL\n",
      "DAY COUNT: DayCountTypes.ACT_360\n",
      "PAY_DATE     ACCR_START   ACCR_END     DAYS  YEARFRAC    IBOR      PAYMENT       DF          PV        CUM PV\n",
      "28-APR-2021  28-OCT-2020  28-APR-2021   182  0.505556   -0.49600    -25075.56  1.00249862    -25138.21    -25138.21\n",
      "28-OCT-2021  28-APR-2021  28-OCT-2021   183  0.508333   -0.50100    -25467.50  1.00523869    -25600.92    -50739.13\n",
      "28-APR-2022  28-OCT-2021  28-APR-2022   182  0.505556   -0.51900    -26238.33  1.00814172    -26451.96    -77191.08\n",
      "28-OCT-2022  28-APR-2022  28-OCT-2022   183  0.508333   -0.51373    -26114.38  1.01110078    -26404.27   -103595.35\n",
      "28-APR-2023  28-OCT-2022  28-APR-2023   182  0.505556   -0.48858    -24700.62  1.01402553    -25047.06   -128642.41\n",
      "30-OCT-2023  28-APR-2023  30-OCT-2023   185  0.513889   -0.48102    -24718.99  1.01691506    -25137.11   -153779.52\n",
      "29-APR-2024  30-OCT-2023  29-APR-2024   182  0.505556   -0.41683    -21073.31  1.01953294    -21484.94   -175264.46\n",
      "28-OCT-2024  29-APR-2024  28-OCT-2024   182  0.505556   -0.39324    -19880.50  1.02209477    -20319.76   -195584.22\n",
      "28-APR-2025  28-OCT-2024  28-APR-2025   182  0.505556   -0.33875    -17125.71  1.02433639    -17542.49   -213126.71\n",
      "28-OCT-2025  28-APR-2025  28-OCT-2025   183  0.508333   -0.30822    -15668.08  1.02647199    -16082.85   -229209.56\n"
     ]
    }
   ],
   "source": [
    "iborSwap.print_float_leg_pv()"
   ]
  },
  {
   "cell_type": "markdown",
   "metadata": {},
   "source": [
    "## Dual Curve"
   ]
  },
  {
   "cell_type": "markdown",
   "metadata": {},
   "source": [
    "Look at short end"
   ]
  },
  {
   "cell_type": "code",
   "execution_count": 29,
   "metadata": {},
   "outputs": [
    {
     "data": {
      "image/png": "[encoded data removed]",
      "text/plain": [
       "<Figure size 864x432 with 1 Axes>"
      ]
     },
     "metadata": {
      "needs_background": "light"
     },
     "output_type": "display_data"
    }
   ],
   "source": [
    "years = np.linspace(0, 2, 1000)\n",
    "dates = settlement_date.add_years(years)\n",
    "iborDualCurveFwds = iborDualCurve.fwd(dates)\n",
    "plt.figure(figsize=(12,6))\n",
    "plt.plot(years, iborDualCurveFwds*100.0, label=\"Euribor Dual Curve\")\n",
    "plt.xlabel(\"Years\")\n",
    "plt.ylabel(\"Continuously Compounded Forward Rate (%)\")\n",
    "plt.legend();"
   ]
  },
  {
   "cell_type": "markdown",
   "metadata": {},
   "source": [
    "Look at long end"
   ]
  },
  {
   "cell_type": "code",
   "execution_count": 30,
   "metadata": {},
   "outputs": [
    {
     "data": {
      "image/png": "[encoded data removed]",
      "text/plain": [
       "<Figure size 864x432 with 1 Axes>"
      ]
     },
     "metadata": {
      "needs_background": "light"
     },
     "output_type": "display_data"
    }
   ],
   "source": [
    "years = np.linspace(0, 50, 1000)\n",
    "dates = settlement_date.add_years(years)\n",
    "iborDualCurveFwds = iborDualCurve.fwd(dates)\n",
    "plt.figure(figsize=(12,6))\n",
    "plt.plot(years, iborDualCurveFwds*100.0, label=\"Euribor Dual Curve\")\n",
    "plt.xlabel(\"Years\")\n",
    "plt.ylabel(\"Continuously Compounded Forward Rate (%)\")\n",
    "plt.legend();"
   ]
  },
  {
   "cell_type": "markdown",
   "metadata": {},
   "source": [
    "Copyright (c) Dominic O'Kane 2020"
   ]
  }
 ],
 "metadata": {
  "kernelspec": {
   "display_name": "Python 3",
   "language": "python",
   "name": "python3"
  },
  "language_info": {
   "codemirror_mode": {
    "name": "ipython",
    "version": 3
   },
   "file_extension": ".py",
   "mimetype": "text/x-python",
   "name": "python",
   "nbconvert_exporter": "python",
   "pygments_lexer": "ipython3",
   "version": "3.8.5"
  }
 },
 "nbformat": 4,
 "nbformat_minor": 4
}
