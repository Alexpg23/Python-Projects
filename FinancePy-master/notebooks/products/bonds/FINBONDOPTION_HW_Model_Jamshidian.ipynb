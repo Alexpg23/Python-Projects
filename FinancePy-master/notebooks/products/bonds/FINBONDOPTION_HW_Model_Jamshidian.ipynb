{
 "cells": [
  {
   "cell_type": "markdown",
   "metadata": {},
   "source": [
    "# European Bond Option Pricing - HW Model Jamshidian"
   ]
  },
  {
   "cell_type": "markdown",
   "metadata": {},
   "source": [
    "Jamshidian's model is a fast way to price European bond options in the HW model. Her we value an option on a coupon paying bond using the Hull-White model and comparing the tree and the Jamshidian model for European Bond Options"
   ]
  },
  {
   "cell_type": "code",
   "execution_count": 1,
   "metadata": {},
   "outputs": [],
   "source": [
    "import numpy as np\n",
    "import matplotlib.pyplot as plt\n",
    "import time"
   ]
  },
  {
   "cell_type": "code",
   "execution_count": 3,
   "metadata": {},
   "outputs": [],
   "source": [
    "from financepy.utils import *\n",
    "from financepy.market.curves import *\n",
    "from financepy.models.hw_tree import HWTree, FinHWEuropeanCalcType\n",
    "from financepy.products.bonds import *"
   ]
  },
  {
   "cell_type": "markdown",
   "metadata": {},
   "source": [
    "## Set up Discount Curve"
   ]
  },
  {
   "cell_type": "code",
   "execution_count": 4,
   "metadata": {},
   "outputs": [],
   "source": [
    "settlement_date = Date(1, 12, 2019)"
   ]
  },
  {
   "cell_type": "markdown",
   "metadata": {},
   "source": [
    "Set up discount curve"
   ]
  },
  {
   "cell_type": "code",
   "execution_count": 6,
   "metadata": {},
   "outputs": [],
   "source": [
    "rate = 0.05\n",
    "dcType = DayCountTypes.THIRTY_360_BOND\n",
    "fixedFreq = FrequencyTypes.SEMI_ANNUAL\n",
    "discount_curve = DiscountCurveFlat(settlement_date, rate, fixedFreq, dcType)"
   ]
  },
  {
   "cell_type": "markdown",
   "metadata": {},
   "source": [
    "## Set up the Bond Option"
   ]
  },
  {
   "cell_type": "markdown",
   "metadata": {},
   "source": [
    "First create the bond"
   ]
  },
  {
   "cell_type": "code",
   "execution_count": 7,
   "metadata": {},
   "outputs": [],
   "source": [
    "issue_date = Date(1,12,2018)\n",
    "maturity_date = issue_date.add_tenor(\"10Y\")\n",
    "coupon = 0.06\n",
    "frequencyType = FrequencyTypes.SEMI_ANNUAL\n",
    "accrual_type = DayCountTypes.THIRTY_360_BOND\n",
    "bond = Bond(issue_date, maturity_date, coupon, frequencyType, accrual_type)"
   ]
  },
  {
   "cell_type": "markdown",
   "metadata": {},
   "source": [
    "Let's first price the bond on the libor curve"
   ]
  },
  {
   "cell_type": "code",
   "execution_count": 8,
   "metadata": {},
   "outputs": [
    {
     "name": "stdout",
     "output_type": "stream",
     "text": [
      "Fixed Income Clean Price:   107.177\n",
      "Fixed Income Full  Price:   110.177\n"
     ]
    }
   ],
   "source": [
    "cp = bond.clean_price_from_discount_curve(settlement_date, discount_curve)\n",
    "fp = bond.full_price_from_discount_curve(settlement_date, discount_curve)\n",
    "print(\"Fixed Income Clean Price: %9.3f\"% cp)\n",
    "print(\"Fixed Income Full  Price: %9.3f\"% fp)"
   ]
  },
  {
   "cell_type": "markdown",
   "metadata": {},
   "source": [
    "It's par as the discount rate is the same as the swap rate and the swap cash flows are 30/360 so like bond flows."
   ]
  },
  {
   "cell_type": "code",
   "execution_count": 9,
   "metadata": {},
   "outputs": [
    {
     "name": "stdout",
     "output_type": "stream",
     "text": [
      " 01-DEC-2019          3.00 \n",
      " 01-JUN-2020          3.00 \n",
      " 01-DEC-2020          3.00 \n",
      " 01-JUN-2021          3.00 \n",
      " 01-DEC-2021          3.00 \n",
      " 01-JUN-2022          3.00 \n",
      " 01-DEC-2022          3.00 \n",
      " 01-JUN-2023          3.00 \n",
      " 01-DEC-2023          3.00 \n",
      " 01-JUN-2024          3.00 \n",
      " 01-DEC-2024          3.00 \n",
      " 01-JUN-2025          3.00 \n",
      " 01-DEC-2025          3.00 \n",
      " 01-JUN-2026          3.00 \n",
      " 01-DEC-2026          3.00 \n",
      " 01-JUN-2027          3.00 \n",
      " 01-DEC-2027          3.00 \n",
      " 01-JUN-2028          3.00 \n",
      " 01-DEC-2028        103.00 \n"
     ]
    }
   ],
   "source": [
    "bond.print_flows(settlement_date)"
   ]
  },
  {
   "cell_type": "markdown",
   "metadata": {},
   "source": [
    "## Create the Bond Options"
   ]
  },
  {
   "cell_type": "markdown",
   "metadata": {},
   "source": [
    "Then define and create the options"
   ]
  },
  {
   "cell_type": "code",
   "execution_count": 10,
   "metadata": {},
   "outputs": [],
   "source": [
    "expiry_date = settlement_date.add_tenor(\"18m\")\n",
    "strike_price = 105.0\n",
    "face_amount = 100.0"
   ]
  },
  {
   "cell_type": "code",
   "execution_count": 11,
   "metadata": {},
   "outputs": [],
   "source": [
    "europeanCallBondOption = BondOption(bond, expiry_date, strike_price,\n",
    "                                       face_amount, OptionTypes.EUROPEAN_CALL)"
   ]
  },
  {
   "cell_type": "code",
   "execution_count": 12,
   "metadata": {},
   "outputs": [],
   "source": [
    "europeanPutBondOption = BondOption(bond, expiry_date, strike_price,\n",
    "                                      face_amount, OptionTypes.EUROPEAN_PUT)"
   ]
  },
  {
   "cell_type": "markdown",
   "metadata": {},
   "source": [
    "Let's look at the forward price to calculate intrinsic."
   ]
  },
  {
   "cell_type": "code",
   "execution_count": 13,
   "metadata": {},
   "outputs": [
    {
     "name": "stdout",
     "output_type": "stream",
     "text": [
      "Fixed Income Clean Price:   106.191\n",
      "Fixed Income Full  Price:   109.191\n"
     ]
    }
   ],
   "source": [
    "cp = bond.clean_price_from_discount_curve(expiry_date, discount_curve)\n",
    "fp = bond.full_price_from_discount_curve(expiry_date, discount_curve)\n",
    "print(\"Fixed Income Clean Price: %9.3f\"% cp)\n",
    "print(\"Fixed Income Full  Price: %9.3f\"% fp)"
   ]
  },
  {
   "cell_type": "code",
   "execution_count": 14,
   "metadata": {},
   "outputs": [],
   "source": [
    "df = discount_curve.df(expiry_date)"
   ]
  },
  {
   "cell_type": "code",
   "execution_count": 15,
   "metadata": {},
   "outputs": [],
   "source": [
    "CallPx = max(cp - strike_price,0) * df"
   ]
  },
  {
   "cell_type": "code",
   "execution_count": 16,
   "metadata": {},
   "outputs": [],
   "source": [
    "PutPx = max(strike_price - cp,0) * df"
   ]
  },
  {
   "cell_type": "code",
   "execution_count": 17,
   "metadata": {},
   "outputs": [
    {
     "name": "stdout",
     "output_type": "stream",
     "text": [
      "1.1056729769751705 0.0\n"
     ]
    }
   ],
   "source": [
    "print(CallPx, PutPx)"
   ]
  },
  {
   "cell_type": "markdown",
   "metadata": {},
   "source": [
    "## Setting up Models"
   ]
  },
  {
   "cell_type": "markdown",
   "metadata": {},
   "source": [
    "Set up all three bond option model"
   ]
  },
  {
   "cell_type": "code",
   "execution_count": 18,
   "metadata": {},
   "outputs": [],
   "source": [
    "sigma = 0.01\n",
    "a = 0.1\n",
    "num_steps = 200\n",
    "modelJamshidian = HWTree(sigma, a, num_steps, FinHWEuropeanCalcType.JAMSHIDIAN)\n",
    "modelExpiryOnly = HWTree(sigma, a, num_steps, FinHWEuropeanCalcType.EXPIRY_ONLY)\n",
    "modelExpiryTree = HWTree(sigma, a, num_steps, FinHWEuropeanCalcType.EXPIRY_TREE)"
   ]
  },
  {
   "cell_type": "markdown",
   "metadata": {},
   "source": [
    "## Comparing Jamshidian and Tree Implementations"
   ]
  },
  {
   "cell_type": "code",
   "execution_count": 19,
   "metadata": {},
   "outputs": [
    {
     "name": "stdout",
     "output_type": "stream",
     "text": [
      "European Call Jamshidian  Value:   4.47008\n",
      "European Call Expiry Only Value:   4.47687\n",
      "European Call Expiry Tree Value:   2.58983\n"
     ]
    }
   ],
   "source": [
    "ec1 = europeanCallBondOption.value(settlement_date, discount_curve, modelJamshidian)\n",
    "ec2 = europeanCallBondOption.value(settlement_date, discount_curve, modelExpiryOnly)\n",
    "ec3 = europeanCallBondOption.value(settlement_date, discount_curve, modelExpiryTree)\n",
    "print(\"European Call Jamshidian  Value: %9.5f\" % ec1)\n",
    "print(\"European Call Expiry Only Value: %9.5f\" % ec2)\n",
    "print(\"European Call Expiry Tree Value: %9.5f\" % ec3)"
   ]
  },
  {
   "cell_type": "code",
   "execution_count": 20,
   "metadata": {},
   "outputs": [
    {
     "name": "stdout",
     "output_type": "stream",
     "text": [
      "European Put Jamshidian Value:    0.60540\n",
      "European Put Expiry Only Value:   0.60916\n",
      "European Put Expiry Tree Value:   1.50772\n"
     ]
    }
   ],
   "source": [
    "ep1 = europeanPutBondOption.value(settlement_date, discount_curve, modelJamshidian)\n",
    "ep2 = europeanPutBondOption.value(settlement_date, discount_curve, modelExpiryOnly)\n",
    "ep3 = europeanPutBondOption.value(settlement_date, discount_curve, modelExpiryTree)\n",
    "print(\"European Put Jamshidian Value:  %9.5f\" % ep1)\n",
    "print(\"European Put Expiry Only Value: %9.5f\" % ep2)\n",
    "print(\"European Put Expiry Tree Value: %9.5f\" % ep3)"
   ]
  },
  {
   "cell_type": "markdown",
   "metadata": {},
   "source": [
    "## Timing Comparisons"
   ]
  },
  {
   "cell_type": "code",
   "execution_count": 21,
   "metadata": {},
   "outputs": [
    {
     "name": "stdout",
     "output_type": "stream",
     "text": [
      "936 µs ± 24.9 µs per loop (mean ± std. dev. of 7 runs, 1000 loops each)\n"
     ]
    }
   ],
   "source": [
    "%timeit ep1 = europeanPutBondOption.value(settlement_date, discount_curve, modelJamshidian)"
   ]
  },
  {
   "cell_type": "code",
   "execution_count": 22,
   "metadata": {},
   "outputs": [
    {
     "name": "stdout",
     "output_type": "stream",
     "text": [
      "2.94 ms ± 71.4 µs per loop (mean ± std. dev. of 7 runs, 100 loops each)\n"
     ]
    }
   ],
   "source": [
    "%timeit ep2 = europeanPutBondOption.value(settlement_date, discount_curve, modelExpiryOnly)"
   ]
  },
  {
   "cell_type": "code",
   "execution_count": 23,
   "metadata": {},
   "outputs": [
    {
     "name": "stdout",
     "output_type": "stream",
     "text": [
      "515 µs ± 5.41 µs per loop (mean ± std. dev. of 7 runs, 1000 loops each)\n"
     ]
    }
   ],
   "source": [
    "%timeit ep3 = europeanPutBondOption.value(settlement_date, discount_curve, modelExpiryTree)"
   ]
  },
  {
   "cell_type": "markdown",
   "metadata": {},
   "source": [
    "Interestingly, the expiry tree is fastest. Possibly because the Jamshidian main loop has not been Numba'd"
   ]
  },
  {
   "cell_type": "markdown",
   "metadata": {},
   "source": [
    "## Strike Dependency"
   ]
  },
  {
   "cell_type": "code",
   "execution_count": 24,
   "metadata": {},
   "outputs": [],
   "source": [
    "strikes = np.linspace(70,130,31)"
   ]
  },
  {
   "cell_type": "code",
   "execution_count": 25,
   "metadata": {},
   "outputs": [
    {
     "name": "stdout",
     "output_type": "stream",
     "text": [
      "K:  70.00000 JAMSHIDIAN:  36.36225  EXPIRY_ONLY:  36.39060  EXPIRY_TREE:  33.60499 \n",
      "K:  72.00000 JAMSHIDIAN:  34.50522  EXPIRY_ONLY:  34.53215  EXPIRY_TREE:  31.74654 \n",
      "K:  74.00000 JAMSHIDIAN:  32.64820  EXPIRY_ONLY:  32.67370  EXPIRY_TREE:  29.88809 \n",
      "K:  76.00000 JAMSHIDIAN:  30.79118  EXPIRY_ONLY:  30.81525  EXPIRY_TREE:  28.02964 \n",
      "K:  78.00000 JAMSHIDIAN:  28.93417  EXPIRY_ONLY:  28.95680  EXPIRY_TREE:  26.17119 \n",
      "K:  80.00000 JAMSHIDIAN:  27.07715  EXPIRY_ONLY:  27.09835  EXPIRY_TREE:  24.31274 \n",
      "K:  82.00000 JAMSHIDIAN:  25.22014  EXPIRY_ONLY:  25.23990  EXPIRY_TREE:  22.45429 \n",
      "K:  84.00000 JAMSHIDIAN:  23.36313  EXPIRY_ONLY:  23.38145  EXPIRY_TREE:  20.59584 \n",
      "K:  86.00000 JAMSHIDIAN:  21.50613  EXPIRY_ONLY:  21.52300  EXPIRY_TREE:  18.73740 \n",
      "K:  88.00000 JAMSHIDIAN:  19.64913  EXPIRY_ONLY:  19.66455  EXPIRY_TREE:  16.87905 \n",
      "K:  90.00000 JAMSHIDIAN:  17.79216  EXPIRY_ONLY:  17.80613  EXPIRY_TREE:  15.02108 \n",
      "K:  92.00000 JAMSHIDIAN:  15.93540  EXPIRY_ONLY:  15.94794  EXPIRY_TREE:  13.16537 \n",
      "K:  94.00000 JAMSHIDIAN:  14.07962  EXPIRY_ONLY:  14.09070  EXPIRY_TREE:  11.31644 \n",
      "K:  96.00000 JAMSHIDIAN:  12.22767  EXPIRY_ONLY:  12.23689  EXPIRY_TREE:   9.48523 \n",
      "K:  98.00000 JAMSHIDIAN:  10.38780  EXPIRY_ONLY:  10.39662  EXPIRY_TREE:   7.70591 \n",
      "K: 100.00000 JAMSHIDIAN:   8.57917  EXPIRY_ONLY:   8.58713  EXPIRY_TREE:   6.01862 \n",
      "K: 102.00000 JAMSHIDIAN:   6.83745  EXPIRY_ONLY:   6.84050  EXPIRY_TREE:   4.47851 \n",
      "K: 104.00000 JAMSHIDIAN:   5.21600  EXPIRY_ONLY:   5.21472  EXPIRY_TREE:   3.14437 \n",
      "K: 106.00000 JAMSHIDIAN:   3.77774  EXPIRY_ONLY:   3.78403  EXPIRY_TREE:   2.06597 \n",
      "K: 108.00000 JAMSHIDIAN:   2.57837  EXPIRY_ONLY:   2.58866  EXPIRY_TREE:   1.28123 \n",
      "K: 110.00000 JAMSHIDIAN:   1.64816  EXPIRY_ONLY:   1.65741  EXPIRY_TREE:   0.74036 \n",
      "K: 112.00000 JAMSHIDIAN:   0.98215  EXPIRY_ONLY:   0.98704  EXPIRY_TREE:   0.39748 \n",
      "K: 114.00000 JAMSHIDIAN:   0.54394  EXPIRY_ONLY:   0.54417  EXPIRY_TREE:   0.19797 \n",
      "K: 116.00000 JAMSHIDIAN:   0.27951  EXPIRY_ONLY:   0.27693  EXPIRY_TREE:   0.09145 \n",
      "K: 118.00000 JAMSHIDIAN:   0.13321  EXPIRY_ONLY:   0.13000  EXPIRY_TREE:   0.03922 \n",
      "K: 120.00000 JAMSHIDIAN:   0.05890  EXPIRY_ONLY:   0.05640  EXPIRY_TREE:   0.01563 \n",
      "K: 122.00000 JAMSHIDIAN:   0.02419  EXPIRY_ONLY:   0.02273  EXPIRY_TREE:   0.00579 \n",
      "K: 124.00000 JAMSHIDIAN:   0.00925  EXPIRY_ONLY:   0.00857  EXPIRY_TREE:   0.00200 \n",
      "K: 126.00000 JAMSHIDIAN:   0.00329  EXPIRY_ONLY:   0.00305  EXPIRY_TREE:   0.00064 \n",
      "K: 128.00000 JAMSHIDIAN:   0.00110  EXPIRY_ONLY:   0.00103  EXPIRY_TREE:   0.00019 \n",
      "K: 130.00000 JAMSHIDIAN:   0.00034  EXPIRY_ONLY:   0.00033  EXPIRY_TREE:   0.00005 \n"
     ]
    }
   ],
   "source": [
    "for K in strikes:\n",
    "    europeanCallBondOption = BondOption(bond, expiry_date, K, face_amount, OptionTypes.EUROPEAN_CALL)\n",
    "    ec1 = europeanCallBondOption.value(settlement_date, discount_curve, modelJamshidian)\n",
    "    ec2 = europeanCallBondOption.value(settlement_date, discount_curve, modelExpiryOnly)\n",
    "    ec3 = europeanCallBondOption.value(settlement_date, discount_curve, modelExpiryTree)    \n",
    "    print(\"K: %9.5f JAMSHIDIAN: %9.5f  EXPIRY_ONLY: %9.5f  EXPIRY_TREE: %9.5f \" %(K, ec1, ec2, ec3))"
   ]
  },
  {
   "cell_type": "markdown",
   "metadata": {},
   "source": [
    "All three methods are consistent."
   ]
  },
  {
   "cell_type": "markdown",
   "metadata": {},
   "source": [
    "Copyright (c) Dominic O'Kane 2020"
   ]
  }
 ],
 "metadata": {
  "kernelspec": {
   "display_name": "Python 3",
   "language": "python",
   "name": "python3"
  },
  "language_info": {
   "codemirror_mode": {
    "name": "ipython",
    "version": 3
   },
   "file_extension": ".py",
   "mimetype": "text/x-python",
   "name": "python",
   "nbconvert_exporter": "python",
   "pygments_lexer": "ipython3",
   "version": "3.8.8"
  }
 },
 "nbformat": 4,
 "nbformat_minor": 2
}
