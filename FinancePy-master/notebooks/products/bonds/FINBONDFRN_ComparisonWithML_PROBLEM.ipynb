{
 "cells": [
  {
   "cell_type": "markdown",
   "metadata": {},
   "source": [
    "# CITIGROUP FLOATING RATE NOTE ANALYSIS"
   ]
  },
  {
   "cell_type": "markdown",
   "metadata": {},
   "source": [
    "This is an analysis of floating rate notes. "
   ]
  },
  {
   "cell_type": "markdown",
   "metadata": {},
   "source": [
    "Based on an example https://fr.mathworks.com/help/finance/floatdiscmargin.html"
   ]
  },
  {
   "cell_type": "code",
   "execution_count": 1,
   "metadata": {},
   "outputs": [],
   "source": [
    "import numpy as np\n",
    "import matplotlib.pyplot as plt"
   ]
  },
  {
   "cell_type": "code",
   "execution_count": 2,
   "metadata": {},
   "outputs": [
    {
     "name": "stdout",
     "output_type": "stream",
     "text": [
      "####################################################################\n",
      "# FINANCEPY BETA Version 0.193 - This build:  19 Apr 2021 at 22:33 #\n",
      "#      This software is distributed FREE & WITHOUT ANY WARRANTY    #\n",
      "# For info and disclaimer - https://github.com/domokane/FinancePy  #\n",
      "#      Send any bug reports or comments to quant@financepy.com     #\n",
      "####################################################################\n",
      "\n"
     ]
    }
   ],
   "source": [
    "from financepy.products.rates import *\n",
    "from financepy.products.bonds import *\n",
    "from financepy.utils import *"
   ]
  },
  {
   "cell_type": "markdown",
   "metadata": {},
   "source": [
    "## Define the Details of the FRN"
   ]
  },
  {
   "cell_type": "code",
   "execution_count": 3,
   "metadata": {},
   "outputs": [],
   "source": [
    "issue_date = Date(15,1,2010)\n",
    "maturity_date = Date(15, 1, 2012)\n",
    "quoted_margin = 0.0050\n",
    "freq_type = FrequencyTypes.QUARTERLY\n",
    "accrual_type = DayCountTypes.ACT_360\n",
    "face = 100.0"
   ]
  },
  {
   "cell_type": "code",
   "execution_count": 4,
   "metadata": {},
   "outputs": [],
   "source": [
    "bond = BondFRN(issue_date, maturity_date, quoted_margin, freq_type, accrual_type, face)"
   ]
  },
  {
   "cell_type": "code",
   "execution_count": 5,
   "metadata": {},
   "outputs": [
    {
     "name": "stdout",
     "output_type": "stream",
     "text": [
      "OBJECT TYPE: BondFRN\n",
      "ISSUE DATE: 15-JAN-2010\n",
      "MATURITY DATE: 15-JAN-2012\n",
      "QUOTED MARGIN (bp): 50.0\n",
      "FREQUENCY: FrequencyTypes.QUARTERLY\n",
      "ACCRUAL TYPE: DayCountTypes.ACT_360\n",
      "FACE AMOUNT: 100.0\n",
      "\n"
     ]
    }
   ],
   "source": [
    "print(bond)"
   ]
  },
  {
   "cell_type": "code",
   "execution_count": 6,
   "metadata": {},
   "outputs": [],
   "source": [
    "settlement_date = Date(20, 1, 2011)"
   ]
  },
  {
   "cell_type": "code",
   "execution_count": 7,
   "metadata": {},
   "outputs": [
    {
     "name": "stdout",
     "output_type": "stream",
     "text": [
      "15-APR-2010\n",
      "15-JUL-2010\n",
      "15-OCT-2010\n",
      "15-JAN-2011\n",
      "15-APR-2011\n",
      "15-JUL-2011\n",
      "15-OCT-2011\n",
      "15-JAN-2012\n"
     ]
    }
   ],
   "source": [
    "bond.print_flows(settlement_date)"
   ]
  },
  {
   "cell_type": "markdown",
   "metadata": {},
   "source": [
    "## Analysis"
   ]
  },
  {
   "cell_type": "markdown",
   "metadata": {},
   "source": [
    "The simplest analysis of an FRN considers 3 Libor rates"
   ]
  },
  {
   "cell_type": "code",
   "execution_count": 8,
   "metadata": {},
   "outputs": [],
   "source": [
    "next_coupon = 0.050 # Full coupon to be paid that fixed on LCD consisting of Libor plus margin\n",
    "currentLibor = 0.049 # To next coupon date\n",
    "futureLibors = 0.050 # Forecast based on next Libor"
   ]
  },
  {
   "cell_type": "code",
   "execution_count": 9,
   "metadata": {},
   "outputs": [],
   "source": [
    "clean_price = 99.99"
   ]
  },
  {
   "cell_type": "code",
   "execution_count": 10,
   "metadata": {},
   "outputs": [
    {
     "name": "stdout",
     "output_type": "stream",
     "text": [
      "DISCOUNT MARGIN:   41.3019 bps\n"
     ]
    }
   ],
   "source": [
    "dm = bond.discount_margin(settlement_date, next_coupon, currentLibor, futureLibors, clean_price)\n",
    "print(\"DISCOUNT MARGIN: %9.4f bps\"% (dm*10000))"
   ]
  },
  {
   "cell_type": "code",
   "execution_count": 11,
   "metadata": {},
   "outputs": [
    {
     "name": "stdout",
     "output_type": "stream",
     "text": [
      "FULL PRICE FROM DM:   100.059444 \n"
     ]
    }
   ],
   "source": [
    "full_price = bond.full_price_from_dm(settlement_date, next_coupon, currentLibor, futureLibors, dm)\n",
    "print(\"FULL PRICE FROM DM: %12.6f \"% full_price)"
   ]
  },
  {
   "cell_type": "code",
   "execution_count": 12,
   "metadata": {},
   "outputs": [
    {
     "name": "stdout",
     "output_type": "stream",
     "text": [
      "Previous Coupon Date: 15-JAN-2011\n"
     ]
    }
   ],
   "source": [
    "prevCouponDt = bond._pcd\n",
    "print(\"Previous Coupon Date: %s\"% str(prevCouponDt))"
   ]
  },
  {
   "cell_type": "code",
   "execution_count": 13,
   "metadata": {},
   "outputs": [
    {
     "name": "stdout",
     "output_type": "stream",
     "text": [
      "Accrued Days:   5.00000\n"
     ]
    }
   ],
   "source": [
    "accddays = bond._accrued_days\n",
    "print(\"Accrued Days: %9.5f\"% accddays)"
   ]
  },
  {
   "cell_type": "code",
   "execution_count": 14,
   "metadata": {},
   "outputs": [
    {
     "name": "stdout",
     "output_type": "stream",
     "text": [
      "PRINCIPAL FROM DM:    99.990000 \n"
     ]
    }
   ],
   "source": [
    "principal = bond.principal(settlement_date, next_coupon, currentLibor, futureLibors, dm)\n",
    "print(\"PRINCIPAL FROM DM: %12.6f \"% principal)"
   ]
  },
  {
   "cell_type": "code",
   "execution_count": 15,
   "metadata": {},
   "outputs": [
    {
     "name": "stdout",
     "output_type": "stream",
     "text": [
      "Accrued Amount:   0.06944\n"
     ]
    }
   ],
   "source": [
    "accdAmount = bond._accrued_interest\n",
    "print(\"Accrued Amount: %9.5f\"% accdAmount)"
   ]
  },
  {
   "cell_type": "markdown",
   "metadata": {},
   "source": [
    "Cannot reconcile with Matlab"
   ]
  },
  {
   "cell_type": "markdown",
   "metadata": {},
   "source": [
    "Copyright (c) 2020 Dominic O'Kane"
   ]
  }
 ],
 "metadata": {
  "kernelspec": {
   "display_name": "Python 3",
   "language": "python",
   "name": "python3"
  },
  "language_info": {
   "codemirror_mode": {
    "name": "ipython",
    "version": 3
   },
   "file_extension": ".py",
   "mimetype": "text/x-python",
   "name": "python",
   "nbconvert_exporter": "python",
   "pygments_lexer": "ipython3",
   "version": "3.8.8"
  }
 },
 "nbformat": 4,
 "nbformat_minor": 2
}
