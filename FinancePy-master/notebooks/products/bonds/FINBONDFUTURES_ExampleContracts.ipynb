{
 "cells": [
  {
   "cell_type": "markdown",
   "metadata": {},
   "source": [
    "# ANALYSING BOND FUTURES CONTRACTS"
   ]
  },
  {
   "cell_type": "markdown",
   "metadata": {},
   "source": [
    "In this notebook I analyse a CME bond futures contract"
   ]
  },
  {
   "cell_type": "code",
   "execution_count": 1,
   "metadata": {},
   "outputs": [],
   "source": [
    "import datetime as dt"
   ]
  },
  {
   "cell_type": "code",
   "execution_count": 2,
   "metadata": {},
   "outputs": [
    {
     "name": "stdout",
     "output_type": "stream",
     "text": [
      "####################################################################\n",
      "# FINANCEPY BETA Version 0.193 - This build:  19 Apr 2021 at 22:33 #\n",
      "#      This software is distributed FREE & WITHOUT ANY WARRANTY    #\n",
      "# For info and disclaimer - https://github.com/domokane/FinancePy  #\n",
      "#      Send any bug reports or comments to quant@financepy.com     #\n",
      "####################################################################\n",
      "\n"
     ]
    }
   ],
   "source": [
    "from financepy.products.bonds import *\n",
    "from financepy.utils import *"
   ]
  },
  {
   "cell_type": "markdown",
   "metadata": {},
   "source": [
    "## Example from CME"
   ]
  },
  {
   "cell_type": "markdown",
   "metadata": {},
   "source": [
    "https://www.cmegroup.com/education/files/understanding-treasury-futures.pdf"
   ]
  },
  {
   "cell_type": "code",
   "execution_count": 3,
   "metadata": {},
   "outputs": [],
   "source": [
    "first_delivery_date = Date(1, 12, 2017)\n",
    "last_delivery_date = Date(28, 12, 2017)\n",
    "\n",
    "contract_size = 100000\n",
    "contractCoupon = 0.06\n",
    "\n",
    "bondFutureContract = BondFuture(\"TYZ7\", first_delivery_date, last_delivery_date,\n",
    "                                   contract_size, contractCoupon)"
   ]
  },
  {
   "cell_type": "code",
   "execution_count": 4,
   "metadata": {},
   "outputs": [
    {
     "name": "stdout",
     "output_type": "stream",
     "text": [
      "OBJECT TYPE: BondFuture\n",
      "TICKER NAME: TYZ7\n",
      "FIRST DELIVERY DATE: 01-DEC-2017\n",
      "LAST DELIVERY DATE: 28-DEC-2017\n",
      "CONTRACT SIZE: 100000\n",
      "COUPON: 0.06\n",
      "\n"
     ]
    }
   ],
   "source": [
    "print(bondFutureContract)"
   ]
  },
  {
   "cell_type": "code",
   "execution_count": 5,
   "metadata": {},
   "outputs": [],
   "source": [
    "freq = FrequencyTypes.SEMI_ANNUAL\n",
    "basis = DayCountTypes.ACT_ACT_ICMA\n",
    "settlement_date = Date(10, 10, 2017)\n",
    "issue_date = Date(1, 1, 2000) # Dummy"
   ]
  },
  {
   "cell_type": "code",
   "execution_count": 6,
   "metadata": {},
   "outputs": [],
   "source": [
    "bonds = []\n",
    "prices = []\n",
    "bond = Bond(issue_date, Date(15, 8, 2027), 0.0225, freq, basis); bonds.append(bond); prices.append(99 + 1 / 32)\n",
    "bond = Bond(issue_date, Date(15, 5, 2027), 0.02375, freq, basis); bonds.append(bond); prices.append(100 + 5 / 32 + 1 / 64)\n",
    "bond = Bond(issue_date, Date(15, 2, 2027), 0.0225, freq, basis); bonds.append(bond); prices.append(99 + 5 / 32 + 1 / 64)\n",
    "bond = Bond(issue_date, Date(15, 11, 2026), 0.02, freq, basis); bonds.append(bond); prices.append(97 + 7 / 32 + 1 / 64)\n",
    "bond = Bond(issue_date, Date(5, 8, 2026), 0.015, freq, basis); bonds.append(bond); prices.append(93 + 14 / 32)\n",
    "bond = Bond(issue_date, Date(15, 5, 2026), 0.01625, freq, basis); bonds.append(bond); prices.append(94 + 21 / 32 + 1 / 64)\n",
    "bond = Bond(issue_date, Date(15, 2, 2026), 0.01625, freq, basis); bonds.append(bond); prices.append(94 + 29 / 32)\n",
    "bond = Bond(issue_date, Date(15, 11, 2025), 0.0225, freq, basis); bonds.append(bond); prices.append(99 + 25 / 32)\n",
    "bond = Bond(issue_date, Date(15, 8, 2025), 0.02, freq, basis); bonds.append(bond); prices.append(98 + 3 / 32)\n",
    "bond = Bond(issue_date, Date(15, 5, 2025), 0.02125, freq, basis); bonds.append(bond); prices.append(99 + 5 / 32 + 1 / 64)\n",
    "bond = Bond(issue_date, Date(15, 2, 2025), 0.02, freq, basis); bonds.append(bond); prices.append(98 + 14 / 32 + 1 / 64)\n",
    "bond = Bond(issue_date, Date(15, 11, 2024), 0.0225, freq, basis); bonds.append(bond); prices.append(100 + 9 / 32 + 1 / 64)\n",
    "bond = Bond(issue_date, Date(15, 8, 2024), 0.02375, freq, basis); bonds.append(bond); prices.append(101 + 7 / 32 + 1 / 64)\n",
    "bond = Bond(issue_date, Date(15, 8, 2024), 0.01875, freq, basis); bonds.append(bond); prices.append(98 + 1 / 32 + 0/64) #TYPO IN REPT"
   ]
  },
  {
   "cell_type": "markdown",
   "metadata": {},
   "source": [
    "Calculate the bond yield"
   ]
  },
  {
   "cell_type": "code",
   "execution_count": 7,
   "metadata": {},
   "outputs": [
    {
     "name": "stdout",
     "output_type": "stream",
     "text": [
      "     Bond Maturity    Coupon        Yield\n",
      "       15-AUG-2027   2.25000   2.36049984\n",
      "       15-MAY-2027   2.37500   2.35463188\n",
      "       15-FEB-2027   2.25000   2.34885040\n",
      "       15-NOV-2026   2.00000   2.33900466\n",
      "       05-AUG-2026   1.50000   2.32695325\n",
      "       15-MAY-2026   1.62500   2.31166907\n",
      "       15-FEB-2026   1.62500   2.29879314\n",
      "       15-NOV-2025   2.25000   2.27946129\n",
      "       15-AUG-2025   2.00000   2.26615960\n",
      "       15-MAY-2025   2.12500   2.24388311\n",
      "       15-FEB-2025   2.00000   2.22903638\n",
      "       15-NOV-2024   2.25000   2.20429165\n",
      "       15-AUG-2024   2.37500   2.17956249\n",
      "       15-AUG-2024   1.87500   2.18575341\n"
     ]
    }
   ],
   "source": [
    "print(\"%18s %9s %12s\" % (\"Bond Maturity\", \"Coupon\", \"Yield\"))\n",
    "for bond, clean_price in zip(bonds, prices):\n",
    "    yld = bond.yield_to_maturity(settlement_date, clean_price)\n",
    "    dt = bond._maturity_date\n",
    "    print(\"%18s %9.5f %12.8f\"% (dt, bond._coupon * 100, yld*100))"
   ]
  },
  {
   "cell_type": "markdown",
   "metadata": {},
   "source": [
    "Get the conversion factors"
   ]
  },
  {
   "cell_type": "code",
   "execution_count": 8,
   "metadata": {},
   "outputs": [
    {
     "name": "stdout",
     "output_type": "stream",
     "text": [
      "     Bond Maturity    Coupon    Conv Fact\n",
      "       15-AUG-2027   2.25000  74.21220000\n",
      "       15-MAY-2027   2.37500  74.54960000\n",
      "       15-FEB-2027   2.25000  75.31350000\n",
      "       15-NOV-2026   2.00000  73.07560000\n",
      "       05-AUG-2026   1.50000  71.73750000\n",
      "       15-MAY-2026   1.62500  71.85660000\n",
      "       15-FEB-2026   1.62500  73.88580000\n",
      "       15-NOV-2025   2.25000  77.02690000\n",
      "       15-AUG-2025   2.00000  77.40790000\n",
      "       15-MAY-2025   2.12500  77.48700000\n",
      "       15-FEB-2025   2.00000  78.73010000\n",
      "       15-NOV-2024   2.25000  79.43430000\n",
      "       15-AUG-2024   2.37500  81.95840000\n",
      "       15-AUG-2024   1.87500  79.46990000\n"
     ]
    }
   ],
   "source": [
    "print(\"%18s %9s %12s\" % (\"Bond Maturity\", \"Coupon\", \"Conv Fact\"))\n",
    "for bond in bonds:\n",
    "    cf = bondFutureContract.conversion_factor(bond)\n",
    "    dt = bond._maturity_date\n",
    "    print(\"%18s %9.5f %12.8f\"% (dt, bond._coupon * 100, cf))"
   ]
  },
  {
   "cell_type": "code",
   "execution_count": 9,
   "metadata": {},
   "outputs": [],
   "source": [
    "# Get the Invoice Prices\n",
    "futures_price = 125 + 8/32 + 1/64"
   ]
  },
  {
   "cell_type": "code",
   "execution_count": 10,
   "metadata": {},
   "outputs": [
    {
     "data": {
      "text/plain": [
       "125.265625"
      ]
     },
     "execution_count": 10,
     "metadata": {},
     "output_type": "execute_result"
    }
   ],
   "source": [
    "futures_price"
   ]
  },
  {
   "cell_type": "code",
   "execution_count": 11,
   "metadata": {},
   "outputs": [
    {
     "name": "stdout",
     "output_type": "stream",
     "text": [
      "          MATURITY       COUPON     PRINC.INV. PRICE\n",
      "       15-AUG-2027      2.25000         9296237.6200\n",
      "       15-MAY-2027      2.37500         9338502.2400\n",
      "       15-FEB-2027      2.25000         9434192.6500\n",
      "       15-NOV-2026      2.00000         9153860.7100\n",
      "       05-AUG-2026      1.50000         8986242.7700\n",
      "       15-MAY-2026      1.62500         9001161.9100\n",
      "       15-FEB-2026      1.62500         9255350.9200\n",
      "       15-NOV-2025      2.25000         9648822.7700\n",
      "       15-AUG-2025      2.00000         9696548.9700\n",
      "       15-MAY-2025      2.12500         9706457.4800\n",
      "       15-FEB-2025      2.00000         9862175.1800\n",
      "       15-NOV-2024      2.25000         9950387.2400\n",
      "       15-AUG-2024      2.37500        10266570.2000\n",
      "       15-AUG-2024      1.87500         9954846.6900\n"
     ]
    }
   ],
   "source": [
    "print(\"%18s %12s %20s\"%(\"MATURITY\", \"COUPON\", \"PRINC.INV. PRICE\"))\n",
    "\n",
    "for bond in bonds:\n",
    "    pip = bondFutureContract.principal_invoice_price(bond, futures_price)\n",
    "    print(\"%18s %12.5f %20.4f\"% (str(bond._maturity_date), bond._coupon*100, pip))"
   ]
  },
  {
   "cell_type": "code",
   "execution_count": 12,
   "metadata": {},
   "outputs": [
    {
     "name": "stdout",
     "output_type": "stream",
     "text": [
      "          MATURITY       COUPON   DELIVERY GAIN/LOSS\n",
      "       15-AUG-2027      2.25000         9197206.3700\n",
      "       15-MAY-2027      2.37500         9238330.3650\n",
      "       15-FEB-2027      2.25000         9335020.7750\n",
      "       15-NOV-2026      2.00000         9056626.3350\n",
      "       05-AUG-2026      1.50000         8892805.2700\n",
      "       15-MAY-2026      1.62500         8906490.0350\n",
      "       15-FEB-2026      1.62500         9160444.6700\n",
      "       15-NOV-2025      2.25000         9549041.5200\n",
      "       15-AUG-2025      2.00000         9598455.2200\n",
      "       15-MAY-2025      2.12500         9607285.6050\n",
      "       15-FEB-2025      2.00000         9763722.0550\n",
      "       15-NOV-2024      2.25000         9850090.3650\n",
      "       15-AUG-2024      2.37500        10165335.8250\n",
      "       15-AUG-2024      1.87500         9856815.4400\n"
     ]
    }
   ],
   "source": [
    "print(\"%18s %12s %20s\" %(\"MATURITY\", \"COUPON\", \"DELIVERY GAIN/LOSS\"))\n",
    "\n",
    "for bond, clean_price in zip(bonds, prices):\n",
    "    gainloss, payForBond, receiveOnFuture = bondFutureContract.delivery_gain_loss(bond, clean_price, futures_price)\n",
    "    print(\"%18s %12.5f %20.4f\"% (str(bond._maturity_date), bond._coupon*100, gainloss))"
   ]
  },
  {
   "cell_type": "code",
   "execution_count": 13,
   "metadata": {},
   "outputs": [
    {
     "name": "stdout",
     "output_type": "stream",
     "text": [
      "CTD MATURITY CTD COUPON\n",
      "15-AUG-2024 2.375\n"
     ]
    }
   ],
   "source": [
    "ctd = bondFutureContract.cheapest_to_deliver(bonds, prices, futures_price)\n",
    "print(\"CTD MATURITY\", \"CTD COUPON\")\n",
    "print(str(ctd._maturity_date), ctd._coupon*100)"
   ]
  },
  {
   "cell_type": "markdown",
   "metadata": {},
   "source": [
    "Copyright (c) 2019, Dominic O'Kane "
   ]
  }
 ],
 "metadata": {
  "kernelspec": {
   "display_name": "Python 3",
   "language": "python",
   "name": "python3"
  },
  "language_info": {
   "codemirror_mode": {
    "name": "ipython",
    "version": 3
   },
   "file_extension": ".py",
   "mimetype": "text/x-python",
   "name": "python",
   "nbconvert_exporter": "python",
   "pygments_lexer": "ipython3",
   "version": "3.8.8"
  }
 },
 "nbformat": 4,
 "nbformat_minor": 2
}
