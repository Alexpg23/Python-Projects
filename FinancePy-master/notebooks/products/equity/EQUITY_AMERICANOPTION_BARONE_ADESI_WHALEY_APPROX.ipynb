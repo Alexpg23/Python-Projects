{
 "cells": [
  {
   "cell_type": "markdown",
   "metadata": {},
   "source": [
    "# EQUITY AMERICAN OPTION - BAW APPROXIMATION"
   ]
  },
  {
   "cell_type": "markdown",
   "metadata": {},
   "source": [
    "Valuation and Risk of American-style options on equity using BAW approximation"
   ]
  },
  {
   "cell_type": "code",
   "execution_count": 27,
   "metadata": {},
   "outputs": [],
   "source": [
    "import numpy as np\n",
    "import matplotlib.pyplot as plt"
   ]
  },
  {
   "cell_type": "code",
   "execution_count": 2,
   "metadata": {},
   "outputs": [],
   "source": [
    "from financepy.utils import *\n",
    "from financepy.market.curves.discount_curve_flat import *\n",
    "from financepy.products.equity import *\n",
    "from financepy.models.black_scholes import *"
   ]
  },
  {
   "cell_type": "markdown",
   "metadata": {},
   "source": [
    "# Define the Call and Put Options"
   ]
  },
  {
   "cell_type": "code",
   "execution_count": 3,
   "metadata": {},
   "outputs": [],
   "source": [
    "valuation_date = Date(8, 5, 2015)"
   ]
  },
  {
   "cell_type": "code",
   "execution_count": 4,
   "metadata": {},
   "outputs": [],
   "source": [
    "expiry_date = Date(15, 1, 2016)"
   ]
  },
  {
   "cell_type": "code",
   "execution_count": 5,
   "metadata": {},
   "outputs": [],
   "source": [
    "strike_price = 130"
   ]
  },
  {
   "cell_type": "markdown",
   "metadata": {},
   "source": [
    "Create the call Option"
   ]
  },
  {
   "cell_type": "code",
   "execution_count": 6,
   "metadata": {},
   "outputs": [],
   "source": [
    "amCallOption = EquityAmericanOption(expiry_date, strike_price, OptionTypes.AMERICAN_CALL)"
   ]
  },
  {
   "cell_type": "code",
   "execution_count": 7,
   "metadata": {},
   "outputs": [
    {
     "name": "stdout",
     "output_type": "stream",
     "text": [
      "OBJECT TYPE: EquityAmericanOption\n",
      "EXPIRY DATE: 15-JAN-2016\n",
      "STRIKE PRICE: 130\n",
      "OPTION TYPE: OptionTypes.AMERICAN_CALL\n",
      "NUMBER: 1.0\n"
     ]
    }
   ],
   "source": [
    "print(amCallOption)"
   ]
  },
  {
   "cell_type": "markdown",
   "metadata": {},
   "source": [
    "We can also define an American option with a European payoff - this way we will use the same CRR tree for the pricing."
   ]
  },
  {
   "cell_type": "code",
   "execution_count": 8,
   "metadata": {},
   "outputs": [],
   "source": [
    "euCallOption = EquityAmericanOption(expiry_date, strike_price, OptionTypes.EUROPEAN_CALL)"
   ]
  },
  {
   "cell_type": "markdown",
   "metadata": {},
   "source": [
    "We can also define an actual vanilla call option which will be priced using Black Scholes."
   ]
  },
  {
   "cell_type": "code",
   "execution_count": 9,
   "metadata": {},
   "outputs": [],
   "source": [
    "call_option = EquityVanillaOption(expiry_date, strike_price, OptionTypes.EUROPEAN_CALL)"
   ]
  },
  {
   "cell_type": "markdown",
   "metadata": {},
   "source": [
    "Now we can explore the pricing of all three to check for consistency and tree convergence."
   ]
  },
  {
   "cell_type": "markdown",
   "metadata": {},
   "source": [
    "## Valuation"
   ]
  },
  {
   "cell_type": "code",
   "execution_count": 10,
   "metadata": {},
   "outputs": [],
   "source": [
    "stock_price = 127.62\n",
    "volatility = 0.20\n",
    "interest_rate = 0.001\n",
    "dividend_yield = 0.0163"
   ]
  },
  {
   "cell_type": "code",
   "execution_count": 11,
   "metadata": {},
   "outputs": [],
   "source": [
    "discount_curve = DiscountCurveFlat(valuation_date, interest_rate,\n",
    "                                     FrequencyTypes.CONTINUOUS, \n",
    "                                     DayCountTypes.ACT_365F)"
   ]
  },
  {
   "cell_type": "code",
   "execution_count": 12,
   "metadata": {},
   "outputs": [],
   "source": [
    "dividend_curve = DiscountCurveFlat(valuation_date, dividend_yield)"
   ]
  },
  {
   "cell_type": "markdown",
   "metadata": {},
   "source": [
    "We now define the model. This is Black-Scholes. We can also specify the number of steps to use on the tree,"
   ]
  },
  {
   "cell_type": "code",
   "execution_count": 13,
   "metadata": {},
   "outputs": [],
   "source": [
    "num_steps_per_year = 400"
   ]
  },
  {
   "cell_type": "code",
   "execution_count": 16,
   "metadata": {},
   "outputs": [],
   "source": [
    "modelTree = BlackScholes(volatility, \n",
    "                                 BlackScholesTypes.CRR_TREE, \n",
    "                                 num_steps_per_year )"
   ]
  },
  {
   "cell_type": "code",
   "execution_count": 17,
   "metadata": {},
   "outputs": [
    {
     "data": {
      "text/plain": [
       "6.8391380697921615"
      ]
     },
     "execution_count": 17,
     "metadata": {},
     "output_type": "execute_result"
    }
   ],
   "source": [
    "amCallOption.value(valuation_date, stock_price, discount_curve, dividend_curve, modelTree)"
   ]
  },
  {
   "cell_type": "code",
   "execution_count": 18,
   "metadata": {},
   "outputs": [],
   "source": [
    "modelApprox = BlackScholes(volatility, BlackScholesTypes.BARONE_ADESI)"
   ]
  },
  {
   "cell_type": "code",
   "execution_count": 19,
   "metadata": {},
   "outputs": [
    {
     "data": {
      "text/plain": [
       "6.827753597158057"
      ]
     },
     "execution_count": 19,
     "metadata": {},
     "output_type": "execute_result"
    }
   ],
   "source": [
    "amCallOption.value(valuation_date, stock_price, discount_curve, dividend_curve, modelApprox)"
   ]
  },
  {
   "cell_type": "markdown",
   "metadata": {},
   "source": [
    "Compare it to European using same tree"
   ]
  },
  {
   "cell_type": "code",
   "execution_count": 20,
   "metadata": {},
   "outputs": [
    {
     "data": {
      "text/plain": [
       "6.751136062156512"
      ]
     },
     "execution_count": 20,
     "metadata": {},
     "output_type": "execute_result"
    }
   ],
   "source": [
    "euCallOption.value(valuation_date, stock_price, discount_curve, dividend_curve, modelTree)"
   ]
  },
  {
   "cell_type": "markdown",
   "metadata": {},
   "source": [
    "This is lower as we would expect due to the lack of early exercise. Let's check this against the Black Scholes model analytical form."
   ]
  },
  {
   "cell_type": "code",
   "execution_count": 21,
   "metadata": {},
   "outputs": [],
   "source": [
    "modelAnal = BlackScholes(volatility, BlackScholesTypes.ANALYTICAL)"
   ]
  },
  {
   "cell_type": "code",
   "execution_count": 22,
   "metadata": {},
   "outputs": [
    {
     "data": {
      "text/plain": [
       "6.749356623876585"
      ]
     },
     "execution_count": 22,
     "metadata": {},
     "output_type": "execute_result"
    }
   ],
   "source": [
    "call_option.value(valuation_date, stock_price, discount_curve, dividend_curve, modelAnal)"
   ]
  },
  {
   "cell_type": "markdown",
   "metadata": {},
   "source": [
    "The price is close to the 6.74927 found by QL - see http://gouthamanbalaraman.com/blog/european-option-binomial-tree-quantlib-python.html. Differences with QL could be due to differences in time calculations. It is also different from the Tree value but that is a tree convergence issue. Let's see how good convergence is."
   ]
  },
  {
   "cell_type": "markdown",
   "metadata": {},
   "source": [
    "## Tree Convergence"
   ]
  },
  {
   "cell_type": "code",
   "execution_count": 23,
   "metadata": {},
   "outputs": [],
   "source": [
    "num_steps_per_year = range(5, 200, 1)"
   ]
  },
  {
   "cell_type": "code",
   "execution_count": 28,
   "metadata": {},
   "outputs": [],
   "source": [
    "amTreeValue = []\n",
    "amBAWValue = []\n",
    "euTreeValue = []\n",
    "euAnalValue = []\n",
    "\n",
    "volatility = 0.20\n",
    "\n",
    "for num_steps in num_steps_per_year:\n",
    "\n",
    "    modelTree = BlackScholes(volatility,\n",
    "                                     BlackScholesTypes.CRR_TREE,\n",
    "                                     num_steps)\n",
    "\n",
    "    modelAnal = BlackScholes(volatility, \n",
    "                                     BlackScholesTypes.ANALYTICAL)\n",
    "\n",
    "    modelBAW = BlackScholes(volatility, \n",
    "                                    BlackScholesTypes.BARONE_ADESI)\n",
    "\n",
    "    v_am = amCallOption.value(valuation_date, stock_price, discount_curve, dividend_curve, modelTree)\n",
    "    v_eu = euCallOption.value(valuation_date, stock_price, discount_curve, dividend_curve, modelTree)\n",
    "    v_bs = call_option.value(valuation_date, stock_price, discount_curve, dividend_curve, modelAnal)\n",
    "    v_am_baw = amCallOption.value(valuation_date, stock_price, discount_curve, dividend_curve, modelBAW)\n",
    "\n",
    "    amTreeValue.append(v_am)\n",
    "    euTreeValue.append(v_eu)\n",
    "    euAnalValue.append(v_bs)\n",
    "    amBAWValue.append(v_am_baw)\n"
   ]
  },
  {
   "cell_type": "code",
   "execution_count": 29,
   "metadata": {},
   "outputs": [
    {
     "data": {
      "image/png": "[encoded data removed]",
      "text/plain": [
       "<Figure size 432x288 with 1 Axes>"
      ]
     },
     "metadata": {
      "needs_background": "light"
     },
     "output_type": "display_data"
    }
   ],
   "source": [
    "plt.title(\"American Option Price Convergence Analysis\")\n",
    "plt.plot(num_steps_per_year, amTreeValue, label=\"American Tree\")\n",
    "plt.plot(num_steps_per_year, amBAWValue, label=\"American BAW\")\n",
    "plt.plot(num_steps_per_year, euTreeValue, label=\"European Tree\")\n",
    "plt.plot(num_steps_per_year, euAnalValue, label=\"European Anal\", lw =2)\n",
    "plt.xlabel(\"NumSteps\")\n",
    "plt.ylabel(\"Value\")\n",
    "plt.legend();"
   ]
  },
  {
   "cell_type": "markdown",
   "metadata": {},
   "source": [
    "Agreement with QL is very good and tree convergence appears much better - probably assisted by fact that I average even and odd numbers of steps internally."
   ]
  },
  {
   "cell_type": "markdown",
   "metadata": {},
   "source": [
    "Copyright (c) 2020 Dominic O'Kane"
   ]
  }
 ],
 "metadata": {
  "kernelspec": {
   "display_name": "Python 3",
   "language": "python",
   "name": "python3"
  },
  "language_info": {
   "codemirror_mode": {
    "name": "ipython",
    "version": 3
   },
   "file_extension": ".py",
   "mimetype": "text/x-python",
   "name": "python",
   "nbconvert_exporter": "python",
   "pygments_lexer": "ipython3",
   "version": "3.8.5"
  }
 },
 "nbformat": 4,
 "nbformat_minor": 2
}
