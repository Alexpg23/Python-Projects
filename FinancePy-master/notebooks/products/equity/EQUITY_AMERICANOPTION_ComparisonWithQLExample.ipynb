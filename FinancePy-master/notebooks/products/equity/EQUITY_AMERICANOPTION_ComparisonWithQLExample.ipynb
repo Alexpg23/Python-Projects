{
 "cells": [
  {
   "cell_type": "markdown",
   "metadata": {},
   "source": [
    "# EQUITY AMERICAN OPTION - QL COMPARISON"
   ]
  },
  {
   "cell_type": "markdown",
   "metadata": {},
   "source": [
    "Valuation and Risk of American-style options on equity compared with example at\n",
    "http://gouthamanbalaraman.com/blog/american-option-pricing-quantlib-python.html"
   ]
  },
  {
   "cell_type": "code",
   "execution_count": 1,
   "metadata": {
    "execution": {
     "iopub.execute_input": "2021-01-17T21:43:39.060178Z",
     "iopub.status.busy": "2021-01-17T21:43:39.060178Z",
     "iopub.status.idle": "2021-01-17T21:43:39.310618Z",
     "shell.execute_reply": "2021-01-17T21:43:39.309620Z"
    }
   },
   "outputs": [],
   "source": [
    "import numpy as np\n",
    "import matplotlib.pyplot as plt"
   ]
  },
  {
   "cell_type": "code",
   "execution_count": 3,
   "metadata": {
    "execution": {
     "iopub.execute_input": "2021-01-17T21:43:39.312612Z",
     "iopub.status.busy": "2021-01-17T21:43:39.312612Z",
     "iopub.status.idle": "2021-01-17T21:43:40.525596Z",
     "shell.execute_reply": "2021-01-17T21:43:40.525596Z"
    }
   },
   "outputs": [
    {
     "name": "stderr",
     "output_type": "stream",
     "text": [
      "C:\\Users\\Dominic\\anaconda3\\lib\\site-packages\\numba\\np\\ufunc\\parallel.py:363: NumbaWarning: \u001b[1mThe TBB threading layer requires TBB version 2019.5 or later i.e., TBB_INTERFACE_VERSION >= 11005. Found TBB_INTERFACE_VERSION = 7004. The TBB threading layer is disabled.\u001b[0m\n",
      "  warnings.warn(problem)\n"
     ]
    }
   ],
   "source": [
    "from financepy.utils import *\n",
    "from financepy.market.curves.discount_curve_flat import *\n",
    "from financepy.products.equity import *\n",
    "from financepy.models.black_scholes import *"
   ]
  },
  {
   "cell_type": "markdown",
   "metadata": {},
   "source": [
    "# Define the Call and Put Options"
   ]
  },
  {
   "cell_type": "code",
   "execution_count": 4,
   "metadata": {
    "execution": {
     "iopub.execute_input": "2021-01-17T21:43:40.541587Z",
     "iopub.status.busy": "2021-01-17T21:43:40.541587Z",
     "iopub.status.idle": "2021-01-17T21:43:40.546540Z",
     "shell.execute_reply": "2021-01-17T21:43:40.546540Z"
    }
   },
   "outputs": [],
   "source": [
    "valuation_date = Date(8, 5, 2015)"
   ]
  },
  {
   "cell_type": "code",
   "execution_count": 5,
   "metadata": {
    "execution": {
     "iopub.execute_input": "2021-01-17T21:43:40.549597Z",
     "iopub.status.busy": "2021-01-17T21:43:40.548563Z",
     "iopub.status.idle": "2021-01-17T21:43:40.550530Z",
     "shell.execute_reply": "2021-01-17T21:43:40.550530Z"
    }
   },
   "outputs": [],
   "source": [
    "expiry_date = Date(15, 1, 2016)"
   ]
  },
  {
   "cell_type": "code",
   "execution_count": 6,
   "metadata": {
    "execution": {
     "iopub.execute_input": "2021-01-17T21:43:40.553522Z",
     "iopub.status.busy": "2021-01-17T21:43:40.552524Z",
     "iopub.status.idle": "2021-01-17T21:43:40.556515Z",
     "shell.execute_reply": "2021-01-17T21:43:40.555516Z"
    }
   },
   "outputs": [],
   "source": [
    "strike_price = 130"
   ]
  },
  {
   "cell_type": "markdown",
   "metadata": {},
   "source": [
    "Create the call Option"
   ]
  },
  {
   "cell_type": "code",
   "execution_count": 7,
   "metadata": {
    "execution": {
     "iopub.execute_input": "2021-01-17T21:43:40.559505Z",
     "iopub.status.busy": "2021-01-17T21:43:40.559505Z",
     "iopub.status.idle": "2021-01-17T21:43:40.561500Z",
     "shell.execute_reply": "2021-01-17T21:43:40.561500Z"
    }
   },
   "outputs": [],
   "source": [
    "amCallOption = EquityAmericanOption(expiry_date, strike_price, OptionTypes.AMERICAN_CALL)"
   ]
  },
  {
   "cell_type": "code",
   "execution_count": 8,
   "metadata": {
    "execution": {
     "iopub.execute_input": "2021-01-17T21:43:40.564493Z",
     "iopub.status.busy": "2021-01-17T21:43:40.564493Z",
     "iopub.status.idle": "2021-01-17T21:43:40.567485Z",
     "shell.execute_reply": "2021-01-17T21:43:40.567485Z"
    }
   },
   "outputs": [
    {
     "name": "stdout",
     "output_type": "stream",
     "text": [
      "OBJECT TYPE: EquityAmericanOption\n",
      "EXPIRY DATE: 15-JAN-2016\n",
      "STRIKE PRICE: 130\n",
      "OPTION TYPE: OptionTypes.AMERICAN_CALL\n",
      "NUMBER: 1.0\n"
     ]
    }
   ],
   "source": [
    "print(amCallOption)"
   ]
  },
  {
   "cell_type": "markdown",
   "metadata": {},
   "source": [
    "We can also define an American option with a European payoff - this way we will use the same CRR tree for the pricing."
   ]
  },
  {
   "cell_type": "code",
   "execution_count": 9,
   "metadata": {
    "execution": {
     "iopub.execute_input": "2021-01-17T21:43:40.569479Z",
     "iopub.status.busy": "2021-01-17T21:43:40.569479Z",
     "iopub.status.idle": "2021-01-17T21:43:40.573469Z",
     "shell.execute_reply": "2021-01-17T21:43:40.572471Z"
    }
   },
   "outputs": [],
   "source": [
    "euCallOption = EquityAmericanOption(expiry_date, strike_price, OptionTypes.EUROPEAN_CALL)"
   ]
  },
  {
   "cell_type": "code",
   "execution_count": 10,
   "metadata": {
    "execution": {
     "iopub.execute_input": "2021-01-17T21:43:40.577458Z",
     "iopub.status.busy": "2021-01-17T21:43:40.576464Z",
     "iopub.status.idle": "2021-01-17T21:43:40.579453Z",
     "shell.execute_reply": "2021-01-17T21:43:40.579453Z"
    }
   },
   "outputs": [
    {
     "name": "stdout",
     "output_type": "stream",
     "text": [
      "OBJECT TYPE: EquityAmericanOption\n",
      "EXPIRY DATE: 15-JAN-2016\n",
      "STRIKE PRICE: 130\n",
      "OPTION TYPE: OptionTypes.EUROPEAN_CALL\n",
      "NUMBER: 1.0\n"
     ]
    }
   ],
   "source": [
    "print(euCallOption)"
   ]
  },
  {
   "cell_type": "markdown",
   "metadata": {},
   "source": [
    "We can also define an actual vanilla call option which will be priced using Black Scholes."
   ]
  },
  {
   "cell_type": "code",
   "execution_count": 11,
   "metadata": {
    "execution": {
     "iopub.execute_input": "2021-01-17T21:43:40.582445Z",
     "iopub.status.busy": "2021-01-17T21:43:40.581447Z",
     "iopub.status.idle": "2021-01-17T21:43:40.584439Z",
     "shell.execute_reply": "2021-01-17T21:43:40.584439Z"
    }
   },
   "outputs": [],
   "source": [
    "call_option = EquityVanillaOption(expiry_date, strike_price, OptionTypes.EUROPEAN_CALL)"
   ]
  },
  {
   "cell_type": "code",
   "execution_count": 12,
   "metadata": {
    "execution": {
     "iopub.execute_input": "2021-01-17T21:43:40.586457Z",
     "iopub.status.busy": "2021-01-17T21:43:40.586457Z",
     "iopub.status.idle": "2021-01-17T21:43:40.588428Z",
     "shell.execute_reply": "2021-01-17T21:43:40.588428Z"
    }
   },
   "outputs": [
    {
     "name": "stdout",
     "output_type": "stream",
     "text": [
      "OBJECT TYPE: EquityVanillaOption\n",
      "EXPIRY DATE: 15-JAN-2016\n",
      "STRIKE PRICE: 130\n",
      "OPTION TYPE: OptionTypes.EUROPEAN_CALL\n",
      "NUMBER: 1.0\n"
     ]
    }
   ],
   "source": [
    "print(call_option)"
   ]
  },
  {
   "cell_type": "markdown",
   "metadata": {},
   "source": [
    "Now we can explore the pricing of all three to check for consistency and tree convergence."
   ]
  },
  {
   "cell_type": "markdown",
   "metadata": {},
   "source": [
    "## Valuation"
   ]
  },
  {
   "cell_type": "code",
   "execution_count": 13,
   "metadata": {
    "execution": {
     "iopub.execute_input": "2021-01-17T21:43:40.590461Z",
     "iopub.status.busy": "2021-01-17T21:43:40.590461Z",
     "iopub.status.idle": "2021-01-17T21:43:40.593415Z",
     "shell.execute_reply": "2021-01-17T21:43:40.593415Z"
    }
   },
   "outputs": [],
   "source": [
    "stock_price = 127.62\n",
    "volatility = 0.20\n",
    "interest_rate = 0.001\n",
    "dividend_yield = 0.0163"
   ]
  },
  {
   "cell_type": "code",
   "execution_count": 14,
   "metadata": {
    "execution": {
     "iopub.execute_input": "2021-01-17T21:43:40.596407Z",
     "iopub.status.busy": "2021-01-17T21:43:40.595409Z",
     "iopub.status.idle": "2021-01-17T21:43:40.602391Z",
     "shell.execute_reply": "2021-01-17T21:43:40.602391Z"
    }
   },
   "outputs": [],
   "source": [
    "discount_curve = DiscountCurveFlat(valuation_date, interest_rate)"
   ]
  },
  {
   "cell_type": "code",
   "execution_count": 15,
   "metadata": {
    "execution": {
     "iopub.execute_input": "2021-01-17T21:43:40.608375Z",
     "iopub.status.busy": "2021-01-17T21:43:40.607378Z",
     "iopub.status.idle": "2021-01-17T21:43:40.611367Z",
     "shell.execute_reply": "2021-01-17T21:43:40.610387Z"
    }
   },
   "outputs": [],
   "source": [
    "dividend_curve = DiscountCurveFlat(valuation_date, dividend_yield)"
   ]
  },
  {
   "cell_type": "markdown",
   "metadata": {},
   "source": [
    "We now define the model. This is Black-Scholes. We can also specify the number of steps to use on the tree,"
   ]
  },
  {
   "cell_type": "code",
   "execution_count": 16,
   "metadata": {
    "execution": {
     "iopub.execute_input": "2021-01-17T21:43:40.614359Z",
     "iopub.status.busy": "2021-01-17T21:43:40.613382Z",
     "iopub.status.idle": "2021-01-17T21:43:40.617382Z",
     "shell.execute_reply": "2021-01-17T21:43:40.616354Z"
    }
   },
   "outputs": [],
   "source": [
    "num_steps_per_year = 400"
   ]
  },
  {
   "cell_type": "code",
   "execution_count": 17,
   "metadata": {},
   "outputs": [],
   "source": [
    "implementationType = BlackScholesTypes.CRR_TREE"
   ]
  },
  {
   "cell_type": "code",
   "execution_count": 18,
   "metadata": {
    "execution": {
     "iopub.execute_input": "2021-01-17T21:43:40.622339Z",
     "iopub.status.busy": "2021-01-17T21:43:40.622339Z",
     "iopub.status.idle": "2021-01-17T21:43:40.624333Z",
     "shell.execute_reply": "2021-01-17T21:43:40.624333Z"
    }
   },
   "outputs": [],
   "source": [
    "model = BlackScholes(volatility, implementationType, num_steps_per_year)"
   ]
  },
  {
   "cell_type": "code",
   "execution_count": 19,
   "metadata": {
    "execution": {
     "iopub.execute_input": "2021-01-17T21:43:40.627324Z",
     "iopub.status.busy": "2021-01-17T21:43:40.627324Z",
     "iopub.status.idle": "2021-01-17T21:43:40.834790Z",
     "shell.execute_reply": "2021-01-17T21:43:40.833809Z"
    }
   },
   "outputs": [
    {
     "data": {
      "text/plain": [
       "6.839133503553418"
      ]
     },
     "execution_count": 19,
     "metadata": {},
     "output_type": "execute_result"
    }
   ],
   "source": [
    "amCallOption.value(valuation_date, stock_price, discount_curve, dividend_curve, model)"
   ]
  },
  {
   "cell_type": "markdown",
   "metadata": {},
   "source": [
    "Compare it to European using same tree"
   ]
  },
  {
   "cell_type": "code",
   "execution_count": 20,
   "metadata": {},
   "outputs": [
    {
     "data": {
      "text/plain": [
       "6.7511306397034225"
      ]
     },
     "execution_count": 20,
     "metadata": {},
     "output_type": "execute_result"
    }
   ],
   "source": [
    "euCallOption.value(valuation_date, stock_price, discount_curve, dividend_curve, model)"
   ]
  },
  {
   "cell_type": "markdown",
   "metadata": {},
   "source": [
    "This is lower as we would expect due to the lack of early exercise. Let's check this against the Black Scholes model analytical form."
   ]
  },
  {
   "cell_type": "code",
   "execution_count": 21,
   "metadata": {},
   "outputs": [
    {
     "data": {
      "text/plain": [
       "6.74935120171786"
      ]
     },
     "execution_count": 21,
     "metadata": {},
     "output_type": "execute_result"
    }
   ],
   "source": [
    "call_option.value(valuation_date, stock_price, discount_curve, dividend_curve, model)"
   ]
  },
  {
   "cell_type": "markdown",
   "metadata": {},
   "source": [
    "The price is close to the 6.74927 found by QL - see http://gouthamanbalaraman.com/blog/european-option-binomial-tree-quantlib-python.html. Differences with QL could be due to differences in time calculations. It is also different from the Tree value but that is a tree convergence issue. Let's see how good convergence is."
   ]
  },
  {
   "cell_type": "markdown",
   "metadata": {},
   "source": [
    "## Tree Convergence"
   ]
  },
  {
   "cell_type": "code",
   "execution_count": 22,
   "metadata": {},
   "outputs": [],
   "source": [
    "num_steps_per_year = range(5, 200, 1)"
   ]
  },
  {
   "cell_type": "code",
   "execution_count": 23,
   "metadata": {},
   "outputs": [],
   "source": [
    "amTreeValue = []\n",
    "euTreeValue = []\n",
    "euAnalValue = []\n",
    "volatility = 0.20\n",
    "\n",
    "for num_steps in num_steps_per_year:\n",
    "    model = BlackScholes(volatility, BlackScholesTypes.CRR_TREE, num_steps)\n",
    "    v_am = amCallOption.value(valuation_date, stock_price, discount_curve, dividend_curve, model)\n",
    "    v_eu = euCallOption.value(valuation_date, stock_price, discount_curve, dividend_curve, model)\n",
    "    v_bs = call_option.value(valuation_date, stock_price, discount_curve, dividend_curve, model)\n",
    "    \n",
    "    amTreeValue.append(v_am)\n",
    "    euTreeValue.append(v_eu)\n",
    "    euAnalValue.append(v_bs)"
   ]
  },
  {
   "cell_type": "code",
   "execution_count": 24,
   "metadata": {},
   "outputs": [
    {
     "data": {
      "image/png": "[encoded data removed]",
      "text/plain": [
       "<Figure size 432x288 with 1 Axes>"
      ]
     },
     "metadata": {
      "needs_background": "light"
     },
     "output_type": "display_data"
    }
   ],
   "source": [
    "plt.title(\"American Option Price Convergence Analysis\")\n",
    "plt.plot(num_steps_per_year, amTreeValue, label=\"American Tree\")\n",
    "plt.plot(num_steps_per_year, euTreeValue, label=\"European Tree\")\n",
    "plt.plot(num_steps_per_year, euAnalValue, label=\"European Anal\", lw =2)\n",
    "plt.xlabel(\"NumSteps\")\n",
    "plt.ylabel(\"Value\")\n",
    "plt.legend();"
   ]
  },
  {
   "cell_type": "markdown",
   "metadata": {},
   "source": [
    "Agreement with QL is very good and tree convergence appears much better - probably assisted by fact that I average even and odd numbers of steps internally."
   ]
  },
  {
   "cell_type": "markdown",
   "metadata": {},
   "source": [
    "Copyright (c) 2020 Dominic O'Kane"
   ]
  }
 ],
 "metadata": {
  "kernelspec": {
   "display_name": "Python 3",
   "language": "python",
   "name": "python3"
  },
  "language_info": {
   "codemirror_mode": {
    "name": "ipython",
    "version": 3
   },
   "file_extension": ".py",
   "mimetype": "text/x-python",
   "name": "python",
   "nbconvert_exporter": "python",
   "pygments_lexer": "ipython3",
   "version": "3.8.5"
  }
 },
 "nbformat": 4,
 "nbformat_minor": 2
}
