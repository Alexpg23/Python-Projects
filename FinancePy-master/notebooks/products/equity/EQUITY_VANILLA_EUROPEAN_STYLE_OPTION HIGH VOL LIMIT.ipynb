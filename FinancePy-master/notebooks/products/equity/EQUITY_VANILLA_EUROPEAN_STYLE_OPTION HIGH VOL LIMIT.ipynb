{
 "cells": [
  {
   "cell_type": "markdown",
   "metadata": {},
   "source": [
    "# EQUITY VANILLA EUROPEAN-STYLE OPTIONS"
   ]
  },
  {
   "cell_type": "markdown",
   "metadata": {},
   "source": [
    "Valuation and Risk of a simple Vanilla Equity Option"
   ]
  },
  {
   "cell_type": "code",
   "execution_count": 1,
   "metadata": {},
   "outputs": [],
   "source": [
    "import numpy as np\n",
    "import matplotlib.pyplot as plt"
   ]
  },
  {
   "cell_type": "code",
   "execution_count": 2,
   "metadata": {},
   "outputs": [
    {
     "name": "stdout",
     "output_type": "stream",
     "text": [
      "####################################################################\n",
      "# FINANCEPY BETA Version 0.182 - This build:  03 Oct 2020 at 15:46 #\n",
      "#      This software is distributed FREE & WITHOUT ANY WARRANTY    #\n",
      "# For info and disclaimer - https://github.com/domokane/FinancePy  #\n",
      "#      Send any bug reports or comments to quant@financepy.com     #\n",
      "####################################################################\n",
      "\n"
     ]
    }
   ],
   "source": [
    "from financepy.utils import *\n",
    "from financepy.products.equity import *"
   ]
  },
  {
   "cell_type": "markdown",
   "metadata": {},
   "source": [
    "# Define the Call and Put Options"
   ]
  },
  {
   "cell_type": "code",
   "execution_count": 3,
   "metadata": {},
   "outputs": [],
   "source": [
    "valuation_date = Date(1, 1, 2015)"
   ]
  },
  {
   "cell_type": "code",
   "execution_count": 4,
   "metadata": {},
   "outputs": [],
   "source": [
    "expiry_date = valuation_date.add_years(0.5)"
   ]
  },
  {
   "cell_type": "code",
   "execution_count": 5,
   "metadata": {},
   "outputs": [
    {
     "data": {
      "text/plain": [
       "WED 01 JUL 2015"
      ]
     },
     "execution_count": 5,
     "metadata": {},
     "output_type": "execute_result"
    }
   ],
   "source": [
    "expiry_date"
   ]
  },
  {
   "cell_type": "code",
   "execution_count": 52,
   "metadata": {},
   "outputs": [],
   "source": [
    "strike_price = 50.0"
   ]
  },
  {
   "cell_type": "code",
   "execution_count": 53,
   "metadata": {},
   "outputs": [],
   "source": [
    "call_option = EquityVanillaOption(expiry_date, strike_price, OptionTypes.EUROPEAN_CALL)"
   ]
  },
  {
   "cell_type": "code",
   "execution_count": 54,
   "metadata": {},
   "outputs": [],
   "source": [
    "put_option = EquityVanillaOption(expiry_date, strike_price, OptionTypes.EUROPEAN_PUT)"
   ]
  },
  {
   "cell_type": "code",
   "execution_count": 64,
   "metadata": {},
   "outputs": [
    {
     "data": {
      "text/plain": [
       "45.241870901797974"
      ]
     },
     "execution_count": 64,
     "metadata": {},
     "output_type": "execute_result"
    }
   ],
   "source": [
    "50.0*exp(-0.20*0.5)"
   ]
  },
  {
   "cell_type": "code",
   "execution_count": 75,
   "metadata": {},
   "outputs": [],
   "source": [
    "stock_price = 50\n",
    "volatility = 0.20\n",
    "interest_rate = 0.05\n",
    "dividend_yield = 0.05"
   ]
  },
  {
   "cell_type": "code",
   "execution_count": 76,
   "metadata": {},
   "outputs": [],
   "source": [
    "discount_curve = DiscountCurveFlat(valuation_date, interest_rate, FrequencyTypes.CONTINUOUS)"
   ]
  },
  {
   "cell_type": "code",
   "execution_count": null,
   "metadata": {},
   "outputs": [],
   "source": [
    "dividend_curve = DiscountCurveFlat(valuation_date, dividend_yield)"
   ]
  },
  {
   "cell_type": "code",
   "execution_count": 77,
   "metadata": {},
   "outputs": [],
   "source": [
    "volatility = np.linspace(0,100.0,100)"
   ]
  },
  {
   "cell_type": "code",
   "execution_count": 78,
   "metadata": {},
   "outputs": [],
   "source": [
    "model = BlackScholes(volatility)"
   ]
  },
  {
   "cell_type": "code",
   "execution_count": 79,
   "metadata": {},
   "outputs": [],
   "source": [
    "callValues = call_option.value(valuation_date, stock_price, discount_curve, dividend_curve, model)"
   ]
  },
  {
   "cell_type": "code",
   "execution_count": 80,
   "metadata": {},
   "outputs": [],
   "source": [
    "putValues = put_option.value(valuation_date, stock_price, discount_curve, dividend_curve, model)"
   ]
  },
  {
   "cell_type": "code",
   "execution_count": 81,
   "metadata": {},
   "outputs": [
    {
     "data": {
      "text/plain": [
       "array([1.36992639e-11, 1.35547299e+01, 2.55147934e+01, 3.48262541e+01,\n",
       "       4.12227484e+01, 4.50998163e+01, 4.71732892e+01, 4.81517029e+01,\n",
       "       4.85590555e+01, 4.87086916e+01, 4.87571885e+01, 4.87710559e+01,\n",
       "       4.87745543e+01, 4.87753329e+01, 4.87754858e+01, 4.87755123e+01,\n",
       "       4.87755163e+01, 4.87755169e+01, 4.87755169e+01, 4.87755169e+01,\n",
       "       4.87755169e+01, 4.87755169e+01, 4.87755169e+01, 4.87755169e+01,\n",
       "       4.87755169e+01, 4.87755169e+01, 4.87755169e+01, 4.87755169e+01,\n",
       "       4.87755169e+01, 4.87755169e+01, 4.87755169e+01, 4.87755169e+01,\n",
       "       4.87755169e+01, 4.87755169e+01, 4.87755169e+01, 4.87755169e+01,\n",
       "       4.87755169e+01, 4.87755169e+01, 4.87755169e+01, 4.87755169e+01,\n",
       "       4.87755169e+01, 4.87755169e+01, 4.87755169e+01, 4.87755169e+01,\n",
       "       4.87755169e+01, 4.87755169e+01, 4.87755169e+01, 4.87755169e+01,\n",
       "       4.87755169e+01, 4.87755169e+01, 4.87755169e+01, 4.87755169e+01,\n",
       "       4.87755169e+01, 4.87755169e+01, 4.87755169e+01, 4.87755169e+01,\n",
       "       4.87755169e+01, 4.87755169e+01, 4.87755169e+01, 4.87755169e+01,\n",
       "       4.87755169e+01, 4.87755169e+01, 4.87755169e+01, 4.87755169e+01,\n",
       "       4.87755169e+01, 4.87755169e+01, 4.87755169e+01, 4.87755169e+01,\n",
       "       4.87755169e+01, 4.87755169e+01, 4.87755169e+01, 4.87755169e+01,\n",
       "       4.87755169e+01, 4.87755169e+01, 4.87755169e+01, 4.87755169e+01,\n",
       "       4.87755169e+01, 4.87755169e+01, 4.87755169e+01, 4.87755169e+01,\n",
       "       4.87755169e+01, 4.87755169e+01, 4.87755169e+01, 4.87755169e+01,\n",
       "       4.87755169e+01, 4.87755169e+01, 4.87755169e+01, 4.87755169e+01,\n",
       "       4.87755169e+01, 4.87755169e+01, 4.87755169e+01, 4.87755169e+01,\n",
       "       4.87755169e+01, 4.87755169e+01, 4.87755169e+01, 4.87755169e+01,\n",
       "       4.87755169e+01, 4.87755169e+01, 4.87755169e+01, 4.87755169e+01])"
      ]
     },
     "execution_count": 81,
     "metadata": {},
     "output_type": "execute_result"
    }
   ],
   "source": [
    "callValues"
   ]
  },
  {
   "cell_type": "code",
   "execution_count": 82,
   "metadata": {},
   "outputs": [
    {
     "data": {
      "text/plain": [
       "array([1.36992639e-11, 1.35547299e+01, 2.55147934e+01, 3.48262541e+01,\n",
       "       4.12227484e+01, 4.50998163e+01, 4.71732892e+01, 4.81517029e+01,\n",
       "       4.85590555e+01, 4.87086916e+01, 4.87571885e+01, 4.87710559e+01,\n",
       "       4.87745543e+01, 4.87753329e+01, 4.87754858e+01, 4.87755123e+01,\n",
       "       4.87755163e+01, 4.87755169e+01, 4.87755169e+01, 4.87755169e+01,\n",
       "       4.87755169e+01, 4.87755169e+01, 4.87755169e+01, 4.87755169e+01,\n",
       "       4.87755169e+01, 4.87755169e+01, 4.87755169e+01, 4.87755169e+01,\n",
       "       4.87755169e+01, 4.87755169e+01, 4.87755169e+01, 4.87755169e+01,\n",
       "       4.87755169e+01, 4.87755169e+01, 4.87755169e+01, 4.87755169e+01,\n",
       "       4.87755169e+01, 4.87755169e+01, 4.87755169e+01, 4.87755169e+01,\n",
       "       4.87755169e+01, 4.87755169e+01, 4.87755169e+01, 4.87755169e+01,\n",
       "       4.87755169e+01, 4.87755169e+01, 4.87755169e+01, 4.87755169e+01,\n",
       "       4.87755169e+01, 4.87755169e+01, 4.87755169e+01, 4.87755169e+01,\n",
       "       4.87755169e+01, 4.87755169e+01, 4.87755169e+01, 4.87755169e+01,\n",
       "       4.87755169e+01, 4.87755169e+01, 4.87755169e+01, 4.87755169e+01,\n",
       "       4.87755169e+01, 4.87755169e+01, 4.87755169e+01, 4.87755169e+01,\n",
       "       4.87755169e+01, 4.87755169e+01, 4.87755169e+01, 4.87755169e+01,\n",
       "       4.87755169e+01, 4.87755169e+01, 4.87755169e+01, 4.87755169e+01,\n",
       "       4.87755169e+01, 4.87755169e+01, 4.87755169e+01, 4.87755169e+01,\n",
       "       4.87755169e+01, 4.87755169e+01, 4.87755169e+01, 4.87755169e+01,\n",
       "       4.87755169e+01, 4.87755169e+01, 4.87755169e+01, 4.87755169e+01,\n",
       "       4.87755169e+01, 4.87755169e+01, 4.87755169e+01, 4.87755169e+01,\n",
       "       4.87755169e+01, 4.87755169e+01, 4.87755169e+01, 4.87755169e+01,\n",
       "       4.87755169e+01, 4.87755169e+01, 4.87755169e+01, 4.87755169e+01,\n",
       "       4.87755169e+01, 4.87755169e+01, 4.87755169e+01, 4.87755169e+01])"
      ]
     },
     "execution_count": 82,
     "metadata": {},
     "output_type": "execute_result"
    }
   ],
   "source": [
    "putValues"
   ]
  },
  {
   "cell_type": "code",
   "execution_count": 83,
   "metadata": {},
   "outputs": [
    {
     "data": {
      "text/plain": [
       "<matplotlib.legend.Legend at 0x1e45840e148>"
      ]
     },
     "execution_count": 83,
     "metadata": {},
     "output_type": "execute_result"
    },
    {
     "data": {
      "image/png": "[encoded data removed]",
      "text/plain": [
       "<Figure size 432x288 with 1 Axes>"
      ]
     },
     "metadata": {
      "needs_background": "light"
     },
     "output_type": "display_data"
    }
   ],
   "source": [
    "plt.plot(volatility, callValues, label=\"Call Value\")\n",
    "plt.plot(volatility, putValues, label=\"Put Value\")\n",
    "plt.legend()"
   ]
  },
  {
   "cell_type": "code",
   "execution_count": null,
   "metadata": {},
   "outputs": [],
   "source": []
  }
 ],
 "metadata": {
  "kernelspec": {
   "display_name": "Python 3",
   "language": "python",
   "name": "python3"
  },
  "language_info": {
   "codemirror_mode": {
    "name": "ipython",
    "version": 3
   },
   "file_extension": ".py",
   "mimetype": "text/x-python",
   "name": "python",
   "nbconvert_exporter": "python",
   "pygments_lexer": "ipython3",
   "version": "3.8.5"
  }
 },
 "nbformat": 4,
 "nbformat_minor": 2
}
