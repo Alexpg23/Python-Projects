{
 "cells": [
  {
   "cell_type": "markdown",
   "metadata": {},
   "source": [
    "# EQUITY BASKET OPTIONS - VALUATION ANALYSIS"
   ]
  },
  {
   "cell_type": "markdown",
   "metadata": {},
   "source": [
    "Valuation and Risk of Equity Basket Options in which the option is on a basket of stocks."
   ]
  },
  {
   "cell_type": "code",
   "execution_count": 1,
   "metadata": {},
   "outputs": [],
   "source": [
    "import numpy as np\n",
    "import matplotlib.pyplot as plt"
   ]
  },
  {
   "cell_type": "code",
   "execution_count": 2,
   "metadata": {},
   "outputs": [
    {
     "name": "stdout",
     "output_type": "stream",
     "text": [
      "####################################################################\n",
      "# FINANCEPY BETA Version 0.200 - This build:  14 Jul 2021 at 16:00 #\n",
      "# **** NEW PEP8 COMPLIANT VERSION -- PLEASE UPDATE YOUR CODE  **** #\n",
      "#      This software is distributed FREE & WITHOUT ANY WARRANTY    #\n",
      "# For info and disclaimer - https://github.com/domokane/FinancePy  #\n",
      "#      Send any bug reports or comments to quant@financepy.com     #\n",
      "####################################################################\n",
      "\n"
     ]
    },
    {
     "name": "stderr",
     "output_type": "stream",
     "text": [
      "C:\\Users\\Dominic\\anaconda3\\lib\\site-packages\\numba\\np\\ufunc\\parallel.py:363: NumbaWarning: \u001b[1mThe TBB threading layer requires TBB version 2019.5 or later i.e., TBB_INTERFACE_VERSION >= 11005. Found TBB_INTERFACE_VERSION = 7004. The TBB threading layer is disabled.\u001b[0m\n",
      "  warnings.warn(problem)\n"
     ]
    }
   ],
   "source": [
    "from financepy.utils import *\n",
    "from financepy.market.curves import *\n",
    "from financepy.products.equity import *"
   ]
  },
  {
   "cell_type": "markdown",
   "metadata": {},
   "source": [
    "# Homogeneous Basket"
   ]
  },
  {
   "cell_type": "markdown",
   "metadata": {},
   "source": [
    "All the assets in the basket have the same characteristicsm"
   ]
  },
  {
   "cell_type": "code",
   "execution_count": 3,
   "metadata": {},
   "outputs": [],
   "source": [
    "num_assets = 5"
   ]
  },
  {
   "cell_type": "code",
   "execution_count": 4,
   "metadata": {},
   "outputs": [],
   "source": [
    "expiry_date = Date(1, 1, 2021)"
   ]
  },
  {
   "cell_type": "code",
   "execution_count": 5,
   "metadata": {},
   "outputs": [],
   "source": [
    "strike_price = 100.0"
   ]
  },
  {
   "cell_type": "code",
   "execution_count": 6,
   "metadata": {},
   "outputs": [],
   "source": [
    "basketCallOption = EquityBasketOption(expiry_date,  strike_price, \n",
    "                                         OptionTypes.EUROPEAN_CALL, num_assets)"
   ]
  },
  {
   "cell_type": "code",
   "execution_count": 7,
   "metadata": {},
   "outputs": [],
   "source": [
    "basketPutOption = EquityBasketOption(expiry_date,  strike_price, \n",
    "                                        OptionTypes.EUROPEAN_PUT, num_assets)"
   ]
  },
  {
   "cell_type": "code",
   "execution_count": 8,
   "metadata": {},
   "outputs": [
    {
     "name": "stdout",
     "output_type": "stream",
     "text": [
      "OBJECT TYPE: EquityBasketOption\n",
      "EXPIRY DATE: 01-JAN-2021\n",
      "STRIKE PRICE: 100.0\n",
      "OPTION TYPE: OptionTypes.EUROPEAN_CALL\n",
      "NUM ASSETS: 5\n"
     ]
    }
   ],
   "source": [
    "print(basketCallOption)"
   ]
  },
  {
   "cell_type": "code",
   "execution_count": 9,
   "metadata": {},
   "outputs": [
    {
     "name": "stdout",
     "output_type": "stream",
     "text": [
      "OBJECT TYPE: EquityBasketOption\n",
      "EXPIRY DATE: 01-JAN-2021\n",
      "STRIKE PRICE: 100.0\n",
      "OPTION TYPE: OptionTypes.EUROPEAN_PUT\n",
      "NUM ASSETS: 5\n"
     ]
    }
   ],
   "source": [
    "print(basketPutOption)"
   ]
  },
  {
   "cell_type": "markdown",
   "metadata": {},
   "source": [
    "## Valuation"
   ]
  },
  {
   "cell_type": "code",
   "execution_count": 10,
   "metadata": {},
   "outputs": [],
   "source": [
    "valuation_date = Date(1, 1, 2020)"
   ]
  },
  {
   "cell_type": "code",
   "execution_count": 11,
   "metadata": {},
   "outputs": [],
   "source": [
    "interest_rate = 0.05"
   ]
  },
  {
   "cell_type": "code",
   "execution_count": 12,
   "metadata": {},
   "outputs": [],
   "source": [
    "discount_curve = DiscountCurveFlat(valuation_date, interest_rate)"
   ]
  },
  {
   "cell_type": "code",
   "execution_count": 13,
   "metadata": {},
   "outputs": [],
   "source": [
    "volatility = 0.20\n",
    "dividend_yield = 0.01\n",
    "stock_price = 100.0"
   ]
  },
  {
   "cell_type": "code",
   "execution_count": 14,
   "metadata": {},
   "outputs": [],
   "source": [
    "dividend_curve = DiscountCurveFlat(valuation_date, dividend_yield)"
   ]
  },
  {
   "cell_type": "markdown",
   "metadata": {},
   "source": [
    "We examine how the price depends on the stock price"
   ]
  },
  {
   "cell_type": "code",
   "execution_count": 16,
   "metadata": {},
   "outputs": [],
   "source": [
    "volatilities = np.ones(num_assets) * volatility\n",
    "dividend_yields = np.ones(num_assets) * dividend_yield\n",
    "stock_prices = np.ones(num_assets) * stock_price\n",
    "\n",
    "dividend_curves = []\n",
    "for dividend_yield in dividend_yields:\n",
    "    dividend_curves.append(DiscountCurveFlat(valuation_date, dividend_yield))\n",
    "\n",
    "valuesCall = []\n",
    "valuesPut = []\n",
    "valuesCallMC = []\n",
    "valuesPutMC = []\n",
    "\n",
    "svector = np.linspace(50,150, 100)\n",
    "\n",
    "for s in svector:\n",
    "\n",
    "    stock_prices = np.ones(num_assets) * s\n",
    "    beta_vector = np.ones(num_assets) * 0.6\n",
    "    corr_matrix = beta_vector_to_corr_matrix(beta_vector)\n",
    "\n",
    "    vcall = basketCallOption.value(valuation_date, stock_prices, discount_curve, \n",
    "                                   dividend_curves, volatilities, corr_matrix)\n",
    "    \n",
    "    vput = basketPutOption.value(valuation_date, stock_prices, discount_curve, \n",
    "                                 dividend_curves, volatilities, corr_matrix)\n",
    "\n",
    "    vcallmc = basketCallOption.value_mc(valuation_date, stock_prices, discount_curve, \n",
    "                                   dividend_curves, volatilities, corr_matrix)\n",
    "    \n",
    "    vputmc = basketPutOption.value_mc(valuation_date, stock_prices, discount_curve, \n",
    "                                 dividend_curves, volatilities, corr_matrix)\n",
    "\n",
    "    valuesCall.append(vcall)\n",
    "    valuesPut.append(vput)\n",
    "    valuesCallMC.append(vcallmc)\n",
    "    valuesPutMC.append(vputmc)\n"
   ]
  },
  {
   "cell_type": "code",
   "execution_count": 17,
   "metadata": {},
   "outputs": [
    {
     "data": {
      "image/png": "[encoded data removed]",
      "text/plain": [
       "<Figure size 576x432 with 1 Axes>"
      ]
     },
     "metadata": {
      "needs_background": "light"
     },
     "output_type": "display_data"
    }
   ],
   "source": [
    "plt.figure(figsize=(8, 6))\n",
    "plt.plot(svector, valuesCall, label=\"Call\");\n",
    "plt.plot(svector, valuesPut, label=\"Put\");\n",
    "plt.plot(svector, valuesCallMC, '.', label=\"CallMC\");\n",
    "plt.plot(svector, valuesPutMC, '.', label=\"PutMC\");\n",
    "plt.xlabel(\"Stock Price\")\n",
    "plt.ylabel(\"Value\")\n",
    "plt.legend();"
   ]
  },
  {
   "cell_type": "markdown",
   "metadata": {},
   "source": [
    "We see the usual payoff we would expect and that the Monte Carlo agrees closely with the analytical approach."
   ]
  },
  {
   "cell_type": "markdown",
   "metadata": {},
   "source": [
    "## Examining the Role of Correlation"
   ]
  },
  {
   "cell_type": "markdown",
   "metadata": {},
   "source": [
    "We examine the dependency of the basket option price on the inter-asset correlation."
   ]
  },
  {
   "cell_type": "code",
   "execution_count": 18,
   "metadata": {},
   "outputs": [],
   "source": [
    "valuesCall = []\n",
    "valuesPut = []\n",
    "valuesCallMC = []\n",
    "valuesPutMC = []\n",
    "\n",
    "stock_price = 100.0\n",
    "stock_prices = np.ones(num_assets) * stock_price\n",
    "\n",
    "betas = np.linspace(0.0, 0.90, 20)\n",
    "\n",
    "for beta in betas:\n",
    "\n",
    "    beta_vector = np.ones(num_assets) * beta\n",
    "    corr_matrix = beta_vector_to_corr_matrix(beta_vector)\n",
    "\n",
    "    vcall = basketCallOption.value(valuation_date, stock_prices, discount_curve, \n",
    "                                   dividend_curves, volatilities, corr_matrix)\n",
    "    \n",
    "    vput = basketPutOption.value(valuation_date, stock_prices, discount_curve, \n",
    "                                 dividend_curves, volatilities, corr_matrix)\n",
    "\n",
    "    vcallmc = basketCallOption.value_mc(valuation_date, stock_prices, discount_curve, \n",
    "                                   dividend_curves, volatilities, corr_matrix)\n",
    "    \n",
    "    vputmc = basketPutOption.value_mc(valuation_date, stock_prices, discount_curve, \n",
    "                                 dividend_curves, volatilities, corr_matrix)\n",
    "\n",
    "    valuesCall.append(vcall)\n",
    "    valuesPut.append(vput)\n",
    "    valuesCallMC.append(vcallmc)\n",
    "    valuesPutMC.append(vputmc)"
   ]
  },
  {
   "cell_type": "code",
   "execution_count": 19,
   "metadata": {},
   "outputs": [
    {
     "data": {
      "image/png": "[encoded data removed]",
      "text/plain": [
       "<Figure size 576x432 with 1 Axes>"
      ]
     },
     "metadata": {
      "needs_background": "light"
     },
     "output_type": "display_data"
    }
   ],
   "source": [
    "plt.figure(figsize=(8, 6))\n",
    "plt.plot(betas, valuesCall, label=\"Call\");\n",
    "plt.plot(betas, valuesPut, label=\"Put\");\n",
    "plt.plot(betas, valuesCallMC, '.', label=\"CallMC\");\n",
    "plt.plot(betas, valuesPutMC, '.', label=\"PutMC\");\n",
    "plt.xlabel(\"Correlation\")\n",
    "plt.ylabel(\"Value\")\n",
    "plt.legend();"
   ]
  },
  {
   "cell_type": "markdown",
   "metadata": {},
   "source": [
    "Both the call and put increase in value with correlation as the effective volatility of the assets increases."
   ]
  },
  {
   "cell_type": "markdown",
   "metadata": {},
   "source": [
    "## Heterogenous Basket"
   ]
  },
  {
   "cell_type": "markdown",
   "metadata": {},
   "source": [
    "Now we examine what happpens if we allow the assets to differ"
   ]
  },
  {
   "cell_type": "code",
   "execution_count": 21,
   "metadata": {},
   "outputs": [],
   "source": [
    "valuesCallx = []\n",
    "valuesPutx = []\n",
    "valuesCallMCx = []\n",
    "valuesPutMCx = []\n",
    "\n",
    "# Volatilities differ\n",
    "volatilities = np.linspace(0.1, 0.3, num_assets)\n",
    "\n",
    "# Correlations differ\n",
    "beta = 0.5\n",
    "beta_vector = np.linspace(beta-0.4, beta+0.4, num_assets)\n",
    "corr_matrix = beta_vector_to_corr_matrix(beta_vector)\n",
    "\n",
    "# Dividends differ\n",
    "dividend_yields = np.linspace(0.0, 0.04, num_assets)\n",
    "\n",
    "svector = np.linspace(50, 150, 100)\n",
    "\n",
    "for s in svector:\n",
    "\n",
    "    # initial stock prices differ\n",
    "    stock_prices = np.linspace(s-50, s+50, num_assets)\n",
    "\n",
    "    vcall = basketCallOption.value(valuation_date, stock_prices, discount_curve, \n",
    "                                   dividend_curves, volatilities, corr_matrix)\n",
    "    \n",
    "    vput = basketPutOption.value(valuation_date, stock_prices, discount_curve, \n",
    "                                 dividend_curves, volatilities, corr_matrix)\n",
    "\n",
    "    vcallmc = basketCallOption.value_mc(valuation_date, stock_prices, discount_curve, \n",
    "                                   dividend_curves, volatilities, corr_matrix)\n",
    "    \n",
    "    vputmc = basketPutOption.value_mc(valuation_date, stock_prices, discount_curve, \n",
    "                                 dividend_curves, volatilities, corr_matrix)\n",
    "\n",
    "    valuesCallx.append(vcall)\n",
    "    valuesPutx.append(vput)\n",
    "    valuesCallMCx.append(vcallmc)\n",
    "    valuesPutMCx.append(vputmc)"
   ]
  },
  {
   "cell_type": "code",
   "execution_count": 22,
   "metadata": {},
   "outputs": [
    {
     "data": {
      "image/png": "[encoded data removed]",
      "text/plain": [
       "<Figure size 576x432 with 1 Axes>"
      ]
     },
     "metadata": {
      "needs_background": "light"
     },
     "output_type": "display_data"
    }
   ],
   "source": [
    "plt.figure(figsize=(8, 6))\n",
    "plt.plot(svector, valuesCallx, label=\"Call\");\n",
    "plt.plot(svector, valuesPutx, label=\"Put\");\n",
    "plt.plot(svector, valuesCallMCx, '.', label=\"CallMC\");\n",
    "plt.plot(svector, valuesPutMCx, '.', label=\"PutMC\");\n",
    "plt.xlabel(\"Stock Price\")\n",
    "plt.ylabel(\"Value\")\n",
    "plt.legend();"
   ]
  },
  {
   "cell_type": "markdown",
   "metadata": {},
   "source": [
    "The price dependency does not change significantly as the assets become more heterogenous."
   ]
  },
  {
   "cell_type": "markdown",
   "metadata": {},
   "source": [
    "Copyright (c) 2020 Dominic O'Kane"
   ]
  }
 ],
 "metadata": {
  "kernelspec": {
   "display_name": "Python 3",
   "language": "python",
   "name": "python3"
  },
  "language_info": {
   "codemirror_mode": {
    "name": "ipython",
    "version": 3
   },
   "file_extension": ".py",
   "mimetype": "text/x-python",
   "name": "python",
   "nbconvert_exporter": "python",
   "pygments_lexer": "ipython3",
   "version": "3.8.5"
  }
 },
 "nbformat": 4,
 "nbformat_minor": 2
}
