{
 "cells": [
  {
   "cell_type": "markdown",
   "metadata": {},
   "source": [
    "# EQUITY RAINBOW OPTION"
   ]
  },
  {
   "cell_type": "markdown",
   "metadata": {},
   "source": [
    "Valuation and Risk of Equity Rainbow Options - options on the best, worst and n-th best or worst performance in a basket of equities."
   ]
  },
  {
   "cell_type": "code",
   "execution_count": 1,
   "metadata": {},
   "outputs": [],
   "source": [
    "import numpy as np\n",
    "import matplotlib.pyplot as plt"
   ]
  },
  {
   "cell_type": "code",
   "execution_count": 2,
   "metadata": {},
   "outputs": [
    {
     "name": "stdout",
     "output_type": "stream",
     "text": [
      "####################################################################\n",
      "# FINANCEPY BETA Version 0.200 - This build:  14 Jul 2021 at 16:00 #\n",
      "# **** NEW PEP8 COMPLIANT VERSION -- PLEASE UPDATE YOUR CODE  **** #\n",
      "#      This software is distributed FREE & WITHOUT ANY WARRANTY    #\n",
      "# For info and disclaimer - https://github.com/domokane/FinancePy  #\n",
      "#      Send any bug reports or comments to quant@financepy.com     #\n",
      "####################################################################\n",
      "\n"
     ]
    },
    {
     "name": "stderr",
     "output_type": "stream",
     "text": [
      "C:\\Users\\Dominic\\anaconda3\\lib\\site-packages\\numba\\np\\ufunc\\parallel.py:363: NumbaWarning: \u001b[1mThe TBB threading layer requires TBB version 2019.5 or later i.e., TBB_INTERFACE_VERSION >= 11005. Found TBB_INTERFACE_VERSION = 7004. The TBB threading layer is disabled.\u001b[0m\n",
      "  warnings.warn(problem)\n"
     ]
    }
   ],
   "source": [
    "from financepy.utils import *\n",
    "from financepy.market.curves import *\n",
    "from financepy.products.equity import *"
   ]
  },
  {
   "cell_type": "markdown",
   "metadata": {},
   "source": [
    "# Rainbow Options"
   ]
  },
  {
   "cell_type": "markdown",
   "metadata": {},
   "source": [
    "We can handle a range of payoff types"
   ]
  },
  {
   "cell_type": "code",
   "execution_count": 3,
   "metadata": {},
   "outputs": [
    {
     "name": "stdout",
     "output_type": "stream",
     "text": [
      "EquityRainbowOptionTypes.CALL_ON_MAXIMUM\n",
      "EquityRainbowOptionTypes.PUT_ON_MAXIMUM\n",
      "EquityRainbowOptionTypes.CALL_ON_MINIMUM\n",
      "EquityRainbowOptionTypes.PUT_ON_MINIMUM\n",
      "EquityRainbowOptionTypes.CALL_ON_NTH\n",
      "EquityRainbowOptionTypes.PUT_ON_NTH\n"
     ]
    }
   ],
   "source": [
    "for payoff in EquityRainbowOptionTypes:\n",
    "    print(payoff)"
   ]
  },
  {
   "cell_type": "markdown",
   "metadata": {},
   "source": [
    "Each type has a different set of parameters which are entered as a vector"
   ]
  },
  {
   "cell_type": "markdown",
   "metadata": {},
   "source": [
    "## CALL ON MAXIMUM"
   ]
  },
  {
   "cell_type": "code",
   "execution_count": 4,
   "metadata": {},
   "outputs": [],
   "source": [
    "expiry_date = Date(1, 1, 2016)"
   ]
  },
  {
   "cell_type": "code",
   "execution_count": 5,
   "metadata": {},
   "outputs": [],
   "source": [
    "strike_price = 105.0"
   ]
  },
  {
   "cell_type": "code",
   "execution_count": 6,
   "metadata": {},
   "outputs": [],
   "source": [
    "callPayoffType = EquityRainbowOptionTypes.CALL_ON_MAXIMUM\n",
    "putPayoffType = EquityRainbowOptionTypes.PUT_ON_MAXIMUM"
   ]
  },
  {
   "cell_type": "code",
   "execution_count": 7,
   "metadata": {},
   "outputs": [],
   "source": [
    "payoff_params = [strike_price]"
   ]
  },
  {
   "cell_type": "code",
   "execution_count": 8,
   "metadata": {},
   "outputs": [],
   "source": [
    "num_assets = 2"
   ]
  },
  {
   "cell_type": "code",
   "execution_count": 9,
   "metadata": {},
   "outputs": [],
   "source": [
    "callRainbowOption = EquityRainbowOption(expiry_date, callPayoffType, payoff_params, num_assets)\n",
    "putRainbowOption = EquityRainbowOption(expiry_date, putPayoffType, payoff_params, num_assets)"
   ]
  },
  {
   "cell_type": "code",
   "execution_count": 10,
   "metadata": {},
   "outputs": [
    {
     "name": "stdout",
     "output_type": "stream",
     "text": [
      "OBJECT TYPE: EquityRainbowOption\n",
      "EXPIRY DATE: 01-JAN-2016\n",
      "PAYOFF TYPE: EquityRainbowOptionTypes.CALL_ON_MAXIMUM\n",
      "PAYOFF PARAMS: [105.0]\n",
      "NUM ASSETS TYPE: 2\n"
     ]
    }
   ],
   "source": [
    "print(callRainbowOption)"
   ]
  },
  {
   "cell_type": "code",
   "execution_count": 11,
   "metadata": {},
   "outputs": [
    {
     "name": "stdout",
     "output_type": "stream",
     "text": [
      "OBJECT TYPE: EquityRainbowOption\n",
      "EXPIRY DATE: 01-JAN-2016\n",
      "PAYOFF TYPE: EquityRainbowOptionTypes.PUT_ON_MAXIMUM\n",
      "PAYOFF PARAMS: [105.0]\n",
      "NUM ASSETS TYPE: 2\n"
     ]
    }
   ],
   "source": [
    "print(putRainbowOption)"
   ]
  },
  {
   "cell_type": "markdown",
   "metadata": {},
   "source": [
    "## Valuation"
   ]
  },
  {
   "cell_type": "code",
   "execution_count": 12,
   "metadata": {},
   "outputs": [],
   "source": [
    "valuation_date = Date(1, 1, 2015)"
   ]
  },
  {
   "cell_type": "code",
   "execution_count": 13,
   "metadata": {},
   "outputs": [],
   "source": [
    "interest_rate = 0.10"
   ]
  },
  {
   "cell_type": "code",
   "execution_count": 14,
   "metadata": {},
   "outputs": [],
   "source": [
    "discount_curve = DiscountCurveFlat(valuation_date, interest_rate)"
   ]
  },
  {
   "cell_type": "code",
   "execution_count": 15,
   "metadata": {},
   "outputs": [],
   "source": [
    "num_assets = 2"
   ]
  },
  {
   "cell_type": "code",
   "execution_count": 16,
   "metadata": {},
   "outputs": [],
   "source": [
    "stock_prices = np.ones(num_assets) * 100\n",
    "dividend_yields = np.ones(num_assets) * 0.01\n",
    "volatilities = np.ones(num_assets) * 0.3    "
   ]
  },
  {
   "cell_type": "code",
   "execution_count": 17,
   "metadata": {},
   "outputs": [],
   "source": [
    "dividend_curves = []\n",
    "for dividend_yield in dividend_yields:\n",
    "    dividend_curves.append(DiscountCurveFlat(valuation_date, dividend_yield))"
   ]
  },
  {
   "cell_type": "code",
   "execution_count": 20,
   "metadata": {},
   "outputs": [],
   "source": [
    "correlation = 0.50\n",
    "betas = np.ones(num_assets) * np.sqrt(correlation)\n",
    "corr_matrix = beta_vector_to_corr_matrix(betas)"
   ]
  },
  {
   "cell_type": "code",
   "execution_count": 21,
   "metadata": {},
   "outputs": [
    {
     "data": {
      "text/plain": [
       "20.774501479227084"
      ]
     },
     "execution_count": 21,
     "metadata": {},
     "output_type": "execute_result"
    }
   ],
   "source": [
    "callRainbowOption.value(valuation_date, stock_prices, discount_curve, dividend_curves, volatilities, corr_matrix)"
   ]
  },
  {
   "cell_type": "code",
   "execution_count": 22,
   "metadata": {},
   "outputs": [
    {
     "data": {
      "text/plain": [
       "5.0876023539087925"
      ]
     },
     "execution_count": 22,
     "metadata": {},
     "output_type": "execute_result"
    }
   ],
   "source": [
    "putRainbowOption.value(valuation_date, stock_prices, discount_curve, dividend_curves, volatilities, corr_matrix)"
   ]
  },
  {
   "cell_type": "code",
   "execution_count": 23,
   "metadata": {},
   "outputs": [
    {
     "data": {
      "text/plain": [
       "20.983505548283595"
      ]
     },
     "execution_count": 23,
     "metadata": {},
     "output_type": "execute_result"
    }
   ],
   "source": [
    "callRainbowOption.value_mc(valuation_date, stock_prices, discount_curve, dividend_curves, volatilities, corr_matrix)"
   ]
  },
  {
   "cell_type": "code",
   "execution_count": 24,
   "metadata": {},
   "outputs": [
    {
     "data": {
      "text/plain": [
       "5.106781221618383"
      ]
     },
     "execution_count": 24,
     "metadata": {},
     "output_type": "execute_result"
    }
   ],
   "source": [
    "putRainbowOption.value_mc(valuation_date, stock_prices, discount_curve, dividend_curves, volatilities, corr_matrix)"
   ]
  },
  {
   "cell_type": "markdown",
   "metadata": {},
   "source": [
    "## CALL ON MINIMUM"
   ]
  },
  {
   "cell_type": "code",
   "execution_count": 25,
   "metadata": {},
   "outputs": [],
   "source": [
    "strike_price = 105.0"
   ]
  },
  {
   "cell_type": "code",
   "execution_count": 26,
   "metadata": {},
   "outputs": [],
   "source": [
    "callPayoffType = EquityRainbowOptionTypes.CALL_ON_MINIMUM\n",
    "putPayoffType = EquityRainbowOptionTypes.PUT_ON_MINIMUM"
   ]
  },
  {
   "cell_type": "code",
   "execution_count": 27,
   "metadata": {},
   "outputs": [],
   "source": [
    "payoff_params = [strike_price]"
   ]
  },
  {
   "cell_type": "code",
   "execution_count": 28,
   "metadata": {},
   "outputs": [],
   "source": [
    "callRainbowOption = EquityRainbowOption(expiry_date, callPayoffType, payoff_params, num_assets)\n",
    "putRainbowOption = EquityRainbowOption(expiry_date, putPayoffType, payoff_params, num_assets)"
   ]
  },
  {
   "cell_type": "code",
   "execution_count": 29,
   "metadata": {},
   "outputs": [
    {
     "name": "stdout",
     "output_type": "stream",
     "text": [
      "OBJECT TYPE: EquityRainbowOption\n",
      "EXPIRY DATE: 01-JAN-2016\n",
      "PAYOFF TYPE: EquityRainbowOptionTypes.CALL_ON_MINIMUM\n",
      "PAYOFF PARAMS: [105.0]\n",
      "NUM ASSETS TYPE: 2\n"
     ]
    }
   ],
   "source": [
    "print(callRainbowOption)"
   ]
  },
  {
   "cell_type": "code",
   "execution_count": 30,
   "metadata": {},
   "outputs": [
    {
     "name": "stdout",
     "output_type": "stream",
     "text": [
      "OBJECT TYPE: EquityRainbowOption\n",
      "EXPIRY DATE: 01-JAN-2016\n",
      "PAYOFF TYPE: EquityRainbowOptionTypes.PUT_ON_MINIMUM\n",
      "PAYOFF PARAMS: [105.0]\n",
      "NUM ASSETS TYPE: 2\n"
     ]
    }
   ],
   "source": [
    "print(putRainbowOption)"
   ]
  },
  {
   "cell_type": "markdown",
   "metadata": {},
   "source": [
    "## Valuation"
   ]
  },
  {
   "cell_type": "code",
   "execution_count": 31,
   "metadata": {},
   "outputs": [
    {
     "data": {
      "text/plain": [
       "6.459895781588113"
      ]
     },
     "execution_count": 31,
     "metadata": {},
     "output_type": "execute_result"
    }
   ],
   "source": [
    "callRainbowOption.value(valuation_date, stock_prices, discount_curve, dividend_curves, volatilities, corr_matrix)"
   ]
  },
  {
   "cell_type": "code",
   "execution_count": 32,
   "metadata": {},
   "outputs": [
    {
     "data": {
      "text/plain": [
       "14.38603349546592"
      ]
     },
     "execution_count": 32,
     "metadata": {},
     "output_type": "execute_result"
    }
   ],
   "source": [
    "putRainbowOption.value(valuation_date, stock_prices, discount_curve, dividend_curves, volatilities, corr_matrix)"
   ]
  },
  {
   "cell_type": "code",
   "execution_count": 33,
   "metadata": {},
   "outputs": [
    {
     "data": {
      "text/plain": [
       "6.594270985668491"
      ]
     },
     "execution_count": 33,
     "metadata": {},
     "output_type": "execute_result"
    }
   ],
   "source": [
    "callRainbowOption.value_mc(valuation_date, stock_prices, discount_curve, dividend_curves, volatilities, corr_matrix)"
   ]
  },
  {
   "cell_type": "code",
   "execution_count": 34,
   "metadata": {},
   "outputs": [
    {
     "data": {
      "text/plain": [
       "14.34909797048692"
      ]
     },
     "execution_count": 34,
     "metadata": {},
     "output_type": "execute_result"
    }
   ],
   "source": [
    "putRainbowOption.value_mc(valuation_date, stock_prices, discount_curve, dividend_curves, volatilities, corr_matrix)"
   ]
  },
  {
   "cell_type": "markdown",
   "metadata": {},
   "source": [
    "## CALL ON Nth"
   ]
  },
  {
   "cell_type": "code",
   "execution_count": 35,
   "metadata": {},
   "outputs": [],
   "source": [
    "payoff_type = EquityRainbowOptionTypes.CALL_ON_NTH"
   ]
  },
  {
   "cell_type": "code",
   "execution_count": 36,
   "metadata": {},
   "outputs": [],
   "source": [
    "num_assets = 5"
   ]
  },
  {
   "cell_type": "code",
   "execution_count": 37,
   "metadata": {},
   "outputs": [],
   "source": [
    "stock_prices = np.ones(num_assets) * 100\n",
    "dividend_yields = np.ones(num_assets) * 0.01\n",
    "volatilities = np.ones(num_assets) * 0.3    "
   ]
  },
  {
   "cell_type": "code",
   "execution_count": 38,
   "metadata": {},
   "outputs": [],
   "source": [
    "dividend_curves = []\n",
    "for dividend_yield in dividend_yields:\n",
    "    dividend_curves.append(DiscountCurveFlat(valuation_date, dividend_yield))"
   ]
  },
  {
   "cell_type": "code",
   "execution_count": 40,
   "metadata": {},
   "outputs": [],
   "source": [
    "correlation = 0.50\n",
    "betas = np.ones(num_assets) * np.sqrt(correlation)\n",
    "corr_matrix = beta_vector_to_corr_matrix(betas)"
   ]
  },
  {
   "cell_type": "code",
   "execution_count": 41,
   "metadata": {},
   "outputs": [
    {
     "name": "stdout",
     "output_type": "stream",
     "text": [
      "1 32.10817511366191\n",
      "2 17.841397411308602\n",
      "3 10.416341514124234\n",
      "4 5.644773129050261\n",
      "5 2.287825332442905\n"
     ]
    }
   ],
   "source": [
    "for n in range(0, num_assets):\n",
    "    payoff_params = [n+1, strike_price]\n",
    "    nthRainbowOption = EquityRainbowOption(expiry_date, payoff_type, payoff_params, num_assets)\n",
    "    v_mc = nthRainbowOption.value_mc(valuation_date, stock_prices, discount_curve, dividend_curves, volatilities, corr_matrix)\n",
    "    print(n+1, v_mc)"
   ]
  },
  {
   "cell_type": "markdown",
   "metadata": {},
   "source": [
    "## PUT ON Nth\n"
   ]
  },
  {
   "cell_type": "code",
   "execution_count": 41,
   "metadata": {},
   "outputs": [],
   "source": [
    "payoff_type = EquityRainbowOptionTypes.PUT_ON_NTH"
   ]
  },
  {
   "cell_type": "code",
   "execution_count": 42,
   "metadata": {},
   "outputs": [
    {
     "name": "stdout",
     "output_type": "stream",
     "text": [
      "1 1.9257053041219017\n",
      "2 4.549727220075345\n",
      "3 8.016189556719699\n",
      "4 12.92162110363357\n",
      "5 20.930923494487654\n"
     ]
    }
   ],
   "source": [
    "for n in range(0, num_assets):\n",
    "    payoff_type = EquityRainbowOptionTypes.PUT_ON_NTH\n",
    "    payoff_params = [n+1, strike_price]\n",
    "    nthRainbowOption = EquityRainbowOption(expiry_date, payoff_type, payoff_params, num_assets)\n",
    "    v_mc = nthRainbowOption.value_mc(valuation_date, stock_prices, discount_curve, dividend_curves, volatilities, corr_matrix)\n",
    "    print(n+1, v_mc)"
   ]
  },
  {
   "cell_type": "markdown",
   "metadata": {},
   "source": [
    "Copyright (c) 2020 Dominic O'Kane"
   ]
  }
 ],
 "metadata": {
  "kernelspec": {
   "display_name": "Python 3",
   "language": "python",
   "name": "python3"
  },
  "language_info": {
   "codemirror_mode": {
    "name": "ipython",
    "version": 3
   },
   "file_extension": ".py",
   "mimetype": "text/x-python",
   "name": "python",
   "nbconvert_exporter": "python",
   "pygments_lexer": "ipython3",
   "version": "3.8.5"
  }
 },
 "nbformat": 4,
 "nbformat_minor": 2
}
