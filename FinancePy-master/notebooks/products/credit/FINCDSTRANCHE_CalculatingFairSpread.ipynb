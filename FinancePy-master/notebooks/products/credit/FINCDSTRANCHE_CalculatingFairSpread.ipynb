{
 "cells": [
  {
   "cell_type": "markdown",
   "metadata": {},
   "source": [
    "# Determining the Fair Spread of a CDS Tranche"
   ]
  },
  {
   "cell_type": "markdown",
   "metadata": {},
   "source": [
    "An analysis of pricing a CDS Index using its intrinsic value"
   ]
  },
  {
   "cell_type": "code",
   "execution_count": 1,
   "metadata": {},
   "outputs": [],
   "source": [
    "import numpy as np\n",
    "import matplotlib.pyplot as plt"
   ]
  },
  {
   "cell_type": "code",
   "execution_count": 2,
   "metadata": {},
   "outputs": [
    {
     "name": "stdout",
     "output_type": "stream",
     "text": [
      "####################################################################\n",
      "# FINANCEPY BETA Version 0.200 - This build:  14 Jul 2021 at 13:18 #\n",
      "# **** NEW PEP8 COMPLIANT VERSION -- PLEASE UPDATE YOUR CODE  **** #\n",
      "#      This software is distributed FREE & WITHOUT ANY WARRANTY    #\n",
      "# For info and disclaimer - https://github.com/domokane/FinancePy  #\n",
      "#      Send any bug reports or comments to quant@financepy.com     #\n",
      "####################################################################\n",
      "\n"
     ]
    }
   ],
   "source": [
    "from financepy.utils import *\n",
    "from financepy.products.rates import *\n",
    "from financepy.products.credit import *"
   ]
  },
  {
   "cell_type": "code",
   "execution_count": 3,
   "metadata": {},
   "outputs": [],
   "source": [
    "valuation_date = Date(2, 8, 2007)\n",
    "settlement_date = valuation_date.add_weekdays(1)"
   ]
  },
  {
   "cell_type": "markdown",
   "metadata": {},
   "source": [
    "## Build Ibor Curve"
   ]
  },
  {
   "cell_type": "code",
   "execution_count": 5,
   "metadata": {},
   "outputs": [],
   "source": [
    "dcType = DayCountTypes.THIRTY_E_360_ISDA\n",
    "depos = []\n",
    "depo = IborDeposit(valuation_date, \"1D\", 0.0500, dcType); depos.append(depo)\n",
    "depo = IborDeposit(settlement_date, \"1D\", 0.0500, dcType); depos.append(depo)\n",
    "\n",
    "fixedFreq = FrequencyTypes.SEMI_ANNUAL\n",
    "swapType = SwapTypes.PAY\n",
    "swap1 = IborSwap(settlement_date,\"1Y\",swapType,0.0502,fixedFreq,dcType)\n",
    "swap2 = IborSwap(settlement_date,\"2Y\",swapType,0.0502,fixedFreq,dcType)\n",
    "swap3 = IborSwap(settlement_date,\"3Y\",swapType,0.0501,fixedFreq,dcType)\n",
    "swap4 = IborSwap(settlement_date,\"4Y\",swapType,0.0502,fixedFreq,dcType)\n",
    "swap5 = IborSwap(settlement_date,\"5Y\",swapType,0.0501,fixedFreq,dcType)\n",
    "swaps = [swap1,swap2,swap3,swap4,swap5]\n",
    "\n",
    "libor_curve = IborSingleCurve(valuation_date, depos, [], swaps)"
   ]
  },
  {
   "cell_type": "markdown",
   "metadata": {},
   "source": [
    "We treat an index as a CDS contract with a flat CDS curve at the CDS index spread for the same maturity"
   ]
  },
  {
   "cell_type": "markdown",
   "metadata": {},
   "source": [
    "## Create the Underlying CDS Index Portfolio"
   ]
  },
  {
   "cell_type": "code",
   "execution_count": 6,
   "metadata": {},
   "outputs": [],
   "source": [
    "step_in_date = valuation_date.add_weekdays(1)"
   ]
  },
  {
   "cell_type": "code",
   "execution_count": 7,
   "metadata": {},
   "outputs": [],
   "source": [
    "maturity3Y = valuation_date.next_cds_date(36)\n",
    "maturity5Y = valuation_date.next_cds_date(60)\n",
    "maturity7Y = valuation_date.next_cds_date(84)\n",
    "maturity10Y = valuation_date.next_cds_date(120)"
   ]
  },
  {
   "cell_type": "markdown",
   "metadata": {},
   "source": [
    "### Heterogeneous Curves"
   ]
  },
  {
   "cell_type": "code",
   "execution_count": 9,
   "metadata": {},
   "outputs": [],
   "source": [
    "f = open('.//data//CDX_NA_IG_S7_SPREADS.csv', 'r')\n",
    "data = f.readlines()\n",
    "heteroIssuerCurves = []\n",
    "\n",
    "num_credits = len(data) - 1  # The file has a header\n",
    "\n",
    "for row in data[1:]:\n",
    "    splitRow = row.split(\",\")\n",
    "    spd3Y = float(splitRow[1]) / 10000.0\n",
    "    spd5Y = float(splitRow[2]) / 10000.0\n",
    "    spd7Y = float(splitRow[3]) / 10000.0\n",
    "    spd10Y = float(splitRow[4]) / 10000.0\n",
    "    recovery_rate = float(splitRow[5])\n",
    "    cds3Y = CDS(step_in_date, maturity3Y, spd3Y)\n",
    "    cds5Y = CDS(step_in_date, maturity5Y, spd5Y)\n",
    "    cds7Y = CDS(step_in_date, maturity7Y, spd7Y)\n",
    "    cds10Y = CDS(step_in_date, maturity10Y, spd10Y)\n",
    "    cds_contracts = [cds3Y, cds5Y, cds7Y, cds10Y]\n",
    "    issuer_curve = CDSCurve(valuation_date, cds_contracts, libor_curve, recovery_rate)\n",
    "    heteroIssuerCurves.append(issuer_curve)"
   ]
  },
  {
   "cell_type": "markdown",
   "metadata": {},
   "source": [
    "### Homogeneous Curves "
   ]
  },
  {
   "cell_type": "markdown",
   "metadata": {},
   "source": [
    "Calculate the average spread of the heterogeneous portfolio"
   ]
  },
  {
   "cell_type": "code",
   "execution_count": 10,
   "metadata": {},
   "outputs": [],
   "source": [
    "homoIssuerCurves = []\n",
    "num_credits = 125\n",
    "recovery_rate = 0.40 "
   ]
  },
  {
   "cell_type": "code",
   "execution_count": 11,
   "metadata": {},
   "outputs": [],
   "source": [
    "cdsIndex = CDSIndexPortfolio()"
   ]
  },
  {
   "cell_type": "code",
   "execution_count": 12,
   "metadata": {},
   "outputs": [],
   "source": [
    "spd3Y = cdsIndex.intrinsic_spread(valuation_date, step_in_date, maturity3Y, heteroIssuerCurves)\n",
    "spd5Y = cdsIndex.intrinsic_spread(valuation_date, step_in_date, maturity5Y, heteroIssuerCurves)\n",
    "spd7Y = cdsIndex.intrinsic_spread(valuation_date, step_in_date, maturity7Y, heteroIssuerCurves)\n",
    "spd10Y = cdsIndex.intrinsic_spread(valuation_date, step_in_date, maturity10Y, heteroIssuerCurves)"
   ]
  },
  {
   "cell_type": "code",
   "execution_count": 13,
   "metadata": {},
   "outputs": [
    {
     "name": "stdout",
     "output_type": "stream",
     "text": [
      "Homogeneous curve 3Y: 19.67879118619867\n",
      "Homogeneous curve 5Y: 35.53904916872567\n",
      "Homogeneous curve 7Y: 49.01163746623519\n",
      "Homogeneous curve 10Y: 61.413389420329636\n"
     ]
    }
   ],
   "source": [
    "print(\"Homogeneous curve 3Y:\", spd3Y*10000)\n",
    "print(\"Homogeneous curve 5Y:\", spd5Y*10000)\n",
    "print(\"Homogeneous curve 7Y:\", spd7Y*10000)\n",
    "print(\"Homogeneous curve 10Y:\", spd10Y*10000)"
   ]
  },
  {
   "cell_type": "code",
   "execution_count": 16,
   "metadata": {},
   "outputs": [],
   "source": [
    "for row in range(0,num_credits):\n",
    "    cds3Y = CDS(step_in_date, maturity3Y, spd3Y)\n",
    "    cds5Y = CDS(step_in_date, maturity5Y, spd5Y)\n",
    "    cds7Y = CDS(step_in_date, maturity7Y, spd7Y)\n",
    "    cds10Y = CDS(step_in_date, maturity10Y, spd10Y)\n",
    "    cds_contracts = [cds3Y, cds5Y, cds7Y, cds10Y]\n",
    "    issuer_curve = CDSCurve(valuation_date, cds_contracts, libor_curve, recovery_rate)\n",
    "    homoIssuerCurves.append(issuer_curve)"
   ]
  },
  {
   "cell_type": "markdown",
   "metadata": {},
   "source": [
    "## Define the Tranches"
   ]
  },
  {
   "cell_type": "code",
   "execution_count": 17,
   "metadata": {},
   "outputs": [],
   "source": [
    "trancheMaturity = maturity5Y\n",
    "tranche1 = CDSTranche(valuation_date, trancheMaturity, 0.00, 0.03)\n",
    "tranche2 = CDSTranche(valuation_date, trancheMaturity, 0.03, 0.06)\n",
    "tranche3 = CDSTranche(valuation_date, trancheMaturity, 0.06, 0.09)\n",
    "tranche4 = CDSTranche(valuation_date, trancheMaturity, 0.09, 0.12)\n",
    "tranche5 = CDSTranche(valuation_date, trancheMaturity, 0.12, 0.22)\n",
    "tranche6 = CDSTranche(valuation_date, trancheMaturity, 0.22, 0.60)\n",
    "tranche7 = CDSTranche(valuation_date, trancheMaturity, 0.00, 0.60)\n",
    "tranche8 = CDSTranche(valuation_date, trancheMaturity, 0.00, 1.00)"
   ]
  },
  {
   "cell_type": "code",
   "execution_count": 18,
   "metadata": {},
   "outputs": [],
   "source": [
    "tranches = [tranche1, tranche2, tranche3, tranche4, tranche5, tranche6, tranche7, tranche8]"
   ]
  },
  {
   "cell_type": "code",
   "execution_count": 19,
   "metadata": {},
   "outputs": [],
   "source": [
    "corr1 = 0.30\n",
    "corr2 = 0.30\n",
    "upfront = 0.0\n",
    "spd = 0.0"
   ]
  },
  {
   "cell_type": "markdown",
   "metadata": {},
   "source": [
    "## Homogeneous Portfolio Results"
   ]
  },
  {
   "cell_type": "code",
   "execution_count": 20,
   "metadata": {},
   "outputs": [
    {
     "name": "stdout",
     "output_type": "stream",
     "text": [
      "                                            Method NumPts        K1        K2     SPD(BPS)\n",
      "              FinLossDistributionBuilder.RECURSION    50   0.00000   3.00000   875.142344\n",
      "      FinLossDistributionBuilder.ADJUSTED_BINOMIAL    50   0.00000   3.00000   875.142344\n",
      "               FinLossDistributionBuilder.GAUSSIAN    50   0.00000   3.00000   904.131917\n",
      "                    FinLossDistributionBuilder.LHP    50   0.00000   3.00000   914.428151\n",
      "=============================================================================================\n",
      "              FinLossDistributionBuilder.RECURSION    50   3.00000   6.00000   239.744106\n",
      "      FinLossDistributionBuilder.ADJUSTED_BINOMIAL    50   3.00000   6.00000   239.744106\n",
      "               FinLossDistributionBuilder.GAUSSIAN    50   3.00000   6.00000   215.897269\n",
      "                    FinLossDistributionBuilder.LHP    50   3.00000   6.00000   226.978741\n",
      "=============================================================================================\n",
      "              FinLossDistributionBuilder.RECURSION    50   6.00000   9.00000   102.226143\n",
      "      FinLossDistributionBuilder.ADJUSTED_BINOMIAL    50   6.00000   9.00000   102.226143\n",
      "               FinLossDistributionBuilder.GAUSSIAN    50   6.00000   9.00000    88.590706\n",
      "                    FinLossDistributionBuilder.LHP    50   6.00000   9.00000    95.019144\n",
      "=============================================================================================\n",
      "              FinLossDistributionBuilder.RECURSION    50   9.00000  12.00000    49.271612\n",
      "      FinLossDistributionBuilder.ADJUSTED_BINOMIAL    50   9.00000  12.00000    49.271612\n",
      "               FinLossDistributionBuilder.GAUSSIAN    50   9.00000  12.00000    41.430938\n",
      "                    FinLossDistributionBuilder.LHP    50   9.00000  12.00000    45.192130\n",
      "=============================================================================================\n",
      "              FinLossDistributionBuilder.RECURSION    50  12.00000  22.00000    14.040984\n",
      "      FinLossDistributionBuilder.ADJUSTED_BINOMIAL    50  12.00000  22.00000    14.040984\n",
      "               FinLossDistributionBuilder.GAUSSIAN    50  12.00000  22.00000    11.277736\n",
      "                    FinLossDistributionBuilder.LHP    50  12.00000  22.00000    12.650902\n",
      "=============================================================================================\n",
      "              FinLossDistributionBuilder.RECURSION    50  22.00000  60.00000     0.490457\n",
      "      FinLossDistributionBuilder.ADJUSTED_BINOMIAL    50  22.00000  60.00000     0.490457\n",
      "               FinLossDistributionBuilder.GAUSSIAN    50  22.00000  60.00000     0.343260\n",
      "                    FinLossDistributionBuilder.LHP    50  22.00000  60.00000     0.419166\n",
      "=============================================================================================\n",
      "              FinLossDistributionBuilder.RECURSION    50   0.00000  60.00000    59.236547\n",
      "      FinLossDistributionBuilder.ADJUSTED_BINOMIAL    50   0.00000  60.00000    59.236547\n",
      "               FinLossDistributionBuilder.GAUSSIAN    50   0.00000  60.00000    57.737541\n",
      "                    FinLossDistributionBuilder.LHP    50   0.00000  60.00000    59.236538\n",
      "=============================================================================================\n",
      "              FinLossDistributionBuilder.RECURSION    50   0.00000 100.00000    35.389295\n",
      "      FinLossDistributionBuilder.ADJUSTED_BINOMIAL    50   0.00000 100.00000    35.389295\n",
      "               FinLossDistributionBuilder.GAUSSIAN    50   0.00000 100.00000    34.501234\n",
      "                    FinLossDistributionBuilder.LHP    50   0.00000 100.00000    35.389288\n",
      "=============================================================================================\n"
     ]
    }
   ],
   "source": [
    "print(\"%50s %5s %9s %9s %12s\"% (\"Method\", \"NumPts\", \"K1\", \"K2\", \"SPD(BPS)\"))\n",
    "for tranche in tranches:\n",
    "    for method in FinLossDistributionBuilder:\n",
    "        for num_points in [50]:\n",
    "            v = tranche.value_bc(valuation_date,homoIssuerCurves,upfront,spd,corr1,corr2,num_points,method)\n",
    "            print(\"%50s %5d %9.5f %9.5f %12.6f\"% (method, num_points, tranche._k1*100, tranche._k2*100, v[3] * 10000))\n",
    "    print(\"=============================================================================================\")"
   ]
  },
  {
   "cell_type": "markdown",
   "metadata": {},
   "source": [
    "## Heterogeneous Portfolio Results"
   ]
  },
  {
   "cell_type": "code",
   "execution_count": 21,
   "metadata": {
    "scrolled": false
   },
   "outputs": [
    {
     "name": "stdout",
     "output_type": "stream",
     "text": [
      "                                            Method NumPts        K1        K2     SPD(BPS)\n",
      "              FinLossDistributionBuilder.RECURSION    50    0.00000   3.00000   949.643014\n",
      "      FinLossDistributionBuilder.ADJUSTED_BINOMIAL    50    0.00000   3.00000   949.577467\n",
      "               FinLossDistributionBuilder.GAUSSIAN    50    0.00000   3.00000   981.024090\n",
      "                    FinLossDistributionBuilder.LHP    50    0.00000   3.00000   914.815317\n",
      "=============================================================================================\n",
      "              FinLossDistributionBuilder.RECURSION    50    3.00000   6.00000   231.078872\n",
      "      FinLossDistributionBuilder.ADJUSTED_BINOMIAL    50    3.00000   6.00000   231.166682\n",
      "               FinLossDistributionBuilder.GAUSSIAN    50    3.00000   6.00000   202.418752\n",
      "                    FinLossDistributionBuilder.LHP    50    3.00000   6.00000   226.986598\n",
      "=============================================================================================\n",
      "              FinLossDistributionBuilder.RECURSION    50    6.00000   9.00000    87.300805\n",
      "      FinLossDistributionBuilder.ADJUSTED_BINOMIAL    50    6.00000   9.00000    87.355840\n",
      "               FinLossDistributionBuilder.GAUSSIAN    50    6.00000   9.00000    72.607174\n",
      "                    FinLossDistributionBuilder.LHP    50    6.00000   9.00000    95.010947\n",
      "=============================================================================================\n",
      "              FinLossDistributionBuilder.RECURSION    50    9.00000  12.00000    37.533363\n",
      "      FinLossDistributionBuilder.ADJUSTED_BINOMIAL    50    9.00000  12.00000    37.388592\n",
      "               FinLossDistributionBuilder.GAUSSIAN    50    9.00000  12.00000    30.017626\n",
      "                    FinLossDistributionBuilder.LHP    50    9.00000  12.00000    45.184999\n",
      "=============================================================================================\n",
      "              FinLossDistributionBuilder.RECURSION    50   12.00000  22.00000     8.955499\n",
      "      FinLossDistributionBuilder.ADJUSTED_BINOMIAL    50   12.00000  22.00000     8.971195\n",
      "               FinLossDistributionBuilder.GAUSSIAN    50   12.00000  22.00000     6.772676\n",
      "                    FinLossDistributionBuilder.LHP    50   12.00000  22.00000    12.647870\n",
      "=============================================================================================\n",
      "              FinLossDistributionBuilder.RECURSION    50   22.00000  60.00000     0.213056\n",
      "      FinLossDistributionBuilder.ADJUSTED_BINOMIAL    50   22.00000  60.00000     0.213152\n",
      "               FinLossDistributionBuilder.GAUSSIAN    50   22.00000  60.00000     0.136094\n",
      "                    FinLossDistributionBuilder.LHP    50   22.00000  60.00000     0.418999\n",
      "=============================================================================================\n",
      "              FinLossDistributionBuilder.RECURSION    50    0.00000  60.00000    59.238161\n",
      "      FinLossDistributionBuilder.ADJUSTED_BINOMIAL    50    0.00000  60.00000    59.238161\n",
      "               FinLossDistributionBuilder.GAUSSIAN    50    0.00000  60.00000    57.720276\n",
      "                    FinLossDistributionBuilder.LHP    50    0.00000  60.00000    59.238128\n",
      "=============================================================================================\n",
      "              FinLossDistributionBuilder.RECURSION    50    0.00000 100.00000    35.389921\n",
      "      FinLossDistributionBuilder.ADJUSTED_BINOMIAL    50    0.00000 100.00000    35.389921\n",
      "               FinLossDistributionBuilder.GAUSSIAN    50    0.00000 100.00000    34.491027\n",
      "                    FinLossDistributionBuilder.LHP    50    0.00000 100.00000    35.389904\n",
      "=============================================================================================\n"
     ]
    }
   ],
   "source": [
    "print(\"%50s %5s %9s %9s %12s\"% (\"Method\", \"NumPts\", \"K1\", \"K2\", \"SPD(BPS)\"))\n",
    "\n",
    "for tranche in tranches:\n",
    "    for method in FinLossDistributionBuilder:\n",
    "        for num_points in [50]:\n",
    "            v = tranche.value_bc(valuation_date,heteroIssuerCurves,upfront,spd,corr1,corr2,num_points,method)\n",
    "            print(\"%50s %5d  %9.5f %9.5f %12.6f\"% (method, num_points, tranche._k1*100, tranche._k2*100, v[3] * 10000))\n",
    "    print(\"=============================================================================================\")"
   ]
  },
  {
   "cell_type": "markdown",
   "metadata": {},
   "source": [
    "Copyright (c) 2020 Dominic O'Kane"
   ]
  }
 ],
 "metadata": {
  "kernelspec": {
   "display_name": "Python 3",
   "language": "python",
   "name": "python3"
  },
  "language_info": {
   "codemirror_mode": {
    "name": "ipython",
    "version": 3
   },
   "file_extension": ".py",
   "mimetype": "text/x-python",
   "name": "python",
   "nbconvert_exporter": "python",
   "pygments_lexer": "ipython3",
   "version": "3.8.5"
  }
 },
 "nbformat": 4,
 "nbformat_minor": 2
}
