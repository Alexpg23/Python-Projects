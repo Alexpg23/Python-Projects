{
 "cells": [
  {
   "cell_type": "markdown",
   "metadata": {},
   "source": [
    "# Creating and Valuing a CDS Option"
   ]
  },
  {
   "cell_type": "markdown",
   "metadata": {},
   "source": [
    "Example CDS Valuation and comparison with market standard ISDA model on Markit website"
   ]
  },
  {
   "cell_type": "code",
   "execution_count": 1,
   "metadata": {},
   "outputs": [],
   "source": [
    "import numpy as np\n",
    "import matplotlib.pyplot as plt"
   ]
  },
  {
   "cell_type": "code",
   "execution_count": 2,
   "metadata": {},
   "outputs": [
    {
     "name": "stdout",
     "output_type": "stream",
     "text": [
      "####################################################################\n",
      "# FINANCEPY BETA Version 0.200 - This build:  14 Jul 2021 at 13:18 #\n",
      "# **** NEW PEP8 COMPLIANT VERSION -- PLEASE UPDATE YOUR CODE  **** #\n",
      "#      This software is distributed FREE & WITHOUT ANY WARRANTY    #\n",
      "# For info and disclaimer - https://github.com/domokane/FinancePy  #\n",
      "#      Send any bug reports or comments to quant@financepy.com     #\n",
      "####################################################################\n",
      "\n"
     ]
    }
   ],
   "source": [
    "from financepy.utils import *\n",
    "from financepy.products.rates import *\n",
    "from financepy.products.credit import *"
   ]
  },
  {
   "cell_type": "markdown",
   "metadata": {},
   "source": [
    "Set the trade date and settlement date one day later"
   ]
  },
  {
   "cell_type": "code",
   "execution_count": 3,
   "metadata": {},
   "outputs": [],
   "source": [
    "valuation_date = Date(5, 2, 2014)\n",
    "settlement_date = valuation_date.add_days(1)"
   ]
  },
  {
   "cell_type": "markdown",
   "metadata": {},
   "source": [
    "## Build Ibor Curve"
   ]
  },
  {
   "cell_type": "code",
   "execution_count": 5,
   "metadata": {},
   "outputs": [],
   "source": [
    "dcType = DayCountTypes.THIRTY_E_360\n",
    "depo = IborDeposit(settlement_date, \"1D\", 0.0502, dcType)\n",
    "depos = [depo]\n",
    "fixedFreq = FrequencyTypes.SEMI_ANNUAL\n",
    "swapType = SwapTypes.PAY\n",
    "swap1 = IborSwap(settlement_date,\"1Y\",swapType,0.0502,fixedFreq,dcType)\n",
    "swap2 = IborSwap(settlement_date,\"2Y\",swapType,0.0502,fixedFreq,dcType)\n",
    "swap3 = IborSwap(settlement_date,\"3Y\",swapType,0.0501,fixedFreq,dcType)\n",
    "swap4 = IborSwap(settlement_date,\"4Y\",swapType,0.0502,fixedFreq,dcType)\n",
    "swap5 = IborSwap(settlement_date,\"5Y\",swapType,0.0501,fixedFreq,dcType)\n",
    "swaps = [swap1,swap2,swap3,swap4,swap5]\n",
    "\n",
    "libor_curve = IborSingleCurve(valuation_date, depos, [], swaps)"
   ]
  },
  {
   "cell_type": "markdown",
   "metadata": {},
   "source": [
    "## Build a CDS Curve"
   ]
  },
  {
   "cell_type": "code",
   "execution_count": 8,
   "metadata": {},
   "outputs": [],
   "source": [
    "cdsFlatSpread = 0.0100"
   ]
  },
  {
   "cell_type": "code",
   "execution_count": 9,
   "metadata": {},
   "outputs": [],
   "source": [
    "cds1 = CDS(settlement_date, \"1Y\", cdsFlatSpread)\n",
    "cds2 = CDS(settlement_date, \"2Y\", cdsFlatSpread)\n",
    "cds3 = CDS(settlement_date, \"3Y\", cdsFlatSpread)\n",
    "cds4 = CDS(settlement_date, \"4Y\", cdsFlatSpread)\n",
    "cds5 = CDS(settlement_date, \"5Y\", cdsFlatSpread)\n",
    "cds6 = CDS(settlement_date, \"7Y\", cdsFlatSpread)\n",
    "cds7 = CDS(settlement_date, \"10Y\", cdsFlatSpread)\n",
    "cds8 = CDS(settlement_date, \"15Y\", cdsFlatSpread)"
   ]
  },
  {
   "cell_type": "code",
   "execution_count": 10,
   "metadata": {},
   "outputs": [],
   "source": [
    "cdss = [cds1, cds2, cds3, cds4, cds5, cds6, cds7, cds8]"
   ]
  },
  {
   "cell_type": "code",
   "execution_count": 11,
   "metadata": {},
   "outputs": [],
   "source": [
    "recovery_rate = 0.40"
   ]
  },
  {
   "cell_type": "code",
   "execution_count": 12,
   "metadata": {},
   "outputs": [],
   "source": [
    "issuer_curve = CDSCurve(valuation_date, cdss, libor_curve, recovery_rate)"
   ]
  },
  {
   "cell_type": "markdown",
   "metadata": {},
   "source": [
    "## CDS Option"
   ]
  },
  {
   "cell_type": "code",
   "execution_count": 13,
   "metadata": {},
   "outputs": [],
   "source": [
    "step_in_date = valuation_date.add_days(1)\n",
    "expiry_date = Date(20, 3, 2014)\n",
    "maturity_date = Date(20, 6, 2019)    "
   ]
  },
  {
   "cell_type": "code",
   "execution_count": 14,
   "metadata": {},
   "outputs": [],
   "source": [
    "cdsCoupon = 0.01\n",
    "volatility = 0.3    \n",
    "notional = ONE_MILLION\n",
    "long_protection = True"
   ]
  },
  {
   "cell_type": "code",
   "execution_count": 16,
   "metadata": {},
   "outputs": [],
   "source": [
    "strikes = np.linspace(80,120,21)/10000\n",
    "longValues = []\n",
    "shortValues = []\n",
    "\n",
    "# Long Protection\n",
    "for strike in strikes:\n",
    "    cdsOption = CDSOption(expiry_date, maturity_date, strike, notional, True)\n",
    "    v = cdsOption.value(valuation_date, issuer_curve, volatility)\n",
    "    longValues.append(v)\n",
    "    \n",
    "# Short Protection\n",
    "for strike in strikes:\n",
    "    cdsOption = CDSOption(expiry_date, maturity_date, strike, notional, False)\n",
    "    v = cdsOption.value(valuation_date, issuer_curve, volatility)\n",
    "    shortValues.append(v)\n",
    "    "
   ]
  },
  {
   "cell_type": "code",
   "execution_count": 17,
   "metadata": {},
   "outputs": [
    {
     "data": {
      "image/png": "[encoded data removed]",
      "text/plain": [
       "<Figure size 432x288 with 1 Axes>"
      ]
     },
     "metadata": {
      "needs_background": "light"
     },
     "output_type": "display_data"
    }
   ],
   "source": [
    "plt.plot(strikes*10000, longValues, label=\"Long Protection\")\n",
    "plt.plot(strikes*10000, shortValues, label=\"Short Protection\")\n",
    "plt.xlabel(\"Strike (bp)\")\n",
    "plt.ylabel(\"Value (USD)\")\n",
    "plt.legend();"
   ]
  },
  {
   "cell_type": "markdown",
   "metadata": {},
   "source": [
    "## Put Call Parity"
   ]
  },
  {
   "cell_type": "markdown",
   "metadata": {},
   "source": [
    "Check that put-call parity holds by comparing a long protection minus a short protection option to a forward starting long protection CDS"
   ]
  },
  {
   "cell_type": "code",
   "execution_count": 18,
   "metadata": {},
   "outputs": [],
   "source": [
    "fwdValues = []\n",
    "\n",
    "for strike in strikes:\n",
    "    fwdCDSContract = CDS(expiry_date, maturity_date, strike, notional, True)\n",
    "    v = fwdCDSContract.value(valuation_date, issuer_curve, recovery_rate)\n",
    "    fwdValues.append(v['full_pv'])"
   ]
  },
  {
   "cell_type": "code",
   "execution_count": 19,
   "metadata": {},
   "outputs": [],
   "source": [
    "callMinusPut = np.array(longValues) - np.array(shortValues)"
   ]
  },
  {
   "cell_type": "code",
   "execution_count": 20,
   "metadata": {},
   "outputs": [
    {
     "data": {
      "image/png": "[encoded data removed]",
      "text/plain": [
       "<Figure size 432x288 with 1 Axes>"
      ]
     },
     "metadata": {
      "needs_background": "light"
     },
     "output_type": "display_data"
    }
   ],
   "source": [
    "plt.plot(strikes*10000, fwdValues, label=\"Forward Values\")\n",
    "plt.plot(strikes*10000, callMinusPut, label=\"Long minus short\")\n",
    "plt.xlabel(\"Strike (bp)\")\n",
    "plt.ylabel(\"Value (USD)\")\n",
    "plt.legend();"
   ]
  },
  {
   "cell_type": "markdown",
   "metadata": {},
   "source": [
    "## Implied Volatility"
   ]
  },
  {
   "cell_type": "markdown",
   "metadata": {},
   "source": [
    "Let us just check that we can recover the input volatility"
   ]
  },
  {
   "cell_type": "code",
   "execution_count": 21,
   "metadata": {},
   "outputs": [
    {
     "name": "stdout",
     "output_type": "stream",
     "text": [
      "       100   1825.14079  30.00000000%\n",
      "       105   3186.93997  30.00000000%\n",
      "       110   4901.71886  30.00000000%\n",
      "       115   6859.67785  30.00000000%\n",
      "       120   8958.86251  30.00000000%\n",
      "       125  11128.67533  30.00000000%\n",
      "       130  13329.47152  30.00000000%\n",
      "       135  15542.38001  30.00000000%\n",
      "       140  17759.56615  30.00000000%\n",
      "       145  19978.13341  30.00000000%\n",
      "       150  22197.11261  30.00000000%\n",
      "       155  24416.20636  30.00000000%\n",
      "       160  26635.33005  30.00000000%\n",
      "       165  28854.46115  30.00000000%\n",
      "       170  31073.59399  30.00000000%\n",
      "       175  33292.72722  30.00000000%\n",
      "       180  35511.86054  30.00000000%\n",
      "       185  37730.99388  30.00000000%\n",
      "       190  39950.12722  30.00000000%\n",
      "       195  42169.26056  30.00000000%\n",
      "       200  44388.39390  30.00000000%\n"
     ]
    }
   ],
   "source": [
    "for strike in np.linspace(100, 200, 21):\n",
    "    cdsOption = CDSOption(expiry_date, maturity_date, strike / 10000.0,  notional, False)\n",
    "    v = cdsOption.value(valuation_date, issuer_curve, volatility)\n",
    "    vol = cdsOption.implied_volatility(valuation_date, issuer_curve, v)\n",
    "    print(\"%10d %12.5f %12.8f%%\" %(strike, v, vol*100))"
   ]
  },
  {
   "cell_type": "markdown",
   "metadata": {},
   "source": [
    "We recovery the used volatility as required."
   ]
  },
  {
   "cell_type": "markdown",
   "metadata": {},
   "source": [
    "Copyright (c) 2020 Dominic O'Kane"
   ]
  }
 ],
 "metadata": {
  "kernelspec": {
   "display_name": "Python 3",
   "language": "python",
   "name": "python3"
  },
  "language_info": {
   "codemirror_mode": {
    "name": "ipython",
    "version": 3
   },
   "file_extension": ".py",
   "mimetype": "text/x-python",
   "name": "python",
   "nbconvert_exporter": "python",
   "pygments_lexer": "ipython3",
   "version": "3.8.5"
  }
 },
 "nbformat": 4,
 "nbformat_minor": 2
}
