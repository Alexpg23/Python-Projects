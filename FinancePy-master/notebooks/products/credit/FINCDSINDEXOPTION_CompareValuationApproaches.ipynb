{
 "cells": [
  {
   "cell_type": "markdown",
   "metadata": {},
   "source": [
    "# Creating and Valuing a CDS Index Option"
   ]
  },
  {
   "cell_type": "markdown",
   "metadata": {},
   "source": [
    "This notebook does the valuation of an option on a CDS index using Anderson's method and an Adjusted Black Method. For details see Modelling Singlename and Multiname Credit Derivatives by D.O'Kane."
   ]
  },
  {
   "cell_type": "code",
   "execution_count": 1,
   "metadata": {},
   "outputs": [],
   "source": [
    "import numpy as np\n",
    "import matplotlib.pyplot as plt"
   ]
  },
  {
   "cell_type": "code",
   "execution_count": 2,
   "metadata": {},
   "outputs": [
    {
     "name": "stdout",
     "output_type": "stream",
     "text": [
      "####################################################################\n",
      "# FINANCEPY BETA Version 0.200 - This build:  14 Jul 2021 at 13:18 #\n",
      "# **** NEW PEP8 COMPLIANT VERSION -- PLEASE UPDATE YOUR CODE  **** #\n",
      "#      This software is distributed FREE & WITHOUT ANY WARRANTY    #\n",
      "# For info and disclaimer - https://github.com/domokane/FinancePy  #\n",
      "#      Send any bug reports or comments to quant@financepy.com     #\n",
      "####################################################################\n",
      "\n"
     ]
    }
   ],
   "source": [
    "from financepy.utils import *\n",
    "from financepy.products.rates import *\n",
    "from financepy.products.credit import *"
   ]
  },
  {
   "cell_type": "code",
   "execution_count": 3,
   "metadata": {},
   "outputs": [],
   "source": [
    "valuation_date = Date(1, 8, 2007)\n",
    "step_in_date = valuation_date.add_weekdays(0)\n",
    "valuation_date = step_in_date\n",
    "settlement_date = step_in_date"
   ]
  },
  {
   "cell_type": "markdown",
   "metadata": {},
   "source": [
    "## Build Libor Curve"
   ]
  },
  {
   "cell_type": "code",
   "execution_count": 5,
   "metadata": {},
   "outputs": [],
   "source": [
    "dcType = DayCountTypes.THIRTY_E_360_ISDA\n",
    "depos = []\n",
    "depo = IborDeposit(settlement_date, \"1D\", 0.0500, dcType); depos.append(depo)\n",
    "\n",
    "fixedFreq = FrequencyTypes.SEMI_ANNUAL\n",
    "swapType = SwapTypes.PAY\n",
    "swap1 = IborSwap(settlement_date,\"1Y\",swapType,0.0502,fixedFreq,dcType)\n",
    "swap2 = IborSwap(settlement_date,\"2Y\",swapType,0.0502,fixedFreq,dcType)\n",
    "swap3 = IborSwap(settlement_date,\"3Y\",swapType,0.0501,fixedFreq,dcType)\n",
    "swap4 = IborSwap(settlement_date,\"4Y\",swapType,0.0502,fixedFreq,dcType)\n",
    "swap5 = IborSwap(settlement_date,\"5Y\",swapType,0.0501,fixedFreq,dcType)\n",
    "swaps = [swap1,swap2,swap3,swap4,swap5]\n",
    "\n",
    "libor_curve = IborSingleCurve(valuation_date, depos, [], swaps)"
   ]
  },
  {
   "cell_type": "code",
   "execution_count": 6,
   "metadata": {},
   "outputs": [],
   "source": [
    "cdsMaturity3Y = valuation_date.next_cds_date(36)\n",
    "cdsMaturity5Y = valuation_date.next_cds_date(60)\n",
    "cdsMaturity7Y = valuation_date.next_cds_date(84)\n",
    "cdsMaturity10Y = valuation_date.next_cds_date(120)"
   ]
  },
  {
   "cell_type": "markdown",
   "metadata": {},
   "source": [
    "## Load the Underlying CDS Index Portfolio"
   ]
  },
  {
   "cell_type": "code",
   "execution_count": 9,
   "metadata": {},
   "outputs": [],
   "source": [
    "f = open('.//data//CDX_NA_IG_S7_SPREADS.csv', 'r')\n",
    "data = f.readlines()\n",
    "issuer_curves = []\n",
    "\n",
    "num_credits = len(data) - 1  # The file has a header\n",
    "\n",
    "for row in data[1:]:\n",
    "    splitRow = row.split(\",\")\n",
    "    creditName = splitRow[0]\n",
    "    spd3Y = float(splitRow[1]) / 10000.0\n",
    "    spd5Y = float(splitRow[2]) / 10000.0\n",
    "    spd7Y = float(splitRow[3]) / 10000.0\n",
    "    spd10Y = float(splitRow[4]) / 10000.0\n",
    "    recovery_rate = float(splitRow[5])\n",
    "\n",
    "    cds3Y = CDS(step_in_date, cdsMaturity3Y, spd3Y)\n",
    "    cds5Y = CDS(step_in_date, cdsMaturity5Y, spd5Y)\n",
    "    cds7Y = CDS(step_in_date, cdsMaturity7Y, spd7Y)\n",
    "    cds10Y = CDS(step_in_date, cdsMaturity10Y, spd10Y)\n",
    "    cds_contracts = [cds3Y, cds5Y, cds7Y, cds10Y]\n",
    "\n",
    "    issuer_curve = CDSCurve(valuation_date, cds_contracts, libor_curve, recovery_rate)\n",
    "    issuer_curves.append(issuer_curve)"
   ]
  },
  {
   "cell_type": "markdown",
   "metadata": {},
   "source": [
    "## Term Structure of CDS Index Market"
   ]
  },
  {
   "cell_type": "markdown",
   "metadata": {},
   "source": [
    "We now set up the term structure of CDS Index trades and start by setting up the maturity dates of the index"
   ]
  },
  {
   "cell_type": "code",
   "execution_count": 10,
   "metadata": {},
   "outputs": [],
   "source": [
    "indexMaturity3Y = Date(20,12,2009)\n",
    "indexMaturity5Y = Date(20,12,2011)\n",
    "indexMaturity7Y = Date(20,12,2013)\n",
    "indexMaturity10Y = Date(20,12,2016)"
   ]
  },
  {
   "cell_type": "markdown",
   "metadata": {},
   "source": [
    "Now we set their upfronts and coupons"
   ]
  },
  {
   "cell_type": "code",
   "execution_count": 11,
   "metadata": {},
   "outputs": [],
   "source": [
    "indexUpfronts = [0.0, 0.0, 0.0, 0.0]\n",
    "indexMaturityDates = [indexMaturity3Y, indexMaturity5Y, indexMaturity7Y, indexMaturity10Y]\n",
    "indexRecovery = 0.40"
   ]
  },
  {
   "cell_type": "markdown",
   "metadata": {},
   "source": [
    "## Setting up the Index Option"
   ]
  },
  {
   "cell_type": "code",
   "execution_count": 12,
   "metadata": {},
   "outputs": [],
   "source": [
    "expiry_date = Date(1,2,2008)\n",
    "maturity_date = Date(20,12,2011)\n",
    "notional = 10000\n",
    "volatility = 0.50\n",
    "index_coupon = 0.004\n",
    "tolerance = 1e-6"
   ]
  },
  {
   "cell_type": "markdown",
   "metadata": {},
   "source": [
    "## Comparison of Anderson versus Adjusted Black Model"
   ]
  },
  {
   "cell_type": "code",
   "execution_count": 15,
   "metadata": {},
   "outputs": [
    {
     "name": "stdout",
     "output_type": "stream",
     "text": [
      "STRIKE    INDEX      PAY    RECEIVER      G(K)       X         EXPH       ABPAY       ABREC\n",
      "20.000   20.000     16.167      6.203    -70.749      22.90     -60.53      16.19       6.11\n",
      "30.000   20.000      4.074     28.782    -35.263      22.89     -60.59       4.07      28.63\n",
      "40.000   20.000      0.896     60.057      0.000      22.87     -60.65       0.91      59.84\n",
      "50.000   20.000      0.191     93.588     35.040      22.85     -60.71       0.20      93.22\n",
      "60.000   20.000      0.044    127.460     69.858      22.84     -60.77       0.05     126.88\n",
      "20.000   30.000     50.470      0.887    -70.749      34.40     -19.91      50.54       0.84\n",
      "30.000   30.000     24.146      9.206    -35.263      34.39     -19.94      24.18       9.15\n",
      "40.000   30.000      9.808     29.291      0.000      34.38     -19.97       9.89      29.26\n",
      "50.000   30.000      3.683     57.372     35.040      34.37     -20.00       3.75      57.23\n",
      "60.000   30.000      1.340     89.020     69.858      34.37     -20.03       1.39      88.72\n",
      "20.000   40.000     89.043      0.120    -70.749      45.91      20.42      89.15       0.11\n",
      "30.000   40.000     56.835      2.526    -35.263      45.91      20.42      56.83       2.49\n",
      "40.000   40.000     32.063     12.147      0.000      45.91      20.42      32.10      12.18\n",
      "50.000   40.000     16.517     30.779     35.040      45.91      20.42      16.63      30.86\n",
      "60.000   40.000      8.091     56.314     69.858      45.91      20.42       8.20      56.30\n",
      "20.000   50.000    128.078      0.017    -70.749      57.47      60.54     128.12       0.01\n",
      "30.000   50.000     94.142      0.665    -35.263      57.48      60.57      94.02       0.65\n",
      "40.000   50.000     63.747      4.637      0.000      57.48      60.60      63.58       4.65\n",
      "50.000   50.000     39.972     15.009     35.040      57.49      60.63      39.94      15.20\n",
      "60.000   50.000     23.747     32.717     69.858      57.50      60.66      23.78      32.93\n",
      "20.000   60.000    167.239      0.003    -70.749      69.13     100.71     166.90       0.00\n",
      "30.000   60.000    132.853      0.172    -35.263      69.15     100.77     132.31       0.17\n",
      "40.000   60.000    100.029      1.685      0.000      69.17     100.83      99.37       1.72\n",
      "50.000   60.000     71.159      6.934     35.040      69.19     100.89      70.55       7.10\n",
      "60.000   60.000     48.050     17.728     69.858      69.20     100.94      47.72      18.20\n"
     ]
    }
   ],
   "source": [
    "print(\"STRIKE    INDEX      PAY    RECEIVER      G(K)       X         EXPH       ABPAY       ABREC\")\n",
    "\n",
    "for index in np.linspace(20, 60, 5):\n",
    "    \n",
    "    # Create a flat CDS index curve\n",
    "    cds_contracts = []\n",
    "    for dt in indexMaturityDates:\n",
    "        cds = CDS(valuation_date, dt, index / 10000.0)\n",
    "        cds_contracts.append(cds)\n",
    "\n",
    "    # Build the flat CDS index curve\n",
    "    index_curve = CDSCurve(valuation_date, cds_contracts, libor_curve, indexRecovery)\n",
    "\n",
    "    # Now we need to set up the underlying curves and adjust them\n",
    "    indexSpreads = [index / 10000.0] * 4\n",
    "\n",
    "    indexPortfolio = CDSIndexPortfolio()\n",
    "    adjustedIssuerCurves = indexPortfolio.hazard_rate_adjust_intrinsic(valuation_date, \n",
    "                                                                    issuer_curves, \n",
    "                                                                    indexSpreads, \n",
    "                                                                    indexUpfronts,\n",
    "                                                                    indexMaturityDates, \n",
    "                                                                    indexRecovery, \n",
    "                                                                    tolerance)        \n",
    "        \n",
    "    for strike in np.linspace(20, 60, 5):    \n",
    "\n",
    "        option = CDSIndexOption(expiry_date,\n",
    "                                   maturity_date, \n",
    "                                   index_coupon, \n",
    "                                   strike / 10000.0, \n",
    "                                   notional)\n",
    "        \n",
    "        v_pay_1, v_rec_1, strikeValue, mu, expH = option.value_anderson(valuation_date, \n",
    "                                                                       adjustedIssuerCurves, \n",
    "                                                                       indexRecovery,\n",
    "                                                                       volatility)\n",
    "\n",
    "        v_pay_2, v_rec_2 = option.value_adjusted_black(valuation_date,\n",
    "                                                     index_curve, \n",
    "                                                     indexRecovery, \n",
    "                                                     libor_curve,\n",
    "                                                     volatility)\n",
    "            \n",
    "        print(\"%6.3f   %6.3f   %8.3f   %8.3f   %8.3f   %8.2f   %8.2f   %8.2f   %8.2f\" % \n",
    "              (strike, index, v_pay_1, v_rec_1, strikeValue, mu, expH, v_pay_2, v_rec_2 ))"
   ]
  },
  {
   "cell_type": "code",
   "execution_count": 16,
   "metadata": {},
   "outputs": [
    {
     "name": "stdout",
     "output_type": "stream",
     "text": [
      "OBJECT TYPE: CDSIndexOption\n",
      "EXPIRY DATE: 01-FEB-2008\n",
      "MATURITY DATE: 20-DEC-2011\n",
      "INDEX COUPON: 40.0bp\n",
      "NOTIONAL: 10000\n",
      "LONG PROTECTION: True\n",
      "FREQUENCY: FrequencyTypes.QUARTERLY\n",
      "DAYCOUNT: DayCountTypes.ACT_360\n",
      "CALENDAR: CalendarTypes.WEEKEND\n",
      "BUSDAYRULE: BusDayAdjustTypes.FOLLOWING\n",
      "DATEGENRULE: DateGenRuleTypes.BACKWARD\n",
      "\n"
     ]
    }
   ],
   "source": [
    "print(option)"
   ]
  },
  {
   "cell_type": "markdown",
   "metadata": {},
   "source": [
    "Copyright (c) 2020 Dominic O'Kane"
   ]
  }
 ],
 "metadata": {
  "kernelspec": {
   "display_name": "Python 3",
   "language": "python",
   "name": "python3"
  },
  "language_info": {
   "codemirror_mode": {
    "name": "ipython",
    "version": 3
   },
   "file_extension": ".py",
   "mimetype": "text/x-python",
   "name": "python",
   "nbconvert_exporter": "python",
   "pygments_lexer": "ipython3",
   "version": "3.8.5"
  }
 },
 "nbformat": 4,
 "nbformat_minor": 2
}
