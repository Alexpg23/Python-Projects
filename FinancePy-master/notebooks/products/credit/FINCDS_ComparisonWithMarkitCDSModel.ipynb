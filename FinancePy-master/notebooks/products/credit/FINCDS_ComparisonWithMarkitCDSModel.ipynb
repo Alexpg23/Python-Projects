{
 "cells": [
  {
   "cell_type": "markdown",
   "metadata": {},
   "source": [
    "# Creating and Valuing a CDS Contract"
   ]
  },
  {
   "cell_type": "markdown",
   "metadata": {},
   "source": [
    "Replicating Markit Pricing on 20 Aug 2020"
   ]
  },
  {
   "cell_type": "code",
   "execution_count": 1,
   "metadata": {},
   "outputs": [],
   "source": [
    "import numpy as np\n",
    "import matplotlib.pyplot as plt"
   ]
  },
  {
   "cell_type": "code",
   "execution_count": 2,
   "metadata": {},
   "outputs": [
    {
     "name": "stdout",
     "output_type": "stream",
     "text": [
      "####################################################################\n",
      "# FINANCEPY BETA Version 0.200 - This build:  14 Jul 2021 at 13:18 #\n",
      "# **** NEW PEP8 COMPLIANT VERSION -- PLEASE UPDATE YOUR CODE  **** #\n",
      "#      This software is distributed FREE & WITHOUT ANY WARRANTY    #\n",
      "# For info and disclaimer - https://github.com/domokane/FinancePy  #\n",
      "#      Send any bug reports or comments to quant@financepy.com     #\n",
      "####################################################################\n",
      "\n"
     ]
    }
   ],
   "source": [
    "from financepy.utils import *\n",
    "from financepy.products.rates import *\n",
    "from financepy.products.credit import *"
   ]
  },
  {
   "cell_type": "markdown",
   "metadata": {},
   "source": [
    "## Creating a CDS Contract"
   ]
  },
  {
   "cell_type": "code",
   "execution_count": 3,
   "metadata": {},
   "outputs": [],
   "source": [
    "valuation_date = Date(20, 8, 2020)\n",
    "effective_date = Date(21, 8, 2020)\n",
    "maturity_date = Date(20, 6, 2025)\n",
    "running_coupon = 0.05\n",
    "notional = ONE_MILLION\n",
    "long_protection = True"
   ]
  },
  {
   "cell_type": "code",
   "execution_count": 5,
   "metadata": {},
   "outputs": [],
   "source": [
    "cds_contract = CDS(effective_date, maturity_date, running_coupon, notional, long_protection)"
   ]
  },
  {
   "cell_type": "markdown",
   "metadata": {},
   "source": [
    "## Build Ibor Curve"
   ]
  },
  {
   "cell_type": "code",
   "execution_count": 6,
   "metadata": {},
   "outputs": [],
   "source": [
    "settlement_date = Date(24, 8, 2020)"
   ]
  },
  {
   "cell_type": "code",
   "execution_count": 8,
   "metadata": {},
   "outputs": [],
   "source": [
    "dcType = DayCountTypes.ACT_360\n",
    "depo1 = IborDeposit(settlement_date, \"1M\", 0.001709, dcType)\n",
    "depo2 = IborDeposit(settlement_date, \"2M\", 0.002123, dcType)\n",
    "depo3 = IborDeposit(settlement_date, \"3M\", 0.002469, dcType)\n",
    "depo4 = IborDeposit(settlement_date, \"6M\", 0.003045, dcType)\n",
    "depo5 = IborDeposit(settlement_date, \"12M\", 0.004449, dcType)\n",
    "depos = [depo1,depo2,depo3,depo4,depo5]\n",
    "\n",
    "swapType = SwapTypes.PAY\n",
    "dcType = DayCountTypes.THIRTY_E_360_ISDA\n",
    "fixedFreq = FrequencyTypes.SEMI_ANNUAL\n",
    "swap1 = IborSwap(settlement_date,\"2Y\", swapType, 0.002155,fixedFreq,dcType)\n",
    "swap2 = IborSwap(settlement_date,\"3Y\", swapType, 0.002305,fixedFreq,dcType)\n",
    "swap3 = IborSwap(settlement_date,\"4Y\", swapType, 0.002665,fixedFreq,dcType)\n",
    "swap4 = IborSwap(settlement_date,\"5Y\", swapType, 0.003290,fixedFreq,dcType)\n",
    "swap5 = IborSwap(settlement_date,\"6Y\", swapType, 0.004025,fixedFreq,dcType)\n",
    "swap6 = IborSwap(settlement_date,\"7Y\", swapType, 0.004725,fixedFreq,dcType)\n",
    "swap7 = IborSwap(settlement_date,\"8Y\", swapType, 0.005430,fixedFreq,dcType)\n",
    "swap8 = IborSwap(settlement_date,\"9Y\", swapType, 0.006075,fixedFreq,dcType)\n",
    "swap9 = IborSwap(settlement_date,\"10Y\", swapType, 0.006640,fixedFreq,dcType)\n",
    "swaps = [swap1,swap2,swap3,swap4,swap5,swap6,swap7,swap8,swap9]\n",
    "\n",
    "libor_curve = IborSingleCurve(valuation_date, depos, [], swaps)"
   ]
  },
  {
   "cell_type": "markdown",
   "metadata": {},
   "source": [
    "# Build a CDS Curve"
   ]
  },
  {
   "cell_type": "code",
   "execution_count": 10,
   "metadata": {},
   "outputs": [],
   "source": [
    "cdsSpread = 0.01"
   ]
  },
  {
   "cell_type": "code",
   "execution_count": 11,
   "metadata": {},
   "outputs": [],
   "source": [
    "cds1 = CDS(settlement_date, \"6M\", cdsSpread)\n",
    "cds2 = CDS(settlement_date, \"1Y\", cdsSpread)\n",
    "cds3 = CDS(settlement_date, \"2Y\", cdsSpread)\n",
    "cds4 = CDS(settlement_date, \"3Y\", cdsSpread)\n",
    "cds5 = CDS(settlement_date, \"4Y\", cdsSpread)\n",
    "cds6 = CDS(settlement_date, \"5Y\", cdsSpread)\n",
    "cds7 = CDS(settlement_date, \"7Y\", cdsSpread)\n",
    "cds8 = CDS(settlement_date, \"10Y\", cdsSpread)"
   ]
  },
  {
   "cell_type": "code",
   "execution_count": 12,
   "metadata": {},
   "outputs": [],
   "source": [
    "cdss = [cds1, cds2, cds3, cds4, cds5, cds6, cds7, cds8]"
   ]
  },
  {
   "cell_type": "code",
   "execution_count": 13,
   "metadata": {},
   "outputs": [],
   "source": [
    "recovery_rate = 0.40"
   ]
  },
  {
   "cell_type": "code",
   "execution_count": 15,
   "metadata": {},
   "outputs": [],
   "source": [
    "issuer_curve = CDSCurve(valuation_date, cdss, libor_curve, recovery_rate)"
   ]
  },
  {
   "cell_type": "code",
   "execution_count": 16,
   "metadata": {},
   "outputs": [
    {
     "name": "stdout",
     "output_type": "stream",
     "text": [
      "OBJECT TYPE: CDSCurve\n",
      "TIME,SURVIVAL_PROBABILITY\n",
      " 0.0000000,  1.0000000\n",
      " 0.5808219,  0.9901921\n",
      " 1.0849315,  0.9817980\n",
      " 2.0849315,  0.9986816\n",
      " 3.0849315,  0.9804199\n",
      " 4.0876712,  0.9617070\n",
      " 5.0876712,  0.9461404\n",
      " 7.0876712,  0.9130451\n",
      "10.0904110,  0.8664844\n"
     ]
    }
   ],
   "source": [
    "print(issuer_curve)"
   ]
  },
  {
   "cell_type": "code",
   "execution_count": 17,
   "metadata": {},
   "outputs": [
    {
     "name": "stdout",
     "output_type": "stream",
     "text": [
      "PAYMENT_DATE      YEAR_FRAC      FLOW           DF       SURV_PROB      NPV\n",
      "    21-SEP-2020   0.252778     12638.89     0.999848     0.998513     12618.18\n",
      "    21-DEC-2020   0.252778     12638.89     0.999079     0.994298     12555.25\n",
      "    22-MAR-2021   0.252778     12638.89     0.998005     0.990100     12488.80\n",
      "    21-JUN-2021   0.252778     12638.89     0.996528     0.985940     12417.93\n",
      "    20-SEP-2021   0.252778     12638.89     0.995505     0.981798     12353.06\n",
      "    20-DEC-2021   0.252778     12638.89     0.995554     0.985980     12406.29\n",
      "    21-MAR-2022   0.252778     12638.89     0.995603     0.990181     12459.76\n",
      "    20-JUN-2022   0.252778     12638.89     0.995652     0.994399     12513.45\n",
      "    20-SEP-2022   0.255556     12777.78     0.995495     0.998682     12703.45\n",
      "    20-DEC-2022   0.252778     12638.89     0.994849     0.994097     12499.57\n",
      "    20-MAR-2023   0.250000     12500.00     0.994211     0.989584     12298.18\n",
      "    20-JUN-2023   0.255556     12777.78     0.993558     0.984991     12504.92\n",
      "    20-SEP-2023   0.255556     12777.78     0.992823     0.980420     12437.68\n",
      "    20-DEC-2023   0.252778     12638.89     0.991900     0.975734     12232.30\n",
      "    20-MAR-2024   0.252778     12638.89     0.990978     0.971070     12162.51\n",
      "    20-JUN-2024   0.255556     12777.78     0.990046     0.966377     12225.24\n",
      "    20-SEP-2024   0.255556     12777.78     0.988975     0.961707     12152.99\n",
      "    20-DEC-2024   0.252778     12638.89     0.987542     0.957802     11954.74\n",
      "    20-MAR-2025   0.250000     12500.00     0.986127     0.953956     11759.02\n",
      "    21-JUN-2025   0.258333     12916.67     0.984667     0.949998     12082.66\n"
     ]
    }
   ],
   "source": [
    "cds_contract.print_flows(issuer_curve)"
   ]
  },
  {
   "cell_type": "markdown",
   "metadata": {},
   "source": [
    "# Valuation"
   ]
  },
  {
   "cell_type": "code",
   "execution_count": 18,
   "metadata": {},
   "outputs": [
    {
     "name": "stdout",
     "output_type": "stream",
     "text": [
      "FAIR CDS SPREAD  100.08998 bp\n"
     ]
    }
   ],
   "source": [
    "spd = cds_contract.par_spread(settlement_date, issuer_curve, recovery_rate) * 10000.0\n",
    "print(\"FAIR CDS SPREAD %10.5f bp\"% spd)"
   ]
  },
  {
   "cell_type": "code",
   "execution_count": 19,
   "metadata": {},
   "outputs": [
    {
     "data": {
      "text/plain": [
       "(-195533.6454106767, -187200.31207734335, 533.6950180429558, 44.32197353540687)"
      ]
     },
     "execution_count": 19,
     "metadata": {},
     "output_type": "execute_result"
    }
   ],
   "source": [
    "cds_contract.value_fast_approx(settlement_date, 0.004, 0.01, 0.40, 0.40)"
   ]
  },
  {
   "cell_type": "code",
   "execution_count": 20,
   "metadata": {},
   "outputs": [],
   "source": [
    "v = cds_contract.value(settlement_date, issuer_curve, recovery_rate)"
   ]
  },
  {
   "cell_type": "code",
   "execution_count": 21,
   "metadata": {},
   "outputs": [],
   "source": [
    "full_pv = v['full_pv'] \n",
    "clean_pv = v['clean_pv']"
   ]
  },
  {
   "cell_type": "code",
   "execution_count": 22,
   "metadata": {},
   "outputs": [
    {
     "name": "stdout",
     "output_type": "stream",
     "text": [
      "FULL VALUE    -199370.92\n",
      "CLEAN VALUE   -191037.58\n"
     ]
    }
   ],
   "source": [
    "print(\"FULL VALUE  %12.2f\"% full_pv)\n",
    "print(\"CLEAN VALUE %12.2f\"% clean_pv)"
   ]
  },
  {
   "cell_type": "code",
   "execution_count": 23,
   "metadata": {},
   "outputs": [
    {
     "name": "stdout",
     "output_type": "stream",
     "text": [
      "CLEAN PRICE   119.039676\n"
     ]
    }
   ],
   "source": [
    "cleanp = cds_contract.clean_price(settlement_date, issuer_curve, recovery_rate)\n",
    "print(\"CLEAN PRICE %12.6f\"% cleanp)"
   ]
  },
  {
   "cell_type": "code",
   "execution_count": 24,
   "metadata": {},
   "outputs": [
    {
     "name": "stdout",
     "output_type": "stream",
     "text": [
      "ACCRUED_DAYS 60.0\n"
     ]
    }
   ],
   "source": [
    "accrued_days = cds_contract.accrued_days()\n",
    "print(\"ACCRUED_DAYS\", accrued_days)"
   ]
  },
  {
   "cell_type": "code",
   "execution_count": 25,
   "metadata": {},
   "outputs": [
    {
     "name": "stdout",
     "output_type": "stream",
     "text": [
      "ACCRUED_COUPON -8333.333333333334\n"
     ]
    }
   ],
   "source": [
    "accrued_interest = cds_contract.accrued_interest()\n",
    "print(\"ACCRUED_COUPON\", accrued_interest)"
   ]
  },
  {
   "cell_type": "code",
   "execution_count": 26,
   "metadata": {},
   "outputs": [
    {
     "name": "stdout",
     "output_type": "stream",
     "text": [
      "PROTECTION_PV 47813.122593011336\n"
     ]
    }
   ],
   "source": [
    "prot_pv = cds_contract.protection_leg_pv(settlement_date, issuer_curve, recovery_rate)\n",
    "print(\"PROTECTION_PV\", prot_pv)"
   ]
  },
  {
   "cell_type": "code",
   "execution_count": 27,
   "metadata": {},
   "outputs": [
    {
     "name": "stdout",
     "output_type": "stream",
     "text": [
      "PREMIUM_PV 247184.03808119084\n"
     ]
    }
   ],
   "source": [
    "premPV = cds_contract.premium_leg_pv(settlement_date, issuer_curve, recovery_rate)\n",
    "print(\"PREMIUM_PV\", premPV)"
   ]
  },
  {
   "cell_type": "code",
   "execution_count": 28,
   "metadata": {},
   "outputs": [
    {
     "data": {
      "text/plain": [
       "{'full_rpv01': 4.943680761623817, 'clean_rpv01': 4.77701409495715}"
      ]
     },
     "execution_count": 28,
     "metadata": {},
     "output_type": "execute_result"
    }
   ],
   "source": [
    "cds_contract.risky_pv01(settlement_date, issuer_curve)"
   ]
  },
  {
   "cell_type": "markdown",
   "metadata": {},
   "source": [
    "## Risk Measures"
   ]
  },
  {
   "cell_type": "code",
   "execution_count": 29,
   "metadata": {},
   "outputs": [
    {
     "data": {
      "text/plain": [
       "514.3827831871749"
      ]
     },
     "execution_count": 29,
     "metadata": {},
     "output_type": "execute_result"
    }
   ],
   "source": [
    "cds_contract.credit_dv01(settlement_date, issuer_curve, recovery_rate)"
   ]
  },
  {
   "cell_type": "code",
   "execution_count": 30,
   "metadata": {},
   "outputs": [
    {
     "data": {
      "text/plain": [
       "4.157797746738652"
      ]
     },
     "execution_count": 30,
     "metadata": {},
     "output_type": "execute_result"
    }
   ],
   "source": [
    "cds_contract.interest_dv01(settlement_date, issuer_curve, recovery_rate)"
   ]
  },
  {
   "cell_type": "markdown",
   "metadata": {},
   "source": [
    "Copyright (c) 2020 Dominic O'Kane"
   ]
  }
 ],
 "metadata": {
  "kernelspec": {
   "display_name": "Python 3",
   "language": "python",
   "name": "python3"
  },
  "language_info": {
   "codemirror_mode": {
    "name": "ipython",
    "version": 3
   },
   "file_extension": ".py",
   "mimetype": "text/x-python",
   "name": "python",
   "nbconvert_exporter": "python",
   "pygments_lexer": "ipython3",
   "version": "3.8.5"
  }
 },
 "nbformat": 4,
 "nbformat_minor": 2
}
