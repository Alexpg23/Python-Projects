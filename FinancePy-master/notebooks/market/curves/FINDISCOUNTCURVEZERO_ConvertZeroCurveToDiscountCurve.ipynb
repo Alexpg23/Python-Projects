{
 "cells": [
  {
   "cell_type": "markdown",
   "metadata": {},
   "source": [
    "# Convert Zero Curve to a Discount Curve - Stack Exchane Question"
   ]
  },
  {
   "cell_type": "markdown",
   "metadata": {},
   "source": [
    "https://quant.stackexchange.com/questions/58148/how-to-convert-a-zero-curve-to-a-discount-curve"
   ]
  },
  {
   "cell_type": "code",
   "execution_count": 1,
   "metadata": {},
   "outputs": [],
   "source": [
    "import numpy as np\n",
    "import matplotlib.pyplot as plt"
   ]
  },
  {
   "cell_type": "code",
   "execution_count": 2,
   "metadata": {
    "tags": []
   },
   "outputs": [
    {
     "name": "stdout",
     "output_type": "stream",
     "text": [
      "####################################################################\n",
      "# FINANCEPY BETA Version 0.200 - This build:  14 Jul 2021 at 12:26 #\n",
      "# **** NEW PEP8 COMPLIANT VERSION -- PLEASE UPDATE YOUR CODE  **** #\n",
      "#      This software is distributed FREE & WITHOUT ANY WARRANTY    #\n",
      "# For info and disclaimer - https://github.com/domokane/FinancePy  #\n",
      "#      Send any bug reports or comments to quant@financepy.com     #\n",
      "####################################################################\n",
      "\n"
     ]
    }
   ],
   "source": [
    "from financepy.utils import *\n",
    "from financepy.products.rates import *\n",
    "from financepy.market.curves import *"
   ]
  },
  {
   "cell_type": "markdown",
   "metadata": {},
   "source": [
    "## Building a Libor Discount Curve"
   ]
  },
  {
   "cell_type": "markdown",
   "metadata": {},
   "source": [
    "The example does this using a set of dates and zero rates"
   ]
  },
  {
   "cell_type": "code",
   "execution_count": 3,
   "metadata": {},
   "outputs": [],
   "source": [
    "valuation_date = Date(1, 1, 2015)"
   ]
  },
  {
   "cell_type": "markdown",
   "metadata": {},
   "source": [
    "We have a vector of dates and zero rates"
   ]
  },
  {
   "cell_type": "code",
   "execution_count": 4,
   "metadata": {},
   "outputs": [],
   "source": [
    "frequencyType = FrequencyTypes.ANNUAL\n",
    "day_count_type = DayCountTypes.ACT_365F"
   ]
  },
  {
   "cell_type": "code",
   "execution_count": 6,
   "metadata": {},
   "outputs": [],
   "source": [
    "spot_dates = [Date(1, 1, 2015), Date(1, 6, 2015), Date(1, 12, 2015), Date(1, 4, 2016), Date(1, 8, 2016)]\n",
    "spot_rates = [0, 0.02, 0.04, 0.06, 0.08]\n",
    "zero_curve = DiscountCurveZeros(valuation_date, spot_dates, spot_rates, \n",
    "                                   frequencyType, day_count_type, InterpTypes.LINEAR_ZERO_RATES)"
   ]
  },
  {
   "cell_type": "code",
   "execution_count": 7,
   "metadata": {
    "tags": []
   },
   "outputs": [
    {
     "name": "stdout",
     "output_type": "stream",
     "text": [
      "OBJECT TYPE: DiscountCurveZeros\n",
      "VALUATION DATE: 01-JAN-2015\n",
      "FREQUENCY TYPE: FrequencyTypes.ANNUAL\n",
      "DAY COUNT TYPE: DayCountTypes.ACT_365F\n",
      "INTERP TYPE: InterpTypes.LINEAR_ZERO_RATES\n",
      "DATES: ZERO RATES\n",
      " 01-JAN-2015:  0.0000000\n",
      " 01-JUN-2015:  0.0200000\n",
      " 01-DEC-2015:  0.0400000\n",
      " 01-APR-2016:  0.0600000\n",
      " 01-AUG-2016:  0.0800000\n",
      "\n"
     ]
    }
   ],
   "source": [
    "print(zero_curve)"
   ]
  },
  {
   "cell_type": "code",
   "execution_count": 8,
   "metadata": {
    "tags": []
   },
   "outputs": [
    {
     "name": "stdout",
     "output_type": "stream",
     "text": [
      "01-JAN-2015 1.0\n",
      "01-JUN-2015 0.9918411458168641\n",
      "01-DEC-2015 0.9647467581357048\n",
      "01-APR-2016 0.9297902787888683\n",
      "01-AUG-2016 0.8852611853613656\n"
     ]
    }
   ],
   "source": [
    "for dt in spot_dates:\n",
    "    df = zero_curve.df(dt)\n",
    "    print(dt, df)"
   ]
  },
  {
   "cell_type": "markdown",
   "metadata": {},
   "source": [
    "This agrees with Quantlib"
   ]
  }
 ],
 "metadata": {
  "kernelspec": {
   "display_name": "Python 3",
   "language": "python",
   "name": "python3"
  },
  "language_info": {
   "codemirror_mode": {
    "name": "ipython",
    "version": 3
   },
   "file_extension": ".py",
   "mimetype": "text/x-python",
   "name": "python",
   "nbconvert_exporter": "python",
   "pygments_lexer": "ipython3",
   "version": "3.8.5"
  }
 },
 "nbformat": 4,
 "nbformat_minor": 4
}
