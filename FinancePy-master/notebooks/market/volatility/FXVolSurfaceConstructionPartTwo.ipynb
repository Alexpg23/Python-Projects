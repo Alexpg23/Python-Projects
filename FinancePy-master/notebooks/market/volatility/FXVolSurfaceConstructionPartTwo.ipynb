{
 "cells": [
  {
   "cell_type": "markdown",
   "metadata": {},
   "source": [
    "# CONSTRUCTION OF FX VOL SURFACE - PART II"
   ]
  },
  {
   "cell_type": "markdown",
   "metadata": {},
   "source": [
    "In this notebook I show how you can calibrate to the FX Vol Surface to ATM, 25D and 10D at one expiry date and analyse different volatility interpolation methods."
   ]
  },
  {
   "cell_type": "code",
   "execution_count": 1,
   "metadata": {},
   "outputs": [],
   "source": [
    "import numpy as np\n",
    "import matplotlib.pyplot as plt"
   ]
  },
  {
   "cell_type": "code",
   "execution_count": 1,
   "metadata": {},
   "outputs": [
    {
     "name": "stderr",
     "output_type": "stream",
     "text": [
      "C:\\Users\\Dominic\\anaconda3\\lib\\site-packages\\numba\\np\\ufunc\\parallel.py:363: NumbaWarning: \u001b[1mThe TBB threading layer requires TBB version 2019.5 or later i.e., TBB_INTERFACE_VERSION >= 11005. Found TBB_INTERFACE_VERSION = 7004. The TBB threading layer is disabled.\u001b[0m\n",
      "  warnings.warn(problem)\n"
     ]
    }
   ],
   "source": [
    "from financepy.utils import *\n",
    "from financepy.models.black_scholes import *\n",
    "from financepy.products.fx import *\n",
    "from financepy.market.curves import DiscountCurveFlat\n",
    "from financepy.market.volatility import *"
   ]
  },
  {
   "cell_type": "markdown",
   "metadata": {},
   "source": [
    "## Load the Volatility Market Quotes"
   ]
  },
  {
   "cell_type": "code",
   "execution_count": 2,
   "metadata": {},
   "outputs": [],
   "source": [
    "valuation_date = Date(10, 4, 2020)"
   ]
  },
  {
   "cell_type": "code",
   "execution_count": 3,
   "metadata": {},
   "outputs": [],
   "source": [
    "forName = \"EUR\"\n",
    "domName = \"USD\"\n",
    "forCCRate = 0.03460  # EUR\n",
    "domCCRate = 0.02940  # USD"
   ]
  },
  {
   "cell_type": "markdown",
   "metadata": {},
   "source": [
    "We need to set up the option details - what you would find in the Term Sheet."
   ]
  },
  {
   "cell_type": "code",
   "execution_count": 4,
   "metadata": {},
   "outputs": [],
   "source": [
    "dom_discount_curve = DiscountCurveFlat(valuation_date, domCCRate)\n",
    "for_discount_curve = DiscountCurveFlat(valuation_date, forCCRate)"
   ]
  },
  {
   "cell_type": "code",
   "execution_count": 5,
   "metadata": {},
   "outputs": [],
   "source": [
    "currency_pair = forName + domName\n",
    "spot_fx_rate = 1.3465        "
   ]
  },
  {
   "cell_type": "markdown",
   "metadata": {},
   "source": [
    "I now load the option tenor, the ATM vol and the market strangle and risk-reversal quotes."
   ]
  },
  {
   "cell_type": "code",
   "execution_count": 6,
   "metadata": {},
   "outputs": [],
   "source": [
    "tenors = ['1Y']\n",
    "atm_vols = [18.250]\n",
    "ms25DeltaVols = [0.95]\n",
    "rr25DeltaVols = [-0.60]\n",
    "ms10DeltaVols = [3.806]\n",
    "rr10DeltaVols = [-1.359]"
   ]
  },
  {
   "cell_type": "markdown",
   "metadata": {},
   "source": [
    "We need to set some parameters for the vol surface."
   ]
  },
  {
   "cell_type": "code",
   "execution_count": 7,
   "metadata": {},
   "outputs": [],
   "source": [
    "notional_currency = forName\n",
    "atmMethod = FinFXATMMethod.FWD_DELTA_NEUTRAL\n",
    "deltaMethod = FinFXDeltaMethod.SPOT_DELTA\n",
    "alpha = 0.50"
   ]
  },
  {
   "cell_type": "code",
   "execution_count": 9,
   "metadata": {},
   "outputs": [],
   "source": [
    "fxVolSurfaceClark = FXVolSurfacePlus(valuation_date, spot_fx_rate, currency_pair, notional_currency,\n",
    "                                       dom_discount_curve, for_discount_curve,\n",
    "                                       tenors, atm_vols, \n",
    "                                        ms25DeltaVols, rr25DeltaVols, \n",
    "                                        ms10DeltaVols, rr10DeltaVols,\n",
    "                                        alpha,\n",
    "                                        atmMethod, deltaMethod, \n",
    "                                        VolFunctionTypes.CLARK)"
   ]
  },
  {
   "cell_type": "code",
   "execution_count": 10,
   "metadata": {},
   "outputs": [],
   "source": [
    "fxVolSurfaceSABR = FXVolSurfacePlus(valuation_date, spot_fx_rate, currency_pair, notional_currency,\n",
    "                                       dom_discount_curve, for_discount_curve,\n",
    "                                       tenors, atm_vols,\n",
    "                                       ms25DeltaVols, rr25DeltaVols, \n",
    "                                       ms10DeltaVols, rr10DeltaVols,\n",
    "                                       alpha,\n",
    "                                       atmMethod, deltaMethod, \n",
    "                                       VolFunctionTypes.SABR)"
   ]
  },
  {
   "cell_type": "code",
   "execution_count": 11,
   "metadata": {},
   "outputs": [],
   "source": [
    "fxVolSurfaceBBG = FXVolSurfacePlus(valuation_date, spot_fx_rate, currency_pair, notional_currency,\n",
    "                                       dom_discount_curve, for_discount_curve,\n",
    "                                       tenors, atm_vols, \n",
    "                                       ms25DeltaVols, rr25DeltaVols, \n",
    "                                       ms10DeltaVols, rr25DeltaVols,\n",
    "                                       alpha,\n",
    "                                       atmMethod, deltaMethod, \n",
    "                                       VolFunctionTypes.BBG)"
   ]
  },
  {
   "cell_type": "markdown",
   "metadata": {},
   "source": [
    "We can examine the calibration"
   ]
  },
  {
   "cell_type": "code",
   "execution_count": 12,
   "metadata": {},
   "outputs": [
    {
     "name": "stdout",
     "output_type": "stream",
     "text": [
      "==========================================================\n",
      "VALUE DATE: 10-APR-2020\n",
      "SPOT FX RATE: 1.3465\n",
      "ALPHA WEIGHT: 0.5\n",
      "ATM METHOD: FinFXATMMethod.FWD_DELTA_NEUTRAL\n",
      "DELTA METHOD: FinFXDeltaMethod.SPOT_DELTA\n",
      "==========================================================\n",
      "TENOR: 1Y\n",
      "EXPIRY DATE: 10-APR-2021\n",
      "IN ATM VOL: 18.250000 %\n",
      "IN MKT STRANGLE 25D VOL:  0.950000 %\n",
      "IN RSK REVERSAL 25D VOL: -0.600000 %\n",
      "IN MKT STRANGLE 10D VOL:  3.806000 %\n",
      "IN RSK REVERSAL 10D VOL: -1.359000 %\n",
      "==========================================================\n",
      "T_(YEARS):  1.0\n",
      "CNT_CPD_RD: 2.940000 %\n",
      "CNT_CPD_RF: 3.460000 %\n",
      "FWD_RATE:   1.339516\n",
      "==========================================================\n",
      "VOL FUNCTION VolFunctionTypes.CLARK\n",
      "VOL_PARAMETERS: [-1.69968293  0.09712045  0.92893864]\n",
      "==========================================================\n",
      "OUT_K_ATM:   1.362010\n",
      "OUT_ATM_VOL: 18.232135 %\n",
      "FAILED FIT TO ATM VOL IN: 18.250000  OUT: 18.232135  DIFF: -0.017865\n",
      "CALL_DELTA:  0.482927  PUT_DELTA: -0.483065  NET_DELTA: -0.000138\n",
      "==========================================================\n",
      "MKT STRANGLE 25D VOL IN:  0.950000 %\n",
      "K_25D_C_MS:  1.544922  ATM + MSVOL: 19.200000 %   DELTA:  0.250000\n",
      "K_25D_P_MS:  1.205034  ATM + MSVOL: 19.200000 %   DELTA: -0.250000\n",
      "CALL_VALUE:  0.035509  PUT_VALUE:  0.043125  MS_VALUE:  0.078634\n",
      "K_25D_C_MS:  1.544922  SURFACE_VOL: 19.147828 %   DELTA:  0.249286\n",
      "K_25D_P_MS:  1.205034  SURFACE_VOL: 19.514444 %   DELTA: -0.252289\n",
      "CALL_VALUE:  0.035290  PUT_VALUE:  0.044451  MS_SKEW_VALUE:  0.079741\n",
      "FAILED FIT TO 25D MS VAL:  0.078634  OUT:  0.079741  DIFF: -0.001107\n",
      "K_25D_C: 1.5441619  VOL: 19.141347  DELTA:  0.250000\n",
      "K_25D_P: 1.2031635  VOL: 19.542722  DELTA: -0.250000\n",
      "==========================================================\n",
      "RR = VOL_K_25_C - VOL_K_25_P => RR_IN: -0.600000 % RR_OUT: -0.401375 %\n",
      "==========================================================\n",
      "FAILED FIT TO 25D RRV IN: -0.600000  OUT: -0.401375  DIFF:  0.198625\n",
      "==========================================================\n",
      "MKT STRANGLE 10D VOL IN:  3.806000 %\n",
      "K_10D_C_MS:  1.812890  ATM + MSVOL: 22.056000 %   DELTA:  0.100000\n",
      "K_10D_P_MS:  1.039086  ATM + MSVOL: 22.056000 %   DELTA: -0.100000\n",
      "CALL_VALUE:  0.012956  PUT_VALUE:  0.015583  MS_VALUE:  0.028539\n",
      "K_10D_C_MS:  1.812890  SURFACE_VOL: 21.130837 %   DELTA:  0.089206\n",
      "K_10D_P_MS:  1.039086  SURFACE_VOL: 22.379126 %   DELTA: -0.102634\n",
      "CALL_VALUE:  0.010877  PUT_VALUE:  0.016346  MS_SKEW_VALUE:  0.027223\n",
      "FAILED FIT TO 10D MS VAL:  0.028539  OUT:  0.027223  DIFF:  0.001316\n",
      "K_10D_C: 1.7844602  VOL: 20.985807  DELTA:  0.100000\n",
      "K_10D_P: 1.0349057  VOL: 22.443922  DELTA: -0.100000\n",
      "==========================================================\n",
      "RR = VOL_K_10D_C - VOL_K_10D_P => RR_IN: -1.359000 % RR_OUT: -1.458115 %\n",
      "==========================================================\n",
      "FAILED FIT TO 10D RRV IN: -1.359000  OUT: -1.458115  DIFF: -0.099115\n"
     ]
    }
   ],
   "source": [
    "fxVolSurfaceClark.check_calibration(True)"
   ]
  },
  {
   "cell_type": "code",
   "execution_count": 13,
   "metadata": {},
   "outputs": [
    {
     "name": "stdout",
     "output_type": "stream",
     "text": [
      "==========================================================\n",
      "VALUE DATE: 10-APR-2020\n",
      "SPOT FX RATE: 1.3465\n",
      "ALPHA WEIGHT: 0.5\n",
      "ATM METHOD: FinFXATMMethod.FWD_DELTA_NEUTRAL\n",
      "DELTA METHOD: FinFXDeltaMethod.SPOT_DELTA\n",
      "==========================================================\n",
      "TENOR: 1Y\n",
      "EXPIRY DATE: 10-APR-2021\n",
      "IN ATM VOL: 18.250000 %\n",
      "IN MKT STRANGLE 25D VOL:  0.950000 %\n",
      "IN RSK REVERSAL 25D VOL: -0.600000 %\n",
      "IN MKT STRANGLE 10D VOL:  3.806000 %\n",
      "IN RSK REVERSAL 10D VOL: -1.359000 %\n",
      "==========================================================\n",
      "T_(YEARS):  1.0\n",
      "CNT_CPD_RD: 2.940000 %\n",
      "CNT_CPD_RF: 3.460000 %\n",
      "FWD_RATE:   1.339516\n",
      "==========================================================\n",
      "VOL FUNCTION VolFunctionTypes.SABR\n",
      "VOL_PARAMETERS: [ 0.18788019  0.73225501 -0.05179102  0.81432418]\n",
      "==========================================================\n",
      "OUT_K_ATM:   1.362010\n",
      "OUT_ATM_VOL: 18.249020 %\n",
      "FAILED FIT TO ATM VOL IN: 18.250000  OUT: 18.249020  DIFF: -0.000980\n",
      "CALL_DELTA:  0.482992  PUT_DELTA: -0.483000  NET_DELTA: -0.000008\n",
      "==========================================================\n",
      "MKT STRANGLE 25D VOL IN:  0.950000 %\n",
      "K_25D_C_MS:  1.544922  ATM + MSVOL: 19.200000 %   DELTA:  0.250000\n",
      "K_25D_P_MS:  1.205034  ATM + MSVOL: 19.200000 %   DELTA: -0.250000\n",
      "CALL_VALUE:  0.035509  PUT_VALUE:  0.043125  MS_VALUE:  0.078634\n",
      "K_25D_C_MS:  1.544922  SURFACE_VOL: 18.929383 %   DELTA:  0.246271\n",
      "K_25D_P_MS:  1.205034  SURFACE_VOL: 19.477015 %   DELTA: -0.252021\n",
      "CALL_VALUE:  0.034375  PUT_VALUE:  0.044293  MS_SKEW_VALUE:  0.078668\n",
      "FAILED FIT TO 25D MS VAL:  0.078634  OUT:  0.078668  DIFF: -0.000034\n",
      "K_25D_C: 1.5410377  VOL: 18.899453  DELTA:  0.250000\n",
      "K_25D_P: 1.2033988  VOL: 19.499455  DELTA: -0.250000\n",
      "==========================================================\n",
      "RR = VOL_K_25_C - VOL_K_25_P => RR_IN: -0.600000 % RR_OUT: -0.600002 %\n",
      "==========================================================\n",
      "==========================================================\n",
      "MKT STRANGLE 10D VOL IN:  3.806000 %\n",
      "K_10D_C_MS:  1.812890  ATM + MSVOL: 22.056000 %   DELTA:  0.100000\n",
      "K_10D_P_MS:  1.039086  ATM + MSVOL: 22.056000 %   DELTA: -0.100000\n",
      "CALL_VALUE:  0.012956  PUT_VALUE:  0.015583  MS_VALUE:  0.028539\n",
      "K_10D_C_MS:  1.812890  SURFACE_VOL: 21.542210 %   DELTA:  0.094000\n",
      "K_10D_P_MS:  1.039086  SURFACE_VOL: 22.543685 %   DELTA: -0.103962\n",
      "CALL_VALUE:  0.011780  PUT_VALUE:  0.016741  MS_SKEW_VALUE:  0.028520\n",
      "FAILED FIT TO 10D MS VAL:  0.028539  OUT:  0.028520  DIFF:  0.000018\n",
      "K_10D_C: 1.7938593  VOL: 21.342359  DELTA:  0.100000\n",
      "K_10D_P: 1.0321491  VOL: 22.701369  DELTA: -0.100000\n",
      "==========================================================\n",
      "RR = VOL_K_10D_C - VOL_K_10D_P => RR_IN: -1.359000 % RR_OUT: -1.359010 %\n",
      "==========================================================\n"
     ]
    }
   ],
   "source": [
    "fxVolSurfaceSABR.check_calibration(True)"
   ]
  },
  {
   "cell_type": "code",
   "execution_count": 14,
   "metadata": {},
   "outputs": [
    {
     "name": "stdout",
     "output_type": "stream",
     "text": [
      "==========================================================\n",
      "VALUE DATE: 10-APR-2020\n",
      "SPOT FX RATE: 1.3465\n",
      "ALPHA WEIGHT: 0.5\n",
      "ATM METHOD: FinFXATMMethod.FWD_DELTA_NEUTRAL\n",
      "DELTA METHOD: FinFXDeltaMethod.SPOT_DELTA\n",
      "==========================================================\n",
      "TENOR: 1Y\n",
      "EXPIRY DATE: 10-APR-2021\n",
      "IN ATM VOL: 18.250000 %\n",
      "IN MKT STRANGLE 25D VOL:  0.950000 %\n",
      "IN RSK REVERSAL 25D VOL: -0.600000 %\n",
      "IN MKT STRANGLE 10D VOL:  3.806000 %\n",
      "IN RSK REVERSAL 10D VOL: -0.600000 %\n",
      "==========================================================\n",
      "T_(YEARS):  1.0\n",
      "CNT_CPD_RD: 2.940000 %\n",
      "CNT_CPD_RF: 3.460000 %\n",
      "FWD_RATE:   1.339516\n",
      "==========================================================\n",
      "VOL FUNCTION VolFunctionTypes.BBG\n",
      "VOL_PARAMETERS: [ 0.18979308 -0.18096332  0.22507334]\n",
      "==========================================================\n",
      "OUT_K_ATM:   1.362010\n",
      "OUT_ATM_VOL: 18.203833 %\n",
      "FAILED FIT TO ATM VOL IN: 18.250000  OUT: 18.203833  DIFF: -0.046167\n",
      "CALL_DELTA:  0.482818  PUT_DELTA: -0.483174  NET_DELTA: -0.000356\n",
      "==========================================================\n",
      "MKT STRANGLE 25D VOL IN:  0.950000 %\n",
      "K_25D_C_MS:  1.544922  ATM + MSVOL: 19.200000 %   DELTA:  0.250000\n",
      "K_25D_P_MS:  1.205034  ATM + MSVOL: 19.200000 %   DELTA: -0.250000\n",
      "CALL_VALUE:  0.035509  PUT_VALUE:  0.043125  MS_VALUE:  0.078634\n",
      "K_25D_C_MS:  1.544922  SURFACE_VOL: 19.219528 %   DELTA:  0.250267\n",
      "K_25D_P_MS:  1.205034  SURFACE_VOL: 19.603451 %   DELTA: -0.252923\n",
      "CALL_VALUE:  0.035592  PUT_VALUE:  0.044828  MS_SKEW_VALUE:  0.080420\n",
      "FAILED FIT TO 25D MS VAL:  0.078634  OUT:  0.080420  DIFF: -0.001785\n",
      "K_25D_C: 1.5452120  VOL: 19.222386  DELTA:  0.250000\n",
      "K_25D_P: 1.2026381  VOL: 19.639547  DELTA: -0.250000\n",
      "==========================================================\n",
      "RR = VOL_K_25_C - VOL_K_25_P => RR_IN: -0.600000 % RR_OUT: -0.417161 %\n",
      "==========================================================\n",
      "FAILED FIT TO 25D RRV IN: -0.600000  OUT: -0.417161  DIFF:  0.182839\n",
      "==========================================================\n",
      "MKT STRANGLE 10D VOL IN:  3.806000 %\n",
      "K_10D_C_MS:  1.812890  ATM + MSVOL: 22.056000 %   DELTA:  0.100000\n",
      "K_10D_P_MS:  1.039086  ATM + MSVOL: 22.056000 %   DELTA: -0.100000\n",
      "CALL_VALUE:  0.012956  PUT_VALUE:  0.015583  MS_VALUE:  0.028539\n",
      "K_10D_C_MS:  1.812890  SURFACE_VOL: 21.520744 %   DELTA:  0.093750\n",
      "K_10D_P_MS:  1.039086  SURFACE_VOL: 22.116699 %   DELTA: -0.100498\n",
      "CALL_VALUE:  0.011732  PUT_VALUE:  0.015725  MS_SKEW_VALUE:  0.027457\n",
      "FAILED FIT TO 10D MS VAL:  0.028539  OUT:  0.027457  DIFF:  0.001082\n",
      "K_10D_C: 1.7959856  VOL: 21.422639  DELTA:  0.100000\n",
      "K_10D_P: 1.0383319  VOL: 22.125783  DELTA: -0.100000\n",
      "==========================================================\n",
      "RR = VOL_K_10D_C - VOL_K_10D_P => RR_IN: -0.600000 % RR_OUT: -0.703144 %\n",
      "==========================================================\n",
      "FAILED FIT TO 10D RRV IN: -0.600000  OUT: -0.703144  DIFF: -0.103144\n"
     ]
    }
   ],
   "source": [
    "fxVolSurfaceBBG.check_calibration(True)"
   ]
  },
  {
   "cell_type": "markdown",
   "metadata": {},
   "source": [
    "## Volatility Smile Analysis - Different Volatility Function Types"
   ]
  },
  {
   "cell_type": "code",
   "execution_count": 15,
   "metadata": {},
   "outputs": [],
   "source": [
    "strikes = np.linspace(0.5, 2.5, 1000)"
   ]
  },
  {
   "cell_type": "code",
   "execution_count": 16,
   "metadata": {},
   "outputs": [],
   "source": [
    "expiry_date = valuation_date.add_tenor(\"1Y\")"
   ]
  },
  {
   "cell_type": "code",
   "execution_count": 18,
   "metadata": {},
   "outputs": [],
   "source": [
    "volsClark = []\n",
    "volsSABR = []\n",
    "volsBBG = []\n",
    "\n",
    "for k in strikes:\n",
    "    volClark = fxVolSurfaceClark.volatility_from_strike_date(k, expiry_date)\n",
    "    volSABR = fxVolSurfaceSABR.volatility_from_strike_date(k, expiry_date)\n",
    "    volBBG = fxVolSurfaceBBG.volatility_from_strike_date(k, expiry_date)\n",
    "    volsClark.append(volClark*100.0)    \n",
    "    volsSABR.append(volSABR*100.0)    \n",
    "    volsBBG.append(volBBG*100.0)    "
   ]
  },
  {
   "cell_type": "code",
   "execution_count": 19,
   "metadata": {},
   "outputs": [
    {
     "data": {
      "image/png": "[encoded data removed]",
      "text/plain": [
       "<Figure size 720x432 with 1 Axes>"
      ]
     },
     "metadata": {
      "needs_background": "light"
     },
     "output_type": "display_data"
    }
   ],
   "source": [
    "plt.figure(figsize=(10,6))\n",
    "plt.plot(strikes, volsClark, label=\"Clark\")\n",
    "plt.plot(strikes, volsSABR, label=\"SABR\")\n",
    "plt.plot(strikes, volsBBG, label=\"BBG\")\n",
    "plt.xlabel(\"Strike\")\n",
    "plt.ylabel(\"Black Scholes Volatility (%)\")\n",
    "plt.title(\"Comparison of Volatility Smiles\")\n",
    "plt.legend();"
   ]
  },
  {
   "cell_type": "markdown",
   "metadata": {},
   "source": [
    "## Implied FX Rate Probability Density Functions"
   ]
  },
  {
   "cell_type": "code",
   "execution_count": 20,
   "metadata": {},
   "outputs": [],
   "source": [
    "lower = 0.50\n",
    "upper = 2.25\n",
    "dbnClark = fxVolSurfaceClark.implied_dbns(lower, upper, 1000)\n",
    "dbnSABR = fxVolSurfaceSABR.implied_dbns(lower, upper, 1000)\n",
    "dbnBBG = fxVolSurfaceBBG.implied_dbns(lower, upper, 1000)"
   ]
  },
  {
   "cell_type": "code",
   "execution_count": 21,
   "metadata": {},
   "outputs": [
    {
     "data": {
      "image/png": "[encoded data removed]",
      "text/plain": [
       "<Figure size 720x432 with 1 Axes>"
      ]
     },
     "metadata": {
      "needs_background": "light"
     },
     "output_type": "display_data"
    }
   ],
   "source": [
    "plt.figure(figsize=(10,6))\n",
    "plt.plot(dbnClark[0]._x, dbnClark[0]._densitydx, label=\"Clark\")\n",
    "plt.plot(dbnSABR[0]._x, dbnSABR[0]._densitydx, label=\"SABR\")\n",
    "plt.plot(dbnBBG[0]._x, dbnBBG[0]._densitydx, label=\"BBG\")\n",
    "plt.title(\"Implied Probability Density Function\")\n",
    "plt.legend();"
   ]
  },
  {
   "cell_type": "markdown",
   "metadata": {},
   "source": [
    "## Expiry Date Interpolation"
   ]
  },
  {
   "cell_type": "markdown",
   "metadata": {},
   "source": [
    "We only have one expiry date. The volatility is therefore assumed to be flat at the level of this expiry date."
   ]
  },
  {
   "cell_type": "code",
   "execution_count": 22,
   "metadata": {},
   "outputs": [],
   "source": [
    "k = 1.30"
   ]
  },
  {
   "cell_type": "code",
   "execution_count": 23,
   "metadata": {},
   "outputs": [],
   "source": [
    "years = np.linspace(0.0, 2.0, 100)"
   ]
  },
  {
   "cell_type": "code",
   "execution_count": 24,
   "metadata": {},
   "outputs": [],
   "source": [
    "expiry_dates = valuation_date.add_years(years)"
   ]
  },
  {
   "cell_type": "code",
   "execution_count": 26,
   "metadata": {},
   "outputs": [],
   "source": [
    "volsClark = []\n",
    "volsSABR = []\n",
    "volsBBG = []\n",
    "\n",
    "for expiry_date in expiry_dates:\n",
    "    \n",
    "    volClark = fxVolSurfaceClark.volatility_from_strike_date(k, expiry_date)\n",
    "    volSABR = fxVolSurfaceSABR.volatility_from_strike_date(k, expiry_date)\n",
    "    volBBG = fxVolSurfaceBBG.volatility_from_strike_date(k, expiry_date)\n",
    "\n",
    "    volsClark.append(volClark*100.0)    \n",
    "    volsSABR.append(volSABR*100.0)    \n",
    "    volsBBG.append(volBBG*100.0)    "
   ]
  },
  {
   "cell_type": "code",
   "execution_count": 27,
   "metadata": {},
   "outputs": [
    {
     "data": {
      "image/png": "[encoded data removed]",
      "text/plain": [
       "<Figure size 720x432 with 1 Axes>"
      ]
     },
     "metadata": {
      "needs_background": "light"
     },
     "output_type": "display_data"
    }
   ],
   "source": [
    "plt.figure(figsize=(10,6))\n",
    "plt.plot(years, volsClark, label=\"Clark\")\n",
    "plt.plot(years, volsSABR, label=\"SABR\")\n",
    "plt.plot(years, volsBBG, label=\"BBG\")\n",
    "plt.xlabel(\"Years\")\n",
    "plt.ylabel(\"Black Scholes Volatility (%)\")\n",
    "plt.title(\"Comparison of Volatility Time Interpolation\")\n",
    "plt.legend();"
   ]
  },
  {
   "cell_type": "markdown",
   "metadata": {},
   "source": [
    "Copyright (c) 2020, Dominic O'Kane "
   ]
  }
 ],
 "metadata": {
  "kernelspec": {
   "display_name": "Python 3",
   "language": "python",
   "name": "python3"
  },
  "language_info": {
   "codemirror_mode": {
    "name": "ipython",
    "version": 3
   },
   "file_extension": ".py",
   "mimetype": "text/x-python",
   "name": "python",
   "nbconvert_exporter": "python",
   "pygments_lexer": "ipython3",
   "version": "3.8.5"
  }
 },
 "nbformat": 4,
 "nbformat_minor": 2
}
