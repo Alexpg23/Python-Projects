{
 "cells": [
  {
   "cell_type": "markdown",
   "metadata": {},
   "source": [
    "# Schedule Generation"
   ]
  },
  {
   "cell_type": "markdown",
   "metadata": {},
   "source": [
    "Examples of how to generate schedules"
   ]
  },
  {
   "cell_type": "code",
   "execution_count": 1,
   "metadata": {},
   "outputs": [
    {
     "name": "stdout",
     "output_type": "stream",
     "text": [
      "####################################################################\n",
      "# FINANCEPY BETA Version 0.200 - This build:  14 Jul 2021 at 12:26 #\n",
      "# **** NEW PEP8 COMPLIANT VERSION -- PLEASE UPDATE YOUR CODE  **** #\n",
      "#      This software is distributed FREE & WITHOUT ANY WARRANTY    #\n",
      "# For info and disclaimer - https://github.com/domokane/FinancePy  #\n",
      "#      Send any bug reports or comments to quant@financepy.com     #\n",
      "####################################################################\n",
      "\n"
     ]
    }
   ],
   "source": [
    "from financepy.utils import *"
   ]
  },
  {
   "cell_type": "code",
   "execution_count": 2,
   "metadata": {},
   "outputs": [],
   "source": [
    "start_date = Date(4, 8, 2016)\n",
    "end_date = Date(1, 5, 2022)"
   ]
  },
  {
   "cell_type": "code",
   "execution_count": 3,
   "metadata": {},
   "outputs": [],
   "source": [
    "freq_type = FrequencyTypes.ANNUAL\n",
    "calendar_type = CalendarTypes.WEEKEND\n",
    "bus_day_adjust_type = BusDayAdjustTypes.FOLLOWING\n",
    "date_gen_rule_type = DateGenRuleTypes.BACKWARD\n",
    "schedule = Schedule(start_date, end_date, freq_type, calendar_type, \n",
    "                       bus_day_adjust_type, date_gen_rule_type)"
   ]
  },
  {
   "cell_type": "code",
   "execution_count": 4,
   "metadata": {},
   "outputs": [
    {
     "name": "stdout",
     "output_type": "stream",
     "text": [
      "OBJECT TYPE: Schedule\n",
      "EFFECTIVE DATE: 04-AUG-2016\n",
      "END DATE: 02-MAY-2022\n",
      "FREQUENCY: FrequencyTypes.ANNUAL\n",
      "CALENDAR: CalendarTypes.WEEKEND\n",
      "BUSDAYRULE: BusDayAdjustTypes.FOLLOWING\n",
      "DATEGENRULE: DateGenRuleTypes.BACKWARD\n",
      "ADJUST TERM DATE: True\n",
      "END OF MONTH: False\n"
     ]
    }
   ],
   "source": [
    "print(schedule)"
   ]
  },
  {
   "cell_type": "code",
   "execution_count": 5,
   "metadata": {},
   "outputs": [
    {
     "name": "stdout",
     "output_type": "stream",
     "text": [
      "[04-AUG-2016, 01-MAY-2017, 01-MAY-2018, 01-MAY-2019, 01-MAY-2020, 03-MAY-2021, 02-MAY-2022]\n"
     ]
    }
   ],
   "source": [
    "print(schedule.schedule_dates())"
   ]
  },
  {
   "cell_type": "markdown",
   "metadata": {},
   "source": [
    "The first date is the previous coupon date. The next date is the next coupon date after today."
   ]
  },
  {
   "cell_type": "code",
   "execution_count": 6,
   "metadata": {},
   "outputs": [],
   "source": [
    "freq_type = FrequencyTypes.SEMI_ANNUAL\n",
    "calendar_type = CalendarTypes.WEEKEND\n",
    "bus_day_adjust_type = BusDayAdjustTypes.FOLLOWING\n",
    "date_gen_rule_type = DateGenRuleTypes.BACKWARD\n",
    "schedule = Schedule(start_date, end_date, freq_type, calendar_type, bus_day_adjust_type, date_gen_rule_type)"
   ]
  },
  {
   "cell_type": "code",
   "execution_count": 7,
   "metadata": {},
   "outputs": [
    {
     "name": "stdout",
     "output_type": "stream",
     "text": [
      "[04-AUG-2016, 01-NOV-2016, 01-MAY-2017, 01-NOV-2017, 01-MAY-2018, 01-NOV-2018, 01-MAY-2019, 01-NOV-2019, 01-MAY-2020, 02-NOV-2020, 03-MAY-2021, 01-NOV-2021, 02-MAY-2022]\n"
     ]
    }
   ],
   "source": [
    "print(schedule.schedule_dates())"
   ]
  },
  {
   "cell_type": "code",
   "execution_count": 8,
   "metadata": {},
   "outputs": [
    {
     "name": "stdout",
     "output_type": "stream",
     "text": [
      "OBJECT TYPE: Schedule\n",
      "EFFECTIVE DATE: 04-AUG-2016\n",
      "END DATE: 02-MAY-2022\n",
      "FREQUENCY: FrequencyTypes.SEMI_ANNUAL\n",
      "CALENDAR: CalendarTypes.WEEKEND\n",
      "BUSDAYRULE: BusDayAdjustTypes.FOLLOWING\n",
      "DATEGENRULE: DateGenRuleTypes.BACKWARD\n",
      "ADJUST TERM DATE: True\n",
      "END OF MONTH: False\n"
     ]
    }
   ],
   "source": [
    "print(schedule)"
   ]
  },
  {
   "cell_type": "code",
   "execution_count": 9,
   "metadata": {},
   "outputs": [],
   "source": [
    "freq_type = FrequencyTypes.SEMI_ANNUAL\n",
    "calendar_type = CalendarTypes.TARGET\n",
    "bus_day_adjust_type = BusDayAdjustTypes.FOLLOWING\n",
    "date_gen_rule_type = DateGenRuleTypes.BACKWARD\n",
    "schedule = Schedule(start_date, end_date, freq_type, calendar_type, bus_day_adjust_type, date_gen_rule_type)"
   ]
  },
  {
   "cell_type": "code",
   "execution_count": 10,
   "metadata": {},
   "outputs": [
    {
     "name": "stdout",
     "output_type": "stream",
     "text": [
      "[04-AUG-2016, 01-NOV-2016, 02-MAY-2017, 01-NOV-2017, 02-MAY-2018, 01-NOV-2018, 02-MAY-2019, 01-NOV-2019, 04-MAY-2020, 02-NOV-2020, 03-MAY-2021, 01-NOV-2021, 02-MAY-2022]\n"
     ]
    }
   ],
   "source": [
    "print(schedule.schedule_dates())"
   ]
  },
  {
   "cell_type": "code",
   "execution_count": 11,
   "metadata": {},
   "outputs": [
    {
     "name": "stdout",
     "output_type": "stream",
     "text": [
      "OBJECT TYPE: Schedule\n",
      "EFFECTIVE DATE: 04-AUG-2016\n",
      "END DATE: 02-MAY-2022\n",
      "FREQUENCY: FrequencyTypes.SEMI_ANNUAL\n",
      "CALENDAR: CalendarTypes.TARGET\n",
      "BUSDAYRULE: BusDayAdjustTypes.FOLLOWING\n",
      "DATEGENRULE: DateGenRuleTypes.BACKWARD\n",
      "ADJUST TERM DATE: True\n",
      "END OF MONTH: False\n"
     ]
    }
   ],
   "source": [
    "print(schedule)"
   ]
  },
  {
   "cell_type": "code",
   "execution_count": 12,
   "metadata": {},
   "outputs": [
    {
     "name": "stdout",
     "output_type": "stream",
     "text": [
      "[04-AUG-2016, 01-NOV-2016, 02-MAY-2017, 01-NOV-2017, 02-MAY-2018, 01-NOV-2018, 02-MAY-2019, 01-NOV-2019, 04-MAY-2020, 02-NOV-2020, 03-MAY-2021, 01-NOV-2021, 02-MAY-2022]\n"
     ]
    }
   ],
   "source": [
    "print(schedule.schedule_dates())"
   ]
  },
  {
   "cell_type": "code",
   "execution_count": null,
   "metadata": {},
   "outputs": [],
   "source": []
  }
 ],
 "metadata": {
  "kernelspec": {
   "display_name": "Python 3",
   "language": "python",
   "name": "python3"
  },
  "language_info": {
   "codemirror_mode": {
    "name": "ipython",
    "version": 3
   },
   "file_extension": ".py",
   "mimetype": "text/x-python",
   "name": "python",
   "nbconvert_exporter": "python",
   "pygments_lexer": "ipython3",
   "version": "3.8.5"
  }
 },
 "nbformat": 4,
 "nbformat_minor": 2
}
