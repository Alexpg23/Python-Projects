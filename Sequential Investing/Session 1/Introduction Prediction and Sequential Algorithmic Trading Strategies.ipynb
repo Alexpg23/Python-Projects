{
 "cells": [
  {
   "cell_type": "markdown",
   "metadata": {},
   "source": [
    "# Prediction and Sequential Investment Strategies Introduction Session"
   ]
  },
  {
   "cell_type": "markdown",
   "metadata": {},
   "source": [
    "## Main objectives of the Course\n",
    "\n",
    "- Understand and apply the main sequential investment strategies employed in financial institutions with a particular emphasis on alpha generating algorithmic trading strategies.\n",
    "<br/><br/>\n",
    "- Understand and evaluate the prominent role of predictive sequential models to alpha generation through the application of machine learning to algorithmic trading and financial modeling. \n",
    "<br/><br/>\n",
    "- Understand the main concepts in machine learning and prediction for algorithmic trading strategies.\n",
    "<br/><br/>\n",
    "- Understand and apply in practice the main algorithms used in prediction and sequential investment strategies.\n"
   ]
  },
  {
   "cell_type": "markdown",
   "metadata": {},
   "source": [
    "## Evaluation\n",
    "\n",
    "- Written work in class (30%) : \n",
    "\n",
    "The detailed requirements and characteristics of these individual assignemts can be found in a document on Blackboard.\n",
    "\n",
    "- 1 Project Prediction and Sequential Investment Strategies (70%): \n",
    "\n",
    "To be defined during the second part of the course."
   ]
  },
  {
   "cell_type": "markdown",
   "metadata": {},
   "source": [
    "## Resources\n",
    "\n",
    "- Python\n",
    "- Jupyter Notebooks\n",
    "\n",
    "Platforms: Jupyter Notebook, Jupyter Lab, VisualStudio, DataSpell, PyCharm, Spyder\n",
    "\n",
    "References: To be posted"
   ]
  },
  {
   "cell_type": "markdown",
   "metadata": {},
   "source": [
    "## Tools"
   ]
  },
  {
   "cell_type": "markdown",
   "metadata": {},
   "source": [
    "The required tools for the course are:\n",
    "\n",
    "- Python Programming language.\n",
    "- Anaconda Distribution (https://www.anaconda.com/distribution/)\n",
    "- Jupyter Notebook will be used for the delivery of the course.\n",
    "\n",
    "However, students can also make use of other professional tools and platforms such as:\n",
    "\n",
    "- Pycharm (https://www.jetbrains.com/fr-fr/pycharm/)\n",
    "- Visual Studio Code (https://code.visualstudio.com/)\n",
    "- Spyder (https://www.spyder-ide.org/)"
   ]
  },
  {
   "cell_type": "markdown",
   "metadata": {},
   "source": [
    "# Algorithmic Trading Concepts"
   ]
  },
  {
   "cell_type": "markdown",
   "metadata": {},
   "source": [
    "Algorithmic trading, or automated trading, works with a program that contains a set of instructions for trading purposes. This trade can generate profits and losses at a higher speed.\n",
    "\n",
    "Algorithmic Trading has has been the domain of large financial institutions for a long time, but now it has become accessible to retail algorithmic traders thanks to the fact that more and more trading platforms and brokers  allow their clients to use __REST APIs__ to programatically retirve data or streaming data, or to place buy and sell orders. In this space, __Python__ has secured a top position as a main programming language and technology platform. Among other factors, this is driven by the fact that many trading platforms provide easy-to-use ythn wrapper packages for their REST APIs."
   ]
  },
  {
   "cell_type": "markdown",
   "metadata": {},
   "source": [
    "## Order Types\n",
    "Most Exchanges support a variety of orders that they accept from market participants. The most common are:\n",
    "- __IOC - Immediate or cancelled__. These orders never get added the Exchage trading book. They either match against existing resting orders to a maximum of the IOC order size, or thes rest of the incoming order gets canceled. If no resting order is available at a price that the IOC can match against, then the IOC is canceled in its entirety. IOC orders have the advantage of not resting in the book post matching and causing additional complexity with __order management__ in trading algorithms.\n",
    "\n",
    "- __Good Till Day__. These orders get added to the book. If they match fully against existing resting orders in the book, then they don't get added, otherwise the remaining quantity on the order (which can be the original entire quantity if there's no partial match) gets added to the book and sits as resting orders that the incoming aggressors can match against. The benefits of GTD orders are that they can take advantage of FIFO matching algorithms by having better priorities than orders that just showed up in the book but require more complex order management in trading algorithms.\n",
    "\n",
    "- __Stop Orders__. Stop orders are orders that aren't in the book until a specified price (called the stop price) is traded in the market, at which point they become regular GTD orders at a pre-specified price. These orders are very good as exit orders (either to liquidate a losing position or to realize a profit on a winning position)."
   ]
  },
  {
   "cell_type": "markdown",
   "metadata": {},
   "source": [
    "## Exchange Order Entry Protocols\n",
    "Exchange order entry protocols are how market participant software applications send order requests (new, cancels, modifies) and how the exchange replies to those requests."
   ]
  },
  {
   "cell_type": "markdown",
   "metadata": {},
   "source": [
    "## Order Entry Gateway\n",
    "Order entry gateways are the market participant client applications that communicate with the exchange matching engine over the order entry protocols. These have to deal with order flow in a reliable manner, sending orders to the exchange, modifying and cancelling those orders, and getting notifications when these orders are accepted, canceled, executed, etc. Oftentimes, market participants run a second variant of order entry gateways that simply receive order-executed notifications to check consistency against the primary order entry gateway order flow. These are called drop-copy gateways."
   ]
  },
  {
   "cell_type": "markdown",
   "metadata": {},
   "source": [
    "## Positions and PnL Management\n",
    "Orders that get executed cause market participants to have positions in the instrument that they got executed, for the amount the order executed, and at the price of the execution (limit orders can match at better prices than they were entered for, but not worse). \n",
    "\n",
    "A buy side execution is called having a __long position__, while a sell side execution is called having a __short position__.\n",
    "\n",
    "When we have no position at all, this is referred to as being __\"flat\"__.\n",
    "\n",
    "Long positions make money when market prices are higher than the price of the position, and lose money when market prices are lower than the price of the position. Short positions, conversely, make money when market prices go down from the price of the position and lose money when market prices go up from the price of the position, hence, the well-known ideas of buy low, sell high, and buy high, sell higher, etc."
   ]
  },
  {
   "cell_type": "markdown",
   "metadata": {},
   "source": [
    "Multiple by executions or multiple sell executions for different amounts and prices, cause the overall position price to be the volume weighted average of the execution prices and quantities. This is called the __Volume Weighted Average Price (VWAP)__ of the position. Open positions are marked to market to get a sense of what the ___unrealized___ __Profit and Loss (PnL)__ of the position is. This means that current market prices are compared to the price of the position; a long position where maket prices have gone up is considered __unrealized profit__, and the opposite is considered __unrealized loss__. Similar terms apply to short positions. \n",
    "\n",
    "Profit or loss is realized when an open position is closed, meaning you sell to close a long position and you buy to close a short position. At that point, the PnL is given the term ___realized___ __PnL__. \n",
    "\n",
    "The __total PnL__ at any point is the total of the realized PnLs so far and the unrealized PnLs for open positions at the market price."
   ]
  },
  {
   "cell_type": "markdown",
   "metadata": {},
   "source": [
    "## Design and Development of Algorithmic Trading strategies.\n",
    "\n",
    "Fundamentally, all trading ideas are driven by human intuition and behavior to a large extent. If markets have been moving up/down all the time, you might intuitively think that it will continue to move in the same direction, which is the fundamental idea behind __trend-following strategies__.\n",
    "\n",
    "Conversely, you might argue that if prices have moved up/down a lot, it is mispriced and likely to move in the opposite direction, which is the fundamental idea behind __mean reversion strategies__. \n",
    "\n",
    "Intuitively, again, you may also reason that instruments that are very similar to one another, or loosely dependent on one another, will move together, which is the idea behind __correlation-based trading__ or __pairs trading__. \n",
    "\n",
    "Since every market participant has their own view of the market, the final market prices are a reflection of the majority of market participants. If your views are aligned with the majority of the market participants, then a particular strategy is profitable in that particular instance.\n",
    "\n",
    "- Note that no trading idea can be right all the time, and whether a strategy is profitable or not depends on how often the idea is correct versus how often it is not correct."
   ]
  },
  {
   "cell_type": "markdown",
   "metadata": {},
   "source": [
    "Historically, human traders implemented such rule-based trading to manually enter orders, take positions, and make profit or losses through the day. But manual approaches have considerable drawbacks - humans are slow to react to markets so they miss information or are slow to react to new information, they can't scale well or focus on multiple things at a time, they are prone to making mistakes, they get distracted, and they feel a fear of losing money and a joy of making money. This leads to them deviating from a planned trading strategy, severely limiting its profitability."
   ]
  },
  {
   "cell_type": "markdown",
   "metadata": {},
   "source": [
    "Computers are extemely good at rule-based repetitive tasks. When designed and prgrammed correctly, they can execute instructions and algorithms extrmely quickly, and can be scaled and deployed acorss a lot of instruments seamlessly. They are extremely fast at reacting to market data, and they don't get distracted or make mistakes (unless programmed incorrectly, which would in fact be a software bug due to a human error and not a drawback from computers themselves). Since they don't have emotions, they cannot deviate from what they are programmed to do. \n",
    "\n",
    "All of these advantages make computerized automated trading systems extremely profitable when done right, which is where ___algorithmic trading___ starts."
   ]
  },
  {
   "cell_type": "markdown",
   "metadata": {},
   "source": [
    "## Evolution of Algorithmic Trading: From rule-based to machine learning and AI."
   ]
  },
  {
   "cell_type": "markdown",
   "metadata": {},
   "source": [
    "### From human intuition/behavior to a fully automated algorithmic investment strategy.\n",
    "\n",
    "Traders are used to having simple charting applications that can be used to detect when trends are starting or continuing. These can be simple rules, such as if a share rises 5% every day for a week, then it is something we should buy and hold (put on a long position), or if a share price has dropped 10% in 2 hours, then that is something we should sell short and wait for it to drop further. This would be a classic manual trading strategy in the past. "
   ]
  },
  {
   "cell_type": "markdown",
   "metadata": {},
   "source": [
    "Below you can check some pseudo code that implements a trend following, human intuition trading idea. Note that this code does not refer to any functions or variables created (meaning that if you run the cells, it will return an error), it is only general code that can be translated into whatever language of our choosing based on our applications needs. Therefore, it is only for exemplification purposes.\n",
    "\n",
    "We will se trend-following, which means, buying/selling when the price changes by 10% in two hours. The followig variable should track our position in the market:"
   ]
  },
  {
   "cell_type": "code",
   "execution_count": 1,
   "metadata": {},
   "outputs": [],
   "source": [
    "current_position = 0"
   ]
  },
  {
   "cell_type": "markdown",
   "metadata": {},
   "source": [
    "We will also establish the expected profit threshold for our positions. If a position is more profitable than this threshold, we flatten the position and the unrealized turn the unrealized profit into realized profit:"
   ]
  },
  {
   "cell_type": "code",
   "execution_count": 2,
   "metadata": {},
   "outputs": [],
   "source": [
    "profit_exit_price_percent = 0.2"
   ]
  },
  {
   "cell_type": "markdown",
   "metadata": {},
   "source": [
    "In addition, we will set the maximum loss threshold of our position. If a position is losing more than this threshold, we flatten the position adn convert the unrealized loss to realized loss. This is in order for us to cut losses early so that we have capital left to continue trading."
   ]
  },
  {
   "cell_type": "code",
   "execution_count": 3,
   "metadata": {},
   "outputs": [],
   "source": [
    "loss_exit_price_percent = -0.1"
   ]
  },
  {
   "cell_type": "markdown",
   "metadata": {},
   "source": [
    "We need to check whether our signal causes an entry and whether one of our open positions needs to be closed for PnL reasons:"
   ]
  },
  {
   "cell_type": "code",
   "execution_count": 4,
   "metadata": {},
   "outputs": [
    {
     "ename": "SyntaxError",
     "evalue": "invalid syntax (Temp/ipykernel_17084/1591275882.py, line 8)",
     "output_type": "error",
     "traceback": [
      "\u001b[1;36m  File \u001b[1;32m\"C:\\Users\\apala\\AppData\\Local\\Temp/ipykernel_17084/1591275882.py\"\u001b[1;36m, line \u001b[1;32m8\u001b[0m\n\u001b[1;33m    if current_position == 0 and ((current_price - price_two_hours_ago) / current price) > 0.10:\u001b[0m\n\u001b[1;37m                                                                                  ^\u001b[0m\n\u001b[1;31mSyntaxError\u001b[0m\u001b[1;31m:\u001b[0m invalid syntax\n"
     ]
    }
   ],
   "source": [
    "def OnMarketPriceChange(current_price, current_time):\n",
    "\n",
    "#       Checks whether we are flat.\n",
    "#       Checks whether prices have moved up more than 10% --> Entry signal to go long.\n",
    "#       Sends a BUY order.\n",
    "#       Updates position.\n",
    "    \n",
    "    if current_position == 0 and ((current_price - price_two_hours_ago) / current price) > 0.10:\n",
    "        SendBuyOrderatCurrentPrice()\n",
    "        current_position = current_position + 1\n",
    "        \n",
    "#       Checks whether we are flat.\n",
    "#       Checks prices have moved down more than 10% --> Entry signal to go short.\n",
    "#       Sends SELL order.\n",
    "#       Updates position.\n",
    "        \n",
    "    elif current_position == 0 and ((current_price - price_two_hours_ago) / current price)) < -0.10:\n",
    "        SendSellOrderatCurrentPrice()\n",
    "        current_position = current_position - 1"
   ]
  },
  {
   "cell_type": "markdown",
   "metadata": {},
   "source": [
    "Now, suppose that we are currently long and market prices have moved in a fovorable direction, check whether this position profitability exceeds predetermined thresholds. If that is the case, we will send a sell order to flatten our position and convert our unrealized profit to a relized profit:"
   ]
  },
  {
   "cell_type": "code",
   "execution_count": 5,
   "metadata": {},
   "outputs": [],
   "source": [
    "    if current_position > 0 and ((current_price - position_price) / position_price) > PROFIT_EXIT_PRICE_PERCENT:\n",
    "        SendSellOrderAtCurrentPrice()\n",
    "        current_position = current_position - 1"
   ]
  },
  {
   "cell_type": "markdown",
   "metadata": {},
   "source": [
    "On the other hand, if we are currently long, and market prices have moved agains us, check whether this position loss exceeds predetermined thresholds. In that case, we will send a sell order to flatten our position and convert our unrealized loss into a realized loss."
   ]
  },
  {
   "cell_type": "code",
   "execution_count": 6,
   "metadata": {},
   "outputs": [
    {
     "ename": "SyntaxError",
     "evalue": "invalid syntax (Temp/ipykernel_17084/174008528.py, line 1)",
     "output_type": "error",
     "traceback": [
      "\u001b[1;36m  File \u001b[1;32m\"C:\\Users\\apala\\AppData\\Local\\Temp/ipykernel_17084/174008528.py\"\u001b[1;36m, line \u001b[1;32m1\u001b[0m\n\u001b[1;33m    elif current position > 0 and ((current_price - position_price) / position_price) < LOSS_EXIT_PRICE_PERCENT:\u001b[0m\n\u001b[1;37m    ^\u001b[0m\n\u001b[1;31mSyntaxError\u001b[0m\u001b[1;31m:\u001b[0m invalid syntax\n"
     ]
    }
   ],
   "source": [
    "    elif current position > 0 and ((current_price - position_price) / position_price) < LOSS_EXIT_PRICE_PERCENT:\n",
    "        SendSellOrderAtCurrentPrice()\n",
    "        current_position = current_position - 1"
   ]
  },
  {
   "cell_type": "markdown",
   "metadata": {},
   "source": [
    "If we are currently short, and market prices have moved in a favorable direction, check whether this position profitability exceeds predetermined thresholds. In that case, we will send a buy order to flatten our position and convert our unrealized profit to ralized profit:"
   ]
  },
  {
   "cell_type": "code",
   "execution_count": 7,
   "metadata": {},
   "outputs": [
    {
     "ename": "SyntaxError",
     "evalue": "invalid syntax (Temp/ipykernel_17084/1781610694.py, line 1)",
     "output_type": "error",
     "traceback": [
      "\u001b[1;36m  File \u001b[1;32m\"C:\\Users\\apala\\AppData\\Local\\Temp/ipykernel_17084/1781610694.py\"\u001b[1;36m, line \u001b[1;32m1\u001b[0m\n\u001b[1;33m    elif current_position < 0 and ((position_price - current_price) / position_price) > PROFIT_EXIT_PRICE_PERCENT:\u001b[0m\n\u001b[1;37m    ^\u001b[0m\n\u001b[1;31mSyntaxError\u001b[0m\u001b[1;31m:\u001b[0m invalid syntax\n"
     ]
    }
   ],
   "source": [
    "    elif current_position < 0 and ((position_price - current_price) / position_price) > PROFIT_EXIT_PRICE_PERCENT:\n",
    "        SendBuyOrderAtCurrentPrice()\n",
    "        current_position = current position + 1"
   ]
  },
  {
   "cell_type": "markdown",
   "metadata": {},
   "source": [
    "If we are currently short, and market prices have moved against us, check whether this position loss exceeds predetermined thresholds. In that case, we will send a buy order to flatten our position and convert our unrealized loss into a realized loss:"
   ]
  },
  {
   "cell_type": "code",
   "execution_count": 8,
   "metadata": {},
   "outputs": [
    {
     "ename": "SyntaxError",
     "evalue": "invalid syntax (Temp/ipykernel_17084/1283859243.py, line 1)",
     "output_type": "error",
     "traceback": [
      "\u001b[1;36m  File \u001b[1;32m\"C:\\Users\\apala\\AppData\\Local\\Temp/ipykernel_17084/1283859243.py\"\u001b[1;36m, line \u001b[1;32m1\u001b[0m\n\u001b[1;33m    elif current_position < 0 and ((position_price - current_price) / position_price) < LOSS_EXIT_PRICE_PERCENT:\u001b[0m\n\u001b[1;37m    ^\u001b[0m\n\u001b[1;31mSyntaxError\u001b[0m\u001b[1;31m:\u001b[0m invalid syntax\n"
     ]
    }
   ],
   "source": [
    "    elif current_position < 0 and ((position_price - current_price) / position_price) < LOSS_EXIT_PRICE_PERCENT:\n",
    "        SendBuyOrderAtCurrentPrice():\n",
    "            current_position = current_position + 1"
   ]
  },
  {
   "cell_type": "markdown",
   "metadata": {},
   "source": [
    "## Elements of an Investment / Trading System\n",
    "\n",
    "A complete algorithmic trading setup is divided into two sections:\n",
    "\n",
    "- Core infrastructure deals with exchange-facing market data protocol integration, market data feed handlers, internal market data format normalization, historical data recording, instrument definition recording and dissemination, exchange order entry protocols, exchange order entry gateways, core side risk systems, broker-facing applications addressing compliance requirements, etc.\n",
    "\n",
    "- Algortihmic trading strategy components deal with using normalized market data, building order books, generating signals from incoming market data and order flow information, the aggregation of different signals, efficient execution, logic built on top of statistical predicitve abilities, position and PnL management inside the strategies, risk management inside the strategies, backtesting, and historical signal and trading search platforms.\n",
    "\n",
    "We will, of course, focus our attention on the second part."
   ]
  },
  {
   "cell_type": "markdown",
   "metadata": {},
   "source": [
    "## Investment Strategy Implementation\n",
    "\n",
    "Strategy implemetnation consists of quantitative trading strategy identification, the definition of indicators based on its category and frequency, the identification of trading signals."
   ]
  },
  {
   "cell_type": "markdown",
   "metadata": {},
   "source": [
    "### Limit order books\n",
    "Once the trading strategy gets market data, it uses that data to build and maintain limit order books for each instrument. Depending on the sophistication and complexity of the limit order books, it can be simple enough such that it tells us how many participants there are on each side, or sophisticated enough to track market participant order priorities as well as track our own orders in the limit order book."
   ]
  },
  {
   "cell_type": "markdown",
   "metadata": {},
   "source": [
    "### Signals\n",
    "Once our order books are built, every time they are updated dut to new incoming market data information, we build signals using the new information.\n",
    "A trading signal is a well-defined piece of intelligence that is derived from incoming market data information, limit order books or trade information that allows a trading strategy to get a statistical edge (advantage) vis-à-vis other market participants and, thus, increased profitability. This is one of the areas where a lot of trading teams focus much of their time and energy. \n",
    "They key is to build a considerable number of relevant signals in order to have an edge over the competition as well as keep adapting existing signals and adding new signals to deal with changing market conditions and market participants."
   ]
  },
  {
   "cell_type": "markdown",
   "metadata": {},
   "source": [
    "### Signal Aggregators\n",
    "\n",
    "Often, a lot of trading systems combine a lot of different kinds of signals in order to gain a bigger edge than individual signals provide. The approach is to essentially combine different signals that have different predictive abilities/advantages under different market conditions. There are many different ways to combine individual signals. You can use classical statistical learning methods to generate linear and non-linear combinations to output classification or regression output values that represent a combination of individual signals. Machine learining techniques play an important role in the calibration and combination of individual signals."
   ]
  },
  {
   "cell_type": "markdown",
   "metadata": {},
   "source": [
    "### Execution logic\n",
    "\n",
    "Another key component of algorithmic trading is quickly and efficiently managing orders based on signals in order to gain an edge over the competition. It is essential to react to changing market data, modifying signal values in a fast but appropriate manner. Oftentimes, speed and sophistication are two competing goals, and good execution logic will try to balance the two objectives in an optimal manner. It is also extremely important to not display our strategy as much as possible to other market participants so that we get the best execution possible.\n",
    "\n",
    "Slippage and fees are also very important factors as far as execution logic design is concerned. \n",
    "\n",
    "Slippage is defined as the difference in the expected price of a trade and the price at which the trade is actually executed. This can happen for predominantly two reasons:\n",
    "\n",
    "- If the order reaches the exchange later than expected (latency), then it might end up either not executing at all, or executing at a worse price than you might expect.\n",
    "\n",
    "- If the order is very large such that it executes at multiple prices, then the VWAP of the entire execution may be significantly deifferent from the market price observed when the order was sent.\n",
    "\n",
    "Slippage obviously causes losses that might not have been correctly factored in, in addition to difficulty liqueidating positions. As the position sizes for trading algorithm scale up, slippage becomes a larger problem. \n",
    "\n",
    "Fees are another issue with executing orders efficiently. Typically, there are exchange fees and broker fees proportional to the size of the orders and the total volume traded.\n",
    "\n",
    "Again, as the position sizes for trading algorithms scale up, trading volumes typically increase and fees increase along with it. Oftentimes, a good trading strategy can end up being non-profitable because it trades too much and accumulates a lot of trading fees. Again, a good execution logic seeks to minimize the fees paid."
   ]
  },
  {
   "cell_type": "markdown",
   "metadata": {},
   "source": [
    "### Position and PnL Management.\n",
    "\n",
    "All algorithmic trading strategies need to track and manage their positions and PnLs effectively. Depending on the actual trading strategy, this can often range in complexity.\n",
    "\n",
    "For more sophisticated trading strategies, such as pairs trading, you have to track positions and PnLs on multiple instruments and often, these positions and PnLs offset one another and introduce complexity/uncertainty as regards determining true positions and PnLs."
   ]
  },
  {
   "cell_type": "markdown",
   "metadata": {},
   "source": [
    "### Risk Management!\n",
    "\n",
    "Risk management is one of the cornerstones of algorithmic trading. Bad risk management practices can turn potential profitable strategies into non-profitable ones. \n",
    "\n",
    "There is also the risk of violating rules and regulations at trading exchanges that can often lead to legal actions and huge penalties.\n",
    "\n",
    "One of the biggest risks with high-speed automated algorithmic trading is that poorly programmed computer software is prone to bugs and errors. Hence, risk management systems need to be built to be extremely robust, feature rich, and have multiple layers of redundancy.\n",
    "\n",
    "There also need to be a very high level of testing stress testing, and strict change management to minimize the possibility of risk systems failing."
   ]
  },
  {
   "cell_type": "markdown",
   "metadata": {},
   "source": [
    "### Backtesting!\n",
    "When researching an automated trading strategy for expected behavior, a key component in a good algorithmic trading research system is a good backtester. \n",
    "A backtester is used to simulate automated trading strategy behavior and retrieve statistics on expected PnLs, expected risk exposure, and other metrics based on historically recorded market data. The basic idea is to answer the question: given historical data, what kind of performance would a specific trading strategy have? This is built by recording historical market data accurately, having a framework to replay it and that can accept simulated order flow from potential trading strategies, and mimicking how a trading exchange would match this strategy's order flow in the presence of other market participants as specified in the historical market data. It is also a good place to try our different trading strategies to see what ideas work before deploying them to the market.\n",
    "\n",
    "Building and maintaining a highly accurate backtester is one of the most complicated tasks involved in setting up an algorithmic trading research system. It has to accurately simulate things such as software latencies, network latencies, accurate FIFO priorities for orders, slippage fees, and, in some cases, also the market impact caused by the order flow for the strategy under consideration (that is, how the other market participants may react in the presence of this strategy's order flow and trading activity).\n"
   ]
  },
  {
   "cell_type": "markdown",
   "metadata": {},
   "source": [
    "`End of File`"
   ]
  },
  {
   "cell_type": "code",
   "execution_count": null,
   "metadata": {},
   "outputs": [],
   "source": []
  }
 ],
 "metadata": {
  "kernelspec": {
   "display_name": "Python 3 (ipykernel)",
   "language": "python",
   "name": "python3"
  },
  "language_info": {
   "codemirror_mode": {
    "name": "ipython",
    "version": 3
   },
   "file_extension": ".py",
   "mimetype": "text/x-python",
   "name": "python",
   "nbconvert_exporter": "python",
   "pygments_lexer": "ipython3",
   "version": "3.8.5"
  }
 },
 "nbformat": 4,
 "nbformat_minor": 4
}
