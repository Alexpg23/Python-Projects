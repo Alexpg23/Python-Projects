{
 "cells": [
  {
   "cell_type": "markdown",
   "id": "803aabb0-b411-47fe-8be2-597833100fe4",
   "metadata": {},
   "source": [
    "# Coursework Question 1 - House Price Prediction"
   ]
  },
  {
   "cell_type": "markdown",
   "id": "31e111fe-394a-419e-85c8-88fbe18dab18",
   "metadata": {},
   "source": [
    "Please List Members of Team and Student IDs below:\n",
    "\n",
    "Member 1: Marcel Santos de Carvalho, id 79083¶\n",
    "\n",
    "Member 2: Loris Baudry, id 79794\n",
    "\n",
    "Member 3: Alex Palacios, id\n",
    "\n",
    "Which member of the team is responsible for this notebook: Loris Baudry"
   ]
  },
  {
   "cell_type": "code",
   "execution_count": 1,
   "id": "d088b656-fc52-468d-91d1-256a572efb97",
   "metadata": {},
   "outputs": [],
   "source": [
    "import numpy as np\n",
    "import pandas as pd\n",
    "import matplotlib.pyplot as plt\n",
    "import seaborn as sns\n",
    "%matplotlib inline"
   ]
  },
  {
   "cell_type": "markdown",
   "id": "492e790a-1323-42bb-af72-24b35f80cb9a",
   "metadata": {},
   "source": [
    "# 1. Loading and Preview of the Data Frame"
   ]
  },
  {
   "cell_type": "markdown",
   "id": "422e75ab-baf5-4543-83b9-0a9a4e4c4eba",
   "metadata": {},
   "source": [
    "## 1.1. Loading "
   ]
  },
  {
   "cell_type": "code",
   "execution_count": 2,
   "id": "d4229ce7-5f64-41f0-8cf2-ecf4ade49272",
   "metadata": {},
   "outputs": [],
   "source": [
    "# We read the file into the data frame\n",
    "df = pd.read_csv('housing/train.csv')"
   ]
  },
  {
   "cell_type": "markdown",
   "id": "b958cfd6-04a6-43dc-8288-746f446a38ff",
   "metadata": {},
   "source": [
    "## 1.2. Preview of the Data Frame"
   ]
  },
  {
   "cell_type": "code",
   "execution_count": 3,
   "id": "4feec250-5e23-4de4-a415-1b5e201836c3",
   "metadata": {},
   "outputs": [
    {
     "data": {
      "text/html": [
       "<div>\n",
       "<style scoped>\n",
       "    .dataframe tbody tr th:only-of-type {\n",
       "        vertical-align: middle;\n",
       "    }\n",
       "\n",
       "    .dataframe tbody tr th {\n",
       "        vertical-align: top;\n",
       "    }\n",
       "\n",
       "    .dataframe thead th {\n",
       "        text-align: right;\n",
       "    }\n",
       "</style>\n",
       "<table border=\"1\" class=\"dataframe\">\n",
       "  <thead>\n",
       "    <tr style=\"text-align: right;\">\n",
       "      <th></th>\n",
       "      <th>Id</th>\n",
       "      <th>MSSubClass</th>\n",
       "      <th>MSZoning</th>\n",
       "      <th>LotFrontage</th>\n",
       "      <th>LotArea</th>\n",
       "      <th>Street</th>\n",
       "      <th>Alley</th>\n",
       "      <th>LotShape</th>\n",
       "      <th>LandContour</th>\n",
       "      <th>Utilities</th>\n",
       "      <th>...</th>\n",
       "      <th>PoolArea</th>\n",
       "      <th>PoolQC</th>\n",
       "      <th>Fence</th>\n",
       "      <th>MiscFeature</th>\n",
       "      <th>MiscVal</th>\n",
       "      <th>MoSold</th>\n",
       "      <th>YrSold</th>\n",
       "      <th>SaleType</th>\n",
       "      <th>SaleCondition</th>\n",
       "      <th>SalePrice</th>\n",
       "    </tr>\n",
       "  </thead>\n",
       "  <tbody>\n",
       "    <tr>\n",
       "      <th>0</th>\n",
       "      <td>1</td>\n",
       "      <td>60</td>\n",
       "      <td>RL</td>\n",
       "      <td>65.0</td>\n",
       "      <td>8450</td>\n",
       "      <td>Pave</td>\n",
       "      <td>NaN</td>\n",
       "      <td>Reg</td>\n",
       "      <td>Lvl</td>\n",
       "      <td>AllPub</td>\n",
       "      <td>...</td>\n",
       "      <td>0</td>\n",
       "      <td>NaN</td>\n",
       "      <td>NaN</td>\n",
       "      <td>NaN</td>\n",
       "      <td>0</td>\n",
       "      <td>2</td>\n",
       "      <td>2008</td>\n",
       "      <td>WD</td>\n",
       "      <td>Normal</td>\n",
       "      <td>208500</td>\n",
       "    </tr>\n",
       "    <tr>\n",
       "      <th>1</th>\n",
       "      <td>2</td>\n",
       "      <td>20</td>\n",
       "      <td>RL</td>\n",
       "      <td>80.0</td>\n",
       "      <td>9600</td>\n",
       "      <td>Pave</td>\n",
       "      <td>NaN</td>\n",
       "      <td>Reg</td>\n",
       "      <td>Lvl</td>\n",
       "      <td>AllPub</td>\n",
       "      <td>...</td>\n",
       "      <td>0</td>\n",
       "      <td>NaN</td>\n",
       "      <td>NaN</td>\n",
       "      <td>NaN</td>\n",
       "      <td>0</td>\n",
       "      <td>5</td>\n",
       "      <td>2007</td>\n",
       "      <td>WD</td>\n",
       "      <td>Normal</td>\n",
       "      <td>181500</td>\n",
       "    </tr>\n",
       "    <tr>\n",
       "      <th>2</th>\n",
       "      <td>3</td>\n",
       "      <td>60</td>\n",
       "      <td>RL</td>\n",
       "      <td>68.0</td>\n",
       "      <td>11250</td>\n",
       "      <td>Pave</td>\n",
       "      <td>NaN</td>\n",
       "      <td>IR1</td>\n",
       "      <td>Lvl</td>\n",
       "      <td>AllPub</td>\n",
       "      <td>...</td>\n",
       "      <td>0</td>\n",
       "      <td>NaN</td>\n",
       "      <td>NaN</td>\n",
       "      <td>NaN</td>\n",
       "      <td>0</td>\n",
       "      <td>9</td>\n",
       "      <td>2008</td>\n",
       "      <td>WD</td>\n",
       "      <td>Normal</td>\n",
       "      <td>223500</td>\n",
       "    </tr>\n",
       "    <tr>\n",
       "      <th>3</th>\n",
       "      <td>4</td>\n",
       "      <td>70</td>\n",
       "      <td>RL</td>\n",
       "      <td>60.0</td>\n",
       "      <td>9550</td>\n",
       "      <td>Pave</td>\n",
       "      <td>NaN</td>\n",
       "      <td>IR1</td>\n",
       "      <td>Lvl</td>\n",
       "      <td>AllPub</td>\n",
       "      <td>...</td>\n",
       "      <td>0</td>\n",
       "      <td>NaN</td>\n",
       "      <td>NaN</td>\n",
       "      <td>NaN</td>\n",
       "      <td>0</td>\n",
       "      <td>2</td>\n",
       "      <td>2006</td>\n",
       "      <td>WD</td>\n",
       "      <td>Abnorml</td>\n",
       "      <td>140000</td>\n",
       "    </tr>\n",
       "    <tr>\n",
       "      <th>4</th>\n",
       "      <td>5</td>\n",
       "      <td>60</td>\n",
       "      <td>RL</td>\n",
       "      <td>84.0</td>\n",
       "      <td>14260</td>\n",
       "      <td>Pave</td>\n",
       "      <td>NaN</td>\n",
       "      <td>IR1</td>\n",
       "      <td>Lvl</td>\n",
       "      <td>AllPub</td>\n",
       "      <td>...</td>\n",
       "      <td>0</td>\n",
       "      <td>NaN</td>\n",
       "      <td>NaN</td>\n",
       "      <td>NaN</td>\n",
       "      <td>0</td>\n",
       "      <td>12</td>\n",
       "      <td>2008</td>\n",
       "      <td>WD</td>\n",
       "      <td>Normal</td>\n",
       "      <td>250000</td>\n",
       "    </tr>\n",
       "  </tbody>\n",
       "</table>\n",
       "<p>5 rows × 81 columns</p>\n",
       "</div>"
      ],
      "text/plain": [
       "   Id  MSSubClass MSZoning  LotFrontage  LotArea Street Alley LotShape  \\\n",
       "0   1          60       RL         65.0     8450   Pave   NaN      Reg   \n",
       "1   2          20       RL         80.0     9600   Pave   NaN      Reg   \n",
       "2   3          60       RL         68.0    11250   Pave   NaN      IR1   \n",
       "3   4          70       RL         60.0     9550   Pave   NaN      IR1   \n",
       "4   5          60       RL         84.0    14260   Pave   NaN      IR1   \n",
       "\n",
       "  LandContour Utilities  ... PoolArea PoolQC Fence MiscFeature MiscVal MoSold  \\\n",
       "0         Lvl    AllPub  ...        0    NaN   NaN         NaN       0      2   \n",
       "1         Lvl    AllPub  ...        0    NaN   NaN         NaN       0      5   \n",
       "2         Lvl    AllPub  ...        0    NaN   NaN         NaN       0      9   \n",
       "3         Lvl    AllPub  ...        0    NaN   NaN         NaN       0      2   \n",
       "4         Lvl    AllPub  ...        0    NaN   NaN         NaN       0     12   \n",
       "\n",
       "  YrSold  SaleType  SaleCondition  SalePrice  \n",
       "0   2008        WD         Normal     208500  \n",
       "1   2007        WD         Normal     181500  \n",
       "2   2008        WD         Normal     223500  \n",
       "3   2006        WD        Abnorml     140000  \n",
       "4   2008        WD         Normal     250000  \n",
       "\n",
       "[5 rows x 81 columns]"
      ]
     },
     "execution_count": 3,
     "metadata": {},
     "output_type": "execute_result"
    }
   ],
   "source": [
    "# Have a preview of the first 10 rows\n",
    "df.head(5)"
   ]
  },
  {
   "cell_type": "code",
   "execution_count": 4,
   "id": "94b219c4-bd44-4504-9b63-af485fcdb026",
   "metadata": {},
   "outputs": [
    {
     "data": {
      "text/plain": [
       "(1460, 81)"
      ]
     },
     "execution_count": 4,
     "metadata": {},
     "output_type": "execute_result"
    }
   ],
   "source": [
    "# Find out how many data rows and columns we have\n",
    "df.shape"
   ]
  },
  {
   "cell_type": "code",
   "execution_count": 5,
   "id": "52e06f69-77c3-489a-9910-7d3f2cc28148",
   "metadata": {},
   "outputs": [
    {
     "name": "stdout",
     "output_type": "stream",
     "text": [
      "<class 'pandas.core.frame.DataFrame'>\n",
      "RangeIndex: 1460 entries, 0 to 1459\n",
      "Data columns (total 81 columns):\n",
      " #   Column         Non-Null Count  Dtype  \n",
      "---  ------         --------------  -----  \n",
      " 0   Id             1460 non-null   int64  \n",
      " 1   MSSubClass     1460 non-null   int64  \n",
      " 2   MSZoning       1460 non-null   object \n",
      " 3   LotFrontage    1201 non-null   float64\n",
      " 4   LotArea        1460 non-null   int64  \n",
      " 5   Street         1460 non-null   object \n",
      " 6   Alley          91 non-null     object \n",
      " 7   LotShape       1460 non-null   object \n",
      " 8   LandContour    1460 non-null   object \n",
      " 9   Utilities      1460 non-null   object \n",
      " 10  LotConfig      1460 non-null   object \n",
      " 11  LandSlope      1460 non-null   object \n",
      " 12  Neighborhood   1460 non-null   object \n",
      " 13  Condition1     1460 non-null   object \n",
      " 14  Condition2     1460 non-null   object \n",
      " 15  BldgType       1460 non-null   object \n",
      " 16  HouseStyle     1460 non-null   object \n",
      " 17  OverallQual    1460 non-null   int64  \n",
      " 18  OverallCond    1460 non-null   int64  \n",
      " 19  YearBuilt      1460 non-null   int64  \n",
      " 20  YearRemodAdd   1460 non-null   int64  \n",
      " 21  RoofStyle      1460 non-null   object \n",
      " 22  RoofMatl       1460 non-null   object \n",
      " 23  Exterior1st    1460 non-null   object \n",
      " 24  Exterior2nd    1460 non-null   object \n",
      " 25  MasVnrType     1452 non-null   object \n",
      " 26  MasVnrArea     1452 non-null   float64\n",
      " 27  ExterQual      1460 non-null   object \n",
      " 28  ExterCond      1460 non-null   object \n",
      " 29  Foundation     1460 non-null   object \n",
      " 30  BsmtQual       1423 non-null   object \n",
      " 31  BsmtCond       1423 non-null   object \n",
      " 32  BsmtExposure   1422 non-null   object \n",
      " 33  BsmtFinType1   1423 non-null   object \n",
      " 34  BsmtFinSF1     1460 non-null   int64  \n",
      " 35  BsmtFinType2   1422 non-null   object \n",
      " 36  BsmtFinSF2     1460 non-null   int64  \n",
      " 37  BsmtUnfSF      1460 non-null   int64  \n",
      " 38  TotalBsmtSF    1460 non-null   int64  \n",
      " 39  Heating        1460 non-null   object \n",
      " 40  HeatingQC      1460 non-null   object \n",
      " 41  CentralAir     1460 non-null   object \n",
      " 42  Electrical     1459 non-null   object \n",
      " 43  1stFlrSF       1460 non-null   int64  \n",
      " 44  2ndFlrSF       1460 non-null   int64  \n",
      " 45  LowQualFinSF   1460 non-null   int64  \n",
      " 46  GrLivArea      1460 non-null   int64  \n",
      " 47  BsmtFullBath   1460 non-null   int64  \n",
      " 48  BsmtHalfBath   1460 non-null   int64  \n",
      " 49  FullBath       1460 non-null   int64  \n",
      " 50  HalfBath       1460 non-null   int64  \n",
      " 51  BedroomAbvGr   1460 non-null   int64  \n",
      " 52  KitchenAbvGr   1460 non-null   int64  \n",
      " 53  KitchenQual    1460 non-null   object \n",
      " 54  TotRmsAbvGrd   1460 non-null   int64  \n",
      " 55  Functional     1460 non-null   object \n",
      " 56  Fireplaces     1460 non-null   int64  \n",
      " 57  FireplaceQu    770 non-null    object \n",
      " 58  GarageType     1379 non-null   object \n",
      " 59  GarageYrBlt    1379 non-null   float64\n",
      " 60  GarageFinish   1379 non-null   object \n",
      " 61  GarageCars     1460 non-null   int64  \n",
      " 62  GarageArea     1460 non-null   int64  \n",
      " 63  GarageQual     1379 non-null   object \n",
      " 64  GarageCond     1379 non-null   object \n",
      " 65  PavedDrive     1460 non-null   object \n",
      " 66  WoodDeckSF     1460 non-null   int64  \n",
      " 67  OpenPorchSF    1460 non-null   int64  \n",
      " 68  EnclosedPorch  1460 non-null   int64  \n",
      " 69  3SsnPorch      1460 non-null   int64  \n",
      " 70  ScreenPorch    1460 non-null   int64  \n",
      " 71  PoolArea       1460 non-null   int64  \n",
      " 72  PoolQC         7 non-null      object \n",
      " 73  Fence          281 non-null    object \n",
      " 74  MiscFeature    54 non-null     object \n",
      " 75  MiscVal        1460 non-null   int64  \n",
      " 76  MoSold         1460 non-null   int64  \n",
      " 77  YrSold         1460 non-null   int64  \n",
      " 78  SaleType       1460 non-null   object \n",
      " 79  SaleCondition  1460 non-null   object \n",
      " 80  SalePrice      1460 non-null   int64  \n",
      "dtypes: float64(3), int64(35), object(43)\n",
      "memory usage: 924.0+ KB\n"
     ]
    }
   ],
   "source": [
    "df.info()"
   ]
  },
  {
   "cell_type": "markdown",
   "id": "c086f8fc-9a1d-4a04-8e30-00580169f3fc",
   "metadata": {},
   "source": [
    "# 2. Clean and Prepare data for model"
   ]
  },
  {
   "cell_type": "markdown",
   "id": "b0f0ed73-36f8-4b79-8ec4-48141ca1a990",
   "metadata": {},
   "source": [
    "## 2.1. Drop Columns with lots of nulls "
   ]
  },
  {
   "cell_type": "code",
   "execution_count": 6,
   "id": "ffc36db5-c37a-4beb-8131-22fd5bb63dfa",
   "metadata": {},
   "outputs": [],
   "source": [
    "df.drop(['Id'],axis=1,inplace=True)"
   ]
  },
  {
   "cell_type": "code",
   "execution_count": 7,
   "id": "e287ef5e-b51e-475b-9d67-15e5c7f3b67b",
   "metadata": {},
   "outputs": [],
   "source": [
    "# Drop of columns with lots of nulls \n",
    "df.drop(['PoolQC','Fence','MiscFeature', 'Alley', 'GarageYrBlt' ],axis=1,inplace=True)"
   ]
  },
  {
   "cell_type": "markdown",
   "id": "0ad41a3a-54c5-47dd-a186-6b189bea77d9",
   "metadata": {},
   "source": [
    "## 2.2. Filling Missing Values"
   ]
  },
  {
   "cell_type": "code",
   "execution_count": 8,
   "id": "561f34d9-3577-46e5-b5a0-408a24495462",
   "metadata": {},
   "outputs": [],
   "source": [
    "# filling missing categorical columns with mode \n",
    "df['BsmtCond']=df['BsmtCond'].fillna(df['BsmtCond'].mode()[0])\n",
    "df['BsmtQual']=df['BsmtQual'].fillna(df['BsmtQual'].mode()[0])\n",
    "df['FireplaceQu']=df['FireplaceQu'].fillna(df['FireplaceQu'].mode()[0])\n",
    "df['GarageType']=df['GarageType'].fillna(df['GarageType'].mode()[0])\n",
    "df['GarageFinish']=df['GarageFinish'].fillna(df['GarageFinish'].mode()[0])\n",
    "df['GarageQual']=df['GarageQual'].fillna(df['GarageQual'].mode()[0])\n",
    "df['GarageCond']=df['GarageCond'].fillna(df['GarageCond'].mode()[0])\n",
    "df['MasVnrType']=df['MasVnrType'].fillna(df['MasVnrType'].mode()[0])\n",
    "df['MasVnrArea']=df['MasVnrArea'].fillna(df['MasVnrArea'].mode()[0])\n",
    "df['BsmtExposure']=df['BsmtExposure'].fillna(df['BsmtExposure'].mode()[0])\n",
    "df['BsmtFinType2']=df['BsmtFinType2'].fillna(df['BsmtFinType2'].mode()[0])"
   ]
  },
  {
   "cell_type": "code",
   "execution_count": 9,
   "id": "12b5ccaa-6fff-4a2d-8a8d-439aa63f912c",
   "metadata": {},
   "outputs": [],
   "source": [
    "# filling missing continuous columns with mean\n",
    "df['LotFrontage']=df['LotFrontage'].fillna(df['LotFrontage'].mean())"
   ]
  },
  {
   "cell_type": "markdown",
   "id": "83baddb0-01d3-474e-ab9b-fc72ce12b1d0",
   "metadata": {},
   "source": [
    "## 2.3. Remove Remaining Nulls"
   ]
  },
  {
   "cell_type": "code",
   "execution_count": 10,
   "id": "0cdc4f92-2d0a-4e69-980d-6458c83d0ee4",
   "metadata": {},
   "outputs": [],
   "source": [
    "df.dropna(inplace=True)"
   ]
  },
  {
   "cell_type": "code",
   "execution_count": 11,
   "id": "ee214bba-f984-41a6-ae71-46590b31ca86",
   "metadata": {},
   "outputs": [
    {
     "data": {
      "text/plain": [
       "(1422, 75)"
      ]
     },
     "execution_count": 11,
     "metadata": {},
     "output_type": "execute_result"
    }
   ],
   "source": [
    "df.shape"
   ]
  },
  {
   "cell_type": "markdown",
   "id": "b9719aaf-4a5d-40f2-b076-7729c5f87593",
   "metadata": {},
   "source": [
    "## 2.4. Handle Categorical Data"
   ]
  },
  {
   "cell_type": "code",
   "execution_count": 12,
   "id": "380f926a-1248-4617-a259-c19a5f5884e9",
   "metadata": {},
   "outputs": [
    {
     "data": {
      "text/html": [
       "<div>\n",
       "<style scoped>\n",
       "    .dataframe tbody tr th:only-of-type {\n",
       "        vertical-align: middle;\n",
       "    }\n",
       "\n",
       "    .dataframe tbody tr th {\n",
       "        vertical-align: top;\n",
       "    }\n",
       "\n",
       "    .dataframe thead th {\n",
       "        text-align: right;\n",
       "    }\n",
       "</style>\n",
       "<table border=\"1\" class=\"dataframe\">\n",
       "  <thead>\n",
       "    <tr style=\"text-align: right;\">\n",
       "      <th></th>\n",
       "      <th>MSSubClass</th>\n",
       "      <th>MSZoning</th>\n",
       "      <th>LotFrontage</th>\n",
       "      <th>LotArea</th>\n",
       "      <th>Street</th>\n",
       "      <th>LotShape</th>\n",
       "      <th>LandContour</th>\n",
       "      <th>Utilities</th>\n",
       "      <th>LotConfig</th>\n",
       "      <th>LandSlope</th>\n",
       "      <th>...</th>\n",
       "      <th>SaleType_ConLw</th>\n",
       "      <th>SaleType_New</th>\n",
       "      <th>SaleType_Oth</th>\n",
       "      <th>SaleType_WD</th>\n",
       "      <th>SaleCondition_Abnorml</th>\n",
       "      <th>SaleCondition_AdjLand</th>\n",
       "      <th>SaleCondition_Alloca</th>\n",
       "      <th>SaleCondition_Family</th>\n",
       "      <th>SaleCondition_Normal</th>\n",
       "      <th>SaleCondition_Partial</th>\n",
       "    </tr>\n",
       "  </thead>\n",
       "  <tbody>\n",
       "    <tr>\n",
       "      <th>0</th>\n",
       "      <td>60</td>\n",
       "      <td>RL</td>\n",
       "      <td>65.0</td>\n",
       "      <td>8450</td>\n",
       "      <td>Pave</td>\n",
       "      <td>Reg</td>\n",
       "      <td>Lvl</td>\n",
       "      <td>AllPub</td>\n",
       "      <td>Inside</td>\n",
       "      <td>Gtl</td>\n",
       "      <td>...</td>\n",
       "      <td>0</td>\n",
       "      <td>0</td>\n",
       "      <td>0</td>\n",
       "      <td>1</td>\n",
       "      <td>0</td>\n",
       "      <td>0</td>\n",
       "      <td>0</td>\n",
       "      <td>0</td>\n",
       "      <td>1</td>\n",
       "      <td>0</td>\n",
       "    </tr>\n",
       "    <tr>\n",
       "      <th>1</th>\n",
       "      <td>20</td>\n",
       "      <td>RL</td>\n",
       "      <td>80.0</td>\n",
       "      <td>9600</td>\n",
       "      <td>Pave</td>\n",
       "      <td>Reg</td>\n",
       "      <td>Lvl</td>\n",
       "      <td>AllPub</td>\n",
       "      <td>FR2</td>\n",
       "      <td>Gtl</td>\n",
       "      <td>...</td>\n",
       "      <td>0</td>\n",
       "      <td>0</td>\n",
       "      <td>0</td>\n",
       "      <td>1</td>\n",
       "      <td>0</td>\n",
       "      <td>0</td>\n",
       "      <td>0</td>\n",
       "      <td>0</td>\n",
       "      <td>1</td>\n",
       "      <td>0</td>\n",
       "    </tr>\n",
       "    <tr>\n",
       "      <th>2</th>\n",
       "      <td>60</td>\n",
       "      <td>RL</td>\n",
       "      <td>68.0</td>\n",
       "      <td>11250</td>\n",
       "      <td>Pave</td>\n",
       "      <td>IR1</td>\n",
       "      <td>Lvl</td>\n",
       "      <td>AllPub</td>\n",
       "      <td>Inside</td>\n",
       "      <td>Gtl</td>\n",
       "      <td>...</td>\n",
       "      <td>0</td>\n",
       "      <td>0</td>\n",
       "      <td>0</td>\n",
       "      <td>1</td>\n",
       "      <td>0</td>\n",
       "      <td>0</td>\n",
       "      <td>0</td>\n",
       "      <td>0</td>\n",
       "      <td>1</td>\n",
       "      <td>0</td>\n",
       "    </tr>\n",
       "    <tr>\n",
       "      <th>3</th>\n",
       "      <td>70</td>\n",
       "      <td>RL</td>\n",
       "      <td>60.0</td>\n",
       "      <td>9550</td>\n",
       "      <td>Pave</td>\n",
       "      <td>IR1</td>\n",
       "      <td>Lvl</td>\n",
       "      <td>AllPub</td>\n",
       "      <td>Corner</td>\n",
       "      <td>Gtl</td>\n",
       "      <td>...</td>\n",
       "      <td>0</td>\n",
       "      <td>0</td>\n",
       "      <td>0</td>\n",
       "      <td>1</td>\n",
       "      <td>1</td>\n",
       "      <td>0</td>\n",
       "      <td>0</td>\n",
       "      <td>0</td>\n",
       "      <td>0</td>\n",
       "      <td>0</td>\n",
       "    </tr>\n",
       "    <tr>\n",
       "      <th>4</th>\n",
       "      <td>60</td>\n",
       "      <td>RL</td>\n",
       "      <td>84.0</td>\n",
       "      <td>14260</td>\n",
       "      <td>Pave</td>\n",
       "      <td>IR1</td>\n",
       "      <td>Lvl</td>\n",
       "      <td>AllPub</td>\n",
       "      <td>FR2</td>\n",
       "      <td>Gtl</td>\n",
       "      <td>...</td>\n",
       "      <td>0</td>\n",
       "      <td>0</td>\n",
       "      <td>0</td>\n",
       "      <td>1</td>\n",
       "      <td>0</td>\n",
       "      <td>0</td>\n",
       "      <td>0</td>\n",
       "      <td>0</td>\n",
       "      <td>1</td>\n",
       "      <td>0</td>\n",
       "    </tr>\n",
       "  </tbody>\n",
       "</table>\n",
       "<p>5 rows × 310 columns</p>\n",
       "</div>"
      ],
      "text/plain": [
       "   MSSubClass MSZoning  LotFrontage  LotArea Street LotShape LandContour  \\\n",
       "0          60       RL         65.0     8450   Pave      Reg         Lvl   \n",
       "1          20       RL         80.0     9600   Pave      Reg         Lvl   \n",
       "2          60       RL         68.0    11250   Pave      IR1         Lvl   \n",
       "3          70       RL         60.0     9550   Pave      IR1         Lvl   \n",
       "4          60       RL         84.0    14260   Pave      IR1         Lvl   \n",
       "\n",
       "  Utilities LotConfig LandSlope  ... SaleType_ConLw SaleType_New SaleType_Oth  \\\n",
       "0    AllPub    Inside       Gtl  ...              0            0            0   \n",
       "1    AllPub       FR2       Gtl  ...              0            0            0   \n",
       "2    AllPub    Inside       Gtl  ...              0            0            0   \n",
       "3    AllPub    Corner       Gtl  ...              0            0            0   \n",
       "4    AllPub       FR2       Gtl  ...              0            0            0   \n",
       "\n",
       "  SaleType_WD SaleCondition_Abnorml  SaleCondition_AdjLand  \\\n",
       "0           1                     0                      0   \n",
       "1           1                     0                      0   \n",
       "2           1                     0                      0   \n",
       "3           1                     1                      0   \n",
       "4           1                     0                      0   \n",
       "\n",
       "   SaleCondition_Alloca  SaleCondition_Family  SaleCondition_Normal  \\\n",
       "0                     0                     0                     1   \n",
       "1                     0                     0                     1   \n",
       "2                     0                     0                     1   \n",
       "3                     0                     0                     0   \n",
       "4                     0                     0                     1   \n",
       "\n",
       "  SaleCondition_Partial  \n",
       "0                     0  \n",
       "1                     0  \n",
       "2                     0  \n",
       "3                     0  \n",
       "4                     0  \n",
       "\n",
       "[5 rows x 310 columns]"
      ]
     },
     "execution_count": 12,
     "metadata": {},
     "output_type": "execute_result"
    }
   ],
   "source": [
    "df_text = df.select_dtypes(include=object)\n",
    "one_hot = pd.get_dummies(df_text)\n",
    "df_join = df.join(one_hot)\n",
    "df_join.head()"
   ]
  },
  {
   "cell_type": "code",
   "execution_count": 13,
   "id": "e34a9442-e27d-407c-8363-8d2272e319d8",
   "metadata": {},
   "outputs": [
    {
     "data": {
      "text/html": [
       "<div>\n",
       "<style scoped>\n",
       "    .dataframe tbody tr th:only-of-type {\n",
       "        vertical-align: middle;\n",
       "    }\n",
       "\n",
       "    .dataframe tbody tr th {\n",
       "        vertical-align: top;\n",
       "    }\n",
       "\n",
       "    .dataframe thead th {\n",
       "        text-align: right;\n",
       "    }\n",
       "</style>\n",
       "<table border=\"1\" class=\"dataframe\">\n",
       "  <thead>\n",
       "    <tr style=\"text-align: right;\">\n",
       "      <th></th>\n",
       "      <th>MSSubClass</th>\n",
       "      <th>LotFrontage</th>\n",
       "      <th>LotArea</th>\n",
       "      <th>OverallQual</th>\n",
       "      <th>OverallCond</th>\n",
       "      <th>YearBuilt</th>\n",
       "      <th>YearRemodAdd</th>\n",
       "      <th>MasVnrArea</th>\n",
       "      <th>BsmtFinSF1</th>\n",
       "      <th>BsmtFinSF2</th>\n",
       "      <th>...</th>\n",
       "      <th>SaleType_ConLw</th>\n",
       "      <th>SaleType_New</th>\n",
       "      <th>SaleType_Oth</th>\n",
       "      <th>SaleType_WD</th>\n",
       "      <th>SaleCondition_Abnorml</th>\n",
       "      <th>SaleCondition_AdjLand</th>\n",
       "      <th>SaleCondition_Alloca</th>\n",
       "      <th>SaleCondition_Family</th>\n",
       "      <th>SaleCondition_Normal</th>\n",
       "      <th>SaleCondition_Partial</th>\n",
       "    </tr>\n",
       "  </thead>\n",
       "  <tbody>\n",
       "    <tr>\n",
       "      <th>0</th>\n",
       "      <td>60</td>\n",
       "      <td>65.0</td>\n",
       "      <td>8450</td>\n",
       "      <td>7</td>\n",
       "      <td>5</td>\n",
       "      <td>2003</td>\n",
       "      <td>2003</td>\n",
       "      <td>196.0</td>\n",
       "      <td>706</td>\n",
       "      <td>0</td>\n",
       "      <td>...</td>\n",
       "      <td>0</td>\n",
       "      <td>0</td>\n",
       "      <td>0</td>\n",
       "      <td>1</td>\n",
       "      <td>0</td>\n",
       "      <td>0</td>\n",
       "      <td>0</td>\n",
       "      <td>0</td>\n",
       "      <td>1</td>\n",
       "      <td>0</td>\n",
       "    </tr>\n",
       "    <tr>\n",
       "      <th>1</th>\n",
       "      <td>20</td>\n",
       "      <td>80.0</td>\n",
       "      <td>9600</td>\n",
       "      <td>6</td>\n",
       "      <td>8</td>\n",
       "      <td>1976</td>\n",
       "      <td>1976</td>\n",
       "      <td>0.0</td>\n",
       "      <td>978</td>\n",
       "      <td>0</td>\n",
       "      <td>...</td>\n",
       "      <td>0</td>\n",
       "      <td>0</td>\n",
       "      <td>0</td>\n",
       "      <td>1</td>\n",
       "      <td>0</td>\n",
       "      <td>0</td>\n",
       "      <td>0</td>\n",
       "      <td>0</td>\n",
       "      <td>1</td>\n",
       "      <td>0</td>\n",
       "    </tr>\n",
       "    <tr>\n",
       "      <th>2</th>\n",
       "      <td>60</td>\n",
       "      <td>68.0</td>\n",
       "      <td>11250</td>\n",
       "      <td>7</td>\n",
       "      <td>5</td>\n",
       "      <td>2001</td>\n",
       "      <td>2002</td>\n",
       "      <td>162.0</td>\n",
       "      <td>486</td>\n",
       "      <td>0</td>\n",
       "      <td>...</td>\n",
       "      <td>0</td>\n",
       "      <td>0</td>\n",
       "      <td>0</td>\n",
       "      <td>1</td>\n",
       "      <td>0</td>\n",
       "      <td>0</td>\n",
       "      <td>0</td>\n",
       "      <td>0</td>\n",
       "      <td>1</td>\n",
       "      <td>0</td>\n",
       "    </tr>\n",
       "    <tr>\n",
       "      <th>3</th>\n",
       "      <td>70</td>\n",
       "      <td>60.0</td>\n",
       "      <td>9550</td>\n",
       "      <td>7</td>\n",
       "      <td>5</td>\n",
       "      <td>1915</td>\n",
       "      <td>1970</td>\n",
       "      <td>0.0</td>\n",
       "      <td>216</td>\n",
       "      <td>0</td>\n",
       "      <td>...</td>\n",
       "      <td>0</td>\n",
       "      <td>0</td>\n",
       "      <td>0</td>\n",
       "      <td>1</td>\n",
       "      <td>1</td>\n",
       "      <td>0</td>\n",
       "      <td>0</td>\n",
       "      <td>0</td>\n",
       "      <td>0</td>\n",
       "      <td>0</td>\n",
       "    </tr>\n",
       "    <tr>\n",
       "      <th>4</th>\n",
       "      <td>60</td>\n",
       "      <td>84.0</td>\n",
       "      <td>14260</td>\n",
       "      <td>8</td>\n",
       "      <td>5</td>\n",
       "      <td>2000</td>\n",
       "      <td>2000</td>\n",
       "      <td>350.0</td>\n",
       "      <td>655</td>\n",
       "      <td>0</td>\n",
       "      <td>...</td>\n",
       "      <td>0</td>\n",
       "      <td>0</td>\n",
       "      <td>0</td>\n",
       "      <td>1</td>\n",
       "      <td>0</td>\n",
       "      <td>0</td>\n",
       "      <td>0</td>\n",
       "      <td>0</td>\n",
       "      <td>1</td>\n",
       "      <td>0</td>\n",
       "    </tr>\n",
       "  </tbody>\n",
       "</table>\n",
       "<p>5 rows × 271 columns</p>\n",
       "</div>"
      ],
      "text/plain": [
       "   MSSubClass  LotFrontage  LotArea  OverallQual  OverallCond  YearBuilt  \\\n",
       "0          60         65.0     8450            7            5       2003   \n",
       "1          20         80.0     9600            6            8       1976   \n",
       "2          60         68.0    11250            7            5       2001   \n",
       "3          70         60.0     9550            7            5       1915   \n",
       "4          60         84.0    14260            8            5       2000   \n",
       "\n",
       "   YearRemodAdd  MasVnrArea  BsmtFinSF1  BsmtFinSF2  ...  SaleType_ConLw  \\\n",
       "0          2003       196.0         706           0  ...               0   \n",
       "1          1976         0.0         978           0  ...               0   \n",
       "2          2002       162.0         486           0  ...               0   \n",
       "3          1970         0.0         216           0  ...               0   \n",
       "4          2000       350.0         655           0  ...               0   \n",
       "\n",
       "   SaleType_New  SaleType_Oth  SaleType_WD  SaleCondition_Abnorml  \\\n",
       "0             0             0            1                      0   \n",
       "1             0             0            1                      0   \n",
       "2             0             0            1                      0   \n",
       "3             0             0            1                      1   \n",
       "4             0             0            1                      0   \n",
       "\n",
       "   SaleCondition_AdjLand  SaleCondition_Alloca  SaleCondition_Family  \\\n",
       "0                      0                     0                     0   \n",
       "1                      0                     0                     0   \n",
       "2                      0                     0                     0   \n",
       "3                      0                     0                     0   \n",
       "4                      0                     0                     0   \n",
       "\n",
       "   SaleCondition_Normal  SaleCondition_Partial  \n",
       "0                     1                      0  \n",
       "1                     1                      0  \n",
       "2                     1                      0  \n",
       "3                     0                      0  \n",
       "4                     1                      0  \n",
       "\n",
       "[5 rows x 271 columns]"
      ]
     },
     "execution_count": 13,
     "metadata": {},
     "output_type": "execute_result"
    }
   ],
   "source": [
    "df = df_join.select_dtypes(exclude=['object'])\n",
    "df.head()"
   ]
  },
  {
   "cell_type": "code",
   "execution_count": 14,
   "id": "b34d0c8e-b106-4039-895d-8a99f7cb57a6",
   "metadata": {},
   "outputs": [
    {
     "data": {
      "text/plain": [
       "(1422, 271)"
      ]
     },
     "execution_count": 14,
     "metadata": {},
     "output_type": "execute_result"
    }
   ],
   "source": [
    "df.shape"
   ]
  },
  {
   "cell_type": "markdown",
   "id": "bbdb0259-b0bc-4d7b-8336-015586cb60d5",
   "metadata": {},
   "source": [
    "# 3. Select Relevant Features to build the model"
   ]
  },
  {
   "cell_type": "markdown",
   "id": "a7cac18f-56c9-4b25-b3b8-53af663b5ea3",
   "metadata": {},
   "source": [
    "## 3.1. Analysis of Features correlation with SalePrice"
   ]
  },
  {
   "cell_type": "code",
   "execution_count": 15,
   "id": "6d7fbe16-5bde-414f-86bf-6635e3a169f8",
   "metadata": {},
   "outputs": [],
   "source": [
    "# We delete features having a correlation > 80% with another feature\n",
    "\n",
    "corr = df.corr()\n",
    "columns = np.full((corr.shape[0],), True, dtype=bool)\n",
    "for i in range(corr.shape[0]):\n",
    "    for j in range(i+1, corr.shape[0]):\n",
    "        if corr.iloc[i,j] >= 0.8:\n",
    "            if columns[j]:\n",
    "                columns[j] = False\n",
    "selected_columns = df.columns[columns]\n",
    "df = df[selected_columns]"
   ]
  },
  {
   "cell_type": "code",
   "execution_count": 16,
   "id": "d7b43a69-80e7-4606-aab0-4a10ebd92051",
   "metadata": {},
   "outputs": [
    {
     "data": {
      "text/plain": [
       "SalePrice               1.000000\n",
       "OverallQual             0.787985\n",
       "GrLivArea               0.709303\n",
       "GarageCars              0.643039\n",
       "TotalBsmtSF             0.610085\n",
       "FullBath                0.573755\n",
       "BsmtQual_Ex             0.553768\n",
       "YearBuilt               0.519014\n",
       "KitchenQual_Ex          0.504655\n",
       "YearRemodAdd            0.500512\n",
       "Foundation_PConc        0.492300\n",
       "MasVnrArea              0.470117\n",
       "Fireplaces              0.461108\n",
       "ExterQual_Ex            0.452715\n",
       "ExterQual_Gd            0.443755\n",
       "HeatingQC_Ex            0.428411\n",
       "BsmtFinType1_GLQ        0.426911\n",
       "GarageFinish_Fin        0.417049\n",
       "Neighborhood_NridgHt    0.402007\n",
       "Name: SalePrice, dtype: float64"
      ]
     },
     "execution_count": 16,
     "metadata": {},
     "output_type": "execute_result"
    }
   ],
   "source": [
    "# Analysis of features correlations with SalePrice and selection of features with a correlation > 0.40 \n",
    "corr_matrix = df.corr()\n",
    "corr_analysis = corr_matrix[\"SalePrice\"].sort_values(ascending=False)\n",
    "relevant_features = corr_analysis[corr_analysis>0.40]\n",
    "relevant_features"
   ]
  },
  {
   "cell_type": "code",
   "execution_count": null,
   "id": "fe21952f-1372-4138-9d5c-cb3738c50dce",
   "metadata": {},
   "outputs": [
    {
     "data": {
      "text/plain": [
       "<AxesSubplot:>"
      ]
     },
     "execution_count": 17,
     "metadata": {},
     "output_type": "execute_result"
    }
   ],
   "source": [
    "# How does the correlation matrix looks like\n",
    "corr = df[['SalePrice', 'OverallQual', 'GrLivArea', 'GarageCars', 'TotalBsmtSF', 'FullBath', 'BsmtQual_Ex', 'YearBuilt', 'KitchenQual_Ex', 'YearRemodAdd', 'Foundation_PConc', 'KitchenQual_Ex', 'ExterQual_Gd', 'Fireplaces', 'MasVnrArea', 'ExterQual_Ex', 'HeatingQC_Ex', 'BsmtFinType1_GLQ', 'GarageFinish_Fin', 'Neighborhood_NridgHt']]\n",
    "plt.figure(figsize=(20,10))\n",
    "sns.heatmap(corr, annot=True, cmap='coolwarm')"
   ]
  },
  {
   "cell_type": "code",
   "execution_count": null,
   "id": "9161a25b-ce16-4bd9-84ab-cd696ccf7062",
   "metadata": {},
   "outputs": [],
   "source": [
    "X_corr = df[['OverallQual', 'GrLivArea', 'GarageCars', 'TotalBsmtSF', 'FullBath', 'BsmtQual_Ex', 'YearBuilt', 'KitchenQual_Ex', 'YearRemodAdd', 'Foundation_PConc', 'KitchenQual_Ex', 'ExterQual_Gd', 'Fireplaces', 'MasVnrArea', 'ExterQual_Ex', 'HeatingQC_Ex', 'BsmtFinType1_GLQ', 'GarageFinish_Fin', 'Neighborhood_NridgHt']]"
   ]
  },
  {
   "cell_type": "markdown",
   "id": "67ea50fa-368d-4182-9713-924ac09d7979",
   "metadata": {},
   "source": [
    "## 3.2. Analysis of Features P-values"
   ]
  },
  {
   "cell_type": "code",
   "execution_count": null,
   "id": "2e1b077f-7b4f-4015-94a5-2117784a8873",
   "metadata": {},
   "outputs": [],
   "source": [
    "import pandas as pd\n",
    "import numpy as np\n",
    "from sklearn import datasets, linear_model\n",
    "from sklearn.linear_model import LinearRegression\n",
    "import statsmodels.api as sm\n",
    "from scipy import stats\n",
    "\n",
    "X = X_corr\n",
    "y = df['SalePrice']\n",
    "\n",
    "X2 = sm.add_constant(X)\n",
    "est = sm.OLS(y, X2)\n",
    "est2 = est.fit()\n",
    "print(est2.summary())"
   ]
  },
  {
   "cell_type": "markdown",
   "id": "781d9023-92fb-4dfb-9794-78fc4dc76ed1",
   "metadata": {},
   "source": [
    "## 3.3. Result - Selected Features"
   ]
  },
  {
   "cell_type": "code",
   "execution_count": null,
   "id": "4c9bd61a-7aba-4a6d-8daa-0a9590cfd3d8",
   "metadata": {},
   "outputs": [],
   "source": [
    "# Selected Features = 'OverallQual', 'GrLivArea', 'GarageCars', 'TotalBsmtSF', 'BsmtQual_Ex', 'YearBuilt', 'KitchenQual_Ex', 'YearRemodAdd', 'KitchenQual_Ex', 'ExterQual_Gd', 'Fireplaces', 'MasVnrArea', 'ExterQual_Ex', 'BsmtFinType1_GLQ']]"
   ]
  },
  {
   "cell_type": "markdown",
   "id": "ed2e63d3-9333-4b6b-a3a3-292fbc927771",
   "metadata": {},
   "source": [
    "# 4. Visualise the data and look for outliers to remove"
   ]
  },
  {
   "cell_type": "markdown",
   "id": "33551423-aeb3-46df-aa8c-21c25ca9ee3f",
   "metadata": {},
   "source": [
    "## 4.1. Label"
   ]
  },
  {
   "cell_type": "code",
   "execution_count": null,
   "id": "3236fbb3-f020-4b4e-af7c-e2bd26a93db1",
   "metadata": {},
   "outputs": [],
   "source": [
    "# Study of the distribution of the column we want to predict: SalePrice\n",
    "plt.figure(figsize=(8, 6))\n",
    "plt.hist(df.SalePrice,bins=50);\n",
    "plt.xlabel('Sales Prices')\n",
    "plt.ylabel('Frequency');"
   ]
  },
  {
   "cell_type": "code",
   "execution_count": null,
   "id": "a272c384-678c-4092-a7ea-49129ccd1de3",
   "metadata": {},
   "outputs": [],
   "source": [
    "# we drop outliers\n",
    "df = df[df.SalePrice<600000]"
   ]
  },
  {
   "cell_type": "code",
   "execution_count": null,
   "id": "681fefb8-d788-4b42-b733-753c265f614c",
   "metadata": {},
   "outputs": [],
   "source": [
    "df['SalePrice'].describe()"
   ]
  },
  {
   "cell_type": "markdown",
   "id": "9a55312d-68a7-4c55-83b2-47fda55a83a5",
   "metadata": {},
   "source": [
    "## 4.2. Features"
   ]
  },
  {
   "cell_type": "code",
   "execution_count": null,
   "id": "eb1875c7-1ea8-4736-8c78-da968c8b641b",
   "metadata": {},
   "outputs": [],
   "source": [
    "df[['OverallQual', 'GrLivArea', 'GarageCars', 'TotalBsmtSF', 'BsmtQual_Ex', 'YearBuilt', 'KitchenQual_Ex', 'YearRemodAdd', 'ExterQual_Gd', 'Fireplaces', 'MasVnrArea', 'ExterQual_Ex', 'BsmtFinType1_GLQ']].describe()"
   ]
  },
  {
   "cell_type": "code",
   "execution_count": null,
   "id": "2d1b4079-dd6a-431d-9a48-5f5e523f25b0",
   "metadata": {},
   "outputs": [],
   "source": [
    "# Histograms of Selected Features\n",
    "df[['OverallQual', 'GrLivArea', 'GarageCars', 'TotalBsmtSF', 'BsmtQual_Ex', 'YearBuilt', 'KitchenQual_Ex', 'YearRemodAdd', 'ExterQual_Gd', 'Fireplaces', 'MasVnrArea', 'ExterQual_Ex', 'BsmtFinType1_GLQ']].hist(figsize=(22, 24));"
   ]
  },
  {
   "cell_type": "code",
   "execution_count": null,
   "id": "9a95f9c7-4e4e-419d-8ee1-1e92549b1afa",
   "metadata": {},
   "outputs": [],
   "source": [
    "def plotFeatureName(featureName):\n",
    "    plt.figure(figsize=(8,6))\n",
    "    plt.scatter(df[featureName], df['SalePrice'])  \n",
    "    plt.title(featureName)\n",
    "    plt.xlabel(featureName)\n",
    "    plt.ylabel('price')"
   ]
  },
  {
   "cell_type": "code",
   "execution_count": null,
   "id": "bf67c960-9cad-4dec-905e-c2a10829ada5",
   "metadata": {},
   "outputs": [],
   "source": [
    "plotFeatureName('OverallQual')"
   ]
  },
  {
   "cell_type": "code",
   "execution_count": null,
   "id": "5d738110-6ad9-4486-b756-a6d78e17adf9",
   "metadata": {},
   "outputs": [],
   "source": [
    "plotFeatureName('GrLivArea')"
   ]
  },
  {
   "cell_type": "code",
   "execution_count": null,
   "id": "3ed7f1e5-8068-4882-9ae3-aaa92654fc7f",
   "metadata": {},
   "outputs": [],
   "source": [
    "#Remove Outliers\n",
    "df = df[df['GrLivArea']<4000]"
   ]
  },
  {
   "cell_type": "code",
   "execution_count": null,
   "id": "708ed9b9-0bbe-4a6d-ab50-7f336f26e095",
   "metadata": {},
   "outputs": [],
   "source": [
    "plotFeatureName('GarageCars')"
   ]
  },
  {
   "cell_type": "code",
   "execution_count": null,
   "id": "c0059ee9-2beb-4548-bf35-6ff4a3af1e9f",
   "metadata": {},
   "outputs": [],
   "source": [
    "plotFeatureName('TotalBsmtSF')"
   ]
  },
  {
   "cell_type": "code",
   "execution_count": null,
   "id": "58b49adb-ec6e-4d2d-8215-fbd2e54dc4af",
   "metadata": {},
   "outputs": [],
   "source": [
    "#Remove Outliers\n",
    "df = df[df['TotalBsmtSF']<3000]"
   ]
  },
  {
   "cell_type": "code",
   "execution_count": null,
   "id": "30913cb9-b243-4507-9c86-e4b6ca914b84",
   "metadata": {},
   "outputs": [],
   "source": [
    "plotFeatureName('MasVnrArea')"
   ]
  },
  {
   "cell_type": "code",
   "execution_count": null,
   "id": "97b6eb59-4aad-491e-a19d-c20a7b632c9c",
   "metadata": {},
   "outputs": [],
   "source": [
    "#Remove Outliers\n",
    "df = df[df['MasVnrArea']<1400]"
   ]
  },
  {
   "cell_type": "code",
   "execution_count": null,
   "id": "1041686a-0156-4fbb-abe2-f0c734d31856",
   "metadata": {},
   "outputs": [],
   "source": [
    "plotFeatureName('YearRemodAdd')"
   ]
  },
  {
   "cell_type": "code",
   "execution_count": null,
   "id": "25119bbb-f2ff-4717-a949-be1139fca1ff",
   "metadata": {},
   "outputs": [],
   "source": [
    "plotFeatureName('YearBuilt')"
   ]
  },
  {
   "cell_type": "code",
   "execution_count": null,
   "id": "bbd1c83c-9eac-40b1-aca5-f5b32c0047c7",
   "metadata": {},
   "outputs": [],
   "source": [
    "sns.catplot(x=\"BsmtQual_Ex\", y=\"SalePrice\", jitter=False, data=df)"
   ]
  },
  {
   "cell_type": "code",
   "execution_count": null,
   "id": "847fe87f-1540-478c-a135-45ff23b335ab",
   "metadata": {},
   "outputs": [],
   "source": [
    "sns.catplot(x=\"KitchenQual_Ex\", y=\"SalePrice\", jitter=False, data=df)"
   ]
  },
  {
   "cell_type": "code",
   "execution_count": null,
   "id": "1cfc135a-09ae-49f2-ab4d-0f4d673610a8",
   "metadata": {},
   "outputs": [],
   "source": [
    "sns.catplot(x=\"Fireplaces\", y=\"SalePrice\", jitter=False, data=df)"
   ]
  },
  {
   "cell_type": "code",
   "execution_count": null,
   "id": "e319db59-0907-4e02-ba07-f1dbed1af884",
   "metadata": {},
   "outputs": [],
   "source": [
    "sns.catplot(x=\"ExterQual_Gd\", y=\"SalePrice\", jitter=False, data=df)"
   ]
  },
  {
   "cell_type": "code",
   "execution_count": null,
   "id": "c110b17c-ab24-4179-92b3-3cd983be87c5",
   "metadata": {},
   "outputs": [],
   "source": [
    "sns.catplot(x=\"ExterQual_Ex\", y=\"SalePrice\", jitter=False, data=df)"
   ]
  },
  {
   "cell_type": "code",
   "execution_count": null,
   "id": "42af7b8f-da66-42d9-abc4-35270d2e65d7",
   "metadata": {},
   "outputs": [],
   "source": [
    "sns.catplot(x=\"BsmtFinType1_GLQ\", y=\"SalePrice\", jitter=False, data=df)"
   ]
  },
  {
   "cell_type": "markdown",
   "id": "138f879f-7b23-407f-b8b9-ec76ae1cc0e9",
   "metadata": {},
   "source": [
    "# 5. Linear Regression Model"
   ]
  },
  {
   "cell_type": "code",
   "execution_count": null,
   "id": "e9bf67c8-3f23-4e0b-a428-6d4d85541ff6",
   "metadata": {},
   "outputs": [],
   "source": [
    "X = df[['OverallQual', 'GrLivArea', 'GarageCars', 'TotalBsmtSF', 'FullBath', 'BsmtQual_Ex', 'YearBuilt', 'KitchenQual_Ex', 'YearRemodAdd', 'ExterQual_Gd', 'Fireplaces', 'MasVnrArea', 'ExterQual_Ex', 'BsmtFinType1_GLQ']]"
   ]
  },
  {
   "cell_type": "code",
   "execution_count": null,
   "id": "f9cfba55-9454-49aa-b680-ff578021c49a",
   "metadata": {},
   "outputs": [],
   "source": [
    "y = df['SalePrice']"
   ]
  },
  {
   "cell_type": "code",
   "execution_count": null,
   "id": "f862787d-8825-4686-8fc4-43a33624b229",
   "metadata": {},
   "outputs": [],
   "source": [
    "from sklearn.model_selection import train_test_split\n",
    "X_train, X_test, y_train, y_test  = train_test_split(X, y, test_size=0.33, random_state = 999)\n",
    "\n",
    "print(X_train.shape)\n",
    "print(X_test.shape)\n",
    "\n",
    "print(y_train.shape)\n",
    "print(y_test.shape)"
   ]
  },
  {
   "cell_type": "code",
   "execution_count": null,
   "id": "ad24fb2a-7fd4-4129-90e1-5f1109b6353d",
   "metadata": {},
   "outputs": [],
   "source": [
    "# Load linear regression model\n",
    "from sklearn.linear_model import LinearRegression\n",
    "lm = LinearRegression()"
   ]
  },
  {
   "cell_type": "code",
   "execution_count": null,
   "id": "33929e6e-0f6d-4b07-b166-5a183cf93b01",
   "metadata": {},
   "outputs": [],
   "source": [
    "# Fit to the training data\n",
    "lm.fit(X_train, y_train)"
   ]
  },
  {
   "cell_type": "code",
   "execution_count": null,
   "id": "e86f424a-76b5-4b7a-a440-a382f819c0cb",
   "metadata": {},
   "outputs": [],
   "source": [
    "print(pd.Series(lm.coef_, index = X.columns))"
   ]
  },
  {
   "cell_type": "code",
   "execution_count": null,
   "id": "db985a13-671b-4389-a491-5838de254665",
   "metadata": {},
   "outputs": [],
   "source": [
    "lm.intercept_"
   ]
  },
  {
   "cell_type": "code",
   "execution_count": null,
   "id": "a7bcf263-7923-4a55-9799-cbf32b12d9b5",
   "metadata": {},
   "outputs": [],
   "source": [
    "y_pred = lm.predict(X_test)"
   ]
  },
  {
   "cell_type": "code",
   "execution_count": null,
   "id": "45e04722-07be-4ed7-8d6e-1458df4e9ead",
   "metadata": {},
   "outputs": [],
   "source": [
    "plt.figure(figsize=(6,6))\n",
    "plt.scatter(y_test, y_pred)\n",
    "plt.xlabel(\"True Prices: $Y_i$\")\n",
    "plt.ylabel(\"Predicted prices: $\\hat{Y}_i$\")\n",
    "plt.plot([0, 50], [0, 50], '--k')"
   ]
  },
  {
   "cell_type": "code",
   "execution_count": null,
   "id": "1b2c92ad-35b6-4c52-9565-468b805a732a",
   "metadata": {},
   "outputs": [],
   "source": [
    "from sklearn.metrics import mean_squared_error\n",
    "from sklearn.metrics import r2_score"
   ]
  },
  {
   "cell_type": "code",
   "execution_count": null,
   "id": "9f6532b0-7c2f-440f-9beb-d5edfdc3c052",
   "metadata": {},
   "outputs": [],
   "source": [
    "# How well did it do on the training set\n",
    "y_pred = lm.predict(X_train)\n",
    "\n",
    "print(\"Mean squared error: %.2f\" % np.sqrt(mean_squared_error(y_train, y_pred)))\n",
    "print('R squared: %.2f' % r2_score(y_train, y_pred))"
   ]
  },
  {
   "cell_type": "code",
   "execution_count": null,
   "id": "98a71063-aaf5-4f3b-abc8-9366d5114b3f",
   "metadata": {},
   "outputs": [],
   "source": [
    "# See how well it does on the test set\n",
    "y_pred = lm.predict(X_test)\n",
    "\n",
    "print(\"Mean squared error: %.2f\" % np.sqrt(mean_squared_error(y_test, y_pred)))\n",
    "print('R squared: %.2f' % r2_score(y_test, y_pred))"
   ]
  },
  {
   "cell_type": "markdown",
   "id": "c9aae264-3312-457a-af1b-4e80c9d1ac58",
   "metadata": {},
   "source": [
    "# 6. Ridge & Lasso Regression"
   ]
  },
  {
   "cell_type": "markdown",
   "id": "70499dd5-86d3-450f-b6b0-930460633181",
   "metadata": {},
   "source": [
    "## 6.1. Ridge Regression"
   ]
  },
  {
   "cell_type": "code",
   "execution_count": null,
   "id": "369e1959-904f-410b-8803-5b86390090f1",
   "metadata": {},
   "outputs": [],
   "source": [
    "from sklearn.linear_model import Ridge"
   ]
  },
  {
   "cell_type": "code",
   "execution_count": null,
   "id": "21566a14-800d-4cef-968f-b6c2fa2e4c6a",
   "metadata": {},
   "outputs": [],
   "source": [
    "#Ridge regression coefficients\n",
    "ridge_reg = Ridge(alpha=0.5)\n",
    "ridge_reg.fit(X_train, y_train)\n",
    "pred_train_ridge_reg= ridge_reg.predict(X_train)\n",
    "print(pd.Series(ridge_reg.fit(X_train, y_train).coef_, index = X.columns))"
   ]
  },
  {
   "cell_type": "code",
   "execution_count": null,
   "id": "631ba46d-6efd-4c85-946b-71b24d7a1c73",
   "metadata": {},
   "outputs": [],
   "source": [
    "# How well did it do on the training set\n",
    "print(\"Mean squared error - Training set: %.2f\" % np.sqrt(mean_squared_error(y_train, pred_train_ridge_reg)))\n",
    "print('R squared - Training set: %.2f' % r2_score(y_train, pred_train_ridge_reg))"
   ]
  },
  {
   "cell_type": "code",
   "execution_count": null,
   "id": "195cbd7a-5555-460b-ac6c-60a193976695",
   "metadata": {},
   "outputs": [],
   "source": [
    "# How well it does on the test set\n",
    "pred_test_ridge_reg= ridge_reg.predict(X_test)\n",
    "print(\"Mean squared error - Test set:: %.2f\" % np.sqrt(mean_squared_error(y_test, pred_test_ridge_reg)))\n",
    "print('R squared - Test set: %.2f' % r2_score(y_test, pred_test_ridge_reg))"
   ]
  },
  {
   "cell_type": "markdown",
   "id": "d9892036-c8f4-41fb-9ee1-825ba7d5202e",
   "metadata": {},
   "source": [
    "## 6.2. Lasso Regression"
   ]
  },
  {
   "cell_type": "code",
   "execution_count": null,
   "id": "4a288021-dcae-4ce8-bf07-11bc171e8595",
   "metadata": {},
   "outputs": [],
   "source": [
    "from sklearn.linear_model import Lasso"
   ]
  },
  {
   "cell_type": "code",
   "execution_count": null,
   "id": "5479c1cd-4741-4ba7-aa0a-c81f8ee75f44",
   "metadata": {},
   "outputs": [],
   "source": [
    "#Lasso regression coefficients\n",
    "lasso_reg = Lasso(alpha=0.01)\n",
    "lasso_reg.fit(X_train, y_train)\n",
    "pred_train_lasso= lasso_reg.predict(X_train)\n",
    "print(pd.Series(lasso_reg.fit(X_train, y_train).coef_, index = X.columns))"
   ]
  },
  {
   "cell_type": "code",
   "execution_count": null,
   "id": "9e87d6ac-82a9-4477-bede-a0dd321979b2",
   "metadata": {},
   "outputs": [],
   "source": [
    "# How well did it do on the training set\n",
    "print(\"Mean squared error - Training set: %.2f\" % np.sqrt(mean_squared_error(y_train, pred_train_lasso)))\n",
    "print('R squared - Training set: %.2f' % r2_score(y_train, pred_train_lasso))"
   ]
  },
  {
   "cell_type": "code",
   "execution_count": null,
   "id": "232f4f1d-17fd-4313-a588-c53fe7739076",
   "metadata": {},
   "outputs": [],
   "source": [
    "# How well it does on the test set\n",
    "pred_test_lasso= lasso_reg.predict(X_test)\n",
    "print(\"Mean squared error - Test set:: %.2f\" % np.sqrt(mean_squared_error(y_test, pred_test_lasso)))\n",
    "print('R squared - Test set: %.2f' % r2_score(y_test, pred_test_lasso))"
   ]
  }
 ],
 "metadata": {
  "kernelspec": {
   "display_name": "Python 3",
   "language": "python",
   "name": "python3"
  },
  "language_info": {
   "codemirror_mode": {
    "name": "ipython",
    "version": 3
   },
   "file_extension": ".py",
   "mimetype": "text/x-python",
   "name": "python",
   "nbconvert_exporter": "python",
   "pygments_lexer": "ipython3",
   "version": "3.8.8"
  }
 },
 "nbformat": 4,
 "nbformat_minor": 5
}
