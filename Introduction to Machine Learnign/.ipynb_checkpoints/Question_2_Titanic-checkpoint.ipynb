{
 "cells": [
  {
   "cell_type": "code",
   "execution_count": 1,
   "id": "00a489a7-b207-41e1-b5b7-1cf877aba62b",
   "metadata": {},
   "outputs": [],
   "source": [
    "import numpy as np\n",
    "import pandas as pd\n",
    "import matplotlib.pyplot as plt\n",
    "import seaborn as sns\n",
    "import warnings\n",
    "import matplotlib as mpl\n",
    "%matplotlib inline\n",
    "warnings.filterwarnings('ignore')"
   ]
  },
  {
   "cell_type": "markdown",
   "id": "c9d2c452-d69b-4101-b109-db3793c2a9c7",
   "metadata": {},
   "source": [
    "# Question 2: Titanic Classification\n",
    "\n",
    "## Team Members:\n",
    "\n",
    "### Marcel Santos de Carvalho, id 79083\n",
    "### Loris Baudry, id 79794\n",
    "### Alex Palacios, id 73713\n",
    "\n",
    "### Responsible for this notebook: Marcel Santos de Carvalho"
   ]
  },
  {
   "cell_type": "markdown",
   "id": "40de8d4e-bf88-4eff-b748-dd49b260c3e2",
   "metadata": {},
   "source": [
    "# 1. Load the data"
   ]
  },
  {
   "cell_type": "code",
   "execution_count": 2,
   "id": "634e1345-dce0-450e-9e48-1eb5cf45c092",
   "metadata": {},
   "outputs": [],
   "source": [
    "df = pd.read_csv('train.csv')"
   ]
  },
  {
   "cell_type": "markdown",
   "id": "58be9868-c83a-4941-8d5b-e18d2e599ddd",
   "metadata": {},
   "source": [
    "# 2. Visualise and analyse the data"
   ]
  },
  {
   "cell_type": "code",
   "execution_count": 3,
   "id": "3a8d7b46-10bd-461c-af64-69f41487582f",
   "metadata": {},
   "outputs": [
    {
     "data": {
      "text/plain": [
       "pandas.core.frame.DataFrame"
      ]
     },
     "execution_count": 3,
     "metadata": {},
     "output_type": "execute_result"
    }
   ],
   "source": [
    "type(df)"
   ]
  },
  {
   "cell_type": "code",
   "execution_count": 4,
   "id": "0ce28e44-579a-4089-ad3a-f45145dc06c1",
   "metadata": {},
   "outputs": [
    {
     "data": {
      "text/plain": [
       "(891, 12)"
      ]
     },
     "execution_count": 4,
     "metadata": {},
     "output_type": "execute_result"
    }
   ],
   "source": [
    "df.shape"
   ]
  },
  {
   "cell_type": "code",
   "execution_count": 5,
   "id": "6f372e25-9bcd-41e3-b299-a50ade986017",
   "metadata": {},
   "outputs": [
    {
     "data": {
      "text/plain": [
       "Index(['PassengerId', 'Survived', 'Pclass', 'Name', 'Sex', 'Age', 'SibSp',\n",
       "       'Parch', 'Ticket', 'Fare', 'Cabin', 'Embarked'],\n",
       "      dtype='object')"
      ]
     },
     "execution_count": 5,
     "metadata": {},
     "output_type": "execute_result"
    }
   ],
   "source": [
    "df.columns"
   ]
  },
  {
   "cell_type": "code",
   "execution_count": 6,
   "id": "0d82d013-e595-4114-9a89-7b3bee4c1ac1",
   "metadata": {},
   "outputs": [
    {
     "data": {
      "text/html": [
       "<div>\n",
       "<style scoped>\n",
       "    .dataframe tbody tr th:only-of-type {\n",
       "        vertical-align: middle;\n",
       "    }\n",
       "\n",
       "    .dataframe tbody tr th {\n",
       "        vertical-align: top;\n",
       "    }\n",
       "\n",
       "    .dataframe thead th {\n",
       "        text-align: right;\n",
       "    }\n",
       "</style>\n",
       "<table border=\"1\" class=\"dataframe\">\n",
       "  <thead>\n",
       "    <tr style=\"text-align: right;\">\n",
       "      <th></th>\n",
       "      <th>PassengerId</th>\n",
       "      <th>Survived</th>\n",
       "      <th>Pclass</th>\n",
       "      <th>Name</th>\n",
       "      <th>Sex</th>\n",
       "      <th>Age</th>\n",
       "      <th>SibSp</th>\n",
       "      <th>Parch</th>\n",
       "      <th>Ticket</th>\n",
       "      <th>Fare</th>\n",
       "      <th>Cabin</th>\n",
       "      <th>Embarked</th>\n",
       "    </tr>\n",
       "  </thead>\n",
       "  <tbody>\n",
       "    <tr>\n",
       "      <th>0</th>\n",
       "      <td>1</td>\n",
       "      <td>0</td>\n",
       "      <td>3</td>\n",
       "      <td>Braund, Mr. Owen Harris</td>\n",
       "      <td>male</td>\n",
       "      <td>22.0</td>\n",
       "      <td>1</td>\n",
       "      <td>0</td>\n",
       "      <td>A/5 21171</td>\n",
       "      <td>7.2500</td>\n",
       "      <td>NaN</td>\n",
       "      <td>S</td>\n",
       "    </tr>\n",
       "    <tr>\n",
       "      <th>1</th>\n",
       "      <td>2</td>\n",
       "      <td>1</td>\n",
       "      <td>1</td>\n",
       "      <td>Cumings, Mrs. John Bradley (Florence Briggs Th...</td>\n",
       "      <td>female</td>\n",
       "      <td>38.0</td>\n",
       "      <td>1</td>\n",
       "      <td>0</td>\n",
       "      <td>PC 17599</td>\n",
       "      <td>71.2833</td>\n",
       "      <td>C85</td>\n",
       "      <td>C</td>\n",
       "    </tr>\n",
       "    <tr>\n",
       "      <th>2</th>\n",
       "      <td>3</td>\n",
       "      <td>1</td>\n",
       "      <td>3</td>\n",
       "      <td>Heikkinen, Miss. Laina</td>\n",
       "      <td>female</td>\n",
       "      <td>26.0</td>\n",
       "      <td>0</td>\n",
       "      <td>0</td>\n",
       "      <td>STON/O2. 3101282</td>\n",
       "      <td>7.9250</td>\n",
       "      <td>NaN</td>\n",
       "      <td>S</td>\n",
       "    </tr>\n",
       "    <tr>\n",
       "      <th>3</th>\n",
       "      <td>4</td>\n",
       "      <td>1</td>\n",
       "      <td>1</td>\n",
       "      <td>Futrelle, Mrs. Jacques Heath (Lily May Peel)</td>\n",
       "      <td>female</td>\n",
       "      <td>35.0</td>\n",
       "      <td>1</td>\n",
       "      <td>0</td>\n",
       "      <td>113803</td>\n",
       "      <td>53.1000</td>\n",
       "      <td>C123</td>\n",
       "      <td>S</td>\n",
       "    </tr>\n",
       "    <tr>\n",
       "      <th>4</th>\n",
       "      <td>5</td>\n",
       "      <td>0</td>\n",
       "      <td>3</td>\n",
       "      <td>Allen, Mr. William Henry</td>\n",
       "      <td>male</td>\n",
       "      <td>35.0</td>\n",
       "      <td>0</td>\n",
       "      <td>0</td>\n",
       "      <td>373450</td>\n",
       "      <td>8.0500</td>\n",
       "      <td>NaN</td>\n",
       "      <td>S</td>\n",
       "    </tr>\n",
       "  </tbody>\n",
       "</table>\n",
       "</div>"
      ],
      "text/plain": [
       "   PassengerId  Survived  Pclass  \\\n",
       "0            1         0       3   \n",
       "1            2         1       1   \n",
       "2            3         1       3   \n",
       "3            4         1       1   \n",
       "4            5         0       3   \n",
       "\n",
       "                                                Name     Sex   Age  SibSp  \\\n",
       "0                            Braund, Mr. Owen Harris    male  22.0      1   \n",
       "1  Cumings, Mrs. John Bradley (Florence Briggs Th...  female  38.0      1   \n",
       "2                             Heikkinen, Miss. Laina  female  26.0      0   \n",
       "3       Futrelle, Mrs. Jacques Heath (Lily May Peel)  female  35.0      1   \n",
       "4                           Allen, Mr. William Henry    male  35.0      0   \n",
       "\n",
       "   Parch            Ticket     Fare Cabin Embarked  \n",
       "0      0         A/5 21171   7.2500   NaN        S  \n",
       "1      0          PC 17599  71.2833   C85        C  \n",
       "2      0  STON/O2. 3101282   7.9250   NaN        S  \n",
       "3      0            113803  53.1000  C123        S  \n",
       "4      0            373450   8.0500   NaN        S  "
      ]
     },
     "execution_count": 6,
     "metadata": {},
     "output_type": "execute_result"
    }
   ],
   "source": [
    "df.head()"
   ]
  },
  {
   "cell_type": "code",
   "execution_count": 7,
   "id": "4b2e6e0d-990c-4c2c-b040-ec7038243719",
   "metadata": {},
   "outputs": [
    {
     "name": "stdout",
     "output_type": "stream",
     "text": [
      "<class 'pandas.core.frame.DataFrame'>\n",
      "RangeIndex: 891 entries, 0 to 890\n",
      "Data columns (total 12 columns):\n",
      " #   Column       Non-Null Count  Dtype  \n",
      "---  ------       --------------  -----  \n",
      " 0   PassengerId  891 non-null    int64  \n",
      " 1   Survived     891 non-null    int64  \n",
      " 2   Pclass       891 non-null    int64  \n",
      " 3   Name         891 non-null    object \n",
      " 4   Sex          891 non-null    object \n",
      " 5   Age          714 non-null    float64\n",
      " 6   SibSp        891 non-null    int64  \n",
      " 7   Parch        891 non-null    int64  \n",
      " 8   Ticket       891 non-null    object \n",
      " 9   Fare         891 non-null    float64\n",
      " 10  Cabin        204 non-null    object \n",
      " 11  Embarked     889 non-null    object \n",
      "dtypes: float64(2), int64(5), object(5)\n",
      "memory usage: 83.7+ KB\n"
     ]
    }
   ],
   "source": [
    "df.info()"
   ]
  },
  {
   "cell_type": "markdown",
   "id": "fcf210ee-4b02-4aad-a613-7454da6e8912",
   "metadata": {},
   "source": [
    "### 2.1 Histograms"
   ]
  },
  {
   "cell_type": "code",
   "execution_count": 8,
   "id": "73f6ca5e-8fce-48a8-9a7d-58e71d69aee5",
   "metadata": {},
   "outputs": [
    {
     "data": {
      "image/png": "[encoded data removed]",
      "text/plain": [
       "<Figure size 648x432 with 4 Axes>"
      ]
     },
     "metadata": {
      "needs_background": "light"
     },
     "output_type": "display_data"
    }
   ],
   "source": [
    "df_hist = df[['Fare', 'Age', 'Pclass', 'Survived']]\n",
    "\n",
    "fig, ax = plt.subplots(ncols=2, nrows=2, figsize=(9, 6))\n",
    "index=0\n",
    "ax = ax.flatten()\n",
    "\n",
    "for col, values in df_hist.items():\n",
    "    sns.distplot(values, ax=ax[index], kde=False)\n",
    "    index += 1\n",
    "plt.tight_layout()"
   ]
  },
  {
   "cell_type": "markdown",
   "id": "6bf90776-d82d-4e80-8c7d-399b1cd38d0d",
   "metadata": {},
   "source": [
    "### 2.2 Survivors by feature"
   ]
  },
  {
   "cell_type": "code",
   "execution_count": 9,
   "id": "46d647a1-a928-43c6-a7eb-c16908b5a957",
   "metadata": {},
   "outputs": [
    {
     "data": {
      "image/png": "[encoded data removed]",
      "text/plain": [
       "<Figure size 648x432 with 4 Axes>"
      ]
     },
     "metadata": {
      "needs_background": "light"
     },
     "output_type": "display_data"
    }
   ],
   "source": [
    "cols = ['Sex', 'Pclass', 'SibSp', 'Parch']\n",
    "nrows = 2\n",
    "ncols = 2\n",
    "\n",
    "fig, axs = plt.subplots(nrows, ncols, figsize = (9, 6))\n",
    "\n",
    "for r in range(0, nrows):\n",
    "    for c in range(0, ncols):\n",
    "        i = r*ncols + c # i goes through the columns\n",
    "        ax = axs[r][c] # positioning in subplots\n",
    "        sns.countplot(df[cols[i]], hue=df['Survived'], ax=ax)\n",
    "        ax.set_title(cols[i])\n",
    "        ax.legend(title='survived')\n",
    "plt.tight_layout()"
   ]
  },
  {
   "cell_type": "markdown",
   "id": "8a78e3df-5e44-43a8-b464-d749ab1653de",
   "metadata": {},
   "source": [
    "### 2.3 Percentage survived by sex"
   ]
  },
  {
   "cell_type": "code",
   "execution_count": 10,
   "id": "b19c3a06-cee1-4d78-8bef-ffaefbadcfa1",
   "metadata": {},
   "outputs": [
    {
     "data": {
      "text/plain": [
       "Text(0.5, 0, 'Percentage of Survivors')"
      ]
     },
     "execution_count": 10,
     "metadata": {},
     "output_type": "execute_result"
    },
    {
     "data": {
      "image/png": "[encoded data removed]",
      "text/plain": [
       "<Figure size 432x288 with 1 Axes>"
      ]
     },
     "metadata": {
      "needs_background": "light"
     },
     "output_type": "display_data"
    }
   ],
   "source": [
    "# Since we belive that 'Sex' is an important feature to analyse the label, we will look at percentage of survived by sex\n",
    "df_survived = df[df.Survived == 1]\n",
    "\n",
    "plt.title(\"Percentage of Survived by Sex\")\n",
    "numer = df_survived.Sex.value_counts().sort_index()\n",
    "denom = df.Sex.value_counts().sort_index()\n",
    "(numer/denom).plot(kind='barh', alpha=0.5)\n",
    "plt.xlabel(\"Percentage of Survivors\")"
   ]
  },
  {
   "cell_type": "markdown",
   "id": "9fe088ba-536e-4fc1-8912-ed68546af526",
   "metadata": {},
   "source": [
    "### 2.4 Percentage survived by Class"
   ]
  },
  {
   "cell_type": "code",
   "execution_count": 11,
   "id": "555f52af-5add-4179-8b48-f680f120ab44",
   "metadata": {},
   "outputs": [
    {
     "data": {
      "text/plain": [
       "Text(0.5, 0, 'Percentage of Survivors')"
      ]
     },
     "execution_count": 11,
     "metadata": {},
     "output_type": "execute_result"
    },
    {
     "data": {
      "image/png": "[encoded data removed]",
      "text/plain": [
       "<Figure size 864x432 with 1 Axes>"
      ]
     },
     "metadata": {
      "needs_background": "light"
     },
     "output_type": "display_data"
    }
   ],
   "source": [
    "# Since we belive that 'Pclass' is an important feature to analyse the label, we will look at percentage of survived by class\n",
    "plt.figure(figsize=(12, 6))\n",
    "plt.title(\"Percentage of Survived by Class\")\n",
    "numer2 = df_survived.Pclass.value_counts().sort_index()\n",
    "denom2 = df.Pclass.value_counts().sort_index()\n",
    "(numer2/denom2).plot(kind='barh', alpha=0.5)\n",
    "plt.ylabel(\"Class\")\n",
    "plt.xlabel(\"Percentage of Survivors\")"
   ]
  },
  {
   "cell_type": "code",
   "execution_count": 12,
   "id": "5d037f6a-ddd7-4ddd-8ca9-63415203d846",
   "metadata": {},
   "outputs": [],
   "source": [
    "# Conclusions: \n",
    "\n",
    "# We have a data frame with 891 samples, 11 features and 1 label\n",
    "# We can already spot problems with features 'Age', 'Cabin', 'Embarked'\n",
    "\n",
    "# Proportionally, women survived more than man\n",
    "# Porportionally, higher classes (1 being highest) survived more than lower classes (3 being lowest)"
   ]
  },
  {
   "cell_type": "markdown",
   "id": "c74f088f-606a-4211-a440-b90a40c6d273",
   "metadata": {},
   "source": [
    "# 3. Objective and methodology"
   ]
  },
  {
   "cell_type": "code",
   "execution_count": 13,
   "id": "c9705f4a-9298-441c-9a20-e88baa62ce18",
   "metadata": {},
   "outputs": [],
   "source": [
    "# Our aim is to predict the 'survived' column\n",
    "\n",
    "# We will approach this by:\n",
    "## (i) Handling categorical and other data\n",
    "## (ii) Looking for missing data and other issues\n",
    "## (iii) Visualising and looking for outliers in the data\n",
    "## (iv) Splitting the data into a 33%/67% train/split\n",
    "## (v) Using a logistic regression, KNN, decision tree and SVM model to see which performs best\n",
    "## (vi) Removing one feature at a time and seeing its effect"
   ]
  },
  {
   "cell_type": "markdown",
   "id": "10d1a3cd-38ba-40c4-8b5d-6a65fc0d3c09",
   "metadata": {},
   "source": [
    "# 4. Handle categorical and other data"
   ]
  },
  {
   "cell_type": "markdown",
   "id": "42e6254f-0642-4c30-afb1-ae92327f29f4",
   "metadata": {},
   "source": [
    "### 4.1 'Embarked' feature"
   ]
  },
  {
   "cell_type": "code",
   "execution_count": 14,
   "id": "24a2e053-f0fb-4650-8cad-7a067f3447ea",
   "metadata": {},
   "outputs": [
    {
     "data": {
      "text/plain": [
       "array(['S', 'C', 'Q', nan], dtype=object)"
      ]
     },
     "execution_count": 14,
     "metadata": {},
     "output_type": "execute_result"
    }
   ],
   "source": [
    "df['Embarked'].unique()"
   ]
  },
  {
   "cell_type": "code",
   "execution_count": 15,
   "id": "2b9312e1-e495-44da-a0e9-4db73745ccc7",
   "metadata": {},
   "outputs": [
    {
     "data": {
      "text/plain": [
       "S    644\n",
       "C    168\n",
       "Q     77\n",
       "Name: Embarked, dtype: int64"
      ]
     },
     "execution_count": 15,
     "metadata": {},
     "output_type": "execute_result"
    }
   ],
   "source": [
    "df['Embarked'].value_counts()"
   ]
  },
  {
   "cell_type": "code",
   "execution_count": 16,
   "id": "467bea11-8c45-4534-9e3e-dd4a4f9bef09",
   "metadata": {},
   "outputs": [
    {
     "data": {
      "text/html": [
       "<div>\n",
       "<style scoped>\n",
       "    .dataframe tbody tr th:only-of-type {\n",
       "        vertical-align: middle;\n",
       "    }\n",
       "\n",
       "    .dataframe tbody tr th {\n",
       "        vertical-align: top;\n",
       "    }\n",
       "\n",
       "    .dataframe thead th {\n",
       "        text-align: right;\n",
       "    }\n",
       "</style>\n",
       "<table border=\"1\" class=\"dataframe\">\n",
       "  <thead>\n",
       "    <tr style=\"text-align: right;\">\n",
       "      <th></th>\n",
       "      <th>PassengerId</th>\n",
       "      <th>Survived</th>\n",
       "      <th>Pclass</th>\n",
       "      <th>Name</th>\n",
       "      <th>Sex</th>\n",
       "      <th>Age</th>\n",
       "      <th>SibSp</th>\n",
       "      <th>Parch</th>\n",
       "      <th>Ticket</th>\n",
       "      <th>Fare</th>\n",
       "      <th>Cabin</th>\n",
       "      <th>EmbMap</th>\n",
       "    </tr>\n",
       "  </thead>\n",
       "  <tbody>\n",
       "    <tr>\n",
       "      <th>0</th>\n",
       "      <td>1</td>\n",
       "      <td>0</td>\n",
       "      <td>3</td>\n",
       "      <td>Braund, Mr. Owen Harris</td>\n",
       "      <td>male</td>\n",
       "      <td>22.0</td>\n",
       "      <td>1</td>\n",
       "      <td>0</td>\n",
       "      <td>A/5 21171</td>\n",
       "      <td>7.2500</td>\n",
       "      <td>NaN</td>\n",
       "      <td>1.0</td>\n",
       "    </tr>\n",
       "    <tr>\n",
       "      <th>1</th>\n",
       "      <td>2</td>\n",
       "      <td>1</td>\n",
       "      <td>1</td>\n",
       "      <td>Cumings, Mrs. John Bradley (Florence Briggs Th...</td>\n",
       "      <td>female</td>\n",
       "      <td>38.0</td>\n",
       "      <td>1</td>\n",
       "      <td>0</td>\n",
       "      <td>PC 17599</td>\n",
       "      <td>71.2833</td>\n",
       "      <td>C85</td>\n",
       "      <td>2.0</td>\n",
       "    </tr>\n",
       "    <tr>\n",
       "      <th>2</th>\n",
       "      <td>3</td>\n",
       "      <td>1</td>\n",
       "      <td>3</td>\n",
       "      <td>Heikkinen, Miss. Laina</td>\n",
       "      <td>female</td>\n",
       "      <td>26.0</td>\n",
       "      <td>0</td>\n",
       "      <td>0</td>\n",
       "      <td>STON/O2. 3101282</td>\n",
       "      <td>7.9250</td>\n",
       "      <td>NaN</td>\n",
       "      <td>1.0</td>\n",
       "    </tr>\n",
       "    <tr>\n",
       "      <th>3</th>\n",
       "      <td>4</td>\n",
       "      <td>1</td>\n",
       "      <td>1</td>\n",
       "      <td>Futrelle, Mrs. Jacques Heath (Lily May Peel)</td>\n",
       "      <td>female</td>\n",
       "      <td>35.0</td>\n",
       "      <td>1</td>\n",
       "      <td>0</td>\n",
       "      <td>113803</td>\n",
       "      <td>53.1000</td>\n",
       "      <td>C123</td>\n",
       "      <td>1.0</td>\n",
       "    </tr>\n",
       "    <tr>\n",
       "      <th>4</th>\n",
       "      <td>5</td>\n",
       "      <td>0</td>\n",
       "      <td>3</td>\n",
       "      <td>Allen, Mr. William Henry</td>\n",
       "      <td>male</td>\n",
       "      <td>35.0</td>\n",
       "      <td>0</td>\n",
       "      <td>0</td>\n",
       "      <td>373450</td>\n",
       "      <td>8.0500</td>\n",
       "      <td>NaN</td>\n",
       "      <td>1.0</td>\n",
       "    </tr>\n",
       "  </tbody>\n",
       "</table>\n",
       "</div>"
      ],
      "text/plain": [
       "   PassengerId  Survived  Pclass  \\\n",
       "0            1         0       3   \n",
       "1            2         1       1   \n",
       "2            3         1       3   \n",
       "3            4         1       1   \n",
       "4            5         0       3   \n",
       "\n",
       "                                                Name     Sex   Age  SibSp  \\\n",
       "0                            Braund, Mr. Owen Harris    male  22.0      1   \n",
       "1  Cumings, Mrs. John Bradley (Florence Briggs Th...  female  38.0      1   \n",
       "2                             Heikkinen, Miss. Laina  female  26.0      0   \n",
       "3       Futrelle, Mrs. Jacques Heath (Lily May Peel)  female  35.0      1   \n",
       "4                           Allen, Mr. William Henry    male  35.0      0   \n",
       "\n",
       "   Parch            Ticket     Fare Cabin  EmbMap  \n",
       "0      0         A/5 21171   7.2500   NaN     1.0  \n",
       "1      0          PC 17599  71.2833   C85     2.0  \n",
       "2      0  STON/O2. 3101282   7.9250   NaN     1.0  \n",
       "3      0            113803  53.1000  C123     1.0  \n",
       "4      0            373450   8.0500   NaN     1.0  "
      ]
     },
     "execution_count": 16,
     "metadata": {},
     "output_type": "execute_result"
    }
   ],
   "source": [
    "emb_mapping = {'S':1, 'C':2, 'Q':3}\n",
    "df['EmbMap'] = df.Embarked.map(emb_mapping)\n",
    "df.drop('Embarked', axis=1, inplace=True)\n",
    "\n",
    "df.head()"
   ]
  },
  {
   "cell_type": "markdown",
   "id": "58eb6d5a-4ebc-4b85-bbff-663e7197ad72",
   "metadata": {},
   "source": [
    "### 4.2 'Sex' Feature"
   ]
  },
  {
   "cell_type": "code",
   "execution_count": 17,
   "id": "464ecd23-d71c-4d7d-b344-2d63587d7bf2",
   "metadata": {},
   "outputs": [
    {
     "data": {
      "text/html": [
       "<div>\n",
       "<style scoped>\n",
       "    .dataframe tbody tr th:only-of-type {\n",
       "        vertical-align: middle;\n",
       "    }\n",
       "\n",
       "    .dataframe tbody tr th {\n",
       "        vertical-align: top;\n",
       "    }\n",
       "\n",
       "    .dataframe thead th {\n",
       "        text-align: right;\n",
       "    }\n",
       "</style>\n",
       "<table border=\"1\" class=\"dataframe\">\n",
       "  <thead>\n",
       "    <tr style=\"text-align: right;\">\n",
       "      <th></th>\n",
       "      <th>PassengerId</th>\n",
       "      <th>Survived</th>\n",
       "      <th>Pclass</th>\n",
       "      <th>Name</th>\n",
       "      <th>Age</th>\n",
       "      <th>SibSp</th>\n",
       "      <th>Parch</th>\n",
       "      <th>Ticket</th>\n",
       "      <th>Fare</th>\n",
       "      <th>Cabin</th>\n",
       "      <th>EmbMap</th>\n",
       "      <th>SexMap</th>\n",
       "    </tr>\n",
       "  </thead>\n",
       "  <tbody>\n",
       "    <tr>\n",
       "      <th>0</th>\n",
       "      <td>1</td>\n",
       "      <td>0</td>\n",
       "      <td>3</td>\n",
       "      <td>Braund, Mr. Owen Harris</td>\n",
       "      <td>22.0</td>\n",
       "      <td>1</td>\n",
       "      <td>0</td>\n",
       "      <td>A/5 21171</td>\n",
       "      <td>7.2500</td>\n",
       "      <td>NaN</td>\n",
       "      <td>1.0</td>\n",
       "      <td>0</td>\n",
       "    </tr>\n",
       "    <tr>\n",
       "      <th>1</th>\n",
       "      <td>2</td>\n",
       "      <td>1</td>\n",
       "      <td>1</td>\n",
       "      <td>Cumings, Mrs. John Bradley (Florence Briggs Th...</td>\n",
       "      <td>38.0</td>\n",
       "      <td>1</td>\n",
       "      <td>0</td>\n",
       "      <td>PC 17599</td>\n",
       "      <td>71.2833</td>\n",
       "      <td>C85</td>\n",
       "      <td>2.0</td>\n",
       "      <td>1</td>\n",
       "    </tr>\n",
       "    <tr>\n",
       "      <th>2</th>\n",
       "      <td>3</td>\n",
       "      <td>1</td>\n",
       "      <td>3</td>\n",
       "      <td>Heikkinen, Miss. Laina</td>\n",
       "      <td>26.0</td>\n",
       "      <td>0</td>\n",
       "      <td>0</td>\n",
       "      <td>STON/O2. 3101282</td>\n",
       "      <td>7.9250</td>\n",
       "      <td>NaN</td>\n",
       "      <td>1.0</td>\n",
       "      <td>1</td>\n",
       "    </tr>\n",
       "    <tr>\n",
       "      <th>3</th>\n",
       "      <td>4</td>\n",
       "      <td>1</td>\n",
       "      <td>1</td>\n",
       "      <td>Futrelle, Mrs. Jacques Heath (Lily May Peel)</td>\n",
       "      <td>35.0</td>\n",
       "      <td>1</td>\n",
       "      <td>0</td>\n",
       "      <td>113803</td>\n",
       "      <td>53.1000</td>\n",
       "      <td>C123</td>\n",
       "      <td>1.0</td>\n",
       "      <td>1</td>\n",
       "    </tr>\n",
       "    <tr>\n",
       "      <th>4</th>\n",
       "      <td>5</td>\n",
       "      <td>0</td>\n",
       "      <td>3</td>\n",
       "      <td>Allen, Mr. William Henry</td>\n",
       "      <td>35.0</td>\n",
       "      <td>0</td>\n",
       "      <td>0</td>\n",
       "      <td>373450</td>\n",
       "      <td>8.0500</td>\n",
       "      <td>NaN</td>\n",
       "      <td>1.0</td>\n",
       "      <td>0</td>\n",
       "    </tr>\n",
       "  </tbody>\n",
       "</table>\n",
       "</div>"
      ],
      "text/plain": [
       "   PassengerId  Survived  Pclass  \\\n",
       "0            1         0       3   \n",
       "1            2         1       1   \n",
       "2            3         1       3   \n",
       "3            4         1       1   \n",
       "4            5         0       3   \n",
       "\n",
       "                                                Name   Age  SibSp  Parch  \\\n",
       "0                            Braund, Mr. Owen Harris  22.0      1      0   \n",
       "1  Cumings, Mrs. John Bradley (Florence Briggs Th...  38.0      1      0   \n",
       "2                             Heikkinen, Miss. Laina  26.0      0      0   \n",
       "3       Futrelle, Mrs. Jacques Heath (Lily May Peel)  35.0      1      0   \n",
       "4                           Allen, Mr. William Henry  35.0      0      0   \n",
       "\n",
       "             Ticket     Fare Cabin  EmbMap  SexMap  \n",
       "0         A/5 21171   7.2500   NaN     1.0       0  \n",
       "1          PC 17599  71.2833   C85     2.0       1  \n",
       "2  STON/O2. 3101282   7.9250   NaN     1.0       1  \n",
       "3            113803  53.1000  C123     1.0       1  \n",
       "4            373450   8.0500   NaN     1.0       0  "
      ]
     },
     "execution_count": 17,
     "metadata": {},
     "output_type": "execute_result"
    }
   ],
   "source": [
    "sex_mapping = {'male':0, 'female':1}\n",
    "df['SexMap'] = df.Sex.map(sex_mapping)\n",
    "df.drop('Sex', axis=1, inplace=True)\n",
    "\n",
    "df.head()"
   ]
  },
  {
   "cell_type": "markdown",
   "id": "c7317682-dea5-4fa3-bdd6-125704b085d0",
   "metadata": {},
   "source": [
    "# 5. Look for missing data and other issues"
   ]
  },
  {
   "cell_type": "markdown",
   "id": "d6369b1d-4a78-475f-833d-20c7bf0c6353",
   "metadata": {},
   "source": [
    "### 5.1 Missing data in 'Cabin'"
   ]
  },
  {
   "cell_type": "code",
   "execution_count": 18,
   "id": "83302add-ba7e-4265-b439-2c8103fd7208",
   "metadata": {},
   "outputs": [
    {
     "data": {
      "text/html": [
       "<div>\n",
       "<style scoped>\n",
       "    .dataframe tbody tr th:only-of-type {\n",
       "        vertical-align: middle;\n",
       "    }\n",
       "\n",
       "    .dataframe tbody tr th {\n",
       "        vertical-align: top;\n",
       "    }\n",
       "\n",
       "    .dataframe thead th {\n",
       "        text-align: right;\n",
       "    }\n",
       "</style>\n",
       "<table border=\"1\" class=\"dataframe\">\n",
       "  <thead>\n",
       "    <tr style=\"text-align: right;\">\n",
       "      <th></th>\n",
       "      <th>PassengerId</th>\n",
       "      <th>Survived</th>\n",
       "      <th>Pclass</th>\n",
       "      <th>Name</th>\n",
       "      <th>Age</th>\n",
       "      <th>SibSp</th>\n",
       "      <th>Parch</th>\n",
       "      <th>Ticket</th>\n",
       "      <th>Fare</th>\n",
       "      <th>EmbMap</th>\n",
       "      <th>SexMap</th>\n",
       "    </tr>\n",
       "  </thead>\n",
       "  <tbody>\n",
       "    <tr>\n",
       "      <th>0</th>\n",
       "      <td>1</td>\n",
       "      <td>0</td>\n",
       "      <td>3</td>\n",
       "      <td>Braund, Mr. Owen Harris</td>\n",
       "      <td>22.0</td>\n",
       "      <td>1</td>\n",
       "      <td>0</td>\n",
       "      <td>A/5 21171</td>\n",
       "      <td>7.2500</td>\n",
       "      <td>1.0</td>\n",
       "      <td>0</td>\n",
       "    </tr>\n",
       "    <tr>\n",
       "      <th>1</th>\n",
       "      <td>2</td>\n",
       "      <td>1</td>\n",
       "      <td>1</td>\n",
       "      <td>Cumings, Mrs. John Bradley (Florence Briggs Th...</td>\n",
       "      <td>38.0</td>\n",
       "      <td>1</td>\n",
       "      <td>0</td>\n",
       "      <td>PC 17599</td>\n",
       "      <td>71.2833</td>\n",
       "      <td>2.0</td>\n",
       "      <td>1</td>\n",
       "    </tr>\n",
       "    <tr>\n",
       "      <th>2</th>\n",
       "      <td>3</td>\n",
       "      <td>1</td>\n",
       "      <td>3</td>\n",
       "      <td>Heikkinen, Miss. Laina</td>\n",
       "      <td>26.0</td>\n",
       "      <td>0</td>\n",
       "      <td>0</td>\n",
       "      <td>STON/O2. 3101282</td>\n",
       "      <td>7.9250</td>\n",
       "      <td>1.0</td>\n",
       "      <td>1</td>\n",
       "    </tr>\n",
       "    <tr>\n",
       "      <th>3</th>\n",
       "      <td>4</td>\n",
       "      <td>1</td>\n",
       "      <td>1</td>\n",
       "      <td>Futrelle, Mrs. Jacques Heath (Lily May Peel)</td>\n",
       "      <td>35.0</td>\n",
       "      <td>1</td>\n",
       "      <td>0</td>\n",
       "      <td>113803</td>\n",
       "      <td>53.1000</td>\n",
       "      <td>1.0</td>\n",
       "      <td>1</td>\n",
       "    </tr>\n",
       "    <tr>\n",
       "      <th>4</th>\n",
       "      <td>5</td>\n",
       "      <td>0</td>\n",
       "      <td>3</td>\n",
       "      <td>Allen, Mr. William Henry</td>\n",
       "      <td>35.0</td>\n",
       "      <td>0</td>\n",
       "      <td>0</td>\n",
       "      <td>373450</td>\n",
       "      <td>8.0500</td>\n",
       "      <td>1.0</td>\n",
       "      <td>0</td>\n",
       "    </tr>\n",
       "  </tbody>\n",
       "</table>\n",
       "</div>"
      ],
      "text/plain": [
       "   PassengerId  Survived  Pclass  \\\n",
       "0            1         0       3   \n",
       "1            2         1       1   \n",
       "2            3         1       3   \n",
       "3            4         1       1   \n",
       "4            5         0       3   \n",
       "\n",
       "                                                Name   Age  SibSp  Parch  \\\n",
       "0                            Braund, Mr. Owen Harris  22.0      1      0   \n",
       "1  Cumings, Mrs. John Bradley (Florence Briggs Th...  38.0      1      0   \n",
       "2                             Heikkinen, Miss. Laina  26.0      0      0   \n",
       "3       Futrelle, Mrs. Jacques Heath (Lily May Peel)  35.0      1      0   \n",
       "4                           Allen, Mr. William Henry  35.0      0      0   \n",
       "\n",
       "             Ticket     Fare  EmbMap  SexMap  \n",
       "0         A/5 21171   7.2500     1.0       0  \n",
       "1          PC 17599  71.2833     2.0       1  \n",
       "2  STON/O2. 3101282   7.9250     1.0       1  \n",
       "3            113803  53.1000     1.0       1  \n",
       "4            373450   8.0500     1.0       0  "
      ]
     },
     "execution_count": 18,
     "metadata": {},
     "output_type": "execute_result"
    }
   ],
   "source": [
    "# The feature cabin seems to replicate the info in Pclass, given that only higher class passengers have cabins\n",
    "# Therefore, we are dropping this feature\n",
    "\n",
    "df.drop('Cabin', axis=1, inplace=True)\n",
    "\n",
    "df.head()"
   ]
  },
  {
   "cell_type": "markdown",
   "id": "7bcd7556-d2ac-42ff-be07-6deaf209348b",
   "metadata": {},
   "source": [
    "### 5.2 Missing data in 'Age'"
   ]
  },
  {
   "cell_type": "code",
   "execution_count": 19,
   "id": "c760c00a-e929-4165-adda-9545d96882c1",
   "metadata": {},
   "outputs": [
    {
     "name": "stdout",
     "output_type": "stream",
     "text": [
      "<class 'pandas.core.frame.DataFrame'>\n",
      "RangeIndex: 891 entries, 0 to 890\n",
      "Data columns (total 11 columns):\n",
      " #   Column       Non-Null Count  Dtype  \n",
      "---  ------       --------------  -----  \n",
      " 0   PassengerId  891 non-null    int64  \n",
      " 1   Survived     891 non-null    int64  \n",
      " 2   Pclass       891 non-null    int64  \n",
      " 3   Name         891 non-null    object \n",
      " 4   Age          714 non-null    float64\n",
      " 5   SibSp        891 non-null    int64  \n",
      " 6   Parch        891 non-null    int64  \n",
      " 7   Ticket       891 non-null    object \n",
      " 8   Fare         891 non-null    float64\n",
      " 9   EmbMap       889 non-null    float64\n",
      " 10  SexMap       891 non-null    int64  \n",
      "dtypes: float64(3), int64(6), object(2)\n",
      "memory usage: 76.7+ KB\n"
     ]
    }
   ],
   "source": [
    "df.info()"
   ]
  },
  {
   "cell_type": "code",
   "execution_count": 20,
   "id": "f159ad86-1469-4beb-8a13-92ba28283b57",
   "metadata": {},
   "outputs": [
    {
     "data": {
      "text/plain": [
       "29.69911764705882"
      ]
     },
     "execution_count": 20,
     "metadata": {},
     "output_type": "execute_result"
    }
   ],
   "source": [
    "# We will fill the na data in Age with the average age\n",
    "\n",
    "averageAge = df['Age'].mean()\n",
    "averageAge"
   ]
  },
  {
   "cell_type": "code",
   "execution_count": 21,
   "id": "24c91eb8-a55c-46f0-81a1-267c74566634",
   "metadata": {},
   "outputs": [
    {
     "data": {
      "text/plain": [
       "28.343689655172415"
      ]
     },
     "execution_count": 21,
     "metadata": {},
     "output_type": "execute_result"
    }
   ],
   "source": [
    "# Checking the average age of survivors to see if there is any significant difference\n",
    "\n",
    "df_survived['Age'].mean()"
   ]
  },
  {
   "cell_type": "code",
   "execution_count": 22,
   "id": "f7932dc5-6099-47ee-91ac-c42aa9064264",
   "metadata": {},
   "outputs": [
    {
     "name": "stdout",
     "output_type": "stream",
     "text": [
      "<class 'pandas.core.frame.DataFrame'>\n",
      "RangeIndex: 891 entries, 0 to 890\n",
      "Data columns (total 11 columns):\n",
      " #   Column       Non-Null Count  Dtype  \n",
      "---  ------       --------------  -----  \n",
      " 0   PassengerId  891 non-null    int64  \n",
      " 1   Survived     891 non-null    int64  \n",
      " 2   Pclass       891 non-null    int64  \n",
      " 3   Name         891 non-null    object \n",
      " 4   Age          891 non-null    float64\n",
      " 5   SibSp        891 non-null    int64  \n",
      " 6   Parch        891 non-null    int64  \n",
      " 7   Ticket       891 non-null    object \n",
      " 8   Fare         891 non-null    float64\n",
      " 9   EmbMap       889 non-null    float64\n",
      " 10  SexMap       891 non-null    int64  \n",
      "dtypes: float64(3), int64(6), object(2)\n",
      "memory usage: 76.7+ KB\n"
     ]
    }
   ],
   "source": [
    "# There is no significant difference, so we assign the mean to the missing data using .fillna\n",
    "\n",
    "df['Age'] = df['Age'].fillna(averageAge)\n",
    "\n",
    "df.info()"
   ]
  },
  {
   "cell_type": "markdown",
   "id": "62a9ad58-5447-4ce6-b767-54ba6a04dcb6",
   "metadata": {},
   "source": [
    "### 5.3 Missing data in EmbMap"
   ]
  },
  {
   "cell_type": "code",
   "execution_count": 23,
   "id": "fb20d982-3994-4ea4-aec5-5912cc07e995",
   "metadata": {},
   "outputs": [
    {
     "name": "stdout",
     "output_type": "stream",
     "text": [
      "<class 'pandas.core.frame.DataFrame'>\n",
      "Int64Index: 889 entries, 0 to 890\n",
      "Data columns (total 11 columns):\n",
      " #   Column       Non-Null Count  Dtype  \n",
      "---  ------       --------------  -----  \n",
      " 0   PassengerId  889 non-null    int64  \n",
      " 1   Survived     889 non-null    int64  \n",
      " 2   Pclass       889 non-null    int64  \n",
      " 3   Name         889 non-null    object \n",
      " 4   Age          889 non-null    float64\n",
      " 5   SibSp        889 non-null    int64  \n",
      " 6   Parch        889 non-null    int64  \n",
      " 7   Ticket       889 non-null    object \n",
      " 8   Fare         889 non-null    float64\n",
      " 9   EmbMap       889 non-null    float64\n",
      " 10  SexMap       889 non-null    int64  \n",
      "dtypes: float64(3), int64(6), object(2)\n",
      "memory usage: 83.3+ KB\n"
     ]
    }
   ],
   "source": [
    "# We have 2 missing data in EmbMap.\n",
    "\n",
    "## Since it is only 2 samples, we can simply drop these rows from df\n",
    "\n",
    "df = df.dropna()\n",
    "\n",
    "df.info()"
   ]
  },
  {
   "cell_type": "markdown",
   "id": "fdbadd58-7a4f-4bac-9b7d-56020c9294c2",
   "metadata": {},
   "source": [
    "### 5.4 Standarizing the 'Age' and 'Fare' feature"
   ]
  },
  {
   "cell_type": "code",
   "execution_count": 24,
   "id": "60609fd6-8828-40d1-8e20-ab10f3d64ea6",
   "metadata": {},
   "outputs": [
    {
     "data": {
      "text/plain": [
       "numpy.ndarray"
      ]
     },
     "execution_count": 24,
     "metadata": {},
     "output_type": "execute_result"
    }
   ],
   "source": [
    "type(df.Age.values)"
   ]
  },
  {
   "cell_type": "code",
   "execution_count": 25,
   "id": "c430463d-69e8-42c1-a9fe-118c237256b7",
   "metadata": {},
   "outputs": [
    {
     "data": {
      "text/plain": [
       "(889,)"
      ]
     },
     "execution_count": 25,
     "metadata": {},
     "output_type": "execute_result"
    }
   ],
   "source": [
    "df.Age.values.shape"
   ]
  },
  {
   "cell_type": "code",
   "execution_count": 26,
   "id": "c6ece5b9-7778-4ca6-9782-ced541a42e88",
   "metadata": {},
   "outputs": [
    {
     "data": {
      "text/plain": [
       "<AxesSubplot:>"
      ]
     },
     "execution_count": 26,
     "metadata": {},
     "output_type": "execute_result"
    },
    {
     "data": {
      "image/png": "[encoded data removed]",
      "text/plain": [
       "<Figure size 432x288 with 1 Axes>"
      ]
     },
     "metadata": {
      "needs_background": "light"
     },
     "output_type": "display_data"
    }
   ],
   "source": [
    "from sklearn.preprocessing import StandardScaler\n",
    "df['AgeSD'] = StandardScaler().fit_transform(df.Age.values.reshape(-1,1))\n",
    "df.drop('Age', axis=1, inplace=True)\n",
    "\n",
    "df.AgeSD.hist()"
   ]
  },
  {
   "cell_type": "code",
   "execution_count": 27,
   "id": "8e14702a-64ad-46fc-8fe7-c41ef1f17f2c",
   "metadata": {},
   "outputs": [
    {
     "data": {
      "text/plain": [
       "numpy.ndarray"
      ]
     },
     "execution_count": 27,
     "metadata": {},
     "output_type": "execute_result"
    }
   ],
   "source": [
    "type(df.Fare.values)"
   ]
  },
  {
   "cell_type": "code",
   "execution_count": 28,
   "id": "ade578b5-3783-4968-970d-2d7ef55414f5",
   "metadata": {},
   "outputs": [
    {
     "data": {
      "text/plain": [
       "(889,)"
      ]
     },
     "execution_count": 28,
     "metadata": {},
     "output_type": "execute_result"
    }
   ],
   "source": [
    "df.Fare.values.shape"
   ]
  },
  {
   "cell_type": "code",
   "execution_count": 29,
   "id": "8117c6dd-d027-4297-bb45-44d14600e157",
   "metadata": {},
   "outputs": [
    {
     "data": {
      "text/plain": [
       "<AxesSubplot:>"
      ]
     },
     "execution_count": 29,
     "metadata": {},
     "output_type": "execute_result"
    },
    {
     "data": {
      "image/png": "[encoded data removed]",
      "text/plain": [
       "<Figure size 432x288 with 1 Axes>"
      ]
     },
     "metadata": {
      "needs_background": "light"
     },
     "output_type": "display_data"
    }
   ],
   "source": [
    "from sklearn.preprocessing import StandardScaler\n",
    "df['FareSD'] = StandardScaler().fit_transform(df.Fare.values.reshape(-1,1))\n",
    "df.drop('Fare', axis=1, inplace=True)\n",
    "\n",
    "df.FareSD.hist()"
   ]
  },
  {
   "cell_type": "markdown",
   "id": "99fad393-7ad0-4537-9ef1-bb5026037775",
   "metadata": {},
   "source": [
    "### 5.5 Removing other redundant features"
   ]
  },
  {
   "cell_type": "code",
   "execution_count": 30,
   "id": "65827bec-87b9-45a7-8a67-c5649161604b",
   "metadata": {},
   "outputs": [],
   "source": [
    "# We will drop the 'Name', 'PassengerId' and 'Ticket' for they will not help in our analysis"
   ]
  },
  {
   "cell_type": "code",
   "execution_count": 31,
   "id": "0f3746d3-26a9-4ca3-96a9-b998860966b7",
   "metadata": {},
   "outputs": [],
   "source": [
    "df.drop(['Name'], axis=1, inplace=True)\n",
    "df.drop(['PassengerId'], axis=1, inplace=True)\n",
    "df.drop(['Ticket'], axis=1, inplace=True)"
   ]
  },
  {
   "cell_type": "markdown",
   "id": "072edb05-2b93-40d0-8fcb-3220f28236a6",
   "metadata": {},
   "source": [
    "# 6. Visualise the data and look for outliers to remove"
   ]
  },
  {
   "cell_type": "code",
   "execution_count": 32,
   "id": "6b961950-58cf-4f44-b14d-a1305e1f34a0",
   "metadata": {},
   "outputs": [
    {
     "data": {
      "text/html": [
       "<div>\n",
       "<style scoped>\n",
       "    .dataframe tbody tr th:only-of-type {\n",
       "        vertical-align: middle;\n",
       "    }\n",
       "\n",
       "    .dataframe tbody tr th {\n",
       "        vertical-align: top;\n",
       "    }\n",
       "\n",
       "    .dataframe thead th {\n",
       "        text-align: right;\n",
       "    }\n",
       "</style>\n",
       "<table border=\"1\" class=\"dataframe\">\n",
       "  <thead>\n",
       "    <tr style=\"text-align: right;\">\n",
       "      <th></th>\n",
       "      <th>Survived</th>\n",
       "      <th>Pclass</th>\n",
       "      <th>SibSp</th>\n",
       "      <th>Parch</th>\n",
       "      <th>EmbMap</th>\n",
       "      <th>SexMap</th>\n",
       "      <th>AgeSD</th>\n",
       "      <th>FareSD</th>\n",
       "    </tr>\n",
       "  </thead>\n",
       "  <tbody>\n",
       "    <tr>\n",
       "      <th>0</th>\n",
       "      <td>0</td>\n",
       "      <td>3</td>\n",
       "      <td>1</td>\n",
       "      <td>0</td>\n",
       "      <td>1.0</td>\n",
       "      <td>0</td>\n",
       "      <td>-0.590495</td>\n",
       "      <td>-0.500240</td>\n",
       "    </tr>\n",
       "    <tr>\n",
       "      <th>1</th>\n",
       "      <td>1</td>\n",
       "      <td>1</td>\n",
       "      <td>1</td>\n",
       "      <td>0</td>\n",
       "      <td>2.0</td>\n",
       "      <td>1</td>\n",
       "      <td>0.643971</td>\n",
       "      <td>0.788947</td>\n",
       "    </tr>\n",
       "    <tr>\n",
       "      <th>2</th>\n",
       "      <td>1</td>\n",
       "      <td>3</td>\n",
       "      <td>0</td>\n",
       "      <td>0</td>\n",
       "      <td>1.0</td>\n",
       "      <td>1</td>\n",
       "      <td>-0.281878</td>\n",
       "      <td>-0.486650</td>\n",
       "    </tr>\n",
       "    <tr>\n",
       "      <th>3</th>\n",
       "      <td>1</td>\n",
       "      <td>1</td>\n",
       "      <td>1</td>\n",
       "      <td>0</td>\n",
       "      <td>1.0</td>\n",
       "      <td>1</td>\n",
       "      <td>0.412509</td>\n",
       "      <td>0.422861</td>\n",
       "    </tr>\n",
       "    <tr>\n",
       "      <th>4</th>\n",
       "      <td>0</td>\n",
       "      <td>3</td>\n",
       "      <td>0</td>\n",
       "      <td>0</td>\n",
       "      <td>1.0</td>\n",
       "      <td>0</td>\n",
       "      <td>0.412509</td>\n",
       "      <td>-0.484133</td>\n",
       "    </tr>\n",
       "    <tr>\n",
       "      <th>...</th>\n",
       "      <td>...</td>\n",
       "      <td>...</td>\n",
       "      <td>...</td>\n",
       "      <td>...</td>\n",
       "      <td>...</td>\n",
       "      <td>...</td>\n",
       "      <td>...</td>\n",
       "      <td>...</td>\n",
       "    </tr>\n",
       "    <tr>\n",
       "      <th>886</th>\n",
       "      <td>0</td>\n",
       "      <td>2</td>\n",
       "      <td>0</td>\n",
       "      <td>0</td>\n",
       "      <td>1.0</td>\n",
       "      <td>0</td>\n",
       "      <td>-0.204724</td>\n",
       "      <td>-0.384475</td>\n",
       "    </tr>\n",
       "    <tr>\n",
       "      <th>887</th>\n",
       "      <td>1</td>\n",
       "      <td>1</td>\n",
       "      <td>0</td>\n",
       "      <td>0</td>\n",
       "      <td>1.0</td>\n",
       "      <td>1</td>\n",
       "      <td>-0.821957</td>\n",
       "      <td>-0.042213</td>\n",
       "    </tr>\n",
       "    <tr>\n",
       "      <th>888</th>\n",
       "      <td>0</td>\n",
       "      <td>3</td>\n",
       "      <td>1</td>\n",
       "      <td>2</td>\n",
       "      <td>1.0</td>\n",
       "      <td>1</td>\n",
       "      <td>0.003524</td>\n",
       "      <td>-0.174084</td>\n",
       "    </tr>\n",
       "    <tr>\n",
       "      <th>889</th>\n",
       "      <td>1</td>\n",
       "      <td>1</td>\n",
       "      <td>0</td>\n",
       "      <td>0</td>\n",
       "      <td>2.0</td>\n",
       "      <td>0</td>\n",
       "      <td>-0.281878</td>\n",
       "      <td>-0.042213</td>\n",
       "    </tr>\n",
       "    <tr>\n",
       "      <th>890</th>\n",
       "      <td>0</td>\n",
       "      <td>3</td>\n",
       "      <td>0</td>\n",
       "      <td>0</td>\n",
       "      <td>3.0</td>\n",
       "      <td>0</td>\n",
       "      <td>0.181046</td>\n",
       "      <td>-0.490173</td>\n",
       "    </tr>\n",
       "  </tbody>\n",
       "</table>\n",
       "<p>889 rows × 8 columns</p>\n",
       "</div>"
      ],
      "text/plain": [
       "     Survived  Pclass  SibSp  Parch  EmbMap  SexMap     AgeSD    FareSD\n",
       "0           0       3      1      0     1.0       0 -0.590495 -0.500240\n",
       "1           1       1      1      0     2.0       1  0.643971  0.788947\n",
       "2           1       3      0      0     1.0       1 -0.281878 -0.486650\n",
       "3           1       1      1      0     1.0       1  0.412509  0.422861\n",
       "4           0       3      0      0     1.0       0  0.412509 -0.484133\n",
       "..        ...     ...    ...    ...     ...     ...       ...       ...\n",
       "886         0       2      0      0     1.0       0 -0.204724 -0.384475\n",
       "887         1       1      0      0     1.0       1 -0.821957 -0.042213\n",
       "888         0       3      1      2     1.0       1  0.003524 -0.174084\n",
       "889         1       1      0      0     2.0       0 -0.281878 -0.042213\n",
       "890         0       3      0      0     3.0       0  0.181046 -0.490173\n",
       "\n",
       "[889 rows x 8 columns]"
      ]
     },
     "execution_count": 32,
     "metadata": {},
     "output_type": "execute_result"
    }
   ],
   "source": [
    "df"
   ]
  },
  {
   "cell_type": "code",
   "execution_count": 33,
   "id": "fe69bbe5-0aa1-4b57-9662-d912e25256bb",
   "metadata": {},
   "outputs": [],
   "source": [
    "# Reordering columns for organization\n",
    "\n",
    "df = df[['FareSD', 'Pclass', 'SibSp', 'Parch', 'EmbMap', 'SexMap', 'AgeSD', 'Survived']]"
   ]
  },
  {
   "cell_type": "code",
   "execution_count": 34,
   "id": "7a50c36c-7645-40e0-b107-345b6c4385c9",
   "metadata": {},
   "outputs": [
    {
     "data": {
      "text/plain": [
       "<AxesSubplot:>"
      ]
     },
     "execution_count": 34,
     "metadata": {},
     "output_type": "execute_result"
    },
    {
     "data": {
      "image/png": "[encoded data removed]",
      "text/plain": [
       "<Figure size 1440x720 with 2 Axes>"
      ]
     },
     "metadata": {
      "needs_background": "light"
     },
     "output_type": "display_data"
    }
   ],
   "source": [
    "## Plot a correlation matrix to see the correlations between (i) features x label and (ii) features x features\n",
    "\n",
    "corr = df.corr()\n",
    "plt.figure(figsize=(20,10))\n",
    "sns.heatmap(corr, annot=True, cmap='coolwarm')"
   ]
  },
  {
   "cell_type": "code",
   "execution_count": 35,
   "id": "a98b256a-545f-43e3-85cf-3d50149ed5f0",
   "metadata": {},
   "outputs": [],
   "source": [
    "# Brief analysis of correlation matrix:\n",
    "\n",
    "## As we can observe, 'SexMap' and 'Pclass' are the most relevant features to determine who survived\n",
    "## Note that 'FareSD' also has a relatively high correlation with the label, but it also has a high correlation with 'Pclass'\n",
    "### which indicates that part of the information provived by these features are duplicated\n",
    "## We will maintain both for now and see how things go in step 9"
   ]
  },
  {
   "cell_type": "markdown",
   "id": "cc66f289-5023-4ab4-81a8-4a315305f56e",
   "metadata": {},
   "source": [
    "# 7. Regression model and train/test split"
   ]
  },
  {
   "cell_type": "markdown",
   "id": "72c637e7-aa2f-4fab-9253-f21b021b7118",
   "metadata": {},
   "source": [
    "### 7.1 Creating matrix X and vector y"
   ]
  },
  {
   "cell_type": "code",
   "execution_count": 36,
   "id": "9461bbbb-9adc-4f5d-b0b9-2c4cfb770797",
   "metadata": {},
   "outputs": [
    {
     "name": "stdout",
     "output_type": "stream",
     "text": [
      "<class 'pandas.core.frame.DataFrame'>\n",
      "Int64Index: 889 entries, 0 to 890\n",
      "Data columns (total 7 columns):\n",
      " #   Column  Non-Null Count  Dtype  \n",
      "---  ------  --------------  -----  \n",
      " 0   FareSD  889 non-null    float64\n",
      " 1   Pclass  889 non-null    int64  \n",
      " 2   SibSp   889 non-null    int64  \n",
      " 3   Parch   889 non-null    int64  \n",
      " 4   EmbMap  889 non-null    float64\n",
      " 5   SexMap  889 non-null    int64  \n",
      " 6   AgeSD   889 non-null    float64\n",
      "dtypes: float64(3), int64(4)\n",
      "memory usage: 55.6 KB\n"
     ]
    }
   ],
   "source": [
    "X = df[['FareSD', 'Pclass', 'SibSp', 'Parch', 'EmbMap', 'SexMap', 'AgeSD']]\n",
    "y = np.array(df['Survived'])\n",
    "\n",
    "X.info()"
   ]
  },
  {
   "cell_type": "code",
   "execution_count": 37,
   "id": "363c8d25-5bd7-424a-ba59-b5059bedf610",
   "metadata": {},
   "outputs": [
    {
     "data": {
      "text/plain": [
       "(889,)"
      ]
     },
     "execution_count": 37,
     "metadata": {},
     "output_type": "execute_result"
    }
   ],
   "source": [
    "y.shape"
   ]
  },
  {
   "cell_type": "markdown",
   "id": "b6d5592a-3de5-418a-8179-ba0e13a70f39",
   "metadata": {},
   "source": [
    "### 7.2 Usefull functions from HelpFunctions"
   ]
  },
  {
   "cell_type": "code",
   "execution_count": 38,
   "id": "73e65fc5-4b26-49fc-b901-ffe7ab02651f",
   "metadata": {},
   "outputs": [],
   "source": [
    "# We will use this function from 'HelpFunctions' to plot the confusion matrices\n",
    "from sklearn.metrics import plot_confusion_matrix\n",
    "\n",
    "def plot_cm(clf, X, y, labs):\n",
    "    \n",
    "    mpl.rcParams.update({'font.size': 16})\n",
    "    cm = plot_confusion_matrix(clf, X, y, display_labels=labs,cmap=mpl.cm.Blues);"
   ]
  },
  {
   "cell_type": "markdown",
   "id": "ae4c13ab-6aa5-4868-969d-e942ba762f92",
   "metadata": {},
   "source": [
    "### 7.3 Defining the 'train' function"
   ]
  },
  {
   "cell_type": "code",
   "execution_count": 39,
   "id": "a1003223-46ed-49c2-b205-17ff741a42b7",
   "metadata": {},
   "outputs": [],
   "source": [
    "from sklearn.model_selection import train_test_split\n",
    "from sklearn.metrics import accuracy_score\n",
    "from sklearn.metrics import precision_score\n",
    "from sklearn.metrics import recall_score\n",
    "from sklearn.metrics import f1_score\n",
    "\n",
    "def train(model, X, y):\n",
    "    X_train, X_test, y_train, y_test = train_test_split(X, y, test_size=0.33, random_state=999)\n",
    "    model.fit(X_train, y_train)\n",
    "    y_pred = model.predict(X_test)\n",
    "    \n",
    "    print('Model Report')\n",
    "    print('Accuracy: ', np.around(accuracy_score(y_test, y_pred),4))\n",
    "    print('Precision: ', np.around(precision_score(y_test, y_pred),4))\n",
    "    print('Recall: ', np.around(recall_score(y_test, y_pred),4))\n",
    "    print('f1: ', np.around(f1_score(y_test, y_pred),4))\n",
    "    plot_cm(model, X, y, labs=('Not Survived', 'Survived'))"
   ]
  },
  {
   "cell_type": "markdown",
   "id": "62a721a6-b1bd-48fc-a88e-8b51cde5dc5f",
   "metadata": {},
   "source": [
    "# 8. Choosing the best classification model"
   ]
  },
  {
   "cell_type": "markdown",
   "id": "0ea5e1c0-0bb9-4f21-a0e9-1a15e97d1012",
   "metadata": {},
   "source": [
    "### 8.1 Logistic Regression"
   ]
  },
  {
   "cell_type": "code",
   "execution_count": 40,
   "id": "a88a47c9-ad2f-4aad-ba9f-382012c45791",
   "metadata": {},
   "outputs": [
    {
     "name": "stdout",
     "output_type": "stream",
     "text": [
      "Model Report\n",
      "Accuracy:  0.7925\n",
      "Precision:  0.699\n",
      "Recall:  0.7059\n",
      "f1:  0.7024\n"
     ]
    },
    {
     "data": {
      "image/png": "[encoded data removed]",
      "text/plain": [
       "<Figure size 432x288 with 2 Axes>"
      ]
     },
     "metadata": {
      "needs_background": "light"
     },
     "output_type": "display_data"
    }
   ],
   "source": [
    "from sklearn.linear_model import LogisticRegression\n",
    "\n",
    "model = LogisticRegression(solver='liblinear')\n",
    "train(model, X, y)"
   ]
  },
  {
   "cell_type": "markdown",
   "id": "59c05b58-9f84-496c-9d9a-b9059fd50683",
   "metadata": {},
   "source": [
    "### 8.2 KNN"
   ]
  },
  {
   "cell_type": "code",
   "execution_count": 41,
   "id": "cc5e064d-a78e-46ec-b03f-5fc063d933f0",
   "metadata": {},
   "outputs": [
    {
     "name": "stdout",
     "output_type": "stream",
     "text": [
      "Model Report\n",
      "Accuracy:  0.8027\n",
      "Precision:  0.7292\n",
      "Recall:  0.6863\n",
      "f1:  0.7071\n"
     ]
    },
    {
     "data": {
      "image/png": "[encoded data removed]",
      "text/plain": [
       "<Figure size 432x288 with 2 Axes>"
      ]
     },
     "metadata": {
      "needs_background": "light"
     },
     "output_type": "display_data"
    }
   ],
   "source": [
    "from sklearn.neighbors import KNeighborsClassifier\n",
    "\n",
    "k=9  # We tested odd k's from 3 to 31, 9 resulted in the best accuracy and precision metrics\n",
    "model = KNeighborsClassifier(k)\n",
    "train(model, X, y)"
   ]
  },
  {
   "cell_type": "markdown",
   "id": "ed00ac3f-1b92-4b38-97ae-e17234424a89",
   "metadata": {},
   "source": [
    "### 8.3 Decision Tree"
   ]
  },
  {
   "cell_type": "code",
   "execution_count": 42,
   "id": "aacb9475-8a77-4d5a-bcc1-a1ec07076f6f",
   "metadata": {},
   "outputs": [
    {
     "name": "stdout",
     "output_type": "stream",
     "text": [
      "Model Report\n",
      "Accuracy:  0.8231\n",
      "Precision:  0.7717\n",
      "Recall:  0.6961\n",
      "f1:  0.732\n"
     ]
    },
    {
     "data": {
      "image/png": "[encoded data removed]",
      "text/plain": [
       "<Figure size 432x288 with 2 Axes>"
      ]
     },
     "metadata": {
      "needs_background": "light"
     },
     "output_type": "display_data"
    }
   ],
   "source": [
    "from sklearn.tree import export_graphviz\n",
    "from sklearn.tree import DecisionTreeClassifier\n",
    "from os import system\n",
    "from graphviz import Source\n",
    "from IPython.display import SVG\n",
    "\n",
    "model = DecisionTreeClassifier(random_state=1, max_depth=3)\n",
    "train(model, X, y)"
   ]
  },
  {
   "cell_type": "code",
   "execution_count": 43,
   "id": "8cc27a95-b006-4d1b-b3d3-51d78e134c4c",
   "metadata": {},
   "outputs": [
    {
     "data": {
      "image/svg+xml": [
       "<svg xmlns=\"http://www.w3.org/2000/svg\" xmlns:xlink=\"http://www.w3.org/1999/xlink\" width=\"937pt\" height=\"373pt\" viewBox=\"0.00 0.00 937.00 373.00\">\n",
       "<g id=\"graph0\" class=\"graph\" transform=\"scale(1 1) rotate(0) translate(4 369)\">\n",
       "<title>Tree</title>\n",
       "<polygon fill=\"white\" stroke=\"transparent\" points=\"-4,4 -4,-369 933,-369 933,4 -4,4\"/>\n",
       "<!-- 0 -->\n",
       "<g id=\"node1\" class=\"node\">\n",
       "<title>0</title>\n",
       "<polygon fill=\"none\" stroke=\"black\" points=\"516,-365 398,-365 398,-297 516,-297 516,-365\"/>\n",
       "<text text-anchor=\"middle\" x=\"457\" y=\"-349.8\" font-family=\"Times New Roman,serif\" font-size=\"14.00\">SexMap &lt;= 0.5</text>\n",
       "<text text-anchor=\"middle\" x=\"457\" y=\"-334.8\" font-family=\"Times New Roman,serif\" font-size=\"14.00\">gini = 0.48</text>\n",
       "<text text-anchor=\"middle\" x=\"457\" y=\"-319.8\" font-family=\"Times New Roman,serif\" font-size=\"14.00\">samples = 595</text>\n",
       "<text text-anchor=\"middle\" x=\"457\" y=\"-304.8\" font-family=\"Times New Roman,serif\" font-size=\"14.00\">value = [357, 238]</text>\n",
       "</g>\n",
       "<!-- 1 -->\n",
       "<g id=\"node2\" class=\"node\">\n",
       "<title>1</title>\n",
       "<polygon fill=\"none\" stroke=\"black\" points=\"396,-261 280,-261 280,-193 396,-193 396,-261\"/>\n",
       "<text text-anchor=\"middle\" x=\"338\" y=\"-245.8\" font-family=\"Times New Roman,serif\" font-size=\"14.00\">AgeSD &lt;= -1.555</text>\n",
       "<text text-anchor=\"middle\" x=\"338\" y=\"-230.8\" font-family=\"Times New Roman,serif\" font-size=\"14.00\">gini = 0.321</text>\n",
       "<text text-anchor=\"middle\" x=\"338\" y=\"-215.8\" font-family=\"Times New Roman,serif\" font-size=\"14.00\">samples = 378</text>\n",
       "<text text-anchor=\"middle\" x=\"338\" y=\"-200.8\" font-family=\"Times New Roman,serif\" font-size=\"14.00\">value = [302, 76]</text>\n",
       "</g>\n",
       "<!-- 0&#45;&gt;1 -->\n",
       "<g id=\"edge1\" class=\"edge\">\n",
       "<title>0-&gt;1</title>\n",
       "<path fill=\"none\" stroke=\"black\" d=\"M418.36,-296.88C407.56,-287.62 395.7,-277.45 384.49,-267.85\"/>\n",
       "<polygon fill=\"black\" stroke=\"black\" points=\"386.72,-265.15 376.85,-261.3 382.16,-270.46 386.72,-265.15\"/>\n",
       "<text text-anchor=\"middle\" x=\"378.77\" y=\"-282.53\" font-family=\"Times New Roman,serif\" font-size=\"14.00\">True</text>\n",
       "</g>\n",
       "<!-- 8 -->\n",
       "<g id=\"node9\" class=\"node\">\n",
       "<title>8</title>\n",
       "<polygon fill=\"none\" stroke=\"black\" points=\"633.5,-261 522.5,-261 522.5,-193 633.5,-193 633.5,-261\"/>\n",
       "<text text-anchor=\"middle\" x=\"578\" y=\"-245.8\" font-family=\"Times New Roman,serif\" font-size=\"14.00\">Pclass &lt;= 2.5</text>\n",
       "<text text-anchor=\"middle\" x=\"578\" y=\"-230.8\" font-family=\"Times New Roman,serif\" font-size=\"14.00\">gini = 0.378</text>\n",
       "<text text-anchor=\"middle\" x=\"578\" y=\"-215.8\" font-family=\"Times New Roman,serif\" font-size=\"14.00\">samples = 217</text>\n",
       "<text text-anchor=\"middle\" x=\"578\" y=\"-200.8\" font-family=\"Times New Roman,serif\" font-size=\"14.00\">value = [55, 162]</text>\n",
       "</g>\n",
       "<!-- 0&#45;&gt;8 -->\n",
       "<g id=\"edge8\" class=\"edge\">\n",
       "<title>0-&gt;8</title>\n",
       "<path fill=\"none\" stroke=\"black\" d=\"M496.29,-296.88C507.27,-287.62 519.33,-277.45 530.73,-267.85\"/>\n",
       "<polygon fill=\"black\" stroke=\"black\" points=\"533.11,-270.42 538.5,-261.3 528.6,-265.07 533.11,-270.42\"/>\n",
       "<text text-anchor=\"middle\" x=\"536.38\" y=\"-282.51\" font-family=\"Times New Roman,serif\" font-size=\"14.00\">False</text>\n",
       "</g>\n",
       "<!-- 2 -->\n",
       "<g id=\"node3\" class=\"node\">\n",
       "<title>2</title>\n",
       "<polygon fill=\"none\" stroke=\"black\" points=\"211,-157 113,-157 113,-89 211,-89 211,-157\"/>\n",
       "<text text-anchor=\"middle\" x=\"162\" y=\"-141.8\" font-family=\"Times New Roman,serif\" font-size=\"14.00\">SibSp &lt;= 2.5</text>\n",
       "<text text-anchor=\"middle\" x=\"162\" y=\"-126.8\" font-family=\"Times New Roman,serif\" font-size=\"14.00\">gini = 0.42</text>\n",
       "<text text-anchor=\"middle\" x=\"162\" y=\"-111.8\" font-family=\"Times New Roman,serif\" font-size=\"14.00\">samples = 20</text>\n",
       "<text text-anchor=\"middle\" x=\"162\" y=\"-96.8\" font-family=\"Times New Roman,serif\" font-size=\"14.00\">value = [6, 14]</text>\n",
       "</g>\n",
       "<!-- 1&#45;&gt;2 -->\n",
       "<g id=\"edge2\" class=\"edge\">\n",
       "<title>1-&gt;2</title>\n",
       "<path fill=\"none\" stroke=\"black\" d=\"M280.86,-192.88C261.36,-181.58 239.55,-168.94 219.99,-157.61\"/>\n",
       "<polygon fill=\"black\" stroke=\"black\" points=\"221.58,-154.48 211.17,-152.5 218.07,-160.54 221.58,-154.48\"/>\n",
       "</g>\n",
       "<!-- 5 -->\n",
       "<g id=\"node6\" class=\"node\">\n",
       "<title>5</title>\n",
       "<polygon fill=\"none\" stroke=\"black\" points=\"393.5,-157 282.5,-157 282.5,-89 393.5,-89 393.5,-157\"/>\n",
       "<text text-anchor=\"middle\" x=\"338\" y=\"-141.8\" font-family=\"Times New Roman,serif\" font-size=\"14.00\">Pclass &lt;= 1.5</text>\n",
       "<text text-anchor=\"middle\" x=\"338\" y=\"-126.8\" font-family=\"Times New Roman,serif\" font-size=\"14.00\">gini = 0.286</text>\n",
       "<text text-anchor=\"middle\" x=\"338\" y=\"-111.8\" font-family=\"Times New Roman,serif\" font-size=\"14.00\">samples = 358</text>\n",
       "<text text-anchor=\"middle\" x=\"338\" y=\"-96.8\" font-family=\"Times New Roman,serif\" font-size=\"14.00\">value = [296, 62]</text>\n",
       "</g>\n",
       "<!-- 1&#45;&gt;5 -->\n",
       "<g id=\"edge5\" class=\"edge\">\n",
       "<title>1-&gt;5</title>\n",
       "<path fill=\"none\" stroke=\"black\" d=\"M338,-192.88C338,-184.78 338,-175.98 338,-167.47\"/>\n",
       "<polygon fill=\"black\" stroke=\"black\" points=\"341.5,-167.3 338,-157.3 334.5,-167.3 341.5,-167.3\"/>\n",
       "</g>\n",
       "<!-- 3 -->\n",
       "<g id=\"node4\" class=\"node\">\n",
       "<title>3</title>\n",
       "<polygon fill=\"none\" stroke=\"black\" points=\"98,-53 0,-53 0,0 98,0 98,-53\"/>\n",
       "<text text-anchor=\"middle\" x=\"49\" y=\"-37.8\" font-family=\"Times New Roman,serif\" font-size=\"14.00\">gini = 0.0</text>\n",
       "<text text-anchor=\"middle\" x=\"49\" y=\"-22.8\" font-family=\"Times New Roman,serif\" font-size=\"14.00\">samples = 14</text>\n",
       "<text text-anchor=\"middle\" x=\"49\" y=\"-7.8\" font-family=\"Times New Roman,serif\" font-size=\"14.00\">value = [0, 14]</text>\n",
       "</g>\n",
       "<!-- 2&#45;&gt;3 -->\n",
       "<g id=\"edge3\" class=\"edge\">\n",
       "<title>2-&gt;3</title>\n",
       "<path fill=\"none\" stroke=\"black\" d=\"M122.48,-88.95C111.21,-79.53 98.95,-69.27 87.73,-59.89\"/>\n",
       "<polygon fill=\"black\" stroke=\"black\" points=\"89.69,-56.97 79.78,-53.24 85.2,-62.34 89.69,-56.97\"/>\n",
       "</g>\n",
       "<!-- 4 -->\n",
       "<g id=\"node5\" class=\"node\">\n",
       "<title>4</title>\n",
       "<polygon fill=\"none\" stroke=\"black\" points=\"207.5,-53 116.5,-53 116.5,0 207.5,0 207.5,-53\"/>\n",
       "<text text-anchor=\"middle\" x=\"162\" y=\"-37.8\" font-family=\"Times New Roman,serif\" font-size=\"14.00\">gini = 0.0</text>\n",
       "<text text-anchor=\"middle\" x=\"162\" y=\"-22.8\" font-family=\"Times New Roman,serif\" font-size=\"14.00\">samples = 6</text>\n",
       "<text text-anchor=\"middle\" x=\"162\" y=\"-7.8\" font-family=\"Times New Roman,serif\" font-size=\"14.00\">value = [6, 0]</text>\n",
       "</g>\n",
       "<!-- 2&#45;&gt;4 -->\n",
       "<g id=\"edge4\" class=\"edge\">\n",
       "<title>2-&gt;4</title>\n",
       "<path fill=\"none\" stroke=\"black\" d=\"M162,-88.95C162,-80.72 162,-71.85 162,-63.48\"/>\n",
       "<polygon fill=\"black\" stroke=\"black\" points=\"165.5,-63.24 162,-53.24 158.5,-63.24 165.5,-63.24\"/>\n",
       "</g>\n",
       "<!-- 6 -->\n",
       "<g id=\"node7\" class=\"node\">\n",
       "<title>6</title>\n",
       "<polygon fill=\"none\" stroke=\"black\" points=\"330,-53 226,-53 226,0 330,0 330,-53\"/>\n",
       "<text text-anchor=\"middle\" x=\"278\" y=\"-37.8\" font-family=\"Times New Roman,serif\" font-size=\"14.00\">gini = 0.465</text>\n",
       "<text text-anchor=\"middle\" x=\"278\" y=\"-22.8\" font-family=\"Times New Roman,serif\" font-size=\"14.00\">samples = 87</text>\n",
       "<text text-anchor=\"middle\" x=\"278\" y=\"-7.8\" font-family=\"Times New Roman,serif\" font-size=\"14.00\">value = [55, 32]</text>\n",
       "</g>\n",
       "<!-- 5&#45;&gt;6 -->\n",
       "<g id=\"edge6\" class=\"edge\">\n",
       "<title>5-&gt;6</title>\n",
       "<path fill=\"none\" stroke=\"black\" d=\"M317.01,-88.95C311.44,-80.17 305.41,-70.66 299.79,-61.82\"/>\n",
       "<polygon fill=\"black\" stroke=\"black\" points=\"302.66,-59.8 294.34,-53.24 296.75,-63.55 302.66,-59.8\"/>\n",
       "</g>\n",
       "<!-- 7 -->\n",
       "<g id=\"node8\" class=\"node\">\n",
       "<title>7</title>\n",
       "<polygon fill=\"none\" stroke=\"black\" points=\"459.5,-53 348.5,-53 348.5,0 459.5,0 459.5,-53\"/>\n",
       "<text text-anchor=\"middle\" x=\"404\" y=\"-37.8\" font-family=\"Times New Roman,serif\" font-size=\"14.00\">gini = 0.197</text>\n",
       "<text text-anchor=\"middle\" x=\"404\" y=\"-22.8\" font-family=\"Times New Roman,serif\" font-size=\"14.00\">samples = 271</text>\n",
       "<text text-anchor=\"middle\" x=\"404\" y=\"-7.8\" font-family=\"Times New Roman,serif\" font-size=\"14.00\">value = [241, 30]</text>\n",
       "</g>\n",
       "<!-- 5&#45;&gt;7 -->\n",
       "<g id=\"edge7\" class=\"edge\">\n",
       "<title>5-&gt;7</title>\n",
       "<path fill=\"none\" stroke=\"black\" d=\"M361.08,-88.95C367.28,-80.07 373.99,-70.46 380.23,-61.54\"/>\n",
       "<polygon fill=\"black\" stroke=\"black\" points=\"383.17,-63.44 386.03,-53.24 377.43,-59.43 383.17,-63.44\"/>\n",
       "</g>\n",
       "<!-- 9 -->\n",
       "<g id=\"node10\" class=\"node\">\n",
       "<title>9</title>\n",
       "<polygon fill=\"none\" stroke=\"black\" points=\"636,-157 520,-157 520,-89 636,-89 636,-157\"/>\n",
       "<text text-anchor=\"middle\" x=\"578\" y=\"-141.8\" font-family=\"Times New Roman,serif\" font-size=\"14.00\">AgeSD &lt;= -2.095</text>\n",
       "<text text-anchor=\"middle\" x=\"578\" y=\"-126.8\" font-family=\"Times New Roman,serif\" font-size=\"14.00\">gini = 0.114</text>\n",
       "<text text-anchor=\"middle\" x=\"578\" y=\"-111.8\" font-family=\"Times New Roman,serif\" font-size=\"14.00\">samples = 115</text>\n",
       "<text text-anchor=\"middle\" x=\"578\" y=\"-96.8\" font-family=\"Times New Roman,serif\" font-size=\"14.00\">value = [7, 108]</text>\n",
       "</g>\n",
       "<!-- 8&#45;&gt;9 -->\n",
       "<g id=\"edge9\" class=\"edge\">\n",
       "<title>8-&gt;9</title>\n",
       "<path fill=\"none\" stroke=\"black\" d=\"M578,-192.88C578,-184.78 578,-175.98 578,-167.47\"/>\n",
       "<polygon fill=\"black\" stroke=\"black\" points=\"581.5,-167.3 578,-157.3 574.5,-167.3 581.5,-167.3\"/>\n",
       "</g>\n",
       "<!-- 12 -->\n",
       "<g id=\"node13\" class=\"node\">\n",
       "<title>12</title>\n",
       "<polygon fill=\"none\" stroke=\"black\" points=\"813,-157 709,-157 709,-89 813,-89 813,-157\"/>\n",
       "<text text-anchor=\"middle\" x=\"761\" y=\"-141.8\" font-family=\"Times New Roman,serif\" font-size=\"14.00\">Fare &lt;= -0.176</text>\n",
       "<text text-anchor=\"middle\" x=\"761\" y=\"-126.8\" font-family=\"Times New Roman,serif\" font-size=\"14.00\">gini = 0.498</text>\n",
       "<text text-anchor=\"middle\" x=\"761\" y=\"-111.8\" font-family=\"Times New Roman,serif\" font-size=\"14.00\">samples = 102</text>\n",
       "<text text-anchor=\"middle\" x=\"761\" y=\"-96.8\" font-family=\"Times New Roman,serif\" font-size=\"14.00\">value = [48, 54]</text>\n",
       "</g>\n",
       "<!-- 8&#45;&gt;12 -->\n",
       "<g id=\"edge12\" class=\"edge\">\n",
       "<title>8-&gt;12</title>\n",
       "<path fill=\"none\" stroke=\"black\" d=\"M633.9,-194.84C654.78,-183.21 678.59,-169.94 699.91,-158.05\"/>\n",
       "<polygon fill=\"black\" stroke=\"black\" points=\"701.85,-160.98 708.88,-153.05 698.44,-154.86 701.85,-160.98\"/>\n",
       "</g>\n",
       "<!-- 10 -->\n",
       "<g id=\"node11\" class=\"node\">\n",
       "<title>10</title>\n",
       "<polygon fill=\"none\" stroke=\"black\" points=\"568.5,-53 477.5,-53 477.5,0 568.5,0 568.5,-53\"/>\n",
       "<text text-anchor=\"middle\" x=\"523\" y=\"-37.8\" font-family=\"Times New Roman,serif\" font-size=\"14.00\">gini = 0.5</text>\n",
       "<text text-anchor=\"middle\" x=\"523\" y=\"-22.8\" font-family=\"Times New Roman,serif\" font-size=\"14.00\">samples = 2</text>\n",
       "<text text-anchor=\"middle\" x=\"523\" y=\"-7.8\" font-family=\"Times New Roman,serif\" font-size=\"14.00\">value = [1, 1]</text>\n",
       "</g>\n",
       "<!-- 9&#45;&gt;10 -->\n",
       "<g id=\"edge10\" class=\"edge\">\n",
       "<title>9-&gt;10</title>\n",
       "<path fill=\"none\" stroke=\"black\" d=\"M558.76,-88.95C553.71,-80.26 548.24,-70.86 543.13,-62.09\"/>\n",
       "<polygon fill=\"black\" stroke=\"black\" points=\"546.03,-60.12 537.98,-53.24 539.98,-63.64 546.03,-60.12\"/>\n",
       "</g>\n",
       "<!-- 11 -->\n",
       "<g id=\"node12\" class=\"node\">\n",
       "<title>11</title>\n",
       "<polygon fill=\"none\" stroke=\"black\" points=\"691,-53 587,-53 587,0 691,0 691,-53\"/>\n",
       "<text text-anchor=\"middle\" x=\"639\" y=\"-37.8\" font-family=\"Times New Roman,serif\" font-size=\"14.00\">gini = 0.101</text>\n",
       "<text text-anchor=\"middle\" x=\"639\" y=\"-22.8\" font-family=\"Times New Roman,serif\" font-size=\"14.00\">samples = 113</text>\n",
       "<text text-anchor=\"middle\" x=\"639\" y=\"-7.8\" font-family=\"Times New Roman,serif\" font-size=\"14.00\">value = [6, 107]</text>\n",
       "</g>\n",
       "<!-- 9&#45;&gt;11 -->\n",
       "<g id=\"edge11\" class=\"edge\">\n",
       "<title>9-&gt;11</title>\n",
       "<path fill=\"none\" stroke=\"black\" d=\"M599.33,-88.95C605,-80.17 611.14,-70.66 616.85,-61.82\"/>\n",
       "<polygon fill=\"black\" stroke=\"black\" points=\"619.9,-63.54 622.39,-53.24 614.02,-59.74 619.9,-63.54\"/>\n",
       "</g>\n",
       "<!-- 13 -->\n",
       "<g id=\"node14\" class=\"node\">\n",
       "<title>13</title>\n",
       "<polygon fill=\"none\" stroke=\"black\" points=\"813,-53 709,-53 709,0 813,0 813,-53\"/>\n",
       "<text text-anchor=\"middle\" x=\"761\" y=\"-37.8\" font-family=\"Times New Roman,serif\" font-size=\"14.00\">gini = 0.457</text>\n",
       "<text text-anchor=\"middle\" x=\"761\" y=\"-22.8\" font-family=\"Times New Roman,serif\" font-size=\"14.00\">samples = 82</text>\n",
       "<text text-anchor=\"middle\" x=\"761\" y=\"-7.8\" font-family=\"Times New Roman,serif\" font-size=\"14.00\">value = [29, 53]</text>\n",
       "</g>\n",
       "<!-- 12&#45;&gt;13 -->\n",
       "<g id=\"edge13\" class=\"edge\">\n",
       "<title>12-&gt;13</title>\n",
       "<path fill=\"none\" stroke=\"black\" d=\"M761,-88.95C761,-80.72 761,-71.85 761,-63.48\"/>\n",
       "<polygon fill=\"black\" stroke=\"black\" points=\"764.5,-63.24 761,-53.24 757.5,-63.24 764.5,-63.24\"/>\n",
       "</g>\n",
       "<!-- 14 -->\n",
       "<g id=\"node15\" class=\"node\">\n",
       "<title>14</title>\n",
       "<polygon fill=\"none\" stroke=\"black\" points=\"929,-53 831,-53 831,0 929,0 929,-53\"/>\n",
       "<text text-anchor=\"middle\" x=\"880\" y=\"-37.8\" font-family=\"Times New Roman,serif\" font-size=\"14.00\">gini = 0.095</text>\n",
       "<text text-anchor=\"middle\" x=\"880\" y=\"-22.8\" font-family=\"Times New Roman,serif\" font-size=\"14.00\">samples = 20</text>\n",
       "<text text-anchor=\"middle\" x=\"880\" y=\"-7.8\" font-family=\"Times New Roman,serif\" font-size=\"14.00\">value = [19, 1]</text>\n",
       "</g>\n",
       "<!-- 12&#45;&gt;14 -->\n",
       "<g id=\"edge14\" class=\"edge\">\n",
       "<title>12-&gt;14</title>\n",
       "<path fill=\"none\" stroke=\"black\" d=\"M802.62,-88.95C814.6,-79.43 827.65,-69.07 839.56,-59.62\"/>\n",
       "<polygon fill=\"black\" stroke=\"black\" points=\"841.94,-62.2 847.59,-53.24 837.58,-56.71 841.94,-62.2\"/>\n",
       "</g>\n",
       "</g>\n",
       "</svg>"
      ],
      "text/plain": [
       "<IPython.core.display.SVG object>"
      ]
     },
     "execution_count": 43,
     "metadata": {},
     "output_type": "execute_result"
    }
   ],
   "source": [
    "graph = Source(export_graphviz(model, out_file=None, feature_names=['Fare', 'Pclass', 'SibSp', 'Parch', 'EmbMap', 'SexMap', 'AgeSD']))\n",
    "SVG(graph.pipe(format='svg'))"
   ]
  },
  {
   "cell_type": "markdown",
   "id": "1f8aaed6-f6c0-4605-bad2-c2907ac5db02",
   "metadata": {},
   "source": [
    "### 8.4 SVM"
   ]
  },
  {
   "cell_type": "code",
   "execution_count": 44,
   "id": "db10ff7b-2cff-4b42-b9b9-dfa67f04ffd6",
   "metadata": {},
   "outputs": [
    {
     "name": "stdout",
     "output_type": "stream",
     "text": [
      "Model Report\n",
      "Accuracy:  0.7959\n",
      "Precision:  0.7283\n",
      "Recall:  0.6569\n",
      "f1:  0.6907\n"
     ]
    },
    {
     "data": {
      "image/png": "[encoded data removed]",
      "text/plain": [
       "<Figure size 432x288 with 2 Axes>"
      ]
     },
     "metadata": {
      "needs_background": "light"
     },
     "output_type": "display_data"
    }
   ],
   "source": [
    "from sklearn.svm import SVC\n",
    "\n",
    "model = SVC(kernel='poly', coef0 = 1, C=10000)\n",
    "train(model, X, y)"
   ]
  },
  {
   "cell_type": "markdown",
   "id": "8c93a9dc-218f-4b78-aaa8-1f73e9af7e53",
   "metadata": {},
   "source": [
    "### 8.5 Comparing and choosing final model"
   ]
  },
  {
   "cell_type": "code",
   "execution_count": 45,
   "id": "fc0e1eb8-a298-419c-b56d-1516b1ea50ec",
   "metadata": {},
   "outputs": [
    {
     "data": {
      "text/html": [
       "<div>\n",
       "<style scoped>\n",
       "    .dataframe tbody tr th:only-of-type {\n",
       "        vertical-align: middle;\n",
       "    }\n",
       "\n",
       "    .dataframe tbody tr th {\n",
       "        vertical-align: top;\n",
       "    }\n",
       "\n",
       "    .dataframe thead th {\n",
       "        text-align: right;\n",
       "    }\n",
       "</style>\n",
       "<table border=\"1\" class=\"dataframe\">\n",
       "  <thead>\n",
       "    <tr style=\"text-align: right;\">\n",
       "      <th></th>\n",
       "      <th>Logistic Regression</th>\n",
       "      <th>KNN</th>\n",
       "      <th>Decision Tree</th>\n",
       "      <th>SVM</th>\n",
       "    </tr>\n",
       "  </thead>\n",
       "  <tbody>\n",
       "    <tr>\n",
       "      <th>Accuracy</th>\n",
       "      <td>0.7925</td>\n",
       "      <td>0.8027</td>\n",
       "      <td>0.8231</td>\n",
       "      <td>0.7959</td>\n",
       "    </tr>\n",
       "    <tr>\n",
       "      <th>Precision</th>\n",
       "      <td>0.6990</td>\n",
       "      <td>0.7292</td>\n",
       "      <td>0.7717</td>\n",
       "      <td>0.7283</td>\n",
       "    </tr>\n",
       "    <tr>\n",
       "      <th>Recall</th>\n",
       "      <td>0.7059</td>\n",
       "      <td>0.6863</td>\n",
       "      <td>0.6961</td>\n",
       "      <td>0.6569</td>\n",
       "    </tr>\n",
       "    <tr>\n",
       "      <th>F1</th>\n",
       "      <td>0.7024</td>\n",
       "      <td>0.7071</td>\n",
       "      <td>0.7320</td>\n",
       "      <td>0.6907</td>\n",
       "    </tr>\n",
       "  </tbody>\n",
       "</table>\n",
       "</div>"
      ],
      "text/plain": [
       "           Logistic Regression     KNN  Decision Tree     SVM\n",
       "Accuracy                0.7925  0.8027         0.8231  0.7959\n",
       "Precision               0.6990  0.7292         0.7717  0.7283\n",
       "Recall                  0.7059  0.6863         0.6961  0.6569\n",
       "F1                      0.7024  0.7071         0.7320  0.6907"
      ]
     },
     "execution_count": 45,
     "metadata": {},
     "output_type": "execute_result"
    }
   ],
   "source": [
    "L = {'Logistic Regression':[0.7925,0.699, 0.7059, 0.7024], 'KNN':[0.8027,0.7292, 0.6863, 0.7071], 'Decision Tree':[0.8231,0.7717, 0.6961, 0.732], 'SVM':[0.7959,0.7283, 0.6569, 0.6907]}\n",
    "\n",
    "df_results = pd.DataFrame(L, index=['Accuracy', 'Precision', 'Recall', 'F1'])\n",
    "\n",
    "df_results"
   ]
  },
  {
   "cell_type": "code",
   "execution_count": 46,
   "id": "c1f3b1ca-2de7-4727-b42c-3228b88a189a",
   "metadata": {},
   "outputs": [],
   "source": [
    "# Conclusion:\n",
    "\n",
    "## As can be observed in the DataFrame above, the Decision Tree model outperformed the three other models in all 4 metrics analysed, with the expection of Recall with Logistic Regression\n",
    "## Therefore, we will continue our analysis using the Decision Tree"
   ]
  },
  {
   "cell_type": "markdown",
   "id": "baff0d5a-b560-4247-8a8e-060b058ae866",
   "metadata": {},
   "source": [
    "# 9. Removing features and re-training model"
   ]
  },
  {
   "cell_type": "code",
   "execution_count": 47,
   "id": "7fee9d63-829f-4db1-bdde-56cbf754b078",
   "metadata": {},
   "outputs": [],
   "source": [
    "## We will remove one feature at a time and re-training the Decision Tree"
   ]
  },
  {
   "cell_type": "code",
   "execution_count": 48,
   "id": "a1f8d3bb-4cfc-425b-b58d-b1799fcbf557",
   "metadata": {},
   "outputs": [],
   "source": [
    "# We will name the new feature matrices by highlighting the removed feature\n",
    "## Example: 'X_FareSD' is matrice X without the feature 'FareSD'\n",
    "\n",
    "X_FareSD = X.drop(['FareSD'], axis=1)\n",
    "X_Pclass = X.drop(['Pclass'], axis=1)\n",
    "X_SibSp = X.drop(['SibSp'], axis=1)\n",
    "X_Parch = X.drop(['Parch'], axis=1)\n",
    "X_EmbMap = X.drop(['EmbMap'], axis=1)\n",
    "X_SexMap = X.drop(['SexMap'], axis=1)\n",
    "X_AgeSD = X.drop(['AgeSD'], axis=1)\n",
    "\n",
    "L_X = [X, X_FareSD, X_Pclass, X_SibSp, X_Parch, X_EmbMap, X_SexMap, X_AgeSD]\n",
    "L_f = ['All', 'FareSD', 'Pclass', 'SibSp', 'Parch', 'EmbMap', 'SexMap', 'AgeSD']"
   ]
  },
  {
   "cell_type": "code",
   "execution_count": 49,
   "id": "2f344b84-fd49-4957-8f9c-3e47ced90949",
   "metadata": {},
   "outputs": [],
   "source": [
    "results = pd.DataFrame(index=['Accuracy', 'Precision', 'Recall', 'F1'])"
   ]
  },
  {
   "cell_type": "code",
   "execution_count": 50,
   "id": "e07997de-da13-444f-87ec-bdc936b646b6",
   "metadata": {},
   "outputs": [],
   "source": [
    "def train_2(model, X, y, name='Feature'):\n",
    "    X_train, X_test, y_train, y_test = train_test_split(X, y, test_size=0.33, random_state=999)\n",
    "    model.fit(X_train, y_train)\n",
    "    y_pred = model.predict(X_test)\n",
    "    \n",
    "    stats = [np.around(accuracy_score(y_test, y_pred),4),np.around(precision_score(y_test, y_pred),4),\n",
    "        np.around(recall_score(y_test, y_pred),4), np.around(f1_score(y_test, y_pred),4)]\n",
    "    results[name] = stats"
   ]
  },
  {
   "cell_type": "code",
   "execution_count": 51,
   "id": "2bfd599f-c9d0-46d1-9cb6-87f99fd67548",
   "metadata": {},
   "outputs": [],
   "source": [
    "model = DecisionTreeClassifier(random_state=1, max_depth=3)"
   ]
  },
  {
   "cell_type": "code",
   "execution_count": 52,
   "id": "d4626bec-52f9-4143-b002-282d2a9c3a99",
   "metadata": {},
   "outputs": [
    {
     "data": {
      "text/html": [
       "<div>\n",
       "<style scoped>\n",
       "    .dataframe tbody tr th:only-of-type {\n",
       "        vertical-align: middle;\n",
       "    }\n",
       "\n",
       "    .dataframe tbody tr th {\n",
       "        vertical-align: top;\n",
       "    }\n",
       "\n",
       "    .dataframe thead th {\n",
       "        text-align: right;\n",
       "    }\n",
       "</style>\n",
       "<table border=\"1\" class=\"dataframe\">\n",
       "  <thead>\n",
       "    <tr style=\"text-align: right;\">\n",
       "      <th></th>\n",
       "      <th>All</th>\n",
       "      <th>FareSD</th>\n",
       "      <th>Pclass</th>\n",
       "      <th>SibSp</th>\n",
       "      <th>Parch</th>\n",
       "      <th>EmbMap</th>\n",
       "      <th>SexMap</th>\n",
       "      <th>AgeSD</th>\n",
       "    </tr>\n",
       "  </thead>\n",
       "  <tbody>\n",
       "    <tr>\n",
       "      <th>Accuracy</th>\n",
       "      <td>0.8231</td>\n",
       "      <td>0.8435</td>\n",
       "      <td>0.8197</td>\n",
       "      <td>0.8129</td>\n",
       "      <td>0.8231</td>\n",
       "      <td>0.8231</td>\n",
       "      <td>0.7041</td>\n",
       "      <td>0.8095</td>\n",
       "    </tr>\n",
       "    <tr>\n",
       "      <th>Precision</th>\n",
       "      <td>0.7717</td>\n",
       "      <td>0.8889</td>\n",
       "      <td>0.7579</td>\n",
       "      <td>0.7640</td>\n",
       "      <td>0.7717</td>\n",
       "      <td>0.7717</td>\n",
       "      <td>0.7273</td>\n",
       "      <td>0.7614</td>\n",
       "    </tr>\n",
       "    <tr>\n",
       "      <th>Recall</th>\n",
       "      <td>0.6961</td>\n",
       "      <td>0.6275</td>\n",
       "      <td>0.7059</td>\n",
       "      <td>0.6667</td>\n",
       "      <td>0.6961</td>\n",
       "      <td>0.6961</td>\n",
       "      <td>0.2353</td>\n",
       "      <td>0.6569</td>\n",
       "    </tr>\n",
       "    <tr>\n",
       "      <th>F1</th>\n",
       "      <td>0.7320</td>\n",
       "      <td>0.7356</td>\n",
       "      <td>0.7310</td>\n",
       "      <td>0.7120</td>\n",
       "      <td>0.7320</td>\n",
       "      <td>0.7320</td>\n",
       "      <td>0.3556</td>\n",
       "      <td>0.7053</td>\n",
       "    </tr>\n",
       "  </tbody>\n",
       "</table>\n",
       "</div>"
      ],
      "text/plain": [
       "              All  FareSD  Pclass   SibSp   Parch  EmbMap  SexMap   AgeSD\n",
       "Accuracy   0.8231  0.8435  0.8197  0.8129  0.8231  0.8231  0.7041  0.8095\n",
       "Precision  0.7717  0.8889  0.7579  0.7640  0.7717  0.7717  0.7273  0.7614\n",
       "Recall     0.6961  0.6275  0.7059  0.6667  0.6961  0.6961  0.2353  0.6569\n",
       "F1         0.7320  0.7356  0.7310  0.7120  0.7320  0.7320  0.3556  0.7053"
      ]
     },
     "execution_count": 52,
     "metadata": {},
     "output_type": "execute_result"
    }
   ],
   "source": [
    "i = 0\n",
    "for _ in range(0, len(L_X)):\n",
    "    train_2(model, L_X[_], y, name = L_f[i])    \n",
    "    i = i + 1\n",
    "    \n",
    "results"
   ]
  },
  {
   "cell_type": "code",
   "execution_count": 53,
   "id": "bef3925e-a379-451a-89e4-990e77d953a2",
   "metadata": {},
   "outputs": [],
   "source": [
    "# Conclusion:\n",
    "\n",
    "# The results shown in the DataFrame above are very interesting.\n",
    "## We can interpret that the lower the metrics when the feature is removed, the more important the feature is.\n",
    "## That is because without that feature our model works more poorly.\n",
    "\n",
    "# 'Fare', 'Parch' and 'EmbMap'\n",
    "## We notice that when we took out 'EmbMap' and 'Parch' none of the metrcis changed\n",
    "## This shows that, independently, those features don't help to predict the label\n",
    "## When we removed 'Fare', the metrics actually improved\n",
    "## This shows that that our prediction is improved disconsidering that feature, so we are going to drop it and re-train the results\n"
   ]
  },
  {
   "cell_type": "code",
   "execution_count": 54,
   "id": "3263f933-958e-4779-901b-6e518e121ba8",
   "metadata": {},
   "outputs": [],
   "source": [
    "results = pd.DataFrame(index=['Accuracy', 'Precision', 'Recall', 'F1'])\n",
    "\n",
    "X.drop(['FareSD'], axis=1, inplace=True)\n",
    "\n",
    "X_Pclass = X.drop(['Pclass'], axis=1)\n",
    "X_SibSp = X.drop(['SibSp'], axis=1)\n",
    "X_Parch = X.drop(['Parch'], axis=1)\n",
    "X_EmbMap = X.drop(['EmbMap'], axis=1)\n",
    "X_SexMap = X.drop(['SexMap'], axis=1)\n",
    "X_AgeSD = X.drop(['AgeSD'], axis=1)\n",
    "\n",
    "L_X = [X, X_Pclass, X_SibSp, X_Parch, X_EmbMap, X_SexMap, X_AgeSD]\n",
    "L_f = ['All', 'Pclass', 'SibSp', 'Parch', 'EmbMap', 'SexMap', 'AgeSD']"
   ]
  },
  {
   "cell_type": "code",
   "execution_count": 55,
   "id": "8f207c5d-24e9-4dab-81d0-8a941f3b91a9",
   "metadata": {},
   "outputs": [
    {
     "data": {
      "text/html": [
       "<div>\n",
       "<style scoped>\n",
       "    .dataframe tbody tr th:only-of-type {\n",
       "        vertical-align: middle;\n",
       "    }\n",
       "\n",
       "    .dataframe tbody tr th {\n",
       "        vertical-align: top;\n",
       "    }\n",
       "\n",
       "    .dataframe thead th {\n",
       "        text-align: right;\n",
       "    }\n",
       "</style>\n",
       "<table border=\"1\" class=\"dataframe\">\n",
       "  <thead>\n",
       "    <tr style=\"text-align: right;\">\n",
       "      <th></th>\n",
       "      <th>All</th>\n",
       "      <th>Pclass</th>\n",
       "      <th>SibSp</th>\n",
       "      <th>Parch</th>\n",
       "      <th>EmbMap</th>\n",
       "      <th>SexMap</th>\n",
       "      <th>AgeSD</th>\n",
       "    </tr>\n",
       "  </thead>\n",
       "  <tbody>\n",
       "    <tr>\n",
       "      <th>Accuracy</th>\n",
       "      <td>0.8435</td>\n",
       "      <td>0.8197</td>\n",
       "      <td>0.8333</td>\n",
       "      <td>0.8435</td>\n",
       "      <td>0.8197</td>\n",
       "      <td>0.7279</td>\n",
       "      <td>0.8265</td>\n",
       "    </tr>\n",
       "    <tr>\n",
       "      <th>Precision</th>\n",
       "      <td>0.8889</td>\n",
       "      <td>0.7579</td>\n",
       "      <td>0.8841</td>\n",
       "      <td>0.8889</td>\n",
       "      <td>0.7816</td>\n",
       "      <td>0.6618</td>\n",
       "      <td>0.8493</td>\n",
       "    </tr>\n",
       "    <tr>\n",
       "      <th>Recall</th>\n",
       "      <td>0.6275</td>\n",
       "      <td>0.7059</td>\n",
       "      <td>0.5980</td>\n",
       "      <td>0.6275</td>\n",
       "      <td>0.6667</td>\n",
       "      <td>0.4412</td>\n",
       "      <td>0.6078</td>\n",
       "    </tr>\n",
       "    <tr>\n",
       "      <th>F1</th>\n",
       "      <td>0.7356</td>\n",
       "      <td>0.7310</td>\n",
       "      <td>0.7135</td>\n",
       "      <td>0.7356</td>\n",
       "      <td>0.7196</td>\n",
       "      <td>0.5294</td>\n",
       "      <td>0.7086</td>\n",
       "    </tr>\n",
       "  </tbody>\n",
       "</table>\n",
       "</div>"
      ],
      "text/plain": [
       "              All  Pclass   SibSp   Parch  EmbMap  SexMap   AgeSD\n",
       "Accuracy   0.8435  0.8197  0.8333  0.8435  0.8197  0.7279  0.8265\n",
       "Precision  0.8889  0.7579  0.8841  0.8889  0.7816  0.6618  0.8493\n",
       "Recall     0.6275  0.7059  0.5980  0.6275  0.6667  0.4412  0.6078\n",
       "F1         0.7356  0.7310  0.7135  0.7356  0.7196  0.5294  0.7086"
      ]
     },
     "execution_count": 55,
     "metadata": {},
     "output_type": "execute_result"
    }
   ],
   "source": [
    "i = 0\n",
    "for _ in range(0, len(L_X)):\n",
    "    train_2(model, L_X[_], y, name = L_f[i])    \n",
    "    i = i + 1\n",
    "    \n",
    "results"
   ]
  },
  {
   "cell_type": "code",
   "execution_count": 56,
   "id": "730f1acd-910e-42a3-a9bf-e2ba64479528",
   "metadata": {},
   "outputs": [],
   "source": [
    "# Now we see that when we remove Parch the results don't change, so we drop it and retrain the model"
   ]
  },
  {
   "cell_type": "code",
   "execution_count": 57,
   "id": "3fe0d0d6-6e7d-43ea-829c-5ee9ba80b5f3",
   "metadata": {},
   "outputs": [
    {
     "data": {
      "text/html": [
       "<div>\n",
       "<style scoped>\n",
       "    .dataframe tbody tr th:only-of-type {\n",
       "        vertical-align: middle;\n",
       "    }\n",
       "\n",
       "    .dataframe tbody tr th {\n",
       "        vertical-align: top;\n",
       "    }\n",
       "\n",
       "    .dataframe thead th {\n",
       "        text-align: right;\n",
       "    }\n",
       "</style>\n",
       "<table border=\"1\" class=\"dataframe\">\n",
       "  <thead>\n",
       "    <tr style=\"text-align: right;\">\n",
       "      <th></th>\n",
       "      <th>All</th>\n",
       "      <th>Pclass</th>\n",
       "      <th>SibSp</th>\n",
       "      <th>EmbMap</th>\n",
       "      <th>SexMap</th>\n",
       "      <th>AgeSD</th>\n",
       "    </tr>\n",
       "  </thead>\n",
       "  <tbody>\n",
       "    <tr>\n",
       "      <th>Accuracy</th>\n",
       "      <td>0.8435</td>\n",
       "      <td>0.8231</td>\n",
       "      <td>0.8333</td>\n",
       "      <td>0.8231</td>\n",
       "      <td>0.7279</td>\n",
       "      <td>0.8299</td>\n",
       "    </tr>\n",
       "    <tr>\n",
       "      <th>Precision</th>\n",
       "      <td>0.8889</td>\n",
       "      <td>0.7604</td>\n",
       "      <td>0.8841</td>\n",
       "      <td>0.8125</td>\n",
       "      <td>0.6618</td>\n",
       "      <td>0.8824</td>\n",
       "    </tr>\n",
       "    <tr>\n",
       "      <th>Recall</th>\n",
       "      <td>0.6275</td>\n",
       "      <td>0.7157</td>\n",
       "      <td>0.5980</td>\n",
       "      <td>0.6373</td>\n",
       "      <td>0.4412</td>\n",
       "      <td>0.5882</td>\n",
       "    </tr>\n",
       "    <tr>\n",
       "      <th>F1</th>\n",
       "      <td>0.7356</td>\n",
       "      <td>0.7374</td>\n",
       "      <td>0.7135</td>\n",
       "      <td>0.7143</td>\n",
       "      <td>0.5294</td>\n",
       "      <td>0.7059</td>\n",
       "    </tr>\n",
       "  </tbody>\n",
       "</table>\n",
       "</div>"
      ],
      "text/plain": [
       "              All  Pclass   SibSp  EmbMap  SexMap   AgeSD\n",
       "Accuracy   0.8435  0.8231  0.8333  0.8231  0.7279  0.8299\n",
       "Precision  0.8889  0.7604  0.8841  0.8125  0.6618  0.8824\n",
       "Recall     0.6275  0.7157  0.5980  0.6373  0.4412  0.5882\n",
       "F1         0.7356  0.7374  0.7135  0.7143  0.5294  0.7059"
      ]
     },
     "execution_count": 57,
     "metadata": {},
     "output_type": "execute_result"
    }
   ],
   "source": [
    "results = pd.DataFrame(index=['Accuracy', 'Precision', 'Recall', 'F1'])\n",
    "\n",
    "X.drop(['Parch'], axis=1, inplace=True)\n",
    "\n",
    "X_Pclass = X.drop(['Pclass'], axis=1)\n",
    "X_SibSp = X.drop(['SibSp'], axis=1)\n",
    "X_EmbMap = X.drop(['EmbMap'], axis=1)\n",
    "X_SexMap = X.drop(['SexMap'], axis=1)\n",
    "X_AgeSD = X.drop(['AgeSD'], axis=1)\n",
    "\n",
    "L_X = [X, X_Pclass, X_SibSp, X_EmbMap, X_SexMap, X_AgeSD]\n",
    "L_f = ['All', 'Pclass', 'SibSp', 'EmbMap', 'SexMap', 'AgeSD']\n",
    "\n",
    "i = 0\n",
    "for _ in range(0, len(L_X)):\n",
    "    train_2(model, L_X[_], y, name = L_f[i])    \n",
    "    i = i + 1\n",
    "    \n",
    "results"
   ]
  },
  {
   "cell_type": "code",
   "execution_count": 58,
   "id": "31588128-5322-44d9-836f-494a7c4b6864",
   "metadata": {},
   "outputs": [],
   "source": [
    "## Since the weight of importance between false positives and false negatives is equal in this analysis we wil classify importance using 'Accuracy' score.\n",
    "\n",
    "# Importance Hierarchy of features:\n",
    "## SexMap\n",
    "## AgeSD\n",
    "## Pclass\n",
    "## EmbMap\n",
    "## SibSp"
   ]
  },
  {
   "cell_type": "code",
   "execution_count": null,
   "id": "8adc4fc8-85d2-4f21-b409-7cdb84e52450",
   "metadata": {},
   "outputs": [],
   "source": []
  }
 ],
 "metadata": {
  "kernelspec": {
   "display_name": "Python 3",
   "language": "python",
   "name": "python3"
  },
  "language_info": {
   "codemirror_mode": {
    "name": "ipython",
    "version": 3
   },
   "file_extension": ".py",
   "mimetype": "text/x-python",
   "name": "python",
   "nbconvert_exporter": "python",
   "pygments_lexer": "ipython3",
   "version": "3.8.8"
  }
 },
 "nbformat": 4,
 "nbformat_minor": 5
}
