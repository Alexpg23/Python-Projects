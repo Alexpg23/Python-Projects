{
 "cells": [
  {
   "cell_type": "markdown",
   "metadata": {},
   "source": [
    "# Grid Search Parameter Tuning and Pipeline"
   ]
  },
  {
   "cell_type": "code",
   "execution_count": 1,
   "metadata": {
    "scrolled": true
   },
   "outputs": [],
   "source": [
    "import numpy as np\n",
    "import pandas as pd\n",
    "import matplotlib.pyplot as plt\n",
    "plt.style.use('seaborn')\n",
    "import seaborn as sn\n",
    "%matplotlib inline"
   ]
  },
  {
   "cell_type": "code",
   "execution_count": 2,
   "metadata": {},
   "outputs": [],
   "source": [
    "from sklearn.model_selection import train_test_split\n",
    "from sklearn.svm import SVC\n",
    "from sklearn.metrics import classification_report, confusion_matrix\n",
    "import HelpfulFunctions as hp"
   ]
  },
  {
   "cell_type": "markdown",
   "metadata": {},
   "source": [
    "## Supervised Learning PCA: Wisconsin Breast Cancer Dataset"
   ]
  },
  {
   "cell_type": "code",
   "execution_count": 3,
   "metadata": {
    "scrolled": true
   },
   "outputs": [],
   "source": [
    "from sklearn.datasets import load_breast_cancer\n",
    "breastCancerData = load_breast_cancer()\n",
    "df = pd.DataFrame(breastCancerData['data'],columns = breastCancerData['feature_names'])\n",
    "y = breastCancerData['target']"
   ]
  },
  {
   "cell_type": "markdown",
   "metadata": {},
   "source": [
    "### Standardising the Data"
   ]
  },
  {
   "cell_type": "code",
   "execution_count": 4,
   "metadata": {
    "scrolled": true
   },
   "outputs": [],
   "source": [
    "from sklearn.preprocessing import StandardScaler"
   ]
  },
  {
   "cell_type": "code",
   "execution_count": 5,
   "metadata": {
    "scrolled": true
   },
   "outputs": [],
   "source": [
    "scaler = StandardScaler()\n",
    "scaler.fit(df)\n",
    "X = scaler.transform(df)"
   ]
  },
  {
   "cell_type": "code",
   "execution_count": 6,
   "metadata": {
    "scrolled": true
   },
   "outputs": [],
   "source": [
    "X_train, X_test, y_train, y_test = train_test_split(X,y,test_size=0.3,random_state = 101)"
   ]
  },
  {
   "cell_type": "code",
   "execution_count": 7,
   "metadata": {
    "scrolled": true
   },
   "outputs": [
    {
     "data": {
      "text/plain": [
       "SVC(gamma='auto')"
      ]
     },
     "execution_count": 7,
     "metadata": {},
     "output_type": "execute_result"
    }
   ],
   "source": [
    "model = SVC(gamma = \"auto\")\n",
    "model.fit(X_train,y_train)"
   ]
  },
  {
   "cell_type": "code",
   "execution_count": 11,
   "metadata": {},
   "outputs": [
    {
     "name": "stdout",
     "output_type": "stream",
     "text": [
      "[[ 63   3]\n",
      " [  1 104]]\n"
     ]
    }
   ],
   "source": [
    "predictions = model.predict(X_test)\n",
    "cm = confusion_matrix(y_test,predictions)\n",
    "print(cm)"
   ]
  },
  {
   "cell_type": "code",
   "execution_count": 12,
   "metadata": {},
   "outputs": [
    {
     "data": {
      "image/png": "[encoded data removed]",
      "text/plain": [
       "<Figure size 432x288 with 2 Axes>"
      ]
     },
     "metadata": {
      "needs_background": "light"
     },
     "output_type": "display_data"
    }
   ],
   "source": [
    "hp.plot_cm(model, X_test, y_test, ['malignant','benign'])"
   ]
  },
  {
   "cell_type": "markdown",
   "metadata": {},
   "source": [
    "## Using Grid Search"
   ]
  },
  {
   "cell_type": "code",
   "execution_count": 13,
   "metadata": {
    "scrolled": true
   },
   "outputs": [],
   "source": [
    "from sklearn.model_selection import GridSearchCV"
   ]
  },
  {
   "cell_type": "code",
   "execution_count": 14,
   "metadata": {
    "scrolled": true
   },
   "outputs": [],
   "source": [
    "parameters = {'C':[0.01,0.1,1,10], 'gamma':[0.0000001, 0.000001,0.0001,0.001], 'kernel':['linear','rbf','sigmoid']}"
   ]
  },
  {
   "cell_type": "code",
   "execution_count": 15,
   "metadata": {
    "scrolled": false
   },
   "outputs": [
    {
     "name": "stdout",
     "output_type": "stream",
     "text": [
      "Fitting 5 folds for each of 48 candidates, totalling 240 fits\n",
      "[CV] END .................C=0.01, gamma=1e-07, kernel=linear; total time=   0.0s\n",
      "[CV] END .................C=0.01, gamma=1e-07, kernel=linear; total time=   0.0s\n",
      "[CV] END .................C=0.01, gamma=1e-07, kernel=linear; total time=   0.0s\n",
      "[CV] END .................C=0.01, gamma=1e-07, kernel=linear; total time=   0.0s\n",
      "[CV] END .................C=0.01, gamma=1e-07, kernel=linear; total time=   0.0s\n",
      "[CV] END ....................C=0.01, gamma=1e-07, kernel=rbf; total time=   0.0s\n",
      "[CV] END ....................C=0.01, gamma=1e-07, kernel=rbf; total time=   0.0s\n",
      "[CV] END ....................C=0.01, gamma=1e-07, kernel=rbf; total time=   0.0s\n",
      "[CV] END ....................C=0.01, gamma=1e-07, kernel=rbf; total time=   0.0s\n",
      "[CV] END ....................C=0.01, gamma=1e-07, kernel=rbf; total time=   0.0s\n",
      "[CV] END ................C=0.01, gamma=1e-07, kernel=sigmoid; total time=   0.0s\n",
      "[CV] END ................C=0.01, gamma=1e-07, kernel=sigmoid; total time=   0.0s\n",
      "[CV] END ................C=0.01, gamma=1e-07, kernel=sigmoid; total time=   0.0s\n",
      "[CV] END ................C=0.01, gamma=1e-07, kernel=sigmoid; total time=   0.0s\n",
      "[CV] END ................C=0.01, gamma=1e-07, kernel=sigmoid; total time=   0.0s\n",
      "[CV] END .................C=0.01, gamma=1e-06, kernel=linear; total time=   0.0s\n",
      "[CV] END .................C=0.01, gamma=1e-06, kernel=linear; total time=   0.0s\n",
      "[CV] END .................C=0.01, gamma=1e-06, kernel=linear; total time=   0.0s\n",
      "[CV] END .................C=0.01, gamma=1e-06, kernel=linear; total time=   0.0s\n",
      "[CV] END .................C=0.01, gamma=1e-06, kernel=linear; total time=   0.0s\n",
      "[CV] END ....................C=0.01, gamma=1e-06, kernel=rbf; total time=   0.0s\n",
      "[CV] END ....................C=0.01, gamma=1e-06, kernel=rbf; total time=   0.0s\n",
      "[CV] END ....................C=0.01, gamma=1e-06, kernel=rbf; total time=   0.0s\n",
      "[CV] END ....................C=0.01, gamma=1e-06, kernel=rbf; total time=   0.0s\n",
      "[CV] END ....................C=0.01, gamma=1e-06, kernel=rbf; total time=   0.0s\n",
      "[CV] END ................C=0.01, gamma=1e-06, kernel=sigmoid; total time=   0.0s\n",
      "[CV] END ................C=0.01, gamma=1e-06, kernel=sigmoid; total time=   0.0s\n",
      "[CV] END ................C=0.01, gamma=1e-06, kernel=sigmoid; total time=   0.0s\n",
      "[CV] END ................C=0.01, gamma=1e-06, kernel=sigmoid; total time=   0.0s\n",
      "[CV] END ................C=0.01, gamma=1e-06, kernel=sigmoid; total time=   0.0s\n",
      "[CV] END ................C=0.01, gamma=0.0001, kernel=linear; total time=   0.0s\n",
      "[CV] END ................C=0.01, gamma=0.0001, kernel=linear; total time=   0.0s\n",
      "[CV] END ................C=0.01, gamma=0.0001, kernel=linear; total time=   0.0s\n",
      "[CV] END ................C=0.01, gamma=0.0001, kernel=linear; total time=   0.0s\n",
      "[CV] END ................C=0.01, gamma=0.0001, kernel=linear; total time=   0.0s\n",
      "[CV] END ...................C=0.01, gamma=0.0001, kernel=rbf; total time=   0.0s\n",
      "[CV] END ...................C=0.01, gamma=0.0001, kernel=rbf; total time=   0.0s\n",
      "[CV] END ...................C=0.01, gamma=0.0001, kernel=rbf; total time=   0.0s\n",
      "[CV] END ...................C=0.01, gamma=0.0001, kernel=rbf; total time=   0.0s\n",
      "[CV] END ...................C=0.01, gamma=0.0001, kernel=rbf; total time=   0.0s\n",
      "[CV] END ...............C=0.01, gamma=0.0001, kernel=sigmoid; total time=   0.0s\n",
      "[CV] END ...............C=0.01, gamma=0.0001, kernel=sigmoid; total time=   0.0s\n",
      "[CV] END ...............C=0.01, gamma=0.0001, kernel=sigmoid; total time=   0.0s\n",
      "[CV] END ...............C=0.01, gamma=0.0001, kernel=sigmoid; total time=   0.0s\n",
      "[CV] END ...............C=0.01, gamma=0.0001, kernel=sigmoid; total time=   0.0s\n",
      "[CV] END .................C=0.01, gamma=0.001, kernel=linear; total time=   0.0s\n",
      "[CV] END .................C=0.01, gamma=0.001, kernel=linear; total time=   0.0s\n",
      "[CV] END .................C=0.01, gamma=0.001, kernel=linear; total time=   0.0s\n",
      "[CV] END .................C=0.01, gamma=0.001, kernel=linear; total time=   0.0s\n",
      "[CV] END .................C=0.01, gamma=0.001, kernel=linear; total time=   0.0s\n",
      "[CV] END ....................C=0.01, gamma=0.001, kernel=rbf; total time=   0.0s\n",
      "[CV] END ....................C=0.01, gamma=0.001, kernel=rbf; total time=   0.0s\n",
      "[CV] END ....................C=0.01, gamma=0.001, kernel=rbf; total time=   0.0s\n",
      "[CV] END ....................C=0.01, gamma=0.001, kernel=rbf; total time=   0.0s\n",
      "[CV] END ....................C=0.01, gamma=0.001, kernel=rbf; total time=   0.0s\n",
      "[CV] END ................C=0.01, gamma=0.001, kernel=sigmoid; total time=   0.0s\n",
      "[CV] END ................C=0.01, gamma=0.001, kernel=sigmoid; total time=   0.0s\n",
      "[CV] END ................C=0.01, gamma=0.001, kernel=sigmoid; total time=   0.0s\n",
      "[CV] END ................C=0.01, gamma=0.001, kernel=sigmoid; total time=   0.0s\n",
      "[CV] END ................C=0.01, gamma=0.001, kernel=sigmoid; total time=   0.0s\n",
      "[CV] END ..................C=0.1, gamma=1e-07, kernel=linear; total time=   0.0s\n",
      "[CV] END ..................C=0.1, gamma=1e-07, kernel=linear; total time=   0.0s\n",
      "[CV] END ..................C=0.1, gamma=1e-07, kernel=linear; total time=   0.0s\n",
      "[CV] END ..................C=0.1, gamma=1e-07, kernel=linear; total time=   0.0s\n",
      "[CV] END ..................C=0.1, gamma=1e-07, kernel=linear; total time=   0.0s\n",
      "[CV] END .....................C=0.1, gamma=1e-07, kernel=rbf; total time=   0.0s\n",
      "[CV] END .....................C=0.1, gamma=1e-07, kernel=rbf; total time=   0.0s\n",
      "[CV] END .....................C=0.1, gamma=1e-07, kernel=rbf; total time=   0.0s\n",
      "[CV] END .....................C=0.1, gamma=1e-07, kernel=rbf; total time=   0.0s\n",
      "[CV] END .....................C=0.1, gamma=1e-07, kernel=rbf; total time=   0.0s\n",
      "[CV] END .................C=0.1, gamma=1e-07, kernel=sigmoid; total time=   0.0s\n",
      "[CV] END .................C=0.1, gamma=1e-07, kernel=sigmoid; total time=   0.0s\n",
      "[CV] END .................C=0.1, gamma=1e-07, kernel=sigmoid; total time=   0.0s\n",
      "[CV] END .................C=0.1, gamma=1e-07, kernel=sigmoid; total time=   0.0s\n",
      "[CV] END .................C=0.1, gamma=1e-07, kernel=sigmoid; total time=   0.0s\n",
      "[CV] END ..................C=0.1, gamma=1e-06, kernel=linear; total time=   0.0s\n",
      "[CV] END ..................C=0.1, gamma=1e-06, kernel=linear; total time=   0.0s\n",
      "[CV] END ..................C=0.1, gamma=1e-06, kernel=linear; total time=   0.0s\n",
      "[CV] END ..................C=0.1, gamma=1e-06, kernel=linear; total time=   0.0s\n",
      "[CV] END ..................C=0.1, gamma=1e-06, kernel=linear; total time=   0.0s\n",
      "[CV] END .....................C=0.1, gamma=1e-06, kernel=rbf; total time=   0.0s\n",
      "[CV] END .....................C=0.1, gamma=1e-06, kernel=rbf; total time=   0.0s\n",
      "[CV] END .....................C=0.1, gamma=1e-06, kernel=rbf; total time=   0.0s\n",
      "[CV] END .....................C=0.1, gamma=1e-06, kernel=rbf; total time=   0.0s\n",
      "[CV] END .....................C=0.1, gamma=1e-06, kernel=rbf; total time=   0.0s\n",
      "[CV] END .................C=0.1, gamma=1e-06, kernel=sigmoid; total time=   0.0s\n",
      "[CV] END .................C=0.1, gamma=1e-06, kernel=sigmoid; total time=   0.0s\n",
      "[CV] END .................C=0.1, gamma=1e-06, kernel=sigmoid; total time=   0.0s\n",
      "[CV] END .................C=0.1, gamma=1e-06, kernel=sigmoid; total time=   0.0s\n",
      "[CV] END .................C=0.1, gamma=1e-06, kernel=sigmoid; total time=   0.0s\n",
      "[CV] END .................C=0.1, gamma=0.0001, kernel=linear; total time=   0.0s\n",
      "[CV] END .................C=0.1, gamma=0.0001, kernel=linear; total time=   0.0s\n",
      "[CV] END .................C=0.1, gamma=0.0001, kernel=linear; total time=   0.0s\n",
      "[CV] END .................C=0.1, gamma=0.0001, kernel=linear; total time=   0.0s\n",
      "[CV] END .................C=0.1, gamma=0.0001, kernel=linear; total time=   0.0s\n",
      "[CV] END ....................C=0.1, gamma=0.0001, kernel=rbf; total time=   0.0s\n",
      "[CV] END ....................C=0.1, gamma=0.0001, kernel=rbf; total time=   0.0s\n",
      "[CV] END ....................C=0.1, gamma=0.0001, kernel=rbf; total time=   0.0s\n",
      "[CV] END ....................C=0.1, gamma=0.0001, kernel=rbf; total time=   0.0s\n",
      "[CV] END ....................C=0.1, gamma=0.0001, kernel=rbf; total time=   0.0s\n",
      "[CV] END ................C=0.1, gamma=0.0001, kernel=sigmoid; total time=   0.0s\n",
      "[CV] END ................C=0.1, gamma=0.0001, kernel=sigmoid; total time=   0.0s\n",
      "[CV] END ................C=0.1, gamma=0.0001, kernel=sigmoid; total time=   0.0s\n",
      "[CV] END ................C=0.1, gamma=0.0001, kernel=sigmoid; total time=   0.0s\n",
      "[CV] END ................C=0.1, gamma=0.0001, kernel=sigmoid; total time=   0.0s\n",
      "[CV] END ..................C=0.1, gamma=0.001, kernel=linear; total time=   0.0s\n",
      "[CV] END ..................C=0.1, gamma=0.001, kernel=linear; total time=   0.0s\n",
      "[CV] END ..................C=0.1, gamma=0.001, kernel=linear; total time=   0.0s\n",
      "[CV] END ..................C=0.1, gamma=0.001, kernel=linear; total time=   0.0s\n",
      "[CV] END ..................C=0.1, gamma=0.001, kernel=linear; total time=   0.0s\n",
      "[CV] END .....................C=0.1, gamma=0.001, kernel=rbf; total time=   0.0s\n",
      "[CV] END .....................C=0.1, gamma=0.001, kernel=rbf; total time=   0.0s\n",
      "[CV] END .....................C=0.1, gamma=0.001, kernel=rbf; total time=   0.0s\n"
     ]
    },
    {
     "name": "stdout",
     "output_type": "stream",
     "text": [
      "[CV] END .....................C=0.1, gamma=0.001, kernel=rbf; total time=   0.0s\n",
      "[CV] END .....................C=0.1, gamma=0.001, kernel=rbf; total time=   0.0s\n",
      "[CV] END .................C=0.1, gamma=0.001, kernel=sigmoid; total time=   0.0s\n",
      "[CV] END .................C=0.1, gamma=0.001, kernel=sigmoid; total time=   0.0s\n",
      "[CV] END .................C=0.1, gamma=0.001, kernel=sigmoid; total time=   0.0s\n",
      "[CV] END .................C=0.1, gamma=0.001, kernel=sigmoid; total time=   0.0s\n",
      "[CV] END .................C=0.1, gamma=0.001, kernel=sigmoid; total time=   0.0s\n",
      "[CV] END ....................C=1, gamma=1e-07, kernel=linear; total time=   0.0s\n",
      "[CV] END ....................C=1, gamma=1e-07, kernel=linear; total time=   0.0s\n",
      "[CV] END ....................C=1, gamma=1e-07, kernel=linear; total time=   0.0s\n",
      "[CV] END ....................C=1, gamma=1e-07, kernel=linear; total time=   0.0s\n",
      "[CV] END ....................C=1, gamma=1e-07, kernel=linear; total time=   0.0s\n",
      "[CV] END .......................C=1, gamma=1e-07, kernel=rbf; total time=   0.0s\n",
      "[CV] END .......................C=1, gamma=1e-07, kernel=rbf; total time=   0.0s\n",
      "[CV] END .......................C=1, gamma=1e-07, kernel=rbf; total time=   0.0s\n",
      "[CV] END .......................C=1, gamma=1e-07, kernel=rbf; total time=   0.0s\n",
      "[CV] END .......................C=1, gamma=1e-07, kernel=rbf; total time=   0.0s\n",
      "[CV] END ...................C=1, gamma=1e-07, kernel=sigmoid; total time=   0.0s\n",
      "[CV] END ...................C=1, gamma=1e-07, kernel=sigmoid; total time=   0.0s\n",
      "[CV] END ...................C=1, gamma=1e-07, kernel=sigmoid; total time=   0.0s\n",
      "[CV] END ...................C=1, gamma=1e-07, kernel=sigmoid; total time=   0.0s\n",
      "[CV] END ...................C=1, gamma=1e-07, kernel=sigmoid; total time=   0.0s\n",
      "[CV] END ....................C=1, gamma=1e-06, kernel=linear; total time=   0.0s\n",
      "[CV] END ....................C=1, gamma=1e-06, kernel=linear; total time=   0.0s\n",
      "[CV] END ....................C=1, gamma=1e-06, kernel=linear; total time=   0.0s\n",
      "[CV] END ....................C=1, gamma=1e-06, kernel=linear; total time=   0.0s\n",
      "[CV] END ....................C=1, gamma=1e-06, kernel=linear; total time=   0.0s\n",
      "[CV] END .......................C=1, gamma=1e-06, kernel=rbf; total time=   0.0s\n",
      "[CV] END .......................C=1, gamma=1e-06, kernel=rbf; total time=   0.0s\n",
      "[CV] END .......................C=1, gamma=1e-06, kernel=rbf; total time=   0.0s\n",
      "[CV] END .......................C=1, gamma=1e-06, kernel=rbf; total time=   0.0s\n",
      "[CV] END .......................C=1, gamma=1e-06, kernel=rbf; total time=   0.0s\n",
      "[CV] END ...................C=1, gamma=1e-06, kernel=sigmoid; total time=   0.0s\n",
      "[CV] END ...................C=1, gamma=1e-06, kernel=sigmoid; total time=   0.0s\n",
      "[CV] END ...................C=1, gamma=1e-06, kernel=sigmoid; total time=   0.0s\n",
      "[CV] END ...................C=1, gamma=1e-06, kernel=sigmoid; total time=   0.0s\n",
      "[CV] END ...................C=1, gamma=1e-06, kernel=sigmoid; total time=   0.0s\n",
      "[CV] END ...................C=1, gamma=0.0001, kernel=linear; total time=   0.0s\n",
      "[CV] END ...................C=1, gamma=0.0001, kernel=linear; total time=   0.0s\n",
      "[CV] END ...................C=1, gamma=0.0001, kernel=linear; total time=   0.0s\n",
      "[CV] END ...................C=1, gamma=0.0001, kernel=linear; total time=   0.0s\n",
      "[CV] END ...................C=1, gamma=0.0001, kernel=linear; total time=   0.0s\n",
      "[CV] END ......................C=1, gamma=0.0001, kernel=rbf; total time=   0.0s\n",
      "[CV] END ......................C=1, gamma=0.0001, kernel=rbf; total time=   0.0s\n",
      "[CV] END ......................C=1, gamma=0.0001, kernel=rbf; total time=   0.0s\n",
      "[CV] END ......................C=1, gamma=0.0001, kernel=rbf; total time=   0.0s\n",
      "[CV] END ......................C=1, gamma=0.0001, kernel=rbf; total time=   0.0s\n",
      "[CV] END ..................C=1, gamma=0.0001, kernel=sigmoid; total time=   0.0s\n",
      "[CV] END ..................C=1, gamma=0.0001, kernel=sigmoid; total time=   0.0s\n",
      "[CV] END ..................C=1, gamma=0.0001, kernel=sigmoid; total time=   0.0s\n",
      "[CV] END ..................C=1, gamma=0.0001, kernel=sigmoid; total time=   0.0s\n",
      "[CV] END ..................C=1, gamma=0.0001, kernel=sigmoid; total time=   0.0s\n",
      "[CV] END ....................C=1, gamma=0.001, kernel=linear; total time=   0.0s\n",
      "[CV] END ....................C=1, gamma=0.001, kernel=linear; total time=   0.0s\n",
      "[CV] END ....................C=1, gamma=0.001, kernel=linear; total time=   0.0s\n",
      "[CV] END ....................C=1, gamma=0.001, kernel=linear; total time=   0.0s\n",
      "[CV] END ....................C=1, gamma=0.001, kernel=linear; total time=   0.0s\n",
      "[CV] END .......................C=1, gamma=0.001, kernel=rbf; total time=   0.0s\n",
      "[CV] END .......................C=1, gamma=0.001, kernel=rbf; total time=   0.0s\n",
      "[CV] END .......................C=1, gamma=0.001, kernel=rbf; total time=   0.0s\n",
      "[CV] END .......................C=1, gamma=0.001, kernel=rbf; total time=   0.0s\n",
      "[CV] END .......................C=1, gamma=0.001, kernel=rbf; total time=   0.0s\n",
      "[CV] END ...................C=1, gamma=0.001, kernel=sigmoid; total time=   0.0s\n",
      "[CV] END ...................C=1, gamma=0.001, kernel=sigmoid; total time=   0.0s\n",
      "[CV] END ...................C=1, gamma=0.001, kernel=sigmoid; total time=   0.0s\n",
      "[CV] END ...................C=1, gamma=0.001, kernel=sigmoid; total time=   0.0s\n",
      "[CV] END ...................C=1, gamma=0.001, kernel=sigmoid; total time=   0.0s\n",
      "[CV] END ...................C=10, gamma=1e-07, kernel=linear; total time=   0.0s\n",
      "[CV] END ...................C=10, gamma=1e-07, kernel=linear; total time=   0.0s\n",
      "[CV] END ...................C=10, gamma=1e-07, kernel=linear; total time=   0.0s\n",
      "[CV] END ...................C=10, gamma=1e-07, kernel=linear; total time=   0.0s\n",
      "[CV] END ...................C=10, gamma=1e-07, kernel=linear; total time=   0.0s\n",
      "[CV] END ......................C=10, gamma=1e-07, kernel=rbf; total time=   0.0s\n",
      "[CV] END ......................C=10, gamma=1e-07, kernel=rbf; total time=   0.0s\n",
      "[CV] END ......................C=10, gamma=1e-07, kernel=rbf; total time=   0.0s\n",
      "[CV] END ......................C=10, gamma=1e-07, kernel=rbf; total time=   0.0s\n",
      "[CV] END ......................C=10, gamma=1e-07, kernel=rbf; total time=   0.0s\n",
      "[CV] END ..................C=10, gamma=1e-07, kernel=sigmoid; total time=   0.0s\n",
      "[CV] END ..................C=10, gamma=1e-07, kernel=sigmoid; total time=   0.0s\n",
      "[CV] END ..................C=10, gamma=1e-07, kernel=sigmoid; total time=   0.0s\n",
      "[CV] END ..................C=10, gamma=1e-07, kernel=sigmoid; total time=   0.0s\n",
      "[CV] END ..................C=10, gamma=1e-07, kernel=sigmoid; total time=   0.0s\n",
      "[CV] END ...................C=10, gamma=1e-06, kernel=linear; total time=   0.0s\n",
      "[CV] END ...................C=10, gamma=1e-06, kernel=linear; total time=   0.0s\n",
      "[CV] END ...................C=10, gamma=1e-06, kernel=linear; total time=   0.0s\n",
      "[CV] END ...................C=10, gamma=1e-06, kernel=linear; total time=   0.0s\n",
      "[CV] END ...................C=10, gamma=1e-06, kernel=linear; total time=   0.0s\n",
      "[CV] END ......................C=10, gamma=1e-06, kernel=rbf; total time=   0.0s\n",
      "[CV] END ......................C=10, gamma=1e-06, kernel=rbf; total time=   0.0s\n",
      "[CV] END ......................C=10, gamma=1e-06, kernel=rbf; total time=   0.0s\n",
      "[CV] END ......................C=10, gamma=1e-06, kernel=rbf; total time=   0.0s\n",
      "[CV] END ......................C=10, gamma=1e-06, kernel=rbf; total time=   0.0s\n",
      "[CV] END ..................C=10, gamma=1e-06, kernel=sigmoid; total time=   0.0s\n",
      "[CV] END ..................C=10, gamma=1e-06, kernel=sigmoid; total time=   0.0s\n",
      "[CV] END ..................C=10, gamma=1e-06, kernel=sigmoid; total time=   0.0s\n",
      "[CV] END ..................C=10, gamma=1e-06, kernel=sigmoid; total time=   0.0s\n",
      "[CV] END ..................C=10, gamma=1e-06, kernel=sigmoid; total time=   0.0s\n",
      "[CV] END ..................C=10, gamma=0.0001, kernel=linear; total time=   0.0s\n",
      "[CV] END ..................C=10, gamma=0.0001, kernel=linear; total time=   0.0s\n",
      "[CV] END ..................C=10, gamma=0.0001, kernel=linear; total time=   0.0s\n",
      "[CV] END ..................C=10, gamma=0.0001, kernel=linear; total time=   0.0s\n",
      "[CV] END ..................C=10, gamma=0.0001, kernel=linear; total time=   0.0s\n",
      "[CV] END .....................C=10, gamma=0.0001, kernel=rbf; total time=   0.0s\n",
      "[CV] END .....................C=10, gamma=0.0001, kernel=rbf; total time=   0.0s\n",
      "[CV] END .....................C=10, gamma=0.0001, kernel=rbf; total time=   0.0s\n",
      "[CV] END .....................C=10, gamma=0.0001, kernel=rbf; total time=   0.0s\n",
      "[CV] END .....................C=10, gamma=0.0001, kernel=rbf; total time=   0.0s\n",
      "[CV] END .................C=10, gamma=0.0001, kernel=sigmoid; total time=   0.0s\n",
      "[CV] END .................C=10, gamma=0.0001, kernel=sigmoid; total time=   0.0s\n",
      "[CV] END .................C=10, gamma=0.0001, kernel=sigmoid; total time=   0.0s\n",
      "[CV] END .................C=10, gamma=0.0001, kernel=sigmoid; total time=   0.0s\n",
      "[CV] END .................C=10, gamma=0.0001, kernel=sigmoid; total time=   0.0s\n"
     ]
    },
    {
     "name": "stdout",
     "output_type": "stream",
     "text": [
      "[CV] END ...................C=10, gamma=0.001, kernel=linear; total time=   0.0s\n",
      "[CV] END ...................C=10, gamma=0.001, kernel=linear; total time=   0.0s\n",
      "[CV] END ...................C=10, gamma=0.001, kernel=linear; total time=   0.0s\n",
      "[CV] END ...................C=10, gamma=0.001, kernel=linear; total time=   0.0s\n",
      "[CV] END ...................C=10, gamma=0.001, kernel=linear; total time=   0.0s\n",
      "[CV] END ......................C=10, gamma=0.001, kernel=rbf; total time=   0.0s\n",
      "[CV] END ......................C=10, gamma=0.001, kernel=rbf; total time=   0.0s\n",
      "[CV] END ......................C=10, gamma=0.001, kernel=rbf; total time=   0.0s\n",
      "[CV] END ......................C=10, gamma=0.001, kernel=rbf; total time=   0.0s\n",
      "[CV] END ......................C=10, gamma=0.001, kernel=rbf; total time=   0.0s\n",
      "[CV] END ..................C=10, gamma=0.001, kernel=sigmoid; total time=   0.0s\n",
      "[CV] END ..................C=10, gamma=0.001, kernel=sigmoid; total time=   0.0s\n",
      "[CV] END ..................C=10, gamma=0.001, kernel=sigmoid; total time=   0.0s\n",
      "[CV] END ..................C=10, gamma=0.001, kernel=sigmoid; total time=   0.0s\n",
      "[CV] END ..................C=10, gamma=0.001, kernel=sigmoid; total time=   0.0s\n"
     ]
    },
    {
     "data": {
      "text/plain": [
       "GridSearchCV(estimator=SVC(probability=True),\n",
       "             param_grid={'C': [0.01, 0.1, 1, 10],\n",
       "                         'gamma': [1e-07, 1e-06, 0.0001, 0.001],\n",
       "                         'kernel': ['linear', 'rbf', 'sigmoid']},\n",
       "             verbose=2)"
      ]
     },
     "execution_count": 15,
     "metadata": {},
     "output_type": "execute_result"
    }
   ],
   "source": [
    "grid = GridSearchCV(SVC(probability = True), parameters, verbose=2) \n",
    "grid.fit(X_train,y_train)"
   ]
  },
  {
   "cell_type": "code",
   "execution_count": 16,
   "metadata": {
    "scrolled": true
   },
   "outputs": [
    {
     "data": {
      "text/plain": [
       "{'C': 0.1, 'gamma': 1e-07, 'kernel': 'linear'}"
      ]
     },
     "execution_count": 16,
     "metadata": {},
     "output_type": "execute_result"
    }
   ],
   "source": [
    "grid.best_params_"
   ]
  },
  {
   "cell_type": "code",
   "execution_count": 17,
   "metadata": {
    "scrolled": true
   },
   "outputs": [
    {
     "data": {
      "text/plain": [
       "SVC(C=0.1, gamma=1e-05, kernel='linear')"
      ]
     },
     "execution_count": 17,
     "metadata": {},
     "output_type": "execute_result"
    }
   ],
   "source": [
    "model = SVC(kernel='linear',gamma=1e-5,C=0.1)\n",
    "model.fit(X_train,y_train)"
   ]
  },
  {
   "cell_type": "code",
   "execution_count": 20,
   "metadata": {
    "scrolled": true
   },
   "outputs": [
    {
     "name": "stdout",
     "output_type": "stream",
     "text": [
      "[[ 62   4]\n",
      " [  0 105]]\n"
     ]
    }
   ],
   "source": [
    "predictions = model.predict(X_test)\n",
    "cm = confusion_matrix(y_test,predictions)\n",
    "print(cm)"
   ]
  },
  {
   "cell_type": "code",
   "execution_count": 21,
   "metadata": {},
   "outputs": [
    {
     "data": {
      "image/png": "[encoded data removed]",
      "text/plain": [
       "<Figure size 432x288 with 2 Axes>"
      ]
     },
     "metadata": {
      "needs_background": "light"
     },
     "output_type": "display_data"
    }
   ],
   "source": [
    "hp.plot_cm(model, X_test, y_test, ['malignant','benign'])"
   ]
  },
  {
   "cell_type": "code",
   "execution_count": 22,
   "metadata": {
    "scrolled": true
   },
   "outputs": [
    {
     "name": "stdout",
     "output_type": "stream",
     "text": [
      "              precision    recall  f1-score   support\n",
      "\n",
      "           0       1.00      0.94      0.97        66\n",
      "           1       0.96      1.00      0.98       105\n",
      "\n",
      "    accuracy                           0.98       171\n",
      "   macro avg       0.98      0.97      0.98       171\n",
      "weighted avg       0.98      0.98      0.98       171\n",
      "\n"
     ]
    }
   ],
   "source": [
    "print(classification_report(y_test,predictions))"
   ]
  },
  {
   "cell_type": "markdown",
   "metadata": {},
   "source": [
    "## Using a Pipeline"
   ]
  },
  {
   "cell_type": "code",
   "execution_count": 23,
   "metadata": {},
   "outputs": [],
   "source": [
    "from sklearn.pipeline import Pipeline\n",
    "from sklearn.decomposition import PCA\n",
    "from sklearn.linear_model import LogisticRegression"
   ]
  },
  {
   "cell_type": "code",
   "execution_count": 24,
   "metadata": {},
   "outputs": [],
   "source": [
    "pip_lr = Pipeline([('scl', StandardScaler()),('pca', PCA(n_components=3)),('clf', LogisticRegression(random_state=1, solver='lbfgs'))])"
   ]
  },
  {
   "cell_type": "code",
   "execution_count": 25,
   "metadata": {},
   "outputs": [
    {
     "data": {
      "text/plain": [
       "Pipeline(steps=[('scl', StandardScaler()), ('pca', PCA(n_components=3)),\n",
       "                ('clf', LogisticRegression(random_state=1))])"
      ]
     },
     "execution_count": 25,
     "metadata": {},
     "output_type": "execute_result"
    }
   ],
   "source": [
    "pip_lr.fit(X_train,y_train)"
   ]
  },
  {
   "cell_type": "code",
   "execution_count": 26,
   "metadata": {},
   "outputs": [
    {
     "name": "stdout",
     "output_type": "stream",
     "text": [
      "Test Accuracy: 0.947\n"
     ]
    }
   ],
   "source": [
    "print('Test Accuracy: %.3f' %pip_lr.score(X_test, y_test))"
   ]
  }
 ],
 "metadata": {
  "kernelspec": {
   "display_name": "Python 3",
   "language": "python",
   "name": "python3"
  },
  "language_info": {
   "codemirror_mode": {
    "name": "ipython",
    "version": 3
   },
   "file_extension": ".py",
   "mimetype": "text/x-python",
   "name": "python",
   "nbconvert_exporter": "python",
   "pygments_lexer": "ipython3",
   "version": "3.8.5"
  }
 },
 "nbformat": 4,
 "nbformat_minor": 2
}
